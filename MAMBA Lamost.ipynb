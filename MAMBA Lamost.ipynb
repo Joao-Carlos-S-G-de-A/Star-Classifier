{
 "cells": [
  {
   "cell_type": "code",
   "execution_count": 2,
   "metadata": {},
   "outputs": [],
   "source": [
    "import torch\n",
    "from torch.utils.data import Dataset, DataLoader\n",
    "import numpy as np\n",
    "from sklearn.metrics import classification_report\n",
    "import wandb\n",
    "import gc\n",
    "import pandas as pd\n",
    "from sklearn.model_selection import train_test_split\n",
    "import mambapy\n",
    "from mambapy.mamba import Mamba, MambaConfig\n",
    "from torch import nn, optim\n"
   ]
  },
  {
   "cell_type": "code",
   "execution_count": 5,
   "metadata": {},
   "outputs": [],
   "source": [
    "class BalancedDataset(Dataset):\n",
    "    def __init__(self, X, y, limit_per_label=1600):\n",
    "        self.X = X\n",
    "        self.y = y\n",
    "        self.limit_per_label = limit_per_label\n",
    "        self.classes = np.unique(y)\n",
    "        self.indices = self.balance_classes()\n",
    "\n",
    "    def balance_classes(self):\n",
    "        indices = []\n",
    "        for cls in self.classes:\n",
    "            cls_indices = np.where(self.y == cls)[0]\n",
    "            if len(cls_indices) > self.limit_per_label:\n",
    "                cls_indices = np.random.choice(cls_indices, self.limit_per_label, replace=False)\n",
    "            indices.extend(cls_indices)\n",
    "        np.random.shuffle(indices)\n",
    "        return indices\n",
    "\n",
    "    def re_sample(self):\n",
    "        self.indices = self.balance_classes()\n",
    "\n",
    "    def __len__(self):\n",
    "        return len(self.indices)\n",
    "\n",
    "    def __getitem__(self, idx):\n",
    "        index = self.indices[idx]\n",
    "        return self.X[index], self.y[index]\n",
    "# Custom Dataset for validation with limit per class\n",
    "class BalancedValidationDataset(Dataset):\n",
    "    def __init__(self, X, y, limit_per_label=400):\n",
    "        self.X = X\n",
    "        self.y = y\n",
    "        self.limit_per_label = limit_per_label\n",
    "        self.classes = np.unique(y)\n",
    "        self.indices = self.balance_classes()\n",
    "\n",
    "    def balance_classes(self):\n",
    "        indices = []\n",
    "        for cls in self.classes:\n",
    "            cls_indices = np.where(self.y == cls)[0]\n",
    "            if len(cls_indices) > self.limit_per_label:\n",
    "                cls_indices = np.random.choice(cls_indices, self.limit_per_label, replace=False)\n",
    "            indices.extend(cls_indices)\n",
    "        np.random.shuffle(indices)\n",
    "        return indices\n",
    "    \n",
    "    def __len__(self):\n",
    "        return len(self.indices)\n",
    "\n",
    "    def __getitem__(self, idx):\n",
    "        index = self.indices[idx]\n",
    "        return self.X[index], self.y[index]\n",
    "    \n",
    "def train_model_mamba(\n",
    "    model, train_loader, val_loader, test_loader, \n",
    "    num_epochs=500, lr=1e-4, max_patience=20, device='cuda'\n",
    "):\n",
    "    # Move model to device\n",
    "    model = model.to(device)\n",
    "\n",
    "    # Define optimizer, scheduler, and loss function\n",
    "    optimizer = optim.AdamW(model.parameters(), lr=lr)\n",
    "    scheduler = optim.lr_scheduler.ReduceLROnPlateau(\n",
    "        optimizer, mode='min', factor=0.5, patience=int(max_patience / 3), verbose=True\n",
    "    )\n",
    "    criterion = nn.CrossEntropyLoss()\n",
    "\n",
    "    best_val_loss = float('inf')\n",
    "    patience = max_patience\n",
    "\n",
    "    for epoch in range(num_epochs):\n",
    "        # Resample training and validation data\n",
    "        train_loader.dataset.re_sample()\n",
    "        val_loader.dataset.balance_classes()\n",
    "\n",
    "        # Training phase\n",
    "        model.train()\n",
    "        train_loss, train_accuracy = 0.0, 0.0\n",
    "\n",
    "        for X_batch, y_batch in train_loader:\n",
    "            X_batch, y_batch = X_batch.to(device), y_batch.to(device)\n",
    "            optimizer.zero_grad()\n",
    "            outputs = model(X_batch)\n",
    "            loss = criterion(outputs, y_batch)\n",
    "            loss.backward()\n",
    "            optimizer.step()\n",
    "            train_loss += loss.item() * X_batch.size(0)\n",
    "            train_accuracy += (outputs.argmax(dim=1) == y_batch).float().mean().item()\n",
    "\n",
    "        # Validation phase\n",
    "        model.eval()\n",
    "        val_loss, val_accuracy = 0.0, 0.0\n",
    "        with torch.no_grad():\n",
    "            for X_val, y_val in val_loader:\n",
    "                X_val, y_val = X_val.to(device), y_val.to(device)\n",
    "                outputs = model(X_val)\n",
    "                loss = criterion(outputs, y_val)\n",
    "\n",
    "                val_loss += loss.item() * X_val.size(0)\n",
    "                val_accuracy += (outputs.argmax(dim=1) == y_val).float().mean().item()\n",
    "\n",
    "        # Test phase and metric collection\n",
    "        test_loss, test_accuracy = 0.0, 0.0\n",
    "        y_true, y_pred = [], []\n",
    "        with torch.no_grad():\n",
    "            for X_test, y_test in test_loader:\n",
    "                X_test, y_test = X_test.to(device), y_test.to(device)\n",
    "                outputs = model(X_test)\n",
    "                loss = criterion(outputs, y_test)\n",
    "\n",
    "                test_loss += loss.item() * X_test.size(0)\n",
    "                test_accuracy += (outputs.argmax(dim=1) == y_test).float().mean().item()\n",
    "                y_true.extend(y_test.cpu().numpy())\n",
    "                y_pred.extend(outputs.argmax(dim=1).cpu().numpy())\n",
    "\n",
    "        # Update scheduler\n",
    "        scheduler.step(val_loss / len(val_loader.dataset))\n",
    "\n",
    "        # Log metrics to WandB\n",
    "        wandb.log({\n",
    "            \"epoch\": epoch,\n",
    "            \"train_loss\": train_loss / len(train_loader.dataset),\n",
    "            \"val_loss\": val_loss / len(val_loader.dataset),\n",
    "            \"train_accuracy\": train_accuracy / len(train_loader),\n",
    "            \"val_accuracy\": val_accuracy / len(val_loader),\n",
    "            \"learning_rate\": optimizer.param_groups[0]['lr'],\n",
    "            \"test_loss\": test_loss / len(test_loader.dataset),\n",
    "            \"test_accuracy\": test_accuracy / len(test_loader),\n",
    "            \"confusion_matrix\": wandb.plot.confusion_matrix(\n",
    "                probs=None, y_true=y_true, preds=y_pred, class_names=np.unique(y_true)\n",
    "            ),\n",
    "            \"classification_report\": classification_report(\n",
    "                y_true, y_pred, target_names=[str(i) for i in range(len(np.unique(y_true)))]\n",
    "            )\n",
    "        })\n",
    "\n",
    "        # Early stopping\n",
    "        if val_loss < best_val_loss:\n",
    "            best_val_loss = val_loss\n",
    "            patience = max_patience\n",
    "            best_model = model.state_dict()\n",
    "        else:\n",
    "            patience -= 1\n",
    "            if patience <= 0:\n",
    "                print(\"Early stopping triggered.\")\n",
    "                break\n",
    "\n",
    "    # Load the best model weights\n",
    "    model.load_state_dict(best_model)\n",
    "    return model\n",
    "\n"
   ]
  },
  {
   "cell_type": "code",
   "execution_count": 4,
   "metadata": {},
   "outputs": [],
   "source": [
    "batch_size = 256\n",
    "\n",
    "# Example usage\n",
    "if __name__ == \"__main__\":\n",
    "    # Load and preprocess your data (example from original script)\n",
    "    # Load and preprocess data\n",
    "    X = pd.read_pickle(\"Pickles/trainv2.pkl\")\n",
    "    y = X[\"label\"]\n",
    "    label_mapping = {'star': 0, 'binary_star': 1, 'galaxy': 2, 'agn': 3}\n",
    "    y = y.map(label_mapping).values\n",
    "    X = X.drop([\"parallax\", \"ra\", \"dec\", \"ra_error\", \"dec_error\", \"parallax_error\", \"pmra\", \"pmdec\", \"pmra_error\", \"pmdec_error\", \n",
    "                \"phot_g_mean_flux\", \"flagnopllx\", \"phot_g_mean_flux_error\", \"phot_bp_mean_flux\", \"phot_rp_mean_flux\", \n",
    "                \"phot_bp_mean_flux_error\", \"phot_rp_mean_flux_error\", \"label\", \"obsid\"], axis=1).values\n",
    "    \n",
    "    # Read test data\n",
    "    X_test = pd.read_pickle(\"Pickles/testv2.pkl\")\n",
    "    y_test = X_test[\"label\"].map(label_mapping).values\n",
    "    X_test = X_test.drop([\"parallax\", \"ra\", \"dec\", \"ra_error\", \"dec_error\", \"parallax_error\", \"pmra\", \"pmdec\", \"pmra_error\", \"pmdec_error\", \n",
    "                \"phot_g_mean_flux\", \"flagnopllx\", \"phot_g_mean_flux_error\", \"phot_bp_mean_flux\", \"phot_rp_mean_flux\", \n",
    "                \"phot_bp_mean_flux_error\", \"phot_rp_mean_flux_error\", \"label\", \"obsid\"], axis=1).values\n",
    "    \n",
    "    # Split data\n",
    "    X_train, X_val, y_train, y_val = train_test_split(X, y, test_size=0.2, random_state=42)\n",
    "\n",
    "    # Clear memory\n",
    "    del X, y\n",
    "    gc.collect()\n",
    "\n",
    "    # Convert to torch tensors and create datasets\n",
    "    X_train = torch.tensor(X_train, dtype=torch.float32).unsqueeze(1)\n",
    "    X_val = torch.tensor(X_val, dtype=torch.float32).unsqueeze(1)\n",
    "    y_train = torch.tensor(y_train, dtype=torch.long)\n",
    "    y_val = torch.tensor(y_val, dtype=torch.long)\n",
    "\n",
    "    train_dataset = BalancedDataset(X_train, y_train)\n",
    "    val_dataset = BalancedValidationDataset(X_val, y_val)\n",
    "    \n",
    "    train_loader = DataLoader(train_dataset, batch_size=batch_size, shuffle=True)\n",
    "    val_loader = DataLoader(val_dataset, batch_size=batch_size, shuffle=False)\n",
    "    test_loader = DataLoader(BalancedValidationDataset(torch.tensor(X_test, dtype=torch.float32).unsqueeze(1),\n",
    "                                                    torch.tensor(y_test, dtype=torch.long)), batch_size=batch_size, shuffle=False)\n",
    "    \n"
   ]
  },
  {
   "cell_type": "code",
   "execution_count": 6,
   "metadata": {},
   "outputs": [],
   "source": [
    "class StarClassifierMAMBA(nn.Module):\n",
    "    def __init__(self, d_model, num_classes, d_state=64, d_conv=4, input_dim=17, n_layers=6):\n",
    "        super(StarClassifierMAMBA, self).__init__()\n",
    "        self.d_model = d_model\n",
    "        self.num_classes = num_classes\n",
    "\n",
    "        # MAMBA layer initialization\n",
    "        config = MambaConfig(\n",
    "            d_model=d_model,\n",
    "            d_state=d_state,\n",
    "            d_conv=d_conv,\n",
    "            n_layers=n_layers\n",
    "\n",
    "        )\n",
    "        self.mamba_layer = Mamba(config)\n",
    "\n",
    "        # Input projection to match the MAMBA layer dimension\n",
    "        self.input_projection = nn.Linear(input_dim, d_model)\n",
    "\n",
    "        # Fully connected classifier head\n",
    "        self.classifier = nn.Sequential(\n",
    "            nn.LayerNorm(d_model),\n",
    "            nn.Linear(d_model, num_classes)\n",
    "        )\n",
    "\n",
    "\n",
    "    def forward(self, x):\n",
    "        x = self.input_projection(x)  # Ensure the input has the correct dimension\n",
    "        #x = x.unsqueeze(1)  # Adds a sequence dimension (L=1).\n",
    "        x = self.mamba_layer(x)\n",
    "        x = x.mean(dim=1)  # Pooling operation for classification\n",
    "        x = self.classifier(x)\n",
    "        return x"
   ]
  },
  {
   "cell_type": "code",
   "execution_count": 7,
   "metadata": {},
   "outputs": [
    {
     "name": "stderr",
     "output_type": "stream",
     "text": [
      "wandb: Using wandb-core as the SDK backend. Please refer to https://wandb.me/wandb-core for more information.\n",
      "wandb: Currently logged in as: joaoc (joaoc-university-of-southampton). Use `wandb login --relogin` to force relogin\n"
     ]
    },
    {
     "data": {
      "text/html": [
       "Tracking run with wandb version 0.18.5"
      ],
      "text/plain": [
       "<IPython.core.display.HTML object>"
      ]
     },
     "metadata": {},
     "output_type": "display_data"
    },
    {
     "data": {
      "text/html": [
       "Run data is saved locally in <code>c:\\Users\\jcwin\\OneDrive - University of Southampton\\_Southampton\\2024-25\\Star-Classifier\\wandb\\run-20241127_161828-4w8y2kb7</code>"
      ],
      "text/plain": [
       "<IPython.core.display.HTML object>"
      ]
     },
     "metadata": {},
     "output_type": "display_data"
    },
    {
     "data": {
      "text/html": [
       "Syncing run <strong><a href='https://wandb.ai/joaoc-university-of-southampton/lamost-jamba-test/runs/4w8y2kb7' target=\"_blank\">fancy-haze-1</a></strong> to <a href='https://wandb.ai/joaoc-university-of-southampton/lamost-jamba-test' target=\"_blank\">Weights & Biases</a> (<a href='https://wandb.me/run' target=\"_blank\">docs</a>)<br/>"
      ],
      "text/plain": [
       "<IPython.core.display.HTML object>"
      ]
     },
     "metadata": {},
     "output_type": "display_data"
    },
    {
     "data": {
      "text/html": [
       " View project at <a href='https://wandb.ai/joaoc-university-of-southampton/lamost-jamba-test' target=\"_blank\">https://wandb.ai/joaoc-university-of-southampton/lamost-jamba-test</a>"
      ],
      "text/plain": [
       "<IPython.core.display.HTML object>"
      ]
     },
     "metadata": {},
     "output_type": "display_data"
    },
    {
     "data": {
      "text/html": [
       " View run at <a href='https://wandb.ai/joaoc-university-of-southampton/lamost-jamba-test/runs/4w8y2kb7' target=\"_blank\">https://wandb.ai/joaoc-university-of-southampton/lamost-jamba-test/runs/4w8y2kb7</a>"
      ],
      "text/plain": [
       "<IPython.core.display.HTML object>"
      ]
     },
     "metadata": {},
     "output_type": "display_data"
    },
    {
     "name": "stdout",
     "output_type": "stream",
     "text": [
      "Jamba(\n",
      "  (layers): ModuleList(\n",
      "    (0-3): 4 x JambaBlock(\n",
      "      (mamba_layer): MambaBlock(\n",
      "        (in_proj): Linear(in_features=3748, out_features=14992, bias=False)\n",
      "        (conv1d): Conv1d(7496, 7496, kernel_size=(128,), stride=(1,), padding=(127,), groups=7496)\n",
      "        (x_proj): Linear(in_features=7496, out_features=491, bias=False)\n",
      "        (dt_proj): Linear(in_features=235, out_features=7496, bias=True)\n",
      "        (out_proj): Linear(in_features=7496, out_features=3748, bias=False)\n",
      "      )\n",
      "      (mamba_moe_layer): MambaMoELayer(\n",
      "        (mamba): MambaBlock(\n",
      "          (in_proj): Linear(in_features=3748, out_features=14992, bias=False)\n",
      "          (conv1d): Conv1d(7496, 7496, kernel_size=(128,), stride=(1,), padding=(127,), groups=7496)\n",
      "          (x_proj): Linear(in_features=7496, out_features=491, bias=False)\n",
      "          (dt_proj): Linear(in_features=235, out_features=7496, bias=True)\n",
      "          (out_proj): Linear(in_features=7496, out_features=3748, bias=False)\n",
      "        )\n",
      "        (moe): MoE(\n",
      "          (gate): Top2Gating()\n",
      "          (experts): Experts(\n",
      "            (act): ReLU()\n",
      "          )\n",
      "        )\n",
      "      )\n",
      "      (transformer): TransformerBlock(\n",
      "        (attn): MultiQueryAttention(\n",
      "          (Wqkv): Linear(in_features=3748, out_features=4684, bias=True)\n",
      "          (out_proj): Linear(in_features=3748, out_features=3748, bias=True)\n",
      "        )\n",
      "        (ffn): FeedForward(\n",
      "          (ff): Sequential(\n",
      "            (0): Sequential(\n",
      "              (0): Linear(in_features=3748, out_features=14992, bias=True)\n",
      "              (1): SiLU()\n",
      "            )\n",
      "            (1): LayerNorm((14992,), eps=1e-05, elementwise_affine=True)\n",
      "            (2): Dropout(p=0.0, inplace=False)\n",
      "            (3): Linear(in_features=14992, out_features=3748, bias=False)\n",
      "          )\n",
      "        )\n",
      "      )\n",
      "    )\n",
      "  )\n",
      "  (embed): Embedding(100, 3748)\n",
      "  (norm): Identity()\n",
      ")\n",
      "layers.0.mamba_layer.A_log 959488\n",
      "layers.0.mamba_layer.D 7496\n",
      "layers.0.mamba_layer.in_proj.weight 56190016\n",
      "layers.0.mamba_layer.conv1d.weight 959488\n",
      "layers.0.mamba_layer.conv1d.bias 7496\n",
      "layers.0.mamba_layer.x_proj.weight 3680536\n",
      "layers.0.mamba_layer.dt_proj.weight 1761560\n",
      "layers.0.mamba_layer.dt_proj.bias 7496\n",
      "layers.0.mamba_layer.out_proj.weight 28095008\n",
      "layers.0.mamba_moe_layer.mamba.A_log 959488\n",
      "layers.0.mamba_moe_layer.mamba.D 7496\n",
      "layers.0.mamba_moe_layer.mamba.in_proj.weight 56190016\n",
      "layers.0.mamba_moe_layer.mamba.conv1d.weight 959488\n",
      "layers.0.mamba_moe_layer.mamba.conv1d.bias 7496\n",
      "layers.0.mamba_moe_layer.mamba.x_proj.weight 3680536\n",
      "layers.0.mamba_moe_layer.mamba.dt_proj.weight 1761560\n",
      "layers.0.mamba_moe_layer.mamba.dt_proj.bias 7496\n",
      "layers.0.mamba_moe_layer.mamba.out_proj.weight 28095008\n",
      "layers.0.mamba_moe_layer.moe.gate.w_gating 29984\n",
      "layers.0.mamba_moe_layer.moe.experts.w1 449520128\n",
      "layers.0.mamba_moe_layer.moe.experts.w2 449520128\n",
      "layers.0.transformer.attn.Wqkv.weight 17555632\n",
      "layers.0.transformer.attn.Wqkv.bias 4684\n",
      "layers.0.transformer.attn.out_proj.weight 14047504\n",
      "layers.0.transformer.attn.out_proj.bias 3748\n",
      "layers.0.transformer.ffn.ff.0.0.weight 56190016\n",
      "layers.0.transformer.ffn.ff.0.0.bias 14992\n",
      "layers.0.transformer.ffn.ff.1.weight 14992\n",
      "layers.0.transformer.ffn.ff.1.bias 14992\n",
      "layers.0.transformer.ffn.ff.3.weight 56190016\n",
      "layers.1.mamba_layer.A_log 959488\n",
      "layers.1.mamba_layer.D 7496\n",
      "layers.1.mamba_layer.in_proj.weight 56190016\n",
      "layers.1.mamba_layer.conv1d.weight 959488\n",
      "layers.1.mamba_layer.conv1d.bias 7496\n",
      "layers.1.mamba_layer.x_proj.weight 3680536\n",
      "layers.1.mamba_layer.dt_proj.weight 1761560\n",
      "layers.1.mamba_layer.dt_proj.bias 7496\n",
      "layers.1.mamba_layer.out_proj.weight 28095008\n",
      "layers.1.mamba_moe_layer.mamba.A_log 959488\n",
      "layers.1.mamba_moe_layer.mamba.D 7496\n",
      "layers.1.mamba_moe_layer.mamba.in_proj.weight 56190016\n",
      "layers.1.mamba_moe_layer.mamba.conv1d.weight 959488\n",
      "layers.1.mamba_moe_layer.mamba.conv1d.bias 7496\n",
      "layers.1.mamba_moe_layer.mamba.x_proj.weight 3680536\n",
      "layers.1.mamba_moe_layer.mamba.dt_proj.weight 1761560\n",
      "layers.1.mamba_moe_layer.mamba.dt_proj.bias 7496\n",
      "layers.1.mamba_moe_layer.mamba.out_proj.weight 28095008\n",
      "layers.1.mamba_moe_layer.moe.gate.w_gating 29984\n",
      "layers.1.mamba_moe_layer.moe.experts.w1 449520128\n",
      "layers.1.mamba_moe_layer.moe.experts.w2 449520128\n",
      "layers.1.transformer.attn.Wqkv.weight 17555632\n",
      "layers.1.transformer.attn.Wqkv.bias 4684\n",
      "layers.1.transformer.attn.out_proj.weight 14047504\n",
      "layers.1.transformer.attn.out_proj.bias 3748\n",
      "layers.1.transformer.ffn.ff.0.0.weight 56190016\n",
      "layers.1.transformer.ffn.ff.0.0.bias 14992\n",
      "layers.1.transformer.ffn.ff.1.weight 14992\n",
      "layers.1.transformer.ffn.ff.1.bias 14992\n",
      "layers.1.transformer.ffn.ff.3.weight 56190016\n",
      "layers.2.mamba_layer.A_log 959488\n",
      "layers.2.mamba_layer.D 7496\n",
      "layers.2.mamba_layer.in_proj.weight 56190016\n",
      "layers.2.mamba_layer.conv1d.weight 959488\n",
      "layers.2.mamba_layer.conv1d.bias 7496\n",
      "layers.2.mamba_layer.x_proj.weight 3680536\n",
      "layers.2.mamba_layer.dt_proj.weight 1761560\n",
      "layers.2.mamba_layer.dt_proj.bias 7496\n",
      "layers.2.mamba_layer.out_proj.weight 28095008\n",
      "layers.2.mamba_moe_layer.mamba.A_log 959488\n",
      "layers.2.mamba_moe_layer.mamba.D 7496\n",
      "layers.2.mamba_moe_layer.mamba.in_proj.weight 56190016\n",
      "layers.2.mamba_moe_layer.mamba.conv1d.weight 959488\n",
      "layers.2.mamba_moe_layer.mamba.conv1d.bias 7496\n",
      "layers.2.mamba_moe_layer.mamba.x_proj.weight 3680536\n",
      "layers.2.mamba_moe_layer.mamba.dt_proj.weight 1761560\n",
      "layers.2.mamba_moe_layer.mamba.dt_proj.bias 7496\n",
      "layers.2.mamba_moe_layer.mamba.out_proj.weight 28095008\n",
      "layers.2.mamba_moe_layer.moe.gate.w_gating 29984\n",
      "layers.2.mamba_moe_layer.moe.experts.w1 449520128\n",
      "layers.2.mamba_moe_layer.moe.experts.w2 449520128\n",
      "layers.2.transformer.attn.Wqkv.weight 17555632\n",
      "layers.2.transformer.attn.Wqkv.bias 4684\n",
      "layers.2.transformer.attn.out_proj.weight 14047504\n",
      "layers.2.transformer.attn.out_proj.bias 3748\n",
      "layers.2.transformer.ffn.ff.0.0.weight 56190016\n",
      "layers.2.transformer.ffn.ff.0.0.bias 14992\n",
      "layers.2.transformer.ffn.ff.1.weight 14992\n",
      "layers.2.transformer.ffn.ff.1.bias 14992\n",
      "layers.2.transformer.ffn.ff.3.weight 56190016\n",
      "layers.3.mamba_layer.A_log 959488\n",
      "layers.3.mamba_layer.D 7496\n",
      "layers.3.mamba_layer.in_proj.weight 56190016\n",
      "layers.3.mamba_layer.conv1d.weight 959488\n",
      "layers.3.mamba_layer.conv1d.bias 7496\n",
      "layers.3.mamba_layer.x_proj.weight 3680536\n",
      "layers.3.mamba_layer.dt_proj.weight 1761560\n",
      "layers.3.mamba_layer.dt_proj.bias 7496\n",
      "layers.3.mamba_layer.out_proj.weight 28095008\n",
      "layers.3.mamba_moe_layer.mamba.A_log 959488\n",
      "layers.3.mamba_moe_layer.mamba.D 7496\n",
      "layers.3.mamba_moe_layer.mamba.in_proj.weight 56190016\n",
      "layers.3.mamba_moe_layer.mamba.conv1d.weight 959488\n",
      "layers.3.mamba_moe_layer.mamba.conv1d.bias 7496\n",
      "layers.3.mamba_moe_layer.mamba.x_proj.weight 3680536\n",
      "layers.3.mamba_moe_layer.mamba.dt_proj.weight 1761560\n",
      "layers.3.mamba_moe_layer.mamba.dt_proj.bias 7496\n",
      "layers.3.mamba_moe_layer.mamba.out_proj.weight 28095008\n",
      "layers.3.mamba_moe_layer.moe.gate.w_gating 29984\n",
      "layers.3.mamba_moe_layer.moe.experts.w1 449520128\n",
      "layers.3.mamba_moe_layer.moe.experts.w2 449520128\n",
      "layers.3.transformer.attn.Wqkv.weight 17555632\n",
      "layers.3.transformer.attn.Wqkv.bias 4684\n",
      "layers.3.transformer.attn.out_proj.weight 14047504\n",
      "layers.3.transformer.attn.out_proj.bias 3748\n",
      "layers.3.transformer.ffn.ff.0.0.weight 56190016\n",
      "layers.3.transformer.ffn.ff.0.0.bias 14992\n",
      "layers.3.transformer.ffn.ff.1.weight 14992\n",
      "layers.3.transformer.ffn.ff.1.bias 14992\n",
      "layers.3.transformer.ffn.ff.3.weight 56190016\n",
      "embed.weight 374800\n",
      "Total number of parameters: 4906150736\n"
     ]
    },
    {
     "ename": "RuntimeError",
     "evalue": "Expected tensor for argument #1 'indices' to have one of the following scalar types: Long, Int; but got torch.cuda.FloatTensor instead (while checking arguments for embedding)",
     "output_type": "error",
     "traceback": [
      "\u001b[1;31m---------------------------------------------------------------------------\u001b[0m",
      "\u001b[1;31mRuntimeError\u001b[0m                              Traceback (most recent call last)",
      "Cell \u001b[1;32mIn[7], line 47\u001b[0m\n\u001b[0;32m     44\u001b[0m model_mamba \u001b[38;5;241m=\u001b[39m model_mamba\u001b[38;5;241m.\u001b[39mto(device)\n\u001b[0;32m     46\u001b[0m \u001b[38;5;66;03m# Train the model\u001b[39;00m\n\u001b[1;32m---> 47\u001b[0m trained_model \u001b[38;5;241m=\u001b[39m \u001b[43mtrain_model_mamba\u001b[49m\u001b[43m(\u001b[49m\n\u001b[0;32m     48\u001b[0m \u001b[43m    \u001b[49m\u001b[43mmodel\u001b[49m\u001b[38;5;241;43m=\u001b[39;49m\u001b[43mmodel_mamba\u001b[49m\u001b[43m,\u001b[49m\n\u001b[0;32m     49\u001b[0m \u001b[43m    \u001b[49m\u001b[43mtrain_loader\u001b[49m\u001b[38;5;241;43m=\u001b[39;49m\u001b[43mtrain_loader\u001b[49m\u001b[43m,\u001b[49m\n\u001b[0;32m     50\u001b[0m \u001b[43m    \u001b[49m\u001b[43mval_loader\u001b[49m\u001b[38;5;241;43m=\u001b[39;49m\u001b[43mval_loader\u001b[49m\u001b[43m,\u001b[49m\n\u001b[0;32m     51\u001b[0m \u001b[43m    \u001b[49m\u001b[43mtest_loader\u001b[49m\u001b[38;5;241;43m=\u001b[39;49m\u001b[43mtest_loader\u001b[49m\u001b[43m,\u001b[49m\n\u001b[0;32m     52\u001b[0m \u001b[43m    \u001b[49m\u001b[43mnum_epochs\u001b[49m\u001b[38;5;241;43m=\u001b[39;49m\u001b[43mnum_epochs\u001b[49m\u001b[43m,\u001b[49m\n\u001b[0;32m     53\u001b[0m \u001b[43m    \u001b[49m\u001b[43mlr\u001b[49m\u001b[38;5;241;43m=\u001b[39;49m\u001b[43mlr\u001b[49m\u001b[43m,\u001b[49m\n\u001b[0;32m     54\u001b[0m \u001b[43m    \u001b[49m\u001b[43mmax_patience\u001b[49m\u001b[38;5;241;43m=\u001b[39;49m\u001b[43mpatience\u001b[49m\u001b[43m,\u001b[49m\n\u001b[0;32m     55\u001b[0m \u001b[43m    \u001b[49m\u001b[43mdevice\u001b[49m\u001b[38;5;241;43m=\u001b[39;49m\u001b[43mdevice\u001b[49m\n\u001b[0;32m     56\u001b[0m \u001b[43m)\u001b[49m\n\u001b[0;32m     58\u001b[0m \u001b[38;5;66;03m# Save the model and finish WandB session\u001b[39;00m\n\u001b[0;32m     59\u001b[0m wandb\u001b[38;5;241m.\u001b[39mfinish()\n",
      "Cell \u001b[1;32mIn[6], line 26\u001b[0m, in \u001b[0;36mtrain_model_mamba\u001b[1;34m(model, train_loader, val_loader, test_loader, num_epochs, lr, max_patience, device)\u001b[0m\n\u001b[0;32m     24\u001b[0m X_batch, y_batch \u001b[38;5;241m=\u001b[39m X_batch\u001b[38;5;241m.\u001b[39mto(device), y_batch\u001b[38;5;241m.\u001b[39mto(device)\n\u001b[0;32m     25\u001b[0m optimizer\u001b[38;5;241m.\u001b[39mzero_grad()\n\u001b[1;32m---> 26\u001b[0m outputs \u001b[38;5;241m=\u001b[39m \u001b[43mmodel\u001b[49m\u001b[43m(\u001b[49m\u001b[43mX_batch\u001b[49m\u001b[43m)\u001b[49m\n\u001b[0;32m     27\u001b[0m loss \u001b[38;5;241m=\u001b[39m criterion(outputs, y_batch)\n\u001b[0;32m     28\u001b[0m loss\u001b[38;5;241m.\u001b[39mbackward()\n",
      "File \u001b[1;32m~\\AppData\\Local\\Packages\\PythonSoftwareFoundation.Python.3.11_qbz5n2kfra8p0\\LocalCache\\local-packages\\Python311\\site-packages\\torch\\nn\\modules\\module.py:1553\u001b[0m, in \u001b[0;36mModule._wrapped_call_impl\u001b[1;34m(self, *args, **kwargs)\u001b[0m\n\u001b[0;32m   1551\u001b[0m     \u001b[38;5;28;01mreturn\u001b[39;00m \u001b[38;5;28mself\u001b[39m\u001b[38;5;241m.\u001b[39m_compiled_call_impl(\u001b[38;5;241m*\u001b[39margs, \u001b[38;5;241m*\u001b[39m\u001b[38;5;241m*\u001b[39mkwargs)  \u001b[38;5;66;03m# type: ignore[misc]\u001b[39;00m\n\u001b[0;32m   1552\u001b[0m \u001b[38;5;28;01melse\u001b[39;00m:\n\u001b[1;32m-> 1553\u001b[0m     \u001b[38;5;28;01mreturn\u001b[39;00m \u001b[38;5;28;43mself\u001b[39;49m\u001b[38;5;241;43m.\u001b[39;49m\u001b[43m_call_impl\u001b[49m\u001b[43m(\u001b[49m\u001b[38;5;241;43m*\u001b[39;49m\u001b[43margs\u001b[49m\u001b[43m,\u001b[49m\u001b[43m \u001b[49m\u001b[38;5;241;43m*\u001b[39;49m\u001b[38;5;241;43m*\u001b[39;49m\u001b[43mkwargs\u001b[49m\u001b[43m)\u001b[49m\n",
      "File \u001b[1;32m~\\AppData\\Local\\Packages\\PythonSoftwareFoundation.Python.3.11_qbz5n2kfra8p0\\LocalCache\\local-packages\\Python311\\site-packages\\torch\\nn\\modules\\module.py:1562\u001b[0m, in \u001b[0;36mModule._call_impl\u001b[1;34m(self, *args, **kwargs)\u001b[0m\n\u001b[0;32m   1557\u001b[0m \u001b[38;5;66;03m# If we don't have any hooks, we want to skip the rest of the logic in\u001b[39;00m\n\u001b[0;32m   1558\u001b[0m \u001b[38;5;66;03m# this function, and just call forward.\u001b[39;00m\n\u001b[0;32m   1559\u001b[0m \u001b[38;5;28;01mif\u001b[39;00m \u001b[38;5;129;01mnot\u001b[39;00m (\u001b[38;5;28mself\u001b[39m\u001b[38;5;241m.\u001b[39m_backward_hooks \u001b[38;5;129;01mor\u001b[39;00m \u001b[38;5;28mself\u001b[39m\u001b[38;5;241m.\u001b[39m_backward_pre_hooks \u001b[38;5;129;01mor\u001b[39;00m \u001b[38;5;28mself\u001b[39m\u001b[38;5;241m.\u001b[39m_forward_hooks \u001b[38;5;129;01mor\u001b[39;00m \u001b[38;5;28mself\u001b[39m\u001b[38;5;241m.\u001b[39m_forward_pre_hooks\n\u001b[0;32m   1560\u001b[0m         \u001b[38;5;129;01mor\u001b[39;00m _global_backward_pre_hooks \u001b[38;5;129;01mor\u001b[39;00m _global_backward_hooks\n\u001b[0;32m   1561\u001b[0m         \u001b[38;5;129;01mor\u001b[39;00m _global_forward_hooks \u001b[38;5;129;01mor\u001b[39;00m _global_forward_pre_hooks):\n\u001b[1;32m-> 1562\u001b[0m     \u001b[38;5;28;01mreturn\u001b[39;00m \u001b[43mforward_call\u001b[49m\u001b[43m(\u001b[49m\u001b[38;5;241;43m*\u001b[39;49m\u001b[43margs\u001b[49m\u001b[43m,\u001b[49m\u001b[43m \u001b[49m\u001b[38;5;241;43m*\u001b[39;49m\u001b[38;5;241;43m*\u001b[39;49m\u001b[43mkwargs\u001b[49m\u001b[43m)\u001b[49m\n\u001b[0;32m   1564\u001b[0m \u001b[38;5;28;01mtry\u001b[39;00m:\n\u001b[0;32m   1565\u001b[0m     result \u001b[38;5;241m=\u001b[39m \u001b[38;5;28;01mNone\u001b[39;00m\n",
      "File \u001b[1;32m~\\AppData\\Local\\Packages\\PythonSoftwareFoundation.Python.3.11_qbz5n2kfra8p0\\LocalCache\\local-packages\\Python311\\site-packages\\jamba\\model.py:357\u001b[0m, in \u001b[0;36mJamba.forward\u001b[1;34m(self, x)\u001b[0m\n\u001b[0;32m    345\u001b[0m \u001b[38;5;250m\u001b[39m\u001b[38;5;124;03m\"\"\"\u001b[39;00m\n\u001b[0;32m    346\u001b[0m \u001b[38;5;124;03mForward pass of the Jamba model.\u001b[39;00m\n\u001b[0;32m    347\u001b[0m \n\u001b[1;32m   (...)\u001b[0m\n\u001b[0;32m    353\u001b[0m \n\u001b[0;32m    354\u001b[0m \u001b[38;5;124;03m\"\"\"\u001b[39;00m\n\u001b[0;32m    355\u001b[0m \u001b[38;5;66;03m# Embed the input tensor to transform\u001b[39;00m\n\u001b[0;32m    356\u001b[0m \u001b[38;5;66;03m# From tokens -> tensors\u001b[39;00m\n\u001b[1;32m--> 357\u001b[0m x \u001b[38;5;241m=\u001b[39m \u001b[38;5;28;43mself\u001b[39;49m\u001b[38;5;241;43m.\u001b[39;49m\u001b[43membed\u001b[49m\u001b[43m(\u001b[49m\u001b[43mx\u001b[49m\u001b[43m)\u001b[49m\n\u001b[0;32m    359\u001b[0m \u001b[38;5;66;03m# Normalize the embeddings\u001b[39;00m\n\u001b[0;32m    360\u001b[0m x \u001b[38;5;241m=\u001b[39m \u001b[38;5;28mself\u001b[39m\u001b[38;5;241m.\u001b[39mnorm(x)\n",
      "File \u001b[1;32m~\\AppData\\Local\\Packages\\PythonSoftwareFoundation.Python.3.11_qbz5n2kfra8p0\\LocalCache\\local-packages\\Python311\\site-packages\\torch\\nn\\modules\\module.py:1553\u001b[0m, in \u001b[0;36mModule._wrapped_call_impl\u001b[1;34m(self, *args, **kwargs)\u001b[0m\n\u001b[0;32m   1551\u001b[0m     \u001b[38;5;28;01mreturn\u001b[39;00m \u001b[38;5;28mself\u001b[39m\u001b[38;5;241m.\u001b[39m_compiled_call_impl(\u001b[38;5;241m*\u001b[39margs, \u001b[38;5;241m*\u001b[39m\u001b[38;5;241m*\u001b[39mkwargs)  \u001b[38;5;66;03m# type: ignore[misc]\u001b[39;00m\n\u001b[0;32m   1552\u001b[0m \u001b[38;5;28;01melse\u001b[39;00m:\n\u001b[1;32m-> 1553\u001b[0m     \u001b[38;5;28;01mreturn\u001b[39;00m \u001b[38;5;28;43mself\u001b[39;49m\u001b[38;5;241;43m.\u001b[39;49m\u001b[43m_call_impl\u001b[49m\u001b[43m(\u001b[49m\u001b[38;5;241;43m*\u001b[39;49m\u001b[43margs\u001b[49m\u001b[43m,\u001b[49m\u001b[43m \u001b[49m\u001b[38;5;241;43m*\u001b[39;49m\u001b[38;5;241;43m*\u001b[39;49m\u001b[43mkwargs\u001b[49m\u001b[43m)\u001b[49m\n",
      "File \u001b[1;32m~\\AppData\\Local\\Packages\\PythonSoftwareFoundation.Python.3.11_qbz5n2kfra8p0\\LocalCache\\local-packages\\Python311\\site-packages\\torch\\nn\\modules\\module.py:1562\u001b[0m, in \u001b[0;36mModule._call_impl\u001b[1;34m(self, *args, **kwargs)\u001b[0m\n\u001b[0;32m   1557\u001b[0m \u001b[38;5;66;03m# If we don't have any hooks, we want to skip the rest of the logic in\u001b[39;00m\n\u001b[0;32m   1558\u001b[0m \u001b[38;5;66;03m# this function, and just call forward.\u001b[39;00m\n\u001b[0;32m   1559\u001b[0m \u001b[38;5;28;01mif\u001b[39;00m \u001b[38;5;129;01mnot\u001b[39;00m (\u001b[38;5;28mself\u001b[39m\u001b[38;5;241m.\u001b[39m_backward_hooks \u001b[38;5;129;01mor\u001b[39;00m \u001b[38;5;28mself\u001b[39m\u001b[38;5;241m.\u001b[39m_backward_pre_hooks \u001b[38;5;129;01mor\u001b[39;00m \u001b[38;5;28mself\u001b[39m\u001b[38;5;241m.\u001b[39m_forward_hooks \u001b[38;5;129;01mor\u001b[39;00m \u001b[38;5;28mself\u001b[39m\u001b[38;5;241m.\u001b[39m_forward_pre_hooks\n\u001b[0;32m   1560\u001b[0m         \u001b[38;5;129;01mor\u001b[39;00m _global_backward_pre_hooks \u001b[38;5;129;01mor\u001b[39;00m _global_backward_hooks\n\u001b[0;32m   1561\u001b[0m         \u001b[38;5;129;01mor\u001b[39;00m _global_forward_hooks \u001b[38;5;129;01mor\u001b[39;00m _global_forward_pre_hooks):\n\u001b[1;32m-> 1562\u001b[0m     \u001b[38;5;28;01mreturn\u001b[39;00m \u001b[43mforward_call\u001b[49m\u001b[43m(\u001b[49m\u001b[38;5;241;43m*\u001b[39;49m\u001b[43margs\u001b[49m\u001b[43m,\u001b[49m\u001b[43m \u001b[49m\u001b[38;5;241;43m*\u001b[39;49m\u001b[38;5;241;43m*\u001b[39;49m\u001b[43mkwargs\u001b[49m\u001b[43m)\u001b[49m\n\u001b[0;32m   1564\u001b[0m \u001b[38;5;28;01mtry\u001b[39;00m:\n\u001b[0;32m   1565\u001b[0m     result \u001b[38;5;241m=\u001b[39m \u001b[38;5;28;01mNone\u001b[39;00m\n",
      "File \u001b[1;32m~\\AppData\\Local\\Packages\\PythonSoftwareFoundation.Python.3.11_qbz5n2kfra8p0\\LocalCache\\local-packages\\Python311\\site-packages\\torch\\nn\\modules\\sparse.py:164\u001b[0m, in \u001b[0;36mEmbedding.forward\u001b[1;34m(self, input)\u001b[0m\n\u001b[0;32m    163\u001b[0m \u001b[38;5;28;01mdef\u001b[39;00m \u001b[38;5;21mforward\u001b[39m(\u001b[38;5;28mself\u001b[39m, \u001b[38;5;28minput\u001b[39m: Tensor) \u001b[38;5;241m-\u001b[39m\u001b[38;5;241m>\u001b[39m Tensor:\n\u001b[1;32m--> 164\u001b[0m     \u001b[38;5;28;01mreturn\u001b[39;00m \u001b[43mF\u001b[49m\u001b[38;5;241;43m.\u001b[39;49m\u001b[43membedding\u001b[49m\u001b[43m(\u001b[49m\n\u001b[0;32m    165\u001b[0m \u001b[43m        \u001b[49m\u001b[38;5;28;43minput\u001b[39;49m\u001b[43m,\u001b[49m\u001b[43m \u001b[49m\u001b[38;5;28;43mself\u001b[39;49m\u001b[38;5;241;43m.\u001b[39;49m\u001b[43mweight\u001b[49m\u001b[43m,\u001b[49m\u001b[43m \u001b[49m\u001b[38;5;28;43mself\u001b[39;49m\u001b[38;5;241;43m.\u001b[39;49m\u001b[43mpadding_idx\u001b[49m\u001b[43m,\u001b[49m\u001b[43m \u001b[49m\u001b[38;5;28;43mself\u001b[39;49m\u001b[38;5;241;43m.\u001b[39;49m\u001b[43mmax_norm\u001b[49m\u001b[43m,\u001b[49m\n\u001b[0;32m    166\u001b[0m \u001b[43m        \u001b[49m\u001b[38;5;28;43mself\u001b[39;49m\u001b[38;5;241;43m.\u001b[39;49m\u001b[43mnorm_type\u001b[49m\u001b[43m,\u001b[49m\u001b[43m \u001b[49m\u001b[38;5;28;43mself\u001b[39;49m\u001b[38;5;241;43m.\u001b[39;49m\u001b[43mscale_grad_by_freq\u001b[49m\u001b[43m,\u001b[49m\u001b[43m \u001b[49m\u001b[38;5;28;43mself\u001b[39;49m\u001b[38;5;241;43m.\u001b[39;49m\u001b[43msparse\u001b[49m\u001b[43m)\u001b[49m\n",
      "File \u001b[1;32m~\\AppData\\Local\\Packages\\PythonSoftwareFoundation.Python.3.11_qbz5n2kfra8p0\\LocalCache\\local-packages\\Python311\\site-packages\\torch\\nn\\functional.py:2267\u001b[0m, in \u001b[0;36membedding\u001b[1;34m(input, weight, padding_idx, max_norm, norm_type, scale_grad_by_freq, sparse)\u001b[0m\n\u001b[0;32m   2261\u001b[0m     \u001b[38;5;66;03m# Note [embedding_renorm set_grad_enabled]\u001b[39;00m\n\u001b[0;32m   2262\u001b[0m     \u001b[38;5;66;03m# XXX: equivalent to\u001b[39;00m\n\u001b[0;32m   2263\u001b[0m     \u001b[38;5;66;03m# with torch.no_grad():\u001b[39;00m\n\u001b[0;32m   2264\u001b[0m     \u001b[38;5;66;03m#   torch.embedding_renorm_\u001b[39;00m\n\u001b[0;32m   2265\u001b[0m     \u001b[38;5;66;03m# remove once script supports set_grad_enabled\u001b[39;00m\n\u001b[0;32m   2266\u001b[0m     _no_grad_embedding_renorm_(weight, \u001b[38;5;28minput\u001b[39m, max_norm, norm_type)\n\u001b[1;32m-> 2267\u001b[0m \u001b[38;5;28;01mreturn\u001b[39;00m \u001b[43mtorch\u001b[49m\u001b[38;5;241;43m.\u001b[39;49m\u001b[43membedding\u001b[49m\u001b[43m(\u001b[49m\u001b[43mweight\u001b[49m\u001b[43m,\u001b[49m\u001b[43m \u001b[49m\u001b[38;5;28;43minput\u001b[39;49m\u001b[43m,\u001b[49m\u001b[43m \u001b[49m\u001b[43mpadding_idx\u001b[49m\u001b[43m,\u001b[49m\u001b[43m \u001b[49m\u001b[43mscale_grad_by_freq\u001b[49m\u001b[43m,\u001b[49m\u001b[43m \u001b[49m\u001b[43msparse\u001b[49m\u001b[43m)\u001b[49m\n",
      "\u001b[1;31mRuntimeError\u001b[0m: Expected tensor for argument #1 'indices' to have one of the following scalar types: Long, Int; but got torch.cuda.FloatTensor instead (while checking arguments for embedding)"
     ]
    }
   ],
   "source": [
    "from jamba.model import Jamba\n",
    "\n",
    "# Define the model with your parameters\n",
    "d_model = 128 # Embedding dimension\n",
    "num_classes = 4  # Star classification categories\n",
    "\n",
    "# Define the training parameters\n",
    "num_epochs = 500\n",
    "lr = 1e-4\n",
    "patience = 30   \n",
    "depth = 10\n",
    "\n",
    "# Define the config dictionary object\n",
    "config = {\"num_classes\": num_classes, \"batch_size\": batch_size, \"lr\": lr, \"patience\": patience, \"num_epochs\": num_epochs, \"d_model\": d_model, \"depth\": depth}\n",
    "\n",
    "# Initialize WandB project\n",
    "wandb.init(project=\"lamost-jamba-test\", entity=\"joaoc-university-of-southampton\", config=config)\n",
    "\n",
    "# Define hyperparameters\n",
    "num_epochs = 100\n",
    "lr = 1e-3\n",
    "patience = 10\n",
    "\n",
    "# Initialize the Jamba model\n",
    "model_mamba = Jamba(\n",
    "    dim=3748,                # Input dimensionality\n",
    "    depth=4,                # Number of layers\n",
    "    num_tokens=100,         # Token size (adapt to your case)\n",
    "    d_state=d_model,            # Hidden state dimensionality\n",
    "    d_conv=128,             # Convolutional layers dimensionality\n",
    "    heads=8,                # Number of attention heads\n",
    "    num_experts=8,          # Number of expert networks\n",
    "    num_experts_per_token=2 # Experts per token\n",
    ")\n",
    "\n",
    "print(model_mamba)\n",
    "# Print number of parameters per layer\n",
    "for name, param in model_mamba.named_parameters():\n",
    "    print(name, param.numel())\n",
    "print(\"Total number of parameters:\", sum(p.numel() for p in model_mamba.parameters() if p.requires_grad))\n",
    "\n",
    "# Move the model to device\n",
    "device = 'cuda' if torch.cuda.is_available() else 'cpu'\n",
    "model_mamba = model_mamba.to(device)\n",
    "\n",
    "# Train the model\n",
    "trained_model = train_model_mamba(\n",
    "    model=model_mamba,\n",
    "    train_loader=train_loader,\n",
    "    val_loader=val_loader,\n",
    "    test_loader=test_loader,\n",
    "    num_epochs=num_epochs,\n",
    "    lr=lr,\n",
    "    max_patience=patience,\n",
    "    device=device\n",
    ")\n",
    "\n",
    "# Save the model and finish WandB session\n",
    "wandb.finish()\n",
    "\n",
    "    "
   ]
  },
  {
   "cell_type": "code",
   "execution_count": 8,
   "metadata": {},
   "outputs": [
    {
     "data": {
      "text/html": [
       "Tracking run with wandb version 0.18.5"
      ],
      "text/plain": [
       "<IPython.core.display.HTML object>"
      ]
     },
     "metadata": {},
     "output_type": "display_data"
    },
    {
     "data": {
      "text/html": [
       "Run data is saved locally in <code>c:\\Users\\jcwin\\OneDrive - University of Southampton\\_Southampton\\2024-25\\Star-Classifier\\wandb\\run-20241127_215106-1vsdawdz</code>"
      ],
      "text/plain": [
       "<IPython.core.display.HTML object>"
      ]
     },
     "metadata": {},
     "output_type": "display_data"
    },
    {
     "data": {
      "text/html": [
       "Syncing run <strong><a href='https://wandb.ai/joaoc-university-of-southampton/lamost-mamba-test/runs/1vsdawdz' target=\"_blank\">classic-lion-15</a></strong> to <a href='https://wandb.ai/joaoc-university-of-southampton/lamost-mamba-test' target=\"_blank\">Weights & Biases</a> (<a href='https://wandb.me/run' target=\"_blank\">docs</a>)<br/>"
      ],
      "text/plain": [
       "<IPython.core.display.HTML object>"
      ]
     },
     "metadata": {},
     "output_type": "display_data"
    },
    {
     "data": {
      "text/html": [
       " View project at <a href='https://wandb.ai/joaoc-university-of-southampton/lamost-mamba-test' target=\"_blank\">https://wandb.ai/joaoc-university-of-southampton/lamost-mamba-test</a>"
      ],
      "text/plain": [
       "<IPython.core.display.HTML object>"
      ]
     },
     "metadata": {},
     "output_type": "display_data"
    },
    {
     "data": {
      "text/html": [
       " View run at <a href='https://wandb.ai/joaoc-university-of-southampton/lamost-mamba-test/runs/1vsdawdz' target=\"_blank\">https://wandb.ai/joaoc-university-of-southampton/lamost-mamba-test/runs/1vsdawdz</a>"
      ],
      "text/plain": [
       "<IPython.core.display.HTML object>"
      ]
     },
     "metadata": {},
     "output_type": "display_data"
    },
    {
     "name": "stdout",
     "output_type": "stream",
     "text": [
      "StarClassifierMAMBA(\n",
      "  (mamba_layer): Mamba(\n",
      "    (layers): ModuleList(\n",
      "      (0-5): 6 x ResidualBlock(\n",
      "        (mixer): MambaBlock(\n",
      "          (in_proj): Linear(in_features=2048, out_features=8192, bias=False)\n",
      "          (conv1d): Conv1d(4096, 4096, kernel_size=(4,), stride=(1,), padding=(3,), groups=4096)\n",
      "          (x_proj): Linear(in_features=4096, out_features=256, bias=False)\n",
      "          (dt_proj): Linear(in_features=128, out_features=4096, bias=True)\n",
      "          (out_proj): Linear(in_features=4096, out_features=2048, bias=False)\n",
      "        )\n",
      "        (norm): RMSNorm()\n",
      "      )\n",
      "    )\n",
      "  )\n",
      "  (input_projection): Linear(in_features=3748, out_features=2048, bias=True)\n",
      "  (classifier): Sequential(\n",
      "    (0): LayerNorm((2048,), eps=1e-05, elementwise_affine=True)\n",
      "    (1): Linear(in_features=2048, out_features=4, bias=True)\n",
      "  )\n",
      ")\n",
      "mamba_layer.layers.0.mixer.A_log 262144\n",
      "mamba_layer.layers.0.mixer.D 4096\n",
      "mamba_layer.layers.0.mixer.in_proj.weight 16777216\n",
      "mamba_layer.layers.0.mixer.conv1d.weight 16384\n",
      "mamba_layer.layers.0.mixer.conv1d.bias 4096\n",
      "mamba_layer.layers.0.mixer.x_proj.weight 1048576\n",
      "mamba_layer.layers.0.mixer.dt_proj.weight 524288\n",
      "mamba_layer.layers.0.mixer.dt_proj.bias 4096\n",
      "mamba_layer.layers.0.mixer.out_proj.weight 8388608\n",
      "mamba_layer.layers.0.norm.weight 2048\n",
      "mamba_layer.layers.1.mixer.A_log 262144\n",
      "mamba_layer.layers.1.mixer.D 4096\n",
      "mamba_layer.layers.1.mixer.in_proj.weight 16777216\n",
      "mamba_layer.layers.1.mixer.conv1d.weight 16384\n",
      "mamba_layer.layers.1.mixer.conv1d.bias 4096\n",
      "mamba_layer.layers.1.mixer.x_proj.weight 1048576\n",
      "mamba_layer.layers.1.mixer.dt_proj.weight 524288\n",
      "mamba_layer.layers.1.mixer.dt_proj.bias 4096\n",
      "mamba_layer.layers.1.mixer.out_proj.weight 8388608\n",
      "mamba_layer.layers.1.norm.weight 2048\n",
      "mamba_layer.layers.2.mixer.A_log 262144\n",
      "mamba_layer.layers.2.mixer.D 4096\n",
      "mamba_layer.layers.2.mixer.in_proj.weight 16777216\n",
      "mamba_layer.layers.2.mixer.conv1d.weight 16384\n",
      "mamba_layer.layers.2.mixer.conv1d.bias 4096\n",
      "mamba_layer.layers.2.mixer.x_proj.weight 1048576\n",
      "mamba_layer.layers.2.mixer.dt_proj.weight 524288\n",
      "mamba_layer.layers.2.mixer.dt_proj.bias 4096\n",
      "mamba_layer.layers.2.mixer.out_proj.weight 8388608\n",
      "mamba_layer.layers.2.norm.weight 2048\n",
      "mamba_layer.layers.3.mixer.A_log 262144\n",
      "mamba_layer.layers.3.mixer.D 4096\n",
      "mamba_layer.layers.3.mixer.in_proj.weight 16777216\n",
      "mamba_layer.layers.3.mixer.conv1d.weight 16384\n",
      "mamba_layer.layers.3.mixer.conv1d.bias 4096\n",
      "mamba_layer.layers.3.mixer.x_proj.weight 1048576\n",
      "mamba_layer.layers.3.mixer.dt_proj.weight 524288\n",
      "mamba_layer.layers.3.mixer.dt_proj.bias 4096\n",
      "mamba_layer.layers.3.mixer.out_proj.weight 8388608\n",
      "mamba_layer.layers.3.norm.weight 2048\n",
      "mamba_layer.layers.4.mixer.A_log 262144\n",
      "mamba_layer.layers.4.mixer.D 4096\n",
      "mamba_layer.layers.4.mixer.in_proj.weight 16777216\n",
      "mamba_layer.layers.4.mixer.conv1d.weight 16384\n",
      "mamba_layer.layers.4.mixer.conv1d.bias 4096\n",
      "mamba_layer.layers.4.mixer.x_proj.weight 1048576\n",
      "mamba_layer.layers.4.mixer.dt_proj.weight 524288\n",
      "mamba_layer.layers.4.mixer.dt_proj.bias 4096\n",
      "mamba_layer.layers.4.mixer.out_proj.weight 8388608\n",
      "mamba_layer.layers.4.norm.weight 2048\n",
      "mamba_layer.layers.5.mixer.A_log 262144\n",
      "mamba_layer.layers.5.mixer.D 4096\n",
      "mamba_layer.layers.5.mixer.in_proj.weight 16777216\n",
      "mamba_layer.layers.5.mixer.conv1d.weight 16384\n",
      "mamba_layer.layers.5.mixer.conv1d.bias 4096\n",
      "mamba_layer.layers.5.mixer.x_proj.weight 1048576\n",
      "mamba_layer.layers.5.mixer.dt_proj.weight 524288\n",
      "mamba_layer.layers.5.mixer.dt_proj.bias 4096\n",
      "mamba_layer.layers.5.mixer.out_proj.weight 8388608\n",
      "mamba_layer.layers.5.norm.weight 2048\n",
      "input_projection.weight 7675904\n",
      "input_projection.bias 2048\n",
      "classifier.0.weight 2048\n",
      "classifier.0.bias 2048\n",
      "classifier.1.weight 8192\n",
      "classifier.1.bias 4\n",
      "Total number of parameters: 169879556\n"
     ]
    },
    {
     "name": "stderr",
     "output_type": "stream",
     "text": [
      "C:\\Users\\jcwin\\AppData\\Local\\Packages\\PythonSoftwareFoundation.Python.3.11_qbz5n2kfra8p0\\LocalCache\\local-packages\\Python311\\site-packages\\torch\\optim\\lr_scheduler.py:60: UserWarning: The verbose parameter is deprecated. Please use get_last_lr() to access the learning rate.\n",
      "  warnings.warn(\n"
     ]
    },
    {
     "name": "stdout",
     "output_type": "stream",
     "text": [
      "Early stopping triggered.\n"
     ]
    },
    {
     "data": {
      "application/vnd.jupyter.widget-view+json": {
       "model_id": "eb5f9e41971b4e19a829e2366bcdf126",
       "version_major": 2,
       "version_minor": 0
      },
      "text/plain": [
       "VBox(children=(Label(value='0.516 MB of 0.516 MB uploaded\\r'), FloatProgress(value=1.0, max=1.0)))"
      ]
     },
     "metadata": {},
     "output_type": "display_data"
    },
    {
     "data": {
      "text/html": [
       "<style>\n",
       "    table.wandb td:nth-child(1) { padding: 0 10px; text-align: left ; width: auto;} td:nth-child(2) {text-align: left ; width: 100%}\n",
       "    .wandb-row { display: flex; flex-direction: row; flex-wrap: wrap; justify-content: flex-start; width: 100% }\n",
       "    .wandb-col { display: flex; flex-direction: column; flex-basis: 100%; flex: 1; padding: 10px; }\n",
       "    </style>\n",
       "<div class=\"wandb-row\"><div class=\"wandb-col\"><h3>Run history:</h3><br/><table class=\"wandb\"><tr><td>epoch</td><td>▁▂▂▂▂▃▃▃▃▃▃▄▄▄▄▄▄▄▅▅▅▅▅▅▅▅▆▆▆▆▇▇▇▇▇▇████</td></tr><tr><td>learning_rate</td><td>███████████████████████████████████▃▃▃▃▁</td></tr><tr><td>test_accuracy</td><td>▁▃▄▄▄▅▆▅▆▆▆▆▆▆▆▆▆▇▇▇▇▇▇▇▇▇▇▇▇▇▇▇▇▇██████</td></tr><tr><td>test_loss</td><td>█▇▆▅▅▄▄▄▄▃▂▂▂▂▁▁▁▁▁▁▁▁▁▁▁▁▁▁▁▁▁▁▁▁▁▁▁▁▁▁</td></tr><tr><td>train_accuracy</td><td>▁▁▃▅▆▆▆▆▆▆▆▆▆▆▆▇▆▆▇▇▇▇▇▇▇▇▇▇▇▇██▇▇█▇████</td></tr><tr><td>train_loss</td><td>█▇▆▆▆▅▅▄▄▄▄▃▃▃▃▃▃▂▃▂▂▂▂▂▂▂▂▂▂▂▂▂▂▁▁▂▁▁▁▁</td></tr><tr><td>val_accuracy</td><td>▁▁▂▃▃▄▅▅▆▆▆▆▇▆▇▇▇▇▇▇▇▇▇▇█████████▇██████</td></tr><tr><td>val_loss</td><td>█▇▅▅▅▄▃▃▃▃▃▂▂▂▂▂▁▁▁▁▁▁▁▁▁▁▁▁▁▁▁▁▁▁▁▁▁▁▁▁</td></tr></table><br/></div><div class=\"wandb-col\"><h3>Run summary:</h3><br/><table class=\"wandb\"><tr><td>classification_report</td><td>              precis...</td></tr><tr><td>epoch</td><td>384</td></tr><tr><td>learning_rate</td><td>0.0</td></tr><tr><td>test_accuracy</td><td>0.76964</td></tr><tr><td>test_loss</td><td>0.55254</td></tr><tr><td>train_accuracy</td><td>0.78883</td></tr><tr><td>train_loss</td><td>0.4609</td></tr><tr><td>val_accuracy</td><td>0.73679</td></tr><tr><td>val_loss</td><td>0.56997</td></tr></table><br/></div></div>"
      ],
      "text/plain": [
       "<IPython.core.display.HTML object>"
      ]
     },
     "metadata": {},
     "output_type": "display_data"
    },
    {
     "data": {
      "text/html": [
       " View run <strong style=\"color:#cdcd00\">classic-lion-15</strong> at: <a href='https://wandb.ai/joaoc-university-of-southampton/lamost-mamba-test/runs/1vsdawdz' target=\"_blank\">https://wandb.ai/joaoc-university-of-southampton/lamost-mamba-test/runs/1vsdawdz</a><br/> View project at: <a href='https://wandb.ai/joaoc-university-of-southampton/lamost-mamba-test' target=\"_blank\">https://wandb.ai/joaoc-university-of-southampton/lamost-mamba-test</a><br/>Synced 5 W&B file(s), 0 media file(s), 766 artifact file(s) and 385 other file(s)"
      ],
      "text/plain": [
       "<IPython.core.display.HTML object>"
      ]
     },
     "metadata": {},
     "output_type": "display_data"
    },
    {
     "data": {
      "text/html": [
       "Find logs at: <code>.\\wandb\\run-20241127_215106-1vsdawdz\\logs</code>"
      ],
      "text/plain": [
       "<IPython.core.display.HTML object>"
      ]
     },
     "metadata": {},
     "output_type": "display_data"
    }
   ],
   "source": [
    "# Define the model with your parameters\n",
    "d_model = 2048 # Embedding dimension\n",
    "num_classes = 4  # Star classification categories\n",
    "\n",
    "# Define the training parameters\n",
    "num_epochs = 500\n",
    "lr = 2e-7\n",
    "patience = 50   \n",
    "depth = 6\n",
    "\n",
    "# Define the config dictionary object\n",
    "config = {\"num_classes\": num_classes, \"batch_size\": batch_size, \"lr\": lr, \"patience\": patience, \"num_epochs\": num_epochs, \"d_model\": d_model, \"depth\": depth}\n",
    "\n",
    "# Initialize WandB project\n",
    "wandb.init(project=\"lamost-mamba-test\", entity=\"joaoc-university-of-southampton\", config=config)\n",
    "# Initialize and train the model\n",
    "# Train the model using your `train_model_vit` or an adjusted training loop\n",
    "model_mamba = StarClassifierMAMBA(d_model=d_model, num_classes=num_classes, input_dim=3748, n_layers=depth)\n",
    "print(model_mamba)\n",
    "# print number of parameters per layer\n",
    "for name, param in model_mamba.named_parameters():\n",
    "    print(name, param.numel())\n",
    "print(\"Total number of parameters:\", sum(p.numel() for p in model_mamba.parameters() if p.requires_grad))\n",
    "\n",
    "# Move the model to device\n",
    "device = 'cuda' if torch.cuda.is_available() else 'cpu'\n",
    "model_mamba = model_mamba.to(device)\n",
    "\n",
    "# Train the model using your `train_model_vit` or an adjusted training loop\n",
    "trained_model = train_model_mamba(\n",
    "    model=model_mamba,\n",
    "    train_loader=train_loader,\n",
    "    val_loader=val_loader,\n",
    "    test_loader=test_loader,\n",
    "    num_epochs=num_epochs,\n",
    "    lr=lr,\n",
    "    max_patience=patience,\n",
    "    device=device\n",
    ")\n",
    "# Save the model and finish WandB session\n",
    "wandb.finish()"
   ]
  },
  {
   "cell_type": "code",
   "execution_count": 9,
   "metadata": {},
   "outputs": [
    {
     "data": {
      "text/html": [
       "Tracking run with wandb version 0.18.5"
      ],
      "text/plain": [
       "<IPython.core.display.HTML object>"
      ]
     },
     "metadata": {},
     "output_type": "display_data"
    },
    {
     "data": {
      "text/html": [
       "Run data is saved locally in <code>c:\\Users\\jcwin\\OneDrive - University of Southampton\\_Southampton\\2024-25\\Star-Classifier\\wandb\\run-20241127_225905-q4xuw46q</code>"
      ],
      "text/plain": [
       "<IPython.core.display.HTML object>"
      ]
     },
     "metadata": {},
     "output_type": "display_data"
    },
    {
     "data": {
      "text/html": [
       "Syncing run <strong><a href='https://wandb.ai/joaoc-university-of-southampton/lamost-mamba-test/runs/q4xuw46q' target=\"_blank\">charmed-resonance-16</a></strong> to <a href='https://wandb.ai/joaoc-university-of-southampton/lamost-mamba-test' target=\"_blank\">Weights & Biases</a> (<a href='https://wandb.me/run' target=\"_blank\">docs</a>)<br/>"
      ],
      "text/plain": [
       "<IPython.core.display.HTML object>"
      ]
     },
     "metadata": {},
     "output_type": "display_data"
    },
    {
     "data": {
      "text/html": [
       " View project at <a href='https://wandb.ai/joaoc-university-of-southampton/lamost-mamba-test' target=\"_blank\">https://wandb.ai/joaoc-university-of-southampton/lamost-mamba-test</a>"
      ],
      "text/plain": [
       "<IPython.core.display.HTML object>"
      ]
     },
     "metadata": {},
     "output_type": "display_data"
    },
    {
     "data": {
      "text/html": [
       " View run at <a href='https://wandb.ai/joaoc-university-of-southampton/lamost-mamba-test/runs/q4xuw46q' target=\"_blank\">https://wandb.ai/joaoc-university-of-southampton/lamost-mamba-test/runs/q4xuw46q</a>"
      ],
      "text/plain": [
       "<IPython.core.display.HTML object>"
      ]
     },
     "metadata": {},
     "output_type": "display_data"
    },
    {
     "name": "stdout",
     "output_type": "stream",
     "text": [
      "StarClassifierMAMBA(\n",
      "  (mamba_layer): Mamba(\n",
      "    (layers): ModuleList(\n",
      "      (0-3): 4 x ResidualBlock(\n",
      "        (mixer): MambaBlock(\n",
      "          (in_proj): Linear(in_features=2048, out_features=8192, bias=False)\n",
      "          (conv1d): Conv1d(4096, 4096, kernel_size=(4,), stride=(1,), padding=(3,), groups=4096)\n",
      "          (x_proj): Linear(in_features=4096, out_features=256, bias=False)\n",
      "          (dt_proj): Linear(in_features=128, out_features=4096, bias=True)\n",
      "          (out_proj): Linear(in_features=4096, out_features=2048, bias=False)\n",
      "        )\n",
      "        (norm): RMSNorm()\n",
      "      )\n",
      "    )\n",
      "  )\n",
      "  (input_projection): Linear(in_features=3748, out_features=2048, bias=True)\n",
      "  (classifier): Sequential(\n",
      "    (0): LayerNorm((2048,), eps=1e-05, elementwise_affine=True)\n",
      "    (1): Linear(in_features=2048, out_features=4, bias=True)\n",
      "  )\n",
      ")\n",
      "mamba_layer.layers.0.mixer.A_log 262144\n",
      "mamba_layer.layers.0.mixer.D 4096\n",
      "mamba_layer.layers.0.mixer.in_proj.weight 16777216\n",
      "mamba_layer.layers.0.mixer.conv1d.weight 16384\n",
      "mamba_layer.layers.0.mixer.conv1d.bias 4096\n",
      "mamba_layer.layers.0.mixer.x_proj.weight 1048576\n",
      "mamba_layer.layers.0.mixer.dt_proj.weight 524288\n",
      "mamba_layer.layers.0.mixer.dt_proj.bias 4096\n",
      "mamba_layer.layers.0.mixer.out_proj.weight 8388608\n",
      "mamba_layer.layers.0.norm.weight 2048\n",
      "mamba_layer.layers.1.mixer.A_log 262144\n",
      "mamba_layer.layers.1.mixer.D 4096\n",
      "mamba_layer.layers.1.mixer.in_proj.weight 16777216\n",
      "mamba_layer.layers.1.mixer.conv1d.weight 16384\n",
      "mamba_layer.layers.1.mixer.conv1d.bias 4096\n",
      "mamba_layer.layers.1.mixer.x_proj.weight 1048576\n",
      "mamba_layer.layers.1.mixer.dt_proj.weight 524288\n",
      "mamba_layer.layers.1.mixer.dt_proj.bias 4096\n",
      "mamba_layer.layers.1.mixer.out_proj.weight 8388608\n",
      "mamba_layer.layers.1.norm.weight 2048\n",
      "mamba_layer.layers.2.mixer.A_log 262144\n",
      "mamba_layer.layers.2.mixer.D 4096\n",
      "mamba_layer.layers.2.mixer.in_proj.weight 16777216\n",
      "mamba_layer.layers.2.mixer.conv1d.weight 16384\n",
      "mamba_layer.layers.2.mixer.conv1d.bias 4096\n",
      "mamba_layer.layers.2.mixer.x_proj.weight 1048576\n",
      "mamba_layer.layers.2.mixer.dt_proj.weight 524288\n",
      "mamba_layer.layers.2.mixer.dt_proj.bias 4096\n",
      "mamba_layer.layers.2.mixer.out_proj.weight 8388608\n",
      "mamba_layer.layers.2.norm.weight 2048\n",
      "mamba_layer.layers.3.mixer.A_log 262144\n",
      "mamba_layer.layers.3.mixer.D 4096\n",
      "mamba_layer.layers.3.mixer.in_proj.weight 16777216\n",
      "mamba_layer.layers.3.mixer.conv1d.weight 16384\n",
      "mamba_layer.layers.3.mixer.conv1d.bias 4096\n",
      "mamba_layer.layers.3.mixer.x_proj.weight 1048576\n",
      "mamba_layer.layers.3.mixer.dt_proj.weight 524288\n",
      "mamba_layer.layers.3.mixer.dt_proj.bias 4096\n",
      "mamba_layer.layers.3.mixer.out_proj.weight 8388608\n",
      "mamba_layer.layers.3.norm.weight 2048\n",
      "input_projection.weight 7675904\n",
      "input_projection.bias 2048\n",
      "classifier.0.weight 2048\n",
      "classifier.0.bias 2048\n",
      "classifier.1.weight 8192\n",
      "classifier.1.bias 4\n",
      "Total number of parameters: 115816452\n"
     ]
    },
    {
     "name": "stderr",
     "output_type": "stream",
     "text": [
      "C:\\Users\\jcwin\\AppData\\Local\\Packages\\PythonSoftwareFoundation.Python.3.11_qbz5n2kfra8p0\\LocalCache\\local-packages\\Python311\\site-packages\\torch\\optim\\lr_scheduler.py:60: UserWarning: The verbose parameter is deprecated. Please use get_last_lr() to access the learning rate.\n",
      "  warnings.warn(\n"
     ]
    },
    {
     "name": "stdout",
     "output_type": "stream",
     "text": [
      "Early stopping triggered.\n"
     ]
    },
    {
     "data": {
      "text/html": [
       "<style>\n",
       "    table.wandb td:nth-child(1) { padding: 0 10px; text-align: left ; width: auto;} td:nth-child(2) {text-align: left ; width: 100%}\n",
       "    .wandb-row { display: flex; flex-direction: row; flex-wrap: wrap; justify-content: flex-start; width: 100% }\n",
       "    .wandb-col { display: flex; flex-direction: column; flex-basis: 100%; flex: 1; padding: 10px; }\n",
       "    </style>\n",
       "<div class=\"wandb-row\"><div class=\"wandb-col\"><h3>Run history:</h3><br/><table class=\"wandb\"><tr><td>epoch</td><td>▁▁▁▂▂▂▂▂▃▃▃▃▃▃▃▄▄▄▄▄▄▄▄▅▅▅▆▆▆▆▇▇▇▇▇█████</td></tr><tr><td>learning_rate</td><td>████████████████████████████████▄▄▄▂▂▁▁▁</td></tr><tr><td>test_accuracy</td><td>▁▆▆▆▇▇▇▇▇▇▇▇▇▇▇▇▇▇▇▇▇▇▇▇▇▇▇▇█▇██████████</td></tr><tr><td>test_loss</td><td>█▆▆▅▄▄▃▃▃▃▂▂▂▂▂▁▁▁▁▁▁▁▁▁▁▁▁▁▁▁▁▁▁▁▁▁▁▁▁▁</td></tr><tr><td>train_accuracy</td><td>▁▂▄▅▅▅▆▆▆▆▆▆▇▇▇▇▇▇▇▇▇▇█▇████████████████</td></tr><tr><td>train_loss</td><td>█▇▆▅▅▄▃▃▃▃▃▂▂▂▂▂▂▂▂▂▂▂▂▁▁▁▁▁▁▁▁▁▁▁▁▁▁▁▁▁</td></tr><tr><td>val_accuracy</td><td>▁▃▅▅▅▆▆▇▇▇▇▇▇▇▇▇▇▇█▇████████████████████</td></tr><tr><td>val_loss</td><td>█▅▄▄▄▃▃▂▂▂▁▁▁▁▁▁▁▁▁▁▁▁▁▁▁▁▁▁▁▁▁▁▁▁▁▁▁▁▁▁</td></tr></table><br/></div><div class=\"wandb-col\"><h3>Run summary:</h3><br/><table class=\"wandb\"><tr><td>classification_report</td><td>              precis...</td></tr><tr><td>epoch</td><td>444</td></tr><tr><td>learning_rate</td><td>0.0</td></tr><tr><td>test_accuracy</td><td>0.7625</td></tr><tr><td>test_loss</td><td>0.54717</td></tr><tr><td>train_accuracy</td><td>0.79338</td></tr><tr><td>train_loss</td><td>0.453</td></tr><tr><td>val_accuracy</td><td>0.7381</td></tr><tr><td>val_loss</td><td>0.56533</td></tr></table><br/></div></div>"
      ],
      "text/plain": [
       "<IPython.core.display.HTML object>"
      ]
     },
     "metadata": {},
     "output_type": "display_data"
    },
    {
     "data": {
      "text/html": [
       " View run <strong style=\"color:#cdcd00\">charmed-resonance-16</strong> at: <a href='https://wandb.ai/joaoc-university-of-southampton/lamost-mamba-test/runs/q4xuw46q' target=\"_blank\">https://wandb.ai/joaoc-university-of-southampton/lamost-mamba-test/runs/q4xuw46q</a><br/> View project at: <a href='https://wandb.ai/joaoc-university-of-southampton/lamost-mamba-test' target=\"_blank\">https://wandb.ai/joaoc-university-of-southampton/lamost-mamba-test</a><br/>Synced 5 W&B file(s), 0 media file(s), 870 artifact file(s) and 445 other file(s)"
      ],
      "text/plain": [
       "<IPython.core.display.HTML object>"
      ]
     },
     "metadata": {},
     "output_type": "display_data"
    },
    {
     "data": {
      "text/html": [
       "Find logs at: <code>.\\wandb\\run-20241127_225905-q4xuw46q\\logs</code>"
      ],
      "text/plain": [
       "<IPython.core.display.HTML object>"
      ]
     },
     "metadata": {},
     "output_type": "display_data"
    }
   ],
   "source": [
    "# Define the model with your parameters\n",
    "d_model = 2048 # Embedding dimension\n",
    "num_classes = 4  # Star classification categories\n",
    "\n",
    "# Define the training parameters\n",
    "num_epochs = 500\n",
    "lr = 2e-7\n",
    "patience = 50   \n",
    "depth = 4\n",
    "\n",
    "# Define the config dictionary object\n",
    "config = {\"num_classes\": num_classes, \"batch_size\": batch_size, \"lr\": lr, \"patience\": patience, \"num_epochs\": num_epochs, \"d_model\": d_model, \"depth\": depth}\n",
    "\n",
    "# Initialize WandB project\n",
    "wandb.init(project=\"lamost-mamba-test\", entity=\"joaoc-university-of-southampton\", config=config)\n",
    "# Initialize and train the model\n",
    "# Train the model using your `train_model_vit` or an adjusted training loop\n",
    "model_mamba = StarClassifierMAMBA(d_model=d_model, num_classes=num_classes, input_dim=3748, n_layers=depth)\n",
    "print(model_mamba)\n",
    "# print number of parameters per layer\n",
    "for name, param in model_mamba.named_parameters():\n",
    "    print(name, param.numel())\n",
    "print(\"Total number of parameters:\", sum(p.numel() for p in model_mamba.parameters() if p.requires_grad))\n",
    "\n",
    "# Move the model to device\n",
    "device = 'cuda' if torch.cuda.is_available() else 'cpu'\n",
    "model_mamba = model_mamba.to(device)\n",
    "\n",
    "# Train the model using your `train_model_vit` or an adjusted training loop\n",
    "trained_model = train_model_mamba(\n",
    "    model=model_mamba,\n",
    "    train_loader=train_loader,\n",
    "    val_loader=val_loader,\n",
    "    test_loader=test_loader,\n",
    "    num_epochs=num_epochs,\n",
    "    lr=lr,\n",
    "    max_patience=patience,\n",
    "    device=device\n",
    ")\n",
    "# Save the model and finish WandB session\n",
    "wandb.finish()"
   ]
  },
  {
   "cell_type": "code",
   "execution_count": 10,
   "metadata": {},
   "outputs": [
    {
     "data": {
      "text/html": [
       "Tracking run with wandb version 0.18.5"
      ],
      "text/plain": [
       "<IPython.core.display.HTML object>"
      ]
     },
     "metadata": {},
     "output_type": "display_data"
    },
    {
     "data": {
      "text/html": [
       "Run data is saved locally in <code>c:\\Users\\jcwin\\OneDrive - University of Southampton\\_Southampton\\2024-25\\Star-Classifier\\wandb\\run-20241128_002638-2bkei7jc</code>"
      ],
      "text/plain": [
       "<IPython.core.display.HTML object>"
      ]
     },
     "metadata": {},
     "output_type": "display_data"
    },
    {
     "data": {
      "text/html": [
       "Syncing run <strong><a href='https://wandb.ai/joaoc-university-of-southampton/lamost-mamba-test/runs/2bkei7jc' target=\"_blank\">fluent-serenity-17</a></strong> to <a href='https://wandb.ai/joaoc-university-of-southampton/lamost-mamba-test' target=\"_blank\">Weights & Biases</a> (<a href='https://wandb.me/run' target=\"_blank\">docs</a>)<br/>"
      ],
      "text/plain": [
       "<IPython.core.display.HTML object>"
      ]
     },
     "metadata": {},
     "output_type": "display_data"
    },
    {
     "data": {
      "text/html": [
       " View project at <a href='https://wandb.ai/joaoc-university-of-southampton/lamost-mamba-test' target=\"_blank\">https://wandb.ai/joaoc-university-of-southampton/lamost-mamba-test</a>"
      ],
      "text/plain": [
       "<IPython.core.display.HTML object>"
      ]
     },
     "metadata": {},
     "output_type": "display_data"
    },
    {
     "data": {
      "text/html": [
       " View run at <a href='https://wandb.ai/joaoc-university-of-southampton/lamost-mamba-test/runs/2bkei7jc' target=\"_blank\">https://wandb.ai/joaoc-university-of-southampton/lamost-mamba-test/runs/2bkei7jc</a>"
      ],
      "text/plain": [
       "<IPython.core.display.HTML object>"
      ]
     },
     "metadata": {},
     "output_type": "display_data"
    },
    {
     "name": "stdout",
     "output_type": "stream",
     "text": [
      "StarClassifierMAMBA(\n",
      "  (mamba_layer): Mamba(\n",
      "    (layers): ModuleList(\n",
      "      (0-9): 10 x ResidualBlock(\n",
      "        (mixer): MambaBlock(\n",
      "          (in_proj): Linear(in_features=2048, out_features=8192, bias=False)\n",
      "          (conv1d): Conv1d(4096, 4096, kernel_size=(4,), stride=(1,), padding=(3,), groups=4096)\n",
      "          (x_proj): Linear(in_features=4096, out_features=256, bias=False)\n",
      "          (dt_proj): Linear(in_features=128, out_features=4096, bias=True)\n",
      "          (out_proj): Linear(in_features=4096, out_features=2048, bias=False)\n",
      "        )\n",
      "        (norm): RMSNorm()\n",
      "      )\n",
      "    )\n",
      "  )\n",
      "  (input_projection): Linear(in_features=3748, out_features=2048, bias=True)\n",
      "  (classifier): Sequential(\n",
      "    (0): LayerNorm((2048,), eps=1e-05, elementwise_affine=True)\n",
      "    (1): Linear(in_features=2048, out_features=4, bias=True)\n",
      "  )\n",
      ")\n",
      "mamba_layer.layers.0.mixer.A_log 262144\n",
      "mamba_layer.layers.0.mixer.D 4096\n",
      "mamba_layer.layers.0.mixer.in_proj.weight 16777216\n",
      "mamba_layer.layers.0.mixer.conv1d.weight 16384\n",
      "mamba_layer.layers.0.mixer.conv1d.bias 4096\n",
      "mamba_layer.layers.0.mixer.x_proj.weight 1048576\n",
      "mamba_layer.layers.0.mixer.dt_proj.weight 524288\n",
      "mamba_layer.layers.0.mixer.dt_proj.bias 4096\n",
      "mamba_layer.layers.0.mixer.out_proj.weight 8388608\n",
      "mamba_layer.layers.0.norm.weight 2048\n",
      "mamba_layer.layers.1.mixer.A_log 262144\n",
      "mamba_layer.layers.1.mixer.D 4096\n",
      "mamba_layer.layers.1.mixer.in_proj.weight 16777216\n",
      "mamba_layer.layers.1.mixer.conv1d.weight 16384\n",
      "mamba_layer.layers.1.mixer.conv1d.bias 4096\n",
      "mamba_layer.layers.1.mixer.x_proj.weight 1048576\n",
      "mamba_layer.layers.1.mixer.dt_proj.weight 524288\n",
      "mamba_layer.layers.1.mixer.dt_proj.bias 4096\n",
      "mamba_layer.layers.1.mixer.out_proj.weight 8388608\n",
      "mamba_layer.layers.1.norm.weight 2048\n",
      "mamba_layer.layers.2.mixer.A_log 262144\n",
      "mamba_layer.layers.2.mixer.D 4096\n",
      "mamba_layer.layers.2.mixer.in_proj.weight 16777216\n",
      "mamba_layer.layers.2.mixer.conv1d.weight 16384\n",
      "mamba_layer.layers.2.mixer.conv1d.bias 4096\n",
      "mamba_layer.layers.2.mixer.x_proj.weight 1048576\n",
      "mamba_layer.layers.2.mixer.dt_proj.weight 524288\n",
      "mamba_layer.layers.2.mixer.dt_proj.bias 4096\n",
      "mamba_layer.layers.2.mixer.out_proj.weight 8388608\n",
      "mamba_layer.layers.2.norm.weight 2048\n",
      "mamba_layer.layers.3.mixer.A_log 262144\n",
      "mamba_layer.layers.3.mixer.D 4096\n",
      "mamba_layer.layers.3.mixer.in_proj.weight 16777216\n",
      "mamba_layer.layers.3.mixer.conv1d.weight 16384\n",
      "mamba_layer.layers.3.mixer.conv1d.bias 4096\n",
      "mamba_layer.layers.3.mixer.x_proj.weight 1048576\n",
      "mamba_layer.layers.3.mixer.dt_proj.weight 524288\n",
      "mamba_layer.layers.3.mixer.dt_proj.bias 4096\n",
      "mamba_layer.layers.3.mixer.out_proj.weight 8388608\n",
      "mamba_layer.layers.3.norm.weight 2048\n",
      "mamba_layer.layers.4.mixer.A_log 262144\n",
      "mamba_layer.layers.4.mixer.D 4096\n",
      "mamba_layer.layers.4.mixer.in_proj.weight 16777216\n",
      "mamba_layer.layers.4.mixer.conv1d.weight 16384\n",
      "mamba_layer.layers.4.mixer.conv1d.bias 4096\n",
      "mamba_layer.layers.4.mixer.x_proj.weight 1048576\n",
      "mamba_layer.layers.4.mixer.dt_proj.weight 524288\n",
      "mamba_layer.layers.4.mixer.dt_proj.bias 4096\n",
      "mamba_layer.layers.4.mixer.out_proj.weight 8388608\n",
      "mamba_layer.layers.4.norm.weight 2048\n",
      "mamba_layer.layers.5.mixer.A_log 262144\n",
      "mamba_layer.layers.5.mixer.D 4096\n",
      "mamba_layer.layers.5.mixer.in_proj.weight 16777216\n",
      "mamba_layer.layers.5.mixer.conv1d.weight 16384\n",
      "mamba_layer.layers.5.mixer.conv1d.bias 4096\n",
      "mamba_layer.layers.5.mixer.x_proj.weight 1048576\n",
      "mamba_layer.layers.5.mixer.dt_proj.weight 524288\n",
      "mamba_layer.layers.5.mixer.dt_proj.bias 4096\n",
      "mamba_layer.layers.5.mixer.out_proj.weight 8388608\n",
      "mamba_layer.layers.5.norm.weight 2048\n",
      "mamba_layer.layers.6.mixer.A_log 262144\n",
      "mamba_layer.layers.6.mixer.D 4096\n",
      "mamba_layer.layers.6.mixer.in_proj.weight 16777216\n",
      "mamba_layer.layers.6.mixer.conv1d.weight 16384\n",
      "mamba_layer.layers.6.mixer.conv1d.bias 4096\n",
      "mamba_layer.layers.6.mixer.x_proj.weight 1048576\n",
      "mamba_layer.layers.6.mixer.dt_proj.weight 524288\n",
      "mamba_layer.layers.6.mixer.dt_proj.bias 4096\n",
      "mamba_layer.layers.6.mixer.out_proj.weight 8388608\n",
      "mamba_layer.layers.6.norm.weight 2048\n",
      "mamba_layer.layers.7.mixer.A_log 262144\n",
      "mamba_layer.layers.7.mixer.D 4096\n",
      "mamba_layer.layers.7.mixer.in_proj.weight 16777216\n",
      "mamba_layer.layers.7.mixer.conv1d.weight 16384\n",
      "mamba_layer.layers.7.mixer.conv1d.bias 4096\n",
      "mamba_layer.layers.7.mixer.x_proj.weight 1048576\n",
      "mamba_layer.layers.7.mixer.dt_proj.weight 524288\n",
      "mamba_layer.layers.7.mixer.dt_proj.bias 4096\n",
      "mamba_layer.layers.7.mixer.out_proj.weight 8388608\n",
      "mamba_layer.layers.7.norm.weight 2048\n",
      "mamba_layer.layers.8.mixer.A_log 262144\n",
      "mamba_layer.layers.8.mixer.D 4096\n",
      "mamba_layer.layers.8.mixer.in_proj.weight 16777216\n",
      "mamba_layer.layers.8.mixer.conv1d.weight 16384\n",
      "mamba_layer.layers.8.mixer.conv1d.bias 4096\n",
      "mamba_layer.layers.8.mixer.x_proj.weight 1048576\n",
      "mamba_layer.layers.8.mixer.dt_proj.weight 524288\n",
      "mamba_layer.layers.8.mixer.dt_proj.bias 4096\n",
      "mamba_layer.layers.8.mixer.out_proj.weight 8388608\n",
      "mamba_layer.layers.8.norm.weight 2048\n",
      "mamba_layer.layers.9.mixer.A_log 262144\n",
      "mamba_layer.layers.9.mixer.D 4096\n",
      "mamba_layer.layers.9.mixer.in_proj.weight 16777216\n",
      "mamba_layer.layers.9.mixer.conv1d.weight 16384\n",
      "mamba_layer.layers.9.mixer.conv1d.bias 4096\n",
      "mamba_layer.layers.9.mixer.x_proj.weight 1048576\n",
      "mamba_layer.layers.9.mixer.dt_proj.weight 524288\n",
      "mamba_layer.layers.9.mixer.dt_proj.bias 4096\n",
      "mamba_layer.layers.9.mixer.out_proj.weight 8388608\n",
      "mamba_layer.layers.9.norm.weight 2048\n",
      "input_projection.weight 7675904\n",
      "input_projection.bias 2048\n",
      "classifier.0.weight 2048\n",
      "classifier.0.bias 2048\n",
      "classifier.1.weight 8192\n",
      "classifier.1.bias 4\n",
      "Total number of parameters: 278005764\n"
     ]
    },
    {
     "name": "stderr",
     "output_type": "stream",
     "text": [
      "C:\\Users\\jcwin\\AppData\\Local\\Packages\\PythonSoftwareFoundation.Python.3.11_qbz5n2kfra8p0\\LocalCache\\local-packages\\Python311\\site-packages\\torch\\optim\\lr_scheduler.py:60: UserWarning: The verbose parameter is deprecated. Please use get_last_lr() to access the learning rate.\n",
      "  warnings.warn(\n"
     ]
    },
    {
     "name": "stdout",
     "output_type": "stream",
     "text": [
      "Early stopping triggered.\n"
     ]
    },
    {
     "data": {
      "application/vnd.jupyter.widget-view+json": {
       "model_id": "d8df852f6206470cb10617b631947ca2",
       "version_major": 2,
       "version_minor": 0
      },
      "text/plain": [
       "VBox(children=(Label(value='0.438 MB of 0.438 MB uploaded\\r'), FloatProgress(value=1.0, max=1.0)))"
      ]
     },
     "metadata": {},
     "output_type": "display_data"
    },
    {
     "data": {
      "text/html": [
       "<style>\n",
       "    table.wandb td:nth-child(1) { padding: 0 10px; text-align: left ; width: auto;} td:nth-child(2) {text-align: left ; width: 100%}\n",
       "    .wandb-row { display: flex; flex-direction: row; flex-wrap: wrap; justify-content: flex-start; width: 100% }\n",
       "    .wandb-col { display: flex; flex-direction: column; flex-basis: 100%; flex: 1; padding: 10px; }\n",
       "    </style>\n",
       "<div class=\"wandb-row\"><div class=\"wandb-col\"><h3>Run history:</h3><br/><table class=\"wandb\"><tr><td>epoch</td><td>▁▁▁▁▁▁▁▂▂▂▂▂▂▂▃▃▃▃▄▄▄▄▄▄▅▅▅▅▅▆▆▆▇▇▇▇████</td></tr><tr><td>learning_rate</td><td>███████████████████████████████████▃▃▃▁▁</td></tr><tr><td>test_accuracy</td><td>▁▂▄▅▆▆▆▆▆▆▇▇▇▇▇▇▇▇█▇▇█▇▇███▇███▇████████</td></tr><tr><td>test_loss</td><td>█▇▆▆▅▃▃▃▃▂▂▂▂▂▂▁▁▁▁▁▁▁▁▁▁▁▁▁▁▁▁▁▁▁▁▁▁▁▁▁</td></tr><tr><td>train_accuracy</td><td>▁▅▆▆▇▆▇▇▇▇▇▇▇▇▇▇▇▇▇▇▇▇▇▇▇███████████████</td></tr><tr><td>train_loss</td><td>█▇▆▅▅▄▄▃▃▃▃▂▂▂▂▂▂▂▂▂▂▂▂▂▂▁▁▁▁▁▁▁▁▁▁▁▁▁▁▁</td></tr><tr><td>val_accuracy</td><td>▁▂▂▅▅▇▇▇▇▇▇▇▇▇▇▇▇▇▇▇████████████████████</td></tr><tr><td>val_loss</td><td>█▇▅▄▄▂▂▂▂▁▁▁▁▁▁▁▁▁▁▁▁▁▁▁▁▁▁▁▁▁▁▁▁▁▁▁▁▁▁▁</td></tr></table><br/></div><div class=\"wandb-col\"><h3>Run summary:</h3><br/><table class=\"wandb\"><tr><td>classification_report</td><td>              precis...</td></tr><tr><td>epoch</td><td>321</td></tr><tr><td>learning_rate</td><td>0.0</td></tr><tr><td>test_accuracy</td><td>0.76496</td></tr><tr><td>test_loss</td><td>0.56053</td></tr><tr><td>train_accuracy</td><td>0.79689</td></tr><tr><td>train_loss</td><td>0.44989</td></tr><tr><td>val_accuracy</td><td>0.74396</td></tr><tr><td>val_loss</td><td>0.57359</td></tr></table><br/></div></div>"
      ],
      "text/plain": [
       "<IPython.core.display.HTML object>"
      ]
     },
     "metadata": {},
     "output_type": "display_data"
    },
    {
     "data": {
      "text/html": [
       " View run <strong style=\"color:#cdcd00\">fluent-serenity-17</strong> at: <a href='https://wandb.ai/joaoc-university-of-southampton/lamost-mamba-test/runs/2bkei7jc' target=\"_blank\">https://wandb.ai/joaoc-university-of-southampton/lamost-mamba-test/runs/2bkei7jc</a><br/> View project at: <a href='https://wandb.ai/joaoc-university-of-southampton/lamost-mamba-test' target=\"_blank\">https://wandb.ai/joaoc-university-of-southampton/lamost-mamba-test</a><br/>Synced 5 W&B file(s), 0 media file(s), 644 artifact file(s) and 322 other file(s)"
      ],
      "text/plain": [
       "<IPython.core.display.HTML object>"
      ]
     },
     "metadata": {},
     "output_type": "display_data"
    },
    {
     "data": {
      "text/html": [
       "Find logs at: <code>.\\wandb\\run-20241128_002638-2bkei7jc\\logs</code>"
      ],
      "text/plain": [
       "<IPython.core.display.HTML object>"
      ]
     },
     "metadata": {},
     "output_type": "display_data"
    }
   ],
   "source": [
    "# Define the model with your parameters\n",
    "d_model = 2048 # Embedding dimension\n",
    "num_classes = 4  # Star classification categories\n",
    "\n",
    "# Define the training parameters\n",
    "num_epochs = 500\n",
    "lr = 2e-7\n",
    "patience = 50   \n",
    "depth = 10\n",
    "\n",
    "# Define the config dictionary object\n",
    "config = {\"num_classes\": num_classes, \"batch_size\": batch_size, \"lr\": lr, \"patience\": patience, \"num_epochs\": num_epochs, \"d_model\": d_model, \"depth\": depth}\n",
    "\n",
    "# Initialize WandB project\n",
    "wandb.init(project=\"lamost-mamba-test\", entity=\"joaoc-university-of-southampton\", config=config)\n",
    "# Initialize and train the model\n",
    "# Train the model using your `train_model_vit` or an adjusted training loop\n",
    "model_mamba = StarClassifierMAMBA(d_model=d_model, num_classes=num_classes, input_dim=3748, n_layers=depth)\n",
    "print(model_mamba)\n",
    "# print number of parameters per layer\n",
    "for name, param in model_mamba.named_parameters():\n",
    "    print(name, param.numel())\n",
    "print(\"Total number of parameters:\", sum(p.numel() for p in model_mamba.parameters() if p.requires_grad))\n",
    "\n",
    "# Move the model to device\n",
    "device = 'cuda' if torch.cuda.is_available() else 'cpu'\n",
    "model_mamba = model_mamba.to(device)\n",
    "\n",
    "# Train the model using your `train_model_vit` or an adjusted training loop\n",
    "trained_model = train_model_mamba(\n",
    "    model=model_mamba,\n",
    "    train_loader=train_loader,\n",
    "    val_loader=val_loader,\n",
    "    test_loader=test_loader,\n",
    "    num_epochs=num_epochs,\n",
    "    lr=lr,\n",
    "    max_patience=patience,\n",
    "    device=device\n",
    ")\n",
    "# Save the model and finish WandB session\n",
    "wandb.finish()"
   ]
  },
  {
   "cell_type": "code",
   "execution_count": 11,
   "metadata": {},
   "outputs": [
    {
     "data": {
      "text/html": [
       "Tracking run with wandb version 0.18.5"
      ],
      "text/plain": [
       "<IPython.core.display.HTML object>"
      ]
     },
     "metadata": {},
     "output_type": "display_data"
    },
    {
     "data": {
      "text/html": [
       "Run data is saved locally in <code>c:\\Users\\jcwin\\OneDrive - University of Southampton\\_Southampton\\2024-25\\Star-Classifier\\wandb\\run-20241127_171419-2ak78df0</code>"
      ],
      "text/plain": [
       "<IPython.core.display.HTML object>"
      ]
     },
     "metadata": {},
     "output_type": "display_data"
    },
    {
     "data": {
      "text/html": [
       "Syncing run <strong><a href='https://wandb.ai/joaoc-university-of-southampton/lamost-mamba-test/runs/2ak78df0' target=\"_blank\">desert-moon-13</a></strong> to <a href='https://wandb.ai/joaoc-university-of-southampton/lamost-mamba-test' target=\"_blank\">Weights & Biases</a> (<a href='https://wandb.me/run' target=\"_blank\">docs</a>)<br/>"
      ],
      "text/plain": [
       "<IPython.core.display.HTML object>"
      ]
     },
     "metadata": {},
     "output_type": "display_data"
    },
    {
     "data": {
      "text/html": [
       " View project at <a href='https://wandb.ai/joaoc-university-of-southampton/lamost-mamba-test' target=\"_blank\">https://wandb.ai/joaoc-university-of-southampton/lamost-mamba-test</a>"
      ],
      "text/plain": [
       "<IPython.core.display.HTML object>"
      ]
     },
     "metadata": {},
     "output_type": "display_data"
    },
    {
     "data": {
      "text/html": [
       " View run at <a href='https://wandb.ai/joaoc-university-of-southampton/lamost-mamba-test/runs/2ak78df0' target=\"_blank\">https://wandb.ai/joaoc-university-of-southampton/lamost-mamba-test/runs/2ak78df0</a>"
      ],
      "text/plain": [
       "<IPython.core.display.HTML object>"
      ]
     },
     "metadata": {},
     "output_type": "display_data"
    },
    {
     "name": "stdout",
     "output_type": "stream",
     "text": [
      "StarClassifierMAMBA(\n",
      "  (mamba_layer): Mamba(\n",
      "    (layers): ModuleList(\n",
      "      (0-5): 6 x ResidualBlock(\n",
      "        (mixer): MambaBlock(\n",
      "          (in_proj): Linear(in_features=256, out_features=1024, bias=False)\n",
      "          (conv1d): Conv1d(512, 512, kernel_size=(4,), stride=(1,), padding=(3,), groups=512)\n",
      "          (x_proj): Linear(in_features=512, out_features=144, bias=False)\n",
      "          (dt_proj): Linear(in_features=16, out_features=512, bias=True)\n",
      "          (out_proj): Linear(in_features=512, out_features=256, bias=False)\n",
      "        )\n",
      "        (norm): RMSNorm()\n",
      "      )\n",
      "    )\n",
      "  )\n",
      "  (input_projection): Linear(in_features=3748, out_features=256, bias=True)\n",
      "  (classifier): Sequential(\n",
      "    (0): LayerNorm((256,), eps=1e-05, elementwise_affine=True)\n",
      "    (1): Linear(in_features=256, out_features=4, bias=True)\n",
      "  )\n",
      ")\n",
      "mamba_layer.layers.0.mixer.A_log 32768\n",
      "mamba_layer.layers.0.mixer.D 512\n",
      "mamba_layer.layers.0.mixer.in_proj.weight 262144\n",
      "mamba_layer.layers.0.mixer.conv1d.weight 2048\n",
      "mamba_layer.layers.0.mixer.conv1d.bias 512\n",
      "mamba_layer.layers.0.mixer.x_proj.weight 73728\n",
      "mamba_layer.layers.0.mixer.dt_proj.weight 8192\n",
      "mamba_layer.layers.0.mixer.dt_proj.bias 512\n",
      "mamba_layer.layers.0.mixer.out_proj.weight 131072\n",
      "mamba_layer.layers.0.norm.weight 256\n",
      "mamba_layer.layers.1.mixer.A_log 32768\n",
      "mamba_layer.layers.1.mixer.D 512\n",
      "mamba_layer.layers.1.mixer.in_proj.weight 262144\n",
      "mamba_layer.layers.1.mixer.conv1d.weight 2048\n",
      "mamba_layer.layers.1.mixer.conv1d.bias 512\n",
      "mamba_layer.layers.1.mixer.x_proj.weight 73728\n",
      "mamba_layer.layers.1.mixer.dt_proj.weight 8192\n",
      "mamba_layer.layers.1.mixer.dt_proj.bias 512\n",
      "mamba_layer.layers.1.mixer.out_proj.weight 131072\n",
      "mamba_layer.layers.1.norm.weight 256\n",
      "mamba_layer.layers.2.mixer.A_log 32768\n",
      "mamba_layer.layers.2.mixer.D 512\n",
      "mamba_layer.layers.2.mixer.in_proj.weight 262144\n",
      "mamba_layer.layers.2.mixer.conv1d.weight 2048\n",
      "mamba_layer.layers.2.mixer.conv1d.bias 512\n",
      "mamba_layer.layers.2.mixer.x_proj.weight 73728\n",
      "mamba_layer.layers.2.mixer.dt_proj.weight 8192\n",
      "mamba_layer.layers.2.mixer.dt_proj.bias 512\n",
      "mamba_layer.layers.2.mixer.out_proj.weight 131072\n",
      "mamba_layer.layers.2.norm.weight 256\n",
      "mamba_layer.layers.3.mixer.A_log 32768\n",
      "mamba_layer.layers.3.mixer.D 512\n",
      "mamba_layer.layers.3.mixer.in_proj.weight 262144\n",
      "mamba_layer.layers.3.mixer.conv1d.weight 2048\n",
      "mamba_layer.layers.3.mixer.conv1d.bias 512\n",
      "mamba_layer.layers.3.mixer.x_proj.weight 73728\n",
      "mamba_layer.layers.3.mixer.dt_proj.weight 8192\n",
      "mamba_layer.layers.3.mixer.dt_proj.bias 512\n",
      "mamba_layer.layers.3.mixer.out_proj.weight 131072\n",
      "mamba_layer.layers.3.norm.weight 256\n",
      "mamba_layer.layers.4.mixer.A_log 32768\n",
      "mamba_layer.layers.4.mixer.D 512\n",
      "mamba_layer.layers.4.mixer.in_proj.weight 262144\n",
      "mamba_layer.layers.4.mixer.conv1d.weight 2048\n",
      "mamba_layer.layers.4.mixer.conv1d.bias 512\n",
      "mamba_layer.layers.4.mixer.x_proj.weight 73728\n",
      "mamba_layer.layers.4.mixer.dt_proj.weight 8192\n",
      "mamba_layer.layers.4.mixer.dt_proj.bias 512\n",
      "mamba_layer.layers.4.mixer.out_proj.weight 131072\n",
      "mamba_layer.layers.4.norm.weight 256\n",
      "mamba_layer.layers.5.mixer.A_log 32768\n",
      "mamba_layer.layers.5.mixer.D 512\n",
      "mamba_layer.layers.5.mixer.in_proj.weight 262144\n",
      "mamba_layer.layers.5.mixer.conv1d.weight 2048\n",
      "mamba_layer.layers.5.mixer.conv1d.bias 512\n",
      "mamba_layer.layers.5.mixer.x_proj.weight 73728\n",
      "mamba_layer.layers.5.mixer.dt_proj.weight 8192\n",
      "mamba_layer.layers.5.mixer.dt_proj.bias 512\n",
      "mamba_layer.layers.5.mixer.out_proj.weight 131072\n",
      "mamba_layer.layers.5.norm.weight 256\n",
      "input_projection.weight 959488\n",
      "input_projection.bias 256\n",
      "classifier.0.weight 256\n",
      "classifier.0.bias 256\n",
      "classifier.1.weight 1024\n",
      "classifier.1.bias 4\n",
      "Total number of parameters: 4031748\n"
     ]
    },
    {
     "name": "stderr",
     "output_type": "stream",
     "text": [
      "C:\\Users\\jcwin\\AppData\\Local\\Packages\\PythonSoftwareFoundation.Python.3.11_qbz5n2kfra8p0\\LocalCache\\local-packages\\Python311\\site-packages\\torch\\optim\\lr_scheduler.py:60: UserWarning: The verbose parameter is deprecated. Please use get_last_lr() to access the learning rate.\n",
      "  warnings.warn(\n"
     ]
    },
    {
     "name": "stdout",
     "output_type": "stream",
     "text": [
      "Early stopping triggered.\n"
     ]
    },
    {
     "data": {
      "application/vnd.jupyter.widget-view+json": {
       "model_id": "0b24588e2a3e4fd592b8a3b517616650",
       "version_major": 2,
       "version_minor": 0
      },
      "text/plain": [
       "VBox(children=(Label(value='0.104 MB of 0.104 MB uploaded\\r'), FloatProgress(value=1.0, max=1.0)))"
      ]
     },
     "metadata": {},
     "output_type": "display_data"
    },
    {
     "data": {
      "text/html": [
       "<style>\n",
       "    table.wandb td:nth-child(1) { padding: 0 10px; text-align: left ; width: auto;} td:nth-child(2) {text-align: left ; width: 100%}\n",
       "    .wandb-row { display: flex; flex-direction: row; flex-wrap: wrap; justify-content: flex-start; width: 100% }\n",
       "    .wandb-col { display: flex; flex-direction: column; flex-basis: 100%; flex: 1; padding: 10px; }\n",
       "    </style>\n",
       "<div class=\"wandb-row\"><div class=\"wandb-col\"><h3>Run history:</h3><br/><table class=\"wandb\"><tr><td>epoch</td><td>▁▁▂▂▂▂▂▃▃▃▃▃▄▄▄▄▄▄▅▅▅▅▅▅▆▆▆▆▆▆▇▇▇▇▇▇████</td></tr><tr><td>learning_rate</td><td>██████████████████████████████▃▃▃▃▃▁▁▁▁▁</td></tr><tr><td>test_accuracy</td><td>▁▃▅▆▅▆▆▆▇▆▆▇▇▇▇▇▇▇▇▇▇▇█▇▇▇▇▇█▇▇▇▇▇▇▇▇▇▇▇</td></tr><tr><td>test_loss</td><td>█▆▅▄▄▃▃▂▂▂▂▂▂▁▁▁▁▁▁▁▁▁▁▁▁▁▁▁▁▁▂▁▁▁▁▂▂▂▂▂</td></tr><tr><td>train_accuracy</td><td>▁▄▅▅▅▆▆▆▆▆▇▇▇▇▇▇▇▇▇▇▇▇▇▇▇▇▇▇▇▇██████████</td></tr><tr><td>train_loss</td><td>█▆▅▄▄▃▃▃▂▂▂▂▂▂▂▂▂▂▂▂▂▂▂▂▂▂▁▁▁▁▁▁▁▁▁▁▁▁▁▁</td></tr><tr><td>val_accuracy</td><td>▁▃▄▅▆▆▆▆▇▇▇▇▇▇▇██▇███████▇▇█▇███▇▇▇▇▇▇▇▇</td></tr><tr><td>val_loss</td><td>█▇▆▅▄▃▃▃▃▂▂▂▂▂▁▁▁▁▁▁▁▁▁▁▁▁▁▁▁▁▁▁▁▂▁▂▂▂▂▂</td></tr></table><br/></div><div class=\"wandb-col\"><h3>Run summary:</h3><br/><table class=\"wandb\"><tr><td>classification_report</td><td>              precis...</td></tr><tr><td>epoch</td><td>80</td></tr><tr><td>learning_rate</td><td>0.0</td></tr><tr><td>test_accuracy</td><td>0.72913</td></tr><tr><td>test_loss</td><td>0.60375</td></tr><tr><td>train_accuracy</td><td>0.81059</td></tr><tr><td>train_loss</td><td>0.40147</td></tr><tr><td>val_accuracy</td><td>0.73813</td></tr><tr><td>val_loss</td><td>0.60615</td></tr></table><br/></div></div>"
      ],
      "text/plain": [
       "<IPython.core.display.HTML object>"
      ]
     },
     "metadata": {},
     "output_type": "display_data"
    },
    {
     "data": {
      "text/html": [
       " View run <strong style=\"color:#cdcd00\">desert-moon-13</strong> at: <a href='https://wandb.ai/joaoc-university-of-southampton/lamost-mamba-test/runs/2ak78df0' target=\"_blank\">https://wandb.ai/joaoc-university-of-southampton/lamost-mamba-test/runs/2ak78df0</a><br/> View project at: <a href='https://wandb.ai/joaoc-university-of-southampton/lamost-mamba-test' target=\"_blank\">https://wandb.ai/joaoc-university-of-southampton/lamost-mamba-test</a><br/>Synced 5 W&B file(s), 0 media file(s), 162 artifact file(s) and 81 other file(s)"
      ],
      "text/plain": [
       "<IPython.core.display.HTML object>"
      ]
     },
     "metadata": {},
     "output_type": "display_data"
    },
    {
     "data": {
      "text/html": [
       "Find logs at: <code>.\\wandb\\run-20241127_171419-2ak78df0\\logs</code>"
      ],
      "text/plain": [
       "<IPython.core.display.HTML object>"
      ]
     },
     "metadata": {},
     "output_type": "display_data"
    }
   ],
   "source": [
    "# Define the model with your parameters\n",
    "d_model = 256 # Embedding dimension\n",
    "num_classes = 4  # Star classification categories\n",
    "\n",
    "# Define the training parameters\n",
    "num_epochs = 500\n",
    "lr = 1e-5\n",
    "patience = 30   \n",
    "depth = 6\n",
    "\n",
    "# Define the config dictionary object\n",
    "config = {\"num_classes\": num_classes, \"batch_size\": batch_size, \"lr\": lr, \"patience\": patience, \"num_epochs\": num_epochs, \"d_model\": d_model, \"depth\": depth}\n",
    "\n",
    "# Initialize WandB project\n",
    "wandb.init(project=\"lamost-mamba-test\", entity=\"joaoc-university-of-southampton\", config=config)\n",
    "# Initialize and train the model\n",
    "# Train the model using your `train_model_vit` or an adjusted training loop\n",
    "model_mamba = StarClassifierMAMBA(d_model=d_model, num_classes=num_classes, input_dim=3748, n_layers=depth)\n",
    "print(model_mamba)\n",
    "# print number of parameters per layer\n",
    "for name, param in model_mamba.named_parameters():\n",
    "    print(name, param.numel())\n",
    "print(\"Total number of parameters:\", sum(p.numel() for p in model_mamba.parameters() if p.requires_grad))\n",
    "\n",
    "# Move the model to device\n",
    "device = 'cuda' if torch.cuda.is_available() else 'cpu'\n",
    "model_mamba = model_mamba.to(device)\n",
    "\n",
    "# Train the model using your `train_model_vit` or an adjusted training loop\n",
    "trained_model = train_model_mamba(\n",
    "    model=model_mamba,\n",
    "    train_loader=train_loader,\n",
    "    val_loader=val_loader,\n",
    "    test_loader=test_loader,\n",
    "    num_epochs=num_epochs,\n",
    "    lr=lr,\n",
    "    max_patience=patience,\n",
    "    device=device\n",
    ")\n",
    "# Save the model and finish WandB session\n",
    "wandb.finish()"
   ]
  },
  {
   "cell_type": "code",
   "execution_count": null,
   "metadata": {},
   "outputs": [],
   "source": []
  },
  {
   "cell_type": "code",
   "execution_count": 1,
   "metadata": {},
   "outputs": [
    {
     "ename": "NameError",
     "evalue": "name 'batch_size' is not defined",
     "output_type": "error",
     "traceback": [
      "\u001b[1;31m---------------------------------------------------------------------------\u001b[0m",
      "\u001b[1;31mNameError\u001b[0m                                 Traceback (most recent call last)",
      "Cell \u001b[1;32mIn[1], line 12\u001b[0m\n\u001b[0;32m      9\u001b[0m depth \u001b[38;5;241m=\u001b[39m \u001b[38;5;241m10\u001b[39m\n\u001b[0;32m     11\u001b[0m \u001b[38;5;66;03m# Define the config dictionary object\u001b[39;00m\n\u001b[1;32m---> 12\u001b[0m config \u001b[38;5;241m=\u001b[39m {\u001b[38;5;124m\"\u001b[39m\u001b[38;5;124mnum_classes\u001b[39m\u001b[38;5;124m\"\u001b[39m: num_classes, \u001b[38;5;124m\"\u001b[39m\u001b[38;5;124mbatch_size\u001b[39m\u001b[38;5;124m\"\u001b[39m: \u001b[43mbatch_size\u001b[49m, \u001b[38;5;124m\"\u001b[39m\u001b[38;5;124mlr\u001b[39m\u001b[38;5;124m\"\u001b[39m: lr, \u001b[38;5;124m\"\u001b[39m\u001b[38;5;124mpatience\u001b[39m\u001b[38;5;124m\"\u001b[39m: patience, \u001b[38;5;124m\"\u001b[39m\u001b[38;5;124mnum_epochs\u001b[39m\u001b[38;5;124m\"\u001b[39m: num_epochs, \u001b[38;5;124m\"\u001b[39m\u001b[38;5;124md_model\u001b[39m\u001b[38;5;124m\"\u001b[39m: d_model, \u001b[38;5;124m\"\u001b[39m\u001b[38;5;124mdepth\u001b[39m\u001b[38;5;124m\"\u001b[39m: depth}\n\u001b[0;32m     14\u001b[0m \u001b[38;5;66;03m# Initialize WandB project\u001b[39;00m\n\u001b[0;32m     15\u001b[0m wandb\u001b[38;5;241m.\u001b[39minit(project\u001b[38;5;241m=\u001b[39m\u001b[38;5;124m\"\u001b[39m\u001b[38;5;124mlamost-mamba-test\u001b[39m\u001b[38;5;124m\"\u001b[39m, entity\u001b[38;5;241m=\u001b[39m\u001b[38;5;124m\"\u001b[39m\u001b[38;5;124mjoaoc-university-of-southampton\u001b[39m\u001b[38;5;124m\"\u001b[39m, config\u001b[38;5;241m=\u001b[39mconfig)\n",
      "\u001b[1;31mNameError\u001b[0m: name 'batch_size' is not defined"
     ]
    }
   ],
   "source": [
    "# Define the model with your parameters\n",
    "d_model = 512 # Embedding dimension\n",
    "num_classes = 4  # Star classification categories\n",
    "\n",
    "# Define the training parameters\n",
    "num_epochs = 500\n",
    "lr = 1e-6\n",
    "patience = 30   \n",
    "depth = 10\n",
    "\n",
    "# Define the config dictionary object\n",
    "config = {\"num_classes\": num_classes, \"batch_size\": batch_size, \"lr\": lr, \"patience\": patience, \"num_epochs\": num_epochs, \"d_model\": d_model, \"depth\": depth}\n",
    "\n",
    "# Initialize WandB project\n",
    "wandb.init(project=\"lamost-mamba-test\", entity=\"joaoc-university-of-southampton\", config=config)\n",
    "# Initialize and train the model\n",
    "# Train the model using your `train_model_vit` or an adjusted training loop\n",
    "model_mamba = StarClassifierMAMBA(d_model=d_model, num_classes=num_classes, input_dim=3748, n_layers=depth)\n",
    "print(model_mamba)\n",
    "# print number of parameters per layer\n",
    "for name, param in model_mamba.named_parameters():\n",
    "    print(name, param.numel())\n",
    "print(\"Total number of parameters:\", sum(p.numel() for p in model_mamba.parameters() if p.requires_grad))\n",
    "\n",
    "# Move the model to device\n",
    "device = 'cuda' if torch.cuda.is_available() else 'cpu'\n",
    "model_mamba = model_mamba.to(device)\n",
    "\n",
    "# Train the model using your `train_model_vit` or an adjusted training loop\n",
    "trained_model = train_model_mamba(\n",
    "    model=model_mamba,\n",
    "    train_loader=train_loader,\n",
    "    val_loader=val_loader,\n",
    "    test_loader=test_loader,\n",
    "    num_epochs=num_epochs,\n",
    "    lr=lr,\n",
    "    max_patience=patience,\n",
    "    device=device\n",
    ")\n",
    "# Save the model and finish WandB session\n",
    "wandb.finish()"
   ]
  },
  {
   "cell_type": "code",
   "execution_count": null,
   "metadata": {},
   "outputs": [
    {
     "name": "stdout",
     "output_type": "stream",
     "text": [
      "Create sweep with ID: pitkh7le\n",
      "Sweep URL: https://wandb.ai/joaoc-university-of-southampton/spectra-mamba-sweep/sweeps/pitkh7le\n"
     ]
    },
    {
     "name": "stderr",
     "output_type": "stream",
     "text": [
      "wandb: Agent Starting Run: 3hd6b91h with config:\n",
      "wandb: \tdepth: 12\n",
      "wandb: \tdim: 512\n",
      "wandb: \tlr: 2e-06\n"
     ]
    },
    {
     "data": {
      "text/html": [
       "Tracking run with wandb version 0.18.5"
      ],
      "text/plain": [
       "<IPython.core.display.HTML object>"
      ]
     },
     "metadata": {},
     "output_type": "display_data"
    },
    {
     "data": {
      "text/html": [
       "Run data is saved locally in <code>c:\\Users\\jcwin\\OneDrive - University of Southampton\\_Southampton\\2024-25\\Star-Classifier\\wandb\\run-20241127_171637-3hd6b91h</code>"
      ],
      "text/plain": [
       "<IPython.core.display.HTML object>"
      ]
     },
     "metadata": {},
     "output_type": "display_data"
    },
    {
     "data": {
      "text/html": [
       "Syncing run <strong><a href='https://wandb.ai/joaoc-university-of-southampton/spectra-mamba-sweep/runs/3hd6b91h' target=\"_blank\">laced-sweep-1</a></strong> to <a href='https://wandb.ai/joaoc-university-of-southampton/spectra-mamba-sweep' target=\"_blank\">Weights & Biases</a> (<a href='https://wandb.me/run' target=\"_blank\">docs</a>)<br/>Sweep page: <a href='https://wandb.ai/joaoc-university-of-southampton/spectra-mamba-sweep/sweeps/pitkh7le' target=\"_blank\">https://wandb.ai/joaoc-university-of-southampton/spectra-mamba-sweep/sweeps/pitkh7le</a>"
      ],
      "text/plain": [
       "<IPython.core.display.HTML object>"
      ]
     },
     "metadata": {},
     "output_type": "display_data"
    },
    {
     "data": {
      "text/html": [
       " View project at <a href='https://wandb.ai/joaoc-university-of-southampton/spectra-mamba-sweep' target=\"_blank\">https://wandb.ai/joaoc-university-of-southampton/spectra-mamba-sweep</a>"
      ],
      "text/plain": [
       "<IPython.core.display.HTML object>"
      ]
     },
     "metadata": {},
     "output_type": "display_data"
    },
    {
     "data": {
      "text/html": [
       " View sweep at <a href='https://wandb.ai/joaoc-university-of-southampton/spectra-mamba-sweep/sweeps/pitkh7le' target=\"_blank\">https://wandb.ai/joaoc-university-of-southampton/spectra-mamba-sweep/sweeps/pitkh7le</a>"
      ],
      "text/plain": [
       "<IPython.core.display.HTML object>"
      ]
     },
     "metadata": {},
     "output_type": "display_data"
    },
    {
     "data": {
      "text/html": [
       " View run at <a href='https://wandb.ai/joaoc-university-of-southampton/spectra-mamba-sweep/runs/3hd6b91h' target=\"_blank\">https://wandb.ai/joaoc-university-of-southampton/spectra-mamba-sweep/runs/3hd6b91h</a>"
      ],
      "text/plain": [
       "<IPython.core.display.HTML object>"
      ]
     },
     "metadata": {},
     "output_type": "display_data"
    },
    {
     "name": "stderr",
     "output_type": "stream",
     "text": [
      "C:\\Users\\jcwin\\AppData\\Local\\Packages\\PythonSoftwareFoundation.Python.3.11_qbz5n2kfra8p0\\LocalCache\\local-packages\\Python311\\site-packages\\torch\\optim\\lr_scheduler.py:60: UserWarning: The verbose parameter is deprecated. Please use get_last_lr() to access the learning rate.\n",
      "  warnings.warn(\n"
     ]
    },
    {
     "name": "stdout",
     "output_type": "stream",
     "text": [
      "Early stopping triggered.\n"
     ]
    },
    {
     "data": {
      "application/vnd.jupyter.widget-view+json": {
       "model_id": "37f4ff498c1d4a859c4b640bc89194e0",
       "version_major": 2,
       "version_minor": 0
      },
      "text/plain": [
       "VBox(children=(Label(value='0.163 MB of 0.163 MB uploaded\\r'), FloatProgress(value=1.0, max=1.0)))"
      ]
     },
     "metadata": {},
     "output_type": "display_data"
    },
    {
     "data": {
      "text/html": [
       "<style>\n",
       "    table.wandb td:nth-child(1) { padding: 0 10px; text-align: left ; width: auto;} td:nth-child(2) {text-align: left ; width: 100%}\n",
       "    .wandb-row { display: flex; flex-direction: row; flex-wrap: wrap; justify-content: flex-start; width: 100% }\n",
       "    .wandb-col { display: flex; flex-direction: column; flex-basis: 100%; flex: 1; padding: 10px; }\n",
       "    </style>\n",
       "<div class=\"wandb-row\"><div class=\"wandb-col\"><h3>Run history:</h3><br/><table class=\"wandb\"><tr><td>epoch</td><td>▁▁▁▂▂▂▂▃▃▃▃▄▄▄▄▄▄▄▄▄▅▅▅▅▅▆▆▆▆▆▆▆▇▇▇▇████</td></tr><tr><td>learning_rate</td><td>███████████████████████████████████▃▃▃▁▁</td></tr><tr><td>test_accuracy</td><td>▁▃▄▄▄▆▆▆▆▆▆▆▆▇▆▇▇▇▇▇█▇▇██▇▇▇██▇██▇█▇▇▇▇█</td></tr><tr><td>test_loss</td><td>█▆▅▄▄▃▂▂▂▂▂▁▁▁▁▁▁▁▁▁▁▁▁▁▁▁▁▁▁▁▁▁▁▁▁▁▁▁▁▁</td></tr><tr><td>train_accuracy</td><td>▁▃▄▄▅▆▆▆▆▆▇▆▇▇▇▇▇▇▇▇▇▇▇▇▇▇█▇█▇██▇███████</td></tr><tr><td>train_loss</td><td>█▇▅▅▄▄▃▃▃▃▂▂▂▂▂▂▂▂▂▂▂▂▂▂▂▂▁▁▁▁▁▁▁▁▁▁▁▁▁▁</td></tr><tr><td>val_accuracy</td><td>▁▄▄▅▆▇▇▇▇▇▇▇▇██████████████████▇████████</td></tr><tr><td>val_loss</td><td>█▇▆▅▅▄▃▃▃▃▂▂▂▂▂▂▂▂▂▂▁▁▁▁▁▁▁▁▁▁▁▁▁▁▁▁▁▁▁▁</td></tr></table><br/></div><div class=\"wandb-col\"><h3>Run summary:</h3><br/><table class=\"wandb\"><tr><td>classification_report</td><td>              precis...</td></tr><tr><td>epoch</td><td>115</td></tr><tr><td>learning_rate</td><td>0.0</td></tr><tr><td>test_accuracy</td><td>0.73538</td></tr><tr><td>test_loss</td><td>0.54989</td></tr><tr><td>train_accuracy</td><td>0.79302</td></tr><tr><td>train_loss</td><td>0.45769</td></tr><tr><td>val_accuracy</td><td>0.74725</td></tr><tr><td>val_loss</td><td>0.54785</td></tr></table><br/></div></div>"
      ],
      "text/plain": [
       "<IPython.core.display.HTML object>"
      ]
     },
     "metadata": {},
     "output_type": "display_data"
    },
    {
     "data": {
      "text/html": [
       " View run <strong style=\"color:#cdcd00\">laced-sweep-1</strong> at: <a href='https://wandb.ai/joaoc-university-of-southampton/spectra-mamba-sweep/runs/3hd6b91h' target=\"_blank\">https://wandb.ai/joaoc-university-of-southampton/spectra-mamba-sweep/runs/3hd6b91h</a><br/> View project at: <a href='https://wandb.ai/joaoc-university-of-southampton/spectra-mamba-sweep' target=\"_blank\">https://wandb.ai/joaoc-university-of-southampton/spectra-mamba-sweep</a><br/>Synced 4 W&B file(s), 0 media file(s), 234 artifact file(s) and 116 other file(s)"
      ],
      "text/plain": [
       "<IPython.core.display.HTML object>"
      ]
     },
     "metadata": {},
     "output_type": "display_data"
    },
    {
     "data": {
      "text/html": [
       "Find logs at: <code>.\\wandb\\run-20241127_171637-3hd6b91h\\logs</code>"
      ],
      "text/plain": [
       "<IPython.core.display.HTML object>"
      ]
     },
     "metadata": {},
     "output_type": "display_data"
    },
    {
     "name": "stderr",
     "output_type": "stream",
     "text": [
      "wandb: Agent Starting Run: ws1b3rwh with config:\n",
      "wandb: \tdepth: 12\n",
      "wandb: \tdim: 64\n",
      "wandb: \tlr: 2e-06\n"
     ]
    },
    {
     "data": {
      "text/html": [
       "Tracking run with wandb version 0.18.5"
      ],
      "text/plain": [
       "<IPython.core.display.HTML object>"
      ]
     },
     "metadata": {},
     "output_type": "display_data"
    },
    {
     "data": {
      "text/html": [
       "Run data is saved locally in <code>c:\\Users\\jcwin\\OneDrive - University of Southampton\\_Southampton\\2024-25\\Star-Classifier\\wandb\\run-20241127_172327-ws1b3rwh</code>"
      ],
      "text/plain": [
       "<IPython.core.display.HTML object>"
      ]
     },
     "metadata": {},
     "output_type": "display_data"
    },
    {
     "data": {
      "text/html": [
       "Syncing run <strong><a href='https://wandb.ai/joaoc-university-of-southampton/spectra-mamba-sweep/runs/ws1b3rwh' target=\"_blank\">logical-sweep-2</a></strong> to <a href='https://wandb.ai/joaoc-university-of-southampton/spectra-mamba-sweep' target=\"_blank\">Weights & Biases</a> (<a href='https://wandb.me/run' target=\"_blank\">docs</a>)<br/>Sweep page: <a href='https://wandb.ai/joaoc-university-of-southampton/spectra-mamba-sweep/sweeps/pitkh7le' target=\"_blank\">https://wandb.ai/joaoc-university-of-southampton/spectra-mamba-sweep/sweeps/pitkh7le</a>"
      ],
      "text/plain": [
       "<IPython.core.display.HTML object>"
      ]
     },
     "metadata": {},
     "output_type": "display_data"
    },
    {
     "data": {
      "text/html": [
       " View project at <a href='https://wandb.ai/joaoc-university-of-southampton/spectra-mamba-sweep' target=\"_blank\">https://wandb.ai/joaoc-university-of-southampton/spectra-mamba-sweep</a>"
      ],
      "text/plain": [
       "<IPython.core.display.HTML object>"
      ]
     },
     "metadata": {},
     "output_type": "display_data"
    },
    {
     "data": {
      "text/html": [
       " View sweep at <a href='https://wandb.ai/joaoc-university-of-southampton/spectra-mamba-sweep/sweeps/pitkh7le' target=\"_blank\">https://wandb.ai/joaoc-university-of-southampton/spectra-mamba-sweep/sweeps/pitkh7le</a>"
      ],
      "text/plain": [
       "<IPython.core.display.HTML object>"
      ]
     },
     "metadata": {},
     "output_type": "display_data"
    },
    {
     "data": {
      "text/html": [
       " View run at <a href='https://wandb.ai/joaoc-university-of-southampton/spectra-mamba-sweep/runs/ws1b3rwh' target=\"_blank\">https://wandb.ai/joaoc-university-of-southampton/spectra-mamba-sweep/runs/ws1b3rwh</a>"
      ],
      "text/plain": [
       "<IPython.core.display.HTML object>"
      ]
     },
     "metadata": {},
     "output_type": "display_data"
    },
    {
     "name": "stderr",
     "output_type": "stream",
     "text": [
      "C:\\Users\\jcwin\\AppData\\Local\\Packages\\PythonSoftwareFoundation.Python.3.11_qbz5n2kfra8p0\\LocalCache\\local-packages\\Python311\\site-packages\\torch\\optim\\lr_scheduler.py:60: UserWarning: The verbose parameter is deprecated. Please use get_last_lr() to access the learning rate.\n",
      "  warnings.warn(\n"
     ]
    },
    {
     "name": "stdout",
     "output_type": "stream",
     "text": [
      "Early stopping triggered.\n"
     ]
    },
    {
     "data": {
      "text/html": [
       "<style>\n",
       "    table.wandb td:nth-child(1) { padding: 0 10px; text-align: left ; width: auto;} td:nth-child(2) {text-align: left ; width: 100%}\n",
       "    .wandb-row { display: flex; flex-direction: row; flex-wrap: wrap; justify-content: flex-start; width: 100% }\n",
       "    .wandb-col { display: flex; flex-direction: column; flex-basis: 100%; flex: 1; padding: 10px; }\n",
       "    </style>\n",
       "<div class=\"wandb-row\"><div class=\"wandb-col\"><h3>Run history:</h3><br/><table class=\"wandb\"><tr><td>epoch</td><td>▁▁▁▁▂▂▂▂▂▂▂▃▃▃▃▃▃▄▄▄▄▄▄▅▅▆▆▆▆▆▇▇▇▇▇▇▇▇██</td></tr><tr><td>learning_rate</td><td>██████████████████████████████████▄▂▂▂▁▁</td></tr><tr><td>test_accuracy</td><td>▁▃▄▅▆▇▇▇▇▇▇▇▇▇██████████████████████████</td></tr><tr><td>test_loss</td><td>█▅▄▄▃▃▃▃▃▂▂▂▂▂▂▂▂▂▂▂▂▂▂▂▂▁▁▁▁▁▁▁▁▁▁▁▁▁▁▁</td></tr><tr><td>train_accuracy</td><td>▁▁▂▃▃▃▃▃▄▄▅▆▅▆▆▆▆▅▆▆▆▆▆▆▆▇▆▆▇▆▇▇▇█▆███▇▇</td></tr><tr><td>train_loss</td><td>█▅▄▄▃▃▃▃▃▃▂▂▂▂▂▂▂▂▂▂▂▁▁▁▁▁▁▁▁▁▁▁▁▁▁▁▁▁▁▁</td></tr><tr><td>val_accuracy</td><td>▁▁▂▂▃▃▃▃▅▆▆█▇▇▇▇██▇█▇██▇▇████▇▇▇██▇▇█▇██</td></tr><tr><td>val_loss</td><td>█▅▅▄▃▃▃▃▂▂▂▂▂▂▂▂▂▂▂▂▂▁▁▁▁▁▁▁▁▁▁▁▁▁▁▁▁▁▁▁</td></tr></table><br/></div><div class=\"wandb-col\"><h3>Run summary:</h3><br/><table class=\"wandb\"><tr><td>classification_report</td><td>              precis...</td></tr><tr><td>epoch</td><td>481</td></tr><tr><td>learning_rate</td><td>0.0</td></tr><tr><td>test_accuracy</td><td>0.73638</td></tr><tr><td>test_loss</td><td>0.57178</td></tr><tr><td>train_accuracy</td><td>0.77179</td></tr><tr><td>train_loss</td><td>0.51159</td></tr><tr><td>val_accuracy</td><td>0.76028</td></tr><tr><td>val_loss</td><td>0.56679</td></tr></table><br/></div></div>"
      ],
      "text/plain": [
       "<IPython.core.display.HTML object>"
      ]
     },
     "metadata": {},
     "output_type": "display_data"
    },
    {
     "data": {
      "text/html": [
       " View run <strong style=\"color:#cdcd00\">logical-sweep-2</strong> at: <a href='https://wandb.ai/joaoc-university-of-southampton/spectra-mamba-sweep/runs/ws1b3rwh' target=\"_blank\">https://wandb.ai/joaoc-university-of-southampton/spectra-mamba-sweep/runs/ws1b3rwh</a><br/> View project at: <a href='https://wandb.ai/joaoc-university-of-southampton/spectra-mamba-sweep' target=\"_blank\">https://wandb.ai/joaoc-university-of-southampton/spectra-mamba-sweep</a><br/>Synced 5 W&B file(s), 0 media file(s), 958 artifact file(s) and 482 other file(s)"
      ],
      "text/plain": [
       "<IPython.core.display.HTML object>"
      ]
     },
     "metadata": {},
     "output_type": "display_data"
    },
    {
     "data": {
      "text/html": [
       "Find logs at: <code>.\\wandb\\run-20241127_172327-ws1b3rwh\\logs</code>"
      ],
      "text/plain": [
       "<IPython.core.display.HTML object>"
      ]
     },
     "metadata": {},
     "output_type": "display_data"
    },
    {
     "name": "stderr",
     "output_type": "stream",
     "text": [
      "wandb: Agent Starting Run: u05ek3j1 with config:\n",
      "wandb: \tdepth: 12\n",
      "wandb: \tdim: 512\n",
      "wandb: \tlr: 0.0001\n"
     ]
    },
    {
     "data": {
      "text/html": [
       "Tracking run with wandb version 0.18.5"
      ],
      "text/plain": [
       "<IPython.core.display.HTML object>"
      ]
     },
     "metadata": {},
     "output_type": "display_data"
    },
    {
     "data": {
      "text/html": [
       "Run data is saved locally in <code>c:\\Users\\jcwin\\OneDrive - University of Southampton\\_Southampton\\2024-25\\Star-Classifier\\wandb\\run-20241127_173722-u05ek3j1</code>"
      ],
      "text/plain": [
       "<IPython.core.display.HTML object>"
      ]
     },
     "metadata": {},
     "output_type": "display_data"
    },
    {
     "data": {
      "text/html": [
       "Syncing run <strong><a href='https://wandb.ai/joaoc-university-of-southampton/spectra-mamba-sweep/runs/u05ek3j1' target=\"_blank\">summer-sweep-3</a></strong> to <a href='https://wandb.ai/joaoc-university-of-southampton/spectra-mamba-sweep' target=\"_blank\">Weights & Biases</a> (<a href='https://wandb.me/run' target=\"_blank\">docs</a>)<br/>Sweep page: <a href='https://wandb.ai/joaoc-university-of-southampton/spectra-mamba-sweep/sweeps/pitkh7le' target=\"_blank\">https://wandb.ai/joaoc-university-of-southampton/spectra-mamba-sweep/sweeps/pitkh7le</a>"
      ],
      "text/plain": [
       "<IPython.core.display.HTML object>"
      ]
     },
     "metadata": {},
     "output_type": "display_data"
    },
    {
     "data": {
      "text/html": [
       " View project at <a href='https://wandb.ai/joaoc-university-of-southampton/spectra-mamba-sweep' target=\"_blank\">https://wandb.ai/joaoc-university-of-southampton/spectra-mamba-sweep</a>"
      ],
      "text/plain": [
       "<IPython.core.display.HTML object>"
      ]
     },
     "metadata": {},
     "output_type": "display_data"
    },
    {
     "data": {
      "text/html": [
       " View sweep at <a href='https://wandb.ai/joaoc-university-of-southampton/spectra-mamba-sweep/sweeps/pitkh7le' target=\"_blank\">https://wandb.ai/joaoc-university-of-southampton/spectra-mamba-sweep/sweeps/pitkh7le</a>"
      ],
      "text/plain": [
       "<IPython.core.display.HTML object>"
      ]
     },
     "metadata": {},
     "output_type": "display_data"
    },
    {
     "data": {
      "text/html": [
       " View run at <a href='https://wandb.ai/joaoc-university-of-southampton/spectra-mamba-sweep/runs/u05ek3j1' target=\"_blank\">https://wandb.ai/joaoc-university-of-southampton/spectra-mamba-sweep/runs/u05ek3j1</a>"
      ],
      "text/plain": [
       "<IPython.core.display.HTML object>"
      ]
     },
     "metadata": {},
     "output_type": "display_data"
    },
    {
     "name": "stderr",
     "output_type": "stream",
     "text": [
      "C:\\Users\\jcwin\\AppData\\Local\\Packages\\PythonSoftwareFoundation.Python.3.11_qbz5n2kfra8p0\\LocalCache\\local-packages\\Python311\\site-packages\\torch\\optim\\lr_scheduler.py:60: UserWarning: The verbose parameter is deprecated. Please use get_last_lr() to access the learning rate.\n",
      "  warnings.warn(\n"
     ]
    },
    {
     "name": "stdout",
     "output_type": "stream",
     "text": [
      "Early stopping triggered.\n"
     ]
    },
    {
     "data": {
      "text/html": [
       "<style>\n",
       "    table.wandb td:nth-child(1) { padding: 0 10px; text-align: left ; width: auto;} td:nth-child(2) {text-align: left ; width: 100%}\n",
       "    .wandb-row { display: flex; flex-direction: row; flex-wrap: wrap; justify-content: flex-start; width: 100% }\n",
       "    .wandb-col { display: flex; flex-direction: column; flex-basis: 100%; flex: 1; padding: 10px; }\n",
       "    </style>\n",
       "<div class=\"wandb-row\"><div class=\"wandb-col\"><h3>Run history:</h3><br/><table class=\"wandb\"><tr><td>epoch</td><td>▁▁▁▂▂▂▂▂▃▃▃▃▄▄▄▄▄▅▅▅▅▅▆▆▆▆▇▇▇▇▇███</td></tr><tr><td>learning_rate</td><td>██████████████▃▃▃▃▃▃▃▃▃▃▃▁▁▁▁▁▁▁▁▁</td></tr><tr><td>test_accuracy</td><td>▃▆▇██▇██▇▇▆█▇▇▆▆▅▄▅▅█▄▃▃▂▅▄▃▃▄▃▄▁▄</td></tr><tr><td>test_loss</td><td>▂▂▁▁▁▁▁▁▁▁▁▁▂▂▂▂▃▃▃▃▂▄▃▄▄▄▅▆▆▅▅▆█▆</td></tr><tr><td>train_accuracy</td><td>▁▄▅▅▅▆▆▆▆▇▆▆▆▇▇▇▇▇▇▇▇█▇▇▇█████████</td></tr><tr><td>train_loss</td><td>█▄▄▃▃▃▃▃▃▂▃▂▂▂▂▂▂▂▁▁▂▁▂▂▁▁▁▁▁▁▁▁▁▁</td></tr><tr><td>val_accuracy</td><td>▃▆▇█▆█▇▆▇▇▆█▇▄▇▆▆▆▆▆▆▃▆▃▄▄▄▃▄▄▄▄▁▅</td></tr><tr><td>val_loss</td><td>▂▂▁▁▁▁▁▁▁▂▂▁▂▂▂▂▃▃▃▃▃▄▃▄▄▄▅▆▆▅▅▆█▆</td></tr></table><br/></div><div class=\"wandb-col\"><h3>Run summary:</h3><br/><table class=\"wandb\"><tr><td>classification_report</td><td>              precis...</td></tr><tr><td>epoch</td><td>33</td></tr><tr><td>learning_rate</td><td>3e-05</td></tr><tr><td>test_accuracy</td><td>0.68069</td></tr><tr><td>test_loss</td><td>1.28712</td></tr><tr><td>train_accuracy</td><td>0.83028</td></tr><tr><td>train_loss</td><td>0.3384</td></tr><tr><td>val_accuracy</td><td>0.70034</td></tr><tr><td>val_loss</td><td>1.25255</td></tr></table><br/></div></div>"
      ],
      "text/plain": [
       "<IPython.core.display.HTML object>"
      ]
     },
     "metadata": {},
     "output_type": "display_data"
    },
    {
     "data": {
      "text/html": [
       " View run <strong style=\"color:#cdcd00\">summer-sweep-3</strong> at: <a href='https://wandb.ai/joaoc-university-of-southampton/spectra-mamba-sweep/runs/u05ek3j1' target=\"_blank\">https://wandb.ai/joaoc-university-of-southampton/spectra-mamba-sweep/runs/u05ek3j1</a><br/> View project at: <a href='https://wandb.ai/joaoc-university-of-southampton/spectra-mamba-sweep' target=\"_blank\">https://wandb.ai/joaoc-university-of-southampton/spectra-mamba-sweep</a><br/>Synced 5 W&B file(s), 0 media file(s), 68 artifact file(s) and 34 other file(s)"
      ],
      "text/plain": [
       "<IPython.core.display.HTML object>"
      ]
     },
     "metadata": {},
     "output_type": "display_data"
    },
    {
     "data": {
      "text/html": [
       "Find logs at: <code>.\\wandb\\run-20241127_173722-u05ek3j1\\logs</code>"
      ],
      "text/plain": [
       "<IPython.core.display.HTML object>"
      ]
     },
     "metadata": {},
     "output_type": "display_data"
    },
    {
     "name": "stderr",
     "output_type": "stream",
     "text": [
      "wandb: Agent Starting Run: zkbsixho with config:\n",
      "wandb: \tdepth: 3\n",
      "wandb: \tdim: 2048\n",
      "wandb: \tlr: 2e-06\n"
     ]
    },
    {
     "data": {
      "text/html": [
       "Tracking run with wandb version 0.18.5"
      ],
      "text/plain": [
       "<IPython.core.display.HTML object>"
      ]
     },
     "metadata": {},
     "output_type": "display_data"
    },
    {
     "data": {
      "text/html": [
       "Run data is saved locally in <code>c:\\Users\\jcwin\\OneDrive - University of Southampton\\_Southampton\\2024-25\\Star-Classifier\\wandb\\run-20241127_173920-zkbsixho</code>"
      ],
      "text/plain": [
       "<IPython.core.display.HTML object>"
      ]
     },
     "metadata": {},
     "output_type": "display_data"
    },
    {
     "data": {
      "text/html": [
       "Syncing run <strong><a href='https://wandb.ai/joaoc-university-of-southampton/spectra-mamba-sweep/runs/zkbsixho' target=\"_blank\">clean-sweep-4</a></strong> to <a href='https://wandb.ai/joaoc-university-of-southampton/spectra-mamba-sweep' target=\"_blank\">Weights & Biases</a> (<a href='https://wandb.me/run' target=\"_blank\">docs</a>)<br/>Sweep page: <a href='https://wandb.ai/joaoc-university-of-southampton/spectra-mamba-sweep/sweeps/pitkh7le' target=\"_blank\">https://wandb.ai/joaoc-university-of-southampton/spectra-mamba-sweep/sweeps/pitkh7le</a>"
      ],
      "text/plain": [
       "<IPython.core.display.HTML object>"
      ]
     },
     "metadata": {},
     "output_type": "display_data"
    },
    {
     "data": {
      "text/html": [
       " View project at <a href='https://wandb.ai/joaoc-university-of-southampton/spectra-mamba-sweep' target=\"_blank\">https://wandb.ai/joaoc-university-of-southampton/spectra-mamba-sweep</a>"
      ],
      "text/plain": [
       "<IPython.core.display.HTML object>"
      ]
     },
     "metadata": {},
     "output_type": "display_data"
    },
    {
     "data": {
      "text/html": [
       " View sweep at <a href='https://wandb.ai/joaoc-university-of-southampton/spectra-mamba-sweep/sweeps/pitkh7le' target=\"_blank\">https://wandb.ai/joaoc-university-of-southampton/spectra-mamba-sweep/sweeps/pitkh7le</a>"
      ],
      "text/plain": [
       "<IPython.core.display.HTML object>"
      ]
     },
     "metadata": {},
     "output_type": "display_data"
    },
    {
     "data": {
      "text/html": [
       " View run at <a href='https://wandb.ai/joaoc-university-of-southampton/spectra-mamba-sweep/runs/zkbsixho' target=\"_blank\">https://wandb.ai/joaoc-university-of-southampton/spectra-mamba-sweep/runs/zkbsixho</a>"
      ],
      "text/plain": [
       "<IPython.core.display.HTML object>"
      ]
     },
     "metadata": {},
     "output_type": "display_data"
    },
    {
     "name": "stderr",
     "output_type": "stream",
     "text": [
      "C:\\Users\\jcwin\\AppData\\Local\\Packages\\PythonSoftwareFoundation.Python.3.11_qbz5n2kfra8p0\\LocalCache\\local-packages\\Python311\\site-packages\\torch\\optim\\lr_scheduler.py:60: UserWarning: The verbose parameter is deprecated. Please use get_last_lr() to access the learning rate.\n",
      "  warnings.warn(\n"
     ]
    },
    {
     "name": "stdout",
     "output_type": "stream",
     "text": [
      "Early stopping triggered.\n"
     ]
    },
    {
     "data": {
      "application/vnd.jupyter.widget-view+json": {
       "model_id": "4ccbd359042642409b7e3708c7525516",
       "version_major": 2,
       "version_minor": 0
      },
      "text/plain": [
       "VBox(children=(Label(value='0.105 MB of 0.105 MB uploaded\\r'), FloatProgress(value=1.0, max=1.0)))"
      ]
     },
     "metadata": {},
     "output_type": "display_data"
    },
    {
     "data": {
      "text/html": [
       "<style>\n",
       "    table.wandb td:nth-child(1) { padding: 0 10px; text-align: left ; width: auto;} td:nth-child(2) {text-align: left ; width: 100%}\n",
       "    .wandb-row { display: flex; flex-direction: row; flex-wrap: wrap; justify-content: flex-start; width: 100% }\n",
       "    .wandb-col { display: flex; flex-direction: column; flex-basis: 100%; flex: 1; padding: 10px; }\n",
       "    </style>\n",
       "<div class=\"wandb-row\"><div class=\"wandb-col\"><h3>Run history:</h3><br/><table class=\"wandb\"><tr><td>epoch</td><td>▁▁▁▁▁▂▂▂▂▃▃▃▃▃▄▄▄▄▅▅▅▅▅▅▅▆▆▆▆▇▇▇▇▇▇▇████</td></tr><tr><td>learning_rate</td><td>██████████████████████████▃▃▃▃▃▃▃▃▃▁▁▁▁▁</td></tr><tr><td>test_accuracy</td><td>▁▄▅▆▆▆▇▇▇▇▇▇▇▇▇█▇▇█▇█▇█████████████▇▇█▇▇</td></tr><tr><td>test_loss</td><td>█▇▄▃▃▂▂▂▂▂▁▁▁▁▁▁▁▁▁▁▁▁▁▁▁▁▁▁▁▁▁▁▁▂▂▂▂▂▂▂</td></tr><tr><td>train_accuracy</td><td>▁▂▃▃▄▅▅▅▅▅▅▆▆▆▆▇▆▆▆▇▆▇▇▇▇▇▇▇▇███▇▇█▇████</td></tr><tr><td>train_loss</td><td>█▆▅▅▄▄▃▃▃▃▂▃▂▂▂▂▂▂▂▂▂▂▂▂▁▂▁▁▁▁▁▁▁▁▁▁▁▁▁▁</td></tr><tr><td>val_accuracy</td><td>▁▃▅▅▆▆▆▇▆▇▇▇▇▇▇▇▇██▇▇███▇█▇▇▇▇▇▇▇▇▇▇▇▇▇▇</td></tr><tr><td>val_loss</td><td>█▆▅▅▄▃▃▃▂▂▁▁▁▁▁▁▁▁▁▁▁▁▁▁▁▁▁▁▁▁▁▁▂▂▂▂▂▂▂▂</td></tr></table><br/></div><div class=\"wandb-col\"><h3>Run summary:</h3><br/><table class=\"wandb\"><tr><td>classification_report</td><td>              precis...</td></tr><tr><td>epoch</td><td>71</td></tr><tr><td>learning_rate</td><td>0.0</td></tr><tr><td>test_accuracy</td><td>0.72199</td></tr><tr><td>test_loss</td><td>0.59822</td></tr><tr><td>train_accuracy</td><td>0.82062</td></tr><tr><td>train_loss</td><td>0.39872</td></tr><tr><td>val_accuracy</td><td>0.7466</td></tr><tr><td>val_loss</td><td>0.58923</td></tr></table><br/></div></div>"
      ],
      "text/plain": [
       "<IPython.core.display.HTML object>"
      ]
     },
     "metadata": {},
     "output_type": "display_data"
    },
    {
     "data": {
      "text/html": [
       " View run <strong style=\"color:#cdcd00\">clean-sweep-4</strong> at: <a href='https://wandb.ai/joaoc-university-of-southampton/spectra-mamba-sweep/runs/zkbsixho' target=\"_blank\">https://wandb.ai/joaoc-university-of-southampton/spectra-mamba-sweep/runs/zkbsixho</a><br/> View project at: <a href='https://wandb.ai/joaoc-university-of-southampton/spectra-mamba-sweep' target=\"_blank\">https://wandb.ai/joaoc-university-of-southampton/spectra-mamba-sweep</a><br/>Synced 5 W&B file(s), 0 media file(s), 144 artifact file(s) and 72 other file(s)"
      ],
      "text/plain": [
       "<IPython.core.display.HTML object>"
      ]
     },
     "metadata": {},
     "output_type": "display_data"
    },
    {
     "data": {
      "text/html": [
       "Find logs at: <code>.\\wandb\\run-20241127_173920-zkbsixho\\logs</code>"
      ],
      "text/plain": [
       "<IPython.core.display.HTML object>"
      ]
     },
     "metadata": {},
     "output_type": "display_data"
    },
    {
     "name": "stderr",
     "output_type": "stream",
     "text": [
      "wandb: Agent Starting Run: y1is8mn8 with config:\n",
      "wandb: \tdepth: 12\n",
      "wandb: \tdim: 512\n",
      "wandb: \tlr: 1e-05\n"
     ]
    },
    {
     "data": {
      "text/html": [
       "Tracking run with wandb version 0.18.5"
      ],
      "text/plain": [
       "<IPython.core.display.HTML object>"
      ]
     },
     "metadata": {},
     "output_type": "display_data"
    },
    {
     "data": {
      "text/html": [
       "Run data is saved locally in <code>c:\\Users\\jcwin\\OneDrive - University of Southampton\\_Southampton\\2024-25\\Star-Classifier\\wandb\\run-20241127_174407-y1is8mn8</code>"
      ],
      "text/plain": [
       "<IPython.core.display.HTML object>"
      ]
     },
     "metadata": {},
     "output_type": "display_data"
    },
    {
     "data": {
      "text/html": [
       "Syncing run <strong><a href='https://wandb.ai/joaoc-university-of-southampton/spectra-mamba-sweep/runs/y1is8mn8' target=\"_blank\">fanciful-sweep-5</a></strong> to <a href='https://wandb.ai/joaoc-university-of-southampton/spectra-mamba-sweep' target=\"_blank\">Weights & Biases</a> (<a href='https://wandb.me/run' target=\"_blank\">docs</a>)<br/>Sweep page: <a href='https://wandb.ai/joaoc-university-of-southampton/spectra-mamba-sweep/sweeps/pitkh7le' target=\"_blank\">https://wandb.ai/joaoc-university-of-southampton/spectra-mamba-sweep/sweeps/pitkh7le</a>"
      ],
      "text/plain": [
       "<IPython.core.display.HTML object>"
      ]
     },
     "metadata": {},
     "output_type": "display_data"
    },
    {
     "data": {
      "text/html": [
       " View project at <a href='https://wandb.ai/joaoc-university-of-southampton/spectra-mamba-sweep' target=\"_blank\">https://wandb.ai/joaoc-university-of-southampton/spectra-mamba-sweep</a>"
      ],
      "text/plain": [
       "<IPython.core.display.HTML object>"
      ]
     },
     "metadata": {},
     "output_type": "display_data"
    },
    {
     "data": {
      "text/html": [
       " View sweep at <a href='https://wandb.ai/joaoc-university-of-southampton/spectra-mamba-sweep/sweeps/pitkh7le' target=\"_blank\">https://wandb.ai/joaoc-university-of-southampton/spectra-mamba-sweep/sweeps/pitkh7le</a>"
      ],
      "text/plain": [
       "<IPython.core.display.HTML object>"
      ]
     },
     "metadata": {},
     "output_type": "display_data"
    },
    {
     "data": {
      "text/html": [
       " View run at <a href='https://wandb.ai/joaoc-university-of-southampton/spectra-mamba-sweep/runs/y1is8mn8' target=\"_blank\">https://wandb.ai/joaoc-university-of-southampton/spectra-mamba-sweep/runs/y1is8mn8</a>"
      ],
      "text/plain": [
       "<IPython.core.display.HTML object>"
      ]
     },
     "metadata": {},
     "output_type": "display_data"
    },
    {
     "name": "stderr",
     "output_type": "stream",
     "text": [
      "C:\\Users\\jcwin\\AppData\\Local\\Packages\\PythonSoftwareFoundation.Python.3.11_qbz5n2kfra8p0\\LocalCache\\local-packages\\Python311\\site-packages\\torch\\optim\\lr_scheduler.py:60: UserWarning: The verbose parameter is deprecated. Please use get_last_lr() to access the learning rate.\n",
      "  warnings.warn(\n"
     ]
    },
    {
     "name": "stdout",
     "output_type": "stream",
     "text": [
      "Early stopping triggered.\n"
     ]
    },
    {
     "data": {
      "application/vnd.jupyter.widget-view+json": {
       "model_id": "4bdd66226b4741d2882408b3958633bd",
       "version_major": 2,
       "version_minor": 0
      },
      "text/plain": [
       "VBox(children=(Label(value='0.074 MB of 0.074 MB uploaded\\r'), FloatProgress(value=1.0, max=1.0)))"
      ]
     },
     "metadata": {},
     "output_type": "display_data"
    },
    {
     "data": {
      "text/html": [
       "<style>\n",
       "    table.wandb td:nth-child(1) { padding: 0 10px; text-align: left ; width: auto;} td:nth-child(2) {text-align: left ; width: 100%}\n",
       "    .wandb-row { display: flex; flex-direction: row; flex-wrap: wrap; justify-content: flex-start; width: 100% }\n",
       "    .wandb-col { display: flex; flex-direction: column; flex-basis: 100%; flex: 1; padding: 10px; }\n",
       "    </style>\n",
       "<div class=\"wandb-row\"><div class=\"wandb-col\"><h3>Run history:</h3><br/><table class=\"wandb\"><tr><td>epoch</td><td>▁▁▁▁▂▂▂▂▂▂▃▃▃▃▃▄▄▄▄▄▅▅▅▅▅▅▆▆▆▆▆▇▇▇▇▇▇███</td></tr><tr><td>learning_rate</td><td>████████████████████████▃▃▃▃▃▃▃▃▃▁▁▁▁▁▁▁</td></tr><tr><td>test_accuracy</td><td>▁▄▄▆▆▇▇▇▇▇▇▇▇██▇█▇▆▇█▇▇▆▇██▇▇▇▇██▇▇▇▇▆▇▇</td></tr><tr><td>test_loss</td><td>█▅▄▃▃▂▂▂▁▁▁▁▁▁▁▁▁▁▁▁▁▁▁▂▁▁▁▂▂▂▂▂▂▃▃▃▃▃▃▃</td></tr><tr><td>train_accuracy</td><td>▁▄▄▅▅▆▆▆▆▆▆▆▆▆▆▆▇▇▇▇▇▇▇▇▇▇█▇▇▇█▇████████</td></tr><tr><td>train_loss</td><td>█▆▅▄▄▃▃▃▃▃▃▃▃▃▂▂▂▂▂▂▂▂▂▂▂▂▁▂▂▁▁▁▁▁▁▁▁▁▁▁</td></tr><tr><td>val_accuracy</td><td>▁▄▅▅▇▆▇▆▇▇▇▇█████▆▆█▇▇▇▆▆▇▇▆▇▇▇▆▇▅▆▆▆▆▆▆</td></tr><tr><td>val_loss</td><td>█▅▄▃▂▂▂▂▁▁▁▁▁▁▁▁▁▁▁▁▁▁▁▂▂▁▁▂▂▂▂▂▂▃▃▃▃▃▃▃</td></tr></table><br/></div><div class=\"wandb-col\"><h3>Run summary:</h3><br/><table class=\"wandb\"><tr><td>classification_report</td><td>              precis...</td></tr><tr><td>epoch</td><td>47</td></tr><tr><td>learning_rate</td><td>0.0</td></tr><tr><td>test_accuracy</td><td>0.71641</td></tr><tr><td>test_loss</td><td>0.67592</td></tr><tr><td>train_accuracy</td><td>0.83013</td></tr><tr><td>train_loss</td><td>0.37327</td></tr><tr><td>val_accuracy</td><td>0.71729</td></tr><tr><td>val_loss</td><td>0.66709</td></tr></table><br/></div></div>"
      ],
      "text/plain": [
       "<IPython.core.display.HTML object>"
      ]
     },
     "metadata": {},
     "output_type": "display_data"
    },
    {
     "data": {
      "text/html": [
       " View run <strong style=\"color:#cdcd00\">fanciful-sweep-5</strong> at: <a href='https://wandb.ai/joaoc-university-of-southampton/spectra-mamba-sweep/runs/y1is8mn8' target=\"_blank\">https://wandb.ai/joaoc-university-of-southampton/spectra-mamba-sweep/runs/y1is8mn8</a><br/> View project at: <a href='https://wandb.ai/joaoc-university-of-southampton/spectra-mamba-sweep' target=\"_blank\">https://wandb.ai/joaoc-university-of-southampton/spectra-mamba-sweep</a><br/>Synced 5 W&B file(s), 0 media file(s), 96 artifact file(s) and 48 other file(s)"
      ],
      "text/plain": [
       "<IPython.core.display.HTML object>"
      ]
     },
     "metadata": {},
     "output_type": "display_data"
    },
    {
     "data": {
      "text/html": [
       "Find logs at: <code>.\\wandb\\run-20241127_174407-y1is8mn8\\logs</code>"
      ],
      "text/plain": [
       "<IPython.core.display.HTML object>"
      ]
     },
     "metadata": {},
     "output_type": "display_data"
    },
    {
     "name": "stderr",
     "output_type": "stream",
     "text": [
      "wandb: Agent Starting Run: srvl9krt with config:\n",
      "wandb: \tdepth: 3\n",
      "wandb: \tdim: 2048\n",
      "wandb: \tlr: 1e-05\n"
     ]
    },
    {
     "data": {
      "text/html": [
       "Tracking run with wandb version 0.18.5"
      ],
      "text/plain": [
       "<IPython.core.display.HTML object>"
      ]
     },
     "metadata": {},
     "output_type": "display_data"
    },
    {
     "data": {
      "text/html": [
       "Run data is saved locally in <code>c:\\Users\\jcwin\\OneDrive - University of Southampton\\_Southampton\\2024-25\\Star-Classifier\\wandb\\run-20241127_174651-srvl9krt</code>"
      ],
      "text/plain": [
       "<IPython.core.display.HTML object>"
      ]
     },
     "metadata": {},
     "output_type": "display_data"
    },
    {
     "data": {
      "text/html": [
       "Syncing run <strong><a href='https://wandb.ai/joaoc-university-of-southampton/spectra-mamba-sweep/runs/srvl9krt' target=\"_blank\">dutiful-sweep-6</a></strong> to <a href='https://wandb.ai/joaoc-university-of-southampton/spectra-mamba-sweep' target=\"_blank\">Weights & Biases</a> (<a href='https://wandb.me/run' target=\"_blank\">docs</a>)<br/>Sweep page: <a href='https://wandb.ai/joaoc-university-of-southampton/spectra-mamba-sweep/sweeps/pitkh7le' target=\"_blank\">https://wandb.ai/joaoc-university-of-southampton/spectra-mamba-sweep/sweeps/pitkh7le</a>"
      ],
      "text/plain": [
       "<IPython.core.display.HTML object>"
      ]
     },
     "metadata": {},
     "output_type": "display_data"
    },
    {
     "data": {
      "text/html": [
       " View project at <a href='https://wandb.ai/joaoc-university-of-southampton/spectra-mamba-sweep' target=\"_blank\">https://wandb.ai/joaoc-university-of-southampton/spectra-mamba-sweep</a>"
      ],
      "text/plain": [
       "<IPython.core.display.HTML object>"
      ]
     },
     "metadata": {},
     "output_type": "display_data"
    },
    {
     "data": {
      "text/html": [
       " View sweep at <a href='https://wandb.ai/joaoc-university-of-southampton/spectra-mamba-sweep/sweeps/pitkh7le' target=\"_blank\">https://wandb.ai/joaoc-university-of-southampton/spectra-mamba-sweep/sweeps/pitkh7le</a>"
      ],
      "text/plain": [
       "<IPython.core.display.HTML object>"
      ]
     },
     "metadata": {},
     "output_type": "display_data"
    },
    {
     "data": {
      "text/html": [
       " View run at <a href='https://wandb.ai/joaoc-university-of-southampton/spectra-mamba-sweep/runs/srvl9krt' target=\"_blank\">https://wandb.ai/joaoc-university-of-southampton/spectra-mamba-sweep/runs/srvl9krt</a>"
      ],
      "text/plain": [
       "<IPython.core.display.HTML object>"
      ]
     },
     "metadata": {},
     "output_type": "display_data"
    },
    {
     "name": "stderr",
     "output_type": "stream",
     "text": [
      "C:\\Users\\jcwin\\AppData\\Local\\Packages\\PythonSoftwareFoundation.Python.3.11_qbz5n2kfra8p0\\LocalCache\\local-packages\\Python311\\site-packages\\torch\\optim\\lr_scheduler.py:60: UserWarning: The verbose parameter is deprecated. Please use get_last_lr() to access the learning rate.\n",
      "  warnings.warn(\n"
     ]
    },
    {
     "name": "stdout",
     "output_type": "stream",
     "text": [
      "Early stopping triggered.\n"
     ]
    },
    {
     "data": {
      "application/vnd.jupyter.widget-view+json": {
       "model_id": "d7f478ac7526413db0cb075c9230dd74",
       "version_major": 2,
       "version_minor": 0
      },
      "text/plain": [
       "VBox(children=(Label(value='0.066 MB of 0.066 MB uploaded\\r'), FloatProgress(value=1.0, max=1.0)))"
      ]
     },
     "metadata": {},
     "output_type": "display_data"
    },
    {
     "data": {
      "text/html": [
       "<style>\n",
       "    table.wandb td:nth-child(1) { padding: 0 10px; text-align: left ; width: auto;} td:nth-child(2) {text-align: left ; width: 100%}\n",
       "    .wandb-row { display: flex; flex-direction: row; flex-wrap: wrap; justify-content: flex-start; width: 100% }\n",
       "    .wandb-col { display: flex; flex-direction: column; flex-basis: 100%; flex: 1; padding: 10px; }\n",
       "    </style>\n",
       "<div class=\"wandb-row\"><div class=\"wandb-col\"><h3>Run history:</h3><br/><table class=\"wandb\"><tr><td>epoch</td><td>▁▁▁▂▂▂▂▂▂▃▃▃▃▃▃▄▄▄▄▄▅▅▅▅▅▅▆▆▆▆▆▆▇▇▇▇▇▇██</td></tr><tr><td>learning_rate</td><td>█████████████████████▃▃▃▃▃▃▃▃▃▃▃▁▁▁▁▁▁▁▁</td></tr><tr><td>test_accuracy</td><td>▄▆▆▇▇▇▇▇▇▇▇██▅▅▆▆▅▆▆▅▄▅▄▄▃▄▁▅▃▃▅▄▄▃▄▄▅▅▄</td></tr><tr><td>test_loss</td><td>▄▃▂▂▁▁▁▁▁▁▁▁▁▁▂▂▂▂▂▃▃▄▃▅▄▅▅▇▅▆▇▇▇▇█▇█▇██</td></tr><tr><td>train_accuracy</td><td>▁▄▄▅▅▅▆▆▆▆▆▆▆▆▆▇▇▇▇▇▇▇▇▇▇▇█▇▇███████████</td></tr><tr><td>train_loss</td><td>█▅▅▄▄▃▃▃▃▃▃▃▃▃▂▂▂▂▂▂▂▂▂▁▁▁▁▂▁▁▁▁▁▁▁▁▁▁▁▁</td></tr><tr><td>val_accuracy</td><td>▂▅▆▆▇▇▇█▇████▆▆▆▅▄▆▆▅▄▆▄▄▃▄▁▄▃▃▃▄▃▃▃▃▄▄▃</td></tr><tr><td>val_loss</td><td>▄▃▂▂▁▁▁▁▁▁▁▁▁▂▂▂▂▂▂▃▃▄▃▅▄▅▅▇▅▆▇▇▇▇█▇█▇██</td></tr></table><br/></div><div class=\"wandb-col\"><h3>Run summary:</h3><br/><table class=\"wandb\"><tr><td>classification_report</td><td>              precis...</td></tr><tr><td>epoch</td><td>41</td></tr><tr><td>learning_rate</td><td>0.0</td></tr><tr><td>test_accuracy</td><td>0.68348</td></tr><tr><td>test_loss</td><td>1.21955</td></tr><tr><td>train_accuracy</td><td>0.85383</td></tr><tr><td>train_loss</td><td>0.30419</td></tr><tr><td>val_accuracy</td><td>0.68211</td></tr><tr><td>val_loss</td><td>1.15511</td></tr></table><br/></div></div>"
      ],
      "text/plain": [
       "<IPython.core.display.HTML object>"
      ]
     },
     "metadata": {},
     "output_type": "display_data"
    },
    {
     "data": {
      "text/html": [
       " View run <strong style=\"color:#cdcd00\">dutiful-sweep-6</strong> at: <a href='https://wandb.ai/joaoc-university-of-southampton/spectra-mamba-sweep/runs/srvl9krt' target=\"_blank\">https://wandb.ai/joaoc-university-of-southampton/spectra-mamba-sweep/runs/srvl9krt</a><br/> View project at: <a href='https://wandb.ai/joaoc-university-of-southampton/spectra-mamba-sweep' target=\"_blank\">https://wandb.ai/joaoc-university-of-southampton/spectra-mamba-sweep</a><br/>Synced 5 W&B file(s), 0 media file(s), 84 artifact file(s) and 42 other file(s)"
      ],
      "text/plain": [
       "<IPython.core.display.HTML object>"
      ]
     },
     "metadata": {},
     "output_type": "display_data"
    },
    {
     "data": {
      "text/html": [
       "Find logs at: <code>.\\wandb\\run-20241127_174651-srvl9krt\\logs</code>"
      ],
      "text/plain": [
       "<IPython.core.display.HTML object>"
      ]
     },
     "metadata": {},
     "output_type": "display_data"
    },
    {
     "name": "stderr",
     "output_type": "stream",
     "text": [
      "wandb: Agent Starting Run: 6o2b64ex with config:\n",
      "wandb: \tdepth: 12\n",
      "wandb: \tdim: 256\n",
      "wandb: \tlr: 2e-06\n"
     ]
    },
    {
     "data": {
      "text/html": [
       "Tracking run with wandb version 0.18.5"
      ],
      "text/plain": [
       "<IPython.core.display.HTML object>"
      ]
     },
     "metadata": {},
     "output_type": "display_data"
    },
    {
     "data": {
      "text/html": [
       "Run data is saved locally in <code>c:\\Users\\jcwin\\OneDrive - University of Southampton\\_Southampton\\2024-25\\Star-Classifier\\wandb\\run-20241127_174940-6o2b64ex</code>"
      ],
      "text/plain": [
       "<IPython.core.display.HTML object>"
      ]
     },
     "metadata": {},
     "output_type": "display_data"
    },
    {
     "data": {
      "text/html": [
       "Syncing run <strong><a href='https://wandb.ai/joaoc-university-of-southampton/spectra-mamba-sweep/runs/6o2b64ex' target=\"_blank\">unique-sweep-7</a></strong> to <a href='https://wandb.ai/joaoc-university-of-southampton/spectra-mamba-sweep' target=\"_blank\">Weights & Biases</a> (<a href='https://wandb.me/run' target=\"_blank\">docs</a>)<br/>Sweep page: <a href='https://wandb.ai/joaoc-university-of-southampton/spectra-mamba-sweep/sweeps/pitkh7le' target=\"_blank\">https://wandb.ai/joaoc-university-of-southampton/spectra-mamba-sweep/sweeps/pitkh7le</a>"
      ],
      "text/plain": [
       "<IPython.core.display.HTML object>"
      ]
     },
     "metadata": {},
     "output_type": "display_data"
    },
    {
     "data": {
      "text/html": [
       " View project at <a href='https://wandb.ai/joaoc-university-of-southampton/spectra-mamba-sweep' target=\"_blank\">https://wandb.ai/joaoc-university-of-southampton/spectra-mamba-sweep</a>"
      ],
      "text/plain": [
       "<IPython.core.display.HTML object>"
      ]
     },
     "metadata": {},
     "output_type": "display_data"
    },
    {
     "data": {
      "text/html": [
       " View sweep at <a href='https://wandb.ai/joaoc-university-of-southampton/spectra-mamba-sweep/sweeps/pitkh7le' target=\"_blank\">https://wandb.ai/joaoc-university-of-southampton/spectra-mamba-sweep/sweeps/pitkh7le</a>"
      ],
      "text/plain": [
       "<IPython.core.display.HTML object>"
      ]
     },
     "metadata": {},
     "output_type": "display_data"
    },
    {
     "data": {
      "text/html": [
       " View run at <a href='https://wandb.ai/joaoc-university-of-southampton/spectra-mamba-sweep/runs/6o2b64ex' target=\"_blank\">https://wandb.ai/joaoc-university-of-southampton/spectra-mamba-sweep/runs/6o2b64ex</a>"
      ],
      "text/plain": [
       "<IPython.core.display.HTML object>"
      ]
     },
     "metadata": {},
     "output_type": "display_data"
    },
    {
     "name": "stderr",
     "output_type": "stream",
     "text": [
      "C:\\Users\\jcwin\\AppData\\Local\\Packages\\PythonSoftwareFoundation.Python.3.11_qbz5n2kfra8p0\\LocalCache\\local-packages\\Python311\\site-packages\\torch\\optim\\lr_scheduler.py:60: UserWarning: The verbose parameter is deprecated. Please use get_last_lr() to access the learning rate.\n",
      "  warnings.warn(\n"
     ]
    },
    {
     "name": "stdout",
     "output_type": "stream",
     "text": [
      "Early stopping triggered.\n"
     ]
    },
    {
     "data": {
      "application/vnd.jupyter.widget-view+json": {
       "model_id": "ef0df83a4b414ad8a5c16bc27a82da11",
       "version_major": 2,
       "version_minor": 0
      },
      "text/plain": [
       "VBox(children=(Label(value='0.303 MB of 0.303 MB uploaded\\r'), FloatProgress(value=1.0, max=1.0)))"
      ]
     },
     "metadata": {},
     "output_type": "display_data"
    },
    {
     "data": {
      "text/html": [
       "<style>\n",
       "    table.wandb td:nth-child(1) { padding: 0 10px; text-align: left ; width: auto;} td:nth-child(2) {text-align: left ; width: 100%}\n",
       "    .wandb-row { display: flex; flex-direction: row; flex-wrap: wrap; justify-content: flex-start; width: 100% }\n",
       "    .wandb-col { display: flex; flex-direction: column; flex-basis: 100%; flex: 1; padding: 10px; }\n",
       "    </style>\n",
       "<div class=\"wandb-row\"><div class=\"wandb-col\"><h3>Run history:</h3><br/><table class=\"wandb\"><tr><td>epoch</td><td>▁▁▁▁▁▂▂▂▂▂▂▃▃▃▃▃▃▃▄▄▄▅▅▅▅▆▆▆▆▆▆▆▆▆▇▇▇███</td></tr><tr><td>learning_rate</td><td>█████████████████████████████▄▄▄▄▄▂▂▂▁▁▁</td></tr><tr><td>test_accuracy</td><td>▁▃▄▆▇▇▇▇▇▇▇▇█▇▇█▇▇██████████████████████</td></tr><tr><td>test_loss</td><td>█▅▅▄▃▂▂▂▂▂▂▂▂▁▂▁▁▁▁▁▁▁▁▁▁▁▁▁▁▁▁▁▁▁▁▁▁▁▁▁</td></tr><tr><td>train_accuracy</td><td>▁▁▄▄▅▅▅▅▆▅▆▆▆▆▆▇▇▇▇▇█▇▇█▇█▇██▇██████████</td></tr><tr><td>train_loss</td><td>█▆▆▅▄▃▄▄▃▃▃▃▃▂▂▃▂▂▂▂▂▂▂▂▂▂▂▁▁▁▁▁▁▁▁▁▁▁▁▁</td></tr><tr><td>val_accuracy</td><td>▁▂▃▃▅▆▇▇▇▇▇▇▇▇▇▇████████▇▇███▇████▇█████</td></tr><tr><td>val_loss</td><td>█▆▃▃▂▂▂▂▂▂▂▂▁▁▁▁▁▁▁▁▁▁▁▁▁▁▁▁▁▁▁▁▁▁▁▁▁▁▁▁</td></tr></table><br/></div><div class=\"wandb-col\"><h3>Run summary:</h3><br/><table class=\"wandb\"><tr><td>classification_report</td><td>              precis...</td></tr><tr><td>epoch</td><td>222</td></tr><tr><td>learning_rate</td><td>0.0</td></tr><tr><td>test_accuracy</td><td>0.74397</td></tr><tr><td>test_loss</td><td>0.5423</td></tr><tr><td>train_accuracy</td><td>0.78694</td></tr><tr><td>train_loss</td><td>0.47046</td></tr><tr><td>val_accuracy</td><td>0.74986</td></tr><tr><td>val_loss</td><td>0.54746</td></tr></table><br/></div></div>"
      ],
      "text/plain": [
       "<IPython.core.display.HTML object>"
      ]
     },
     "metadata": {},
     "output_type": "display_data"
    },
    {
     "data": {
      "text/html": [
       " View run <strong style=\"color:#cdcd00\">unique-sweep-7</strong> at: <a href='https://wandb.ai/joaoc-university-of-southampton/spectra-mamba-sweep/runs/6o2b64ex' target=\"_blank\">https://wandb.ai/joaoc-university-of-southampton/spectra-mamba-sweep/runs/6o2b64ex</a><br/> View project at: <a href='https://wandb.ai/joaoc-university-of-southampton/spectra-mamba-sweep' target=\"_blank\">https://wandb.ai/joaoc-university-of-southampton/spectra-mamba-sweep</a><br/>Synced 5 W&B file(s), 0 media file(s), 446 artifact file(s) and 223 other file(s)"
      ],
      "text/plain": [
       "<IPython.core.display.HTML object>"
      ]
     },
     "metadata": {},
     "output_type": "display_data"
    },
    {
     "data": {
      "text/html": [
       "Find logs at: <code>.\\wandb\\run-20241127_174940-6o2b64ex\\logs</code>"
      ],
      "text/plain": [
       "<IPython.core.display.HTML object>"
      ]
     },
     "metadata": {},
     "output_type": "display_data"
    },
    {
     "name": "stderr",
     "output_type": "stream",
     "text": [
      "wandb: Agent Starting Run: 7uzutv2r with config:\n",
      "wandb: \tdepth: 3\n",
      "wandb: \tdim: 1024\n",
      "wandb: \tlr: 2e-06\n"
     ]
    },
    {
     "data": {
      "text/html": [
       "Tracking run with wandb version 0.18.5"
      ],
      "text/plain": [
       "<IPython.core.display.HTML object>"
      ]
     },
     "metadata": {},
     "output_type": "display_data"
    },
    {
     "data": {
      "text/html": [
       "Run data is saved locally in <code>c:\\Users\\jcwin\\OneDrive - University of Southampton\\_Southampton\\2024-25\\Star-Classifier\\wandb\\run-20241127_175646-7uzutv2r</code>"
      ],
      "text/plain": [
       "<IPython.core.display.HTML object>"
      ]
     },
     "metadata": {},
     "output_type": "display_data"
    },
    {
     "data": {
      "text/html": [
       "Syncing run <strong><a href='https://wandb.ai/joaoc-university-of-southampton/spectra-mamba-sweep/runs/7uzutv2r' target=\"_blank\">lunar-sweep-8</a></strong> to <a href='https://wandb.ai/joaoc-university-of-southampton/spectra-mamba-sweep' target=\"_blank\">Weights & Biases</a> (<a href='https://wandb.me/run' target=\"_blank\">docs</a>)<br/>Sweep page: <a href='https://wandb.ai/joaoc-university-of-southampton/spectra-mamba-sweep/sweeps/pitkh7le' target=\"_blank\">https://wandb.ai/joaoc-university-of-southampton/spectra-mamba-sweep/sweeps/pitkh7le</a>"
      ],
      "text/plain": [
       "<IPython.core.display.HTML object>"
      ]
     },
     "metadata": {},
     "output_type": "display_data"
    },
    {
     "data": {
      "text/html": [
       " View project at <a href='https://wandb.ai/joaoc-university-of-southampton/spectra-mamba-sweep' target=\"_blank\">https://wandb.ai/joaoc-university-of-southampton/spectra-mamba-sweep</a>"
      ],
      "text/plain": [
       "<IPython.core.display.HTML object>"
      ]
     },
     "metadata": {},
     "output_type": "display_data"
    },
    {
     "data": {
      "text/html": [
       " View sweep at <a href='https://wandb.ai/joaoc-university-of-southampton/spectra-mamba-sweep/sweeps/pitkh7le' target=\"_blank\">https://wandb.ai/joaoc-university-of-southampton/spectra-mamba-sweep/sweeps/pitkh7le</a>"
      ],
      "text/plain": [
       "<IPython.core.display.HTML object>"
      ]
     },
     "metadata": {},
     "output_type": "display_data"
    },
    {
     "data": {
      "text/html": [
       " View run at <a href='https://wandb.ai/joaoc-university-of-southampton/spectra-mamba-sweep/runs/7uzutv2r' target=\"_blank\">https://wandb.ai/joaoc-university-of-southampton/spectra-mamba-sweep/runs/7uzutv2r</a>"
      ],
      "text/plain": [
       "<IPython.core.display.HTML object>"
      ]
     },
     "metadata": {},
     "output_type": "display_data"
    },
    {
     "name": "stderr",
     "output_type": "stream",
     "text": [
      "C:\\Users\\jcwin\\AppData\\Local\\Packages\\PythonSoftwareFoundation.Python.3.11_qbz5n2kfra8p0\\LocalCache\\local-packages\\Python311\\site-packages\\torch\\optim\\lr_scheduler.py:60: UserWarning: The verbose parameter is deprecated. Please use get_last_lr() to access the learning rate.\n",
      "  warnings.warn(\n"
     ]
    },
    {
     "name": "stdout",
     "output_type": "stream",
     "text": [
      "Early stopping triggered.\n"
     ]
    },
    {
     "data": {
      "application/vnd.jupyter.widget-view+json": {
       "model_id": "4895b86752084b2886a110421e77db66",
       "version_major": 2,
       "version_minor": 0
      },
      "text/plain": [
       "VBox(children=(Label(value='0.134 MB of 0.134 MB uploaded\\r'), FloatProgress(value=1.0, max=1.0)))"
      ]
     },
     "metadata": {},
     "output_type": "display_data"
    },
    {
     "data": {
      "text/html": [
       "<style>\n",
       "    table.wandb td:nth-child(1) { padding: 0 10px; text-align: left ; width: auto;} td:nth-child(2) {text-align: left ; width: 100%}\n",
       "    .wandb-row { display: flex; flex-direction: row; flex-wrap: wrap; justify-content: flex-start; width: 100% }\n",
       "    .wandb-col { display: flex; flex-direction: column; flex-basis: 100%; flex: 1; padding: 10px; }\n",
       "    </style>\n",
       "<div class=\"wandb-row\"><div class=\"wandb-col\"><h3>Run history:</h3><br/><table class=\"wandb\"><tr><td>epoch</td><td>▁▁▁▁▁▂▂▃▃▃▃▃▃▃▄▄▄▄▄▅▅▅▅▅▆▆▆▆▆▆▇▇▇▇▇▇▇███</td></tr><tr><td>learning_rate</td><td>█████████████████████████████████▃▃▃▃▁▁▁</td></tr><tr><td>test_accuracy</td><td>▁▃▄▅▅▅▆▆▇▇▇▇▇▇▇▇▇▇▇▇▇▇▇█████████▇███████</td></tr><tr><td>test_loss</td><td>█▇▆▅▄▄▃▂▂▂▂▂▂▂▂▁▁▁▁▁▁▁▁▁▁▁▁▁▁▁▁▁▁▁▁▁▁▁▁▁</td></tr><tr><td>train_accuracy</td><td>▁▃▄▄▅▅▆▆▆▆▆▆▆▆▆▆▇▇▇▇▇▇▇▇▇▇▇██▇▇█████████</td></tr><tr><td>train_loss</td><td>█▇▆▆▆▅▄▄▄▄▃▃▃▃▃▃▂▂▂▂▂▂▂▂▂▂▂▂▁▂▁▁▁▁▁▁▁▁▁▁</td></tr><tr><td>val_accuracy</td><td>▁▂▅▄▅▆▆▇▇▇▇▇▇▇▇██▇▇█████████████████████</td></tr><tr><td>val_loss</td><td>█▆▅▅▄▄▃▃▃▂▂▂▂▂▂▁▁▁▁▁▁▁▁▁▁▁▁▁▁▁▁▁▁▁▁▁▁▁▁▁</td></tr></table><br/></div><div class=\"wandb-col\"><h3>Run summary:</h3><br/><table class=\"wandb\"><tr><td>classification_report</td><td>              precis...</td></tr><tr><td>epoch</td><td>93</td></tr><tr><td>learning_rate</td><td>0.0</td></tr><tr><td>test_accuracy</td><td>0.73862</td></tr><tr><td>test_loss</td><td>0.55779</td></tr><tr><td>train_accuracy</td><td>0.79406</td></tr><tr><td>train_loss</td><td>0.45494</td></tr><tr><td>val_accuracy</td><td>0.75572</td></tr><tr><td>val_loss</td><td>0.54654</td></tr></table><br/></div></div>"
      ],
      "text/plain": [
       "<IPython.core.display.HTML object>"
      ]
     },
     "metadata": {},
     "output_type": "display_data"
    },
    {
     "data": {
      "text/html": [
       " View run <strong style=\"color:#cdcd00\">lunar-sweep-8</strong> at: <a href='https://wandb.ai/joaoc-university-of-southampton/spectra-mamba-sweep/runs/7uzutv2r' target=\"_blank\">https://wandb.ai/joaoc-university-of-southampton/spectra-mamba-sweep/runs/7uzutv2r</a><br/> View project at: <a href='https://wandb.ai/joaoc-university-of-southampton/spectra-mamba-sweep' target=\"_blank\">https://wandb.ai/joaoc-university-of-southampton/spectra-mamba-sweep</a><br/>Synced 5 W&B file(s), 0 media file(s), 188 artifact file(s) and 94 other file(s)"
      ],
      "text/plain": [
       "<IPython.core.display.HTML object>"
      ]
     },
     "metadata": {},
     "output_type": "display_data"
    },
    {
     "data": {
      "text/html": [
       "Find logs at: <code>.\\wandb\\run-20241127_175646-7uzutv2r\\logs</code>"
      ],
      "text/plain": [
       "<IPython.core.display.HTML object>"
      ]
     },
     "metadata": {},
     "output_type": "display_data"
    },
    {
     "name": "stderr",
     "output_type": "stream",
     "text": [
      "wandb: Agent Starting Run: 4d0u86e6 with config:\n",
      "wandb: \tdepth: 12\n",
      "wandb: \tdim: 2048\n",
      "wandb: \tlr: 0.0001\n"
     ]
    },
    {
     "data": {
      "text/html": [
       "Tracking run with wandb version 0.18.5"
      ],
      "text/plain": [
       "<IPython.core.display.HTML object>"
      ]
     },
     "metadata": {},
     "output_type": "display_data"
    },
    {
     "data": {
      "text/html": [
       "Run data is saved locally in <code>c:\\Users\\jcwin\\OneDrive - University of Southampton\\_Southampton\\2024-25\\Star-Classifier\\wandb\\run-20241127_175945-4d0u86e6</code>"
      ],
      "text/plain": [
       "<IPython.core.display.HTML object>"
      ]
     },
     "metadata": {},
     "output_type": "display_data"
    },
    {
     "data": {
      "text/html": [
       "Syncing run <strong><a href='https://wandb.ai/joaoc-university-of-southampton/spectra-mamba-sweep/runs/4d0u86e6' target=\"_blank\">fluent-sweep-9</a></strong> to <a href='https://wandb.ai/joaoc-university-of-southampton/spectra-mamba-sweep' target=\"_blank\">Weights & Biases</a> (<a href='https://wandb.me/run' target=\"_blank\">docs</a>)<br/>Sweep page: <a href='https://wandb.ai/joaoc-university-of-southampton/spectra-mamba-sweep/sweeps/pitkh7le' target=\"_blank\">https://wandb.ai/joaoc-university-of-southampton/spectra-mamba-sweep/sweeps/pitkh7le</a>"
      ],
      "text/plain": [
       "<IPython.core.display.HTML object>"
      ]
     },
     "metadata": {},
     "output_type": "display_data"
    },
    {
     "data": {
      "text/html": [
       " View project at <a href='https://wandb.ai/joaoc-university-of-southampton/spectra-mamba-sweep' target=\"_blank\">https://wandb.ai/joaoc-university-of-southampton/spectra-mamba-sweep</a>"
      ],
      "text/plain": [
       "<IPython.core.display.HTML object>"
      ]
     },
     "metadata": {},
     "output_type": "display_data"
    },
    {
     "data": {
      "text/html": [
       " View sweep at <a href='https://wandb.ai/joaoc-university-of-southampton/spectra-mamba-sweep/sweeps/pitkh7le' target=\"_blank\">https://wandb.ai/joaoc-university-of-southampton/spectra-mamba-sweep/sweeps/pitkh7le</a>"
      ],
      "text/plain": [
       "<IPython.core.display.HTML object>"
      ]
     },
     "metadata": {},
     "output_type": "display_data"
    },
    {
     "data": {
      "text/html": [
       " View run at <a href='https://wandb.ai/joaoc-university-of-southampton/spectra-mamba-sweep/runs/4d0u86e6' target=\"_blank\">https://wandb.ai/joaoc-university-of-southampton/spectra-mamba-sweep/runs/4d0u86e6</a>"
      ],
      "text/plain": [
       "<IPython.core.display.HTML object>"
      ]
     },
     "metadata": {},
     "output_type": "display_data"
    },
    {
     "name": "stderr",
     "output_type": "stream",
     "text": [
      "C:\\Users\\jcwin\\AppData\\Local\\Packages\\PythonSoftwareFoundation.Python.3.11_qbz5n2kfra8p0\\LocalCache\\local-packages\\Python311\\site-packages\\torch\\optim\\lr_scheduler.py:60: UserWarning: The verbose parameter is deprecated. Please use get_last_lr() to access the learning rate.\n",
      "  warnings.warn(\n"
     ]
    },
    {
     "name": "stdout",
     "output_type": "stream",
     "text": [
      "Early stopping triggered.\n"
     ]
    },
    {
     "data": {
      "application/vnd.jupyter.widget-view+json": {
       "model_id": "3ebb3fe8a568430f8c56c0076f72982f",
       "version_major": 2,
       "version_minor": 0
      },
      "text/plain": [
       "VBox(children=(Label(value='0.055 MB of 0.055 MB uploaded\\r'), FloatProgress(value=1.0, max=1.0)))"
      ]
     },
     "metadata": {},
     "output_type": "display_data"
    },
    {
     "data": {
      "text/html": [
       "<style>\n",
       "    table.wandb td:nth-child(1) { padding: 0 10px; text-align: left ; width: auto;} td:nth-child(2) {text-align: left ; width: 100%}\n",
       "    .wandb-row { display: flex; flex-direction: row; flex-wrap: wrap; justify-content: flex-start; width: 100% }\n",
       "    .wandb-col { display: flex; flex-direction: column; flex-basis: 100%; flex: 1; padding: 10px; }\n",
       "    </style>\n",
       "<div class=\"wandb-row\"><div class=\"wandb-col\"><h3>Run history:</h3><br/><table class=\"wandb\"><tr><td>epoch</td><td>▁▁▁▂▂▂▂▂▃▃▃▃▄▄▄▄▄▅▅▅▅▅▆▆▆▆▇▇▇▇▇███</td></tr><tr><td>learning_rate</td><td>██████████████▃▃▃▃▃▃▃▃▃▃▃▁▁▁▁▁▁▁▁▁</td></tr><tr><td>test_accuracy</td><td>▄▆██▆▆▅▅▇▄▅▆▇▄▁▁▄▃▃▄▃▆▃▄▃▂▃▂▂▂▃▃▁▃</td></tr><tr><td>test_loss</td><td>▂▁▁▁▁▂▁▂▂▂▂▂▂▂▃▃▃▅▅▄▄▃▄▃▅▄▅▆▇▇▆▆█▇</td></tr><tr><td>train_accuracy</td><td>▁▄▅▅▅▅▆▆▆▇▆▆▆▆▇▇▇▇▇▇▇▇▇▇▇▇▇███████</td></tr><tr><td>train_loss</td><td>█▃▃▃▂▃▂▂▂▂▂▂▂▂▂▂▁▁▁▁▁▁▁▁▁▁▁▁▁▁▁▁▁▁</td></tr><tr><td>val_accuracy</td><td>▃▆█▆▅▅▄▅▇▄▇▇▆▄▂▃▄▃▂▄▃▅▂▃▁▃▃▂▁▁▂▂▁▂</td></tr><tr><td>val_loss</td><td>▂▁▁▁▁▂▂▂▁▂▂▂▂▃▃▃▄▅▆▄▄▄▄▄▆▄▅▆▇▇▆▆█▇</td></tr></table><br/></div><div class=\"wandb-col\"><h3>Run summary:</h3><br/><table class=\"wandb\"><tr><td>classification_report</td><td>              precis...</td></tr><tr><td>epoch</td><td>33</td></tr><tr><td>learning_rate</td><td>3e-05</td></tr><tr><td>test_accuracy</td><td>0.66719</td></tr><tr><td>test_loss</td><td>1.43654</td></tr><tr><td>train_accuracy</td><td>0.84941</td></tr><tr><td>train_loss</td><td>0.30494</td></tr><tr><td>val_accuracy</td><td>0.66776</td></tr><tr><td>val_loss</td><td>1.33641</td></tr></table><br/></div></div>"
      ],
      "text/plain": [
       "<IPython.core.display.HTML object>"
      ]
     },
     "metadata": {},
     "output_type": "display_data"
    },
    {
     "data": {
      "text/html": [
       " View run <strong style=\"color:#cdcd00\">fluent-sweep-9</strong> at: <a href='https://wandb.ai/joaoc-university-of-southampton/spectra-mamba-sweep/runs/4d0u86e6' target=\"_blank\">https://wandb.ai/joaoc-university-of-southampton/spectra-mamba-sweep/runs/4d0u86e6</a><br/> View project at: <a href='https://wandb.ai/joaoc-university-of-southampton/spectra-mamba-sweep' target=\"_blank\">https://wandb.ai/joaoc-university-of-southampton/spectra-mamba-sweep</a><br/>Synced 5 W&B file(s), 0 media file(s), 68 artifact file(s) and 34 other file(s)"
      ],
      "text/plain": [
       "<IPython.core.display.HTML object>"
      ]
     },
     "metadata": {},
     "output_type": "display_data"
    },
    {
     "data": {
      "text/html": [
       "Find logs at: <code>.\\wandb\\run-20241127_175945-4d0u86e6\\logs</code>"
      ],
      "text/plain": [
       "<IPython.core.display.HTML object>"
      ]
     },
     "metadata": {},
     "output_type": "display_data"
    },
    {
     "name": "stderr",
     "output_type": "stream",
     "text": [
      "wandb: Agent Starting Run: 2eh1hdbe with config:\n",
      "wandb: \tdepth: 12\n",
      "wandb: \tdim: 64\n",
      "wandb: \tlr: 2e-06\n"
     ]
    },
    {
     "data": {
      "text/html": [
       "Tracking run with wandb version 0.18.5"
      ],
      "text/plain": [
       "<IPython.core.display.HTML object>"
      ]
     },
     "metadata": {},
     "output_type": "display_data"
    },
    {
     "data": {
      "text/html": [
       "Run data is saved locally in <code>c:\\Users\\jcwin\\OneDrive - University of Southampton\\_Southampton\\2024-25\\Star-Classifier\\wandb\\run-20241127_180736-2eh1hdbe</code>"
      ],
      "text/plain": [
       "<IPython.core.display.HTML object>"
      ]
     },
     "metadata": {},
     "output_type": "display_data"
    },
    {
     "data": {
      "text/html": [
       "Syncing run <strong><a href='https://wandb.ai/joaoc-university-of-southampton/spectra-mamba-sweep/runs/2eh1hdbe' target=\"_blank\">wobbly-sweep-10</a></strong> to <a href='https://wandb.ai/joaoc-university-of-southampton/spectra-mamba-sweep' target=\"_blank\">Weights & Biases</a> (<a href='https://wandb.me/run' target=\"_blank\">docs</a>)<br/>Sweep page: <a href='https://wandb.ai/joaoc-university-of-southampton/spectra-mamba-sweep/sweeps/pitkh7le' target=\"_blank\">https://wandb.ai/joaoc-university-of-southampton/spectra-mamba-sweep/sweeps/pitkh7le</a>"
      ],
      "text/plain": [
       "<IPython.core.display.HTML object>"
      ]
     },
     "metadata": {},
     "output_type": "display_data"
    },
    {
     "data": {
      "text/html": [
       " View project at <a href='https://wandb.ai/joaoc-university-of-southampton/spectra-mamba-sweep' target=\"_blank\">https://wandb.ai/joaoc-university-of-southampton/spectra-mamba-sweep</a>"
      ],
      "text/plain": [
       "<IPython.core.display.HTML object>"
      ]
     },
     "metadata": {},
     "output_type": "display_data"
    },
    {
     "data": {
      "text/html": [
       " View sweep at <a href='https://wandb.ai/joaoc-university-of-southampton/spectra-mamba-sweep/sweeps/pitkh7le' target=\"_blank\">https://wandb.ai/joaoc-university-of-southampton/spectra-mamba-sweep/sweeps/pitkh7le</a>"
      ],
      "text/plain": [
       "<IPython.core.display.HTML object>"
      ]
     },
     "metadata": {},
     "output_type": "display_data"
    },
    {
     "data": {
      "text/html": [
       " View run at <a href='https://wandb.ai/joaoc-university-of-southampton/spectra-mamba-sweep/runs/2eh1hdbe' target=\"_blank\">https://wandb.ai/joaoc-university-of-southampton/spectra-mamba-sweep/runs/2eh1hdbe</a>"
      ],
      "text/plain": [
       "<IPython.core.display.HTML object>"
      ]
     },
     "metadata": {},
     "output_type": "display_data"
    },
    {
     "name": "stderr",
     "output_type": "stream",
     "text": [
      "C:\\Users\\jcwin\\AppData\\Local\\Packages\\PythonSoftwareFoundation.Python.3.11_qbz5n2kfra8p0\\LocalCache\\local-packages\\Python311\\site-packages\\torch\\optim\\lr_scheduler.py:60: UserWarning: The verbose parameter is deprecated. Please use get_last_lr() to access the learning rate.\n",
      "  warnings.warn(\n"
     ]
    },
    {
     "name": "stdout",
     "output_type": "stream",
     "text": [
      "Early stopping triggered.\n"
     ]
    },
    {
     "data": {
      "application/vnd.jupyter.widget-view+json": {
       "model_id": "d71acd7048d6429886e4e5e31514dea9",
       "version_major": 2,
       "version_minor": 0
      },
      "text/plain": [
       "VBox(children=(Label(value='0.634 MB of 0.634 MB uploaded\\r'), FloatProgress(value=1.0, max=1.0)))"
      ]
     },
     "metadata": {},
     "output_type": "display_data"
    },
    {
     "data": {
      "text/html": [
       "<style>\n",
       "    table.wandb td:nth-child(1) { padding: 0 10px; text-align: left ; width: auto;} td:nth-child(2) {text-align: left ; width: 100%}\n",
       "    .wandb-row { display: flex; flex-direction: row; flex-wrap: wrap; justify-content: flex-start; width: 100% }\n",
       "    .wandb-col { display: flex; flex-direction: column; flex-basis: 100%; flex: 1; padding: 10px; }\n",
       "    </style>\n",
       "<div class=\"wandb-row\"><div class=\"wandb-col\"><h3>Run history:</h3><br/><table class=\"wandb\"><tr><td>epoch</td><td>▁▁▂▂▂▂▂▂▂▂▂▃▃▃▃▄▄▅▅▅▅▅▆▆▆▆▆▆▆▆▇▇▇▇▇▇▇███</td></tr><tr><td>learning_rate</td><td>███████████████████████████████████▄▃▃▁▁</td></tr><tr><td>test_accuracy</td><td>▁▅▅▆▆▆▇▇▇▇▇▇█▇▇█▇▇██████████████████████</td></tr><tr><td>test_loss</td><td>█▄▄▃▃▃▂▂▂▂▂▂▂▂▂▂▂▂▂▁▁▁▁▁▁▁▁▁▁▁▁▁▁▁▁▁▁▁▁▁</td></tr><tr><td>train_accuracy</td><td>▁▂▂▃▃▄▅▅▅▅▅▅▆▆▆▆▆▆▆▆▆▇▆▆▇▇▇▇▇▇█▇██▇█▇███</td></tr><tr><td>train_loss</td><td>█▄▄▄▄▄▃▃▃▃▃▃▂▂▂▂▂▂▂▂▂▂▂▂▂▁▂▁▁▁▁▁▁▁▁▁▁▁▁▁</td></tr><tr><td>val_accuracy</td><td>▁▂▃▄▄▅▅▅▆▆▆▇▇▇▇█████████████████████████</td></tr><tr><td>val_loss</td><td>█▆▅▅▄▄▄▃▃▂▂▂▂▂▂▂▂▂▂▁▁▁▁▁▁▁▁▁▁▁▁▁▁▁▁▁▁▁▁▁</td></tr></table><br/></div><div class=\"wandb-col\"><h3>Run summary:</h3><br/><table class=\"wandb\"><tr><td>classification_report</td><td>              precis...</td></tr><tr><td>epoch</td><td>477</td></tr><tr><td>learning_rate</td><td>0.0</td></tr><tr><td>test_accuracy</td><td>0.74643</td></tr><tr><td>test_loss</td><td>0.57047</td></tr><tr><td>train_accuracy</td><td>0.76639</td></tr><tr><td>train_loss</td><td>0.51655</td></tr><tr><td>val_accuracy</td><td>0.75051</td></tr><tr><td>val_loss</td><td>0.56579</td></tr></table><br/></div></div>"
      ],
      "text/plain": [
       "<IPython.core.display.HTML object>"
      ]
     },
     "metadata": {},
     "output_type": "display_data"
    },
    {
     "data": {
      "text/html": [
       " View run <strong style=\"color:#cdcd00\">wobbly-sweep-10</strong> at: <a href='https://wandb.ai/joaoc-university-of-southampton/spectra-mamba-sweep/runs/2eh1hdbe' target=\"_blank\">https://wandb.ai/joaoc-university-of-southampton/spectra-mamba-sweep/runs/2eh1hdbe</a><br/> View project at: <a href='https://wandb.ai/joaoc-university-of-southampton/spectra-mamba-sweep' target=\"_blank\">https://wandb.ai/joaoc-university-of-southampton/spectra-mamba-sweep</a><br/>Synced 5 W&B file(s), 0 media file(s), 952 artifact file(s) and 478 other file(s)"
      ],
      "text/plain": [
       "<IPython.core.display.HTML object>"
      ]
     },
     "metadata": {},
     "output_type": "display_data"
    },
    {
     "data": {
      "text/html": [
       "Find logs at: <code>.\\wandb\\run-20241127_180736-2eh1hdbe\\logs</code>"
      ],
      "text/plain": [
       "<IPython.core.display.HTML object>"
      ]
     },
     "metadata": {},
     "output_type": "display_data"
    },
    {
     "name": "stderr",
     "output_type": "stream",
     "text": [
      "wandb: Agent Starting Run: 1yrntaqx with config:\n",
      "wandb: \tdepth: 12\n",
      "wandb: \tdim: 2048\n",
      "wandb: \tlr: 0.0001\n"
     ]
    },
    {
     "data": {
      "text/html": [
       "Tracking run with wandb version 0.18.5"
      ],
      "text/plain": [
       "<IPython.core.display.HTML object>"
      ]
     },
     "metadata": {},
     "output_type": "display_data"
    },
    {
     "data": {
      "text/html": [
       "Run data is saved locally in <code>c:\\Users\\jcwin\\OneDrive - University of Southampton\\_Southampton\\2024-25\\Star-Classifier\\wandb\\run-20241127_182137-1yrntaqx</code>"
      ],
      "text/plain": [
       "<IPython.core.display.HTML object>"
      ]
     },
     "metadata": {},
     "output_type": "display_data"
    },
    {
     "data": {
      "text/html": [
       "Syncing run <strong><a href='https://wandb.ai/joaoc-university-of-southampton/spectra-mamba-sweep/runs/1yrntaqx' target=\"_blank\">dainty-sweep-11</a></strong> to <a href='https://wandb.ai/joaoc-university-of-southampton/spectra-mamba-sweep' target=\"_blank\">Weights & Biases</a> (<a href='https://wandb.me/run' target=\"_blank\">docs</a>)<br/>Sweep page: <a href='https://wandb.ai/joaoc-university-of-southampton/spectra-mamba-sweep/sweeps/pitkh7le' target=\"_blank\">https://wandb.ai/joaoc-university-of-southampton/spectra-mamba-sweep/sweeps/pitkh7le</a>"
      ],
      "text/plain": [
       "<IPython.core.display.HTML object>"
      ]
     },
     "metadata": {},
     "output_type": "display_data"
    },
    {
     "data": {
      "text/html": [
       " View project at <a href='https://wandb.ai/joaoc-university-of-southampton/spectra-mamba-sweep' target=\"_blank\">https://wandb.ai/joaoc-university-of-southampton/spectra-mamba-sweep</a>"
      ],
      "text/plain": [
       "<IPython.core.display.HTML object>"
      ]
     },
     "metadata": {},
     "output_type": "display_data"
    },
    {
     "data": {
      "text/html": [
       " View sweep at <a href='https://wandb.ai/joaoc-university-of-southampton/spectra-mamba-sweep/sweeps/pitkh7le' target=\"_blank\">https://wandb.ai/joaoc-university-of-southampton/spectra-mamba-sweep/sweeps/pitkh7le</a>"
      ],
      "text/plain": [
       "<IPython.core.display.HTML object>"
      ]
     },
     "metadata": {},
     "output_type": "display_data"
    },
    {
     "data": {
      "text/html": [
       " View run at <a href='https://wandb.ai/joaoc-university-of-southampton/spectra-mamba-sweep/runs/1yrntaqx' target=\"_blank\">https://wandb.ai/joaoc-university-of-southampton/spectra-mamba-sweep/runs/1yrntaqx</a>"
      ],
      "text/plain": [
       "<IPython.core.display.HTML object>"
      ]
     },
     "metadata": {},
     "output_type": "display_data"
    },
    {
     "name": "stderr",
     "output_type": "stream",
     "text": [
      "C:\\Users\\jcwin\\AppData\\Local\\Packages\\PythonSoftwareFoundation.Python.3.11_qbz5n2kfra8p0\\LocalCache\\local-packages\\Python311\\site-packages\\torch\\optim\\lr_scheduler.py:60: UserWarning: The verbose parameter is deprecated. Please use get_last_lr() to access the learning rate.\n",
      "  warnings.warn(\n"
     ]
    },
    {
     "name": "stdout",
     "output_type": "stream",
     "text": [
      "Early stopping triggered.\n"
     ]
    },
    {
     "data": {
      "application/vnd.jupyter.widget-view+json": {
       "model_id": "e3795eaaee9f4bc8909e400c4ac9d7eb",
       "version_major": 2,
       "version_minor": 0
      },
      "text/plain": [
       "VBox(children=(Label(value='0.061 MB of 0.061 MB uploaded\\r'), FloatProgress(value=1.0, max=1.0)))"
      ]
     },
     "metadata": {},
     "output_type": "display_data"
    },
    {
     "data": {
      "text/html": [
       "<style>\n",
       "    table.wandb td:nth-child(1) { padding: 0 10px; text-align: left ; width: auto;} td:nth-child(2) {text-align: left ; width: 100%}\n",
       "    .wandb-row { display: flex; flex-direction: row; flex-wrap: wrap; justify-content: flex-start; width: 100% }\n",
       "    .wandb-col { display: flex; flex-direction: column; flex-basis: 100%; flex: 1; padding: 10px; }\n",
       "    </style>\n",
       "<div class=\"wandb-row\"><div class=\"wandb-col\"><h3>Run history:</h3><br/><table class=\"wandb\"><tr><td>epoch</td><td>▁▁▁▂▂▂▂▂▃▃▃▃▃▃▄▄▄▄▄▅▅▅▅▅▆▆▆▆▆▆▇▇▇▇▇███</td></tr><tr><td>learning_rate</td><td>██████████████████▃▃▃▃▃▃▃▃▃▃▃▁▁▁▁▁▁▁▁▁</td></tr><tr><td>test_accuracy</td><td>▁▄▇▇█▇▆█▇█▆▃▇▂▇▅▅▅▃▄▃▂▂▃▄▃▄▃▁▃▄▄▂▃▂▂▃▂</td></tr><tr><td>test_loss</td><td>▂▂▁▁▁▂▁▁▁▁▂▂▂▂▁▂▂▂▃▃▄▄▃▅▄▄▄▅▆▄▄▅▆▆▆█▇▇</td></tr><tr><td>train_accuracy</td><td>▁▄▅▅▆▆▆▅▆▆▆▆▆▇▆▇▇▇▇▇▇▇▇▇▇▇▇███████████</td></tr><tr><td>train_loss</td><td>█▃▃▃▂▃▃▂▂▂▂▂▂▂▂▂▂▂▂▁▁▁▁▁▁▁▁▁▁▁▁▁▁▁▁▁▁▁</td></tr><tr><td>val_accuracy</td><td>▁▅▆▇▆▆▆█▇▇▅▄▇▃▇▄▆▆▃▅▃▂▃▃▃▄▃▃▂▃▄▃▂▃▃▂▃▃</td></tr><tr><td>val_loss</td><td>▂▁▁▁▁▂▁▁▁▁▂▂▂▂▂▂▂▂▃▃▅▄▄▅▄▅▄▅▆▅▅▆▆▆▆█▇▇</td></tr></table><br/></div><div class=\"wandb-col\"><h3>Run summary:</h3><br/><table class=\"wandb\"><tr><td>classification_report</td><td>              precis...</td></tr><tr><td>epoch</td><td>37</td></tr><tr><td>learning_rate</td><td>3e-05</td></tr><tr><td>test_accuracy</td><td>0.64989</td></tr><tr><td>test_loss</td><td>1.63976</td></tr><tr><td>train_accuracy</td><td>0.84997</td></tr><tr><td>train_loss</td><td>0.29584</td></tr><tr><td>val_accuracy</td><td>0.67884</td></tr><tr><td>val_loss</td><td>1.53915</td></tr></table><br/></div></div>"
      ],
      "text/plain": [
       "<IPython.core.display.HTML object>"
      ]
     },
     "metadata": {},
     "output_type": "display_data"
    },
    {
     "data": {
      "text/html": [
       " View run <strong style=\"color:#cdcd00\">dainty-sweep-11</strong> at: <a href='https://wandb.ai/joaoc-university-of-southampton/spectra-mamba-sweep/runs/1yrntaqx' target=\"_blank\">https://wandb.ai/joaoc-university-of-southampton/spectra-mamba-sweep/runs/1yrntaqx</a><br/> View project at: <a href='https://wandb.ai/joaoc-university-of-southampton/spectra-mamba-sweep' target=\"_blank\">https://wandb.ai/joaoc-university-of-southampton/spectra-mamba-sweep</a><br/>Synced 5 W&B file(s), 0 media file(s), 76 artifact file(s) and 38 other file(s)"
      ],
      "text/plain": [
       "<IPython.core.display.HTML object>"
      ]
     },
     "metadata": {},
     "output_type": "display_data"
    },
    {
     "data": {
      "text/html": [
       "Find logs at: <code>.\\wandb\\run-20241127_182137-1yrntaqx\\logs</code>"
      ],
      "text/plain": [
       "<IPython.core.display.HTML object>"
      ]
     },
     "metadata": {},
     "output_type": "display_data"
    },
    {
     "name": "stderr",
     "output_type": "stream",
     "text": [
      "wandb: Agent Starting Run: lu4ido6m with config:\n",
      "wandb: \tdepth: 3\n",
      "wandb: \tdim: 1024\n",
      "wandb: \tlr: 1e-05\n"
     ]
    },
    {
     "data": {
      "text/html": [
       "Tracking run with wandb version 0.18.5"
      ],
      "text/plain": [
       "<IPython.core.display.HTML object>"
      ]
     },
     "metadata": {},
     "output_type": "display_data"
    },
    {
     "data": {
      "text/html": [
       "Run data is saved locally in <code>c:\\Users\\jcwin\\OneDrive - University of Southampton\\_Southampton\\2024-25\\Star-Classifier\\wandb\\run-20241127_183015-lu4ido6m</code>"
      ],
      "text/plain": [
       "<IPython.core.display.HTML object>"
      ]
     },
     "metadata": {},
     "output_type": "display_data"
    },
    {
     "data": {
      "text/html": [
       "Syncing run <strong><a href='https://wandb.ai/joaoc-university-of-southampton/spectra-mamba-sweep/runs/lu4ido6m' target=\"_blank\">glad-sweep-12</a></strong> to <a href='https://wandb.ai/joaoc-university-of-southampton/spectra-mamba-sweep' target=\"_blank\">Weights & Biases</a> (<a href='https://wandb.me/run' target=\"_blank\">docs</a>)<br/>Sweep page: <a href='https://wandb.ai/joaoc-university-of-southampton/spectra-mamba-sweep/sweeps/pitkh7le' target=\"_blank\">https://wandb.ai/joaoc-university-of-southampton/spectra-mamba-sweep/sweeps/pitkh7le</a>"
      ],
      "text/plain": [
       "<IPython.core.display.HTML object>"
      ]
     },
     "metadata": {},
     "output_type": "display_data"
    },
    {
     "data": {
      "text/html": [
       " View project at <a href='https://wandb.ai/joaoc-university-of-southampton/spectra-mamba-sweep' target=\"_blank\">https://wandb.ai/joaoc-university-of-southampton/spectra-mamba-sweep</a>"
      ],
      "text/plain": [
       "<IPython.core.display.HTML object>"
      ]
     },
     "metadata": {},
     "output_type": "display_data"
    },
    {
     "data": {
      "text/html": [
       " View sweep at <a href='https://wandb.ai/joaoc-university-of-southampton/spectra-mamba-sweep/sweeps/pitkh7le' target=\"_blank\">https://wandb.ai/joaoc-university-of-southampton/spectra-mamba-sweep/sweeps/pitkh7le</a>"
      ],
      "text/plain": [
       "<IPython.core.display.HTML object>"
      ]
     },
     "metadata": {},
     "output_type": "display_data"
    },
    {
     "data": {
      "text/html": [
       " View run at <a href='https://wandb.ai/joaoc-university-of-southampton/spectra-mamba-sweep/runs/lu4ido6m' target=\"_blank\">https://wandb.ai/joaoc-university-of-southampton/spectra-mamba-sweep/runs/lu4ido6m</a>"
      ],
      "text/plain": [
       "<IPython.core.display.HTML object>"
      ]
     },
     "metadata": {},
     "output_type": "display_data"
    },
    {
     "name": "stderr",
     "output_type": "stream",
     "text": [
      "C:\\Users\\jcwin\\AppData\\Local\\Packages\\PythonSoftwareFoundation.Python.3.11_qbz5n2kfra8p0\\LocalCache\\local-packages\\Python311\\site-packages\\torch\\optim\\lr_scheduler.py:60: UserWarning: The verbose parameter is deprecated. Please use get_last_lr() to access the learning rate.\n",
      "  warnings.warn(\n"
     ]
    },
    {
     "name": "stdout",
     "output_type": "stream",
     "text": [
      "Early stopping triggered.\n"
     ]
    },
    {
     "data": {
      "application/vnd.jupyter.widget-view+json": {
       "model_id": "ffdddca590b04a7f9cafc0b9c16b9c8e",
       "version_major": 2,
       "version_minor": 0
      },
      "text/plain": [
       "VBox(children=(Label(value='0.071 MB of 0.071 MB uploaded\\r'), FloatProgress(value=1.0, max=1.0)))"
      ]
     },
     "metadata": {},
     "output_type": "display_data"
    },
    {
     "data": {
      "text/html": [
       "<style>\n",
       "    table.wandb td:nth-child(1) { padding: 0 10px; text-align: left ; width: auto;} td:nth-child(2) {text-align: left ; width: 100%}\n",
       "    .wandb-row { display: flex; flex-direction: row; flex-wrap: wrap; justify-content: flex-start; width: 100% }\n",
       "    .wandb-col { display: flex; flex-direction: column; flex-basis: 100%; flex: 1; padding: 10px; }\n",
       "    </style>\n",
       "<div class=\"wandb-row\"><div class=\"wandb-col\"><h3>Run history:</h3><br/><table class=\"wandb\"><tr><td>epoch</td><td>▁▁▁▁▂▂▂▂▂▃▃▃▃▃▄▄▄▄▄▄▅▅▅▅▅▅▆▆▆▆▆▇▇▇▇▇████</td></tr><tr><td>learning_rate</td><td>███████████████████████▃▃▃▃▃▃▃▃▃▃▁▁▁▁▁▁▁</td></tr><tr><td>test_accuracy</td><td>▁▄▅▆▇▇▇▇▇▇████▇▇▇▇█▆▇▇▆▇▇█▇▇▇▇▇▆▆▆▇▇▆▆▇▅</td></tr><tr><td>test_loss</td><td>█▆▅▃▃▂▂▂▁▁▁▁▁▁▁▁▁▁▁▂▂▂▂▂▂▂▂▃▃▃▃▃▄▅▅▅▄▄▄▅</td></tr><tr><td>train_accuracy</td><td>▁▄▄▅▅▅▆▆▆▆▆▆▇▆▆▆▇▇▇▇▇▇▇▇▇▇█▇████████████</td></tr><tr><td>train_loss</td><td>█▆▅▅▄▄▃▃▃▃▃▃▃▃▂▂▂▂▂▂▂▂▂▂▁▂▂▂▁▁▁▁▁▁▁▁▁▁▁▁</td></tr><tr><td>val_accuracy</td><td>▁▃▄▆▆▇▇▇▆▇▇█▇█▇█▇██▇▇▇▆▇▇▆▇▆▅▆▆▆▆▅▅▅▅▆▆▅</td></tr><tr><td>val_loss</td><td>█▆▅▃▃▂▂▁▁▁▁▁▁▁▁▁▂▁▁▂▂▂▂▂▂▂▂▃▃▃▃▃▄▅▄▅▄▄▄▅</td></tr></table><br/></div><div class=\"wandb-col\"><h3>Run summary:</h3><br/><table class=\"wandb\"><tr><td>classification_report</td><td>              precis...</td></tr><tr><td>epoch</td><td>45</td></tr><tr><td>learning_rate</td><td>0.0</td></tr><tr><td>test_accuracy</td><td>0.70569</td></tr><tr><td>test_loss</td><td>0.77947</td></tr><tr><td>train_accuracy</td><td>0.83413</td></tr><tr><td>train_loss</td><td>0.35521</td></tr><tr><td>val_accuracy</td><td>0.70688</td></tr><tr><td>val_loss</td><td>0.7633</td></tr></table><br/></div></div>"
      ],
      "text/plain": [
       "<IPython.core.display.HTML object>"
      ]
     },
     "metadata": {},
     "output_type": "display_data"
    },
    {
     "data": {
      "text/html": [
       " View run <strong style=\"color:#cdcd00\">glad-sweep-12</strong> at: <a href='https://wandb.ai/joaoc-university-of-southampton/spectra-mamba-sweep/runs/lu4ido6m' target=\"_blank\">https://wandb.ai/joaoc-university-of-southampton/spectra-mamba-sweep/runs/lu4ido6m</a><br/> View project at: <a href='https://wandb.ai/joaoc-university-of-southampton/spectra-mamba-sweep' target=\"_blank\">https://wandb.ai/joaoc-university-of-southampton/spectra-mamba-sweep</a><br/>Synced 5 W&B file(s), 0 media file(s), 92 artifact file(s) and 46 other file(s)"
      ],
      "text/plain": [
       "<IPython.core.display.HTML object>"
      ]
     },
     "metadata": {},
     "output_type": "display_data"
    },
    {
     "data": {
      "text/html": [
       "Find logs at: <code>.\\wandb\\run-20241127_183015-lu4ido6m\\logs</code>"
      ],
      "text/plain": [
       "<IPython.core.display.HTML object>"
      ]
     },
     "metadata": {},
     "output_type": "display_data"
    },
    {
     "name": "stderr",
     "output_type": "stream",
     "text": [
      "wandb: Agent Starting Run: syxa0wgf with config:\n",
      "wandb: \tdepth: 3\n",
      "wandb: \tdim: 512\n",
      "wandb: \tlr: 2e-06\n"
     ]
    },
    {
     "data": {
      "text/html": [
       "Tracking run with wandb version 0.18.5"
      ],
      "text/plain": [
       "<IPython.core.display.HTML object>"
      ]
     },
     "metadata": {},
     "output_type": "display_data"
    },
    {
     "data": {
      "text/html": [
       "Run data is saved locally in <code>c:\\Users\\jcwin\\OneDrive - University of Southampton\\_Southampton\\2024-25\\Star-Classifier\\wandb\\run-20241127_183148-syxa0wgf</code>"
      ],
      "text/plain": [
       "<IPython.core.display.HTML object>"
      ]
     },
     "metadata": {},
     "output_type": "display_data"
    },
    {
     "data": {
      "text/html": [
       "Syncing run <strong><a href='https://wandb.ai/joaoc-university-of-southampton/spectra-mamba-sweep/runs/syxa0wgf' target=\"_blank\">rare-sweep-13</a></strong> to <a href='https://wandb.ai/joaoc-university-of-southampton/spectra-mamba-sweep' target=\"_blank\">Weights & Biases</a> (<a href='https://wandb.me/run' target=\"_blank\">docs</a>)<br/>Sweep page: <a href='https://wandb.ai/joaoc-university-of-southampton/spectra-mamba-sweep/sweeps/pitkh7le' target=\"_blank\">https://wandb.ai/joaoc-university-of-southampton/spectra-mamba-sweep/sweeps/pitkh7le</a>"
      ],
      "text/plain": [
       "<IPython.core.display.HTML object>"
      ]
     },
     "metadata": {},
     "output_type": "display_data"
    },
    {
     "data": {
      "text/html": [
       " View project at <a href='https://wandb.ai/joaoc-university-of-southampton/spectra-mamba-sweep' target=\"_blank\">https://wandb.ai/joaoc-university-of-southampton/spectra-mamba-sweep</a>"
      ],
      "text/plain": [
       "<IPython.core.display.HTML object>"
      ]
     },
     "metadata": {},
     "output_type": "display_data"
    },
    {
     "data": {
      "text/html": [
       " View sweep at <a href='https://wandb.ai/joaoc-university-of-southampton/spectra-mamba-sweep/sweeps/pitkh7le' target=\"_blank\">https://wandb.ai/joaoc-university-of-southampton/spectra-mamba-sweep/sweeps/pitkh7le</a>"
      ],
      "text/plain": [
       "<IPython.core.display.HTML object>"
      ]
     },
     "metadata": {},
     "output_type": "display_data"
    },
    {
     "data": {
      "text/html": [
       " View run at <a href='https://wandb.ai/joaoc-university-of-southampton/spectra-mamba-sweep/runs/syxa0wgf' target=\"_blank\">https://wandb.ai/joaoc-university-of-southampton/spectra-mamba-sweep/runs/syxa0wgf</a>"
      ],
      "text/plain": [
       "<IPython.core.display.HTML object>"
      ]
     },
     "metadata": {},
     "output_type": "display_data"
    },
    {
     "name": "stderr",
     "output_type": "stream",
     "text": [
      "C:\\Users\\jcwin\\AppData\\Local\\Packages\\PythonSoftwareFoundation.Python.3.11_qbz5n2kfra8p0\\LocalCache\\local-packages\\Python311\\site-packages\\torch\\optim\\lr_scheduler.py:60: UserWarning: The verbose parameter is deprecated. Please use get_last_lr() to access the learning rate.\n",
      "  warnings.warn(\n"
     ]
    },
    {
     "name": "stdout",
     "output_type": "stream",
     "text": [
      "Early stopping triggered.\n"
     ]
    },
    {
     "data": {
      "application/vnd.jupyter.widget-view+json": {
       "model_id": "1dbc0b7758294e7aa52256dcce8ca3ac",
       "version_major": 2,
       "version_minor": 0
      },
      "text/plain": [
       "VBox(children=(Label(value='0.203 MB of 0.203 MB uploaded\\r'), FloatProgress(value=1.0, max=1.0)))"
      ]
     },
     "metadata": {},
     "output_type": "display_data"
    },
    {
     "data": {
      "text/html": [
       "<style>\n",
       "    table.wandb td:nth-child(1) { padding: 0 10px; text-align: left ; width: auto;} td:nth-child(2) {text-align: left ; width: 100%}\n",
       "    .wandb-row { display: flex; flex-direction: row; flex-wrap: wrap; justify-content: flex-start; width: 100% }\n",
       "    .wandb-col { display: flex; flex-direction: column; flex-basis: 100%; flex: 1; padding: 10px; }\n",
       "    </style>\n",
       "<div class=\"wandb-row\"><div class=\"wandb-col\"><h3>Run history:</h3><br/><table class=\"wandb\"><tr><td>epoch</td><td>▁▁▁▂▂▂▂▂▂▂▃▃▃▃▃▄▄▄▄▄▄▅▅▅▅▆▆▆▆▆▆▇▇▇▇▇▇▇██</td></tr><tr><td>learning_rate</td><td>████████████████████████████▄▄▄▄▄▄▄▂▂▁▁▁</td></tr><tr><td>test_accuracy</td><td>▁▅▅▆▆▇▇▇▇▇▇▇▇▇▇▇▇▇██████████████████████</td></tr><tr><td>test_loss</td><td>█▆▆▅▅▄▃▃▃▂▂▂▂▂▂▂▂▂▂▁▁▁▁▁▁▁▁▁▁▁▁▁▁▁▁▁▁▁▁▁</td></tr><tr><td>train_accuracy</td><td>▁▄▄▄▅▆▅▆▆▆▆▆▇▆▇▇▇▇▇▇▇▇▇▇▇▇▇█▇▇██████████</td></tr><tr><td>train_loss</td><td>█▇▆▅▅▅▄▄▄▄▄▄▃▃▃▃▃▂▂▂▂▂▂▂▂▂▂▂▂▂▂▂▁▂▁▁▁▁▁▁</td></tr><tr><td>val_accuracy</td><td>▁▂▂▃▃▆▆▆▆▆▇▇▇▇▇▇█████████▇█▇████████████</td></tr><tr><td>val_loss</td><td>█▆▅▅▄▃▃▃▂▂▂▂▂▂▂▁▁▁▁▁▁▁▁▁▁▁▁▁▁▁▁▁▁▁▁▁▁▁▁▁</td></tr></table><br/></div><div class=\"wandb-col\"><h3>Run summary:</h3><br/><table class=\"wandb\"><tr><td>classification_report</td><td>              precis...</td></tr><tr><td>epoch</td><td>184</td></tr><tr><td>learning_rate</td><td>0.0</td></tr><tr><td>test_accuracy</td><td>0.74453</td></tr><tr><td>test_loss</td><td>0.54457</td></tr><tr><td>train_accuracy</td><td>0.79994</td></tr><tr><td>train_loss</td><td>0.45143</td></tr><tr><td>val_accuracy</td><td>0.75443</td></tr><tr><td>val_loss</td><td>0.53931</td></tr></table><br/></div></div>"
      ],
      "text/plain": [
       "<IPython.core.display.HTML object>"
      ]
     },
     "metadata": {},
     "output_type": "display_data"
    },
    {
     "data": {
      "text/html": [
       " View run <strong style=\"color:#cdcd00\">rare-sweep-13</strong> at: <a href='https://wandb.ai/joaoc-university-of-southampton/spectra-mamba-sweep/runs/syxa0wgf' target=\"_blank\">https://wandb.ai/joaoc-university-of-southampton/spectra-mamba-sweep/runs/syxa0wgf</a><br/> View project at: <a href='https://wandb.ai/joaoc-university-of-southampton/spectra-mamba-sweep' target=\"_blank\">https://wandb.ai/joaoc-university-of-southampton/spectra-mamba-sweep</a><br/>Synced 5 W&B file(s), 0 media file(s), 370 artifact file(s) and 185 other file(s)"
      ],
      "text/plain": [
       "<IPython.core.display.HTML object>"
      ]
     },
     "metadata": {},
     "output_type": "display_data"
    },
    {
     "data": {
      "text/html": [
       "Find logs at: <code>.\\wandb\\run-20241127_183148-syxa0wgf\\logs</code>"
      ],
      "text/plain": [
       "<IPython.core.display.HTML object>"
      ]
     },
     "metadata": {},
     "output_type": "display_data"
    },
    {
     "name": "stderr",
     "output_type": "stream",
     "text": [
      "wandb: Sweep Agent: Waiting for job.\n",
      "wandb: Job received.\n",
      "wandb: Agent Starting Run: pqeskp86 with config:\n",
      "wandb: \tdepth: 3\n",
      "wandb: \tdim: 2048\n",
      "wandb: \tlr: 1e-05\n"
     ]
    },
    {
     "data": {
      "text/html": [
       "Tracking run with wandb version 0.18.5"
      ],
      "text/plain": [
       "<IPython.core.display.HTML object>"
      ]
     },
     "metadata": {},
     "output_type": "display_data"
    },
    {
     "data": {
      "text/html": [
       "Run data is saved locally in <code>c:\\Users\\jcwin\\OneDrive - University of Southampton\\_Southampton\\2024-25\\Star-Classifier\\wandb\\run-20241127_183726-pqeskp86</code>"
      ],
      "text/plain": [
       "<IPython.core.display.HTML object>"
      ]
     },
     "metadata": {},
     "output_type": "display_data"
    },
    {
     "data": {
      "text/html": [
       "Syncing run <strong><a href='https://wandb.ai/joaoc-university-of-southampton/spectra-mamba-sweep/runs/pqeskp86' target=\"_blank\">stellar-sweep-14</a></strong> to <a href='https://wandb.ai/joaoc-university-of-southampton/spectra-mamba-sweep' target=\"_blank\">Weights & Biases</a> (<a href='https://wandb.me/run' target=\"_blank\">docs</a>)<br/>Sweep page: <a href='https://wandb.ai/joaoc-university-of-southampton/spectra-mamba-sweep/sweeps/pitkh7le' target=\"_blank\">https://wandb.ai/joaoc-university-of-southampton/spectra-mamba-sweep/sweeps/pitkh7le</a>"
      ],
      "text/plain": [
       "<IPython.core.display.HTML object>"
      ]
     },
     "metadata": {},
     "output_type": "display_data"
    },
    {
     "data": {
      "text/html": [
       " View project at <a href='https://wandb.ai/joaoc-university-of-southampton/spectra-mamba-sweep' target=\"_blank\">https://wandb.ai/joaoc-university-of-southampton/spectra-mamba-sweep</a>"
      ],
      "text/plain": [
       "<IPython.core.display.HTML object>"
      ]
     },
     "metadata": {},
     "output_type": "display_data"
    },
    {
     "data": {
      "text/html": [
       " View sweep at <a href='https://wandb.ai/joaoc-university-of-southampton/spectra-mamba-sweep/sweeps/pitkh7le' target=\"_blank\">https://wandb.ai/joaoc-university-of-southampton/spectra-mamba-sweep/sweeps/pitkh7le</a>"
      ],
      "text/plain": [
       "<IPython.core.display.HTML object>"
      ]
     },
     "metadata": {},
     "output_type": "display_data"
    },
    {
     "data": {
      "text/html": [
       " View run at <a href='https://wandb.ai/joaoc-university-of-southampton/spectra-mamba-sweep/runs/pqeskp86' target=\"_blank\">https://wandb.ai/joaoc-university-of-southampton/spectra-mamba-sweep/runs/pqeskp86</a>"
      ],
      "text/plain": [
       "<IPython.core.display.HTML object>"
      ]
     },
     "metadata": {},
     "output_type": "display_data"
    },
    {
     "name": "stderr",
     "output_type": "stream",
     "text": [
      "C:\\Users\\jcwin\\AppData\\Local\\Packages\\PythonSoftwareFoundation.Python.3.11_qbz5n2kfra8p0\\LocalCache\\local-packages\\Python311\\site-packages\\torch\\optim\\lr_scheduler.py:60: UserWarning: The verbose parameter is deprecated. Please use get_last_lr() to access the learning rate.\n",
      "  warnings.warn(\n"
     ]
    },
    {
     "name": "stdout",
     "output_type": "stream",
     "text": [
      "Early stopping triggered.\n"
     ]
    },
    {
     "data": {
      "application/vnd.jupyter.widget-view+json": {
       "model_id": "63bc26c00be84e3e8c52d3bbece56952",
       "version_major": 2,
       "version_minor": 0
      },
      "text/plain": [
       "VBox(children=(Label(value='0.062 MB of 0.062 MB uploaded\\r'), FloatProgress(value=1.0, max=1.0)))"
      ]
     },
     "metadata": {},
     "output_type": "display_data"
    },
    {
     "data": {
      "text/html": [
       "<style>\n",
       "    table.wandb td:nth-child(1) { padding: 0 10px; text-align: left ; width: auto;} td:nth-child(2) {text-align: left ; width: 100%}\n",
       "    .wandb-row { display: flex; flex-direction: row; flex-wrap: wrap; justify-content: flex-start; width: 100% }\n",
       "    .wandb-col { display: flex; flex-direction: column; flex-basis: 100%; flex: 1; padding: 10px; }\n",
       "    </style>\n",
       "<div class=\"wandb-row\"><div class=\"wandb-col\"><h3>Run history:</h3><br/><table class=\"wandb\"><tr><td>epoch</td><td>▁▁▁▂▂▂▂▂▂▃▃▃▃▃▄▄▄▄▄▅▅▅▅▅▅▆▆▆▆▆▇▇▇▇▇▇███</td></tr><tr><td>learning_rate</td><td>███████████████████▃▃▃▃▃▃▃▃▃▃▃▁▁▁▁▁▁▁▁▁</td></tr><tr><td>test_accuracy</td><td>▃▅▅▆▇▇▇██▇██▆██▆▆▄▆█▇▆▄▆▆▃▄▅▁▄▄▄▅▄▃▃▃▄▄</td></tr><tr><td>test_loss</td><td>▄▃▂▂▁▁▁▁▁▂▁▁▂▂▁▂▂▃▃▃▃▄▄▄▄▅▅▆▇▆▆▇▆▇█████</td></tr><tr><td>train_accuracy</td><td>▁▃▅▅▅▅▆▆▆▆▆▆▆▆▇▇▇▇▇▇▇▇▇▇▇█▇██▇█████████</td></tr><tr><td>train_loss</td><td>█▆▄▄▃▃▃▃▃▃▃▂▂▂▂▂▂▂▂▂▂▂▁▂▁▁▁▁▁▁▁▁▁▁▁▁▁▁▁</td></tr><tr><td>val_accuracy</td><td>▁▄▆▇▇▇▇██▆▇█▆▇▆▆▅▅▅▇▆▅▄▄▆▄▅▄▁▃▄▄▅▄▃▃▃▃▃</td></tr><tr><td>val_loss</td><td>▅▃▂▂▁▁▁▁▁▁▁▁▂▁▁▂▂▃▃▃▃▄▄▅▄▅▅▆▇▆▆▇▆▇█████</td></tr></table><br/></div><div class=\"wandb-col\"><h3>Run summary:</h3><br/><table class=\"wandb\"><tr><td>classification_report</td><td>              precis...</td></tr><tr><td>epoch</td><td>38</td></tr><tr><td>learning_rate</td><td>0.0</td></tr><tr><td>test_accuracy</td><td>0.67902</td></tr><tr><td>test_loss</td><td>1.17359</td></tr><tr><td>train_accuracy</td><td>0.84536</td></tr><tr><td>train_loss</td><td>0.31738</td></tr><tr><td>val_accuracy</td><td>0.68016</td></tr><tr><td>val_loss</td><td>1.09903</td></tr></table><br/></div></div>"
      ],
      "text/plain": [
       "<IPython.core.display.HTML object>"
      ]
     },
     "metadata": {},
     "output_type": "display_data"
    },
    {
     "data": {
      "text/html": [
       " View run <strong style=\"color:#cdcd00\">stellar-sweep-14</strong> at: <a href='https://wandb.ai/joaoc-university-of-southampton/spectra-mamba-sweep/runs/pqeskp86' target=\"_blank\">https://wandb.ai/joaoc-university-of-southampton/spectra-mamba-sweep/runs/pqeskp86</a><br/> View project at: <a href='https://wandb.ai/joaoc-university-of-southampton/spectra-mamba-sweep' target=\"_blank\">https://wandb.ai/joaoc-university-of-southampton/spectra-mamba-sweep</a><br/>Synced 5 W&B file(s), 0 media file(s), 78 artifact file(s) and 39 other file(s)"
      ],
      "text/plain": [
       "<IPython.core.display.HTML object>"
      ]
     },
     "metadata": {},
     "output_type": "display_data"
    },
    {
     "data": {
      "text/html": [
       "Find logs at: <code>.\\wandb\\run-20241127_183726-pqeskp86\\logs</code>"
      ],
      "text/plain": [
       "<IPython.core.display.HTML object>"
      ]
     },
     "metadata": {},
     "output_type": "display_data"
    },
    {
     "name": "stderr",
     "output_type": "stream",
     "text": [
      "wandb: Sweep Agent: Waiting for job.\n",
      "wandb: Job received.\n",
      "wandb: Agent Starting Run: co5o7mqo with config:\n",
      "wandb: \tdepth: 3\n",
      "wandb: \tdim: 1024\n",
      "wandb: \tlr: 1e-05\n"
     ]
    },
    {
     "data": {
      "text/html": [
       "Tracking run with wandb version 0.18.5"
      ],
      "text/plain": [
       "<IPython.core.display.HTML object>"
      ]
     },
     "metadata": {},
     "output_type": "display_data"
    },
    {
     "data": {
      "text/html": [
       "Run data is saved locally in <code>c:\\Users\\jcwin\\OneDrive - University of Southampton\\_Southampton\\2024-25\\Star-Classifier\\wandb\\run-20241127_184000-co5o7mqo</code>"
      ],
      "text/plain": [
       "<IPython.core.display.HTML object>"
      ]
     },
     "metadata": {},
     "output_type": "display_data"
    },
    {
     "data": {
      "text/html": [
       "Syncing run <strong><a href='https://wandb.ai/joaoc-university-of-southampton/spectra-mamba-sweep/runs/co5o7mqo' target=\"_blank\">clear-sweep-15</a></strong> to <a href='https://wandb.ai/joaoc-university-of-southampton/spectra-mamba-sweep' target=\"_blank\">Weights & Biases</a> (<a href='https://wandb.me/run' target=\"_blank\">docs</a>)<br/>Sweep page: <a href='https://wandb.ai/joaoc-university-of-southampton/spectra-mamba-sweep/sweeps/pitkh7le' target=\"_blank\">https://wandb.ai/joaoc-university-of-southampton/spectra-mamba-sweep/sweeps/pitkh7le</a>"
      ],
      "text/plain": [
       "<IPython.core.display.HTML object>"
      ]
     },
     "metadata": {},
     "output_type": "display_data"
    },
    {
     "data": {
      "text/html": [
       " View project at <a href='https://wandb.ai/joaoc-university-of-southampton/spectra-mamba-sweep' target=\"_blank\">https://wandb.ai/joaoc-university-of-southampton/spectra-mamba-sweep</a>"
      ],
      "text/plain": [
       "<IPython.core.display.HTML object>"
      ]
     },
     "metadata": {},
     "output_type": "display_data"
    },
    {
     "data": {
      "text/html": [
       " View sweep at <a href='https://wandb.ai/joaoc-university-of-southampton/spectra-mamba-sweep/sweeps/pitkh7le' target=\"_blank\">https://wandb.ai/joaoc-university-of-southampton/spectra-mamba-sweep/sweeps/pitkh7le</a>"
      ],
      "text/plain": [
       "<IPython.core.display.HTML object>"
      ]
     },
     "metadata": {},
     "output_type": "display_data"
    },
    {
     "data": {
      "text/html": [
       " View run at <a href='https://wandb.ai/joaoc-university-of-southampton/spectra-mamba-sweep/runs/co5o7mqo' target=\"_blank\">https://wandb.ai/joaoc-university-of-southampton/spectra-mamba-sweep/runs/co5o7mqo</a>"
      ],
      "text/plain": [
       "<IPython.core.display.HTML object>"
      ]
     },
     "metadata": {},
     "output_type": "display_data"
    },
    {
     "name": "stderr",
     "output_type": "stream",
     "text": [
      "C:\\Users\\jcwin\\AppData\\Local\\Packages\\PythonSoftwareFoundation.Python.3.11_qbz5n2kfra8p0\\LocalCache\\local-packages\\Python311\\site-packages\\torch\\optim\\lr_scheduler.py:60: UserWarning: The verbose parameter is deprecated. Please use get_last_lr() to access the learning rate.\n",
      "  warnings.warn(\n"
     ]
    },
    {
     "name": "stdout",
     "output_type": "stream",
     "text": [
      "Early stopping triggered.\n"
     ]
    },
    {
     "data": {
      "application/vnd.jupyter.widget-view+json": {
       "model_id": "71105961eb094fc3a97c5df1b169799a",
       "version_major": 2,
       "version_minor": 0
      },
      "text/plain": [
       "VBox(children=(Label(value='0.075 MB of 0.075 MB uploaded\\r'), FloatProgress(value=1.0, max=1.0)))"
      ]
     },
     "metadata": {},
     "output_type": "display_data"
    },
    {
     "data": {
      "text/html": [
       "<style>\n",
       "    table.wandb td:nth-child(1) { padding: 0 10px; text-align: left ; width: auto;} td:nth-child(2) {text-align: left ; width: 100%}\n",
       "    .wandb-row { display: flex; flex-direction: row; flex-wrap: wrap; justify-content: flex-start; width: 100% }\n",
       "    .wandb-col { display: flex; flex-direction: column; flex-basis: 100%; flex: 1; padding: 10px; }\n",
       "    </style>\n",
       "<div class=\"wandb-row\"><div class=\"wandb-col\"><h3>Run history:</h3><br/><table class=\"wandb\"><tr><td>epoch</td><td>▁▁▁▁▂▂▂▂▂▂▃▃▃▃▃▄▄▄▄▄▅▅▅▅▅▅▆▆▆▆▆▇▇▇▇▇▇███</td></tr><tr><td>learning_rate</td><td>████████████████████████▃▃▃▃▃▃▃▃▃▁▁▁▁▁▁▁</td></tr><tr><td>test_accuracy</td><td>▁▃▄▅▇▇▇▇▇█▇▇█▇▇▆█▆▆▆▆▄▇▆▆▅▆▄▅▅▅▅▄▄▄▄▄▃▃▄</td></tr><tr><td>test_loss</td><td>█▆▄▃▃▂▂▁▁▁▁▁▁▁▁▁▁▁▁▁▂▄▂▂▂▃▃▃▃▃▄▅▅▅▆▅▆▆▆▆</td></tr><tr><td>train_accuracy</td><td>▁▄▅▅▅▆▆▆▆▆▆▆▆▆▆▆▇▇▇▇▇▇▇▇▇▇▇█▇▇██████████</td></tr><tr><td>train_loss</td><td>█▆▅▄▄▃▃▃▃▃▃▃▃▂▂▂▂▂▂▂▂▂▂▂▂▂▁▁▁▁▁▁▁▁▁▁▁▁▁▁</td></tr><tr><td>val_accuracy</td><td>▁▃▄▄▆▇▇▇█▇▇▇▇█▇███▇█▅▇▅▇▆▆▆▆▆▆▅▅▅▅▄▅▅▅▄▄</td></tr><tr><td>val_loss</td><td>█▆▄▄▃▂▂▁▁▁▁▁▁▁▁▁▁▁▁▁▂▂▃▁▂▂▃▂▃▃▃▄▄▄▅▅▅▅▅▅</td></tr></table><br/></div><div class=\"wandb-col\"><h3>Run summary:</h3><br/><table class=\"wandb\"><tr><td>classification_report</td><td>              precis...</td></tr><tr><td>epoch</td><td>48</td></tr><tr><td>learning_rate</td><td>0.0</td></tr><tr><td>test_accuracy</td><td>0.68125</td></tr><tr><td>test_loss</td><td>0.86952</td></tr><tr><td>train_accuracy</td><td>0.84108</td></tr><tr><td>train_loss</td><td>0.33556</td></tr><tr><td>val_accuracy</td><td>0.69645</td></tr><tr><td>val_loss</td><td>0.79296</td></tr></table><br/></div></div>"
      ],
      "text/plain": [
       "<IPython.core.display.HTML object>"
      ]
     },
     "metadata": {},
     "output_type": "display_data"
    },
    {
     "data": {
      "text/html": [
       " View run <strong style=\"color:#cdcd00\">clear-sweep-15</strong> at: <a href='https://wandb.ai/joaoc-university-of-southampton/spectra-mamba-sweep/runs/co5o7mqo' target=\"_blank\">https://wandb.ai/joaoc-university-of-southampton/spectra-mamba-sweep/runs/co5o7mqo</a><br/> View project at: <a href='https://wandb.ai/joaoc-university-of-southampton/spectra-mamba-sweep' target=\"_blank\">https://wandb.ai/joaoc-university-of-southampton/spectra-mamba-sweep</a><br/>Synced 5 W&B file(s), 0 media file(s), 98 artifact file(s) and 49 other file(s)"
      ],
      "text/plain": [
       "<IPython.core.display.HTML object>"
      ]
     },
     "metadata": {},
     "output_type": "display_data"
    },
    {
     "data": {
      "text/html": [
       "Find logs at: <code>.\\wandb\\run-20241127_184000-co5o7mqo\\logs</code>"
      ],
      "text/plain": [
       "<IPython.core.display.HTML object>"
      ]
     },
     "metadata": {},
     "output_type": "display_data"
    },
    {
     "name": "stderr",
     "output_type": "stream",
     "text": [
      "wandb: Agent Starting Run: kcj6h4hb with config:\n",
      "wandb: \tdepth: 3\n",
      "wandb: \tdim: 512\n",
      "wandb: \tlr: 0.0001\n"
     ]
    },
    {
     "data": {
      "text/html": [
       "Tracking run with wandb version 0.18.5"
      ],
      "text/plain": [
       "<IPython.core.display.HTML object>"
      ]
     },
     "metadata": {},
     "output_type": "display_data"
    },
    {
     "data": {
      "text/html": [
       "Run data is saved locally in <code>c:\\Users\\jcwin\\OneDrive - University of Southampton\\_Southampton\\2024-25\\Star-Classifier\\wandb\\run-20241127_184138-kcj6h4hb</code>"
      ],
      "text/plain": [
       "<IPython.core.display.HTML object>"
      ]
     },
     "metadata": {},
     "output_type": "display_data"
    },
    {
     "data": {
      "text/html": [
       "Syncing run <strong><a href='https://wandb.ai/joaoc-university-of-southampton/spectra-mamba-sweep/runs/kcj6h4hb' target=\"_blank\">true-sweep-16</a></strong> to <a href='https://wandb.ai/joaoc-university-of-southampton/spectra-mamba-sweep' target=\"_blank\">Weights & Biases</a> (<a href='https://wandb.me/run' target=\"_blank\">docs</a>)<br/>Sweep page: <a href='https://wandb.ai/joaoc-university-of-southampton/spectra-mamba-sweep/sweeps/pitkh7le' target=\"_blank\">https://wandb.ai/joaoc-university-of-southampton/spectra-mamba-sweep/sweeps/pitkh7le</a>"
      ],
      "text/plain": [
       "<IPython.core.display.HTML object>"
      ]
     },
     "metadata": {},
     "output_type": "display_data"
    },
    {
     "data": {
      "text/html": [
       " View project at <a href='https://wandb.ai/joaoc-university-of-southampton/spectra-mamba-sweep' target=\"_blank\">https://wandb.ai/joaoc-university-of-southampton/spectra-mamba-sweep</a>"
      ],
      "text/plain": [
       "<IPython.core.display.HTML object>"
      ]
     },
     "metadata": {},
     "output_type": "display_data"
    },
    {
     "data": {
      "text/html": [
       " View sweep at <a href='https://wandb.ai/joaoc-university-of-southampton/spectra-mamba-sweep/sweeps/pitkh7le' target=\"_blank\">https://wandb.ai/joaoc-university-of-southampton/spectra-mamba-sweep/sweeps/pitkh7le</a>"
      ],
      "text/plain": [
       "<IPython.core.display.HTML object>"
      ]
     },
     "metadata": {},
     "output_type": "display_data"
    },
    {
     "data": {
      "text/html": [
       " View run at <a href='https://wandb.ai/joaoc-university-of-southampton/spectra-mamba-sweep/runs/kcj6h4hb' target=\"_blank\">https://wandb.ai/joaoc-university-of-southampton/spectra-mamba-sweep/runs/kcj6h4hb</a>"
      ],
      "text/plain": [
       "<IPython.core.display.HTML object>"
      ]
     },
     "metadata": {},
     "output_type": "display_data"
    },
    {
     "name": "stderr",
     "output_type": "stream",
     "text": [
      "C:\\Users\\jcwin\\AppData\\Local\\Packages\\PythonSoftwareFoundation.Python.3.11_qbz5n2kfra8p0\\LocalCache\\local-packages\\Python311\\site-packages\\torch\\optim\\lr_scheduler.py:60: UserWarning: The verbose parameter is deprecated. Please use get_last_lr() to access the learning rate.\n",
      "  warnings.warn(\n"
     ]
    },
    {
     "name": "stdout",
     "output_type": "stream",
     "text": [
      "Early stopping triggered.\n"
     ]
    },
    {
     "data": {
      "application/vnd.jupyter.widget-view+json": {
       "model_id": "b9846db651a04023af055027819a8b66",
       "version_major": 2,
       "version_minor": 0
      },
      "text/plain": [
       "VBox(children=(Label(value='0.047 MB of 0.047 MB uploaded\\r'), FloatProgress(value=1.0, max=1.0)))"
      ]
     },
     "metadata": {},
     "output_type": "display_data"
    },
    {
     "data": {
      "text/html": [
       "<style>\n",
       "    table.wandb td:nth-child(1) { padding: 0 10px; text-align: left ; width: auto;} td:nth-child(2) {text-align: left ; width: 100%}\n",
       "    .wandb-row { display: flex; flex-direction: row; flex-wrap: wrap; justify-content: flex-start; width: 100% }\n",
       "    .wandb-col { display: flex; flex-direction: column; flex-basis: 100%; flex: 1; padding: 10px; }\n",
       "    </style>\n",
       "<div class=\"wandb-row\"><div class=\"wandb-col\"><h3>Run history:</h3><br/><table class=\"wandb\"><tr><td>epoch</td><td>▁▁▁▂▂▂▂▂▃▃▃▃▃▄▄▄▄▅▅▅▅▅▆▆▆▆▆▇▇▇▇▇███</td></tr><tr><td>learning_rate</td><td>███████████████▃▃▃▃▃▃▃▃▃▃▃▁▁▁▁▁▁▁▁▁</td></tr><tr><td>test_accuracy</td><td>▁▄▆▆▇█▆█▇█▇▇▆▇▆▆▆▆▆▅▃▆▅▄▃▃▅▅▃▂▄▃▄▃▃</td></tr><tr><td>test_loss</td><td>▃▂▂▁▁▁▁▁▁▁▁▁▂▁▂▂▂▃▃▃▃▃▄▅▅▅▅▅▇▇▆▆▇██</td></tr><tr><td>train_accuracy</td><td>▁▄▅▅▅▆▆▆▆▆▇▆▇▇▇▇▇▇▇▇▇███▇▇▇████████</td></tr><tr><td>train_loss</td><td>█▅▄▃▃▃▃▃▃▂▂▂▂▂▂▂▂▂▂▁▂▁▁▁▁▁▁▁▁▁▁▁▁▁▁</td></tr><tr><td>val_accuracy</td><td>▁▅▇▆▇▇▇████▇▇▇▆▆▆▅▆▅▄▅▄▄▄▃▅▅▄▃▄▅▃▂▂</td></tr><tr><td>val_loss</td><td>▄▂▁▁▁▁▁▁▁▁▁▁▂▂▂▃▃▃▃▃▄▃▄▅▅▅▅▆▇▇▆▆▇██</td></tr></table><br/></div><div class=\"wandb-col\"><h3>Run summary:</h3><br/><table class=\"wandb\"><tr><td>classification_report</td><td>              precis...</td></tr><tr><td>epoch</td><td>34</td></tr><tr><td>learning_rate</td><td>3e-05</td></tr><tr><td>test_accuracy</td><td>0.66897</td></tr><tr><td>test_loss</td><td>1.31051</td></tr><tr><td>train_accuracy</td><td>0.83746</td></tr><tr><td>train_loss</td><td>0.32488</td></tr><tr><td>val_accuracy</td><td>0.67428</td></tr><tr><td>val_loss</td><td>1.25303</td></tr></table><br/></div></div>"
      ],
      "text/plain": [
       "<IPython.core.display.HTML object>"
      ]
     },
     "metadata": {},
     "output_type": "display_data"
    },
    {
     "data": {
      "text/html": [
       " View run <strong style=\"color:#cdcd00\">true-sweep-16</strong> at: <a href='https://wandb.ai/joaoc-university-of-southampton/spectra-mamba-sweep/runs/kcj6h4hb' target=\"_blank\">https://wandb.ai/joaoc-university-of-southampton/spectra-mamba-sweep/runs/kcj6h4hb</a><br/> View project at: <a href='https://wandb.ai/joaoc-university-of-southampton/spectra-mamba-sweep' target=\"_blank\">https://wandb.ai/joaoc-university-of-southampton/spectra-mamba-sweep</a><br/>Synced 5 W&B file(s), 0 media file(s), 70 artifact file(s) and 35 other file(s)"
      ],
      "text/plain": [
       "<IPython.core.display.HTML object>"
      ]
     },
     "metadata": {},
     "output_type": "display_data"
    },
    {
     "data": {
      "text/html": [
       "Find logs at: <code>.\\wandb\\run-20241127_184138-kcj6h4hb\\logs</code>"
      ],
      "text/plain": [
       "<IPython.core.display.HTML object>"
      ]
     },
     "metadata": {},
     "output_type": "display_data"
    },
    {
     "name": "stderr",
     "output_type": "stream",
     "text": [
      "wandb: Agent Starting Run: easayzmz with config:\n",
      "wandb: \tdepth: 3\n",
      "wandb: \tdim: 64\n",
      "wandb: \tlr: 2e-06\n"
     ]
    },
    {
     "data": {
      "text/html": [
       "Tracking run with wandb version 0.18.5"
      ],
      "text/plain": [
       "<IPython.core.display.HTML object>"
      ]
     },
     "metadata": {},
     "output_type": "display_data"
    },
    {
     "data": {
      "text/html": [
       "Run data is saved locally in <code>c:\\Users\\jcwin\\OneDrive - University of Southampton\\_Southampton\\2024-25\\Star-Classifier\\wandb\\run-20241127_184239-easayzmz</code>"
      ],
      "text/plain": [
       "<IPython.core.display.HTML object>"
      ]
     },
     "metadata": {},
     "output_type": "display_data"
    },
    {
     "data": {
      "text/html": [
       "Syncing run <strong><a href='https://wandb.ai/joaoc-university-of-southampton/spectra-mamba-sweep/runs/easayzmz' target=\"_blank\">earthy-sweep-17</a></strong> to <a href='https://wandb.ai/joaoc-university-of-southampton/spectra-mamba-sweep' target=\"_blank\">Weights & Biases</a> (<a href='https://wandb.me/run' target=\"_blank\">docs</a>)<br/>Sweep page: <a href='https://wandb.ai/joaoc-university-of-southampton/spectra-mamba-sweep/sweeps/pitkh7le' target=\"_blank\">https://wandb.ai/joaoc-university-of-southampton/spectra-mamba-sweep/sweeps/pitkh7le</a>"
      ],
      "text/plain": [
       "<IPython.core.display.HTML object>"
      ]
     },
     "metadata": {},
     "output_type": "display_data"
    },
    {
     "data": {
      "text/html": [
       " View project at <a href='https://wandb.ai/joaoc-university-of-southampton/spectra-mamba-sweep' target=\"_blank\">https://wandb.ai/joaoc-university-of-southampton/spectra-mamba-sweep</a>"
      ],
      "text/plain": [
       "<IPython.core.display.HTML object>"
      ]
     },
     "metadata": {},
     "output_type": "display_data"
    },
    {
     "data": {
      "text/html": [
       " View sweep at <a href='https://wandb.ai/joaoc-university-of-southampton/spectra-mamba-sweep/sweeps/pitkh7le' target=\"_blank\">https://wandb.ai/joaoc-university-of-southampton/spectra-mamba-sweep/sweeps/pitkh7le</a>"
      ],
      "text/plain": [
       "<IPython.core.display.HTML object>"
      ]
     },
     "metadata": {},
     "output_type": "display_data"
    },
    {
     "data": {
      "text/html": [
       " View run at <a href='https://wandb.ai/joaoc-university-of-southampton/spectra-mamba-sweep/runs/easayzmz' target=\"_blank\">https://wandb.ai/joaoc-university-of-southampton/spectra-mamba-sweep/runs/easayzmz</a>"
      ],
      "text/plain": [
       "<IPython.core.display.HTML object>"
      ]
     },
     "metadata": {},
     "output_type": "display_data"
    },
    {
     "name": "stderr",
     "output_type": "stream",
     "text": [
      "C:\\Users\\jcwin\\AppData\\Local\\Packages\\PythonSoftwareFoundation.Python.3.11_qbz5n2kfra8p0\\LocalCache\\local-packages\\Python311\\site-packages\\torch\\optim\\lr_scheduler.py:60: UserWarning: The verbose parameter is deprecated. Please use get_last_lr() to access the learning rate.\n",
      "  warnings.warn(\n"
     ]
    },
    {
     "data": {
      "application/vnd.jupyter.widget-view+json": {
       "model_id": "58769f9902cc45a39b6d23e2da4f17e1",
       "version_major": 2,
       "version_minor": 0
      },
      "text/plain": [
       "VBox(children=(Label(value='0.615 MB of 0.615 MB uploaded\\r'), FloatProgress(value=1.0, max=1.0)))"
      ]
     },
     "metadata": {},
     "output_type": "display_data"
    },
    {
     "data": {
      "text/html": [
       "<style>\n",
       "    table.wandb td:nth-child(1) { padding: 0 10px; text-align: left ; width: auto;} td:nth-child(2) {text-align: left ; width: 100%}\n",
       "    .wandb-row { display: flex; flex-direction: row; flex-wrap: wrap; justify-content: flex-start; width: 100% }\n",
       "    .wandb-col { display: flex; flex-direction: column; flex-basis: 100%; flex: 1; padding: 10px; }\n",
       "    </style>\n",
       "<div class=\"wandb-row\"><div class=\"wandb-col\"><h3>Run history:</h3><br/><table class=\"wandb\"><tr><td>epoch</td><td>▁▁▁▂▂▂▂▃▃▃▄▄▄▄▄▅▅▅▅▅▆▆▆▆▆▆▆▆▆▇▇▇▇▇▇▇████</td></tr><tr><td>learning_rate</td><td>██████████████████████████████████████▁▁</td></tr><tr><td>test_accuracy</td><td>▁▆▆▆▇▇▇▇▇▇▇▇▇▇▇▇▇█▇█▇███████████████████</td></tr><tr><td>test_loss</td><td>█▆▆▅▄▃▃▃▂▂▂▂▂▂▂▂▂▂▂▂▁▁▁▁▁▁▁▁▁▁▁▁▁▁▁▁▁▁▁▁</td></tr><tr><td>train_accuracy</td><td>▁▂▂▂▃▃▄▄▅▅▅▅▅▅▆▆▆▆▆▆▇▆▇▇▇▇▇▇▇▇▇██▇██████</td></tr><tr><td>train_loss</td><td>█▇▆▆▅▄▄▄▃▃▃▃▃▃▂▂▂▂▂▂▂▂▂▂▂▂▂▂▂▂▁▂▁▁▁▁▁▁▁▁</td></tr><tr><td>val_accuracy</td><td>▁▁▂▂▄▆▆▆▆▆▆▆▆▇▇▇▇▇▇▇▇▇▇▇▇▇▇▇▇███████████</td></tr><tr><td>val_loss</td><td>█▇▅▄▄▃▃▃▃▃▂▂▂▂▂▂▂▂▂▂▂▂▁▁▁▁▁▁▁▁▁▁▁▁▁▁▁▁▁▁</td></tr></table><br/></div><div class=\"wandb-col\"><h3>Run summary:</h3><br/><table class=\"wandb\"><tr><td>classification_report</td><td>              precis...</td></tr><tr><td>epoch</td><td>499</td></tr><tr><td>learning_rate</td><td>0.0</td></tr><tr><td>test_accuracy</td><td>0.73672</td></tr><tr><td>test_loss</td><td>0.58935</td></tr><tr><td>train_accuracy</td><td>0.76224</td></tr><tr><td>train_loss</td><td>0.55152</td></tr><tr><td>val_accuracy</td><td>0.75442</td></tr><tr><td>val_loss</td><td>0.58345</td></tr></table><br/></div></div>"
      ],
      "text/plain": [
       "<IPython.core.display.HTML object>"
      ]
     },
     "metadata": {},
     "output_type": "display_data"
    },
    {
     "data": {
      "text/html": [
       " View run <strong style=\"color:#cdcd00\">earthy-sweep-17</strong> at: <a href='https://wandb.ai/joaoc-university-of-southampton/spectra-mamba-sweep/runs/easayzmz' target=\"_blank\">https://wandb.ai/joaoc-university-of-southampton/spectra-mamba-sweep/runs/easayzmz</a><br/> View project at: <a href='https://wandb.ai/joaoc-university-of-southampton/spectra-mamba-sweep' target=\"_blank\">https://wandb.ai/joaoc-university-of-southampton/spectra-mamba-sweep</a><br/>Synced 5 W&B file(s), 0 media file(s), 996 artifact file(s) and 500 other file(s)"
      ],
      "text/plain": [
       "<IPython.core.display.HTML object>"
      ]
     },
     "metadata": {},
     "output_type": "display_data"
    },
    {
     "data": {
      "text/html": [
       "Find logs at: <code>.\\wandb\\run-20241127_184239-easayzmz\\logs</code>"
      ],
      "text/plain": [
       "<IPython.core.display.HTML object>"
      ]
     },
     "metadata": {},
     "output_type": "display_data"
    },
    {
     "name": "stderr",
     "output_type": "stream",
     "text": [
      "wandb: Agent Starting Run: x24d3cxv with config:\n",
      "wandb: \tdepth: 3\n",
      "wandb: \tdim: 256\n",
      "wandb: \tlr: 1e-05\n"
     ]
    },
    {
     "data": {
      "text/html": [
       "Tracking run with wandb version 0.18.5"
      ],
      "text/plain": [
       "<IPython.core.display.HTML object>"
      ]
     },
     "metadata": {},
     "output_type": "display_data"
    },
    {
     "data": {
      "text/html": [
       "Run data is saved locally in <code>c:\\Users\\jcwin\\OneDrive - University of Southampton\\_Southampton\\2024-25\\Star-Classifier\\wandb\\run-20241127_185523-x24d3cxv</code>"
      ],
      "text/plain": [
       "<IPython.core.display.HTML object>"
      ]
     },
     "metadata": {},
     "output_type": "display_data"
    },
    {
     "data": {
      "text/html": [
       "Syncing run <strong><a href='https://wandb.ai/joaoc-university-of-southampton/spectra-mamba-sweep/runs/x24d3cxv' target=\"_blank\">lunar-sweep-18</a></strong> to <a href='https://wandb.ai/joaoc-university-of-southampton/spectra-mamba-sweep' target=\"_blank\">Weights & Biases</a> (<a href='https://wandb.me/run' target=\"_blank\">docs</a>)<br/>Sweep page: <a href='https://wandb.ai/joaoc-university-of-southampton/spectra-mamba-sweep/sweeps/pitkh7le' target=\"_blank\">https://wandb.ai/joaoc-university-of-southampton/spectra-mamba-sweep/sweeps/pitkh7le</a>"
      ],
      "text/plain": [
       "<IPython.core.display.HTML object>"
      ]
     },
     "metadata": {},
     "output_type": "display_data"
    },
    {
     "data": {
      "text/html": [
       " View project at <a href='https://wandb.ai/joaoc-university-of-southampton/spectra-mamba-sweep' target=\"_blank\">https://wandb.ai/joaoc-university-of-southampton/spectra-mamba-sweep</a>"
      ],
      "text/plain": [
       "<IPython.core.display.HTML object>"
      ]
     },
     "metadata": {},
     "output_type": "display_data"
    },
    {
     "data": {
      "text/html": [
       " View sweep at <a href='https://wandb.ai/joaoc-university-of-southampton/spectra-mamba-sweep/sweeps/pitkh7le' target=\"_blank\">https://wandb.ai/joaoc-university-of-southampton/spectra-mamba-sweep/sweeps/pitkh7le</a>"
      ],
      "text/plain": [
       "<IPython.core.display.HTML object>"
      ]
     },
     "metadata": {},
     "output_type": "display_data"
    },
    {
     "data": {
      "text/html": [
       " View run at <a href='https://wandb.ai/joaoc-university-of-southampton/spectra-mamba-sweep/runs/x24d3cxv' target=\"_blank\">https://wandb.ai/joaoc-university-of-southampton/spectra-mamba-sweep/runs/x24d3cxv</a>"
      ],
      "text/plain": [
       "<IPython.core.display.HTML object>"
      ]
     },
     "metadata": {},
     "output_type": "display_data"
    },
    {
     "name": "stderr",
     "output_type": "stream",
     "text": [
      "C:\\Users\\jcwin\\AppData\\Local\\Packages\\PythonSoftwareFoundation.Python.3.11_qbz5n2kfra8p0\\LocalCache\\local-packages\\Python311\\site-packages\\torch\\optim\\lr_scheduler.py:60: UserWarning: The verbose parameter is deprecated. Please use get_last_lr() to access the learning rate.\n",
      "  warnings.warn(\n"
     ]
    },
    {
     "name": "stdout",
     "output_type": "stream",
     "text": [
      "Early stopping triggered.\n"
     ]
    },
    {
     "data": {
      "application/vnd.jupyter.widget-view+json": {
       "model_id": "9dacd98858f14ac5af66695d0c8634ad",
       "version_major": 2,
       "version_minor": 0
      },
      "text/plain": [
       "VBox(children=(Label(value='0.067 MB of 0.067 MB uploaded\\r'), FloatProgress(value=1.0, max=1.0)))"
      ]
     },
     "metadata": {},
     "output_type": "display_data"
    },
    {
     "data": {
      "text/html": [
       "<style>\n",
       "    table.wandb td:nth-child(1) { padding: 0 10px; text-align: left ; width: auto;} td:nth-child(2) {text-align: left ; width: 100%}\n",
       "    .wandb-row { display: flex; flex-direction: row; flex-wrap: wrap; justify-content: flex-start; width: 100% }\n",
       "    .wandb-col { display: flex; flex-direction: column; flex-basis: 100%; flex: 1; padding: 10px; }\n",
       "    </style>\n",
       "<div class=\"wandb-row\"><div class=\"wandb-col\"><h3>Run history:</h3><br/><table class=\"wandb\"><tr><td>epoch</td><td>▁▁▁▁▂▂▂▂▂▂▃▃▃▃▃▃▃▄▄▄▄▄▄▅▅▅▅▅▅▅▆▆▆▆▇▇▇▇██</td></tr><tr><td>learning_rate</td><td>███████████████████████████████▃▃▃▃▁▁▁▁▁</td></tr><tr><td>test_accuracy</td><td>▁▄▄▅▅▆▆▆▇▇▇▇▇▇▇▇▇██████▇███▇██████▇█████</td></tr><tr><td>test_loss</td><td>█▇▆▄▄▃▃▃▃▃▂▂▂▂▂▂▂▁▁▁▁▁▂▁▁▁▁▁▁▁▁▁▁▁▁▁▁▁▁▁</td></tr><tr><td>train_accuracy</td><td>▁▅▅▆▆▆▆▇▆▇▇▇▇▇▇▇▇▇▇▇▇▇▇▇██▇█████████████</td></tr><tr><td>train_loss</td><td>█▆▆▅▄▄▃▃▃▃▂▂▂▂▂▂▂▂▂▂▂▂▂▂▂▁▂▂▂▂▁▁▁▁▁▁▁▁▁▁</td></tr><tr><td>val_accuracy</td><td>▁▃▄▄▄▅▄▆▆▆▆▇▆▆▇▇▇▇▇█████▅███▇█▇▇▇▇▇██▇██</td></tr><tr><td>val_loss</td><td>█▆▅▄▄▃▃▃▂▂▂▂▂▂▂▁▁▁▁▁▁▁▁▁▁▁▁▁▁▁▁▁▁▁▁▁▁▁▁▁</td></tr></table><br/></div><div class=\"wandb-col\"><h3>Run summary:</h3><br/><table class=\"wandb\"><tr><td>classification_report</td><td>              precis...</td></tr><tr><td>epoch</td><td>75</td></tr><tr><td>learning_rate</td><td>0.0</td></tr><tr><td>test_accuracy</td><td>0.74632</td></tr><tr><td>test_loss</td><td>0.5596</td></tr><tr><td>train_accuracy</td><td>0.78973</td></tr><tr><td>train_loss</td><td>0.44758</td></tr><tr><td>val_accuracy</td><td>0.74854</td></tr><tr><td>val_loss</td><td>0.56641</td></tr></table><br/></div></div>"
      ],
      "text/plain": [
       "<IPython.core.display.HTML object>"
      ]
     },
     "metadata": {},
     "output_type": "display_data"
    },
    {
     "data": {
      "text/html": [
       " View run <strong style=\"color:#cdcd00\">lunar-sweep-18</strong> at: <a href='https://wandb.ai/joaoc-university-of-southampton/spectra-mamba-sweep/runs/x24d3cxv' target=\"_blank\">https://wandb.ai/joaoc-university-of-southampton/spectra-mamba-sweep/runs/x24d3cxv</a><br/> View project at: <a href='https://wandb.ai/joaoc-university-of-southampton/spectra-mamba-sweep' target=\"_blank\">https://wandb.ai/joaoc-university-of-southampton/spectra-mamba-sweep</a><br/>Synced 5 W&B file(s), 0 media file(s), 152 artifact file(s) and 76 other file(s)"
      ],
      "text/plain": [
       "<IPython.core.display.HTML object>"
      ]
     },
     "metadata": {},
     "output_type": "display_data"
    },
    {
     "data": {
      "text/html": [
       "Find logs at: <code>.\\wandb\\run-20241127_185523-x24d3cxv\\logs</code>"
      ],
      "text/plain": [
       "<IPython.core.display.HTML object>"
      ]
     },
     "metadata": {},
     "output_type": "display_data"
    },
    {
     "name": "stderr",
     "output_type": "stream",
     "text": [
      "wandb: Agent Starting Run: ur6srdss with config:\n",
      "wandb: \tdepth: 12\n",
      "wandb: \tdim: 256\n",
      "wandb: \tlr: 2e-06\n"
     ]
    },
    {
     "data": {
      "text/html": [
       "Tracking run with wandb version 0.18.5"
      ],
      "text/plain": [
       "<IPython.core.display.HTML object>"
      ]
     },
     "metadata": {},
     "output_type": "display_data"
    },
    {
     "data": {
      "text/html": [
       "Run data is saved locally in <code>c:\\Users\\jcwin\\OneDrive - University of Southampton\\_Southampton\\2024-25\\Star-Classifier\\wandb\\run-20241127_185726-ur6srdss</code>"
      ],
      "text/plain": [
       "<IPython.core.display.HTML object>"
      ]
     },
     "metadata": {},
     "output_type": "display_data"
    },
    {
     "data": {
      "text/html": [
       "Syncing run <strong><a href='https://wandb.ai/joaoc-university-of-southampton/spectra-mamba-sweep/runs/ur6srdss' target=\"_blank\">cerulean-sweep-19</a></strong> to <a href='https://wandb.ai/joaoc-university-of-southampton/spectra-mamba-sweep' target=\"_blank\">Weights & Biases</a> (<a href='https://wandb.me/run' target=\"_blank\">docs</a>)<br/>Sweep page: <a href='https://wandb.ai/joaoc-university-of-southampton/spectra-mamba-sweep/sweeps/pitkh7le' target=\"_blank\">https://wandb.ai/joaoc-university-of-southampton/spectra-mamba-sweep/sweeps/pitkh7le</a>"
      ],
      "text/plain": [
       "<IPython.core.display.HTML object>"
      ]
     },
     "metadata": {},
     "output_type": "display_data"
    },
    {
     "data": {
      "text/html": [
       " View project at <a href='https://wandb.ai/joaoc-university-of-southampton/spectra-mamba-sweep' target=\"_blank\">https://wandb.ai/joaoc-university-of-southampton/spectra-mamba-sweep</a>"
      ],
      "text/plain": [
       "<IPython.core.display.HTML object>"
      ]
     },
     "metadata": {},
     "output_type": "display_data"
    },
    {
     "data": {
      "text/html": [
       " View sweep at <a href='https://wandb.ai/joaoc-university-of-southampton/spectra-mamba-sweep/sweeps/pitkh7le' target=\"_blank\">https://wandb.ai/joaoc-university-of-southampton/spectra-mamba-sweep/sweeps/pitkh7le</a>"
      ],
      "text/plain": [
       "<IPython.core.display.HTML object>"
      ]
     },
     "metadata": {},
     "output_type": "display_data"
    },
    {
     "data": {
      "text/html": [
       " View run at <a href='https://wandb.ai/joaoc-university-of-southampton/spectra-mamba-sweep/runs/ur6srdss' target=\"_blank\">https://wandb.ai/joaoc-university-of-southampton/spectra-mamba-sweep/runs/ur6srdss</a>"
      ],
      "text/plain": [
       "<IPython.core.display.HTML object>"
      ]
     },
     "metadata": {},
     "output_type": "display_data"
    },
    {
     "name": "stderr",
     "output_type": "stream",
     "text": [
      "C:\\Users\\jcwin\\AppData\\Local\\Packages\\PythonSoftwareFoundation.Python.3.11_qbz5n2kfra8p0\\LocalCache\\local-packages\\Python311\\site-packages\\torch\\optim\\lr_scheduler.py:60: UserWarning: The verbose parameter is deprecated. Please use get_last_lr() to access the learning rate.\n",
      "  warnings.warn(\n"
     ]
    },
    {
     "name": "stdout",
     "output_type": "stream",
     "text": [
      "Early stopping triggered.\n"
     ]
    },
    {
     "data": {
      "application/vnd.jupyter.widget-view+json": {
       "model_id": "be1942f13e774fd788c3ca6f9303bc7c",
       "version_major": 2,
       "version_minor": 0
      },
      "text/plain": [
       "VBox(children=(Label(value='0.285 MB of 0.285 MB uploaded\\r'), FloatProgress(value=1.0, max=1.0)))"
      ]
     },
     "metadata": {},
     "output_type": "display_data"
    },
    {
     "data": {
      "text/html": [
       "<style>\n",
       "    table.wandb td:nth-child(1) { padding: 0 10px; text-align: left ; width: auto;} td:nth-child(2) {text-align: left ; width: 100%}\n",
       "    .wandb-row { display: flex; flex-direction: row; flex-wrap: wrap; justify-content: flex-start; width: 100% }\n",
       "    .wandb-col { display: flex; flex-direction: column; flex-basis: 100%; flex: 1; padding: 10px; }\n",
       "    </style>\n",
       "<div class=\"wandb-row\"><div class=\"wandb-col\"><h3>Run history:</h3><br/><table class=\"wandb\"><tr><td>epoch</td><td>▁▁▁▁▂▂▂▃▃▃▃▃▄▄▄▄▄▄▄▄▅▅▅▅▅▅▆▆▇▇▇▇▇▇▇▇▇███</td></tr><tr><td>learning_rate</td><td>███████████████████████████████▄▄▄▄▄▂▂▂▁</td></tr><tr><td>test_accuracy</td><td>▁▅▆▆▇▇▇▇▇▇▇▇██▇█████████████████████████</td></tr><tr><td>test_loss</td><td>█▇▄▄▃▃▃▂▂▂▂▂▂▂▂▂▁▁▁▁▁▁▁▁▁▁▁▁▁▁▁▁▁▁▁▁▁▁▁▁</td></tr><tr><td>train_accuracy</td><td>▁▃▆▆▆▆▆▇▇▇▇▇▇▇▇▇▇▇▇▇▇███████████████████</td></tr><tr><td>train_loss</td><td>█▇▇▆▅▄▄▄▄▄▃▃▃▃▂▂▂▂▂▂▂▂▂▂▂▂▂▂▁▁▁▁▁▁▁▁▁▁▁▁</td></tr><tr><td>val_accuracy</td><td>▁▅▅▆▇▇▇▇▇▇██████████████████████████████</td></tr><tr><td>val_loss</td><td>██▃▃▃▂▂▂▂▂▂▂▂▂▂▁▁▁▁▁▁▁▁▁▁▁▁▁▁▁▁▁▁▁▁▁▁▁▁▁</td></tr></table><br/></div><div class=\"wandb-col\"><h3>Run summary:</h3><br/><table class=\"wandb\"><tr><td>classification_report</td><td>              precis...</td></tr><tr><td>epoch</td><td>209</td></tr><tr><td>learning_rate</td><td>0.0</td></tr><tr><td>test_accuracy</td><td>0.74922</td></tr><tr><td>test_loss</td><td>0.5566</td></tr><tr><td>train_accuracy</td><td>0.77521</td></tr><tr><td>train_loss</td><td>0.47637</td></tr><tr><td>val_accuracy</td><td>0.75506</td></tr><tr><td>val_loss</td><td>0.54301</td></tr></table><br/></div></div>"
      ],
      "text/plain": [
       "<IPython.core.display.HTML object>"
      ]
     },
     "metadata": {},
     "output_type": "display_data"
    },
    {
     "data": {
      "text/html": [
       " View run <strong style=\"color:#cdcd00\">cerulean-sweep-19</strong> at: <a href='https://wandb.ai/joaoc-university-of-southampton/spectra-mamba-sweep/runs/ur6srdss' target=\"_blank\">https://wandb.ai/joaoc-university-of-southampton/spectra-mamba-sweep/runs/ur6srdss</a><br/> View project at: <a href='https://wandb.ai/joaoc-university-of-southampton/spectra-mamba-sweep' target=\"_blank\">https://wandb.ai/joaoc-university-of-southampton/spectra-mamba-sweep</a><br/>Synced 5 W&B file(s), 0 media file(s), 418 artifact file(s) and 210 other file(s)"
      ],
      "text/plain": [
       "<IPython.core.display.HTML object>"
      ]
     },
     "metadata": {},
     "output_type": "display_data"
    },
    {
     "data": {
      "text/html": [
       "Find logs at: <code>.\\wandb\\run-20241127_185726-ur6srdss\\logs</code>"
      ],
      "text/plain": [
       "<IPython.core.display.HTML object>"
      ]
     },
     "metadata": {},
     "output_type": "display_data"
    },
    {
     "name": "stderr",
     "output_type": "stream",
     "text": [
      "wandb: Agent Starting Run: scf2nhv1 with config:\n",
      "wandb: \tdepth: 3\n",
      "wandb: \tdim: 2048\n",
      "wandb: \tlr: 2e-06\n"
     ]
    },
    {
     "data": {
      "text/html": [
       "Tracking run with wandb version 0.18.5"
      ],
      "text/plain": [
       "<IPython.core.display.HTML object>"
      ]
     },
     "metadata": {},
     "output_type": "display_data"
    },
    {
     "data": {
      "text/html": [
       "Run data is saved locally in <code>c:\\Users\\jcwin\\OneDrive - University of Southampton\\_Southampton\\2024-25\\Star-Classifier\\wandb\\run-20241127_190401-scf2nhv1</code>"
      ],
      "text/plain": [
       "<IPython.core.display.HTML object>"
      ]
     },
     "metadata": {},
     "output_type": "display_data"
    },
    {
     "data": {
      "text/html": [
       "Syncing run <strong><a href='https://wandb.ai/joaoc-university-of-southampton/spectra-mamba-sweep/runs/scf2nhv1' target=\"_blank\">lunar-sweep-20</a></strong> to <a href='https://wandb.ai/joaoc-university-of-southampton/spectra-mamba-sweep' target=\"_blank\">Weights & Biases</a> (<a href='https://wandb.me/run' target=\"_blank\">docs</a>)<br/>Sweep page: <a href='https://wandb.ai/joaoc-university-of-southampton/spectra-mamba-sweep/sweeps/pitkh7le' target=\"_blank\">https://wandb.ai/joaoc-university-of-southampton/spectra-mamba-sweep/sweeps/pitkh7le</a>"
      ],
      "text/plain": [
       "<IPython.core.display.HTML object>"
      ]
     },
     "metadata": {},
     "output_type": "display_data"
    },
    {
     "data": {
      "text/html": [
       " View project at <a href='https://wandb.ai/joaoc-university-of-southampton/spectra-mamba-sweep' target=\"_blank\">https://wandb.ai/joaoc-university-of-southampton/spectra-mamba-sweep</a>"
      ],
      "text/plain": [
       "<IPython.core.display.HTML object>"
      ]
     },
     "metadata": {},
     "output_type": "display_data"
    },
    {
     "data": {
      "text/html": [
       " View sweep at <a href='https://wandb.ai/joaoc-university-of-southampton/spectra-mamba-sweep/sweeps/pitkh7le' target=\"_blank\">https://wandb.ai/joaoc-university-of-southampton/spectra-mamba-sweep/sweeps/pitkh7le</a>"
      ],
      "text/plain": [
       "<IPython.core.display.HTML object>"
      ]
     },
     "metadata": {},
     "output_type": "display_data"
    },
    {
     "data": {
      "text/html": [
       " View run at <a href='https://wandb.ai/joaoc-university-of-southampton/spectra-mamba-sweep/runs/scf2nhv1' target=\"_blank\">https://wandb.ai/joaoc-university-of-southampton/spectra-mamba-sweep/runs/scf2nhv1</a>"
      ],
      "text/plain": [
       "<IPython.core.display.HTML object>"
      ]
     },
     "metadata": {},
     "output_type": "display_data"
    },
    {
     "name": "stderr",
     "output_type": "stream",
     "text": [
      "C:\\Users\\jcwin\\AppData\\Local\\Packages\\PythonSoftwareFoundation.Python.3.11_qbz5n2kfra8p0\\LocalCache\\local-packages\\Python311\\site-packages\\torch\\optim\\lr_scheduler.py:60: UserWarning: The verbose parameter is deprecated. Please use get_last_lr() to access the learning rate.\n",
      "  warnings.warn(\n"
     ]
    },
    {
     "name": "stdout",
     "output_type": "stream",
     "text": [
      "Early stopping triggered.\n"
     ]
    },
    {
     "data": {
      "application/vnd.jupyter.widget-view+json": {
       "model_id": "1aca726795944797810efe1933496e21",
       "version_major": 2,
       "version_minor": 0
      },
      "text/plain": [
       "VBox(children=(Label(value='0.098 MB of 0.098 MB uploaded\\r'), FloatProgress(value=1.0, max=1.0)))"
      ]
     },
     "metadata": {},
     "output_type": "display_data"
    },
    {
     "data": {
      "text/html": [
       "<style>\n",
       "    table.wandb td:nth-child(1) { padding: 0 10px; text-align: left ; width: auto;} td:nth-child(2) {text-align: left ; width: 100%}\n",
       "    .wandb-row { display: flex; flex-direction: row; flex-wrap: wrap; justify-content: flex-start; width: 100% }\n",
       "    .wandb-col { display: flex; flex-direction: column; flex-basis: 100%; flex: 1; padding: 10px; }\n",
       "    </style>\n",
       "<div class=\"wandb-row\"><div class=\"wandb-col\"><h3>Run history:</h3><br/><table class=\"wandb\"><tr><td>epoch</td><td>▁▁▁▁▁▂▂▂▂▃▃▃▃▃▃▃▄▄▄▄▄▅▅▅▅▅▅▆▆▆▆▆▆▇▇▇▇███</td></tr><tr><td>learning_rate</td><td>████████████████████████████▃▃▃▃▃▃▃▁▁▁▁▁</td></tr><tr><td>test_accuracy</td><td>▁▃▄▄▄▅▆▆▆▆▆▆▆▆▆▇▇▇▇▇▇▇▇▇█▇█▇▇▇██▇▇▇▇▇▇▇▇</td></tr><tr><td>test_loss</td><td>█▇▆▅▅▄▃▃▂▂▂▂▂▁▁▁▁▁▁▁▁▁▁▁▁▁▁▁▁▁▁▁▁▁▁▁▂▁▁▁</td></tr><tr><td>train_accuracy</td><td>▁▄▅▅▅▆▆▆▇▇▆▇▇▇▇▇▇▇▇▇▇▇▇▇▇██▇████████████</td></tr><tr><td>train_loss</td><td>█▇▄▄▄▃▃▃▃▃▃▂▂▂▂▂▂▂▂▂▂▁▂▂▂▁▁▁▁▁▁▁▁▁▁▁▁▁▁▁</td></tr><tr><td>val_accuracy</td><td>▁▄▄▅▆▆▆▆▇▇▇▇▇▇▇▇▇▇▇█████▇███████████▇██▇</td></tr><tr><td>val_loss</td><td>█▅▄▃▃▂▂▂▂▂▁▁▁▁▁▁▁▁▁▁▁▁▁▁▁▁▁▁▁▁▁▁▁▁▁▁▁▁▁▁</td></tr></table><br/></div><div class=\"wandb-col\"><h3>Run summary:</h3><br/><table class=\"wandb\"><tr><td>classification_report</td><td>              precis...</td></tr><tr><td>epoch</td><td>66</td></tr><tr><td>learning_rate</td><td>0.0</td></tr><tr><td>test_accuracy</td><td>0.73371</td></tr><tr><td>test_loss</td><td>0.57144</td></tr><tr><td>train_accuracy</td><td>0.81568</td></tr><tr><td>train_loss</td><td>0.41332</td></tr><tr><td>val_accuracy</td><td>0.74921</td></tr><tr><td>val_loss</td><td>0.57074</td></tr></table><br/></div></div>"
      ],
      "text/plain": [
       "<IPython.core.display.HTML object>"
      ]
     },
     "metadata": {},
     "output_type": "display_data"
    },
    {
     "data": {
      "text/html": [
       " View run <strong style=\"color:#cdcd00\">lunar-sweep-20</strong> at: <a href='https://wandb.ai/joaoc-university-of-southampton/spectra-mamba-sweep/runs/scf2nhv1' target=\"_blank\">https://wandb.ai/joaoc-university-of-southampton/spectra-mamba-sweep/runs/scf2nhv1</a><br/> View project at: <a href='https://wandb.ai/joaoc-university-of-southampton/spectra-mamba-sweep' target=\"_blank\">https://wandb.ai/joaoc-university-of-southampton/spectra-mamba-sweep</a><br/>Synced 5 W&B file(s), 0 media file(s), 134 artifact file(s) and 67 other file(s)"
      ],
      "text/plain": [
       "<IPython.core.display.HTML object>"
      ]
     },
     "metadata": {},
     "output_type": "display_data"
    },
    {
     "data": {
      "text/html": [
       "Find logs at: <code>.\\wandb\\run-20241127_190401-scf2nhv1\\logs</code>"
      ],
      "text/plain": [
       "<IPython.core.display.HTML object>"
      ]
     },
     "metadata": {},
     "output_type": "display_data"
    },
    {
     "name": "stderr",
     "output_type": "stream",
     "text": [
      "wandb: Agent Starting Run: aasgcfb4 with config:\n",
      "wandb: \tdepth: 3\n",
      "wandb: \tdim: 2048\n",
      "wandb: \tlr: 0.0001\n"
     ]
    },
    {
     "data": {
      "text/html": [
       "Tracking run with wandb version 0.18.5"
      ],
      "text/plain": [
       "<IPython.core.display.HTML object>"
      ]
     },
     "metadata": {},
     "output_type": "display_data"
    },
    {
     "data": {
      "text/html": [
       "Run data is saved locally in <code>c:\\Users\\jcwin\\OneDrive - University of Southampton\\_Southampton\\2024-25\\Star-Classifier\\wandb\\run-20241127_190812-aasgcfb4</code>"
      ],
      "text/plain": [
       "<IPython.core.display.HTML object>"
      ]
     },
     "metadata": {},
     "output_type": "display_data"
    },
    {
     "data": {
      "text/html": [
       "Syncing run <strong><a href='https://wandb.ai/joaoc-university-of-southampton/spectra-mamba-sweep/runs/aasgcfb4' target=\"_blank\">fresh-sweep-21</a></strong> to <a href='https://wandb.ai/joaoc-university-of-southampton/spectra-mamba-sweep' target=\"_blank\">Weights & Biases</a> (<a href='https://wandb.me/run' target=\"_blank\">docs</a>)<br/>Sweep page: <a href='https://wandb.ai/joaoc-university-of-southampton/spectra-mamba-sweep/sweeps/pitkh7le' target=\"_blank\">https://wandb.ai/joaoc-university-of-southampton/spectra-mamba-sweep/sweeps/pitkh7le</a>"
      ],
      "text/plain": [
       "<IPython.core.display.HTML object>"
      ]
     },
     "metadata": {},
     "output_type": "display_data"
    },
    {
     "data": {
      "text/html": [
       " View project at <a href='https://wandb.ai/joaoc-university-of-southampton/spectra-mamba-sweep' target=\"_blank\">https://wandb.ai/joaoc-university-of-southampton/spectra-mamba-sweep</a>"
      ],
      "text/plain": [
       "<IPython.core.display.HTML object>"
      ]
     },
     "metadata": {},
     "output_type": "display_data"
    },
    {
     "data": {
      "text/html": [
       " View sweep at <a href='https://wandb.ai/joaoc-university-of-southampton/spectra-mamba-sweep/sweeps/pitkh7le' target=\"_blank\">https://wandb.ai/joaoc-university-of-southampton/spectra-mamba-sweep/sweeps/pitkh7le</a>"
      ],
      "text/plain": [
       "<IPython.core.display.HTML object>"
      ]
     },
     "metadata": {},
     "output_type": "display_data"
    },
    {
     "data": {
      "text/html": [
       " View run at <a href='https://wandb.ai/joaoc-university-of-southampton/spectra-mamba-sweep/runs/aasgcfb4' target=\"_blank\">https://wandb.ai/joaoc-university-of-southampton/spectra-mamba-sweep/runs/aasgcfb4</a>"
      ],
      "text/plain": [
       "<IPython.core.display.HTML object>"
      ]
     },
     "metadata": {},
     "output_type": "display_data"
    },
    {
     "name": "stderr",
     "output_type": "stream",
     "text": [
      "C:\\Users\\jcwin\\AppData\\Local\\Packages\\PythonSoftwareFoundation.Python.3.11_qbz5n2kfra8p0\\LocalCache\\local-packages\\Python311\\site-packages\\torch\\optim\\lr_scheduler.py:60: UserWarning: The verbose parameter is deprecated. Please use get_last_lr() to access the learning rate.\n",
      "  warnings.warn(\n"
     ]
    },
    {
     "name": "stdout",
     "output_type": "stream",
     "text": [
      "Early stopping triggered.\n"
     ]
    },
    {
     "data": {
      "application/vnd.jupyter.widget-view+json": {
       "model_id": "39450988eda14ce5af8b07ff7a8418e3",
       "version_major": 2,
       "version_minor": 0
      },
      "text/plain": [
       "VBox(children=(Label(value='0.055 MB of 0.055 MB uploaded\\r'), FloatProgress(value=1.0, max=1.0)))"
      ]
     },
     "metadata": {},
     "output_type": "display_data"
    },
    {
     "data": {
      "text/html": [
       "<style>\n",
       "    table.wandb td:nth-child(1) { padding: 0 10px; text-align: left ; width: auto;} td:nth-child(2) {text-align: left ; width: 100%}\n",
       "    .wandb-row { display: flex; flex-direction: row; flex-wrap: wrap; justify-content: flex-start; width: 100% }\n",
       "    .wandb-col { display: flex; flex-direction: column; flex-basis: 100%; flex: 1; padding: 10px; }\n",
       "    </style>\n",
       "<div class=\"wandb-row\"><div class=\"wandb-col\"><h3>Run history:</h3><br/><table class=\"wandb\"><tr><td>epoch</td><td>▁▁▁▂▂▂▂▂▃▃▃▃▄▄▄▄▄▅▅▅▅▅▆▆▆▆▇▇▇▇▇███</td></tr><tr><td>learning_rate</td><td>██████████████▃▃▃▃▃▃▃▃▃▃▃▁▁▁▁▁▁▁▁▁</td></tr><tr><td>test_accuracy</td><td>▃▅▅▇▆▇▆██▆▄▆▆▃▂▅▅▅▃▂▃▄▄▄▂▃▄▃▂▁▂▃▃▂</td></tr><tr><td>test_loss</td><td>▂▂▂▁▁▁▁▁▁▁▂▂▂▂▃▂▂▃▃▄▃▃▄▄▅▄▄▅▇█▇▆▇▇</td></tr><tr><td>train_accuracy</td><td>▁▅▅▅▅▆▆▆▆▇▆▆▇▆▆▇▇▇▇▇▇▇▇▇█▇████████</td></tr><tr><td>train_loss</td><td>█▃▃▃▃▃▃▂▂▂▂▂▂▂▂▂▂▂▁▂▁▁▁▁▁▁▁▁▁▁▁▁▁▁</td></tr><tr><td>val_accuracy</td><td>▁▆▄▇▇▆▇▆█▅▄▇▅▃▃▅▄▅▅▃▄▅▃▃▂▃▄▃▁▁▁▃▂▂</td></tr><tr><td>val_loss</td><td>▂▁▁▁▁▁▁▁▁▂▂▂▂▂▃▂▃▃▃▄▃▃▄▄▆▄▄▅▇█▇▆▇▇</td></tr></table><br/></div><div class=\"wandb-col\"><h3>Run summary:</h3><br/><table class=\"wandb\"><tr><td>classification_report</td><td>              precis...</td></tr><tr><td>epoch</td><td>33</td></tr><tr><td>learning_rate</td><td>3e-05</td></tr><tr><td>test_accuracy</td><td>0.6567</td></tr><tr><td>test_loss</td><td>1.45858</td></tr><tr><td>train_accuracy</td><td>0.84529</td></tr><tr><td>train_loss</td><td>0.30809</td></tr><tr><td>val_accuracy</td><td>0.67428</td></tr><tr><td>val_loss</td><td>1.40694</td></tr></table><br/></div></div>"
      ],
      "text/plain": [
       "<IPython.core.display.HTML object>"
      ]
     },
     "metadata": {},
     "output_type": "display_data"
    },
    {
     "data": {
      "text/html": [
       " View run <strong style=\"color:#cdcd00\">fresh-sweep-21</strong> at: <a href='https://wandb.ai/joaoc-university-of-southampton/spectra-mamba-sweep/runs/aasgcfb4' target=\"_blank\">https://wandb.ai/joaoc-university-of-southampton/spectra-mamba-sweep/runs/aasgcfb4</a><br/> View project at: <a href='https://wandb.ai/joaoc-university-of-southampton/spectra-mamba-sweep' target=\"_blank\">https://wandb.ai/joaoc-university-of-southampton/spectra-mamba-sweep</a><br/>Synced 5 W&B file(s), 0 media file(s), 68 artifact file(s) and 34 other file(s)"
      ],
      "text/plain": [
       "<IPython.core.display.HTML object>"
      ]
     },
     "metadata": {},
     "output_type": "display_data"
    },
    {
     "data": {
      "text/html": [
       "Find logs at: <code>.\\wandb\\run-20241127_190812-aasgcfb4\\logs</code>"
      ],
      "text/plain": [
       "<IPython.core.display.HTML object>"
      ]
     },
     "metadata": {},
     "output_type": "display_data"
    },
    {
     "name": "stderr",
     "output_type": "stream",
     "text": [
      "wandb: Sweep Agent: Waiting for job.\n",
      "wandb: Job received.\n",
      "wandb: Agent Starting Run: p631dvxg with config:\n",
      "wandb: \tdepth: 3\n",
      "wandb: \tdim: 512\n",
      "wandb: \tlr: 1e-05\n"
     ]
    },
    {
     "data": {
      "text/html": [
       "Tracking run with wandb version 0.18.5"
      ],
      "text/plain": [
       "<IPython.core.display.HTML object>"
      ]
     },
     "metadata": {},
     "output_type": "display_data"
    },
    {
     "data": {
      "text/html": [
       "Run data is saved locally in <code>c:\\Users\\jcwin\\OneDrive - University of Southampton\\_Southampton\\2024-25\\Star-Classifier\\wandb\\run-20241127_191031-p631dvxg</code>"
      ],
      "text/plain": [
       "<IPython.core.display.HTML object>"
      ]
     },
     "metadata": {},
     "output_type": "display_data"
    },
    {
     "data": {
      "text/html": [
       "Syncing run <strong><a href='https://wandb.ai/joaoc-university-of-southampton/spectra-mamba-sweep/runs/p631dvxg' target=\"_blank\">graceful-sweep-22</a></strong> to <a href='https://wandb.ai/joaoc-university-of-southampton/spectra-mamba-sweep' target=\"_blank\">Weights & Biases</a> (<a href='https://wandb.me/run' target=\"_blank\">docs</a>)<br/>Sweep page: <a href='https://wandb.ai/joaoc-university-of-southampton/spectra-mamba-sweep/sweeps/pitkh7le' target=\"_blank\">https://wandb.ai/joaoc-university-of-southampton/spectra-mamba-sweep/sweeps/pitkh7le</a>"
      ],
      "text/plain": [
       "<IPython.core.display.HTML object>"
      ]
     },
     "metadata": {},
     "output_type": "display_data"
    },
    {
     "data": {
      "text/html": [
       " View project at <a href='https://wandb.ai/joaoc-university-of-southampton/spectra-mamba-sweep' target=\"_blank\">https://wandb.ai/joaoc-university-of-southampton/spectra-mamba-sweep</a>"
      ],
      "text/plain": [
       "<IPython.core.display.HTML object>"
      ]
     },
     "metadata": {},
     "output_type": "display_data"
    },
    {
     "data": {
      "text/html": [
       " View sweep at <a href='https://wandb.ai/joaoc-university-of-southampton/spectra-mamba-sweep/sweeps/pitkh7le' target=\"_blank\">https://wandb.ai/joaoc-university-of-southampton/spectra-mamba-sweep/sweeps/pitkh7le</a>"
      ],
      "text/plain": [
       "<IPython.core.display.HTML object>"
      ]
     },
     "metadata": {},
     "output_type": "display_data"
    },
    {
     "data": {
      "text/html": [
       " View run at <a href='https://wandb.ai/joaoc-university-of-southampton/spectra-mamba-sweep/runs/p631dvxg' target=\"_blank\">https://wandb.ai/joaoc-university-of-southampton/spectra-mamba-sweep/runs/p631dvxg</a>"
      ],
      "text/plain": [
       "<IPython.core.display.HTML object>"
      ]
     },
     "metadata": {},
     "output_type": "display_data"
    },
    {
     "name": "stderr",
     "output_type": "stream",
     "text": [
      "C:\\Users\\jcwin\\AppData\\Local\\Packages\\PythonSoftwareFoundation.Python.3.11_qbz5n2kfra8p0\\LocalCache\\local-packages\\Python311\\site-packages\\torch\\optim\\lr_scheduler.py:60: UserWarning: The verbose parameter is deprecated. Please use get_last_lr() to access the learning rate.\n",
      "  warnings.warn(\n"
     ]
    },
    {
     "name": "stdout",
     "output_type": "stream",
     "text": [
      "Early stopping triggered.\n"
     ]
    },
    {
     "data": {
      "application/vnd.jupyter.widget-view+json": {
       "model_id": "15230e8b1e9c42bf837446ded253bd39",
       "version_major": 2,
       "version_minor": 0
      },
      "text/plain": [
       "VBox(children=(Label(value='0.067 MB of 0.067 MB uploaded\\r'), FloatProgress(value=1.0, max=1.0)))"
      ]
     },
     "metadata": {},
     "output_type": "display_data"
    },
    {
     "data": {
      "text/html": [
       "<style>\n",
       "    table.wandb td:nth-child(1) { padding: 0 10px; text-align: left ; width: auto;} td:nth-child(2) {text-align: left ; width: 100%}\n",
       "    .wandb-row { display: flex; flex-direction: row; flex-wrap: wrap; justify-content: flex-start; width: 100% }\n",
       "    .wandb-col { display: flex; flex-direction: column; flex-basis: 100%; flex: 1; padding: 10px; }\n",
       "    </style>\n",
       "<div class=\"wandb-row\"><div class=\"wandb-col\"><h3>Run history:</h3><br/><table class=\"wandb\"><tr><td>epoch</td><td>▁▁▁▁▂▂▂▂▂▃▃▃▃▃▄▄▄▄▄▄▅▅▅▅▅▆▆▆▆▆▇▇▇▇▇▇▇███</td></tr><tr><td>learning_rate</td><td>█████████████████████████▃▃▃▃▃▃▃▃▃▁▁▁▁▁▁</td></tr><tr><td>test_accuracy</td><td>▁▂▄▅▆▆▇▆▇▇▇▇█▇▇██▇▇▇███▇▇█▇▇█▇██████▇▇██</td></tr><tr><td>test_loss</td><td>█▅▄▃▃▂▂▂▂▂▁▁▁▁▁▁▁▁▁▁▁▁▁▁▁▁▁▁▁▁▁▁▁▁▁▁▁▁▁▁</td></tr><tr><td>train_accuracy</td><td>▁▄▅▆▅▆▇▆▇▇▇▇▇▇▇▇▇▇▇▇▇▇▇▇▇▇██████████████</td></tr><tr><td>train_loss</td><td>█▆▄▄▄▃▃▃▃▃▂▂▂▂▂▂▂▂▂▂▂▂▂▂▂▁▁▁▁▁▁▁▁▁▁▁▁▁▁▁</td></tr><tr><td>val_accuracy</td><td>▁▂▃▄▅▆▇▆▇▇▇▇▇████████▇█▇▇███▇█████▇▇▇▇▇▇</td></tr><tr><td>val_loss</td><td>█▆▅▄▃▃▂▂▂▂▁▁▁▁▁▁▁▁▁▁▁▁▁▁▁▁▁▁▁▁▁▁▁▁▁▁▁▁▁▁</td></tr></table><br/></div><div class=\"wandb-col\"><h3>Run summary:</h3><br/><table class=\"wandb\"><tr><td>classification_report</td><td>              precis...</td></tr><tr><td>epoch</td><td>55</td></tr><tr><td>learning_rate</td><td>0.0</td></tr><tr><td>test_accuracy</td><td>0.74475</td></tr><tr><td>test_loss</td><td>0.57715</td></tr><tr><td>train_accuracy</td><td>0.80973</td></tr><tr><td>train_loss</td><td>0.42089</td></tr><tr><td>val_accuracy</td><td>0.75312</td></tr><tr><td>val_loss</td><td>0.56424</td></tr></table><br/></div></div>"
      ],
      "text/plain": [
       "<IPython.core.display.HTML object>"
      ]
     },
     "metadata": {},
     "output_type": "display_data"
    },
    {
     "data": {
      "text/html": [
       " View run <strong style=\"color:#cdcd00\">graceful-sweep-22</strong> at: <a href='https://wandb.ai/joaoc-university-of-southampton/spectra-mamba-sweep/runs/p631dvxg' target=\"_blank\">https://wandb.ai/joaoc-university-of-southampton/spectra-mamba-sweep/runs/p631dvxg</a><br/> View project at: <a href='https://wandb.ai/joaoc-university-of-southampton/spectra-mamba-sweep' target=\"_blank\">https://wandb.ai/joaoc-university-of-southampton/spectra-mamba-sweep</a><br/>Synced 5 W&B file(s), 0 media file(s), 112 artifact file(s) and 56 other file(s)"
      ],
      "text/plain": [
       "<IPython.core.display.HTML object>"
      ]
     },
     "metadata": {},
     "output_type": "display_data"
    },
    {
     "data": {
      "text/html": [
       "Find logs at: <code>.\\wandb\\run-20241127_191031-p631dvxg\\logs</code>"
      ],
      "text/plain": [
       "<IPython.core.display.HTML object>"
      ]
     },
     "metadata": {},
     "output_type": "display_data"
    },
    {
     "name": "stderr",
     "output_type": "stream",
     "text": [
      "wandb: Agent Starting Run: qhlukzcv with config:\n",
      "wandb: \tdepth: 3\n",
      "wandb: \tdim: 512\n",
      "wandb: \tlr: 0.0001\n"
     ]
    },
    {
     "data": {
      "text/html": [
       "Tracking run with wandb version 0.18.5"
      ],
      "text/plain": [
       "<IPython.core.display.HTML object>"
      ]
     },
     "metadata": {},
     "output_type": "display_data"
    },
    {
     "data": {
      "text/html": [
       "Run data is saved locally in <code>c:\\Users\\jcwin\\OneDrive - University of Southampton\\_Southampton\\2024-25\\Star-Classifier\\wandb\\run-20241127_191204-qhlukzcv</code>"
      ],
      "text/plain": [
       "<IPython.core.display.HTML object>"
      ]
     },
     "metadata": {},
     "output_type": "display_data"
    },
    {
     "data": {
      "text/html": [
       "Syncing run <strong><a href='https://wandb.ai/joaoc-university-of-southampton/spectra-mamba-sweep/runs/qhlukzcv' target=\"_blank\">blooming-sweep-23</a></strong> to <a href='https://wandb.ai/joaoc-university-of-southampton/spectra-mamba-sweep' target=\"_blank\">Weights & Biases</a> (<a href='https://wandb.me/run' target=\"_blank\">docs</a>)<br/>Sweep page: <a href='https://wandb.ai/joaoc-university-of-southampton/spectra-mamba-sweep/sweeps/pitkh7le' target=\"_blank\">https://wandb.ai/joaoc-university-of-southampton/spectra-mamba-sweep/sweeps/pitkh7le</a>"
      ],
      "text/plain": [
       "<IPython.core.display.HTML object>"
      ]
     },
     "metadata": {},
     "output_type": "display_data"
    },
    {
     "data": {
      "text/html": [
       " View project at <a href='https://wandb.ai/joaoc-university-of-southampton/spectra-mamba-sweep' target=\"_blank\">https://wandb.ai/joaoc-university-of-southampton/spectra-mamba-sweep</a>"
      ],
      "text/plain": [
       "<IPython.core.display.HTML object>"
      ]
     },
     "metadata": {},
     "output_type": "display_data"
    },
    {
     "data": {
      "text/html": [
       " View sweep at <a href='https://wandb.ai/joaoc-university-of-southampton/spectra-mamba-sweep/sweeps/pitkh7le' target=\"_blank\">https://wandb.ai/joaoc-university-of-southampton/spectra-mamba-sweep/sweeps/pitkh7le</a>"
      ],
      "text/plain": [
       "<IPython.core.display.HTML object>"
      ]
     },
     "metadata": {},
     "output_type": "display_data"
    },
    {
     "data": {
      "text/html": [
       " View run at <a href='https://wandb.ai/joaoc-university-of-southampton/spectra-mamba-sweep/runs/qhlukzcv' target=\"_blank\">https://wandb.ai/joaoc-university-of-southampton/spectra-mamba-sweep/runs/qhlukzcv</a>"
      ],
      "text/plain": [
       "<IPython.core.display.HTML object>"
      ]
     },
     "metadata": {},
     "output_type": "display_data"
    },
    {
     "name": "stderr",
     "output_type": "stream",
     "text": [
      "C:\\Users\\jcwin\\AppData\\Local\\Packages\\PythonSoftwareFoundation.Python.3.11_qbz5n2kfra8p0\\LocalCache\\local-packages\\Python311\\site-packages\\torch\\optim\\lr_scheduler.py:60: UserWarning: The verbose parameter is deprecated. Please use get_last_lr() to access the learning rate.\n",
      "  warnings.warn(\n"
     ]
    },
    {
     "name": "stdout",
     "output_type": "stream",
     "text": [
      "Early stopping triggered.\n"
     ]
    },
    {
     "data": {
      "application/vnd.jupyter.widget-view+json": {
       "model_id": "c3bfc2b54d414caaafb99ef11fb49dfa",
       "version_major": 2,
       "version_minor": 0
      },
      "text/plain": [
       "VBox(children=(Label(value='0.047 MB of 0.047 MB uploaded\\r'), FloatProgress(value=1.0, max=1.0)))"
      ]
     },
     "metadata": {},
     "output_type": "display_data"
    },
    {
     "data": {
      "text/html": [
       "<style>\n",
       "    table.wandb td:nth-child(1) { padding: 0 10px; text-align: left ; width: auto;} td:nth-child(2) {text-align: left ; width: 100%}\n",
       "    .wandb-row { display: flex; flex-direction: row; flex-wrap: wrap; justify-content: flex-start; width: 100% }\n",
       "    .wandb-col { display: flex; flex-direction: column; flex-basis: 100%; flex: 1; padding: 10px; }\n",
       "    </style>\n",
       "<div class=\"wandb-row\"><div class=\"wandb-col\"><h3>Run history:</h3><br/><table class=\"wandb\"><tr><td>epoch</td><td>▁▁▁▂▂▂▂▂▃▃▃▃▃▄▄▄▄▅▅▅▅▅▆▆▆▆▆▇▇▇▇▇███</td></tr><tr><td>learning_rate</td><td>███████████████▃▃▃▃▃▃▃▃▃▃▃▁▁▁▁▁▁▁▁▁</td></tr><tr><td>test_accuracy</td><td>▁▆▅▇▇██▆▆▅▆▇▇▇▇▆▆▅▅▅▄▆▆▃▃▄▆▅▄▄▂▆▄▂▃</td></tr><tr><td>test_loss</td><td>▃▂▁▁▁▁▁▁▁▂▂▂▂▂▃▂▂▃▃▄▄▃▃▅▄▅▄▅▆▆▇▅▆██</td></tr><tr><td>train_accuracy</td><td>▁▄▅▅▅▆▆▆▆▆▆▆▇▇▇▇▇▇▇▇▇▇██▇██████████</td></tr><tr><td>train_loss</td><td>█▅▄▄▃▃▃▃▃▃▂▂▂▂▂▂▂▂▂▂▁▂▁▁▁▁▁▁▁▁▁▁▁▁▁</td></tr><tr><td>val_accuracy</td><td>▁▄▅█▇▇▆▆▆▃▆█▇▆▅▄▅▄▄▄▄▄▆▃▄▄▃▃▁▃▂▄▃▂▁</td></tr><tr><td>val_loss</td><td>▄▂▁▁▁▁▁▁▁▂▂▁▂▂▃▂▃▃▃▄▄▄▄▅▅▅▅▆▇▇▇▅▆██</td></tr></table><br/></div><div class=\"wandb-col\"><h3>Run summary:</h3><br/><table class=\"wandb\"><tr><td>classification_report</td><td>              precis...</td></tr><tr><td>epoch</td><td>34</td></tr><tr><td>learning_rate</td><td>3e-05</td></tr><tr><td>test_accuracy</td><td>0.68426</td></tr><tr><td>test_loss</td><td>1.258</td></tr><tr><td>train_accuracy</td><td>0.83795</td></tr><tr><td>train_loss</td><td>0.33058</td></tr><tr><td>val_accuracy</td><td>0.68406</td></tr><tr><td>val_loss</td><td>1.20141</td></tr></table><br/></div></div>"
      ],
      "text/plain": [
       "<IPython.core.display.HTML object>"
      ]
     },
     "metadata": {},
     "output_type": "display_data"
    },
    {
     "data": {
      "text/html": [
       " View run <strong style=\"color:#cdcd00\">blooming-sweep-23</strong> at: <a href='https://wandb.ai/joaoc-university-of-southampton/spectra-mamba-sweep/runs/qhlukzcv' target=\"_blank\">https://wandb.ai/joaoc-university-of-southampton/spectra-mamba-sweep/runs/qhlukzcv</a><br/> View project at: <a href='https://wandb.ai/joaoc-university-of-southampton/spectra-mamba-sweep' target=\"_blank\">https://wandb.ai/joaoc-university-of-southampton/spectra-mamba-sweep</a><br/>Synced 5 W&B file(s), 0 media file(s), 70 artifact file(s) and 35 other file(s)"
      ],
      "text/plain": [
       "<IPython.core.display.HTML object>"
      ]
     },
     "metadata": {},
     "output_type": "display_data"
    },
    {
     "data": {
      "text/html": [
       "Find logs at: <code>.\\wandb\\run-20241127_191204-qhlukzcv\\logs</code>"
      ],
      "text/plain": [
       "<IPython.core.display.HTML object>"
      ]
     },
     "metadata": {},
     "output_type": "display_data"
    },
    {
     "name": "stderr",
     "output_type": "stream",
     "text": [
      "wandb: Agent Starting Run: x1k80szh with config:\n",
      "wandb: \tdepth: 12\n",
      "wandb: \tdim: 256\n",
      "wandb: \tlr: 2e-06\n"
     ]
    },
    {
     "data": {
      "text/html": [
       "Tracking run with wandb version 0.18.5"
      ],
      "text/plain": [
       "<IPython.core.display.HTML object>"
      ]
     },
     "metadata": {},
     "output_type": "display_data"
    },
    {
     "data": {
      "text/html": [
       "Run data is saved locally in <code>c:\\Users\\jcwin\\OneDrive - University of Southampton\\_Southampton\\2024-25\\Star-Classifier\\wandb\\run-20241127_191306-x1k80szh</code>"
      ],
      "text/plain": [
       "<IPython.core.display.HTML object>"
      ]
     },
     "metadata": {},
     "output_type": "display_data"
    },
    {
     "data": {
      "text/html": [
       "Syncing run <strong><a href='https://wandb.ai/joaoc-university-of-southampton/spectra-mamba-sweep/runs/x1k80szh' target=\"_blank\">cool-sweep-24</a></strong> to <a href='https://wandb.ai/joaoc-university-of-southampton/spectra-mamba-sweep' target=\"_blank\">Weights & Biases</a> (<a href='https://wandb.me/run' target=\"_blank\">docs</a>)<br/>Sweep page: <a href='https://wandb.ai/joaoc-university-of-southampton/spectra-mamba-sweep/sweeps/pitkh7le' target=\"_blank\">https://wandb.ai/joaoc-university-of-southampton/spectra-mamba-sweep/sweeps/pitkh7le</a>"
      ],
      "text/plain": [
       "<IPython.core.display.HTML object>"
      ]
     },
     "metadata": {},
     "output_type": "display_data"
    },
    {
     "data": {
      "text/html": [
       " View project at <a href='https://wandb.ai/joaoc-university-of-southampton/spectra-mamba-sweep' target=\"_blank\">https://wandb.ai/joaoc-university-of-southampton/spectra-mamba-sweep</a>"
      ],
      "text/plain": [
       "<IPython.core.display.HTML object>"
      ]
     },
     "metadata": {},
     "output_type": "display_data"
    },
    {
     "data": {
      "text/html": [
       " View sweep at <a href='https://wandb.ai/joaoc-university-of-southampton/spectra-mamba-sweep/sweeps/pitkh7le' target=\"_blank\">https://wandb.ai/joaoc-university-of-southampton/spectra-mamba-sweep/sweeps/pitkh7le</a>"
      ],
      "text/plain": [
       "<IPython.core.display.HTML object>"
      ]
     },
     "metadata": {},
     "output_type": "display_data"
    },
    {
     "data": {
      "text/html": [
       " View run at <a href='https://wandb.ai/joaoc-university-of-southampton/spectra-mamba-sweep/runs/x1k80szh' target=\"_blank\">https://wandb.ai/joaoc-university-of-southampton/spectra-mamba-sweep/runs/x1k80szh</a>"
      ],
      "text/plain": [
       "<IPython.core.display.HTML object>"
      ]
     },
     "metadata": {},
     "output_type": "display_data"
    },
    {
     "name": "stderr",
     "output_type": "stream",
     "text": [
      "C:\\Users\\jcwin\\AppData\\Local\\Packages\\PythonSoftwareFoundation.Python.3.11_qbz5n2kfra8p0\\LocalCache\\local-packages\\Python311\\site-packages\\torch\\optim\\lr_scheduler.py:60: UserWarning: The verbose parameter is deprecated. Please use get_last_lr() to access the learning rate.\n",
      "  warnings.warn(\n"
     ]
    },
    {
     "name": "stdout",
     "output_type": "stream",
     "text": [
      "Early stopping triggered.\n"
     ]
    },
    {
     "data": {
      "application/vnd.jupyter.widget-view+json": {
       "model_id": "967cb0e44f814bda88004eb46339374e",
       "version_major": 2,
       "version_minor": 0
      },
      "text/plain": [
       "VBox(children=(Label(value='0.292 MB of 0.292 MB uploaded\\r'), FloatProgress(value=1.0, max=1.0)))"
      ]
     },
     "metadata": {},
     "output_type": "display_data"
    },
    {
     "data": {
      "text/html": [
       "<style>\n",
       "    table.wandb td:nth-child(1) { padding: 0 10px; text-align: left ; width: auto;} td:nth-child(2) {text-align: left ; width: 100%}\n",
       "    .wandb-row { display: flex; flex-direction: row; flex-wrap: wrap; justify-content: flex-start; width: 100% }\n",
       "    .wandb-col { display: flex; flex-direction: column; flex-basis: 100%; flex: 1; padding: 10px; }\n",
       "    </style>\n",
       "<div class=\"wandb-row\"><div class=\"wandb-col\"><h3>Run history:</h3><br/><table class=\"wandb\"><tr><td>epoch</td><td>▁▁▂▂▂▂▂▃▃▃▃▃▃▃▃▃▃▄▄▄▄▄▅▅▅▅▅▆▆▆▆▇▇▇▇▇▇███</td></tr><tr><td>learning_rate</td><td>███████████████████████████████████▃▃▃▃▁</td></tr><tr><td>test_accuracy</td><td>▁▆▆▇▇▇▇▇▇▇▇▇▇▇█▇▇██▇▇██▇████████████████</td></tr><tr><td>test_loss</td><td>█▇▆▃▃▂▂▂▂▂▂▂▁▁▁▁▁▁▁▁▁▁▁▁▁▁▁▁▁▁▁▁▁▁▁▁▁▁▁▁</td></tr><tr><td>train_accuracy</td><td>▁▄▅▅▆▆▆▆▆▇▇▇▇▇▇▇▇▇▇▇▇▇▇▇▇▇▇▇▇███████████</td></tr><tr><td>train_loss</td><td>█▇▇▃▃▃▃▃▃▃▂▂▂▂▂▂▂▂▂▂▁▂▂▁▁▂▁▁▁▁▁▁▁▁▁▁▁▁▁▁</td></tr><tr><td>val_accuracy</td><td>▁▄▅▆▆▇▇▇▇▇▇▇▇▇▇▇▇▇▇▇████████████████████</td></tr><tr><td>val_loss</td><td>█▇▅▅▅▄▄▄▃▃▃▃▃▃▂▂▂▂▂▂▂▂▁▂▁▁▁▁▁▁▁▁▁▁▁▁▁▁▁▁</td></tr></table><br/></div><div class=\"wandb-col\"><h3>Run summary:</h3><br/><table class=\"wandb\"><tr><td>classification_report</td><td>              precis...</td></tr><tr><td>epoch</td><td>214</td></tr><tr><td>learning_rate</td><td>0.0</td></tr><tr><td>test_accuracy</td><td>0.74531</td></tr><tr><td>test_loss</td><td>0.55665</td></tr><tr><td>train_accuracy</td><td>0.78812</td></tr><tr><td>train_loss</td><td>0.47355</td></tr><tr><td>val_accuracy</td><td>0.75441</td></tr><tr><td>val_loss</td><td>0.54833</td></tr></table><br/></div></div>"
      ],
      "text/plain": [
       "<IPython.core.display.HTML object>"
      ]
     },
     "metadata": {},
     "output_type": "display_data"
    },
    {
     "data": {
      "text/html": [
       " View run <strong style=\"color:#cdcd00\">cool-sweep-24</strong> at: <a href='https://wandb.ai/joaoc-university-of-southampton/spectra-mamba-sweep/runs/x1k80szh' target=\"_blank\">https://wandb.ai/joaoc-university-of-southampton/spectra-mamba-sweep/runs/x1k80szh</a><br/> View project at: <a href='https://wandb.ai/joaoc-university-of-southampton/spectra-mamba-sweep' target=\"_blank\">https://wandb.ai/joaoc-university-of-southampton/spectra-mamba-sweep</a><br/>Synced 5 W&B file(s), 0 media file(s), 430 artifact file(s) and 215 other file(s)"
      ],
      "text/plain": [
       "<IPython.core.display.HTML object>"
      ]
     },
     "metadata": {},
     "output_type": "display_data"
    },
    {
     "data": {
      "text/html": [
       "Find logs at: <code>.\\wandb\\run-20241127_191306-x1k80szh\\logs</code>"
      ],
      "text/plain": [
       "<IPython.core.display.HTML object>"
      ]
     },
     "metadata": {},
     "output_type": "display_data"
    },
    {
     "name": "stderr",
     "output_type": "stream",
     "text": [
      "wandb: Agent Starting Run: csmjabkr with config:\n",
      "wandb: \tdepth: 3\n",
      "wandb: \tdim: 256\n",
      "wandb: \tlr: 1e-05\n"
     ]
    },
    {
     "data": {
      "text/html": [
       "Tracking run with wandb version 0.18.5"
      ],
      "text/plain": [
       "<IPython.core.display.HTML object>"
      ]
     },
     "metadata": {},
     "output_type": "display_data"
    },
    {
     "data": {
      "text/html": [
       "Run data is saved locally in <code>c:\\Users\\jcwin\\OneDrive - University of Southampton\\_Southampton\\2024-25\\Star-Classifier\\wandb\\run-20241127_192331-csmjabkr</code>"
      ],
      "text/plain": [
       "<IPython.core.display.HTML object>"
      ]
     },
     "metadata": {},
     "output_type": "display_data"
    },
    {
     "data": {
      "text/html": [
       "Syncing run <strong><a href='https://wandb.ai/joaoc-university-of-southampton/spectra-mamba-sweep/runs/csmjabkr' target=\"_blank\">exalted-sweep-25</a></strong> to <a href='https://wandb.ai/joaoc-university-of-southampton/spectra-mamba-sweep' target=\"_blank\">Weights & Biases</a> (<a href='https://wandb.me/run' target=\"_blank\">docs</a>)<br/>Sweep page: <a href='https://wandb.ai/joaoc-university-of-southampton/spectra-mamba-sweep/sweeps/pitkh7le' target=\"_blank\">https://wandb.ai/joaoc-university-of-southampton/spectra-mamba-sweep/sweeps/pitkh7le</a>"
      ],
      "text/plain": [
       "<IPython.core.display.HTML object>"
      ]
     },
     "metadata": {},
     "output_type": "display_data"
    },
    {
     "data": {
      "text/html": [
       " View project at <a href='https://wandb.ai/joaoc-university-of-southampton/spectra-mamba-sweep' target=\"_blank\">https://wandb.ai/joaoc-university-of-southampton/spectra-mamba-sweep</a>"
      ],
      "text/plain": [
       "<IPython.core.display.HTML object>"
      ]
     },
     "metadata": {},
     "output_type": "display_data"
    },
    {
     "data": {
      "text/html": [
       " View sweep at <a href='https://wandb.ai/joaoc-university-of-southampton/spectra-mamba-sweep/sweeps/pitkh7le' target=\"_blank\">https://wandb.ai/joaoc-university-of-southampton/spectra-mamba-sweep/sweeps/pitkh7le</a>"
      ],
      "text/plain": [
       "<IPython.core.display.HTML object>"
      ]
     },
     "metadata": {},
     "output_type": "display_data"
    },
    {
     "data": {
      "text/html": [
       " View run at <a href='https://wandb.ai/joaoc-university-of-southampton/spectra-mamba-sweep/runs/csmjabkr' target=\"_blank\">https://wandb.ai/joaoc-university-of-southampton/spectra-mamba-sweep/runs/csmjabkr</a>"
      ],
      "text/plain": [
       "<IPython.core.display.HTML object>"
      ]
     },
     "metadata": {},
     "output_type": "display_data"
    },
    {
     "name": "stderr",
     "output_type": "stream",
     "text": [
      "C:\\Users\\jcwin\\AppData\\Local\\Packages\\PythonSoftwareFoundation.Python.3.11_qbz5n2kfra8p0\\LocalCache\\local-packages\\Python311\\site-packages\\torch\\optim\\lr_scheduler.py:60: UserWarning: The verbose parameter is deprecated. Please use get_last_lr() to access the learning rate.\n",
      "  warnings.warn(\n"
     ]
    },
    {
     "name": "stdout",
     "output_type": "stream",
     "text": [
      "Early stopping triggered.\n"
     ]
    },
    {
     "data": {
      "application/vnd.jupyter.widget-view+json": {
       "model_id": "1b2c780f88c34c0c9b4a9dbd16adead6",
       "version_major": 2,
       "version_minor": 0
      },
      "text/plain": [
       "VBox(children=(Label(value='0.091 MB of 0.091 MB uploaded\\r'), FloatProgress(value=1.0, max=1.0)))"
      ]
     },
     "metadata": {},
     "output_type": "display_data"
    },
    {
     "data": {
      "text/html": [
       "<style>\n",
       "    table.wandb td:nth-child(1) { padding: 0 10px; text-align: left ; width: auto;} td:nth-child(2) {text-align: left ; width: 100%}\n",
       "    .wandb-row { display: flex; flex-direction: row; flex-wrap: wrap; justify-content: flex-start; width: 100% }\n",
       "    .wandb-col { display: flex; flex-direction: column; flex-basis: 100%; flex: 1; padding: 10px; }\n",
       "    </style>\n",
       "<div class=\"wandb-row\"><div class=\"wandb-col\"><h3>Run history:</h3><br/><table class=\"wandb\"><tr><td>epoch</td><td>▁▁▁▁▁▂▂▂▂▂▂▂▃▃▃▃▃▄▄▄▄▄▄▅▅▅▆▆▆▆▆▇▇▇▇▇▇▇██</td></tr><tr><td>learning_rate</td><td>██████████████████████████████▃▃▃▃▃▁▁▁▁▁</td></tr><tr><td>test_accuracy</td><td>▁▃▄▅▅▆▆▇▇▇▇▇▇▇▇▇▇▇█▇▇▇▇▇██████▇██▇████▇█</td></tr><tr><td>test_loss</td><td>█▇▅▄▃▃▂▂▂▂▁▁▁▁▁▁▁▁▁▁▁▁▁▁▁▁▁▁▁▁▁▁▁▁▁▁▁▁▁▁</td></tr><tr><td>train_accuracy</td><td>▁▄▅▆▆▇▇▇▇▇▇▇▇▇▇▇▇▇▇▇▇█▇▇▇███████████████</td></tr><tr><td>train_loss</td><td>█▅▅▄▄▃▃▃▃▃▂▂▂▂▂▂▂▂▂▂▂▂▂▂▂▂▁▁▁▁▁▁▁▁▁▁▁▁▁▁</td></tr><tr><td>val_accuracy</td><td>▁▃▅▅▆▆▆▇▇▇▇▇▇▇▇▇▇▇██▇█▇███▇▇████████▇█▇█</td></tr><tr><td>val_loss</td><td>█▇▆▅▄▃▃▃▃▃▂▂▂▂▂▂▂▁▁▁▁▁▁▁▁▁▁▁▁▁▁▁▁▁▁▁▁▁▁▁</td></tr></table><br/></div><div class=\"wandb-col\"><h3>Run summary:</h3><br/><table class=\"wandb\"><tr><td>classification_report</td><td>              precis...</td></tr><tr><td>epoch</td><td>74</td></tr><tr><td>learning_rate</td><td>0.0</td></tr><tr><td>test_accuracy</td><td>0.73259</td></tr><tr><td>test_loss</td><td>0.57458</td></tr><tr><td>train_accuracy</td><td>0.79114</td></tr><tr><td>train_loss</td><td>0.46242</td></tr><tr><td>val_accuracy</td><td>0.7492</td></tr><tr><td>val_loss</td><td>0.56753</td></tr></table><br/></div></div>"
      ],
      "text/plain": [
       "<IPython.core.display.HTML object>"
      ]
     },
     "metadata": {},
     "output_type": "display_data"
    },
    {
     "data": {
      "text/html": [
       " View run <strong style=\"color:#cdcd00\">exalted-sweep-25</strong> at: <a href='https://wandb.ai/joaoc-university-of-southampton/spectra-mamba-sweep/runs/csmjabkr' target=\"_blank\">https://wandb.ai/joaoc-university-of-southampton/spectra-mamba-sweep/runs/csmjabkr</a><br/> View project at: <a href='https://wandb.ai/joaoc-university-of-southampton/spectra-mamba-sweep' target=\"_blank\">https://wandb.ai/joaoc-university-of-southampton/spectra-mamba-sweep</a><br/>Synced 5 W&B file(s), 0 media file(s), 150 artifact file(s) and 75 other file(s)"
      ],
      "text/plain": [
       "<IPython.core.display.HTML object>"
      ]
     },
     "metadata": {},
     "output_type": "display_data"
    },
    {
     "data": {
      "text/html": [
       "Find logs at: <code>.\\wandb\\run-20241127_192331-csmjabkr\\logs</code>"
      ],
      "text/plain": [
       "<IPython.core.display.HTML object>"
      ]
     },
     "metadata": {},
     "output_type": "display_data"
    },
    {
     "name": "stderr",
     "output_type": "stream",
     "text": [
      "wandb: Agent Starting Run: lo7h514a with config:\n",
      "wandb: \tdepth: 3\n",
      "wandb: \tdim: 256\n",
      "wandb: \tlr: 1e-05\n"
     ]
    },
    {
     "data": {
      "text/html": [
       "Tracking run with wandb version 0.18.5"
      ],
      "text/plain": [
       "<IPython.core.display.HTML object>"
      ]
     },
     "metadata": {},
     "output_type": "display_data"
    },
    {
     "data": {
      "text/html": [
       "Run data is saved locally in <code>c:\\Users\\jcwin\\OneDrive - University of Southampton\\_Southampton\\2024-25\\Star-Classifier\\wandb\\run-20241127_192545-lo7h514a</code>"
      ],
      "text/plain": [
       "<IPython.core.display.HTML object>"
      ]
     },
     "metadata": {},
     "output_type": "display_data"
    },
    {
     "data": {
      "text/html": [
       "Syncing run <strong><a href='https://wandb.ai/joaoc-university-of-southampton/spectra-mamba-sweep/runs/lo7h514a' target=\"_blank\">whole-sweep-26</a></strong> to <a href='https://wandb.ai/joaoc-university-of-southampton/spectra-mamba-sweep' target=\"_blank\">Weights & Biases</a> (<a href='https://wandb.me/run' target=\"_blank\">docs</a>)<br/>Sweep page: <a href='https://wandb.ai/joaoc-university-of-southampton/spectra-mamba-sweep/sweeps/pitkh7le' target=\"_blank\">https://wandb.ai/joaoc-university-of-southampton/spectra-mamba-sweep/sweeps/pitkh7le</a>"
      ],
      "text/plain": [
       "<IPython.core.display.HTML object>"
      ]
     },
     "metadata": {},
     "output_type": "display_data"
    },
    {
     "data": {
      "text/html": [
       " View project at <a href='https://wandb.ai/joaoc-university-of-southampton/spectra-mamba-sweep' target=\"_blank\">https://wandb.ai/joaoc-university-of-southampton/spectra-mamba-sweep</a>"
      ],
      "text/plain": [
       "<IPython.core.display.HTML object>"
      ]
     },
     "metadata": {},
     "output_type": "display_data"
    },
    {
     "data": {
      "text/html": [
       " View sweep at <a href='https://wandb.ai/joaoc-university-of-southampton/spectra-mamba-sweep/sweeps/pitkh7le' target=\"_blank\">https://wandb.ai/joaoc-university-of-southampton/spectra-mamba-sweep/sweeps/pitkh7le</a>"
      ],
      "text/plain": [
       "<IPython.core.display.HTML object>"
      ]
     },
     "metadata": {},
     "output_type": "display_data"
    },
    {
     "data": {
      "text/html": [
       " View run at <a href='https://wandb.ai/joaoc-university-of-southampton/spectra-mamba-sweep/runs/lo7h514a' target=\"_blank\">https://wandb.ai/joaoc-university-of-southampton/spectra-mamba-sweep/runs/lo7h514a</a>"
      ],
      "text/plain": [
       "<IPython.core.display.HTML object>"
      ]
     },
     "metadata": {},
     "output_type": "display_data"
    },
    {
     "name": "stderr",
     "output_type": "stream",
     "text": [
      "C:\\Users\\jcwin\\AppData\\Local\\Packages\\PythonSoftwareFoundation.Python.3.11_qbz5n2kfra8p0\\LocalCache\\local-packages\\Python311\\site-packages\\torch\\optim\\lr_scheduler.py:60: UserWarning: The verbose parameter is deprecated. Please use get_last_lr() to access the learning rate.\n",
      "  warnings.warn(\n"
     ]
    },
    {
     "name": "stdout",
     "output_type": "stream",
     "text": [
      "Early stopping triggered.\n"
     ]
    },
    {
     "data": {
      "application/vnd.jupyter.widget-view+json": {
       "model_id": "af91cfb87b8541b8a50243b33ceefffb",
       "version_major": 2,
       "version_minor": 0
      },
      "text/plain": [
       "VBox(children=(Label(value='0.092 MB of 0.092 MB uploaded\\r'), FloatProgress(value=1.0, max=1.0)))"
      ]
     },
     "metadata": {},
     "output_type": "display_data"
    },
    {
     "data": {
      "text/html": [
       "<style>\n",
       "    table.wandb td:nth-child(1) { padding: 0 10px; text-align: left ; width: auto;} td:nth-child(2) {text-align: left ; width: 100%}\n",
       "    .wandb-row { display: flex; flex-direction: row; flex-wrap: wrap; justify-content: flex-start; width: 100% }\n",
       "    .wandb-col { display: flex; flex-direction: column; flex-basis: 100%; flex: 1; padding: 10px; }\n",
       "    </style>\n",
       "<div class=\"wandb-row\"><div class=\"wandb-col\"><h3>Run history:</h3><br/><table class=\"wandb\"><tr><td>epoch</td><td>▁▁▁▁▂▂▂▂▃▃▃▃▃▃▄▄▄▄▄▅▅▅▅▅▆▆▆▆▆▆▇▇▇▇▇▇▇███</td></tr><tr><td>learning_rate</td><td>██████████████████████████████▃▃▃▃▃▁▁▁▁▁</td></tr><tr><td>test_accuracy</td><td>▁▄▅▆▅▆▆▅▆▇▇▆▇▇▇▇▇█▇▇█▇████▇██▇█████████▇</td></tr><tr><td>test_loss</td><td>█▇▅▄▄▃▃▃▂▂▂▂▂▂▂▂▂▁▁▁▁▁▁▁▁▁▁▁▁▁▁▁▁▁▁▁▁▁▁▁</td></tr><tr><td>train_accuracy</td><td>▁▃▄▄▅▅▅▆▆▆▆▆▆▆▇▆▇▇▇▇▇▇▇▇▇▇▇███████▇█████</td></tr><tr><td>train_loss</td><td>█▇▇▆▆▅▅▅▄▄▃▃▃▃▃▃▃▃▃▂▂▂▂▂▂▂▂▂▁▁▁▁▁▁▁▁▁▁▁▁</td></tr><tr><td>val_accuracy</td><td>▁▅▆▆▆▆▇▇▇▇▇█▇████▇█▇████████████████████</td></tr><tr><td>val_loss</td><td>█▇▆▅▄▃▃▃▂▂▂▂▂▁▁▁▁▁▁▁▁▁▁▁▁▁▁▁▁▁▁▁▁▁▁▁▁▁▁▁</td></tr></table><br/></div><div class=\"wandb-col\"><h3>Run summary:</h3><br/><table class=\"wandb\"><tr><td>classification_report</td><td>              precis...</td></tr><tr><td>epoch</td><td>75</td></tr><tr><td>learning_rate</td><td>0.0</td></tr><tr><td>test_accuracy</td><td>0.74029</td></tr><tr><td>test_loss</td><td>0.56262</td></tr><tr><td>train_accuracy</td><td>0.79201</td></tr><tr><td>train_loss</td><td>0.46128</td></tr><tr><td>val_accuracy</td><td>0.76157</td></tr><tr><td>val_loss</td><td>0.55529</td></tr></table><br/></div></div>"
      ],
      "text/plain": [
       "<IPython.core.display.HTML object>"
      ]
     },
     "metadata": {},
     "output_type": "display_data"
    },
    {
     "data": {
      "text/html": [
       " View run <strong style=\"color:#cdcd00\">whole-sweep-26</strong> at: <a href='https://wandb.ai/joaoc-university-of-southampton/spectra-mamba-sweep/runs/lo7h514a' target=\"_blank\">https://wandb.ai/joaoc-university-of-southampton/spectra-mamba-sweep/runs/lo7h514a</a><br/> View project at: <a href='https://wandb.ai/joaoc-university-of-southampton/spectra-mamba-sweep' target=\"_blank\">https://wandb.ai/joaoc-university-of-southampton/spectra-mamba-sweep</a><br/>Synced 5 W&B file(s), 0 media file(s), 152 artifact file(s) and 76 other file(s)"
      ],
      "text/plain": [
       "<IPython.core.display.HTML object>"
      ]
     },
     "metadata": {},
     "output_type": "display_data"
    },
    {
     "data": {
      "text/html": [
       "Find logs at: <code>.\\wandb\\run-20241127_192545-lo7h514a\\logs</code>"
      ],
      "text/plain": [
       "<IPython.core.display.HTML object>"
      ]
     },
     "metadata": {},
     "output_type": "display_data"
    },
    {
     "name": "stderr",
     "output_type": "stream",
     "text": [
      "wandb: Sweep Agent: Waiting for job.\n",
      "wandb: Job received.\n",
      "wandb: Agent Starting Run: 8dq6nnok with config:\n",
      "wandb: \tdepth: 3\n",
      "wandb: \tdim: 256\n",
      "wandb: \tlr: 2e-06\n"
     ]
    },
    {
     "data": {
      "text/html": [
       "Tracking run with wandb version 0.18.5"
      ],
      "text/plain": [
       "<IPython.core.display.HTML object>"
      ]
     },
     "metadata": {},
     "output_type": "display_data"
    },
    {
     "data": {
      "text/html": [
       "Run data is saved locally in <code>c:\\Users\\jcwin\\OneDrive - University of Southampton\\_Southampton\\2024-25\\Star-Classifier\\wandb\\run-20241127_192808-8dq6nnok</code>"
      ],
      "text/plain": [
       "<IPython.core.display.HTML object>"
      ]
     },
     "metadata": {},
     "output_type": "display_data"
    },
    {
     "data": {
      "text/html": [
       "Syncing run <strong><a href='https://wandb.ai/joaoc-university-of-southampton/spectra-mamba-sweep/runs/8dq6nnok' target=\"_blank\">fresh-sweep-27</a></strong> to <a href='https://wandb.ai/joaoc-university-of-southampton/spectra-mamba-sweep' target=\"_blank\">Weights & Biases</a> (<a href='https://wandb.me/run' target=\"_blank\">docs</a>)<br/>Sweep page: <a href='https://wandb.ai/joaoc-university-of-southampton/spectra-mamba-sweep/sweeps/pitkh7le' target=\"_blank\">https://wandb.ai/joaoc-university-of-southampton/spectra-mamba-sweep/sweeps/pitkh7le</a>"
      ],
      "text/plain": [
       "<IPython.core.display.HTML object>"
      ]
     },
     "metadata": {},
     "output_type": "display_data"
    },
    {
     "data": {
      "text/html": [
       " View project at <a href='https://wandb.ai/joaoc-university-of-southampton/spectra-mamba-sweep' target=\"_blank\">https://wandb.ai/joaoc-university-of-southampton/spectra-mamba-sweep</a>"
      ],
      "text/plain": [
       "<IPython.core.display.HTML object>"
      ]
     },
     "metadata": {},
     "output_type": "display_data"
    },
    {
     "data": {
      "text/html": [
       " View sweep at <a href='https://wandb.ai/joaoc-university-of-southampton/spectra-mamba-sweep/sweeps/pitkh7le' target=\"_blank\">https://wandb.ai/joaoc-university-of-southampton/spectra-mamba-sweep/sweeps/pitkh7le</a>"
      ],
      "text/plain": [
       "<IPython.core.display.HTML object>"
      ]
     },
     "metadata": {},
     "output_type": "display_data"
    },
    {
     "data": {
      "text/html": [
       " View run at <a href='https://wandb.ai/joaoc-university-of-southampton/spectra-mamba-sweep/runs/8dq6nnok' target=\"_blank\">https://wandb.ai/joaoc-university-of-southampton/spectra-mamba-sweep/runs/8dq6nnok</a>"
      ],
      "text/plain": [
       "<IPython.core.display.HTML object>"
      ]
     },
     "metadata": {},
     "output_type": "display_data"
    },
    {
     "name": "stderr",
     "output_type": "stream",
     "text": [
      "C:\\Users\\jcwin\\AppData\\Local\\Packages\\PythonSoftwareFoundation.Python.3.11_qbz5n2kfra8p0\\LocalCache\\local-packages\\Python311\\site-packages\\torch\\optim\\lr_scheduler.py:60: UserWarning: The verbose parameter is deprecated. Please use get_last_lr() to access the learning rate.\n",
      "  warnings.warn(\n"
     ]
    },
    {
     "name": "stdout",
     "output_type": "stream",
     "text": [
      "Early stopping triggered.\n"
     ]
    },
    {
     "data": {
      "application/vnd.jupyter.widget-view+json": {
       "model_id": "05ae60f541e049d988fbc2b36c03f088",
       "version_major": 2,
       "version_minor": 0
      },
      "text/plain": [
       "VBox(children=(Label(value='0.308 MB of 0.308 MB uploaded\\r'), FloatProgress(value=1.0, max=1.0)))"
      ]
     },
     "metadata": {},
     "output_type": "display_data"
    },
    {
     "data": {
      "text/html": [
       "<style>\n",
       "    table.wandb td:nth-child(1) { padding: 0 10px; text-align: left ; width: auto;} td:nth-child(2) {text-align: left ; width: 100%}\n",
       "    .wandb-row { display: flex; flex-direction: row; flex-wrap: wrap; justify-content: flex-start; width: 100% }\n",
       "    .wandb-col { display: flex; flex-direction: column; flex-basis: 100%; flex: 1; padding: 10px; }\n",
       "    </style>\n",
       "<div class=\"wandb-row\"><div class=\"wandb-col\"><h3>Run history:</h3><br/><table class=\"wandb\"><tr><td>epoch</td><td>▁▁▁▁▁▂▂▂▂▂▃▃▃▃▃▃▃▃▃▃▄▄▄▄▄▅▅▅▅▅▅▆▆▆▆▆▆▆▇█</td></tr><tr><td>learning_rate</td><td>████████████████████████████████████▄▄▄▁</td></tr><tr><td>test_accuracy</td><td>▁▃▃▅▆▆▆▆▆▇▇▇▇▇▇▇▇▇▇▇▇▇█▇▇▇█▇███▇▇███████</td></tr><tr><td>test_loss</td><td>██▇▆▅▃▃▃▃▃▃▂▂▂▂▂▂▂▂▂▁▁▁▁▁▁▁▁▁▁▁▁▁▁▁▁▁▁▁▁</td></tr><tr><td>train_accuracy</td><td>▁▃▃▃▄▆▆▆▆▆▇▇▇▇▇▇▇▇▇▇▇▇▇▇▇███████████████</td></tr><tr><td>train_loss</td><td>█▇▆▅▅▄▃▃▃▃▃▂▂▂▂▂▂▂▂▂▂▂▂▂▁▂▂▁▁▁▁▁▁▁▁▁▁▁▁▁</td></tr><tr><td>val_accuracy</td><td>▁▅▆▆▇▇▇▇█▇██████████████████████████████</td></tr><tr><td>val_loss</td><td>█▆▅▅▅▄▃▃▃▃▂▂▂▂▂▂▂▂▂▂▂▂▁▁▁▁▁▁▁▁▁▁▁▁▁▁▁▁▁▁</td></tr></table><br/></div><div class=\"wandb-col\"><h3>Run summary:</h3><br/><table class=\"wandb\"><tr><td>classification_report</td><td>              precis...</td></tr><tr><td>epoch</td><td>264</td></tr><tr><td>learning_rate</td><td>0.0</td></tr><tr><td>test_accuracy</td><td>0.73984</td></tr><tr><td>test_loss</td><td>0.5487</td></tr><tr><td>train_accuracy</td><td>0.77695</td></tr><tr><td>train_loss</td><td>0.49361</td></tr><tr><td>val_accuracy</td><td>0.75639</td></tr><tr><td>val_loss</td><td>0.53821</td></tr></table><br/></div></div>"
      ],
      "text/plain": [
       "<IPython.core.display.HTML object>"
      ]
     },
     "metadata": {},
     "output_type": "display_data"
    },
    {
     "data": {
      "text/html": [
       " View run <strong style=\"color:#cdcd00\">fresh-sweep-27</strong> at: <a href='https://wandb.ai/joaoc-university-of-southampton/spectra-mamba-sweep/runs/8dq6nnok' target=\"_blank\">https://wandb.ai/joaoc-university-of-southampton/spectra-mamba-sweep/runs/8dq6nnok</a><br/> View project at: <a href='https://wandb.ai/joaoc-university-of-southampton/spectra-mamba-sweep' target=\"_blank\">https://wandb.ai/joaoc-university-of-southampton/spectra-mamba-sweep</a><br/>Synced 5 W&B file(s), 0 media file(s), 530 artifact file(s) and 265 other file(s)"
      ],
      "text/plain": [
       "<IPython.core.display.HTML object>"
      ]
     },
     "metadata": {},
     "output_type": "display_data"
    },
    {
     "data": {
      "text/html": [
       "Find logs at: <code>.\\wandb\\run-20241127_192808-8dq6nnok\\logs</code>"
      ],
      "text/plain": [
       "<IPython.core.display.HTML object>"
      ]
     },
     "metadata": {},
     "output_type": "display_data"
    },
    {
     "name": "stderr",
     "output_type": "stream",
     "text": [
      "wandb: Agent Starting Run: pabafewa with config:\n",
      "wandb: \tdepth: 3\n",
      "wandb: \tdim: 512\n",
      "wandb: \tlr: 1e-05\n"
     ]
    },
    {
     "data": {
      "text/html": [
       "Tracking run with wandb version 0.18.5"
      ],
      "text/plain": [
       "<IPython.core.display.HTML object>"
      ]
     },
     "metadata": {},
     "output_type": "display_data"
    },
    {
     "data": {
      "text/html": [
       "Run data is saved locally in <code>c:\\Users\\jcwin\\OneDrive - University of Southampton\\_Southampton\\2024-25\\Star-Classifier\\wandb\\run-20241127_193509-pabafewa</code>"
      ],
      "text/plain": [
       "<IPython.core.display.HTML object>"
      ]
     },
     "metadata": {},
     "output_type": "display_data"
    },
    {
     "data": {
      "text/html": [
       "Syncing run <strong><a href='https://wandb.ai/joaoc-university-of-southampton/spectra-mamba-sweep/runs/pabafewa' target=\"_blank\">laced-sweep-28</a></strong> to <a href='https://wandb.ai/joaoc-university-of-southampton/spectra-mamba-sweep' target=\"_blank\">Weights & Biases</a> (<a href='https://wandb.me/run' target=\"_blank\">docs</a>)<br/>Sweep page: <a href='https://wandb.ai/joaoc-university-of-southampton/spectra-mamba-sweep/sweeps/pitkh7le' target=\"_blank\">https://wandb.ai/joaoc-university-of-southampton/spectra-mamba-sweep/sweeps/pitkh7le</a>"
      ],
      "text/plain": [
       "<IPython.core.display.HTML object>"
      ]
     },
     "metadata": {},
     "output_type": "display_data"
    },
    {
     "data": {
      "text/html": [
       " View project at <a href='https://wandb.ai/joaoc-university-of-southampton/spectra-mamba-sweep' target=\"_blank\">https://wandb.ai/joaoc-university-of-southampton/spectra-mamba-sweep</a>"
      ],
      "text/plain": [
       "<IPython.core.display.HTML object>"
      ]
     },
     "metadata": {},
     "output_type": "display_data"
    },
    {
     "data": {
      "text/html": [
       " View sweep at <a href='https://wandb.ai/joaoc-university-of-southampton/spectra-mamba-sweep/sweeps/pitkh7le' target=\"_blank\">https://wandb.ai/joaoc-university-of-southampton/spectra-mamba-sweep/sweeps/pitkh7le</a>"
      ],
      "text/plain": [
       "<IPython.core.display.HTML object>"
      ]
     },
     "metadata": {},
     "output_type": "display_data"
    },
    {
     "data": {
      "text/html": [
       " View run at <a href='https://wandb.ai/joaoc-university-of-southampton/spectra-mamba-sweep/runs/pabafewa' target=\"_blank\">https://wandb.ai/joaoc-university-of-southampton/spectra-mamba-sweep/runs/pabafewa</a>"
      ],
      "text/plain": [
       "<IPython.core.display.HTML object>"
      ]
     },
     "metadata": {},
     "output_type": "display_data"
    },
    {
     "name": "stderr",
     "output_type": "stream",
     "text": [
      "C:\\Users\\jcwin\\AppData\\Local\\Packages\\PythonSoftwareFoundation.Python.3.11_qbz5n2kfra8p0\\LocalCache\\local-packages\\Python311\\site-packages\\torch\\optim\\lr_scheduler.py:60: UserWarning: The verbose parameter is deprecated. Please use get_last_lr() to access the learning rate.\n",
      "  warnings.warn(\n"
     ]
    },
    {
     "name": "stdout",
     "output_type": "stream",
     "text": [
      "Early stopping triggered.\n"
     ]
    },
    {
     "data": {
      "application/vnd.jupyter.widget-view+json": {
       "model_id": "3731ca8a7f0f4e45b2e28cd9b2077492",
       "version_major": 2,
       "version_minor": 0
      },
      "text/plain": [
       "VBox(children=(Label(value='0.085 MB of 0.085 MB uploaded\\r'), FloatProgress(value=1.0, max=1.0)))"
      ]
     },
     "metadata": {},
     "output_type": "display_data"
    },
    {
     "data": {
      "text/html": [
       "<style>\n",
       "    table.wandb td:nth-child(1) { padding: 0 10px; text-align: left ; width: auto;} td:nth-child(2) {text-align: left ; width: 100%}\n",
       "    .wandb-row { display: flex; flex-direction: row; flex-wrap: wrap; justify-content: flex-start; width: 100% }\n",
       "    .wandb-col { display: flex; flex-direction: column; flex-basis: 100%; flex: 1; padding: 10px; }\n",
       "    </style>\n",
       "<div class=\"wandb-row\"><div class=\"wandb-col\"><h3>Run history:</h3><br/><table class=\"wandb\"><tr><td>epoch</td><td>▁▁▁▁▂▂▂▂▃▃▃▃▃▃▃▄▄▄▄▄▅▅▅▅▅▅▅▆▆▆▆▇▇▇▇▇▇▇██</td></tr><tr><td>learning_rate</td><td>██████████████████████████▃▃▃▃▃▃▃▃▁▁▁▁▁▁</td></tr><tr><td>test_accuracy</td><td>▁▄▅▅▆▇▆▆▇▇▇▇▇▇██▇▇▇▇█▇▇██▇▇▇▇▇▇▇██▇█▇▇▇▇</td></tr><tr><td>test_loss</td><td>█▆▅▄▃▂▂▂▂▂▂▁▁▁▁▁▁▁▁▁▁▁▁▁▁▁▁▁▁▁▁▁▁▁▁▁▁▁▂▂</td></tr><tr><td>train_accuracy</td><td>▁▄▅▅▆▆▆▆▆▆▆▆▇▇▇▇▇▇▇▇▇▇▇▇▇█▇▇████████████</td></tr><tr><td>train_loss</td><td>█▅▄▄▄▃▃▃▂▃▂▂▂▂▂▂▂▂▂▂▂▂▂▂▁▁▁▁▁▁▁▁▁▁▁▁▁▁▁▁</td></tr><tr><td>val_accuracy</td><td>▁▄▅▆▆▆▆▆▇▇▇███▇███████▇███▇███████▇█████</td></tr><tr><td>val_loss</td><td>█▆▅▄▄▃▃▂▂▂▂▁▁▁▁▁▁▁▁▁▁▁▁▁▁▁▁▁▁▁▁▁▁▁▁▁▁▁▁▁</td></tr></table><br/></div><div class=\"wandb-col\"><h3>Run summary:</h3><br/><table class=\"wandb\"><tr><td>classification_report</td><td>              precis...</td></tr><tr><td>epoch</td><td>56</td></tr><tr><td>learning_rate</td><td>0.0</td></tr><tr><td>test_accuracy</td><td>0.71629</td></tr><tr><td>test_loss</td><td>0.59376</td></tr><tr><td>train_accuracy</td><td>0.81213</td></tr><tr><td>train_loss</td><td>0.41196</td></tr><tr><td>val_accuracy</td><td>0.74463</td></tr><tr><td>val_loss</td><td>0.57069</td></tr></table><br/></div></div>"
      ],
      "text/plain": [
       "<IPython.core.display.HTML object>"
      ]
     },
     "metadata": {},
     "output_type": "display_data"
    },
    {
     "data": {
      "text/html": [
       " View run <strong style=\"color:#cdcd00\">laced-sweep-28</strong> at: <a href='https://wandb.ai/joaoc-university-of-southampton/spectra-mamba-sweep/runs/pabafewa' target=\"_blank\">https://wandb.ai/joaoc-university-of-southampton/spectra-mamba-sweep/runs/pabafewa</a><br/> View project at: <a href='https://wandb.ai/joaoc-university-of-southampton/spectra-mamba-sweep' target=\"_blank\">https://wandb.ai/joaoc-university-of-southampton/spectra-mamba-sweep</a><br/>Synced 5 W&B file(s), 0 media file(s), 114 artifact file(s) and 57 other file(s)"
      ],
      "text/plain": [
       "<IPython.core.display.HTML object>"
      ]
     },
     "metadata": {},
     "output_type": "display_data"
    },
    {
     "data": {
      "text/html": [
       "Find logs at: <code>.\\wandb\\run-20241127_193509-pabafewa\\logs</code>"
      ],
      "text/plain": [
       "<IPython.core.display.HTML object>"
      ]
     },
     "metadata": {},
     "output_type": "display_data"
    },
    {
     "name": "stderr",
     "output_type": "stream",
     "text": [
      "wandb: Sweep Agent: Waiting for job.\n",
      "wandb: Job received.\n",
      "wandb: Agent Starting Run: zxd8cian with config:\n",
      "wandb: \tdepth: 12\n",
      "wandb: \tdim: 256\n",
      "wandb: \tlr: 1e-05\n"
     ]
    },
    {
     "data": {
      "text/html": [
       "Tracking run with wandb version 0.18.5"
      ],
      "text/plain": [
       "<IPython.core.display.HTML object>"
      ]
     },
     "metadata": {},
     "output_type": "display_data"
    },
    {
     "data": {
      "text/html": [
       "Run data is saved locally in <code>c:\\Users\\jcwin\\OneDrive - University of Southampton\\_Southampton\\2024-25\\Star-Classifier\\wandb\\run-20241127_193732-zxd8cian</code>"
      ],
      "text/plain": [
       "<IPython.core.display.HTML object>"
      ]
     },
     "metadata": {},
     "output_type": "display_data"
    },
    {
     "data": {
      "text/html": [
       "Syncing run <strong><a href='https://wandb.ai/joaoc-university-of-southampton/spectra-mamba-sweep/runs/zxd8cian' target=\"_blank\">unique-sweep-29</a></strong> to <a href='https://wandb.ai/joaoc-university-of-southampton/spectra-mamba-sweep' target=\"_blank\">Weights & Biases</a> (<a href='https://wandb.me/run' target=\"_blank\">docs</a>)<br/>Sweep page: <a href='https://wandb.ai/joaoc-university-of-southampton/spectra-mamba-sweep/sweeps/pitkh7le' target=\"_blank\">https://wandb.ai/joaoc-university-of-southampton/spectra-mamba-sweep/sweeps/pitkh7le</a>"
      ],
      "text/plain": [
       "<IPython.core.display.HTML object>"
      ]
     },
     "metadata": {},
     "output_type": "display_data"
    },
    {
     "data": {
      "text/html": [
       " View project at <a href='https://wandb.ai/joaoc-university-of-southampton/spectra-mamba-sweep' target=\"_blank\">https://wandb.ai/joaoc-university-of-southampton/spectra-mamba-sweep</a>"
      ],
      "text/plain": [
       "<IPython.core.display.HTML object>"
      ]
     },
     "metadata": {},
     "output_type": "display_data"
    },
    {
     "data": {
      "text/html": [
       " View sweep at <a href='https://wandb.ai/joaoc-university-of-southampton/spectra-mamba-sweep/sweeps/pitkh7le' target=\"_blank\">https://wandb.ai/joaoc-university-of-southampton/spectra-mamba-sweep/sweeps/pitkh7le</a>"
      ],
      "text/plain": [
       "<IPython.core.display.HTML object>"
      ]
     },
     "metadata": {},
     "output_type": "display_data"
    },
    {
     "data": {
      "text/html": [
       " View run at <a href='https://wandb.ai/joaoc-university-of-southampton/spectra-mamba-sweep/runs/zxd8cian' target=\"_blank\">https://wandb.ai/joaoc-university-of-southampton/spectra-mamba-sweep/runs/zxd8cian</a>"
      ],
      "text/plain": [
       "<IPython.core.display.HTML object>"
      ]
     },
     "metadata": {},
     "output_type": "display_data"
    },
    {
     "name": "stderr",
     "output_type": "stream",
     "text": [
      "C:\\Users\\jcwin\\AppData\\Local\\Packages\\PythonSoftwareFoundation.Python.3.11_qbz5n2kfra8p0\\LocalCache\\local-packages\\Python311\\site-packages\\torch\\optim\\lr_scheduler.py:60: UserWarning: The verbose parameter is deprecated. Please use get_last_lr() to access the learning rate.\n",
      "  warnings.warn(\n"
     ]
    },
    {
     "name": "stdout",
     "output_type": "stream",
     "text": [
      "Early stopping triggered.\n"
     ]
    },
    {
     "data": {
      "application/vnd.jupyter.widget-view+json": {
       "model_id": "44ad4d3c1a0049edbf1044108a7223e1",
       "version_major": 2,
       "version_minor": 0
      },
      "text/plain": [
       "VBox(children=(Label(value='0.100 MB of 0.100 MB uploaded\\r'), FloatProgress(value=1.0, max=1.0)))"
      ]
     },
     "metadata": {},
     "output_type": "display_data"
    },
    {
     "data": {
      "text/html": [
       "<style>\n",
       "    table.wandb td:nth-child(1) { padding: 0 10px; text-align: left ; width: auto;} td:nth-child(2) {text-align: left ; width: 100%}\n",
       "    .wandb-row { display: flex; flex-direction: row; flex-wrap: wrap; justify-content: flex-start; width: 100% }\n",
       "    .wandb-col { display: flex; flex-direction: column; flex-basis: 100%; flex: 1; padding: 10px; }\n",
       "    </style>\n",
       "<div class=\"wandb-row\"><div class=\"wandb-col\"><h3>Run history:</h3><br/><table class=\"wandb\"><tr><td>epoch</td><td>▁▁▁▁▂▂▂▂▂▃▃▃▃▃▄▄▄▄▄▄▄▅▅▅▅▅▅▆▆▆▆▆▇▇▇▇▇███</td></tr><tr><td>learning_rate</td><td>██████████████████████████████▃▃▃▃▃▃▁▁▁▁</td></tr><tr><td>test_accuracy</td><td>▁▄▅▆▆▆▇▇▇▇▇▇▇▇▇▆▇▇▇▇▇██▇▇█▇███▇█▇▇▇▇▇▇▇▇</td></tr><tr><td>test_loss</td><td>█▆▄▃▂▂▂▂▂▂▂▂▁▁▁▁▁▁▁▁▁▁▁▁▁▁▁▁▁▁▁▁▁▁▂▂▂▂▂▂</td></tr><tr><td>train_accuracy</td><td>▁▁▂▃▃▄▄▄▅▅▅▅▅▅▆▆▆▅▆▆▆▆▆▆▆▆▆▇▇▇▇▇█▇██▇▇▇█</td></tr><tr><td>train_loss</td><td>█▆▅▄▄▃▃▃▂▂▂▂▂▂▂▂▂▂▂▂▂▂▂▂▁▁▁▁▁▁▁▁▁▁▁▁▁▁▁▁</td></tr><tr><td>val_accuracy</td><td>▁▃▆▆▆▆▇▇▇██▇▇█▇████▇█▇█████▇██▇████▇▇▇▇█</td></tr><tr><td>val_loss</td><td>█▆▅▄▃▃▂▂▂▂▁▁▁▁▁▁▁▁▁▁▁▁▁▁▁▁▁▁▁▁▁▁▁▁▁▂▂▁▂▂</td></tr></table><br/></div><div class=\"wandb-col\"><h3>Run summary:</h3><br/><table class=\"wandb\"><tr><td>classification_report</td><td>              precis...</td></tr><tr><td>epoch</td><td>67</td></tr><tr><td>learning_rate</td><td>0.0</td></tr><tr><td>test_accuracy</td><td>0.72121</td></tr><tr><td>test_loss</td><td>0.59499</td></tr><tr><td>train_accuracy</td><td>0.80384</td></tr><tr><td>train_loss</td><td>0.41891</td></tr><tr><td>val_accuracy</td><td>0.744</td></tr><tr><td>val_loss</td><td>0.58152</td></tr></table><br/></div></div>"
      ],
      "text/plain": [
       "<IPython.core.display.HTML object>"
      ]
     },
     "metadata": {},
     "output_type": "display_data"
    },
    {
     "data": {
      "text/html": [
       " View run <strong style=\"color:#cdcd00\">unique-sweep-29</strong> at: <a href='https://wandb.ai/joaoc-university-of-southampton/spectra-mamba-sweep/runs/zxd8cian' target=\"_blank\">https://wandb.ai/joaoc-university-of-southampton/spectra-mamba-sweep/runs/zxd8cian</a><br/> View project at: <a href='https://wandb.ai/joaoc-university-of-southampton/spectra-mamba-sweep' target=\"_blank\">https://wandb.ai/joaoc-university-of-southampton/spectra-mamba-sweep</a><br/>Synced 5 W&B file(s), 0 media file(s), 136 artifact file(s) and 68 other file(s)"
      ],
      "text/plain": [
       "<IPython.core.display.HTML object>"
      ]
     },
     "metadata": {},
     "output_type": "display_data"
    },
    {
     "data": {
      "text/html": [
       "Find logs at: <code>.\\wandb\\run-20241127_193732-zxd8cian\\logs</code>"
      ],
      "text/plain": [
       "<IPython.core.display.HTML object>"
      ]
     },
     "metadata": {},
     "output_type": "display_data"
    },
    {
     "name": "stderr",
     "output_type": "stream",
     "text": [
      "wandb: Agent Starting Run: 9rsnppqs with config:\n",
      "wandb: \tdepth: 3\n",
      "wandb: \tdim: 256\n",
      "wandb: \tlr: 0.0001\n"
     ]
    },
    {
     "data": {
      "text/html": [
       "Tracking run with wandb version 0.18.5"
      ],
      "text/plain": [
       "<IPython.core.display.HTML object>"
      ]
     },
     "metadata": {},
     "output_type": "display_data"
    },
    {
     "data": {
      "text/html": [
       "Run data is saved locally in <code>c:\\Users\\jcwin\\OneDrive - University of Southampton\\_Southampton\\2024-25\\Star-Classifier\\wandb\\run-20241127_194143-9rsnppqs</code>"
      ],
      "text/plain": [
       "<IPython.core.display.HTML object>"
      ]
     },
     "metadata": {},
     "output_type": "display_data"
    },
    {
     "data": {
      "text/html": [
       "Syncing run <strong><a href='https://wandb.ai/joaoc-university-of-southampton/spectra-mamba-sweep/runs/9rsnppqs' target=\"_blank\">wild-sweep-30</a></strong> to <a href='https://wandb.ai/joaoc-university-of-southampton/spectra-mamba-sweep' target=\"_blank\">Weights & Biases</a> (<a href='https://wandb.me/run' target=\"_blank\">docs</a>)<br/>Sweep page: <a href='https://wandb.ai/joaoc-university-of-southampton/spectra-mamba-sweep/sweeps/pitkh7le' target=\"_blank\">https://wandb.ai/joaoc-university-of-southampton/spectra-mamba-sweep/sweeps/pitkh7le</a>"
      ],
      "text/plain": [
       "<IPython.core.display.HTML object>"
      ]
     },
     "metadata": {},
     "output_type": "display_data"
    },
    {
     "data": {
      "text/html": [
       " View project at <a href='https://wandb.ai/joaoc-university-of-southampton/spectra-mamba-sweep' target=\"_blank\">https://wandb.ai/joaoc-university-of-southampton/spectra-mamba-sweep</a>"
      ],
      "text/plain": [
       "<IPython.core.display.HTML object>"
      ]
     },
     "metadata": {},
     "output_type": "display_data"
    },
    {
     "data": {
      "text/html": [
       " View sweep at <a href='https://wandb.ai/joaoc-university-of-southampton/spectra-mamba-sweep/sweeps/pitkh7le' target=\"_blank\">https://wandb.ai/joaoc-university-of-southampton/spectra-mamba-sweep/sweeps/pitkh7le</a>"
      ],
      "text/plain": [
       "<IPython.core.display.HTML object>"
      ]
     },
     "metadata": {},
     "output_type": "display_data"
    },
    {
     "data": {
      "text/html": [
       " View run at <a href='https://wandb.ai/joaoc-university-of-southampton/spectra-mamba-sweep/runs/9rsnppqs' target=\"_blank\">https://wandb.ai/joaoc-university-of-southampton/spectra-mamba-sweep/runs/9rsnppqs</a>"
      ],
      "text/plain": [
       "<IPython.core.display.HTML object>"
      ]
     },
     "metadata": {},
     "output_type": "display_data"
    },
    {
     "name": "stderr",
     "output_type": "stream",
     "text": [
      "C:\\Users\\jcwin\\AppData\\Local\\Packages\\PythonSoftwareFoundation.Python.3.11_qbz5n2kfra8p0\\LocalCache\\local-packages\\Python311\\site-packages\\torch\\optim\\lr_scheduler.py:60: UserWarning: The verbose parameter is deprecated. Please use get_last_lr() to access the learning rate.\n",
      "  warnings.warn(\n"
     ]
    },
    {
     "name": "stdout",
     "output_type": "stream",
     "text": [
      "Early stopping triggered.\n"
     ]
    },
    {
     "data": {
      "application/vnd.jupyter.widget-view+json": {
       "model_id": "c682cb6d5e3b4ae9b7d02c53b4228b9b",
       "version_major": 2,
       "version_minor": 0
      },
      "text/plain": [
       "VBox(children=(Label(value='0.056 MB of 0.056 MB uploaded\\r'), FloatProgress(value=1.0, max=1.0)))"
      ]
     },
     "metadata": {},
     "output_type": "display_data"
    },
    {
     "data": {
      "text/html": [
       "<style>\n",
       "    table.wandb td:nth-child(1) { padding: 0 10px; text-align: left ; width: auto;} td:nth-child(2) {text-align: left ; width: 100%}\n",
       "    .wandb-row { display: flex; flex-direction: row; flex-wrap: wrap; justify-content: flex-start; width: 100% }\n",
       "    .wandb-col { display: flex; flex-direction: column; flex-basis: 100%; flex: 1; padding: 10px; }\n",
       "    </style>\n",
       "<div class=\"wandb-row\"><div class=\"wandb-col\"><h3>Run history:</h3><br/><table class=\"wandb\"><tr><td>epoch</td><td>▁▁▁▂▂▂▂▂▂▃▃▃▃▃▄▄▄▄▄▅▅▅▅▅▅▆▆▆▆▆▇▇▇▇▇▇███</td></tr><tr><td>learning_rate</td><td>███████████████████▃▃▃▃▃▃▃▃▃▃▃▁▁▁▁▁▁▁▁▁</td></tr><tr><td>test_accuracy</td><td>▂▁▄▄▅▆▇█▇▃▆█▇▆▅▇▂▅▅▇▅▂▅▆▆▅▂▃▂▁▅▄▂▃▃▃▅▁▁</td></tr><tr><td>test_loss</td><td>▄▃▂▂▂▁▁▁▁▁▁▁▁▁▁▂▃▃▃▂▃▄▃▃▃▄▅▅▅▄▄▅▇▇▇▆▆██</td></tr><tr><td>train_accuracy</td><td>▁▄▄▅▅▅▆▆▆▆▆▆▇▇▇▇▇▆▇▇▇▇▇▇█▇███▇█████████</td></tr><tr><td>train_loss</td><td>█▅▄▄▃▃▃▃▃▃▃▂▂▂▂▂▂▂▂▂▂▁▁▁▁▁▁▁▁▁▁▁▁▁▁▁▁▁▁</td></tr><tr><td>val_accuracy</td><td>▁▁▂▄▆▅▇▇█▄▇██▇▆▇▄▇▅▆▅▅▆▆▅▆▄▃▃▂▅▅▂▂▃▃▂▂▂</td></tr><tr><td>val_loss</td><td>▄▃▂▂▂▁▁▁▁▁▁▁▁▂▂▂▃▃▃▃▃▄▃▄▄▄▅▆▅▄▄▅▇▇▆▆▆▇█</td></tr></table><br/></div><div class=\"wandb-col\"><h3>Run summary:</h3><br/><table class=\"wandb\"><tr><td>classification_report</td><td>              precis...</td></tr><tr><td>epoch</td><td>38</td></tr><tr><td>learning_rate</td><td>3e-05</td></tr><tr><td>test_accuracy</td><td>0.674</td></tr><tr><td>test_loss</td><td>1.1595</td></tr><tr><td>train_accuracy</td><td>0.82395</td></tr><tr><td>train_loss</td><td>0.34702</td></tr><tr><td>val_accuracy</td><td>0.67951</td></tr><tr><td>val_loss</td><td>1.16505</td></tr></table><br/></div></div>"
      ],
      "text/plain": [
       "<IPython.core.display.HTML object>"
      ]
     },
     "metadata": {},
     "output_type": "display_data"
    },
    {
     "data": {
      "text/html": [
       " View run <strong style=\"color:#cdcd00\">wild-sweep-30</strong> at: <a href='https://wandb.ai/joaoc-university-of-southampton/spectra-mamba-sweep/runs/9rsnppqs' target=\"_blank\">https://wandb.ai/joaoc-university-of-southampton/spectra-mamba-sweep/runs/9rsnppqs</a><br/> View project at: <a href='https://wandb.ai/joaoc-university-of-southampton/spectra-mamba-sweep' target=\"_blank\">https://wandb.ai/joaoc-university-of-southampton/spectra-mamba-sweep</a><br/>Synced 5 W&B file(s), 0 media file(s), 78 artifact file(s) and 39 other file(s)"
      ],
      "text/plain": [
       "<IPython.core.display.HTML object>"
      ]
     },
     "metadata": {},
     "output_type": "display_data"
    },
    {
     "data": {
      "text/html": [
       "Find logs at: <code>.\\wandb\\run-20241127_194143-9rsnppqs\\logs</code>"
      ],
      "text/plain": [
       "<IPython.core.display.HTML object>"
      ]
     },
     "metadata": {},
     "output_type": "display_data"
    },
    {
     "name": "stderr",
     "output_type": "stream",
     "text": [
      "wandb: Agent Starting Run: 0ojpxjq2 with config:\n",
      "wandb: \tdepth: 3\n",
      "wandb: \tdim: 1024\n",
      "wandb: \tlr: 0.0001\n"
     ]
    },
    {
     "data": {
      "text/html": [
       "Tracking run with wandb version 0.18.5"
      ],
      "text/plain": [
       "<IPython.core.display.HTML object>"
      ]
     },
     "metadata": {},
     "output_type": "display_data"
    },
    {
     "data": {
      "text/html": [
       "Run data is saved locally in <code>c:\\Users\\jcwin\\OneDrive - University of Southampton\\_Southampton\\2024-25\\Star-Classifier\\wandb\\run-20241127_194301-0ojpxjq2</code>"
      ],
      "text/plain": [
       "<IPython.core.display.HTML object>"
      ]
     },
     "metadata": {},
     "output_type": "display_data"
    },
    {
     "data": {
      "text/html": [
       "Syncing run <strong><a href='https://wandb.ai/joaoc-university-of-southampton/spectra-mamba-sweep/runs/0ojpxjq2' target=\"_blank\">solar-sweep-31</a></strong> to <a href='https://wandb.ai/joaoc-university-of-southampton/spectra-mamba-sweep' target=\"_blank\">Weights & Biases</a> (<a href='https://wandb.me/run' target=\"_blank\">docs</a>)<br/>Sweep page: <a href='https://wandb.ai/joaoc-university-of-southampton/spectra-mamba-sweep/sweeps/pitkh7le' target=\"_blank\">https://wandb.ai/joaoc-university-of-southampton/spectra-mamba-sweep/sweeps/pitkh7le</a>"
      ],
      "text/plain": [
       "<IPython.core.display.HTML object>"
      ]
     },
     "metadata": {},
     "output_type": "display_data"
    },
    {
     "data": {
      "text/html": [
       " View project at <a href='https://wandb.ai/joaoc-university-of-southampton/spectra-mamba-sweep' target=\"_blank\">https://wandb.ai/joaoc-university-of-southampton/spectra-mamba-sweep</a>"
      ],
      "text/plain": [
       "<IPython.core.display.HTML object>"
      ]
     },
     "metadata": {},
     "output_type": "display_data"
    },
    {
     "data": {
      "text/html": [
       " View sweep at <a href='https://wandb.ai/joaoc-university-of-southampton/spectra-mamba-sweep/sweeps/pitkh7le' target=\"_blank\">https://wandb.ai/joaoc-university-of-southampton/spectra-mamba-sweep/sweeps/pitkh7le</a>"
      ],
      "text/plain": [
       "<IPython.core.display.HTML object>"
      ]
     },
     "metadata": {},
     "output_type": "display_data"
    },
    {
     "data": {
      "text/html": [
       " View run at <a href='https://wandb.ai/joaoc-university-of-southampton/spectra-mamba-sweep/runs/0ojpxjq2' target=\"_blank\">https://wandb.ai/joaoc-university-of-southampton/spectra-mamba-sweep/runs/0ojpxjq2</a>"
      ],
      "text/plain": [
       "<IPython.core.display.HTML object>"
      ]
     },
     "metadata": {},
     "output_type": "display_data"
    },
    {
     "name": "stderr",
     "output_type": "stream",
     "text": [
      "C:\\Users\\jcwin\\AppData\\Local\\Packages\\PythonSoftwareFoundation.Python.3.11_qbz5n2kfra8p0\\LocalCache\\local-packages\\Python311\\site-packages\\torch\\optim\\lr_scheduler.py:60: UserWarning: The verbose parameter is deprecated. Please use get_last_lr() to access the learning rate.\n",
      "  warnings.warn(\n"
     ]
    },
    {
     "name": "stdout",
     "output_type": "stream",
     "text": [
      "Early stopping triggered.\n"
     ]
    },
    {
     "data": {
      "application/vnd.jupyter.widget-view+json": {
       "model_id": "5bbc5f83e12046e284d3e885749cd33d",
       "version_major": 2,
       "version_minor": 0
      },
      "text/plain": [
       "VBox(children=(Label(value='0.057 MB of 0.057 MB uploaded\\r'), FloatProgress(value=1.0, max=1.0)))"
      ]
     },
     "metadata": {},
     "output_type": "display_data"
    },
    {
     "data": {
      "text/html": [
       "<style>\n",
       "    table.wandb td:nth-child(1) { padding: 0 10px; text-align: left ; width: auto;} td:nth-child(2) {text-align: left ; width: 100%}\n",
       "    .wandb-row { display: flex; flex-direction: row; flex-wrap: wrap; justify-content: flex-start; width: 100% }\n",
       "    .wandb-col { display: flex; flex-direction: column; flex-basis: 100%; flex: 1; padding: 10px; }\n",
       "    </style>\n",
       "<div class=\"wandb-row\"><div class=\"wandb-col\"><h3>Run history:</h3><br/><table class=\"wandb\"><tr><td>epoch</td><td>▁▁▁▂▂▂▂▂▃▃▃▃▃▄▄▄▄▅▅▅▅▅▆▆▆▆▆▇▇▇▇▇███</td></tr><tr><td>learning_rate</td><td>███████████████▃▃▃▃▃▃▃▃▃▃▃▁▁▁▁▁▁▁▁▁</td></tr><tr><td>test_accuracy</td><td>▂▇▆▇█▇█▆█▆█▃▅▅▄█▄▂▆▅▄▃▆▃▂▂▃▃▃▂▁▃▄▃▂</td></tr><tr><td>test_loss</td><td>▂▁▁▁▁▁▁▁▁▁▁▂▂▂▂▂▃▃▃▃▄▄▃▃▄▅▅▅▆▇█▇▆▇▇</td></tr><tr><td>train_accuracy</td><td>▁▄▅▅▅▆▆▆▆▆▆▇▆▆▇▇▇▇▇▇███▇▇██████████</td></tr><tr><td>train_loss</td><td>█▄▄▃▃▃▃▃▂▂▂▂▂▂▂▂▂▂▂▂▁▁▁▂▁▁▁▁▁▁▁▁▁▁▁</td></tr><tr><td>val_accuracy</td><td>▂▅▆▅▇▆█▆█▅▇▄▄▅▅▇▅▂▅▄▃▄▅▂▃▂▂▄▃▁▂▂▃▂▃</td></tr><tr><td>val_loss</td><td>▃▁▁▁▁▁▁▁▁▂▁▂▂▂▂▂▃▃▃▄▄▄▄▃▄▆▅▅▆▇█▇▆▇▇</td></tr></table><br/></div><div class=\"wandb-col\"><h3>Run summary:</h3><br/><table class=\"wandb\"><tr><td>classification_report</td><td>              precis...</td></tr><tr><td>epoch</td><td>34</td></tr><tr><td>learning_rate</td><td>3e-05</td></tr><tr><td>test_accuracy</td><td>0.66094</td></tr><tr><td>test_loss</td><td>1.41941</td></tr><tr><td>train_accuracy</td><td>0.84248</td></tr><tr><td>train_loss</td><td>0.30968</td></tr><tr><td>val_accuracy</td><td>0.68275</td></tr><tr><td>val_loss</td><td>1.2934</td></tr></table><br/></div></div>"
      ],
      "text/plain": [
       "<IPython.core.display.HTML object>"
      ]
     },
     "metadata": {},
     "output_type": "display_data"
    },
    {
     "data": {
      "text/html": [
       " View run <strong style=\"color:#cdcd00\">solar-sweep-31</strong> at: <a href='https://wandb.ai/joaoc-university-of-southampton/spectra-mamba-sweep/runs/0ojpxjq2' target=\"_blank\">https://wandb.ai/joaoc-university-of-southampton/spectra-mamba-sweep/runs/0ojpxjq2</a><br/> View project at: <a href='https://wandb.ai/joaoc-university-of-southampton/spectra-mamba-sweep' target=\"_blank\">https://wandb.ai/joaoc-university-of-southampton/spectra-mamba-sweep</a><br/>Synced 5 W&B file(s), 0 media file(s), 70 artifact file(s) and 35 other file(s)"
      ],
      "text/plain": [
       "<IPython.core.display.HTML object>"
      ]
     },
     "metadata": {},
     "output_type": "display_data"
    },
    {
     "data": {
      "text/html": [
       "Find logs at: <code>.\\wandb\\run-20241127_194301-0ojpxjq2\\logs</code>"
      ],
      "text/plain": [
       "<IPython.core.display.HTML object>"
      ]
     },
     "metadata": {},
     "output_type": "display_data"
    },
    {
     "name": "stderr",
     "output_type": "stream",
     "text": [
      "wandb: Agent Starting Run: pnsnoed1 with config:\n",
      "wandb: \tdepth: 3\n",
      "wandb: \tdim: 64\n",
      "wandb: \tlr: 2e-06\n"
     ]
    },
    {
     "data": {
      "text/html": [
       "Tracking run with wandb version 0.18.5"
      ],
      "text/plain": [
       "<IPython.core.display.HTML object>"
      ]
     },
     "metadata": {},
     "output_type": "display_data"
    },
    {
     "data": {
      "text/html": [
       "Run data is saved locally in <code>c:\\Users\\jcwin\\OneDrive - University of Southampton\\_Southampton\\2024-25\\Star-Classifier\\wandb\\run-20241127_194722-pnsnoed1</code>"
      ],
      "text/plain": [
       "<IPython.core.display.HTML object>"
      ]
     },
     "metadata": {},
     "output_type": "display_data"
    },
    {
     "data": {
      "text/html": [
       "Syncing run <strong><a href='https://wandb.ai/joaoc-university-of-southampton/spectra-mamba-sweep/runs/pnsnoed1' target=\"_blank\">northern-sweep-32</a></strong> to <a href='https://wandb.ai/joaoc-university-of-southampton/spectra-mamba-sweep' target=\"_blank\">Weights & Biases</a> (<a href='https://wandb.me/run' target=\"_blank\">docs</a>)<br/>Sweep page: <a href='https://wandb.ai/joaoc-university-of-southampton/spectra-mamba-sweep/sweeps/pitkh7le' target=\"_blank\">https://wandb.ai/joaoc-university-of-southampton/spectra-mamba-sweep/sweeps/pitkh7le</a>"
      ],
      "text/plain": [
       "<IPython.core.display.HTML object>"
      ]
     },
     "metadata": {},
     "output_type": "display_data"
    },
    {
     "data": {
      "text/html": [
       " View project at <a href='https://wandb.ai/joaoc-university-of-southampton/spectra-mamba-sweep' target=\"_blank\">https://wandb.ai/joaoc-university-of-southampton/spectra-mamba-sweep</a>"
      ],
      "text/plain": [
       "<IPython.core.display.HTML object>"
      ]
     },
     "metadata": {},
     "output_type": "display_data"
    },
    {
     "data": {
      "text/html": [
       " View sweep at <a href='https://wandb.ai/joaoc-university-of-southampton/spectra-mamba-sweep/sweeps/pitkh7le' target=\"_blank\">https://wandb.ai/joaoc-university-of-southampton/spectra-mamba-sweep/sweeps/pitkh7le</a>"
      ],
      "text/plain": [
       "<IPython.core.display.HTML object>"
      ]
     },
     "metadata": {},
     "output_type": "display_data"
    },
    {
     "data": {
      "text/html": [
       " View run at <a href='https://wandb.ai/joaoc-university-of-southampton/spectra-mamba-sweep/runs/pnsnoed1' target=\"_blank\">https://wandb.ai/joaoc-university-of-southampton/spectra-mamba-sweep/runs/pnsnoed1</a>"
      ],
      "text/plain": [
       "<IPython.core.display.HTML object>"
      ]
     },
     "metadata": {},
     "output_type": "display_data"
    },
    {
     "name": "stderr",
     "output_type": "stream",
     "text": [
      "C:\\Users\\jcwin\\AppData\\Local\\Packages\\PythonSoftwareFoundation.Python.3.11_qbz5n2kfra8p0\\LocalCache\\local-packages\\Python311\\site-packages\\torch\\optim\\lr_scheduler.py:60: UserWarning: The verbose parameter is deprecated. Please use get_last_lr() to access the learning rate.\n",
      "  warnings.warn(\n"
     ]
    },
    {
     "data": {
      "application/vnd.jupyter.widget-view+json": {
       "model_id": "2e7f747fa16e49c4829b09b136a5cd9c",
       "version_major": 2,
       "version_minor": 0
      },
      "text/plain": [
       "VBox(children=(Label(value='0.615 MB of 0.615 MB uploaded\\r'), FloatProgress(value=1.0, max=1.0)))"
      ]
     },
     "metadata": {},
     "output_type": "display_data"
    },
    {
     "data": {
      "text/html": [
       "<style>\n",
       "    table.wandb td:nth-child(1) { padding: 0 10px; text-align: left ; width: auto;} td:nth-child(2) {text-align: left ; width: 100%}\n",
       "    .wandb-row { display: flex; flex-direction: row; flex-wrap: wrap; justify-content: flex-start; width: 100% }\n",
       "    .wandb-col { display: flex; flex-direction: column; flex-basis: 100%; flex: 1; padding: 10px; }\n",
       "    </style>\n",
       "<div class=\"wandb-row\"><div class=\"wandb-col\"><h3>Run history:</h3><br/><table class=\"wandb\"><tr><td>epoch</td><td>▁▁▁▂▂▂▂▃▃▃▃▃▃▃▃▄▄▄▄▅▅▅▅▅▆▆▆▆▇▇▇▇▇▇▇█████</td></tr><tr><td>learning_rate</td><td>▁▁▁▁▁▁▁▁▁▁▁▁▁▁▁▁▁▁▁▁▁▁▁▁▁▁▁▁▁▁▁▁▁▁▁▁▁▁▁▁</td></tr><tr><td>test_accuracy</td><td>▁▃▄▄▅▅▅▅▆▆▆▆▇▇▇▇▇▇▇▇▇▇▇▇▇▇▇▇▇▇█▇████████</td></tr><tr><td>test_loss</td><td>██▆▅▅▄▄▄▄▄▄▃▃▃▃▃▃▃▃▃▂▂▂▂▂▂▂▁▁▁▁▁▁▁▁▁▁▁▁▁</td></tr><tr><td>train_accuracy</td><td>▁▃▄▄▄▅▅▅▅▅▆▆▆▆▆▆▆▆▆▇▇▆▇▇▇▇▇▇▇▇▇█████▇█▇█</td></tr><tr><td>train_loss</td><td>█▆▆▅▅▄▄▄▄▄▃▃▃▃▃▃▃▃▂▂▂▂▂▂▂▂▂▂▂▂▁▂▁▂▁▁▁▁▁▁</td></tr><tr><td>val_accuracy</td><td>▁▂▄▄▅▆▆▆▆▆▇▇▇▇▇▇▇▇▇█████████████████████</td></tr><tr><td>val_loss</td><td>█▇▇▅▄▄▃▃▃▃▂▂▂▂▂▂▂▂▂▂▂▂▁▁▁▁▁▁▁▁▁▁▁▁▁▁▁▁▁▁</td></tr></table><br/></div><div class=\"wandb-col\"><h3>Run summary:</h3><br/><table class=\"wandb\"><tr><td>classification_report</td><td>              precis...</td></tr><tr><td>epoch</td><td>499</td></tr><tr><td>learning_rate</td><td>0.0</td></tr><tr><td>test_accuracy</td><td>0.74085</td></tr><tr><td>test_loss</td><td>0.57851</td></tr><tr><td>train_accuracy</td><td>0.75884</td></tr><tr><td>train_loss</td><td>0.53395</td></tr><tr><td>val_accuracy</td><td>0.75116</td></tr><tr><td>val_loss</td><td>0.5795</td></tr></table><br/></div></div>"
      ],
      "text/plain": [
       "<IPython.core.display.HTML object>"
      ]
     },
     "metadata": {},
     "output_type": "display_data"
    },
    {
     "data": {
      "text/html": [
       " View run <strong style=\"color:#cdcd00\">northern-sweep-32</strong> at: <a href='https://wandb.ai/joaoc-university-of-southampton/spectra-mamba-sweep/runs/pnsnoed1' target=\"_blank\">https://wandb.ai/joaoc-university-of-southampton/spectra-mamba-sweep/runs/pnsnoed1</a><br/> View project at: <a href='https://wandb.ai/joaoc-university-of-southampton/spectra-mamba-sweep' target=\"_blank\">https://wandb.ai/joaoc-university-of-southampton/spectra-mamba-sweep</a><br/>Synced 5 W&B file(s), 0 media file(s), 998 artifact file(s) and 500 other file(s)"
      ],
      "text/plain": [
       "<IPython.core.display.HTML object>"
      ]
     },
     "metadata": {},
     "output_type": "display_data"
    },
    {
     "data": {
      "text/html": [
       "Find logs at: <code>.\\wandb\\run-20241127_194722-pnsnoed1\\logs</code>"
      ],
      "text/plain": [
       "<IPython.core.display.HTML object>"
      ]
     },
     "metadata": {},
     "output_type": "display_data"
    },
    {
     "name": "stderr",
     "output_type": "stream",
     "text": [
      "wandb: Agent Starting Run: 7focbw4m with config:\n",
      "wandb: \tdepth: 3\n",
      "wandb: \tdim: 256\n",
      "wandb: \tlr: 2e-06\n"
     ]
    },
    {
     "data": {
      "text/html": [
       "Tracking run with wandb version 0.18.5"
      ],
      "text/plain": [
       "<IPython.core.display.HTML object>"
      ]
     },
     "metadata": {},
     "output_type": "display_data"
    },
    {
     "data": {
      "text/html": [
       "Run data is saved locally in <code>c:\\Users\\jcwin\\OneDrive - University of Southampton\\_Southampton\\2024-25\\Star-Classifier\\wandb\\run-20241127_200022-7focbw4m</code>"
      ],
      "text/plain": [
       "<IPython.core.display.HTML object>"
      ]
     },
     "metadata": {},
     "output_type": "display_data"
    },
    {
     "data": {
      "text/html": [
       "Syncing run <strong><a href='https://wandb.ai/joaoc-university-of-southampton/spectra-mamba-sweep/runs/7focbw4m' target=\"_blank\">frosty-sweep-33</a></strong> to <a href='https://wandb.ai/joaoc-university-of-southampton/spectra-mamba-sweep' target=\"_blank\">Weights & Biases</a> (<a href='https://wandb.me/run' target=\"_blank\">docs</a>)<br/>Sweep page: <a href='https://wandb.ai/joaoc-university-of-southampton/spectra-mamba-sweep/sweeps/pitkh7le' target=\"_blank\">https://wandb.ai/joaoc-university-of-southampton/spectra-mamba-sweep/sweeps/pitkh7le</a>"
      ],
      "text/plain": [
       "<IPython.core.display.HTML object>"
      ]
     },
     "metadata": {},
     "output_type": "display_data"
    },
    {
     "data": {
      "text/html": [
       " View project at <a href='https://wandb.ai/joaoc-university-of-southampton/spectra-mamba-sweep' target=\"_blank\">https://wandb.ai/joaoc-university-of-southampton/spectra-mamba-sweep</a>"
      ],
      "text/plain": [
       "<IPython.core.display.HTML object>"
      ]
     },
     "metadata": {},
     "output_type": "display_data"
    },
    {
     "data": {
      "text/html": [
       " View sweep at <a href='https://wandb.ai/joaoc-university-of-southampton/spectra-mamba-sweep/sweeps/pitkh7le' target=\"_blank\">https://wandb.ai/joaoc-university-of-southampton/spectra-mamba-sweep/sweeps/pitkh7le</a>"
      ],
      "text/plain": [
       "<IPython.core.display.HTML object>"
      ]
     },
     "metadata": {},
     "output_type": "display_data"
    },
    {
     "data": {
      "text/html": [
       " View run at <a href='https://wandb.ai/joaoc-university-of-southampton/spectra-mamba-sweep/runs/7focbw4m' target=\"_blank\">https://wandb.ai/joaoc-university-of-southampton/spectra-mamba-sweep/runs/7focbw4m</a>"
      ],
      "text/plain": [
       "<IPython.core.display.HTML object>"
      ]
     },
     "metadata": {},
     "output_type": "display_data"
    },
    {
     "name": "stderr",
     "output_type": "stream",
     "text": [
      "C:\\Users\\jcwin\\AppData\\Local\\Packages\\PythonSoftwareFoundation.Python.3.11_qbz5n2kfra8p0\\LocalCache\\local-packages\\Python311\\site-packages\\torch\\optim\\lr_scheduler.py:60: UserWarning: The verbose parameter is deprecated. Please use get_last_lr() to access the learning rate.\n",
      "  warnings.warn(\n"
     ]
    }
   ],
   "source": [
    "# Define the hyperparameters\n",
    "num_classes = 4\n",
    "num_epochs = 500\n",
    "patience = 30\n",
    "\n",
    "# Define sweep config\n",
    "sweep_config = {\n",
    "    \"method\": \"random\",\n",
    "    \"metric\": {\"name\": \"test_accuracy\", \"goal\": \"maximize\"},\n",
    "    \"parameters\": {\n",
    "        \"lr\": {\"values\": [1e-4, 2e-6, 1e-5]},\n",
    "        \"dim\": {\"values\": [64, 256, 512, 1024, 2048]},\n",
    "        \"depth\": {\"values\": [3, 6, 12]}\n",
    "    }\n",
    "}\n",
    "\n",
    "def sweep_train():\n",
    "    with wandb.init() as run:\n",
    "        config = run.config\n",
    "        model_mamba = StarClassifierMAMBA(d_model=config.dim, num_classes=num_classes, input_dim=3748, n_layers=config.depth)\n",
    "        \n",
    "        # Pass config.num_epochs explicitly\n",
    "        trained_model = train_model_mamba(model_mamba, train_loader, val_loader, test_loader, num_epochs=num_epochs, lr=config.lr, max_patience=patience, device='cuda')\n",
    "\n",
    "\n",
    "# Start sweep\n",
    "sweep_id = wandb.sweep(sweep_config, project=\"spectra-mamba-sweep\")\n",
    "wandb.agent(sweep_id, function=sweep_train, count=50)"
   ]
  },
  {
   "cell_type": "code",
   "execution_count": 14,
   "metadata": {},
   "outputs": [
    {
     "data": {
      "text/html": [
       "Tracking run with wandb version 0.18.5"
      ],
      "text/plain": [
       "<IPython.core.display.HTML object>"
      ]
     },
     "metadata": {},
     "output_type": "display_data"
    },
    {
     "data": {
      "text/html": [
       "Run data is saved locally in <code>c:\\Users\\jcwin\\OneDrive - University of Southampton\\_Southampton\\2024-25\\Star-Classifier\\wandb\\run-20241127_143250-6nycd7gn</code>"
      ],
      "text/plain": [
       "<IPython.core.display.HTML object>"
      ]
     },
     "metadata": {},
     "output_type": "display_data"
    },
    {
     "data": {
      "text/html": [
       "Syncing run <strong><a href='https://wandb.ai/joaoc-university-of-southampton/lamost-mamba-test/runs/6nycd7gn' target=\"_blank\">drawn-plasma-5</a></strong> to <a href='https://wandb.ai/joaoc-university-of-southampton/lamost-mamba-test' target=\"_blank\">Weights & Biases</a> (<a href='https://wandb.me/run' target=\"_blank\">docs</a>)<br/>"
      ],
      "text/plain": [
       "<IPython.core.display.HTML object>"
      ]
     },
     "metadata": {},
     "output_type": "display_data"
    },
    {
     "data": {
      "text/html": [
       " View project at <a href='https://wandb.ai/joaoc-university-of-southampton/lamost-mamba-test' target=\"_blank\">https://wandb.ai/joaoc-university-of-southampton/lamost-mamba-test</a>"
      ],
      "text/plain": [
       "<IPython.core.display.HTML object>"
      ]
     },
     "metadata": {},
     "output_type": "display_data"
    },
    {
     "data": {
      "text/html": [
       " View run at <a href='https://wandb.ai/joaoc-university-of-southampton/lamost-mamba-test/runs/6nycd7gn' target=\"_blank\">https://wandb.ai/joaoc-university-of-southampton/lamost-mamba-test/runs/6nycd7gn</a>"
      ],
      "text/plain": [
       "<IPython.core.display.HTML object>"
      ]
     },
     "metadata": {},
     "output_type": "display_data"
    },
    {
     "name": "stdout",
     "output_type": "stream",
     "text": [
      "StarClassifierMAMBA(\n",
      "  (mamba_layer): Mamba(\n",
      "    (layers): ModuleList(\n",
      "      (0-9): 10 x ResidualBlock(\n",
      "        (mixer): MambaBlock(\n",
      "          (in_proj): Linear(in_features=512, out_features=2048, bias=False)\n",
      "          (conv1d): Conv1d(1024, 1024, kernel_size=(4,), stride=(1,), padding=(3,), groups=1024)\n",
      "          (x_proj): Linear(in_features=1024, out_features=160, bias=False)\n",
      "          (dt_proj): Linear(in_features=32, out_features=1024, bias=True)\n",
      "          (out_proj): Linear(in_features=1024, out_features=512, bias=False)\n",
      "        )\n",
      "        (norm): RMSNorm()\n",
      "      )\n",
      "    )\n",
      "  )\n",
      "  (input_projection): Linear(in_features=3748, out_features=512, bias=True)\n",
      "  (classifier): Sequential(\n",
      "    (0): LayerNorm((512,), eps=1e-05, elementwise_affine=True)\n",
      "    (1): Linear(in_features=512, out_features=4, bias=True)\n",
      "  )\n",
      ")\n",
      "mamba_layer.layers.0.mixer.A_log 65536\n",
      "mamba_layer.layers.0.mixer.D 1024\n",
      "mamba_layer.layers.0.mixer.in_proj.weight 1048576\n",
      "mamba_layer.layers.0.mixer.conv1d.weight 4096\n",
      "mamba_layer.layers.0.mixer.conv1d.bias 1024\n",
      "mamba_layer.layers.0.mixer.x_proj.weight 163840\n",
      "mamba_layer.layers.0.mixer.dt_proj.weight 32768\n",
      "mamba_layer.layers.0.mixer.dt_proj.bias 1024\n",
      "mamba_layer.layers.0.mixer.out_proj.weight 524288\n",
      "mamba_layer.layers.0.norm.weight 512\n",
      "mamba_layer.layers.1.mixer.A_log 65536\n",
      "mamba_layer.layers.1.mixer.D 1024\n",
      "mamba_layer.layers.1.mixer.in_proj.weight 1048576\n",
      "mamba_layer.layers.1.mixer.conv1d.weight 4096\n",
      "mamba_layer.layers.1.mixer.conv1d.bias 1024\n",
      "mamba_layer.layers.1.mixer.x_proj.weight 163840\n",
      "mamba_layer.layers.1.mixer.dt_proj.weight 32768\n",
      "mamba_layer.layers.1.mixer.dt_proj.bias 1024\n",
      "mamba_layer.layers.1.mixer.out_proj.weight 524288\n",
      "mamba_layer.layers.1.norm.weight 512\n",
      "mamba_layer.layers.2.mixer.A_log 65536\n",
      "mamba_layer.layers.2.mixer.D 1024\n",
      "mamba_layer.layers.2.mixer.in_proj.weight 1048576\n",
      "mamba_layer.layers.2.mixer.conv1d.weight 4096\n",
      "mamba_layer.layers.2.mixer.conv1d.bias 1024\n",
      "mamba_layer.layers.2.mixer.x_proj.weight 163840\n",
      "mamba_layer.layers.2.mixer.dt_proj.weight 32768\n",
      "mamba_layer.layers.2.mixer.dt_proj.bias 1024\n",
      "mamba_layer.layers.2.mixer.out_proj.weight 524288\n",
      "mamba_layer.layers.2.norm.weight 512\n",
      "mamba_layer.layers.3.mixer.A_log 65536\n",
      "mamba_layer.layers.3.mixer.D 1024\n",
      "mamba_layer.layers.3.mixer.in_proj.weight 1048576\n",
      "mamba_layer.layers.3.mixer.conv1d.weight 4096\n",
      "mamba_layer.layers.3.mixer.conv1d.bias 1024\n",
      "mamba_layer.layers.3.mixer.x_proj.weight 163840\n",
      "mamba_layer.layers.3.mixer.dt_proj.weight 32768\n",
      "mamba_layer.layers.3.mixer.dt_proj.bias 1024\n",
      "mamba_layer.layers.3.mixer.out_proj.weight 524288\n",
      "mamba_layer.layers.3.norm.weight 512\n",
      "mamba_layer.layers.4.mixer.A_log 65536\n",
      "mamba_layer.layers.4.mixer.D 1024\n",
      "mamba_layer.layers.4.mixer.in_proj.weight 1048576\n",
      "mamba_layer.layers.4.mixer.conv1d.weight 4096\n",
      "mamba_layer.layers.4.mixer.conv1d.bias 1024\n",
      "mamba_layer.layers.4.mixer.x_proj.weight 163840\n",
      "mamba_layer.layers.4.mixer.dt_proj.weight 32768\n",
      "mamba_layer.layers.4.mixer.dt_proj.bias 1024\n",
      "mamba_layer.layers.4.mixer.out_proj.weight 524288\n",
      "mamba_layer.layers.4.norm.weight 512\n",
      "mamba_layer.layers.5.mixer.A_log 65536\n",
      "mamba_layer.layers.5.mixer.D 1024\n",
      "mamba_layer.layers.5.mixer.in_proj.weight 1048576\n",
      "mamba_layer.layers.5.mixer.conv1d.weight 4096\n",
      "mamba_layer.layers.5.mixer.conv1d.bias 1024\n",
      "mamba_layer.layers.5.mixer.x_proj.weight 163840\n",
      "mamba_layer.layers.5.mixer.dt_proj.weight 32768\n",
      "mamba_layer.layers.5.mixer.dt_proj.bias 1024\n",
      "mamba_layer.layers.5.mixer.out_proj.weight 524288\n",
      "mamba_layer.layers.5.norm.weight 512\n",
      "mamba_layer.layers.6.mixer.A_log 65536\n",
      "mamba_layer.layers.6.mixer.D 1024\n",
      "mamba_layer.layers.6.mixer.in_proj.weight 1048576\n",
      "mamba_layer.layers.6.mixer.conv1d.weight 4096\n",
      "mamba_layer.layers.6.mixer.conv1d.bias 1024\n",
      "mamba_layer.layers.6.mixer.x_proj.weight 163840\n",
      "mamba_layer.layers.6.mixer.dt_proj.weight 32768\n",
      "mamba_layer.layers.6.mixer.dt_proj.bias 1024\n",
      "mamba_layer.layers.6.mixer.out_proj.weight 524288\n",
      "mamba_layer.layers.6.norm.weight 512\n",
      "mamba_layer.layers.7.mixer.A_log 65536\n",
      "mamba_layer.layers.7.mixer.D 1024\n",
      "mamba_layer.layers.7.mixer.in_proj.weight 1048576\n",
      "mamba_layer.layers.7.mixer.conv1d.weight 4096\n",
      "mamba_layer.layers.7.mixer.conv1d.bias 1024\n",
      "mamba_layer.layers.7.mixer.x_proj.weight 163840\n",
      "mamba_layer.layers.7.mixer.dt_proj.weight 32768\n",
      "mamba_layer.layers.7.mixer.dt_proj.bias 1024\n",
      "mamba_layer.layers.7.mixer.out_proj.weight 524288\n",
      "mamba_layer.layers.7.norm.weight 512\n",
      "mamba_layer.layers.8.mixer.A_log 65536\n",
      "mamba_layer.layers.8.mixer.D 1024\n",
      "mamba_layer.layers.8.mixer.in_proj.weight 1048576\n",
      "mamba_layer.layers.8.mixer.conv1d.weight 4096\n",
      "mamba_layer.layers.8.mixer.conv1d.bias 1024\n",
      "mamba_layer.layers.8.mixer.x_proj.weight 163840\n",
      "mamba_layer.layers.8.mixer.dt_proj.weight 32768\n",
      "mamba_layer.layers.8.mixer.dt_proj.bias 1024\n",
      "mamba_layer.layers.8.mixer.out_proj.weight 524288\n",
      "mamba_layer.layers.8.norm.weight 512\n",
      "mamba_layer.layers.9.mixer.A_log 65536\n",
      "mamba_layer.layers.9.mixer.D 1024\n",
      "mamba_layer.layers.9.mixer.in_proj.weight 1048576\n",
      "mamba_layer.layers.9.mixer.conv1d.weight 4096\n",
      "mamba_layer.layers.9.mixer.conv1d.bias 1024\n",
      "mamba_layer.layers.9.mixer.x_proj.weight 163840\n",
      "mamba_layer.layers.9.mixer.dt_proj.weight 32768\n",
      "mamba_layer.layers.9.mixer.dt_proj.bias 1024\n",
      "mamba_layer.layers.9.mixer.out_proj.weight 524288\n",
      "mamba_layer.layers.9.norm.weight 512\n",
      "input_projection.weight 1918976\n",
      "input_projection.bias 512\n",
      "classifier.0.weight 512\n",
      "classifier.0.bias 512\n",
      "classifier.1.weight 2048\n",
      "classifier.1.bias 4\n",
      "Total number of parameters: 20349444\n"
     ]
    },
    {
     "name": "stderr",
     "output_type": "stream",
     "text": [
      "C:\\Users\\jcwin\\AppData\\Local\\Packages\\PythonSoftwareFoundation.Python.3.11_qbz5n2kfra8p0\\LocalCache\\local-packages\\Python311\\site-packages\\torch\\optim\\lr_scheduler.py:60: UserWarning: The verbose parameter is deprecated. Please use get_last_lr() to access the learning rate.\n",
      "  warnings.warn(\n"
     ]
    },
    {
     "name": "stdout",
     "output_type": "stream",
     "text": [
      "Early stopping triggered.\n"
     ]
    },
    {
     "data": {
      "application/vnd.jupyter.widget-view+json": {
       "model_id": "b0e42a3107c14bf9818b5df6034cc15a",
       "version_major": 2,
       "version_minor": 0
      },
      "text/plain": [
       "VBox(children=(Label(value='0.087 MB of 0.087 MB uploaded\\r'), FloatProgress(value=1.0, max=1.0)))"
      ]
     },
     "metadata": {},
     "output_type": "display_data"
    },
    {
     "data": {
      "text/html": [
       "<style>\n",
       "    table.wandb td:nth-child(1) { padding: 0 10px; text-align: left ; width: auto;} td:nth-child(2) {text-align: left ; width: 100%}\n",
       "    .wandb-row { display: flex; flex-direction: row; flex-wrap: wrap; justify-content: flex-start; width: 100% }\n",
       "    .wandb-col { display: flex; flex-direction: column; flex-basis: 100%; flex: 1; padding: 10px; }\n",
       "    </style>\n",
       "<div class=\"wandb-row\"><div class=\"wandb-col\"><h3>Run history:</h3><br/><table class=\"wandb\"><tr><td>epoch</td><td>▁▁▁▁▂▂▂▂▂▂▃▃▃▃▃▄▄▄▄▄▄▅▅▅▅▅▆▆▆▆▆▆▇▇▇▇▇███</td></tr><tr><td>learning_rate</td><td>████████████████▃▃▃▃▃▃▃▃▃▃▃▁▁▁▁▁▁▁▁▁▁▁▁▁</td></tr><tr><td>test_accuracy</td><td>▂▁▄▄▅▆▇▅▆▆▅▆▅▇▅▇▆█▇▇▆▆▅▆▇▆▅▆▆▆▇▅▆▆▅▆▆▆▆▇</td></tr><tr><td>test_loss</td><td>▅▃▂▁▁▁▁▁▂▃▃▃▃▄▄▅▄▄▄▅▅▅▆▅▆▆▆▆▅▆▇▇▇█▇█▆▇▇▇</td></tr><tr><td>train_accuracy</td><td>▁▄▄▅▅▆▆▆▆▇▇▇▇▇▇▇▇▇▇▇▇▇▇██▇▇▇████████████</td></tr><tr><td>train_loss</td><td>█▄▄▄▃▃▂▂▂▂▂▂▂▂▂▂▁▁▁▂▁▁▁▁▁▁▁▁▁▁▁▁▁▁▁▁▁▁▁▁</td></tr><tr><td>val_accuracy</td><td>▁▄▇▇▅▇▅▇▆▇▄▇▆▅▃▆▇█▇▇█▆▇▇▇▄█▇▇▇▆▆▇▇██▇▆█▆</td></tr><tr><td>val_loss</td><td>▅▃▂▁▁▂▂▂▃▃▄▄▅▅▅▄▅▅▅▅▆▆▆▆▆▆▆▆▇▇▇▇█▇▇▇▇▇▇█</td></tr></table><br/></div><div class=\"wandb-col\"><h3>Run summary:</h3><br/><table class=\"wandb\"><tr><td>classification_report</td><td>              precis...</td></tr><tr><td>epoch</td><td>55</td></tr><tr><td>learning_rate</td><td>3e-05</td></tr><tr><td>test_accuracy</td><td>0.71123</td></tr><tr><td>test_loss</td><td>1.0999</td></tr><tr><td>train_accuracy</td><td>0.91923</td></tr><tr><td>train_loss</td><td>0.16057</td></tr><tr><td>val_accuracy</td><td>0.72704</td></tr><tr><td>val_loss</td><td>1.1119</td></tr></table><br/></div></div>"
      ],
      "text/plain": [
       "<IPython.core.display.HTML object>"
      ]
     },
     "metadata": {},
     "output_type": "display_data"
    },
    {
     "data": {
      "text/html": [
       " View run <strong style=\"color:#cdcd00\">drawn-plasma-5</strong> at: <a href='https://wandb.ai/joaoc-university-of-southampton/lamost-mamba-test/runs/6nycd7gn' target=\"_blank\">https://wandb.ai/joaoc-university-of-southampton/lamost-mamba-test/runs/6nycd7gn</a><br/> View project at: <a href='https://wandb.ai/joaoc-university-of-southampton/lamost-mamba-test' target=\"_blank\">https://wandb.ai/joaoc-university-of-southampton/lamost-mamba-test</a><br/>Synced 5 W&B file(s), 0 media file(s), 112 artifact file(s) and 56 other file(s)"
      ],
      "text/plain": [
       "<IPython.core.display.HTML object>"
      ]
     },
     "metadata": {},
     "output_type": "display_data"
    },
    {
     "data": {
      "text/html": [
       "Find logs at: <code>.\\wandb\\run-20241127_143250-6nycd7gn\\logs</code>"
      ],
      "text/plain": [
       "<IPython.core.display.HTML object>"
      ]
     },
     "metadata": {},
     "output_type": "display_data"
    }
   ],
   "source": [
    "# Define the model with your parameters\n",
    "d_model = 512 # Embedding dimension\n",
    "num_classes = 4  # Star classification categories\n",
    "\n",
    "# Define the training parameters\n",
    "num_epochs = 500\n",
    "lr = 1e-4\n",
    "patience = 50   \n",
    "depth = 10\n",
    "\n",
    "# Define the config dictionary object\n",
    "config = {\"num_classes\": num_classes, \"batch_size\": batch_size, \"lr\": lr, \"patience\": patience, \"num_epochs\": num_epochs, \"d_model\": d_model, \"depth\": depth}\n",
    "\n",
    "# Initialize WandB project\n",
    "wandb.init(project=\"lamost-mamba-test\", entity=\"joaoc-university-of-southampton\", config=config)\n",
    "# Initialize and train the model\n",
    "# Train the model using your `train_model_vit` or an adjusted training loop\n",
    "model_mamba = StarClassifierMAMBA(d_model=d_model, num_classes=num_classes, input_dim=3748, n_layers=depth)\n",
    "print(model_mamba)\n",
    "# print number of parameters per layer\n",
    "for name, param in model_mamba.named_parameters():\n",
    "    print(name, param.numel())\n",
    "print(\"Total number of parameters:\", sum(p.numel() for p in model_mamba.parameters() if p.requires_grad))\n",
    "\n",
    "# Move the model to device\n",
    "device = 'cuda' if torch.cuda.is_available() else 'cpu'\n",
    "model_mamba = model_mamba.to(device)\n",
    "\n",
    "# Train the model using your `train_model_vit` or an adjusted training loop\n",
    "trained_model = train_model_mamba(\n",
    "    model=model_mamba,\n",
    "    train_loader=train_loader,\n",
    "    val_loader=val_loader,\n",
    "    test_loader=test_loader,\n",
    "    num_epochs=num_epochs,\n",
    "    lr=lr,\n",
    "    max_patience=patience,\n",
    "    device=device\n",
    ")\n",
    "# Save the model and finish WandB session\n",
    "wandb.finish()"
   ]
  },
  {
   "cell_type": "code",
   "execution_count": 16,
   "metadata": {},
   "outputs": [
    {
     "data": {
      "text/html": [
       "Tracking run with wandb version 0.18.5"
      ],
      "text/plain": [
       "<IPython.core.display.HTML object>"
      ]
     },
     "metadata": {},
     "output_type": "display_data"
    },
    {
     "data": {
      "text/html": [
       "Run data is saved locally in <code>c:\\Users\\jcwin\\OneDrive - University of Southampton\\_Southampton\\2024-25\\Star-Classifier\\wandb\\run-20241127_144404-i8te3kch</code>"
      ],
      "text/plain": [
       "<IPython.core.display.HTML object>"
      ]
     },
     "metadata": {},
     "output_type": "display_data"
    },
    {
     "data": {
      "text/html": [
       "Syncing run <strong><a href='https://wandb.ai/joaoc-university-of-southampton/lamost-mamba-test/runs/i8te3kch' target=\"_blank\">solar-pyramid-7</a></strong> to <a href='https://wandb.ai/joaoc-university-of-southampton/lamost-mamba-test' target=\"_blank\">Weights & Biases</a> (<a href='https://wandb.me/run' target=\"_blank\">docs</a>)<br/>"
      ],
      "text/plain": [
       "<IPython.core.display.HTML object>"
      ]
     },
     "metadata": {},
     "output_type": "display_data"
    },
    {
     "data": {
      "text/html": [
       " View project at <a href='https://wandb.ai/joaoc-university-of-southampton/lamost-mamba-test' target=\"_blank\">https://wandb.ai/joaoc-university-of-southampton/lamost-mamba-test</a>"
      ],
      "text/plain": [
       "<IPython.core.display.HTML object>"
      ]
     },
     "metadata": {},
     "output_type": "display_data"
    },
    {
     "data": {
      "text/html": [
       " View run at <a href='https://wandb.ai/joaoc-university-of-southampton/lamost-mamba-test/runs/i8te3kch' target=\"_blank\">https://wandb.ai/joaoc-university-of-southampton/lamost-mamba-test/runs/i8te3kch</a>"
      ],
      "text/plain": [
       "<IPython.core.display.HTML object>"
      ]
     },
     "metadata": {},
     "output_type": "display_data"
    },
    {
     "name": "stdout",
     "output_type": "stream",
     "text": [
      "StarClassifierMAMBA(\n",
      "  (mamba_layer): Mamba(\n",
      "    (layers): ModuleList(\n",
      "      (0-9): 10 x ResidualBlock(\n",
      "        (mixer): MambaBlock(\n",
      "          (in_proj): Linear(in_features=126, out_features=504, bias=False)\n",
      "          (conv1d): Conv1d(252, 252, kernel_size=(4,), stride=(1,), padding=(3,), groups=252)\n",
      "          (x_proj): Linear(in_features=252, out_features=136, bias=False)\n",
      "          (dt_proj): Linear(in_features=8, out_features=252, bias=True)\n",
      "          (out_proj): Linear(in_features=252, out_features=126, bias=False)\n",
      "        )\n",
      "        (norm): RMSNorm()\n",
      "      )\n",
      "    )\n",
      "  )\n",
      "  (input_projection): Linear(in_features=3748, out_features=126, bias=True)\n",
      "  (classifier): Sequential(\n",
      "    (0): LayerNorm((126,), eps=1e-05, elementwise_affine=True)\n",
      "    (1): Linear(in_features=126, out_features=4, bias=True)\n",
      "  )\n",
      ")\n",
      "mamba_layer.layers.0.mixer.A_log 16128\n",
      "mamba_layer.layers.0.mixer.D 252\n",
      "mamba_layer.layers.0.mixer.in_proj.weight 63504\n",
      "mamba_layer.layers.0.mixer.conv1d.weight 1008\n",
      "mamba_layer.layers.0.mixer.conv1d.bias 252\n",
      "mamba_layer.layers.0.mixer.x_proj.weight 34272\n",
      "mamba_layer.layers.0.mixer.dt_proj.weight 2016\n",
      "mamba_layer.layers.0.mixer.dt_proj.bias 252\n",
      "mamba_layer.layers.0.mixer.out_proj.weight 31752\n",
      "mamba_layer.layers.0.norm.weight 126\n",
      "mamba_layer.layers.1.mixer.A_log 16128\n",
      "mamba_layer.layers.1.mixer.D 252\n",
      "mamba_layer.layers.1.mixer.in_proj.weight 63504\n",
      "mamba_layer.layers.1.mixer.conv1d.weight 1008\n",
      "mamba_layer.layers.1.mixer.conv1d.bias 252\n",
      "mamba_layer.layers.1.mixer.x_proj.weight 34272\n",
      "mamba_layer.layers.1.mixer.dt_proj.weight 2016\n",
      "mamba_layer.layers.1.mixer.dt_proj.bias 252\n",
      "mamba_layer.layers.1.mixer.out_proj.weight 31752\n",
      "mamba_layer.layers.1.norm.weight 126\n",
      "mamba_layer.layers.2.mixer.A_log 16128\n",
      "mamba_layer.layers.2.mixer.D 252\n",
      "mamba_layer.layers.2.mixer.in_proj.weight 63504\n",
      "mamba_layer.layers.2.mixer.conv1d.weight 1008\n",
      "mamba_layer.layers.2.mixer.conv1d.bias 252\n",
      "mamba_layer.layers.2.mixer.x_proj.weight 34272\n",
      "mamba_layer.layers.2.mixer.dt_proj.weight 2016\n",
      "mamba_layer.layers.2.mixer.dt_proj.bias 252\n",
      "mamba_layer.layers.2.mixer.out_proj.weight 31752\n",
      "mamba_layer.layers.2.norm.weight 126\n",
      "mamba_layer.layers.3.mixer.A_log 16128\n",
      "mamba_layer.layers.3.mixer.D 252\n",
      "mamba_layer.layers.3.mixer.in_proj.weight 63504\n",
      "mamba_layer.layers.3.mixer.conv1d.weight 1008\n",
      "mamba_layer.layers.3.mixer.conv1d.bias 252\n",
      "mamba_layer.layers.3.mixer.x_proj.weight 34272\n",
      "mamba_layer.layers.3.mixer.dt_proj.weight 2016\n",
      "mamba_layer.layers.3.mixer.dt_proj.bias 252\n",
      "mamba_layer.layers.3.mixer.out_proj.weight 31752\n",
      "mamba_layer.layers.3.norm.weight 126\n",
      "mamba_layer.layers.4.mixer.A_log 16128\n",
      "mamba_layer.layers.4.mixer.D 252\n",
      "mamba_layer.layers.4.mixer.in_proj.weight 63504\n",
      "mamba_layer.layers.4.mixer.conv1d.weight 1008\n",
      "mamba_layer.layers.4.mixer.conv1d.bias 252\n",
      "mamba_layer.layers.4.mixer.x_proj.weight 34272\n",
      "mamba_layer.layers.4.mixer.dt_proj.weight 2016\n",
      "mamba_layer.layers.4.mixer.dt_proj.bias 252\n",
      "mamba_layer.layers.4.mixer.out_proj.weight 31752\n",
      "mamba_layer.layers.4.norm.weight 126\n",
      "mamba_layer.layers.5.mixer.A_log 16128\n",
      "mamba_layer.layers.5.mixer.D 252\n",
      "mamba_layer.layers.5.mixer.in_proj.weight 63504\n",
      "mamba_layer.layers.5.mixer.conv1d.weight 1008\n",
      "mamba_layer.layers.5.mixer.conv1d.bias 252\n",
      "mamba_layer.layers.5.mixer.x_proj.weight 34272\n",
      "mamba_layer.layers.5.mixer.dt_proj.weight 2016\n",
      "mamba_layer.layers.5.mixer.dt_proj.bias 252\n",
      "mamba_layer.layers.5.mixer.out_proj.weight 31752\n",
      "mamba_layer.layers.5.norm.weight 126\n",
      "mamba_layer.layers.6.mixer.A_log 16128\n",
      "mamba_layer.layers.6.mixer.D 252\n",
      "mamba_layer.layers.6.mixer.in_proj.weight 63504\n",
      "mamba_layer.layers.6.mixer.conv1d.weight 1008\n",
      "mamba_layer.layers.6.mixer.conv1d.bias 252\n",
      "mamba_layer.layers.6.mixer.x_proj.weight 34272\n",
      "mamba_layer.layers.6.mixer.dt_proj.weight 2016\n",
      "mamba_layer.layers.6.mixer.dt_proj.bias 252\n",
      "mamba_layer.layers.6.mixer.out_proj.weight 31752\n",
      "mamba_layer.layers.6.norm.weight 126\n",
      "mamba_layer.layers.7.mixer.A_log 16128\n",
      "mamba_layer.layers.7.mixer.D 252\n",
      "mamba_layer.layers.7.mixer.in_proj.weight 63504\n",
      "mamba_layer.layers.7.mixer.conv1d.weight 1008\n",
      "mamba_layer.layers.7.mixer.conv1d.bias 252\n",
      "mamba_layer.layers.7.mixer.x_proj.weight 34272\n",
      "mamba_layer.layers.7.mixer.dt_proj.weight 2016\n",
      "mamba_layer.layers.7.mixer.dt_proj.bias 252\n",
      "mamba_layer.layers.7.mixer.out_proj.weight 31752\n",
      "mamba_layer.layers.7.norm.weight 126\n",
      "mamba_layer.layers.8.mixer.A_log 16128\n",
      "mamba_layer.layers.8.mixer.D 252\n",
      "mamba_layer.layers.8.mixer.in_proj.weight 63504\n",
      "mamba_layer.layers.8.mixer.conv1d.weight 1008\n",
      "mamba_layer.layers.8.mixer.conv1d.bias 252\n",
      "mamba_layer.layers.8.mixer.x_proj.weight 34272\n",
      "mamba_layer.layers.8.mixer.dt_proj.weight 2016\n",
      "mamba_layer.layers.8.mixer.dt_proj.bias 252\n",
      "mamba_layer.layers.8.mixer.out_proj.weight 31752\n",
      "mamba_layer.layers.8.norm.weight 126\n",
      "mamba_layer.layers.9.mixer.A_log 16128\n",
      "mamba_layer.layers.9.mixer.D 252\n",
      "mamba_layer.layers.9.mixer.in_proj.weight 63504\n",
      "mamba_layer.layers.9.mixer.conv1d.weight 1008\n",
      "mamba_layer.layers.9.mixer.conv1d.bias 252\n",
      "mamba_layer.layers.9.mixer.x_proj.weight 34272\n",
      "mamba_layer.layers.9.mixer.dt_proj.weight 2016\n",
      "mamba_layer.layers.9.mixer.dt_proj.bias 252\n",
      "mamba_layer.layers.9.mixer.out_proj.weight 31752\n",
      "mamba_layer.layers.9.norm.weight 126\n",
      "input_projection.weight 472248\n",
      "input_projection.bias 126\n",
      "classifier.0.weight 126\n",
      "classifier.0.bias 126\n",
      "classifier.1.weight 504\n",
      "classifier.1.bias 4\n",
      "Total number of parameters: 1968754\n"
     ]
    },
    {
     "name": "stderr",
     "output_type": "stream",
     "text": [
      "C:\\Users\\jcwin\\AppData\\Local\\Packages\\PythonSoftwareFoundation.Python.3.11_qbz5n2kfra8p0\\LocalCache\\local-packages\\Python311\\site-packages\\torch\\optim\\lr_scheduler.py:60: UserWarning: The verbose parameter is deprecated. Please use get_last_lr() to access the learning rate.\n",
      "  warnings.warn(\n"
     ]
    },
    {
     "name": "stdout",
     "output_type": "stream",
     "text": [
      "Early stopping triggered.\n"
     ]
    },
    {
     "data": {
      "application/vnd.jupyter.widget-view+json": {
       "model_id": "cb2ce0630bc2478e970f1199209d3f4b",
       "version_major": 2,
       "version_minor": 0
      },
      "text/plain": [
       "VBox(children=(Label(value='0.072 MB of 0.072 MB uploaded\\r'), FloatProgress(value=1.0, max=1.0)))"
      ]
     },
     "metadata": {},
     "output_type": "display_data"
    },
    {
     "data": {
      "text/html": [
       "<style>\n",
       "    table.wandb td:nth-child(1) { padding: 0 10px; text-align: left ; width: auto;} td:nth-child(2) {text-align: left ; width: 100%}\n",
       "    .wandb-row { display: flex; flex-direction: row; flex-wrap: wrap; justify-content: flex-start; width: 100% }\n",
       "    .wandb-col { display: flex; flex-direction: column; flex-basis: 100%; flex: 1; padding: 10px; }\n",
       "    </style>\n",
       "<div class=\"wandb-row\"><div class=\"wandb-col\"><h3>Run history:</h3><br/><table class=\"wandb\"><tr><td>epoch</td><td>▁▁▁▂▂▂▂▃▃▃▃▃▃▄▄▄▄▄▄▅▅▅▅▅▆▆▆▆▆▆▆▇▇▇▇▇████</td></tr><tr><td>learning_rate</td><td>███████████████████▃▃▃▃▃▃▃▃▃▃▃▁▁▁▁▁▁▁▁▁▁</td></tr><tr><td>test_accuracy</td><td>▁▂▄▄▅▆▆▇▇▆▆▆▆█▆▆▆▆▆▆▆▆▇▇▇▆▆▇▆▇▇█▇▆█████▇</td></tr><tr><td>test_loss</td><td>█▄▃▂▂▁▂▁▁▁▂▂▂▂▄▄▄▄▄▄▅▅▅▅▅▅▆▆▆▆▆▆▆▆▆▆▆▆▆▇</td></tr><tr><td>train_accuracy</td><td>▁▄▅▅▅▆▆▆▆▇▇▇▇▇▇▇▇▇▇▇████████████████████</td></tr><tr><td>train_loss</td><td>█▅▄▃▃▃▃▃▃▂▂▂▂▂▂▂▂▂▁▁▁▁▁▁▁▁▁▁▁▁▁▁▁▁▁▁▁▁▁▁</td></tr><tr><td>val_accuracy</td><td>▁▃▆▇▆▇▇▆██▆▇▆█▇▇▇█▇█▇▇▇█▇▇▇▇██▇▇█▇▇▇▇▇▇▇</td></tr><tr><td>val_loss</td><td>█▆▃▂▂▁▁▁▂▁▁▂▁▂▂▂▂▂▄▄▄▄▅▄▅▅▅▅▅▆▅▅▆▆▆▆▆▆▇▇</td></tr></table><br/></div><div class=\"wandb-col\"><h3>Run summary:</h3><br/><table class=\"wandb\"><tr><td>classification_report</td><td>              precis...</td></tr><tr><td>epoch</td><td>61</td></tr><tr><td>learning_rate</td><td>3e-05</td></tr><tr><td>test_accuracy</td><td>0.70449</td></tr><tr><td>test_loss</td><td>0.98023</td></tr><tr><td>train_accuracy</td><td>0.8893</td></tr><tr><td>train_loss</td><td>0.22365</td></tr><tr><td>val_accuracy</td><td>0.71075</td></tr><tr><td>val_loss</td><td>0.98973</td></tr></table><br/></div></div>"
      ],
      "text/plain": [
       "<IPython.core.display.HTML object>"
      ]
     },
     "metadata": {},
     "output_type": "display_data"
    },
    {
     "data": {
      "text/html": [
       " View run <strong style=\"color:#cdcd00\">solar-pyramid-7</strong> at: <a href='https://wandb.ai/joaoc-university-of-southampton/lamost-mamba-test/runs/i8te3kch' target=\"_blank\">https://wandb.ai/joaoc-university-of-southampton/lamost-mamba-test/runs/i8te3kch</a><br/> View project at: <a href='https://wandb.ai/joaoc-university-of-southampton/lamost-mamba-test' target=\"_blank\">https://wandb.ai/joaoc-university-of-southampton/lamost-mamba-test</a><br/>Synced 5 W&B file(s), 0 media file(s), 124 artifact file(s) and 62 other file(s)"
      ],
      "text/plain": [
       "<IPython.core.display.HTML object>"
      ]
     },
     "metadata": {},
     "output_type": "display_data"
    },
    {
     "data": {
      "text/html": [
       "Find logs at: <code>.\\wandb\\run-20241127_144404-i8te3kch\\logs</code>"
      ],
      "text/plain": [
       "<IPython.core.display.HTML object>"
      ]
     },
     "metadata": {},
     "output_type": "display_data"
    }
   ],
   "source": [
    "# Define the model with your parameters\n",
    "d_model = 126 # Embedding dimension\n",
    "num_classes = 4  # Star classification categories\n",
    "\n",
    "# Define the training parameters\n",
    "num_epochs = 500\n",
    "lr = 1e-4\n",
    "patience = 50   \n",
    "depth = 10\n",
    "\n",
    "# Define the config dictionary object\n",
    "config = {\"num_classes\": num_classes, \"batch_size\": batch_size, \"lr\": lr, \"patience\": patience, \"num_epochs\": num_epochs, \"d_model\": d_model, \"depth\": depth}\n",
    "\n",
    "# Initialize WandB project\n",
    "wandb.init(project=\"lamost-mamba-test\", entity=\"joaoc-university-of-southampton\", config=config)\n",
    "# Initialize and train the model\n",
    "# Train the model using your `train_model_vit` or an adjusted training loop\n",
    "model_mamba = StarClassifierMAMBA(d_model=d_model, num_classes=num_classes, input_dim=3748, n_layers=depth)\n",
    "print(model_mamba)\n",
    "# print number of parameters per layer\n",
    "for name, param in model_mamba.named_parameters():\n",
    "    print(name, param.numel())\n",
    "print(\"Total number of parameters:\", sum(p.numel() for p in model_mamba.parameters() if p.requires_grad))\n",
    "\n",
    "# Move the model to device\n",
    "device = 'cuda' if torch.cuda.is_available() else 'cpu'\n",
    "model_mamba = model_mamba.to(device)\n",
    "\n",
    "# Train the model using your `train_model_vit` or an adjusted training loop\n",
    "trained_model = train_model_mamba(\n",
    "    model=model_mamba,\n",
    "    train_loader=train_loader,\n",
    "    val_loader=val_loader,\n",
    "    test_loader=test_loader,\n",
    "    num_epochs=num_epochs,\n",
    "    lr=lr,\n",
    "    max_patience=patience,\n",
    "    device=device\n",
    ")\n",
    "# Save the model and finish WandB session\n",
    "wandb.finish()"
   ]
  }
 ],
 "metadata": {
  "kernelspec": {
   "display_name": "Python 3",
   "language": "python",
   "name": "python3"
  },
  "language_info": {
   "codemirror_mode": {
    "name": "ipython",
    "version": 3
   },
   "file_extension": ".py",
   "mimetype": "text/x-python",
   "name": "python",
   "nbconvert_exporter": "python",
   "pygments_lexer": "ipython3",
   "version": "3.11.9"
  }
 },
 "nbformat": 4,
 "nbformat_minor": 2
}
