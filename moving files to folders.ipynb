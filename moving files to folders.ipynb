{
 "cells": [
  {
   "cell_type": "code",
   "execution_count": 1,
   "metadata": {},
   "outputs": [],
   "source": [
    "import os\n",
    "import shutil\n",
    "import random\n",
    "from concurrent.futures import ThreadPoolExecutor\n",
    "\n",
    "def move_file(file, source_dir, dest_dir):\n",
    "    shutil.move(os.path.join(source_dir, file), os.path.join(dest_dir, file))\n",
    "\n",
    "def separate_fits_spectra(source_dir, validation_dir, training_dir, validation_count=400):\n",
    "    \"\"\"\n",
    "    Separates FITS spectra into validation and training sets.\n",
    "\n",
    "    Parameters:\n",
    "    source_dir (str): Path to the source directory containing FITS spectra.\n",
    "    validation_dir (str): Path to the directory where validation set will be stored.\n",
    "    training_dir (str): Path to the directory where training set will be stored.\n",
    "    validation_count (int): Number of files to be used for the validation set. Default is 400.\n",
    "    \"\"\"\n",
    "    # Create the destination directories if they don't exist\n",
    "    os.makedirs(validation_dir, exist_ok=True)\n",
    "    os.makedirs(training_dir, exist_ok=True)\n",
    "\n",
    "    # Get a list of all fits files in the source directory\n",
    "    fits_files = [f for f in os.listdir(source_dir) if f.endswith('.fits')]\n",
    "\n",
    "    # Shuffle the list of fits files to ensure randomness\n",
    "    random.shuffle(fits_files)\n",
    "\n",
    "    # Separate files for the validation set\n",
    "    validation_files = fits_files[:validation_count]\n",
    "\n",
    "    # The remaining files will be used for the training set\n",
    "    training_files = fits_files[validation_count:]\n",
    "\n",
    "    # Use ThreadPoolExecutor to move files concurrently\n",
    "    with ThreadPoolExecutor() as executor:\n",
    "        # Move the validation files to the validation directory\n",
    "        executor.map(move_file, validation_files, [source_dir]*len(validation_files), [validation_dir]*len(validation_files))\n",
    "        \n",
    "        # Move the training files to the training directory\n",
    "        executor.map(move_file, training_files, [source_dir]*len(training_files), [training_dir]*len(training_files))\n",
    "\n",
    "    print(\"Files have been successfully separated into validation and training sets.\")\n",
    "\n"
   ]
  },
  {
   "cell_type": "code",
   "execution_count": 2,
   "metadata": {},
   "outputs": [],
   "source": [
    "import os\n",
    "import shutil\n",
    "import random\n",
    "from concurrent.futures import ThreadPoolExecutor\n",
    "from tqdm import tqdm\n",
    "\n",
    "def move_file(file, source_dir, dest_dir):\n",
    "    shutil.move(os.path.join(source_dir, file), os.path.join(dest_dir, file))\n",
    "\n",
    "def separate_fits_spectra(source_dir, validation_dir, training_dir, validation_count=400):\n",
    "    \"\"\"\n",
    "    Separates FITS spectra into validation and training sets.\n",
    "\n",
    "    Parameters:\n",
    "    source_dir (str): Path to the source directory containing FITS spectra.\n",
    "    validation_dir (str): Path to the directory where validation set will be stored.\n",
    "    training_dir (str): Path to the directory where training set will be stored.\n",
    "    validation_count (int): Number of files to be used for the validation set. Default is 400.\n",
    "    \"\"\"\n",
    "    # Create the destination directories if they don't exist\n",
    "    os.makedirs(validation_dir, exist_ok=True)\n",
    "    os.makedirs(training_dir, exist_ok=True)\n",
    "\n",
    "    # Get a list of all fits files in the source directory\n",
    "    fits_files = [f for f in os.listdir(source_dir) if f.endswith('.fits')]\n",
    "\n",
    "    # Shuffle the list of fits files to ensure randomness\n",
    "    random.shuffle(fits_files)\n",
    "\n",
    "    # Separate files for the validation set\n",
    "    validation_files = fits_files[:validation_count]\n",
    "\n",
    "    # The remaining files will be used for the training set\n",
    "    training_files = fits_files[validation_count:]\n",
    "\n",
    "    # Use ThreadPoolExecutor to move files concurrently with tqdm progress bar\n",
    "    with ThreadPoolExecutor() as executor:\n",
    "        # Move the validation files to the validation directory\n",
    "        list(tqdm(executor.map(move_file, validation_files, [source_dir]*len(validation_files), [validation_dir]*len(validation_files)), total=len(validation_files), desc=\"Moving validation files\"))\n",
    "        \n",
    "        # Move the training files to the training directory\n",
    "        list(tqdm(executor.map(move_file, training_files, [source_dir]*len(training_files), [training_dir]*len(training_files)), total=len(training_files), desc=\"Moving training files\"))\n",
    "\n",
    "    print(\"Files have been successfully separated into validation and training sets.\")\n",
    "\n",
    "# Example usage:\n",
    "# separate_fits_spectra('path_to_your_fits_spectra_folder', 'path_to_validation_set_folder', 'path_to_training_set_folder')\n"
   ]
  },
  {
   "cell_type": "code",
   "execution_count": 11,
   "metadata": {},
   "outputs": [],
   "source": [
    "import os\n",
    "import shutil\n",
    "import random\n",
    "from concurrent.futures import ThreadPoolExecutor\n",
    "from tqdm import tqdm\n",
    "\n",
    "def move_file(file, source_dir, dest_dir):\n",
    "    try:\n",
    "        shutil.move(os.path.join(source_dir, file), os.path.join(dest_dir, file))\n",
    "        print(f\"Moved file: {file}\")\n",
    "    except Exception as e:\n",
    "        print(f\"Error moving file {file}: {e}\")\n",
    "\n",
    "def separate_fits_spectra(source_dir, validation_dir, training_dir, validation_count=400):\n",
    "    \"\"\"\n",
    "    Separates FITS spectra into validation and training sets.\n",
    "\n",
    "    Parameters:\n",
    "    source_dir (str): Path to the source directory containing FITS spectra.\n",
    "    validation_dir (str): Path to the directory where validation set will be stored.\n",
    "    training_dir (str): Path to the directory where training set will be stored.\n",
    "    validation_count (int): Number of files to be used for the validation set. Default is 400.\n",
    "    \"\"\"\n",
    "    # Create the destination directories if they don't exist\n",
    "    os.makedirs(validation_dir, exist_ok=True)\n",
    "    os.makedirs(training_dir, exist_ok=True)\n",
    "\n",
    "    # Get a list of all fits files in the source directory\n",
    "    fits_files = [f for f in os.listdir(source_dir) ]#if f.endswith('.fits')]\n",
    "    print(f\"Found {len(fits_files)} FITS files in the source directory.\")\n",
    "\n",
    "    # Shuffle the list of fits files to ensure randomness\n",
    "    random.shuffle(fits_files)\n",
    "\n",
    "    # Separate files for the validation set\n",
    "    validation_files = fits_files[:validation_count]\n",
    "    print(f\"Selected {len(validation_files)} files for the validation set.\")\n",
    "\n",
    "    # The remaining files will be used for the training set\n",
    "    training_files = fits_files[validation_count:]\n",
    "    print(f\"Selected {len(training_files)} files for the training set.\")\n",
    "\n",
    "    # Use ThreadPoolExecutor to move files concurrently with tqdm progress bar\n",
    "    with ThreadPoolExecutor() as executor:\n",
    "        # Move the validation files to the validation directory\n",
    "        list(tqdm(executor.map(move_file, validation_files, [source_dir]*len(validation_files), [validation_dir]*len(validation_files)), total=len(validation_files), desc=\"Moving validation files\"))\n",
    "        \n",
    "        # Move the training files to the training directory\n",
    "        list(tqdm(executor.map(move_file, training_files, [source_dir]*len(training_files), [training_dir]*len(training_files)), total=len(training_files), desc=\"Moving training files\"))\n",
    "\n",
    "    print(\"Files have been successfully separated into validation and training sets.\")\n",
    "\n",
    "# Example usage:\n",
    "# separate_fits_spectra('path_to_your_fits_spectra_folder', 'path_to_validation_set_folder', 'path_to_training_set_folder')\n"
   ]
  },
  {
   "cell_type": "code",
   "execution_count": 4,
   "metadata": {},
   "outputs": [
    {
     "ename": "SyntaxError",
     "evalue": "(unicode error) 'unicodeescape' codec can't decode bytes in position 15-17: truncated \\UXXXXXXXX escape (2470976859.py, line 2)",
     "output_type": "error",
     "traceback": [
      "\u001b[0;36m  Cell \u001b[0;32mIn[4], line 2\u001b[0;36m\u001b[0m\n\u001b[0;31m    separate_fits_spectra('\\\\wsl.localhost\\Ubuntu\\home\\jcwind\\Star Classifier\\Star-Classifier\\gal_spectra', '\\\\wsl.localhost\\Ubuntu\\home\\jcwind\\Star Classifier\\Star-Classifier\\gal_spectravalidation_set', '\\\\wsl.localhost\\Ubuntu\\home\\jcwind\\Star Classifier\\Star-Classifier\\gal_spectra/training_set')\u001b[0m\n\u001b[0m                                                                                                          ^\u001b[0m\n\u001b[0;31mSyntaxError\u001b[0m\u001b[0;31m:\u001b[0m (unicode error) 'unicodeescape' codec can't decode bytes in position 15-17: truncated \\UXXXXXXXX escape\n"
     ]
    }
   ],
   "source": [
    "# Example usage:\n",
    "separate_fits_spectra('\\\\wsl.localhost\\Ubuntu\\home\\jcwind\\Star Classifier\\Star-Classifier\\gal_spectra', '\\\\wsl.localhost\\Ubuntu\\home\\jcwind\\Star Classifier\\Star-Classifier\\gal_spectravalidation_set', '\\\\wsl.localhost\\Ubuntu\\home\\jcwind\\Star Classifier\\Star-Classifier\\gal_spectra/training_set')"
   ]
  },
  {
   "cell_type": "code",
   "execution_count": 19,
   "metadata": {},
   "outputs": [
    {
     "name": "stdout",
     "output_type": "stream",
     "text": [
      "Found 0 FITS files in the source directory.\n",
      "Selected 0 files for the validation set.\n",
      "Selected 0 files for the training set.\n"
     ]
    },
    {
     "name": "stderr",
     "output_type": "stream",
     "text": [
      "Moving validation files: 0it [00:00, ?it/s]\n",
      "Moving training files: 0it [00:00, ?it/s]\n"
     ]
    },
    {
     "name": "stdout",
     "output_type": "stream",
     "text": [
      "Files have been successfully separated into validation and training sets.\n",
      "Found 0 FITS files in the source directory.\n",
      "Selected 0 files for the validation set.\n",
      "Selected 0 files for the training set.\n"
     ]
    },
    {
     "name": "stderr",
     "output_type": "stream",
     "text": [
      "Moving validation files: 0it [00:00, ?it/s]\n",
      "Moving training files: 0it [00:00, ?it/s]\n"
     ]
    },
    {
     "name": "stdout",
     "output_type": "stream",
     "text": [
      "Files have been successfully separated into validation and training sets.\n",
      "Found 0 FITS files in the source directory.\n",
      "Selected 0 files for the validation set.\n",
      "Selected 0 files for the training set.\n"
     ]
    },
    {
     "name": "stderr",
     "output_type": "stream",
     "text": [
      "Moving validation files: 0it [00:00, ?it/s]\n",
      "Moving training files: 0it [00:00, ?it/s]\n"
     ]
    },
    {
     "name": "stdout",
     "output_type": "stream",
     "text": [
      "Files have been successfully separated into validation and training sets.\n",
      "Found 0 FITS files in the source directory.\n",
      "Selected 0 files for the validation set.\n",
      "Selected 0 files for the training set.\n"
     ]
    },
    {
     "name": "stderr",
     "output_type": "stream",
     "text": [
      "Moving validation files: 0it [00:00, ?it/s]\n",
      "Moving training files: 0it [00:00, ?it/s]"
     ]
    },
    {
     "name": "stdout",
     "output_type": "stream",
     "text": [
      "Files have been successfully separated into validation and training sets.\n"
     ]
    },
    {
     "name": "stderr",
     "output_type": "stream",
     "text": [
      "\n"
     ]
    }
   ],
   "source": [
    "separate_fits_spectra('/home/jcwind/Star Classifier/Star-Classifier/gal_spectra', \n",
    "                      '/home/jcwind/Star Classifier/Star-Classifier/validation_set/gal_spectra', \n",
    "                      '/home/jcwind/Star Classifier/Star-Classifier/training_set/gal_spectra')\n",
    "separate_fits_spectra('/home/jcwind/Star Classifier/Star-Classifier/star_spectra', \n",
    "                        '/home/jcwind/Star Classifier/Star-Classifier/validation_set/star_spectra', \n",
    "                        '/home/jcwind/Star Classifier/Star-Classifier/training_set/star_spectra')\n",
    "separate_fits_spectra('/home/jcwind/Star Classifier/Star-Classifier/agn_spectra',\n",
    "                        '/home/jcwind/Star Classifier/Star-Classifier/validation_set/agn_spectra',\n",
    "                        '/home/jcwind/Star Classifier/Star-Classifier/training_set/agn_spectra')\n",
    "separate_fits_spectra('/home/jcwind/Star Classifier/Star-Classifier/bin_spectra',\n",
    "                        '/home/jcwind/Star Classifier/Star-Classifier/validation_set/bin_spectra',\n",
    "                        '/home/jcwind/Star Classifier/Star-Classifier/training_set/bin_spectra')\n",
    "\n"
   ]
  }
 ],
 "metadata": {
  "kernelspec": {
   "display_name": "Python 3",
   "language": "python",
   "name": "python3"
  },
  "language_info": {
   "codemirror_mode": {
    "name": "ipython",
    "version": 3
   },
   "file_extension": ".py",
   "mimetype": "text/x-python",
   "name": "python",
   "nbconvert_exporter": "python",
   "pygments_lexer": "ipython3",
   "version": "3.10.12"
  }
 },
 "nbformat": 4,
 "nbformat_minor": 2
}
