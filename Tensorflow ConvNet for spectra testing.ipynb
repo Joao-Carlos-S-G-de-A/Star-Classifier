{
 "cells": [
  {
   "cell_type": "markdown",
   "metadata": {},
   "source": [
    "# Changing the spectra per epoch"
   ]
  },
  {
   "cell_type": "code",
   "execution_count": 37,
   "metadata": {},
   "outputs": [],
   "source": [
    "import os\n",
    "import numpy as np\n",
    "from astropy.io import fits\n",
    "from astropy import units as u\n",
    "from matplotlib import pyplot as plt\n",
    "from astropy.visualization import quantity_support\n",
    "from tqdm import tqdm\n",
    "import pandas as pd\n",
    "import tensorflow as tf\n",
    "import os\n",
    "from concurrent.futures import ThreadPoolExecutor\n",
    "import time\n",
    "import gc\n",
    "import seaborn as sns\n",
    "from sklearn.metrics import confusion_matrix, classification_report\n",
    "import random\n",
    "from tensorflow.keras.callbacks import EarlyStopping\n",
    "\n",
    "\n"
   ]
  },
  {
   "cell_type": "code",
   "execution_count": 9,
   "metadata": {},
   "outputs": [],
   "source": [
    "\n",
    "def generate_file_list(limit_per_dir = 10000):\n",
    "    spectra_dirs = {\n",
    "        \"gal_spectra\": 0,  # Label 0 for galaxies\n",
    "        \"star_spectra\": 1,  # Label 1 for stars\n",
    "        \"agn_spectra\": 2,   # Label 2 for AGNs\n",
    "        \"bin_spectra\": 3    # Label 3 for binary stars\n",
    "    }\n",
    "\n",
    "    file_list = []\n",
    "    labels = []\n",
    "\n",
    "    print(\"Gathering FITS files...\")\n",
    "    for dir_name, label in spectra_dirs.items():\n",
    "        dir_path = os.path.join(os.getcwd(), dir_name)\n",
    "        dir_files = []\n",
    "\n",
    "        # Collect all files in the directory\n",
    "        for root, dirs, files in os.walk(dir_path):\n",
    "            for file in files:\n",
    "                file_path = os.path.join(root, file)\n",
    "                dir_files.append(file_path)\n",
    "        \n",
    "        # Randomly select files up to the limit\n",
    "        if len(dir_files) > limit_per_dir:\n",
    "            selected_files = random.sample(dir_files, limit_per_dir)\n",
    "        else:\n",
    "            selected_files = dir_files\n",
    "        \n",
    "        # Append selected files and their labels\n",
    "        file_list.extend(selected_files)\n",
    "        labels.extend([label] * len(selected_files))\n",
    "\n",
    "    print(f\"Total spectra files collected: {len(file_list)}\")\n",
    "    return file_list, labels\n",
    "\n",
    "\n",
    "\n",
    "def load_spectra(file_list, known_rows=None):\n",
    "    spectra_data = []\n",
    "    if known_rows is None:\n",
    "        known_rows = np.inf\n",
    "        for file_path in tqdm(file_list, desc=\"Finding min rows\", unit=\"file\"):\n",
    "            try:\n",
    "                with fits.open(file_path) as hdul:\n",
    "                    spectra = hdul[0].data[0]\n",
    "                    known_rows = min(known_rows, len(spectra))\n",
    "            except Exception as e:\n",
    "                print(f\"Error reading {file_path}: {e}\")\n",
    "\n",
    "    print(f\"\\nLoading spectra (truncated to {known_rows} rows)...\")\n",
    "    for file_path in tqdm(file_list, desc=\"Loading spectra\", unit=\"file\"):\n",
    "        try:\n",
    "            with fits.open(file_path) as hdul:\n",
    "                spectra = hdul[0].data[0][:known_rows]\n",
    "                normalized_spectra = normalize_spectra(spectra)\n",
    "                spectra_data.append(normalized_spectra)\n",
    "        except Exception as e:\n",
    "            print(f\"Error loading {file_path}: {e}\")\n",
    "\n",
    "    spectra_data = np.array(spectra_data)\n",
    "    return spectra_data\n",
    "\n",
    "def create_dataset(file_list, labels, batch_size=32):\n",
    "    dataset = tf.data.Dataset.from_tensor_slices((file_list, labels))\n",
    "\n",
    "    def load_and_parse(file_path, label):\n",
    "        spectra = tf.py_function(load_spectra, [file_path], tf.float32)\n",
    "        return spectra, label\n",
    "\n",
    "    dataset = dataset.map(load_and_parse, num_parallel_calls=tf.data.AUTOTUNE)\n",
    "    dataset = dataset.shuffle(buffer_size=len(file_list)).batch(batch_size).prefetch(tf.data.AUTOTUNE)\n",
    "\n",
    "    return dataset\n",
    "def split_dataset(file_list, labels, val_split=0.2):\n",
    "    total_size = len(file_list)\n",
    "    val_size = int(val_split * total_size)\n",
    "    \n",
    "    indices = np.random.permutation(total_size)\n",
    "    train_indices, val_indices = indices[val_size:], indices[:val_size]\n",
    "    \n",
    "    train_files = [file_list[i] for i in train_indices]\n",
    "    train_labels = [labels[i] for i in train_indices]\n",
    "    val_files = [file_list[i] for i in val_indices]\n",
    "    val_labels = [labels[i] for i in val_indices]\n",
    "    \n",
    "    return train_files, train_labels, val_files, val_labels\n",
    "\n",
    "def normalize_spectra(spectra):\n",
    "    \"\"\"Normalize spectra by dividing by the mean and applying the natural logarithm.\"\"\"\n",
    "    mean_value = np.mean(spectra)\n",
    "    std_value = np.std(spectra)\n",
    "    min_value = np.min(spectra)\n",
    "    if std_value == 0:\n",
    "        print(\"Warning: Standard deviation is zero, cannot normalize spectra.\")\n",
    "        return spectra  # Avoid division by zero\n",
    "    normalized_spectra = ((spectra - min_value  + 0.01) / (mean_value - min_value + 0.01)) - 1 # min_value is added to avoid negative values\n",
    "    return normalized_spectra\n",
    "\n",
    "def load_single_spectrum(file_path, target_length=len_):\n",
    "    \"\"\"Load and normalize a single spectrum from a FITS file, truncating or padding to target_length.\"\"\"\n",
    "    try:\n",
    "        with fits.open(file_path) as hdul:\n",
    "            spectra = hdul[0].data[0]\n",
    "            spectra = normalize_spectra(spectra)\n",
    "            \n",
    "            # Truncate or pad spectra to ensure uniform length\n",
    "            if len(spectra) > target_length:\n",
    "                spectra = spectra[:target_length]  # Truncate\n",
    "            else:\n",
    "                spectra = np.pad(spectra, (0, max(0, target_length - len(spectra))), mode='constant')  # Pad with zeros\n",
    "            \n",
    "            return spectra\n",
    "    except Exception as e:\n",
    "        print(f\"Error loading {file_path}: {e}\")\n",
    "        return None  # Return None if there's an error\n",
    "\n",
    "def load_all_spectra_parallel(file_list, target_length=3748, max_workers_=512):\n",
    "    \"\"\"Load and normalize spectra in parallel using ThreadPoolExecutor.\"\"\"\n",
    "    spectra_data = []\n",
    "    \n",
    "    with ThreadPoolExecutor(max_workers=max_workers_) as executor:\n",
    "        # Use ThreadPoolExecutor to parallelize the loading of FITS files\n",
    "        results = list(tqdm(executor.map(lambda f: load_single_spectrum(f, target_length), file_list), \n",
    "                            total=len(file_list), desc=\"Loading spectra\"))\n",
    "\n",
    "    # Filter out None results (in case any files failed to load)\n",
    "    spectra_data = [spectrum for spectrum in results if spectrum is not None]\n",
    "\n",
    "    return np.array(spectra_data)"
   ]
  },
  {
   "cell_type": "markdown",
   "metadata": {},
   "source": [
    "## Convnet function"
   ]
  },
  {
   "cell_type": "code",
   "execution_count": 4,
   "metadata": {},
   "outputs": [],
   "source": [
    "def create_convnet(input_shape, num_classes, \n",
    "                   num_filters=[128, 128, 128, 128, 128, 128, 128, 128], \n",
    "                   kernel_size=(9,),\n",
    "                   dense_units=128, \n",
    "                   dropout_rate=0.5,\n",
    "                   padding='same'):\n",
    "    model = tf.keras.models.Sequential()\n",
    "    \n",
    "    # First convolutional layer\n",
    "    model.add(tf.keras.layers.Conv1D(filters=num_filters[0], kernel_size=kernel_size, \n",
    "                                     activation='relu', input_shape=input_shape, padding=padding))\n",
    "    model.add(tf.keras.layers.MaxPooling1D(pool_size=2))\n",
    "    \n",
    "    # Additional convolutional layers\n",
    "    for filters in num_filters[1:]:\n",
    "        model.add(tf.keras.layers.Conv1D(filters=filters, kernel_size=kernel_size, \n",
    "                                         activation='relu', padding=padding))\n",
    "        model.add(tf.keras.layers.MaxPooling1D(pool_size=2))\n",
    "    \n",
    "    # Flatten the output and add dense layers\n",
    "    model.add(tf.keras.layers.Flatten())\n",
    "    model.add(tf.keras.layers.Dense(units=dense_units, activation='relu'))\n",
    "    model.add(tf.keras.layers.Dropout(rate=dropout_rate))\n",
    "    \n",
    "    # Output layer\n",
    "    model.add(tf.keras.layers.Dense(units=num_classes, activation='softmax'))\n",
    "\n",
    "    # Optimizer and loss function\n",
    "    optimizer_ = tf.keras.optimizers.AdamW(learning_rate=1e-4)\n",
    "\n",
    "    # Compile the model\n",
    "    model.compile(optimizer=optimizer_, \n",
    "                  loss='sparse_categorical_crossentropy', \n",
    "                  metrics=['accuracy'])\n",
    "    \n",
    "    return model"
   ]
  },
  {
   "cell_type": "code",
   "execution_count": 7,
   "metadata": {},
   "outputs": [
    {
     "name": "stdout",
     "output_type": "stream",
     "text": [
      "Gathering FITS files...\n",
      "Total spectra files collected: 4\n"
     ]
    },
    {
     "name": "stderr",
     "output_type": "stream",
     "text": [
      "/home/jcwind/.local/lib/python3.10/site-packages/keras/src/layers/convolutional/base_conv.py:107: UserWarning: Do not pass an `input_shape`/`input_dim` argument to a layer. When using Sequential models, prefer using an `Input(shape)` object as the first layer in the model instead.\n",
      "  super().__init__(activity_regularizer=activity_regularizer, **kwargs)\n"
     ]
    },
    {
     "data": {
      "text/html": [
       "<pre style=\"white-space:pre;overflow-x:auto;line-height:normal;font-family:Menlo,'DejaVu Sans Mono',consolas,'Courier New',monospace\"><span style=\"font-weight: bold\">Model: \"sequential_1\"</span>\n",
       "</pre>\n"
      ],
      "text/plain": [
       "\u001b[1mModel: \"sequential_1\"\u001b[0m\n"
      ]
     },
     "metadata": {},
     "output_type": "display_data"
    },
    {
     "data": {
      "text/html": [
       "<pre style=\"white-space:pre;overflow-x:auto;line-height:normal;font-family:Menlo,'DejaVu Sans Mono',consolas,'Courier New',monospace\">┏━━━━━━━━━━━━━━━━━━━━━━━━━━━━━━━━━┳━━━━━━━━━━━━━━━━━━━━━━━━┳━━━━━━━━━━━━━━━┓\n",
       "┃<span style=\"font-weight: bold\"> Layer (type)                    </span>┃<span style=\"font-weight: bold\"> Output Shape           </span>┃<span style=\"font-weight: bold\">       Param # </span>┃\n",
       "┡━━━━━━━━━━━━━━━━━━━━━━━━━━━━━━━━━╇━━━━━━━━━━━━━━━━━━━━━━━━╇━━━━━━━━━━━━━━━┩\n",
       "│ conv1d_8 (<span style=\"color: #0087ff; text-decoration-color: #0087ff\">Conv1D</span>)               │ (<span style=\"color: #00d7ff; text-decoration-color: #00d7ff\">None</span>, <span style=\"color: #00af00; text-decoration-color: #00af00\">3738</span>, <span style=\"color: #00af00; text-decoration-color: #00af00\">128</span>)      │         <span style=\"color: #00af00; text-decoration-color: #00af00\">1,280</span> │\n",
       "├─────────────────────────────────┼────────────────────────┼───────────────┤\n",
       "│ max_pooling1d_8 (<span style=\"color: #0087ff; text-decoration-color: #0087ff\">MaxPooling1D</span>)  │ (<span style=\"color: #00d7ff; text-decoration-color: #00d7ff\">None</span>, <span style=\"color: #00af00; text-decoration-color: #00af00\">1869</span>, <span style=\"color: #00af00; text-decoration-color: #00af00\">128</span>)      │             <span style=\"color: #00af00; text-decoration-color: #00af00\">0</span> │\n",
       "├─────────────────────────────────┼────────────────────────┼───────────────┤\n",
       "│ conv1d_9 (<span style=\"color: #0087ff; text-decoration-color: #0087ff\">Conv1D</span>)               │ (<span style=\"color: #00d7ff; text-decoration-color: #00d7ff\">None</span>, <span style=\"color: #00af00; text-decoration-color: #00af00\">1869</span>, <span style=\"color: #00af00; text-decoration-color: #00af00\">128</span>)      │       <span style=\"color: #00af00; text-decoration-color: #00af00\">147,584</span> │\n",
       "├─────────────────────────────────┼────────────────────────┼───────────────┤\n",
       "│ max_pooling1d_9 (<span style=\"color: #0087ff; text-decoration-color: #0087ff\">MaxPooling1D</span>)  │ (<span style=\"color: #00d7ff; text-decoration-color: #00d7ff\">None</span>, <span style=\"color: #00af00; text-decoration-color: #00af00\">934</span>, <span style=\"color: #00af00; text-decoration-color: #00af00\">128</span>)       │             <span style=\"color: #00af00; text-decoration-color: #00af00\">0</span> │\n",
       "├─────────────────────────────────┼────────────────────────┼───────────────┤\n",
       "│ conv1d_10 (<span style=\"color: #0087ff; text-decoration-color: #0087ff\">Conv1D</span>)              │ (<span style=\"color: #00d7ff; text-decoration-color: #00d7ff\">None</span>, <span style=\"color: #00af00; text-decoration-color: #00af00\">934</span>, <span style=\"color: #00af00; text-decoration-color: #00af00\">128</span>)       │       <span style=\"color: #00af00; text-decoration-color: #00af00\">147,584</span> │\n",
       "├─────────────────────────────────┼────────────────────────┼───────────────┤\n",
       "│ max_pooling1d_10 (<span style=\"color: #0087ff; text-decoration-color: #0087ff\">MaxPooling1D</span>) │ (<span style=\"color: #00d7ff; text-decoration-color: #00d7ff\">None</span>, <span style=\"color: #00af00; text-decoration-color: #00af00\">467</span>, <span style=\"color: #00af00; text-decoration-color: #00af00\">128</span>)       │             <span style=\"color: #00af00; text-decoration-color: #00af00\">0</span> │\n",
       "├─────────────────────────────────┼────────────────────────┼───────────────┤\n",
       "│ conv1d_11 (<span style=\"color: #0087ff; text-decoration-color: #0087ff\">Conv1D</span>)              │ (<span style=\"color: #00d7ff; text-decoration-color: #00d7ff\">None</span>, <span style=\"color: #00af00; text-decoration-color: #00af00\">467</span>, <span style=\"color: #00af00; text-decoration-color: #00af00\">128</span>)       │       <span style=\"color: #00af00; text-decoration-color: #00af00\">147,584</span> │\n",
       "├─────────────────────────────────┼────────────────────────┼───────────────┤\n",
       "│ max_pooling1d_11 (<span style=\"color: #0087ff; text-decoration-color: #0087ff\">MaxPooling1D</span>) │ (<span style=\"color: #00d7ff; text-decoration-color: #00d7ff\">None</span>, <span style=\"color: #00af00; text-decoration-color: #00af00\">233</span>, <span style=\"color: #00af00; text-decoration-color: #00af00\">128</span>)       │             <span style=\"color: #00af00; text-decoration-color: #00af00\">0</span> │\n",
       "├─────────────────────────────────┼────────────────────────┼───────────────┤\n",
       "│ conv1d_12 (<span style=\"color: #0087ff; text-decoration-color: #0087ff\">Conv1D</span>)              │ (<span style=\"color: #00d7ff; text-decoration-color: #00d7ff\">None</span>, <span style=\"color: #00af00; text-decoration-color: #00af00\">233</span>, <span style=\"color: #00af00; text-decoration-color: #00af00\">128</span>)       │       <span style=\"color: #00af00; text-decoration-color: #00af00\">147,584</span> │\n",
       "├─────────────────────────────────┼────────────────────────┼───────────────┤\n",
       "│ max_pooling1d_12 (<span style=\"color: #0087ff; text-decoration-color: #0087ff\">MaxPooling1D</span>) │ (<span style=\"color: #00d7ff; text-decoration-color: #00d7ff\">None</span>, <span style=\"color: #00af00; text-decoration-color: #00af00\">116</span>, <span style=\"color: #00af00; text-decoration-color: #00af00\">128</span>)       │             <span style=\"color: #00af00; text-decoration-color: #00af00\">0</span> │\n",
       "├─────────────────────────────────┼────────────────────────┼───────────────┤\n",
       "│ conv1d_13 (<span style=\"color: #0087ff; text-decoration-color: #0087ff\">Conv1D</span>)              │ (<span style=\"color: #00d7ff; text-decoration-color: #00d7ff\">None</span>, <span style=\"color: #00af00; text-decoration-color: #00af00\">116</span>, <span style=\"color: #00af00; text-decoration-color: #00af00\">128</span>)       │       <span style=\"color: #00af00; text-decoration-color: #00af00\">147,584</span> │\n",
       "├─────────────────────────────────┼────────────────────────┼───────────────┤\n",
       "│ max_pooling1d_13 (<span style=\"color: #0087ff; text-decoration-color: #0087ff\">MaxPooling1D</span>) │ (<span style=\"color: #00d7ff; text-decoration-color: #00d7ff\">None</span>, <span style=\"color: #00af00; text-decoration-color: #00af00\">58</span>, <span style=\"color: #00af00; text-decoration-color: #00af00\">128</span>)        │             <span style=\"color: #00af00; text-decoration-color: #00af00\">0</span> │\n",
       "├─────────────────────────────────┼────────────────────────┼───────────────┤\n",
       "│ conv1d_14 (<span style=\"color: #0087ff; text-decoration-color: #0087ff\">Conv1D</span>)              │ (<span style=\"color: #00d7ff; text-decoration-color: #00d7ff\">None</span>, <span style=\"color: #00af00; text-decoration-color: #00af00\">58</span>, <span style=\"color: #00af00; text-decoration-color: #00af00\">128</span>)        │       <span style=\"color: #00af00; text-decoration-color: #00af00\">147,584</span> │\n",
       "├─────────────────────────────────┼────────────────────────┼───────────────┤\n",
       "│ max_pooling1d_14 (<span style=\"color: #0087ff; text-decoration-color: #0087ff\">MaxPooling1D</span>) │ (<span style=\"color: #00d7ff; text-decoration-color: #00d7ff\">None</span>, <span style=\"color: #00af00; text-decoration-color: #00af00\">29</span>, <span style=\"color: #00af00; text-decoration-color: #00af00\">128</span>)        │             <span style=\"color: #00af00; text-decoration-color: #00af00\">0</span> │\n",
       "├─────────────────────────────────┼────────────────────────┼───────────────┤\n",
       "│ conv1d_15 (<span style=\"color: #0087ff; text-decoration-color: #0087ff\">Conv1D</span>)              │ (<span style=\"color: #00d7ff; text-decoration-color: #00d7ff\">None</span>, <span style=\"color: #00af00; text-decoration-color: #00af00\">29</span>, <span style=\"color: #00af00; text-decoration-color: #00af00\">128</span>)        │       <span style=\"color: #00af00; text-decoration-color: #00af00\">147,584</span> │\n",
       "├─────────────────────────────────┼────────────────────────┼───────────────┤\n",
       "│ max_pooling1d_15 (<span style=\"color: #0087ff; text-decoration-color: #0087ff\">MaxPooling1D</span>) │ (<span style=\"color: #00d7ff; text-decoration-color: #00d7ff\">None</span>, <span style=\"color: #00af00; text-decoration-color: #00af00\">14</span>, <span style=\"color: #00af00; text-decoration-color: #00af00\">128</span>)        │             <span style=\"color: #00af00; text-decoration-color: #00af00\">0</span> │\n",
       "├─────────────────────────────────┼────────────────────────┼───────────────┤\n",
       "│ flatten_1 (<span style=\"color: #0087ff; text-decoration-color: #0087ff\">Flatten</span>)             │ (<span style=\"color: #00d7ff; text-decoration-color: #00d7ff\">None</span>, <span style=\"color: #00af00; text-decoration-color: #00af00\">1792</span>)           │             <span style=\"color: #00af00; text-decoration-color: #00af00\">0</span> │\n",
       "├─────────────────────────────────┼────────────────────────┼───────────────┤\n",
       "│ dense_2 (<span style=\"color: #0087ff; text-decoration-color: #0087ff\">Dense</span>)                 │ (<span style=\"color: #00d7ff; text-decoration-color: #00d7ff\">None</span>, <span style=\"color: #00af00; text-decoration-color: #00af00\">128</span>)            │       <span style=\"color: #00af00; text-decoration-color: #00af00\">229,504</span> │\n",
       "├─────────────────────────────────┼────────────────────────┼───────────────┤\n",
       "│ dropout_1 (<span style=\"color: #0087ff; text-decoration-color: #0087ff\">Dropout</span>)             │ (<span style=\"color: #00d7ff; text-decoration-color: #00d7ff\">None</span>, <span style=\"color: #00af00; text-decoration-color: #00af00\">128</span>)            │             <span style=\"color: #00af00; text-decoration-color: #00af00\">0</span> │\n",
       "├─────────────────────────────────┼────────────────────────┼───────────────┤\n",
       "│ dense_3 (<span style=\"color: #0087ff; text-decoration-color: #0087ff\">Dense</span>)                 │ (<span style=\"color: #00d7ff; text-decoration-color: #00d7ff\">None</span>, <span style=\"color: #00af00; text-decoration-color: #00af00\">4</span>)              │           <span style=\"color: #00af00; text-decoration-color: #00af00\">516</span> │\n",
       "└─────────────────────────────────┴────────────────────────┴───────────────┘\n",
       "</pre>\n"
      ],
      "text/plain": [
       "┏━━━━━━━━━━━━━━━━━━━━━━━━━━━━━━━━━┳━━━━━━━━━━━━━━━━━━━━━━━━┳━━━━━━━━━━━━━━━┓\n",
       "┃\u001b[1m \u001b[0m\u001b[1mLayer (type)                   \u001b[0m\u001b[1m \u001b[0m┃\u001b[1m \u001b[0m\u001b[1mOutput Shape          \u001b[0m\u001b[1m \u001b[0m┃\u001b[1m \u001b[0m\u001b[1m      Param #\u001b[0m\u001b[1m \u001b[0m┃\n",
       "┡━━━━━━━━━━━━━━━━━━━━━━━━━━━━━━━━━╇━━━━━━━━━━━━━━━━━━━━━━━━╇━━━━━━━━━━━━━━━┩\n",
       "│ conv1d_8 (\u001b[38;5;33mConv1D\u001b[0m)               │ (\u001b[38;5;45mNone\u001b[0m, \u001b[38;5;34m3738\u001b[0m, \u001b[38;5;34m128\u001b[0m)      │         \u001b[38;5;34m1,280\u001b[0m │\n",
       "├─────────────────────────────────┼────────────────────────┼───────────────┤\n",
       "│ max_pooling1d_8 (\u001b[38;5;33mMaxPooling1D\u001b[0m)  │ (\u001b[38;5;45mNone\u001b[0m, \u001b[38;5;34m1869\u001b[0m, \u001b[38;5;34m128\u001b[0m)      │             \u001b[38;5;34m0\u001b[0m │\n",
       "├─────────────────────────────────┼────────────────────────┼───────────────┤\n",
       "│ conv1d_9 (\u001b[38;5;33mConv1D\u001b[0m)               │ (\u001b[38;5;45mNone\u001b[0m, \u001b[38;5;34m1869\u001b[0m, \u001b[38;5;34m128\u001b[0m)      │       \u001b[38;5;34m147,584\u001b[0m │\n",
       "├─────────────────────────────────┼────────────────────────┼───────────────┤\n",
       "│ max_pooling1d_9 (\u001b[38;5;33mMaxPooling1D\u001b[0m)  │ (\u001b[38;5;45mNone\u001b[0m, \u001b[38;5;34m934\u001b[0m, \u001b[38;5;34m128\u001b[0m)       │             \u001b[38;5;34m0\u001b[0m │\n",
       "├─────────────────────────────────┼────────────────────────┼───────────────┤\n",
       "│ conv1d_10 (\u001b[38;5;33mConv1D\u001b[0m)              │ (\u001b[38;5;45mNone\u001b[0m, \u001b[38;5;34m934\u001b[0m, \u001b[38;5;34m128\u001b[0m)       │       \u001b[38;5;34m147,584\u001b[0m │\n",
       "├─────────────────────────────────┼────────────────────────┼───────────────┤\n",
       "│ max_pooling1d_10 (\u001b[38;5;33mMaxPooling1D\u001b[0m) │ (\u001b[38;5;45mNone\u001b[0m, \u001b[38;5;34m467\u001b[0m, \u001b[38;5;34m128\u001b[0m)       │             \u001b[38;5;34m0\u001b[0m │\n",
       "├─────────────────────────────────┼────────────────────────┼───────────────┤\n",
       "│ conv1d_11 (\u001b[38;5;33mConv1D\u001b[0m)              │ (\u001b[38;5;45mNone\u001b[0m, \u001b[38;5;34m467\u001b[0m, \u001b[38;5;34m128\u001b[0m)       │       \u001b[38;5;34m147,584\u001b[0m │\n",
       "├─────────────────────────────────┼────────────────────────┼───────────────┤\n",
       "│ max_pooling1d_11 (\u001b[38;5;33mMaxPooling1D\u001b[0m) │ (\u001b[38;5;45mNone\u001b[0m, \u001b[38;5;34m233\u001b[0m, \u001b[38;5;34m128\u001b[0m)       │             \u001b[38;5;34m0\u001b[0m │\n",
       "├─────────────────────────────────┼────────────────────────┼───────────────┤\n",
       "│ conv1d_12 (\u001b[38;5;33mConv1D\u001b[0m)              │ (\u001b[38;5;45mNone\u001b[0m, \u001b[38;5;34m233\u001b[0m, \u001b[38;5;34m128\u001b[0m)       │       \u001b[38;5;34m147,584\u001b[0m │\n",
       "├─────────────────────────────────┼────────────────────────┼───────────────┤\n",
       "│ max_pooling1d_12 (\u001b[38;5;33mMaxPooling1D\u001b[0m) │ (\u001b[38;5;45mNone\u001b[0m, \u001b[38;5;34m116\u001b[0m, \u001b[38;5;34m128\u001b[0m)       │             \u001b[38;5;34m0\u001b[0m │\n",
       "├─────────────────────────────────┼────────────────────────┼───────────────┤\n",
       "│ conv1d_13 (\u001b[38;5;33mConv1D\u001b[0m)              │ (\u001b[38;5;45mNone\u001b[0m, \u001b[38;5;34m116\u001b[0m, \u001b[38;5;34m128\u001b[0m)       │       \u001b[38;5;34m147,584\u001b[0m │\n",
       "├─────────────────────────────────┼────────────────────────┼───────────────┤\n",
       "│ max_pooling1d_13 (\u001b[38;5;33mMaxPooling1D\u001b[0m) │ (\u001b[38;5;45mNone\u001b[0m, \u001b[38;5;34m58\u001b[0m, \u001b[38;5;34m128\u001b[0m)        │             \u001b[38;5;34m0\u001b[0m │\n",
       "├─────────────────────────────────┼────────────────────────┼───────────────┤\n",
       "│ conv1d_14 (\u001b[38;5;33mConv1D\u001b[0m)              │ (\u001b[38;5;45mNone\u001b[0m, \u001b[38;5;34m58\u001b[0m, \u001b[38;5;34m128\u001b[0m)        │       \u001b[38;5;34m147,584\u001b[0m │\n",
       "├─────────────────────────────────┼────────────────────────┼───────────────┤\n",
       "│ max_pooling1d_14 (\u001b[38;5;33mMaxPooling1D\u001b[0m) │ (\u001b[38;5;45mNone\u001b[0m, \u001b[38;5;34m29\u001b[0m, \u001b[38;5;34m128\u001b[0m)        │             \u001b[38;5;34m0\u001b[0m │\n",
       "├─────────────────────────────────┼────────────────────────┼───────────────┤\n",
       "│ conv1d_15 (\u001b[38;5;33mConv1D\u001b[0m)              │ (\u001b[38;5;45mNone\u001b[0m, \u001b[38;5;34m29\u001b[0m, \u001b[38;5;34m128\u001b[0m)        │       \u001b[38;5;34m147,584\u001b[0m │\n",
       "├─────────────────────────────────┼────────────────────────┼───────────────┤\n",
       "│ max_pooling1d_15 (\u001b[38;5;33mMaxPooling1D\u001b[0m) │ (\u001b[38;5;45mNone\u001b[0m, \u001b[38;5;34m14\u001b[0m, \u001b[38;5;34m128\u001b[0m)        │             \u001b[38;5;34m0\u001b[0m │\n",
       "├─────────────────────────────────┼────────────────────────┼───────────────┤\n",
       "│ flatten_1 (\u001b[38;5;33mFlatten\u001b[0m)             │ (\u001b[38;5;45mNone\u001b[0m, \u001b[38;5;34m1792\u001b[0m)           │             \u001b[38;5;34m0\u001b[0m │\n",
       "├─────────────────────────────────┼────────────────────────┼───────────────┤\n",
       "│ dense_2 (\u001b[38;5;33mDense\u001b[0m)                 │ (\u001b[38;5;45mNone\u001b[0m, \u001b[38;5;34m128\u001b[0m)            │       \u001b[38;5;34m229,504\u001b[0m │\n",
       "├─────────────────────────────────┼────────────────────────┼───────────────┤\n",
       "│ dropout_1 (\u001b[38;5;33mDropout\u001b[0m)             │ (\u001b[38;5;45mNone\u001b[0m, \u001b[38;5;34m128\u001b[0m)            │             \u001b[38;5;34m0\u001b[0m │\n",
       "├─────────────────────────────────┼────────────────────────┼───────────────┤\n",
       "│ dense_3 (\u001b[38;5;33mDense\u001b[0m)                 │ (\u001b[38;5;45mNone\u001b[0m, \u001b[38;5;34m4\u001b[0m)              │           \u001b[38;5;34m516\u001b[0m │\n",
       "└─────────────────────────────────┴────────────────────────┴───────────────┘\n"
      ]
     },
     "metadata": {},
     "output_type": "display_data"
    },
    {
     "data": {
      "text/html": [
       "<pre style=\"white-space:pre;overflow-x:auto;line-height:normal;font-family:Menlo,'DejaVu Sans Mono',consolas,'Courier New',monospace\"><span style=\"font-weight: bold\"> Total params: </span><span style=\"color: #00af00; text-decoration-color: #00af00\">1,264,388</span> (4.82 MB)\n",
       "</pre>\n"
      ],
      "text/plain": [
       "\u001b[1m Total params: \u001b[0m\u001b[38;5;34m1,264,388\u001b[0m (4.82 MB)\n"
      ]
     },
     "metadata": {},
     "output_type": "display_data"
    },
    {
     "data": {
      "text/html": [
       "<pre style=\"white-space:pre;overflow-x:auto;line-height:normal;font-family:Menlo,'DejaVu Sans Mono',consolas,'Courier New',monospace\"><span style=\"font-weight: bold\"> Trainable params: </span><span style=\"color: #00af00; text-decoration-color: #00af00\">1,264,388</span> (4.82 MB)\n",
       "</pre>\n"
      ],
      "text/plain": [
       "\u001b[1m Trainable params: \u001b[0m\u001b[38;5;34m1,264,388\u001b[0m (4.82 MB)\n"
      ]
     },
     "metadata": {},
     "output_type": "display_data"
    },
    {
     "data": {
      "text/html": [
       "<pre style=\"white-space:pre;overflow-x:auto;line-height:normal;font-family:Menlo,'DejaVu Sans Mono',consolas,'Courier New',monospace\"><span style=\"font-weight: bold\"> Non-trainable params: </span><span style=\"color: #00af00; text-decoration-color: #00af00\">0</span> (0.00 B)\n",
       "</pre>\n"
      ],
      "text/plain": [
       "\u001b[1m Non-trainable params: \u001b[0m\u001b[38;5;34m0\u001b[0m (0.00 B)\n"
      ]
     },
     "metadata": {},
     "output_type": "display_data"
    }
   ],
   "source": [
    "len_ = 3748\n",
    "file_list, labels = generate_file_list(limit_per_dir=1)\n",
    "\n",
    "# Now use these datasets to train the model\n",
    "convnet_model = create_convnet(input_shape=(len_-10, 1), num_classes=len(set(labels)))\n",
    "\n",
    "convnet_model.summary()"
   ]
  },
  {
   "cell_type": "code",
   "execution_count": 18,
   "metadata": {},
   "outputs": [],
   "source": [
    "# Create TensorFlow datasets using the loaded data\n",
    "def create_tf_dataset(spectra_data, labels, batch_size=64):\n",
    "    dataset = tf.data.Dataset.from_tensor_slices((spectra_data, labels))\n",
    "    dataset = dataset.shuffle(buffer_size=len(spectra_data)).batch(batch_size).prefetch(tf.data.AUTOTUNE)\n",
    "    return dataset"
   ]
  },
  {
   "cell_type": "code",
   "execution_count": 34,
   "metadata": {},
   "outputs": [],
   "source": [
    "def removenan(train_spectra, train_labels, val_spectra, val_labels): \n",
    "   # Convert lists to NumPy arrays (remove first 10 spectra to avoid excess NaN values)\n",
    "    train_spectraa = np.array(train_spectra[10:, :])\n",
    "    train_labelsa = np.array(train_labels[10:])\n",
    "\n",
    "    val_spectraa = np.array(val_spectra[10:, :])\n",
    "    val_labelsa = np.array(val_labels[10:])\n",
    "\n",
    "    # Remove nan values from the spectra\n",
    "    mask_train = ~np.isnan(train_spectraa).any(axis=1)\n",
    "    train_spectranan = train_spectraa[mask_train]\n",
    "    train_labelsnan = train_labelsa[mask_train]\n",
    "\n",
    "    mask_val = ~np.isnan(val_spectraa).any(axis=1)\n",
    "    val_spectranan = val_spectraa[mask_val]\n",
    "    val_labelsnan = val_labelsa[mask_val]\n",
    "\n",
    "    del val_spectraa, val_labelsa, mask_val, train_spectraa, train_labelsa, mask_train\n",
    "    gc.collect()\n",
    "\n",
    "    # Create TensorFlow datasets\n",
    "    train_dataset = create_tf_dataset(train_spectranan, train_labelsnan)\n",
    "    val_dataset = create_tf_dataset(val_spectranan, val_labelsnan)\n",
    "\n",
    "    del train_spectranan, train_labelsnan\n",
    "    gc.collect()\n",
    "    return train_dataset, val_dataset"
   ]
  },
  {
   "cell_type": "code",
   "execution_count": 35,
   "metadata": {},
   "outputs": [],
   "source": [
    "def generate_random_dataset(lim_per_label = 2000):\n",
    "    # Example usage:\n",
    "    file_list, labels = generate_file_list(limit_per_dir=lim_per_label)\n",
    "    # Convert labels to numpy array\n",
    "    labels = np.array(labels)\n",
    "    # Continue with creating train/validation datasets\n",
    "    train_files, train_labels, val_files, val_labels = split_dataset(file_list, labels)\n",
    "    # Load training and validation spectra in parallel\n",
    "    train_spectra = load_all_spectra_parallel(train_files, target_length=len_)\n",
    "    val_spectra = load_all_spectra_parallel(val_files, target_length=len_)\n",
    "    # Create TensorFlow datasets\n",
    "    train_dataset, val_dataset = removenan(train_spectra, train_labels, val_spectra, val_labels)\n",
    "    return train_dataset, val_dataset\n"
   ]
  },
  {
   "cell_type": "code",
   "execution_count": 36,
   "metadata": {},
   "outputs": [
    {
     "name": "stdout",
     "output_type": "stream",
     "text": [
      "Gathering FITS files...\n",
      "Total spectra files collected: 8000\n"
     ]
    },
    {
     "name": "stderr",
     "output_type": "stream",
     "text": [
      "Loading spectra: 100%|██████████| 6400/6400 [00:18<00:00, 339.18it/s]\n",
      "Loading spectra: 100%|██████████| 1600/1600 [00:02<00:00, 558.30it/s]\n"
     ]
    }
   ],
   "source": [
    "train_dataset, val_dataset = generate_random_dataset(lim_per_label = 2000)"
   ]
  },
  {
   "cell_type": "code",
   "execution_count": 38,
   "metadata": {},
   "outputs": [],
   "source": [
    "# Function to train the model with the training and validation datasets\n",
    "def train_convnet(model, lim_per_label = 2000, epochs=1, batch_size=32, patience=5):\n",
    "    # Define early stopping callback\n",
    "    early_stopping = EarlyStopping(monitor='val_loss', patience=patience, restore_best_weights=True)\n",
    "    train_dataset, val_dataset = generate_random_dataset(lim_per_label = lim_per_label)\n",
    "    # Fit the model\n",
    "    history = model.fit(train_dataset,\n",
    "                        validation_data=val_dataset,\n",
    "                        epochs=epochs,\n",
    "                        batch_size=batch_size,\n",
    "                        callbacks=[early_stopping])\n",
    "    \n",
    "    return history"
   ]
  },
  {
   "cell_type": "code",
   "execution_count": 39,
   "metadata": {},
   "outputs": [],
   "source": [
    "def train_convnet_many_times(model, epochs_per_run=1, batch_size=32, num_runs=10):\n",
    "    histories = []\n",
    "    for i in range(num_runs):\n",
    "        print(f\"Training run {i+1}/{num_runs}...\")\n",
    "        history = train_convnet(model, epochs=epochs_per_run , batch_size=batch_size)\n",
    "        histories.append(history)\n",
    "    return histories"
   ]
  },
  {
   "cell_type": "code",
   "execution_count": 40,
   "metadata": {},
   "outputs": [
    {
     "name": "stdout",
     "output_type": "stream",
     "text": [
      "Training run 1/10...\n",
      "Gathering FITS files...\n",
      "Total spectra files collected: 8000\n"
     ]
    },
    {
     "name": "stderr",
     "output_type": "stream",
     "text": [
      "Loading spectra: 100%|██████████| 6400/6400 [00:18<00:00, 348.48it/s] \n",
      "Loading spectra: 100%|██████████| 1600/1600 [00:02<00:00, 682.44it/s] \n",
      "WARNING: All log messages before absl::InitializeLog() is called are written to STDERR\n",
      "I0000 00:00:1727346751.292003   65240 service.cc:146] XLA service 0x7f4efc013200 initialized for platform CUDA (this does not guarantee that XLA will be used). Devices:\n",
      "I0000 00:00:1727346751.292100   65240 service.cc:154]   StreamExecutor device (0): NVIDIA GeForce RTX 3080 Laptop GPU, Compute Capability 8.6\n",
      "2024-09-26 11:32:31.368222: I tensorflow/compiler/mlir/tensorflow/utils/dump_mlir_util.cc:268] disabling MLIR crash reproducer, set env var `MLIR_CRASH_REPRODUCER_DIRECTORY` to enable.\n",
      "2024-09-26 11:32:31.734574: I external/local_xla/xla/stream_executor/cuda/cuda_dnn.cc:531] Loaded cuDNN version 8907\n"
     ]
    },
    {
     "name": "stdout",
     "output_type": "stream",
     "text": [
      "\u001b[1m  5/100\u001b[0m \u001b[32m━\u001b[0m\u001b[37m━━━━━━━━━━━━━━━━━━━\u001b[0m \u001b[1m3s\u001b[0m 32ms/step - accuracy: 0.2686 - loss: 1.3861"
     ]
    },
    {
     "name": "stderr",
     "output_type": "stream",
     "text": [
      "I0000 00:00:1727346758.987943   65240 device_compiler.h:188] Compiled cluster using XLA!  This line is logged at most once for the lifetime of the process.\n"
     ]
    },
    {
     "name": "stdout",
     "output_type": "stream",
     "text": [
      "\u001b[1m100/100\u001b[0m \u001b[32m━━━━━━━━━━━━━━━━━━━━\u001b[0m\u001b[37m\u001b[0m \u001b[1m0s\u001b[0m 94ms/step - accuracy: 0.4563 - loss: 1.2045"
     ]
    },
    {
     "name": "stderr",
     "output_type": "stream",
     "text": [
      "2024-09-26 11:32:50.758215: I external/local_xla/xla/stream_executor/cuda/cuda_asm_compiler.cc:393] ptxas warning : Registers are spilled to local memory in function 'gemm_fusion_dot_203', 4 bytes spill stores, 4 bytes spill loads\n",
      "\n"
     ]
    },
    {
     "name": "stdout",
     "output_type": "stream",
     "text": [
      "\u001b[1m100/100\u001b[0m \u001b[32m━━━━━━━━━━━━━━━━━━━━\u001b[0m\u001b[37m\u001b[0m \u001b[1m23s\u001b[0m 133ms/step - accuracy: 0.4574 - loss: 1.2027 - val_accuracy: 0.6730 - val_loss: 0.8122\n",
      "Training run 2/10...\n",
      "Gathering FITS files...\n",
      "Total spectra files collected: 8000\n"
     ]
    },
    {
     "name": "stderr",
     "output_type": "stream",
     "text": [
      "Loading spectra: 100%|██████████| 6400/6400 [00:18<00:00, 351.52it/s] \n",
      "Loading spectra: 100%|██████████| 1600/1600 [00:02<00:00, 610.94it/s] \n"
     ]
    },
    {
     "name": "stdout",
     "output_type": "stream",
     "text": [
      "\u001b[1m100/100\u001b[0m \u001b[32m━━━━━━━━━━━━━━━━━━━━\u001b[0m\u001b[37m\u001b[0m \u001b[1m4s\u001b[0m 34ms/step - accuracy: 0.6604 - loss: 0.8112 - val_accuracy: 0.7063 - val_loss: 0.7358\n",
      "Training run 3/10...\n",
      "Gathering FITS files...\n",
      "Total spectra files collected: 8000\n"
     ]
    },
    {
     "name": "stderr",
     "output_type": "stream",
     "text": [
      "Loading spectra: 100%|██████████| 6400/6400 [00:19<00:00, 328.07it/s] \n",
      "Loading spectra: 100%|██████████| 1600/1600 [00:02<00:00, 585.40it/s] \n"
     ]
    },
    {
     "name": "stdout",
     "output_type": "stream",
     "text": [
      "\u001b[1m100/100\u001b[0m \u001b[32m━━━━━━━━━━━━━━━━━━━━\u001b[0m\u001b[37m\u001b[0m \u001b[1m4s\u001b[0m 34ms/step - accuracy: 0.6837 - loss: 0.7899 - val_accuracy: 0.6893 - val_loss: 0.7107\n",
      "Training run 4/10...\n",
      "Gathering FITS files...\n",
      "Total spectra files collected: 8000\n"
     ]
    },
    {
     "name": "stderr",
     "output_type": "stream",
     "text": [
      "Loading spectra: 100%|██████████| 6400/6400 [00:18<00:00, 341.94it/s]\n",
      "Loading spectra: 100%|██████████| 1600/1600 [00:02<00:00, 684.89it/s] \n"
     ]
    },
    {
     "name": "stdout",
     "output_type": "stream",
     "text": [
      "\u001b[1m100/100\u001b[0m \u001b[32m━━━━━━━━━━━━━━━━━━━━\u001b[0m\u001b[37m\u001b[0m \u001b[1m4s\u001b[0m 34ms/step - accuracy: 0.6793 - loss: 0.7634 - val_accuracy: 0.6937 - val_loss: 0.6925\n",
      "Training run 5/10...\n",
      "Gathering FITS files...\n",
      "Total spectra files collected: 8000\n"
     ]
    },
    {
     "name": "stderr",
     "output_type": "stream",
     "text": [
      "Loading spectra: 100%|██████████| 6400/6400 [00:20<00:00, 310.30it/s] \n",
      "Loading spectra: 100%|██████████| 1600/1600 [00:02<00:00, 655.58it/s]\n"
     ]
    },
    {
     "name": "stdout",
     "output_type": "stream",
     "text": [
      "\u001b[1m100/100\u001b[0m \u001b[32m━━━━━━━━━━━━━━━━━━━━\u001b[0m\u001b[37m\u001b[0m \u001b[1m4s\u001b[0m 35ms/step - accuracy: 0.6967 - loss: 0.7115 - val_accuracy: 0.7296 - val_loss: 0.6041\n",
      "Training run 6/10...\n",
      "Gathering FITS files...\n",
      "Total spectra files collected: 8000\n"
     ]
    },
    {
     "name": "stderr",
     "output_type": "stream",
     "text": [
      "Loading spectra: 100%|██████████| 6400/6400 [00:19<00:00, 321.59it/s]\n",
      "Loading spectra: 100%|██████████| 1600/1600 [00:02<00:00, 664.63it/s] \n"
     ]
    },
    {
     "name": "stdout",
     "output_type": "stream",
     "text": [
      "\u001b[1m100/100\u001b[0m \u001b[32m━━━━━━━━━━━━━━━━━━━━\u001b[0m\u001b[37m\u001b[0m \u001b[1m4s\u001b[0m 34ms/step - accuracy: 0.7053 - loss: 0.6555 - val_accuracy: 0.7119 - val_loss: 0.6317\n",
      "Training run 7/10...\n",
      "Gathering FITS files...\n",
      "Total spectra files collected: 8000\n"
     ]
    },
    {
     "name": "stderr",
     "output_type": "stream",
     "text": [
      "Loading spectra: 100%|██████████| 6400/6400 [00:19<00:00, 335.34it/s] \n",
      "Loading spectra: 100%|██████████| 1600/1600 [00:02<00:00, 612.58it/s] \n"
     ]
    },
    {
     "name": "stdout",
     "output_type": "stream",
     "text": [
      "\u001b[1m100/100\u001b[0m \u001b[32m━━━━━━━━━━━━━━━━━━━━\u001b[0m\u001b[37m\u001b[0m \u001b[1m4s\u001b[0m 34ms/step - accuracy: 0.7069 - loss: 0.7382 - val_accuracy: 0.7346 - val_loss: 0.6121\n",
      "Training run 8/10...\n",
      "Gathering FITS files...\n",
      "Total spectra files collected: 8000\n"
     ]
    },
    {
     "name": "stderr",
     "output_type": "stream",
     "text": [
      "Loading spectra: 100%|██████████| 6400/6400 [00:18<00:00, 349.79it/s] \n",
      "Loading spectra: 100%|██████████| 1600/1600 [00:02<00:00, 603.16it/s] \n"
     ]
    },
    {
     "name": "stdout",
     "output_type": "stream",
     "text": [
      "\u001b[1m100/100\u001b[0m \u001b[32m━━━━━━━━━━━━━━━━━━━━\u001b[0m\u001b[37m\u001b[0m \u001b[1m4s\u001b[0m 34ms/step - accuracy: 0.7158 - loss: 0.6411 - val_accuracy: 0.7503 - val_loss: 0.5400\n",
      "Training run 9/10...\n",
      "Gathering FITS files...\n",
      "Total spectra files collected: 8000\n"
     ]
    },
    {
     "name": "stderr",
     "output_type": "stream",
     "text": [
      "Loading spectra: 100%|██████████| 6400/6400 [00:18<00:00, 344.48it/s]\n",
      "Loading spectra: 100%|██████████| 1600/1600 [00:02<00:00, 705.91it/s]\n"
     ]
    },
    {
     "name": "stdout",
     "output_type": "stream",
     "text": [
      "\u001b[1m100/100\u001b[0m \u001b[32m━━━━━━━━━━━━━━━━━━━━\u001b[0m\u001b[37m\u001b[0m \u001b[1m4s\u001b[0m 34ms/step - accuracy: 0.7358 - loss: 0.5939 - val_accuracy: 0.7535 - val_loss: 0.5502\n",
      "Training run 10/10...\n",
      "Gathering FITS files...\n",
      "Total spectra files collected: 8000\n"
     ]
    },
    {
     "name": "stderr",
     "output_type": "stream",
     "text": [
      "Loading spectra: 100%|██████████| 6400/6400 [00:18<00:00, 343.01it/s] \n",
      "Loading spectra: 100%|██████████| 1600/1600 [00:02<00:00, 590.46it/s] \n"
     ]
    },
    {
     "name": "stdout",
     "output_type": "stream",
     "text": [
      "\u001b[1m100/100\u001b[0m \u001b[32m━━━━━━━━━━━━━━━━━━━━\u001b[0m\u001b[37m\u001b[0m \u001b[1m4s\u001b[0m 33ms/step - accuracy: 0.7407 - loss: 0.5653 - val_accuracy: 0.7491 - val_loss: 0.5437\n"
     ]
    }
   ],
   "source": [
    "histories = train_convnet_many_times(convnet_model, epochs_per_run=1, batch_size=32, num_runs=25)"
   ]
  },
  {
   "cell_type": "code",
   "execution_count": 46,
   "metadata": {},
   "outputs": [],
   "source": [
    "# Save the model\n",
    "convnet_model.save('convnet_model_v1.keras')"
   ]
  },
  {
   "cell_type": "code",
   "execution_count": 44,
   "metadata": {},
   "outputs": [
    {
     "name": "stdout",
     "output_type": "stream",
     "text": [
      "\u001b[1m50/50\u001b[0m \u001b[32m━━━━━━━━━━━━━━━━━━━━\u001b[0m\u001b[37m\u001b[0m \u001b[1m3s\u001b[0m 29ms/step\n",
      "Confusion Matrix:\n",
      "[[379   3  18   2]\n",
      " [  7 247   6 139]\n",
      " [ 74   9 331   4]\n",
      " [  9 100   7 255]]\n",
      "\n",
      "Classification Report:\n",
      "              precision    recall  f1-score   support\n",
      "\n",
      "           0       0.81      0.94      0.87       402\n",
      "           1       0.69      0.62      0.65       399\n",
      "           2       0.91      0.79      0.85       418\n",
      "           3       0.64      0.69      0.66       371\n",
      "\n",
      "    accuracy                           0.76      1590\n",
      "   macro avg       0.76      0.76      0.76      1590\n",
      "weighted avg       0.77      0.76      0.76      1590\n",
      "\n"
     ]
    },
    {
     "data": {
      "image/png": "[encoded data removed]",
      "text/plain": [
       "<Figure size 800x600 with 2 Axes>"
      ]
     },
     "metadata": {},
     "output_type": "display_data"
    }
   ],
   "source": [
    "# Make predictions on the validation/test dataset\n",
    "val_predictions = convnet_model.predict(val_spectranan)\n",
    "\n",
    "# Convert the predictions to class labels (assuming one-hot encoding)\n",
    "predicted_labels = np.argmax(val_predictions, axis=1)\n",
    "\n",
    "# Convert true labels if they are in one-hot encoded format\n",
    "true_labels = np.array(val_labelsnan)  # Assuming val_labels is already numeric\n",
    "\n",
    "\n",
    "# Generate the confusion matrix\n",
    "conf_matrix = confusion_matrix(true_labels, predicted_labels)\n",
    "\n",
    "# Print the confusion matrix\n",
    "print(\"Confusion Matrix:\")\n",
    "print(conf_matrix)\n",
    "\n",
    "# Optionally, print a classification report for more metrics\n",
    "print(\"\\nClassification Report:\")\n",
    "print(classification_report(true_labels, predicted_labels))\n",
    "\n",
    "# Plot the confusion matrix\n",
    "plt.figure(figsize=(8, 6))\n",
    "sns.heatmap(conf_matrix, annot=True, fmt=\"d\", cmap=\"Blues\", xticklabels=['Galaxy', 'Star', 'AGN', 'Binary Star'], yticklabels=['Galaxy', 'Star', 'AGN', 'Binary Star'])\n",
    "plt.xlabel('Predicted')\n",
    "plt.ylabel('True')\n",
    "plt.title('Confusion Matrix')\n",
    "plt.show()"
   ]
  }
 ],
 "metadata": {
  "kernelspec": {
   "display_name": "Python 3",
   "language": "python",
   "name": "python3"
  },
  "language_info": {
   "codemirror_mode": {
    "name": "ipython",
    "version": 3
   },
   "file_extension": ".py",
   "mimetype": "text/x-python",
   "name": "python",
   "nbconvert_exporter": "python",
   "pygments_lexer": "ipython3",
   "version": "3.10.12"
  }
 },
 "nbformat": 4,
 "nbformat_minor": 2
}
