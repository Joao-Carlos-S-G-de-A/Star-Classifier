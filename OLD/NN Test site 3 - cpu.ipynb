{
 "cells": [
  {
   "cell_type": "code",
   "execution_count": 4,
   "metadata": {},
   "outputs": [
    {
     "name": "stdout",
     "output_type": "stream",
     "text": [
      "Running on  cpu\n"
     ]
    },
    {
     "name": "stderr",
     "output_type": "stream",
     "text": [
      "C:\\Users\\jcwin\\AppData\\Local\\Packages\\PythonSoftwareFoundation.Python.3.11_qbz5n2kfra8p0\\LocalCache\\local-packages\\Python311\\site-packages\\sklearn\\preprocessing\\_label.py:114: DataConversionWarning: A column-vector y was passed when a 1d array was expected. Please change the shape of y to (n_samples, ), for example using ravel().\n",
      "  y = column_or_1d(y, warn=True)\n",
      "C:\\Users\\jcwin\\AppData\\Local\\Packages\\PythonSoftwareFoundation.Python.3.11_qbz5n2kfra8p0\\LocalCache\\local-packages\\Python311\\site-packages\\torch\\optim\\lr_scheduler.py:60: UserWarning: The verbose parameter is deprecated. Please use get_last_lr() to access the learning rate.\n",
      "  warnings.warn(\n",
      "Epoch 1/200: 100%|██████████| 10775/10775 [00:28<00:00, 383.23batch/s, Loss=0.4912]\n"
     ]
    },
    {
     "name": "stdout",
     "output_type": "stream",
     "text": [
      "\n",
      "Validation Loss after Epoch 1: 0.4407\n",
      "Test Accuracy after Epoch 1: 0.8763\n"
     ]
    },
    {
     "name": "stderr",
     "output_type": "stream",
     "text": [
      "Epoch 2/200: 100%|██████████| 10775/10775 [00:29<00:00, 367.17batch/s, Loss=0.4195]\n"
     ]
    },
    {
     "name": "stdout",
     "output_type": "stream",
     "text": [
      "\n",
      "Validation Loss after Epoch 2: 0.5163\n",
      "Test Accuracy after Epoch 2: 0.9234\n"
     ]
    },
    {
     "name": "stderr",
     "output_type": "stream",
     "text": [
      "Epoch 3/200: 100%|██████████| 10775/10775 [00:30<00:00, 349.03batch/s, Loss=0.4099]\n"
     ]
    },
    {
     "name": "stdout",
     "output_type": "stream",
     "text": [
      "\n",
      "Validation Loss after Epoch 3: 0.4233\n",
      "Test Accuracy after Epoch 3: 0.8940\n"
     ]
    },
    {
     "name": "stderr",
     "output_type": "stream",
     "text": [
      "Epoch 4/200: 100%|██████████| 10775/10775 [00:30<00:00, 350.46batch/s, Loss=0.4113]\n"
     ]
    },
    {
     "name": "stdout",
     "output_type": "stream",
     "text": [
      "\n",
      "Validation Loss after Epoch 4: 0.3700\n",
      "Test Accuracy after Epoch 4: 0.9145\n"
     ]
    },
    {
     "name": "stderr",
     "output_type": "stream",
     "text": [
      "Epoch 5/200: 100%|██████████| 10775/10775 [00:28<00:00, 384.81batch/s, Loss=0.3971]\n"
     ]
    },
    {
     "name": "stdout",
     "output_type": "stream",
     "text": [
      "\n",
      "Validation Loss after Epoch 5: 0.3866\n",
      "Test Accuracy after Epoch 5: 0.9159\n"
     ]
    },
    {
     "name": "stderr",
     "output_type": "stream",
     "text": [
      "Epoch 6/200: 100%|██████████| 10775/10775 [00:28<00:00, 372.10batch/s, Loss=0.3967]\n"
     ]
    },
    {
     "name": "stdout",
     "output_type": "stream",
     "text": [
      "\n",
      "Validation Loss after Epoch 6: 0.4041\n",
      "Test Accuracy after Epoch 6: 0.9227\n"
     ]
    },
    {
     "name": "stderr",
     "output_type": "stream",
     "text": [
      "Epoch 7/200: 100%|██████████| 10775/10775 [00:28<00:00, 380.61batch/s, Loss=0.3916]\n"
     ]
    },
    {
     "name": "stdout",
     "output_type": "stream",
     "text": [
      "\n",
      "Validation Loss after Epoch 7: 0.3862\n",
      "Test Accuracy after Epoch 7: 0.9055\n"
     ]
    },
    {
     "name": "stderr",
     "output_type": "stream",
     "text": [
      "Epoch 8/200: 100%|██████████| 10775/10775 [00:29<00:00, 370.36batch/s, Loss=0.3919]\n"
     ]
    },
    {
     "name": "stdout",
     "output_type": "stream",
     "text": [
      "\n",
      "Validation Loss after Epoch 8: 0.4394\n",
      "Test Accuracy after Epoch 8: 0.9321\n"
     ]
    },
    {
     "name": "stderr",
     "output_type": "stream",
     "text": [
      "Epoch 9/200: 100%|██████████| 10775/10775 [00:29<00:00, 369.32batch/s, Loss=0.3231]\n"
     ]
    },
    {
     "name": "stdout",
     "output_type": "stream",
     "text": [
      "\n",
      "Validation Loss after Epoch 9: 0.3333\n",
      "Test Accuracy after Epoch 9: 0.9285\n"
     ]
    },
    {
     "name": "stderr",
     "output_type": "stream",
     "text": [
      "Epoch 10/200: 100%|██████████| 10775/10775 [00:29<00:00, 367.60batch/s, Loss=0.3132]\n"
     ]
    },
    {
     "name": "stdout",
     "output_type": "stream",
     "text": [
      "\n",
      "Validation Loss after Epoch 10: 0.3231\n",
      "Test Accuracy after Epoch 10: 0.9358\n"
     ]
    },
    {
     "name": "stderr",
     "output_type": "stream",
     "text": [
      "Epoch 11/200: 100%|██████████| 10775/10775 [00:29<00:00, 363.05batch/s, Loss=0.3090]\n"
     ]
    },
    {
     "name": "stdout",
     "output_type": "stream",
     "text": [
      "\n",
      "Validation Loss after Epoch 11: 0.3626\n",
      "Test Accuracy after Epoch 11: 0.9396\n"
     ]
    },
    {
     "name": "stderr",
     "output_type": "stream",
     "text": [
      "Epoch 12/200: 100%|██████████| 10775/10775 [00:31<00:00, 346.59batch/s, Loss=0.3098]\n"
     ]
    },
    {
     "name": "stdout",
     "output_type": "stream",
     "text": [
      "\n",
      "Validation Loss after Epoch 12: 0.3109\n",
      "Test Accuracy after Epoch 12: 0.9289\n"
     ]
    },
    {
     "name": "stderr",
     "output_type": "stream",
     "text": [
      "Epoch 13/200: 100%|██████████| 10775/10775 [00:33<00:00, 325.03batch/s, Loss=0.3000]\n"
     ]
    },
    {
     "name": "stdout",
     "output_type": "stream",
     "text": [
      "\n",
      "Validation Loss after Epoch 13: 0.3236\n",
      "Test Accuracy after Epoch 13: 0.9436\n"
     ]
    },
    {
     "name": "stderr",
     "output_type": "stream",
     "text": [
      "Epoch 14/200: 100%|██████████| 10775/10775 [00:36<00:00, 296.65batch/s, Loss=0.2998]\n"
     ]
    },
    {
     "name": "stdout",
     "output_type": "stream",
     "text": [
      "\n",
      "Validation Loss after Epoch 14: 0.3236\n",
      "Test Accuracy after Epoch 14: 0.9258\n"
     ]
    },
    {
     "name": "stderr",
     "output_type": "stream",
     "text": [
      "Epoch 15/200: 100%|██████████| 10775/10775 [00:36<00:00, 294.65batch/s, Loss=0.2940]\n"
     ]
    },
    {
     "name": "stdout",
     "output_type": "stream",
     "text": [
      "\n",
      "Validation Loss after Epoch 15: 0.3138\n",
      "Test Accuracy after Epoch 15: 0.9354\n"
     ]
    },
    {
     "name": "stderr",
     "output_type": "stream",
     "text": [
      "Epoch 16/200: 100%|██████████| 10775/10775 [00:34<00:00, 308.43batch/s, Loss=0.2967]\n"
     ]
    },
    {
     "name": "stdout",
     "output_type": "stream",
     "text": [
      "\n",
      "Validation Loss after Epoch 16: 0.3088\n",
      "Test Accuracy after Epoch 16: 0.9268\n"
     ]
    },
    {
     "name": "stderr",
     "output_type": "stream",
     "text": [
      "Epoch 17/200: 100%|██████████| 10775/10775 [00:34<00:00, 312.06batch/s, Loss=0.2935]\n"
     ]
    },
    {
     "name": "stdout",
     "output_type": "stream",
     "text": [
      "\n",
      "Validation Loss after Epoch 17: 0.3230\n",
      "Test Accuracy after Epoch 17: 0.9206\n"
     ]
    },
    {
     "name": "stderr",
     "output_type": "stream",
     "text": [
      "Epoch 18/200: 100%|██████████| 10775/10775 [00:34<00:00, 309.15batch/s, Loss=0.2926]\n"
     ]
    },
    {
     "name": "stdout",
     "output_type": "stream",
     "text": [
      "\n",
      "Validation Loss after Epoch 18: 0.3158\n",
      "Test Accuracy after Epoch 18: 0.9352\n"
     ]
    },
    {
     "name": "stderr",
     "output_type": "stream",
     "text": [
      "Epoch 19/200: 100%|██████████| 10775/10775 [00:37<00:00, 287.31batch/s, Loss=0.2963]\n"
     ]
    },
    {
     "name": "stdout",
     "output_type": "stream",
     "text": [
      "\n",
      "Validation Loss after Epoch 19: 0.3143\n",
      "Test Accuracy after Epoch 19: 0.9254\n"
     ]
    },
    {
     "name": "stderr",
     "output_type": "stream",
     "text": [
      "Epoch 20/200: 100%|██████████| 10775/10775 [00:33<00:00, 322.15batch/s, Loss=0.2943]\n"
     ]
    },
    {
     "name": "stdout",
     "output_type": "stream",
     "text": [
      "\n",
      "Validation Loss after Epoch 20: 0.3195\n",
      "Test Accuracy after Epoch 20: 0.9292\n"
     ]
    },
    {
     "name": "stderr",
     "output_type": "stream",
     "text": [
      "Epoch 21/200: 100%|██████████| 10775/10775 [00:32<00:00, 334.40batch/s, Loss=0.2753]\n"
     ]
    },
    {
     "name": "stdout",
     "output_type": "stream",
     "text": [
      "\n",
      "Validation Loss after Epoch 21: 0.3017\n",
      "Test Accuracy after Epoch 21: 0.9260\n"
     ]
    },
    {
     "name": "stderr",
     "output_type": "stream",
     "text": [
      "Epoch 22/200: 100%|██████████| 10775/10775 [00:31<00:00, 338.31batch/s, Loss=0.2702]\n"
     ]
    },
    {
     "name": "stdout",
     "output_type": "stream",
     "text": [
      "\n",
      "Validation Loss after Epoch 22: 0.2973\n",
      "Test Accuracy after Epoch 22: 0.9360\n"
     ]
    },
    {
     "name": "stderr",
     "output_type": "stream",
     "text": [
      "Epoch 23/200: 100%|██████████| 10775/10775 [00:32<00:00, 335.51batch/s, Loss=0.2640]\n"
     ]
    },
    {
     "name": "stdout",
     "output_type": "stream",
     "text": [
      "\n",
      "Validation Loss after Epoch 23: 0.2973\n",
      "Test Accuracy after Epoch 23: 0.9317\n"
     ]
    },
    {
     "name": "stderr",
     "output_type": "stream",
     "text": [
      "Epoch 24/200: 100%|██████████| 10775/10775 [00:37<00:00, 289.83batch/s, Loss=0.2668]\n"
     ]
    },
    {
     "name": "stdout",
     "output_type": "stream",
     "text": [
      "\n",
      "Validation Loss after Epoch 24: 0.2953\n",
      "Test Accuracy after Epoch 24: 0.9328\n"
     ]
    },
    {
     "name": "stderr",
     "output_type": "stream",
     "text": [
      "Epoch 25/200: 100%|██████████| 10775/10775 [00:47<00:00, 228.17batch/s, Loss=0.2620]\n"
     ]
    },
    {
     "name": "stdout",
     "output_type": "stream",
     "text": [
      "\n",
      "Validation Loss after Epoch 25: 0.2985\n",
      "Test Accuracy after Epoch 25: 0.9289\n"
     ]
    },
    {
     "name": "stderr",
     "output_type": "stream",
     "text": [
      "Epoch 26/200: 100%|██████████| 10775/10775 [00:35<00:00, 300.35batch/s, Loss=0.2604]\n"
     ]
    },
    {
     "name": "stdout",
     "output_type": "stream",
     "text": [
      "\n",
      "Validation Loss after Epoch 26: 0.2961\n",
      "Test Accuracy after Epoch 26: 0.9350\n"
     ]
    },
    {
     "name": "stderr",
     "output_type": "stream",
     "text": [
      "Epoch 27/200: 100%|██████████| 10775/10775 [00:35<00:00, 307.47batch/s, Loss=0.2626]\n"
     ]
    },
    {
     "name": "stdout",
     "output_type": "stream",
     "text": [
      "\n",
      "Validation Loss after Epoch 27: 0.2982\n",
      "Test Accuracy after Epoch 27: 0.9266\n"
     ]
    },
    {
     "name": "stderr",
     "output_type": "stream",
     "text": [
      "Epoch 28/200: 100%|██████████| 10775/10775 [00:35<00:00, 301.68batch/s, Loss=0.2603]\n"
     ]
    },
    {
     "name": "stdout",
     "output_type": "stream",
     "text": [
      "\n",
      "Validation Loss after Epoch 28: 0.2951\n",
      "Test Accuracy after Epoch 28: 0.9290\n"
     ]
    },
    {
     "name": "stderr",
     "output_type": "stream",
     "text": [
      "Epoch 29/200: 100%|██████████| 10775/10775 [00:35<00:00, 301.70batch/s, Loss=0.2595]\n"
     ]
    },
    {
     "name": "stdout",
     "output_type": "stream",
     "text": [
      "\n",
      "Validation Loss after Epoch 29: 0.2960\n",
      "Test Accuracy after Epoch 29: 0.9328\n"
     ]
    },
    {
     "name": "stderr",
     "output_type": "stream",
     "text": [
      "Epoch 30/200: 100%|██████████| 10775/10775 [00:35<00:00, 302.03batch/s, Loss=0.2562]\n"
     ]
    },
    {
     "name": "stdout",
     "output_type": "stream",
     "text": [
      "\n",
      "Validation Loss after Epoch 30: 0.2946\n",
      "Test Accuracy after Epoch 30: 0.9332\n"
     ]
    },
    {
     "name": "stderr",
     "output_type": "stream",
     "text": [
      "Epoch 31/200: 100%|██████████| 10775/10775 [00:37<00:00, 288.28batch/s, Loss=0.2590]\n"
     ]
    },
    {
     "name": "stdout",
     "output_type": "stream",
     "text": [
      "\n",
      "Validation Loss after Epoch 31: 0.2962\n",
      "Test Accuracy after Epoch 31: 0.9261\n"
     ]
    },
    {
     "name": "stderr",
     "output_type": "stream",
     "text": [
      "Epoch 32/200: 100%|██████████| 10775/10775 [00:37<00:00, 286.25batch/s, Loss=0.2579]\n"
     ]
    },
    {
     "name": "stdout",
     "output_type": "stream",
     "text": [
      "\n",
      "Validation Loss after Epoch 32: 0.2919\n",
      "Test Accuracy after Epoch 32: 0.9317\n"
     ]
    },
    {
     "name": "stderr",
     "output_type": "stream",
     "text": [
      "Epoch 33/200: 100%|██████████| 10775/10775 [00:35<00:00, 307.37batch/s, Loss=0.2571]\n"
     ]
    },
    {
     "name": "stdout",
     "output_type": "stream",
     "text": [
      "\n",
      "Validation Loss after Epoch 33: 0.2944\n",
      "Test Accuracy after Epoch 33: 0.9261\n"
     ]
    },
    {
     "name": "stderr",
     "output_type": "stream",
     "text": [
      "Epoch 34/200: 100%|██████████| 10775/10775 [00:35<00:00, 307.08batch/s, Loss=0.2570]\n"
     ]
    },
    {
     "name": "stdout",
     "output_type": "stream",
     "text": [
      "\n",
      "Validation Loss after Epoch 34: 0.2934\n",
      "Test Accuracy after Epoch 34: 0.9299\n"
     ]
    },
    {
     "name": "stderr",
     "output_type": "stream",
     "text": [
      "Epoch 35/200: 100%|██████████| 10775/10775 [00:37<00:00, 285.84batch/s, Loss=0.2554]\n"
     ]
    },
    {
     "name": "stdout",
     "output_type": "stream",
     "text": [
      "\n",
      "Validation Loss after Epoch 35: 0.2935\n",
      "Test Accuracy after Epoch 35: 0.9282\n"
     ]
    },
    {
     "name": "stderr",
     "output_type": "stream",
     "text": [
      "Epoch 36/200: 100%|██████████| 10775/10775 [00:35<00:00, 302.19batch/s, Loss=0.2560]\n"
     ]
    },
    {
     "name": "stdout",
     "output_type": "stream",
     "text": [
      "\n",
      "Validation Loss after Epoch 36: 0.2926\n",
      "Test Accuracy after Epoch 36: 0.9297\n"
     ]
    },
    {
     "name": "stderr",
     "output_type": "stream",
     "text": [
      "Epoch 37/200: 100%|██████████| 10775/10775 [00:36<00:00, 296.67batch/s, Loss=0.2449]\n"
     ]
    },
    {
     "name": "stdout",
     "output_type": "stream",
     "text": [
      "\n",
      "Validation Loss after Epoch 37: 0.2923\n",
      "Test Accuracy after Epoch 37: 0.9348\n"
     ]
    },
    {
     "name": "stderr",
     "output_type": "stream",
     "text": [
      "Epoch 38/200: 100%|██████████| 10775/10775 [00:35<00:00, 300.31batch/s, Loss=0.2442]\n"
     ]
    },
    {
     "name": "stdout",
     "output_type": "stream",
     "text": [
      "\n",
      "Validation Loss after Epoch 38: 0.2935\n",
      "Test Accuracy after Epoch 38: 0.9318\n"
     ]
    },
    {
     "name": "stderr",
     "output_type": "stream",
     "text": [
      "Epoch 39/200: 100%|██████████| 10775/10775 [00:36<00:00, 297.27batch/s, Loss=0.2454]\n"
     ]
    },
    {
     "name": "stdout",
     "output_type": "stream",
     "text": [
      "\n",
      "Validation Loss after Epoch 39: 0.2928\n",
      "Test Accuracy after Epoch 39: 0.9342\n"
     ]
    },
    {
     "name": "stderr",
     "output_type": "stream",
     "text": [
      "Epoch 40/200: 100%|██████████| 10775/10775 [00:35<00:00, 300.57batch/s, Loss=0.2461]\n"
     ]
    },
    {
     "name": "stdout",
     "output_type": "stream",
     "text": [
      "\n",
      "Validation Loss after Epoch 40: 0.2917\n",
      "Test Accuracy after Epoch 40: 0.9346\n"
     ]
    },
    {
     "name": "stderr",
     "output_type": "stream",
     "text": [
      "Epoch 41/200: 100%|██████████| 10775/10775 [00:35<00:00, 301.86batch/s, Loss=0.2455]\n"
     ]
    },
    {
     "name": "stdout",
     "output_type": "stream",
     "text": [
      "\n",
      "Validation Loss after Epoch 41: 0.2928\n",
      "Test Accuracy after Epoch 41: 0.9303\n"
     ]
    },
    {
     "name": "stderr",
     "output_type": "stream",
     "text": [
      "Epoch 42/200: 100%|██████████| 10775/10775 [00:35<00:00, 301.80batch/s, Loss=0.2444]\n"
     ]
    },
    {
     "name": "stdout",
     "output_type": "stream",
     "text": [
      "\n",
      "Validation Loss after Epoch 42: 0.2931\n",
      "Test Accuracy after Epoch 42: 0.9354\n"
     ]
    },
    {
     "name": "stderr",
     "output_type": "stream",
     "text": [
      "Epoch 43/200: 100%|██████████| 10775/10775 [00:38<00:00, 281.36batch/s, Loss=0.2436]\n"
     ]
    },
    {
     "name": "stdout",
     "output_type": "stream",
     "text": [
      "\n",
      "Validation Loss after Epoch 43: 0.2919\n",
      "Test Accuracy after Epoch 43: 0.9324\n"
     ]
    },
    {
     "name": "stderr",
     "output_type": "stream",
     "text": [
      "Epoch 44/200: 100%|██████████| 10775/10775 [00:35<00:00, 302.53batch/s, Loss=0.2447]\n"
     ]
    },
    {
     "name": "stdout",
     "output_type": "stream",
     "text": [
      "\n",
      "Validation Loss after Epoch 44: 0.2938\n",
      "Test Accuracy after Epoch 44: 0.9301\n"
     ]
    },
    {
     "name": "stderr",
     "output_type": "stream",
     "text": [
      "Epoch 45/200: 100%|██████████| 10775/10775 [00:38<00:00, 279.00batch/s, Loss=0.2438]\n"
     ]
    },
    {
     "name": "stdout",
     "output_type": "stream",
     "text": [
      "\n",
      "Validation Loss after Epoch 45: 0.2940\n",
      "Test Accuracy after Epoch 45: 0.9339\n"
     ]
    },
    {
     "name": "stderr",
     "output_type": "stream",
     "text": [
      "Epoch 46/200: 100%|██████████| 10775/10775 [00:40<00:00, 265.73batch/s, Loss=0.2424]\n"
     ]
    },
    {
     "name": "stdout",
     "output_type": "stream",
     "text": [
      "\n",
      "Validation Loss after Epoch 46: 0.2935\n",
      "Test Accuracy after Epoch 46: 0.9339\n"
     ]
    },
    {
     "name": "stderr",
     "output_type": "stream",
     "text": [
      "Epoch 47/200: 100%|██████████| 10775/10775 [00:39<00:00, 272.17batch/s, Loss=0.2423]\n"
     ]
    },
    {
     "name": "stdout",
     "output_type": "stream",
     "text": [
      "\n",
      "Validation Loss after Epoch 47: 0.2935\n",
      "Test Accuracy after Epoch 47: 0.9340\n"
     ]
    },
    {
     "name": "stderr",
     "output_type": "stream",
     "text": [
      "Epoch 48/200: 100%|██████████| 10775/10775 [00:41<00:00, 258.42batch/s, Loss=0.2434]\n"
     ]
    },
    {
     "name": "stdout",
     "output_type": "stream",
     "text": [
      "\n",
      "Validation Loss after Epoch 48: 0.2937\n",
      "Test Accuracy after Epoch 48: 0.9342\n"
     ]
    },
    {
     "name": "stderr",
     "output_type": "stream",
     "text": [
      "Epoch 49/200: 100%|██████████| 10775/10775 [00:40<00:00, 264.54batch/s, Loss=0.2412]\n"
     ]
    },
    {
     "name": "stdout",
     "output_type": "stream",
     "text": [
      "\n",
      "Validation Loss after Epoch 49: 0.2937\n",
      "Test Accuracy after Epoch 49: 0.9339\n"
     ]
    },
    {
     "name": "stderr",
     "output_type": "stream",
     "text": [
      "Epoch 50/200: 100%|██████████| 10775/10775 [00:38<00:00, 279.60batch/s, Loss=0.2421]\n"
     ]
    },
    {
     "name": "stdout",
     "output_type": "stream",
     "text": [
      "\n",
      "Validation Loss after Epoch 50: 0.2937\n",
      "Test Accuracy after Epoch 50: 0.9337\n"
     ]
    },
    {
     "name": "stderr",
     "output_type": "stream",
     "text": [
      "Epoch 51/200: 100%|██████████| 10775/10775 [00:38<00:00, 278.76batch/s, Loss=0.2428]\n"
     ]
    },
    {
     "name": "stdout",
     "output_type": "stream",
     "text": [
      "\n",
      "Validation Loss after Epoch 51: 0.2938\n",
      "Test Accuracy after Epoch 51: 0.9340\n"
     ]
    },
    {
     "name": "stderr",
     "output_type": "stream",
     "text": [
      "Epoch 52/200: 100%|██████████| 10775/10775 [00:38<00:00, 277.76batch/s, Loss=0.2433]\n"
     ]
    },
    {
     "name": "stdout",
     "output_type": "stream",
     "text": [
      "\n",
      "Validation Loss after Epoch 52: 0.2938\n",
      "Test Accuracy after Epoch 52: 0.9337\n"
     ]
    },
    {
     "name": "stderr",
     "output_type": "stream",
     "text": [
      "Epoch 53/200: 100%|██████████| 10775/10775 [00:38<00:00, 278.70batch/s, Loss=0.2418]\n"
     ]
    },
    {
     "name": "stdout",
     "output_type": "stream",
     "text": [
      "\n",
      "Validation Loss after Epoch 53: 0.2938\n",
      "Test Accuracy after Epoch 53: 0.9337\n"
     ]
    },
    {
     "name": "stderr",
     "output_type": "stream",
     "text": [
      "Epoch 54/200: 100%|██████████| 10775/10775 [00:38<00:00, 277.49batch/s, Loss=0.2420]\n"
     ]
    },
    {
     "name": "stdout",
     "output_type": "stream",
     "text": [
      "\n",
      "Validation Loss after Epoch 54: 0.2938\n",
      "Test Accuracy after Epoch 54: 0.9337\n"
     ]
    },
    {
     "name": "stderr",
     "output_type": "stream",
     "text": [
      "Epoch 55/200: 100%|██████████| 10775/10775 [00:39<00:00, 274.10batch/s, Loss=0.2429]\n"
     ]
    },
    {
     "name": "stdout",
     "output_type": "stream",
     "text": [
      "\n",
      "Validation Loss after Epoch 55: 0.2938\n",
      "Test Accuracy after Epoch 55: 0.9336\n"
     ]
    },
    {
     "name": "stderr",
     "output_type": "stream",
     "text": [
      "Epoch 56/200: 100%|██████████| 10775/10775 [00:38<00:00, 277.41batch/s, Loss=0.2430]\n"
     ]
    },
    {
     "name": "stdout",
     "output_type": "stream",
     "text": [
      "\n",
      "Validation Loss after Epoch 56: 0.2938\n",
      "Test Accuracy after Epoch 56: 0.9336\n"
     ]
    },
    {
     "name": "stderr",
     "output_type": "stream",
     "text": [
      "Epoch 57/200: 100%|██████████| 10775/10775 [00:38<00:00, 277.00batch/s, Loss=0.2402]\n"
     ]
    },
    {
     "name": "stdout",
     "output_type": "stream",
     "text": [
      "\n",
      "Validation Loss after Epoch 57: 0.2937\n",
      "Test Accuracy after Epoch 57: 0.9336\n"
     ]
    },
    {
     "name": "stderr",
     "output_type": "stream",
     "text": [
      "Epoch 58/200: 100%|██████████| 10775/10775 [00:38<00:00, 277.99batch/s, Loss=0.2415]\n"
     ]
    },
    {
     "name": "stdout",
     "output_type": "stream",
     "text": [
      "\n",
      "Validation Loss after Epoch 58: 0.2937\n",
      "Test Accuracy after Epoch 58: 0.9335\n"
     ]
    },
    {
     "name": "stderr",
     "output_type": "stream",
     "text": [
      "Epoch 59/200: 100%|██████████| 10775/10775 [00:38<00:00, 279.67batch/s, Loss=0.2395]\n"
     ]
    },
    {
     "name": "stdout",
     "output_type": "stream",
     "text": [
      "\n",
      "Validation Loss after Epoch 59: 0.2937\n",
      "Test Accuracy after Epoch 59: 0.9335\n"
     ]
    },
    {
     "name": "stderr",
     "output_type": "stream",
     "text": [
      "Epoch 60/200: 100%|██████████| 10775/10775 [00:38<00:00, 279.50batch/s, Loss=0.2422]\n"
     ]
    },
    {
     "name": "stdout",
     "output_type": "stream",
     "text": [
      "\n",
      "Validation Loss after Epoch 60: 0.2937\n",
      "Test Accuracy after Epoch 60: 0.9335\n"
     ]
    },
    {
     "name": "stderr",
     "output_type": "stream",
     "text": [
      "Epoch 61/200: 100%|██████████| 10775/10775 [00:38<00:00, 280.22batch/s, Loss=0.2409]\n"
     ]
    },
    {
     "name": "stdout",
     "output_type": "stream",
     "text": [
      "\n",
      "Validation Loss after Epoch 61: 0.2937\n",
      "Test Accuracy after Epoch 61: 0.9335\n"
     ]
    },
    {
     "name": "stderr",
     "output_type": "stream",
     "text": [
      "Epoch 62/200: 100%|██████████| 10775/10775 [00:39<00:00, 276.03batch/s, Loss=0.2434]\n"
     ]
    },
    {
     "name": "stdout",
     "output_type": "stream",
     "text": [
      "\n",
      "Validation Loss after Epoch 62: 0.2937\n",
      "Test Accuracy after Epoch 62: 0.9335\n"
     ]
    },
    {
     "name": "stderr",
     "output_type": "stream",
     "text": [
      "Epoch 63/200: 100%|██████████| 10775/10775 [00:38<00:00, 276.74batch/s, Loss=0.2413]\n"
     ]
    },
    {
     "name": "stdout",
     "output_type": "stream",
     "text": [
      "\n",
      "Validation Loss after Epoch 63: 0.2937\n",
      "Test Accuracy after Epoch 63: 0.9335\n"
     ]
    },
    {
     "name": "stderr",
     "output_type": "stream",
     "text": [
      "Epoch 64/200: 100%|██████████| 10775/10775 [00:38<00:00, 279.00batch/s, Loss=0.2419]\n"
     ]
    },
    {
     "name": "stdout",
     "output_type": "stream",
     "text": [
      "\n",
      "Validation Loss after Epoch 64: 0.2937\n",
      "Test Accuracy after Epoch 64: 0.9335\n"
     ]
    },
    {
     "name": "stderr",
     "output_type": "stream",
     "text": [
      "Epoch 65/200: 100%|██████████| 10775/10775 [00:38<00:00, 281.94batch/s, Loss=0.2409]\n"
     ]
    },
    {
     "name": "stdout",
     "output_type": "stream",
     "text": [
      "\n",
      "Validation Loss after Epoch 65: 0.2937\n",
      "Test Accuracy after Epoch 65: 0.9335\n"
     ]
    },
    {
     "name": "stderr",
     "output_type": "stream",
     "text": [
      "Epoch 66/200: 100%|██████████| 10775/10775 [00:38<00:00, 279.54batch/s, Loss=0.2405]\n"
     ]
    },
    {
     "name": "stdout",
     "output_type": "stream",
     "text": [
      "\n",
      "Validation Loss after Epoch 66: 0.2937\n",
      "Test Accuracy after Epoch 66: 0.9335\n"
     ]
    },
    {
     "name": "stderr",
     "output_type": "stream",
     "text": [
      "Epoch 67/200: 100%|██████████| 10775/10775 [00:38<00:00, 278.12batch/s, Loss=0.2443]\n"
     ]
    },
    {
     "name": "stdout",
     "output_type": "stream",
     "text": [
      "\n",
      "Validation Loss after Epoch 67: 0.2937\n",
      "Test Accuracy after Epoch 67: 0.9335\n"
     ]
    },
    {
     "name": "stderr",
     "output_type": "stream",
     "text": [
      "Epoch 68/200: 100%|██████████| 10775/10775 [00:38<00:00, 280.45batch/s, Loss=0.2431]\n"
     ]
    },
    {
     "name": "stdout",
     "output_type": "stream",
     "text": [
      "\n",
      "Validation Loss after Epoch 68: 0.2937\n",
      "Test Accuracy after Epoch 68: 0.9335\n"
     ]
    },
    {
     "name": "stderr",
     "output_type": "stream",
     "text": [
      "Epoch 69/200: 100%|██████████| 10775/10775 [00:38<00:00, 281.20batch/s, Loss=0.2415]\n"
     ]
    },
    {
     "name": "stdout",
     "output_type": "stream",
     "text": [
      "\n",
      "Validation Loss after Epoch 69: 0.2936\n",
      "Test Accuracy after Epoch 69: 0.9335\n"
     ]
    },
    {
     "name": "stderr",
     "output_type": "stream",
     "text": [
      "Epoch 70/200: 100%|██████████| 10775/10775 [00:38<00:00, 276.79batch/s, Loss=0.2435]\n"
     ]
    },
    {
     "name": "stdout",
     "output_type": "stream",
     "text": [
      "\n",
      "Validation Loss after Epoch 70: 0.2936\n",
      "Test Accuracy after Epoch 70: 0.9335\n"
     ]
    },
    {
     "name": "stderr",
     "output_type": "stream",
     "text": [
      "Epoch 71/200: 100%|██████████| 10775/10775 [00:38<00:00, 278.18batch/s, Loss=0.2384]\n"
     ]
    },
    {
     "name": "stdout",
     "output_type": "stream",
     "text": [
      "\n",
      "Validation Loss after Epoch 71: 0.2936\n",
      "Test Accuracy after Epoch 71: 0.9334\n"
     ]
    },
    {
     "name": "stderr",
     "output_type": "stream",
     "text": [
      "Epoch 72/200: 100%|██████████| 10775/10775 [00:39<00:00, 275.60batch/s, Loss=0.2409]\n"
     ]
    },
    {
     "name": "stdout",
     "output_type": "stream",
     "text": [
      "\n",
      "Validation Loss after Epoch 72: 0.2936\n",
      "Test Accuracy after Epoch 72: 0.9334\n"
     ]
    },
    {
     "name": "stderr",
     "output_type": "stream",
     "text": [
      "Epoch 73/200: 100%|██████████| 10775/10775 [00:38<00:00, 277.63batch/s, Loss=0.2400]\n"
     ]
    },
    {
     "name": "stdout",
     "output_type": "stream",
     "text": [
      "\n",
      "Validation Loss after Epoch 73: 0.2936\n",
      "Test Accuracy after Epoch 73: 0.9334\n"
     ]
    },
    {
     "name": "stderr",
     "output_type": "stream",
     "text": [
      "Epoch 74/200: 100%|██████████| 10775/10775 [00:38<00:00, 280.27batch/s, Loss=0.2416]\n"
     ]
    },
    {
     "name": "stdout",
     "output_type": "stream",
     "text": [
      "\n",
      "Validation Loss after Epoch 74: 0.2936\n",
      "Test Accuracy after Epoch 74: 0.9334\n"
     ]
    },
    {
     "name": "stderr",
     "output_type": "stream",
     "text": [
      "Epoch 75/200: 100%|██████████| 10775/10775 [00:38<00:00, 277.98batch/s, Loss=0.2418]\n"
     ]
    },
    {
     "name": "stdout",
     "output_type": "stream",
     "text": [
      "\n",
      "Validation Loss after Epoch 75: 0.2936\n",
      "Test Accuracy after Epoch 75: 0.9334\n"
     ]
    },
    {
     "name": "stderr",
     "output_type": "stream",
     "text": [
      "Epoch 76/200: 100%|██████████| 10775/10775 [00:38<00:00, 276.65batch/s, Loss=0.2408]\n"
     ]
    },
    {
     "name": "stdout",
     "output_type": "stream",
     "text": [
      "\n",
      "Validation Loss after Epoch 76: 0.2936\n",
      "Test Accuracy after Epoch 76: 0.9334\n"
     ]
    },
    {
     "name": "stderr",
     "output_type": "stream",
     "text": [
      "Epoch 77/200: 100%|██████████| 10775/10775 [00:38<00:00, 277.34batch/s, Loss=0.2429]\n"
     ]
    },
    {
     "name": "stdout",
     "output_type": "stream",
     "text": [
      "\n",
      "Validation Loss after Epoch 77: 0.2936\n",
      "Test Accuracy after Epoch 77: 0.9334\n"
     ]
    },
    {
     "name": "stderr",
     "output_type": "stream",
     "text": [
      "Epoch 78/200: 100%|██████████| 10775/10775 [00:38<00:00, 277.97batch/s, Loss=0.2416]\n"
     ]
    },
    {
     "name": "stdout",
     "output_type": "stream",
     "text": [
      "\n",
      "Validation Loss after Epoch 78: 0.2936\n",
      "Test Accuracy after Epoch 78: 0.9334\n"
     ]
    },
    {
     "name": "stderr",
     "output_type": "stream",
     "text": [
      "Epoch 79/200: 100%|██████████| 10775/10775 [00:38<00:00, 278.86batch/s, Loss=0.2422]\n"
     ]
    },
    {
     "name": "stdout",
     "output_type": "stream",
     "text": [
      "\n",
      "Validation Loss after Epoch 79: 0.2936\n",
      "Test Accuracy after Epoch 79: 0.9334\n"
     ]
    },
    {
     "name": "stderr",
     "output_type": "stream",
     "text": [
      "Epoch 80/200: 100%|██████████| 10775/10775 [00:38<00:00, 277.47batch/s, Loss=0.2409]\n"
     ]
    },
    {
     "name": "stdout",
     "output_type": "stream",
     "text": [
      "\n",
      "Validation Loss after Epoch 80: 0.2936\n",
      "Test Accuracy after Epoch 80: 0.9334\n"
     ]
    },
    {
     "name": "stderr",
     "output_type": "stream",
     "text": [
      "Epoch 81/200: 100%|██████████| 10775/10775 [00:38<00:00, 277.62batch/s, Loss=0.2429]\n"
     ]
    },
    {
     "name": "stdout",
     "output_type": "stream",
     "text": [
      "\n",
      "Validation Loss after Epoch 81: 0.2936\n",
      "Test Accuracy after Epoch 81: 0.9334\n"
     ]
    },
    {
     "name": "stderr",
     "output_type": "stream",
     "text": [
      "Epoch 82/200: 100%|██████████| 10775/10775 [00:38<00:00, 278.16batch/s, Loss=0.2418]\n"
     ]
    },
    {
     "name": "stdout",
     "output_type": "stream",
     "text": [
      "\n",
      "Validation Loss after Epoch 82: 0.2936\n",
      "Test Accuracy after Epoch 82: 0.9333\n"
     ]
    },
    {
     "name": "stderr",
     "output_type": "stream",
     "text": [
      "Epoch 83/200: 100%|██████████| 10775/10775 [00:38<00:00, 277.54batch/s, Loss=0.2414]\n"
     ]
    },
    {
     "name": "stdout",
     "output_type": "stream",
     "text": [
      "\n",
      "Validation Loss after Epoch 83: 0.2936\n",
      "Test Accuracy after Epoch 83: 0.9333\n"
     ]
    },
    {
     "name": "stderr",
     "output_type": "stream",
     "text": [
      "Epoch 84/200: 100%|██████████| 10775/10775 [00:38<00:00, 276.34batch/s, Loss=0.2428]\n"
     ]
    },
    {
     "name": "stdout",
     "output_type": "stream",
     "text": [
      "\n",
      "Validation Loss after Epoch 84: 0.2936\n",
      "Test Accuracy after Epoch 84: 0.9333\n"
     ]
    },
    {
     "name": "stderr",
     "output_type": "stream",
     "text": [
      "Epoch 85/200: 100%|██████████| 10775/10775 [00:38<00:00, 277.72batch/s, Loss=0.2426]\n"
     ]
    },
    {
     "name": "stdout",
     "output_type": "stream",
     "text": [
      "\n",
      "Validation Loss after Epoch 85: 0.2936\n",
      "Test Accuracy after Epoch 85: 0.9333\n"
     ]
    },
    {
     "name": "stderr",
     "output_type": "stream",
     "text": [
      "Epoch 86/200: 100%|██████████| 10775/10775 [00:38<00:00, 278.11batch/s, Loss=0.2409]\n"
     ]
    },
    {
     "name": "stdout",
     "output_type": "stream",
     "text": [
      "\n",
      "Validation Loss after Epoch 86: 0.2936\n",
      "Test Accuracy after Epoch 86: 0.9333\n"
     ]
    },
    {
     "name": "stderr",
     "output_type": "stream",
     "text": [
      "Epoch 87/200: 100%|██████████| 10775/10775 [00:38<00:00, 277.94batch/s, Loss=0.2420]\n"
     ]
    },
    {
     "name": "stdout",
     "output_type": "stream",
     "text": [
      "\n",
      "Validation Loss after Epoch 87: 0.2936\n",
      "Test Accuracy after Epoch 87: 0.9333\n"
     ]
    },
    {
     "name": "stderr",
     "output_type": "stream",
     "text": [
      "Epoch 88/200: 100%|██████████| 10775/10775 [00:38<00:00, 277.88batch/s, Loss=0.2407]\n"
     ]
    },
    {
     "name": "stdout",
     "output_type": "stream",
     "text": [
      "\n",
      "Validation Loss after Epoch 88: 0.2936\n",
      "Test Accuracy after Epoch 88: 0.9333\n"
     ]
    },
    {
     "name": "stderr",
     "output_type": "stream",
     "text": [
      "Epoch 89/200: 100%|██████████| 10775/10775 [00:38<00:00, 277.39batch/s, Loss=0.2428]\n"
     ]
    },
    {
     "name": "stdout",
     "output_type": "stream",
     "text": [
      "\n",
      "Validation Loss after Epoch 89: 0.2936\n",
      "Test Accuracy after Epoch 89: 0.9333\n"
     ]
    },
    {
     "name": "stderr",
     "output_type": "stream",
     "text": [
      "Epoch 90/200: 100%|██████████| 10775/10775 [00:38<00:00, 276.36batch/s, Loss=0.2423]\n"
     ]
    },
    {
     "name": "stdout",
     "output_type": "stream",
     "text": [
      "\n",
      "Validation Loss after Epoch 90: 0.2936\n",
      "Test Accuracy after Epoch 90: 0.9333\n"
     ]
    },
    {
     "name": "stderr",
     "output_type": "stream",
     "text": [
      "Epoch 91/200: 100%|██████████| 10775/10775 [00:39<00:00, 275.46batch/s, Loss=0.2417]\n"
     ]
    },
    {
     "name": "stdout",
     "output_type": "stream",
     "text": [
      "\n",
      "Validation Loss after Epoch 91: 0.2936\n",
      "Test Accuracy after Epoch 91: 0.9333\n"
     ]
    },
    {
     "name": "stderr",
     "output_type": "stream",
     "text": [
      "Epoch 92/200: 100%|██████████| 10775/10775 [00:38<00:00, 276.97batch/s, Loss=0.2413]\n"
     ]
    },
    {
     "name": "stdout",
     "output_type": "stream",
     "text": [
      "\n",
      "Validation Loss after Epoch 92: 0.2936\n",
      "Test Accuracy after Epoch 92: 0.9333\n"
     ]
    },
    {
     "name": "stderr",
     "output_type": "stream",
     "text": [
      "Epoch 93/200: 100%|██████████| 10775/10775 [00:39<00:00, 270.33batch/s, Loss=0.2415]\n"
     ]
    },
    {
     "name": "stdout",
     "output_type": "stream",
     "text": [
      "\n",
      "Validation Loss after Epoch 93: 0.2936\n",
      "Test Accuracy after Epoch 93: 0.9333\n"
     ]
    },
    {
     "name": "stderr",
     "output_type": "stream",
     "text": [
      "Epoch 94/200: 100%|██████████| 10775/10775 [00:39<00:00, 274.42batch/s, Loss=0.2432]\n"
     ]
    },
    {
     "name": "stdout",
     "output_type": "stream",
     "text": [
      "\n",
      "Validation Loss after Epoch 94: 0.2936\n",
      "Test Accuracy after Epoch 94: 0.9333\n"
     ]
    },
    {
     "name": "stderr",
     "output_type": "stream",
     "text": [
      "Epoch 95/200: 100%|██████████| 10775/10775 [00:38<00:00, 276.57batch/s, Loss=0.2411]\n"
     ]
    },
    {
     "name": "stdout",
     "output_type": "stream",
     "text": [
      "\n",
      "Validation Loss after Epoch 95: 0.2936\n",
      "Test Accuracy after Epoch 95: 0.9333\n"
     ]
    },
    {
     "name": "stderr",
     "output_type": "stream",
     "text": [
      "Epoch 96/200: 100%|██████████| 10775/10775 [00:38<00:00, 276.64batch/s, Loss=0.2415]\n"
     ]
    },
    {
     "name": "stdout",
     "output_type": "stream",
     "text": [
      "\n",
      "Validation Loss after Epoch 96: 0.2936\n",
      "Test Accuracy after Epoch 96: 0.9333\n"
     ]
    },
    {
     "name": "stderr",
     "output_type": "stream",
     "text": [
      "Epoch 97/200: 100%|██████████| 10775/10775 [00:38<00:00, 278.97batch/s, Loss=0.2410]\n"
     ]
    },
    {
     "name": "stdout",
     "output_type": "stream",
     "text": [
      "\n",
      "Validation Loss after Epoch 97: 0.2936\n",
      "Test Accuracy after Epoch 97: 0.9333\n"
     ]
    },
    {
     "name": "stderr",
     "output_type": "stream",
     "text": [
      "Epoch 98/200: 100%|██████████| 10775/10775 [00:38<00:00, 279.46batch/s, Loss=0.2420]\n"
     ]
    },
    {
     "name": "stdout",
     "output_type": "stream",
     "text": [
      "\n",
      "Validation Loss after Epoch 98: 0.2936\n",
      "Test Accuracy after Epoch 98: 0.9332\n"
     ]
    },
    {
     "name": "stderr",
     "output_type": "stream",
     "text": [
      "Epoch 99/200: 100%|██████████| 10775/10775 [00:38<00:00, 278.98batch/s, Loss=0.2414]\n"
     ]
    },
    {
     "name": "stdout",
     "output_type": "stream",
     "text": [
      "\n",
      "Validation Loss after Epoch 99: 0.2936\n",
      "Test Accuracy after Epoch 99: 0.9332\n"
     ]
    },
    {
     "name": "stderr",
     "output_type": "stream",
     "text": [
      "Epoch 100/200: 100%|██████████| 10775/10775 [00:38<00:00, 278.03batch/s, Loss=0.2432]\n"
     ]
    },
    {
     "name": "stdout",
     "output_type": "stream",
     "text": [
      "\n",
      "Validation Loss after Epoch 100: 0.2936\n",
      "Test Accuracy after Epoch 100: 0.9333\n"
     ]
    },
    {
     "name": "stderr",
     "output_type": "stream",
     "text": [
      "Epoch 101/200: 100%|██████████| 10775/10775 [00:38<00:00, 278.79batch/s, Loss=0.2445]\n"
     ]
    },
    {
     "name": "stdout",
     "output_type": "stream",
     "text": [
      "\n",
      "Validation Loss after Epoch 101: 0.2936\n",
      "Test Accuracy after Epoch 101: 0.9333\n"
     ]
    },
    {
     "name": "stderr",
     "output_type": "stream",
     "text": [
      "Epoch 102/200: 100%|██████████| 10775/10775 [00:38<00:00, 279.58batch/s, Loss=0.2410]\n"
     ]
    },
    {
     "name": "stdout",
     "output_type": "stream",
     "text": [
      "\n",
      "Validation Loss after Epoch 102: 0.2935\n",
      "Test Accuracy after Epoch 102: 0.9332\n"
     ]
    },
    {
     "name": "stderr",
     "output_type": "stream",
     "text": [
      "Epoch 103/200: 100%|██████████| 10775/10775 [00:38<00:00, 277.26batch/s, Loss=0.2418]\n"
     ]
    },
    {
     "name": "stdout",
     "output_type": "stream",
     "text": [
      "\n",
      "Validation Loss after Epoch 103: 0.2935\n",
      "Test Accuracy after Epoch 103: 0.9332\n"
     ]
    },
    {
     "name": "stderr",
     "output_type": "stream",
     "text": [
      "Epoch 104/200: 100%|██████████| 10775/10775 [00:39<00:00, 275.28batch/s, Loss=0.2420]\n"
     ]
    },
    {
     "name": "stdout",
     "output_type": "stream",
     "text": [
      "\n",
      "Validation Loss after Epoch 104: 0.2935\n",
      "Test Accuracy after Epoch 104: 0.9332\n"
     ]
    },
    {
     "name": "stderr",
     "output_type": "stream",
     "text": [
      "Epoch 105/200: 100%|██████████| 10775/10775 [00:39<00:00, 275.43batch/s, Loss=0.2408]\n"
     ]
    },
    {
     "name": "stdout",
     "output_type": "stream",
     "text": [
      "\n",
      "Validation Loss after Epoch 105: 0.2935\n",
      "Test Accuracy after Epoch 105: 0.9332\n"
     ]
    },
    {
     "name": "stderr",
     "output_type": "stream",
     "text": [
      "Epoch 106/200: 100%|██████████| 10775/10775 [00:39<00:00, 275.28batch/s, Loss=0.2401]\n"
     ]
    },
    {
     "name": "stdout",
     "output_type": "stream",
     "text": [
      "\n",
      "Validation Loss after Epoch 106: 0.2935\n",
      "Test Accuracy after Epoch 106: 0.9332\n"
     ]
    },
    {
     "name": "stderr",
     "output_type": "stream",
     "text": [
      "Epoch 107/200: 100%|██████████| 10775/10775 [00:39<00:00, 274.55batch/s, Loss=0.2415]\n"
     ]
    },
    {
     "name": "stdout",
     "output_type": "stream",
     "text": [
      "\n",
      "Validation Loss after Epoch 107: 0.2935\n",
      "Test Accuracy after Epoch 107: 0.9332\n"
     ]
    },
    {
     "name": "stderr",
     "output_type": "stream",
     "text": [
      "Epoch 108/200: 100%|██████████| 10775/10775 [00:39<00:00, 275.15batch/s, Loss=0.2434]\n"
     ]
    },
    {
     "name": "stdout",
     "output_type": "stream",
     "text": [
      "\n",
      "Validation Loss after Epoch 108: 0.2935\n",
      "Test Accuracy after Epoch 108: 0.9332\n"
     ]
    },
    {
     "name": "stderr",
     "output_type": "stream",
     "text": [
      "Epoch 109/200: 100%|██████████| 10775/10775 [00:39<00:00, 276.08batch/s, Loss=0.2418]\n"
     ]
    },
    {
     "name": "stdout",
     "output_type": "stream",
     "text": [
      "\n",
      "Validation Loss after Epoch 109: 0.2935\n",
      "Test Accuracy after Epoch 109: 0.9332\n"
     ]
    },
    {
     "name": "stderr",
     "output_type": "stream",
     "text": [
      "Epoch 110/200: 100%|██████████| 10775/10775 [00:39<00:00, 274.62batch/s, Loss=0.2424]\n"
     ]
    },
    {
     "name": "stdout",
     "output_type": "stream",
     "text": [
      "\n",
      "Validation Loss after Epoch 110: 0.2935\n",
      "Test Accuracy after Epoch 110: 0.9332\n"
     ]
    },
    {
     "name": "stderr",
     "output_type": "stream",
     "text": [
      "Epoch 111/200: 100%|██████████| 10775/10775 [00:40<00:00, 267.28batch/s, Loss=0.2428]\n"
     ]
    },
    {
     "name": "stdout",
     "output_type": "stream",
     "text": [
      "\n",
      "Validation Loss after Epoch 111: 0.2935\n",
      "Test Accuracy after Epoch 111: 0.9332\n"
     ]
    },
    {
     "name": "stderr",
     "output_type": "stream",
     "text": [
      "Epoch 112/200: 100%|██████████| 10775/10775 [00:39<00:00, 274.76batch/s, Loss=0.2404]\n"
     ]
    },
    {
     "name": "stdout",
     "output_type": "stream",
     "text": [
      "\n",
      "Validation Loss after Epoch 112: 0.2935\n",
      "Test Accuracy after Epoch 112: 0.9332\n"
     ]
    },
    {
     "name": "stderr",
     "output_type": "stream",
     "text": [
      "Epoch 113/200: 100%|██████████| 10775/10775 [00:39<00:00, 275.60batch/s, Loss=0.2406]\n"
     ]
    },
    {
     "name": "stdout",
     "output_type": "stream",
     "text": [
      "\n",
      "Validation Loss after Epoch 113: 0.2935\n",
      "Test Accuracy after Epoch 113: 0.9332\n"
     ]
    },
    {
     "name": "stderr",
     "output_type": "stream",
     "text": [
      "Epoch 114/200: 100%|██████████| 10775/10775 [00:39<00:00, 269.83batch/s, Loss=0.2406]\n"
     ]
    },
    {
     "name": "stdout",
     "output_type": "stream",
     "text": [
      "\n",
      "Validation Loss after Epoch 114: 0.2935\n",
      "Test Accuracy after Epoch 114: 0.9332\n"
     ]
    },
    {
     "name": "stderr",
     "output_type": "stream",
     "text": [
      "Epoch 115/200: 100%|██████████| 10775/10775 [00:39<00:00, 271.70batch/s, Loss=0.2436]\n"
     ]
    },
    {
     "name": "stdout",
     "output_type": "stream",
     "text": [
      "\n",
      "Validation Loss after Epoch 115: 0.2935\n",
      "Test Accuracy after Epoch 115: 0.9332\n"
     ]
    },
    {
     "name": "stderr",
     "output_type": "stream",
     "text": [
      "Epoch 116/200: 100%|██████████| 10775/10775 [00:39<00:00, 275.07batch/s, Loss=0.2435]\n"
     ]
    },
    {
     "name": "stdout",
     "output_type": "stream",
     "text": [
      "\n",
      "Validation Loss after Epoch 116: 0.2935\n",
      "Test Accuracy after Epoch 116: 0.9332\n"
     ]
    },
    {
     "name": "stderr",
     "output_type": "stream",
     "text": [
      "Epoch 117/200: 100%|██████████| 10775/10775 [00:39<00:00, 273.54batch/s, Loss=0.2425]\n"
     ]
    },
    {
     "name": "stdout",
     "output_type": "stream",
     "text": [
      "\n",
      "Validation Loss after Epoch 117: 0.2935\n",
      "Test Accuracy after Epoch 117: 0.9332\n"
     ]
    },
    {
     "name": "stderr",
     "output_type": "stream",
     "text": [
      "Epoch 118/200: 100%|██████████| 10775/10775 [00:39<00:00, 273.61batch/s, Loss=0.2422]\n"
     ]
    },
    {
     "name": "stdout",
     "output_type": "stream",
     "text": [
      "\n",
      "Validation Loss after Epoch 118: 0.2935\n",
      "Test Accuracy after Epoch 118: 0.9332\n"
     ]
    },
    {
     "name": "stderr",
     "output_type": "stream",
     "text": [
      "Epoch 119/200: 100%|██████████| 10775/10775 [00:39<00:00, 275.95batch/s, Loss=0.2427]\n"
     ]
    },
    {
     "name": "stdout",
     "output_type": "stream",
     "text": [
      "\n",
      "Validation Loss after Epoch 119: 0.2935\n",
      "Test Accuracy after Epoch 119: 0.9332\n"
     ]
    },
    {
     "name": "stderr",
     "output_type": "stream",
     "text": [
      "Epoch 120/200: 100%|██████████| 10775/10775 [00:39<00:00, 275.24batch/s, Loss=0.2410]\n"
     ]
    },
    {
     "name": "stdout",
     "output_type": "stream",
     "text": [
      "\n",
      "Validation Loss after Epoch 120: 0.2935\n",
      "Test Accuracy after Epoch 120: 0.9331\n"
     ]
    },
    {
     "name": "stderr",
     "output_type": "stream",
     "text": [
      "Epoch 121/200: 100%|██████████| 10775/10775 [00:38<00:00, 278.37batch/s, Loss=0.2428]\n"
     ]
    },
    {
     "name": "stdout",
     "output_type": "stream",
     "text": [
      "\n",
      "Validation Loss after Epoch 121: 0.2935\n",
      "Test Accuracy after Epoch 121: 0.9331\n"
     ]
    },
    {
     "name": "stderr",
     "output_type": "stream",
     "text": [
      "Epoch 122/200: 100%|██████████| 10775/10775 [00:38<00:00, 277.53batch/s, Loss=0.2414]\n"
     ]
    },
    {
     "name": "stdout",
     "output_type": "stream",
     "text": [
      "\n",
      "Validation Loss after Epoch 122: 0.2935\n",
      "Test Accuracy after Epoch 122: 0.9331\n"
     ]
    },
    {
     "name": "stderr",
     "output_type": "stream",
     "text": [
      "Epoch 123/200: 100%|██████████| 10775/10775 [00:38<00:00, 277.64batch/s, Loss=0.2415]\n"
     ]
    },
    {
     "name": "stdout",
     "output_type": "stream",
     "text": [
      "\n",
      "Validation Loss after Epoch 123: 0.2935\n",
      "Test Accuracy after Epoch 123: 0.9331\n"
     ]
    },
    {
     "name": "stderr",
     "output_type": "stream",
     "text": [
      "Epoch 124/200: 100%|██████████| 10775/10775 [00:38<00:00, 277.92batch/s, Loss=0.2420]\n"
     ]
    },
    {
     "name": "stdout",
     "output_type": "stream",
     "text": [
      "\n",
      "Validation Loss after Epoch 124: 0.2935\n",
      "Test Accuracy after Epoch 124: 0.9331\n"
     ]
    },
    {
     "name": "stderr",
     "output_type": "stream",
     "text": [
      "Epoch 125/200: 100%|██████████| 10775/10775 [00:39<00:00, 274.42batch/s, Loss=0.2439]\n"
     ]
    },
    {
     "name": "stdout",
     "output_type": "stream",
     "text": [
      "\n",
      "Validation Loss after Epoch 125: 0.2935\n",
      "Test Accuracy after Epoch 125: 0.9331\n"
     ]
    },
    {
     "name": "stderr",
     "output_type": "stream",
     "text": [
      "Epoch 126/200: 100%|██████████| 10775/10775 [00:39<00:00, 276.12batch/s, Loss=0.2408]\n"
     ]
    },
    {
     "name": "stdout",
     "output_type": "stream",
     "text": [
      "\n",
      "Validation Loss after Epoch 126: 0.2935\n",
      "Test Accuracy after Epoch 126: 0.9331\n"
     ]
    },
    {
     "name": "stderr",
     "output_type": "stream",
     "text": [
      "Epoch 127/200: 100%|██████████| 10775/10775 [00:39<00:00, 275.39batch/s, Loss=0.2404]\n"
     ]
    },
    {
     "name": "stdout",
     "output_type": "stream",
     "text": [
      "\n",
      "Validation Loss after Epoch 127: 0.2935\n",
      "Test Accuracy after Epoch 127: 0.9331\n"
     ]
    },
    {
     "name": "stderr",
     "output_type": "stream",
     "text": [
      "Epoch 128/200: 100%|██████████| 10775/10775 [00:39<00:00, 274.93batch/s, Loss=0.2411]\n"
     ]
    },
    {
     "name": "stdout",
     "output_type": "stream",
     "text": [
      "\n",
      "Validation Loss after Epoch 128: 0.2935\n",
      "Test Accuracy after Epoch 128: 0.9331\n"
     ]
    },
    {
     "name": "stderr",
     "output_type": "stream",
     "text": [
      "Epoch 129/200: 100%|██████████| 10775/10775 [00:39<00:00, 275.00batch/s, Loss=0.2414]\n"
     ]
    },
    {
     "name": "stdout",
     "output_type": "stream",
     "text": [
      "\n",
      "Validation Loss after Epoch 129: 0.2935\n",
      "Test Accuracy after Epoch 129: 0.9331\n"
     ]
    },
    {
     "name": "stderr",
     "output_type": "stream",
     "text": [
      "Epoch 130/200: 100%|██████████| 10775/10775 [00:39<00:00, 275.17batch/s, Loss=0.2411]\n"
     ]
    },
    {
     "name": "stdout",
     "output_type": "stream",
     "text": [
      "\n",
      "Validation Loss after Epoch 130: 0.2935\n",
      "Test Accuracy after Epoch 130: 0.9331\n"
     ]
    },
    {
     "name": "stderr",
     "output_type": "stream",
     "text": [
      "Epoch 131/200: 100%|██████████| 10775/10775 [00:39<00:00, 272.45batch/s, Loss=0.2420]\n"
     ]
    },
    {
     "name": "stdout",
     "output_type": "stream",
     "text": [
      "\n",
      "Validation Loss after Epoch 131: 0.2935\n",
      "Test Accuracy after Epoch 131: 0.9331\n"
     ]
    },
    {
     "name": "stderr",
     "output_type": "stream",
     "text": [
      "Epoch 132/200: 100%|██████████| 10775/10775 [00:40<00:00, 267.51batch/s, Loss=0.2418]\n"
     ]
    },
    {
     "name": "stdout",
     "output_type": "stream",
     "text": [
      "\n",
      "Validation Loss after Epoch 132: 0.2935\n",
      "Test Accuracy after Epoch 132: 0.9330\n"
     ]
    },
    {
     "name": "stderr",
     "output_type": "stream",
     "text": [
      "Epoch 133/200: 100%|██████████| 10775/10775 [00:42<00:00, 254.04batch/s, Loss=0.2419]\n"
     ]
    },
    {
     "name": "stdout",
     "output_type": "stream",
     "text": [
      "\n",
      "Validation Loss after Epoch 133: 0.2935\n",
      "Test Accuracy after Epoch 133: 0.9330\n"
     ]
    },
    {
     "name": "stderr",
     "output_type": "stream",
     "text": [
      "Epoch 134/200: 100%|██████████| 10775/10775 [00:33<00:00, 318.01batch/s, Loss=0.2424]\n"
     ]
    },
    {
     "name": "stdout",
     "output_type": "stream",
     "text": [
      "\n",
      "Validation Loss after Epoch 134: 0.2935\n",
      "Test Accuracy after Epoch 134: 0.9330\n"
     ]
    },
    {
     "name": "stderr",
     "output_type": "stream",
     "text": [
      "Epoch 135/200: 100%|██████████| 10775/10775 [00:33<00:00, 319.41batch/s, Loss=0.2413]\n"
     ]
    },
    {
     "name": "stdout",
     "output_type": "stream",
     "text": [
      "\n",
      "Validation Loss after Epoch 135: 0.2935\n",
      "Test Accuracy after Epoch 135: 0.9330\n"
     ]
    },
    {
     "name": "stderr",
     "output_type": "stream",
     "text": [
      "Epoch 136/200: 100%|██████████| 10775/10775 [00:33<00:00, 319.23batch/s, Loss=0.2425]\n"
     ]
    },
    {
     "name": "stdout",
     "output_type": "stream",
     "text": [
      "\n",
      "Validation Loss after Epoch 136: 0.2935\n",
      "Test Accuracy after Epoch 136: 0.9330\n"
     ]
    },
    {
     "name": "stderr",
     "output_type": "stream",
     "text": [
      "Epoch 137/200: 100%|██████████| 10775/10775 [00:35<00:00, 300.63batch/s, Loss=0.2402]\n"
     ]
    },
    {
     "name": "stdout",
     "output_type": "stream",
     "text": [
      "\n",
      "Validation Loss after Epoch 137: 0.2935\n",
      "Test Accuracy after Epoch 137: 0.9330\n"
     ]
    },
    {
     "name": "stderr",
     "output_type": "stream",
     "text": [
      "Epoch 138/200: 100%|██████████| 10775/10775 [00:34<00:00, 311.30batch/s, Loss=0.2428]\n"
     ]
    },
    {
     "name": "stdout",
     "output_type": "stream",
     "text": [
      "\n",
      "Validation Loss after Epoch 138: 0.2935\n",
      "Test Accuracy after Epoch 138: 0.9330\n"
     ]
    },
    {
     "name": "stderr",
     "output_type": "stream",
     "text": [
      "Epoch 139/200: 100%|██████████| 10775/10775 [00:34<00:00, 316.32batch/s, Loss=0.2412]\n"
     ]
    },
    {
     "name": "stdout",
     "output_type": "stream",
     "text": [
      "\n",
      "Validation Loss after Epoch 139: 0.2935\n",
      "Test Accuracy after Epoch 139: 0.9330\n"
     ]
    },
    {
     "name": "stderr",
     "output_type": "stream",
     "text": [
      "Epoch 140/200: 100%|██████████| 10775/10775 [00:33<00:00, 321.49batch/s, Loss=0.2420]\n"
     ]
    },
    {
     "name": "stdout",
     "output_type": "stream",
     "text": [
      "\n",
      "Validation Loss after Epoch 140: 0.2934\n",
      "Test Accuracy after Epoch 140: 0.9330\n"
     ]
    },
    {
     "name": "stderr",
     "output_type": "stream",
     "text": [
      "Epoch 141/200: 100%|██████████| 10775/10775 [00:33<00:00, 320.23batch/s, Loss=0.2401]\n"
     ]
    },
    {
     "name": "stdout",
     "output_type": "stream",
     "text": [
      "\n",
      "Validation Loss after Epoch 141: 0.2934\n",
      "Test Accuracy after Epoch 141: 0.9330\n"
     ]
    },
    {
     "name": "stderr",
     "output_type": "stream",
     "text": [
      "Epoch 142/200: 100%|██████████| 10775/10775 [00:33<00:00, 321.08batch/s, Loss=0.2406]\n"
     ]
    },
    {
     "name": "stdout",
     "output_type": "stream",
     "text": [
      "\n",
      "Validation Loss after Epoch 142: 0.2934\n",
      "Test Accuracy after Epoch 142: 0.9329\n"
     ]
    },
    {
     "name": "stderr",
     "output_type": "stream",
     "text": [
      "Epoch 143/200: 100%|██████████| 10775/10775 [00:33<00:00, 319.16batch/s, Loss=0.2416]\n"
     ]
    },
    {
     "name": "stdout",
     "output_type": "stream",
     "text": [
      "\n",
      "Validation Loss after Epoch 143: 0.2934\n",
      "Test Accuracy after Epoch 143: 0.9329\n"
     ]
    },
    {
     "name": "stderr",
     "output_type": "stream",
     "text": [
      "Epoch 144/200: 100%|██████████| 10775/10775 [00:33<00:00, 322.39batch/s, Loss=0.2428]\n"
     ]
    },
    {
     "name": "stdout",
     "output_type": "stream",
     "text": [
      "\n",
      "Validation Loss after Epoch 144: 0.2934\n",
      "Test Accuracy after Epoch 144: 0.9329\n"
     ]
    },
    {
     "name": "stderr",
     "output_type": "stream",
     "text": [
      "Epoch 145/200: 100%|██████████| 10775/10775 [00:33<00:00, 323.33batch/s, Loss=0.2416]\n"
     ]
    },
    {
     "name": "stdout",
     "output_type": "stream",
     "text": [
      "\n",
      "Validation Loss after Epoch 145: 0.2934\n",
      "Test Accuracy after Epoch 145: 0.9329\n"
     ]
    },
    {
     "name": "stderr",
     "output_type": "stream",
     "text": [
      "Epoch 146/200: 100%|██████████| 10775/10775 [00:34<00:00, 313.17batch/s, Loss=0.2401]\n"
     ]
    },
    {
     "name": "stdout",
     "output_type": "stream",
     "text": [
      "\n",
      "Validation Loss after Epoch 146: 0.2934\n",
      "Test Accuracy after Epoch 146: 0.9329\n"
     ]
    },
    {
     "name": "stderr",
     "output_type": "stream",
     "text": [
      "Epoch 147/200: 100%|██████████| 10775/10775 [00:34<00:00, 316.47batch/s, Loss=0.2421]\n"
     ]
    },
    {
     "name": "stdout",
     "output_type": "stream",
     "text": [
      "\n",
      "Validation Loss after Epoch 147: 0.2934\n",
      "Test Accuracy after Epoch 147: 0.9329\n"
     ]
    },
    {
     "name": "stderr",
     "output_type": "stream",
     "text": [
      "Epoch 148/200: 100%|██████████| 10775/10775 [00:33<00:00, 320.62batch/s, Loss=0.2414]\n"
     ]
    },
    {
     "name": "stdout",
     "output_type": "stream",
     "text": [
      "\n",
      "Validation Loss after Epoch 148: 0.2934\n",
      "Test Accuracy after Epoch 148: 0.9329\n"
     ]
    },
    {
     "name": "stderr",
     "output_type": "stream",
     "text": [
      "Epoch 149/200: 100%|██████████| 10775/10775 [00:33<00:00, 320.06batch/s, Loss=0.2429]\n"
     ]
    },
    {
     "name": "stdout",
     "output_type": "stream",
     "text": [
      "\n",
      "Validation Loss after Epoch 149: 0.2934\n",
      "Test Accuracy after Epoch 149: 0.9329\n"
     ]
    },
    {
     "name": "stderr",
     "output_type": "stream",
     "text": [
      "Epoch 150/200: 100%|██████████| 10775/10775 [00:36<00:00, 297.65batch/s, Loss=0.2424]\n"
     ]
    },
    {
     "name": "stdout",
     "output_type": "stream",
     "text": [
      "\n",
      "Validation Loss after Epoch 150: 0.2934\n",
      "Test Accuracy after Epoch 150: 0.9329\n"
     ]
    },
    {
     "name": "stderr",
     "output_type": "stream",
     "text": [
      "Epoch 151/200: 100%|██████████| 10775/10775 [00:33<00:00, 317.35batch/s, Loss=0.2408]\n"
     ]
    },
    {
     "name": "stdout",
     "output_type": "stream",
     "text": [
      "\n",
      "Validation Loss after Epoch 151: 0.2934\n",
      "Test Accuracy after Epoch 151: 0.9329\n"
     ]
    },
    {
     "name": "stderr",
     "output_type": "stream",
     "text": [
      "Epoch 152/200: 100%|██████████| 10775/10775 [00:35<00:00, 302.69batch/s, Loss=0.2426]\n"
     ]
    },
    {
     "name": "stdout",
     "output_type": "stream",
     "text": [
      "\n",
      "Validation Loss after Epoch 152: 0.2934\n",
      "Test Accuracy after Epoch 152: 0.9328\n"
     ]
    },
    {
     "name": "stderr",
     "output_type": "stream",
     "text": [
      "Epoch 153/200: 100%|██████████| 10775/10775 [00:33<00:00, 318.13batch/s, Loss=0.2399]\n"
     ]
    },
    {
     "name": "stdout",
     "output_type": "stream",
     "text": [
      "\n",
      "Validation Loss after Epoch 153: 0.2934\n",
      "Test Accuracy after Epoch 153: 0.9328\n"
     ]
    },
    {
     "name": "stderr",
     "output_type": "stream",
     "text": [
      "Epoch 154/200: 100%|██████████| 10775/10775 [00:33<00:00, 320.36batch/s, Loss=0.2388]\n"
     ]
    },
    {
     "name": "stdout",
     "output_type": "stream",
     "text": [
      "\n",
      "Validation Loss after Epoch 154: 0.2934\n",
      "Test Accuracy after Epoch 154: 0.9328\n"
     ]
    },
    {
     "name": "stderr",
     "output_type": "stream",
     "text": [
      "Epoch 155/200: 100%|██████████| 10775/10775 [00:35<00:00, 303.72batch/s, Loss=0.2419]\n"
     ]
    },
    {
     "name": "stdout",
     "output_type": "stream",
     "text": [
      "\n",
      "Validation Loss after Epoch 155: 0.2934\n",
      "Test Accuracy after Epoch 155: 0.9328\n"
     ]
    },
    {
     "name": "stderr",
     "output_type": "stream",
     "text": [
      "Epoch 156/200: 100%|██████████| 10775/10775 [00:34<00:00, 311.21batch/s, Loss=0.2419]\n"
     ]
    },
    {
     "name": "stdout",
     "output_type": "stream",
     "text": [
      "\n",
      "Validation Loss after Epoch 156: 0.2934\n",
      "Test Accuracy after Epoch 156: 0.9328\n"
     ]
    },
    {
     "name": "stderr",
     "output_type": "stream",
     "text": [
      "Epoch 157/200: 100%|██████████| 10775/10775 [00:37<00:00, 290.91batch/s, Loss=0.2423]\n"
     ]
    },
    {
     "name": "stdout",
     "output_type": "stream",
     "text": [
      "\n",
      "Validation Loss after Epoch 157: 0.2934\n",
      "Test Accuracy after Epoch 157: 0.9328\n"
     ]
    },
    {
     "name": "stderr",
     "output_type": "stream",
     "text": [
      "Epoch 158/200: 100%|██████████| 10775/10775 [00:38<00:00, 279.63batch/s, Loss=0.2432]\n"
     ]
    },
    {
     "name": "stdout",
     "output_type": "stream",
     "text": [
      "\n",
      "Validation Loss after Epoch 158: 0.2934\n",
      "Test Accuracy after Epoch 158: 0.9328\n"
     ]
    },
    {
     "name": "stderr",
     "output_type": "stream",
     "text": [
      "Epoch 159/200: 100%|██████████| 10775/10775 [00:34<00:00, 316.36batch/s, Loss=0.2404]\n"
     ]
    },
    {
     "name": "stdout",
     "output_type": "stream",
     "text": [
      "\n",
      "Validation Loss after Epoch 159: 0.2934\n",
      "Test Accuracy after Epoch 159: 0.9328\n"
     ]
    },
    {
     "name": "stderr",
     "output_type": "stream",
     "text": [
      "Epoch 160/200: 100%|██████████| 10775/10775 [00:33<00:00, 319.62batch/s, Loss=0.2422]\n"
     ]
    },
    {
     "name": "stdout",
     "output_type": "stream",
     "text": [
      "\n",
      "Validation Loss after Epoch 160: 0.2934\n",
      "Test Accuracy after Epoch 160: 0.9328\n"
     ]
    },
    {
     "name": "stderr",
     "output_type": "stream",
     "text": [
      "Epoch 161/200: 100%|██████████| 10775/10775 [00:33<00:00, 320.72batch/s, Loss=0.2406]\n"
     ]
    },
    {
     "name": "stdout",
     "output_type": "stream",
     "text": [
      "\n",
      "Validation Loss after Epoch 161: 0.2934\n",
      "Test Accuracy after Epoch 161: 0.9328\n"
     ]
    },
    {
     "name": "stderr",
     "output_type": "stream",
     "text": [
      "Epoch 162/200: 100%|██████████| 10775/10775 [00:33<00:00, 321.30batch/s, Loss=0.2414]\n"
     ]
    },
    {
     "name": "stdout",
     "output_type": "stream",
     "text": [
      "\n",
      "Validation Loss after Epoch 162: 0.2934\n",
      "Test Accuracy after Epoch 162: 0.9328\n"
     ]
    },
    {
     "name": "stderr",
     "output_type": "stream",
     "text": [
      "Epoch 163/200: 100%|██████████| 10775/10775 [00:33<00:00, 319.87batch/s, Loss=0.2440]\n"
     ]
    },
    {
     "name": "stdout",
     "output_type": "stream",
     "text": [
      "\n",
      "Validation Loss after Epoch 163: 0.2934\n",
      "Test Accuracy after Epoch 163: 0.9328\n"
     ]
    },
    {
     "name": "stderr",
     "output_type": "stream",
     "text": [
      "Epoch 164/200: 100%|██████████| 10775/10775 [00:34<00:00, 310.78batch/s, Loss=0.2408]\n"
     ]
    },
    {
     "name": "stdout",
     "output_type": "stream",
     "text": [
      "\n",
      "Validation Loss after Epoch 164: 0.2934\n",
      "Test Accuracy after Epoch 164: 0.9328\n"
     ]
    },
    {
     "name": "stderr",
     "output_type": "stream",
     "text": [
      "Epoch 165/200: 100%|██████████| 10775/10775 [00:40<00:00, 267.20batch/s, Loss=0.2410]\n"
     ]
    },
    {
     "name": "stdout",
     "output_type": "stream",
     "text": [
      "\n",
      "Validation Loss after Epoch 165: 0.2934\n",
      "Test Accuracy after Epoch 165: 0.9328\n"
     ]
    },
    {
     "name": "stderr",
     "output_type": "stream",
     "text": [
      "Epoch 166/200: 100%|██████████| 10775/10775 [00:33<00:00, 318.67batch/s, Loss=0.2403]\n"
     ]
    },
    {
     "name": "stdout",
     "output_type": "stream",
     "text": [
      "\n",
      "Validation Loss after Epoch 166: 0.2934\n",
      "Test Accuracy after Epoch 166: 0.9328\n"
     ]
    },
    {
     "name": "stderr",
     "output_type": "stream",
     "text": [
      "Epoch 167/200: 100%|██████████| 10775/10775 [00:33<00:00, 319.81batch/s, Loss=0.2420]\n"
     ]
    },
    {
     "name": "stdout",
     "output_type": "stream",
     "text": [
      "\n",
      "Validation Loss after Epoch 167: 0.2934\n",
      "Test Accuracy after Epoch 167: 0.9328\n"
     ]
    },
    {
     "name": "stderr",
     "output_type": "stream",
     "text": [
      "Epoch 168/200: 100%|██████████| 10775/10775 [00:34<00:00, 316.70batch/s, Loss=0.2421]\n"
     ]
    },
    {
     "name": "stdout",
     "output_type": "stream",
     "text": [
      "\n",
      "Validation Loss after Epoch 168: 0.2934\n",
      "Test Accuracy after Epoch 168: 0.9328\n"
     ]
    },
    {
     "name": "stderr",
     "output_type": "stream",
     "text": [
      "Epoch 169/200: 100%|██████████| 10775/10775 [00:33<00:00, 316.99batch/s, Loss=0.2405]\n"
     ]
    },
    {
     "name": "stdout",
     "output_type": "stream",
     "text": [
      "\n",
      "Validation Loss after Epoch 169: 0.2934\n",
      "Test Accuracy after Epoch 169: 0.9328\n"
     ]
    },
    {
     "name": "stderr",
     "output_type": "stream",
     "text": [
      "Epoch 170/200: 100%|██████████| 10775/10775 [00:34<00:00, 316.58batch/s, Loss=0.2414]\n"
     ]
    },
    {
     "name": "stdout",
     "output_type": "stream",
     "text": [
      "\n",
      "Validation Loss after Epoch 170: 0.2934\n",
      "Test Accuracy after Epoch 170: 0.9327\n"
     ]
    },
    {
     "name": "stderr",
     "output_type": "stream",
     "text": [
      "Epoch 171/200: 100%|██████████| 10775/10775 [00:33<00:00, 316.98batch/s, Loss=0.2425]\n"
     ]
    },
    {
     "name": "stdout",
     "output_type": "stream",
     "text": [
      "\n",
      "Validation Loss after Epoch 171: 0.2934\n",
      "Test Accuracy after Epoch 171: 0.9327\n"
     ]
    },
    {
     "name": "stderr",
     "output_type": "stream",
     "text": [
      "Epoch 172/200: 100%|██████████| 10775/10775 [00:34<00:00, 316.39batch/s, Loss=0.2415]\n"
     ]
    },
    {
     "name": "stdout",
     "output_type": "stream",
     "text": [
      "\n",
      "Validation Loss after Epoch 172: 0.2934\n",
      "Test Accuracy after Epoch 172: 0.9327\n"
     ]
    },
    {
     "name": "stderr",
     "output_type": "stream",
     "text": [
      "Epoch 173/200: 100%|██████████| 10775/10775 [00:34<00:00, 316.58batch/s, Loss=0.2421]\n"
     ]
    },
    {
     "name": "stdout",
     "output_type": "stream",
     "text": [
      "\n",
      "Validation Loss after Epoch 173: 0.2934\n",
      "Test Accuracy after Epoch 173: 0.9327\n"
     ]
    },
    {
     "name": "stderr",
     "output_type": "stream",
     "text": [
      "Epoch 174/200: 100%|██████████| 10775/10775 [00:33<00:00, 317.56batch/s, Loss=0.2411]\n"
     ]
    },
    {
     "name": "stdout",
     "output_type": "stream",
     "text": [
      "\n",
      "Validation Loss after Epoch 174: 0.2934\n",
      "Test Accuracy after Epoch 174: 0.9327\n"
     ]
    },
    {
     "name": "stderr",
     "output_type": "stream",
     "text": [
      "Epoch 175/200: 100%|██████████| 10775/10775 [00:33<00:00, 317.58batch/s, Loss=0.2404]\n"
     ]
    },
    {
     "name": "stdout",
     "output_type": "stream",
     "text": [
      "\n",
      "Validation Loss after Epoch 175: 0.2934\n",
      "Test Accuracy after Epoch 175: 0.9327\n"
     ]
    },
    {
     "name": "stderr",
     "output_type": "stream",
     "text": [
      "Epoch 176/200: 100%|██████████| 10775/10775 [00:35<00:00, 305.40batch/s, Loss=0.2414]\n"
     ]
    },
    {
     "name": "stdout",
     "output_type": "stream",
     "text": [
      "\n",
      "Validation Loss after Epoch 176: 0.2934\n",
      "Test Accuracy after Epoch 176: 0.9327\n"
     ]
    },
    {
     "name": "stderr",
     "output_type": "stream",
     "text": [
      "Epoch 177/200: 100%|██████████| 10775/10775 [00:35<00:00, 303.47batch/s, Loss=0.2414]\n"
     ]
    },
    {
     "name": "stdout",
     "output_type": "stream",
     "text": [
      "\n",
      "Validation Loss after Epoch 177: 0.2934\n",
      "Test Accuracy after Epoch 177: 0.9326\n"
     ]
    },
    {
     "name": "stderr",
     "output_type": "stream",
     "text": [
      "Epoch 178/200: 100%|██████████| 10775/10775 [00:32<00:00, 330.02batch/s, Loss=0.2417]\n"
     ]
    },
    {
     "name": "stdout",
     "output_type": "stream",
     "text": [
      "\n",
      "Validation Loss after Epoch 178: 0.2934\n",
      "Test Accuracy after Epoch 178: 0.9326\n"
     ]
    },
    {
     "name": "stderr",
     "output_type": "stream",
     "text": [
      "Epoch 179/200: 100%|██████████| 10775/10775 [00:30<00:00, 352.90batch/s, Loss=0.2424]\n"
     ]
    },
    {
     "name": "stdout",
     "output_type": "stream",
     "text": [
      "\n",
      "Validation Loss after Epoch 179: 0.2934\n",
      "Test Accuracy after Epoch 179: 0.9326\n"
     ]
    },
    {
     "name": "stderr",
     "output_type": "stream",
     "text": [
      "Epoch 180/200: 100%|██████████| 10775/10775 [00:30<00:00, 351.95batch/s, Loss=0.2434]\n"
     ]
    },
    {
     "name": "stdout",
     "output_type": "stream",
     "text": [
      "\n",
      "Validation Loss after Epoch 180: 0.2934\n",
      "Test Accuracy after Epoch 180: 0.9326\n"
     ]
    },
    {
     "name": "stderr",
     "output_type": "stream",
     "text": [
      "Epoch 181/200: 100%|██████████| 10775/10775 [00:30<00:00, 350.47batch/s, Loss=0.2407]\n"
     ]
    },
    {
     "name": "stdout",
     "output_type": "stream",
     "text": [
      "\n",
      "Validation Loss after Epoch 181: 0.2934\n",
      "Test Accuracy after Epoch 181: 0.9326\n"
     ]
    },
    {
     "name": "stderr",
     "output_type": "stream",
     "text": [
      "Epoch 182/200: 100%|██████████| 10775/10775 [00:30<00:00, 352.19batch/s, Loss=0.2423]\n"
     ]
    },
    {
     "name": "stdout",
     "output_type": "stream",
     "text": [
      "\n",
      "Validation Loss after Epoch 182: 0.2934\n",
      "Test Accuracy after Epoch 182: 0.9326\n"
     ]
    },
    {
     "name": "stderr",
     "output_type": "stream",
     "text": [
      "Epoch 183/200: 100%|██████████| 10775/10775 [00:30<00:00, 353.36batch/s, Loss=0.2426]\n"
     ]
    },
    {
     "name": "stdout",
     "output_type": "stream",
     "text": [
      "\n",
      "Validation Loss after Epoch 183: 0.2934\n",
      "Test Accuracy after Epoch 183: 0.9326\n"
     ]
    },
    {
     "name": "stderr",
     "output_type": "stream",
     "text": [
      "Epoch 184/200: 100%|██████████| 10775/10775 [00:30<00:00, 348.92batch/s, Loss=0.2409]\n"
     ]
    },
    {
     "name": "stdout",
     "output_type": "stream",
     "text": [
      "\n",
      "Validation Loss after Epoch 184: 0.2933\n",
      "Test Accuracy after Epoch 184: 0.9326\n"
     ]
    },
    {
     "name": "stderr",
     "output_type": "stream",
     "text": [
      "Epoch 185/200: 100%|██████████| 10775/10775 [00:30<00:00, 352.73batch/s, Loss=0.2418]\n"
     ]
    },
    {
     "name": "stdout",
     "output_type": "stream",
     "text": [
      "\n",
      "Validation Loss after Epoch 185: 0.2933\n",
      "Test Accuracy after Epoch 185: 0.9326\n"
     ]
    },
    {
     "name": "stderr",
     "output_type": "stream",
     "text": [
      "Epoch 186/200: 100%|██████████| 10775/10775 [00:30<00:00, 352.86batch/s, Loss=0.2411]\n"
     ]
    },
    {
     "name": "stdout",
     "output_type": "stream",
     "text": [
      "\n",
      "Validation Loss after Epoch 186: 0.2933\n",
      "Test Accuracy after Epoch 186: 0.9326\n"
     ]
    },
    {
     "name": "stderr",
     "output_type": "stream",
     "text": [
      "Epoch 187/200: 100%|██████████| 10775/10775 [00:30<00:00, 352.96batch/s, Loss=0.2413]\n"
     ]
    },
    {
     "name": "stdout",
     "output_type": "stream",
     "text": [
      "\n",
      "Validation Loss after Epoch 187: 0.2933\n",
      "Test Accuracy after Epoch 187: 0.9326\n"
     ]
    },
    {
     "name": "stderr",
     "output_type": "stream",
     "text": [
      "Epoch 188/200: 100%|██████████| 10775/10775 [00:30<00:00, 354.42batch/s, Loss=0.2425]\n"
     ]
    },
    {
     "name": "stdout",
     "output_type": "stream",
     "text": [
      "\n",
      "Validation Loss after Epoch 188: 0.2933\n",
      "Test Accuracy after Epoch 188: 0.9326\n"
     ]
    },
    {
     "name": "stderr",
     "output_type": "stream",
     "text": [
      "Epoch 189/200: 100%|██████████| 10775/10775 [00:30<00:00, 353.07batch/s, Loss=0.2424]\n"
     ]
    },
    {
     "name": "stdout",
     "output_type": "stream",
     "text": [
      "\n",
      "Validation Loss after Epoch 189: 0.2933\n",
      "Test Accuracy after Epoch 189: 0.9326\n"
     ]
    },
    {
     "name": "stderr",
     "output_type": "stream",
     "text": [
      "Epoch 190/200: 100%|██████████| 10775/10775 [00:30<00:00, 352.24batch/s, Loss=0.2429]\n"
     ]
    },
    {
     "name": "stdout",
     "output_type": "stream",
     "text": [
      "\n",
      "Validation Loss after Epoch 190: 0.2933\n",
      "Test Accuracy after Epoch 190: 0.9325\n"
     ]
    },
    {
     "name": "stderr",
     "output_type": "stream",
     "text": [
      "Epoch 191/200: 100%|██████████| 10775/10775 [00:30<00:00, 354.15batch/s, Loss=0.2430]\n"
     ]
    },
    {
     "name": "stdout",
     "output_type": "stream",
     "text": [
      "\n",
      "Validation Loss after Epoch 191: 0.2933\n",
      "Test Accuracy after Epoch 191: 0.9325\n"
     ]
    },
    {
     "name": "stderr",
     "output_type": "stream",
     "text": [
      "Epoch 192/200: 100%|██████████| 10775/10775 [00:30<00:00, 352.55batch/s, Loss=0.2421]\n"
     ]
    },
    {
     "name": "stdout",
     "output_type": "stream",
     "text": [
      "\n",
      "Validation Loss after Epoch 192: 0.2933\n",
      "Test Accuracy after Epoch 192: 0.9325\n"
     ]
    },
    {
     "name": "stderr",
     "output_type": "stream",
     "text": [
      "Epoch 193/200: 100%|██████████| 10775/10775 [00:30<00:00, 354.88batch/s, Loss=0.2417]\n"
     ]
    },
    {
     "name": "stdout",
     "output_type": "stream",
     "text": [
      "\n",
      "Validation Loss after Epoch 193: 0.2933\n",
      "Test Accuracy after Epoch 193: 0.9325\n"
     ]
    },
    {
     "name": "stderr",
     "output_type": "stream",
     "text": [
      "Epoch 194/200: 100%|██████████| 10775/10775 [00:30<00:00, 354.37batch/s, Loss=0.2407]\n"
     ]
    },
    {
     "name": "stdout",
     "output_type": "stream",
     "text": [
      "\n",
      "Validation Loss after Epoch 194: 0.2933\n",
      "Test Accuracy after Epoch 194: 0.9325\n"
     ]
    },
    {
     "name": "stderr",
     "output_type": "stream",
     "text": [
      "Epoch 195/200: 100%|██████████| 10775/10775 [00:30<00:00, 353.58batch/s, Loss=0.2423]\n"
     ]
    },
    {
     "name": "stdout",
     "output_type": "stream",
     "text": [
      "\n",
      "Validation Loss after Epoch 195: 0.2933\n",
      "Test Accuracy after Epoch 195: 0.9325\n"
     ]
    },
    {
     "name": "stderr",
     "output_type": "stream",
     "text": [
      "Epoch 196/200: 100%|██████████| 10775/10775 [00:30<00:00, 353.93batch/s, Loss=0.2400]\n"
     ]
    },
    {
     "name": "stdout",
     "output_type": "stream",
     "text": [
      "\n",
      "Validation Loss after Epoch 196: 0.2933\n",
      "Test Accuracy after Epoch 196: 0.9325\n"
     ]
    },
    {
     "name": "stderr",
     "output_type": "stream",
     "text": [
      "Epoch 197/200: 100%|██████████| 10775/10775 [00:30<00:00, 354.49batch/s, Loss=0.2420]\n"
     ]
    },
    {
     "name": "stdout",
     "output_type": "stream",
     "text": [
      "\n",
      "Validation Loss after Epoch 197: 0.2933\n",
      "Test Accuracy after Epoch 197: 0.9325\n"
     ]
    },
    {
     "name": "stderr",
     "output_type": "stream",
     "text": [
      "Epoch 198/200: 100%|██████████| 10775/10775 [00:30<00:00, 354.31batch/s, Loss=0.2399]\n"
     ]
    },
    {
     "name": "stdout",
     "output_type": "stream",
     "text": [
      "\n",
      "Validation Loss after Epoch 198: 0.2933\n",
      "Test Accuracy after Epoch 198: 0.9325\n"
     ]
    },
    {
     "name": "stderr",
     "output_type": "stream",
     "text": [
      "Epoch 199/200: 100%|██████████| 10775/10775 [00:30<00:00, 354.01batch/s, Loss=0.2415]\n"
     ]
    },
    {
     "name": "stdout",
     "output_type": "stream",
     "text": [
      "\n",
      "Validation Loss after Epoch 199: 0.2933\n",
      "Test Accuracy after Epoch 199: 0.9325\n"
     ]
    },
    {
     "name": "stderr",
     "output_type": "stream",
     "text": [
      "Epoch 200/200: 100%|██████████| 10775/10775 [00:30<00:00, 356.42batch/s, Loss=0.2427]\n"
     ]
    },
    {
     "name": "stdout",
     "output_type": "stream",
     "text": [
      "\n",
      "Validation Loss after Epoch 200: 0.2933\n",
      "Test Accuracy after Epoch 200: 0.9325\n"
     ]
    }
   ],
   "source": [
    "import torch\n",
    "import torch.nn as nn\n",
    "import torch.optim as optim\n",
    "from torch.utils.data import DataLoader, TensorDataset\n",
    "from sklearn.model_selection import train_test_split\n",
    "from sklearn.preprocessing import StandardScaler, LabelEncoder\n",
    "import numpy as np\n",
    "from tqdm import tqdm\n",
    "from sklearn.metrics import classification_report, confusion_matrix\n",
    "import matplotlib.pyplot as plt\n",
    "import seaborn as sns\n",
    "\n",
    "# Check for GPU\n",
    "#device = torch.device('cuda' if torch.cuda.is_available() else 'cpu')\n",
    "device = torch.device('cpu')\n",
    "print(\"Running on \", device)\n",
    "\n",
    "# Load the data\n",
    "FirstData = np.load(\"cat4gaia.npy\", allow_pickle=True)\n",
    "\n",
    "# Split the data into features and labels\n",
    "X = FirstData[:, 1:-1]  # All columns except the last one and first one\n",
    "y = FirstData[:, -1]    # The last column\n",
    "ypreencode = y\n",
    "\n",
    "# Use LabelEncoder instead of OneHotEncoder\n",
    "encoder = LabelEncoder()\n",
    "y = encoder.fit_transform(y.reshape(-1, 1))\n",
    "\n",
    "# Convert y to a PyTorch tensor and move to the GPU (if available)\n",
    "y = torch.tensor(y, dtype=torch.long).to(device)\n",
    "\n",
    "# Split the data into training and testing sets\n",
    "X_train, X_test, y_train, y_test = train_test_split(X, y.cpu().numpy(), test_size=0.25, random_state=42)\n",
    "\n",
    "# Standardize the data\n",
    "scaler = StandardScaler()\n",
    "X_train = scaler.fit_transform(X_train)\n",
    "X_test = scaler.transform(X_test)\n",
    "\n",
    "# Convert the data to PyTorch tensors\n",
    "X_train_tensor = torch.tensor(X_train, dtype=torch.float32).to(device)\n",
    "X_test_tensor = torch.tensor(X_test, dtype=torch.float32).to(device)\n",
    "y_train_tensor = torch.tensor(y_train, dtype=torch.long).to(device)\n",
    "y_test_tensor = torch.tensor(y_test, dtype=torch.long).to(device)\n",
    "\n",
    "# Create PyTorch Datasets and DataLoaders\n",
    "train_dataset = TensorDataset(X_train_tensor, y_train_tensor)\n",
    "test_dataset = TensorDataset(X_test_tensor, y_test_tensor)\n",
    "\n",
    "train_loader = DataLoader(train_dataset, batch_size=32, shuffle=True)\n",
    "test_loader = DataLoader(test_dataset, batch_size=32, shuffle=False)\n",
    "\n",
    "# Define the neural network model\n",
    "class NeuralNetwork(nn.Module):\n",
    "    def __init__(self, input_size, output_size):\n",
    "        super(NeuralNetwork, self).__init__()\n",
    "        self.fc1 = nn.Linear(input_size, 50)\n",
    "        self.fc2 = nn.Linear(50, 60)\n",
    "        self.fc3 = nn.Linear(60, 60)\n",
    "        self.fc4 = nn.Linear(60, 60)\n",
    "        self.fc5 = nn.Linear(60, output_size)\n",
    "        self.relu = nn.ReLU()\n",
    "    \n",
    "    def forward(self, x):\n",
    "        x = self.relu(self.fc1(x))\n",
    "        x = self.relu(self.fc2(x))\n",
    "        x = self.relu(self.fc3(x))\n",
    "        x = self.relu(self.fc4(x))\n",
    "        x = self.fc5(x)\n",
    "        return x\n",
    "\n",
    "# Calculate class weights\n",
    "class_counts = np.bincount(y_train_tensor.cpu().numpy())\n",
    "total_samples = sum(class_counts)\n",
    "class_weights = [total_samples / count for count in class_counts]\n",
    "class_weights = torch.tensor(np.clip(class_weights, 0, 100), dtype=torch.float32).to(device)\n",
    "\n",
    "# Initialize the model, loss function, and optimizer\n",
    "input_size = X_train.shape[1]\n",
    "output_size = len(np.unique(ypreencode))\n",
    "model = NeuralNetwork(input_size, output_size).to(device)\n",
    "criterion = nn.CrossEntropyLoss(weight=class_weights)\n",
    "optimizer = optim.AdamW(model.parameters(), lr=0.003)\n",
    "\n",
    "# Learning rate scheduler\n",
    "scheduler = optim.lr_scheduler.ReduceLROnPlateau(optimizer, mode='min', factor=0.2, patience=3, verbose=True)\n",
    "\n",
    "# Early stopping\n",
    "class EarlyStopping:\n",
    "    def __init__(self, patience=5, min_delta=0):\n",
    "        self.patience = patience\n",
    "        self.min_delta = min_delta\n",
    "        self.counter = 0\n",
    "        self.best_loss = None\n",
    "        self.early_stop = False\n",
    "\n",
    "    def __call__(self, val_loss):\n",
    "        if self.best_loss is None:\n",
    "            self.best_loss = val_loss\n",
    "        elif val_loss < self.best_loss - self.min_delta:\n",
    "            self.best_loss = val_loss\n",
    "            self.counter = 0\n",
    "        else:\n",
    "            self.counter += 1\n",
    "            if self.counter >= self.patience:\n",
    "                self.early_stop = True\n",
    "\n",
    "# Function to calculate accuracy\n",
    "def calculate_accuracy(loader, model):\n",
    "    model.eval()\n",
    "    correct = 0\n",
    "    total = 0\n",
    "    with torch.no_grad():\n",
    "        for X_batch, y_batch in loader:\n",
    "            outputs = model(X_batch)\n",
    "            _, predicted = torch.max(outputs.data, 1)\n",
    "            total += y_batch.size(0)\n",
    "            correct += (predicted == y_batch).sum().item()\n",
    "    return correct / total\n",
    "\n",
    "# Training the model with a loading bar, early stopping, and adaptive learning rate\n",
    "epochs = 200\n",
    "early_stopping = EarlyStopping(patience=10, min_delta=0.001)\n",
    "for epoch in range(epochs):\n",
    "    model.train()\n",
    "    running_loss = 0.0\n",
    "\n",
    "    with tqdm(total=len(train_loader), desc=f'Epoch {epoch+1}/{epochs}', unit='batch') as pbar:\n",
    "        for X_batch, y_batch in train_loader:\n",
    "            optimizer.zero_grad()\n",
    "            outputs = model(X_batch)\n",
    "            loss = criterion(outputs, y_batch)\n",
    "            loss.backward()\n",
    "            optimizer.step()\n",
    "            running_loss += loss.item()\n",
    "            pbar.set_postfix({'Loss': f'{running_loss/len(train_loader):.4f}'})\n",
    "            pbar.update(1)\n",
    "\n",
    "    # Validate the model\n",
    "    model.eval()\n",
    "    val_loss = 0.0\n",
    "    with torch.no_grad():\n",
    "        for X_batch, y_batch in test_loader:\n",
    "            outputs = model(X_batch)\n",
    "            loss = criterion(outputs, y_batch)\n",
    "            val_loss += loss.item()\n",
    "\n",
    "    val_loss /= len(test_loader)\n",
    "    scheduler.step(val_loss)  # Step the scheduler\n",
    "    print(f'\\nValidation Loss after Epoch {epoch+1}: {val_loss:.4f}')\n",
    "\n",
    "    # Check early stopping\n",
    "    early_stopping(val_loss)\n",
    "    if early_stopping.early_stop:\n",
    "        print(\"Early stopping\")\n",
    "        break\n",
    "\n",
    "    # Calculate and print the test accuracy after each epoch\n",
    "    test_accuracy = calculate_accuracy(test_loader, model)\n",
    "    print(f'Test Accuracy after Epoch {epoch+1}: {test_accuracy:.4f}')\n"
   ]
  },
  {
   "cell_type": "code",
   "execution_count": 3,
   "metadata": {},
   "outputs": [
    {
     "data": {
      "application/vnd.jupyter.widget-view+json": {
       "model_id": "0908990c35bb4f86a5a31c7989d1f5aa",
       "version_major": 2,
       "version_minor": 0
      },
      "text/plain": [
       "HTML(value='<pre  style=\"overflow-x: scroll;\"><strong></strong><span style=\"color: #C5C1B4\">[</span><strong></…"
      ]
     },
     "metadata": {},
     "output_type": "display_data"
    }
   ],
   "source": [
    "\"\"\"\n",
    "---\n",
    "title: Rotary Positional Embeddings (RoPE)\n",
    "summary: >\n",
    "  Annotated implementation of RoPE from paper\n",
    "  RoFormer: Enhanced Transformer with Rotary Position Embedding\n",
    "---\n",
    "\n",
    "# Rotary Positional Embeddings (RoPE)\n",
    "\n",
    "This is an implementation of\n",
    "[Rotary Positional Embeddings (RoPE)](https://arxiv.org/abs/2104.09864)\n",
    "in [PyTorch](https://pytorch.org).\n",
    "\n",
    "Rotary Positional Embeddings (RoPE) encode position information of tokens\n",
    "with a rotation matrix that naturally incorporates explicit relative position\n",
    "dependency.\n",
    "\n",
    "Here's [the training code](experiment.html) for training a transformer model with RoPE\n",
    " on Tiny Shakespeare dataset.\n",
    "\"\"\"\n",
    "\n",
    "import torch\n",
    "from torch import nn\n",
    "\n",
    "from labml.logger import inspect\n",
    "from labml_nn.transformers.mha import MultiHeadAttention\n",
    "\n",
    "\n",
    "class RotaryPositionalEmbeddings(nn.Module):\n",
    "    \"\"\"\n",
    "    ## RoPE module\n",
    "\n",
    "    Rotary encoding transforms pairs of features by rotating in the 2D plane.\n",
    "    That is, it organizes the $d$ features as $\\frac{d}{2}$ pairs.\n",
    "    Each pair can be considered a coordinate in a 2D plane, and the encoding will rotate it\n",
    "    by an angle depending on the position of the token.\n",
    "\n",
    "    ### For a pair of features\n",
    "\n",
    "    Let $x^{(1)}_m$ and $x^{(2)}_m$ be two features of the\n",
    "    key or query of any head at position $m$.\n",
    "    Or for simplicity assume $x$ has only two features.\n",
    "    Then the transformation is,\n",
    "\n",
    "    \\begin{align}\n",
    "    RoPE\\big(x^{(1)}_m, x^{(2)}_m, m\\big) &=\n",
    "    \\begin{pmatrix}\n",
    "    \\cos m \\theta & - \\sin m \\theta \\\\\n",
    "    \\sin m \\theta & \\cos m \\theta\n",
    "    \\end{pmatrix}\n",
    "    \\begin{pmatrix}\n",
    "    x^{(1)}_m \\\\\n",
    "    x^{(2)}_m \\\\\n",
    "    \\end{pmatrix} \\\\\n",
    "    &=\n",
    "    \\begin{pmatrix}\n",
    "    x^{(1)}_m \\cos m\\theta - x^{(2)}_m \\sin m \\theta \\\\\n",
    "    x^{(2)}_m \\cos m\\theta + x^{(1)}_m \\sin m \\theta \\\\\n",
    "    \\end{pmatrix} \\\\\n",
    "    \\end{align}\n",
    "\n",
    "    where $\\theta$ is a constant angle. The other pairs of features are transformed similarly.\n",
    "\n",
    "    ### Attention is relative\n",
    "\n",
    "    For a pair of features, dot-product attention score between two positions $m$ and $n$ would be\n",
    "\n",
    "    \\begin{align}\n",
    "    \\Big \\langle RoPE\\big(x^{(1)}_m, x^{(2)}_m, m\\big),  RoPE\\big(x^{(1)}_n, x^{(2)}_n, n\\big) \\Big \\rangle &= \\\\\n",
    "    (x^{(1)}_m \\cos m\\theta - x^{(2)}_m \\sin m \\theta)(x^{(1)}_n \\cos n\\theta - x^{(2)}_n \\sin n \\theta) &+ \\\\\n",
    "    (x^{(2)}_m \\cos m\\theta + x^{(1)}_m \\sin m \\theta)(x^{(2)}_n \\cos n\\theta + x^{(1)}_n \\sin n \\theta) &= \\\\\n",
    "    x^{(1)}_m x^{(1)}_n (\\cos m\\theta \\cos n\\theta + \\sin m \\theta \\sin n \\theta) &+ \\\\\n",
    "    x^{(1)}_m x^{(2)}_n (-\\cos m\\theta \\sin n\\theta + \\sin m \\theta \\cos n \\theta) &+ \\\\\n",
    "    x^{(2)}_m x^{(1)}_n (-\\sin m\\theta \\cos n\\theta + \\cos m \\theta \\sin n \\theta) &+ \\\\\n",
    "    x^{(2)}_m x^{(2)}_n (\\sin m\\theta \\sin n\\theta + \\cos m \\theta \\cos n \\theta) &= \\\\\n",
    "\n",
    "    x^{(1)}_m x^{(1)}_n \\cos (m - n) \\theta +\n",
    "    x^{(1)}_m x^{(2)}_n \\sin(m - n) \\theta &+ \\\\\n",
    "    - x^{(2)}_m x^{(1)}_n \\sin (m - n) \\theta +\n",
    "    x^{(2)}_m x^{(2)}_n \\cos (m - n) \\theta &= \\\\\n",
    "\n",
    "    \\big(x^{(1)}_m \\cos (m - n)\\theta - x^{(2)}_m \\sin (m - n) \\theta\\big) x^{(1)}_n &+ \\\\\n",
    "    \\big(x^{(2)}_m \\cos (m - n)m\\theta + x^{(1)}_m \\sin (m - n) \\theta\\big) x^{(2)}_n  &= \\\\\n",
    "\n",
    "    \\Big \\langle RoPE\\big(x^{(1)}_m, x^{(2)}_m, m - n\\big),  RoPE\\big(x^{(1)}_n, x^{(2)}_n, 0\\big) \\Big \\rangle\n",
    "    \\end{align}\n",
    "\n",
    "    This shows that for dot-production attention the rotary encodings gives relative attention.\n",
    "\n",
    "    ### For all features\n",
    "\n",
    "    The features are grouped into pairs and handled as above. They use a different $\\theta$ for each pair.\n",
    "\n",
    "    The paper suggests using $\\Theta = {\\theta_i = 10000^{\\frac{2(i-1)}{d}}, i \\in [1, 2, ..., \\frac{d}{2}]}$\n",
    "    for the $\\frac{d}{2}$ pairs of features.\n",
    "\n",
    "    We pair feature $i$ with feature $i + \\frac{d}{2}$. So for position $m$ we transform\n",
    "\n",
    "    \\begin{align}\n",
    "    \\begin{pmatrix}\n",
    "    x^{(i)}_m \\\\\n",
    "    x^{(i + \\frac{d}{2})}_m\n",
    "    \\end{pmatrix}\n",
    "    \\end{align}\n",
    "\n",
    "    to\n",
    "\n",
    "    \\begin{align}\n",
    "    \\begin{pmatrix}\n",
    "    x^{(i)}_m \\cos m \\theta_i - x^{(i + \\frac{d}{2})}_m \\sin m \\theta_i \\\\\n",
    "    x^{(i + \\frac{d}{2})}_m \\cos m\\theta_i + x^{(i)}_m \\sin m \\theta_i \\\\\n",
    "    \\end{pmatrix} \\\\\n",
    "    \\end{align}\n",
    "    \"\"\"\n",
    "\n",
    "    def __init__(self, d: int, base: int = 10_000):\n",
    "        \"\"\"\n",
    "        * `d` is the number of features $d$\n",
    "        * `base` is the constant used for calculating $\\Theta$\n",
    "        \"\"\"\n",
    "        super().__init__()\n",
    "\n",
    "        self.base = base\n",
    "        self.d = d\n",
    "        self.cos_cached = None\n",
    "        self.sin_cached = None\n",
    "\n",
    "    def _build_cache(self, x: torch.Tensor):\n",
    "        \"\"\"\n",
    "        Cache $\\cos$ and $\\sin$ values\n",
    "        \"\"\"\n",
    "        # Return if cache is already built\n",
    "        if self.cos_cached is not None and x.shape[0] <= self.cos_cached.shape[0]:\n",
    "            return\n",
    "\n",
    "        # Get sequence length\n",
    "        seq_len = x.shape[0]\n",
    "\n",
    "        # $\\Theta = {\\theta_i = 10000^{-\\frac{2(i-1)}{d}}, i \\in [1, 2, ..., \\frac{d}{2}]}$\n",
    "        theta = 1. / (self.base ** (torch.arange(0, self.d, 2).float() / self.d)).to(x.device)\n",
    "\n",
    "        # Create position indexes `[0, 1, ..., seq_len - 1]`\n",
    "        seq_idx = torch.arange(seq_len, device=x.device).float().to(x.device)\n",
    "\n",
    "        # Calculate the product of position index and $\\theta_i$\n",
    "        idx_theta = torch.einsum('n,d->nd', seq_idx, theta)\n",
    "\n",
    "        # Concatenate so that for row $m$ we have\n",
    "        # $[m \\theta_0, m \\theta_1, ..., m \\theta_{\\frac{d}{2}}, m \\theta_0, m \\theta_1, ..., m \\theta_{\\frac{d}{2}}]$\n",
    "        idx_theta2 = torch.cat([idx_theta, idx_theta], dim=1)\n",
    "\n",
    "        # Cache them\n",
    "        self.cos_cached = idx_theta2.cos()[:, None, None, :]\n",
    "        self.sin_cached = idx_theta2.sin()[:, None, None, :]\n",
    "\n",
    "    def _neg_half(self, x: torch.Tensor):\n",
    "        # $\\frac{d}{2}$\n",
    "        d_2 = self.d // 2\n",
    "\n",
    "        # Calculate $[-x^{(\\frac{d}{2} + 1)}, -x^{(\\frac{d}{2} + 2)}, ..., -x^{(d)}, x^{(1)}, x^{(2)}, ..., x^{(\\frac{d}{2})}]$\n",
    "        return torch.cat([-x[:, :, :, d_2:], x[:, :, :, :d_2]], dim=-1)\n",
    "\n",
    "    def forward(self, x: torch.Tensor):\n",
    "        \"\"\"\n",
    "        * `x` is the Tensor at the head of a key or a query with shape `[seq_len, batch_size, n_heads, d]`\n",
    "        \"\"\"\n",
    "        # Cache $\\cos$ and $\\sin$ values\n",
    "        self._build_cache(x)\n",
    "\n",
    "        # Split the features, we can choose to apply rotary embeddings only to a partial set of features.\n",
    "        x_rope, x_pass = x[..., :self.d], x[..., self.d:]\n",
    "\n",
    "        # Calculate\n",
    "        # $[-x^{(\\frac{d}{2} + 1)}, -x^{(\\frac{d}{2} + 2)}, ..., -x^{(d)}, x^{(1)}, x^{(2)}, ..., x^{(\\frac{d}{2})}]$\n",
    "        neg_half_x = self._neg_half(x_rope)\n",
    "\n",
    "        # Calculate\n",
    "        #\n",
    "        # \\begin{align}\n",
    "        # \\begin{pmatrix}\n",
    "        # x^{(i)}_m \\cos m \\theta_i - x^{(i + \\frac{d}{2})}_m \\sin m \\theta_i \\\\\n",
    "        # x^{(i + \\frac{d}{2})}_m \\cos m\\theta_i + x^{(i)}_m \\sin m \\theta_i \\\\\n",
    "        # \\end{pmatrix} \\\\\n",
    "        # \\end{align}\n",
    "        #\n",
    "        # for $i \\in {1, 2, ..., \\frac{d}{2}}$\n",
    "        x_rope = (x_rope * self.cos_cached[:x.shape[0]]) + (neg_half_x * self.sin_cached[:x.shape[0]])\n",
    "\n",
    "        #\n",
    "        return torch.cat((x_rope, x_pass), dim=-1)\n",
    "\n",
    "\n",
    "class RotaryPEMultiHeadAttention(MultiHeadAttention):\n",
    "    \"\"\"\n",
    "    ## Multi-head attention with rotary positional embeddings\n",
    "\n",
    "    We override [multi-head attention from original transformer](../mha.html).\n",
    "    \"\"\"\n",
    "\n",
    "    def __init__(self, heads: int, d_model: int, rope_percentage: float = 0.5, dropout_prob: float = 0.0):\n",
    "        super().__init__(heads, d_model, dropout_prob)\n",
    "\n",
    "        # Rotary positional embedding layers\n",
    "        d_rope = int(self.d_k * rope_percentage)\n",
    "        self.query_rotary_pe = RotaryPositionalEmbeddings(d_rope)\n",
    "        self.key_rotary_pe = RotaryPositionalEmbeddings(d_rope)\n",
    "\n",
    "    def get_scores(self, query: torch.Tensor, key: torch.Tensor):\n",
    "        \"\"\"\n",
    "        ### Calculate scores between queries and keys\n",
    "        \"\"\"\n",
    "\n",
    "        # Calculate dot-product with RoPE\n",
    "        return torch.einsum('ibhd,jbhd->ijbh', self.query_rotary_pe(query), self.key_rotary_pe(key))\n",
    "\n",
    "\n",
    "def _test_rotary():\n",
    "    \"\"\"\n",
    "    Testing RoPE with a simple example\n",
    "    \"\"\"\n",
    "    x = torch.tensor([[1, 2, 3, 4], [4, 5, 6, 7], [7, 8, 9, 10]], dtype=torch.float)\n",
    "    x = x[:, None, None, :]\n",
    "    inspect(x)\n",
    "\n",
    "    rotary_pe = RotaryPositionalEmbeddings(4)\n",
    "    inspect(rotary_pe(x))\n",
    "\n",
    "\n",
    "if __name__ == '__main__':\n",
    "    _test_rotary()"
   ]
  },
  {
   "cell_type": "code",
   "execution_count": 6,
   "metadata": {},
   "outputs": [
    {
     "name": "stdout",
     "output_type": "stream",
     "text": [
      "Classification Report:\n",
      "               precision    recall  f1-score   support\n",
      "\n",
      "         Ev*       1.00      0.94      0.96    108258\n",
      "         MS*       0.43      0.90      0.58      3696\n",
      "         Ma*       0.29      0.76      0.42       400\n",
      "         Y*O       0.51      0.90      0.65      2575\n",
      "\n",
      "    accuracy                           0.93    114929\n",
      "   macro avg       0.56      0.87      0.65    114929\n",
      "weighted avg       0.96      0.93      0.94    114929\n",
      "\n"
     ]
    },
    {
     "data": {
      "image/png": "[encoded data removed]",
      "text/plain": [
       "<Figure size 3000x3000 with 2 Axes>"
      ]
     },
     "metadata": {},
     "output_type": "display_data"
    }
   ],
   "source": [
    "# Load the saved model\n",
    "#model = NeuralNetwork(input_size, output_size).to(device)\n",
    "#model.load_state_dict(torch.load('star_classifier_Exp2.pth'))\n",
    "model.to(device)\n",
    "\n",
    "# Make predictions on the test set\n",
    "model.eval()\n",
    "all_preds = []\n",
    "all_labels = []\n",
    "with torch.no_grad():\n",
    "    for X_batch, y_batch in test_loader:\n",
    "        outputs = model(X_batch)\n",
    "        _, predicted = torch.max(outputs.data, 1)\n",
    "        # _, labels = torch.max(y_batch.data, 1)  # Remove this line\n",
    "        all_preds.extend(predicted.cpu().numpy())\n",
    "        all_labels.extend(y_batch.cpu().numpy())  # Just use y_batch directly\n",
    "\n",
    "# Get the unique labels from your predictions and true labels\n",
    "unique_labels = np.unique(all_labels)\n",
    "\n",
    "# Print the classification report for accuracy per category\n",
    "report = classification_report(all_labels, all_preds, labels=unique_labels, target_names=encoder.classes_[unique_labels])\n",
    "print(\"Classification Report:\\n\", report)\n",
    "\n",
    "\n",
    "# Generate the confusion matrix\n",
    "cm = confusion_matrix(all_labels, all_preds)\n",
    "\n",
    "# Plot the confusion matrix\n",
    "plt.figure(figsize=(30, 30))\n",
    "sns.set(font_scale=1.5)\n",
    "sns.heatmap(cm, annot=True, fmt='d', cmap='Blues', vmin=0, vmax=5000, \n",
    "            xticklabels=encoder.classes_, yticklabels=encoder.classes_, \n",
    "            annot_kws={\"size\": 15})\n",
    "plt.xlabel('Predicted', fontsize=20)\n",
    "plt.ylabel('Actual', fontsize=20)\n",
    "plt.title('Confusion Matrix', fontsize=30)\n",
    "plt.xticks(fontsize=20)\n",
    "plt.yticks(fontsize=20)\n",
    "plt.show()\n"
   ]
  },
  {
   "cell_type": "code",
   "execution_count": null,
   "metadata": {},
   "outputs": [],
   "source": []
  }
 ],
 "metadata": {
  "kernelspec": {
   "display_name": "Python 3",
   "language": "python",
   "name": "python3"
  },
  "language_info": {
   "codemirror_mode": {
    "name": "ipython",
    "version": 3
   },
   "file_extension": ".py",
   "mimetype": "text/x-python",
   "name": "python",
   "nbconvert_exporter": "python",
   "pygments_lexer": "ipython3",
   "version": "3.11.9"
  }
 },
 "nbformat": 4,
 "nbformat_minor": 2
}
