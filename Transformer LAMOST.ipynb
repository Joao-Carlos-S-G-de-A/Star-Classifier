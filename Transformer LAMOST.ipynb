{
 "cells": [
  {
   "cell_type": "markdown",
   "metadata": {},
   "source": [
    "# New start"
   ]
  },
  {
   "cell_type": "code",
   "execution_count": 2,
   "metadata": {},
   "outputs": [],
   "source": [
    "import torch\n",
    "import torch.nn as nn\n",
    "import torch.optim as optim\n",
    "from torch.utils.data import Dataset, DataLoader\n",
    "from sklearn.metrics import confusion_matrix, classification_report\n",
    "import numpy as np\n",
    "import pandas as pd\n",
    "import wandb\n",
    "import gc\n",
    "from sklearn.model_selection import train_test_split\n",
    "# Create dataset classes (using your BalancedDataset approach) and training function\n",
    "class BalancedDataset(Dataset):\n",
    "    def __init__(self, X, y, limit_per_label=1600):\n",
    "        self.X = X\n",
    "        self.y = y\n",
    "        self.limit_per_label = limit_per_label\n",
    "        self.classes = np.unique(y)\n",
    "        self.indices = self.balance_classes()\n",
    "\n",
    "    def balance_classes(self):\n",
    "        indices = []\n",
    "        for cls in self.classes:\n",
    "            cls_indices = np.where(self.y == cls)[0]\n",
    "            if len(cls_indices) > self.limit_per_label:\n",
    "                cls_indices = np.random.choice(cls_indices, self.limit_per_label, replace=False)\n",
    "            indices.extend(cls_indices)\n",
    "        np.random.shuffle(indices)\n",
    "        return indices\n",
    "\n",
    "    def re_sample(self):\n",
    "        self.indices = self.balance_classes()\n",
    "\n",
    "    def __len__(self):\n",
    "        return len(self.indices)\n",
    "\n",
    "    def __getitem__(self, idx):\n",
    "        index = self.indices[idx]\n",
    "        return self.X[index], self.y[index]\n",
    "# Custom Dataset for validation with limit per class\n",
    "class BalancedValidationDataset(Dataset):\n",
    "    def __init__(self, X, y, limit_per_label=400):\n",
    "        self.X = X\n",
    "        self.y = y\n",
    "        self.limit_per_label = limit_per_label\n",
    "        self.classes = np.unique(y)\n",
    "        self.indices = self.balance_classes()\n",
    "\n",
    "    def balance_classes(self):\n",
    "        indices = []\n",
    "        for cls in self.classes:\n",
    "            cls_indices = np.where(self.y == cls)[0]\n",
    "            if len(cls_indices) > self.limit_per_label:\n",
    "                cls_indices = np.random.choice(cls_indices, self.limit_per_label, replace=False)\n",
    "            indices.extend(cls_indices)\n",
    "        np.random.shuffle(indices)\n",
    "        return indices\n",
    "    \n",
    "    def __len__(self):\n",
    "        return len(self.indices)\n",
    "\n",
    "    def __getitem__(self, idx):\n",
    "        index = self.indices[idx]\n",
    "        return self.X[index], self.y[index]\n",
    "# Training function (similar to your ConvNet setup but using WandB)\n",
    "def train_model_vit(model, train_loader, val_loader, test_loader, num_epochs=500, lr=1e-4, max_patience=5, device='cuda'):\n",
    "    model = model.to(device)\n",
    "    optimizer = optim.AdamW(model.parameters(), lr=lr)\n",
    "    criterion = nn.CrossEntropyLoss()\n",
    "    best_test_loss = float('inf')\n",
    "    \n",
    "    for epoch in range(num_epochs):\n",
    "        # Re-sample training data at the start of each epoch\n",
    "        train_loader.dataset.re_sample()\n",
    "        model.train()\n",
    "        train_loss = 0.0\n",
    "        \n",
    "        for X_batch, y_batch in train_loader:\n",
    "            X_batch, y_batch = X_batch.to(device), y_batch.to(device)\n",
    "            optimizer.zero_grad()\n",
    "            outputs = model(X_batch)\n",
    "            loss = criterion(outputs, y_batch)\n",
    "            loss.backward()\n",
    "            optimizer.step()\n",
    "            train_loss += loss.item() * X_batch.size(0)\n",
    "            train_accuracy = (outputs.argmax(dim=1) == y_batch).float().mean()\n",
    "        \n",
    "        # Validation phase\n",
    "        model.eval()\n",
    "        val_loss = 0.0\n",
    "        with torch.no_grad():\n",
    "            for X_val, y_val in val_loader:\n",
    "                X_val, y_val = X_val.to(device), y_val.to(device)\n",
    "                outputs = model(X_val)\n",
    "                loss = criterion(outputs, y_val)\n",
    "                val_loss += loss.item() * X_val.size(0)\n",
    "                val_accuracy = (outputs.argmax(dim=1) == y_val).float().mean()\n",
    "        \n",
    "        # Test phase\n",
    "        test_loss = 0.0\n",
    "        test_accuracy = 0.0\n",
    "        with torch.no_grad():\n",
    "            for X_test, y_test in test_loader:\n",
    "                X_test, y_test = X_test.to(device), y_test.to(device)\n",
    "                outputs = model(X_test)\n",
    "                loss = criterion(outputs, y_test)\n",
    "                test_loss += loss.item() * X_test.size(0)\n",
    "                test_accuracy = (outputs.argmax(dim=1) == y_test).float().mean()\n",
    "\n",
    "\n",
    "        # Log metrics to WandB\n",
    "        train_loss /= len(train_loader.dataset)\n",
    "        val_loss /= len(val_loader.dataset)\n",
    "        test_loss /= len(test_loader.dataset)\n",
    "        wandb.log({\"train_loss\": train_loss, \"val_loss\": val_loss, \"epoch\": epoch, \n",
    "                   \"train_accuracy\": train_accuracy.item(), \"val_accuracy\": val_accuracy.item(), \n",
    "                   \"test_accuracy\": test_accuracy.item(), \"test_loss\": test_loss})\n",
    "        \n",
    "        # Early stopping\n",
    "        if test_loss < best_test_loss:\n",
    "            best_test_loss = test_loss\n",
    "            patience = max_patience\n",
    "        else:\n",
    "            patience -= 1\n",
    "            if patience <= 0:\n",
    "                print(\"Early stopping triggered.\")\n",
    "                break\n",
    "\n",
    "    return model\n",
    "class VisionTransformer1D(nn.Module):\n",
    "    def __init__(self, input_size=3748, num_classes=4, patch_size=5, dim=128, depth=12, heads=16, mlp_dim=256, dropout=0.2):\n",
    "        super(VisionTransformer1D, self).__init__()\n",
    "\n",
    "        # Store patch size and dimensionality for embedding\n",
    "        self.patch_size = patch_size\n",
    "        self.dim = dim\n",
    "\n",
    "        # Patch Embedding layer\n",
    "        self.patch_embed = nn.Linear(patch_size, dim)\n",
    "\n",
    "        # Positional Encoding (initialize to a reasonable size, but we’ll adjust it dynamically)\n",
    "        max_patches = (input_size + patch_size - 1) // patch_size  # Approximate max patches\n",
    "        self.pos_embedding = nn.Parameter(torch.randn(1, max_patches, dim))\n",
    "\n",
    "        # Transformer blocks\n",
    "        self.transformer = nn.TransformerEncoder(nn.TransformerEncoderLayer(dim, heads, mlp_dim, dropout), depth)\n",
    "\n",
    "        # MLP Head\n",
    "        self.fc = nn.Sequential(nn.LayerNorm(dim), nn.Linear(dim, num_classes))\n",
    "\n",
    "    def forward(self, x):\n",
    "        # Handle input dimensions and ensure padding for patch divisibility\n",
    "        batch_size, channels, seq_len = x.shape  # Assuming x has 3 dimensions\n",
    "        x = x.squeeze(1) if channels == 1 else x  # Remove channel dimension if it's 1\n",
    "\n",
    "        # Calculate required padding for divisibility by patch_size and pad input\n",
    "        pad_length = (self.patch_size - (seq_len % self.patch_size)) % self.patch_size\n",
    "        x = nn.functional.pad(x, (0, pad_length))\n",
    "        \n",
    "        # Dynamically calculate number of patches after padding\n",
    "        num_patches = x.size(1) // self.patch_size\n",
    "        x = x.view(batch_size, num_patches, self.patch_size)  # Reshape to patches\n",
    "        \n",
    "        # Embed patches and add positional encoding (resize pos_embedding if needed)\n",
    "        if self.pos_embedding.size(1) != num_patches:\n",
    "            self.pos_embedding = nn.Parameter(self.pos_embedding[:, :num_patches, :])\n",
    "        x = self.patch_embed(x) + self.pos_embedding\n",
    "\n",
    "        # Transformer forward pass\n",
    "        x = self.transformer(x)\n",
    "\n",
    "        # Classify based on the first token representation\n",
    "        x = self.fc(x[:, 0])\n",
    "\n",
    "        return x\n"
   ]
  },
  {
   "cell_type": "code",
   "execution_count": 3,
   "metadata": {},
   "outputs": [],
   "source": [
    "batch_size = 256\n",
    "\n",
    "\n",
    "\n",
    "# Example usage\n",
    "if __name__ == \"__main__\":\n",
    "    # Load and preprocess your data (example from original script)\n",
    "    # Load and preprocess data\n",
    "    X = pd.read_pickle(\"Pickles/fusionv0/trainv2.pkl\")\n",
    "    y = X[\"label\"]\n",
    "    label_mapping = {'star': 0, 'binary_star': 1, 'galaxy': 2, 'agn': 3}\n",
    "    y = y.map(label_mapping).values\n",
    "    X = X.drop([\"parallax\", \"ra\", \"dec\", \"ra_error\", \"dec_error\", \"parallax_error\", \"pmra\", \"pmdec\", \"pmra_error\", \"pmdec_error\", \n",
    "                \"phot_g_mean_flux\", \"flagnopllx\", \"phot_g_mean_flux_error\", \"phot_bp_mean_flux\", \"phot_rp_mean_flux\", \n",
    "                \"phot_bp_mean_flux_error\", \"phot_rp_mean_flux_error\", \"label\", \"obsid\"], axis=1).values\n",
    "    \n",
    "    # Read test data\n",
    "    X_test = pd.read_pickle(\"Pickles/fusionv0/testv2.pkl\")\n",
    "    y_test = X_test[\"label\"].map(label_mapping).values\n",
    "    X_test = X_test.drop([\"parallax\", \"ra\", \"dec\", \"ra_error\", \"dec_error\", \"parallax_error\", \"pmra\", \"pmdec\", \"pmra_error\", \"pmdec_error\", \n",
    "                \"phot_g_mean_flux\", \"flagnopllx\", \"phot_g_mean_flux_error\", \"phot_bp_mean_flux\", \"phot_rp_mean_flux\", \n",
    "                \"phot_bp_mean_flux_error\", \"phot_rp_mean_flux_error\", \"label\", \"obsid\"], axis=1).values\n",
    "    \n",
    "    # Split data\n",
    "    X_train, X_val, y_train, y_val = train_test_split(X, y, test_size=0.2, random_state=42)\n",
    "\n",
    "    # Clear memory\n",
    "    del X, y\n",
    "    gc.collect()\n",
    "\n",
    "    # Convert to torch tensors and create datasets\n",
    "    X_train = torch.tensor(X_train, dtype=torch.float32).unsqueeze(1)\n",
    "    X_val = torch.tensor(X_val, dtype=torch.float32).unsqueeze(1)\n",
    "    y_train = torch.tensor(y_train, dtype=torch.long)\n",
    "    y_val = torch.tensor(y_val, dtype=torch.long)\n",
    "\n",
    "    train_dataset = BalancedDataset(X_train, y_train)\n",
    "    val_dataset = BalancedValidationDataset(X_val, y_val)\n",
    "    \n",
    "    train_loader = DataLoader(train_dataset, batch_size=batch_size, shuffle=True)\n",
    "    val_loader = DataLoader(val_dataset, batch_size=batch_size, shuffle=False)\n",
    "    test_loader = DataLoader(BalancedValidationDataset(torch.tensor(X_test, dtype=torch.float32).unsqueeze(1),\n",
    "                                                    torch.tensor(y_test, dtype=torch.long)), batch_size=batch_size, shuffle=False)\n"
   ]
  },
  {
   "cell_type": "code",
   "execution_count": null,
   "metadata": {},
   "outputs": [],
   "source": [
    "# Define the hyperparameters\n",
    "num_classes = 4\n",
    "patch_size = 3748\n",
    "dim = 128\n",
    "depth = 20\n",
    "heads = 20\n",
    "mlp_dim = 512\n",
    "dropout = 0.3\n",
    "batch_size = 128\n",
    "lr = 1e-7\n",
    "patience = 150\n",
    "num_epochs = 1000\n",
    "\n",
    "\n",
    "# Define the config dictionary object\n",
    "config = {\"num_classes\": num_classes, \"patch_size\": patch_size, \"dim\": dim, \"depth\": depth, \"heads\": heads, \"mlp_dim\": mlp_dim, \n",
    "          \"dropout\": dropout, \"batch_size\": batch_size, \"lr\": lr, \"patience\": patience}\n",
    "\n",
    "# Initialize WandB project\n",
    "wandb.init(project=\"spectra-classification-vit\", entity=\"joaoc-university-of-southampton\", config=config)\n",
    "# Initialize and train the model\n",
    "model_vit = VisionTransformer1D(num_classes=num_classes, patch_size=patch_size, dim=dim, depth=depth, heads=heads, mlp_dim=mlp_dim, dropout=dropout)\n",
    "trained_model = train_model_vit(model_vit, train_loader, val_loader, test_loader, num_epochs=num_epochs, lr=lr, patience=patience)\n",
    "\n",
    "# Save the model and finish WandB session\n",
    "wandb.finish()"
   ]
  },
  {
   "cell_type": "code",
   "execution_count": 19,
   "metadata": {},
   "outputs": [
    {
     "name": "stdout",
     "output_type": "stream",
     "text": [
      "VisionTransformer1D(\n",
      "  (patch_embed): Linear(in_features=17, out_features=128, bias=True)\n",
      "  (transformer): TransformerEncoder(\n",
      "    (layers): ModuleList(\n",
      "      (0-5): 6 x TransformerEncoderLayer(\n",
      "        (self_attn): MultiheadAttention(\n",
      "          (out_proj): NonDynamicallyQuantizableLinear(in_features=128, out_features=128, bias=True)\n",
      "        )\n",
      "        (linear1): Linear(in_features=128, out_features=256, bias=True)\n",
      "        (dropout): Dropout(p=0.1, inplace=False)\n",
      "        (linear2): Linear(in_features=256, out_features=128, bias=True)\n",
      "        (norm1): LayerNorm((128,), eps=1e-05, elementwise_affine=True)\n",
      "        (norm2): LayerNorm((128,), eps=1e-05, elementwise_affine=True)\n",
      "        (dropout1): Dropout(p=0.1, inplace=False)\n",
      "        (dropout2): Dropout(p=0.1, inplace=False)\n",
      "      )\n",
      "    )\n",
      "  )\n",
      "  (fc): Sequential(\n",
      "    (0): LayerNorm((128,), eps=1e-05, elementwise_affine=True)\n",
      "    (1): Linear(in_features=128, out_features=4, bias=True)\n",
      "  )\n",
      ")\n"
     ]
    },
    {
     "name": "stdout",
     "output_type": "stream",
     "text": [
      "Confusion Matrix: [[187 107  62  44]\n",
      " [141 151  73  35]\n",
      " [ 53  11 208 104]\n",
      " [ 18   6  70 306]]\n",
      "Classification Report:               precision    recall  f1-score   support\n",
      "\n",
      "           0       0.47      0.47      0.47       400\n",
      "           1       0.55      0.38      0.45       400\n",
      "           2       0.50      0.55      0.53       376\n",
      "           3       0.63      0.77      0.69       400\n",
      "\n",
      "    accuracy                           0.54      1576\n",
      "   macro avg       0.54      0.54      0.53      1576\n",
      "weighted avg       0.54      0.54      0.53      1576\n",
      "\n"
     ]
    }
   ],
   "source": [
    "# Save the model\n",
    "torch.save(model_vit.state_dict(), \"Models/vit_model.pth\")\n",
    "\n",
    "# Print the model summary\n",
    "print(model_vit)\n",
    "\n",
    "# Print confusion matrix and classification report  \n",
    "print_confusion_matrix_vit(trained_model, test_loader)"
   ]
  },
  {
   "cell_type": "markdown",
   "metadata": {},
   "source": [
    "# Sweep"
   ]
  },
  {
   "cell_type": "code",
   "execution_count": null,
   "metadata": {},
   "outputs": [
    {
     "name": "stdout",
     "output_type": "stream",
     "text": [
      "Create sweep with ID: 55gfycot\n",
      "Sweep URL: https://wandb.ai/joaoc-university-of-southampton/spectra-classification-vit/sweeps/55gfycot\n"
     ]
    },
    {
     "name": "stderr",
     "output_type": "stream",
     "text": [
      "wandb: Agent Starting Run: v7nnc5u6 with config:\n",
      "wandb: \tdepth: 12\n",
      "wandb: \tdim: 256\n",
      "wandb: \tdropout: 0.1\n",
      "wandb: \theads: 8\n",
      "wandb: \tlr: 1e-06\n",
      "wandb: \tmlp_dim: 1024\n",
      "wandb: \tpatch_size: 3748\n"
     ]
    },
    {
     "data": {
      "text/html": [
       "Tracking run with wandb version 0.18.5"
      ],
      "text/plain": [
       "<IPython.core.display.HTML object>"
      ]
     },
     "metadata": {},
     "output_type": "display_data"
    },
    {
     "data": {
      "text/html": [
       "Run data is saved locally in <code>c:\\Users\\jcwin\\OneDrive - University of Southampton\\_Southampton\\2024-25\\Star-Classifier\\wandb\\run-20241028_142910-v7nnc5u6</code>"
      ],
      "text/plain": [
       "<IPython.core.display.HTML object>"
      ]
     },
     "metadata": {},
     "output_type": "display_data"
    },
    {
     "data": {
      "text/html": [
       "Syncing run <strong><a href='https://wandb.ai/joaoc-university-of-southampton/spectra-classification-vit/runs/v7nnc5u6' target=\"_blank\">easy-sweep-1</a></strong> to <a href='https://wandb.ai/joaoc-university-of-southampton/spectra-classification-vit' target=\"_blank\">Weights & Biases</a> (<a href='https://wandb.me/run' target=\"_blank\">docs</a>)<br/>Sweep page: <a href='https://wandb.ai/joaoc-university-of-southampton/spectra-classification-vit/sweeps/55gfycot' target=\"_blank\">https://wandb.ai/joaoc-university-of-southampton/spectra-classification-vit/sweeps/55gfycot</a>"
      ],
      "text/plain": [
       "<IPython.core.display.HTML object>"
      ]
     },
     "metadata": {},
     "output_type": "display_data"
    },
    {
     "data": {
      "text/html": [
       " View project at <a href='https://wandb.ai/joaoc-university-of-southampton/spectra-classification-vit' target=\"_blank\">https://wandb.ai/joaoc-university-of-southampton/spectra-classification-vit</a>"
      ],
      "text/plain": [
       "<IPython.core.display.HTML object>"
      ]
     },
     "metadata": {},
     "output_type": "display_data"
    },
    {
     "data": {
      "text/html": [
       " View sweep at <a href='https://wandb.ai/joaoc-university-of-southampton/spectra-classification-vit/sweeps/55gfycot' target=\"_blank\">https://wandb.ai/joaoc-university-of-southampton/spectra-classification-vit/sweeps/55gfycot</a>"
      ],
      "text/plain": [
       "<IPython.core.display.HTML object>"
      ]
     },
     "metadata": {},
     "output_type": "display_data"
    },
    {
     "data": {
      "text/html": [
       " View run at <a href='https://wandb.ai/joaoc-university-of-southampton/spectra-classification-vit/runs/v7nnc5u6' target=\"_blank\">https://wandb.ai/joaoc-university-of-southampton/spectra-classification-vit/runs/v7nnc5u6</a>"
      ],
      "text/plain": [
       "<IPython.core.display.HTML object>"
      ]
     },
     "metadata": {},
     "output_type": "display_data"
    },
    {
     "name": "stderr",
     "output_type": "stream",
     "text": [
      "C:\\Users\\jcwin\\AppData\\Local\\Packages\\PythonSoftwareFoundation.Python.3.11_qbz5n2kfra8p0\\LocalCache\\local-packages\\Python311\\site-packages\\torch\\nn\\modules\\transformer.py:307: UserWarning: enable_nested_tensor is True, but self.use_nested_tensor is False because encoder_layer.self_attn.batch_first was not True(use batch_first for better inference performance)\n",
      "  warnings.warn(f\"enable_nested_tensor is True, but self.use_nested_tensor is False because {why_not_sparsity_fast_path}\")\n",
      "C:\\Users\\jcwin\\AppData\\Local\\Packages\\PythonSoftwareFoundation.Python.3.11_qbz5n2kfra8p0\\LocalCache\\local-packages\\Python311\\site-packages\\torch\\nn\\functional.py:5560: UserWarning: 1Torch was not compiled with flash attention. (Triggered internally at C:\\actions-runner\\_work\\pytorch\\pytorch\\builder\\windows\\pytorch\\aten\\src\\ATen\\native\\transformers\\cuda\\sdp_utils.cpp:555.)\n",
      "  attn_output = scaled_dot_product_attention(q, k, v, attn_mask, dropout_p, is_causal)\n"
     ]
    }
   ],
   "source": [
    "import wandb\n",
    "\n",
    "# Define the hyperparameters\n",
    "num_classes = 4\n",
    "num_epochs = 500\n",
    "patience = 50\n",
    "\n",
    "# Define sweep config\n",
    "sweep_config = {\n",
    "    \"method\": \"random\",\n",
    "    \"metric\": {\"name\": \"test_accuracy\", \"goal\": \"maximize\"},\n",
    "    \"parameters\": {\n",
    "        \"lr\": {\"values\": [1e-7, 1e-6, 1e-5]},\n",
    "        \"patch_size\": {\"values\": [16, 256, 3748]},\n",
    "        \"dim\": {\"values\": [32, 64, 128, 256, 512]},\n",
    "        \"heads\": {\"values\": [8, 16, 32, 64]},\n",
    "        \"mlp_dim\": {\"values\": [512, 1024, 2048]},\n",
    "        #\"batch_size\": {\"values\": [64, 128, 256]},\n",
    "        \"depth\": {\"values\": [6, 12, 20]},\n",
    "        \"dropout\": {\"values\": [0.1, 0.2, 0.3, 0.4]}\n",
    "    }\n",
    "}\n",
    "\n",
    "def sweep_train():\n",
    "    with wandb.init() as run:\n",
    "        config = run.config\n",
    "        model_vit = VisionTransformer1D(\n",
    "            num_classes=num_classes,\n",
    "            patch_size=config.patch_size,\n",
    "            dim=config.dim,\n",
    "            depth=config.depth,\n",
    "            heads=config.heads,\n",
    "            mlp_dim=config.mlp_dim,\n",
    "            dropout=config.dropout\n",
    "        )\n",
    "        \n",
    "        # Pass config.num_epochs explicitly\n",
    "        trained_model = train_model_vit(\n",
    "            model_vit,\n",
    "            train_loader,\n",
    "            val_loader,\n",
    "            test_loader,\n",
    "            num_epochs=num_epochs,\n",
    "            lr=config.lr,\n",
    "            patience=patience,\n",
    "            device='cuda'\n",
    "        )\n",
    "\n",
    "\n",
    "# Start sweep\n",
    "sweep_id = wandb.sweep(sweep_config, project=\"spectra-classification-vit\")\n",
    "wandb.agent(sweep_id, function=sweep_train, count=24)\n"
   ]
  },
  {
   "cell_type": "markdown",
   "metadata": {},
   "source": [
    "# Sweep with new normalization"
   ]
  },
  {
   "cell_type": "code",
   "execution_count": 4,
   "metadata": {},
   "outputs": [
    {
     "name": "stdout",
     "output_type": "stream",
     "text": [
      "Create sweep with ID: cdqoepyl\n",
      "Sweep URL: https://wandb.ai/joaoc-university-of-southampton/spectra-classification-vit/sweeps/cdqoepyl\n"
     ]
    },
    {
     "name": "stderr",
     "output_type": "stream",
     "text": [
      "wandb: Agent Starting Run: p988mh1q with config:\n",
      "wandb: \tdepth: 20\n",
      "wandb: \tdim: 128\n",
      "wandb: \tdropout: 0.2\n",
      "wandb: \theads: 2\n",
      "wandb: \tlr: 3e-07\n",
      "wandb: \tmlp_dim: 64\n",
      "wandb: \tpatch_size: 3748\n"
     ]
    },
    {
     "data": {
      "text/html": [
       "Tracking run with wandb version 0.18.5"
      ],
      "text/plain": [
       "<IPython.core.display.HTML object>"
      ]
     },
     "metadata": {},
     "output_type": "display_data"
    },
    {
     "data": {
      "text/html": [
       "Run data is saved locally in <code>c:\\Users\\jcwin\\OneDrive - University of Southampton\\_Southampton\\2024-25\\Star-Classifier\\wandb\\run-20241029_105604-p988mh1q</code>"
      ],
      "text/plain": [
       "<IPython.core.display.HTML object>"
      ]
     },
     "metadata": {},
     "output_type": "display_data"
    },
    {
     "data": {
      "text/html": [
       "Syncing run <strong><a href='https://wandb.ai/joaoc-university-of-southampton/spectra-classification-vit/runs/p988mh1q' target=\"_blank\">drawn-sweep-1</a></strong> to <a href='https://wandb.ai/joaoc-university-of-southampton/spectra-classification-vit' target=\"_blank\">Weights & Biases</a> (<a href='https://wandb.me/run' target=\"_blank\">docs</a>)<br/>Sweep page: <a href='https://wandb.ai/joaoc-university-of-southampton/spectra-classification-vit/sweeps/cdqoepyl' target=\"_blank\">https://wandb.ai/joaoc-university-of-southampton/spectra-classification-vit/sweeps/cdqoepyl</a>"
      ],
      "text/plain": [
       "<IPython.core.display.HTML object>"
      ]
     },
     "metadata": {},
     "output_type": "display_data"
    },
    {
     "data": {
      "text/html": [
       " View project at <a href='https://wandb.ai/joaoc-university-of-southampton/spectra-classification-vit' target=\"_blank\">https://wandb.ai/joaoc-university-of-southampton/spectra-classification-vit</a>"
      ],
      "text/plain": [
       "<IPython.core.display.HTML object>"
      ]
     },
     "metadata": {},
     "output_type": "display_data"
    },
    {
     "data": {
      "text/html": [
       " View sweep at <a href='https://wandb.ai/joaoc-university-of-southampton/spectra-classification-vit/sweeps/cdqoepyl' target=\"_blank\">https://wandb.ai/joaoc-university-of-southampton/spectra-classification-vit/sweeps/cdqoepyl</a>"
      ],
      "text/plain": [
       "<IPython.core.display.HTML object>"
      ]
     },
     "metadata": {},
     "output_type": "display_data"
    },
    {
     "data": {
      "text/html": [
       " View run at <a href='https://wandb.ai/joaoc-university-of-southampton/spectra-classification-vit/runs/p988mh1q' target=\"_blank\">https://wandb.ai/joaoc-university-of-southampton/spectra-classification-vit/runs/p988mh1q</a>"
      ],
      "text/plain": [
       "<IPython.core.display.HTML object>"
      ]
     },
     "metadata": {},
     "output_type": "display_data"
    },
    {
     "name": "stderr",
     "output_type": "stream",
     "text": [
      "C:\\Users\\jcwin\\AppData\\Local\\Packages\\PythonSoftwareFoundation.Python.3.11_qbz5n2kfra8p0\\LocalCache\\local-packages\\Python311\\site-packages\\torch\\nn\\modules\\transformer.py:307: UserWarning: enable_nested_tensor is True, but self.use_nested_tensor is False because encoder_layer.self_attn.batch_first was not True(use batch_first for better inference performance)\n",
      "  warnings.warn(f\"enable_nested_tensor is True, but self.use_nested_tensor is False because {why_not_sparsity_fast_path}\")\n",
      "C:\\Users\\jcwin\\AppData\\Local\\Packages\\PythonSoftwareFoundation.Python.3.11_qbz5n2kfra8p0\\LocalCache\\local-packages\\Python311\\site-packages\\torch\\nn\\functional.py:5560: UserWarning: 1Torch was not compiled with flash attention. (Triggered internally at C:\\actions-runner\\_work\\pytorch\\pytorch\\builder\\windows\\pytorch\\aten\\src\\ATen\\native\\transformers\\cuda\\sdp_utils.cpp:555.)\n",
      "  attn_output = scaled_dot_product_attention(q, k, v, attn_mask, dropout_p, is_causal)\n"
     ]
    },
    {
     "name": "stdout",
     "output_type": "stream",
     "text": [
      "Early stopping triggered.\n"
     ]
    },
    {
     "data": {
      "text/html": [
       "<style>\n",
       "    table.wandb td:nth-child(1) { padding: 0 10px; text-align: left ; width: auto;} td:nth-child(2) {text-align: left ; width: 100%}\n",
       "    .wandb-row { display: flex; flex-direction: row; flex-wrap: wrap; justify-content: flex-start; width: 100% }\n",
       "    .wandb-col { display: flex; flex-direction: column; flex-basis: 100%; flex: 1; padding: 10px; }\n",
       "    </style>\n",
       "<div class=\"wandb-row\"><div class=\"wandb-col\"><h3>Run history:</h3><br/><table class=\"wandb\"><tr><td>epoch</td><td>▁▁▁▁▂▂▂▂▂▃▃▃▃▃▄▄▄▄▄▄▅▅▅▅▅▅▆▆▆▆▆▇▇▇▇▇████</td></tr><tr><td>test_accuracy</td><td>▁▁▁▅▅▅██████████████████████████████████</td></tr><tr><td>test_loss</td><td>█▆▄▄▃▂▂▂▁▁▁▁▁▁▁▁▁▁▁▁▁▁▁▁▁▁▁▁▁▁▁▁▁▁▁▁▁▁▁▁</td></tr><tr><td>train_accuracy</td><td>▄▅▆▃▄▃▆▄▃▄▅▁▆▂▅▄▆▆▆▇▄█▅▅▅▄▅▃▆▄▅▅▆▄▃▆▅▄▃▇</td></tr><tr><td>train_loss</td><td>█▇▆▅▅▄▄▃▃▂▃▃▂▃▃▃▂▂▂▂▁▂▂▂▂▂▂▃▂▁▂▂▂▃▂▃▂▂▂▁</td></tr><tr><td>val_accuracy</td><td>██▁▁▁▁▁▁▁▁▁▁▁▁▁▁▁▁▁▁▁▁▁▁▁▁▁▁▁▁▁▁▁▁▁▁▁▁▁▁</td></tr><tr><td>val_loss</td><td>█▆▅▄▃▃▃▂▂▂▂▂▁▁▁▁▁▁▁▁▁▁▁▁▁▁▁▁▁▁▁▁▁▁▁▁▁▁▁▁</td></tr></table><br/></div><div class=\"wandb-col\"><h3>Run summary:</h3><br/><table class=\"wandb\"><tr><td>epoch</td><td>45</td></tr><tr><td>test_accuracy</td><td>0.35</td></tr><tr><td>test_loss</td><td>1.38911</td></tr><tr><td>train_accuracy</td><td>0.23645</td></tr><tr><td>train_loss</td><td>1.39102</td></tr><tr><td>val_accuracy</td><td>0.22745</td></tr><tr><td>val_loss</td><td>1.38435</td></tr></table><br/></div></div>"
      ],
      "text/plain": [
       "<IPython.core.display.HTML object>"
      ]
     },
     "metadata": {},
     "output_type": "display_data"
    },
    {
     "data": {
      "text/html": [
       " View run <strong style=\"color:#cdcd00\">drawn-sweep-1</strong> at: <a href='https://wandb.ai/joaoc-university-of-southampton/spectra-classification-vit/runs/p988mh1q' target=\"_blank\">https://wandb.ai/joaoc-university-of-southampton/spectra-classification-vit/runs/p988mh1q</a><br/> View project at: <a href='https://wandb.ai/joaoc-university-of-southampton/spectra-classification-vit' target=\"_blank\">https://wandb.ai/joaoc-university-of-southampton/spectra-classification-vit</a><br/>Synced 5 W&B file(s), 0 media file(s), 0 artifact file(s) and 0 other file(s)"
      ],
      "text/plain": [
       "<IPython.core.display.HTML object>"
      ]
     },
     "metadata": {},
     "output_type": "display_data"
    },
    {
     "data": {
      "text/html": [
       "Find logs at: <code>.\\wandb\\run-20241029_105604-p988mh1q\\logs</code>"
      ],
      "text/plain": [
       "<IPython.core.display.HTML object>"
      ]
     },
     "metadata": {},
     "output_type": "display_data"
    },
    {
     "name": "stderr",
     "output_type": "stream",
     "text": [
      "wandb: Agent Starting Run: fl0880kh with config:\n",
      "wandb: \tdepth: 3\n",
      "wandb: \tdim: 512\n",
      "wandb: \tdropout: 0.4\n",
      "wandb: \theads: 8\n",
      "wandb: \tlr: 3e-05\n",
      "wandb: \tmlp_dim: 128\n",
      "wandb: \tpatch_size: 3748\n"
     ]
    },
    {
     "data": {
      "text/html": [
       "Tracking run with wandb version 0.18.5"
      ],
      "text/plain": [
       "<IPython.core.display.HTML object>"
      ]
     },
     "metadata": {},
     "output_type": "display_data"
    },
    {
     "data": {
      "text/html": [
       "Run data is saved locally in <code>c:\\Users\\jcwin\\OneDrive - University of Southampton\\_Southampton\\2024-25\\Star-Classifier\\wandb\\run-20241029_105722-fl0880kh</code>"
      ],
      "text/plain": [
       "<IPython.core.display.HTML object>"
      ]
     },
     "metadata": {},
     "output_type": "display_data"
    },
    {
     "data": {
      "text/html": [
       "Syncing run <strong><a href='https://wandb.ai/joaoc-university-of-southampton/spectra-classification-vit/runs/fl0880kh' target=\"_blank\">vital-sweep-2</a></strong> to <a href='https://wandb.ai/joaoc-university-of-southampton/spectra-classification-vit' target=\"_blank\">Weights & Biases</a> (<a href='https://wandb.me/run' target=\"_blank\">docs</a>)<br/>Sweep page: <a href='https://wandb.ai/joaoc-university-of-southampton/spectra-classification-vit/sweeps/cdqoepyl' target=\"_blank\">https://wandb.ai/joaoc-university-of-southampton/spectra-classification-vit/sweeps/cdqoepyl</a>"
      ],
      "text/plain": [
       "<IPython.core.display.HTML object>"
      ]
     },
     "metadata": {},
     "output_type": "display_data"
    },
    {
     "data": {
      "text/html": [
       " View project at <a href='https://wandb.ai/joaoc-university-of-southampton/spectra-classification-vit' target=\"_blank\">https://wandb.ai/joaoc-university-of-southampton/spectra-classification-vit</a>"
      ],
      "text/plain": [
       "<IPython.core.display.HTML object>"
      ]
     },
     "metadata": {},
     "output_type": "display_data"
    },
    {
     "data": {
      "text/html": [
       " View sweep at <a href='https://wandb.ai/joaoc-university-of-southampton/spectra-classification-vit/sweeps/cdqoepyl' target=\"_blank\">https://wandb.ai/joaoc-university-of-southampton/spectra-classification-vit/sweeps/cdqoepyl</a>"
      ],
      "text/plain": [
       "<IPython.core.display.HTML object>"
      ]
     },
     "metadata": {},
     "output_type": "display_data"
    },
    {
     "data": {
      "text/html": [
       " View run at <a href='https://wandb.ai/joaoc-university-of-southampton/spectra-classification-vit/runs/fl0880kh' target=\"_blank\">https://wandb.ai/joaoc-university-of-southampton/spectra-classification-vit/runs/fl0880kh</a>"
      ],
      "text/plain": [
       "<IPython.core.display.HTML object>"
      ]
     },
     "metadata": {},
     "output_type": "display_data"
    },
    {
     "name": "stderr",
     "output_type": "stream",
     "text": [
      "C:\\Users\\jcwin\\AppData\\Local\\Packages\\PythonSoftwareFoundation.Python.3.11_qbz5n2kfra8p0\\LocalCache\\local-packages\\Python311\\site-packages\\torch\\nn\\modules\\transformer.py:307: UserWarning: enable_nested_tensor is True, but self.use_nested_tensor is False because encoder_layer.self_attn.batch_first was not True(use batch_first for better inference performance)\n",
      "  warnings.warn(f\"enable_nested_tensor is True, but self.use_nested_tensor is False because {why_not_sparsity_fast_path}\")\n"
     ]
    },
    {
     "name": "stdout",
     "output_type": "stream",
     "text": [
      "Early stopping triggered.\n"
     ]
    },
    {
     "data": {
      "text/html": [
       "<style>\n",
       "    table.wandb td:nth-child(1) { padding: 0 10px; text-align: left ; width: auto;} td:nth-child(2) {text-align: left ; width: 100%}\n",
       "    .wandb-row { display: flex; flex-direction: row; flex-wrap: wrap; justify-content: flex-start; width: 100% }\n",
       "    .wandb-col { display: flex; flex-direction: column; flex-basis: 100%; flex: 1; padding: 10px; }\n",
       "    </style>\n",
       "<div class=\"wandb-row\"><div class=\"wandb-col\"><h3>Run history:</h3><br/><table class=\"wandb\"><tr><td>epoch</td><td>▁▁▁▁▂▂▂▂▂▃▃▃▃▃▃▄▄▄▄▄▅▅▅▅▅▅▆▆▆▆▆▆▇▇▇▇▇███</td></tr><tr><td>test_accuracy</td><td>▁▅▅▅▅▅▆▅▆▅▆▇▅▅▅▅▅▆▄▆▆▅▆▄▅▅▃▆▆▅▆▄▅▇▇▆▆▅▇█</td></tr><tr><td>test_loss</td><td>█▅▃▃▂▂▂▂▁▂▁▁▁▁▁▂▁▁▁▂▁▁▂▂▁▂▂▂▂▂▂▃▃▂▃▃▃▄▃▄</td></tr><tr><td>train_accuracy</td><td>▁▅▄▅▄▅▅▅▄▅▆▆▆▆▆▅▇▆▇▆▆▆▆▅█▆▇▆▇▇▇▆▆▇▆▇▇▆▇▆</td></tr><tr><td>train_loss</td><td>█▅▄▃▃▃▂▂▂▂▂▂▂▂▂▂▂▂▂▂▂▂▂▂▁▂▁▁▁▁▁▁▁▁▁▁▁▁▁▁</td></tr><tr><td>val_accuracy</td><td>▁▄▆▆▅▇▇▇▇▇██▇▇▇▇▇▇█▆▆▇██▇█▆▆███▇██▇▇█▇▇▇</td></tr><tr><td>val_loss</td><td>█▅▃▂▂▁▁▁▁▁▁▁▁▂▁▁▁▁▁▂▁▁▂▂▂▂▂▂▂▂▂▂▃▃▃▃▃▃▃▃</td></tr></table><br/></div><div class=\"wandb-col\"><h3>Run summary:</h3><br/><table class=\"wandb\"><tr><td>epoch</td><td>46</td></tr><tr><td>test_accuracy</td><td>0.775</td></tr><tr><td>test_loss</td><td>0.69452</td></tr><tr><td>train_accuracy</td><td>0.76847</td></tr><tr><td>train_loss</td><td>0.47295</td></tr><tr><td>val_accuracy</td><td>0.7098</td></tr><tr><td>val_loss</td><td>0.72937</td></tr></table><br/></div></div>"
      ],
      "text/plain": [
       "<IPython.core.display.HTML object>"
      ]
     },
     "metadata": {},
     "output_type": "display_data"
    },
    {
     "data": {
      "text/html": [
       " View run <strong style=\"color:#cdcd00\">vital-sweep-2</strong> at: <a href='https://wandb.ai/joaoc-university-of-southampton/spectra-classification-vit/runs/fl0880kh' target=\"_blank\">https://wandb.ai/joaoc-university-of-southampton/spectra-classification-vit/runs/fl0880kh</a><br/> View project at: <a href='https://wandb.ai/joaoc-university-of-southampton/spectra-classification-vit' target=\"_blank\">https://wandb.ai/joaoc-university-of-southampton/spectra-classification-vit</a><br/>Synced 5 W&B file(s), 0 media file(s), 0 artifact file(s) and 0 other file(s)"
      ],
      "text/plain": [
       "<IPython.core.display.HTML object>"
      ]
     },
     "metadata": {},
     "output_type": "display_data"
    },
    {
     "data": {
      "text/html": [
       "Find logs at: <code>.\\wandb\\run-20241029_105722-fl0880kh\\logs</code>"
      ],
      "text/plain": [
       "<IPython.core.display.HTML object>"
      ]
     },
     "metadata": {},
     "output_type": "display_data"
    },
    {
     "name": "stderr",
     "output_type": "stream",
     "text": [
      "wandb: Sweep Agent: Waiting for job.\n",
      "wandb: Job received.\n",
      "wandb: Agent Starting Run: xpyu2bh9 with config:\n",
      "wandb: \tdepth: 10\n",
      "wandb: \tdim: 64\n",
      "wandb: \tdropout: 0.1\n",
      "wandb: \theads: 8\n",
      "wandb: \tlr: 3e-07\n",
      "wandb: \tmlp_dim: 64\n",
      "wandb: \tpatch_size: 3748\n"
     ]
    },
    {
     "data": {
      "text/html": [
       "Tracking run with wandb version 0.18.5"
      ],
      "text/plain": [
       "<IPython.core.display.HTML object>"
      ]
     },
     "metadata": {},
     "output_type": "display_data"
    },
    {
     "data": {
      "text/html": [
       "Run data is saved locally in <code>c:\\Users\\jcwin\\OneDrive - University of Southampton\\_Southampton\\2024-25\\Star-Classifier\\wandb\\run-20241029_105757-xpyu2bh9</code>"
      ],
      "text/plain": [
       "<IPython.core.display.HTML object>"
      ]
     },
     "metadata": {},
     "output_type": "display_data"
    },
    {
     "data": {
      "text/html": [
       "Syncing run <strong><a href='https://wandb.ai/joaoc-university-of-southampton/spectra-classification-vit/runs/xpyu2bh9' target=\"_blank\">dashing-sweep-3</a></strong> to <a href='https://wandb.ai/joaoc-university-of-southampton/spectra-classification-vit' target=\"_blank\">Weights & Biases</a> (<a href='https://wandb.me/run' target=\"_blank\">docs</a>)<br/>Sweep page: <a href='https://wandb.ai/joaoc-university-of-southampton/spectra-classification-vit/sweeps/cdqoepyl' target=\"_blank\">https://wandb.ai/joaoc-university-of-southampton/spectra-classification-vit/sweeps/cdqoepyl</a>"
      ],
      "text/plain": [
       "<IPython.core.display.HTML object>"
      ]
     },
     "metadata": {},
     "output_type": "display_data"
    },
    {
     "data": {
      "text/html": [
       " View project at <a href='https://wandb.ai/joaoc-university-of-southampton/spectra-classification-vit' target=\"_blank\">https://wandb.ai/joaoc-university-of-southampton/spectra-classification-vit</a>"
      ],
      "text/plain": [
       "<IPython.core.display.HTML object>"
      ]
     },
     "metadata": {},
     "output_type": "display_data"
    },
    {
     "data": {
      "text/html": [
       " View sweep at <a href='https://wandb.ai/joaoc-university-of-southampton/spectra-classification-vit/sweeps/cdqoepyl' target=\"_blank\">https://wandb.ai/joaoc-university-of-southampton/spectra-classification-vit/sweeps/cdqoepyl</a>"
      ],
      "text/plain": [
       "<IPython.core.display.HTML object>"
      ]
     },
     "metadata": {},
     "output_type": "display_data"
    },
    {
     "data": {
      "text/html": [
       " View run at <a href='https://wandb.ai/joaoc-university-of-southampton/spectra-classification-vit/runs/xpyu2bh9' target=\"_blank\">https://wandb.ai/joaoc-university-of-southampton/spectra-classification-vit/runs/xpyu2bh9</a>"
      ],
      "text/plain": [
       "<IPython.core.display.HTML object>"
      ]
     },
     "metadata": {},
     "output_type": "display_data"
    },
    {
     "data": {
      "text/html": [
       "<style>\n",
       "    table.wandb td:nth-child(1) { padding: 0 10px; text-align: left ; width: auto;} td:nth-child(2) {text-align: left ; width: 100%}\n",
       "    .wandb-row { display: flex; flex-direction: row; flex-wrap: wrap; justify-content: flex-start; width: 100% }\n",
       "    .wandb-col { display: flex; flex-direction: column; flex-basis: 100%; flex: 1; padding: 10px; }\n",
       "    </style>\n",
       "<div class=\"wandb-row\"><div class=\"wandb-col\"><h3>Run history:</h3><br/><table class=\"wandb\"><tr><td>epoch</td><td>▁▁▁▁▂▂▂▂▂▂▂▂▃▃▃▃▄▄▄▄▅▅▅▅▅▅▆▆▆▆▇▇▇▇▇▇████</td></tr><tr><td>test_accuracy</td><td>▁▂▂▇█▇▇▇▆▅▅▅▅▅▅▅▅▇▆▇▇▇▇▇▆▇▇▇▇▇▇▆▇▇▇▇▆▇▆▇</td></tr><tr><td>test_loss</td><td>███▇▇▇▇▇▆▆▆▆▆▆▆▆▆▅▅▅▄▄▄▄▄▃▃▃▃▃▂▂▂▂▂▂▁▁▁▁</td></tr><tr><td>train_accuracy</td><td>▁▁▁▃▃▄▃▄▅▄▅▅▄▆▅▆▆▅▄▇▆▅▇▅▇▆▆▅▆▆▇█▆▇▆██▆██</td></tr><tr><td>train_loss</td><td>███▇▇▇▇▆▆▆▅▅▅▅▅▄▄▃▃▃▃▃▃▃▃▂▂▂▂▂▂▂▁▁▁▁▁▁▁▁</td></tr><tr><td>val_accuracy</td><td>▁▁▂▂▂▅▅▆▆▇▇▇▇▇▇▇▇▇▇▇▇▇▇█████████████████</td></tr><tr><td>val_loss</td><td>███▇▇▇▇▇▆▆▆▆▆▅▅▅▅▅▄▄▄▄▄▃▃▃▃▂▂▂▂▂▂▂▂▂▁▁▁▁</td></tr></table><br/></div><div class=\"wandb-col\"><h3>Run summary:</h3><br/><table class=\"wandb\"><tr><td>epoch</td><td>299</td></tr><tr><td>test_accuracy</td><td>0.475</td></tr><tr><td>test_loss</td><td>0.92242</td></tr><tr><td>train_accuracy</td><td>0.63054</td></tr><tr><td>train_loss</td><td>0.93801</td></tr><tr><td>val_accuracy</td><td>0.59608</td></tr><tr><td>val_loss</td><td>0.92652</td></tr></table><br/></div></div>"
      ],
      "text/plain": [
       "<IPython.core.display.HTML object>"
      ]
     },
     "metadata": {},
     "output_type": "display_data"
    },
    {
     "data": {
      "text/html": [
       " View run <strong style=\"color:#cdcd00\">dashing-sweep-3</strong> at: <a href='https://wandb.ai/joaoc-university-of-southampton/spectra-classification-vit/runs/xpyu2bh9' target=\"_blank\">https://wandb.ai/joaoc-university-of-southampton/spectra-classification-vit/runs/xpyu2bh9</a><br/> View project at: <a href='https://wandb.ai/joaoc-university-of-southampton/spectra-classification-vit' target=\"_blank\">https://wandb.ai/joaoc-university-of-southampton/spectra-classification-vit</a><br/>Synced 5 W&B file(s), 0 media file(s), 0 artifact file(s) and 0 other file(s)"
      ],
      "text/plain": [
       "<IPython.core.display.HTML object>"
      ]
     },
     "metadata": {},
     "output_type": "display_data"
    },
    {
     "data": {
      "text/html": [
       "Find logs at: <code>.\\wandb\\run-20241029_105757-xpyu2bh9\\logs</code>"
      ],
      "text/plain": [
       "<IPython.core.display.HTML object>"
      ]
     },
     "metadata": {},
     "output_type": "display_data"
    },
    {
     "name": "stderr",
     "output_type": "stream",
     "text": [
      "wandb: Agent Starting Run: fs35fm1f with config:\n",
      "wandb: \tdepth: 3\n",
      "wandb: \tdim: 16\n",
      "wandb: \tdropout: 0.1\n",
      "wandb: \theads: 8\n",
      "wandb: \tlr: 3e-07\n",
      "wandb: \tmlp_dim: 256\n",
      "wandb: \tpatch_size: 3748\n"
     ]
    },
    {
     "data": {
      "text/html": [
       "Tracking run with wandb version 0.18.5"
      ],
      "text/plain": [
       "<IPython.core.display.HTML object>"
      ]
     },
     "metadata": {},
     "output_type": "display_data"
    },
    {
     "data": {
      "text/html": [
       "Run data is saved locally in <code>c:\\Users\\jcwin\\OneDrive - University of Southampton\\_Southampton\\2024-25\\Star-Classifier\\wandb\\run-20241029_110234-fs35fm1f</code>"
      ],
      "text/plain": [
       "<IPython.core.display.HTML object>"
      ]
     },
     "metadata": {},
     "output_type": "display_data"
    },
    {
     "data": {
      "text/html": [
       "Syncing run <strong><a href='https://wandb.ai/joaoc-university-of-southampton/spectra-classification-vit/runs/fs35fm1f' target=\"_blank\">fancy-sweep-4</a></strong> to <a href='https://wandb.ai/joaoc-university-of-southampton/spectra-classification-vit' target=\"_blank\">Weights & Biases</a> (<a href='https://wandb.me/run' target=\"_blank\">docs</a>)<br/>Sweep page: <a href='https://wandb.ai/joaoc-university-of-southampton/spectra-classification-vit/sweeps/cdqoepyl' target=\"_blank\">https://wandb.ai/joaoc-university-of-southampton/spectra-classification-vit/sweeps/cdqoepyl</a>"
      ],
      "text/plain": [
       "<IPython.core.display.HTML object>"
      ]
     },
     "metadata": {},
     "output_type": "display_data"
    },
    {
     "data": {
      "text/html": [
       " View project at <a href='https://wandb.ai/joaoc-university-of-southampton/spectra-classification-vit' target=\"_blank\">https://wandb.ai/joaoc-university-of-southampton/spectra-classification-vit</a>"
      ],
      "text/plain": [
       "<IPython.core.display.HTML object>"
      ]
     },
     "metadata": {},
     "output_type": "display_data"
    },
    {
     "data": {
      "text/html": [
       " View sweep at <a href='https://wandb.ai/joaoc-university-of-southampton/spectra-classification-vit/sweeps/cdqoepyl' target=\"_blank\">https://wandb.ai/joaoc-university-of-southampton/spectra-classification-vit/sweeps/cdqoepyl</a>"
      ],
      "text/plain": [
       "<IPython.core.display.HTML object>"
      ]
     },
     "metadata": {},
     "output_type": "display_data"
    },
    {
     "data": {
      "text/html": [
       " View run at <a href='https://wandb.ai/joaoc-university-of-southampton/spectra-classification-vit/runs/fs35fm1f' target=\"_blank\">https://wandb.ai/joaoc-university-of-southampton/spectra-classification-vit/runs/fs35fm1f</a>"
      ],
      "text/plain": [
       "<IPython.core.display.HTML object>"
      ]
     },
     "metadata": {},
     "output_type": "display_data"
    },
    {
     "data": {
      "text/html": [
       "<style>\n",
       "    table.wandb td:nth-child(1) { padding: 0 10px; text-align: left ; width: auto;} td:nth-child(2) {text-align: left ; width: 100%}\n",
       "    .wandb-row { display: flex; flex-direction: row; flex-wrap: wrap; justify-content: flex-start; width: 100% }\n",
       "    .wandb-col { display: flex; flex-direction: column; flex-basis: 100%; flex: 1; padding: 10px; }\n",
       "    </style>\n",
       "<div class=\"wandb-row\"><div class=\"wandb-col\"><h3>Run history:</h3><br/><table class=\"wandb\"><tr><td>epoch</td><td>▁▁▁▁▁▂▂▂▂▂▃▃▃▃▃▃▃▄▄▄▄▄▄▅▅▅▅▆▆▆▆▆▆▇▇▇▇███</td></tr><tr><td>test_accuracy</td><td>▁▁▁▃▃▄▄▄▄▄▄▄▄▄▄▄▅▅▅▅▅▆▆▆▇▇▇▇▇▇▇▇▇▇▇█████</td></tr><tr><td>test_loss</td><td>█▇▇▇▇▆▆▆▅▅▅▅▄▄▄▄▄▄▄▄▃▃▃▃▃▂▂▂▂▂▂▂▂▂▂▁▁▁▁▁</td></tr><tr><td>train_accuracy</td><td>▁▁▂▁▂▃▃▄▄▃▃▄▄▄▅▅▆▅▆▆▅▅▇▆▇▆▆█▇▇▇▇▇▇▇▇▇█▇█</td></tr><tr><td>train_loss</td><td>██▇▇▇▇▇▆▆▅▅▅▅▅▅▅▄▄▄▄▃▃▃▃▃▃▃▃▂▂▂▂▂▂▂▁▁▁▁▁</td></tr><tr><td>val_accuracy</td><td>▁▁▁▁▁▃▃▄▄▄▄▄▅▅▅▅▅▅▆▆▆▆▆▆▆▆▆▆▇▇▇▇▇▇██████</td></tr><tr><td>val_loss</td><td>█▇▇▆▆▅▅▅▅▅▄▄▃▃▃▃▃▃▃▃▃▃▃▃▂▂▂▂▂▂▂▂▂▂▂▁▁▁▁▁</td></tr></table><br/></div><div class=\"wandb-col\"><h3>Run summary:</h3><br/><table class=\"wandb\"><tr><td>epoch</td><td>299</td></tr><tr><td>test_accuracy</td><td>0.6</td></tr><tr><td>test_loss</td><td>1.03355</td></tr><tr><td>train_accuracy</td><td>0.58621</td></tr><tr><td>train_loss</td><td>1.0516</td></tr><tr><td>val_accuracy</td><td>0.63137</td></tr><tr><td>val_loss</td><td>1.04951</td></tr></table><br/></div></div>"
      ],
      "text/plain": [
       "<IPython.core.display.HTML object>"
      ]
     },
     "metadata": {},
     "output_type": "display_data"
    },
    {
     "data": {
      "text/html": [
       " View run <strong style=\"color:#cdcd00\">fancy-sweep-4</strong> at: <a href='https://wandb.ai/joaoc-university-of-southampton/spectra-classification-vit/runs/fs35fm1f' target=\"_blank\">https://wandb.ai/joaoc-university-of-southampton/spectra-classification-vit/runs/fs35fm1f</a><br/> View project at: <a href='https://wandb.ai/joaoc-university-of-southampton/spectra-classification-vit' target=\"_blank\">https://wandb.ai/joaoc-university-of-southampton/spectra-classification-vit</a><br/>Synced 5 W&B file(s), 0 media file(s), 0 artifact file(s) and 0 other file(s)"
      ],
      "text/plain": [
       "<IPython.core.display.HTML object>"
      ]
     },
     "metadata": {},
     "output_type": "display_data"
    },
    {
     "data": {
      "text/html": [
       "Find logs at: <code>.\\wandb\\run-20241029_110234-fs35fm1f\\logs</code>"
      ],
      "text/plain": [
       "<IPython.core.display.HTML object>"
      ]
     },
     "metadata": {},
     "output_type": "display_data"
    },
    {
     "name": "stderr",
     "output_type": "stream",
     "text": [
      "wandb: Agent Starting Run: o098epzf with config:\n",
      "wandb: \tdepth: 20\n",
      "wandb: \tdim: 16\n",
      "wandb: \tdropout: 0.1\n",
      "wandb: \theads: 32\n",
      "wandb: \tlr: 3e-05\n",
      "wandb: \tmlp_dim: 256\n",
      "wandb: \tpatch_size: 3748\n"
     ]
    },
    {
     "data": {
      "text/html": [
       "Tracking run with wandb version 0.18.5"
      ],
      "text/plain": [
       "<IPython.core.display.HTML object>"
      ]
     },
     "metadata": {},
     "output_type": "display_data"
    },
    {
     "data": {
      "text/html": [
       "Run data is saved locally in <code>c:\\Users\\jcwin\\OneDrive - University of Southampton\\_Southampton\\2024-25\\Star-Classifier\\wandb\\run-20241029_110515-o098epzf</code>"
      ],
      "text/plain": [
       "<IPython.core.display.HTML object>"
      ]
     },
     "metadata": {},
     "output_type": "display_data"
    },
    {
     "data": {
      "text/html": [
       "Syncing run <strong><a href='https://wandb.ai/joaoc-university-of-southampton/spectra-classification-vit/runs/o098epzf' target=\"_blank\">iconic-sweep-5</a></strong> to <a href='https://wandb.ai/joaoc-university-of-southampton/spectra-classification-vit' target=\"_blank\">Weights & Biases</a> (<a href='https://wandb.me/run' target=\"_blank\">docs</a>)<br/>Sweep page: <a href='https://wandb.ai/joaoc-university-of-southampton/spectra-classification-vit/sweeps/cdqoepyl' target=\"_blank\">https://wandb.ai/joaoc-university-of-southampton/spectra-classification-vit/sweeps/cdqoepyl</a>"
      ],
      "text/plain": [
       "<IPython.core.display.HTML object>"
      ]
     },
     "metadata": {},
     "output_type": "display_data"
    },
    {
     "data": {
      "text/html": [
       " View project at <a href='https://wandb.ai/joaoc-university-of-southampton/spectra-classification-vit' target=\"_blank\">https://wandb.ai/joaoc-university-of-southampton/spectra-classification-vit</a>"
      ],
      "text/plain": [
       "<IPython.core.display.HTML object>"
      ]
     },
     "metadata": {},
     "output_type": "display_data"
    },
    {
     "data": {
      "text/html": [
       " View sweep at <a href='https://wandb.ai/joaoc-university-of-southampton/spectra-classification-vit/sweeps/cdqoepyl' target=\"_blank\">https://wandb.ai/joaoc-university-of-southampton/spectra-classification-vit/sweeps/cdqoepyl</a>"
      ],
      "text/plain": [
       "<IPython.core.display.HTML object>"
      ]
     },
     "metadata": {},
     "output_type": "display_data"
    },
    {
     "data": {
      "text/html": [
       " View run at <a href='https://wandb.ai/joaoc-university-of-southampton/spectra-classification-vit/runs/o098epzf' target=\"_blank\">https://wandb.ai/joaoc-university-of-southampton/spectra-classification-vit/runs/o098epzf</a>"
      ],
      "text/plain": [
       "<IPython.core.display.HTML object>"
      ]
     },
     "metadata": {},
     "output_type": "display_data"
    },
    {
     "name": "stderr",
     "output_type": "stream",
     "text": [
      "Traceback (most recent call last):\n",
      "  File \"C:\\Users\\jcwin\\AppData\\Local\\Temp\\ipykernel_11012\\1700346631.py\", line 27, in sweep_train\n",
      "    model_vit = VisionTransformer1D(\n",
      "                ^^^^^^^^^^^^^^^^^^^^\n",
      "  File \"C:\\Users\\jcwin\\AppData\\Local\\Temp\\ipykernel_11012\\2276252545.py\", line 145, in __init__\n",
      "    self.transformer = nn.TransformerEncoder(nn.TransformerEncoderLayer(dim, heads, mlp_dim, dropout), depth)\n",
      "                                             ^^^^^^^^^^^^^^^^^^^^^^^^^^^^^^^^^^^^^^^^^^^^^^^^^^^^^^^^\n",
      "  File \"C:\\Users\\jcwin\\AppData\\Local\\Packages\\PythonSoftwareFoundation.Python.3.11_qbz5n2kfra8p0\\LocalCache\\local-packages\\Python311\\site-packages\\torch\\nn\\modules\\transformer.py\", line 590, in __init__\n",
      "    self.self_attn = MultiheadAttention(d_model, nhead, dropout=dropout,\n",
      "                     ^^^^^^^^^^^^^^^^^^^^^^^^^^^^^^^^^^^^^^^^^^^^^^^^^^^\n",
      "  File \"C:\\Users\\jcwin\\AppData\\Local\\Packages\\PythonSoftwareFoundation.Python.3.11_qbz5n2kfra8p0\\LocalCache\\local-packages\\Python311\\site-packages\\torch\\nn\\modules\\activation.py\", line 1020, in __init__\n",
      "    assert self.head_dim * num_heads == self.embed_dim, \"embed_dim must be divisible by num_heads\"\n",
      "           ^^^^^^^^^^^^^^^^^^^^^^^^^^^^^^^^^^^^^^^^^^^\n",
      "AssertionError: embed_dim must be divisible by num_heads\n"
     ]
    },
    {
     "data": {
      "text/html": [
       " View run <strong style=\"color:#cdcd00\">iconic-sweep-5</strong> at: <a href='https://wandb.ai/joaoc-university-of-southampton/spectra-classification-vit/runs/o098epzf' target=\"_blank\">https://wandb.ai/joaoc-university-of-southampton/spectra-classification-vit/runs/o098epzf</a><br/> View project at: <a href='https://wandb.ai/joaoc-university-of-southampton/spectra-classification-vit' target=\"_blank\">https://wandb.ai/joaoc-university-of-southampton/spectra-classification-vit</a><br/>Synced 5 W&B file(s), 0 media file(s), 0 artifact file(s) and 0 other file(s)"
      ],
      "text/plain": [
       "<IPython.core.display.HTML object>"
      ]
     },
     "metadata": {},
     "output_type": "display_data"
    },
    {
     "data": {
      "text/html": [
       "Find logs at: <code>.\\wandb\\run-20241029_110515-o098epzf\\logs</code>"
      ],
      "text/plain": [
       "<IPython.core.display.HTML object>"
      ]
     },
     "metadata": {},
     "output_type": "display_data"
    },
    {
     "name": "stderr",
     "output_type": "stream",
     "text": [
      "Run o098epzf errored:\n",
      "Traceback (most recent call last):\n",
      "  File \"C:\\Users\\jcwin\\AppData\\Local\\Packages\\PythonSoftwareFoundation.Python.3.11_qbz5n2kfra8p0\\LocalCache\\local-packages\\Python311\\site-packages\\wandb\\agents\\pyagent.py\", line 306, in _run_job\n",
      "    self._function()\n",
      "  File \"C:\\Users\\jcwin\\AppData\\Local\\Temp\\ipykernel_11012\\1700346631.py\", line 27, in sweep_train\n",
      "    model_vit = VisionTransformer1D(\n",
      "                ^^^^^^^^^^^^^^^^^^^^\n",
      "  File \"C:\\Users\\jcwin\\AppData\\Local\\Temp\\ipykernel_11012\\2276252545.py\", line 145, in __init__\n",
      "    self.transformer = nn.TransformerEncoder(nn.TransformerEncoderLayer(dim, heads, mlp_dim, dropout), depth)\n",
      "                                             ^^^^^^^^^^^^^^^^^^^^^^^^^^^^^^^^^^^^^^^^^^^^^^^^^^^^^^^^\n",
      "  File \"C:\\Users\\jcwin\\AppData\\Local\\Packages\\PythonSoftwareFoundation.Python.3.11_qbz5n2kfra8p0\\LocalCache\\local-packages\\Python311\\site-packages\\torch\\nn\\modules\\transformer.py\", line 590, in __init__\n",
      "    self.self_attn = MultiheadAttention(d_model, nhead, dropout=dropout,\n",
      "                     ^^^^^^^^^^^^^^^^^^^^^^^^^^^^^^^^^^^^^^^^^^^^^^^^^^^\n",
      "  File \"C:\\Users\\jcwin\\AppData\\Local\\Packages\\PythonSoftwareFoundation.Python.3.11_qbz5n2kfra8p0\\LocalCache\\local-packages\\Python311\\site-packages\\torch\\nn\\modules\\activation.py\", line 1020, in __init__\n",
      "    assert self.head_dim * num_heads == self.embed_dim, \"embed_dim must be divisible by num_heads\"\n",
      "           ^^^^^^^^^^^^^^^^^^^^^^^^^^^^^^^^^^^^^^^^^^^\n",
      "AssertionError: embed_dim must be divisible by num_heads\n",
      "\n",
      "wandb: ERROR Run o098epzf errored:\n",
      "wandb: ERROR Traceback (most recent call last):\n",
      "wandb: ERROR   File \"C:\\Users\\jcwin\\AppData\\Local\\Packages\\PythonSoftwareFoundation.Python.3.11_qbz5n2kfra8p0\\LocalCache\\local-packages\\Python311\\site-packages\\wandb\\agents\\pyagent.py\", line 306, in _run_job\n",
      "wandb: ERROR     self._function()\n",
      "wandb: ERROR   File \"C:\\Users\\jcwin\\AppData\\Local\\Temp\\ipykernel_11012\\1700346631.py\", line 27, in sweep_train\n",
      "wandb: ERROR     model_vit = VisionTransformer1D(\n",
      "wandb: ERROR                 ^^^^^^^^^^^^^^^^^^^^\n",
      "wandb: ERROR   File \"C:\\Users\\jcwin\\AppData\\Local\\Temp\\ipykernel_11012\\2276252545.py\", line 145, in __init__\n",
      "wandb: ERROR     self.transformer = nn.TransformerEncoder(nn.TransformerEncoderLayer(dim, heads, mlp_dim, dropout), depth)\n",
      "wandb: ERROR                                              ^^^^^^^^^^^^^^^^^^^^^^^^^^^^^^^^^^^^^^^^^^^^^^^^^^^^^^^^\n",
      "wandb: ERROR   File \"C:\\Users\\jcwin\\AppData\\Local\\Packages\\PythonSoftwareFoundation.Python.3.11_qbz5n2kfra8p0\\LocalCache\\local-packages\\Python311\\site-packages\\torch\\nn\\modules\\transformer.py\", line 590, in __init__\n",
      "wandb: ERROR     self.self_attn = MultiheadAttention(d_model, nhead, dropout=dropout,\n",
      "wandb: ERROR                      ^^^^^^^^^^^^^^^^^^^^^^^^^^^^^^^^^^^^^^^^^^^^^^^^^^^\n",
      "wandb: ERROR   File \"C:\\Users\\jcwin\\AppData\\Local\\Packages\\PythonSoftwareFoundation.Python.3.11_qbz5n2kfra8p0\\LocalCache\\local-packages\\Python311\\site-packages\\torch\\nn\\modules\\activation.py\", line 1020, in __init__\n",
      "wandb: ERROR     assert self.head_dim * num_heads == self.embed_dim, \"embed_dim must be divisible by num_heads\"\n",
      "wandb: ERROR            ^^^^^^^^^^^^^^^^^^^^^^^^^^^^^^^^^^^^^^^^^^^\n",
      "wandb: ERROR AssertionError: embed_dim must be divisible by num_heads\n",
      "wandb: ERROR \n",
      "wandb: Agent Starting Run: d2awgje9 with config:\n",
      "wandb: \tdepth: 20\n",
      "wandb: \tdim: 128\n",
      "wandb: \tdropout: 0.2\n",
      "wandb: \theads: 8\n",
      "wandb: \tlr: 3e-07\n",
      "wandb: \tmlp_dim: 64\n",
      "wandb: \tpatch_size: 3748\n"
     ]
    },
    {
     "data": {
      "text/html": [
       "Tracking run with wandb version 0.18.5"
      ],
      "text/plain": [
       "<IPython.core.display.HTML object>"
      ]
     },
     "metadata": {},
     "output_type": "display_data"
    },
    {
     "data": {
      "text/html": [
       "Run data is saved locally in <code>c:\\Users\\jcwin\\OneDrive - University of Southampton\\_Southampton\\2024-25\\Star-Classifier\\wandb\\run-20241029_110520-d2awgje9</code>"
      ],
      "text/plain": [
       "<IPython.core.display.HTML object>"
      ]
     },
     "metadata": {},
     "output_type": "display_data"
    },
    {
     "data": {
      "text/html": [
       "Syncing run <strong><a href='https://wandb.ai/joaoc-university-of-southampton/spectra-classification-vit/runs/d2awgje9' target=\"_blank\">dainty-sweep-6</a></strong> to <a href='https://wandb.ai/joaoc-university-of-southampton/spectra-classification-vit' target=\"_blank\">Weights & Biases</a> (<a href='https://wandb.me/run' target=\"_blank\">docs</a>)<br/>Sweep page: <a href='https://wandb.ai/joaoc-university-of-southampton/spectra-classification-vit/sweeps/cdqoepyl' target=\"_blank\">https://wandb.ai/joaoc-university-of-southampton/spectra-classification-vit/sweeps/cdqoepyl</a>"
      ],
      "text/plain": [
       "<IPython.core.display.HTML object>"
      ]
     },
     "metadata": {},
     "output_type": "display_data"
    },
    {
     "data": {
      "text/html": [
       " View project at <a href='https://wandb.ai/joaoc-university-of-southampton/spectra-classification-vit' target=\"_blank\">https://wandb.ai/joaoc-university-of-southampton/spectra-classification-vit</a>"
      ],
      "text/plain": [
       "<IPython.core.display.HTML object>"
      ]
     },
     "metadata": {},
     "output_type": "display_data"
    },
    {
     "data": {
      "text/html": [
       " View sweep at <a href='https://wandb.ai/joaoc-university-of-southampton/spectra-classification-vit/sweeps/cdqoepyl' target=\"_blank\">https://wandb.ai/joaoc-university-of-southampton/spectra-classification-vit/sweeps/cdqoepyl</a>"
      ],
      "text/plain": [
       "<IPython.core.display.HTML object>"
      ]
     },
     "metadata": {},
     "output_type": "display_data"
    },
    {
     "data": {
      "text/html": [
       " View run at <a href='https://wandb.ai/joaoc-university-of-southampton/spectra-classification-vit/runs/d2awgje9' target=\"_blank\">https://wandb.ai/joaoc-university-of-southampton/spectra-classification-vit/runs/d2awgje9</a>"
      ],
      "text/plain": [
       "<IPython.core.display.HTML object>"
      ]
     },
     "metadata": {},
     "output_type": "display_data"
    },
    {
     "data": {
      "text/html": [
       "<style>\n",
       "    table.wandb td:nth-child(1) { padding: 0 10px; text-align: left ; width: auto;} td:nth-child(2) {text-align: left ; width: 100%}\n",
       "    .wandb-row { display: flex; flex-direction: row; flex-wrap: wrap; justify-content: flex-start; width: 100% }\n",
       "    .wandb-col { display: flex; flex-direction: column; flex-basis: 100%; flex: 1; padding: 10px; }\n",
       "    </style>\n",
       "<div class=\"wandb-row\"><div class=\"wandb-col\"><h3>Run history:</h3><br/><table class=\"wandb\"><tr><td>epoch</td><td>▁▁▁▁▁▂▂▂▂▂▃▃▃▃▃▃▃▃▃▄▄▄▅▅▅▆▆▆▆▆▇▇▇▇▇▇▇███</td></tr><tr><td>test_accuracy</td><td>▂▂▂▂▂▂▁▃▃▃▃▃▃▃▃▃▄▂▂▄▆▅▆▆▆▆▇▇██▇▇▇▇▇▇▇▇▇▇</td></tr><tr><td>test_loss</td><td>████████▇▇▇▇▇▇▇▆▅▅▅▅▄▄▄▄▄▄▃▃▂▂▂▂▂▂▁▁▁▁▁▁</td></tr><tr><td>train_accuracy</td><td>▃▃▃▂▂▁▂▃▁▃▃▁▂▁▂▁▃▃▂▂▆▄▅▃▅▇▆▅█▇█▇█▇▆▇▇▇██</td></tr><tr><td>train_loss</td><td>█████████████▇▇▇▇▇▇▆▅▅▅▅▅▅▄▄▄▃▃▂▂▂▂▁▁▁▁▁</td></tr><tr><td>val_accuracy</td><td>▂▂▂▃▁▁▁▁▁▁▂▄▅▅▅▄▅▅▅▆▆▆▇▇▆▇▆▇▅█▇█▇▇██████</td></tr><tr><td>val_loss</td><td>████████████▇▇▇▆▆▅▅▅▄▄▄▄▄▃▃▃▂▂▂▂▂▂▂▂▂▁▁▁</td></tr></table><br/></div><div class=\"wandb-col\"><h3>Run summary:</h3><br/><table class=\"wandb\"><tr><td>epoch</td><td>299</td></tr><tr><td>test_accuracy</td><td>0.5</td></tr><tr><td>test_loss</td><td>1.00468</td></tr><tr><td>train_accuracy</td><td>0.51232</td></tr><tr><td>train_loss</td><td>1.0632</td></tr><tr><td>val_accuracy</td><td>0.57647</td></tr><tr><td>val_loss</td><td>1.02069</td></tr></table><br/></div></div>"
      ],
      "text/plain": [
       "<IPython.core.display.HTML object>"
      ]
     },
     "metadata": {},
     "output_type": "display_data"
    },
    {
     "data": {
      "text/html": [
       " View run <strong style=\"color:#cdcd00\">dainty-sweep-6</strong> at: <a href='https://wandb.ai/joaoc-university-of-southampton/spectra-classification-vit/runs/d2awgje9' target=\"_blank\">https://wandb.ai/joaoc-university-of-southampton/spectra-classification-vit/runs/d2awgje9</a><br/> View project at: <a href='https://wandb.ai/joaoc-university-of-southampton/spectra-classification-vit' target=\"_blank\">https://wandb.ai/joaoc-university-of-southampton/spectra-classification-vit</a><br/>Synced 5 W&B file(s), 0 media file(s), 0 artifact file(s) and 0 other file(s)"
      ],
      "text/plain": [
       "<IPython.core.display.HTML object>"
      ]
     },
     "metadata": {},
     "output_type": "display_data"
    },
    {
     "data": {
      "text/html": [
       "Find logs at: <code>.\\wandb\\run-20241029_110520-d2awgje9\\logs</code>"
      ],
      "text/plain": [
       "<IPython.core.display.HTML object>"
      ]
     },
     "metadata": {},
     "output_type": "display_data"
    },
    {
     "name": "stderr",
     "output_type": "stream",
     "text": [
      "wandb: Agent Starting Run: nesipibu with config:\n",
      "wandb: \tdepth: 20\n",
      "wandb: \tdim: 64\n",
      "wandb: \tdropout: 0.2\n",
      "wandb: \theads: 8\n",
      "wandb: \tlr: 3e-05\n",
      "wandb: \tmlp_dim: 64\n",
      "wandb: \tpatch_size: 3748\n"
     ]
    },
    {
     "data": {
      "text/html": [
       "Tracking run with wandb version 0.18.5"
      ],
      "text/plain": [
       "<IPython.core.display.HTML object>"
      ]
     },
     "metadata": {},
     "output_type": "display_data"
    },
    {
     "data": {
      "text/html": [
       "Run data is saved locally in <code>c:\\Users\\jcwin\\OneDrive - University of Southampton\\_Southampton\\2024-25\\Star-Classifier\\wandb\\run-20241029_111257-nesipibu</code>"
      ],
      "text/plain": [
       "<IPython.core.display.HTML object>"
      ]
     },
     "metadata": {},
     "output_type": "display_data"
    },
    {
     "data": {
      "text/html": [
       "Syncing run <strong><a href='https://wandb.ai/joaoc-university-of-southampton/spectra-classification-vit/runs/nesipibu' target=\"_blank\">stellar-sweep-7</a></strong> to <a href='https://wandb.ai/joaoc-university-of-southampton/spectra-classification-vit' target=\"_blank\">Weights & Biases</a> (<a href='https://wandb.me/run' target=\"_blank\">docs</a>)<br/>Sweep page: <a href='https://wandb.ai/joaoc-university-of-southampton/spectra-classification-vit/sweeps/cdqoepyl' target=\"_blank\">https://wandb.ai/joaoc-university-of-southampton/spectra-classification-vit/sweeps/cdqoepyl</a>"
      ],
      "text/plain": [
       "<IPython.core.display.HTML object>"
      ]
     },
     "metadata": {},
     "output_type": "display_data"
    },
    {
     "data": {
      "text/html": [
       " View project at <a href='https://wandb.ai/joaoc-university-of-southampton/spectra-classification-vit' target=\"_blank\">https://wandb.ai/joaoc-university-of-southampton/spectra-classification-vit</a>"
      ],
      "text/plain": [
       "<IPython.core.display.HTML object>"
      ]
     },
     "metadata": {},
     "output_type": "display_data"
    },
    {
     "data": {
      "text/html": [
       " View sweep at <a href='https://wandb.ai/joaoc-university-of-southampton/spectra-classification-vit/sweeps/cdqoepyl' target=\"_blank\">https://wandb.ai/joaoc-university-of-southampton/spectra-classification-vit/sweeps/cdqoepyl</a>"
      ],
      "text/plain": [
       "<IPython.core.display.HTML object>"
      ]
     },
     "metadata": {},
     "output_type": "display_data"
    },
    {
     "data": {
      "text/html": [
       " View run at <a href='https://wandb.ai/joaoc-university-of-southampton/spectra-classification-vit/runs/nesipibu' target=\"_blank\">https://wandb.ai/joaoc-university-of-southampton/spectra-classification-vit/runs/nesipibu</a>"
      ],
      "text/plain": [
       "<IPython.core.display.HTML object>"
      ]
     },
     "metadata": {},
     "output_type": "display_data"
    },
    {
     "name": "stdout",
     "output_type": "stream",
     "text": [
      "Early stopping triggered.\n"
     ]
    },
    {
     "data": {
      "text/html": [
       "<style>\n",
       "    table.wandb td:nth-child(1) { padding: 0 10px; text-align: left ; width: auto;} td:nth-child(2) {text-align: left ; width: 100%}\n",
       "    .wandb-row { display: flex; flex-direction: row; flex-wrap: wrap; justify-content: flex-start; width: 100% }\n",
       "    .wandb-col { display: flex; flex-direction: column; flex-basis: 100%; flex: 1; padding: 10px; }\n",
       "    </style>\n",
       "<div class=\"wandb-row\"><div class=\"wandb-col\"><h3>Run history:</h3><br/><table class=\"wandb\"><tr><td>epoch</td><td>▁▁▁▁▁▂▂▂▂▂▃▃▃▃▃▄▄▄▄▅▅▅▅▅▅▅▆▆▆▆▆▇▇▇▇▇▇███</td></tr><tr><td>test_accuracy</td><td>▂▁▄▆▆▆▆▇▆▆▇▇▆▇▇▆▇▇▇█▆▇▇▇▇▆▆▇▆▇▇▇▇█▇▇▇▇█▆</td></tr><tr><td>test_loss</td><td>██▇▅▂▂▁▁▁▁▁▁▁▁▁▁▁▁▁▁▁▁▁▁▁▁▁▁▁▁▁▁▁▁▁▁▁▁▁▁</td></tr><tr><td>train_accuracy</td><td>▁▁▁▁▅▇▆▆▆▆▇▇▆▇▆▇█▇▇▇▇▇▇▇▇▇▇▇▇▆▇▇▇▇▇▇▇▇██</td></tr><tr><td>train_loss</td><td>████▅▄▃▃▂▂▂▂▂▂▂▂▂▂▂▂▁▁▂▁▁▁▁▁▁▁▁▁▁▁▁▁▁▁▁▁</td></tr><tr><td>val_accuracy</td><td>▁▁▂▃▇▇▇▇▇▇▇▇█▇▇▇▇▇▇▇████████████████████</td></tr><tr><td>val_loss</td><td>██▇▅▄▂▂▂▁▁▁▁▁▁▁▁▁▁▁▁▁▁▁▁▁▁▁▁▁▁▁▁▁▁▁▁▁▁▁▁</td></tr></table><br/></div><div class=\"wandb-col\"><h3>Run summary:</h3><br/><table class=\"wandb\"><tr><td>epoch</td><td>110</td></tr><tr><td>test_accuracy</td><td>0.6</td></tr><tr><td>test_loss</td><td>0.59985</td></tr><tr><td>train_accuracy</td><td>0.72414</td></tr><tr><td>train_loss</td><td>0.53105</td></tr><tr><td>val_accuracy</td><td>0.70588</td></tr><tr><td>val_loss</td><td>0.65305</td></tr></table><br/></div></div>"
      ],
      "text/plain": [
       "<IPython.core.display.HTML object>"
      ]
     },
     "metadata": {},
     "output_type": "display_data"
    },
    {
     "data": {
      "text/html": [
       " View run <strong style=\"color:#cdcd00\">stellar-sweep-7</strong> at: <a href='https://wandb.ai/joaoc-university-of-southampton/spectra-classification-vit/runs/nesipibu' target=\"_blank\">https://wandb.ai/joaoc-university-of-southampton/spectra-classification-vit/runs/nesipibu</a><br/> View project at: <a href='https://wandb.ai/joaoc-university-of-southampton/spectra-classification-vit' target=\"_blank\">https://wandb.ai/joaoc-university-of-southampton/spectra-classification-vit</a><br/>Synced 5 W&B file(s), 0 media file(s), 0 artifact file(s) and 0 other file(s)"
      ],
      "text/plain": [
       "<IPython.core.display.HTML object>"
      ]
     },
     "metadata": {},
     "output_type": "display_data"
    },
    {
     "data": {
      "text/html": [
       "Find logs at: <code>.\\wandb\\run-20241029_111257-nesipibu\\logs</code>"
      ],
      "text/plain": [
       "<IPython.core.display.HTML object>"
      ]
     },
     "metadata": {},
     "output_type": "display_data"
    },
    {
     "name": "stderr",
     "output_type": "stream",
     "text": [
      "wandb: Agent Starting Run: ojk86zsv with config:\n",
      "wandb: \tdepth: 3\n",
      "wandb: \tdim: 16\n",
      "wandb: \tdropout: 0.4\n",
      "wandb: \theads: 8\n",
      "wandb: \tlr: 3e-06\n",
      "wandb: \tmlp_dim: 64\n",
      "wandb: \tpatch_size: 3748\n"
     ]
    },
    {
     "data": {
      "text/html": [
       "Tracking run with wandb version 0.18.5"
      ],
      "text/plain": [
       "<IPython.core.display.HTML object>"
      ]
     },
     "metadata": {},
     "output_type": "display_data"
    },
    {
     "data": {
      "text/html": [
       "Run data is saved locally in <code>c:\\Users\\jcwin\\OneDrive - University of Southampton\\_Southampton\\2024-25\\Star-Classifier\\wandb\\run-20241029_111547-ojk86zsv</code>"
      ],
      "text/plain": [
       "<IPython.core.display.HTML object>"
      ]
     },
     "metadata": {},
     "output_type": "display_data"
    },
    {
     "data": {
      "text/html": [
       "Syncing run <strong><a href='https://wandb.ai/joaoc-university-of-southampton/spectra-classification-vit/runs/ojk86zsv' target=\"_blank\">stoic-sweep-8</a></strong> to <a href='https://wandb.ai/joaoc-university-of-southampton/spectra-classification-vit' target=\"_blank\">Weights & Biases</a> (<a href='https://wandb.me/run' target=\"_blank\">docs</a>)<br/>Sweep page: <a href='https://wandb.ai/joaoc-university-of-southampton/spectra-classification-vit/sweeps/cdqoepyl' target=\"_blank\">https://wandb.ai/joaoc-university-of-southampton/spectra-classification-vit/sweeps/cdqoepyl</a>"
      ],
      "text/plain": [
       "<IPython.core.display.HTML object>"
      ]
     },
     "metadata": {},
     "output_type": "display_data"
    },
    {
     "data": {
      "text/html": [
       " View project at <a href='https://wandb.ai/joaoc-university-of-southampton/spectra-classification-vit' target=\"_blank\">https://wandb.ai/joaoc-university-of-southampton/spectra-classification-vit</a>"
      ],
      "text/plain": [
       "<IPython.core.display.HTML object>"
      ]
     },
     "metadata": {},
     "output_type": "display_data"
    },
    {
     "data": {
      "text/html": [
       " View sweep at <a href='https://wandb.ai/joaoc-university-of-southampton/spectra-classification-vit/sweeps/cdqoepyl' target=\"_blank\">https://wandb.ai/joaoc-university-of-southampton/spectra-classification-vit/sweeps/cdqoepyl</a>"
      ],
      "text/plain": [
       "<IPython.core.display.HTML object>"
      ]
     },
     "metadata": {},
     "output_type": "display_data"
    },
    {
     "data": {
      "text/html": [
       " View run at <a href='https://wandb.ai/joaoc-university-of-southampton/spectra-classification-vit/runs/ojk86zsv' target=\"_blank\">https://wandb.ai/joaoc-university-of-southampton/spectra-classification-vit/runs/ojk86zsv</a>"
      ],
      "text/plain": [
       "<IPython.core.display.HTML object>"
      ]
     },
     "metadata": {},
     "output_type": "display_data"
    },
    {
     "data": {
      "text/html": [
       "<style>\n",
       "    table.wandb td:nth-child(1) { padding: 0 10px; text-align: left ; width: auto;} td:nth-child(2) {text-align: left ; width: 100%}\n",
       "    .wandb-row { display: flex; flex-direction: row; flex-wrap: wrap; justify-content: flex-start; width: 100% }\n",
       "    .wandb-col { display: flex; flex-direction: column; flex-basis: 100%; flex: 1; padding: 10px; }\n",
       "    </style>\n",
       "<div class=\"wandb-row\"><div class=\"wandb-col\"><h3>Run history:</h3><br/><table class=\"wandb\"><tr><td>epoch</td><td>▁▁▂▂▂▂▂▂▂▂▂▃▃▃▃▄▄▄▄▅▅▅▅▅▆▆▆▆▆▆▆▆▇▇▇▇▇▇██</td></tr><tr><td>test_accuracy</td><td>▁▃▃▅▆▇█▇▇▇▇▇▇▇▇▇▇▇▇▇▇▇█▇████████████████</td></tr><tr><td>test_loss</td><td>█▆▆▅▅▄▄▄▄▄▃▃▃▃▃▂▂▂▂▂▂▂▂▂▂▂▂▂▁▁▁▁▁▁▁▁▁▁▁▁</td></tr><tr><td>train_accuracy</td><td>▁▃▅▆▄▆▅▅▅▅▆▇▆▅▅▆▆▇▇▇▇▇▇▇▇▇▇▇▇▆▆▇▇▆█▇▇▆█▆</td></tr><tr><td>train_loss</td><td>██▇▇▆▆▅▅▄▄▃▃▃▃▃▃▃▃▃▃▂▂▂▂▂▂▂▂▂▁▁▁▁▁▁▁▁▁▁▁</td></tr><tr><td>val_accuracy</td><td>▁▁▅▆▆▆▇▇▇▇██████████████████████████████</td></tr><tr><td>val_loss</td><td>██▅▅▅▄▄▄▃▃▃▃▃▃▂▂▂▂▂▂▂▂▂▂▁▁▁▁▁▁▁▁▁▁▁▁▁▁▁▁</td></tr></table><br/></div><div class=\"wandb-col\"><h3>Run summary:</h3><br/><table class=\"wandb\"><tr><td>epoch</td><td>299</td></tr><tr><td>test_accuracy</td><td>0.6</td></tr><tr><td>test_loss</td><td>0.66687</td></tr><tr><td>train_accuracy</td><td>0.65517</td></tr><tr><td>train_loss</td><td>0.72215</td></tr><tr><td>val_accuracy</td><td>0.66667</td></tr><tr><td>val_loss</td><td>0.69161</td></tr></table><br/></div></div>"
      ],
      "text/plain": [
       "<IPython.core.display.HTML object>"
      ]
     },
     "metadata": {},
     "output_type": "display_data"
    },
    {
     "data": {
      "text/html": [
       " View run <strong style=\"color:#cdcd00\">stoic-sweep-8</strong> at: <a href='https://wandb.ai/joaoc-university-of-southampton/spectra-classification-vit/runs/ojk86zsv' target=\"_blank\">https://wandb.ai/joaoc-university-of-southampton/spectra-classification-vit/runs/ojk86zsv</a><br/> View project at: <a href='https://wandb.ai/joaoc-university-of-southampton/spectra-classification-vit' target=\"_blank\">https://wandb.ai/joaoc-university-of-southampton/spectra-classification-vit</a><br/>Synced 5 W&B file(s), 0 media file(s), 0 artifact file(s) and 0 other file(s)"
      ],
      "text/plain": [
       "<IPython.core.display.HTML object>"
      ]
     },
     "metadata": {},
     "output_type": "display_data"
    },
    {
     "data": {
      "text/html": [
       "Find logs at: <code>.\\wandb\\run-20241029_111547-ojk86zsv\\logs</code>"
      ],
      "text/plain": [
       "<IPython.core.display.HTML object>"
      ]
     },
     "metadata": {},
     "output_type": "display_data"
    },
    {
     "name": "stderr",
     "output_type": "stream",
     "text": [
      "wandb: Agent Starting Run: 2pmencdd with config:\n",
      "wandb: \tdepth: 20\n",
      "wandb: \tdim: 64\n",
      "wandb: \tdropout: 0.2\n",
      "wandb: \theads: 8\n",
      "wandb: \tlr: 3e-05\n",
      "wandb: \tmlp_dim: 64\n",
      "wandb: \tpatch_size: 3748\n"
     ]
    },
    {
     "data": {
      "text/html": [
       "Tracking run with wandb version 0.18.5"
      ],
      "text/plain": [
       "<IPython.core.display.HTML object>"
      ]
     },
     "metadata": {},
     "output_type": "display_data"
    },
    {
     "data": {
      "text/html": [
       "Run data is saved locally in <code>c:\\Users\\jcwin\\OneDrive - University of Southampton\\_Southampton\\2024-25\\Star-Classifier\\wandb\\run-20241029_111832-2pmencdd</code>"
      ],
      "text/plain": [
       "<IPython.core.display.HTML object>"
      ]
     },
     "metadata": {},
     "output_type": "display_data"
    },
    {
     "data": {
      "text/html": [
       "Syncing run <strong><a href='https://wandb.ai/joaoc-university-of-southampton/spectra-classification-vit/runs/2pmencdd' target=\"_blank\">stoic-sweep-9</a></strong> to <a href='https://wandb.ai/joaoc-university-of-southampton/spectra-classification-vit' target=\"_blank\">Weights & Biases</a> (<a href='https://wandb.me/run' target=\"_blank\">docs</a>)<br/>Sweep page: <a href='https://wandb.ai/joaoc-university-of-southampton/spectra-classification-vit/sweeps/cdqoepyl' target=\"_blank\">https://wandb.ai/joaoc-university-of-southampton/spectra-classification-vit/sweeps/cdqoepyl</a>"
      ],
      "text/plain": [
       "<IPython.core.display.HTML object>"
      ]
     },
     "metadata": {},
     "output_type": "display_data"
    },
    {
     "data": {
      "text/html": [
       " View project at <a href='https://wandb.ai/joaoc-university-of-southampton/spectra-classification-vit' target=\"_blank\">https://wandb.ai/joaoc-university-of-southampton/spectra-classification-vit</a>"
      ],
      "text/plain": [
       "<IPython.core.display.HTML object>"
      ]
     },
     "metadata": {},
     "output_type": "display_data"
    },
    {
     "data": {
      "text/html": [
       " View sweep at <a href='https://wandb.ai/joaoc-university-of-southampton/spectra-classification-vit/sweeps/cdqoepyl' target=\"_blank\">https://wandb.ai/joaoc-university-of-southampton/spectra-classification-vit/sweeps/cdqoepyl</a>"
      ],
      "text/plain": [
       "<IPython.core.display.HTML object>"
      ]
     },
     "metadata": {},
     "output_type": "display_data"
    },
    {
     "data": {
      "text/html": [
       " View run at <a href='https://wandb.ai/joaoc-university-of-southampton/spectra-classification-vit/runs/2pmencdd' target=\"_blank\">https://wandb.ai/joaoc-university-of-southampton/spectra-classification-vit/runs/2pmencdd</a>"
      ],
      "text/plain": [
       "<IPython.core.display.HTML object>"
      ]
     },
     "metadata": {},
     "output_type": "display_data"
    },
    {
     "name": "stdout",
     "output_type": "stream",
     "text": [
      "Early stopping triggered.\n"
     ]
    },
    {
     "data": {
      "text/html": [
       "<style>\n",
       "    table.wandb td:nth-child(1) { padding: 0 10px; text-align: left ; width: auto;} td:nth-child(2) {text-align: left ; width: 100%}\n",
       "    .wandb-row { display: flex; flex-direction: row; flex-wrap: wrap; justify-content: flex-start; width: 100% }\n",
       "    .wandb-col { display: flex; flex-direction: column; flex-basis: 100%; flex: 1; padding: 10px; }\n",
       "    </style>\n",
       "<div class=\"wandb-row\"><div class=\"wandb-col\"><h3>Run history:</h3><br/><table class=\"wandb\"><tr><td>epoch</td><td>▁▁▁▂▂▂▂▂▂▂▃▃▃▃▃▃▄▄▄▄▄▅▅▅▅▅▅▆▆▆▆▇▇▇▇▇▇███</td></tr><tr><td>test_accuracy</td><td>▁▁▄▄▅▇▆▆▅▆▇▇▇█▇▇▇█▇▇█▇█▇▇█▇▇▇███▇▇▇▇█▇█▇</td></tr><tr><td>test_loss</td><td>██▇▄▃▂▂▂▁▁▁▁▁▁▁▁▁▁▁▁▁▁▁▁▁▁▁▁▁▁▁▁▁▁▁▁▁▁▁▁</td></tr><tr><td>train_accuracy</td><td>▁▁▂▅▅▆▅▆▇▆▆▆██▇▇▇▇▇▇▇▇▆▇▇█▇▇▇▇▇▇▆▇▇▇▇▇▇▇</td></tr><tr><td>train_loss</td><td>█▇▇▆▅▃▃▂▂▂▂▂▂▂▂▂▂▁▂▁▂▁▁▁▁▁▁▁▁▁▁▁▁▁▁▁▁▁▁▁</td></tr><tr><td>val_accuracy</td><td>▁▂▃▅▆▆▇▇▇▇▇█▇▇▇▇█▇█▇▇█▇▇▇▇█▇▇▇█▇█▇▇▇▇▇▇█</td></tr><tr><td>val_loss</td><td>██▇▆▅▄▃▃▂▁▁▁▁▁▁▁▁▁▁▁▁▁▁▁▁▁▁▁▁▁▁▁▁▁▁▁▁▁▁▁</td></tr></table><br/></div><div class=\"wandb-col\"><h3>Run summary:</h3><br/><table class=\"wandb\"><tr><td>epoch</td><td>78</td></tr><tr><td>test_accuracy</td><td>0.575</td></tr><tr><td>test_loss</td><td>0.62236</td></tr><tr><td>train_accuracy</td><td>0.73399</td></tr><tr><td>train_loss</td><td>0.56191</td></tr><tr><td>val_accuracy</td><td>0.68627</td></tr><tr><td>val_loss</td><td>0.65943</td></tr></table><br/></div></div>"
      ],
      "text/plain": [
       "<IPython.core.display.HTML object>"
      ]
     },
     "metadata": {},
     "output_type": "display_data"
    },
    {
     "data": {
      "text/html": [
       " View run <strong style=\"color:#cdcd00\">stoic-sweep-9</strong> at: <a href='https://wandb.ai/joaoc-university-of-southampton/spectra-classification-vit/runs/2pmencdd' target=\"_blank\">https://wandb.ai/joaoc-university-of-southampton/spectra-classification-vit/runs/2pmencdd</a><br/> View project at: <a href='https://wandb.ai/joaoc-university-of-southampton/spectra-classification-vit' target=\"_blank\">https://wandb.ai/joaoc-university-of-southampton/spectra-classification-vit</a><br/>Synced 5 W&B file(s), 0 media file(s), 0 artifact file(s) and 0 other file(s)"
      ],
      "text/plain": [
       "<IPython.core.display.HTML object>"
      ]
     },
     "metadata": {},
     "output_type": "display_data"
    },
    {
     "data": {
      "text/html": [
       "Find logs at: <code>.\\wandb\\run-20241029_111832-2pmencdd\\logs</code>"
      ],
      "text/plain": [
       "<IPython.core.display.HTML object>"
      ]
     },
     "metadata": {},
     "output_type": "display_data"
    },
    {
     "name": "stderr",
     "output_type": "stream",
     "text": [
      "wandb: Agent Starting Run: xpo53z6g with config:\n",
      "wandb: \tdepth: 3\n",
      "wandb: \tdim: 512\n",
      "wandb: \tdropout: 0.2\n",
      "wandb: \theads: 32\n",
      "wandb: \tlr: 3e-07\n",
      "wandb: \tmlp_dim: 128\n",
      "wandb: \tpatch_size: 3748\n"
     ]
    },
    {
     "data": {
      "text/html": [
       "Tracking run with wandb version 0.18.5"
      ],
      "text/plain": [
       "<IPython.core.display.HTML object>"
      ]
     },
     "metadata": {},
     "output_type": "display_data"
    },
    {
     "data": {
      "text/html": [
       "Run data is saved locally in <code>c:\\Users\\jcwin\\OneDrive - University of Southampton\\_Southampton\\2024-25\\Star-Classifier\\wandb\\run-20241029_112040-xpo53z6g</code>"
      ],
      "text/plain": [
       "<IPython.core.display.HTML object>"
      ]
     },
     "metadata": {},
     "output_type": "display_data"
    },
    {
     "data": {
      "text/html": [
       "Syncing run <strong><a href='https://wandb.ai/joaoc-university-of-southampton/spectra-classification-vit/runs/xpo53z6g' target=\"_blank\">peach-sweep-10</a></strong> to <a href='https://wandb.ai/joaoc-university-of-southampton/spectra-classification-vit' target=\"_blank\">Weights & Biases</a> (<a href='https://wandb.me/run' target=\"_blank\">docs</a>)<br/>Sweep page: <a href='https://wandb.ai/joaoc-university-of-southampton/spectra-classification-vit/sweeps/cdqoepyl' target=\"_blank\">https://wandb.ai/joaoc-university-of-southampton/spectra-classification-vit/sweeps/cdqoepyl</a>"
      ],
      "text/plain": [
       "<IPython.core.display.HTML object>"
      ]
     },
     "metadata": {},
     "output_type": "display_data"
    },
    {
     "data": {
      "text/html": [
       " View project at <a href='https://wandb.ai/joaoc-university-of-southampton/spectra-classification-vit' target=\"_blank\">https://wandb.ai/joaoc-university-of-southampton/spectra-classification-vit</a>"
      ],
      "text/plain": [
       "<IPython.core.display.HTML object>"
      ]
     },
     "metadata": {},
     "output_type": "display_data"
    },
    {
     "data": {
      "text/html": [
       " View sweep at <a href='https://wandb.ai/joaoc-university-of-southampton/spectra-classification-vit/sweeps/cdqoepyl' target=\"_blank\">https://wandb.ai/joaoc-university-of-southampton/spectra-classification-vit/sweeps/cdqoepyl</a>"
      ],
      "text/plain": [
       "<IPython.core.display.HTML object>"
      ]
     },
     "metadata": {},
     "output_type": "display_data"
    },
    {
     "data": {
      "text/html": [
       " View run at <a href='https://wandb.ai/joaoc-university-of-southampton/spectra-classification-vit/runs/xpo53z6g' target=\"_blank\">https://wandb.ai/joaoc-university-of-southampton/spectra-classification-vit/runs/xpo53z6g</a>"
      ],
      "text/plain": [
       "<IPython.core.display.HTML object>"
      ]
     },
     "metadata": {},
     "output_type": "display_data"
    },
    {
     "data": {
      "text/html": [
       "<style>\n",
       "    table.wandb td:nth-child(1) { padding: 0 10px; text-align: left ; width: auto;} td:nth-child(2) {text-align: left ; width: 100%}\n",
       "    .wandb-row { display: flex; flex-direction: row; flex-wrap: wrap; justify-content: flex-start; width: 100% }\n",
       "    .wandb-col { display: flex; flex-direction: column; flex-basis: 100%; flex: 1; padding: 10px; }\n",
       "    </style>\n",
       "<div class=\"wandb-row\"><div class=\"wandb-col\"><h3>Run history:</h3><br/><table class=\"wandb\"><tr><td>epoch</td><td>▁▁▁▁▁▂▂▂▂▂▂▃▃▃▃▃▃▃▄▄▄▄▄▅▅▅▅▅▅▆▆▇▇▇▇▇▇▇▇█</td></tr><tr><td>test_accuracy</td><td>▁▂▃▄▃▂▂▃▄▅▆▆▆▆▆▅▆▅▅▆▅▆▆▆▅▆▆▆▆▇▇█████████</td></tr><tr><td>test_loss</td><td>████▆▅▅▄▄▄▄▃▃▃▃▂▂▂▂▂▂▂▁▁▁▁▁▁▁▁▁▁▁▁▁▁▁▁▁▁</td></tr><tr><td>train_accuracy</td><td>▁▃▃▄▄▄▄▆▆▅▄▄▅▅▆▆▆▆▆▄▇▆▅▇▅▆▇▇▆▇▆▆▅▆█▅▆▆▅▆</td></tr><tr><td>train_loss</td><td>███▇▇▆▆▆▆▅▅▅▄▄▄▃▃▂▂▂▂▂▂▂▂▂▂▁▁▁▁▁▁▁▁▁▁▁▁▁</td></tr><tr><td>val_accuracy</td><td>▁▂▂▂▂▃▄▄▅▅▅▅▅▅▅▅▅▅▅▅▇▆▇▇▇▇█████████████▇</td></tr><tr><td>val_loss</td><td>██▇▆▆▅▅▄▄▄▃▃▃▃▃▃▃▃▃▂▂▂▂▂▂▂▂▁▁▁▁▁▁▁▁▁▁▁▁▁</td></tr></table><br/></div><div class=\"wandb-col\"><h3>Run summary:</h3><br/><table class=\"wandb\"><tr><td>epoch</td><td>299</td></tr><tr><td>test_accuracy</td><td>0.625</td></tr><tr><td>test_loss</td><td>0.60311</td></tr><tr><td>train_accuracy</td><td>0.66502</td></tr><tr><td>train_loss</td><td>0.60239</td></tr><tr><td>val_accuracy</td><td>0.71373</td></tr><tr><td>val_loss</td><td>0.63071</td></tr></table><br/></div></div>"
      ],
      "text/plain": [
       "<IPython.core.display.HTML object>"
      ]
     },
     "metadata": {},
     "output_type": "display_data"
    },
    {
     "data": {
      "text/html": [
       " View run <strong style=\"color:#cdcd00\">peach-sweep-10</strong> at: <a href='https://wandb.ai/joaoc-university-of-southampton/spectra-classification-vit/runs/xpo53z6g' target=\"_blank\">https://wandb.ai/joaoc-university-of-southampton/spectra-classification-vit/runs/xpo53z6g</a><br/> View project at: <a href='https://wandb.ai/joaoc-university-of-southampton/spectra-classification-vit' target=\"_blank\">https://wandb.ai/joaoc-university-of-southampton/spectra-classification-vit</a><br/>Synced 5 W&B file(s), 0 media file(s), 0 artifact file(s) and 0 other file(s)"
      ],
      "text/plain": [
       "<IPython.core.display.HTML object>"
      ]
     },
     "metadata": {},
     "output_type": "display_data"
    },
    {
     "data": {
      "text/html": [
       "Find logs at: <code>.\\wandb\\run-20241029_112040-xpo53z6g\\logs</code>"
      ],
      "text/plain": [
       "<IPython.core.display.HTML object>"
      ]
     },
     "metadata": {},
     "output_type": "display_data"
    },
    {
     "name": "stderr",
     "output_type": "stream",
     "text": [
      "wandb: Agent Starting Run: 5doqbn4h with config:\n",
      "wandb: \tdepth: 20\n",
      "wandb: \tdim: 128\n",
      "wandb: \tdropout: 0.3\n",
      "wandb: \theads: 32\n",
      "wandb: \tlr: 3e-07\n",
      "wandb: \tmlp_dim: 256\n",
      "wandb: \tpatch_size: 3748\n"
     ]
    },
    {
     "data": {
      "text/html": [
       "Tracking run with wandb version 0.18.5"
      ],
      "text/plain": [
       "<IPython.core.display.HTML object>"
      ]
     },
     "metadata": {},
     "output_type": "display_data"
    },
    {
     "data": {
      "text/html": [
       "Run data is saved locally in <code>c:\\Users\\jcwin\\OneDrive - University of Southampton\\_Southampton\\2024-25\\Star-Classifier\\wandb\\run-20241029_112304-5doqbn4h</code>"
      ],
      "text/plain": [
       "<IPython.core.display.HTML object>"
      ]
     },
     "metadata": {},
     "output_type": "display_data"
    },
    {
     "data": {
      "text/html": [
       "Syncing run <strong><a href='https://wandb.ai/joaoc-university-of-southampton/spectra-classification-vit/runs/5doqbn4h' target=\"_blank\">lemon-sweep-11</a></strong> to <a href='https://wandb.ai/joaoc-university-of-southampton/spectra-classification-vit' target=\"_blank\">Weights & Biases</a> (<a href='https://wandb.me/run' target=\"_blank\">docs</a>)<br/>Sweep page: <a href='https://wandb.ai/joaoc-university-of-southampton/spectra-classification-vit/sweeps/cdqoepyl' target=\"_blank\">https://wandb.ai/joaoc-university-of-southampton/spectra-classification-vit/sweeps/cdqoepyl</a>"
      ],
      "text/plain": [
       "<IPython.core.display.HTML object>"
      ]
     },
     "metadata": {},
     "output_type": "display_data"
    },
    {
     "data": {
      "text/html": [
       " View project at <a href='https://wandb.ai/joaoc-university-of-southampton/spectra-classification-vit' target=\"_blank\">https://wandb.ai/joaoc-university-of-southampton/spectra-classification-vit</a>"
      ],
      "text/plain": [
       "<IPython.core.display.HTML object>"
      ]
     },
     "metadata": {},
     "output_type": "display_data"
    },
    {
     "data": {
      "text/html": [
       " View sweep at <a href='https://wandb.ai/joaoc-university-of-southampton/spectra-classification-vit/sweeps/cdqoepyl' target=\"_blank\">https://wandb.ai/joaoc-university-of-southampton/spectra-classification-vit/sweeps/cdqoepyl</a>"
      ],
      "text/plain": [
       "<IPython.core.display.HTML object>"
      ]
     },
     "metadata": {},
     "output_type": "display_data"
    },
    {
     "data": {
      "text/html": [
       " View run at <a href='https://wandb.ai/joaoc-university-of-southampton/spectra-classification-vit/runs/5doqbn4h' target=\"_blank\">https://wandb.ai/joaoc-university-of-southampton/spectra-classification-vit/runs/5doqbn4h</a>"
      ],
      "text/plain": [
       "<IPython.core.display.HTML object>"
      ]
     },
     "metadata": {},
     "output_type": "display_data"
    },
    {
     "data": {
      "text/html": [
       "<style>\n",
       "    table.wandb td:nth-child(1) { padding: 0 10px; text-align: left ; width: auto;} td:nth-child(2) {text-align: left ; width: 100%}\n",
       "    .wandb-row { display: flex; flex-direction: row; flex-wrap: wrap; justify-content: flex-start; width: 100% }\n",
       "    .wandb-col { display: flex; flex-direction: column; flex-basis: 100%; flex: 1; padding: 10px; }\n",
       "    </style>\n",
       "<div class=\"wandb-row\"><div class=\"wandb-col\"><h3>Run history:</h3><br/><table class=\"wandb\"><tr><td>epoch</td><td>▁▁▁▁▂▂▂▂▂▂▂▃▃▃▃▃▄▄▄▄▄▅▅▅▅▅▅▅▅▆▆▆▆▆▆▇▇▇▇█</td></tr><tr><td>test_accuracy</td><td>▃▃▁▁▁▁▁▁▁▁▁▁▁▁▃▆▃▅▆▇▅▅▆▆▇▅▆▆▆▆▆▇████████</td></tr><tr><td>test_loss</td><td>████████████▇▇▇▇▇▆▆▆▆▆▅▅▅▅▅▄▄▄▃▃▃▂▂▂▂▂▂▁</td></tr><tr><td>train_accuracy</td><td>▁▂▂▃▃▂▃▁▅▃▃▂▁▃▁▃▃▄▃▅▃▄▃▃▄▄▅▅▅▄▆▆▄▇▆▇▇▇█▆</td></tr><tr><td>train_loss</td><td>█▇▇▇▇▇▇▇▇▇▇▇▇▇▇▇▇▆▆▆▆▆▆▆▅▅▅▄▄▄▄▃▃▃▃▂▂▂▂▁</td></tr><tr><td>val_accuracy</td><td>▂▂▂▂▂▂▁▂▁▂▂▂▂▃▂▂▂▂▁▃▅▂▂▅▅▇▆▇▇▇▇▇████████</td></tr><tr><td>val_loss</td><td>████████▇▇▇▇▇▇▇▆▆▆▆▆▅▅▅▅▄▄▄▄▃▄▃▃▃▃▃▃▃▂▃▁</td></tr></table><br/></div><div class=\"wandb-col\"><h3>Run summary:</h3><br/><table class=\"wandb\"><tr><td>epoch</td><td>299</td></tr><tr><td>test_accuracy</td><td>0.5</td></tr><tr><td>test_loss</td><td>1.11765</td></tr><tr><td>train_accuracy</td><td>0.53202</td></tr><tr><td>train_loss</td><td>1.14893</td></tr><tr><td>val_accuracy</td><td>0.54902</td></tr><tr><td>val_loss</td><td>1.14006</td></tr></table><br/></div></div>"
      ],
      "text/plain": [
       "<IPython.core.display.HTML object>"
      ]
     },
     "metadata": {},
     "output_type": "display_data"
    },
    {
     "data": {
      "text/html": [
       " View run <strong style=\"color:#cdcd00\">lemon-sweep-11</strong> at: <a href='https://wandb.ai/joaoc-university-of-southampton/spectra-classification-vit/runs/5doqbn4h' target=\"_blank\">https://wandb.ai/joaoc-university-of-southampton/spectra-classification-vit/runs/5doqbn4h</a><br/> View project at: <a href='https://wandb.ai/joaoc-university-of-southampton/spectra-classification-vit' target=\"_blank\">https://wandb.ai/joaoc-university-of-southampton/spectra-classification-vit</a><br/>Synced 5 W&B file(s), 0 media file(s), 0 artifact file(s) and 0 other file(s)"
      ],
      "text/plain": [
       "<IPython.core.display.HTML object>"
      ]
     },
     "metadata": {},
     "output_type": "display_data"
    },
    {
     "data": {
      "text/html": [
       "Find logs at: <code>.\\wandb\\run-20241029_112304-5doqbn4h\\logs</code>"
      ],
      "text/plain": [
       "<IPython.core.display.HTML object>"
      ]
     },
     "metadata": {},
     "output_type": "display_data"
    },
    {
     "name": "stderr",
     "output_type": "stream",
     "text": [
      "wandb: Agent Starting Run: 1nuywzgu with config:\n",
      "wandb: \tdepth: 10\n",
      "wandb: \tdim: 64\n",
      "wandb: \tdropout: 0.2\n",
      "wandb: \theads: 2\n",
      "wandb: \tlr: 3e-07\n",
      "wandb: \tmlp_dim: 128\n",
      "wandb: \tpatch_size: 3748\n"
     ]
    },
    {
     "data": {
      "text/html": [
       "Tracking run with wandb version 0.18.5"
      ],
      "text/plain": [
       "<IPython.core.display.HTML object>"
      ]
     },
     "metadata": {},
     "output_type": "display_data"
    },
    {
     "data": {
      "text/html": [
       "Run data is saved locally in <code>c:\\Users\\jcwin\\OneDrive - University of Southampton\\_Southampton\\2024-25\\Star-Classifier\\wandb\\run-20241029_113037-1nuywzgu</code>"
      ],
      "text/plain": [
       "<IPython.core.display.HTML object>"
      ]
     },
     "metadata": {},
     "output_type": "display_data"
    },
    {
     "data": {
      "text/html": [
       "Syncing run <strong><a href='https://wandb.ai/joaoc-university-of-southampton/spectra-classification-vit/runs/1nuywzgu' target=\"_blank\">bright-sweep-12</a></strong> to <a href='https://wandb.ai/joaoc-university-of-southampton/spectra-classification-vit' target=\"_blank\">Weights & Biases</a> (<a href='https://wandb.me/run' target=\"_blank\">docs</a>)<br/>Sweep page: <a href='https://wandb.ai/joaoc-university-of-southampton/spectra-classification-vit/sweeps/cdqoepyl' target=\"_blank\">https://wandb.ai/joaoc-university-of-southampton/spectra-classification-vit/sweeps/cdqoepyl</a>"
      ],
      "text/plain": [
       "<IPython.core.display.HTML object>"
      ]
     },
     "metadata": {},
     "output_type": "display_data"
    },
    {
     "data": {
      "text/html": [
       " View project at <a href='https://wandb.ai/joaoc-university-of-southampton/spectra-classification-vit' target=\"_blank\">https://wandb.ai/joaoc-university-of-southampton/spectra-classification-vit</a>"
      ],
      "text/plain": [
       "<IPython.core.display.HTML object>"
      ]
     },
     "metadata": {},
     "output_type": "display_data"
    },
    {
     "data": {
      "text/html": [
       " View sweep at <a href='https://wandb.ai/joaoc-university-of-southampton/spectra-classification-vit/sweeps/cdqoepyl' target=\"_blank\">https://wandb.ai/joaoc-university-of-southampton/spectra-classification-vit/sweeps/cdqoepyl</a>"
      ],
      "text/plain": [
       "<IPython.core.display.HTML object>"
      ]
     },
     "metadata": {},
     "output_type": "display_data"
    },
    {
     "data": {
      "text/html": [
       " View run at <a href='https://wandb.ai/joaoc-university-of-southampton/spectra-classification-vit/runs/1nuywzgu' target=\"_blank\">https://wandb.ai/joaoc-university-of-southampton/spectra-classification-vit/runs/1nuywzgu</a>"
      ],
      "text/plain": [
       "<IPython.core.display.HTML object>"
      ]
     },
     "metadata": {},
     "output_type": "display_data"
    },
    {
     "data": {
      "text/html": [
       "<style>\n",
       "    table.wandb td:nth-child(1) { padding: 0 10px; text-align: left ; width: auto;} td:nth-child(2) {text-align: left ; width: 100%}\n",
       "    .wandb-row { display: flex; flex-direction: row; flex-wrap: wrap; justify-content: flex-start; width: 100% }\n",
       "    .wandb-col { display: flex; flex-direction: column; flex-basis: 100%; flex: 1; padding: 10px; }\n",
       "    </style>\n",
       "<div class=\"wandb-row\"><div class=\"wandb-col\"><h3>Run history:</h3><br/><table class=\"wandb\"><tr><td>epoch</td><td>▁▁▁▁▁▂▂▂▂▂▃▃▃▃▃▄▄▄▄▄▅▅▅▅▅▅▆▆▆▆▆▇▇▇▇▇████</td></tr><tr><td>test_accuracy</td><td>▂▁▁▁▃▇▇▆▃▃▃▃▃▃▃▆▄▅▅▅▅▅▅▅▅▅▅▅▅▅▅▆▇▇▆█████</td></tr><tr><td>test_loss</td><td>█████▇▇▇▇▇▆▆▅▄▄▄▃▃▃▃▃▃▃▃▃▂▂▂▂▂▂▂▂▂▂▂▁▁▁▁</td></tr><tr><td>train_accuracy</td><td>▁▂▁▁▁▂▂▄▄▄▅▅▅▅▅▅▆▆▆▅▅▆▆▆▆▇▆█▇▆▆▆▇▇▇█▇█▇█</td></tr><tr><td>train_loss</td><td>█████▇▇▇▇▇▇▇▇▇▇▅▄▄▄▄▄▄▄▃▃▃▃▃▃▃▂▂▂▂▂▂▁▁▁▁</td></tr><tr><td>val_accuracy</td><td>▁▁▁▁▁▁▁▁▁▁▂▃▄▄▄▅▅▅▆▆▆▆▆▆▆▆▇▇▇▇▇▇▇▇▇▇▇▇██</td></tr><tr><td>val_loss</td><td>█▇▇▇▇▇▇▇▇▇▆▆▆▆▅▄▄▄▄▄▃▃▃▃▃▃▃▃▃▃▂▂▂▂▂▂▂▂▂▁</td></tr></table><br/></div><div class=\"wandb-col\"><h3>Run summary:</h3><br/><table class=\"wandb\"><tr><td>epoch</td><td>299</td></tr><tr><td>test_accuracy</td><td>0.55</td></tr><tr><td>test_loss</td><td>0.82241</td></tr><tr><td>train_accuracy</td><td>0.66995</td></tr><tr><td>train_loss</td><td>0.87997</td></tr><tr><td>val_accuracy</td><td>0.64314</td></tr><tr><td>val_loss</td><td>0.82331</td></tr></table><br/></div></div>"
      ],
      "text/plain": [
       "<IPython.core.display.HTML object>"
      ]
     },
     "metadata": {},
     "output_type": "display_data"
    },
    {
     "data": {
      "text/html": [
       " View run <strong style=\"color:#cdcd00\">bright-sweep-12</strong> at: <a href='https://wandb.ai/joaoc-university-of-southampton/spectra-classification-vit/runs/1nuywzgu' target=\"_blank\">https://wandb.ai/joaoc-university-of-southampton/spectra-classification-vit/runs/1nuywzgu</a><br/> View project at: <a href='https://wandb.ai/joaoc-university-of-southampton/spectra-classification-vit' target=\"_blank\">https://wandb.ai/joaoc-university-of-southampton/spectra-classification-vit</a><br/>Synced 5 W&B file(s), 0 media file(s), 0 artifact file(s) and 0 other file(s)"
      ],
      "text/plain": [
       "<IPython.core.display.HTML object>"
      ]
     },
     "metadata": {},
     "output_type": "display_data"
    },
    {
     "data": {
      "text/html": [
       "Find logs at: <code>.\\wandb\\run-20241029_113037-1nuywzgu\\logs</code>"
      ],
      "text/plain": [
       "<IPython.core.display.HTML object>"
      ]
     },
     "metadata": {},
     "output_type": "display_data"
    },
    {
     "name": "stderr",
     "output_type": "stream",
     "text": [
      "wandb: Agent Starting Run: tr1rczsy with config:\n",
      "wandb: \tdepth: 10\n",
      "wandb: \tdim: 16\n",
      "wandb: \tdropout: 0.3\n",
      "wandb: \theads: 32\n",
      "wandb: \tlr: 3e-05\n",
      "wandb: \tmlp_dim: 64\n",
      "wandb: \tpatch_size: 3748\n"
     ]
    },
    {
     "data": {
      "text/html": [
       "Tracking run with wandb version 0.18.5"
      ],
      "text/plain": [
       "<IPython.core.display.HTML object>"
      ]
     },
     "metadata": {},
     "output_type": "display_data"
    },
    {
     "data": {
      "text/html": [
       "Run data is saved locally in <code>c:\\Users\\jcwin\\OneDrive - University of Southampton\\_Southampton\\2024-25\\Star-Classifier\\wandb\\run-20241029_113509-tr1rczsy</code>"
      ],
      "text/plain": [
       "<IPython.core.display.HTML object>"
      ]
     },
     "metadata": {},
     "output_type": "display_data"
    },
    {
     "data": {
      "text/html": [
       "Syncing run <strong><a href='https://wandb.ai/joaoc-university-of-southampton/spectra-classification-vit/runs/tr1rczsy' target=\"_blank\">glowing-sweep-13</a></strong> to <a href='https://wandb.ai/joaoc-university-of-southampton/spectra-classification-vit' target=\"_blank\">Weights & Biases</a> (<a href='https://wandb.me/run' target=\"_blank\">docs</a>)<br/>Sweep page: <a href='https://wandb.ai/joaoc-university-of-southampton/spectra-classification-vit/sweeps/cdqoepyl' target=\"_blank\">https://wandb.ai/joaoc-university-of-southampton/spectra-classification-vit/sweeps/cdqoepyl</a>"
      ],
      "text/plain": [
       "<IPython.core.display.HTML object>"
      ]
     },
     "metadata": {},
     "output_type": "display_data"
    },
    {
     "data": {
      "text/html": [
       " View project at <a href='https://wandb.ai/joaoc-university-of-southampton/spectra-classification-vit' target=\"_blank\">https://wandb.ai/joaoc-university-of-southampton/spectra-classification-vit</a>"
      ],
      "text/plain": [
       "<IPython.core.display.HTML object>"
      ]
     },
     "metadata": {},
     "output_type": "display_data"
    },
    {
     "data": {
      "text/html": [
       " View sweep at <a href='https://wandb.ai/joaoc-university-of-southampton/spectra-classification-vit/sweeps/cdqoepyl' target=\"_blank\">https://wandb.ai/joaoc-university-of-southampton/spectra-classification-vit/sweeps/cdqoepyl</a>"
      ],
      "text/plain": [
       "<IPython.core.display.HTML object>"
      ]
     },
     "metadata": {},
     "output_type": "display_data"
    },
    {
     "data": {
      "text/html": [
       " View run at <a href='https://wandb.ai/joaoc-university-of-southampton/spectra-classification-vit/runs/tr1rczsy' target=\"_blank\">https://wandb.ai/joaoc-university-of-southampton/spectra-classification-vit/runs/tr1rczsy</a>"
      ],
      "text/plain": [
       "<IPython.core.display.HTML object>"
      ]
     },
     "metadata": {},
     "output_type": "display_data"
    },
    {
     "name": "stderr",
     "output_type": "stream",
     "text": [
      "Traceback (most recent call last):\n",
      "  File \"C:\\Users\\jcwin\\AppData\\Local\\Temp\\ipykernel_11012\\1700346631.py\", line 27, in sweep_train\n",
      "    model_vit = VisionTransformer1D(\n",
      "                ^^^^^^^^^^^^^^^^^^^^\n",
      "  File \"C:\\Users\\jcwin\\AppData\\Local\\Temp\\ipykernel_11012\\2276252545.py\", line 145, in __init__\n",
      "    self.transformer = nn.TransformerEncoder(nn.TransformerEncoderLayer(dim, heads, mlp_dim, dropout), depth)\n",
      "                                             ^^^^^^^^^^^^^^^^^^^^^^^^^^^^^^^^^^^^^^^^^^^^^^^^^^^^^^^^\n",
      "  File \"C:\\Users\\jcwin\\AppData\\Local\\Packages\\PythonSoftwareFoundation.Python.3.11_qbz5n2kfra8p0\\LocalCache\\local-packages\\Python311\\site-packages\\torch\\nn\\modules\\transformer.py\", line 590, in __init__\n",
      "    self.self_attn = MultiheadAttention(d_model, nhead, dropout=dropout,\n",
      "                     ^^^^^^^^^^^^^^^^^^^^^^^^^^^^^^^^^^^^^^^^^^^^^^^^^^^\n",
      "  File \"C:\\Users\\jcwin\\AppData\\Local\\Packages\\PythonSoftwareFoundation.Python.3.11_qbz5n2kfra8p0\\LocalCache\\local-packages\\Python311\\site-packages\\torch\\nn\\modules\\activation.py\", line 1020, in __init__\n",
      "    assert self.head_dim * num_heads == self.embed_dim, \"embed_dim must be divisible by num_heads\"\n",
      "           ^^^^^^^^^^^^^^^^^^^^^^^^^^^^^^^^^^^^^^^^^^^\n",
      "AssertionError: embed_dim must be divisible by num_heads\n"
     ]
    },
    {
     "data": {
      "text/html": [
       " View run <strong style=\"color:#cdcd00\">glowing-sweep-13</strong> at: <a href='https://wandb.ai/joaoc-university-of-southampton/spectra-classification-vit/runs/tr1rczsy' target=\"_blank\">https://wandb.ai/joaoc-university-of-southampton/spectra-classification-vit/runs/tr1rczsy</a><br/> View project at: <a href='https://wandb.ai/joaoc-university-of-southampton/spectra-classification-vit' target=\"_blank\">https://wandb.ai/joaoc-university-of-southampton/spectra-classification-vit</a><br/>Synced 5 W&B file(s), 0 media file(s), 0 artifact file(s) and 0 other file(s)"
      ],
      "text/plain": [
       "<IPython.core.display.HTML object>"
      ]
     },
     "metadata": {},
     "output_type": "display_data"
    },
    {
     "data": {
      "text/html": [
       "Find logs at: <code>.\\wandb\\run-20241029_113509-tr1rczsy\\logs</code>"
      ],
      "text/plain": [
       "<IPython.core.display.HTML object>"
      ]
     },
     "metadata": {},
     "output_type": "display_data"
    },
    {
     "name": "stderr",
     "output_type": "stream",
     "text": [
      "Run tr1rczsy errored:\n",
      "Traceback (most recent call last):\n",
      "  File \"C:\\Users\\jcwin\\AppData\\Local\\Packages\\PythonSoftwareFoundation.Python.3.11_qbz5n2kfra8p0\\LocalCache\\local-packages\\Python311\\site-packages\\wandb\\agents\\pyagent.py\", line 306, in _run_job\n",
      "    self._function()\n",
      "  File \"C:\\Users\\jcwin\\AppData\\Local\\Temp\\ipykernel_11012\\1700346631.py\", line 27, in sweep_train\n",
      "    model_vit = VisionTransformer1D(\n",
      "                ^^^^^^^^^^^^^^^^^^^^\n",
      "  File \"C:\\Users\\jcwin\\AppData\\Local\\Temp\\ipykernel_11012\\2276252545.py\", line 145, in __init__\n",
      "    self.transformer = nn.TransformerEncoder(nn.TransformerEncoderLayer(dim, heads, mlp_dim, dropout), depth)\n",
      "                                             ^^^^^^^^^^^^^^^^^^^^^^^^^^^^^^^^^^^^^^^^^^^^^^^^^^^^^^^^\n",
      "  File \"C:\\Users\\jcwin\\AppData\\Local\\Packages\\PythonSoftwareFoundation.Python.3.11_qbz5n2kfra8p0\\LocalCache\\local-packages\\Python311\\site-packages\\torch\\nn\\modules\\transformer.py\", line 590, in __init__\n",
      "    self.self_attn = MultiheadAttention(d_model, nhead, dropout=dropout,\n",
      "                     ^^^^^^^^^^^^^^^^^^^^^^^^^^^^^^^^^^^^^^^^^^^^^^^^^^^\n",
      "  File \"C:\\Users\\jcwin\\AppData\\Local\\Packages\\PythonSoftwareFoundation.Python.3.11_qbz5n2kfra8p0\\LocalCache\\local-packages\\Python311\\site-packages\\torch\\nn\\modules\\activation.py\", line 1020, in __init__\n",
      "    assert self.head_dim * num_heads == self.embed_dim, \"embed_dim must be divisible by num_heads\"\n",
      "           ^^^^^^^^^^^^^^^^^^^^^^^^^^^^^^^^^^^^^^^^^^^\n",
      "AssertionError: embed_dim must be divisible by num_heads\n",
      "\n",
      "wandb: ERROR Run tr1rczsy errored:\n",
      "wandb: ERROR Traceback (most recent call last):\n",
      "wandb: ERROR   File \"C:\\Users\\jcwin\\AppData\\Local\\Packages\\PythonSoftwareFoundation.Python.3.11_qbz5n2kfra8p0\\LocalCache\\local-packages\\Python311\\site-packages\\wandb\\agents\\pyagent.py\", line 306, in _run_job\n",
      "wandb: ERROR     self._function()\n",
      "wandb: ERROR   File \"C:\\Users\\jcwin\\AppData\\Local\\Temp\\ipykernel_11012\\1700346631.py\", line 27, in sweep_train\n",
      "wandb: ERROR     model_vit = VisionTransformer1D(\n",
      "wandb: ERROR                 ^^^^^^^^^^^^^^^^^^^^\n",
      "wandb: ERROR   File \"C:\\Users\\jcwin\\AppData\\Local\\Temp\\ipykernel_11012\\2276252545.py\", line 145, in __init__\n",
      "wandb: ERROR     self.transformer = nn.TransformerEncoder(nn.TransformerEncoderLayer(dim, heads, mlp_dim, dropout), depth)\n",
      "wandb: ERROR                                              ^^^^^^^^^^^^^^^^^^^^^^^^^^^^^^^^^^^^^^^^^^^^^^^^^^^^^^^^\n",
      "wandb: ERROR   File \"C:\\Users\\jcwin\\AppData\\Local\\Packages\\PythonSoftwareFoundation.Python.3.11_qbz5n2kfra8p0\\LocalCache\\local-packages\\Python311\\site-packages\\torch\\nn\\modules\\transformer.py\", line 590, in __init__\n",
      "wandb: ERROR     self.self_attn = MultiheadAttention(d_model, nhead, dropout=dropout,\n",
      "wandb: ERROR                      ^^^^^^^^^^^^^^^^^^^^^^^^^^^^^^^^^^^^^^^^^^^^^^^^^^^\n",
      "wandb: ERROR   File \"C:\\Users\\jcwin\\AppData\\Local\\Packages\\PythonSoftwareFoundation.Python.3.11_qbz5n2kfra8p0\\LocalCache\\local-packages\\Python311\\site-packages\\torch\\nn\\modules\\activation.py\", line 1020, in __init__\n",
      "wandb: ERROR     assert self.head_dim * num_heads == self.embed_dim, \"embed_dim must be divisible by num_heads\"\n",
      "wandb: ERROR            ^^^^^^^^^^^^^^^^^^^^^^^^^^^^^^^^^^^^^^^^^^^\n",
      "wandb: ERROR AssertionError: embed_dim must be divisible by num_heads\n",
      "wandb: ERROR \n",
      "wandb: Agent Starting Run: lqeekh5l with config:\n",
      "wandb: \tdepth: 3\n",
      "wandb: \tdim: 128\n",
      "wandb: \tdropout: 0.1\n",
      "wandb: \theads: 2\n",
      "wandb: \tlr: 3e-06\n",
      "wandb: \tmlp_dim: 128\n",
      "wandb: \tpatch_size: 3748\n"
     ]
    },
    {
     "data": {
      "text/html": [
       "Tracking run with wandb version 0.18.5"
      ],
      "text/plain": [
       "<IPython.core.display.HTML object>"
      ]
     },
     "metadata": {},
     "output_type": "display_data"
    },
    {
     "data": {
      "text/html": [
       "Run data is saved locally in <code>c:\\Users\\jcwin\\OneDrive - University of Southampton\\_Southampton\\2024-25\\Star-Classifier\\wandb\\run-20241029_113515-lqeekh5l</code>"
      ],
      "text/plain": [
       "<IPython.core.display.HTML object>"
      ]
     },
     "metadata": {},
     "output_type": "display_data"
    },
    {
     "data": {
      "text/html": [
       "Syncing run <strong><a href='https://wandb.ai/joaoc-university-of-southampton/spectra-classification-vit/runs/lqeekh5l' target=\"_blank\">resilient-sweep-14</a></strong> to <a href='https://wandb.ai/joaoc-university-of-southampton/spectra-classification-vit' target=\"_blank\">Weights & Biases</a> (<a href='https://wandb.me/run' target=\"_blank\">docs</a>)<br/>Sweep page: <a href='https://wandb.ai/joaoc-university-of-southampton/spectra-classification-vit/sweeps/cdqoepyl' target=\"_blank\">https://wandb.ai/joaoc-university-of-southampton/spectra-classification-vit/sweeps/cdqoepyl</a>"
      ],
      "text/plain": [
       "<IPython.core.display.HTML object>"
      ]
     },
     "metadata": {},
     "output_type": "display_data"
    },
    {
     "data": {
      "text/html": [
       " View project at <a href='https://wandb.ai/joaoc-university-of-southampton/spectra-classification-vit' target=\"_blank\">https://wandb.ai/joaoc-university-of-southampton/spectra-classification-vit</a>"
      ],
      "text/plain": [
       "<IPython.core.display.HTML object>"
      ]
     },
     "metadata": {},
     "output_type": "display_data"
    },
    {
     "data": {
      "text/html": [
       " View sweep at <a href='https://wandb.ai/joaoc-university-of-southampton/spectra-classification-vit/sweeps/cdqoepyl' target=\"_blank\">https://wandb.ai/joaoc-university-of-southampton/spectra-classification-vit/sweeps/cdqoepyl</a>"
      ],
      "text/plain": [
       "<IPython.core.display.HTML object>"
      ]
     },
     "metadata": {},
     "output_type": "display_data"
    },
    {
     "data": {
      "text/html": [
       " View run at <a href='https://wandb.ai/joaoc-university-of-southampton/spectra-classification-vit/runs/lqeekh5l' target=\"_blank\">https://wandb.ai/joaoc-university-of-southampton/spectra-classification-vit/runs/lqeekh5l</a>"
      ],
      "text/plain": [
       "<IPython.core.display.HTML object>"
      ]
     },
     "metadata": {},
     "output_type": "display_data"
    },
    {
     "data": {
      "text/html": [
       "<style>\n",
       "    table.wandb td:nth-child(1) { padding: 0 10px; text-align: left ; width: auto;} td:nth-child(2) {text-align: left ; width: 100%}\n",
       "    .wandb-row { display: flex; flex-direction: row; flex-wrap: wrap; justify-content: flex-start; width: 100% }\n",
       "    .wandb-col { display: flex; flex-direction: column; flex-basis: 100%; flex: 1; padding: 10px; }\n",
       "    </style>\n",
       "<div class=\"wandb-row\"><div class=\"wandb-col\"><h3>Run history:</h3><br/><table class=\"wandb\"><tr><td>epoch</td><td>▁▁▁▁▂▂▃▃▃▃▃▃▄▄▄▄▄▄▅▅▅▅▅▅▅▆▆▆▆▆▆▆▇▇▇▇▇███</td></tr><tr><td>test_accuracy</td><td>▁▄▅▅▅▅▅▆▆▅▇▇▆▆▇▆▆▆▆▆▆▆▆▇▆▆▆▇█▆▇▇█████▇▇▆</td></tr><tr><td>test_loss</td><td>█▆▅▅▄▂▂▂▂▂▂▂▁▁▁▁▁▁▁▁▁▁▁▁▁▁▁▁▁▁▁▁▁▁▁▁▁▁▁▁</td></tr><tr><td>train_accuracy</td><td>▁▃▂▅▅▅▄▃▅▆█▆▇▆▆▆▇▆▄▇▅▅▅▆▄▇▅▄▆▇▆▇▅█▆▇▇▄▄▆</td></tr><tr><td>train_loss</td><td>█▆▆▅▃▃▂▂▂▂▂▂▂▂▂▂▂▂▂▂▂▁▂▂▁▁▂▁▁▁▁▁▁▁▁▁▁▁▁▁</td></tr><tr><td>val_accuracy</td><td>▁▂▂▃▅▆▆▆▇▇▇▇▇▇▇▇████████████████████████</td></tr><tr><td>val_loss</td><td>█▅▅▃▂▂▂▂▂▁▁▁▁▁▁▁▁▁▁▁▁▁▁▁▁▁▁▁▁▁▁▁▁▁▁▁▁▁▁▁</td></tr></table><br/></div><div class=\"wandb-col\"><h3>Run summary:</h3><br/><table class=\"wandb\"><tr><td>epoch</td><td>299</td></tr><tr><td>test_accuracy</td><td>0.725</td></tr><tr><td>test_loss</td><td>0.55162</td></tr><tr><td>train_accuracy</td><td>0.76355</td></tr><tr><td>train_loss</td><td>0.52083</td></tr><tr><td>val_accuracy</td><td>0.72549</td></tr><tr><td>val_loss</td><td>0.58906</td></tr></table><br/></div></div>"
      ],
      "text/plain": [
       "<IPython.core.display.HTML object>"
      ]
     },
     "metadata": {},
     "output_type": "display_data"
    },
    {
     "data": {
      "text/html": [
       " View run <strong style=\"color:#cdcd00\">resilient-sweep-14</strong> at: <a href='https://wandb.ai/joaoc-university-of-southampton/spectra-classification-vit/runs/lqeekh5l' target=\"_blank\">https://wandb.ai/joaoc-university-of-southampton/spectra-classification-vit/runs/lqeekh5l</a><br/> View project at: <a href='https://wandb.ai/joaoc-university-of-southampton/spectra-classification-vit' target=\"_blank\">https://wandb.ai/joaoc-university-of-southampton/spectra-classification-vit</a><br/>Synced 5 W&B file(s), 0 media file(s), 0 artifact file(s) and 0 other file(s)"
      ],
      "text/plain": [
       "<IPython.core.display.HTML object>"
      ]
     },
     "metadata": {},
     "output_type": "display_data"
    },
    {
     "data": {
      "text/html": [
       "Find logs at: <code>.\\wandb\\run-20241029_113515-lqeekh5l\\logs</code>"
      ],
      "text/plain": [
       "<IPython.core.display.HTML object>"
      ]
     },
     "metadata": {},
     "output_type": "display_data"
    },
    {
     "name": "stderr",
     "output_type": "stream",
     "text": [
      "wandb: Agent Starting Run: hkkuul7b with config:\n",
      "wandb: \tdepth: 10\n",
      "wandb: \tdim: 16\n",
      "wandb: \tdropout: 0.4\n",
      "wandb: \theads: 2\n",
      "wandb: \tlr: 3e-06\n",
      "wandb: \tmlp_dim: 128\n",
      "wandb: \tpatch_size: 3748\n"
     ]
    },
    {
     "data": {
      "text/html": [
       "Tracking run with wandb version 0.18.5"
      ],
      "text/plain": [
       "<IPython.core.display.HTML object>"
      ]
     },
     "metadata": {},
     "output_type": "display_data"
    },
    {
     "data": {
      "text/html": [
       "Run data is saved locally in <code>c:\\Users\\jcwin\\OneDrive - University of Southampton\\_Southampton\\2024-25\\Star-Classifier\\wandb\\run-20241029_113744-hkkuul7b</code>"
      ],
      "text/plain": [
       "<IPython.core.display.HTML object>"
      ]
     },
     "metadata": {},
     "output_type": "display_data"
    },
    {
     "data": {
      "text/html": [
       "Syncing run <strong><a href='https://wandb.ai/joaoc-university-of-southampton/spectra-classification-vit/runs/hkkuul7b' target=\"_blank\">laced-sweep-15</a></strong> to <a href='https://wandb.ai/joaoc-university-of-southampton/spectra-classification-vit' target=\"_blank\">Weights & Biases</a> (<a href='https://wandb.me/run' target=\"_blank\">docs</a>)<br/>Sweep page: <a href='https://wandb.ai/joaoc-university-of-southampton/spectra-classification-vit/sweeps/cdqoepyl' target=\"_blank\">https://wandb.ai/joaoc-university-of-southampton/spectra-classification-vit/sweeps/cdqoepyl</a>"
      ],
      "text/plain": [
       "<IPython.core.display.HTML object>"
      ]
     },
     "metadata": {},
     "output_type": "display_data"
    },
    {
     "data": {
      "text/html": [
       " View project at <a href='https://wandb.ai/joaoc-university-of-southampton/spectra-classification-vit' target=\"_blank\">https://wandb.ai/joaoc-university-of-southampton/spectra-classification-vit</a>"
      ],
      "text/plain": [
       "<IPython.core.display.HTML object>"
      ]
     },
     "metadata": {},
     "output_type": "display_data"
    },
    {
     "data": {
      "text/html": [
       " View sweep at <a href='https://wandb.ai/joaoc-university-of-southampton/spectra-classification-vit/sweeps/cdqoepyl' target=\"_blank\">https://wandb.ai/joaoc-university-of-southampton/spectra-classification-vit/sweeps/cdqoepyl</a>"
      ],
      "text/plain": [
       "<IPython.core.display.HTML object>"
      ]
     },
     "metadata": {},
     "output_type": "display_data"
    },
    {
     "data": {
      "text/html": [
       " View run at <a href='https://wandb.ai/joaoc-university-of-southampton/spectra-classification-vit/runs/hkkuul7b' target=\"_blank\">https://wandb.ai/joaoc-university-of-southampton/spectra-classification-vit/runs/hkkuul7b</a>"
      ],
      "text/plain": [
       "<IPython.core.display.HTML object>"
      ]
     },
     "metadata": {},
     "output_type": "display_data"
    },
    {
     "data": {
      "text/html": [
       "<style>\n",
       "    table.wandb td:nth-child(1) { padding: 0 10px; text-align: left ; width: auto;} td:nth-child(2) {text-align: left ; width: 100%}\n",
       "    .wandb-row { display: flex; flex-direction: row; flex-wrap: wrap; justify-content: flex-start; width: 100% }\n",
       "    .wandb-col { display: flex; flex-direction: column; flex-basis: 100%; flex: 1; padding: 10px; }\n",
       "    </style>\n",
       "<div class=\"wandb-row\"><div class=\"wandb-col\"><h3>Run history:</h3><br/><table class=\"wandb\"><tr><td>epoch</td><td>▁▁▁▁▂▂▃▃▃▃▃▃▄▄▄▄▄▄▅▅▅▅▆▆▆▆▆▆▇▇▇▇▇▇██████</td></tr><tr><td>test_accuracy</td><td>▁▁▄▄▅▆▇█▇▇▇▇▇▇▇▇██▇█▇█▇█▇▇▇▇▇▇▇▇▇▇▇▇▇▇▇▇</td></tr><tr><td>test_loss</td><td>█▇▆▆▅▅▅▅▅▄▄▄▄▄▄▃▃▃▃▃▃▂▂▂▂▂▂▂▁▁▁▁▁▁▁▁▁▁▁▁</td></tr><tr><td>train_accuracy</td><td>▁▃▃▄▄▅▄▆▅▅▆▇▇▆▆▆▆▆▆▇▇▇▇▇█▆▇██▇▇▇▇█▇▆█▇▆▇</td></tr><tr><td>train_loss</td><td>█▇▇▇▇▅▅▅▄▄▄▄▃▃▃▂▂▂▂▂▂▂▂▂▂▂▂▂▂▂▂▂▁▁▁▁▁▁▁▁</td></tr><tr><td>val_accuracy</td><td>▁▅▆▅▅▆▆▇▇▇▇▇▇▇▇▇▇▇▇▇▇▇▇▇▇▇███▇██████████</td></tr><tr><td>val_loss</td><td>██▇▇▇▆▆▅▅▅▄▄▄▄▃▃▃▃▃▃▃▃▃▂▂▂▂▂▂▂▁▁▁▁▁▁▁▁▁▁</td></tr></table><br/></div><div class=\"wandb-col\"><h3>Run summary:</h3><br/><table class=\"wandb\"><tr><td>epoch</td><td>299</td></tr><tr><td>test_accuracy</td><td>0.6</td></tr><tr><td>test_loss</td><td>0.70675</td></tr><tr><td>train_accuracy</td><td>0.6601</td></tr><tr><td>train_loss</td><td>0.76746</td></tr><tr><td>val_accuracy</td><td>0.67059</td></tr><tr><td>val_loss</td><td>0.7138</td></tr></table><br/></div></div>"
      ],
      "text/plain": [
       "<IPython.core.display.HTML object>"
      ]
     },
     "metadata": {},
     "output_type": "display_data"
    },
    {
     "data": {
      "text/html": [
       " View run <strong style=\"color:#cdcd00\">laced-sweep-15</strong> at: <a href='https://wandb.ai/joaoc-university-of-southampton/spectra-classification-vit/runs/hkkuul7b' target=\"_blank\">https://wandb.ai/joaoc-university-of-southampton/spectra-classification-vit/runs/hkkuul7b</a><br/> View project at: <a href='https://wandb.ai/joaoc-university-of-southampton/spectra-classification-vit' target=\"_blank\">https://wandb.ai/joaoc-university-of-southampton/spectra-classification-vit</a><br/>Synced 5 W&B file(s), 0 media file(s), 0 artifact file(s) and 0 other file(s)"
      ],
      "text/plain": [
       "<IPython.core.display.HTML object>"
      ]
     },
     "metadata": {},
     "output_type": "display_data"
    },
    {
     "data": {
      "text/html": [
       "Find logs at: <code>.\\wandb\\run-20241029_113744-hkkuul7b\\logs</code>"
      ],
      "text/plain": [
       "<IPython.core.display.HTML object>"
      ]
     },
     "metadata": {},
     "output_type": "display_data"
    },
    {
     "name": "stderr",
     "output_type": "stream",
     "text": [
      "wandb: Agent Starting Run: qawe8en9 with config:\n",
      "wandb: \tdepth: 20\n",
      "wandb: \tdim: 16\n",
      "wandb: \tdropout: 0.2\n",
      "wandb: \theads: 8\n",
      "wandb: \tlr: 3e-06\n",
      "wandb: \tmlp_dim: 256\n",
      "wandb: \tpatch_size: 3748\n"
     ]
    },
    {
     "data": {
      "text/html": [
       "Tracking run with wandb version 0.18.5"
      ],
      "text/plain": [
       "<IPython.core.display.HTML object>"
      ]
     },
     "metadata": {},
     "output_type": "display_data"
    },
    {
     "data": {
      "text/html": [
       "Run data is saved locally in <code>c:\\Users\\jcwin\\OneDrive - University of Southampton\\_Southampton\\2024-25\\Star-Classifier\\wandb\\run-20241029_114221-qawe8en9</code>"
      ],
      "text/plain": [
       "<IPython.core.display.HTML object>"
      ]
     },
     "metadata": {},
     "output_type": "display_data"
    },
    {
     "data": {
      "text/html": [
       "Syncing run <strong><a href='https://wandb.ai/joaoc-university-of-southampton/spectra-classification-vit/runs/qawe8en9' target=\"_blank\">dark-sweep-16</a></strong> to <a href='https://wandb.ai/joaoc-university-of-southampton/spectra-classification-vit' target=\"_blank\">Weights & Biases</a> (<a href='https://wandb.me/run' target=\"_blank\">docs</a>)<br/>Sweep page: <a href='https://wandb.ai/joaoc-university-of-southampton/spectra-classification-vit/sweeps/cdqoepyl' target=\"_blank\">https://wandb.ai/joaoc-university-of-southampton/spectra-classification-vit/sweeps/cdqoepyl</a>"
      ],
      "text/plain": [
       "<IPython.core.display.HTML object>"
      ]
     },
     "metadata": {},
     "output_type": "display_data"
    },
    {
     "data": {
      "text/html": [
       " View project at <a href='https://wandb.ai/joaoc-university-of-southampton/spectra-classification-vit' target=\"_blank\">https://wandb.ai/joaoc-university-of-southampton/spectra-classification-vit</a>"
      ],
      "text/plain": [
       "<IPython.core.display.HTML object>"
      ]
     },
     "metadata": {},
     "output_type": "display_data"
    },
    {
     "data": {
      "text/html": [
       " View sweep at <a href='https://wandb.ai/joaoc-university-of-southampton/spectra-classification-vit/sweeps/cdqoepyl' target=\"_blank\">https://wandb.ai/joaoc-university-of-southampton/spectra-classification-vit/sweeps/cdqoepyl</a>"
      ],
      "text/plain": [
       "<IPython.core.display.HTML object>"
      ]
     },
     "metadata": {},
     "output_type": "display_data"
    },
    {
     "data": {
      "text/html": [
       " View run at <a href='https://wandb.ai/joaoc-university-of-southampton/spectra-classification-vit/runs/qawe8en9' target=\"_blank\">https://wandb.ai/joaoc-university-of-southampton/spectra-classification-vit/runs/qawe8en9</a>"
      ],
      "text/plain": [
       "<IPython.core.display.HTML object>"
      ]
     },
     "metadata": {},
     "output_type": "display_data"
    },
    {
     "data": {
      "text/html": [
       "<style>\n",
       "    table.wandb td:nth-child(1) { padding: 0 10px; text-align: left ; width: auto;} td:nth-child(2) {text-align: left ; width: 100%}\n",
       "    .wandb-row { display: flex; flex-direction: row; flex-wrap: wrap; justify-content: flex-start; width: 100% }\n",
       "    .wandb-col { display: flex; flex-direction: column; flex-basis: 100%; flex: 1; padding: 10px; }\n",
       "    </style>\n",
       "<div class=\"wandb-row\"><div class=\"wandb-col\"><h3>Run history:</h3><br/><table class=\"wandb\"><tr><td>epoch</td><td>▁▁▁▁▂▂▂▂▂▂▃▃▃▄▄▄▄▄▄▅▅▅▅▅▅▆▆▆▆▆▆▆▆▇▇▇▇▇██</td></tr><tr><td>test_accuracy</td><td>▁▁▃▂▃▅▄▄▄▄▄▄▄▄▅▆▆▆▇▆▆▆▇▇▇▇██████████████</td></tr><tr><td>test_loss</td><td>██████▇▆▆▅▅▄▄▄▄▃▃▃▂▂▂▂▂▂▂▂▂▂▂▂▂▁▁▁▁▁▁▁▁▁</td></tr><tr><td>train_accuracy</td><td>▂▂▁▁▁▁▁▂▃▄▅▄▆▅▅▅▆▇▇▆▇▇▇█▆█▇█▇███▇█▇█▇▇▇▇</td></tr><tr><td>train_loss</td><td>██████████▇▆▆▅▅▅▄▄▃▃▃▃▃▂▂▂▂▂▂▂▁▁▁▁▁▁▁▁▁▁</td></tr><tr><td>val_accuracy</td><td>▂▁▁▁▁▃▄▆▆▆▆▆▆▇▇▇▇▇▇█████████████████████</td></tr><tr><td>val_loss</td><td>██████████████▆▆▆▆▅▄▄▃▃▃▃▂▂▂▂▂▂▂▂▁▁▁▁▁▁▁</td></tr></table><br/></div><div class=\"wandb-col\"><h3>Run summary:</h3><br/><table class=\"wandb\"><tr><td>epoch</td><td>299</td></tr><tr><td>test_accuracy</td><td>0.625</td></tr><tr><td>test_loss</td><td>0.70924</td></tr><tr><td>train_accuracy</td><td>0.70443</td></tr><tr><td>train_loss</td><td>0.7393</td></tr><tr><td>val_accuracy</td><td>0.67059</td></tr><tr><td>val_loss</td><td>0.71494</td></tr></table><br/></div></div>"
      ],
      "text/plain": [
       "<IPython.core.display.HTML object>"
      ]
     },
     "metadata": {},
     "output_type": "display_data"
    },
    {
     "data": {
      "text/html": [
       " View run <strong style=\"color:#cdcd00\">dark-sweep-16</strong> at: <a href='https://wandb.ai/joaoc-university-of-southampton/spectra-classification-vit/runs/qawe8en9' target=\"_blank\">https://wandb.ai/joaoc-university-of-southampton/spectra-classification-vit/runs/qawe8en9</a><br/> View project at: <a href='https://wandb.ai/joaoc-university-of-southampton/spectra-classification-vit' target=\"_blank\">https://wandb.ai/joaoc-university-of-southampton/spectra-classification-vit</a><br/>Synced 5 W&B file(s), 0 media file(s), 0 artifact file(s) and 0 other file(s)"
      ],
      "text/plain": [
       "<IPython.core.display.HTML object>"
      ]
     },
     "metadata": {},
     "output_type": "display_data"
    },
    {
     "data": {
      "text/html": [
       "Find logs at: <code>.\\wandb\\run-20241029_114221-qawe8en9\\logs</code>"
      ],
      "text/plain": [
       "<IPython.core.display.HTML object>"
      ]
     },
     "metadata": {},
     "output_type": "display_data"
    },
    {
     "name": "stderr",
     "output_type": "stream",
     "text": [
      "wandb: Agent Starting Run: y58ksjfq with config:\n",
      "wandb: \tdepth: 10\n",
      "wandb: \tdim: 64\n",
      "wandb: \tdropout: 0.4\n",
      "wandb: \theads: 8\n",
      "wandb: \tlr: 3e-06\n",
      "wandb: \tmlp_dim: 128\n",
      "wandb: \tpatch_size: 3748\n"
     ]
    },
    {
     "data": {
      "text/html": [
       "Tracking run with wandb version 0.18.5"
      ],
      "text/plain": [
       "<IPython.core.display.HTML object>"
      ]
     },
     "metadata": {},
     "output_type": "display_data"
    },
    {
     "data": {
      "text/html": [
       "Run data is saved locally in <code>c:\\Users\\jcwin\\OneDrive - University of Southampton\\_Southampton\\2024-25\\Star-Classifier\\wandb\\run-20241029_115116-y58ksjfq</code>"
      ],
      "text/plain": [
       "<IPython.core.display.HTML object>"
      ]
     },
     "metadata": {},
     "output_type": "display_data"
    },
    {
     "data": {
      "text/html": [
       "Syncing run <strong><a href='https://wandb.ai/joaoc-university-of-southampton/spectra-classification-vit/runs/y58ksjfq' target=\"_blank\">vital-sweep-17</a></strong> to <a href='https://wandb.ai/joaoc-university-of-southampton/spectra-classification-vit' target=\"_blank\">Weights & Biases</a> (<a href='https://wandb.me/run' target=\"_blank\">docs</a>)<br/>Sweep page: <a href='https://wandb.ai/joaoc-university-of-southampton/spectra-classification-vit/sweeps/cdqoepyl' target=\"_blank\">https://wandb.ai/joaoc-university-of-southampton/spectra-classification-vit/sweeps/cdqoepyl</a>"
      ],
      "text/plain": [
       "<IPython.core.display.HTML object>"
      ]
     },
     "metadata": {},
     "output_type": "display_data"
    },
    {
     "data": {
      "text/html": [
       " View project at <a href='https://wandb.ai/joaoc-university-of-southampton/spectra-classification-vit' target=\"_blank\">https://wandb.ai/joaoc-university-of-southampton/spectra-classification-vit</a>"
      ],
      "text/plain": [
       "<IPython.core.display.HTML object>"
      ]
     },
     "metadata": {},
     "output_type": "display_data"
    },
    {
     "data": {
      "text/html": [
       " View sweep at <a href='https://wandb.ai/joaoc-university-of-southampton/spectra-classification-vit/sweeps/cdqoepyl' target=\"_blank\">https://wandb.ai/joaoc-university-of-southampton/spectra-classification-vit/sweeps/cdqoepyl</a>"
      ],
      "text/plain": [
       "<IPython.core.display.HTML object>"
      ]
     },
     "metadata": {},
     "output_type": "display_data"
    },
    {
     "data": {
      "text/html": [
       " View run at <a href='https://wandb.ai/joaoc-university-of-southampton/spectra-classification-vit/runs/y58ksjfq' target=\"_blank\">https://wandb.ai/joaoc-university-of-southampton/spectra-classification-vit/runs/y58ksjfq</a>"
      ],
      "text/plain": [
       "<IPython.core.display.HTML object>"
      ]
     },
     "metadata": {},
     "output_type": "display_data"
    },
    {
     "data": {
      "text/html": [
       "<style>\n",
       "    table.wandb td:nth-child(1) { padding: 0 10px; text-align: left ; width: auto;} td:nth-child(2) {text-align: left ; width: 100%}\n",
       "    .wandb-row { display: flex; flex-direction: row; flex-wrap: wrap; justify-content: flex-start; width: 100% }\n",
       "    .wandb-col { display: flex; flex-direction: column; flex-basis: 100%; flex: 1; padding: 10px; }\n",
       "    </style>\n",
       "<div class=\"wandb-row\"><div class=\"wandb-col\"><h3>Run history:</h3><br/><table class=\"wandb\"><tr><td>epoch</td><td>▁▁▁▂▂▂▂▃▃▃▃▃▃▄▄▄▅▅▅▅▅▅▆▆▆▆▆▆▆▆▇▇▇▇▇▇▇███</td></tr><tr><td>test_accuracy</td><td>▁▃▃▃▄▆▆▇▆▆▆▆▇▆▆▇▇▇▇▇▇▆▆▆▇█▇▇▇▇▆▆▇▆▆▆▆▆▆▅</td></tr><tr><td>test_loss</td><td>█▆▆▆▅▄▃▃▃▂▂▂▂▂▂▂▁▁▁▁▁▁▁▁▁▁▁▁▁▁▁▁▁▁▁▁▁▁▁▁</td></tr><tr><td>train_accuracy</td><td>▁▁▄▄▆▇▆▆▆▆▆▇▇▆▆▆▆▇▇▆▇▇▇▇▆▆▆▇▇▇▇█▇▇▇▇▇█▇▇</td></tr><tr><td>train_loss</td><td>█▄▄▄▄▃▃▃▃▃▂▂▂▂▂▂▂▂▂▂▂▂▂▁▁▁▁▁▁▁▁▁▁▁▁▁▁▁▁▁</td></tr><tr><td>val_accuracy</td><td>▁▁▂▂▂▅▆▆▆▅▆▇█▇▇▇▇▇▇▇▇███▇████▇█▇▇███████</td></tr><tr><td>val_loss</td><td>█▇▆▅▄▄▃▃▃▃▂▂▂▂▂▂▁▁▁▁▁▁▁▁▁▁▁▁▁▁▁▁▁▁▁▁▁▁▁▁</td></tr></table><br/></div><div class=\"wandb-col\"><h3>Run summary:</h3><br/><table class=\"wandb\"><tr><td>epoch</td><td>299</td></tr><tr><td>test_accuracy</td><td>0.55</td></tr><tr><td>test_loss</td><td>0.58022</td></tr><tr><td>train_accuracy</td><td>0.70443</td></tr><tr><td>train_loss</td><td>0.58836</td></tr><tr><td>val_accuracy</td><td>0.70196</td></tr><tr><td>val_loss</td><td>0.6167</td></tr></table><br/></div></div>"
      ],
      "text/plain": [
       "<IPython.core.display.HTML object>"
      ]
     },
     "metadata": {},
     "output_type": "display_data"
    },
    {
     "data": {
      "text/html": [
       " View run <strong style=\"color:#cdcd00\">vital-sweep-17</strong> at: <a href='https://wandb.ai/joaoc-university-of-southampton/spectra-classification-vit/runs/y58ksjfq' target=\"_blank\">https://wandb.ai/joaoc-university-of-southampton/spectra-classification-vit/runs/y58ksjfq</a><br/> View project at: <a href='https://wandb.ai/joaoc-university-of-southampton/spectra-classification-vit' target=\"_blank\">https://wandb.ai/joaoc-university-of-southampton/spectra-classification-vit</a><br/>Synced 5 W&B file(s), 0 media file(s), 0 artifact file(s) and 0 other file(s)"
      ],
      "text/plain": [
       "<IPython.core.display.HTML object>"
      ]
     },
     "metadata": {},
     "output_type": "display_data"
    },
    {
     "data": {
      "text/html": [
       "Find logs at: <code>.\\wandb\\run-20241029_115116-y58ksjfq\\logs</code>"
      ],
      "text/plain": [
       "<IPython.core.display.HTML object>"
      ]
     },
     "metadata": {},
     "output_type": "display_data"
    },
    {
     "name": "stderr",
     "output_type": "stream",
     "text": [
      "wandb: Sweep Agent: Waiting for job.\n",
      "wandb: Job received.\n",
      "wandb: Agent Starting Run: jtjdco2a with config:\n",
      "wandb: \tdepth: 10\n",
      "wandb: \tdim: 512\n",
      "wandb: \tdropout: 0.4\n",
      "wandb: \theads: 2\n",
      "wandb: \tlr: 3e-07\n",
      "wandb: \tmlp_dim: 256\n",
      "wandb: \tpatch_size: 3748\n"
     ]
    },
    {
     "data": {
      "text/html": [
       "Tracking run with wandb version 0.18.5"
      ],
      "text/plain": [
       "<IPython.core.display.HTML object>"
      ]
     },
     "metadata": {},
     "output_type": "display_data"
    },
    {
     "data": {
      "text/html": [
       "Run data is saved locally in <code>c:\\Users\\jcwin\\OneDrive - University of Southampton\\_Southampton\\2024-25\\Star-Classifier\\wandb\\run-20241029_115550-jtjdco2a</code>"
      ],
      "text/plain": [
       "<IPython.core.display.HTML object>"
      ]
     },
     "metadata": {},
     "output_type": "display_data"
    },
    {
     "data": {
      "text/html": [
       "Syncing run <strong><a href='https://wandb.ai/joaoc-university-of-southampton/spectra-classification-vit/runs/jtjdco2a' target=\"_blank\">iconic-sweep-18</a></strong> to <a href='https://wandb.ai/joaoc-university-of-southampton/spectra-classification-vit' target=\"_blank\">Weights & Biases</a> (<a href='https://wandb.me/run' target=\"_blank\">docs</a>)<br/>Sweep page: <a href='https://wandb.ai/joaoc-university-of-southampton/spectra-classification-vit/sweeps/cdqoepyl' target=\"_blank\">https://wandb.ai/joaoc-university-of-southampton/spectra-classification-vit/sweeps/cdqoepyl</a>"
      ],
      "text/plain": [
       "<IPython.core.display.HTML object>"
      ]
     },
     "metadata": {},
     "output_type": "display_data"
    },
    {
     "data": {
      "text/html": [
       " View project at <a href='https://wandb.ai/joaoc-university-of-southampton/spectra-classification-vit' target=\"_blank\">https://wandb.ai/joaoc-university-of-southampton/spectra-classification-vit</a>"
      ],
      "text/plain": [
       "<IPython.core.display.HTML object>"
      ]
     },
     "metadata": {},
     "output_type": "display_data"
    },
    {
     "data": {
      "text/html": [
       " View sweep at <a href='https://wandb.ai/joaoc-university-of-southampton/spectra-classification-vit/sweeps/cdqoepyl' target=\"_blank\">https://wandb.ai/joaoc-university-of-southampton/spectra-classification-vit/sweeps/cdqoepyl</a>"
      ],
      "text/plain": [
       "<IPython.core.display.HTML object>"
      ]
     },
     "metadata": {},
     "output_type": "display_data"
    },
    {
     "data": {
      "text/html": [
       " View run at <a href='https://wandb.ai/joaoc-university-of-southampton/spectra-classification-vit/runs/jtjdco2a' target=\"_blank\">https://wandb.ai/joaoc-university-of-southampton/spectra-classification-vit/runs/jtjdco2a</a>"
      ],
      "text/plain": [
       "<IPython.core.display.HTML object>"
      ]
     },
     "metadata": {},
     "output_type": "display_data"
    },
    {
     "data": {
      "text/html": [
       "<style>\n",
       "    table.wandb td:nth-child(1) { padding: 0 10px; text-align: left ; width: auto;} td:nth-child(2) {text-align: left ; width: 100%}\n",
       "    .wandb-row { display: flex; flex-direction: row; flex-wrap: wrap; justify-content: flex-start; width: 100% }\n",
       "    .wandb-col { display: flex; flex-direction: column; flex-basis: 100%; flex: 1; padding: 10px; }\n",
       "    </style>\n",
       "<div class=\"wandb-row\"><div class=\"wandb-col\"><h3>Run history:</h3><br/><table class=\"wandb\"><tr><td>epoch</td><td>▁▁▂▂▂▂▂▂▂▂▃▃▃▃▃▃▄▄▄▄▅▅▅▅▅▅▅▆▆▆▆▆▇▇▇█████</td></tr><tr><td>test_accuracy</td><td>▁▁▃▅▄▃▃▄▄▄▄▄▄▅▅▅▅▅▅▅▆▆▆▆▆▆▆▇▆▇▇▇▇▇▇█▇▇▇▇</td></tr><tr><td>test_loss</td><td>███▇▇▇▆▅▅▄▃▂▂▂▂▂▂▁▁▁▁▁▁▁▁▁▁▁▁▁▁▁▁▁▁▁▁▁▁▁</td></tr><tr><td>train_accuracy</td><td>▁▂▂▃▅▅▆▆▇▆▆▆▆▇▇▇▇▇▆▆▇▇███▇█▇▇▇█▇▇▇█▇█▇█▇</td></tr><tr><td>train_loss</td><td>██▇▇▆▆▆▅▅▅▄▄▄▃▃▃▃▂▂▂▂▂▂▂▂▁▂▁▁▁▁▁▁▁▁▁▁▁▁▁</td></tr><tr><td>val_accuracy</td><td>▁▁▄▅▅▆▆▆▆▆▇▇▇▇▇█████████████████████████</td></tr><tr><td>val_loss</td><td>████▇▆▆▅▅▅▄▄▃▃▃▂▂▂▂▂▂▂▂▁▁▁▁▁▁▁▁▁▁▁▁▁▁▁▁▁</td></tr></table><br/></div><div class=\"wandb-col\"><h3>Run summary:</h3><br/><table class=\"wandb\"><tr><td>epoch</td><td>299</td></tr><tr><td>test_accuracy</td><td>0.65</td></tr><tr><td>test_loss</td><td>0.6248</td></tr><tr><td>train_accuracy</td><td>0.66995</td></tr><tr><td>train_loss</td><td>0.64483</td></tr><tr><td>val_accuracy</td><td>0.67451</td></tr><tr><td>val_loss</td><td>0.63034</td></tr></table><br/></div></div>"
      ],
      "text/plain": [
       "<IPython.core.display.HTML object>"
      ]
     },
     "metadata": {},
     "output_type": "display_data"
    },
    {
     "data": {
      "text/html": [
       " View run <strong style=\"color:#cdcd00\">iconic-sweep-18</strong> at: <a href='https://wandb.ai/joaoc-university-of-southampton/spectra-classification-vit/runs/jtjdco2a' target=\"_blank\">https://wandb.ai/joaoc-university-of-southampton/spectra-classification-vit/runs/jtjdco2a</a><br/> View project at: <a href='https://wandb.ai/joaoc-university-of-southampton/spectra-classification-vit' target=\"_blank\">https://wandb.ai/joaoc-university-of-southampton/spectra-classification-vit</a><br/>Synced 5 W&B file(s), 0 media file(s), 0 artifact file(s) and 0 other file(s)"
      ],
      "text/plain": [
       "<IPython.core.display.HTML object>"
      ]
     },
     "metadata": {},
     "output_type": "display_data"
    },
    {
     "data": {
      "text/html": [
       "Find logs at: <code>.\\wandb\\run-20241029_115550-jtjdco2a\\logs</code>"
      ],
      "text/plain": [
       "<IPython.core.display.HTML object>"
      ]
     },
     "metadata": {},
     "output_type": "display_data"
    },
    {
     "name": "stderr",
     "output_type": "stream",
     "text": [
      "wandb: Agent Starting Run: 52pjybl6 with config:\n",
      "wandb: \tdepth: 20\n",
      "wandb: \tdim: 128\n",
      "wandb: \tdropout: 0.4\n",
      "wandb: \theads: 32\n",
      "wandb: \tlr: 3e-05\n",
      "wandb: \tmlp_dim: 128\n",
      "wandb: \tpatch_size: 3748\n"
     ]
    },
    {
     "data": {
      "text/html": [
       "Tracking run with wandb version 0.18.5"
      ],
      "text/plain": [
       "<IPython.core.display.HTML object>"
      ]
     },
     "metadata": {},
     "output_type": "display_data"
    },
    {
     "data": {
      "text/html": [
       "Run data is saved locally in <code>c:\\Users\\jcwin\\OneDrive - University of Southampton\\_Southampton\\2024-25\\Star-Classifier\\wandb\\run-20241029_120043-52pjybl6</code>"
      ],
      "text/plain": [
       "<IPython.core.display.HTML object>"
      ]
     },
     "metadata": {},
     "output_type": "display_data"
    },
    {
     "data": {
      "text/html": [
       "Syncing run <strong><a href='https://wandb.ai/joaoc-university-of-southampton/spectra-classification-vit/runs/52pjybl6' target=\"_blank\">solar-sweep-19</a></strong> to <a href='https://wandb.ai/joaoc-university-of-southampton/spectra-classification-vit' target=\"_blank\">Weights & Biases</a> (<a href='https://wandb.me/run' target=\"_blank\">docs</a>)<br/>Sweep page: <a href='https://wandb.ai/joaoc-university-of-southampton/spectra-classification-vit/sweeps/cdqoepyl' target=\"_blank\">https://wandb.ai/joaoc-university-of-southampton/spectra-classification-vit/sweeps/cdqoepyl</a>"
      ],
      "text/plain": [
       "<IPython.core.display.HTML object>"
      ]
     },
     "metadata": {},
     "output_type": "display_data"
    },
    {
     "data": {
      "text/html": [
       " View project at <a href='https://wandb.ai/joaoc-university-of-southampton/spectra-classification-vit' target=\"_blank\">https://wandb.ai/joaoc-university-of-southampton/spectra-classification-vit</a>"
      ],
      "text/plain": [
       "<IPython.core.display.HTML object>"
      ]
     },
     "metadata": {},
     "output_type": "display_data"
    },
    {
     "data": {
      "text/html": [
       " View sweep at <a href='https://wandb.ai/joaoc-university-of-southampton/spectra-classification-vit/sweeps/cdqoepyl' target=\"_blank\">https://wandb.ai/joaoc-university-of-southampton/spectra-classification-vit/sweeps/cdqoepyl</a>"
      ],
      "text/plain": [
       "<IPython.core.display.HTML object>"
      ]
     },
     "metadata": {},
     "output_type": "display_data"
    },
    {
     "data": {
      "text/html": [
       " View run at <a href='https://wandb.ai/joaoc-university-of-southampton/spectra-classification-vit/runs/52pjybl6' target=\"_blank\">https://wandb.ai/joaoc-university-of-southampton/spectra-classification-vit/runs/52pjybl6</a>"
      ],
      "text/plain": [
       "<IPython.core.display.HTML object>"
      ]
     },
     "metadata": {},
     "output_type": "display_data"
    },
    {
     "name": "stdout",
     "output_type": "stream",
     "text": [
      "Early stopping triggered.\n"
     ]
    },
    {
     "data": {
      "text/html": [
       "<style>\n",
       "    table.wandb td:nth-child(1) { padding: 0 10px; text-align: left ; width: auto;} td:nth-child(2) {text-align: left ; width: 100%}\n",
       "    .wandb-row { display: flex; flex-direction: row; flex-wrap: wrap; justify-content: flex-start; width: 100% }\n",
       "    .wandb-col { display: flex; flex-direction: column; flex-basis: 100%; flex: 1; padding: 10px; }\n",
       "    </style>\n",
       "<div class=\"wandb-row\"><div class=\"wandb-col\"><h3>Run history:</h3><br/><table class=\"wandb\"><tr><td>epoch</td><td>▁▁▁▁▂▂▂▂▂▃▃▃▃▃▃▄▄▄▄▄▄▄▅▅▅▅▆▆▆▆▆▆▇▇▇▇████</td></tr><tr><td>test_accuracy</td><td>▁▁▁▃▄▅▅▇▅▆▇▆▆▇▆█▆▅▅▆▆▇▆▆▇▆▆▆▆█▇▆█▆▇▇▇▇▇█</td></tr><tr><td>test_loss</td><td>█████▃▂▂▂▂▁▁▁▁▁▁▁▁▁▁▁▁▁▁▁▁▁▁▁▁▁▁▁▁▁▁▁▁▁▁</td></tr><tr><td>train_accuracy</td><td>▁▂▁▅▅▇▆▆▆▇▇▆▇▇▇▆▆▇▇▇▇██▇▇█▇▇▇█▇█▇▇▇█▇██▇</td></tr><tr><td>train_loss</td><td>████▇▅▄▂▂▂▂▂▂▂▂▂▂▂▂▂▂▁▁▂▁▁▁▁▁▁▁▁▁▁▁▁▁▁▁▁</td></tr><tr><td>val_accuracy</td><td>▂▁▃▄█▇██████▇███████████████████████████</td></tr><tr><td>val_loss</td><td>████▆▂▂▁▁▁▁▁▁▁▁▁▁▁▁▁▁▁▁▁▁▁▁▁▁▁▁▁▁▁▁▁▂▂▁▂</td></tr></table><br/></div><div class=\"wandb-col\"><h3>Run summary:</h3><br/><table class=\"wandb\"><tr><td>epoch</td><td>79</td></tr><tr><td>test_accuracy</td><td>0.6</td></tr><tr><td>test_loss</td><td>0.61599</td></tr><tr><td>train_accuracy</td><td>0.75369</td></tr><tr><td>train_loss</td><td>0.52937</td></tr><tr><td>val_accuracy</td><td>0.70588</td></tr><tr><td>val_loss</td><td>0.66924</td></tr></table><br/></div></div>"
      ],
      "text/plain": [
       "<IPython.core.display.HTML object>"
      ]
     },
     "metadata": {},
     "output_type": "display_data"
    },
    {
     "data": {
      "text/html": [
       " View run <strong style=\"color:#cdcd00\">solar-sweep-19</strong> at: <a href='https://wandb.ai/joaoc-university-of-southampton/spectra-classification-vit/runs/52pjybl6' target=\"_blank\">https://wandb.ai/joaoc-university-of-southampton/spectra-classification-vit/runs/52pjybl6</a><br/> View project at: <a href='https://wandb.ai/joaoc-university-of-southampton/spectra-classification-vit' target=\"_blank\">https://wandb.ai/joaoc-university-of-southampton/spectra-classification-vit</a><br/>Synced 5 W&B file(s), 0 media file(s), 0 artifact file(s) and 0 other file(s)"
      ],
      "text/plain": [
       "<IPython.core.display.HTML object>"
      ]
     },
     "metadata": {},
     "output_type": "display_data"
    },
    {
     "data": {
      "text/html": [
       "Find logs at: <code>.\\wandb\\run-20241029_120043-52pjybl6\\logs</code>"
      ],
      "text/plain": [
       "<IPython.core.display.HTML object>"
      ]
     },
     "metadata": {},
     "output_type": "display_data"
    },
    {
     "name": "stderr",
     "output_type": "stream",
     "text": [
      "wandb: Agent Starting Run: r2tkzbso with config:\n",
      "wandb: \tdepth: 20\n",
      "wandb: \tdim: 16\n",
      "wandb: \tdropout: 0.1\n",
      "wandb: \theads: 8\n",
      "wandb: \tlr: 3e-06\n",
      "wandb: \tmlp_dim: 256\n",
      "wandb: \tpatch_size: 3748\n"
     ]
    },
    {
     "data": {
      "text/html": [
       "Tracking run with wandb version 0.18.5"
      ],
      "text/plain": [
       "<IPython.core.display.HTML object>"
      ]
     },
     "metadata": {},
     "output_type": "display_data"
    },
    {
     "data": {
      "text/html": [
       "Run data is saved locally in <code>c:\\Users\\jcwin\\OneDrive - University of Southampton\\_Southampton\\2024-25\\Star-Classifier\\wandb\\run-20241029_120246-r2tkzbso</code>"
      ],
      "text/plain": [
       "<IPython.core.display.HTML object>"
      ]
     },
     "metadata": {},
     "output_type": "display_data"
    },
    {
     "data": {
      "text/html": [
       "Syncing run <strong><a href='https://wandb.ai/joaoc-university-of-southampton/spectra-classification-vit/runs/r2tkzbso' target=\"_blank\">youthful-sweep-20</a></strong> to <a href='https://wandb.ai/joaoc-university-of-southampton/spectra-classification-vit' target=\"_blank\">Weights & Biases</a> (<a href='https://wandb.me/run' target=\"_blank\">docs</a>)<br/>Sweep page: <a href='https://wandb.ai/joaoc-university-of-southampton/spectra-classification-vit/sweeps/cdqoepyl' target=\"_blank\">https://wandb.ai/joaoc-university-of-southampton/spectra-classification-vit/sweeps/cdqoepyl</a>"
      ],
      "text/plain": [
       "<IPython.core.display.HTML object>"
      ]
     },
     "metadata": {},
     "output_type": "display_data"
    },
    {
     "data": {
      "text/html": [
       " View project at <a href='https://wandb.ai/joaoc-university-of-southampton/spectra-classification-vit' target=\"_blank\">https://wandb.ai/joaoc-university-of-southampton/spectra-classification-vit</a>"
      ],
      "text/plain": [
       "<IPython.core.display.HTML object>"
      ]
     },
     "metadata": {},
     "output_type": "display_data"
    },
    {
     "data": {
      "text/html": [
       " View sweep at <a href='https://wandb.ai/joaoc-university-of-southampton/spectra-classification-vit/sweeps/cdqoepyl' target=\"_blank\">https://wandb.ai/joaoc-university-of-southampton/spectra-classification-vit/sweeps/cdqoepyl</a>"
      ],
      "text/plain": [
       "<IPython.core.display.HTML object>"
      ]
     },
     "metadata": {},
     "output_type": "display_data"
    },
    {
     "data": {
      "text/html": [
       " View run at <a href='https://wandb.ai/joaoc-university-of-southampton/spectra-classification-vit/runs/r2tkzbso' target=\"_blank\">https://wandb.ai/joaoc-university-of-southampton/spectra-classification-vit/runs/r2tkzbso</a>"
      ],
      "text/plain": [
       "<IPython.core.display.HTML object>"
      ]
     },
     "metadata": {},
     "output_type": "display_data"
    },
    {
     "data": {
      "text/html": [
       "<style>\n",
       "    table.wandb td:nth-child(1) { padding: 0 10px; text-align: left ; width: auto;} td:nth-child(2) {text-align: left ; width: 100%}\n",
       "    .wandb-row { display: flex; flex-direction: row; flex-wrap: wrap; justify-content: flex-start; width: 100% }\n",
       "    .wandb-col { display: flex; flex-direction: column; flex-basis: 100%; flex: 1; padding: 10px; }\n",
       "    </style>\n",
       "<div class=\"wandb-row\"><div class=\"wandb-col\"><h3>Run history:</h3><br/><table class=\"wandb\"><tr><td>epoch</td><td>▁▁▁▁▁▂▂▂▂▂▂▂▂▃▃▃▃▄▄▄▄▄▄▄▅▆▆▆▆▆▆▇▇▇▇▇▇▇▇█</td></tr><tr><td>test_accuracy</td><td>▁▂▃▄▃▅▅▄▄▄▅▅▅▅▅▅▆▆▇▆▇▇█▇▇████████▇██████</td></tr><tr><td>test_loss</td><td>█▇▇▇▆▅▅▄▃▃▃▃▃▂▂▂▂▂▂▂▂▂▂▂▂▂▂▂▂▁▁▁▁▁▁▁▁▁▁▁</td></tr><tr><td>train_accuracy</td><td>▁▁▂▄▆▅▅▆▆▆▅▇▆▇▆█▇▇▆▇▆█▇▇▆▇▇██▇▇▇▇█▇█▇▇▇▇</td></tr><tr><td>train_loss</td><td>█▇▇▇▆▅▅▅▄▄▄▃▂▂▂▂▂▂▂▂▂▂▂▂▂▁▁▁▁▁▁▁▁▁▁▁▁▁▁▁</td></tr><tr><td>val_accuracy</td><td>▁▁▁▅▅▆▆▆▆▆▇▇▇▇█▇████████████████████████</td></tr><tr><td>val_loss</td><td>█▇▇▆▆▅▄▄▄▄▃▃▃▃▂▂▂▂▂▂▂▁▂▁▁▁▁▁▁▁▁▁▁▁▁▁▁▁▁▁</td></tr></table><br/></div><div class=\"wandb-col\"><h3>Run summary:</h3><br/><table class=\"wandb\"><tr><td>epoch</td><td>299</td></tr><tr><td>test_accuracy</td><td>0.675</td></tr><tr><td>test_loss</td><td>0.66123</td></tr><tr><td>train_accuracy</td><td>0.6798</td></tr><tr><td>train_loss</td><td>0.68189</td></tr><tr><td>val_accuracy</td><td>0.68235</td></tr><tr><td>val_loss</td><td>0.68292</td></tr></table><br/></div></div>"
      ],
      "text/plain": [
       "<IPython.core.display.HTML object>"
      ]
     },
     "metadata": {},
     "output_type": "display_data"
    },
    {
     "data": {
      "text/html": [
       " View run <strong style=\"color:#cdcd00\">youthful-sweep-20</strong> at: <a href='https://wandb.ai/joaoc-university-of-southampton/spectra-classification-vit/runs/r2tkzbso' target=\"_blank\">https://wandb.ai/joaoc-university-of-southampton/spectra-classification-vit/runs/r2tkzbso</a><br/> View project at: <a href='https://wandb.ai/joaoc-university-of-southampton/spectra-classification-vit' target=\"_blank\">https://wandb.ai/joaoc-university-of-southampton/spectra-classification-vit</a><br/>Synced 5 W&B file(s), 0 media file(s), 0 artifact file(s) and 0 other file(s)"
      ],
      "text/plain": [
       "<IPython.core.display.HTML object>"
      ]
     },
     "metadata": {},
     "output_type": "display_data"
    },
    {
     "data": {
      "text/html": [
       "Find logs at: <code>.\\wandb\\run-20241029_120246-r2tkzbso\\logs</code>"
      ],
      "text/plain": [
       "<IPython.core.display.HTML object>"
      ]
     },
     "metadata": {},
     "output_type": "display_data"
    },
    {
     "name": "stderr",
     "output_type": "stream",
     "text": [
      "wandb: Agent Starting Run: wgljwaja with config:\n",
      "wandb: \tdepth: 20\n",
      "wandb: \tdim: 512\n",
      "wandb: \tdropout: 0.3\n",
      "wandb: \theads: 8\n",
      "wandb: \tlr: 3e-07\n",
      "wandb: \tmlp_dim: 128\n",
      "wandb: \tpatch_size: 3748\n"
     ]
    },
    {
     "data": {
      "text/html": [
       "Tracking run with wandb version 0.18.5"
      ],
      "text/plain": [
       "<IPython.core.display.HTML object>"
      ]
     },
     "metadata": {},
     "output_type": "display_data"
    },
    {
     "data": {
      "text/html": [
       "Run data is saved locally in <code>c:\\Users\\jcwin\\OneDrive - University of Southampton\\_Southampton\\2024-25\\Star-Classifier\\wandb\\run-20241029_121131-wgljwaja</code>"
      ],
      "text/plain": [
       "<IPython.core.display.HTML object>"
      ]
     },
     "metadata": {},
     "output_type": "display_data"
    },
    {
     "data": {
      "text/html": [
       "Syncing run <strong><a href='https://wandb.ai/joaoc-university-of-southampton/spectra-classification-vit/runs/wgljwaja' target=\"_blank\">tough-sweep-21</a></strong> to <a href='https://wandb.ai/joaoc-university-of-southampton/spectra-classification-vit' target=\"_blank\">Weights & Biases</a> (<a href='https://wandb.me/run' target=\"_blank\">docs</a>)<br/>Sweep page: <a href='https://wandb.ai/joaoc-university-of-southampton/spectra-classification-vit/sweeps/cdqoepyl' target=\"_blank\">https://wandb.ai/joaoc-university-of-southampton/spectra-classification-vit/sweeps/cdqoepyl</a>"
      ],
      "text/plain": [
       "<IPython.core.display.HTML object>"
      ]
     },
     "metadata": {},
     "output_type": "display_data"
    },
    {
     "data": {
      "text/html": [
       " View project at <a href='https://wandb.ai/joaoc-university-of-southampton/spectra-classification-vit' target=\"_blank\">https://wandb.ai/joaoc-university-of-southampton/spectra-classification-vit</a>"
      ],
      "text/plain": [
       "<IPython.core.display.HTML object>"
      ]
     },
     "metadata": {},
     "output_type": "display_data"
    },
    {
     "data": {
      "text/html": [
       " View sweep at <a href='https://wandb.ai/joaoc-university-of-southampton/spectra-classification-vit/sweeps/cdqoepyl' target=\"_blank\">https://wandb.ai/joaoc-university-of-southampton/spectra-classification-vit/sweeps/cdqoepyl</a>"
      ],
      "text/plain": [
       "<IPython.core.display.HTML object>"
      ]
     },
     "metadata": {},
     "output_type": "display_data"
    },
    {
     "data": {
      "text/html": [
       " View run at <a href='https://wandb.ai/joaoc-university-of-southampton/spectra-classification-vit/runs/wgljwaja' target=\"_blank\">https://wandb.ai/joaoc-university-of-southampton/spectra-classification-vit/runs/wgljwaja</a>"
      ],
      "text/plain": [
       "<IPython.core.display.HTML object>"
      ]
     },
     "metadata": {},
     "output_type": "display_data"
    },
    {
     "name": "stdout",
     "output_type": "stream",
     "text": [
      "Early stopping triggered.\n"
     ]
    },
    {
     "data": {
      "text/html": [
       "<style>\n",
       "    table.wandb td:nth-child(1) { padding: 0 10px; text-align: left ; width: auto;} td:nth-child(2) {text-align: left ; width: 100%}\n",
       "    .wandb-row { display: flex; flex-direction: row; flex-wrap: wrap; justify-content: flex-start; width: 100% }\n",
       "    .wandb-col { display: flex; flex-direction: column; flex-basis: 100%; flex: 1; padding: 10px; }\n",
       "    </style>\n",
       "<div class=\"wandb-row\"><div class=\"wandb-col\"><h3>Run history:</h3><br/><table class=\"wandb\"><tr><td>epoch</td><td>▁▁▁▂▂▂▂▂▃▃▃▃▃▄▄▄▄▅▅▅▅▅▆▆▆▆▆▇▇▇▇▇███</td></tr><tr><td>test_accuracy</td><td>▁▁▁████████████████████████████████</td></tr><tr><td>test_loss</td><td>█▄▂▁▁▁▁▁▁▁▁▁▁▁▁▁▁▁▁▁▁▁▁▁▁▁▁▁▁▁▁▁▁▁▁</td></tr><tr><td>train_accuracy</td><td>▁▃▅▄▃▄▄▄▄▅▂▃▃▅▂▅▂█▄▄▃▃▄▅█▅▃▃▄▄▄▃▃▅▃</td></tr><tr><td>train_loss</td><td>█▅▃▂▁▁▁▁▁▁▁▁▁▁▁▁▁▁▁▁▁▁▁▁▁▁▁▁▁▁▁▁▁▁▁</td></tr><tr><td>val_accuracy</td><td>▁▁▄▄▄▄▄▄▄▄█▇▄▄▄▄▄▄▄▄▄▅▄▄▄▄▄▄▄▄▄▄▄▄▄</td></tr><tr><td>val_loss</td><td>█▄▂▁▁▁▁▁▁▁▁▁▁▁▁▁▁▁▁▁▁▁▁▁▁▁▁▁▁▁▁▁▁▁▁</td></tr></table><br/></div><div class=\"wandb-col\"><h3>Run summary:</h3><br/><table class=\"wandb\"><tr><td>epoch</td><td>34</td></tr><tr><td>test_accuracy</td><td>0.275</td></tr><tr><td>test_loss</td><td>1.38764</td></tr><tr><td>train_accuracy</td><td>0.24631</td></tr><tr><td>train_loss</td><td>1.39746</td></tr><tr><td>val_accuracy</td><td>0.25882</td></tr><tr><td>val_loss</td><td>1.38148</td></tr></table><br/></div></div>"
      ],
      "text/plain": [
       "<IPython.core.display.HTML object>"
      ]
     },
     "metadata": {},
     "output_type": "display_data"
    },
    {
     "data": {
      "text/html": [
       " View run <strong style=\"color:#cdcd00\">tough-sweep-21</strong> at: <a href='https://wandb.ai/joaoc-university-of-southampton/spectra-classification-vit/runs/wgljwaja' target=\"_blank\">https://wandb.ai/joaoc-university-of-southampton/spectra-classification-vit/runs/wgljwaja</a><br/> View project at: <a href='https://wandb.ai/joaoc-university-of-southampton/spectra-classification-vit' target=\"_blank\">https://wandb.ai/joaoc-university-of-southampton/spectra-classification-vit</a><br/>Synced 5 W&B file(s), 0 media file(s), 0 artifact file(s) and 0 other file(s)"
      ],
      "text/plain": [
       "<IPython.core.display.HTML object>"
      ]
     },
     "metadata": {},
     "output_type": "display_data"
    },
    {
     "data": {
      "text/html": [
       "Find logs at: <code>.\\wandb\\run-20241029_121131-wgljwaja\\logs</code>"
      ],
      "text/plain": [
       "<IPython.core.display.HTML object>"
      ]
     },
     "metadata": {},
     "output_type": "display_data"
    },
    {
     "name": "stderr",
     "output_type": "stream",
     "text": [
      "wandb: Agent Starting Run: ebdqj2fp with config:\n",
      "wandb: \tdepth: 20\n",
      "wandb: \tdim: 512\n",
      "wandb: \tdropout: 0.2\n",
      "wandb: \theads: 2\n",
      "wandb: \tlr: 3e-06\n",
      "wandb: \tmlp_dim: 128\n",
      "wandb: \tpatch_size: 3748\n"
     ]
    },
    {
     "data": {
      "text/html": [
       "Tracking run with wandb version 0.18.5"
      ],
      "text/plain": [
       "<IPython.core.display.HTML object>"
      ]
     },
     "metadata": {},
     "output_type": "display_data"
    },
    {
     "data": {
      "text/html": [
       "Run data is saved locally in <code>c:\\Users\\jcwin\\OneDrive - University of Southampton\\_Southampton\\2024-25\\Star-Classifier\\wandb\\run-20241029_121233-ebdqj2fp</code>"
      ],
      "text/plain": [
       "<IPython.core.display.HTML object>"
      ]
     },
     "metadata": {},
     "output_type": "display_data"
    },
    {
     "data": {
      "text/html": [
       "Syncing run <strong><a href='https://wandb.ai/joaoc-university-of-southampton/spectra-classification-vit/runs/ebdqj2fp' target=\"_blank\">drawn-sweep-22</a></strong> to <a href='https://wandb.ai/joaoc-university-of-southampton/spectra-classification-vit' target=\"_blank\">Weights & Biases</a> (<a href='https://wandb.me/run' target=\"_blank\">docs</a>)<br/>Sweep page: <a href='https://wandb.ai/joaoc-university-of-southampton/spectra-classification-vit/sweeps/cdqoepyl' target=\"_blank\">https://wandb.ai/joaoc-university-of-southampton/spectra-classification-vit/sweeps/cdqoepyl</a>"
      ],
      "text/plain": [
       "<IPython.core.display.HTML object>"
      ]
     },
     "metadata": {},
     "output_type": "display_data"
    },
    {
     "data": {
      "text/html": [
       " View project at <a href='https://wandb.ai/joaoc-university-of-southampton/spectra-classification-vit' target=\"_blank\">https://wandb.ai/joaoc-university-of-southampton/spectra-classification-vit</a>"
      ],
      "text/plain": [
       "<IPython.core.display.HTML object>"
      ]
     },
     "metadata": {},
     "output_type": "display_data"
    },
    {
     "data": {
      "text/html": [
       " View sweep at <a href='https://wandb.ai/joaoc-university-of-southampton/spectra-classification-vit/sweeps/cdqoepyl' target=\"_blank\">https://wandb.ai/joaoc-university-of-southampton/spectra-classification-vit/sweeps/cdqoepyl</a>"
      ],
      "text/plain": [
       "<IPython.core.display.HTML object>"
      ]
     },
     "metadata": {},
     "output_type": "display_data"
    },
    {
     "data": {
      "text/html": [
       " View run at <a href='https://wandb.ai/joaoc-university-of-southampton/spectra-classification-vit/runs/ebdqj2fp' target=\"_blank\">https://wandb.ai/joaoc-university-of-southampton/spectra-classification-vit/runs/ebdqj2fp</a>"
      ],
      "text/plain": [
       "<IPython.core.display.HTML object>"
      ]
     },
     "metadata": {},
     "output_type": "display_data"
    },
    {
     "name": "stdout",
     "output_type": "stream",
     "text": [
      "Early stopping triggered.\n"
     ]
    },
    {
     "data": {
      "text/html": [
       "<style>\n",
       "    table.wandb td:nth-child(1) { padding: 0 10px; text-align: left ; width: auto;} td:nth-child(2) {text-align: left ; width: 100%}\n",
       "    .wandb-row { display: flex; flex-direction: row; flex-wrap: wrap; justify-content: flex-start; width: 100% }\n",
       "    .wandb-col { display: flex; flex-direction: column; flex-basis: 100%; flex: 1; padding: 10px; }\n",
       "    </style>\n",
       "<div class=\"wandb-row\"><div class=\"wandb-col\"><h3>Run history:</h3><br/><table class=\"wandb\"><tr><td>epoch</td><td>▁▁▁▁▁▂▂▂▃▃▃▄▄▄▄▄▄▄▅▅▅▅▅▅▅▅▆▆▆▆▆▆▇▇▇▇▇▇██</td></tr><tr><td>test_accuracy</td><td>▁▂▃▅▄▄▅▅▆▇▆▇█▇▇▇█▇▇▇▆█▇▆▇▇███▇▇▇██▆█▇▇▇▇</td></tr><tr><td>test_loss</td><td>███▇▇▄▃▃▂▂▂▁▁▁▁▁▁▁▁▁▁▁▁▁▁▁▁▁▁▁▁▁▁▁▁▁▁▁▁▁</td></tr><tr><td>train_accuracy</td><td>▁▂▁▄▅▆▆▇▇▇▇▇▇█▆▇▇▇▇▇█▆▇█▇▇███▇▇▇▇▇█▇█▇▇█</td></tr><tr><td>train_loss</td><td>█████▇▃▃▃▂▂▂▂▂▁▂▂▂▁▁▁▁▁▁▁▁▁▁▁▁▁▁▁▁▁▁▁▁▁▁</td></tr><tr><td>val_accuracy</td><td>▁▃▁▂▄▆▆▇▇███████████████████████████████</td></tr><tr><td>val_loss</td><td>████▆▄▃▂▂▂▁▁▁▁▁▁▁▁▁▁▁▁▁▁▁▁▁▁▁▁▁▁▁▁▁▁▁▁▁▁</td></tr></table><br/></div><div class=\"wandb-col\"><h3>Run summary:</h3><br/><table class=\"wandb\"><tr><td>epoch</td><td>131</td></tr><tr><td>test_accuracy</td><td>0.675</td></tr><tr><td>test_loss</td><td>0.61</td></tr><tr><td>train_accuracy</td><td>0.76355</td></tr><tr><td>train_loss</td><td>0.55212</td></tr><tr><td>val_accuracy</td><td>0.71373</td></tr><tr><td>val_loss</td><td>0.65381</td></tr></table><br/></div></div>"
      ],
      "text/plain": [
       "<IPython.core.display.HTML object>"
      ]
     },
     "metadata": {},
     "output_type": "display_data"
    },
    {
     "data": {
      "text/html": [
       " View run <strong style=\"color:#cdcd00\">drawn-sweep-22</strong> at: <a href='https://wandb.ai/joaoc-university-of-southampton/spectra-classification-vit/runs/ebdqj2fp' target=\"_blank\">https://wandb.ai/joaoc-university-of-southampton/spectra-classification-vit/runs/ebdqj2fp</a><br/> View project at: <a href='https://wandb.ai/joaoc-university-of-southampton/spectra-classification-vit' target=\"_blank\">https://wandb.ai/joaoc-university-of-southampton/spectra-classification-vit</a><br/>Synced 5 W&B file(s), 0 media file(s), 0 artifact file(s) and 0 other file(s)"
      ],
      "text/plain": [
       "<IPython.core.display.HTML object>"
      ]
     },
     "metadata": {},
     "output_type": "display_data"
    },
    {
     "data": {
      "text/html": [
       "Find logs at: <code>.\\wandb\\run-20241029_121233-ebdqj2fp\\logs</code>"
      ],
      "text/plain": [
       "<IPython.core.display.HTML object>"
      ]
     },
     "metadata": {},
     "output_type": "display_data"
    },
    {
     "name": "stderr",
     "output_type": "stream",
     "text": [
      "wandb: Agent Starting Run: 3r1lgqpl with config:\n",
      "wandb: \tdepth: 20\n",
      "wandb: \tdim: 64\n",
      "wandb: \tdropout: 0.3\n",
      "wandb: \theads: 8\n",
      "wandb: \tlr: 3e-07\n",
      "wandb: \tmlp_dim: 64\n",
      "wandb: \tpatch_size: 3748\n"
     ]
    },
    {
     "data": {
      "text/html": [
       "Tracking run with wandb version 0.18.5"
      ],
      "text/plain": [
       "<IPython.core.display.HTML object>"
      ]
     },
     "metadata": {},
     "output_type": "display_data"
    },
    {
     "data": {
      "text/html": [
       "Run data is saved locally in <code>c:\\Users\\jcwin\\OneDrive - University of Southampton\\_Southampton\\2024-25\\Star-Classifier\\wandb\\run-20241029_121609-3r1lgqpl</code>"
      ],
      "text/plain": [
       "<IPython.core.display.HTML object>"
      ]
     },
     "metadata": {},
     "output_type": "display_data"
    },
    {
     "data": {
      "text/html": [
       "Syncing run <strong><a href='https://wandb.ai/joaoc-university-of-southampton/spectra-classification-vit/runs/3r1lgqpl' target=\"_blank\">swept-sweep-23</a></strong> to <a href='https://wandb.ai/joaoc-university-of-southampton/spectra-classification-vit' target=\"_blank\">Weights & Biases</a> (<a href='https://wandb.me/run' target=\"_blank\">docs</a>)<br/>Sweep page: <a href='https://wandb.ai/joaoc-university-of-southampton/spectra-classification-vit/sweeps/cdqoepyl' target=\"_blank\">https://wandb.ai/joaoc-university-of-southampton/spectra-classification-vit/sweeps/cdqoepyl</a>"
      ],
      "text/plain": [
       "<IPython.core.display.HTML object>"
      ]
     },
     "metadata": {},
     "output_type": "display_data"
    },
    {
     "data": {
      "text/html": [
       " View project at <a href='https://wandb.ai/joaoc-university-of-southampton/spectra-classification-vit' target=\"_blank\">https://wandb.ai/joaoc-university-of-southampton/spectra-classification-vit</a>"
      ],
      "text/plain": [
       "<IPython.core.display.HTML object>"
      ]
     },
     "metadata": {},
     "output_type": "display_data"
    },
    {
     "data": {
      "text/html": [
       " View sweep at <a href='https://wandb.ai/joaoc-university-of-southampton/spectra-classification-vit/sweeps/cdqoepyl' target=\"_blank\">https://wandb.ai/joaoc-university-of-southampton/spectra-classification-vit/sweeps/cdqoepyl</a>"
      ],
      "text/plain": [
       "<IPython.core.display.HTML object>"
      ]
     },
     "metadata": {},
     "output_type": "display_data"
    },
    {
     "data": {
      "text/html": [
       " View run at <a href='https://wandb.ai/joaoc-university-of-southampton/spectra-classification-vit/runs/3r1lgqpl' target=\"_blank\">https://wandb.ai/joaoc-university-of-southampton/spectra-classification-vit/runs/3r1lgqpl</a>"
      ],
      "text/plain": [
       "<IPython.core.display.HTML object>"
      ]
     },
     "metadata": {},
     "output_type": "display_data"
    },
    {
     "data": {
      "text/html": [
       "<style>\n",
       "    table.wandb td:nth-child(1) { padding: 0 10px; text-align: left ; width: auto;} td:nth-child(2) {text-align: left ; width: 100%}\n",
       "    .wandb-row { display: flex; flex-direction: row; flex-wrap: wrap; justify-content: flex-start; width: 100% }\n",
       "    .wandb-col { display: flex; flex-direction: column; flex-basis: 100%; flex: 1; padding: 10px; }\n",
       "    </style>\n",
       "<div class=\"wandb-row\"><div class=\"wandb-col\"><h3>Run history:</h3><br/><table class=\"wandb\"><tr><td>epoch</td><td>▁▁▁▁▁▂▂▂▂▃▃▃▄▄▄▄▄▄▄▄▄▅▅▅▅▅▅▆▆▆▆▆▆▆▇▇▇▇▇█</td></tr><tr><td>test_accuracy</td><td>▆▆▆▆▆▆█▃▃▃▁▁▁▁▁▁▁▁▁▃▄▃▄▅▅▅▅▅▅▅▅▅▅▅▅▅▅▅▅▅</td></tr><tr><td>test_loss</td><td>██▇▇▇▇▇▇▇▇▆▆▆▆▆▄▄▄▄▄▄▄▄▄▄▃▃▃▃▃▂▂▂▂▂▂▂▁▁▁</td></tr><tr><td>train_accuracy</td><td>▂▂▂▃▃▂▄▃▂▂▁▃▃▁▃▄▃▂▃▄▃▁▄▂▁▄▄▅▄▄▅▆▅▂▅▄▆█▆▅</td></tr><tr><td>train_loss</td><td>███▇▇▇▇▇▇▇▇▇▇▇▆▅▅▅▅▅▅▅▅▅▅▅▄▄▄▄▃▃▃▂▂▂▁▁▁▁</td></tr><tr><td>val_accuracy</td><td>▁▁▁▁▂▂▂▂▂▂▂▂▂▂▂▂▃▃▄█▇▇▇▇▇▇▆▆▆▆▅▅▆▆▆▆▆▆▇▆</td></tr><tr><td>val_loss</td><td>█▇▇▇▇▇▇▇▇▇▇▇▆▅▅▅▅▅▄▄▄▄▄▄▄▄▃▃▃▃▃▂▂▂▂▂▂▂▁▁</td></tr></table><br/></div><div class=\"wandb-col\"><h3>Run summary:</h3><br/><table class=\"wandb\"><tr><td>epoch</td><td>299</td></tr><tr><td>test_accuracy</td><td>0.325</td></tr><tr><td>test_loss</td><td>1.29538</td></tr><tr><td>train_accuracy</td><td>0.40394</td></tr><tr><td>train_loss</td><td>1.30239</td></tr><tr><td>val_accuracy</td><td>0.37647</td></tr><tr><td>val_loss</td><td>1.29195</td></tr></table><br/></div></div>"
      ],
      "text/plain": [
       "<IPython.core.display.HTML object>"
      ]
     },
     "metadata": {},
     "output_type": "display_data"
    },
    {
     "data": {
      "text/html": [
       " View run <strong style=\"color:#cdcd00\">swept-sweep-23</strong> at: <a href='https://wandb.ai/joaoc-university-of-southampton/spectra-classification-vit/runs/3r1lgqpl' target=\"_blank\">https://wandb.ai/joaoc-university-of-southampton/spectra-classification-vit/runs/3r1lgqpl</a><br/> View project at: <a href='https://wandb.ai/joaoc-university-of-southampton/spectra-classification-vit' target=\"_blank\">https://wandb.ai/joaoc-university-of-southampton/spectra-classification-vit</a><br/>Synced 5 W&B file(s), 0 media file(s), 0 artifact file(s) and 0 other file(s)"
      ],
      "text/plain": [
       "<IPython.core.display.HTML object>"
      ]
     },
     "metadata": {},
     "output_type": "display_data"
    },
    {
     "data": {
      "text/html": [
       "Find logs at: <code>.\\wandb\\run-20241029_121609-3r1lgqpl\\logs</code>"
      ],
      "text/plain": [
       "<IPython.core.display.HTML object>"
      ]
     },
     "metadata": {},
     "output_type": "display_data"
    },
    {
     "name": "stderr",
     "output_type": "stream",
     "text": [
      "wandb: Agent Starting Run: zm7za4s8 with config:\n",
      "wandb: \tdepth: 20\n",
      "wandb: \tdim: 128\n",
      "wandb: \tdropout: 0.4\n",
      "wandb: \theads: 8\n",
      "wandb: \tlr: 3e-07\n",
      "wandb: \tmlp_dim: 64\n",
      "wandb: \tpatch_size: 3748\n"
     ]
    },
    {
     "data": {
      "text/html": [
       "Tracking run with wandb version 0.18.5"
      ],
      "text/plain": [
       "<IPython.core.display.HTML object>"
      ]
     },
     "metadata": {},
     "output_type": "display_data"
    },
    {
     "data": {
      "text/html": [
       "Run data is saved locally in <code>c:\\Users\\jcwin\\OneDrive - University of Southampton\\_Southampton\\2024-25\\Star-Classifier\\wandb\\run-20241029_122343-zm7za4s8</code>"
      ],
      "text/plain": [
       "<IPython.core.display.HTML object>"
      ]
     },
     "metadata": {},
     "output_type": "display_data"
    },
    {
     "data": {
      "text/html": [
       "Syncing run <strong><a href='https://wandb.ai/joaoc-university-of-southampton/spectra-classification-vit/runs/zm7za4s8' target=\"_blank\">dainty-sweep-24</a></strong> to <a href='https://wandb.ai/joaoc-university-of-southampton/spectra-classification-vit' target=\"_blank\">Weights & Biases</a> (<a href='https://wandb.me/run' target=\"_blank\">docs</a>)<br/>Sweep page: <a href='https://wandb.ai/joaoc-university-of-southampton/spectra-classification-vit/sweeps/cdqoepyl' target=\"_blank\">https://wandb.ai/joaoc-university-of-southampton/spectra-classification-vit/sweeps/cdqoepyl</a>"
      ],
      "text/plain": [
       "<IPython.core.display.HTML object>"
      ]
     },
     "metadata": {},
     "output_type": "display_data"
    },
    {
     "data": {
      "text/html": [
       " View project at <a href='https://wandb.ai/joaoc-university-of-southampton/spectra-classification-vit' target=\"_blank\">https://wandb.ai/joaoc-university-of-southampton/spectra-classification-vit</a>"
      ],
      "text/plain": [
       "<IPython.core.display.HTML object>"
      ]
     },
     "metadata": {},
     "output_type": "display_data"
    },
    {
     "data": {
      "text/html": [
       " View sweep at <a href='https://wandb.ai/joaoc-university-of-southampton/spectra-classification-vit/sweeps/cdqoepyl' target=\"_blank\">https://wandb.ai/joaoc-university-of-southampton/spectra-classification-vit/sweeps/cdqoepyl</a>"
      ],
      "text/plain": [
       "<IPython.core.display.HTML object>"
      ]
     },
     "metadata": {},
     "output_type": "display_data"
    },
    {
     "data": {
      "text/html": [
       " View run at <a href='https://wandb.ai/joaoc-university-of-southampton/spectra-classification-vit/runs/zm7za4s8' target=\"_blank\">https://wandb.ai/joaoc-university-of-southampton/spectra-classification-vit/runs/zm7za4s8</a>"
      ],
      "text/plain": [
       "<IPython.core.display.HTML object>"
      ]
     },
     "metadata": {},
     "output_type": "display_data"
    },
    {
     "data": {
      "text/html": [
       "<style>\n",
       "    table.wandb td:nth-child(1) { padding: 0 10px; text-align: left ; width: auto;} td:nth-child(2) {text-align: left ; width: 100%}\n",
       "    .wandb-row { display: flex; flex-direction: row; flex-wrap: wrap; justify-content: flex-start; width: 100% }\n",
       "    .wandb-col { display: flex; flex-direction: column; flex-basis: 100%; flex: 1; padding: 10px; }\n",
       "    </style>\n",
       "<div class=\"wandb-row\"><div class=\"wandb-col\"><h3>Run history:</h3><br/><table class=\"wandb\"><tr><td>epoch</td><td>▁▁▁▁▁▂▂▂▂▂▃▃▃▃▃▃▄▄▄▄▄▄▄▄▄▅▅▅▆▆▆▆▆▆▆▆▇▇▇█</td></tr><tr><td>test_accuracy</td><td>▁▃▃▃▃▃▃▃▃▃▃▃▃▃▄▄▃▄▁▃▂▃▇▇▇█▇▆▇▆▆▅▆▇▆▆▆▆▇▇</td></tr><tr><td>test_loss</td><td>███▇▇▇▇▇▇▇▇▇▇▇▇▇▇▇▇▇▇▇▆▅▄▃▃▃▃▃▃▂▂▂▂▂▂▂▂▁</td></tr><tr><td>train_accuracy</td><td>▂▄▁▃▂▃▄▃▃▃▃▂▅▃▃▃▅▂▃▃▂▅▄▆▆▆▆▆▇▅█▇▇▇▄▇▇▅▆▆</td></tr><tr><td>train_loss</td><td>██████████████▇▇▇▇▇█▇▆▆▆▆▅▄▄▄▄▃▃▃▃▃▃▃▂▂▁</td></tr><tr><td>val_accuracy</td><td>▃▂▂▃▂▂▂▂▂▁▁▂▂▃▃▂▂▄▆▅▇███████████████████</td></tr><tr><td>val_loss</td><td>█████████████████████▇▇▇▆▆▅▄▄▃▃▃▃▃▂▂▂▂▂▁</td></tr></table><br/></div><div class=\"wandb-col\"><h3>Run summary:</h3><br/><table class=\"wandb\"><tr><td>epoch</td><td>299</td></tr><tr><td>test_accuracy</td><td>0.45</td></tr><tr><td>test_loss</td><td>1.16718</td></tr><tr><td>train_accuracy</td><td>0.36946</td></tr><tr><td>train_loss</td><td>1.25884</td></tr><tr><td>val_accuracy</td><td>0.5098</td></tr><tr><td>val_loss</td><td>1.17724</td></tr></table><br/></div></div>"
      ],
      "text/plain": [
       "<IPython.core.display.HTML object>"
      ]
     },
     "metadata": {},
     "output_type": "display_data"
    },
    {
     "data": {
      "text/html": [
       " View run <strong style=\"color:#cdcd00\">dainty-sweep-24</strong> at: <a href='https://wandb.ai/joaoc-university-of-southampton/spectra-classification-vit/runs/zm7za4s8' target=\"_blank\">https://wandb.ai/joaoc-university-of-southampton/spectra-classification-vit/runs/zm7za4s8</a><br/> View project at: <a href='https://wandb.ai/joaoc-university-of-southampton/spectra-classification-vit' target=\"_blank\">https://wandb.ai/joaoc-university-of-southampton/spectra-classification-vit</a><br/>Synced 5 W&B file(s), 0 media file(s), 0 artifact file(s) and 0 other file(s)"
      ],
      "text/plain": [
       "<IPython.core.display.HTML object>"
      ]
     },
     "metadata": {},
     "output_type": "display_data"
    },
    {
     "data": {
      "text/html": [
       "Find logs at: <code>.\\wandb\\run-20241029_122343-zm7za4s8\\logs</code>"
      ],
      "text/plain": [
       "<IPython.core.display.HTML object>"
      ]
     },
     "metadata": {},
     "output_type": "display_data"
    },
    {
     "name": "stderr",
     "output_type": "stream",
     "text": [
      "wandb: Agent Starting Run: 47xwlesd with config:\n",
      "wandb: \tdepth: 10\n",
      "wandb: \tdim: 512\n",
      "wandb: \tdropout: 0.2\n",
      "wandb: \theads: 32\n",
      "wandb: \tlr: 3e-07\n",
      "wandb: \tmlp_dim: 256\n",
      "wandb: \tpatch_size: 3748\n"
     ]
    },
    {
     "data": {
      "text/html": [
       "Tracking run with wandb version 0.18.5"
      ],
      "text/plain": [
       "<IPython.core.display.HTML object>"
      ]
     },
     "metadata": {},
     "output_type": "display_data"
    },
    {
     "data": {
      "text/html": [
       "Run data is saved locally in <code>c:\\Users\\jcwin\\OneDrive - University of Southampton\\_Southampton\\2024-25\\Star-Classifier\\wandb\\run-20241029_123115-47xwlesd</code>"
      ],
      "text/plain": [
       "<IPython.core.display.HTML object>"
      ]
     },
     "metadata": {},
     "output_type": "display_data"
    },
    {
     "data": {
      "text/html": [
       "Syncing run <strong><a href='https://wandb.ai/joaoc-university-of-southampton/spectra-classification-vit/runs/47xwlesd' target=\"_blank\">restful-sweep-25</a></strong> to <a href='https://wandb.ai/joaoc-university-of-southampton/spectra-classification-vit' target=\"_blank\">Weights & Biases</a> (<a href='https://wandb.me/run' target=\"_blank\">docs</a>)<br/>Sweep page: <a href='https://wandb.ai/joaoc-university-of-southampton/spectra-classification-vit/sweeps/cdqoepyl' target=\"_blank\">https://wandb.ai/joaoc-university-of-southampton/spectra-classification-vit/sweeps/cdqoepyl</a>"
      ],
      "text/plain": [
       "<IPython.core.display.HTML object>"
      ]
     },
     "metadata": {},
     "output_type": "display_data"
    },
    {
     "data": {
      "text/html": [
       " View project at <a href='https://wandb.ai/joaoc-university-of-southampton/spectra-classification-vit' target=\"_blank\">https://wandb.ai/joaoc-university-of-southampton/spectra-classification-vit</a>"
      ],
      "text/plain": [
       "<IPython.core.display.HTML object>"
      ]
     },
     "metadata": {},
     "output_type": "display_data"
    },
    {
     "data": {
      "text/html": [
       " View sweep at <a href='https://wandb.ai/joaoc-university-of-southampton/spectra-classification-vit/sweeps/cdqoepyl' target=\"_blank\">https://wandb.ai/joaoc-university-of-southampton/spectra-classification-vit/sweeps/cdqoepyl</a>"
      ],
      "text/plain": [
       "<IPython.core.display.HTML object>"
      ]
     },
     "metadata": {},
     "output_type": "display_data"
    },
    {
     "data": {
      "text/html": [
       " View run at <a href='https://wandb.ai/joaoc-university-of-southampton/spectra-classification-vit/runs/47xwlesd' target=\"_blank\">https://wandb.ai/joaoc-university-of-southampton/spectra-classification-vit/runs/47xwlesd</a>"
      ],
      "text/plain": [
       "<IPython.core.display.HTML object>"
      ]
     },
     "metadata": {},
     "output_type": "display_data"
    },
    {
     "data": {
      "text/html": [
       "<style>\n",
       "    table.wandb td:nth-child(1) { padding: 0 10px; text-align: left ; width: auto;} td:nth-child(2) {text-align: left ; width: 100%}\n",
       "    .wandb-row { display: flex; flex-direction: row; flex-wrap: wrap; justify-content: flex-start; width: 100% }\n",
       "    .wandb-col { display: flex; flex-direction: column; flex-basis: 100%; flex: 1; padding: 10px; }\n",
       "    </style>\n",
       "<div class=\"wandb-row\"><div class=\"wandb-col\"><h3>Run history:</h3><br/><table class=\"wandb\"><tr><td>epoch</td><td>▁▁▁▁▁▂▂▂▂▂▂▂▃▃▃▃▃▃▄▄▅▅▅▅▅▆▆▆▆▆▆▆▇▇▇▇▇▇██</td></tr><tr><td>test_accuracy</td><td>▁▁▁▂▁▃▃▃▄▄▅▅▆▅▄█▇▇▆▆▇▇▇▇▇█▇▆▆▆▆▇▇▇▇▇█▇▇█</td></tr><tr><td>test_loss</td><td>████▆▅▄▄▃▃▃▂▂▂▂▂▂▁▂▁▁▁▁▁▁▁▁▁▁▁▁▁▁▁▁▁▁▁▁▁</td></tr><tr><td>train_accuracy</td><td>▁▁▂▂▄▄▅▅▅▅▆▆▆▆▆▆▆▆▇▇▇▇▆▇▇█▇▇▇▇▆▇▇▇▆▇▇█▇█</td></tr><tr><td>train_loss</td><td>██▇▇▆▅▄▄▄▃▃▃▃▂▂▂▂▂▂▂▂▂▂▂▁▁▁▁▁▁▁▁▁▁▁▁▁▁▁▁</td></tr><tr><td>val_accuracy</td><td>▁▃▅▅▅▅▆▅▇▇▇▇▇█▇▇██▇▇█▇█▇▇▇▇▇▇███████████</td></tr><tr><td>val_loss</td><td>█▆▆▆▃▃▃▃▂▂▂▂▂▂▂▁▁▁▁▁▁▁▁▁▁▁▁▁▁▁▁▁▁▁▁▁▁▁▁▁</td></tr></table><br/></div><div class=\"wandb-col\"><h3>Run summary:</h3><br/><table class=\"wandb\"><tr><td>epoch</td><td>299</td></tr><tr><td>test_accuracy</td><td>0.6</td></tr><tr><td>test_loss</td><td>0.60135</td></tr><tr><td>train_accuracy</td><td>0.78325</td></tr><tr><td>train_loss</td><td>0.63081</td></tr><tr><td>val_accuracy</td><td>0.72157</td></tr><tr><td>val_loss</td><td>0.61598</td></tr></table><br/></div></div>"
      ],
      "text/plain": [
       "<IPython.core.display.HTML object>"
      ]
     },
     "metadata": {},
     "output_type": "display_data"
    },
    {
     "data": {
      "text/html": [
       " View run <strong style=\"color:#cdcd00\">restful-sweep-25</strong> at: <a href='https://wandb.ai/joaoc-university-of-southampton/spectra-classification-vit/runs/47xwlesd' target=\"_blank\">https://wandb.ai/joaoc-university-of-southampton/spectra-classification-vit/runs/47xwlesd</a><br/> View project at: <a href='https://wandb.ai/joaoc-university-of-southampton/spectra-classification-vit' target=\"_blank\">https://wandb.ai/joaoc-university-of-southampton/spectra-classification-vit</a><br/>Synced 5 W&B file(s), 0 media file(s), 0 artifact file(s) and 0 other file(s)"
      ],
      "text/plain": [
       "<IPython.core.display.HTML object>"
      ]
     },
     "metadata": {},
     "output_type": "display_data"
    },
    {
     "data": {
      "text/html": [
       "Find logs at: <code>.\\wandb\\run-20241029_123115-47xwlesd\\logs</code>"
      ],
      "text/plain": [
       "<IPython.core.display.HTML object>"
      ]
     },
     "metadata": {},
     "output_type": "display_data"
    },
    {
     "name": "stderr",
     "output_type": "stream",
     "text": [
      "wandb: Agent Starting Run: nldig0ly with config:\n",
      "wandb: \tdepth: 3\n",
      "wandb: \tdim: 128\n",
      "wandb: \tdropout: 0.4\n",
      "wandb: \theads: 2\n",
      "wandb: \tlr: 3e-06\n",
      "wandb: \tmlp_dim: 64\n",
      "wandb: \tpatch_size: 3748\n"
     ]
    },
    {
     "data": {
      "text/html": [
       "Tracking run with wandb version 0.18.5"
      ],
      "text/plain": [
       "<IPython.core.display.HTML object>"
      ]
     },
     "metadata": {},
     "output_type": "display_data"
    },
    {
     "data": {
      "text/html": [
       "Run data is saved locally in <code>c:\\Users\\jcwin\\OneDrive - University of Southampton\\_Southampton\\2024-25\\Star-Classifier\\wandb\\run-20241029_123558-nldig0ly</code>"
      ],
      "text/plain": [
       "<IPython.core.display.HTML object>"
      ]
     },
     "metadata": {},
     "output_type": "display_data"
    },
    {
     "data": {
      "text/html": [
       "Syncing run <strong><a href='https://wandb.ai/joaoc-university-of-southampton/spectra-classification-vit/runs/nldig0ly' target=\"_blank\">ethereal-sweep-26</a></strong> to <a href='https://wandb.ai/joaoc-university-of-southampton/spectra-classification-vit' target=\"_blank\">Weights & Biases</a> (<a href='https://wandb.me/run' target=\"_blank\">docs</a>)<br/>Sweep page: <a href='https://wandb.ai/joaoc-university-of-southampton/spectra-classification-vit/sweeps/cdqoepyl' target=\"_blank\">https://wandb.ai/joaoc-university-of-southampton/spectra-classification-vit/sweeps/cdqoepyl</a>"
      ],
      "text/plain": [
       "<IPython.core.display.HTML object>"
      ]
     },
     "metadata": {},
     "output_type": "display_data"
    },
    {
     "data": {
      "text/html": [
       " View project at <a href='https://wandb.ai/joaoc-university-of-southampton/spectra-classification-vit' target=\"_blank\">https://wandb.ai/joaoc-university-of-southampton/spectra-classification-vit</a>"
      ],
      "text/plain": [
       "<IPython.core.display.HTML object>"
      ]
     },
     "metadata": {},
     "output_type": "display_data"
    },
    {
     "data": {
      "text/html": [
       " View sweep at <a href='https://wandb.ai/joaoc-university-of-southampton/spectra-classification-vit/sweeps/cdqoepyl' target=\"_blank\">https://wandb.ai/joaoc-university-of-southampton/spectra-classification-vit/sweeps/cdqoepyl</a>"
      ],
      "text/plain": [
       "<IPython.core.display.HTML object>"
      ]
     },
     "metadata": {},
     "output_type": "display_data"
    },
    {
     "data": {
      "text/html": [
       " View run at <a href='https://wandb.ai/joaoc-university-of-southampton/spectra-classification-vit/runs/nldig0ly' target=\"_blank\">https://wandb.ai/joaoc-university-of-southampton/spectra-classification-vit/runs/nldig0ly</a>"
      ],
      "text/plain": [
       "<IPython.core.display.HTML object>"
      ]
     },
     "metadata": {},
     "output_type": "display_data"
    },
    {
     "name": "stdout",
     "output_type": "stream",
     "text": [
      "Early stopping triggered.\n"
     ]
    },
    {
     "data": {
      "text/html": [
       "<style>\n",
       "    table.wandb td:nth-child(1) { padding: 0 10px; text-align: left ; width: auto;} td:nth-child(2) {text-align: left ; width: 100%}\n",
       "    .wandb-row { display: flex; flex-direction: row; flex-wrap: wrap; justify-content: flex-start; width: 100% }\n",
       "    .wandb-col { display: flex; flex-direction: column; flex-basis: 100%; flex: 1; padding: 10px; }\n",
       "    </style>\n",
       "<div class=\"wandb-row\"><div class=\"wandb-col\"><h3>Run history:</h3><br/><table class=\"wandb\"><tr><td>epoch</td><td>▁▁▁▁▂▂▃▃▃▃▃▃▃▃▃▃▃▄▄▄▄▄▄▄▅▅▅▆▆▆▆▆▆▇▇▇████</td></tr><tr><td>test_accuracy</td><td>▁▁▁▁▂▄▄▄▄▄▄▄▄▅▅▅▅▅▄▅▅▅█▅▇▇▇▇▇▇▇▇▇█▄▅▄▇▄▅</td></tr><tr><td>test_loss</td><td>█▄▄▃▃▂▂▂▂▁▁▁▁▁▁▁▁▁▁▁▁▁▁▁▁▁▁▁▁▁▁▁▁▁▁▁▁▁▁▁</td></tr><tr><td>train_accuracy</td><td>▁▂▃▄▅▇▅█▄▅▆▆▅▅▇▆▅▆▅▅▆▇▆▅▅▇▇█▇▆▇▅▆▆█▆▇▇▆▇</td></tr><tr><td>train_loss</td><td>█▇▅▅▅▃▃▃▂▃▂▃▂▂▂▂▂▂▂▂▂▁▁▁▁▁▂▁▁▁▁▁▁▁▁▁▁▁▁▁</td></tr><tr><td>val_accuracy</td><td>▁▂▂▆▅▆▆▆▆▆▆▆▅▆▆▇▇▇▇▇▇▇▇▇█▇▇▇▇▇▇▇▇▇██▇█▇█</td></tr><tr><td>val_loss</td><td>█▅▄▂▂▂▁▁▁▁▁▁▁▁▁▁▁▁▁▁▁▁▁▁▁▁▁▁▁▁▁▁▁▁▁▁▁▁▁▁</td></tr></table><br/></div><div class=\"wandb-col\"><h3>Run summary:</h3><br/><table class=\"wandb\"><tr><td>epoch</td><td>276</td></tr><tr><td>test_accuracy</td><td>0.65</td></tr><tr><td>test_loss</td><td>0.56305</td></tr><tr><td>train_accuracy</td><td>0.76355</td></tr><tr><td>train_loss</td><td>0.55798</td></tr><tr><td>val_accuracy</td><td>0.71373</td></tr><tr><td>val_loss</td><td>0.61206</td></tr></table><br/></div></div>"
      ],
      "text/plain": [
       "<IPython.core.display.HTML object>"
      ]
     },
     "metadata": {},
     "output_type": "display_data"
    },
    {
     "data": {
      "text/html": [
       " View run <strong style=\"color:#cdcd00\">ethereal-sweep-26</strong> at: <a href='https://wandb.ai/joaoc-university-of-southampton/spectra-classification-vit/runs/nldig0ly' target=\"_blank\">https://wandb.ai/joaoc-university-of-southampton/spectra-classification-vit/runs/nldig0ly</a><br/> View project at: <a href='https://wandb.ai/joaoc-university-of-southampton/spectra-classification-vit' target=\"_blank\">https://wandb.ai/joaoc-university-of-southampton/spectra-classification-vit</a><br/>Synced 5 W&B file(s), 0 media file(s), 0 artifact file(s) and 0 other file(s)"
      ],
      "text/plain": [
       "<IPython.core.display.HTML object>"
      ]
     },
     "metadata": {},
     "output_type": "display_data"
    },
    {
     "data": {
      "text/html": [
       "Find logs at: <code>.\\wandb\\run-20241029_123558-nldig0ly\\logs</code>"
      ],
      "text/plain": [
       "<IPython.core.display.HTML object>"
      ]
     },
     "metadata": {},
     "output_type": "display_data"
    },
    {
     "name": "stderr",
     "output_type": "stream",
     "text": [
      "wandb: Agent Starting Run: 3unsa4p3 with config:\n",
      "wandb: \tdepth: 10\n",
      "wandb: \tdim: 16\n",
      "wandb: \tdropout: 0.3\n",
      "wandb: \theads: 8\n",
      "wandb: \tlr: 3e-06\n",
      "wandb: \tmlp_dim: 64\n",
      "wandb: \tpatch_size: 3748\n"
     ]
    },
    {
     "data": {
      "text/html": [
       "Tracking run with wandb version 0.18.5"
      ],
      "text/plain": [
       "<IPython.core.display.HTML object>"
      ]
     },
     "metadata": {},
     "output_type": "display_data"
    },
    {
     "data": {
      "text/html": [
       "Run data is saved locally in <code>c:\\Users\\jcwin\\OneDrive - University of Southampton\\_Southampton\\2024-25\\Star-Classifier\\wandb\\run-20241029_123813-3unsa4p3</code>"
      ],
      "text/plain": [
       "<IPython.core.display.HTML object>"
      ]
     },
     "metadata": {},
     "output_type": "display_data"
    },
    {
     "data": {
      "text/html": [
       "Syncing run <strong><a href='https://wandb.ai/joaoc-university-of-southampton/spectra-classification-vit/runs/3unsa4p3' target=\"_blank\">toasty-sweep-27</a></strong> to <a href='https://wandb.ai/joaoc-university-of-southampton/spectra-classification-vit' target=\"_blank\">Weights & Biases</a> (<a href='https://wandb.me/run' target=\"_blank\">docs</a>)<br/>Sweep page: <a href='https://wandb.ai/joaoc-university-of-southampton/spectra-classification-vit/sweeps/cdqoepyl' target=\"_blank\">https://wandb.ai/joaoc-university-of-southampton/spectra-classification-vit/sweeps/cdqoepyl</a>"
      ],
      "text/plain": [
       "<IPython.core.display.HTML object>"
      ]
     },
     "metadata": {},
     "output_type": "display_data"
    },
    {
     "data": {
      "text/html": [
       " View project at <a href='https://wandb.ai/joaoc-university-of-southampton/spectra-classification-vit' target=\"_blank\">https://wandb.ai/joaoc-university-of-southampton/spectra-classification-vit</a>"
      ],
      "text/plain": [
       "<IPython.core.display.HTML object>"
      ]
     },
     "metadata": {},
     "output_type": "display_data"
    },
    {
     "data": {
      "text/html": [
       " View sweep at <a href='https://wandb.ai/joaoc-university-of-southampton/spectra-classification-vit/sweeps/cdqoepyl' target=\"_blank\">https://wandb.ai/joaoc-university-of-southampton/spectra-classification-vit/sweeps/cdqoepyl</a>"
      ],
      "text/plain": [
       "<IPython.core.display.HTML object>"
      ]
     },
     "metadata": {},
     "output_type": "display_data"
    },
    {
     "data": {
      "text/html": [
       " View run at <a href='https://wandb.ai/joaoc-university-of-southampton/spectra-classification-vit/runs/3unsa4p3' target=\"_blank\">https://wandb.ai/joaoc-university-of-southampton/spectra-classification-vit/runs/3unsa4p3</a>"
      ],
      "text/plain": [
       "<IPython.core.display.HTML object>"
      ]
     },
     "metadata": {},
     "output_type": "display_data"
    },
    {
     "data": {
      "text/html": [
       "<style>\n",
       "    table.wandb td:nth-child(1) { padding: 0 10px; text-align: left ; width: auto;} td:nth-child(2) {text-align: left ; width: 100%}\n",
       "    .wandb-row { display: flex; flex-direction: row; flex-wrap: wrap; justify-content: flex-start; width: 100% }\n",
       "    .wandb-col { display: flex; flex-direction: column; flex-basis: 100%; flex: 1; padding: 10px; }\n",
       "    </style>\n",
       "<div class=\"wandb-row\"><div class=\"wandb-col\"><h3>Run history:</h3><br/><table class=\"wandb\"><tr><td>epoch</td><td>▁▁▁▂▂▂▂▂▂▂▂▂▃▃▃▃▃▃▄▄▄▄▄▄▅▅▅▅▅▅▆▆▆▇▇▇▇▇██</td></tr><tr><td>test_accuracy</td><td>▁▄▄▆▆▆▆▆▇▆▇█▇█▇▇▇▇▇▇▆▆▆▆▆▆▆▆▆▆▆▆▆▆▆▆▆▆▆▆</td></tr><tr><td>test_loss</td><td>█▆▆▆▅▄▄▄▄▄▃▃▃▃▃▂▂▂▂▂▂▂▂▂▂▂▂▂▂▂▁▁▁▁▁▁▁▁▁▁</td></tr><tr><td>train_accuracy</td><td>▁▂▅▅▅▅▆▆▆▆▇▇▇▇▇▇▇▇▇▇▇▇▇▇▇▇▇▇██▇▇▇▇█▇█▇▇▇</td></tr><tr><td>train_loss</td><td>█▇▇▆▆▆▆▅▅▅▅▄▄▄▃▃▃▂▂▂▂▂▂▂▂▂▂▂▂▁▁▂▁▁▁▁▁▁▁▁</td></tr><tr><td>val_accuracy</td><td>▁▃▃▃▄▂▆▄▆▆▅▆▆▇▇█████████████▇███▇▇██▇███</td></tr><tr><td>val_loss</td><td>█▅▅▄▄▃▃▃▃▃▃▃▃▂▂▂▂▂▂▂▂▂▂▂▁▁▁▁▁▁▁▁▁▁▁▁▁▁▁▁</td></tr></table><br/></div><div class=\"wandb-col\"><h3>Run summary:</h3><br/><table class=\"wandb\"><tr><td>epoch</td><td>299</td></tr><tr><td>test_accuracy</td><td>0.6</td></tr><tr><td>test_loss</td><td>0.68877</td></tr><tr><td>train_accuracy</td><td>0.71429</td></tr><tr><td>train_loss</td><td>0.73084</td></tr><tr><td>val_accuracy</td><td>0.6549</td></tr><tr><td>val_loss</td><td>0.70453</td></tr></table><br/></div></div>"
      ],
      "text/plain": [
       "<IPython.core.display.HTML object>"
      ]
     },
     "metadata": {},
     "output_type": "display_data"
    },
    {
     "data": {
      "text/html": [
       " View run <strong style=\"color:#cdcd00\">toasty-sweep-27</strong> at: <a href='https://wandb.ai/joaoc-university-of-southampton/spectra-classification-vit/runs/3unsa4p3' target=\"_blank\">https://wandb.ai/joaoc-university-of-southampton/spectra-classification-vit/runs/3unsa4p3</a><br/> View project at: <a href='https://wandb.ai/joaoc-university-of-southampton/spectra-classification-vit' target=\"_blank\">https://wandb.ai/joaoc-university-of-southampton/spectra-classification-vit</a><br/>Synced 5 W&B file(s), 0 media file(s), 0 artifact file(s) and 0 other file(s)"
      ],
      "text/plain": [
       "<IPython.core.display.HTML object>"
      ]
     },
     "metadata": {},
     "output_type": "display_data"
    },
    {
     "data": {
      "text/html": [
       "Find logs at: <code>.\\wandb\\run-20241029_123813-3unsa4p3\\logs</code>"
      ],
      "text/plain": [
       "<IPython.core.display.HTML object>"
      ]
     },
     "metadata": {},
     "output_type": "display_data"
    },
    {
     "name": "stderr",
     "output_type": "stream",
     "text": [
      "wandb: Agent Starting Run: ywrmodyj with config:\n",
      "wandb: \tdepth: 10\n",
      "wandb: \tdim: 64\n",
      "wandb: \tdropout: 0.2\n",
      "wandb: \theads: 2\n",
      "wandb: \tlr: 3e-07\n",
      "wandb: \tmlp_dim: 64\n",
      "wandb: \tpatch_size: 3748\n"
     ]
    },
    {
     "data": {
      "text/html": [
       "Tracking run with wandb version 0.18.5"
      ],
      "text/plain": [
       "<IPython.core.display.HTML object>"
      ]
     },
     "metadata": {},
     "output_type": "display_data"
    },
    {
     "data": {
      "text/html": [
       "Run data is saved locally in <code>c:\\Users\\jcwin\\OneDrive - University of Southampton\\_Southampton\\2024-25\\Star-Classifier\\wandb\\run-20241029_124321-ywrmodyj</code>"
      ],
      "text/plain": [
       "<IPython.core.display.HTML object>"
      ]
     },
     "metadata": {},
     "output_type": "display_data"
    },
    {
     "data": {
      "text/html": [
       "Syncing run <strong><a href='https://wandb.ai/joaoc-university-of-southampton/spectra-classification-vit/runs/ywrmodyj' target=\"_blank\">golden-sweep-28</a></strong> to <a href='https://wandb.ai/joaoc-university-of-southampton/spectra-classification-vit' target=\"_blank\">Weights & Biases</a> (<a href='https://wandb.me/run' target=\"_blank\">docs</a>)<br/>Sweep page: <a href='https://wandb.ai/joaoc-university-of-southampton/spectra-classification-vit/sweeps/cdqoepyl' target=\"_blank\">https://wandb.ai/joaoc-university-of-southampton/spectra-classification-vit/sweeps/cdqoepyl</a>"
      ],
      "text/plain": [
       "<IPython.core.display.HTML object>"
      ]
     },
     "metadata": {},
     "output_type": "display_data"
    },
    {
     "data": {
      "text/html": [
       " View project at <a href='https://wandb.ai/joaoc-university-of-southampton/spectra-classification-vit' target=\"_blank\">https://wandb.ai/joaoc-university-of-southampton/spectra-classification-vit</a>"
      ],
      "text/plain": [
       "<IPython.core.display.HTML object>"
      ]
     },
     "metadata": {},
     "output_type": "display_data"
    },
    {
     "data": {
      "text/html": [
       " View sweep at <a href='https://wandb.ai/joaoc-university-of-southampton/spectra-classification-vit/sweeps/cdqoepyl' target=\"_blank\">https://wandb.ai/joaoc-university-of-southampton/spectra-classification-vit/sweeps/cdqoepyl</a>"
      ],
      "text/plain": [
       "<IPython.core.display.HTML object>"
      ]
     },
     "metadata": {},
     "output_type": "display_data"
    },
    {
     "data": {
      "text/html": [
       " View run at <a href='https://wandb.ai/joaoc-university-of-southampton/spectra-classification-vit/runs/ywrmodyj' target=\"_blank\">https://wandb.ai/joaoc-university-of-southampton/spectra-classification-vit/runs/ywrmodyj</a>"
      ],
      "text/plain": [
       "<IPython.core.display.HTML object>"
      ]
     },
     "metadata": {},
     "output_type": "display_data"
    },
    {
     "data": {
      "text/html": [
       "<style>\n",
       "    table.wandb td:nth-child(1) { padding: 0 10px; text-align: left ; width: auto;} td:nth-child(2) {text-align: left ; width: 100%}\n",
       "    .wandb-row { display: flex; flex-direction: row; flex-wrap: wrap; justify-content: flex-start; width: 100% }\n",
       "    .wandb-col { display: flex; flex-direction: column; flex-basis: 100%; flex: 1; padding: 10px; }\n",
       "    </style>\n",
       "<div class=\"wandb-row\"><div class=\"wandb-col\"><h3>Run history:</h3><br/><table class=\"wandb\"><tr><td>epoch</td><td>▁▁▁▁▁▁▂▂▂▂▂▃▃▃▃▃▄▄▄▅▅▅▅▅▅▅▅▆▆▆▆▇▇▇▇▇▇███</td></tr><tr><td>test_accuracy</td><td>▂▂▂▂▁▂▃▃▃▄▄▄▄▅▅▆▆▆▆▇▇▇▇▇▇▇▇▇▇▇▇▇▇▆▆▇█▇▇▇</td></tr><tr><td>test_loss</td><td>████▇▇▆▅▅▄▃▃▃▃▃▃▃▃▂▂▂▂▂▂▂▂▂▂▂▂▁▁▁▁▁▁▁▁▁▁</td></tr><tr><td>train_accuracy</td><td>▂▂▁▂▃▃▃▃▃▄▆▇▅▅▇▆▇▆▇▆▆▆▇█▇▇▇▇▆▇█▆▇█▇▇█▇▇█</td></tr><tr><td>train_loss</td><td>██▇▆▆▆▆▅▅▄▄▄▄▄▃▃▃▃▃▃▃▃▂▂▂▂▂▂▂▂▂▂▂▁▂▁▁▁▁▁</td></tr><tr><td>val_accuracy</td><td>▁▁▂▅▅▇▇▇▇▇▇▇▇▇▇▇▇▇▇▇████████████████████</td></tr><tr><td>val_loss</td><td>█▇▇▇▆▅▅▅▄▄▃▃▃▃▃▃▃▂▂▂▂▂▂▂▂▂▂▂▂▂▂▂▂▁▁▁▁▁▁▁</td></tr></table><br/></div><div class=\"wandb-col\"><h3>Run summary:</h3><br/><table class=\"wandb\"><tr><td>epoch</td><td>299</td></tr><tr><td>test_accuracy</td><td>0.525</td></tr><tr><td>test_loss</td><td>0.84933</td></tr><tr><td>train_accuracy</td><td>0.59113</td></tr><tr><td>train_loss</td><td>0.88524</td></tr><tr><td>val_accuracy</td><td>0.59216</td></tr><tr><td>val_loss</td><td>0.85726</td></tr></table><br/></div></div>"
      ],
      "text/plain": [
       "<IPython.core.display.HTML object>"
      ]
     },
     "metadata": {},
     "output_type": "display_data"
    },
    {
     "data": {
      "text/html": [
       " View run <strong style=\"color:#cdcd00\">golden-sweep-28</strong> at: <a href='https://wandb.ai/joaoc-university-of-southampton/spectra-classification-vit/runs/ywrmodyj' target=\"_blank\">https://wandb.ai/joaoc-university-of-southampton/spectra-classification-vit/runs/ywrmodyj</a><br/> View project at: <a href='https://wandb.ai/joaoc-university-of-southampton/spectra-classification-vit' target=\"_blank\">https://wandb.ai/joaoc-university-of-southampton/spectra-classification-vit</a><br/>Synced 5 W&B file(s), 0 media file(s), 0 artifact file(s) and 0 other file(s)"
      ],
      "text/plain": [
       "<IPython.core.display.HTML object>"
      ]
     },
     "metadata": {},
     "output_type": "display_data"
    },
    {
     "data": {
      "text/html": [
       "Find logs at: <code>.\\wandb\\run-20241029_124321-ywrmodyj\\logs</code>"
      ],
      "text/plain": [
       "<IPython.core.display.HTML object>"
      ]
     },
     "metadata": {},
     "output_type": "display_data"
    },
    {
     "name": "stderr",
     "output_type": "stream",
     "text": [
      "wandb: Agent Starting Run: d40ylvz2 with config:\n",
      "wandb: \tdepth: 3\n",
      "wandb: \tdim: 512\n",
      "wandb: \tdropout: 0.1\n",
      "wandb: \theads: 2\n",
      "wandb: \tlr: 3e-06\n",
      "wandb: \tmlp_dim: 128\n",
      "wandb: \tpatch_size: 3748\n"
     ]
    },
    {
     "data": {
      "text/html": [
       "Tracking run with wandb version 0.18.5"
      ],
      "text/plain": [
       "<IPython.core.display.HTML object>"
      ]
     },
     "metadata": {},
     "output_type": "display_data"
    },
    {
     "data": {
      "text/html": [
       "Run data is saved locally in <code>c:\\Users\\jcwin\\OneDrive - University of Southampton\\_Southampton\\2024-25\\Star-Classifier\\wandb\\run-20241029_124750-d40ylvz2</code>"
      ],
      "text/plain": [
       "<IPython.core.display.HTML object>"
      ]
     },
     "metadata": {},
     "output_type": "display_data"
    },
    {
     "data": {
      "text/html": [
       "Syncing run <strong><a href='https://wandb.ai/joaoc-university-of-southampton/spectra-classification-vit/runs/d40ylvz2' target=\"_blank\">crimson-sweep-29</a></strong> to <a href='https://wandb.ai/joaoc-university-of-southampton/spectra-classification-vit' target=\"_blank\">Weights & Biases</a> (<a href='https://wandb.me/run' target=\"_blank\">docs</a>)<br/>Sweep page: <a href='https://wandb.ai/joaoc-university-of-southampton/spectra-classification-vit/sweeps/cdqoepyl' target=\"_blank\">https://wandb.ai/joaoc-university-of-southampton/spectra-classification-vit/sweeps/cdqoepyl</a>"
      ],
      "text/plain": [
       "<IPython.core.display.HTML object>"
      ]
     },
     "metadata": {},
     "output_type": "display_data"
    },
    {
     "data": {
      "text/html": [
       " View project at <a href='https://wandb.ai/joaoc-university-of-southampton/spectra-classification-vit' target=\"_blank\">https://wandb.ai/joaoc-university-of-southampton/spectra-classification-vit</a>"
      ],
      "text/plain": [
       "<IPython.core.display.HTML object>"
      ]
     },
     "metadata": {},
     "output_type": "display_data"
    },
    {
     "data": {
      "text/html": [
       " View sweep at <a href='https://wandb.ai/joaoc-university-of-southampton/spectra-classification-vit/sweeps/cdqoepyl' target=\"_blank\">https://wandb.ai/joaoc-university-of-southampton/spectra-classification-vit/sweeps/cdqoepyl</a>"
      ],
      "text/plain": [
       "<IPython.core.display.HTML object>"
      ]
     },
     "metadata": {},
     "output_type": "display_data"
    },
    {
     "data": {
      "text/html": [
       " View run at <a href='https://wandb.ai/joaoc-university-of-southampton/spectra-classification-vit/runs/d40ylvz2' target=\"_blank\">https://wandb.ai/joaoc-university-of-southampton/spectra-classification-vit/runs/d40ylvz2</a>"
      ],
      "text/plain": [
       "<IPython.core.display.HTML object>"
      ]
     },
     "metadata": {},
     "output_type": "display_data"
    },
    {
     "name": "stdout",
     "output_type": "stream",
     "text": [
      "Early stopping triggered.\n"
     ]
    },
    {
     "data": {
      "text/html": [
       "<style>\n",
       "    table.wandb td:nth-child(1) { padding: 0 10px; text-align: left ; width: auto;} td:nth-child(2) {text-align: left ; width: 100%}\n",
       "    .wandb-row { display: flex; flex-direction: row; flex-wrap: wrap; justify-content: flex-start; width: 100% }\n",
       "    .wandb-col { display: flex; flex-direction: column; flex-basis: 100%; flex: 1; padding: 10px; }\n",
       "    </style>\n",
       "<div class=\"wandb-row\"><div class=\"wandb-col\"><h3>Run history:</h3><br/><table class=\"wandb\"><tr><td>epoch</td><td>▁▁▁▁▁▂▂▂▂▂▂▂▃▃▃▃▃▄▄▄▅▅▅▅▅▆▆▆▆▆▆▇▇▇▇▇▇███</td></tr><tr><td>test_accuracy</td><td>▁▂▂▄▅▄▅▆▇▆▅▇▇▆▇▅▇▇█▇██▆▇▇▇▆█▆▇▆▅▆▅▆▆▆▇▇▆</td></tr><tr><td>test_loss</td><td>█▇▄▃▂▂▂▂▁▁▁▁▁▁▁▁▁▁▁▁▁▁▁▁▁▁▁▁▁▁▁▁▁▁▁▁▁▁▁▁</td></tr><tr><td>train_accuracy</td><td>▁▃▃▅▅▆▆▆▇▅█▇▆▇▇▇█▇▇▇▇▅▆▇▇█▆▇▇█▇▇▇▇▆▇▇▇▇▇</td></tr><tr><td>train_loss</td><td>█▇▇▆▅▂▂▂▂▂▂▂▂▂▂▂▂▂▂▂▂▂▂▂▁▁▁▁▁▁▁▁▁▁▁▁▁▁▁▁</td></tr><tr><td>val_accuracy</td><td>▁▂▃▄▇▆▆▆▇▇▇▇█▇█▇▇█▇██▇██▇███████▇▇▇█████</td></tr><tr><td>val_loss</td><td>█▇▆▅▄▂▂▂▂▁▁▁▁▁▁▁▁▁▁▁▁▁▁▁▁▁▁▁▁▁▁▁▁▁▁▁▁▁▁▁</td></tr></table><br/></div><div class=\"wandb-col\"><h3>Run summary:</h3><br/><table class=\"wandb\"><tr><td>epoch</td><td>133</td></tr><tr><td>test_accuracy</td><td>0.65</td></tr><tr><td>test_loss</td><td>0.57528</td></tr><tr><td>train_accuracy</td><td>0.73892</td></tr><tr><td>train_loss</td><td>0.51047</td></tr><tr><td>val_accuracy</td><td>0.7098</td></tr><tr><td>val_loss</td><td>0.63195</td></tr></table><br/></div></div>"
      ],
      "text/plain": [
       "<IPython.core.display.HTML object>"
      ]
     },
     "metadata": {},
     "output_type": "display_data"
    },
    {
     "data": {
      "text/html": [
       " View run <strong style=\"color:#cdcd00\">crimson-sweep-29</strong> at: <a href='https://wandb.ai/joaoc-university-of-southampton/spectra-classification-vit/runs/d40ylvz2' target=\"_blank\">https://wandb.ai/joaoc-university-of-southampton/spectra-classification-vit/runs/d40ylvz2</a><br/> View project at: <a href='https://wandb.ai/joaoc-university-of-southampton/spectra-classification-vit' target=\"_blank\">https://wandb.ai/joaoc-university-of-southampton/spectra-classification-vit</a><br/>Synced 5 W&B file(s), 0 media file(s), 0 artifact file(s) and 0 other file(s)"
      ],
      "text/plain": [
       "<IPython.core.display.HTML object>"
      ]
     },
     "metadata": {},
     "output_type": "display_data"
    },
    {
     "data": {
      "text/html": [
       "Find logs at: <code>.\\wandb\\run-20241029_124750-d40ylvz2\\logs</code>"
      ],
      "text/plain": [
       "<IPython.core.display.HTML object>"
      ]
     },
     "metadata": {},
     "output_type": "display_data"
    },
    {
     "name": "stderr",
     "output_type": "stream",
     "text": [
      "wandb: Agent Starting Run: blxvplkv with config:\n",
      "wandb: \tdepth: 10\n",
      "wandb: \tdim: 128\n",
      "wandb: \tdropout: 0.2\n",
      "wandb: \theads: 8\n",
      "wandb: \tlr: 3e-06\n",
      "wandb: \tmlp_dim: 128\n",
      "wandb: \tpatch_size: 3748\n"
     ]
    },
    {
     "data": {
      "text/html": [
       "Tracking run with wandb version 0.18.5"
      ],
      "text/plain": [
       "<IPython.core.display.HTML object>"
      ]
     },
     "metadata": {},
     "output_type": "display_data"
    },
    {
     "data": {
      "text/html": [
       "Run data is saved locally in <code>c:\\Users\\jcwin\\OneDrive - University of Southampton\\_Southampton\\2024-25\\Star-Classifier\\wandb\\run-20241029_124857-blxvplkv</code>"
      ],
      "text/plain": [
       "<IPython.core.display.HTML object>"
      ]
     },
     "metadata": {},
     "output_type": "display_data"
    },
    {
     "data": {
      "text/html": [
       "Syncing run <strong><a href='https://wandb.ai/joaoc-university-of-southampton/spectra-classification-vit/runs/blxvplkv' target=\"_blank\">effortless-sweep-30</a></strong> to <a href='https://wandb.ai/joaoc-university-of-southampton/spectra-classification-vit' target=\"_blank\">Weights & Biases</a> (<a href='https://wandb.me/run' target=\"_blank\">docs</a>)<br/>Sweep page: <a href='https://wandb.ai/joaoc-university-of-southampton/spectra-classification-vit/sweeps/cdqoepyl' target=\"_blank\">https://wandb.ai/joaoc-university-of-southampton/spectra-classification-vit/sweeps/cdqoepyl</a>"
      ],
      "text/plain": [
       "<IPython.core.display.HTML object>"
      ]
     },
     "metadata": {},
     "output_type": "display_data"
    },
    {
     "data": {
      "text/html": [
       " View project at <a href='https://wandb.ai/joaoc-university-of-southampton/spectra-classification-vit' target=\"_blank\">https://wandb.ai/joaoc-university-of-southampton/spectra-classification-vit</a>"
      ],
      "text/plain": [
       "<IPython.core.display.HTML object>"
      ]
     },
     "metadata": {},
     "output_type": "display_data"
    },
    {
     "data": {
      "text/html": [
       " View sweep at <a href='https://wandb.ai/joaoc-university-of-southampton/spectra-classification-vit/sweeps/cdqoepyl' target=\"_blank\">https://wandb.ai/joaoc-university-of-southampton/spectra-classification-vit/sweeps/cdqoepyl</a>"
      ],
      "text/plain": [
       "<IPython.core.display.HTML object>"
      ]
     },
     "metadata": {},
     "output_type": "display_data"
    },
    {
     "data": {
      "text/html": [
       " View run at <a href='https://wandb.ai/joaoc-university-of-southampton/spectra-classification-vit/runs/blxvplkv' target=\"_blank\">https://wandb.ai/joaoc-university-of-southampton/spectra-classification-vit/runs/blxvplkv</a>"
      ],
      "text/plain": [
       "<IPython.core.display.HTML object>"
      ]
     },
     "metadata": {},
     "output_type": "display_data"
    },
    {
     "name": "stdout",
     "output_type": "stream",
     "text": [
      "Early stopping triggered.\n"
     ]
    },
    {
     "data": {
      "text/html": [
       "<style>\n",
       "    table.wandb td:nth-child(1) { padding: 0 10px; text-align: left ; width: auto;} td:nth-child(2) {text-align: left ; width: 100%}\n",
       "    .wandb-row { display: flex; flex-direction: row; flex-wrap: wrap; justify-content: flex-start; width: 100% }\n",
       "    .wandb-col { display: flex; flex-direction: column; flex-basis: 100%; flex: 1; padding: 10px; }\n",
       "    </style>\n",
       "<div class=\"wandb-row\"><div class=\"wandb-col\"><h3>Run history:</h3><br/><table class=\"wandb\"><tr><td>epoch</td><td>▁▁▁▁▁▂▂▂▂▂▂▃▃▃▄▄▄▄▅▅▅▅▆▆▆▆▆▇▇▇▇▇▇▇▇█████</td></tr><tr><td>test_accuracy</td><td>▁▁▂▂▂▃▄▄▄▅▆▆▆▆▆▆▆▆▆▇▇▇▇▇▇▇▆▇▇▇▇█▇▇▇▇▇▇▇▆</td></tr><tr><td>test_loss</td><td>██▇▆▄▄▃▃▃▂▂▂▂▂▁▁▁▁▁▁▁▁▁▁▁▁▁▁▁▁▁▁▁▁▁▁▁▁▁▁</td></tr><tr><td>train_accuracy</td><td>▁▃▅▆▅▆▇▆▇▇▇▇▇▇▇▆▇████▇▇▇▇▇▇▇▇▇▇▇▇▇▇▇▇▇█▇</td></tr><tr><td>train_loss</td><td>██▆▄▃▃▃▂▂▂▂▂▂▂▂▂▂▂▂▂▁▁▁▁▁▁▁▁▁▁▁▁▁▁▁▁▁▁▁▁</td></tr><tr><td>val_accuracy</td><td>▁▁▂▃▄▄▄▆▆▆▇▆▇▇▇▇▇▇▇▇▇█▇▇▇█▇█████████████</td></tr><tr><td>val_loss</td><td>██▇▆▆▄▃▂▂▂▂▂▁▁▁▁▁▁▁▁▁▁▁▁▁▁▁▁▁▁▁▁▁▁▁▁▁▁▁▁</td></tr></table><br/></div><div class=\"wandb-col\"><h3>Run summary:</h3><br/><table class=\"wandb\"><tr><td>epoch</td><td>192</td></tr><tr><td>test_accuracy</td><td>0.675</td></tr><tr><td>test_loss</td><td>0.57853</td></tr><tr><td>train_accuracy</td><td>0.72906</td></tr><tr><td>train_loss</td><td>0.55578</td></tr><tr><td>val_accuracy</td><td>0.70588</td></tr><tr><td>val_loss</td><td>0.61394</td></tr></table><br/></div></div>"
      ],
      "text/plain": [
       "<IPython.core.display.HTML object>"
      ]
     },
     "metadata": {},
     "output_type": "display_data"
    },
    {
     "data": {
      "text/html": [
       " View run <strong style=\"color:#cdcd00\">effortless-sweep-30</strong> at: <a href='https://wandb.ai/joaoc-university-of-southampton/spectra-classification-vit/runs/blxvplkv' target=\"_blank\">https://wandb.ai/joaoc-university-of-southampton/spectra-classification-vit/runs/blxvplkv</a><br/> View project at: <a href='https://wandb.ai/joaoc-university-of-southampton/spectra-classification-vit' target=\"_blank\">https://wandb.ai/joaoc-university-of-southampton/spectra-classification-vit</a><br/>Synced 5 W&B file(s), 0 media file(s), 0 artifact file(s) and 0 other file(s)"
      ],
      "text/plain": [
       "<IPython.core.display.HTML object>"
      ]
     },
     "metadata": {},
     "output_type": "display_data"
    },
    {
     "data": {
      "text/html": [
       "Find logs at: <code>.\\wandb\\run-20241029_124857-blxvplkv\\logs</code>"
      ],
      "text/plain": [
       "<IPython.core.display.HTML object>"
      ]
     },
     "metadata": {},
     "output_type": "display_data"
    },
    {
     "name": "stderr",
     "output_type": "stream",
     "text": [
      "wandb: Sweep Agent: Waiting for job.\n",
      "wandb: Job received.\n",
      "wandb: Agent Starting Run: piv3r11g with config:\n",
      "wandb: \tdepth: 3\n",
      "wandb: \tdim: 128\n",
      "wandb: \tdropout: 0.1\n",
      "wandb: \theads: 2\n",
      "wandb: \tlr: 3e-05\n",
      "wandb: \tmlp_dim: 128\n",
      "wandb: \tpatch_size: 3748\n"
     ]
    },
    {
     "data": {
      "text/html": [
       "Tracking run with wandb version 0.18.5"
      ],
      "text/plain": [
       "<IPython.core.display.HTML object>"
      ]
     },
     "metadata": {},
     "output_type": "display_data"
    },
    {
     "data": {
      "text/html": [
       "Run data is saved locally in <code>c:\\Users\\jcwin\\OneDrive - University of Southampton\\_Southampton\\2024-25\\Star-Classifier\\wandb\\run-20241029_125202-piv3r11g</code>"
      ],
      "text/plain": [
       "<IPython.core.display.HTML object>"
      ]
     },
     "metadata": {},
     "output_type": "display_data"
    },
    {
     "data": {
      "text/html": [
       "Syncing run <strong><a href='https://wandb.ai/joaoc-university-of-southampton/spectra-classification-vit/runs/piv3r11g' target=\"_blank\">autumn-sweep-31</a></strong> to <a href='https://wandb.ai/joaoc-university-of-southampton/spectra-classification-vit' target=\"_blank\">Weights & Biases</a> (<a href='https://wandb.me/run' target=\"_blank\">docs</a>)<br/>Sweep page: <a href='https://wandb.ai/joaoc-university-of-southampton/spectra-classification-vit/sweeps/cdqoepyl' target=\"_blank\">https://wandb.ai/joaoc-university-of-southampton/spectra-classification-vit/sweeps/cdqoepyl</a>"
      ],
      "text/plain": [
       "<IPython.core.display.HTML object>"
      ]
     },
     "metadata": {},
     "output_type": "display_data"
    },
    {
     "data": {
      "text/html": [
       " View project at <a href='https://wandb.ai/joaoc-university-of-southampton/spectra-classification-vit' target=\"_blank\">https://wandb.ai/joaoc-university-of-southampton/spectra-classification-vit</a>"
      ],
      "text/plain": [
       "<IPython.core.display.HTML object>"
      ]
     },
     "metadata": {},
     "output_type": "display_data"
    },
    {
     "data": {
      "text/html": [
       " View sweep at <a href='https://wandb.ai/joaoc-university-of-southampton/spectra-classification-vit/sweeps/cdqoepyl' target=\"_blank\">https://wandb.ai/joaoc-university-of-southampton/spectra-classification-vit/sweeps/cdqoepyl</a>"
      ],
      "text/plain": [
       "<IPython.core.display.HTML object>"
      ]
     },
     "metadata": {},
     "output_type": "display_data"
    },
    {
     "data": {
      "text/html": [
       " View run at <a href='https://wandb.ai/joaoc-university-of-southampton/spectra-classification-vit/runs/piv3r11g' target=\"_blank\">https://wandb.ai/joaoc-university-of-southampton/spectra-classification-vit/runs/piv3r11g</a>"
      ],
      "text/plain": [
       "<IPython.core.display.HTML object>"
      ]
     },
     "metadata": {},
     "output_type": "display_data"
    },
    {
     "name": "stdout",
     "output_type": "stream",
     "text": [
      "Early stopping triggered.\n"
     ]
    },
    {
     "data": {
      "text/html": [
       "<style>\n",
       "    table.wandb td:nth-child(1) { padding: 0 10px; text-align: left ; width: auto;} td:nth-child(2) {text-align: left ; width: 100%}\n",
       "    .wandb-row { display: flex; flex-direction: row; flex-wrap: wrap; justify-content: flex-start; width: 100% }\n",
       "    .wandb-col { display: flex; flex-direction: column; flex-basis: 100%; flex: 1; padding: 10px; }\n",
       "    </style>\n",
       "<div class=\"wandb-row\"><div class=\"wandb-col\"><h3>Run history:</h3><br/><table class=\"wandb\"><tr><td>epoch</td><td>▁▁▁▂▂▂▂▂▂▃▃▃▃▃▃▄▄▄▄▄▄▅▅▅▅▆▆▆▆▆▆▆▇▇▇▇▇███</td></tr><tr><td>test_accuracy</td><td>▁▃▅▅▅▄▇▅▅▅▅▆▅▅▆▅▅▅▆▅▅▅▅▅▅▆▅▅▅▇▅▇▆▆▇▅█▆█▇</td></tr><tr><td>test_loss</td><td>█▄▃▂▂▂▁▁▁▁▁▁▁▁▁▁▁▁▁▁▁▁▁▁▁▁▁▁▂▁▂▂▂▂▂▂▂▂▂▂</td></tr><tr><td>train_accuracy</td><td>▁▄▅▇▅▆▅▆▆▅▆▅▅▅▇▅▆▅▅▆▆▆▇▇▇▆▇▇█▅█▇▆▅█▇▇█▇▆</td></tr><tr><td>train_loss</td><td>█▆▄▄▃▃▃▃▃▃▂▂▂▂▂▂▂▂▂▂▂▂▂▂▂▁▂▁▁▁▁▁▁▁▁▁▁▁▁▁</td></tr><tr><td>val_accuracy</td><td>▁▃▅▅▆▇▇▇▇█▇█▇█▇▇█▇████▇▇█▇█▇█▇▇▇▇█▇▇▇█▇█</td></tr><tr><td>val_loss</td><td>█▅▄▂▂▁▁▁▁▁▁▁▁▁▁▁▁▁▁▁▁▁▁▁▁▁▁▁▂▁▂▂▂▂▂▂▂▂▂▂</td></tr></table><br/></div><div class=\"wandb-col\"><h3>Run summary:</h3><br/><table class=\"wandb\"><tr><td>epoch</td><td>61</td></tr><tr><td>test_accuracy</td><td>0.675</td></tr><tr><td>test_loss</td><td>0.61095</td></tr><tr><td>train_accuracy</td><td>0.75369</td></tr><tr><td>train_loss</td><td>0.47839</td></tr><tr><td>val_accuracy</td><td>0.72941</td></tr><tr><td>val_loss</td><td>0.66798</td></tr></table><br/></div></div>"
      ],
      "text/plain": [
       "<IPython.core.display.HTML object>"
      ]
     },
     "metadata": {},
     "output_type": "display_data"
    },
    {
     "data": {
      "text/html": [
       " View run <strong style=\"color:#cdcd00\">autumn-sweep-31</strong> at: <a href='https://wandb.ai/joaoc-university-of-southampton/spectra-classification-vit/runs/piv3r11g' target=\"_blank\">https://wandb.ai/joaoc-university-of-southampton/spectra-classification-vit/runs/piv3r11g</a><br/> View project at: <a href='https://wandb.ai/joaoc-university-of-southampton/spectra-classification-vit' target=\"_blank\">https://wandb.ai/joaoc-university-of-southampton/spectra-classification-vit</a><br/>Synced 5 W&B file(s), 0 media file(s), 0 artifact file(s) and 0 other file(s)"
      ],
      "text/plain": [
       "<IPython.core.display.HTML object>"
      ]
     },
     "metadata": {},
     "output_type": "display_data"
    },
    {
     "data": {
      "text/html": [
       "Find logs at: <code>.\\wandb\\run-20241029_125202-piv3r11g\\logs</code>"
      ],
      "text/plain": [
       "<IPython.core.display.HTML object>"
      ]
     },
     "metadata": {},
     "output_type": "display_data"
    },
    {
     "name": "stderr",
     "output_type": "stream",
     "text": [
      "wandb: Agent Starting Run: zvrjsnse with config:\n",
      "wandb: \tdepth: 3\n",
      "wandb: \tdim: 64\n",
      "wandb: \tdropout: 0.2\n",
      "wandb: \theads: 32\n",
      "wandb: \tlr: 3e-05\n",
      "wandb: \tmlp_dim: 64\n",
      "wandb: \tpatch_size: 3748\n"
     ]
    },
    {
     "data": {
      "text/html": [
       "Tracking run with wandb version 0.18.5"
      ],
      "text/plain": [
       "<IPython.core.display.HTML object>"
      ]
     },
     "metadata": {},
     "output_type": "display_data"
    },
    {
     "data": {
      "text/html": [
       "Run data is saved locally in <code>c:\\Users\\jcwin\\OneDrive - University of Southampton\\_Southampton\\2024-25\\Star-Classifier\\wandb\\run-20241029_125243-zvrjsnse</code>"
      ],
      "text/plain": [
       "<IPython.core.display.HTML object>"
      ]
     },
     "metadata": {},
     "output_type": "display_data"
    },
    {
     "data": {
      "text/html": [
       "Syncing run <strong><a href='https://wandb.ai/joaoc-university-of-southampton/spectra-classification-vit/runs/zvrjsnse' target=\"_blank\">apricot-sweep-32</a></strong> to <a href='https://wandb.ai/joaoc-university-of-southampton/spectra-classification-vit' target=\"_blank\">Weights & Biases</a> (<a href='https://wandb.me/run' target=\"_blank\">docs</a>)<br/>Sweep page: <a href='https://wandb.ai/joaoc-university-of-southampton/spectra-classification-vit/sweeps/cdqoepyl' target=\"_blank\">https://wandb.ai/joaoc-university-of-southampton/spectra-classification-vit/sweeps/cdqoepyl</a>"
      ],
      "text/plain": [
       "<IPython.core.display.HTML object>"
      ]
     },
     "metadata": {},
     "output_type": "display_data"
    },
    {
     "data": {
      "text/html": [
       " View project at <a href='https://wandb.ai/joaoc-university-of-southampton/spectra-classification-vit' target=\"_blank\">https://wandb.ai/joaoc-university-of-southampton/spectra-classification-vit</a>"
      ],
      "text/plain": [
       "<IPython.core.display.HTML object>"
      ]
     },
     "metadata": {},
     "output_type": "display_data"
    },
    {
     "data": {
      "text/html": [
       " View sweep at <a href='https://wandb.ai/joaoc-university-of-southampton/spectra-classification-vit/sweeps/cdqoepyl' target=\"_blank\">https://wandb.ai/joaoc-university-of-southampton/spectra-classification-vit/sweeps/cdqoepyl</a>"
      ],
      "text/plain": [
       "<IPython.core.display.HTML object>"
      ]
     },
     "metadata": {},
     "output_type": "display_data"
    },
    {
     "data": {
      "text/html": [
       " View run at <a href='https://wandb.ai/joaoc-university-of-southampton/spectra-classification-vit/runs/zvrjsnse' target=\"_blank\">https://wandb.ai/joaoc-university-of-southampton/spectra-classification-vit/runs/zvrjsnse</a>"
      ],
      "text/plain": [
       "<IPython.core.display.HTML object>"
      ]
     },
     "metadata": {},
     "output_type": "display_data"
    },
    {
     "name": "stdout",
     "output_type": "stream",
     "text": [
      "Early stopping triggered.\n"
     ]
    },
    {
     "data": {
      "text/html": [
       "<style>\n",
       "    table.wandb td:nth-child(1) { padding: 0 10px; text-align: left ; width: auto;} td:nth-child(2) {text-align: left ; width: 100%}\n",
       "    .wandb-row { display: flex; flex-direction: row; flex-wrap: wrap; justify-content: flex-start; width: 100% }\n",
       "    .wandb-col { display: flex; flex-direction: column; flex-basis: 100%; flex: 1; padding: 10px; }\n",
       "    </style>\n",
       "<div class=\"wandb-row\"><div class=\"wandb-col\"><h3>Run history:</h3><br/><table class=\"wandb\"><tr><td>epoch</td><td>▁▁▁▁▁▂▂▂▂▂▃▃▃▃▃▃▄▄▄▄▄▄▄▅▅▅▅▆▆▆▆▆▆▇▇▇▇███</td></tr><tr><td>test_accuracy</td><td>▁▃▄▄▅▄▅▅▄▅▅▅▅▆▅▅▅▄▆▅▅▇▆▅▆▇█▇▇▇▇▇▇▇▇▇▅▆▆▇</td></tr><tr><td>test_loss</td><td>█▄▃▃▂▂▂▂▂▂▁▁▁▁▁▁▁▁▁▁▁▁▁▁▁▁▁▁▁▁▁▁▁▁▁▁▂▂▂▂</td></tr><tr><td>train_accuracy</td><td>▁▄▆▅▆▇▆▅▆▅▇▇▄▆▆▇▅▆▆▆▇▆▇▇▆▇▆▅▆▆▆▇▆█▇▇▇█▆█</td></tr><tr><td>train_loss</td><td>█▇▅▄▃▃▃▃▃▃▃▃▂▂▂▂▂▂▂▂▂▂▂▂▂▂▂▂▂▁▂▁▁▁▁▁▁▁▁▁</td></tr><tr><td>val_accuracy</td><td>▁▂▄▅▆▆▆▆▇▇▇▇▇▇███▇█▇▇▇█▇██▇▇▆▇▇▆▇▇▇▇▇▇▆▆</td></tr><tr><td>val_loss</td><td>█▆▅▄▃▂▂▁▁▁▁▁▁▁▁▁▁▁▁▁▁▁▁▁▁▁▁▁▁▁▁▁▁▁▁▁▁▁▂▂</td></tr></table><br/></div><div class=\"wandb-col\"><h3>Run summary:</h3><br/><table class=\"wandb\"><tr><td>epoch</td><td>77</td></tr><tr><td>test_accuracy</td><td>0.75</td></tr><tr><td>test_loss</td><td>0.60446</td></tr><tr><td>train_accuracy</td><td>0.72414</td></tr><tr><td>train_loss</td><td>0.48693</td></tr><tr><td>val_accuracy</td><td>0.72549</td></tr><tr><td>val_loss</td><td>0.6539</td></tr></table><br/></div></div>"
      ],
      "text/plain": [
       "<IPython.core.display.HTML object>"
      ]
     },
     "metadata": {},
     "output_type": "display_data"
    },
    {
     "data": {
      "text/html": [
       " View run <strong style=\"color:#cdcd00\">apricot-sweep-32</strong> at: <a href='https://wandb.ai/joaoc-university-of-southampton/spectra-classification-vit/runs/zvrjsnse' target=\"_blank\">https://wandb.ai/joaoc-university-of-southampton/spectra-classification-vit/runs/zvrjsnse</a><br/> View project at: <a href='https://wandb.ai/joaoc-university-of-southampton/spectra-classification-vit' target=\"_blank\">https://wandb.ai/joaoc-university-of-southampton/spectra-classification-vit</a><br/>Synced 5 W&B file(s), 0 media file(s), 0 artifact file(s) and 0 other file(s)"
      ],
      "text/plain": [
       "<IPython.core.display.HTML object>"
      ]
     },
     "metadata": {},
     "output_type": "display_data"
    },
    {
     "data": {
      "text/html": [
       "Find logs at: <code>.\\wandb\\run-20241029_125243-zvrjsnse\\logs</code>"
      ],
      "text/plain": [
       "<IPython.core.display.HTML object>"
      ]
     },
     "metadata": {},
     "output_type": "display_data"
    },
    {
     "name": "stderr",
     "output_type": "stream",
     "text": [
      "wandb: Agent Starting Run: 9cr11b8h with config:\n",
      "wandb: \tdepth: 20\n",
      "wandb: \tdim: 64\n",
      "wandb: \tdropout: 0.4\n",
      "wandb: \theads: 8\n",
      "wandb: \tlr: 3e-07\n",
      "wandb: \tmlp_dim: 128\n",
      "wandb: \tpatch_size: 3748\n"
     ]
    },
    {
     "data": {
      "text/html": [
       "Tracking run with wandb version 0.18.5"
      ],
      "text/plain": [
       "<IPython.core.display.HTML object>"
      ]
     },
     "metadata": {},
     "output_type": "display_data"
    },
    {
     "data": {
      "text/html": [
       "Run data is saved locally in <code>c:\\Users\\jcwin\\OneDrive - University of Southampton\\_Southampton\\2024-25\\Star-Classifier\\wandb\\run-20241029_125330-9cr11b8h</code>"
      ],
      "text/plain": [
       "<IPython.core.display.HTML object>"
      ]
     },
     "metadata": {},
     "output_type": "display_data"
    },
    {
     "data": {
      "text/html": [
       "Syncing run <strong><a href='https://wandb.ai/joaoc-university-of-southampton/spectra-classification-vit/runs/9cr11b8h' target=\"_blank\">clear-sweep-33</a></strong> to <a href='https://wandb.ai/joaoc-university-of-southampton/spectra-classification-vit' target=\"_blank\">Weights & Biases</a> (<a href='https://wandb.me/run' target=\"_blank\">docs</a>)<br/>Sweep page: <a href='https://wandb.ai/joaoc-university-of-southampton/spectra-classification-vit/sweeps/cdqoepyl' target=\"_blank\">https://wandb.ai/joaoc-university-of-southampton/spectra-classification-vit/sweeps/cdqoepyl</a>"
      ],
      "text/plain": [
       "<IPython.core.display.HTML object>"
      ]
     },
     "metadata": {},
     "output_type": "display_data"
    },
    {
     "data": {
      "text/html": [
       " View project at <a href='https://wandb.ai/joaoc-university-of-southampton/spectra-classification-vit' target=\"_blank\">https://wandb.ai/joaoc-university-of-southampton/spectra-classification-vit</a>"
      ],
      "text/plain": [
       "<IPython.core.display.HTML object>"
      ]
     },
     "metadata": {},
     "output_type": "display_data"
    },
    {
     "data": {
      "text/html": [
       " View sweep at <a href='https://wandb.ai/joaoc-university-of-southampton/spectra-classification-vit/sweeps/cdqoepyl' target=\"_blank\">https://wandb.ai/joaoc-university-of-southampton/spectra-classification-vit/sweeps/cdqoepyl</a>"
      ],
      "text/plain": [
       "<IPython.core.display.HTML object>"
      ]
     },
     "metadata": {},
     "output_type": "display_data"
    },
    {
     "data": {
      "text/html": [
       " View run at <a href='https://wandb.ai/joaoc-university-of-southampton/spectra-classification-vit/runs/9cr11b8h' target=\"_blank\">https://wandb.ai/joaoc-university-of-southampton/spectra-classification-vit/runs/9cr11b8h</a>"
      ],
      "text/plain": [
       "<IPython.core.display.HTML object>"
      ]
     },
     "metadata": {},
     "output_type": "display_data"
    },
    {
     "data": {
      "text/html": [
       "<style>\n",
       "    table.wandb td:nth-child(1) { padding: 0 10px; text-align: left ; width: auto;} td:nth-child(2) {text-align: left ; width: 100%}\n",
       "    .wandb-row { display: flex; flex-direction: row; flex-wrap: wrap; justify-content: flex-start; width: 100% }\n",
       "    .wandb-col { display: flex; flex-direction: column; flex-basis: 100%; flex: 1; padding: 10px; }\n",
       "    </style>\n",
       "<div class=\"wandb-row\"><div class=\"wandb-col\"><h3>Run history:</h3><br/><table class=\"wandb\"><tr><td>epoch</td><td>▁▁▁▁▁▂▂▂▂▂▃▃▃▃▃▄▄▄▄▄▄▄▄▅▅▅▅▆▆▆▇▇▇▇▇█████</td></tr><tr><td>test_accuracy</td><td>▁▁▁▁▁▃▃▃▃▃▄▅▅▅▅▇▅▅▅▅▅▅▅▅▅▃▄▄▃▃▂▂▂▄▅▆▆▇▇█</td></tr><tr><td>test_loss</td><td>███▇▇▇▆▆▆▆▆▆▆▆▆▆▆▆▆▆▅▅▄▄▄▄▃▃▃▃▂▂▂▂▂▂▂▂▂▁</td></tr><tr><td>train_accuracy</td><td>▁▁▃▃▁▂▂▂▁▃▂▃▁▃▄▄▃▄▃▆▂▃▆▄▅▅▇▅▇▆▇▆▆▆▆▇▄███</td></tr><tr><td>train_loss</td><td>███▇▆▆▆▅▅▅▅▅▅▅▅▅▄▄▄▄▃▃▃▃▃▃▃▂▂▂▂▂▂▂▂▁▁▁▁▁</td></tr><tr><td>val_accuracy</td><td>▁▁▁▁▁▃▃▃▃▃▃▃▆▃▃▅▅▅▅▇▅▅▅▆▅▄▄▇▇▇▇█▇▇▇█████</td></tr><tr><td>val_loss</td><td>█▇▇▇▆▅▅▅▅▅▅▄▄▄▄▄▄▄▄▄▄▄▄▄▄▄▄▃▃▃▂▂▂▂▂▂▁▁▁▁</td></tr></table><br/></div><div class=\"wandb-col\"><h3>Run summary:</h3><br/><table class=\"wandb\"><tr><td>epoch</td><td>299</td></tr><tr><td>test_accuracy</td><td>0.4</td></tr><tr><td>test_loss</td><td>1.15611</td></tr><tr><td>train_accuracy</td><td>0.42365</td></tr><tr><td>train_loss</td><td>1.23186</td></tr><tr><td>val_accuracy</td><td>0.41961</td></tr><tr><td>val_loss</td><td>1.19098</td></tr></table><br/></div></div>"
      ],
      "text/plain": [
       "<IPython.core.display.HTML object>"
      ]
     },
     "metadata": {},
     "output_type": "display_data"
    },
    {
     "data": {
      "text/html": [
       " View run <strong style=\"color:#cdcd00\">clear-sweep-33</strong> at: <a href='https://wandb.ai/joaoc-university-of-southampton/spectra-classification-vit/runs/9cr11b8h' target=\"_blank\">https://wandb.ai/joaoc-university-of-southampton/spectra-classification-vit/runs/9cr11b8h</a><br/> View project at: <a href='https://wandb.ai/joaoc-university-of-southampton/spectra-classification-vit' target=\"_blank\">https://wandb.ai/joaoc-university-of-southampton/spectra-classification-vit</a><br/>Synced 5 W&B file(s), 0 media file(s), 0 artifact file(s) and 0 other file(s)"
      ],
      "text/plain": [
       "<IPython.core.display.HTML object>"
      ]
     },
     "metadata": {},
     "output_type": "display_data"
    },
    {
     "data": {
      "text/html": [
       "Find logs at: <code>.\\wandb\\run-20241029_125330-9cr11b8h\\logs</code>"
      ],
      "text/plain": [
       "<IPython.core.display.HTML object>"
      ]
     },
     "metadata": {},
     "output_type": "display_data"
    },
    {
     "name": "stderr",
     "output_type": "stream",
     "text": [
      "wandb: Agent Starting Run: pi56wwam with config:\n",
      "wandb: \tdepth: 20\n",
      "wandb: \tdim: 16\n",
      "wandb: \tdropout: 0.2\n",
      "wandb: \theads: 8\n",
      "wandb: \tlr: 3e-06\n",
      "wandb: \tmlp_dim: 64\n",
      "wandb: \tpatch_size: 3748\n"
     ]
    },
    {
     "data": {
      "application/vnd.jupyter.widget-view+json": {
       "model_id": "0de3882dfc0949ba8498ff7923b35b70",
       "version_major": 2,
       "version_minor": 0
      },
      "text/plain": [
       "VBox(children=(Label(value='Waiting for wandb.init()...\\r'), FloatProgress(value=0.011111111111111112, max=1.0…"
      ]
     },
     "metadata": {},
     "output_type": "display_data"
    },
    {
     "data": {
      "text/html": [
       "Tracking run with wandb version 0.18.5"
      ],
      "text/plain": [
       "<IPython.core.display.HTML object>"
      ]
     },
     "metadata": {},
     "output_type": "display_data"
    },
    {
     "data": {
      "text/html": [
       "Run data is saved locally in <code>c:\\Users\\jcwin\\OneDrive - University of Southampton\\_Southampton\\2024-25\\Star-Classifier\\wandb\\run-20241029_130113-pi56wwam</code>"
      ],
      "text/plain": [
       "<IPython.core.display.HTML object>"
      ]
     },
     "metadata": {},
     "output_type": "display_data"
    },
    {
     "data": {
      "text/html": [
       "Syncing run <strong><a href='https://wandb.ai/joaoc-university-of-southampton/spectra-classification-vit/runs/pi56wwam' target=\"_blank\">happy-sweep-34</a></strong> to <a href='https://wandb.ai/joaoc-university-of-southampton/spectra-classification-vit' target=\"_blank\">Weights & Biases</a> (<a href='https://wandb.me/run' target=\"_blank\">docs</a>)<br/>Sweep page: <a href='https://wandb.ai/joaoc-university-of-southampton/spectra-classification-vit/sweeps/cdqoepyl' target=\"_blank\">https://wandb.ai/joaoc-university-of-southampton/spectra-classification-vit/sweeps/cdqoepyl</a>"
      ],
      "text/plain": [
       "<IPython.core.display.HTML object>"
      ]
     },
     "metadata": {},
     "output_type": "display_data"
    },
    {
     "data": {
      "text/html": [
       " View project at <a href='https://wandb.ai/joaoc-university-of-southampton/spectra-classification-vit' target=\"_blank\">https://wandb.ai/joaoc-university-of-southampton/spectra-classification-vit</a>"
      ],
      "text/plain": [
       "<IPython.core.display.HTML object>"
      ]
     },
     "metadata": {},
     "output_type": "display_data"
    },
    {
     "data": {
      "text/html": [
       " View sweep at <a href='https://wandb.ai/joaoc-university-of-southampton/spectra-classification-vit/sweeps/cdqoepyl' target=\"_blank\">https://wandb.ai/joaoc-university-of-southampton/spectra-classification-vit/sweeps/cdqoepyl</a>"
      ],
      "text/plain": [
       "<IPython.core.display.HTML object>"
      ]
     },
     "metadata": {},
     "output_type": "display_data"
    },
    {
     "data": {
      "text/html": [
       " View run at <a href='https://wandb.ai/joaoc-university-of-southampton/spectra-classification-vit/runs/pi56wwam' target=\"_blank\">https://wandb.ai/joaoc-university-of-southampton/spectra-classification-vit/runs/pi56wwam</a>"
      ],
      "text/plain": [
       "<IPython.core.display.HTML object>"
      ]
     },
     "metadata": {},
     "output_type": "display_data"
    },
    {
     "data": {
      "text/html": [
       "<style>\n",
       "    table.wandb td:nth-child(1) { padding: 0 10px; text-align: left ; width: auto;} td:nth-child(2) {text-align: left ; width: 100%}\n",
       "    .wandb-row { display: flex; flex-direction: row; flex-wrap: wrap; justify-content: flex-start; width: 100% }\n",
       "    .wandb-col { display: flex; flex-direction: column; flex-basis: 100%; flex: 1; padding: 10px; }\n",
       "    </style>\n",
       "<div class=\"wandb-row\"><div class=\"wandb-col\"><h3>Run history:</h3><br/><table class=\"wandb\"><tr><td>epoch</td><td>▁▁▁▁▁▂▂▂▂▂▂▂▃▃▃▃▄▄▄▄▄▅▅▅▅▅▅▅▆▆▆▆▆▆▆▇▇▇▇█</td></tr><tr><td>test_accuracy</td><td>▁▄▄▄▃▄▅▃▅▆▃▅▅▆▆▆▆▆▆▆▆▆▆▆▆▇▆▇▇▇█▇▇▇█████▇</td></tr><tr><td>test_loss</td><td>████▇▆▆▅▅▅▅▄▄▄▄▄▄▄▃▃▃▃▃▃▃▃▃▂▂▂▂▂▂▂▂▁▁▁▁▁</td></tr><tr><td>train_accuracy</td><td>▁▁▂▂▂▃▄▅▄▅▅▅▅▅▆▆▆▄▅▅▅▆▇▇▇▇▇▇▆█▆█▇█▇█▇▇█▇</td></tr><tr><td>train_loss</td><td>█████▇▇▆▆▆▅▅▅▅▅▅▅▄▄▄▄▄▄▄▃▃▃▃▂▂▂▂▂▂▂▁▁▁▁▁</td></tr><tr><td>val_accuracy</td><td>▁▁▁▃▃▃▆▅▆▆▆▆▅▆▆▆▆▅▆▆▇▇▇▇▇▇▇████▇▇▇▇█████</td></tr><tr><td>val_loss</td><td>██▇▇▇▆▆▆▆▅▅▅▅▅▄▄▄▄▄▄▄▄▄▄▄▃▃▃▂▂▂▂▂▂▂▂▂▂▁▁</td></tr></table><br/></div><div class=\"wandb-col\"><h3>Run summary:</h3><br/><table class=\"wandb\"><tr><td>epoch</td><td>299</td></tr><tr><td>test_accuracy</td><td>0.6</td></tr><tr><td>test_loss</td><td>0.80058</td></tr><tr><td>train_accuracy</td><td>0.62562</td></tr><tr><td>train_loss</td><td>0.84204</td></tr><tr><td>val_accuracy</td><td>0.58039</td></tr><tr><td>val_loss</td><td>0.79897</td></tr></table><br/></div></div>"
      ],
      "text/plain": [
       "<IPython.core.display.HTML object>"
      ]
     },
     "metadata": {},
     "output_type": "display_data"
    },
    {
     "data": {
      "text/html": [
       " View run <strong style=\"color:#cdcd00\">happy-sweep-34</strong> at: <a href='https://wandb.ai/joaoc-university-of-southampton/spectra-classification-vit/runs/pi56wwam' target=\"_blank\">https://wandb.ai/joaoc-university-of-southampton/spectra-classification-vit/runs/pi56wwam</a><br/> View project at: <a href='https://wandb.ai/joaoc-university-of-southampton/spectra-classification-vit' target=\"_blank\">https://wandb.ai/joaoc-university-of-southampton/spectra-classification-vit</a><br/>Synced 5 W&B file(s), 0 media file(s), 0 artifact file(s) and 0 other file(s)"
      ],
      "text/plain": [
       "<IPython.core.display.HTML object>"
      ]
     },
     "metadata": {},
     "output_type": "display_data"
    },
    {
     "data": {
      "text/html": [
       "Find logs at: <code>.\\wandb\\run-20241029_130113-pi56wwam\\logs</code>"
      ],
      "text/plain": [
       "<IPython.core.display.HTML object>"
      ]
     },
     "metadata": {},
     "output_type": "display_data"
    },
    {
     "name": "stderr",
     "output_type": "stream",
     "text": [
      "wandb: Agent Starting Run: 0rro7n4t with config:\n",
      "wandb: \tdepth: 20\n",
      "wandb: \tdim: 512\n",
      "wandb: \tdropout: 0.2\n",
      "wandb: \theads: 2\n",
      "wandb: \tlr: 3e-05\n",
      "wandb: \tmlp_dim: 128\n",
      "wandb: \tpatch_size: 3748\n"
     ]
    },
    {
     "data": {
      "text/html": [
       "Tracking run with wandb version 0.18.5"
      ],
      "text/plain": [
       "<IPython.core.display.HTML object>"
      ]
     },
     "metadata": {},
     "output_type": "display_data"
    },
    {
     "data": {
      "text/html": [
       "Run data is saved locally in <code>c:\\Users\\jcwin\\OneDrive - University of Southampton\\_Southampton\\2024-25\\Star-Classifier\\wandb\\run-20241029_131033-0rro7n4t</code>"
      ],
      "text/plain": [
       "<IPython.core.display.HTML object>"
      ]
     },
     "metadata": {},
     "output_type": "display_data"
    },
    {
     "data": {
      "text/html": [
       "Syncing run <strong><a href='https://wandb.ai/joaoc-university-of-southampton/spectra-classification-vit/runs/0rro7n4t' target=\"_blank\">misunderstood-sweep-35</a></strong> to <a href='https://wandb.ai/joaoc-university-of-southampton/spectra-classification-vit' target=\"_blank\">Weights & Biases</a> (<a href='https://wandb.me/run' target=\"_blank\">docs</a>)<br/>Sweep page: <a href='https://wandb.ai/joaoc-university-of-southampton/spectra-classification-vit/sweeps/cdqoepyl' target=\"_blank\">https://wandb.ai/joaoc-university-of-southampton/spectra-classification-vit/sweeps/cdqoepyl</a>"
      ],
      "text/plain": [
       "<IPython.core.display.HTML object>"
      ]
     },
     "metadata": {},
     "output_type": "display_data"
    },
    {
     "data": {
      "text/html": [
       " View project at <a href='https://wandb.ai/joaoc-university-of-southampton/spectra-classification-vit' target=\"_blank\">https://wandb.ai/joaoc-university-of-southampton/spectra-classification-vit</a>"
      ],
      "text/plain": [
       "<IPython.core.display.HTML object>"
      ]
     },
     "metadata": {},
     "output_type": "display_data"
    },
    {
     "data": {
      "text/html": [
       " View sweep at <a href='https://wandb.ai/joaoc-university-of-southampton/spectra-classification-vit/sweeps/cdqoepyl' target=\"_blank\">https://wandb.ai/joaoc-university-of-southampton/spectra-classification-vit/sweeps/cdqoepyl</a>"
      ],
      "text/plain": [
       "<IPython.core.display.HTML object>"
      ]
     },
     "metadata": {},
     "output_type": "display_data"
    },
    {
     "data": {
      "text/html": [
       " View run at <a href='https://wandb.ai/joaoc-university-of-southampton/spectra-classification-vit/runs/0rro7n4t' target=\"_blank\">https://wandb.ai/joaoc-university-of-southampton/spectra-classification-vit/runs/0rro7n4t</a>"
      ],
      "text/plain": [
       "<IPython.core.display.HTML object>"
      ]
     },
     "metadata": {},
     "output_type": "display_data"
    },
    {
     "name": "stdout",
     "output_type": "stream",
     "text": [
      "Early stopping triggered.\n"
     ]
    },
    {
     "data": {
      "text/html": [
       "<style>\n",
       "    table.wandb td:nth-child(1) { padding: 0 10px; text-align: left ; width: auto;} td:nth-child(2) {text-align: left ; width: 100%}\n",
       "    .wandb-row { display: flex; flex-direction: row; flex-wrap: wrap; justify-content: flex-start; width: 100% }\n",
       "    .wandb-col { display: flex; flex-direction: column; flex-basis: 100%; flex: 1; padding: 10px; }\n",
       "    </style>\n",
       "<div class=\"wandb-row\"><div class=\"wandb-col\"><h3>Run history:</h3><br/><table class=\"wandb\"><tr><td>epoch</td><td>▁▁▁▁▂▂▂▂▂▃▃▃▃▃▄▄▄▄▄▄▅▅▅▅▅▆▆▆▆▆▇▇▇▇▇▇████</td></tr><tr><td>test_accuracy</td><td>▂▁▃▄▄▄▄▆▆▆▆▇▆█▆▇▆▆▇▆▇▆▆▆▆▆▆██▇▆▇▆▇▇▆█▇▇█</td></tr><tr><td>test_loss</td><td>████▆▅▄▂▂▂▁▁▁▁▁▁▁▁▁▁▁▁▁▁▁▁▁▁▁▁▁▁▁▁▁▁▁▁▁▁</td></tr><tr><td>train_accuracy</td><td>▁▂▂▂▃▆▅▆▆▇▆▆▇▆▆▇▇▇▇▆▇▇▇▇▇▆█▇▆▇▆▇▇▇█▇▇▇▇▇</td></tr><tr><td>train_loss</td><td>█████▅▄▃▂▂▂▂▂▂▂▂▂▂▂▂▁▁▁▂▁▁▁▁▁▁▁▁▁▁▁▁▁▁▁▁</td></tr><tr><td>val_accuracy</td><td>▁▁▃▃▅▆▆▇▇▇▇▇▇▇█▇███▇█▇██▇█▇█▇██████████▇</td></tr><tr><td>val_loss</td><td>████▆▄▄▂▂▁▁▁▁▁▁▁▁▁▁▁▁▁▁▁▁▁▁▁▁▁▁▁▁▁▁▁▁▁▁▁</td></tr></table><br/></div><div class=\"wandb-col\"><h3>Run summary:</h3><br/><table class=\"wandb\"><tr><td>epoch</td><td>58</td></tr><tr><td>test_accuracy</td><td>0.725</td></tr><tr><td>test_loss</td><td>0.6373</td></tr><tr><td>train_accuracy</td><td>0.73892</td></tr><tr><td>train_loss</td><td>0.50807</td></tr><tr><td>val_accuracy</td><td>0.70196</td></tr><tr><td>val_loss</td><td>0.67272</td></tr></table><br/></div></div>"
      ],
      "text/plain": [
       "<IPython.core.display.HTML object>"
      ]
     },
     "metadata": {},
     "output_type": "display_data"
    },
    {
     "data": {
      "text/html": [
       " View run <strong style=\"color:#cdcd00\">misunderstood-sweep-35</strong> at: <a href='https://wandb.ai/joaoc-university-of-southampton/spectra-classification-vit/runs/0rro7n4t' target=\"_blank\">https://wandb.ai/joaoc-university-of-southampton/spectra-classification-vit/runs/0rro7n4t</a><br/> View project at: <a href='https://wandb.ai/joaoc-university-of-southampton/spectra-classification-vit' target=\"_blank\">https://wandb.ai/joaoc-university-of-southampton/spectra-classification-vit</a><br/>Synced 5 W&B file(s), 0 media file(s), 0 artifact file(s) and 0 other file(s)"
      ],
      "text/plain": [
       "<IPython.core.display.HTML object>"
      ]
     },
     "metadata": {},
     "output_type": "display_data"
    },
    {
     "data": {
      "text/html": [
       "Find logs at: <code>.\\wandb\\run-20241029_131033-0rro7n4t\\logs</code>"
      ],
      "text/plain": [
       "<IPython.core.display.HTML object>"
      ]
     },
     "metadata": {},
     "output_type": "display_data"
    },
    {
     "name": "stderr",
     "output_type": "stream",
     "text": [
      "wandb: Agent Starting Run: 6i77gzj1 with config:\n",
      "wandb: \tdepth: 10\n",
      "wandb: \tdim: 16\n",
      "wandb: \tdropout: 0.4\n",
      "wandb: \theads: 8\n",
      "wandb: \tlr: 3e-05\n",
      "wandb: \tmlp_dim: 128\n",
      "wandb: \tpatch_size: 3748\n"
     ]
    },
    {
     "data": {
      "text/html": [
       "Tracking run with wandb version 0.18.5"
      ],
      "text/plain": [
       "<IPython.core.display.HTML object>"
      ]
     },
     "metadata": {},
     "output_type": "display_data"
    },
    {
     "data": {
      "text/html": [
       "Run data is saved locally in <code>c:\\Users\\jcwin\\OneDrive - University of Southampton\\_Southampton\\2024-25\\Star-Classifier\\wandb\\run-20241029_131216-6i77gzj1</code>"
      ],
      "text/plain": [
       "<IPython.core.display.HTML object>"
      ]
     },
     "metadata": {},
     "output_type": "display_data"
    },
    {
     "data": {
      "text/html": [
       "Syncing run <strong><a href='https://wandb.ai/joaoc-university-of-southampton/spectra-classification-vit/runs/6i77gzj1' target=\"_blank\">chocolate-sweep-36</a></strong> to <a href='https://wandb.ai/joaoc-university-of-southampton/spectra-classification-vit' target=\"_blank\">Weights & Biases</a> (<a href='https://wandb.me/run' target=\"_blank\">docs</a>)<br/>Sweep page: <a href='https://wandb.ai/joaoc-university-of-southampton/spectra-classification-vit/sweeps/cdqoepyl' target=\"_blank\">https://wandb.ai/joaoc-university-of-southampton/spectra-classification-vit/sweeps/cdqoepyl</a>"
      ],
      "text/plain": [
       "<IPython.core.display.HTML object>"
      ]
     },
     "metadata": {},
     "output_type": "display_data"
    },
    {
     "data": {
      "text/html": [
       " View project at <a href='https://wandb.ai/joaoc-university-of-southampton/spectra-classification-vit' target=\"_blank\">https://wandb.ai/joaoc-university-of-southampton/spectra-classification-vit</a>"
      ],
      "text/plain": [
       "<IPython.core.display.HTML object>"
      ]
     },
     "metadata": {},
     "output_type": "display_data"
    },
    {
     "data": {
      "text/html": [
       " View sweep at <a href='https://wandb.ai/joaoc-university-of-southampton/spectra-classification-vit/sweeps/cdqoepyl' target=\"_blank\">https://wandb.ai/joaoc-university-of-southampton/spectra-classification-vit/sweeps/cdqoepyl</a>"
      ],
      "text/plain": [
       "<IPython.core.display.HTML object>"
      ]
     },
     "metadata": {},
     "output_type": "display_data"
    },
    {
     "data": {
      "text/html": [
       " View run at <a href='https://wandb.ai/joaoc-university-of-southampton/spectra-classification-vit/runs/6i77gzj1' target=\"_blank\">https://wandb.ai/joaoc-university-of-southampton/spectra-classification-vit/runs/6i77gzj1</a>"
      ],
      "text/plain": [
       "<IPython.core.display.HTML object>"
      ]
     },
     "metadata": {},
     "output_type": "display_data"
    },
    {
     "name": "stdout",
     "output_type": "stream",
     "text": [
      "Early stopping triggered.\n"
     ]
    },
    {
     "data": {
      "text/html": [
       "<style>\n",
       "    table.wandb td:nth-child(1) { padding: 0 10px; text-align: left ; width: auto;} td:nth-child(2) {text-align: left ; width: 100%}\n",
       "    .wandb-row { display: flex; flex-direction: row; flex-wrap: wrap; justify-content: flex-start; width: 100% }\n",
       "    .wandb-col { display: flex; flex-direction: column; flex-basis: 100%; flex: 1; padding: 10px; }\n",
       "    </style>\n",
       "<div class=\"wandb-row\"><div class=\"wandb-col\"><h3>Run history:</h3><br/><table class=\"wandb\"><tr><td>epoch</td><td>▁▂▂▂▂▂▃▃▃▃▃▃▄▄▄▅▅▅▅▅▅▅▅▆▆▆▆▆▆▆▇▇▇▇▇█████</td></tr><tr><td>test_accuracy</td><td>▁▆▆▆▇▇▇▇▇▇▇▇▇▇▇▇▇▆▇▇▆▆▇▆▅▅▇▇█▇▇▇▇█▆▆▆▆▅▇</td></tr><tr><td>test_loss</td><td>█▅▃▂▂▂▂▂▂▂▁▁▁▁▁▁▁▁▁▁▁▁▁▁▁▁▁▁▁▁▁▁▁▁▁▁▁▁▁▁</td></tr><tr><td>train_accuracy</td><td>▁▅▇▅▅▆▅▅▅▅▅▇▆▇▄▇▆▇▆▇▇█▆▆▇▇██▇▇▆▇▇▆▆██▇▅▆</td></tr><tr><td>train_loss</td><td>█▇▇▆▄▃▃▃▂▂▂▂▂▂▂▂▂▂▂▁▁▁▁▁▁▁▁▁▁▁▁▁▁▁▁▁▁▁▁▁</td></tr><tr><td>val_accuracy</td><td>▁▆▆▆▇▇▇█▇█▇▇▇▇▇▇▇▇█████████████████▇████</td></tr><tr><td>val_loss</td><td>█▄▃▃▂▂▁▁▁▁▁▁▁▁▁▁▁▁▁▁▁▁▁▁▁▁▁▁▁▁▁▁▁▁▁▁▁▁▁▁</td></tr></table><br/></div><div class=\"wandb-col\"><h3>Run summary:</h3><br/><table class=\"wandb\"><tr><td>epoch</td><td>188</td></tr><tr><td>test_accuracy</td><td>0.6</td></tr><tr><td>test_loss</td><td>0.59746</td></tr><tr><td>train_accuracy</td><td>0.69458</td></tr><tr><td>train_loss</td><td>0.56509</td></tr><tr><td>val_accuracy</td><td>0.67843</td></tr><tr><td>val_loss</td><td>0.64327</td></tr></table><br/></div></div>"
      ],
      "text/plain": [
       "<IPython.core.display.HTML object>"
      ]
     },
     "metadata": {},
     "output_type": "display_data"
    },
    {
     "data": {
      "text/html": [
       " View run <strong style=\"color:#cdcd00\">chocolate-sweep-36</strong> at: <a href='https://wandb.ai/joaoc-university-of-southampton/spectra-classification-vit/runs/6i77gzj1' target=\"_blank\">https://wandb.ai/joaoc-university-of-southampton/spectra-classification-vit/runs/6i77gzj1</a><br/> View project at: <a href='https://wandb.ai/joaoc-university-of-southampton/spectra-classification-vit' target=\"_blank\">https://wandb.ai/joaoc-university-of-southampton/spectra-classification-vit</a><br/>Synced 5 W&B file(s), 0 media file(s), 0 artifact file(s) and 0 other file(s)"
      ],
      "text/plain": [
       "<IPython.core.display.HTML object>"
      ]
     },
     "metadata": {},
     "output_type": "display_data"
    },
    {
     "data": {
      "text/html": [
       "Find logs at: <code>.\\wandb\\run-20241029_131216-6i77gzj1\\logs</code>"
      ],
      "text/plain": [
       "<IPython.core.display.HTML object>"
      ]
     },
     "metadata": {},
     "output_type": "display_data"
    },
    {
     "name": "stderr",
     "output_type": "stream",
     "text": [
      "wandb: Agent Starting Run: xg6iapcz with config:\n",
      "wandb: \tdepth: 3\n",
      "wandb: \tdim: 128\n",
      "wandb: \tdropout: 0.1\n",
      "wandb: \theads: 8\n",
      "wandb: \tlr: 3e-06\n",
      "wandb: \tmlp_dim: 256\n",
      "wandb: \tpatch_size: 3748\n"
     ]
    },
    {
     "data": {
      "text/html": [
       "Tracking run with wandb version 0.18.5"
      ],
      "text/plain": [
       "<IPython.core.display.HTML object>"
      ]
     },
     "metadata": {},
     "output_type": "display_data"
    },
    {
     "data": {
      "text/html": [
       "Run data is saved locally in <code>c:\\Users\\jcwin\\OneDrive - University of Southampton\\_Southampton\\2024-25\\Star-Classifier\\wandb\\run-20241029_131537-xg6iapcz</code>"
      ],
      "text/plain": [
       "<IPython.core.display.HTML object>"
      ]
     },
     "metadata": {},
     "output_type": "display_data"
    },
    {
     "data": {
      "text/html": [
       "Syncing run <strong><a href='https://wandb.ai/joaoc-university-of-southampton/spectra-classification-vit/runs/xg6iapcz' target=\"_blank\">hearty-sweep-37</a></strong> to <a href='https://wandb.ai/joaoc-university-of-southampton/spectra-classification-vit' target=\"_blank\">Weights & Biases</a> (<a href='https://wandb.me/run' target=\"_blank\">docs</a>)<br/>Sweep page: <a href='https://wandb.ai/joaoc-university-of-southampton/spectra-classification-vit/sweeps/cdqoepyl' target=\"_blank\">https://wandb.ai/joaoc-university-of-southampton/spectra-classification-vit/sweeps/cdqoepyl</a>"
      ],
      "text/plain": [
       "<IPython.core.display.HTML object>"
      ]
     },
     "metadata": {},
     "output_type": "display_data"
    },
    {
     "data": {
      "text/html": [
       " View project at <a href='https://wandb.ai/joaoc-university-of-southampton/spectra-classification-vit' target=\"_blank\">https://wandb.ai/joaoc-university-of-southampton/spectra-classification-vit</a>"
      ],
      "text/plain": [
       "<IPython.core.display.HTML object>"
      ]
     },
     "metadata": {},
     "output_type": "display_data"
    },
    {
     "data": {
      "text/html": [
       " View sweep at <a href='https://wandb.ai/joaoc-university-of-southampton/spectra-classification-vit/sweeps/cdqoepyl' target=\"_blank\">https://wandb.ai/joaoc-university-of-southampton/spectra-classification-vit/sweeps/cdqoepyl</a>"
      ],
      "text/plain": [
       "<IPython.core.display.HTML object>"
      ]
     },
     "metadata": {},
     "output_type": "display_data"
    },
    {
     "data": {
      "text/html": [
       " View run at <a href='https://wandb.ai/joaoc-university-of-southampton/spectra-classification-vit/runs/xg6iapcz' target=\"_blank\">https://wandb.ai/joaoc-university-of-southampton/spectra-classification-vit/runs/xg6iapcz</a>"
      ],
      "text/plain": [
       "<IPython.core.display.HTML object>"
      ]
     },
     "metadata": {},
     "output_type": "display_data"
    },
    {
     "name": "stdout",
     "output_type": "stream",
     "text": [
      "Early stopping triggered.\n"
     ]
    },
    {
     "data": {
      "text/html": [
       "<style>\n",
       "    table.wandb td:nth-child(1) { padding: 0 10px; text-align: left ; width: auto;} td:nth-child(2) {text-align: left ; width: 100%}\n",
       "    .wandb-row { display: flex; flex-direction: row; flex-wrap: wrap; justify-content: flex-start; width: 100% }\n",
       "    .wandb-col { display: flex; flex-direction: column; flex-basis: 100%; flex: 1; padding: 10px; }\n",
       "    </style>\n",
       "<div class=\"wandb-row\"><div class=\"wandb-col\"><h3>Run history:</h3><br/><table class=\"wandb\"><tr><td>epoch</td><td>▁▁▁▁▂▂▂▂▂▂▃▃▃▃▃▃▄▄▅▅▅▅▅▅▅▆▆▆▆▇▇▇▇▇▇█████</td></tr><tr><td>test_accuracy</td><td>▁▁▂▃▄▄▄▅▅▅▅▅▆▆▇▆▆▇██▇▇█▇██▇█▇▇▇▆▆▇▆▇▇▇▇▇</td></tr><tr><td>test_loss</td><td>█▆▆▅▅▃▃▂▂▂▂▁▁▁▁▁▁▁▁▁▁▁▁▁▁▁▁▁▁▁▁▁▁▁▁▁▁▁▁▁</td></tr><tr><td>train_accuracy</td><td>▁▄▄▄▅▅▅▇▅▇▇▇▇▇▇▇▇▆▆▇▇▆█▇▇▇██▆▇▇▇▇█▆█▇█▇▆</td></tr><tr><td>train_loss</td><td>█▆▅▅▅▃▃▃▃▃▂▃▂▂▂▂▂▂▂▂▂▂▂▂▂▂▁▁▁▁▁▁▁▁▁▁▁▁▁▁</td></tr><tr><td>val_accuracy</td><td>▁▂▂▃▃▅▆▇▇▆▇▇▇▇▇▇▇▇▇███████▇█████████████</td></tr><tr><td>val_loss</td><td>█▇▂▂▂▁▁▁▁▁▁▁▁▁▁▁▁▁▁▁▁▁▁▁▁▁▁▁▁▁▁▁▁▁▁▁▁▁▁▁</td></tr></table><br/></div><div class=\"wandb-col\"><h3>Run summary:</h3><br/><table class=\"wandb\"><tr><td>epoch</td><td>211</td></tr><tr><td>test_accuracy</td><td>0.6</td></tr><tr><td>test_loss</td><td>0.56011</td></tr><tr><td>train_accuracy</td><td>0.7734</td></tr><tr><td>train_loss</td><td>0.52098</td></tr><tr><td>val_accuracy</td><td>0.72157</td></tr><tr><td>val_loss</td><td>0.59495</td></tr></table><br/></div></div>"
      ],
      "text/plain": [
       "<IPython.core.display.HTML object>"
      ]
     },
     "metadata": {},
     "output_type": "display_data"
    },
    {
     "data": {
      "text/html": [
       " View run <strong style=\"color:#cdcd00\">hearty-sweep-37</strong> at: <a href='https://wandb.ai/joaoc-university-of-southampton/spectra-classification-vit/runs/xg6iapcz' target=\"_blank\">https://wandb.ai/joaoc-university-of-southampton/spectra-classification-vit/runs/xg6iapcz</a><br/> View project at: <a href='https://wandb.ai/joaoc-university-of-southampton/spectra-classification-vit' target=\"_blank\">https://wandb.ai/joaoc-university-of-southampton/spectra-classification-vit</a><br/>Synced 5 W&B file(s), 0 media file(s), 0 artifact file(s) and 0 other file(s)"
      ],
      "text/plain": [
       "<IPython.core.display.HTML object>"
      ]
     },
     "metadata": {},
     "output_type": "display_data"
    },
    {
     "data": {
      "text/html": [
       "Find logs at: <code>.\\wandb\\run-20241029_131537-xg6iapcz\\logs</code>"
      ],
      "text/plain": [
       "<IPython.core.display.HTML object>"
      ]
     },
     "metadata": {},
     "output_type": "display_data"
    },
    {
     "name": "stderr",
     "output_type": "stream",
     "text": [
      "wandb: Agent Starting Run: nq006e3j with config:\n",
      "wandb: \tdepth: 20\n",
      "wandb: \tdim: 512\n",
      "wandb: \tdropout: 0.1\n",
      "wandb: \theads: 2\n",
      "wandb: \tlr: 3e-05\n",
      "wandb: \tmlp_dim: 128\n",
      "wandb: \tpatch_size: 3748\n"
     ]
    },
    {
     "data": {
      "text/html": [
       "Tracking run with wandb version 0.18.5"
      ],
      "text/plain": [
       "<IPython.core.display.HTML object>"
      ]
     },
     "metadata": {},
     "output_type": "display_data"
    },
    {
     "data": {
      "text/html": [
       "Run data is saved locally in <code>c:\\Users\\jcwin\\OneDrive - University of Southampton\\_Southampton\\2024-25\\Star-Classifier\\wandb\\run-20241029_131725-nq006e3j</code>"
      ],
      "text/plain": [
       "<IPython.core.display.HTML object>"
      ]
     },
     "metadata": {},
     "output_type": "display_data"
    },
    {
     "data": {
      "text/html": [
       "Syncing run <strong><a href='https://wandb.ai/joaoc-university-of-southampton/spectra-classification-vit/runs/nq006e3j' target=\"_blank\">deep-sweep-38</a></strong> to <a href='https://wandb.ai/joaoc-university-of-southampton/spectra-classification-vit' target=\"_blank\">Weights & Biases</a> (<a href='https://wandb.me/run' target=\"_blank\">docs</a>)<br/>Sweep page: <a href='https://wandb.ai/joaoc-university-of-southampton/spectra-classification-vit/sweeps/cdqoepyl' target=\"_blank\">https://wandb.ai/joaoc-university-of-southampton/spectra-classification-vit/sweeps/cdqoepyl</a>"
      ],
      "text/plain": [
       "<IPython.core.display.HTML object>"
      ]
     },
     "metadata": {},
     "output_type": "display_data"
    },
    {
     "data": {
      "text/html": [
       " View project at <a href='https://wandb.ai/joaoc-university-of-southampton/spectra-classification-vit' target=\"_blank\">https://wandb.ai/joaoc-university-of-southampton/spectra-classification-vit</a>"
      ],
      "text/plain": [
       "<IPython.core.display.HTML object>"
      ]
     },
     "metadata": {},
     "output_type": "display_data"
    },
    {
     "data": {
      "text/html": [
       " View sweep at <a href='https://wandb.ai/joaoc-university-of-southampton/spectra-classification-vit/sweeps/cdqoepyl' target=\"_blank\">https://wandb.ai/joaoc-university-of-southampton/spectra-classification-vit/sweeps/cdqoepyl</a>"
      ],
      "text/plain": [
       "<IPython.core.display.HTML object>"
      ]
     },
     "metadata": {},
     "output_type": "display_data"
    },
    {
     "data": {
      "text/html": [
       " View run at <a href='https://wandb.ai/joaoc-university-of-southampton/spectra-classification-vit/runs/nq006e3j' target=\"_blank\">https://wandb.ai/joaoc-university-of-southampton/spectra-classification-vit/runs/nq006e3j</a>"
      ],
      "text/plain": [
       "<IPython.core.display.HTML object>"
      ]
     },
     "metadata": {},
     "output_type": "display_data"
    },
    {
     "name": "stdout",
     "output_type": "stream",
     "text": [
      "Early stopping triggered.\n"
     ]
    },
    {
     "data": {
      "text/html": [
       "<style>\n",
       "    table.wandb td:nth-child(1) { padding: 0 10px; text-align: left ; width: auto;} td:nth-child(2) {text-align: left ; width: 100%}\n",
       "    .wandb-row { display: flex; flex-direction: row; flex-wrap: wrap; justify-content: flex-start; width: 100% }\n",
       "    .wandb-col { display: flex; flex-direction: column; flex-basis: 100%; flex: 1; padding: 10px; }\n",
       "    </style>\n",
       "<div class=\"wandb-row\"><div class=\"wandb-col\"><h3>Run history:</h3><br/><table class=\"wandb\"><tr><td>epoch</td><td>▁▁▁▁▂▂▂▂▂▂▃▃▃▃▃▄▄▄▄▄▅▅▅▅▅▅▆▆▆▆▆▆▆▇▇▇▇▇██</td></tr><tr><td>test_accuracy</td><td>▂▂▂▄▁▃▁▂▁▃▆▆▆▇▆▅▄▄▅▇▇█▇▇▇█▂▂▄▂▂▂▂▂▂▂▂▂▂▂</td></tr><tr><td>test_loss</td><td>▅▅▅▃▅▄▃▃▃▃▂▄▄▃▃▂▁▁▁▂▁▁▂▂█▄▄▄▄▄▄▄▄▄▄▄▄▄▄▄</td></tr><tr><td>train_accuracy</td><td>▂▃▃▁▁▁▄▅▆▅▇▆▆▆▃▇▄▇█▆██▃▄▄▄▅▅▄▄▆▃▄▄▄▄▅▄▄▅</td></tr><tr><td>train_loss</td><td>▇▇▇▇▇▆▇▅▃▅▄▄▃▄▆▃▃▁▁▂▁▁▁▅█▆▆▆▆▆▅▅▅▅▅▅▅▅▅▅</td></tr><tr><td>val_accuracy</td><td>▂▂▂▂▁▂▃▇▇█▇▄▃▄▄▅█▆▇██████▇▁▃▅▃▆▆▆▆▆▆▆▆▆▆</td></tr><tr><td>val_loss</td><td>███████▅▄▆▄▇▅▅▅▃▂▂▃▃▁▁▃▃▂▇▇▇▇▇▆▆▆▆▆▆▆▆▆▆</td></tr></table><br/></div><div class=\"wandb-col\"><h3>Run summary:</h3><br/><table class=\"wandb\"><tr><td>epoch</td><td>64</td></tr><tr><td>test_accuracy</td><td>0.25</td></tr><tr><td>test_loss</td><td>1.31117</td></tr><tr><td>train_accuracy</td><td>0.35961</td></tr><tr><td>train_loss</td><td>1.30292</td></tr><tr><td>val_accuracy</td><td>0.38824</td></tr><tr><td>val_loss</td><td>1.31035</td></tr></table><br/></div></div>"
      ],
      "text/plain": [
       "<IPython.core.display.HTML object>"
      ]
     },
     "metadata": {},
     "output_type": "display_data"
    },
    {
     "data": {
      "text/html": [
       " View run <strong style=\"color:#cdcd00\">deep-sweep-38</strong> at: <a href='https://wandb.ai/joaoc-university-of-southampton/spectra-classification-vit/runs/nq006e3j' target=\"_blank\">https://wandb.ai/joaoc-university-of-southampton/spectra-classification-vit/runs/nq006e3j</a><br/> View project at: <a href='https://wandb.ai/joaoc-university-of-southampton/spectra-classification-vit' target=\"_blank\">https://wandb.ai/joaoc-university-of-southampton/spectra-classification-vit</a><br/>Synced 5 W&B file(s), 0 media file(s), 0 artifact file(s) and 0 other file(s)"
      ],
      "text/plain": [
       "<IPython.core.display.HTML object>"
      ]
     },
     "metadata": {},
     "output_type": "display_data"
    },
    {
     "data": {
      "text/html": [
       "Find logs at: <code>.\\wandb\\run-20241029_131725-nq006e3j\\logs</code>"
      ],
      "text/plain": [
       "<IPython.core.display.HTML object>"
      ]
     },
     "metadata": {},
     "output_type": "display_data"
    },
    {
     "name": "stderr",
     "output_type": "stream",
     "text": [
      "wandb: Agent Starting Run: 799bpznn with config:\n",
      "wandb: \tdepth: 10\n",
      "wandb: \tdim: 512\n",
      "wandb: \tdropout: 0.2\n",
      "wandb: \theads: 8\n",
      "wandb: \tlr: 3e-06\n",
      "wandb: \tmlp_dim: 256\n",
      "wandb: \tpatch_size: 3748\n"
     ]
    },
    {
     "data": {
      "text/html": [
       "Tracking run with wandb version 0.18.5"
      ],
      "text/plain": [
       "<IPython.core.display.HTML object>"
      ]
     },
     "metadata": {},
     "output_type": "display_data"
    },
    {
     "data": {
      "text/html": [
       "Run data is saved locally in <code>c:\\Users\\jcwin\\OneDrive - University of Southampton\\_Southampton\\2024-25\\Star-Classifier\\wandb\\run-20241029_131913-799bpznn</code>"
      ],
      "text/plain": [
       "<IPython.core.display.HTML object>"
      ]
     },
     "metadata": {},
     "output_type": "display_data"
    },
    {
     "data": {
      "text/html": [
       "Syncing run <strong><a href='https://wandb.ai/joaoc-university-of-southampton/spectra-classification-vit/runs/799bpznn' target=\"_blank\">solar-sweep-39</a></strong> to <a href='https://wandb.ai/joaoc-university-of-southampton/spectra-classification-vit' target=\"_blank\">Weights & Biases</a> (<a href='https://wandb.me/run' target=\"_blank\">docs</a>)<br/>Sweep page: <a href='https://wandb.ai/joaoc-university-of-southampton/spectra-classification-vit/sweeps/cdqoepyl' target=\"_blank\">https://wandb.ai/joaoc-university-of-southampton/spectra-classification-vit/sweeps/cdqoepyl</a>"
      ],
      "text/plain": [
       "<IPython.core.display.HTML object>"
      ]
     },
     "metadata": {},
     "output_type": "display_data"
    },
    {
     "data": {
      "text/html": [
       " View project at <a href='https://wandb.ai/joaoc-university-of-southampton/spectra-classification-vit' target=\"_blank\">https://wandb.ai/joaoc-university-of-southampton/spectra-classification-vit</a>"
      ],
      "text/plain": [
       "<IPython.core.display.HTML object>"
      ]
     },
     "metadata": {},
     "output_type": "display_data"
    },
    {
     "data": {
      "text/html": [
       " View sweep at <a href='https://wandb.ai/joaoc-university-of-southampton/spectra-classification-vit/sweeps/cdqoepyl' target=\"_blank\">https://wandb.ai/joaoc-university-of-southampton/spectra-classification-vit/sweeps/cdqoepyl</a>"
      ],
      "text/plain": [
       "<IPython.core.display.HTML object>"
      ]
     },
     "metadata": {},
     "output_type": "display_data"
    },
    {
     "data": {
      "text/html": [
       " View run at <a href='https://wandb.ai/joaoc-university-of-southampton/spectra-classification-vit/runs/799bpznn' target=\"_blank\">https://wandb.ai/joaoc-university-of-southampton/spectra-classification-vit/runs/799bpznn</a>"
      ],
      "text/plain": [
       "<IPython.core.display.HTML object>"
      ]
     },
     "metadata": {},
     "output_type": "display_data"
    },
    {
     "name": "stdout",
     "output_type": "stream",
     "text": [
      "Early stopping triggered.\n"
     ]
    },
    {
     "data": {
      "text/html": [
       "<style>\n",
       "    table.wandb td:nth-child(1) { padding: 0 10px; text-align: left ; width: auto;} td:nth-child(2) {text-align: left ; width: 100%}\n",
       "    .wandb-row { display: flex; flex-direction: row; flex-wrap: wrap; justify-content: flex-start; width: 100% }\n",
       "    .wandb-col { display: flex; flex-direction: column; flex-basis: 100%; flex: 1; padding: 10px; }\n",
       "    </style>\n",
       "<div class=\"wandb-row\"><div class=\"wandb-col\"><h3>Run history:</h3><br/><table class=\"wandb\"><tr><td>epoch</td><td>▁▁▁▂▂▂▂▂▂▂▃▃▃▃▃▃▃▃▃▃▄▄▅▅▅▆▆▆▆▆▇▇▇▇▇▇▇███</td></tr><tr><td>test_accuracy</td><td>▂▁▂▃▆▆▇▇▇▆▆▇▆▆▅▆▇▇▅▇▇▇▇▇▆▇█▇▇▇▆▇▇▇▆▇▇▇▇▇</td></tr><tr><td>test_loss</td><td>█▇▃▃▂▁▁▁▁▁▁▁▁▁▁▁▁▁▁▁▁▁▁▁▁▁▁▁▁▁▁▁▁▁▁▁▁▁▁▁</td></tr><tr><td>train_accuracy</td><td>▁▃▄▅▅▆▇▇▆▆▆▇▆▆▇▆▇▆█▆▇█████▇▆█▇▆▇▇▇█▆▆▇▆█</td></tr><tr><td>train_loss</td><td>██▆▄▃▂▂▂▂▂▂▂▂▂▂▁▂▂▁▂▂▁▁▁▁▁▁▁▁▁▁▁▁▁▁▁▁▁▁▁</td></tr><tr><td>val_accuracy</td><td>▁▃▄▄▄▆▇▇▇▇▇▇▇▇▇▇███▇▇█████▇███▇█▇█▇▇████</td></tr><tr><td>val_loss</td><td>█▅▄▃▂▁▁▁▁▁▁▁▁▁▁▁▁▁▁▁▁▁▁▁▁▁▁▁▁▁▁▁▁▁▁▁▁▁▁▁</td></tr></table><br/></div><div class=\"wandb-col\"><h3>Run summary:</h3><br/><table class=\"wandb\"><tr><td>epoch</td><td>133</td></tr><tr><td>test_accuracy</td><td>0.65</td></tr><tr><td>test_loss</td><td>0.56905</td></tr><tr><td>train_accuracy</td><td>0.7734</td></tr><tr><td>train_loss</td><td>0.51375</td></tr><tr><td>val_accuracy</td><td>0.72941</td></tr><tr><td>val_loss</td><td>0.59985</td></tr></table><br/></div></div>"
      ],
      "text/plain": [
       "<IPython.core.display.HTML object>"
      ]
     },
     "metadata": {},
     "output_type": "display_data"
    },
    {
     "data": {
      "text/html": [
       " View run <strong style=\"color:#cdcd00\">solar-sweep-39</strong> at: <a href='https://wandb.ai/joaoc-university-of-southampton/spectra-classification-vit/runs/799bpznn' target=\"_blank\">https://wandb.ai/joaoc-university-of-southampton/spectra-classification-vit/runs/799bpznn</a><br/> View project at: <a href='https://wandb.ai/joaoc-university-of-southampton/spectra-classification-vit' target=\"_blank\">https://wandb.ai/joaoc-university-of-southampton/spectra-classification-vit</a><br/>Synced 5 W&B file(s), 0 media file(s), 0 artifact file(s) and 0 other file(s)"
      ],
      "text/plain": [
       "<IPython.core.display.HTML object>"
      ]
     },
     "metadata": {},
     "output_type": "display_data"
    },
    {
     "data": {
      "text/html": [
       "Find logs at: <code>.\\wandb\\run-20241029_131913-799bpznn\\logs</code>"
      ],
      "text/plain": [
       "<IPython.core.display.HTML object>"
      ]
     },
     "metadata": {},
     "output_type": "display_data"
    },
    {
     "name": "stderr",
     "output_type": "stream",
     "text": [
      "wandb: Sweep Agent: Waiting for job.\n",
      "wandb: Job received.\n",
      "wandb: Agent Starting Run: xiyfcymi with config:\n",
      "wandb: \tdepth: 20\n",
      "wandb: \tdim: 16\n",
      "wandb: \tdropout: 0.1\n",
      "wandb: \theads: 8\n",
      "wandb: \tlr: 3e-06\n",
      "wandb: \tmlp_dim: 128\n",
      "wandb: \tpatch_size: 3748\n"
     ]
    },
    {
     "data": {
      "text/html": [
       "Tracking run with wandb version 0.18.5"
      ],
      "text/plain": [
       "<IPython.core.display.HTML object>"
      ]
     },
     "metadata": {},
     "output_type": "display_data"
    },
    {
     "data": {
      "text/html": [
       "Run data is saved locally in <code>c:\\Users\\jcwin\\OneDrive - University of Southampton\\_Southampton\\2024-25\\Star-Classifier\\wandb\\run-20241029_132142-xiyfcymi</code>"
      ],
      "text/plain": [
       "<IPython.core.display.HTML object>"
      ]
     },
     "metadata": {},
     "output_type": "display_data"
    },
    {
     "data": {
      "text/html": [
       "Syncing run <strong><a href='https://wandb.ai/joaoc-university-of-southampton/spectra-classification-vit/runs/xiyfcymi' target=\"_blank\">exalted-sweep-40</a></strong> to <a href='https://wandb.ai/joaoc-university-of-southampton/spectra-classification-vit' target=\"_blank\">Weights & Biases</a> (<a href='https://wandb.me/run' target=\"_blank\">docs</a>)<br/>Sweep page: <a href='https://wandb.ai/joaoc-university-of-southampton/spectra-classification-vit/sweeps/cdqoepyl' target=\"_blank\">https://wandb.ai/joaoc-university-of-southampton/spectra-classification-vit/sweeps/cdqoepyl</a>"
      ],
      "text/plain": [
       "<IPython.core.display.HTML object>"
      ]
     },
     "metadata": {},
     "output_type": "display_data"
    },
    {
     "data": {
      "text/html": [
       " View project at <a href='https://wandb.ai/joaoc-university-of-southampton/spectra-classification-vit' target=\"_blank\">https://wandb.ai/joaoc-university-of-southampton/spectra-classification-vit</a>"
      ],
      "text/plain": [
       "<IPython.core.display.HTML object>"
      ]
     },
     "metadata": {},
     "output_type": "display_data"
    },
    {
     "data": {
      "text/html": [
       " View sweep at <a href='https://wandb.ai/joaoc-university-of-southampton/spectra-classification-vit/sweeps/cdqoepyl' target=\"_blank\">https://wandb.ai/joaoc-university-of-southampton/spectra-classification-vit/sweeps/cdqoepyl</a>"
      ],
      "text/plain": [
       "<IPython.core.display.HTML object>"
      ]
     },
     "metadata": {},
     "output_type": "display_data"
    },
    {
     "data": {
      "text/html": [
       " View run at <a href='https://wandb.ai/joaoc-university-of-southampton/spectra-classification-vit/runs/xiyfcymi' target=\"_blank\">https://wandb.ai/joaoc-university-of-southampton/spectra-classification-vit/runs/xiyfcymi</a>"
      ],
      "text/plain": [
       "<IPython.core.display.HTML object>"
      ]
     },
     "metadata": {},
     "output_type": "display_data"
    },
    {
     "data": {
      "text/html": [
       "<style>\n",
       "    table.wandb td:nth-child(1) { padding: 0 10px; text-align: left ; width: auto;} td:nth-child(2) {text-align: left ; width: 100%}\n",
       "    .wandb-row { display: flex; flex-direction: row; flex-wrap: wrap; justify-content: flex-start; width: 100% }\n",
       "    .wandb-col { display: flex; flex-direction: column; flex-basis: 100%; flex: 1; padding: 10px; }\n",
       "    </style>\n",
       "<div class=\"wandb-row\"><div class=\"wandb-col\"><h3>Run history:</h3><br/><table class=\"wandb\"><tr><td>epoch</td><td>▁▁▁▁▂▂▂▂▃▃▃▃▃▄▄▄▄▄▄▄▅▅▅▅▅▆▆▆▆▆▆▇▇▇▇█████</td></tr><tr><td>test_accuracy</td><td>▁▁▁▄▄▄▄▆▆▆▆▆▆▆▆▆▆▆▇▇▇▇▇▇▇▇▇▇███▇█▇██████</td></tr><tr><td>test_loss</td><td>███▅▄▄▄▃▃▃▃▂▂▂▂▂▂▂▂▂▂▂▂▁▁▁▁▁▁▁▁▁▁▁▁▁▁▁▁▁</td></tr><tr><td>train_accuracy</td><td>▁▂▂▄▄▅▆▆▆▆▆▇▆▇▆▆▇▆▆▆▇█▆▇▆▇█▆▇▆▇▇▇▆▇▆▆▇▇▇</td></tr><tr><td>train_loss</td><td>██▇▇▇▆▆▅▅▄▃▃▃▃▂▂▂▂▂▂▂▂▁▁▁▁▁▁▁▁▁▁▁▁▁▁▁▁▁▁</td></tr><tr><td>val_accuracy</td><td>▁▃▃▃▅▅▅▅▅▇▇████▇▇▇▇▇▇█▇█████▇██▇███▇██▇▇</td></tr><tr><td>val_loss</td><td>██▇▇▇▅▄▄▃▃▃▃▃▃▃▂▂▂▂▂▂▂▂▂▂▁▁▁▁▁▁▁▁▁▁▁▁▁▁▁</td></tr></table><br/></div><div class=\"wandb-col\"><h3>Run summary:</h3><br/><table class=\"wandb\"><tr><td>epoch</td><td>299</td></tr><tr><td>test_accuracy</td><td>0.625</td></tr><tr><td>test_loss</td><td>0.67706</td></tr><tr><td>train_accuracy</td><td>0.72414</td></tr><tr><td>train_loss</td><td>0.69333</td></tr><tr><td>val_accuracy</td><td>0.64706</td></tr><tr><td>val_loss</td><td>0.70214</td></tr></table><br/></div></div>"
      ],
      "text/plain": [
       "<IPython.core.display.HTML object>"
      ]
     },
     "metadata": {},
     "output_type": "display_data"
    },
    {
     "data": {
      "text/html": [
       " View run <strong style=\"color:#cdcd00\">exalted-sweep-40</strong> at: <a href='https://wandb.ai/joaoc-university-of-southampton/spectra-classification-vit/runs/xiyfcymi' target=\"_blank\">https://wandb.ai/joaoc-university-of-southampton/spectra-classification-vit/runs/xiyfcymi</a><br/> View project at: <a href='https://wandb.ai/joaoc-university-of-southampton/spectra-classification-vit' target=\"_blank\">https://wandb.ai/joaoc-university-of-southampton/spectra-classification-vit</a><br/>Synced 5 W&B file(s), 0 media file(s), 0 artifact file(s) and 0 other file(s)"
      ],
      "text/plain": [
       "<IPython.core.display.HTML object>"
      ]
     },
     "metadata": {},
     "output_type": "display_data"
    },
    {
     "data": {
      "text/html": [
       "Find logs at: <code>.\\wandb\\run-20241029_132142-xiyfcymi\\logs</code>"
      ],
      "text/plain": [
       "<IPython.core.display.HTML object>"
      ]
     },
     "metadata": {},
     "output_type": "display_data"
    },
    {
     "name": "stderr",
     "output_type": "stream",
     "text": [
      "wandb: Agent Starting Run: c0abyqam with config:\n",
      "wandb: \tdepth: 20\n",
      "wandb: \tdim: 128\n",
      "wandb: \tdropout: 0.4\n",
      "wandb: \theads: 8\n",
      "wandb: \tlr: 3e-05\n",
      "wandb: \tmlp_dim: 64\n",
      "wandb: \tpatch_size: 3748\n"
     ]
    },
    {
     "data": {
      "text/html": [
       "Tracking run with wandb version 0.18.5"
      ],
      "text/plain": [
       "<IPython.core.display.HTML object>"
      ]
     },
     "metadata": {},
     "output_type": "display_data"
    },
    {
     "data": {
      "text/html": [
       "Run data is saved locally in <code>c:\\Users\\jcwin\\OneDrive - University of Southampton\\_Southampton\\2024-25\\Star-Classifier\\wandb\\run-20241029_133058-c0abyqam</code>"
      ],
      "text/plain": [
       "<IPython.core.display.HTML object>"
      ]
     },
     "metadata": {},
     "output_type": "display_data"
    },
    {
     "data": {
      "text/html": [
       "Syncing run <strong><a href='https://wandb.ai/joaoc-university-of-southampton/spectra-classification-vit/runs/c0abyqam' target=\"_blank\">peachy-sweep-41</a></strong> to <a href='https://wandb.ai/joaoc-university-of-southampton/spectra-classification-vit' target=\"_blank\">Weights & Biases</a> (<a href='https://wandb.me/run' target=\"_blank\">docs</a>)<br/>Sweep page: <a href='https://wandb.ai/joaoc-university-of-southampton/spectra-classification-vit/sweeps/cdqoepyl' target=\"_blank\">https://wandb.ai/joaoc-university-of-southampton/spectra-classification-vit/sweeps/cdqoepyl</a>"
      ],
      "text/plain": [
       "<IPython.core.display.HTML object>"
      ]
     },
     "metadata": {},
     "output_type": "display_data"
    },
    {
     "data": {
      "text/html": [
       " View project at <a href='https://wandb.ai/joaoc-university-of-southampton/spectra-classification-vit' target=\"_blank\">https://wandb.ai/joaoc-university-of-southampton/spectra-classification-vit</a>"
      ],
      "text/plain": [
       "<IPython.core.display.HTML object>"
      ]
     },
     "metadata": {},
     "output_type": "display_data"
    },
    {
     "data": {
      "text/html": [
       " View sweep at <a href='https://wandb.ai/joaoc-university-of-southampton/spectra-classification-vit/sweeps/cdqoepyl' target=\"_blank\">https://wandb.ai/joaoc-university-of-southampton/spectra-classification-vit/sweeps/cdqoepyl</a>"
      ],
      "text/plain": [
       "<IPython.core.display.HTML object>"
      ]
     },
     "metadata": {},
     "output_type": "display_data"
    },
    {
     "data": {
      "text/html": [
       " View run at <a href='https://wandb.ai/joaoc-university-of-southampton/spectra-classification-vit/runs/c0abyqam' target=\"_blank\">https://wandb.ai/joaoc-university-of-southampton/spectra-classification-vit/runs/c0abyqam</a>"
      ],
      "text/plain": [
       "<IPython.core.display.HTML object>"
      ]
     },
     "metadata": {},
     "output_type": "display_data"
    },
    {
     "name": "stdout",
     "output_type": "stream",
     "text": [
      "Early stopping triggered.\n"
     ]
    },
    {
     "data": {
      "text/html": [
       "<style>\n",
       "    table.wandb td:nth-child(1) { padding: 0 10px; text-align: left ; width: auto;} td:nth-child(2) {text-align: left ; width: 100%}\n",
       "    .wandb-row { display: flex; flex-direction: row; flex-wrap: wrap; justify-content: flex-start; width: 100% }\n",
       "    .wandb-col { display: flex; flex-direction: column; flex-basis: 100%; flex: 1; padding: 10px; }\n",
       "    </style>\n",
       "<div class=\"wandb-row\"><div class=\"wandb-col\"><h3>Run history:</h3><br/><table class=\"wandb\"><tr><td>epoch</td><td>▁▁▁▁▁▂▂▂▂▂▂▂▃▃▃▄▄▄▄▄▅▅▅▅▅▆▆▆▆▆▇▇▇▇▇▇▇███</td></tr><tr><td>test_accuracy</td><td>▂▁▂▅▆▇▇▆▇▇█▇▇▇▇▇▆▇███▇▇██▇▇▇▇█▇▇▇▇▇▇▇▇▇▇</td></tr><tr><td>test_loss</td><td>███▅▄▂▂▂▁▂▁▁▁▁▁▂▁▁▁▁▁▁▁▁▁▁▁▁▁▁▁▁▁▁▁▁▁▁▁▁</td></tr><tr><td>train_accuracy</td><td>▁▁▃▅▇▇█▇▇▇▇▇▇▇▇▇▇█▇█▆█▇█▇▇▇█▇▇████▇███▇▇</td></tr><tr><td>train_loss</td><td>███▆▅▃▂▂▂▂▂▂▂▂▂▂▁▂▂▁▂▁▁▁▁▁▁▁▁▁▁▁▁▁▁▁▁▁▁▁</td></tr><tr><td>val_accuracy</td><td>▁▁▁▁▄▆▇██████████████████████████▇██████</td></tr><tr><td>val_loss</td><td>█▅▄▃▁▁▁▁▁▁▁▁▁▂▁▁▁▁▁▁▁▁▁▁▁▁▁▁▁▁▁▁▁▂▁▁▁▁▁▁</td></tr></table><br/></div><div class=\"wandb-col\"><h3>Run summary:</h3><br/><table class=\"wandb\"><tr><td>epoch</td><td>74</td></tr><tr><td>test_accuracy</td><td>0.65</td></tr><tr><td>test_loss</td><td>0.63143</td></tr><tr><td>train_accuracy</td><td>0.74877</td></tr><tr><td>train_loss</td><td>0.56208</td></tr><tr><td>val_accuracy</td><td>0.69804</td></tr><tr><td>val_loss</td><td>0.68545</td></tr></table><br/></div></div>"
      ],
      "text/plain": [
       "<IPython.core.display.HTML object>"
      ]
     },
     "metadata": {},
     "output_type": "display_data"
    },
    {
     "data": {
      "text/html": [
       " View run <strong style=\"color:#cdcd00\">peachy-sweep-41</strong> at: <a href='https://wandb.ai/joaoc-university-of-southampton/spectra-classification-vit/runs/c0abyqam' target=\"_blank\">https://wandb.ai/joaoc-university-of-southampton/spectra-classification-vit/runs/c0abyqam</a><br/> View project at: <a href='https://wandb.ai/joaoc-university-of-southampton/spectra-classification-vit' target=\"_blank\">https://wandb.ai/joaoc-university-of-southampton/spectra-classification-vit</a><br/>Synced 5 W&B file(s), 0 media file(s), 0 artifact file(s) and 0 other file(s)"
      ],
      "text/plain": [
       "<IPython.core.display.HTML object>"
      ]
     },
     "metadata": {},
     "output_type": "display_data"
    },
    {
     "data": {
      "text/html": [
       "Find logs at: <code>.\\wandb\\run-20241029_133058-c0abyqam\\logs</code>"
      ],
      "text/plain": [
       "<IPython.core.display.HTML object>"
      ]
     },
     "metadata": {},
     "output_type": "display_data"
    },
    {
     "name": "stderr",
     "output_type": "stream",
     "text": [
      "wandb: Agent Starting Run: g8np9v68 with config:\n",
      "wandb: \tdepth: 20\n",
      "wandb: \tdim: 512\n",
      "wandb: \tdropout: 0.2\n",
      "wandb: \theads: 8\n",
      "wandb: \tlr: 3e-06\n",
      "wandb: \tmlp_dim: 128\n",
      "wandb: \tpatch_size: 3748\n"
     ]
    },
    {
     "data": {
      "text/html": [
       "Tracking run with wandb version 0.18.5"
      ],
      "text/plain": [
       "<IPython.core.display.HTML object>"
      ]
     },
     "metadata": {},
     "output_type": "display_data"
    },
    {
     "data": {
      "text/html": [
       "Run data is saved locally in <code>c:\\Users\\jcwin\\OneDrive - University of Southampton\\_Southampton\\2024-25\\Star-Classifier\\wandb\\run-20241029_133307-g8np9v68</code>"
      ],
      "text/plain": [
       "<IPython.core.display.HTML object>"
      ]
     },
     "metadata": {},
     "output_type": "display_data"
    },
    {
     "data": {
      "text/html": [
       "Syncing run <strong><a href='https://wandb.ai/joaoc-university-of-southampton/spectra-classification-vit/runs/g8np9v68' target=\"_blank\">breezy-sweep-42</a></strong> to <a href='https://wandb.ai/joaoc-university-of-southampton/spectra-classification-vit' target=\"_blank\">Weights & Biases</a> (<a href='https://wandb.me/run' target=\"_blank\">docs</a>)<br/>Sweep page: <a href='https://wandb.ai/joaoc-university-of-southampton/spectra-classification-vit/sweeps/cdqoepyl' target=\"_blank\">https://wandb.ai/joaoc-university-of-southampton/spectra-classification-vit/sweeps/cdqoepyl</a>"
      ],
      "text/plain": [
       "<IPython.core.display.HTML object>"
      ]
     },
     "metadata": {},
     "output_type": "display_data"
    },
    {
     "data": {
      "text/html": [
       " View project at <a href='https://wandb.ai/joaoc-university-of-southampton/spectra-classification-vit' target=\"_blank\">https://wandb.ai/joaoc-university-of-southampton/spectra-classification-vit</a>"
      ],
      "text/plain": [
       "<IPython.core.display.HTML object>"
      ]
     },
     "metadata": {},
     "output_type": "display_data"
    },
    {
     "data": {
      "text/html": [
       " View sweep at <a href='https://wandb.ai/joaoc-university-of-southampton/spectra-classification-vit/sweeps/cdqoepyl' target=\"_blank\">https://wandb.ai/joaoc-university-of-southampton/spectra-classification-vit/sweeps/cdqoepyl</a>"
      ],
      "text/plain": [
       "<IPython.core.display.HTML object>"
      ]
     },
     "metadata": {},
     "output_type": "display_data"
    },
    {
     "data": {
      "text/html": [
       " View run at <a href='https://wandb.ai/joaoc-university-of-southampton/spectra-classification-vit/runs/g8np9v68' target=\"_blank\">https://wandb.ai/joaoc-university-of-southampton/spectra-classification-vit/runs/g8np9v68</a>"
      ],
      "text/plain": [
       "<IPython.core.display.HTML object>"
      ]
     },
     "metadata": {},
     "output_type": "display_data"
    },
    {
     "name": "stdout",
     "output_type": "stream",
     "text": [
      "Early stopping triggered.\n"
     ]
    },
    {
     "data": {
      "text/html": [
       "<style>\n",
       "    table.wandb td:nth-child(1) { padding: 0 10px; text-align: left ; width: auto;} td:nth-child(2) {text-align: left ; width: 100%}\n",
       "    .wandb-row { display: flex; flex-direction: row; flex-wrap: wrap; justify-content: flex-start; width: 100% }\n",
       "    .wandb-col { display: flex; flex-direction: column; flex-basis: 100%; flex: 1; padding: 10px; }\n",
       "    </style>\n",
       "<div class=\"wandb-row\"><div class=\"wandb-col\"><h3>Run history:</h3><br/><table class=\"wandb\"><tr><td>epoch</td><td>▁▁▁▂▂▃▃▃▃▃▃▃▃▃▃▄▄▄▄▅▅▅▅▆▆▆▆▆▆▆▆▇▇▇▇█████</td></tr><tr><td>test_accuracy</td><td>▁▁▁▁▁▂▅▅▆▇█▇█████████▇▇█████▇▇▇█████▇▇▇█</td></tr><tr><td>test_loss</td><td>████▇▄▂▂▂▂▂▁▁▁▁▁▁▁▁▁▁▁▁▁▁▁▁▁▁▁▁▁▁▁▁▁▁▁▁▁</td></tr><tr><td>train_accuracy</td><td>▁▂▂▃▅▆▆▆▆▆▇▇▇▇▇▆▇▇▆▇▇▆█▆▆▇█▇▇▇▆▇▇█▇██▇██</td></tr><tr><td>train_loss</td><td>███▆▆▃▂▂▂▂▂▂▂▂▂▂▂▂▁▂▁▁▁▁▁▁▁▁▁▁▁▁▁▁▁▁▁▁▁▁</td></tr><tr><td>val_accuracy</td><td>▁▁▁▁▁▄▃▅▆▆███▇██████████████████████████</td></tr><tr><td>val_loss</td><td>█████▃▂▂▁▁▁▁▁▁▁▁▁▁▁▁▁▁▁▁▁▁▁▁▁▁▁▁▁▁▁▁▁▁▁▁</td></tr></table><br/></div><div class=\"wandb-col\"><h3>Run summary:</h3><br/><table class=\"wandb\"><tr><td>epoch</td><td>143</td></tr><tr><td>test_accuracy</td><td>0.65</td></tr><tr><td>test_loss</td><td>0.60025</td></tr><tr><td>train_accuracy</td><td>0.72906</td></tr><tr><td>train_loss</td><td>0.5535</td></tr><tr><td>val_accuracy</td><td>0.7098</td></tr><tr><td>val_loss</td><td>0.6314</td></tr></table><br/></div></div>"
      ],
      "text/plain": [
       "<IPython.core.display.HTML object>"
      ]
     },
     "metadata": {},
     "output_type": "display_data"
    },
    {
     "data": {
      "text/html": [
       " View run <strong style=\"color:#cdcd00\">breezy-sweep-42</strong> at: <a href='https://wandb.ai/joaoc-university-of-southampton/spectra-classification-vit/runs/g8np9v68' target=\"_blank\">https://wandb.ai/joaoc-university-of-southampton/spectra-classification-vit/runs/g8np9v68</a><br/> View project at: <a href='https://wandb.ai/joaoc-university-of-southampton/spectra-classification-vit' target=\"_blank\">https://wandb.ai/joaoc-university-of-southampton/spectra-classification-vit</a><br/>Synced 5 W&B file(s), 0 media file(s), 0 artifact file(s) and 0 other file(s)"
      ],
      "text/plain": [
       "<IPython.core.display.HTML object>"
      ]
     },
     "metadata": {},
     "output_type": "display_data"
    },
    {
     "data": {
      "text/html": [
       "Find logs at: <code>.\\wandb\\run-20241029_133307-g8np9v68\\logs</code>"
      ],
      "text/plain": [
       "<IPython.core.display.HTML object>"
      ]
     },
     "metadata": {},
     "output_type": "display_data"
    },
    {
     "name": "stderr",
     "output_type": "stream",
     "text": [
      "wandb: Agent Starting Run: 1vuc0y32 with config:\n",
      "wandb: \tdepth: 20\n",
      "wandb: \tdim: 16\n",
      "wandb: \tdropout: 0.3\n",
      "wandb: \theads: 2\n",
      "wandb: \tlr: 3e-06\n",
      "wandb: \tmlp_dim: 64\n",
      "wandb: \tpatch_size: 3748\n"
     ]
    },
    {
     "data": {
      "text/html": [
       "Tracking run with wandb version 0.18.5"
      ],
      "text/plain": [
       "<IPython.core.display.HTML object>"
      ]
     },
     "metadata": {},
     "output_type": "display_data"
    },
    {
     "data": {
      "text/html": [
       "Run data is saved locally in <code>c:\\Users\\jcwin\\OneDrive - University of Southampton\\_Southampton\\2024-25\\Star-Classifier\\wandb\\run-20241029_133714-1vuc0y32</code>"
      ],
      "text/plain": [
       "<IPython.core.display.HTML object>"
      ]
     },
     "metadata": {},
     "output_type": "display_data"
    },
    {
     "data": {
      "text/html": [
       "Syncing run <strong><a href='https://wandb.ai/joaoc-university-of-southampton/spectra-classification-vit/runs/1vuc0y32' target=\"_blank\">toasty-sweep-43</a></strong> to <a href='https://wandb.ai/joaoc-university-of-southampton/spectra-classification-vit' target=\"_blank\">Weights & Biases</a> (<a href='https://wandb.me/run' target=\"_blank\">docs</a>)<br/>Sweep page: <a href='https://wandb.ai/joaoc-university-of-southampton/spectra-classification-vit/sweeps/cdqoepyl' target=\"_blank\">https://wandb.ai/joaoc-university-of-southampton/spectra-classification-vit/sweeps/cdqoepyl</a>"
      ],
      "text/plain": [
       "<IPython.core.display.HTML object>"
      ]
     },
     "metadata": {},
     "output_type": "display_data"
    },
    {
     "data": {
      "text/html": [
       " View project at <a href='https://wandb.ai/joaoc-university-of-southampton/spectra-classification-vit' target=\"_blank\">https://wandb.ai/joaoc-university-of-southampton/spectra-classification-vit</a>"
      ],
      "text/plain": [
       "<IPython.core.display.HTML object>"
      ]
     },
     "metadata": {},
     "output_type": "display_data"
    },
    {
     "data": {
      "text/html": [
       " View sweep at <a href='https://wandb.ai/joaoc-university-of-southampton/spectra-classification-vit/sweeps/cdqoepyl' target=\"_blank\">https://wandb.ai/joaoc-university-of-southampton/spectra-classification-vit/sweeps/cdqoepyl</a>"
      ],
      "text/plain": [
       "<IPython.core.display.HTML object>"
      ]
     },
     "metadata": {},
     "output_type": "display_data"
    },
    {
     "data": {
      "text/html": [
       " View run at <a href='https://wandb.ai/joaoc-university-of-southampton/spectra-classification-vit/runs/1vuc0y32' target=\"_blank\">https://wandb.ai/joaoc-university-of-southampton/spectra-classification-vit/runs/1vuc0y32</a>"
      ],
      "text/plain": [
       "<IPython.core.display.HTML object>"
      ]
     },
     "metadata": {},
     "output_type": "display_data"
    },
    {
     "data": {
      "text/html": [
       "<style>\n",
       "    table.wandb td:nth-child(1) { padding: 0 10px; text-align: left ; width: auto;} td:nth-child(2) {text-align: left ; width: 100%}\n",
       "    .wandb-row { display: flex; flex-direction: row; flex-wrap: wrap; justify-content: flex-start; width: 100% }\n",
       "    .wandb-col { display: flex; flex-direction: column; flex-basis: 100%; flex: 1; padding: 10px; }\n",
       "    </style>\n",
       "<div class=\"wandb-row\"><div class=\"wandb-col\"><h3>Run history:</h3><br/><table class=\"wandb\"><tr><td>epoch</td><td>▁▁▁▁▂▂▂▂▂▃▃▃▃▃▃▄▄▄▄▄▅▅▅▅▅▅▆▆▆▆▇▇▇▇▇▇████</td></tr><tr><td>test_accuracy</td><td>▂▂▂▂▂▂▁▁▂▂▃▃▃▃▄▄▄▆▅▅▆▆▇█▇▇▇▇▇▇▇▇▇▇███▇█▇</td></tr><tr><td>test_loss</td><td>█▇▇▇▇▆▆▆▆▅▅▅▅▅▅▅▅▅▄▄▄▄▄▄▃▂▂▂▂▁▁▁▁▁▁▁▁▁▁▁</td></tr><tr><td>train_accuracy</td><td>▂▂▁▂▃▅▄▅▆▄▄▆▅▅▅▆▅▅▆▅▅▆▆▇▆▆▇█▆▇▇█▇█▇█▇▇▇▇</td></tr><tr><td>train_loss</td><td>███▇▆▆▆▆▆▆▅▅▅▅▄▄▄▄▄▄▃▃▃▃▃▃▃▃▂▂▂▂▂▂▂▁▁▁▁▁</td></tr><tr><td>val_accuracy</td><td>▁▁▁▁▁▁▂▃▅▅▅▆▆▆▆▆▆▆▆▆▆▇▇▇▇███████████████</td></tr><tr><td>val_loss</td><td>█▇▇▇▇▇▆▆▆▆▅▅▅▅▅▄▄▄▄▄▄▄▃▂▂▂▂▂▂▂▁▁▁▁▁▁▁▁▁▁</td></tr></table><br/></div><div class=\"wandb-col\"><h3>Run summary:</h3><br/><table class=\"wandb\"><tr><td>epoch</td><td>299</td></tr><tr><td>test_accuracy</td><td>0.575</td></tr><tr><td>test_loss</td><td>0.73953</td></tr><tr><td>train_accuracy</td><td>0.6601</td></tr><tr><td>train_loss</td><td>0.77345</td></tr><tr><td>val_accuracy</td><td>0.64314</td></tr><tr><td>val_loss</td><td>0.75439</td></tr></table><br/></div></div>"
      ],
      "text/plain": [
       "<IPython.core.display.HTML object>"
      ]
     },
     "metadata": {},
     "output_type": "display_data"
    },
    {
     "data": {
      "text/html": [
       " View run <strong style=\"color:#cdcd00\">toasty-sweep-43</strong> at: <a href='https://wandb.ai/joaoc-university-of-southampton/spectra-classification-vit/runs/1vuc0y32' target=\"_blank\">https://wandb.ai/joaoc-university-of-southampton/spectra-classification-vit/runs/1vuc0y32</a><br/> View project at: <a href='https://wandb.ai/joaoc-university-of-southampton/spectra-classification-vit' target=\"_blank\">https://wandb.ai/joaoc-university-of-southampton/spectra-classification-vit</a><br/>Synced 5 W&B file(s), 0 media file(s), 0 artifact file(s) and 0 other file(s)"
      ],
      "text/plain": [
       "<IPython.core.display.HTML object>"
      ]
     },
     "metadata": {},
     "output_type": "display_data"
    },
    {
     "data": {
      "text/html": [
       "Find logs at: <code>.\\wandb\\run-20241029_133714-1vuc0y32\\logs</code>"
      ],
      "text/plain": [
       "<IPython.core.display.HTML object>"
      ]
     },
     "metadata": {},
     "output_type": "display_data"
    },
    {
     "name": "stderr",
     "output_type": "stream",
     "text": [
      "wandb: Agent Starting Run: k4xzvip0 with config:\n",
      "wandb: \tdepth: 20\n",
      "wandb: \tdim: 128\n",
      "wandb: \tdropout: 0.3\n",
      "wandb: \theads: 8\n",
      "wandb: \tlr: 3e-05\n",
      "wandb: \tmlp_dim: 256\n",
      "wandb: \tpatch_size: 3748\n"
     ]
    },
    {
     "data": {
      "text/html": [
       "Tracking run with wandb version 0.18.5"
      ],
      "text/plain": [
       "<IPython.core.display.HTML object>"
      ]
     },
     "metadata": {},
     "output_type": "display_data"
    },
    {
     "data": {
      "text/html": [
       "Run data is saved locally in <code>c:\\Users\\jcwin\\OneDrive - University of Southampton\\_Southampton\\2024-25\\Star-Classifier\\wandb\\run-20241029_134507-k4xzvip0</code>"
      ],
      "text/plain": [
       "<IPython.core.display.HTML object>"
      ]
     },
     "metadata": {},
     "output_type": "display_data"
    },
    {
     "data": {
      "text/html": [
       "Syncing run <strong><a href='https://wandb.ai/joaoc-university-of-southampton/spectra-classification-vit/runs/k4xzvip0' target=\"_blank\">warm-sweep-44</a></strong> to <a href='https://wandb.ai/joaoc-university-of-southampton/spectra-classification-vit' target=\"_blank\">Weights & Biases</a> (<a href='https://wandb.me/run' target=\"_blank\">docs</a>)<br/>Sweep page: <a href='https://wandb.ai/joaoc-university-of-southampton/spectra-classification-vit/sweeps/cdqoepyl' target=\"_blank\">https://wandb.ai/joaoc-university-of-southampton/spectra-classification-vit/sweeps/cdqoepyl</a>"
      ],
      "text/plain": [
       "<IPython.core.display.HTML object>"
      ]
     },
     "metadata": {},
     "output_type": "display_data"
    },
    {
     "data": {
      "text/html": [
       " View project at <a href='https://wandb.ai/joaoc-university-of-southampton/spectra-classification-vit' target=\"_blank\">https://wandb.ai/joaoc-university-of-southampton/spectra-classification-vit</a>"
      ],
      "text/plain": [
       "<IPython.core.display.HTML object>"
      ]
     },
     "metadata": {},
     "output_type": "display_data"
    },
    {
     "data": {
      "text/html": [
       " View sweep at <a href='https://wandb.ai/joaoc-university-of-southampton/spectra-classification-vit/sweeps/cdqoepyl' target=\"_blank\">https://wandb.ai/joaoc-university-of-southampton/spectra-classification-vit/sweeps/cdqoepyl</a>"
      ],
      "text/plain": [
       "<IPython.core.display.HTML object>"
      ]
     },
     "metadata": {},
     "output_type": "display_data"
    },
    {
     "data": {
      "text/html": [
       " View run at <a href='https://wandb.ai/joaoc-university-of-southampton/spectra-classification-vit/runs/k4xzvip0' target=\"_blank\">https://wandb.ai/joaoc-university-of-southampton/spectra-classification-vit/runs/k4xzvip0</a>"
      ],
      "text/plain": [
       "<IPython.core.display.HTML object>"
      ]
     },
     "metadata": {},
     "output_type": "display_data"
    },
    {
     "name": "stdout",
     "output_type": "stream",
     "text": [
      "Early stopping triggered.\n"
     ]
    },
    {
     "data": {
      "text/html": [
       "<style>\n",
       "    table.wandb td:nth-child(1) { padding: 0 10px; text-align: left ; width: auto;} td:nth-child(2) {text-align: left ; width: 100%}\n",
       "    .wandb-row { display: flex; flex-direction: row; flex-wrap: wrap; justify-content: flex-start; width: 100% }\n",
       "    .wandb-col { display: flex; flex-direction: column; flex-basis: 100%; flex: 1; padding: 10px; }\n",
       "    </style>\n",
       "<div class=\"wandb-row\"><div class=\"wandb-col\"><h3>Run history:</h3><br/><table class=\"wandb\"><tr><td>epoch</td><td>▁▁▁▁▂▂▂▂▂▃▃▃▃▃▃▄▄▄▄▄▅▅▅▅▅▅▆▆▆▆▆▇▇▇▇▇▇███</td></tr><tr><td>test_accuracy</td><td>▁▂▃▂▄▄▆▆▇▆▇▇▆█▆▆▆▇▆▇▆▇▇▆▇▇▇██▇█▇▇████▇██</td></tr><tr><td>test_loss</td><td>███▇▅▄▂▂▂▂▂▁▁▁▁▁▁▁▁▁▁▁▁▁▁▁▁▁▁▁▁▁▁▁▁▁▁▁▁▁</td></tr><tr><td>train_accuracy</td><td>▁▁▂▂▅▆▆▆▆▇▇▇▇▆▇▇▇▇▇▇▇▇▇█▇▇▇▇█▇▇▇▇██▇▇▇▇▇</td></tr><tr><td>train_loss</td><td>█████▅▅▄▃▃▂▂▂▂▂▂▂▂▁▁▁▁▁▁▁▁▁▁▁▁▁▁▁▁▁▁▁▁▁▁</td></tr><tr><td>val_accuracy</td><td>▂▁▂▁▂▅▆▆▇▇▇█████████████████████████████</td></tr><tr><td>val_loss</td><td>█████▅▄▂▁▂▁▁▁▁▁▁▁▁▁▁▁▁▁▁▁▁▁▁▁▁▁▁▁▁▁▁▁▁▁▁</td></tr></table><br/></div><div class=\"wandb-col\"><h3>Run summary:</h3><br/><table class=\"wandb\"><tr><td>epoch</td><td>58</td></tr><tr><td>test_accuracy</td><td>0.675</td></tr><tr><td>test_loss</td><td>0.61506</td></tr><tr><td>train_accuracy</td><td>0.74384</td></tr><tr><td>train_loss</td><td>0.55819</td></tr><tr><td>val_accuracy</td><td>0.69412</td></tr><tr><td>val_loss</td><td>0.64891</td></tr></table><br/></div></div>"
      ],
      "text/plain": [
       "<IPython.core.display.HTML object>"
      ]
     },
     "metadata": {},
     "output_type": "display_data"
    },
    {
     "data": {
      "text/html": [
       " View run <strong style=\"color:#cdcd00\">warm-sweep-44</strong> at: <a href='https://wandb.ai/joaoc-university-of-southampton/spectra-classification-vit/runs/k4xzvip0' target=\"_blank\">https://wandb.ai/joaoc-university-of-southampton/spectra-classification-vit/runs/k4xzvip0</a><br/> View project at: <a href='https://wandb.ai/joaoc-university-of-southampton/spectra-classification-vit' target=\"_blank\">https://wandb.ai/joaoc-university-of-southampton/spectra-classification-vit</a><br/>Synced 5 W&B file(s), 0 media file(s), 0 artifact file(s) and 0 other file(s)"
      ],
      "text/plain": [
       "<IPython.core.display.HTML object>"
      ]
     },
     "metadata": {},
     "output_type": "display_data"
    },
    {
     "data": {
      "text/html": [
       "Find logs at: <code>.\\wandb\\run-20241029_134507-k4xzvip0\\logs</code>"
      ],
      "text/plain": [
       "<IPython.core.display.HTML object>"
      ]
     },
     "metadata": {},
     "output_type": "display_data"
    },
    {
     "name": "stderr",
     "output_type": "stream",
     "text": [
      "wandb: Agent Starting Run: 2lpu8alj with config:\n",
      "wandb: \tdepth: 10\n",
      "wandb: \tdim: 64\n",
      "wandb: \tdropout: 0.3\n",
      "wandb: \theads: 2\n",
      "wandb: \tlr: 3e-05\n",
      "wandb: \tmlp_dim: 64\n",
      "wandb: \tpatch_size: 3748\n"
     ]
    },
    {
     "data": {
      "text/html": [
       "Tracking run with wandb version 0.18.5"
      ],
      "text/plain": [
       "<IPython.core.display.HTML object>"
      ]
     },
     "metadata": {},
     "output_type": "display_data"
    },
    {
     "data": {
      "text/html": [
       "Run data is saved locally in <code>c:\\Users\\jcwin\\OneDrive - University of Southampton\\_Southampton\\2024-25\\Star-Classifier\\wandb\\run-20241029_134650-2lpu8alj</code>"
      ],
      "text/plain": [
       "<IPython.core.display.HTML object>"
      ]
     },
     "metadata": {},
     "output_type": "display_data"
    },
    {
     "data": {
      "text/html": [
       "Syncing run <strong><a href='https://wandb.ai/joaoc-university-of-southampton/spectra-classification-vit/runs/2lpu8alj' target=\"_blank\">rosy-sweep-45</a></strong> to <a href='https://wandb.ai/joaoc-university-of-southampton/spectra-classification-vit' target=\"_blank\">Weights & Biases</a> (<a href='https://wandb.me/run' target=\"_blank\">docs</a>)<br/>Sweep page: <a href='https://wandb.ai/joaoc-university-of-southampton/spectra-classification-vit/sweeps/cdqoepyl' target=\"_blank\">https://wandb.ai/joaoc-university-of-southampton/spectra-classification-vit/sweeps/cdqoepyl</a>"
      ],
      "text/plain": [
       "<IPython.core.display.HTML object>"
      ]
     },
     "metadata": {},
     "output_type": "display_data"
    },
    {
     "data": {
      "text/html": [
       " View project at <a href='https://wandb.ai/joaoc-university-of-southampton/spectra-classification-vit' target=\"_blank\">https://wandb.ai/joaoc-university-of-southampton/spectra-classification-vit</a>"
      ],
      "text/plain": [
       "<IPython.core.display.HTML object>"
      ]
     },
     "metadata": {},
     "output_type": "display_data"
    },
    {
     "data": {
      "text/html": [
       " View sweep at <a href='https://wandb.ai/joaoc-university-of-southampton/spectra-classification-vit/sweeps/cdqoepyl' target=\"_blank\">https://wandb.ai/joaoc-university-of-southampton/spectra-classification-vit/sweeps/cdqoepyl</a>"
      ],
      "text/plain": [
       "<IPython.core.display.HTML object>"
      ]
     },
     "metadata": {},
     "output_type": "display_data"
    },
    {
     "data": {
      "text/html": [
       " View run at <a href='https://wandb.ai/joaoc-university-of-southampton/spectra-classification-vit/runs/2lpu8alj' target=\"_blank\">https://wandb.ai/joaoc-university-of-southampton/spectra-classification-vit/runs/2lpu8alj</a>"
      ],
      "text/plain": [
       "<IPython.core.display.HTML object>"
      ]
     },
     "metadata": {},
     "output_type": "display_data"
    },
    {
     "name": "stdout",
     "output_type": "stream",
     "text": [
      "Early stopping triggered.\n"
     ]
    },
    {
     "data": {
      "text/html": [
       "<style>\n",
       "    table.wandb td:nth-child(1) { padding: 0 10px; text-align: left ; width: auto;} td:nth-child(2) {text-align: left ; width: 100%}\n",
       "    .wandb-row { display: flex; flex-direction: row; flex-wrap: wrap; justify-content: flex-start; width: 100% }\n",
       "    .wandb-col { display: flex; flex-direction: column; flex-basis: 100%; flex: 1; padding: 10px; }\n",
       "    </style>\n",
       "<div class=\"wandb-row\"><div class=\"wandb-col\"><h3>Run history:</h3><br/><table class=\"wandb\"><tr><td>epoch</td><td>▁▁▁▁▁▂▂▂▂▂▂▃▃▃▃▃▃▄▄▄▅▅▅▅▅▅▅▅▆▆▆▆▆▇▇▇▇███</td></tr><tr><td>test_accuracy</td><td>▁▄▅██▇▇▇██▇▇█▇▇▇▇▇█▇▇█▇▇████▇▇████▇██▇█▇</td></tr><tr><td>test_loss</td><td>█▆▅▃▂▂▂▂▂▁▁▁▁▁▁▁▁▁▁▁▁▁▁▁▁▁▁▁▁▁▁▁▁▁▁▁▁▁▁▁</td></tr><tr><td>train_accuracy</td><td>▁▂▅▅▅▆▆▇▇▆▇▆▆▇▇▇▇▇▇▇▇▇█▇█▇█▇▇▇▇▇▇▇▇▇█▇██</td></tr><tr><td>train_loss</td><td>█▆▅▄▃▃▂▂▂▂▂▂▂▂▂▂▂▁▂▂▂▁▁▁▁▁▁▁▁▁▁▁▁▁▁▁▁▁▁▁</td></tr><tr><td>val_accuracy</td><td>▁▄▅▆▆▇▇▇▇▇▇▇█▇▇▇▇▇█▇██▇█▇▇██████████████</td></tr><tr><td>val_loss</td><td>█▇▅▄▄▂▂▁▁▁▁▁▁▁▁▁▁▁▁▁▁▁▁▁▁▁▁▁▁▁▁▁▁▁▁▁▁▁▁▁</td></tr></table><br/></div><div class=\"wandb-col\"><h3>Run summary:</h3><br/><table class=\"wandb\"><tr><td>epoch</td><td>73</td></tr><tr><td>test_accuracy</td><td>0.675</td></tr><tr><td>test_loss</td><td>0.58267</td></tr><tr><td>train_accuracy</td><td>0.80788</td></tr><tr><td>train_loss</td><td>0.5276</td></tr><tr><td>val_accuracy</td><td>0.71373</td></tr><tr><td>val_loss</td><td>0.62856</td></tr></table><br/></div></div>"
      ],
      "text/plain": [
       "<IPython.core.display.HTML object>"
      ]
     },
     "metadata": {},
     "output_type": "display_data"
    },
    {
     "data": {
      "text/html": [
       " View run <strong style=\"color:#cdcd00\">rosy-sweep-45</strong> at: <a href='https://wandb.ai/joaoc-university-of-southampton/spectra-classification-vit/runs/2lpu8alj' target=\"_blank\">https://wandb.ai/joaoc-university-of-southampton/spectra-classification-vit/runs/2lpu8alj</a><br/> View project at: <a href='https://wandb.ai/joaoc-university-of-southampton/spectra-classification-vit' target=\"_blank\">https://wandb.ai/joaoc-university-of-southampton/spectra-classification-vit</a><br/>Synced 5 W&B file(s), 0 media file(s), 0 artifact file(s) and 0 other file(s)"
      ],
      "text/plain": [
       "<IPython.core.display.HTML object>"
      ]
     },
     "metadata": {},
     "output_type": "display_data"
    },
    {
     "data": {
      "text/html": [
       "Find logs at: <code>.\\wandb\\run-20241029_134650-2lpu8alj\\logs</code>"
      ],
      "text/plain": [
       "<IPython.core.display.HTML object>"
      ]
     },
     "metadata": {},
     "output_type": "display_data"
    },
    {
     "name": "stderr",
     "output_type": "stream",
     "text": [
      "wandb: Agent Starting Run: xuuzy81e with config:\n",
      "wandb: \tdepth: 3\n",
      "wandb: \tdim: 16\n",
      "wandb: \tdropout: 0.1\n",
      "wandb: \theads: 8\n",
      "wandb: \tlr: 3e-07\n",
      "wandb: \tmlp_dim: 128\n",
      "wandb: \tpatch_size: 3748\n"
     ]
    },
    {
     "data": {
      "text/html": [
       "Tracking run with wandb version 0.18.5"
      ],
      "text/plain": [
       "<IPython.core.display.HTML object>"
      ]
     },
     "metadata": {},
     "output_type": "display_data"
    },
    {
     "data": {
      "text/html": [
       "Run data is saved locally in <code>c:\\Users\\jcwin\\OneDrive - University of Southampton\\_Southampton\\2024-25\\Star-Classifier\\wandb\\run-20241029_134807-xuuzy81e</code>"
      ],
      "text/plain": [
       "<IPython.core.display.HTML object>"
      ]
     },
     "metadata": {},
     "output_type": "display_data"
    },
    {
     "data": {
      "text/html": [
       "Syncing run <strong><a href='https://wandb.ai/joaoc-university-of-southampton/spectra-classification-vit/runs/xuuzy81e' target=\"_blank\">northern-sweep-46</a></strong> to <a href='https://wandb.ai/joaoc-university-of-southampton/spectra-classification-vit' target=\"_blank\">Weights & Biases</a> (<a href='https://wandb.me/run' target=\"_blank\">docs</a>)<br/>Sweep page: <a href='https://wandb.ai/joaoc-university-of-southampton/spectra-classification-vit/sweeps/cdqoepyl' target=\"_blank\">https://wandb.ai/joaoc-university-of-southampton/spectra-classification-vit/sweeps/cdqoepyl</a>"
      ],
      "text/plain": [
       "<IPython.core.display.HTML object>"
      ]
     },
     "metadata": {},
     "output_type": "display_data"
    },
    {
     "data": {
      "text/html": [
       " View project at <a href='https://wandb.ai/joaoc-university-of-southampton/spectra-classification-vit' target=\"_blank\">https://wandb.ai/joaoc-university-of-southampton/spectra-classification-vit</a>"
      ],
      "text/plain": [
       "<IPython.core.display.HTML object>"
      ]
     },
     "metadata": {},
     "output_type": "display_data"
    },
    {
     "data": {
      "text/html": [
       " View sweep at <a href='https://wandb.ai/joaoc-university-of-southampton/spectra-classification-vit/sweeps/cdqoepyl' target=\"_blank\">https://wandb.ai/joaoc-university-of-southampton/spectra-classification-vit/sweeps/cdqoepyl</a>"
      ],
      "text/plain": [
       "<IPython.core.display.HTML object>"
      ]
     },
     "metadata": {},
     "output_type": "display_data"
    },
    {
     "data": {
      "text/html": [
       " View run at <a href='https://wandb.ai/joaoc-university-of-southampton/spectra-classification-vit/runs/xuuzy81e' target=\"_blank\">https://wandb.ai/joaoc-university-of-southampton/spectra-classification-vit/runs/xuuzy81e</a>"
      ],
      "text/plain": [
       "<IPython.core.display.HTML object>"
      ]
     },
     "metadata": {},
     "output_type": "display_data"
    },
    {
     "data": {
      "text/html": [
       "<style>\n",
       "    table.wandb td:nth-child(1) { padding: 0 10px; text-align: left ; width: auto;} td:nth-child(2) {text-align: left ; width: 100%}\n",
       "    .wandb-row { display: flex; flex-direction: row; flex-wrap: wrap; justify-content: flex-start; width: 100% }\n",
       "    .wandb-col { display: flex; flex-direction: column; flex-basis: 100%; flex: 1; padding: 10px; }\n",
       "    </style>\n",
       "<div class=\"wandb-row\"><div class=\"wandb-col\"><h3>Run history:</h3><br/><table class=\"wandb\"><tr><td>epoch</td><td>▁▁▁▁▂▂▂▂▂▂▃▃▃▃▃▃▃▃▃▃▄▄▄▄▄▅▅▅▅▆▆▇▇▇▇▇▇███</td></tr><tr><td>test_accuracy</td><td>▁▁▁▁▁▂▃▃▃▃▃▃▃▄▅▅▅▆▆▆▆▇▇▇▇▇▇▇▇▇▇█████████</td></tr><tr><td>test_loss</td><td>██▇▇▆▆▅▅▅▅▅▅▄▄▄▃▃▃▃▃▃▃▂▂▂▂▂▂▂▂▂▂▂▁▁▁▁▁▁▁</td></tr><tr><td>train_accuracy</td><td>▁▂▂▂▁▂▂▃▃▃▂▃▄▄▄▄▄▆▆▆▇▅▆▇▆▆▇█▅▇▇▇▇▆███▇█▇</td></tr><tr><td>train_loss</td><td>████▇▆▆▅▅▅▄▄▄▄▄▃▃▃▂▂▂▂▂▂▂▂▂▂▂▂▂▂▁▁▁▁▁▁▁▁</td></tr><tr><td>val_accuracy</td><td>▁▁▁▁▁▂▂▂▂▂▂▂▃▃▃▄▄▄▅▅▆▆▆▆▆▇▇▇▇▇▇▇▇▇██████</td></tr><tr><td>val_loss</td><td>█▇▆▆▆▅▅▅▄▃▃▃▃▃▃▃▃▃▃▂▂▂▂▂▂▂▂▁▁▁▁▁▁▁▁▁▁▁▁▁</td></tr></table><br/></div><div class=\"wandb-col\"><h3>Run summary:</h3><br/><table class=\"wandb\"><tr><td>epoch</td><td>299</td></tr><tr><td>test_accuracy</td><td>0.525</td></tr><tr><td>test_loss</td><td>1.07223</td></tr><tr><td>train_accuracy</td><td>0.53202</td></tr><tr><td>train_loss</td><td>1.08107</td></tr><tr><td>val_accuracy</td><td>0.61176</td></tr><tr><td>val_loss</td><td>1.08731</td></tr></table><br/></div></div>"
      ],
      "text/plain": [
       "<IPython.core.display.HTML object>"
      ]
     },
     "metadata": {},
     "output_type": "display_data"
    },
    {
     "data": {
      "text/html": [
       " View run <strong style=\"color:#cdcd00\">northern-sweep-46</strong> at: <a href='https://wandb.ai/joaoc-university-of-southampton/spectra-classification-vit/runs/xuuzy81e' target=\"_blank\">https://wandb.ai/joaoc-university-of-southampton/spectra-classification-vit/runs/xuuzy81e</a><br/> View project at: <a href='https://wandb.ai/joaoc-university-of-southampton/spectra-classification-vit' target=\"_blank\">https://wandb.ai/joaoc-university-of-southampton/spectra-classification-vit</a><br/>Synced 5 W&B file(s), 0 media file(s), 0 artifact file(s) and 0 other file(s)"
      ],
      "text/plain": [
       "<IPython.core.display.HTML object>"
      ]
     },
     "metadata": {},
     "output_type": "display_data"
    },
    {
     "data": {
      "text/html": [
       "Find logs at: <code>.\\wandb\\run-20241029_134807-xuuzy81e\\logs</code>"
      ],
      "text/plain": [
       "<IPython.core.display.HTML object>"
      ]
     },
     "metadata": {},
     "output_type": "display_data"
    },
    {
     "name": "stderr",
     "output_type": "stream",
     "text": [
      "wandb: Agent Starting Run: b4ogjscg with config:\n",
      "wandb: \tdepth: 10\n",
      "wandb: \tdim: 128\n",
      "wandb: \tdropout: 0.2\n",
      "wandb: \theads: 32\n",
      "wandb: \tlr: 3e-05\n",
      "wandb: \tmlp_dim: 64\n",
      "wandb: \tpatch_size: 3748\n"
     ]
    },
    {
     "data": {
      "text/html": [
       "Tracking run with wandb version 0.18.5"
      ],
      "text/plain": [
       "<IPython.core.display.HTML object>"
      ]
     },
     "metadata": {},
     "output_type": "display_data"
    },
    {
     "data": {
      "text/html": [
       "Run data is saved locally in <code>c:\\Users\\jcwin\\OneDrive - University of Southampton\\_Southampton\\2024-25\\Star-Classifier\\wandb\\run-20241029_135052-b4ogjscg</code>"
      ],
      "text/plain": [
       "<IPython.core.display.HTML object>"
      ]
     },
     "metadata": {},
     "output_type": "display_data"
    },
    {
     "data": {
      "text/html": [
       "Syncing run <strong><a href='https://wandb.ai/joaoc-university-of-southampton/spectra-classification-vit/runs/b4ogjscg' target=\"_blank\">major-sweep-47</a></strong> to <a href='https://wandb.ai/joaoc-university-of-southampton/spectra-classification-vit' target=\"_blank\">Weights & Biases</a> (<a href='https://wandb.me/run' target=\"_blank\">docs</a>)<br/>Sweep page: <a href='https://wandb.ai/joaoc-university-of-southampton/spectra-classification-vit/sweeps/cdqoepyl' target=\"_blank\">https://wandb.ai/joaoc-university-of-southampton/spectra-classification-vit/sweeps/cdqoepyl</a>"
      ],
      "text/plain": [
       "<IPython.core.display.HTML object>"
      ]
     },
     "metadata": {},
     "output_type": "display_data"
    },
    {
     "data": {
      "text/html": [
       " View project at <a href='https://wandb.ai/joaoc-university-of-southampton/spectra-classification-vit' target=\"_blank\">https://wandb.ai/joaoc-university-of-southampton/spectra-classification-vit</a>"
      ],
      "text/plain": [
       "<IPython.core.display.HTML object>"
      ]
     },
     "metadata": {},
     "output_type": "display_data"
    },
    {
     "data": {
      "text/html": [
       " View sweep at <a href='https://wandb.ai/joaoc-university-of-southampton/spectra-classification-vit/sweeps/cdqoepyl' target=\"_blank\">https://wandb.ai/joaoc-university-of-southampton/spectra-classification-vit/sweeps/cdqoepyl</a>"
      ],
      "text/plain": [
       "<IPython.core.display.HTML object>"
      ]
     },
     "metadata": {},
     "output_type": "display_data"
    },
    {
     "data": {
      "text/html": [
       " View run at <a href='https://wandb.ai/joaoc-university-of-southampton/spectra-classification-vit/runs/b4ogjscg' target=\"_blank\">https://wandb.ai/joaoc-university-of-southampton/spectra-classification-vit/runs/b4ogjscg</a>"
      ],
      "text/plain": [
       "<IPython.core.display.HTML object>"
      ]
     },
     "metadata": {},
     "output_type": "display_data"
    },
    {
     "name": "stdout",
     "output_type": "stream",
     "text": [
      "Early stopping triggered.\n"
     ]
    },
    {
     "data": {
      "text/html": [
       "<style>\n",
       "    table.wandb td:nth-child(1) { padding: 0 10px; text-align: left ; width: auto;} td:nth-child(2) {text-align: left ; width: 100%}\n",
       "    .wandb-row { display: flex; flex-direction: row; flex-wrap: wrap; justify-content: flex-start; width: 100% }\n",
       "    .wandb-col { display: flex; flex-direction: column; flex-basis: 100%; flex: 1; padding: 10px; }\n",
       "    </style>\n",
       "<div class=\"wandb-row\"><div class=\"wandb-col\"><h3>Run history:</h3><br/><table class=\"wandb\"><tr><td>epoch</td><td>▁▁▁▁▂▂▂▂▂▂▃▃▃▃▃▄▄▄▄▄▄▅▅▅▅▅▅▆▆▆▆▆▇▇▇▇▇███</td></tr><tr><td>test_accuracy</td><td>▁▁▂▄▆▅▅▇▅▇▅▆▇▅▄▇▆▅▄▇▄▆▄▇▅▇▆▅▅▇▆▆▇█▇▆▇▆█▅</td></tr><tr><td>test_loss</td><td>█▇▅▂▁▁▂▁▁▁▁▁▁▁▁▁▁▁▁▁▁▁▁▁▁▁▁▁▁▁▁▁▁▁▁▁▁▁▁▁</td></tr><tr><td>train_accuracy</td><td>▁▃▅▆▅▅▆▆▅▇▅▅▆▇▆▆▅▇▇▇▇▆▇▆▇▅██▇█▇▇▇█▆█▇▆▇█</td></tr><tr><td>train_loss</td><td>█▇▆▄▃▂▂▂▂▂▂▂▂▂▂▂▂▂▂▂▂▁▁▁▁▁▁▁▁▁▁▁▁▁▁▁▁▁▁▁</td></tr><tr><td>val_accuracy</td><td>▁▂▄▅▇▇▇▇▇▇▇▇█▇▇▇▇▇██████████████████▇▇██</td></tr><tr><td>val_loss</td><td>█▄▃▂▂▁▁▁▁▁▁▁▁▁▁▁▁▁▁▁▁▁▁▁▁▁▁▁▁▁▁▁▁▁▁▁▁▁▁▂</td></tr></table><br/></div><div class=\"wandb-col\"><h3>Run summary:</h3><br/><table class=\"wandb\"><tr><td>epoch</td><td>56</td></tr><tr><td>test_accuracy</td><td>0.7</td></tr><tr><td>test_loss</td><td>0.60144</td></tr><tr><td>train_accuracy</td><td>0.78325</td></tr><tr><td>train_loss</td><td>0.48733</td></tr><tr><td>val_accuracy</td><td>0.7098</td></tr><tr><td>val_loss</td><td>0.6656</td></tr></table><br/></div></div>"
      ],
      "text/plain": [
       "<IPython.core.display.HTML object>"
      ]
     },
     "metadata": {},
     "output_type": "display_data"
    },
    {
     "data": {
      "text/html": [
       " View run <strong style=\"color:#cdcd00\">major-sweep-47</strong> at: <a href='https://wandb.ai/joaoc-university-of-southampton/spectra-classification-vit/runs/b4ogjscg' target=\"_blank\">https://wandb.ai/joaoc-university-of-southampton/spectra-classification-vit/runs/b4ogjscg</a><br/> View project at: <a href='https://wandb.ai/joaoc-university-of-southampton/spectra-classification-vit' target=\"_blank\">https://wandb.ai/joaoc-university-of-southampton/spectra-classification-vit</a><br/>Synced 5 W&B file(s), 0 media file(s), 0 artifact file(s) and 0 other file(s)"
      ],
      "text/plain": [
       "<IPython.core.display.HTML object>"
      ]
     },
     "metadata": {},
     "output_type": "display_data"
    },
    {
     "data": {
      "text/html": [
       "Find logs at: <code>.\\wandb\\run-20241029_135052-b4ogjscg\\logs</code>"
      ],
      "text/plain": [
       "<IPython.core.display.HTML object>"
      ]
     },
     "metadata": {},
     "output_type": "display_data"
    },
    {
     "name": "stderr",
     "output_type": "stream",
     "text": [
      "wandb: Agent Starting Run: mt3k76cq with config:\n",
      "wandb: \tdepth: 10\n",
      "wandb: \tdim: 16\n",
      "wandb: \tdropout: 0.4\n",
      "wandb: \theads: 2\n",
      "wandb: \tlr: 3e-06\n",
      "wandb: \tmlp_dim: 64\n",
      "wandb: \tpatch_size: 3748\n"
     ]
    },
    {
     "data": {
      "text/html": [
       "Tracking run with wandb version 0.18.5"
      ],
      "text/plain": [
       "<IPython.core.display.HTML object>"
      ]
     },
     "metadata": {},
     "output_type": "display_data"
    },
    {
     "data": {
      "text/html": [
       "Run data is saved locally in <code>c:\\Users\\jcwin\\OneDrive - University of Southampton\\_Southampton\\2024-25\\Star-Classifier\\wandb\\run-20241029_135153-mt3k76cq</code>"
      ],
      "text/plain": [
       "<IPython.core.display.HTML object>"
      ]
     },
     "metadata": {},
     "output_type": "display_data"
    },
    {
     "data": {
      "text/html": [
       "Syncing run <strong><a href='https://wandb.ai/joaoc-university-of-southampton/spectra-classification-vit/runs/mt3k76cq' target=\"_blank\">apricot-sweep-48</a></strong> to <a href='https://wandb.ai/joaoc-university-of-southampton/spectra-classification-vit' target=\"_blank\">Weights & Biases</a> (<a href='https://wandb.me/run' target=\"_blank\">docs</a>)<br/>Sweep page: <a href='https://wandb.ai/joaoc-university-of-southampton/spectra-classification-vit/sweeps/cdqoepyl' target=\"_blank\">https://wandb.ai/joaoc-university-of-southampton/spectra-classification-vit/sweeps/cdqoepyl</a>"
      ],
      "text/plain": [
       "<IPython.core.display.HTML object>"
      ]
     },
     "metadata": {},
     "output_type": "display_data"
    },
    {
     "data": {
      "text/html": [
       " View project at <a href='https://wandb.ai/joaoc-university-of-southampton/spectra-classification-vit' target=\"_blank\">https://wandb.ai/joaoc-university-of-southampton/spectra-classification-vit</a>"
      ],
      "text/plain": [
       "<IPython.core.display.HTML object>"
      ]
     },
     "metadata": {},
     "output_type": "display_data"
    },
    {
     "data": {
      "text/html": [
       " View sweep at <a href='https://wandb.ai/joaoc-university-of-southampton/spectra-classification-vit/sweeps/cdqoepyl' target=\"_blank\">https://wandb.ai/joaoc-university-of-southampton/spectra-classification-vit/sweeps/cdqoepyl</a>"
      ],
      "text/plain": [
       "<IPython.core.display.HTML object>"
      ]
     },
     "metadata": {},
     "output_type": "display_data"
    },
    {
     "data": {
      "text/html": [
       " View run at <a href='https://wandb.ai/joaoc-university-of-southampton/spectra-classification-vit/runs/mt3k76cq' target=\"_blank\">https://wandb.ai/joaoc-university-of-southampton/spectra-classification-vit/runs/mt3k76cq</a>"
      ],
      "text/plain": [
       "<IPython.core.display.HTML object>"
      ]
     },
     "metadata": {},
     "output_type": "display_data"
    },
    {
     "data": {
      "text/html": [
       "<style>\n",
       "    table.wandb td:nth-child(1) { padding: 0 10px; text-align: left ; width: auto;} td:nth-child(2) {text-align: left ; width: 100%}\n",
       "    .wandb-row { display: flex; flex-direction: row; flex-wrap: wrap; justify-content: flex-start; width: 100% }\n",
       "    .wandb-col { display: flex; flex-direction: column; flex-basis: 100%; flex: 1; padding: 10px; }\n",
       "    </style>\n",
       "<div class=\"wandb-row\"><div class=\"wandb-col\"><h3>Run history:</h3><br/><table class=\"wandb\"><tr><td>epoch</td><td>▁▁▂▂▂▂▂▂▃▃▃▃▃▃▄▄▄▄▄▄▄▅▅▅▅▆▆▆▆▆▇▇▇▇▇█████</td></tr><tr><td>test_accuracy</td><td>▂▂▁▃▃▄▄▅▇▇▇▇▇▇▇▇▇▇▇▇▇▇▇███████████████▇▇</td></tr><tr><td>test_loss</td><td>██▇▇▆▆▆▅▅▄▄▄▃▃▃▃▃▃▃▂▂▂▂▂▂▁▁▁▁▁▁▁▁▁▁▁▁▁▁▁</td></tr><tr><td>train_accuracy</td><td>▁▁▂▂▄▄▄▄▆▄▇▅▆▅▇▇▆▆▇▇▇▇▆▆▇▇█▇▇█████▇█▇▇██</td></tr><tr><td>train_loss</td><td>████▇▅▅▅▄▄▄▄▄▃▃▃▃▃▃▃▂▂▂▂▂▂▁▂▁▁▁▁▁▁▁▁▁▁▁▁</td></tr><tr><td>val_accuracy</td><td>▁▃▂▃▄▆▆▆▇▇▇▇▇▇▇██▇████▇▇▇▇▇▇████████████</td></tr><tr><td>val_loss</td><td>█▇▇▇▆▆▅▅▄▄▃▃▃▃▃▂▂▂▂▂▂▂▂▂▂▂▂▂▂▁▁▁▁▁▁▁▁▁▁▁</td></tr></table><br/></div><div class=\"wandb-col\"><h3>Run summary:</h3><br/><table class=\"wandb\"><tr><td>epoch</td><td>299</td></tr><tr><td>test_accuracy</td><td>0.575</td></tr><tr><td>test_loss</td><td>0.69607</td></tr><tr><td>train_accuracy</td><td>0.61576</td></tr><tr><td>train_loss</td><td>0.76508</td></tr><tr><td>val_accuracy</td><td>0.67059</td></tr><tr><td>val_loss</td><td>0.71544</td></tr></table><br/></div></div>"
      ],
      "text/plain": [
       "<IPython.core.display.HTML object>"
      ]
     },
     "metadata": {},
     "output_type": "display_data"
    },
    {
     "data": {
      "text/html": [
       " View run <strong style=\"color:#cdcd00\">apricot-sweep-48</strong> at: <a href='https://wandb.ai/joaoc-university-of-southampton/spectra-classification-vit/runs/mt3k76cq' target=\"_blank\">https://wandb.ai/joaoc-university-of-southampton/spectra-classification-vit/runs/mt3k76cq</a><br/> View project at: <a href='https://wandb.ai/joaoc-university-of-southampton/spectra-classification-vit' target=\"_blank\">https://wandb.ai/joaoc-university-of-southampton/spectra-classification-vit</a><br/>Synced 5 W&B file(s), 0 media file(s), 0 artifact file(s) and 0 other file(s)"
      ],
      "text/plain": [
       "<IPython.core.display.HTML object>"
      ]
     },
     "metadata": {},
     "output_type": "display_data"
    },
    {
     "data": {
      "text/html": [
       "Find logs at: <code>.\\wandb\\run-20241029_135153-mt3k76cq\\logs</code>"
      ],
      "text/plain": [
       "<IPython.core.display.HTML object>"
      ]
     },
     "metadata": {},
     "output_type": "display_data"
    },
    {
     "name": "stderr",
     "output_type": "stream",
     "text": [
      "wandb: Agent Starting Run: u8j043nd with config:\n",
      "wandb: \tdepth: 3\n",
      "wandb: \tdim: 512\n",
      "wandb: \tdropout: 0.3\n",
      "wandb: \theads: 8\n",
      "wandb: \tlr: 3e-07\n",
      "wandb: \tmlp_dim: 256\n",
      "wandb: \tpatch_size: 3748\n"
     ]
    },
    {
     "data": {
      "text/html": [
       "Tracking run with wandb version 0.18.5"
      ],
      "text/plain": [
       "<IPython.core.display.HTML object>"
      ]
     },
     "metadata": {},
     "output_type": "display_data"
    },
    {
     "data": {
      "text/html": [
       "Run data is saved locally in <code>c:\\Users\\jcwin\\OneDrive - University of Southampton\\_Southampton\\2024-25\\Star-Classifier\\wandb\\run-20241029_135631-u8j043nd</code>"
      ],
      "text/plain": [
       "<IPython.core.display.HTML object>"
      ]
     },
     "metadata": {},
     "output_type": "display_data"
    },
    {
     "data": {
      "text/html": [
       "Syncing run <strong><a href='https://wandb.ai/joaoc-university-of-southampton/spectra-classification-vit/runs/u8j043nd' target=\"_blank\">dry-sweep-49</a></strong> to <a href='https://wandb.ai/joaoc-university-of-southampton/spectra-classification-vit' target=\"_blank\">Weights & Biases</a> (<a href='https://wandb.me/run' target=\"_blank\">docs</a>)<br/>Sweep page: <a href='https://wandb.ai/joaoc-university-of-southampton/spectra-classification-vit/sweeps/cdqoepyl' target=\"_blank\">https://wandb.ai/joaoc-university-of-southampton/spectra-classification-vit/sweeps/cdqoepyl</a>"
      ],
      "text/plain": [
       "<IPython.core.display.HTML object>"
      ]
     },
     "metadata": {},
     "output_type": "display_data"
    },
    {
     "data": {
      "text/html": [
       " View project at <a href='https://wandb.ai/joaoc-university-of-southampton/spectra-classification-vit' target=\"_blank\">https://wandb.ai/joaoc-university-of-southampton/spectra-classification-vit</a>"
      ],
      "text/plain": [
       "<IPython.core.display.HTML object>"
      ]
     },
     "metadata": {},
     "output_type": "display_data"
    },
    {
     "data": {
      "text/html": [
       " View sweep at <a href='https://wandb.ai/joaoc-university-of-southampton/spectra-classification-vit/sweeps/cdqoepyl' target=\"_blank\">https://wandb.ai/joaoc-university-of-southampton/spectra-classification-vit/sweeps/cdqoepyl</a>"
      ],
      "text/plain": [
       "<IPython.core.display.HTML object>"
      ]
     },
     "metadata": {},
     "output_type": "display_data"
    },
    {
     "data": {
      "text/html": [
       " View run at <a href='https://wandb.ai/joaoc-university-of-southampton/spectra-classification-vit/runs/u8j043nd' target=\"_blank\">https://wandb.ai/joaoc-university-of-southampton/spectra-classification-vit/runs/u8j043nd</a>"
      ],
      "text/plain": [
       "<IPython.core.display.HTML object>"
      ]
     },
     "metadata": {},
     "output_type": "display_data"
    },
    {
     "data": {
      "application/vnd.jupyter.widget-view+json": {
       "model_id": "371f068c48c2455691c016888707a09f",
       "version_major": 2,
       "version_minor": 0
      },
      "text/plain": [
       "VBox(children=(Label(value='0.005 MB of 0.005 MB uploaded\\r'), FloatProgress(value=1.0, max=1.0)))"
      ]
     },
     "metadata": {},
     "output_type": "display_data"
    },
    {
     "data": {
      "text/html": [
       "<style>\n",
       "    table.wandb td:nth-child(1) { padding: 0 10px; text-align: left ; width: auto;} td:nth-child(2) {text-align: left ; width: 100%}\n",
       "    .wandb-row { display: flex; flex-direction: row; flex-wrap: wrap; justify-content: flex-start; width: 100% }\n",
       "    .wandb-col { display: flex; flex-direction: column; flex-basis: 100%; flex: 1; padding: 10px; }\n",
       "    </style>\n",
       "<div class=\"wandb-row\"><div class=\"wandb-col\"><h3>Run history:</h3><br/><table class=\"wandb\"><tr><td>epoch</td><td>▁▁▁▂▂▂▂▂▂▂▃▃▄▄▄▄▄▄▄▅▅▅▅▅▅▅▅▅▆▆▆▆▇▇▇▇▇▇██</td></tr><tr><td>test_accuracy</td><td>▁▁▃▃▂▄▅▅▅▅▅▅▅▅▅▆▆▆▆▆▇▇▆▆▆▇▇▇▇▇▇▇▇▇▇▇▇██▇</td></tr><tr><td>test_loss</td><td>███▇▆▆▅▅▅▅▄▄▄▄▃▃▃▃▂▂▂▂▂▂▂▂▂▂▁▁▁▁▁▁▁▁▁▁▁▁</td></tr><tr><td>train_accuracy</td><td>▁▂▄▄▅▅▅▅▅▅▆▆▆▆▆▇▇▅▆▆▆▆▇▆▇▇█▇▆▆▇▆▇▆▇▆▇▇█▇</td></tr><tr><td>train_loss</td><td>██▇▆▆▆▅▄▄▄▃▃▃▂▂▂▂▂▂▂▂▂▂▂▁▁▁▁▁▁▁▁▁▁▁▁▁▁▁▁</td></tr><tr><td>val_accuracy</td><td>▁▁▃▄▅▅▅▅▅▆▆▆▆▆▇▇▇▇▇▇████████████████████</td></tr><tr><td>val_loss</td><td>███▇▆▆▆▅▅▅▄▄▄▃▃▃▃▃▃▃▃▂▂▂▂▁▁▁▁▁▁▁▁▁▁▁▁▁▁▁</td></tr></table><br/></div><div class=\"wandb-col\"><h3>Run summary:</h3><br/><table class=\"wandb\"><tr><td>epoch</td><td>299</td></tr><tr><td>test_accuracy</td><td>0.7</td></tr><tr><td>test_loss</td><td>0.59934</td></tr><tr><td>train_accuracy</td><td>0.70443</td></tr><tr><td>train_loss</td><td>0.61562</td></tr><tr><td>val_accuracy</td><td>0.71765</td></tr><tr><td>val_loss</td><td>0.6135</td></tr></table><br/></div></div>"
      ],
      "text/plain": [
       "<IPython.core.display.HTML object>"
      ]
     },
     "metadata": {},
     "output_type": "display_data"
    },
    {
     "data": {
      "text/html": [
       " View run <strong style=\"color:#cdcd00\">dry-sweep-49</strong> at: <a href='https://wandb.ai/joaoc-university-of-southampton/spectra-classification-vit/runs/u8j043nd' target=\"_blank\">https://wandb.ai/joaoc-university-of-southampton/spectra-classification-vit/runs/u8j043nd</a><br/> View project at: <a href='https://wandb.ai/joaoc-university-of-southampton/spectra-classification-vit' target=\"_blank\">https://wandb.ai/joaoc-university-of-southampton/spectra-classification-vit</a><br/>Synced 5 W&B file(s), 0 media file(s), 0 artifact file(s) and 0 other file(s)"
      ],
      "text/plain": [
       "<IPython.core.display.HTML object>"
      ]
     },
     "metadata": {},
     "output_type": "display_data"
    },
    {
     "data": {
      "text/html": [
       "Find logs at: <code>.\\wandb\\run-20241029_135631-u8j043nd\\logs</code>"
      ],
      "text/plain": [
       "<IPython.core.display.HTML object>"
      ]
     },
     "metadata": {},
     "output_type": "display_data"
    },
    {
     "name": "stderr",
     "output_type": "stream",
     "text": [
      "wandb: Agent Starting Run: pfgfdcby with config:\n",
      "wandb: \tdepth: 20\n",
      "wandb: \tdim: 16\n",
      "wandb: \tdropout: 0.3\n",
      "wandb: \theads: 32\n",
      "wandb: \tlr: 3e-07\n",
      "wandb: \tmlp_dim: 64\n",
      "wandb: \tpatch_size: 3748\n"
     ]
    },
    {
     "data": {
      "text/html": [
       "Tracking run with wandb version 0.18.5"
      ],
      "text/plain": [
       "<IPython.core.display.HTML object>"
      ]
     },
     "metadata": {},
     "output_type": "display_data"
    },
    {
     "data": {
      "text/html": [
       "Run data is saved locally in <code>c:\\Users\\jcwin\\OneDrive - University of Southampton\\_Southampton\\2024-25\\Star-Classifier\\wandb\\run-20241029_135906-pfgfdcby</code>"
      ],
      "text/plain": [
       "<IPython.core.display.HTML object>"
      ]
     },
     "metadata": {},
     "output_type": "display_data"
    },
    {
     "data": {
      "text/html": [
       "Syncing run <strong><a href='https://wandb.ai/joaoc-university-of-southampton/spectra-classification-vit/runs/pfgfdcby' target=\"_blank\">radiant-sweep-50</a></strong> to <a href='https://wandb.ai/joaoc-university-of-southampton/spectra-classification-vit' target=\"_blank\">Weights & Biases</a> (<a href='https://wandb.me/run' target=\"_blank\">docs</a>)<br/>Sweep page: <a href='https://wandb.ai/joaoc-university-of-southampton/spectra-classification-vit/sweeps/cdqoepyl' target=\"_blank\">https://wandb.ai/joaoc-university-of-southampton/spectra-classification-vit/sweeps/cdqoepyl</a>"
      ],
      "text/plain": [
       "<IPython.core.display.HTML object>"
      ]
     },
     "metadata": {},
     "output_type": "display_data"
    },
    {
     "data": {
      "text/html": [
       " View project at <a href='https://wandb.ai/joaoc-university-of-southampton/spectra-classification-vit' target=\"_blank\">https://wandb.ai/joaoc-university-of-southampton/spectra-classification-vit</a>"
      ],
      "text/plain": [
       "<IPython.core.display.HTML object>"
      ]
     },
     "metadata": {},
     "output_type": "display_data"
    },
    {
     "data": {
      "text/html": [
       " View sweep at <a href='https://wandb.ai/joaoc-university-of-southampton/spectra-classification-vit/sweeps/cdqoepyl' target=\"_blank\">https://wandb.ai/joaoc-university-of-southampton/spectra-classification-vit/sweeps/cdqoepyl</a>"
      ],
      "text/plain": [
       "<IPython.core.display.HTML object>"
      ]
     },
     "metadata": {},
     "output_type": "display_data"
    },
    {
     "data": {
      "text/html": [
       " View run at <a href='https://wandb.ai/joaoc-university-of-southampton/spectra-classification-vit/runs/pfgfdcby' target=\"_blank\">https://wandb.ai/joaoc-university-of-southampton/spectra-classification-vit/runs/pfgfdcby</a>"
      ],
      "text/plain": [
       "<IPython.core.display.HTML object>"
      ]
     },
     "metadata": {},
     "output_type": "display_data"
    },
    {
     "name": "stderr",
     "output_type": "stream",
     "text": [
      "Traceback (most recent call last):\n",
      "  File \"C:\\Users\\jcwin\\AppData\\Local\\Temp\\ipykernel_11012\\1700346631.py\", line 27, in sweep_train\n",
      "    model_vit = VisionTransformer1D(\n",
      "                ^^^^^^^^^^^^^^^^^^^^\n",
      "  File \"C:\\Users\\jcwin\\AppData\\Local\\Temp\\ipykernel_11012\\2276252545.py\", line 145, in __init__\n",
      "    self.transformer = nn.TransformerEncoder(nn.TransformerEncoderLayer(dim, heads, mlp_dim, dropout), depth)\n",
      "                                             ^^^^^^^^^^^^^^^^^^^^^^^^^^^^^^^^^^^^^^^^^^^^^^^^^^^^^^^^\n",
      "  File \"C:\\Users\\jcwin\\AppData\\Local\\Packages\\PythonSoftwareFoundation.Python.3.11_qbz5n2kfra8p0\\LocalCache\\local-packages\\Python311\\site-packages\\torch\\nn\\modules\\transformer.py\", line 590, in __init__\n",
      "    self.self_attn = MultiheadAttention(d_model, nhead, dropout=dropout,\n",
      "                     ^^^^^^^^^^^^^^^^^^^^^^^^^^^^^^^^^^^^^^^^^^^^^^^^^^^\n",
      "  File \"C:\\Users\\jcwin\\AppData\\Local\\Packages\\PythonSoftwareFoundation.Python.3.11_qbz5n2kfra8p0\\LocalCache\\local-packages\\Python311\\site-packages\\torch\\nn\\modules\\activation.py\", line 1020, in __init__\n",
      "    assert self.head_dim * num_heads == self.embed_dim, \"embed_dim must be divisible by num_heads\"\n",
      "           ^^^^^^^^^^^^^^^^^^^^^^^^^^^^^^^^^^^^^^^^^^^\n",
      "AssertionError: embed_dim must be divisible by num_heads\n"
     ]
    },
    {
     "data": {
      "text/html": [
       " View run <strong style=\"color:#cdcd00\">radiant-sweep-50</strong> at: <a href='https://wandb.ai/joaoc-university-of-southampton/spectra-classification-vit/runs/pfgfdcby' target=\"_blank\">https://wandb.ai/joaoc-university-of-southampton/spectra-classification-vit/runs/pfgfdcby</a><br/> View project at: <a href='https://wandb.ai/joaoc-university-of-southampton/spectra-classification-vit' target=\"_blank\">https://wandb.ai/joaoc-university-of-southampton/spectra-classification-vit</a><br/>Synced 5 W&B file(s), 0 media file(s), 0 artifact file(s) and 0 other file(s)"
      ],
      "text/plain": [
       "<IPython.core.display.HTML object>"
      ]
     },
     "metadata": {},
     "output_type": "display_data"
    },
    {
     "data": {
      "text/html": [
       "Find logs at: <code>.\\wandb\\run-20241029_135906-pfgfdcby\\logs</code>"
      ],
      "text/plain": [
       "<IPython.core.display.HTML object>"
      ]
     },
     "metadata": {},
     "output_type": "display_data"
    },
    {
     "name": "stderr",
     "output_type": "stream",
     "text": [
      "Run pfgfdcby errored:\n",
      "Traceback (most recent call last):\n",
      "  File \"C:\\Users\\jcwin\\AppData\\Local\\Packages\\PythonSoftwareFoundation.Python.3.11_qbz5n2kfra8p0\\LocalCache\\local-packages\\Python311\\site-packages\\wandb\\agents\\pyagent.py\", line 306, in _run_job\n",
      "    self._function()\n",
      "  File \"C:\\Users\\jcwin\\AppData\\Local\\Temp\\ipykernel_11012\\1700346631.py\", line 27, in sweep_train\n",
      "    model_vit = VisionTransformer1D(\n",
      "                ^^^^^^^^^^^^^^^^^^^^\n",
      "  File \"C:\\Users\\jcwin\\AppData\\Local\\Temp\\ipykernel_11012\\2276252545.py\", line 145, in __init__\n",
      "    self.transformer = nn.TransformerEncoder(nn.TransformerEncoderLayer(dim, heads, mlp_dim, dropout), depth)\n",
      "                                             ^^^^^^^^^^^^^^^^^^^^^^^^^^^^^^^^^^^^^^^^^^^^^^^^^^^^^^^^\n",
      "  File \"C:\\Users\\jcwin\\AppData\\Local\\Packages\\PythonSoftwareFoundation.Python.3.11_qbz5n2kfra8p0\\LocalCache\\local-packages\\Python311\\site-packages\\torch\\nn\\modules\\transformer.py\", line 590, in __init__\n",
      "    self.self_attn = MultiheadAttention(d_model, nhead, dropout=dropout,\n",
      "                     ^^^^^^^^^^^^^^^^^^^^^^^^^^^^^^^^^^^^^^^^^^^^^^^^^^^\n",
      "  File \"C:\\Users\\jcwin\\AppData\\Local\\Packages\\PythonSoftwareFoundation.Python.3.11_qbz5n2kfra8p0\\LocalCache\\local-packages\\Python311\\site-packages\\torch\\nn\\modules\\activation.py\", line 1020, in __init__\n",
      "    assert self.head_dim * num_heads == self.embed_dim, \"embed_dim must be divisible by num_heads\"\n",
      "           ^^^^^^^^^^^^^^^^^^^^^^^^^^^^^^^^^^^^^^^^^^^\n",
      "AssertionError: embed_dim must be divisible by num_heads\n",
      "\n",
      "wandb: ERROR Run pfgfdcby errored:\n",
      "wandb: ERROR Traceback (most recent call last):\n",
      "wandb: ERROR   File \"C:\\Users\\jcwin\\AppData\\Local\\Packages\\PythonSoftwareFoundation.Python.3.11_qbz5n2kfra8p0\\LocalCache\\local-packages\\Python311\\site-packages\\wandb\\agents\\pyagent.py\", line 306, in _run_job\n",
      "wandb: ERROR     self._function()\n",
      "wandb: ERROR   File \"C:\\Users\\jcwin\\AppData\\Local\\Temp\\ipykernel_11012\\1700346631.py\", line 27, in sweep_train\n",
      "wandb: ERROR     model_vit = VisionTransformer1D(\n",
      "wandb: ERROR                 ^^^^^^^^^^^^^^^^^^^^\n",
      "wandb: ERROR   File \"C:\\Users\\jcwin\\AppData\\Local\\Temp\\ipykernel_11012\\2276252545.py\", line 145, in __init__\n",
      "wandb: ERROR     self.transformer = nn.TransformerEncoder(nn.TransformerEncoderLayer(dim, heads, mlp_dim, dropout), depth)\n",
      "wandb: ERROR                                              ^^^^^^^^^^^^^^^^^^^^^^^^^^^^^^^^^^^^^^^^^^^^^^^^^^^^^^^^\n",
      "wandb: ERROR   File \"C:\\Users\\jcwin\\AppData\\Local\\Packages\\PythonSoftwareFoundation.Python.3.11_qbz5n2kfra8p0\\LocalCache\\local-packages\\Python311\\site-packages\\torch\\nn\\modules\\transformer.py\", line 590, in __init__\n",
      "wandb: ERROR     self.self_attn = MultiheadAttention(d_model, nhead, dropout=dropout,\n",
      "wandb: ERROR                      ^^^^^^^^^^^^^^^^^^^^^^^^^^^^^^^^^^^^^^^^^^^^^^^^^^^\n",
      "wandb: ERROR   File \"C:\\Users\\jcwin\\AppData\\Local\\Packages\\PythonSoftwareFoundation.Python.3.11_qbz5n2kfra8p0\\LocalCache\\local-packages\\Python311\\site-packages\\torch\\nn\\modules\\activation.py\", line 1020, in __init__\n",
      "wandb: ERROR     assert self.head_dim * num_heads == self.embed_dim, \"embed_dim must be divisible by num_heads\"\n",
      "wandb: ERROR            ^^^^^^^^^^^^^^^^^^^^^^^^^^^^^^^^^^^^^^^^^^^\n",
      "wandb: ERROR AssertionError: embed_dim must be divisible by num_heads\n",
      "wandb: ERROR \n"
     ]
    }
   ],
   "source": [
    "import wandb\n",
    "\n",
    "# Define the hyperparameters\n",
    "num_classes = 4\n",
    "num_epochs = 300\n",
    "patience = 30\n",
    "\n",
    "# Define sweep config\n",
    "sweep_config = {\n",
    "    \"method\": \"random\",\n",
    "    \"metric\": {\"name\": \"test_accuracy\", \"goal\": \"maximize\"},\n",
    "    \"parameters\": {\n",
    "        \"lr\": {\"values\": [3e-7, 3e-6, 3e-5]},\n",
    "        \"patch_size\": {\"values\": [3748]},\n",
    "        \"dim\": {\"values\": [16, 64, 128, 512]},\n",
    "        \"heads\": {\"values\": [2, 8, 32]},\n",
    "        \"mlp_dim\": {\"values\": [64, 128, 256]}, # Adjusted for faster runs\n",
    "        #\"batch_size\": {\"values\": [64, 128, 256]},\n",
    "        \"depth\": {\"values\": [3, 10, 20]},\n",
    "        \"dropout\": {\"values\": [0.1, 0.2, 0.3, 0.4]}\n",
    "    }\n",
    "}\n",
    "\n",
    "def sweep_train():\n",
    "    with wandb.init() as run:\n",
    "        config = run.config\n",
    "        model_vit = VisionTransformer1D(\n",
    "            num_classes=num_classes,\n",
    "            patch_size=config.patch_size,\n",
    "            dim=config.dim,\n",
    "            depth=config.depth,\n",
    "            heads=config.heads,\n",
    "            mlp_dim=config.mlp_dim,\n",
    "            dropout=config.dropout\n",
    "        )\n",
    "        \n",
    "        # Pass config.num_epochs explicitly\n",
    "        trained_model = train_model_vit(\n",
    "            model_vit,\n",
    "            train_loader,\n",
    "            val_loader,\n",
    "            test_loader,\n",
    "            num_epochs=num_epochs,\n",
    "            lr=config.lr,\n",
    "            max_patience=patience,\n",
    "            device='cuda'\n",
    "        )\n",
    "\n",
    "\n",
    "# Start sweep\n",
    "sweep_id = wandb.sweep(sweep_config, project=\"spectra-classification-vit\")\n",
    "wandb.agent(sweep_id, function=sweep_train, count=50)\n"
   ]
  },
  {
   "cell_type": "code",
   "execution_count": null,
   "metadata": {},
   "outputs": [],
   "source": [
    "import wandb\n",
    "\n",
    "# Define the hyperparameters\n",
    "num_classes = 4\n",
    "num_epochs = 300\n",
    "patience = 30\n",
    "\n",
    "# Define sweep config\n",
    "sweep_config = {\n",
    "    \"method\": \"random\",\n",
    "    \"metric\": {\"name\": \"test_accuracy\", \"goal\": \"maximize\"},\n",
    "    \"parameters\": {\n",
    "        \"lr\": {\"values\": [3e-7, 3e-6, 3e-5]},\n",
    "        \"patch_size\": {\"values\": [3748]}, # Adjusted for faster runs\n",
    "        \"dim\": {\"values\": [32, 128, 512]},\n",
    "        \"heads\": {\"values\": [2, 8, 32]},\n",
    "        \"mlp_dim\": {\"values\": [64, 128, 512]}, # Adjusted for faster runs\n",
    "        #\"batch_size\": {\"values\": [64, 128, 256]},\n",
    "        \"depth\": {\"values\": [3, 10, 20]},\n",
    "        \"dropout\": {\"values\": [0., 0.2, 0.4]}\n",
    "    }\n",
    "}\n",
    "\n",
    "def sweep_train():\n",
    "    with wandb.init() as run:\n",
    "        config = run.config\n",
    "        model_vit = VisionTransformer1D(\n",
    "            num_classes=num_classes,\n",
    "            patch_size=config.patch_size,\n",
    "            dim=config.dim,\n",
    "            depth=config.depth,\n",
    "            heads=config.heads,\n",
    "            mlp_dim=config.mlp_dim,\n",
    "            dropout=config.dropout\n",
    "        )\n",
    "        \n",
    "        # Pass config.num_epochs explicitly\n",
    "        trained_model = train_model_vit(\n",
    "            model_vit,\n",
    "            train_loader,\n",
    "            val_loader,\n",
    "            test_loader,\n",
    "            num_epochs=num_epochs,\n",
    "            lr=config.lr,\n",
    "            max_patience=patience,\n",
    "            device='cuda'\n",
    "        )\n",
    "\n",
    "\n",
    "# Start sweep\n",
    "sweep_id = wandb.sweep(sweep_config, project=\"spectra-classification-vit\")\n",
    "wandb.agent(sweep_id, function=sweep_train, count=200)\n"
   ]
  },
  {
   "cell_type": "code",
   "execution_count": null,
   "metadata": {},
   "outputs": [],
   "source": [
    "import wandb\n",
    "\n",
    "# Define the hyperparameters\n",
    "num_classes = 4\n",
    "num_epochs = 300\n",
    "patience = 30\n",
    "\n",
    "# Define sweep config\n",
    "sweep_config = {\n",
    "    \"method\": \"random\",\n",
    "    \"metric\": {\"name\": \"test_accuracy\", \"goal\": \"maximize\"},\n",
    "    \"parameters\": {\n",
    "        \"lr\": {\"values\": [3e-7, 3e-6, 3e-5]},\n",
    "        \"patch_size\": {\"values\": [16, 256, 3748]},\n",
    "        \"dim\": {\"values\": [32, 64, 128, 256, 512]},\n",
    "        \"heads\": {\"values\": [2, 8, 32]},\n",
    "        \"mlp_dim\": {\"values\": [64, 128, 512]}, # Adjusted for faster runs\n",
    "        #\"batch_size\": {\"values\": [64, 128, 256]},\n",
    "        \"depth\": {\"values\": [3, 10, 20]},\n",
    "        \"dropout\": {\"values\": [0.1, 0.2, 0.3, 0.4]}\n",
    "    }\n",
    "}\n",
    "\n",
    "def sweep_train():\n",
    "    with wandb.init() as run:\n",
    "        config = run.config\n",
    "        model_vit = VisionTransformer1D(\n",
    "            num_classes=num_classes,\n",
    "            patch_size=config.patch_size,\n",
    "            dim=config.dim,\n",
    "            depth=config.depth,\n",
    "            heads=config.heads,\n",
    "            mlp_dim=config.mlp_dim,\n",
    "            dropout=config.dropout\n",
    "        )\n",
    "        \n",
    "        # Pass config.num_epochs explicitly\n",
    "        trained_model = train_model_vit(\n",
    "            model_vit,\n",
    "            train_loader,\n",
    "            val_loader,\n",
    "            test_loader,\n",
    "            num_epochs=num_epochs,\n",
    "            lr=config.lr,\n",
    "            max_patience=patience,\n",
    "            device='cuda'\n",
    "        )\n",
    "\n",
    "\n",
    "# Start sweep\n",
    "sweep_id = wandb.sweep(sweep_config, project=\"spectra-classification-vit\")\n",
    "wandb.agent(sweep_id, function=sweep_train, count=50)\n"
   ]
  },
  {
   "cell_type": "code",
   "execution_count": null,
   "metadata": {},
   "outputs": [
    {
     "name": "stderr",
     "output_type": "stream",
     "text": [
      "wandb: Using wandb-core as the SDK backend. Please refer to https://wandb.me/wandb-core for more information.\n"
     ]
    },
    {
     "name": "stdout",
     "output_type": "stream",
     "text": [
      "Create sweep with ID: ukgexvm9\n",
      "Sweep URL: https://wandb.ai/joaoc-university-of-southampton/spectra-classification-vit/sweeps/ukgexvm9\n"
     ]
    },
    {
     "name": "stderr",
     "output_type": "stream",
     "text": [
      "wandb: Agent Starting Run: bw3zdkej with config:\n",
      "wandb: \tdepth: 20\n",
      "wandb: \tdim: 128\n",
      "wandb: \tdropout: 0.2\n",
      "wandb: \theads: 8\n",
      "wandb: \tlr: 3e-06\n",
      "wandb: \tmlp_dim: 512\n",
      "wandb: \tpatch_size: 16\n",
      "wandb: Currently logged in as: joaoc (joaoc-university-of-southampton). Use `wandb login --relogin` to force relogin\n"
     ]
    },
    {
     "data": {
      "text/html": [
       "Tracking run with wandb version 0.18.5"
      ],
      "text/plain": [
       "<IPython.core.display.HTML object>"
      ]
     },
     "metadata": {},
     "output_type": "display_data"
    },
    {
     "data": {
      "text/html": [
       "Run data is saved locally in <code>c:\\Users\\jcwin\\OneDrive - University of Southampton\\_Southampton\\2024-25\\Star-Classifier\\wandb\\run-20241028_213055-bw3zdkej</code>"
      ],
      "text/plain": [
       "<IPython.core.display.HTML object>"
      ]
     },
     "metadata": {},
     "output_type": "display_data"
    },
    {
     "data": {
      "text/html": [
       "Syncing run <strong><a href='https://wandb.ai/joaoc-university-of-southampton/spectra-classification-vit/runs/bw3zdkej' target=\"_blank\">sandy-sweep-1</a></strong> to <a href='https://wandb.ai/joaoc-university-of-southampton/spectra-classification-vit' target=\"_blank\">Weights & Biases</a> (<a href='https://wandb.me/run' target=\"_blank\">docs</a>)<br/>Sweep page: <a href='https://wandb.ai/joaoc-university-of-southampton/spectra-classification-vit/sweeps/ukgexvm9' target=\"_blank\">https://wandb.ai/joaoc-university-of-southampton/spectra-classification-vit/sweeps/ukgexvm9</a>"
      ],
      "text/plain": [
       "<IPython.core.display.HTML object>"
      ]
     },
     "metadata": {},
     "output_type": "display_data"
    },
    {
     "data": {
      "text/html": [
       " View project at <a href='https://wandb.ai/joaoc-university-of-southampton/spectra-classification-vit' target=\"_blank\">https://wandb.ai/joaoc-university-of-southampton/spectra-classification-vit</a>"
      ],
      "text/plain": [
       "<IPython.core.display.HTML object>"
      ]
     },
     "metadata": {},
     "output_type": "display_data"
    },
    {
     "data": {
      "text/html": [
       " View sweep at <a href='https://wandb.ai/joaoc-university-of-southampton/spectra-classification-vit/sweeps/ukgexvm9' target=\"_blank\">https://wandb.ai/joaoc-university-of-southampton/spectra-classification-vit/sweeps/ukgexvm9</a>"
      ],
      "text/plain": [
       "<IPython.core.display.HTML object>"
      ]
     },
     "metadata": {},
     "output_type": "display_data"
    },
    {
     "data": {
      "text/html": [
       " View run at <a href='https://wandb.ai/joaoc-university-of-southampton/spectra-classification-vit/runs/bw3zdkej' target=\"_blank\">https://wandb.ai/joaoc-university-of-southampton/spectra-classification-vit/runs/bw3zdkej</a>"
      ],
      "text/plain": [
       "<IPython.core.display.HTML object>"
      ]
     },
     "metadata": {},
     "output_type": "display_data"
    },
    {
     "ename": "",
     "evalue": "",
     "output_type": "error",
     "traceback": [
      "\u001b[1;31mThe Kernel crashed while executing code in the current cell or a previous cell. \n",
      "\u001b[1;31mPlease review the code in the cell(s) to identify a possible cause of the failure. \n",
      "\u001b[1;31mClick <a href='https://aka.ms/vscodeJupyterKernelCrash'>here</a> for more info. \n",
      "\u001b[1;31mView Jupyter <a href='command:jupyter.viewOutput'>log</a> for further details."
     ]
    }
   ],
   "source": [
    "import wandb\n",
    "import torch\n",
    "from torch import nn\n",
    "from einops import rearrange, repeat\n",
    "\n",
    "# Using Spectrum Transformer: An Attention-Based Wideband Spectrum Detector\n",
    "\n",
    "class PreNorm(nn.Module):\n",
    "    def __init__(self, dim, fn):\n",
    "        super().__init__()\n",
    "        self.norm = nn.LayerNorm(dim)\n",
    "        self.fn = fn\n",
    "    def forward(self, x, **kwargs):\n",
    "        return self.fn(self.norm(x), **kwargs)\n",
    "\n",
    "class FeedForward(nn.Module):\n",
    "    def __init__(self, dim, hidden_dim, dropout=0.):\n",
    "        super().__init__()\n",
    "        self.net = nn.Sequential(\n",
    "            nn.Linear(dim, hidden_dim),\n",
    "            nn.GELU(),\n",
    "            nn.Dropout(dropout),\n",
    "            nn.Linear(hidden_dim, dim),\n",
    "            nn.Dropout(dropout)\n",
    "        )\n",
    "    def forward(self, x):\n",
    "        return self.net(x)\n",
    "\n",
    "class Attention(nn.Module):\n",
    "    def __init__(self, dim, heads=8, dim_head=64, dropout=0.):\n",
    "        super().__init__()\n",
    "        inner_dim = dim_head * heads\n",
    "        self.heads = heads\n",
    "        self.scale = dim_head ** -0.5\n",
    "        self.to_qkv = nn.Linear(dim, inner_dim * 3, bias=False)\n",
    "        self.attend = nn.Softmax(dim=-1)\n",
    "        self.to_out = nn.Sequential(\n",
    "            nn.Linear(inner_dim, dim),\n",
    "            nn.Dropout(dropout)\n",
    "        )\n",
    "    def forward(self, x):\n",
    "        qkv = self.to_qkv(x).chunk(3, dim=-1)\n",
    "        q, k, v = map(lambda t: rearrange(t, 'b n (h d) -> b h n d', h=self.heads), qkv)\n",
    "        dots = torch.matmul(q, k.transpose(-1, -2)) * self.scale\n",
    "        attn = self.attend(dots)\n",
    "        out = torch.matmul(attn, v)\n",
    "        out = rearrange(out, 'b h n d -> b n (h d)')\n",
    "        return self.to_out(out)\n",
    "\n",
    "class Transformer(nn.Module):\n",
    "    def __init__(self, dim, depth, heads, dim_head, mlp_dim, dropout=0.):\n",
    "        super().__init__()\n",
    "        self.layers = nn.ModuleList([\n",
    "            nn.ModuleList([\n",
    "                PreNorm(dim, Attention(dim, heads=heads, dim_head=dim_head, dropout=dropout)),\n",
    "                PreNorm(dim, FeedForward(dim, mlp_dim, dropout=dropout))\n",
    "            ])\n",
    "            for _ in range(depth)\n",
    "        ])\n",
    "    def forward(self, x):\n",
    "        for attn, ff in self.layers:\n",
    "            x = attn(x) + x\n",
    "            x = ff(x) + x\n",
    "        return x\n",
    "\n",
    "class VisionTransformer1D(nn.Module):\n",
    "    def __init__(self, input_size=3748, num_classes=4, patch_size=5, dim=128, depth=12, heads=16, mlp_dim=256, pool='cls', dim_head=64, dropout=0.2, emb_dropout=0.1):\n",
    "        super().__init__()\n",
    "        self.patch_size = patch_size\n",
    "        num_patches = (input_size + patch_size - 1) // patch_size\n",
    "        self.to_patch_embedding = nn.Sequential(\n",
    "            nn.Linear(patch_size, dim)\n",
    "        )\n",
    "        self.pos_embedding = nn.Parameter(torch.randn(1, num_patches + 1, dim))\n",
    "        self.cls_token = nn.Parameter(torch.randn(1, 1, dim))\n",
    "        self.dropout = nn.Dropout(emb_dropout)\n",
    "        self.transformer = Transformer(dim, depth, heads, dim_head, mlp_dim, dropout)\n",
    "        self.pool = pool\n",
    "        self.to_latent = nn.Identity()\n",
    "        self.mlp_head = nn.Sequential(\n",
    "            nn.LayerNorm(dim),\n",
    "            nn.Linear(dim, num_classes)\n",
    "        )\n",
    "\n",
    "    def forward(self, x):\n",
    "        b, _, seq_len = x.shape\n",
    "        pad_len = (self.patch_size - (seq_len % self.patch_size)) % self.patch_size\n",
    "        x = nn.functional.pad(x, (0, pad_len))\n",
    "        x = x.view(b, -1, self.patch_size)\n",
    "        x = self.to_patch_embedding(x)\n",
    "\n",
    "        cls_tokens = repeat(self.cls_token, '() n d -> b n d', b=b)\n",
    "        x = torch.cat((cls_tokens, x), dim=1)\n",
    "        x += self.pos_embedding[:, :(x.size(1))]\n",
    "        x = self.dropout(x)\n",
    "        x = self.transformer(x)\n",
    "\n",
    "        x = x.mean(dim=1) if self.pool == 'mean' else x[:, 0]\n",
    "        x = self.to_latent(x)\n",
    "        return self.mlp_head(x)\n",
    "\n",
    "\n",
    "# Define the hyperparameters\n",
    "num_classes = 4\n",
    "num_epochs = 300\n",
    "patience = 30\n",
    "\n",
    "# Define sweep config\n",
    "sweep_config = {\n",
    "    \"method\": \"random\",\n",
    "    \"metric\": {\"name\": \"test_accuracy\", \"goal\": \"maximize\"},\n",
    "    \"parameters\": {\n",
    "        \"lr\": {\"values\": [3e-7, 3e-6, 3e-5]},\n",
    "        \"patch_size\": {\"values\": [16, 256, 3748]},\n",
    "        \"dim\": {\"values\": [32, 64, 128, 256, 512]},\n",
    "        \"heads\": {\"values\": [2, 8, 32]},\n",
    "        \"mlp_dim\": {\"values\": [128, 256, 512]},\n",
    "        #\"batch_size\": {\"values\": [64, 128, 256]},\n",
    "        \"depth\": {\"values\": [3, 10, 20]},\n",
    "        \"dropout\": {\"values\": [0.1, 0.2, 0.3, 0.4]}\n",
    "    }\n",
    "}\n",
    "\n",
    "def sweep_train():\n",
    "    with wandb.init() as run:\n",
    "        config = run.config\n",
    "        model_vit = VisionTransformer1D(\n",
    "            num_classes=num_classes,\n",
    "            patch_size=config.patch_size,\n",
    "            dim=config.dim,\n",
    "            depth=config.depth,\n",
    "            heads=config.heads,\n",
    "            mlp_dim=config.mlp_dim,\n",
    "            dropout=config.dropout\n",
    "        )\n",
    "        \n",
    "        # Pass config.num_epochs explicitly\n",
    "        trained_model = train_model_vit(\n",
    "            model_vit,\n",
    "            train_loader,\n",
    "            val_loader,\n",
    "            test_loader,\n",
    "            num_epochs=num_epochs,\n",
    "            lr=config.lr,\n",
    "            max_patience=patience,\n",
    "            device='cuda'\n",
    "        )\n",
    "\n",
    "\n",
    "# Start sweep\n",
    "sweep_id = wandb.sweep(sweep_config, project=\"spectra-classification-vit\")\n",
    "wandb.agent(sweep_id, function=sweep_train, count=500)\n"
   ]
  },
  {
   "cell_type": "markdown",
   "metadata": {},
   "source": [
    "# SpectraTR Code"
   ]
  },
  {
   "cell_type": "code",
   "execution_count": 20,
   "metadata": {},
   "outputs": [],
   "source": [
    "from torch import nn, einsum\n",
    "import torch.nn.functional as F\n",
    "\n",
    "from einops import rearrange, repeat\n",
    "from einops.layers.torch import Rearrange\n",
    "\n",
    "# helpers\n",
    "\n",
    "def pair(t):\n",
    "    return t if isinstance(t, tuple) else (t, t)\n",
    "\n",
    "# classes\n",
    "\n",
    "class PreNorm(nn.Module):\n",
    "    def __init__(self, dim, fn):\n",
    "        super().__init__()\n",
    "        self.norm = nn.LayerNorm(dim)\n",
    "        self.fn = fn\n",
    "    def forward(self, x, **kwargs):\n",
    "        return self.fn(self.norm(x), **kwargs)\n",
    "\n",
    "class FeedForward(nn.Module):\n",
    "    def __init__(self, dim, hidden_dim, dropout = 0.):\n",
    "        super().__init__()\n",
    "        self.net = nn.Sequential(\n",
    "            nn.Linear(dim, hidden_dim),\n",
    "            nn.GELU(),\n",
    "            nn.Dropout(dropout),\n",
    "            nn.Linear(hidden_dim, dim),\n",
    "            nn.Dropout(dropout)\n",
    "        )\n",
    "    def forward(self, x):\n",
    "        return self.net(x)\n",
    "\n",
    "class Attention(nn.Module):\n",
    "    def __init__(self, dim, heads = 8, dim_head = 64, dropout = 0.):\n",
    "        super().__init__()\n",
    "        inner_dim = dim_head *  heads\n",
    "        project_out = not (heads == 1 and dim_head == dim)\n",
    "\n",
    "        self.heads = heads\n",
    "        self.scale = dim_head ** -0.5\n",
    "\n",
    "        self.attend = nn.Softmax(dim = -1)\n",
    "        self.to_qkv = nn.Linear(dim, inner_dim * 3, bias = False)\n",
    "        # self.to_qkv = nn.Linear(dim, inner_dim , bias = False)\n",
    "\n",
    "        self.to_out = nn.Sequential(\n",
    "            nn.Linear(inner_dim, dim),\n",
    "            nn.Dropout(dropout)\n",
    "        ) if project_out else nn.Identity()\n",
    "\n",
    "    def forward(self, x):\n",
    "        b, n, _, h = *x.shape, self.heads\n",
    "        qkv = self.to_qkv(x).chunk(3, dim = -1)\n",
    "        # qkv = self.to_qkv(x).chunk(1, dim = -1)\n",
    "        q, k, v = map(lambda t: rearrange(t, 'b n (h d) -> b h n d', h = h), qkv)\n",
    "\n",
    "        dots = einsum('b h i d, b h j d -> b h i j', q, k) * self.scale\n",
    "\n",
    "        attn = self.attend(dots)\n",
    "\n",
    "        out = einsum('b h i j, b h j d -> b h i d', attn, v)\n",
    "        out = rearrange(out, 'b h n d -> b n (h d)')\n",
    "        return self.to_out(out)\n",
    "\n",
    "class Transformer(nn.Module):\n",
    "    def __init__(self, dim, depth, heads, dim_head, mlp_dim, dropout = 0.):\n",
    "        super().__init__()\n",
    "        self.layers = nn.ModuleList([])\n",
    "        for _ in range(depth):\n",
    "            self.layers.append(nn.ModuleList([\n",
    "                PreNorm(dim, Attention(dim, heads = heads, dim_head = dim_head, dropout = dropout)),\n",
    "                PreNorm(dim, FeedForward(dim, mlp_dim, dropout = dropout))\n",
    "            ]))\n",
    "    def forward(self, x):\n",
    "        for attn, ff in self.layers:\n",
    "            x = attn(x) + x\n",
    "            x = ff(x) + x\n",
    "        return x\n",
    "\n",
    "class ViT(nn.Module):\n",
    "    def __init__(self, *, image_size, patch_size, num_classes, dim, depth, heads, mlp_dim, pool = 'cls', channels = 1, dim_head = 64, dropout = 0., emb_dropout = 0.):\n",
    "        super().__init__()\n",
    "        image_height, image_width = pair(image_size)\n",
    "        patch_height, patch_width = pair(patch_size)\n",
    "\n",
    "        assert image_height % patch_height == 0 and image_width % patch_width == 0, 'Image dimensions must be divisible by the patch size.'\n",
    "\n",
    "        num_patches = (image_height // patch_height) * (image_width // patch_width)\n",
    "        patch_dim = channels * patch_height * patch_width\n",
    "        assert pool in {'cls', 'mean'}, 'pool type must be either cls (cls token) or mean (mean pooling)'\n",
    "        #self.to_patch_embedding = nn.Sequential(\n",
    "        #    Rearrange('b c (h p1) (w p2) -> b (h w) (p1 p2 c)', p1 = patch_height, p2 = patch_width),\n",
    "        #    nn.Linear(patch_dim, dim),\n",
    "        #)\n",
    "        self.to_patch_embedding = nn.Sequential(\n",
    "            Rearrange('b c (p s) -> b (p c) s', p=patch_dim),\n",
    "            nn.Linear(patch_dim, dim)\n",
    "        )\n",
    "\n",
    "\n",
    "        self.pos_embedding = nn.Parameter(torch.randn(1, num_patches + 1, dim))\n",
    "        self.cls_token = nn.Parameter(torch.randn(1, 1, dim))\n",
    "        self.dropout = nn.Dropout(emb_dropout)\n",
    "\n",
    "        self.transformer = Transformer(dim, depth, heads, dim_head, mlp_dim, dropout)\n",
    "\n",
    "        self.pool = pool\n",
    "        self.to_latent = nn.Identity()\n",
    "\n",
    "        self.mlp_head = nn.Sequential(\n",
    "            nn.LayerNorm(dim),\n",
    "            nn.Linear(dim, num_classes)\n",
    "        )\n",
    "\n",
    "    def forward(self, img): \n",
    "        print(img.shape)\n",
    "        x = self.to_patch_embedding(img)\n",
    "        b, n, _ = x.shape\n",
    "\n",
    "        cls_tokens = repeat(self.cls_token, '() n d -> b n d', b = b)\n",
    "        x = torch.cat((cls_tokens, x), dim=1)\n",
    "        x += self.pos_embedding[:, :(n + 1)]\n",
    "        x = self.dropout(x)\n",
    "\n",
    "        x = self.transformer(x)\n",
    "\n",
    "        x = x.mean(dim = 1) if self.pool == 'mean' else x[:, 0]\n",
    "\n",
    "        x = self.to_latent(x)\n",
    "        return self.mlp_head(x)"
   ]
  },
  {
   "cell_type": "code",
   "execution_count": 24,
   "metadata": {},
   "outputs": [
    {
     "name": "stdout",
     "output_type": "stream",
     "text": [
      "ViT(\n",
      "  (to_patch_embedding): Sequential(\n",
      "    (0): Rearrange('b c (p s) -> b (p c) s', p=4)\n",
      "    (1): Linear(in_features=4, out_features=64, bias=True)\n",
      "  )\n",
      "  (dropout): Dropout(p=0.0, inplace=False)\n",
      "  (transformer): Transformer(\n",
      "    (layers): ModuleList(\n",
      "      (0-1): 2 x ModuleList(\n",
      "        (0): PreNorm(\n",
      "          (norm): LayerNorm((64,), eps=1e-05, elementwise_affine=True)\n",
      "          (fn): Attention(\n",
      "            (attend): Softmax(dim=-1)\n",
      "            (to_qkv): Linear(in_features=64, out_features=1536, bias=False)\n",
      "            (to_out): Sequential(\n",
      "              (0): Linear(in_features=512, out_features=64, bias=True)\n",
      "              (1): Dropout(p=0.1, inplace=False)\n",
      "            )\n",
      "          )\n",
      "        )\n",
      "        (1): PreNorm(\n",
      "          (norm): LayerNorm((64,), eps=1e-05, elementwise_affine=True)\n",
      "          (fn): FeedForward(\n",
      "            (net): Sequential(\n",
      "              (0): Linear(in_features=64, out_features=128, bias=True)\n",
      "              (1): GELU(approximate='none')\n",
      "              (2): Dropout(p=0.1, inplace=False)\n",
      "              (3): Linear(in_features=128, out_features=64, bias=True)\n",
      "              (4): Dropout(p=0.1, inplace=False)\n",
      "            )\n",
      "          )\n",
      "        )\n",
      "      )\n",
      "    )\n",
      "  )\n",
      "  (to_latent): Identity()\n",
      "  (mlp_head): Sequential(\n",
      "    (0): LayerNorm((64,), eps=1e-05, elementwise_affine=True)\n",
      "    (1): Linear(in_features=64, out_features=4, bias=True)\n",
      "  )\n",
      ")\n",
      "Number of parameters:  225056836\n"
     ]
    }
   ],
   "source": [
    "   \n",
    "torch.cuda.empty_cache()\n",
    "# Initialize WandB project\n",
    "#wandb.init(project=\"spectra-classification-vit\", entity=\"joaoc-university-of-southampton\")\n",
    "# Initialize and train the model\n",
    "model_vit = ViT(patch_size=2, image_size=(3748), num_classes=4, dim=64, depth=2, heads=8, mlp_dim=128, dropout=0.1)\n",
    "print(model_vit)\n",
    "# print the number of parameters\n",
    "print('Number of parameters: ', sum(p.numel() for p in model_vit.parameters()))"
   ]
  },
  {
   "cell_type": "code",
   "execution_count": 25,
   "metadata": {},
   "outputs": [
    {
     "name": "stdout",
     "output_type": "stream",
     "text": [
      "torch.Size([128, 1, 3748])\n"
     ]
    },
    {
     "ename": "RuntimeError",
     "evalue": "mat1 and mat2 shapes cannot be multiplied (512x937 and 4x64)",
     "output_type": "error",
     "traceback": [
      "\u001b[1;31m---------------------------------------------------------------------------\u001b[0m",
      "\u001b[1;31mRuntimeError\u001b[0m                              Traceback (most recent call last)",
      "Cell \u001b[1;32mIn[25], line 1\u001b[0m\n\u001b[1;32m----> 1\u001b[0m trained_model \u001b[38;5;241m=\u001b[39m \u001b[43mtrain_model_vit\u001b[49m\u001b[43m(\u001b[49m\u001b[43mmodel_vit\u001b[49m\u001b[43m,\u001b[49m\u001b[43m \u001b[49m\u001b[43mtrain_loader\u001b[49m\u001b[43m,\u001b[49m\u001b[43m \u001b[49m\u001b[43mval_loader\u001b[49m\u001b[43m,\u001b[49m\u001b[43m \u001b[49m\u001b[43mtest_loader\u001b[49m\u001b[43m,\u001b[49m\u001b[43m \u001b[49m\u001b[43mnum_epochs\u001b[49m\u001b[38;5;241;43m=\u001b[39;49m\u001b[38;5;241;43m50\u001b[39;49m\u001b[43m,\u001b[49m\u001b[43m \u001b[49m\u001b[43mlr\u001b[49m\u001b[38;5;241;43m=\u001b[39;49m\u001b[38;5;241;43m1e-4\u001b[39;49m\u001b[43m,\u001b[49m\u001b[43m \u001b[49m\u001b[43mpatience\u001b[49m\u001b[38;5;241;43m=\u001b[39;49m\u001b[38;5;241;43m10\u001b[39;49m\u001b[43m)\u001b[49m\n\u001b[0;32m      3\u001b[0m \u001b[38;5;66;03m# Save the model and finish WandB session\u001b[39;00m\n\u001b[0;32m      4\u001b[0m wandb\u001b[38;5;241m.\u001b[39mfinish()\n",
      "Cell \u001b[1;32mIn[4], line 80\u001b[0m, in \u001b[0;36mtrain_model_vit\u001b[1;34m(model, train_loader, val_loader, test_loader, num_epochs, lr, patience, device)\u001b[0m\n\u001b[0;32m     78\u001b[0m X_batch, y_batch \u001b[38;5;241m=\u001b[39m X_batch\u001b[38;5;241m.\u001b[39mto(device), y_batch\u001b[38;5;241m.\u001b[39mto(device)\n\u001b[0;32m     79\u001b[0m optimizer\u001b[38;5;241m.\u001b[39mzero_grad()\n\u001b[1;32m---> 80\u001b[0m outputs \u001b[38;5;241m=\u001b[39m \u001b[43mmodel\u001b[49m\u001b[43m(\u001b[49m\u001b[43mX_batch\u001b[49m\u001b[43m)\u001b[49m\n\u001b[0;32m     81\u001b[0m loss \u001b[38;5;241m=\u001b[39m criterion(outputs, y_batch)\n\u001b[0;32m     82\u001b[0m loss\u001b[38;5;241m.\u001b[39mbackward()\n",
      "File \u001b[1;32m~\\AppData\\Local\\Packages\\PythonSoftwareFoundation.Python.3.11_qbz5n2kfra8p0\\LocalCache\\local-packages\\Python311\\site-packages\\torch\\nn\\modules\\module.py:1553\u001b[0m, in \u001b[0;36mModule._wrapped_call_impl\u001b[1;34m(self, *args, **kwargs)\u001b[0m\n\u001b[0;32m   1551\u001b[0m     \u001b[38;5;28;01mreturn\u001b[39;00m \u001b[38;5;28mself\u001b[39m\u001b[38;5;241m.\u001b[39m_compiled_call_impl(\u001b[38;5;241m*\u001b[39margs, \u001b[38;5;241m*\u001b[39m\u001b[38;5;241m*\u001b[39mkwargs)  \u001b[38;5;66;03m# type: ignore[misc]\u001b[39;00m\n\u001b[0;32m   1552\u001b[0m \u001b[38;5;28;01melse\u001b[39;00m:\n\u001b[1;32m-> 1553\u001b[0m     \u001b[38;5;28;01mreturn\u001b[39;00m \u001b[38;5;28;43mself\u001b[39;49m\u001b[38;5;241;43m.\u001b[39;49m\u001b[43m_call_impl\u001b[49m\u001b[43m(\u001b[49m\u001b[38;5;241;43m*\u001b[39;49m\u001b[43margs\u001b[49m\u001b[43m,\u001b[49m\u001b[43m \u001b[49m\u001b[38;5;241;43m*\u001b[39;49m\u001b[38;5;241;43m*\u001b[39;49m\u001b[43mkwargs\u001b[49m\u001b[43m)\u001b[49m\n",
      "File \u001b[1;32m~\\AppData\\Local\\Packages\\PythonSoftwareFoundation.Python.3.11_qbz5n2kfra8p0\\LocalCache\\local-packages\\Python311\\site-packages\\torch\\nn\\modules\\module.py:1562\u001b[0m, in \u001b[0;36mModule._call_impl\u001b[1;34m(self, *args, **kwargs)\u001b[0m\n\u001b[0;32m   1557\u001b[0m \u001b[38;5;66;03m# If we don't have any hooks, we want to skip the rest of the logic in\u001b[39;00m\n\u001b[0;32m   1558\u001b[0m \u001b[38;5;66;03m# this function, and just call forward.\u001b[39;00m\n\u001b[0;32m   1559\u001b[0m \u001b[38;5;28;01mif\u001b[39;00m \u001b[38;5;129;01mnot\u001b[39;00m (\u001b[38;5;28mself\u001b[39m\u001b[38;5;241m.\u001b[39m_backward_hooks \u001b[38;5;129;01mor\u001b[39;00m \u001b[38;5;28mself\u001b[39m\u001b[38;5;241m.\u001b[39m_backward_pre_hooks \u001b[38;5;129;01mor\u001b[39;00m \u001b[38;5;28mself\u001b[39m\u001b[38;5;241m.\u001b[39m_forward_hooks \u001b[38;5;129;01mor\u001b[39;00m \u001b[38;5;28mself\u001b[39m\u001b[38;5;241m.\u001b[39m_forward_pre_hooks\n\u001b[0;32m   1560\u001b[0m         \u001b[38;5;129;01mor\u001b[39;00m _global_backward_pre_hooks \u001b[38;5;129;01mor\u001b[39;00m _global_backward_hooks\n\u001b[0;32m   1561\u001b[0m         \u001b[38;5;129;01mor\u001b[39;00m _global_forward_hooks \u001b[38;5;129;01mor\u001b[39;00m _global_forward_pre_hooks):\n\u001b[1;32m-> 1562\u001b[0m     \u001b[38;5;28;01mreturn\u001b[39;00m \u001b[43mforward_call\u001b[49m\u001b[43m(\u001b[49m\u001b[38;5;241;43m*\u001b[39;49m\u001b[43margs\u001b[49m\u001b[43m,\u001b[49m\u001b[43m \u001b[49m\u001b[38;5;241;43m*\u001b[39;49m\u001b[38;5;241;43m*\u001b[39;49m\u001b[43mkwargs\u001b[49m\u001b[43m)\u001b[49m\n\u001b[0;32m   1564\u001b[0m \u001b[38;5;28;01mtry\u001b[39;00m:\n\u001b[0;32m   1565\u001b[0m     result \u001b[38;5;241m=\u001b[39m \u001b[38;5;28;01mNone\u001b[39;00m\n",
      "Cell \u001b[1;32mIn[20], line 119\u001b[0m, in \u001b[0;36mViT.forward\u001b[1;34m(self, img)\u001b[0m\n\u001b[0;32m    117\u001b[0m \u001b[38;5;28;01mdef\u001b[39;00m \u001b[38;5;21mforward\u001b[39m(\u001b[38;5;28mself\u001b[39m, img): \n\u001b[0;32m    118\u001b[0m     \u001b[38;5;28mprint\u001b[39m(img\u001b[38;5;241m.\u001b[39mshape)\n\u001b[1;32m--> 119\u001b[0m     x \u001b[38;5;241m=\u001b[39m \u001b[38;5;28;43mself\u001b[39;49m\u001b[38;5;241;43m.\u001b[39;49m\u001b[43mto_patch_embedding\u001b[49m\u001b[43m(\u001b[49m\u001b[43mimg\u001b[49m\u001b[43m)\u001b[49m\n\u001b[0;32m    120\u001b[0m     b, n, _ \u001b[38;5;241m=\u001b[39m x\u001b[38;5;241m.\u001b[39mshape\n\u001b[0;32m    122\u001b[0m     cls_tokens \u001b[38;5;241m=\u001b[39m repeat(\u001b[38;5;28mself\u001b[39m\u001b[38;5;241m.\u001b[39mcls_token, \u001b[38;5;124m'\u001b[39m\u001b[38;5;124m() n d -> b n d\u001b[39m\u001b[38;5;124m'\u001b[39m, b \u001b[38;5;241m=\u001b[39m b)\n",
      "File \u001b[1;32m~\\AppData\\Local\\Packages\\PythonSoftwareFoundation.Python.3.11_qbz5n2kfra8p0\\LocalCache\\local-packages\\Python311\\site-packages\\torch\\nn\\modules\\module.py:1553\u001b[0m, in \u001b[0;36mModule._wrapped_call_impl\u001b[1;34m(self, *args, **kwargs)\u001b[0m\n\u001b[0;32m   1551\u001b[0m     \u001b[38;5;28;01mreturn\u001b[39;00m \u001b[38;5;28mself\u001b[39m\u001b[38;5;241m.\u001b[39m_compiled_call_impl(\u001b[38;5;241m*\u001b[39margs, \u001b[38;5;241m*\u001b[39m\u001b[38;5;241m*\u001b[39mkwargs)  \u001b[38;5;66;03m# type: ignore[misc]\u001b[39;00m\n\u001b[0;32m   1552\u001b[0m \u001b[38;5;28;01melse\u001b[39;00m:\n\u001b[1;32m-> 1553\u001b[0m     \u001b[38;5;28;01mreturn\u001b[39;00m \u001b[38;5;28;43mself\u001b[39;49m\u001b[38;5;241;43m.\u001b[39;49m\u001b[43m_call_impl\u001b[49m\u001b[43m(\u001b[49m\u001b[38;5;241;43m*\u001b[39;49m\u001b[43margs\u001b[49m\u001b[43m,\u001b[49m\u001b[43m \u001b[49m\u001b[38;5;241;43m*\u001b[39;49m\u001b[38;5;241;43m*\u001b[39;49m\u001b[43mkwargs\u001b[49m\u001b[43m)\u001b[49m\n",
      "File \u001b[1;32m~\\AppData\\Local\\Packages\\PythonSoftwareFoundation.Python.3.11_qbz5n2kfra8p0\\LocalCache\\local-packages\\Python311\\site-packages\\torch\\nn\\modules\\module.py:1562\u001b[0m, in \u001b[0;36mModule._call_impl\u001b[1;34m(self, *args, **kwargs)\u001b[0m\n\u001b[0;32m   1557\u001b[0m \u001b[38;5;66;03m# If we don't have any hooks, we want to skip the rest of the logic in\u001b[39;00m\n\u001b[0;32m   1558\u001b[0m \u001b[38;5;66;03m# this function, and just call forward.\u001b[39;00m\n\u001b[0;32m   1559\u001b[0m \u001b[38;5;28;01mif\u001b[39;00m \u001b[38;5;129;01mnot\u001b[39;00m (\u001b[38;5;28mself\u001b[39m\u001b[38;5;241m.\u001b[39m_backward_hooks \u001b[38;5;129;01mor\u001b[39;00m \u001b[38;5;28mself\u001b[39m\u001b[38;5;241m.\u001b[39m_backward_pre_hooks \u001b[38;5;129;01mor\u001b[39;00m \u001b[38;5;28mself\u001b[39m\u001b[38;5;241m.\u001b[39m_forward_hooks \u001b[38;5;129;01mor\u001b[39;00m \u001b[38;5;28mself\u001b[39m\u001b[38;5;241m.\u001b[39m_forward_pre_hooks\n\u001b[0;32m   1560\u001b[0m         \u001b[38;5;129;01mor\u001b[39;00m _global_backward_pre_hooks \u001b[38;5;129;01mor\u001b[39;00m _global_backward_hooks\n\u001b[0;32m   1561\u001b[0m         \u001b[38;5;129;01mor\u001b[39;00m _global_forward_hooks \u001b[38;5;129;01mor\u001b[39;00m _global_forward_pre_hooks):\n\u001b[1;32m-> 1562\u001b[0m     \u001b[38;5;28;01mreturn\u001b[39;00m \u001b[43mforward_call\u001b[49m\u001b[43m(\u001b[49m\u001b[38;5;241;43m*\u001b[39;49m\u001b[43margs\u001b[49m\u001b[43m,\u001b[49m\u001b[43m \u001b[49m\u001b[38;5;241;43m*\u001b[39;49m\u001b[38;5;241;43m*\u001b[39;49m\u001b[43mkwargs\u001b[49m\u001b[43m)\u001b[49m\n\u001b[0;32m   1564\u001b[0m \u001b[38;5;28;01mtry\u001b[39;00m:\n\u001b[0;32m   1565\u001b[0m     result \u001b[38;5;241m=\u001b[39m \u001b[38;5;28;01mNone\u001b[39;00m\n",
      "File \u001b[1;32m~\\AppData\\Local\\Packages\\PythonSoftwareFoundation.Python.3.11_qbz5n2kfra8p0\\LocalCache\\local-packages\\Python311\\site-packages\\torch\\nn\\modules\\container.py:219\u001b[0m, in \u001b[0;36mSequential.forward\u001b[1;34m(self, input)\u001b[0m\n\u001b[0;32m    217\u001b[0m \u001b[38;5;28;01mdef\u001b[39;00m \u001b[38;5;21mforward\u001b[39m(\u001b[38;5;28mself\u001b[39m, \u001b[38;5;28minput\u001b[39m):\n\u001b[0;32m    218\u001b[0m     \u001b[38;5;28;01mfor\u001b[39;00m module \u001b[38;5;129;01min\u001b[39;00m \u001b[38;5;28mself\u001b[39m:\n\u001b[1;32m--> 219\u001b[0m         \u001b[38;5;28minput\u001b[39m \u001b[38;5;241m=\u001b[39m \u001b[43mmodule\u001b[49m\u001b[43m(\u001b[49m\u001b[38;5;28;43minput\u001b[39;49m\u001b[43m)\u001b[49m\n\u001b[0;32m    220\u001b[0m     \u001b[38;5;28;01mreturn\u001b[39;00m \u001b[38;5;28minput\u001b[39m\n",
      "File \u001b[1;32m~\\AppData\\Local\\Packages\\PythonSoftwareFoundation.Python.3.11_qbz5n2kfra8p0\\LocalCache\\local-packages\\Python311\\site-packages\\torch\\nn\\modules\\module.py:1553\u001b[0m, in \u001b[0;36mModule._wrapped_call_impl\u001b[1;34m(self, *args, **kwargs)\u001b[0m\n\u001b[0;32m   1551\u001b[0m     \u001b[38;5;28;01mreturn\u001b[39;00m \u001b[38;5;28mself\u001b[39m\u001b[38;5;241m.\u001b[39m_compiled_call_impl(\u001b[38;5;241m*\u001b[39margs, \u001b[38;5;241m*\u001b[39m\u001b[38;5;241m*\u001b[39mkwargs)  \u001b[38;5;66;03m# type: ignore[misc]\u001b[39;00m\n\u001b[0;32m   1552\u001b[0m \u001b[38;5;28;01melse\u001b[39;00m:\n\u001b[1;32m-> 1553\u001b[0m     \u001b[38;5;28;01mreturn\u001b[39;00m \u001b[38;5;28;43mself\u001b[39;49m\u001b[38;5;241;43m.\u001b[39;49m\u001b[43m_call_impl\u001b[49m\u001b[43m(\u001b[49m\u001b[38;5;241;43m*\u001b[39;49m\u001b[43margs\u001b[49m\u001b[43m,\u001b[49m\u001b[43m \u001b[49m\u001b[38;5;241;43m*\u001b[39;49m\u001b[38;5;241;43m*\u001b[39;49m\u001b[43mkwargs\u001b[49m\u001b[43m)\u001b[49m\n",
      "File \u001b[1;32m~\\AppData\\Local\\Packages\\PythonSoftwareFoundation.Python.3.11_qbz5n2kfra8p0\\LocalCache\\local-packages\\Python311\\site-packages\\torch\\nn\\modules\\module.py:1562\u001b[0m, in \u001b[0;36mModule._call_impl\u001b[1;34m(self, *args, **kwargs)\u001b[0m\n\u001b[0;32m   1557\u001b[0m \u001b[38;5;66;03m# If we don't have any hooks, we want to skip the rest of the logic in\u001b[39;00m\n\u001b[0;32m   1558\u001b[0m \u001b[38;5;66;03m# this function, and just call forward.\u001b[39;00m\n\u001b[0;32m   1559\u001b[0m \u001b[38;5;28;01mif\u001b[39;00m \u001b[38;5;129;01mnot\u001b[39;00m (\u001b[38;5;28mself\u001b[39m\u001b[38;5;241m.\u001b[39m_backward_hooks \u001b[38;5;129;01mor\u001b[39;00m \u001b[38;5;28mself\u001b[39m\u001b[38;5;241m.\u001b[39m_backward_pre_hooks \u001b[38;5;129;01mor\u001b[39;00m \u001b[38;5;28mself\u001b[39m\u001b[38;5;241m.\u001b[39m_forward_hooks \u001b[38;5;129;01mor\u001b[39;00m \u001b[38;5;28mself\u001b[39m\u001b[38;5;241m.\u001b[39m_forward_pre_hooks\n\u001b[0;32m   1560\u001b[0m         \u001b[38;5;129;01mor\u001b[39;00m _global_backward_pre_hooks \u001b[38;5;129;01mor\u001b[39;00m _global_backward_hooks\n\u001b[0;32m   1561\u001b[0m         \u001b[38;5;129;01mor\u001b[39;00m _global_forward_hooks \u001b[38;5;129;01mor\u001b[39;00m _global_forward_pre_hooks):\n\u001b[1;32m-> 1562\u001b[0m     \u001b[38;5;28;01mreturn\u001b[39;00m \u001b[43mforward_call\u001b[49m\u001b[43m(\u001b[49m\u001b[38;5;241;43m*\u001b[39;49m\u001b[43margs\u001b[49m\u001b[43m,\u001b[49m\u001b[43m \u001b[49m\u001b[38;5;241;43m*\u001b[39;49m\u001b[38;5;241;43m*\u001b[39;49m\u001b[43mkwargs\u001b[49m\u001b[43m)\u001b[49m\n\u001b[0;32m   1564\u001b[0m \u001b[38;5;28;01mtry\u001b[39;00m:\n\u001b[0;32m   1565\u001b[0m     result \u001b[38;5;241m=\u001b[39m \u001b[38;5;28;01mNone\u001b[39;00m\n",
      "File \u001b[1;32m~\\AppData\\Local\\Packages\\PythonSoftwareFoundation.Python.3.11_qbz5n2kfra8p0\\LocalCache\\local-packages\\Python311\\site-packages\\torch\\nn\\modules\\linear.py:117\u001b[0m, in \u001b[0;36mLinear.forward\u001b[1;34m(self, input)\u001b[0m\n\u001b[0;32m    116\u001b[0m \u001b[38;5;28;01mdef\u001b[39;00m \u001b[38;5;21mforward\u001b[39m(\u001b[38;5;28mself\u001b[39m, \u001b[38;5;28minput\u001b[39m: Tensor) \u001b[38;5;241m-\u001b[39m\u001b[38;5;241m>\u001b[39m Tensor:\n\u001b[1;32m--> 117\u001b[0m     \u001b[38;5;28;01mreturn\u001b[39;00m \u001b[43mF\u001b[49m\u001b[38;5;241;43m.\u001b[39;49m\u001b[43mlinear\u001b[49m\u001b[43m(\u001b[49m\u001b[38;5;28;43minput\u001b[39;49m\u001b[43m,\u001b[49m\u001b[43m \u001b[49m\u001b[38;5;28;43mself\u001b[39;49m\u001b[38;5;241;43m.\u001b[39;49m\u001b[43mweight\u001b[49m\u001b[43m,\u001b[49m\u001b[43m \u001b[49m\u001b[38;5;28;43mself\u001b[39;49m\u001b[38;5;241;43m.\u001b[39;49m\u001b[43mbias\u001b[49m\u001b[43m)\u001b[49m\n",
      "\u001b[1;31mRuntimeError\u001b[0m: mat1 and mat2 shapes cannot be multiplied (512x937 and 4x64)"
     ]
    }
   ],
   "source": [
    "trained_model = train_model_vit(model_vit, train_loader, val_loader, test_loader, num_epochs=50, lr=1e-4, patience=10)\n",
    "\n",
    "# Save the model and finish WandB session\n",
    "wandb.finish()"
   ]
  }
 ],
 "metadata": {
  "kernelspec": {
   "display_name": "Python 3",
   "language": "python",
   "name": "python3"
  },
  "language_info": {
   "codemirror_mode": {
    "name": "ipython",
    "version": 3
   },
   "file_extension": ".py",
   "mimetype": "text/x-python",
   "name": "python",
   "nbconvert_exporter": "python",
   "pygments_lexer": "ipython3",
   "version": "3.11.9"
  }
 },
 "nbformat": 4,
 "nbformat_minor": 2
}
