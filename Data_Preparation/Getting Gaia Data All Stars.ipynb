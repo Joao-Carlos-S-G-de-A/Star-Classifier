{
 "cells": [
  {
   "cell_type": "code",
   "execution_count": 2,
   "metadata": {},
   "outputs": [],
   "source": [
    "import pandas as pd\n",
    "import matplotlib.pyplot as plt\n",
    "from astroquery.gaia import Gaia\n",
    "from astroquery.simbad import Simbad\n",
    "from astropy.coordinates import SkyCoord\n",
    "import astropy.units as u\n",
    "import numpy as np\n",
    "import pyvo as vo\n",
    "import pickle\n",
    "from astroquery.vizier import Vizier"
   ]
  },
  {
   "cell_type": "code",
   "execution_count": 3,
   "metadata": {},
   "outputs": [],
   "source": [
    "def GetGAIAData(GaiaDR3SourceIDs):\n",
    "    try:\n",
    "        qry = f\"SELECT * FROM gaiadr3.gaia_source gs WHERE gs.source_id in ({GaiaDR3SourceIDs});\"\n",
    "        job = Gaia.launch_job_async(qry)\n",
    "        tblGaia = job.get_results()\n",
    "        dfGaia = tblGaia.to_pandas()\n",
    "        return dfGaia\n",
    "    except Exception as e:\n",
    "        print(f\"An error occurred: {e}\")\n",
    "        return pd.DataFrame()  # Return an empty DataFrame in case of error\n",
    "\n",
    "def split_ids_into_chunks(id_string, chunk_size=50000):\n",
    "    id_list = id_string.split(', ')\n",
    "    chunks = [', '.join(id_list[i:i + chunk_size]) for i in range(0, len(id_list), chunk_size)]\n",
    "    return chunks"
   ]
  },
  {
   "cell_type": "markdown",
   "metadata": {},
   "source": [
    "# Doing all criteria"
   ]
  },
  {
   "cell_type": "code",
   "execution_count": null,
   "metadata": {},
   "outputs": [
    {
     "name": "stderr",
     "output_type": "stream",
     "text": [
      "C:\\Users\\jcwin\\AppData\\Local\\Packages\\PythonSoftwareFoundation.Python.3.11_qbz5n2kfra8p0\\LocalCache\\local-packages\\Python311\\site-packages\\pyvo\\dal\\query.py:325: DALOverflowWarning: Partial result set. Potential causes MAXREC, async storage space, etc.\n",
      "  warn(\"Partial result set. Potential causes MAXREC, async storage space, etc.\",\n"
     ]
    },
    {
     "name": "stdout",
     "output_type": "stream",
     "text": [
      "(2000000, 3)\n",
      "(1896034, 3)\n"
     ]
    }
   ],
   "source": [
    "criteria_ = \"otype = 'MS*' OR otype = 'Be*' OR otype = 'BS*' OR otype = 'SX*' OR otype = 'gD*' OR otype = 'dS*' OR otype = 'Ma*' OR otype = 'bC*' OR otype = 'sg*' \\\n",
    "OR otype = 's*r' OR otype = 's*y' OR otype = 's*b' OR otype = 'WR*' OR otype = 'N*' OR otype = 'Psr' OR otype = 'Y*O' OR otype = 'Or*' OR otype = 'TT*' OR  \\\n",
    "otype = 'Ae*' OR otype = 'out' OR otype = 'HH' OR otype = 'Ev*' OR otype = 'RG*' OR otype = 'HS*' OR otype = 'HB*' OR otype = 'RR*' OR otype = 'WV*' OR otype = 'Ce*' \\\n",
    "OR otype = 'cC*' OR otype = 'C*' OR otype = 'S*' OR otype = 'LP*' OR otype = 'AB*' OR otype = 'Mi*' OR otype = 'OH*' OR otype = 'pA*' OR otype = 'RV*' OR otype = 'PN' \\\n",
    "OR otype = 'WD*' OR otype = 'Pe*' OR otype = 'a2*' OR otype = 'RC*' OR otype = 'EB*' OR otype = 'El*' OR otype = 'SB*' OR otype = 'RS*' OR otype = 'BY*' OR otype = 'Sy*' \\\n",
    "OR otype = 'XB*' OR otype = 'LXB' OR otype = 'HXB' OR otype = 'CV*' OR otype = 'No*' OR otype = '**' OR otype = 'SN*' OR otype = 'LM*' OR otype = 'BD*' OR otype = 'Ir*' \\\n",
    "OR otype = 'Er*' OR otype = 'Ro*' OR otype = 'Pu*' OR otype = 'Em*' OR otype = 'PM*' OR otype = 'HV*'\"\n",
    "\n",
    "# Initialize SIMBADotype = 'MS*' OR otype = 'Ma*' OR otype = 'Y*O' OR otype = 'Ev*' OR otype = 'RG*' OR \n",
    "simbad = Simbad()\n",
    "simbad.ROW_LIMIT = -1\n",
    "temp = simbad.list_votable_fields()\n",
    "simbad.add_votable_fields(\"ids\", \"alltypes\", \"otype\")\n",
    "\n",
    "# Define coordinates (random)\n",
    "coordinates = SkyCoord(0, -90, unit=(\"deg\", \"deg\"))\n",
    "coordinates2 = SkyCoord(0, 90, unit=(\"deg\", \"deg\"))\n",
    "\n",
    "# Query region 1st half\n",
    "result = simbad.query_region(coordinates, radius=\"90d0m\", criteria=criteria_)\n",
    "result_df = result.to_pandas() # Convert result to a Pandas DataFrame\n",
    "\n",
    "filtered_result = result[\"ids\", \"otypes\", \"otype\"] # Keep only the columns we need\n",
    "result_df = filtered_result.to_pandas() # Convert result to a Pandas DataFrame\n",
    "print(result_df.shape)\n",
    "\n",
    "\n",
    "# Query region 2nd half\n",
    "result2 = simbad.query_region(coordinates2, radius=\"90d0m\", criteria=criteria_)\n",
    "filtered_result2 = result2[\"ids\", \"otypes\", \"otype\"] # Keep only the columns we need\n",
    "result_df2 = filtered_result2.to_pandas() # Convert result to a Pandas DataFrame\n",
    "print(result_df2.shape)\n",
    "\n",
    "\n",
    "# Combine the four arrays & save\n",
    "bin = pd.concat([result_df, result_df2])"
   ]
  },
  {
   "cell_type": "markdown",
   "metadata": {},
   "source": [
    "# Getting the otype"
   ]
  },
  {
   "cell_type": "code",
   "execution_count": 123,
   "metadata": {},
   "outputs": [],
   "source": [
    "simbad = Simbad()\n",
    "simbad.ROW_LIMIT = -1\n",
    "temp = simbad.list_votable_fields()\n",
    "simbad.add_votable_fields(\"ids\", \"alltypes\", \"otype\")\n",
    "\n",
    "query1 = simbad.query_tap(\"\"\"SELECT oid, otype\n",
    "FROM basic\n",
    "WHERE (otype = 'MS*' OR otype = 'Be*' OR otype = 'BS*' OR otype = 'SX*' OR otype = 'gD*' OR otype = 'dS*' OR otype = 'Ma*' OR otype = 'bC*' OR otype = 'sg*' \\\n",
    "OR otype = 's*r' OR otype = 's*y' OR otype = 's*b' OR otype = 'WR*' OR otype = 'N*' OR otype = 'Psr' OR otype = 'Y*O' OR otype = 'Or*' OR otype = 'TT*' OR  \\\n",
    "otype = 'Ae*' OR otype = 'out' OR otype = 'HH' OR otype = 'Ev*' OR otype = 'RG*' OR otype = 'HS*' OR otype = 'HB*' OR otype = 'RR*' OR otype = 'WV*' OR otype = 'Ce*' \\\n",
    "OR otype = 'cC*' OR otype = 'C*' OR otype = 'S*' OR otype = 'LP*' OR otype = 'AB*' OR otype = 'Mi*' OR otype = 'OH*' OR otype = 'pA*' OR otype = 'RV*' OR otype = 'PN' \\\n",
    "OR otype = 'WD*' OR otype = 'Pe*' OR otype = 'a2*' OR otype = 'RC*' OR otype = 'EB*' OR otype = 'El*' OR otype = 'SB*' OR otype = 'RS*' OR otype = 'BY*' OR otype = 'Sy*' \\\n",
    "OR otype = 'XB*' OR otype = 'LXB' OR otype = 'HXB' OR otype = 'CV*' OR otype = 'No*' OR otype = '**' OR otype = 'SN*' OR otype = 'LM*' OR otype = 'BD*' OR otype = 'Ir*' \\\n",
    "OR otype = 'Er*' OR otype = 'Ro*' OR otype = 'Pu*' OR otype = 'Em*' OR otype = 'PM*' OR otype = 'HV*') AND (pmra < 0 ) AND (pmdec < -4)\"\"\", maxrec=2000000) "
   ]
  },
  {
   "cell_type": "code",
   "execution_count": 121,
   "metadata": {},
   "outputs": [],
   "source": [
    "query2 = Simbad.query_tap(\"\"\"SELECT oid, otype\n",
    "FROM basic\n",
    "WHERE (otype = 'MS*' OR otype = 'Be*' OR otype = 'BS*' OR otype = 'SX*' OR otype = 'gD*' OR otype = 'dS*' OR otype = 'Ma*' OR otype = 'bC*' OR otype = 'sg*' \\\n",
    "OR otype = 's*r' OR otype = 's*y' OR otype = 's*b' OR otype = 'WR*' OR otype = 'N*' OR otype = 'Psr' OR otype = 'Y*O' OR otype = 'Or*' OR otype = 'TT*' OR  \\\n",
    "otype = 'Ae*' OR otype = 'out' OR otype = 'HH' OR otype = 'Ev*' OR otype = 'RG*' OR otype = 'HS*' OR otype = 'HB*' OR otype = 'RR*' OR otype = 'WV*' OR otype = 'Ce*' \\\n",
    "OR otype = 'cC*' OR otype = 'C*' OR otype = 'S*' OR otype = 'LP*' OR otype = 'AB*' OR otype = 'Mi*' OR otype = 'OH*' OR otype = 'pA*' OR otype = 'RV*' OR otype = 'PN' \\\n",
    "OR otype = 'WD*' OR otype = 'Pe*' OR otype = 'a2*' OR otype = 'RC*' OR otype = 'EB*' OR otype = 'El*' OR otype = 'SB*' OR otype = 'RS*' OR otype = 'BY*' OR otype = 'Sy*' \\\n",
    "OR otype = 'XB*' OR otype = 'LXB' OR otype = 'HXB' OR otype = 'CV*' OR otype = 'No*' OR otype = '**' OR otype = 'SN*' OR otype = 'LM*' OR otype = 'BD*' OR otype = 'Ir*' \\\n",
    "OR otype = 'Er*' OR otype = 'Ro*' OR otype = 'Pu*' OR otype = 'Em*' OR otype = 'PM*' OR otype = 'HV*') AND (pmra < 0 ) AND (pmdec >= -4)\"\"\", maxrec=2000000) "
   ]
  },
  {
   "cell_type": "code",
   "execution_count": 122,
   "metadata": {},
   "outputs": [],
   "source": [
    "query3 = Simbad.query_tap(\"\"\"SELECT oid, otype\n",
    "FROM basic\n",
    "WHERE (otype = 'MS*' OR otype = 'Be*' OR otype = 'BS*' OR otype = 'SX*' OR otype = 'gD*' OR otype = 'dS*' OR otype = 'Ma*' OR otype = 'bC*' OR otype = 'sg*' \\\n",
    "OR otype = 's*r' OR otype = 's*y' OR otype = 's*b' OR otype = 'WR*' OR otype = 'N*' OR otype = 'Psr' OR otype = 'Y*O' OR otype = 'Or*' OR otype = 'TT*' OR  \\\n",
    "otype = 'Ae*' OR otype = 'out' OR otype = 'HH' OR otype = 'Ev*' OR otype = 'RG*' OR otype = 'HS*' OR otype = 'HB*' OR otype = 'RR*' OR otype = 'WV*' OR otype = 'Ce*' \\\n",
    "OR otype = 'cC*' OR otype = 'C*' OR otype = 'S*' OR otype = 'LP*' OR otype = 'AB*' OR otype = 'Mi*' OR otype = 'OH*' OR otype = 'pA*' OR otype = 'RV*' OR otype = 'PN' \\\n",
    "OR otype = 'WD*' OR otype = 'Pe*' OR otype = 'a2*' OR otype = 'RC*' OR otype = 'EB*' OR otype = 'El*' OR otype = 'SB*' OR otype = 'RS*' OR otype = 'BY*' OR otype = 'Sy*' \\\n",
    "OR otype = 'XB*' OR otype = 'LXB' OR otype = 'HXB' OR otype = 'CV*' OR otype = 'No*' OR otype = '**' OR otype = 'SN*' OR otype = 'LM*' OR otype = 'BD*' OR otype = 'Ir*' \\\n",
    "OR otype = 'Er*' OR otype = 'Ro*' OR otype = 'Pu*' OR otype = 'Em*' OR otype = 'PM*' OR otype = 'HV*') AND (pmra >= 0) AND (pmdec < -3)\"\"\", maxrec=2000000) "
   ]
  },
  {
   "cell_type": "code",
   "execution_count": 120,
   "metadata": {},
   "outputs": [],
   "source": [
    "query4 = Simbad.query_tap(\"\"\"SELECT oid, otype\n",
    "FROM basic\n",
    "WHERE (otype = 'MS*' OR otype = 'Be*' OR otype = 'BS*' OR otype = 'SX*' OR otype = 'gD*' OR otype = 'dS*' OR otype = 'Ma*' OR otype = 'bC*' OR otype = 'sg*' \\\n",
    "OR otype = 's*r' OR otype = 's*y' OR otype = 's*b' OR otype = 'WR*' OR otype = 'N*' OR otype = 'Psr' OR otype = 'Y*O' OR otype = 'Or*' OR otype = 'TT*' OR  \\\n",
    "otype = 'Ae*' OR otype = 'out' OR otype = 'HH' OR otype = 'Ev*' OR otype = 'RG*' OR otype = 'HS*' OR otype = 'HB*' OR otype = 'RR*' OR otype = 'WV*' OR otype = 'Ce*' \\\n",
    "OR otype = 'cC*' OR otype = 'C*' OR otype = 'S*' OR otype = 'LP*' OR otype = 'AB*' OR otype = 'Mi*' OR otype = 'OH*' OR otype = 'pA*' OR otype = 'RV*' OR otype = 'PN' \\\n",
    "OR otype = 'WD*' OR otype = 'Pe*' OR otype = 'a2*' OR otype = 'RC*' OR otype = 'EB*' OR otype = 'El*' OR otype = 'SB*' OR otype = 'RS*' OR otype = 'BY*' OR otype = 'Sy*' \\\n",
    "OR otype = 'XB*' OR otype = 'LXB' OR otype = 'HXB' OR otype = 'CV*' OR otype = 'No*' OR otype = '**' OR otype = 'SN*' OR otype = 'LM*' OR otype = 'BD*' OR otype = 'Ir*' \\\n",
    "OR otype = 'Er*' OR otype = 'Ro*' OR otype = 'Pu*' OR otype = 'Em*' OR otype = 'PM*' OR otype = 'HV*') AND (pmra >= 0) AND (pmdec >= -3)\"\"\", maxrec=2000000) "
   ]
  },
  {
   "cell_type": "code",
   "execution_count": 124,
   "metadata": {},
   "outputs": [
    {
     "name": "stdout",
     "output_type": "stream",
     "text": [
      "1528405\n",
      "1737482\n",
      "537097\n",
      "746532\n",
      "Number of stars in all queries:  4549516\n"
     ]
    }
   ],
   "source": [
    "# Print length of each query\n",
    "print(len(query1))\n",
    "print(len(query2))\n",
    "print(len(query3))\n",
    "print(len(query4))\n",
    "\n",
    "# Print total length of all queries\n",
    "print('Number of stars in all queries: ', len(query1) + len(query2) + len(query3) + len(query4))\n",
    "\n",
    "# Make into a dataframe and concatenate\n",
    "df1 = query1.to_pandas()\n",
    "df2 = query2.to_pandas()\n",
    "df3 = query3.to_pandas()\n",
    "df4 = query4.to_pandas()\n",
    "\n",
    "df = pd.concat([df1, df2, df3, df4])"
   ]
  },
  {
   "cell_type": "code",
   "execution_count": 125,
   "metadata": {},
   "outputs": [],
   "source": [
    "# keep only the first column of df1\n",
    "dftest = df1.iloc[:, 0]"
   ]
  },
  {
   "cell_type": "markdown",
   "metadata": {},
   "source": [
    "# Getting the IDs"
   ]
  },
  {
   "cell_type": "code",
   "execution_count": null,
   "metadata": {},
   "outputs": [
    {
     "ename": "DALServiceError",
     "evalue": "404 Client Error: 404 for url: https://simbad.cds.unistra.fr/simbad/sim-tap/async/phase",
     "output_type": "error",
     "traceback": [
      "\u001b[1;31m---------------------------------------------------------------------------\u001b[0m",
      "\u001b[1;31mHTTPError\u001b[0m                                 Traceback (most recent call last)",
      "File \u001b[1;32m~\\AppData\\Local\\Packages\\PythonSoftwareFoundation.Python.3.11_qbz5n2kfra8p0\\LocalCache\\local-packages\\Python311\\site-packages\\pyvo\\dal\\tap.py:904\u001b[0m, in \u001b[0;36mAsyncTAPJob.run\u001b[1;34m(self)\u001b[0m\n\u001b[0;32m    902\u001b[0m     response \u001b[38;5;241m=\u001b[39m \u001b[38;5;28mself\u001b[39m\u001b[38;5;241m.\u001b[39m_session\u001b[38;5;241m.\u001b[39mpost(\n\u001b[0;32m    903\u001b[0m         \u001b[38;5;124m'\u001b[39m\u001b[38;5;132;01m{}\u001b[39;00m\u001b[38;5;124m/phase\u001b[39m\u001b[38;5;124m'\u001b[39m\u001b[38;5;241m.\u001b[39mformat(\u001b[38;5;28mself\u001b[39m\u001b[38;5;241m.\u001b[39murl), data\u001b[38;5;241m=\u001b[39m{\u001b[38;5;124m\"\u001b[39m\u001b[38;5;124mPHASE\u001b[39m\u001b[38;5;124m\"\u001b[39m: \u001b[38;5;124m\"\u001b[39m\u001b[38;5;124mRUN\u001b[39m\u001b[38;5;124m\"\u001b[39m})\n\u001b[1;32m--> 904\u001b[0m     \u001b[43mresponse\u001b[49m\u001b[38;5;241;43m.\u001b[39;49m\u001b[43mraise_for_status\u001b[49m\u001b[43m(\u001b[49m\u001b[43m)\u001b[49m\n\u001b[0;32m    905\u001b[0m \u001b[38;5;28;01mexcept\u001b[39;00m requests\u001b[38;5;241m.\u001b[39mRequestException \u001b[38;5;28;01mas\u001b[39;00m ex:\n",
      "File \u001b[1;32m~\\AppData\\Local\\Packages\\PythonSoftwareFoundation.Python.3.11_qbz5n2kfra8p0\\LocalCache\\local-packages\\Python311\\site-packages\\requests\\models.py:1024\u001b[0m, in \u001b[0;36mResponse.raise_for_status\u001b[1;34m(self)\u001b[0m\n\u001b[0;32m   1023\u001b[0m \u001b[38;5;28;01mif\u001b[39;00m http_error_msg:\n\u001b[1;32m-> 1024\u001b[0m     \u001b[38;5;28;01mraise\u001b[39;00m HTTPError(http_error_msg, response\u001b[38;5;241m=\u001b[39m\u001b[38;5;28mself\u001b[39m)\n",
      "\u001b[1;31mHTTPError\u001b[0m: 404 Client Error: 404 for url: https://simbad.cds.unistra.fr/simbad/sim-tap/async/phase",
      "\nDuring handling of the above exception, another exception occurred:\n",
      "\u001b[1;31mDALServiceError\u001b[0m                           Traceback (most recent call last)",
      "Cell \u001b[1;32mIn[126], line 6\u001b[0m\n\u001b[0;32m      2\u001b[0m \u001b[38;5;28;01mfrom\u001b[39;00m \u001b[38;5;21;01mastropy\u001b[39;00m\u001b[38;5;21;01m.\u001b[39;00m\u001b[38;5;21;01mtable\u001b[39;00m \u001b[38;5;28;01mimport\u001b[39;00m Table \n\u001b[0;32m      5\u001b[0m letters_table \u001b[38;5;241m=\u001b[39m dftest\n\u001b[1;32m----> 6\u001b[0m \u001b[43mSimbad\u001b[49m\u001b[38;5;241;43m.\u001b[39;49m\u001b[43mquery_tap\u001b[49m\u001b[43m(\u001b[49m\u001b[38;5;124;43m\"\u001b[39;49m\u001b[38;5;124;43mSELECT ids from ids WHERE oidref = TAP_UPLOAD.my_table_name\u001b[39;49m\u001b[38;5;124;43m\"\u001b[39;49m\u001b[43m,\u001b[49m\n\u001b[0;32m      7\u001b[0m \u001b[43m                 \u001b[49m\u001b[43mmy_table_name\u001b[49m\u001b[38;5;241;43m=\u001b[39;49m\u001b[43mletters_table\u001b[49m\u001b[43m)\u001b[49m \n",
      "File \u001b[1;32m~\\AppData\\Local\\Packages\\PythonSoftwareFoundation.Python.3.11_qbz5n2kfra8p0\\LocalCache\\local-packages\\Python311\\site-packages\\astroquery\\simbad\\core.py:1353\u001b[0m, in \u001b[0;36mSimbadClass.query_tap\u001b[1;34m(self, query, maxrec, get_query_payload, **uploads)\u001b[0m\n\u001b[0;32m   1351\u001b[0m     \u001b[38;5;28;01mreturn\u001b[39;00m _cached_query_tap(\u001b[38;5;28mself\u001b[39m\u001b[38;5;241m.\u001b[39mtap, query, maxrec\u001b[38;5;241m=\u001b[39mmaxrec)\n\u001b[0;32m   1352\u001b[0m \u001b[38;5;66;03m# with uploads it has to be without cache\u001b[39;00m\n\u001b[1;32m-> 1353\u001b[0m \u001b[38;5;28;01mreturn\u001b[39;00m \u001b[38;5;28;43mself\u001b[39;49m\u001b[38;5;241;43m.\u001b[39;49m\u001b[43mtap\u001b[49m\u001b[38;5;241;43m.\u001b[39;49m\u001b[43mrun_async\u001b[49m\u001b[43m(\u001b[49m\u001b[43mquery\u001b[49m\u001b[43m,\u001b[49m\u001b[43m \u001b[49m\u001b[43mmaxrec\u001b[49m\u001b[38;5;241;43m=\u001b[39;49m\u001b[43mmaxrec\u001b[49m\u001b[43m,\u001b[49m\u001b[43m \u001b[49m\u001b[43muploads\u001b[49m\u001b[38;5;241;43m=\u001b[39;49m\u001b[43muploads\u001b[49m\u001b[43m)\u001b[49m\u001b[38;5;241m.\u001b[39mto_table()\n",
      "File \u001b[1;32m~\\AppData\\Local\\Packages\\PythonSoftwareFoundation.Python.3.11_qbz5n2kfra8p0\\LocalCache\\local-packages\\Python311\\site-packages\\pyvo\\dal\\tap.py:323\u001b[0m, in \u001b[0;36mTAPService.run_async\u001b[1;34m(self, query, language, maxrec, uploads, **keywords)\u001b[0m\n\u001b[0;32m    286\u001b[0m \u001b[38;5;250m\u001b[39m\u001b[38;5;124;03m\"\"\"\u001b[39;00m\n\u001b[0;32m    287\u001b[0m \u001b[38;5;124;03mruns async query and returns its result\u001b[39;00m\n\u001b[0;32m    288\u001b[0m \n\u001b[1;32m   (...)\u001b[0m\n\u001b[0;32m    318\u001b[0m \u001b[38;5;124;03mAsyncTAPJob\u001b[39;00m\n\u001b[0;32m    319\u001b[0m \u001b[38;5;124;03m\"\"\"\u001b[39;00m\n\u001b[0;32m    320\u001b[0m job \u001b[38;5;241m=\u001b[39m AsyncTAPJob\u001b[38;5;241m.\u001b[39mcreate(\n\u001b[0;32m    321\u001b[0m     \u001b[38;5;28mself\u001b[39m\u001b[38;5;241m.\u001b[39mbaseurl, query, language\u001b[38;5;241m=\u001b[39mlanguage, maxrec\u001b[38;5;241m=\u001b[39mmaxrec, uploads\u001b[38;5;241m=\u001b[39muploads,\n\u001b[0;32m    322\u001b[0m     session\u001b[38;5;241m=\u001b[39m\u001b[38;5;28mself\u001b[39m\u001b[38;5;241m.\u001b[39m_session, \u001b[38;5;241m*\u001b[39m\u001b[38;5;241m*\u001b[39mkeywords)\n\u001b[1;32m--> 323\u001b[0m job \u001b[38;5;241m=\u001b[39m \u001b[43mjob\u001b[49m\u001b[38;5;241;43m.\u001b[39;49m\u001b[43mrun\u001b[49m\u001b[43m(\u001b[49m\u001b[43m)\u001b[49m\u001b[38;5;241m.\u001b[39mwait()\n\u001b[0;32m    324\u001b[0m job\u001b[38;5;241m.\u001b[39mraise_if_error()\n\u001b[0;32m    325\u001b[0m result \u001b[38;5;241m=\u001b[39m job\u001b[38;5;241m.\u001b[39mfetch_result()\n",
      "File \u001b[1;32m~\\AppData\\Local\\Packages\\PythonSoftwareFoundation.Python.3.11_qbz5n2kfra8p0\\LocalCache\\local-packages\\Python311\\site-packages\\pyvo\\dal\\tap.py:906\u001b[0m, in \u001b[0;36mAsyncTAPJob.run\u001b[1;34m(self)\u001b[0m\n\u001b[0;32m    904\u001b[0m     response\u001b[38;5;241m.\u001b[39mraise_for_status()\n\u001b[0;32m    905\u001b[0m \u001b[38;5;28;01mexcept\u001b[39;00m requests\u001b[38;5;241m.\u001b[39mRequestException \u001b[38;5;28;01mas\u001b[39;00m ex:\n\u001b[1;32m--> 906\u001b[0m     \u001b[38;5;28;01mraise\u001b[39;00m DALServiceError\u001b[38;5;241m.\u001b[39mfrom_except(ex, \u001b[38;5;28mself\u001b[39m\u001b[38;5;241m.\u001b[39murl)\n\u001b[0;32m    908\u001b[0m \u001b[38;5;28;01mreturn\u001b[39;00m \u001b[38;5;28mself\u001b[39m\n",
      "\u001b[1;31mDALServiceError\u001b[0m: 404 Client Error: 404 for url: https://simbad.cds.unistra.fr/simbad/sim-tap/async/phase"
     ]
    }
   ],
   "source": [
    "from astroquery.simbad import Simbad\n",
    "from astropy.table import Table \n",
    "\n",
    "# I want to query the ids table for all the oid in dftest\n",
    "# I will use the following query\n",
    "# SELECT ids from ids WHERE oidref = dftest\n",
    "# I will use the following query\n",
    "simbad.query_objectids()\n",
    "\n",
    "\n",
    "\n",
    "\n",
    "letters_table = dftest\n",
    "Simbad.query_tap(\"SELECT ids from ids WHERE oidref = TAP_UPLOAD.my_table_name\",\n",
    "                 my_table_name=letters_table) "
   ]
  },
  {
   "cell_type": "code",
   "execution_count": 83,
   "metadata": {},
   "outputs": [
    {
     "name": "stdout",
     "output_type": "stream",
     "text": [
      "Number of stars in each category: \n",
      "otype\n",
      "RR*    2075616\n",
      "PM*    2050194\n",
      "LM*    2010719\n",
      "EB*     319244\n",
      "LP*      92719\n",
      "SB*      33090\n",
      "WD*      22148\n",
      "RG*      20078\n",
      "Em*      12888\n",
      "Ro*      12662\n",
      "C*       12316\n",
      "**       10547\n",
      "HB*      10258\n",
      "cC*      10101\n",
      "Pu*       8646\n",
      "Pe*       6911\n",
      "Y*O       6247\n",
      "Mi*       4202\n",
      "RS*       3768\n",
      "El*       3572\n",
      "dS*       3548\n",
      "TT*       2716\n",
      "BY*       2333\n",
      "Er*       1701\n",
      "Or*       1335\n",
      "HS*        967\n",
      "s*r        924\n",
      "BS*        840\n",
      "AB*        749\n",
      "Ce*        633\n",
      "s*b        516\n",
      "Be*        451\n",
      "gD*        386\n",
      "WV*        361\n",
      "CV*        358\n",
      "HV*        293\n",
      "S*         280\n",
      "BD*        271\n",
      "WR*        249\n",
      "sg*        206\n",
      "s*y        195\n",
      "MS*        186\n",
      "a2*        159\n",
      "PN         153\n",
      "HXB        125\n",
      "RV*        114\n",
      "OH*         91\n",
      "Ir*         80\n",
      "Psr         78\n",
      "pA*         51\n",
      "RC*         49\n",
      "SX*         42\n",
      "bC*         41\n",
      "Ae*         34\n",
      "No*         27\n",
      "Sy*         27\n",
      "SN*         11\n",
      "XB*         11\n",
      "LXB         10\n",
      "HH           5\n",
      "Name: count, dtype: int64\n"
     ]
    }
   ],
   "source": [
    "# Print the number of stars in each category\n",
    "print('Number of stars in each category: ')\n",
    "counts = df['otype'].value_counts()\n",
    "print(counts)"
   ]
  },
  {
   "cell_type": "code",
   "execution_count": 74,
   "metadata": {},
   "outputs": [],
   "source": [
    "# Save the data\n",
    "df.to_csv(\"all_stars.csv\", index=False)"
   ]
  },
  {
   "cell_type": "code",
   "execution_count": 75,
   "metadata": {},
   "outputs": [
    {
     "ename": "KeyError",
     "evalue": "'ids'",
     "output_type": "error",
     "traceback": [
      "\u001b[1;31m---------------------------------------------------------------------------\u001b[0m",
      "\u001b[1;31mKeyError\u001b[0m                                  Traceback (most recent call last)",
      "File \u001b[1;32m~\\AppData\\Local\\Packages\\PythonSoftwareFoundation.Python.3.11_qbz5n2kfra8p0\\LocalCache\\local-packages\\Python311\\site-packages\\pandas\\core\\indexes\\base.py:3805\u001b[0m, in \u001b[0;36mIndex.get_loc\u001b[1;34m(self, key)\u001b[0m\n\u001b[0;32m   3804\u001b[0m \u001b[38;5;28;01mtry\u001b[39;00m:\n\u001b[1;32m-> 3805\u001b[0m     \u001b[38;5;28;01mreturn\u001b[39;00m \u001b[38;5;28;43mself\u001b[39;49m\u001b[38;5;241;43m.\u001b[39;49m\u001b[43m_engine\u001b[49m\u001b[38;5;241;43m.\u001b[39;49m\u001b[43mget_loc\u001b[49m\u001b[43m(\u001b[49m\u001b[43mcasted_key\u001b[49m\u001b[43m)\u001b[49m\n\u001b[0;32m   3806\u001b[0m \u001b[38;5;28;01mexcept\u001b[39;00m \u001b[38;5;167;01mKeyError\u001b[39;00m \u001b[38;5;28;01mas\u001b[39;00m err:\n",
      "File \u001b[1;32mindex.pyx:167\u001b[0m, in \u001b[0;36mpandas._libs.index.IndexEngine.get_loc\u001b[1;34m()\u001b[0m\n",
      "File \u001b[1;32mindex.pyx:196\u001b[0m, in \u001b[0;36mpandas._libs.index.IndexEngine.get_loc\u001b[1;34m()\u001b[0m\n",
      "File \u001b[1;32mpandas\\\\_libs\\\\hashtable_class_helper.pxi:7081\u001b[0m, in \u001b[0;36mpandas._libs.hashtable.PyObjectHashTable.get_item\u001b[1;34m()\u001b[0m\n",
      "File \u001b[1;32mpandas\\\\_libs\\\\hashtable_class_helper.pxi:7089\u001b[0m, in \u001b[0;36mpandas._libs.hashtable.PyObjectHashTable.get_item\u001b[1;34m()\u001b[0m\n",
      "\u001b[1;31mKeyError\u001b[0m: 'ids'",
      "\nThe above exception was the direct cause of the following exception:\n",
      "\u001b[1;31mKeyError\u001b[0m                                  Traceback (most recent call last)",
      "Cell \u001b[1;32mIn[75], line 5\u001b[0m\n\u001b[0;32m      2\u001b[0m simbad_data \u001b[38;5;241m=\u001b[39m pd\u001b[38;5;241m.\u001b[39mread_csv(\u001b[38;5;124m\"\u001b[39m\u001b[38;5;124mall_stars.csv\u001b[39m\u001b[38;5;124m\"\u001b[39m)\n\u001b[0;32m      4\u001b[0m \u001b[38;5;66;03m# Filter SIMBAD data to only include rows where 'ids' contains 'Gaia DR3'\u001b[39;00m\n\u001b[1;32m----> 5\u001b[0m simbad_data[\u001b[38;5;124m'\u001b[39m\u001b[38;5;124mgaia_id\u001b[39m\u001b[38;5;124m'\u001b[39m] \u001b[38;5;241m=\u001b[39m \u001b[43msimbad_data\u001b[49m\u001b[43m[\u001b[49m\u001b[38;5;124;43m'\u001b[39;49m\u001b[38;5;124;43mids\u001b[39;49m\u001b[38;5;124;43m'\u001b[39;49m\u001b[43m]\u001b[49m\u001b[38;5;241m.\u001b[39mapply(\u001b[38;5;28;01mlambda\u001b[39;00m x: \u001b[38;5;28mnext\u001b[39m((\u001b[38;5;28mid\u001b[39m \u001b[38;5;28;01mfor\u001b[39;00m \u001b[38;5;28mid\u001b[39m \u001b[38;5;129;01min\u001b[39;00m x\u001b[38;5;241m.\u001b[39msplit(\u001b[38;5;124m'\u001b[39m\u001b[38;5;124m|\u001b[39m\u001b[38;5;124m'\u001b[39m) \u001b[38;5;28;01mif\u001b[39;00m \u001b[38;5;28mid\u001b[39m\u001b[38;5;241m.\u001b[39mstartswith(\u001b[38;5;124m'\u001b[39m\u001b[38;5;124mGaia DR3\u001b[39m\u001b[38;5;124m'\u001b[39m)), \u001b[38;5;28;01mNone\u001b[39;00m))\n\u001b[0;32m      7\u001b[0m \u001b[38;5;66;03m# Remove 'Gaia DR3' prefix and drop rows with NaN values in 'gaia_id'\u001b[39;00m\n\u001b[0;32m      8\u001b[0m simbad_data[\u001b[38;5;124m'\u001b[39m\u001b[38;5;124mgaia_id\u001b[39m\u001b[38;5;124m'\u001b[39m] \u001b[38;5;241m=\u001b[39m simbad_data[\u001b[38;5;124m'\u001b[39m\u001b[38;5;124mgaia_id\u001b[39m\u001b[38;5;124m'\u001b[39m]\u001b[38;5;241m.\u001b[39mstr\u001b[38;5;241m.\u001b[39mlstrip(\u001b[38;5;124m'\u001b[39m\u001b[38;5;124mGaia DR3\u001b[39m\u001b[38;5;124m'\u001b[39m)\n",
      "File \u001b[1;32m~\\AppData\\Local\\Packages\\PythonSoftwareFoundation.Python.3.11_qbz5n2kfra8p0\\LocalCache\\local-packages\\Python311\\site-packages\\pandas\\core\\frame.py:4102\u001b[0m, in \u001b[0;36mDataFrame.__getitem__\u001b[1;34m(self, key)\u001b[0m\n\u001b[0;32m   4100\u001b[0m \u001b[38;5;28;01mif\u001b[39;00m \u001b[38;5;28mself\u001b[39m\u001b[38;5;241m.\u001b[39mcolumns\u001b[38;5;241m.\u001b[39mnlevels \u001b[38;5;241m>\u001b[39m \u001b[38;5;241m1\u001b[39m:\n\u001b[0;32m   4101\u001b[0m     \u001b[38;5;28;01mreturn\u001b[39;00m \u001b[38;5;28mself\u001b[39m\u001b[38;5;241m.\u001b[39m_getitem_multilevel(key)\n\u001b[1;32m-> 4102\u001b[0m indexer \u001b[38;5;241m=\u001b[39m \u001b[38;5;28;43mself\u001b[39;49m\u001b[38;5;241;43m.\u001b[39;49m\u001b[43mcolumns\u001b[49m\u001b[38;5;241;43m.\u001b[39;49m\u001b[43mget_loc\u001b[49m\u001b[43m(\u001b[49m\u001b[43mkey\u001b[49m\u001b[43m)\u001b[49m\n\u001b[0;32m   4103\u001b[0m \u001b[38;5;28;01mif\u001b[39;00m is_integer(indexer):\n\u001b[0;32m   4104\u001b[0m     indexer \u001b[38;5;241m=\u001b[39m [indexer]\n",
      "File \u001b[1;32m~\\AppData\\Local\\Packages\\PythonSoftwareFoundation.Python.3.11_qbz5n2kfra8p0\\LocalCache\\local-packages\\Python311\\site-packages\\pandas\\core\\indexes\\base.py:3812\u001b[0m, in \u001b[0;36mIndex.get_loc\u001b[1;34m(self, key)\u001b[0m\n\u001b[0;32m   3807\u001b[0m     \u001b[38;5;28;01mif\u001b[39;00m \u001b[38;5;28misinstance\u001b[39m(casted_key, \u001b[38;5;28mslice\u001b[39m) \u001b[38;5;129;01mor\u001b[39;00m (\n\u001b[0;32m   3808\u001b[0m         \u001b[38;5;28misinstance\u001b[39m(casted_key, abc\u001b[38;5;241m.\u001b[39mIterable)\n\u001b[0;32m   3809\u001b[0m         \u001b[38;5;129;01mand\u001b[39;00m \u001b[38;5;28many\u001b[39m(\u001b[38;5;28misinstance\u001b[39m(x, \u001b[38;5;28mslice\u001b[39m) \u001b[38;5;28;01mfor\u001b[39;00m x \u001b[38;5;129;01min\u001b[39;00m casted_key)\n\u001b[0;32m   3810\u001b[0m     ):\n\u001b[0;32m   3811\u001b[0m         \u001b[38;5;28;01mraise\u001b[39;00m InvalidIndexError(key)\n\u001b[1;32m-> 3812\u001b[0m     \u001b[38;5;28;01mraise\u001b[39;00m \u001b[38;5;167;01mKeyError\u001b[39;00m(key) \u001b[38;5;28;01mfrom\u001b[39;00m \u001b[38;5;21;01merr\u001b[39;00m\n\u001b[0;32m   3813\u001b[0m \u001b[38;5;28;01mexcept\u001b[39;00m \u001b[38;5;167;01mTypeError\u001b[39;00m:\n\u001b[0;32m   3814\u001b[0m     \u001b[38;5;66;03m# If we have a listlike key, _check_indexing_error will raise\u001b[39;00m\n\u001b[0;32m   3815\u001b[0m     \u001b[38;5;66;03m#  InvalidIndexError. Otherwise we fall through and re-raise\u001b[39;00m\n\u001b[0;32m   3816\u001b[0m     \u001b[38;5;66;03m#  the TypeError.\u001b[39;00m\n\u001b[0;32m   3817\u001b[0m     \u001b[38;5;28mself\u001b[39m\u001b[38;5;241m.\u001b[39m_check_indexing_error(key)\n",
      "\u001b[1;31mKeyError\u001b[0m: 'ids'"
     ]
    }
   ],
   "source": [
    "# Load the DataFrame\n",
    "simbad_data = pd.read_csv(\"all_stars.csv\")\n",
    "\n",
    "# Filter SIMBAD data to only include rows where 'ids' contains 'Gaia DR3'\n",
    "simbad_data['gaia_id'] = simbad_data['ids'].apply(lambda x: next((id for id in x.split('|') if id.startswith('Gaia DR3')), None))\n",
    "\n",
    "# Remove 'Gaia DR3' prefix and drop rows with NaN values in 'gaia_id'\n",
    "simbad_data['gaia_id'] = simbad_data['gaia_id'].str.lstrip('Gaia DR3')\n",
    "simbad_data = simbad_data.dropna(subset=['gaia_id'])\n",
    "\n",
    "# Ensure 'gaia_id' is a string\n",
    "simbad_data['gaia_id'] = simbad_data['gaia_id'].astype(str)\n",
    "\n",
    "# Split the Gaia DR3 source IDs into chunks of 30,000 IDs each\n",
    "GaiaDR3SourceIDs = ', '.join(simbad_data['gaia_id'].astype(str))\n",
    "chunks = split_ids_into_chunks(GaiaDR3SourceIDs)\n",
    "\n",
    "# Initialize an empty DataFrame to store all data\n",
    "combined_df = pd.DataFrame()\n",
    "\n",
    "# Process each chunk and append the results to the combined DataFrame\n",
    "for chunk in chunks:\n",
    "    dfGaia = GetGAIAData(chunk)\n",
    "    combined_df = pd.concat([combined_df, dfGaia], ignore_index=True)\n",
    "\n",
    "# Convert the combined DataFrame to a NumPy array if needed\n",
    "combined_matrix = combined_df.to_numpy()\n",
    "\n",
    "# GAIA data\n",
    "gaia_data = combined_df[[\"source_id\", \"ra\", \"ra_error\", \"dec\", \"dec_error\", \"phot_g_mean_flux\", \"phot_g_mean_flux_error\", \"pmra\", \"pmra_error\", \"pmdec\", \"pmdec_error\", \"parallax\", \"parallax_error\", \"phot_bp_mean_flux\", \"phot_bp_mean_flux_error\", \"phot_rp_mean_flux\", \"phot_rp_mean_flux_error\"]]\n",
    "\n",
    "# Convert Gaia source_id to string\n",
    "gaia_data['source_id'] = gaia_data['source_id'].astype(str)\n",
    "\n",
    "# Merge Gaia and SIMBAD data on matching IDs\n",
    "star_data = pd.merge(gaia_data, simbad_data, left_on='source_id', right_on='gaia_id', how='inner')\n",
    "star_data.to_pickle(\"star_data.pkl\")"
   ]
  },
  {
   "cell_type": "code",
   "execution_count": 4,
   "metadata": {},
   "outputs": [
    {
     "name": "stdout",
     "output_type": "stream",
     "text": [
      "otype\n",
      "*    3845419\n",
      "Name: count, dtype: int64\n"
     ]
    }
   ],
   "source": [
    "# open star_data.pkl\n",
    "star_data = pd.read_pickle(\"star_data.pkl\")\n",
    "\n",
    "# print otypes\n",
    "print(star_data[\"otype\"].value_counts())"
   ]
  }
 ],
 "metadata": {
  "kernelspec": {
   "display_name": "Python 3",
   "language": "python",
   "name": "python3"
  },
  "language_info": {
   "codemirror_mode": {
    "name": "ipython",
    "version": 3
   },
   "file_extension": ".py",
   "mimetype": "text/x-python",
   "name": "python",
   "nbconvert_exporter": "python",
   "pygments_lexer": "ipython3",
   "version": "3.11.9"
  }
 },
 "nbformat": 4,
 "nbformat_minor": 2
}
