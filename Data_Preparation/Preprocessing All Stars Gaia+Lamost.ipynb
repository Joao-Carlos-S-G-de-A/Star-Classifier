{
 "cells": [
  {
   "cell_type": "code",
   "execution_count": 2,
   "metadata": {},
   "outputs": [
    {
     "name": "stdout",
     "output_type": "stream",
     "text": [
      "\"Important:  Gaia archive will be intermittently unavailable due to scheduled maintenance on 10-12-2024 from 08:00 to 10:00 (CET)\"\n"
     ]
    }
   ],
   "source": [
    "import os\n",
    "import time\n",
    "import pickle\n",
    "import requests\n",
    "import pyvo as vo\n",
    "import numpy as np\n",
    "import pandas as pd\n",
    "from tqdm import tqdm\n",
    "import concurrent.futures\n",
    "import matplotlib.pyplot as plt\n",
    "from urllib3.util.retry import Retry\n",
    "from scipy.interpolate import interp1d\n",
    "from requests.adapters import HTTPAdapter\n",
    "import astropy.units as u\n",
    "from astropy.io import fits\n",
    "from astroquery.gaia import Gaia\n",
    "from astroquery.simbad import Simbad\n",
    "from astropy.coordinates import SkyCoord"
   ]
  },
  {
   "cell_type": "markdown",
   "metadata": {},
   "source": [
    "# Getting Simbad Labels\n",
    "### Separated in 4 queries to avoid tap limit of 2 Million Objects"
   ]
  },
  {
   "cell_type": "code",
   "execution_count": null,
   "metadata": {},
   "outputs": [],
   "source": [
    "query1 = simbad.query_tap(\"\"\"SELECT oid, otype\n",
    "FROM basic\n",
    "WHERE (otype = 'MS*' OR otype = 'Be*' OR otype = 'BS*' OR otype = 'SX*' OR otype = 'gD*' OR otype = 'dS*' OR otype = 'Ma*' OR otype = 'bC*' OR otype = 'sg*' \\\n",
    "OR otype = 's*r' OR otype = 's*y' OR otype = 's*b' OR otype = 'WR*' OR otype = 'N*' OR otype = 'Psr' OR otype = 'Y*O' OR otype = 'Or*' OR otype = 'TT*' OR  \\\n",
    "otype = 'Ae*' OR otype = 'out' OR otype = 'HH' OR otype = 'Ev*' OR otype = 'RG*' OR otype = 'HS*' OR otype = 'HB*' OR otype = 'RR*' OR otype = 'WV*' OR otype = 'Ce*' \\\n",
    "OR otype = 'cC*' OR otype = 'C*' OR otype = 'S*' OR otype = 'LP*' OR otype = 'AB*' OR otype = 'Mi*' OR otype = 'OH*' OR otype = 'pA*' OR otype = 'RV*' OR otype = 'PN' \\\n",
    "OR otype = 'WD*' OR otype = 'Pe*' OR otype = 'a2*' OR otype = 'RC*' OR otype = 'EB*' OR otype = 'El*' OR otype = 'SB*' OR otype = 'RS*' OR otype = 'BY*' OR otype = 'Sy*' \\\n",
    "OR otype = 'XB*' OR otype = 'LXB' OR otype = 'HXB' OR otype = 'CV*' OR otype = 'No*' OR otype = '**' OR otype = 'SN*' OR otype = 'LM*' OR otype = 'BD*' OR otype = 'Ir*' \\\n",
    "OR otype = 'Er*' OR otype = 'Ro*' OR otype = 'Pu*' OR otype = 'Em*' OR otype = 'PM*' OR otype = 'HV*') AND (pmra < 0 ) AND (pmdec < -4)\"\"\", maxrec=2000000) "
   ]
  },
  {
   "cell_type": "code",
   "execution_count": null,
   "metadata": {},
   "outputs": [],
   "source": [
    "query2 = Simbad.query_tap(\"\"\"SELECT oid, otype\n",
    "FROM basic\n",
    "WHERE (otype = 'MS*' OR otype = 'Be*' OR otype = 'BS*' OR otype = 'SX*' OR otype = 'gD*' OR otype = 'dS*' OR otype = 'Ma*' OR otype = 'bC*' OR otype = 'sg*' \\\n",
    "OR otype = 's*r' OR otype = 's*y' OR otype = 's*b' OR otype = 'WR*' OR otype = 'N*' OR otype = 'Psr' OR otype = 'Y*O' OR otype = 'Or*' OR otype = 'TT*' OR  \\\n",
    "otype = 'Ae*' OR otype = 'out' OR otype = 'HH' OR otype = 'Ev*' OR otype = 'RG*' OR otype = 'HS*' OR otype = 'HB*' OR otype = 'RR*' OR otype = 'WV*' OR otype = 'Ce*' \\\n",
    "OR otype = 'cC*' OR otype = 'C*' OR otype = 'S*' OR otype = 'LP*' OR otype = 'AB*' OR otype = 'Mi*' OR otype = 'OH*' OR otype = 'pA*' OR otype = 'RV*' OR otype = 'PN' \\\n",
    "OR otype = 'WD*' OR otype = 'Pe*' OR otype = 'a2*' OR otype = 'RC*' OR otype = 'EB*' OR otype = 'El*' OR otype = 'SB*' OR otype = 'RS*' OR otype = 'BY*' OR otype = 'Sy*' \\\n",
    "OR otype = 'XB*' OR otype = 'LXB' OR otype = 'HXB' OR otype = 'CV*' OR otype = 'No*' OR otype = '**' OR otype = 'SN*' OR otype = 'LM*' OR otype = 'BD*' OR otype = 'Ir*' \\\n",
    "OR otype = 'Er*' OR otype = 'Ro*' OR otype = 'Pu*' OR otype = 'Em*' OR otype = 'PM*' OR otype = 'HV*') AND (pmra < 0 ) AND (pmdec >= -4)\"\"\", maxrec=2000000) "
   ]
  },
  {
   "cell_type": "code",
   "execution_count": null,
   "metadata": {},
   "outputs": [],
   "source": [
    "query3 = Simbad.query_tap(\"\"\"SELECT oid, otype\n",
    "FROM basic\n",
    "WHERE (otype = 'MS*' OR otype = 'Be*' OR otype = 'BS*' OR otype = 'SX*' OR otype = 'gD*' OR otype = 'dS*' OR otype = 'Ma*' OR otype = 'bC*' OR otype = 'sg*' \\\n",
    "OR otype = 's*r' OR otype = 's*y' OR otype = 's*b' OR otype = 'WR*' OR otype = 'N*' OR otype = 'Psr' OR otype = 'Y*O' OR otype = 'Or*' OR otype = 'TT*' OR  \\\n",
    "otype = 'Ae*' OR otype = 'out' OR otype = 'HH' OR otype = 'Ev*' OR otype = 'RG*' OR otype = 'HS*' OR otype = 'HB*' OR otype = 'RR*' OR otype = 'WV*' OR otype = 'Ce*' \\\n",
    "OR otype = 'cC*' OR otype = 'C*' OR otype = 'S*' OR otype = 'LP*' OR otype = 'AB*' OR otype = 'Mi*' OR otype = 'OH*' OR otype = 'pA*' OR otype = 'RV*' OR otype = 'PN' \\\n",
    "OR otype = 'WD*' OR otype = 'Pe*' OR otype = 'a2*' OR otype = 'RC*' OR otype = 'EB*' OR otype = 'El*' OR otype = 'SB*' OR otype = 'RS*' OR otype = 'BY*' OR otype = 'Sy*' \\\n",
    "OR otype = 'XB*' OR otype = 'LXB' OR otype = 'HXB' OR otype = 'CV*' OR otype = 'No*' OR otype = '**' OR otype = 'SN*' OR otype = 'LM*' OR otype = 'BD*' OR otype = 'Ir*' \\\n",
    "OR otype = 'Er*' OR otype = 'Ro*' OR otype = 'Pu*' OR otype = 'Em*' OR otype = 'PM*' OR otype = 'HV*') AND (pmra >= 0) AND (pmdec < -3)\"\"\", maxrec=2000000) "
   ]
  },
  {
   "cell_type": "code",
   "execution_count": null,
   "metadata": {},
   "outputs": [],
   "source": [
    "query4 = Simbad.query_tap(\"\"\"SELECT oid, otype\n",
    "FROM basic\n",
    "WHERE (otype = 'MS*' OR otype = 'Be*' OR otype = 'BS*' OR otype = 'SX*' OR otype = 'gD*' OR otype = 'dS*' OR otype = 'Ma*' OR otype = 'bC*' OR otype = 'sg*' \\\n",
    "OR otype = 's*r' OR otype = 's*y' OR otype = 's*b' OR otype = 'WR*' OR otype = 'N*' OR otype = 'Psr' OR otype = 'Y*O' OR otype = 'Or*' OR otype = 'TT*' OR  \\\n",
    "otype = 'Ae*' OR otype = 'out' OR otype = 'HH' OR otype = 'Ev*' OR otype = 'RG*' OR otype = 'HS*' OR otype = 'HB*' OR otype = 'RR*' OR otype = 'WV*' OR otype = 'Ce*' \\\n",
    "OR otype = 'cC*' OR otype = 'C*' OR otype = 'S*' OR otype = 'LP*' OR otype = 'AB*' OR otype = 'Mi*' OR otype = 'OH*' OR otype = 'pA*' OR otype = 'RV*' OR otype = 'PN' \\\n",
    "OR otype = 'WD*' OR otype = 'Pe*' OR otype = 'a2*' OR otype = 'RC*' OR otype = 'EB*' OR otype = 'El*' OR otype = 'SB*' OR otype = 'RS*' OR otype = 'BY*' OR otype = 'Sy*' \\\n",
    "OR otype = 'XB*' OR otype = 'LXB' OR otype = 'HXB' OR otype = 'CV*' OR otype = 'No*' OR otype = '**' OR otype = 'SN*' OR otype = 'LM*' OR otype = 'BD*' OR otype = 'Ir*' \\\n",
    "OR otype = 'Er*' OR otype = 'Ro*' OR otype = 'Pu*' OR otype = 'Em*' OR otype = 'PM*' OR otype = 'HV*') AND (pmra >= 0) AND (pmdec >= -3)\"\"\", maxrec=2000000) "
   ]
  },
  {
   "cell_type": "markdown",
   "metadata": {},
   "source": [
    "### Checking it worked and combining datasets"
   ]
  },
  {
   "cell_type": "code",
   "execution_count": null,
   "metadata": {},
   "outputs": [],
   "source": [
    "# Print length of each query\n",
    "print(len(query1))\n",
    "print(len(query2))\n",
    "print(len(query3))\n",
    "print(len(query4))\n",
    "\n",
    "# Print total length of all queries\n",
    "print('Number of stars in all queries: ', len(query1) + len(query2) + len(query3) + len(query4))\n",
    "\n",
    "# Make into a dataframe and concatenate\n",
    "df1 = query1.to_pandas()\n",
    "df2 = query2.to_pandas()\n",
    "df3 = query3.to_pandas()\n",
    "df4 = query4.to_pandas()\n",
    "\n",
    "df = pd.concat([df1, df2, df3, df4])"
   ]
  },
  {
   "cell_type": "markdown",
   "metadata": {},
   "source": [
    "# Getting all IDs of the object (Including Gaia)"
   ]
  },
  {
   "cell_type": "code",
   "execution_count": null,
   "metadata": {},
   "outputs": [],
   "source": [
    "ids1 = simbad.query_tap(\"\"\"SELECT oidref, ids\n",
    "FROM ids\n",
    "WHERE oidref < 2000000\"\"\", maxrec=2000000) \n",
    "ids1 = ids1.to_pandas()\n",
    "ids2 = simbad.query_tap(\"\"\"SELECT oidref, ids\n",
    "FROM ids\n",
    "WHERE oidref >= 2000000 AND oidref < 4000000\"\"\", maxrec=2000000)\n",
    "ids2 = ids2.to_pandas()\n",
    "ids3 = simbad.query_tap(\"\"\"SELECT oidref, ids\n",
    "FROM ids\n",
    "WHERE oidref >= 4000000 AND oidref < 6000000\"\"\", maxrec=2000000)\n",
    "ids3 = ids3.to_pandas()\n",
    "ids4 = simbad.query_tap(\"\"\"SELECT oidref, ids\n",
    "FROM ids\n",
    "WHERE oidref >= 6000000 AND oidref < 8000000\"\"\", maxrec=2000000)\n",
    "ids4 = ids4.to_pandas()\n",
    "ids5 = simbad.query_tap(\"\"\"SELECT oidref, ids\n",
    "FROM ids\n",
    "WHERE oidref >= 8000000 AND oidref < 10000000\"\"\", maxrec=2000000)\n",
    "ids5 = ids5.to_pandas()\n",
    "ids6 = simbad.query_tap(\"\"\"SELECT oidref, ids\n",
    "FROM ids\n",
    "WHERE oidref >= 10000000 AND oidref < 12000000\"\"\", maxrec=2000000)\n",
    "ids6 = ids6.to_pandas()\n",
    "ids7 = simbad.query_tap(\"\"\"SELECT oidref, ids\n",
    "FROM ids\n",
    "WHERE oidref >= 12000000 AND oidref < 14000000\"\"\", maxrec=2000000)\n",
    "ids7 = ids7.to_pandas()\n",
    "ids8 = simbad.query_tap(\"\"\"SELECT oidref, ids\n",
    "FROM ids\n",
    "WHERE oidref >= 14000000 AND oidref < 16000000\"\"\", maxrec=2000000)\n",
    "ids8 = ids8.to_pandas()\n",
    "ids9 = simbad.query_tap(\"\"\"SELECT oidref, ids\n",
    "FROM ids\n",
    "WHERE oidref >= 16000000 AND oidref < 18000000\"\"\", maxrec=2000000)\n",
    "ids9 = ids9.to_pandas()\n",
    "ids10 = simbad.query_tap(\"\"\"SELECT oidref, ids\n",
    "FROM ids\n",
    "WHERE oidref >= 18000000 AND oidref < 20000000\"\"\", maxrec=2000000)\n",
    "ids10 = ids10.to_pandas()\n",
    "# Save the dataframes to a concatenated csv file and delete the dataframes\n",
    "ids1.to_csv('ids.csv', index=False)\n",
    "ids2.to_csv('ids.csv', mode='a', header=False, index=False)\n",
    "ids3.to_csv('ids.csv', mode='a', header=False, index=False)\n",
    "ids4.to_csv('ids.csv', mode='a', header=False, index=False)\n",
    "ids5.to_csv('ids.csv', mode='a', header=False, index=False)\n",
    "ids6.to_csv('ids.csv', mode='a', header=False, index=False)\n",
    "ids7.to_csv('ids.csv', mode='a', header=False, index=False)\n",
    "ids8.to_csv('ids.csv', mode='a', header=False, index=False)\n",
    "ids9.to_csv('ids.csv', mode='a', header=False, index=False)\n",
    "ids10.to_csv('ids.csv', mode='a', header=False, index=False)\n",
    "\n",
    "del ids1, ids2, ids3, ids4, ids5, ids6, ids7, ids8, ids9, ids10\n",
    "gc.collect()\n"
   ]
  },
  {
   "cell_type": "code",
   "execution_count": null,
   "metadata": {},
   "outputs": [],
   "source": [
    "ids11 = simbad.query_tap(\"\"\"SELECT oidref, ids\n",
    "FROM ids\n",
    "WHERE oidref >= 20000000 AND oidref < 22000000\"\"\", maxrec=2000000)\n",
    "ids11 = ids11.to_pandas()\n",
    "ids12 = simbad.query_tap(\"\"\"SELECT oidref, ids\n",
    "FROM ids\n",
    "WHERE oidref >= 22000000 AND oidref < 24000000\"\"\", maxrec=2000000)\n",
    "ids12 = ids12.to_pandas()\n",
    "ids13 = simbad.query_tap(\"\"\"SELECT oidref, ids\n",
    "FROM ids\n",
    "WHERE oidref >= 24000000 AND oidref < 26000000\"\"\", maxrec=2000000)\n",
    "ids13 = ids13.to_pandas()\n",
    "ids14 = simbad.query_tap(\"\"\"SELECT oidref, ids\n",
    "FROM ids\n",
    "WHERE oidref >= 26000000 AND oidref < 28000000\"\"\", maxrec=2000000)\n",
    "ids14 = ids14.to_pandas()\n",
    "ids15 = simbad.query_tap(\"\"\"SELECT oidref, ids\n",
    "FROM ids\n",
    "WHERE oidref >= 28000000 AND oidref < 30000000\"\"\", maxrec=2000000)\n",
    "ids15 = ids15.to_pandas()\n",
    "ids16 = simbad.query_tap(\"\"\"SELECT oidref, ids\n",
    "FROM ids\n",
    "WHERE oidref >= 30000000 AND oidref < 32000000\"\"\", maxrec=2000000)\n",
    "ids16 = ids16.to_pandas()\n",
    "ids17 = simbad.query_tap(\"\"\"SELECT oidref, ids\n",
    "FROM ids\n",
    "WHERE oidref >= 32000000 AND oidref < 34000000\"\"\", maxrec=2000000)\n",
    "ids17 = ids17.to_pandas()\n",
    "ids18 = simbad.query_tap(\"\"\"SELECT oidref, ids\n",
    "FROM ids\n",
    "WHERE oidref >= 34000000 AND oidref < 36000000\"\"\", maxrec=2000000)\n",
    "ids18 = ids18.to_pandas()\n",
    "ids19 = simbad.query_tap(\"\"\"SELECT oidref, ids\n",
    "FROM ids\n",
    "WHERE oidref >= 36000000 AND oidref < 38000000\"\"\", maxrec=2000000)\n",
    "ids19 = ids19.to_pandas()\n",
    "ids20 = simbad.query_tap(\"\"\"SELECT oidref, ids\n",
    "FROM ids\n",
    "WHERE oidref >= 38000000 AND oidref < 40000000\"\"\", maxrec=2000000)\n",
    "ids20 = ids20.to_pandas()\n",
    "# Save the dataframes to a concatenated csv file and delete the dataframes\n",
    "ids11.to_csv('ids.csv', mode='a', header=False, index=False)\n",
    "ids12.to_csv('ids.csv', mode='a', header=False, index=False)\n",
    "ids13.to_csv('ids.csv', mode='a', header=False, index=False)\n",
    "ids14.to_csv('ids.csv', mode='a', header=False, index=False)\n",
    "ids15.to_csv('ids.csv', mode='a', header=False, index=False)\n",
    "ids16.to_csv('ids.csv', mode='a', header=False, index=False)\n",
    "ids17.to_csv('ids.csv', mode='a', header=False, index=False)\n",
    "ids18.to_csv('ids.csv', mode='a', header=False, index=False)\n",
    "ids19.to_csv('ids.csv', mode='a', header=False, index=False)\n",
    "ids20.to_csv('ids.csv', mode='a', header=False, index=False)\n",
    "\n",
    "del ids11, ids12, ids13, ids14, ids15, ids16, ids17, ids18, ids19, ids20\n",
    "gc.collect()"
   ]
  },
  {
   "cell_type": "markdown",
   "metadata": {},
   "source": [
    "### Sanity Check"
   ]
  },
  {
   "cell_type": "code",
   "execution_count": null,
   "metadata": {},
   "outputs": [],
   "source": [
    "# Open the csv file and read it into a dataframe\n",
    "ids = pd.read_csv('ids.csv')\n",
    "print(ids.shape)"
   ]
  },
  {
   "cell_type": "markdown",
   "metadata": {},
   "source": [
    "## Match ids to each star"
   ]
  },
  {
   "cell_type": "code",
   "execution_count": null,
   "metadata": {},
   "outputs": [],
   "source": [
    "# Inner join the dataframes on the oidref column\n",
    "dfmerge = df.merge(ids, left_on='oid', right_on='oidref', how='inner')\n",
    "print(dfmerge.shape)\n",
    "print(df.shape)\n",
    "\n",
    "# Note they should match\n",
    "\n",
    "# Print the number of stars in each category\n",
    "print('Number of stars in each category: ')\n",
    "counts = dfmerge['otype'].value_counts()\n",
    "print(counts)\n",
    "\n",
    "# Save the data\n",
    "dfmerge.to_csv(\"all_stars.csv\", index=False)"
   ]
  },
  {
   "cell_type": "markdown",
   "metadata": {},
   "source": [
    "# Get the gaia photometry and astrometry"
   ]
  },
  {
   "cell_type": "code",
   "execution_count": null,
   "metadata": {},
   "outputs": [],
   "source": [
    "def GetGAIAData(GaiaDR3SourceIDs):\n",
    "    try:\n",
    "        qry = f\"SELECT * FROM gaiadr3.gaia_source gs WHERE gs.source_id in ({GaiaDR3SourceIDs});\"\n",
    "        job = Gaia.launch_job_async(qry)\n",
    "        tblGaia = job.get_results()\n",
    "        dfGaia = tblGaia.to_pandas()\n",
    "        return dfGaia\n",
    "    except Exception as e:\n",
    "        print(f\"An error occurred: {e}\")\n",
    "        return pd.DataFrame()  # Return an empty DataFrame in case of error\n",
    "\n",
    "def split_ids_into_chunks(id_string, chunk_size=50000):\n",
    "    id_list = id_string.split(', ')\n",
    "    chunks = [', '.join(id_list[i:i + chunk_size]) for i in range(0, len(id_list), chunk_size)]\n",
    "    return chunks"
   ]
  },
  {
   "cell_type": "code",
   "execution_count": null,
   "metadata": {},
   "outputs": [],
   "source": [
    "# Load the DataFrame\n",
    "simbad_data = pd.read_csv(\"all_stars.csv\")\n",
    "\n",
    "# Filter SIMBAD data to only include rows where 'ids' contains 'Gaia DR3'\n",
    "simbad_data['gaia_id'] = simbad_data['ids'].apply(lambda x: next((id for id in x.split('|') if id.startswith('Gaia DR3')), None))\n",
    "\n",
    "# Remove 'Gaia DR3' prefix and drop rows with NaN values in 'gaia_id'\n",
    "simbad_data['gaia_id'] = simbad_data['gaia_id'].str.lstrip('Gaia DR3')\n",
    "simbad_data = simbad_data.dropna(subset=['gaia_id'])\n",
    "\n",
    "# Ensure 'gaia_id' is a string\n",
    "simbad_data['gaia_id'] = simbad_data['gaia_id'].astype(str)\n",
    "\n",
    "# Split the Gaia DR3 source IDs into chunks of 30,000 IDs each\n",
    "GaiaDR3SourceIDs = ', '.join(simbad_data['gaia_id'].astype(str))\n",
    "chunks = split_ids_into_chunks(GaiaDR3SourceIDs)\n",
    "\n",
    "# Initialize an empty DataFrame to store all data\n",
    "combined_df = pd.DataFrame()\n",
    "\n",
    "# Process each chunk and append the results to the combined DataFrame\n",
    "for chunk in chunks:\n",
    "    dfGaia = GetGAIAData(chunk)\n",
    "    combined_df = pd.concat([combined_df, dfGaia], ignore_index=True)\n",
    "\n",
    "# Convert the combined DataFrame to a NumPy array if needed\n",
    "combined_matrix = combined_df.to_numpy()\n",
    "\n",
    "# GAIA data\n",
    "gaia_data = combined_df[[\"source_id\", \"ra\", \"ra_error\", \"dec\", \"dec_error\", \"phot_g_mean_flux\", \"phot_g_mean_flux_error\", \"pmra\", \"pmra_error\", \"pmdec\", \"pmdec_error\", \"parallax\", \"parallax_error\", \"phot_bp_mean_flux\", \"phot_bp_mean_flux_error\", \"phot_rp_mean_flux\", \"phot_rp_mean_flux_error\"]]\n",
    "\n",
    "# Convert Gaia source_id to string\n",
    "gaia_data['source_id'] = gaia_data['source_id'].astype(str)\n",
    "\n",
    "# Merge Gaia and SIMBAD data on matching IDs\n",
    "star_data = pd.merge(gaia_data, simbad_data, left_on='source_id', right_on='gaia_id', how='inner')\n",
    "star_data.to_pickle(\"star_data.pkl\")"
   ]
  },
  {
   "cell_type": "code",
   "execution_count": null,
   "metadata": {},
   "outputs": [],
   "source": [
    "# open star_data.pkl\n",
    "star_data = pd.read_pickle(\"star_data.pkl\")\n",
    "\n",
    "# print otypes\n",
    "print(star_data[\"otype\"].value_counts())"
   ]
  },
  {
   "cell_type": "markdown",
   "metadata": {},
   "source": [
    "# Download the Lamost spectras (Scraping)"
   ]
  },
  {
   "cell_type": "code",
   "execution_count": 2,
   "metadata": {},
   "outputs": [],
   "source": [
    "# Function to download a file with retries\n",
    "def download_file(url):\n",
    "    file_name = os.path.join(save_folder, url.split('/')[-1])\n",
    "    \n",
    "    # If the file already exists, return success\n",
    "    if os.path.exists(file_name):\n",
    "        return True, file_name\n",
    "    \n",
    "    # Retry mechanism\n",
    "    retries = Retry(total=5, backoff_factor=1, status_forcelist=[429, 500, 502, 503, 504])\n",
    "    session = requests.Session()\n",
    "    session.mount('https://', HTTPAdapter(max_retries=retries))\n",
    "\n",
    "    try:\n",
    "        response = session.get(url)\n",
    "        response.raise_for_status()  # Check for HTTP errors\n",
    "        \n",
    "        # Save the file content\n",
    "        with open(file_name, 'wb') as f:\n",
    "            f.write(response.content)\n",
    "        \n",
    "        return True, file_name  # Success\n",
    "    except requests.HTTPError as e:\n",
    "        return False, f\"Failed to download {url}: {e}\"  # Failure\n",
    "    except Exception as e:\n",
    "        return False, f\"Other error occurred: {e}\"\n",
    "\n",
    "# Main function to download all files\n",
    "def download_all_files(urls):\n",
    "    success_count = 0\n",
    "    failure_count = 0\n",
    "\n",
    "    # Reduce the number of threads to avoid overwhelming the network\n",
    "    with concurrent.futures.ThreadPoolExecutor(max_workers=300) as executor:\n",
    "        # Create a progress bar with the total number of URLs\n",
    "        with tqdm(total=len(urls), desc=\"Downloading\", unit=\"file\") as pbar:\n",
    "            futures = {executor.submit(download_file, url): url for url in urls}\n",
    "            \n",
    "            for future in concurrent.futures.as_completed(futures):\n",
    "                success, result = future.result()\n",
    "                pbar.update(1)  # Update the progress bar for each completed download\n",
    "                \n",
    "                if success:\n",
    "                    success_count += 1\n",
    "                else:\n",
    "                    failure_count += 1\n",
    "                    #print(f\"Error: {result}\")\n",
    "\n",
    "    # Print final counts for successful and failed downloads\n",
    "    print(f\"\\nDownload complete! Successfully downloaded: {success_count}, Failed: {failure_count}\")"
   ]
  },
  {
   "cell_type": "code",
   "execution_count": 3,
   "metadata": {},
   "outputs": [
    {
     "name": "stdout",
     "output_type": "stream",
     "text": [
      "Number of matches: 384629\n",
      "out of  3845419\n"
     ]
    }
   ],
   "source": [
    "# Load your STAR data and LAMOST catalog (assuming you have a local CSV or FITS file for LAMOST)\n",
    "star_data = pd.read_pickle(\"star_data.pkl\")  # Loaded STAR data\n",
    "lamost_catalog = pd.read_csv(\"dr9_v2.0_LRS_catalogue.csv\")  # Assuming CSV format for LAMOST catalog\n",
    "\n",
    "# Ensure that RA and Dec columns are numeric and have units\n",
    "star_data['ra'] = pd.to_numeric(star_data['ra'], errors='coerce')  # Coerce non-numeric to NaN\n",
    "star_data['dec'] = pd.to_numeric(star_data['dec'], errors='coerce')\n",
    "lamost_catalog['ra'] = pd.to_numeric(lamost_catalog['ra'], errors='coerce')\n",
    "lamost_catalog['dec'] = pd.to_numeric(lamost_catalog['dec'], errors='coerce')\n",
    "\n",
    "# Drop rows with NaN values in RA or Dec\n",
    "star_data = star_data.dropna(subset=['ra', 'dec'])\n",
    "lamost_catalog = lamost_catalog.dropna(subset=['ra', 'dec'])\n",
    "\n",
    "# Convert STAR and LAMOST data to SkyCoord objects for crossmatching\n",
    "star_coords = SkyCoord(ra=star_data['ra'].values*u.deg, dec=star_data['dec'].values*u.deg)\n",
    "lamost_coords = SkyCoord(ra=lamost_catalog['ra'].values*u.deg, dec=lamost_catalog['dec'].values*u.deg)\n",
    "\n",
    "# Perform the crossmatch using astropy's match_to_catalog_sky function\n",
    "idx, d2d, _ = star_coords.match_to_catalog_sky(lamost_coords)\n",
    "\n",
    "# Define a matching radius\n",
    "match_radius = 1 * u.arcsec\n",
    "matches = d2d < match_radius\n",
    "\n",
    "# Filter the matches\n",
    "matched_star = star_data.iloc[matches]\n",
    "matched_lamost = lamost_catalog.iloc[idx[matches]]\n",
    "\n",
    "# Combine matched data\n",
    "star_lamost_data = pd.concat([matched_star.reset_index(drop=True), matched_lamost.reset_index(drop=True)], axis=1)\n",
    "\n",
    "# Save the crossmatched data\n",
    "star_lamost_data.to_pickle(\"star_lamost_data.pkl\")\n",
    "\n",
    "print(f\"Number of matches: {star_lamost_data.shape[0]}\")\n",
    "print(\"out of \", star_data.shape[0])\n",
    "del star_data, lamost_catalog"
   ]
  },
  {
   "cell_type": "code",
   "execution_count": null,
   "metadata": {},
   "outputs": [
    {
     "name": "stderr",
     "output_type": "stream",
     "text": [
      "Downloading:  53%|█████▎    | 204017/384629 [5:09:18<591:00:55, 11.78s/file] "
     ]
    }
   ],
   "source": [
    "# Load the crossmatched data\n",
    "star_lamost_data = pd.read_pickle(\"star_lamost_data.pkl\")\n",
    "obsid_list = star_lamost_data['obsid'].values\n",
    "\n",
    "# Specify the folder to save the files\n",
    "save_folder = \"star_spectra\"\n",
    "\n",
    "# Create the folder if it doesn't exist\n",
    "if not os.path.exists(save_folder):\n",
    "    os.makedirs(save_folder)\n",
    "\n",
    "# List of URLs to download (assuming obsid_list is available)\n",
    "urls = [f\"https://www.lamost.org/dr7/v2.0/spectrum/fits/{obsid}\" for obsid in obsid_list]\n",
    "\n",
    "# Call the function to start downloading\n",
    "download_all_files(urls)\n",
    "\n",
    "# Free up memory by deleting the large DataFrame\n",
    "del star_lamost_data"
   ]
  },
  {
   "cell_type": "markdown",
   "metadata": {},
   "source": [
    "# Prep Gaia Lamost Data Fusion"
   ]
  },
  {
   "cell_type": "code",
   "execution_count": 4,
   "metadata": {},
   "outputs": [
    {
     "name": "stdout",
     "output_type": "stream",
     "text": [
      "Number of STAR spectra: 136178\n"
     ]
    }
   ],
   "source": [
    "# star directory\n",
    "directory = 'star_spectra/'\n",
    "\n",
    "# Get a list of all files in the directory\n",
    "id_train_star = [f for f in os.listdir(directory) if os.path.isfile(os.path.join(directory, f))]\n",
    "\n",
    "# Print the number of files\n",
    "print('Number of STAR spectra:', len(id_train_star))"
   ]
  },
  {
   "cell_type": "code",
   "execution_count": 5,
   "metadata": {},
   "outputs": [],
   "source": [
    "lamost_catalog = pd.read_csv(\"dr9_v2.0_LRS_catalogue.csv\")  # Assuming CSV format for LAMOST catalog"
   ]
  },
  {
   "cell_type": "code",
   "execution_count": 6,
   "metadata": {},
   "outputs": [
    {
     "name": "stdout",
     "output_type": "stream",
     "text": [
      "                  ra        dec\n",
      "99        332.098588  -1.259508\n",
      "135       332.087160  -2.039786\n",
      "435       331.310760   0.145980\n",
      "452       331.312840   0.914318\n",
      "499       332.425814   0.696325\n",
      "...              ...        ...\n",
      "10686863  277.662760  11.637670\n",
      "10686879  276.872710  11.871802\n",
      "10686896  277.306960  11.241274\n",
      "10686899  277.242780  11.204973\n",
      "10686918  276.793290  11.188747\n",
      "\n",
      "[136178 rows x 2 columns]\n",
      "--- 13.1575288772583 seconds ---\n"
     ]
    }
   ],
   "source": [
    "# Time how long it takes for the crossmatch\n",
    "start_time = time.time()\n",
    "\n",
    "obsid_list = id_train_star\n",
    "obsid_list = [int(obsid) for obsid in obsid_list]\n",
    "\n",
    "# Filter the DataFrame\n",
    "filtered_df = lamost_catalog[lamost_catalog['obsid'].isin(obsid_list)]\n",
    "\n",
    "# Get the 'ra' and 'dec' values\n",
    "ra_dec_values = filtered_df[['ra', 'dec']]\n",
    "print(ra_dec_values)    \n",
    "\n",
    "# Load your GAL data and LAMOST catalog (assuming you have a local CSV or FITS file for LAMOST)\n",
    "star_data = pd.read_pickle(\"star_data.pkl\")  # Loaded STAR data\n",
    "\n",
    "# Ensure that RA and Dec columns are numeric and have units\n",
    "star_data['ra'] = pd.to_numeric(star_data['ra'], errors='coerce')  # Coerce non-numeric to NaN\n",
    "star_data['dec'] = pd.to_numeric(star_data['dec'], errors='coerce')\n",
    "\n",
    "# Drop rows with NaN values in 'ra' and 'dec' columns\n",
    "star_data = star_data.dropna(subset=['ra', 'dec'])\n",
    "ra_dec_values = filtered_df[['obsid','ra', 'dec']]\n",
    "\n",
    "# Convert GAL and LAMOST data to SkyCoord objects for crossmatching\n",
    "star_coords = SkyCoord(ra=star_data['ra'].values*u.deg, dec=star_data['dec'].values*u.deg)\n",
    "lamost_coords = SkyCoord(ra=ra_dec_values['ra'].values*u.deg, dec=ra_dec_values['dec'].values*u.deg)\n",
    "\n",
    "# Crossmatch the GAL and LAMOST data\n",
    "idx, d2d, _ = star_coords.match_to_catalog_sky(lamost_coords)\n",
    "\n",
    "# Define a matching radius\n",
    "match_radius = 1 * u.arcsec\n",
    "matches = d2d < match_radius\n",
    "\n",
    "# Filter the matches\n",
    "matched_star = star_data.iloc[matches]\n",
    "matched_lamost = ra_dec_values.iloc[idx[matches]]\n",
    "\n",
    "# Combine the matched data\n",
    "matched_data = pd.concat([matched_star.reset_index(drop=True), matched_lamost.reset_index(drop=True)], axis=1)\n",
    "\n",
    "######################################################################################################################\n",
    "# Print time taken for crossmatch\n",
    "print(\"--- %s seconds ---\" % (time.time() - start_time))"
   ]
  },
  {
   "cell_type": "code",
   "execution_count": 7,
   "metadata": {},
   "outputs": [
    {
     "name": "stdout",
     "output_type": "stream",
     "text": [
      "Number of matches: 136225\n"
     ]
    }
   ],
   "source": [
    "print(f\"Number of matches: {matched_data.shape[0]}\")"
   ]
  },
  {
   "cell_type": "code",
   "execution_count": 8,
   "metadata": {},
   "outputs": [
    {
     "name": "stdout",
     "output_type": "stream",
     "text": [
      "           source_id         ra  ra_error        dec  dec_error  \\\n",
      "0  15947527103311232  51.869472  0.016734  10.698907   0.013360   \n",
      "1  20434908934166912  42.834464  0.033320   8.182195   0.026800   \n",
      "2  42611749230202624  52.806775  0.014411  15.872815   0.011149   \n",
      "3  50912374823455104  58.416484  0.019283  19.530629   0.011572   \n",
      "4  59776770710183936  46.128963  0.127650  19.070242   0.107538   \n",
      "\n",
      "   phot_g_mean_flux  phot_g_mean_flux_error       pmra  pmra_error      pmdec  \\\n",
      "0     643752.095071              250.722580  -2.416004    0.023661  -9.783729   \n",
      "1      19588.309209               13.986989 -17.276041    0.041648 -58.417173   \n",
      "2     387078.419526              118.453896 -43.782938    0.018024 -43.869479   \n",
      "3     909649.939391              207.109726  -1.306364    0.025246  -4.689991   \n",
      "4     375345.976578              224.093552  -0.604847    0.164879  -5.790017   \n",
      "\n",
      "   ...  phot_rp_mean_flux  phot_rp_mean_flux_error       oid  otype    oidref  \\\n",
      "0  ...      406545.363704               177.882843    641305    Pe*    641305   \n",
      "1  ...       22911.081431                39.873337  21291731    PM*  21291731   \n",
      "2  ...      266015.047427                84.506882   6526897    PM*   6526897   \n",
      "3  ...      551064.976566               159.350540    676945    Pe*    676945   \n",
      "4  ...      204256.243787               121.972504   6526480    Pe*   6526480   \n",
      "\n",
      "                                                 ids            gaia_id  \\\n",
      "0  LAMOST J032728.67+104156.2|Gaia DR3 1594752710...  15947527103311232   \n",
      "1  AP J02512028+0810568|Gaia DR3 2043490893416691...  20434908934166912   \n",
      "2  GALAH 160923004201180|Gaia DR3 426117492302026...  42611749230202624   \n",
      "3  LAMOST J035339.96+193150.3|EPIC 210777695|Gaia...  50912374823455104   \n",
      "4  Gaia DR3 59776770710183936|TIC 438261481|TYC 1...  59776770710183936   \n",
      "\n",
      "       obsid         ra        dec  \n",
      "0  308905061  51.869494  10.698946  \n",
      "1  364606170  42.834547   8.182459  \n",
      "2  406402012  52.806975  15.873010  \n",
      "3  427911217  58.416501  19.530654  \n",
      "4   57115095  46.128979  19.070267  \n",
      "\n",
      "[5 rows x 25 columns]\n"
     ]
    }
   ],
   "source": [
    "# print head of matched data\n",
    "print(matched_data.head())"
   ]
  },
  {
   "cell_type": "code",
   "execution_count": 10,
   "metadata": {},
   "outputs": [
    {
     "name": "stdout",
     "output_type": "stream",
     "text": [
      "Index(['obsid', 'ra', 'dec', 'ra_error', 'dec_error', 'parallax',\n",
      "       'parallax_error', 'pmra', 'pmra_error', 'pmdec', 'pmdec_error',\n",
      "       'phot_g_mean_flux', 'phot_g_mean_flux_error', 'phot_bp_mean_flux',\n",
      "       'phot_bp_mean_flux_error', 'phot_rp_mean_flux',\n",
      "       'phot_rp_mean_flux_error', 'otype'],\n",
      "      dtype='object')\n"
     ]
    }
   ],
   "source": [
    "star_data = matched_data[['obsid','ra', 'dec','ra_error', 'dec_error', 'parallax', 'parallax_error', 'pmra', 'pmra_error', 'pmdec', 'pmdec_error', 'phot_g_mean_flux', 'phot_g_mean_flux_error', 'phot_bp_mean_flux', 'phot_bp_mean_flux_error', 'phot_rp_mean_flux', 'phot_rp_mean_flux_error', 'otype']]\n",
    "star_data.columns = ['obsid','ra','ra2', 'dec', 'dec2','ra_error', 'dec_error', 'parallax', 'parallax_error', 'pmra', 'pmra_error', 'pmdec', 'pmdec_error', 'phot_g_mean_flux', 'phot_g_mean_flux_error', 'phot_bp_mean_flux', 'phot_bp_mean_flux_error', 'phot_rp_mean_flux', 'phot_rp_mean_flux_error', 'otype']\n",
    "star_data = star_data.drop(columns=['ra2', 'dec2'])\n",
    "print(star_data.columns)\n",
    "\n",
    "# create a new folder for the pickles\n",
    "if not os.path.exists(\"Pickles/allstars\"):\n",
    "    os.makedirs(\"Pickles/allstars\")\n",
    "star_data.to_pickle(\"Pickles/allstars/star_gaia.pkl\")"
   ]
  },
  {
   "cell_type": "markdown",
   "metadata": {},
   "source": [
    "# Dealing with nans in gaia"
   ]
  },
  {
   "cell_type": "code",
   "execution_count": 12,
   "metadata": {},
   "outputs": [
    {
     "name": "stdout",
     "output_type": "stream",
     "text": [
      "obsid                        0\n",
      "ra                           0\n",
      "dec                          0\n",
      "ra_error                     0\n",
      "dec_error                    0\n",
      "parallax                   569\n",
      "parallax_error             569\n",
      "pmra                       569\n",
      "pmra_error                 569\n",
      "pmdec                      569\n",
      "pmdec_error                569\n",
      "phot_g_mean_flux             1\n",
      "phot_g_mean_flux_error       1\n",
      "phot_bp_mean_flux          210\n",
      "phot_bp_mean_flux_error    210\n",
      "phot_rp_mean_flux          209\n",
      "phot_rp_mean_flux_error    209\n",
      "otype                        0\n",
      "dtype: int64\n"
     ]
    }
   ],
   "source": [
    "# Printing the number of nans in each column\n",
    "print(star_data.isnull().sum())"
   ]
  },
  {
   "cell_type": "code",
   "execution_count": 13,
   "metadata": {},
   "outputs": [
    {
     "data": {
      "image/png": "[encoded data removed]",
      "text/plain": [
       "<Figure size 640x480 with 1 Axes>"
      ]
     },
     "metadata": {},
     "output_type": "display_data"
    }
   ],
   "source": [
    "# plot the distribution of bp mean flux error\n",
    "plt.hist(star_data['phot_bp_mean_flux_error'], bins=100)\n",
    "plt.xlabel('phot_bp_mean_flux_error')\n",
    "plt.ylabel('Frequency')\n",
    "plt.title('Distribution of phot_bp_mean_flux_error')\n",
    "plt.xlim(0, 1e5)\n",
    "plt.show()\n"
   ]
  },
  {
   "cell_type": "code",
   "execution_count": 14,
   "metadata": {},
   "outputs": [
    {
     "data": {
      "image/png": "[encoded data removed]",
      "text/plain": [
       "<Figure size 640x480 with 1 Axes>"
      ]
     },
     "metadata": {},
     "output_type": "display_data"
    }
   ],
   "source": [
    "# plot the distribution of bp mean flux\n",
    "plt.hist(star_data['phot_bp_mean_flux'], bins=100)\n",
    "plt.xlabel('phot_bp_mean_flux')\n",
    "plt.ylabel('Frequency')\n",
    "plt.title('Distribution of phot_bp_mean_flux')\n",
    "plt.show()\n"
   ]
  },
  {
   "cell_type": "code",
   "execution_count": 15,
   "metadata": {},
   "outputs": [
    {
     "data": {
      "image/png": "[encoded data removed]",
      "text/plain": [
       "<Figure size 640x480 with 1 Axes>"
      ]
     },
     "metadata": {},
     "output_type": "display_data"
    }
   ],
   "source": [
    "# plot the distribution of rp mean flux error\n",
    "plt.hist(star_data['phot_rp_mean_flux_error'], bins=100)\n",
    "plt.xlabel('phot_rp_mean_flux_error')\n",
    "plt.ylabel('Frequency')\n",
    "plt.title('Distribution of phot_rp_mean_flux_error')\n",
    "plt.xlim(0, 1e5)\n",
    "plt.show()\n"
   ]
  },
  {
   "cell_type": "code",
   "execution_count": 16,
   "metadata": {},
   "outputs": [
    {
     "data": {
      "image/png": "[encoded data removed]",
      "text/plain": [
       "<Figure size 640x480 with 1 Axes>"
      ]
     },
     "metadata": {},
     "output_type": "display_data"
    }
   ],
   "source": [
    "# plot the distribution of rp mean flux\n",
    "plt.hist(star_data['phot_rp_mean_flux'], bins=100)\n",
    "plt.xlabel('phot_rp_mean_flux')\n",
    "plt.ylabel('Frequency')\n",
    "plt.title('Distribution of phot_rp_mean_flux')\n",
    "plt.show()"
   ]
  },
  {
   "cell_type": "code",
   "execution_count": 17,
   "metadata": {},
   "outputs": [
    {
     "name": "stdout",
     "output_type": "stream",
     "text": [
      "obsid                      0\n",
      "ra                         0\n",
      "dec                        0\n",
      "ra_error                   0\n",
      "dec_error                  0\n",
      "parallax                   0\n",
      "parallax_error             0\n",
      "pmra                       0\n",
      "pmra_error                 0\n",
      "pmdec                      0\n",
      "pmdec_error                0\n",
      "phot_g_mean_flux           1\n",
      "phot_g_mean_flux_error     1\n",
      "phot_bp_mean_flux          0\n",
      "phot_bp_mean_flux_error    0\n",
      "phot_rp_mean_flux          0\n",
      "phot_rp_mean_flux_error    0\n",
      "otype                      0\n",
      "flagnopllx                 0\n",
      "flagnoflux                 0\n",
      "dtype: int64\n",
      "Number of rows now: 136224\n",
      "Number of rows dropped: 1 accounting for 0.0007340796476417691 %\n"
     ]
    }
   ],
   "source": [
    "def clean_nans(input_pkl, output_pkl):    \n",
    "    # open the pickles\n",
    "    df = pd.read_pickle(input_pkl)\n",
    "\n",
    "    # add a flag column if parallax is nan\n",
    "    df['flagnopllx'] = np.where(df['parallax'].isnull(), 1, 0)\n",
    "\n",
    "    # if parallax is nan, set the parallax to 0 and the error to 10\n",
    "    # 10 is a large value but still normalizabe\n",
    "\n",
    "    df.fillna({'parallax':0}, inplace=True)\n",
    "    df.fillna({'parallax_error':10}, inplace=True)\n",
    "\n",
    "    # if pmra or pmdec is nan, set the pmra to 0 and the error to 10\n",
    "\n",
    "    df.fillna({'pmra':0}, inplace=True)\n",
    "    df.fillna({'pmra_error':10}, inplace=True)\n",
    "    df.fillna({'pmdec':0}, inplace=True)\n",
    "    df.fillna({'pmdec_error':10}, inplace=True)\n",
    "\n",
    "    # add a flag column if  phot_bp_mean_flux, phot_rp_mean_flux is nan\n",
    "    df['flagnoflux'] = np.where(df['phot_bp_mean_flux'].isnull(), 1, 0)\n",
    "\n",
    "    # if phot_bp_mean_flux, phot_rp_mean_flux is nan, set the flux to 0 and the error to 10\n",
    "    df.fillna({'phot_bp_mean_flux':0}, inplace=True)\n",
    "    df.fillna({'phot_bp_mean_flux_error':50000}, inplace=True) # 50000 is a large value but still normalizabe\n",
    "    df.fillna({'phot_rp_mean_flux':0}, inplace=True)\n",
    "    df.fillna({'phot_rp_mean_flux_error':50000}, inplace=True)\n",
    "\n",
    "    # print the number of nans in each column\n",
    "    print(df.isnull().sum())\n",
    "\n",
    "    # if any nans are left, drop the row, save the obsid of dropped row,print the number of rows dropped out of the total\n",
    "    na_free = df.dropna()\n",
    "    only_na = df[~df.index.isin(na_free.index)]    \n",
    "    print('Number of rows now:', len(na_free))\n",
    "    print('Number of rows dropped:', len(df) - len(na_free), 'accounting for', ((len(df)-len(na_free))/len(df))*100, '%')\n",
    "\n",
    "    # save the pickle\n",
    "    df.to_pickle(output_pkl)\n",
    "    return only_na['obsid']\n",
    "\n",
    "obsid_drop_star = clean_nans(\"Pickles/allstars/star_gaia.pkl\", \"Pickles/allstars/star_dropna1.pkl\")"
   ]
  },
  {
   "cell_type": "markdown",
   "metadata": {},
   "source": [
    "# Converting fits to nparray"
   ]
  },
  {
   "cell_type": "code",
   "execution_count": 6,
   "metadata": {},
   "outputs": [
    {
     "name": "stderr",
     "output_type": "stream",
     "text": [
      "Processing FITS files: 100%|██████████| 136178/136178 [54:16<00:00, 41.81it/s]   \n"
     ]
    }
   ],
   "source": [
    "# Batch size: how many files to process before writing to the CSV\n",
    "BATCH_SIZE = 10000\n",
    "\n",
    "# Output CSV file path and folder path\n",
    "output_file = 'Pickles/lamost_data.csv'\n",
    "folder_path = \"star_spectra/\"\n",
    "\n",
    "# Create the CSV file with headers before appending data\n",
    "with open(output_file, 'w') as f:\n",
    "    # Create an empty DataFrame just for headers\n",
    "    columns = [f'col_{i}' for i in range(3748)] + ['file_name', 'row']\n",
    "    pd.DataFrame(columns=columns).to_csv(f, index=False)\n",
    "\n",
    "# Total number of files for the progress bar\n",
    "total_files = sum([len(files) for r, d, files in os.walk(folder_path)])\n",
    "\n",
    "# Initialize the tqdm progress bar\n",
    "with tqdm(total=total_files, desc='Processing FITS files') as pbar:\n",
    "    \n",
    "    # Prepare a list for batch processing\n",
    "    batch_list = []\n",
    "    \n",
    "    # Loop through each FITS file in the folder\n",
    "    for filename in os.listdir(folder_path):\n",
    "        file_path = os.path.join(folder_path, filename)\n",
    "        \n",
    "        # Open the FITS file and extract the relevant data\n",
    "        with fits.open(file_path) as hdul:\n",
    "            # Extract the first 3 rows and first 3748 columns\n",
    "            data = hdul[0].data[:3, :3748]  # This gets the first 3 rows\n",
    "            \n",
    "            # Loop through the 3 rows and append them to the batch list\n",
    "            for i, row_data in enumerate(data):\n",
    "                # Create a dictionary with the data, label, and file name\n",
    "                data_dict = {f'col_{j}': value for j, value in enumerate(row_data)}\n",
    "                data_dict['file_name'] = filename  # Include file name\n",
    "                data_dict['row'] = i               # Track which row from the FITS file\n",
    "                \n",
    "                # Append the dictionary to the batch list\n",
    "                batch_list.append(data_dict)\n",
    "        \n",
    "        # Increment the progress bar\n",
    "        pbar.update(1)\n",
    "\n",
    "        # Write the batch to CSV if batch size is met\n",
    "        if len(batch_list) >= BATCH_SIZE:\n",
    "            df = pd.DataFrame(batch_list)\n",
    "            df.to_csv(output_file, mode='a', header=False, index=False)\n",
    "            batch_list.clear()  # Clear the batch list after writing\n",
    "\n",
    "    # Write any remaining data in the batch at the end of the folder loop\n",
    "    if batch_list:\n",
    "        df = pd.DataFrame(batch_list)\n",
    "        df.to_csv(output_file, mode='a', header=False, index=False)\n",
    "        batch_list.clear()  # Clear the list after writing\n",
    "\n"
   ]
  },
  {
   "cell_type": "code",
   "execution_count": 8,
   "metadata": {},
   "outputs": [
    {
     "ename": "KeyboardInterrupt",
     "evalue": "",
     "output_type": "error",
     "traceback": [
      "\u001b[1;31m---------------------------------------------------------------------------\u001b[0m",
      "\u001b[1;31mKeyboardInterrupt\u001b[0m                         Traceback (most recent call last)",
      "Cell \u001b[1;32mIn[8], line 1\u001b[0m\n\u001b[1;32m----> 1\u001b[0m lamost_data \u001b[38;5;241m=\u001b[39m \u001b[43mpd\u001b[49m\u001b[38;5;241;43m.\u001b[39;49m\u001b[43mread_csv\u001b[49m\u001b[43m(\u001b[49m\u001b[38;5;124;43m'\u001b[39;49m\u001b[38;5;124;43mPickles/lamost_data.csv\u001b[39;49m\u001b[38;5;124;43m'\u001b[39;49m\u001b[43m)\u001b[49m\n\u001b[0;32m      3\u001b[0m \u001b[38;5;66;03m# Print the shape of the DataFrame\u001b[39;00m\n\u001b[0;32m      4\u001b[0m \u001b[38;5;28mprint\u001b[39m(lamost_data\u001b[38;5;241m.\u001b[39mshape)\n",
      "File \u001b[1;32m~\\AppData\\Local\\Packages\\PythonSoftwareFoundation.Python.3.11_qbz5n2kfra8p0\\LocalCache\\local-packages\\Python311\\site-packages\\pandas\\io\\parsers\\readers.py:1026\u001b[0m, in \u001b[0;36mread_csv\u001b[1;34m(filepath_or_buffer, sep, delimiter, header, names, index_col, usecols, dtype, engine, converters, true_values, false_values, skipinitialspace, skiprows, skipfooter, nrows, na_values, keep_default_na, na_filter, verbose, skip_blank_lines, parse_dates, infer_datetime_format, keep_date_col, date_parser, date_format, dayfirst, cache_dates, iterator, chunksize, compression, thousands, decimal, lineterminator, quotechar, quoting, doublequote, escapechar, comment, encoding, encoding_errors, dialect, on_bad_lines, delim_whitespace, low_memory, memory_map, float_precision, storage_options, dtype_backend)\u001b[0m\n\u001b[0;32m   1013\u001b[0m kwds_defaults \u001b[38;5;241m=\u001b[39m _refine_defaults_read(\n\u001b[0;32m   1014\u001b[0m     dialect,\n\u001b[0;32m   1015\u001b[0m     delimiter,\n\u001b[1;32m   (...)\u001b[0m\n\u001b[0;32m   1022\u001b[0m     dtype_backend\u001b[38;5;241m=\u001b[39mdtype_backend,\n\u001b[0;32m   1023\u001b[0m )\n\u001b[0;32m   1024\u001b[0m kwds\u001b[38;5;241m.\u001b[39mupdate(kwds_defaults)\n\u001b[1;32m-> 1026\u001b[0m \u001b[38;5;28;01mreturn\u001b[39;00m \u001b[43m_read\u001b[49m\u001b[43m(\u001b[49m\u001b[43mfilepath_or_buffer\u001b[49m\u001b[43m,\u001b[49m\u001b[43m \u001b[49m\u001b[43mkwds\u001b[49m\u001b[43m)\u001b[49m\n",
      "File \u001b[1;32m~\\AppData\\Local\\Packages\\PythonSoftwareFoundation.Python.3.11_qbz5n2kfra8p0\\LocalCache\\local-packages\\Python311\\site-packages\\pandas\\io\\parsers\\readers.py:626\u001b[0m, in \u001b[0;36m_read\u001b[1;34m(filepath_or_buffer, kwds)\u001b[0m\n\u001b[0;32m    623\u001b[0m     \u001b[38;5;28;01mreturn\u001b[39;00m parser\n\u001b[0;32m    625\u001b[0m \u001b[38;5;28;01mwith\u001b[39;00m parser:\n\u001b[1;32m--> 626\u001b[0m     \u001b[38;5;28;01mreturn\u001b[39;00m \u001b[43mparser\u001b[49m\u001b[38;5;241;43m.\u001b[39;49m\u001b[43mread\u001b[49m\u001b[43m(\u001b[49m\u001b[43mnrows\u001b[49m\u001b[43m)\u001b[49m\n",
      "File \u001b[1;32m~\\AppData\\Local\\Packages\\PythonSoftwareFoundation.Python.3.11_qbz5n2kfra8p0\\LocalCache\\local-packages\\Python311\\site-packages\\pandas\\io\\parsers\\readers.py:1968\u001b[0m, in \u001b[0;36mTextFileReader.read\u001b[1;34m(self, nrows)\u001b[0m\n\u001b[0;32m   1965\u001b[0m     \u001b[38;5;28;01melse\u001b[39;00m:\n\u001b[0;32m   1966\u001b[0m         new_col_dict \u001b[38;5;241m=\u001b[39m col_dict\n\u001b[1;32m-> 1968\u001b[0m     df \u001b[38;5;241m=\u001b[39m \u001b[43mDataFrame\u001b[49m\u001b[43m(\u001b[49m\n\u001b[0;32m   1969\u001b[0m \u001b[43m        \u001b[49m\u001b[43mnew_col_dict\u001b[49m\u001b[43m,\u001b[49m\n\u001b[0;32m   1970\u001b[0m \u001b[43m        \u001b[49m\u001b[43mcolumns\u001b[49m\u001b[38;5;241;43m=\u001b[39;49m\u001b[43mcolumns\u001b[49m\u001b[43m,\u001b[49m\n\u001b[0;32m   1971\u001b[0m \u001b[43m        \u001b[49m\u001b[43mindex\u001b[49m\u001b[38;5;241;43m=\u001b[39;49m\u001b[43mindex\u001b[49m\u001b[43m,\u001b[49m\n\u001b[0;32m   1972\u001b[0m \u001b[43m        \u001b[49m\u001b[43mcopy\u001b[49m\u001b[38;5;241;43m=\u001b[39;49m\u001b[38;5;129;43;01mnot\u001b[39;49;00m\u001b[43m \u001b[49m\u001b[43musing_copy_on_write\u001b[49m\u001b[43m(\u001b[49m\u001b[43m)\u001b[49m\u001b[43m,\u001b[49m\n\u001b[0;32m   1973\u001b[0m \u001b[43m    \u001b[49m\u001b[43m)\u001b[49m\n\u001b[0;32m   1975\u001b[0m     \u001b[38;5;28mself\u001b[39m\u001b[38;5;241m.\u001b[39m_currow \u001b[38;5;241m+\u001b[39m\u001b[38;5;241m=\u001b[39m new_rows\n\u001b[0;32m   1976\u001b[0m \u001b[38;5;28;01mreturn\u001b[39;00m df\n",
      "File \u001b[1;32m~\\AppData\\Local\\Packages\\PythonSoftwareFoundation.Python.3.11_qbz5n2kfra8p0\\LocalCache\\local-packages\\Python311\\site-packages\\pandas\\core\\frame.py:778\u001b[0m, in \u001b[0;36mDataFrame.__init__\u001b[1;34m(self, data, index, columns, dtype, copy)\u001b[0m\n\u001b[0;32m    772\u001b[0m     mgr \u001b[38;5;241m=\u001b[39m \u001b[38;5;28mself\u001b[39m\u001b[38;5;241m.\u001b[39m_init_mgr(\n\u001b[0;32m    773\u001b[0m         data, axes\u001b[38;5;241m=\u001b[39m{\u001b[38;5;124m\"\u001b[39m\u001b[38;5;124mindex\u001b[39m\u001b[38;5;124m\"\u001b[39m: index, \u001b[38;5;124m\"\u001b[39m\u001b[38;5;124mcolumns\u001b[39m\u001b[38;5;124m\"\u001b[39m: columns}, dtype\u001b[38;5;241m=\u001b[39mdtype, copy\u001b[38;5;241m=\u001b[39mcopy\n\u001b[0;32m    774\u001b[0m     )\n\u001b[0;32m    776\u001b[0m \u001b[38;5;28;01melif\u001b[39;00m \u001b[38;5;28misinstance\u001b[39m(data, \u001b[38;5;28mdict\u001b[39m):\n\u001b[0;32m    777\u001b[0m     \u001b[38;5;66;03m# GH#38939 de facto copy defaults to False only in non-dict cases\u001b[39;00m\n\u001b[1;32m--> 778\u001b[0m     mgr \u001b[38;5;241m=\u001b[39m \u001b[43mdict_to_mgr\u001b[49m\u001b[43m(\u001b[49m\u001b[43mdata\u001b[49m\u001b[43m,\u001b[49m\u001b[43m \u001b[49m\u001b[43mindex\u001b[49m\u001b[43m,\u001b[49m\u001b[43m \u001b[49m\u001b[43mcolumns\u001b[49m\u001b[43m,\u001b[49m\u001b[43m \u001b[49m\u001b[43mdtype\u001b[49m\u001b[38;5;241;43m=\u001b[39;49m\u001b[43mdtype\u001b[49m\u001b[43m,\u001b[49m\u001b[43m \u001b[49m\u001b[43mcopy\u001b[49m\u001b[38;5;241;43m=\u001b[39;49m\u001b[43mcopy\u001b[49m\u001b[43m,\u001b[49m\u001b[43m \u001b[49m\u001b[43mtyp\u001b[49m\u001b[38;5;241;43m=\u001b[39;49m\u001b[43mmanager\u001b[49m\u001b[43m)\u001b[49m\n\u001b[0;32m    779\u001b[0m \u001b[38;5;28;01melif\u001b[39;00m \u001b[38;5;28misinstance\u001b[39m(data, ma\u001b[38;5;241m.\u001b[39mMaskedArray):\n\u001b[0;32m    780\u001b[0m     \u001b[38;5;28;01mfrom\u001b[39;00m \u001b[38;5;21;01mnumpy\u001b[39;00m\u001b[38;5;21;01m.\u001b[39;00m\u001b[38;5;21;01mma\u001b[39;00m \u001b[38;5;28;01mimport\u001b[39;00m mrecords\n",
      "File \u001b[1;32m~\\AppData\\Local\\Packages\\PythonSoftwareFoundation.Python.3.11_qbz5n2kfra8p0\\LocalCache\\local-packages\\Python311\\site-packages\\pandas\\core\\internals\\construction.py:503\u001b[0m, in \u001b[0;36mdict_to_mgr\u001b[1;34m(data, index, columns, dtype, typ, copy)\u001b[0m\n\u001b[0;32m    499\u001b[0m     \u001b[38;5;28;01melse\u001b[39;00m:\n\u001b[0;32m    500\u001b[0m         \u001b[38;5;66;03m# dtype check to exclude e.g. range objects, scalars\u001b[39;00m\n\u001b[0;32m    501\u001b[0m         arrays \u001b[38;5;241m=\u001b[39m [x\u001b[38;5;241m.\u001b[39mcopy() \u001b[38;5;28;01mif\u001b[39;00m \u001b[38;5;28mhasattr\u001b[39m(x, \u001b[38;5;124m\"\u001b[39m\u001b[38;5;124mdtype\u001b[39m\u001b[38;5;124m\"\u001b[39m) \u001b[38;5;28;01melse\u001b[39;00m x \u001b[38;5;28;01mfor\u001b[39;00m x \u001b[38;5;129;01min\u001b[39;00m arrays]\n\u001b[1;32m--> 503\u001b[0m \u001b[38;5;28;01mreturn\u001b[39;00m \u001b[43marrays_to_mgr\u001b[49m\u001b[43m(\u001b[49m\u001b[43marrays\u001b[49m\u001b[43m,\u001b[49m\u001b[43m \u001b[49m\u001b[43mcolumns\u001b[49m\u001b[43m,\u001b[49m\u001b[43m \u001b[49m\u001b[43mindex\u001b[49m\u001b[43m,\u001b[49m\u001b[43m \u001b[49m\u001b[43mdtype\u001b[49m\u001b[38;5;241;43m=\u001b[39;49m\u001b[43mdtype\u001b[49m\u001b[43m,\u001b[49m\u001b[43m \u001b[49m\u001b[43mtyp\u001b[49m\u001b[38;5;241;43m=\u001b[39;49m\u001b[43mtyp\u001b[49m\u001b[43m,\u001b[49m\u001b[43m \u001b[49m\u001b[43mconsolidate\u001b[49m\u001b[38;5;241;43m=\u001b[39;49m\u001b[43mcopy\u001b[49m\u001b[43m)\u001b[49m\n",
      "File \u001b[1;32m~\\AppData\\Local\\Packages\\PythonSoftwareFoundation.Python.3.11_qbz5n2kfra8p0\\LocalCache\\local-packages\\Python311\\site-packages\\pandas\\core\\internals\\construction.py:152\u001b[0m, in \u001b[0;36marrays_to_mgr\u001b[1;34m(arrays, columns, index, dtype, verify_integrity, typ, consolidate)\u001b[0m\n\u001b[0;32m    149\u001b[0m axes \u001b[38;5;241m=\u001b[39m [columns, index]\n\u001b[0;32m    151\u001b[0m \u001b[38;5;28;01mif\u001b[39;00m typ \u001b[38;5;241m==\u001b[39m \u001b[38;5;124m\"\u001b[39m\u001b[38;5;124mblock\u001b[39m\u001b[38;5;124m\"\u001b[39m:\n\u001b[1;32m--> 152\u001b[0m     \u001b[38;5;28;01mreturn\u001b[39;00m \u001b[43mcreate_block_manager_from_column_arrays\u001b[49m\u001b[43m(\u001b[49m\n\u001b[0;32m    153\u001b[0m \u001b[43m        \u001b[49m\u001b[43marrays\u001b[49m\u001b[43m,\u001b[49m\u001b[43m \u001b[49m\u001b[43maxes\u001b[49m\u001b[43m,\u001b[49m\u001b[43m \u001b[49m\u001b[43mconsolidate\u001b[49m\u001b[38;5;241;43m=\u001b[39;49m\u001b[43mconsolidate\u001b[49m\u001b[43m,\u001b[49m\u001b[43m \u001b[49m\u001b[43mrefs\u001b[49m\u001b[38;5;241;43m=\u001b[39;49m\u001b[43mrefs\u001b[49m\n\u001b[0;32m    154\u001b[0m \u001b[43m    \u001b[49m\u001b[43m)\u001b[49m\n\u001b[0;32m    155\u001b[0m \u001b[38;5;28;01melif\u001b[39;00m typ \u001b[38;5;241m==\u001b[39m \u001b[38;5;124m\"\u001b[39m\u001b[38;5;124marray\u001b[39m\u001b[38;5;124m\"\u001b[39m:\n\u001b[0;32m    156\u001b[0m     \u001b[38;5;28;01mreturn\u001b[39;00m ArrayManager(arrays, [index, columns])\n",
      "File \u001b[1;32m~\\AppData\\Local\\Packages\\PythonSoftwareFoundation.Python.3.11_qbz5n2kfra8p0\\LocalCache\\local-packages\\Python311\\site-packages\\pandas\\core\\internals\\managers.py:2139\u001b[0m, in \u001b[0;36mcreate_block_manager_from_column_arrays\u001b[1;34m(arrays, axes, consolidate, refs)\u001b[0m\n\u001b[0;32m   2121\u001b[0m \u001b[38;5;28;01mdef\u001b[39;00m \u001b[38;5;21mcreate_block_manager_from_column_arrays\u001b[39m(\n\u001b[0;32m   2122\u001b[0m     arrays: \u001b[38;5;28mlist\u001b[39m[ArrayLike],\n\u001b[0;32m   2123\u001b[0m     axes: \u001b[38;5;28mlist\u001b[39m[Index],\n\u001b[1;32m   (...)\u001b[0m\n\u001b[0;32m   2135\u001b[0m     \u001b[38;5;66;03m# These last three are sufficient to allow us to safely pass\u001b[39;00m\n\u001b[0;32m   2136\u001b[0m     \u001b[38;5;66;03m#  verify_integrity=False below.\u001b[39;00m\n\u001b[0;32m   2138\u001b[0m     \u001b[38;5;28;01mtry\u001b[39;00m:\n\u001b[1;32m-> 2139\u001b[0m         blocks \u001b[38;5;241m=\u001b[39m \u001b[43m_form_blocks\u001b[49m\u001b[43m(\u001b[49m\u001b[43marrays\u001b[49m\u001b[43m,\u001b[49m\u001b[43m \u001b[49m\u001b[43mconsolidate\u001b[49m\u001b[43m,\u001b[49m\u001b[43m \u001b[49m\u001b[43mrefs\u001b[49m\u001b[43m)\u001b[49m\n\u001b[0;32m   2140\u001b[0m         mgr \u001b[38;5;241m=\u001b[39m BlockManager(blocks, axes, verify_integrity\u001b[38;5;241m=\u001b[39m\u001b[38;5;28;01mFalse\u001b[39;00m)\n\u001b[0;32m   2141\u001b[0m     \u001b[38;5;28;01mexcept\u001b[39;00m \u001b[38;5;167;01mValueError\u001b[39;00m \u001b[38;5;28;01mas\u001b[39;00m e:\n",
      "File \u001b[1;32m~\\AppData\\Local\\Packages\\PythonSoftwareFoundation.Python.3.11_qbz5n2kfra8p0\\LocalCache\\local-packages\\Python311\\site-packages\\pandas\\core\\internals\\managers.py:2212\u001b[0m, in \u001b[0;36m_form_blocks\u001b[1;34m(arrays, consolidate, refs)\u001b[0m\n\u001b[0;32m   2209\u001b[0m \u001b[38;5;28;01mif\u001b[39;00m \u001b[38;5;28missubclass\u001b[39m(dtype\u001b[38;5;241m.\u001b[39mtype, (\u001b[38;5;28mstr\u001b[39m, \u001b[38;5;28mbytes\u001b[39m)):\n\u001b[0;32m   2210\u001b[0m     dtype \u001b[38;5;241m=\u001b[39m np\u001b[38;5;241m.\u001b[39mdtype(\u001b[38;5;28mobject\u001b[39m)\n\u001b[1;32m-> 2212\u001b[0m values, placement \u001b[38;5;241m=\u001b[39m \u001b[43m_stack_arrays\u001b[49m\u001b[43m(\u001b[49m\u001b[38;5;28;43mlist\u001b[39;49m\u001b[43m(\u001b[49m\u001b[43mtup_block\u001b[49m\u001b[43m)\u001b[49m\u001b[43m,\u001b[49m\u001b[43m \u001b[49m\u001b[43mdtype\u001b[49m\u001b[43m)\u001b[49m\n\u001b[0;32m   2213\u001b[0m \u001b[38;5;28;01mif\u001b[39;00m is_dtlike:\n\u001b[0;32m   2214\u001b[0m     values \u001b[38;5;241m=\u001b[39m ensure_wrapped_if_datetimelike(values)\n",
      "File \u001b[1;32m~\\AppData\\Local\\Packages\\PythonSoftwareFoundation.Python.3.11_qbz5n2kfra8p0\\LocalCache\\local-packages\\Python311\\site-packages\\pandas\\core\\internals\\managers.py:2254\u001b[0m, in \u001b[0;36m_stack_arrays\u001b[1;34m(tuples, dtype)\u001b[0m\n\u001b[0;32m   2252\u001b[0m stacked \u001b[38;5;241m=\u001b[39m np\u001b[38;5;241m.\u001b[39mempty(shape, dtype\u001b[38;5;241m=\u001b[39mdtype)\n\u001b[0;32m   2253\u001b[0m \u001b[38;5;28;01mfor\u001b[39;00m i, arr \u001b[38;5;129;01min\u001b[39;00m \u001b[38;5;28menumerate\u001b[39m(arrays):\n\u001b[1;32m-> 2254\u001b[0m     stacked[i] \u001b[38;5;241m=\u001b[39m arr\n\u001b[0;32m   2256\u001b[0m \u001b[38;5;28;01mreturn\u001b[39;00m stacked, placement\n",
      "\u001b[1;31mKeyboardInterrupt\u001b[0m: "
     ]
    }
   ],
   "source": [
    "lamost_data = pd.read_csv('Pickles/lamost_data.csv')\n",
    "\n",
    "# Print the shape of the DataFrame\n",
    "print(lamost_data.shape)"
   ]
  },
  {
   "cell_type": "code",
   "execution_count": 10,
   "metadata": {},
   "outputs": [
    {
     "name": "stdout",
     "output_type": "stream",
     "text": [
      "         col_0        col_1        col_2        col_3        col_4  \\\n",
      "0  -162.933350   474.217620  -149.057660   384.298650   816.799740   \n",
      "1     0.000002     0.000002     0.000002     0.000002     0.000002   \n",
      "2  3699.986300  3700.838400  3701.690700  3702.543000  3703.395800   \n",
      "3   129.156890   156.821580  -211.704540   -57.861380   838.955800   \n",
      "4     0.000003     0.000003     0.000003     0.000002     0.000003   \n",
      "5  3699.986300  3700.838400  3701.690700  3702.543000  3703.395800   \n",
      "6   760.736000  2198.241200  1996.852000  1921.712000  2894.582000   \n",
      "7     0.000002     0.000002     0.000002     0.000001     0.000001   \n",
      "8  3699.986300  3700.838400  3701.690700  3702.543000  3703.395800   \n",
      "9  1826.645800   514.431000   -60.697970  -636.369200   553.605600   \n",
      "\n",
      "         col_5        col_6        col_7        col_8        col_9  ...  \\\n",
      "0  1025.091800    97.349976  -451.699400    13.819055   455.163200  ...   \n",
      "1     0.000002     0.000002     0.000002     0.000002     0.000002  ...   \n",
      "2  3704.248500  3705.101600  3705.954800  3706.808000  3707.661900  ...   \n",
      "3  1537.224900   670.509600  -381.750980  -262.507600   511.511600  ...   \n",
      "4     0.000003     0.000003     0.000003     0.000003     0.000003  ...   \n",
      "5  3704.248500  3705.101600  3705.954800  3706.808000  3707.661900  ...   \n",
      "6  1111.394200  2078.286600   687.556300  1623.743500  2562.274000  ...   \n",
      "7     0.000002     0.000002     0.000003     0.000003     0.000003  ...   \n",
      "8  3704.248500  3705.101600  3705.954800  3706.808000  3707.661900  ...   \n",
      "9   311.359160   106.985480  1312.073200  -466.341550   943.379300  ...   \n",
      "\n",
      "      col_3740     col_3741     col_3742     col_3743     col_3744  \\\n",
      "0   665.392600   656.484130   643.976100   655.466060   667.749450   \n",
      "1     0.003528     0.003528     0.003102     0.003203     0.003261   \n",
      "2  8753.870000  8755.887000  8757.902000  8759.919000  8761.937000   \n",
      "3   954.873350   929.119300  1036.085600  1096.443700  1111.744100   \n",
      "4     0.002597     0.002560     0.002238     0.002364     0.002361   \n",
      "5  8753.870000  8755.887000  8757.902000  8759.919000  8761.937000   \n",
      "6  8081.974000  8094.943400  8059.689000  8014.524000  8106.917000   \n",
      "7     0.000973     0.000972     0.000938     0.000944     0.000951   \n",
      "8  8753.870000  8755.887000  8757.902000  8759.919000  8761.937000   \n",
      "9  4720.442400  4694.753400  4693.031200  4702.803000  4658.630000   \n",
      "\n",
      "      col_3745     col_3746     col_3747  file_name  row  \n",
      "0   668.912840   667.928960   656.598600  100011010    0  \n",
      "1     0.003471     0.003408     0.002942  100011010    1  \n",
      "2  8763.954000  8765.973000  8767.991000  100011010    2  \n",
      "3  1101.937100  1044.886500   931.127200  100011088    0  \n",
      "4     0.002420     0.002510     0.002584  100011088    1  \n",
      "5  8763.954000  8765.973000  8767.991000  100011088    2  \n",
      "6  8083.923300  7999.320300  8019.175000  100011110    0  \n",
      "7     0.000959     0.000988     0.000949  100011110    1  \n",
      "8  8763.954000  8765.973000  8767.991000  100011110    2  \n",
      "9  4748.102000  4776.778000  4612.739300  100011132    0  \n",
      "\n",
      "[10 rows x 3750 columns]\n"
     ]
    }
   ],
   "source": [
    "# Read the first few rows of the CSV file\n",
    "sample_data = pd.read_csv('Pickles/lamost_data.csv', nrows=10)\n",
    "print(sample_data)"
   ]
  },
  {
   "cell_type": "code",
   "execution_count": 11,
   "metadata": {},
   "outputs": [
    {
     "name": "stderr",
     "output_type": "stream",
     "text": [
      "41it [04:57,  7.26s/it]                        \n"
     ]
    },
    {
     "name": "stdout",
     "output_type": "stream",
     "text": [
      "(136178, 3749) (136178, 3749)\n"
     ]
    }
   ],
   "source": [
    "# Define the chunk size\n",
    "chunk_size = 10000\n",
    "\n",
    "# Initialize empty DataFrames for flux and frequency values\n",
    "flux_values = pd.DataFrame()\n",
    "freq_values = pd.DataFrame()\n",
    "\n",
    "# Get the total number of rows in the CSV file for the progress bar\n",
    "total_rows = sum(1 for _ in open('Pickles/lamost_data.csv')) - 1  # Subtract 1 for the header row\n",
    "\n",
    "# Read the CSV file in chunks with a progress bar\n",
    "for chunk in tqdm(pd.read_csv('Pickles/lamost_data.csv', chunksize=chunk_size), total=total_rows//chunk_size):\n",
    "    # Mask to filter rows based on row number\n",
    "    flux_mask = chunk['row'] == 0  # Select only the flux values from the first row\n",
    "    freq_mask = chunk['row'] == 2  # Select only the frequency values from the third row\n",
    "    \n",
    "    # Append the masked rows to the respective DataFrames\n",
    "    flux_values = pd.concat([flux_values, chunk[flux_mask].drop(columns=['row'])])\n",
    "    freq_values = pd.concat([freq_values, chunk[freq_mask].drop(columns=['row'])])\n",
    "\n",
    "# Print the shape of the flux and frequency DataFrames\n",
    "print(flux_values.shape, freq_values.shape)\n",
    "\n",
    "# Save the flux and frequency DataFrames to pickle files\n",
    "flux_values.to_pickle('Pickles/flux_values.pkl')\n",
    "freq_values.to_pickle('Pickles/freq_values.pkl')"
   ]
  },
  {
   "cell_type": "code",
   "execution_count": null,
   "metadata": {},
   "outputs": [],
   "source": []
  },
  {
   "cell_type": "markdown",
   "metadata": {},
   "source": [
    "# Interpolating the spectra and deal with nans\n",
    "### If large sequence of 0 appear, then discard spectra, if small interpolate"
   ]
  },
  {
   "cell_type": "code",
   "execution_count": null,
   "metadata": {},
   "outputs": [],
   "source": [
    "def interpolate_spectrum(fluxes_loc, frequencies_loc, output_dir, limit=10, edge_limit=20):\n",
    "    \"\"\"Interpolates the flux values to fill in missing data points.\"\"\"\n",
    "    # Load the data from the pickle file    \n",
    "    df_freq = pd.read_pickle(frequencies_loc).reset_index(drop=True)      \n",
    "    df_freq = df_freq.drop(columns=['row'])\n",
    "    df_flux = pd.read_pickle(fluxes_loc).reset_index(drop=True)  # Reset index for zero-based iteration\n",
    "    df_flux = df_flux.drop(columns=['row'])\n",
    "\n",
    "    # Initialize an empty list to store the results before concatenating into a DataFrame\n",
    "    results_list = []\n",
    "\n",
    "    # Initialize lists to store problematic file_names\n",
    "    nan_files = []  \n",
    "\n",
    "    # Count the number of successful interpolations\n",
    "    cnt_success = 0\n",
    "\n",
    "    # Debugging counters\n",
    "    cnt_total_skipped = 0\n",
    "    cnt_nan_skipped = 0\n",
    "    cnt_zero_skipped = 0\n",
    "\n",
    "    # Overwrite the output file at the beginning\n",
    "    if os.path.exists(output_dir):\n",
    "        os.remove(output_dir)\n",
    "\n",
    "    # Loop through each row in the DataFrame (each row is a spectrum) with tqdm for progress bar\n",
    "    for index, row in tqdm(df_flux.iterrows(), total=len(df_flux), desc='Interpolating spectra'):\n",
    "\n",
    "        # Extract the fluxes (assuming they start at column 0 and continue to the last column)\n",
    "        fluxes = row[:-2].values  # Exclude the last columns (file_name, label)\n",
    "\n",
    "        # Extract the frequencies\n",
    "        frequencies = df_freq.iloc[int(index), :-2].values  # Exclude the last columns (file_name, label)\n",
    "\n",
    "        # Count the number of NaN and 0 values in the fluxes and frequencies\n",
    "        fluxes = pd.to_numeric(row[:-2], errors='coerce').values  # Exclude and convert to numeric\n",
    "        frequencies = pd.to_numeric(df_freq.iloc[index, :-2], errors='coerce').values  # Same for frequencies\n",
    "        num_nan = np.isnan(fluxes).sum() + np.isnan(frequencies).sum()  # Count NaN values\n",
    "        num_zero = (fluxes == 0).sum() + (frequencies == 0).sum()  # Count zero values\n",
    "        num_freq_nan = np.isnan(frequencies).sum() + (frequencies == 0).sum()\n",
    "        if num_freq_nan > 0:\n",
    "            print(f\"Number of NaN or zero frequency values: {num_freq_nan}\")\n",
    "        # Special handling for NaN values, counting nans in sequence, except for the first and last 10\n",
    "        if num_nan > limit and index > edge_limit and index < len(fluxes)-edge_limit:\n",
    "            cnt_nan_skipped += 1  # Debug: count NaN-skipped rows\n",
    "            nan_files.append(row['file_name'])\n",
    "            continue\n",
    "        \n",
    "        if num_zero > limit and index > edge_limit and index < len(fluxes)-edge_limit:\n",
    "            cnt_zero_skipped += 1  # Debug: count zero-skipped rows\n",
    "            nan_files.append(row['file_name'])\n",
    "            continue\n",
    "\n",
    "        # Deal with NaN values\n",
    "        fluxes = fluxes[~np.isnan(fluxes)]\n",
    "        frequencies = frequencies[~np.isnan(fluxes)]\n",
    "\n",
    "        # Interpolate to fill in missing values\n",
    "        f = interp1d(frequencies, fluxes, kind='linear', fill_value=\"extrapolate\")\n",
    "        new_frequencies = np.linspace(frequencies.min(), frequencies.max(), len(row[:-2].values))\n",
    "\n",
    "        # Interpolated flux values\n",
    "        interpolated_fluxes = f(new_frequencies)\n",
    "\n",
    "        # Store the interpolated data along with labels and other metadata\n",
    "        # Create a dictionary for the interpolated spectrum\n",
    "        interpolated_data = {f'flux_{i}': value for i, value in enumerate(interpolated_fluxes)}\n",
    "\n",
    "        # Add the original metadata back (e.g., file_name, label, row)\n",
    "        interpolated_data['file_name'] = row['file_name']\n",
    "        interpolated_data['label'] = row['label']\n",
    "        \n",
    "        # Append the interpolated data to the results list\n",
    "        results_list.append(interpolated_data)\n",
    "\n",
    "        if index % 2000 == 0:  # Save every 5000 rows\n",
    "            if os.path.exists(output_dir):\n",
    "                existing_df = pd.read_pickle(output_dir)  # Load existing data\n",
    "                new_df = pd.DataFrame(results_list)\n",
    "                # Concatenate existing and new data\n",
    "                combined_df = pd.concat([existing_df, new_df], ignore_index=True)\n",
    "                combined_df.to_pickle(output_dir)  # Save combined DataFrame\n",
    "            else:\n",
    "                # If the file doesn't exist, create a new DataFrame and save\n",
    "                pd.DataFrame(results_list).to_pickle(output_dir)\n",
    "            cnt_success += len(results_list)  # Increment the count of successful interpolations\n",
    "            results_list = []  # Clear list to free memory\n",
    "\n",
    "    print(f\"Initial number of rows: {len(df_flux)}\")\n",
    "\n",
    "    # After the loop, save any remaining results\n",
    "    if results_list:\n",
    "        if os.path.exists(output_dir):\n",
    "            existing_df = pd.read_pickle(output_dir)\n",
    "            new_df = pd.DataFrame(results_list)\n",
    "            combined_df = pd.concat([existing_df, new_df], ignore_index=True)\n",
    "            combined_df.to_pickle(output_dir)\n",
    "        else:\n",
    "            pd.DataFrame(results_list).to_pickle(output_dir)\n",
    "        cnt_success += len(results_list)\n",
    "\n",
    "    # Debugging information\n",
    "    cnt_total_skipped = len(nan_files)\n",
    "    print(f\"Total successful interpolations: {cnt_success}\")\n",
    "    print(f\"Total skipped due to NaNs: {cnt_nan_skipped}\")\n",
    "    print(f\"Total skipped due to zeros: {cnt_zero_skipped}\")\n",
    "    print(f\"Total skipped rows (NaNs + zeros): {cnt_total_skipped}\")\n",
    "    print(f\"Final check: len(df_flux) == cnt_success + len(nan_files)? {len(df_flux) == cnt_success + cnt_total_skipped}\")\n",
    "\n",
    "    return nan_files\n"
   ]
  },
  {
   "cell_type": "code",
   "execution_count": null,
   "metadata": {},
   "outputs": [],
   "source": [
    "# Interpolate the spectra and save the results\n",
    "nan_files = interpolate_spectrum(\"Pickles/lamost_data_flux.pkl\", \"Pickles/lamost_data_freq.pkl\", \"Pickles/lamost_data_interpolated.pkl\")"
   ]
  }
 ],
 "metadata": {
  "kernelspec": {
   "display_name": "Python 3",
   "language": "python",
   "name": "python3"
  },
  "language_info": {
   "codemirror_mode": {
    "name": "ipython",
    "version": 3
   },
   "file_extension": ".py",
   "mimetype": "text/x-python",
   "name": "python",
   "nbconvert_exporter": "python",
   "pygments_lexer": "ipython3",
   "version": "3.11.9"
  }
 },
 "nbformat": 4,
 "nbformat_minor": 2
}
