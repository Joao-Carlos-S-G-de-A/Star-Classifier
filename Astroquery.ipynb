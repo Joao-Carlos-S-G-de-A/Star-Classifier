{
 "cells": [
  {
   "cell_type": "markdown",
   "metadata": {},
   "source": [
    "Experimenting with Astroquery"
   ]
  },
  {
   "cell_type": "code",
   "execution_count": 9,
   "metadata": {},
   "outputs": [],
   "source": [
    "from astroquery.simbad import Simbad\n",
    "from astropy.coordinates import SkyCoord\n",
    "import numpy as np"
   ]
  },
  {
   "cell_type": "code",
   "execution_count": 2,
   "metadata": {},
   "outputs": [
    {
     "name": "stdout",
     "output_type": "stream",
     "text": [
      "*: Any string of characters (including an empty one)\n",
      "?: Any character (exactly one character)\n",
      "[abc]: Exactly one character taken in the list. Can also be defined by a range of characters: [A-Z]\n",
      "[^0-9]: Any (one) character not in the list.\n"
     ]
    }
   ],
   "source": [
    "Simbad().list_wildcards()"
   ]
  },
  {
   "cell_type": "code",
   "execution_count": 3,
   "metadata": {},
   "outputs": [
    {
     "name": "stdout",
     "output_type": "stream",
     "text": [
      "        main_id                  ra         ...     coo_bibcode    \n",
      "                                deg         ...                    \n",
      "------------------------ ------------------ ... -------------------\n",
      "          GB6 B0939+6922 145.92374999999998 ... 1996ApJS..103..427G\n",
      "         [SPD2011] 15887           147.1191 ... 2011ApJ...736...21S\n",
      "                  WK 179             146.04 ...                    \n",
      "     NVSS J094827+692639 147.11587500000002 ... 2014ApJS..213....3M\n",
      "          GB6 B0936+6914  145.2158333333333 ... 1996ApJS..103..427G\n",
      "         TYC 4383-1530-1    144.77519423235 ... 2020yCat.1350....0G\n",
      "         TYC 4383-1694-1    145.69216157341 ... 2020yCat.1350....0G\n",
      "                G 235-38     146.1323095733 ... 2020yCat.1350....0G\n",
      "          TYC 4383-372-1    146.97835722817 ... 2020yCat.1350....0G\n",
      "GPM 147.503675+69.433140    147.50351244872 ... 2020yCat.1350....0G\n"
     ]
    }
   ],
   "source": [
    "# get 10 objects in a radius of 0.5° around M81\n",
    "simbad = Simbad()\n",
    "simbad.ROW_LIMIT = 10\n",
    "result_table = simbad.query_region(\"m81\", radius=\"55.5d\")\n",
    "print(result_table) "
   ]
  },
  {
   "cell_type": "code",
   "execution_count": 4,
   "metadata": {},
   "outputs": [],
   "source": [
    "printsave = np.array(Simbad.list_votable_fields()[[\"name\", \"description\"]])"
   ]
  },
  {
   "cell_type": "code",
   "execution_count": 10,
   "metadata": {},
   "outputs": [
    {
     "name": "stdout",
     "output_type": "stream",
     "text": [
      "          main_id                    ra         ... otype plx_value\n",
      "                                    deg         ...          mas   \n",
      "---------------------------- ------------------ ... ----- ---------\n",
      "     2MASS J05443173+0912459      86.1322393154 ...   Y*O    1.3021\n",
      "     2MASS J05484868+1020286     87.20284830913 ...   Y*O    1.5938\n",
      "       CRTS J182214.8-540825 275.56161211834916 ...   RR*     0.044\n",
      "Gaia DR3 6652725606444204800  275.5616105570904 ...   RR*    1.2596\n",
      "       CRTS J143012.9-082355 217.55391979307998 ...   RR*        --\n",
      "        OGLE BLG-RRLYR-14292    272.12152392047 ...   RR*    0.4567\n",
      "        OGLE BLG-RRLYR-14162    272.04953798898 ...   RR*    0.5575\n",
      "Gaia DR2 5213068438726194944    117.93527581042 ...   RR*    0.1379\n",
      "       CRTS J120653.6-452626 181.72440501324579 ...   RR*    0.3253\n",
      "                         ...                ... ...   ...       ...\n",
      "             NGC  2420   118    114.59149058601 ...   HB*    0.4018\n",
      "             NGC  2420   114     114.5895369161 ...   HB*    0.4065\n",
      "             NGC  2420    76 114.56455737632666 ...   HB*    0.4099\n",
      "             NGC  2420   119 114.59201823056999 ...   HB*    0.4013\n",
      "Gaia DR2 3341819155719698816     90.71375957749 ...   BS*    0.1845\n",
      "Gaia DR2 3341820117792344832     90.71182759493 ...   BS*    0.2555\n",
      "Gaia DR2 3341839187447096192     90.66789285269 ...   BS*    0.2432\n",
      "            UCAC4 503-019160     90.68470140235 ...   BS*    0.1875\n",
      "Gaia DR2 3341722428757461120     90.55386422987 ...   BS*     0.134\n",
      "Gaia DR2 3341722467415039872     90.57169341779 ...   BS*    0.1589\n",
      "Length = 847464 rows\n"
     ]
    }
   ],
   "source": [
    "# Initialize SIMBAD\n",
    "simbad = Simbad()\n",
    "simbad.ROW_LIMIT = -1\n",
    "simbad.add_votable_fields( \"plx_value\", \"V\", \"I\", \"J\", \"H\", \"K\",\"G\", \"pmdec\", \"pmra\", \"hpx\", \"otype\")\n",
    "\n",
    "# Define coordinates (random)\n",
    "coordinates = SkyCoord(135.9, -65.3, unit=(\"deg\", \"deg\"))\n",
    "\n",
    "# Query region\n",
    "result = simbad.query_region(coordinates, radius=\"90d0m\",\n",
    "                             criteria=\"otype = 'Ma*..' OR otype = 'MS*..' OR otype = 'Y*O..' OR otype = 'Ev*..' \")\n",
    "\n",
    "print(result)\n",
    "preresult = np.array(result)"
   ]
  },
  {
   "cell_type": "code",
   "execution_count": 12,
   "metadata": {},
   "outputs": [
    {
     "name": "stdout",
     "output_type": "stream",
     "text": [
      "                        main_id          ra        dec  plx_value          V  \\\n",
      "24                  CD-38 10980  245.890992 -39.229489    77.4545  11.029000   \n",
      "26                   [DM99] 130   82.752003  11.527071     1.9311  15.640000   \n",
      "33      2MASS J05385038-0226477   84.709919  -2.446588     2.5374  16.790001   \n",
      "58           OGLE BLG-LPV-38562  266.809556 -37.457249     0.0608  15.488000   \n",
      "59           OGLE BLG-LPV-39253  266.840483 -37.174167     0.0111  16.325001   \n",
      "...                         ...         ...        ...        ...        ...   \n",
      "847447  2MASS J07381507+2134589  114.562772  21.583059     0.3994  11.290000   \n",
      "847449          NGC  2420    41  114.526148  21.615066     0.4065  12.600000   \n",
      "847450          NGC  2420    34  114.522707  21.614069     0.3998  13.060000   \n",
      "847452          NGC  2420   192  114.624370  21.580800     0.4346  12.940000   \n",
      "847455          NGC  2420   114  114.589537  21.584743     0.4065  13.103000   \n",
      "\n",
      "             I       J       H       K        G  pmdec    pmra       hpx otype  \n",
      "24      10.841  11.577  11.708  11.768  11.0004  0.386  77.398  10946741   WD*  \n",
      "26      13.490  12.167  11.436  11.212  14.7637  0.172   0.084   6076575   Y*O  \n",
      "33      14.050  12.502  11.836  11.542  15.6906  1.802   2.088   5850767   TT*  \n",
      "58      11.976   9.769   8.673   8.357  13.4994 -8.998  -2.950   7348802   LP*  \n",
      "59      12.614  10.259   9.262   8.841  14.1832 -6.930  -4.724   7348815   LP*  \n",
      "...        ...     ...     ...     ...      ...    ...     ...       ...   ...  \n",
      "847447   9.660   8.572   7.854   7.687  10.5738 -2.052  -1.229   1574155   RG*  \n",
      "847449  11.590  10.781  10.198  10.125  12.3728 -1.979  -1.230   1574155   HB*  \n",
      "847450  12.080  11.258  10.755  10.651  12.8004 -1.892  -1.299   1574155   HB*  \n",
      "847452  11.910  11.107  10.592  10.475  12.6618 -1.812  -1.194   1574156   HB*  \n",
      "847455  12.100  11.345  10.805  10.707  12.8335 -1.852  -1.325   1574156   HB*  \n",
      "\n",
      "[84674 rows x 14 columns]\n"
     ]
    }
   ],
   "source": [
    "filtered_result = result[\"main_id\", \"ra\", \"dec\", \"plx_value\", \"V\", \"I\", \"J\", \"H\", \"K\",\"G\", \"pmdec\", \"pmra\", \"hpx\", \"otype\"]\n",
    "\n",
    "# Convert result to a Pandas DataFrame\n",
    "result_df = filtered_result.to_pandas()\n",
    "\n",
    "# Remove rows with any NULL values\n",
    "filtered_result = result_df.dropna()\n",
    "\n",
    "# Display the filtered result\n",
    "print(filtered_result)\n",
    "\n",
    "#Save as np array\n",
    "FirstData = filtered_result.to_numpy()\n",
    "\n",
    "np.save(\"FirstData\", FirstData)"
   ]
  },
  {
   "cell_type": "code",
   "execution_count": 7,
   "metadata": {},
   "outputs": [],
   "source": [
    "#filtered_result = result[result[\"plx_value\"].mask == False]\n"
   ]
  },
  {
   "cell_type": "code",
   "execution_count": 8,
   "metadata": {},
   "outputs": [],
   "source": [
    "listvotablefield =  np.array(Simbad.list_votable_fields())"
   ]
  }
 ],
 "metadata": {
  "kernelspec": {
   "display_name": "Python 3",
   "language": "python",
   "name": "python3"
  },
  "language_info": {
   "codemirror_mode": {
    "name": "ipython",
    "version": 3
   },
   "file_extension": ".py",
   "mimetype": "text/x-python",
   "name": "python",
   "nbconvert_exporter": "python",
   "pygments_lexer": "ipython3",
   "version": "3.11.9"
  }
 },
 "nbformat": 4,
 "nbformat_minor": 2
}
