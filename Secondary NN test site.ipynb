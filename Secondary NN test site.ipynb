{
 "cells": [
  {
   "cell_type": "markdown",
   "metadata": {},
   "source": [
    "# Welcome to the second Grandest Soton NN test site"
   ]
  },
  {
   "cell_type": "code",
   "execution_count": 17,
   "metadata": {},
   "outputs": [],
   "source": [
    "import torch\n",
    "import torch.nn as nn\n",
    "import torch.optim as optim\n",
    "from torch.utils.data import DataLoader, TensorDataset\n",
    "from sklearn.model_selection import train_test_split\n",
    "from sklearn.preprocessing import StandardScaler, LabelEncoder\n",
    "import numpy as np\n",
    "from tqdm import tqdm\n",
    "from sklearn.metrics import classification_report, confusion_matrix\n",
    "import matplotlib.pyplot as plt\n",
    "import seaborn as sns\n",
    "import torchmetrics"
   ]
  },
  {
   "cell_type": "code",
   "execution_count": 19,
   "metadata": {},
   "outputs": [
    {
     "name": "stderr",
     "output_type": "stream",
     "text": [
      "C:\\Users\\jcwin\\AppData\\Local\\Packages\\PythonSoftwareFoundation.Python.3.11_qbz5n2kfra8p0\\LocalCache\\local-packages\\Python311\\site-packages\\sklearn\\preprocessing\\_label.py:114: DataConversionWarning: A column-vector y was passed when a 1d array was expected. Please change the shape of y to (n_samples, ), for example using ravel().\n",
      "  y = column_or_1d(y, warn=True)\n",
      "C:\\Users\\jcwin\\AppData\\Local\\Packages\\PythonSoftwareFoundation.Python.3.11_qbz5n2kfra8p0\\LocalCache\\local-packages\\Python311\\site-packages\\torch\\optim\\lr_scheduler.py:60: UserWarning: The verbose parameter is deprecated. Please use get_last_lr() to access the learning rate.\n",
      "  warnings.warn(\n"
     ]
    },
    {
     "name": "stdout",
     "output_type": "stream",
     "text": [
      "Running on CPU\n"
     ]
    },
    {
     "name": "stderr",
     "output_type": "stream",
     "text": [
      "Epoch 1/200: 100%|██████████| 10553/10553 [00:32<00:00, 322.73batch/s, Loss=0.8539]\n"
     ]
    },
    {
     "name": "stdout",
     "output_type": "stream",
     "text": [
      "\n",
      "Validation Loss after Epoch 1: 0.7969\n",
      "Test Accuracy after Epoch 1: 0.6794\n"
     ]
    },
    {
     "name": "stderr",
     "output_type": "stream",
     "text": [
      "Epoch 2/200: 100%|██████████| 10553/10553 [00:31<00:00, 333.85batch/s, Loss=0.7563]\n"
     ]
    },
    {
     "name": "stdout",
     "output_type": "stream",
     "text": [
      "\n",
      "Validation Loss after Epoch 2: 0.7658\n",
      "Test Accuracy after Epoch 2: 0.6848\n"
     ]
    },
    {
     "name": "stderr",
     "output_type": "stream",
     "text": [
      "Epoch 3/200: 100%|██████████| 10553/10553 [00:32<00:00, 323.31batch/s, Loss=0.7168]\n"
     ]
    },
    {
     "name": "stdout",
     "output_type": "stream",
     "text": [
      "\n",
      "Validation Loss after Epoch 3: 0.6477\n",
      "Test Accuracy after Epoch 3: 0.7476\n"
     ]
    },
    {
     "name": "stderr",
     "output_type": "stream",
     "text": [
      "Epoch 4/200: 100%|██████████| 10553/10553 [00:33<00:00, 311.43batch/s, Loss=0.7015]\n"
     ]
    },
    {
     "name": "stdout",
     "output_type": "stream",
     "text": [
      "\n",
      "Validation Loss after Epoch 4: 0.6765\n",
      "Test Accuracy after Epoch 4: 0.6970\n"
     ]
    },
    {
     "name": "stderr",
     "output_type": "stream",
     "text": [
      "Epoch 5/200: 100%|██████████| 10553/10553 [00:31<00:00, 332.54batch/s, Loss=0.6814]\n"
     ]
    },
    {
     "name": "stdout",
     "output_type": "stream",
     "text": [
      "\n",
      "Validation Loss after Epoch 5: 0.6792\n",
      "Test Accuracy after Epoch 5: 0.7098\n"
     ]
    },
    {
     "name": "stderr",
     "output_type": "stream",
     "text": [
      "Epoch 6/200: 100%|██████████| 10553/10553 [00:33<00:00, 312.70batch/s, Loss=0.6752]\n"
     ]
    },
    {
     "name": "stdout",
     "output_type": "stream",
     "text": [
      "\n",
      "Validation Loss after Epoch 6: 0.6992\n",
      "Test Accuracy after Epoch 6: 0.7084\n"
     ]
    },
    {
     "name": "stderr",
     "output_type": "stream",
     "text": [
      "Epoch 7/200: 100%|██████████| 10553/10553 [00:33<00:00, 316.03batch/s, Loss=0.6740]\n"
     ]
    },
    {
     "name": "stdout",
     "output_type": "stream",
     "text": [
      "\n",
      "Validation Loss after Epoch 7: 0.6652\n",
      "Test Accuracy after Epoch 7: 0.7362\n"
     ]
    },
    {
     "name": "stderr",
     "output_type": "stream",
     "text": [
      "Epoch 8/200: 100%|██████████| 10553/10553 [00:32<00:00, 325.29batch/s, Loss=0.5665]\n"
     ]
    },
    {
     "name": "stdout",
     "output_type": "stream",
     "text": [
      "\n",
      "Validation Loss after Epoch 8: 0.5506\n",
      "Test Accuracy after Epoch 8: 0.7931\n"
     ]
    },
    {
     "name": "stderr",
     "output_type": "stream",
     "text": [
      "Epoch 9/200: 100%|██████████| 10553/10553 [00:34<00:00, 308.73batch/s, Loss=0.5452]\n"
     ]
    },
    {
     "name": "stdout",
     "output_type": "stream",
     "text": [
      "\n",
      "Validation Loss after Epoch 9: 0.5332\n",
      "Test Accuracy after Epoch 9: 0.7936\n"
     ]
    },
    {
     "name": "stderr",
     "output_type": "stream",
     "text": [
      "Epoch 10/200: 100%|██████████| 10553/10553 [00:33<00:00, 316.44batch/s, Loss=0.5347]\n"
     ]
    },
    {
     "name": "stdout",
     "output_type": "stream",
     "text": [
      "\n",
      "Validation Loss after Epoch 10: 0.5302\n",
      "Test Accuracy after Epoch 10: 0.7948\n"
     ]
    },
    {
     "name": "stderr",
     "output_type": "stream",
     "text": [
      "Epoch 11/200: 100%|██████████| 10553/10553 [00:33<00:00, 318.43batch/s, Loss=0.5288]\n"
     ]
    },
    {
     "name": "stdout",
     "output_type": "stream",
     "text": [
      "\n",
      "Validation Loss after Epoch 11: 0.5270\n",
      "Test Accuracy after Epoch 11: 0.7891\n"
     ]
    },
    {
     "name": "stderr",
     "output_type": "stream",
     "text": [
      "Epoch 12/200: 100%|██████████| 10553/10553 [00:34<00:00, 305.36batch/s, Loss=0.5231]\n"
     ]
    },
    {
     "name": "stdout",
     "output_type": "stream",
     "text": [
      "\n",
      "Validation Loss after Epoch 12: 0.5340\n",
      "Test Accuracy after Epoch 12: 0.7891\n"
     ]
    },
    {
     "name": "stderr",
     "output_type": "stream",
     "text": [
      "Epoch 13/200: 100%|██████████| 10553/10553 [00:33<00:00, 318.37batch/s, Loss=0.5182]\n"
     ]
    },
    {
     "name": "stdout",
     "output_type": "stream",
     "text": [
      "\n",
      "Validation Loss after Epoch 13: 0.5063\n",
      "Test Accuracy after Epoch 13: 0.8059\n"
     ]
    },
    {
     "name": "stderr",
     "output_type": "stream",
     "text": [
      "Epoch 14/200: 100%|██████████| 10553/10553 [00:34<00:00, 309.37batch/s, Loss=0.5182]\n"
     ]
    },
    {
     "name": "stdout",
     "output_type": "stream",
     "text": [
      "\n",
      "Validation Loss after Epoch 14: 0.5140\n",
      "Test Accuracy after Epoch 14: 0.7951\n"
     ]
    },
    {
     "name": "stderr",
     "output_type": "stream",
     "text": [
      "Epoch 15/200: 100%|██████████| 10553/10553 [00:34<00:00, 308.25batch/s, Loss=0.5115]\n"
     ]
    },
    {
     "name": "stdout",
     "output_type": "stream",
     "text": [
      "\n",
      "Validation Loss after Epoch 15: 0.5402\n",
      "Test Accuracy after Epoch 15: 0.7874\n"
     ]
    },
    {
     "name": "stderr",
     "output_type": "stream",
     "text": [
      "Epoch 16/200: 100%|██████████| 10553/10553 [00:34<00:00, 302.15batch/s, Loss=0.5132]\n"
     ]
    },
    {
     "name": "stdout",
     "output_type": "stream",
     "text": [
      "\n",
      "Validation Loss after Epoch 16: 0.5051\n",
      "Test Accuracy after Epoch 16: 0.8019\n"
     ]
    },
    {
     "name": "stderr",
     "output_type": "stream",
     "text": [
      "Epoch 17/200: 100%|██████████| 10553/10553 [00:37<00:00, 280.10batch/s, Loss=0.5116]\n"
     ]
    },
    {
     "name": "stdout",
     "output_type": "stream",
     "text": [
      "\n",
      "Validation Loss after Epoch 17: 0.5101\n",
      "Test Accuracy after Epoch 17: 0.8036\n"
     ]
    },
    {
     "name": "stderr",
     "output_type": "stream",
     "text": [
      "Epoch 18/200: 100%|██████████| 10553/10553 [00:33<00:00, 313.19batch/s, Loss=0.5053]\n"
     ]
    },
    {
     "name": "stdout",
     "output_type": "stream",
     "text": [
      "\n",
      "Validation Loss after Epoch 18: 0.5657\n",
      "Test Accuracy after Epoch 18: 0.7769\n"
     ]
    },
    {
     "name": "stderr",
     "output_type": "stream",
     "text": [
      "Epoch 19/200: 100%|██████████| 10553/10553 [00:31<00:00, 340.31batch/s, Loss=0.5069]\n"
     ]
    },
    {
     "name": "stdout",
     "output_type": "stream",
     "text": [
      "\n",
      "Validation Loss after Epoch 19: 0.5062\n",
      "Test Accuracy after Epoch 19: 0.8059\n"
     ]
    },
    {
     "name": "stderr",
     "output_type": "stream",
     "text": [
      "Epoch 20/200: 100%|██████████| 10553/10553 [00:33<00:00, 317.74batch/s, Loss=0.5070]\n"
     ]
    },
    {
     "name": "stdout",
     "output_type": "stream",
     "text": [
      "\n",
      "Validation Loss after Epoch 20: 0.5197\n",
      "Test Accuracy after Epoch 20: 0.7936\n"
     ]
    },
    {
     "name": "stderr",
     "output_type": "stream",
     "text": [
      "Epoch 21/200: 100%|██████████| 10553/10553 [00:33<00:00, 317.16batch/s, Loss=0.4582]\n"
     ]
    },
    {
     "name": "stdout",
     "output_type": "stream",
     "text": [
      "\n",
      "Validation Loss after Epoch 21: 0.4778\n",
      "Test Accuracy after Epoch 21: 0.8135\n"
     ]
    },
    {
     "name": "stderr",
     "output_type": "stream",
     "text": [
      "Epoch 22/200: 100%|██████████| 10553/10553 [00:31<00:00, 338.40batch/s, Loss=0.4454]\n"
     ]
    },
    {
     "name": "stdout",
     "output_type": "stream",
     "text": [
      "\n",
      "Validation Loss after Epoch 22: 0.4743\n",
      "Test Accuracy after Epoch 22: 0.8184\n"
     ]
    },
    {
     "name": "stderr",
     "output_type": "stream",
     "text": [
      "Epoch 23/200: 100%|██████████| 10553/10553 [00:33<00:00, 316.53batch/s, Loss=0.4424]\n"
     ]
    },
    {
     "name": "stdout",
     "output_type": "stream",
     "text": [
      "\n",
      "Validation Loss after Epoch 23: 0.4722\n",
      "Test Accuracy after Epoch 23: 0.8172\n"
     ]
    },
    {
     "name": "stderr",
     "output_type": "stream",
     "text": [
      "Epoch 24/200: 100%|██████████| 10553/10553 [00:33<00:00, 319.12batch/s, Loss=0.4400]\n"
     ]
    },
    {
     "name": "stdout",
     "output_type": "stream",
     "text": [
      "\n",
      "Validation Loss after Epoch 24: 0.4765\n",
      "Test Accuracy after Epoch 24: 0.8181\n"
     ]
    },
    {
     "name": "stderr",
     "output_type": "stream",
     "text": [
      "Epoch 25/200: 100%|██████████| 10553/10553 [00:31<00:00, 331.99batch/s, Loss=0.4377]\n"
     ]
    },
    {
     "name": "stdout",
     "output_type": "stream",
     "text": [
      "\n",
      "Validation Loss after Epoch 25: 0.4690\n",
      "Test Accuracy after Epoch 25: 0.8198\n"
     ]
    },
    {
     "name": "stderr",
     "output_type": "stream",
     "text": [
      "Epoch 26/200: 100%|██████████| 10553/10553 [00:33<00:00, 314.11batch/s, Loss=0.4353]\n"
     ]
    },
    {
     "name": "stdout",
     "output_type": "stream",
     "text": [
      "\n",
      "Validation Loss after Epoch 26: 0.4677\n",
      "Test Accuracy after Epoch 26: 0.8198\n"
     ]
    },
    {
     "name": "stderr",
     "output_type": "stream",
     "text": [
      "Epoch 27/200: 100%|██████████| 10553/10553 [00:32<00:00, 325.59batch/s, Loss=0.4339]\n"
     ]
    },
    {
     "name": "stdout",
     "output_type": "stream",
     "text": [
      "\n",
      "Validation Loss after Epoch 27: 0.4701\n",
      "Test Accuracy after Epoch 27: 0.8169\n"
     ]
    },
    {
     "name": "stderr",
     "output_type": "stream",
     "text": [
      "Epoch 28/200: 100%|██████████| 10553/10553 [00:32<00:00, 327.06batch/s, Loss=0.4332]\n"
     ]
    },
    {
     "name": "stdout",
     "output_type": "stream",
     "text": [
      "\n",
      "Validation Loss after Epoch 28: 0.4672\n",
      "Test Accuracy after Epoch 28: 0.8186\n"
     ]
    },
    {
     "name": "stderr",
     "output_type": "stream",
     "text": [
      "Epoch 29/200: 100%|██████████| 10553/10553 [00:33<00:00, 315.40batch/s, Loss=0.4297]\n"
     ]
    },
    {
     "name": "stdout",
     "output_type": "stream",
     "text": [
      "\n",
      "Validation Loss after Epoch 29: 0.4847\n",
      "Test Accuracy after Epoch 29: 0.8104\n"
     ]
    },
    {
     "name": "stderr",
     "output_type": "stream",
     "text": [
      "Epoch 30/200: 100%|██████████| 10553/10553 [00:32<00:00, 324.98batch/s, Loss=0.4302]\n"
     ]
    },
    {
     "name": "stdout",
     "output_type": "stream",
     "text": [
      "\n",
      "Validation Loss after Epoch 30: 0.4824\n",
      "Test Accuracy after Epoch 30: 0.8135\n"
     ]
    },
    {
     "name": "stderr",
     "output_type": "stream",
     "text": [
      "Epoch 31/200: 100%|██████████| 10553/10553 [00:32<00:00, 327.90batch/s, Loss=0.4282]\n"
     ]
    },
    {
     "name": "stdout",
     "output_type": "stream",
     "text": [
      "\n",
      "Validation Loss after Epoch 31: 0.4712\n",
      "Test Accuracy after Epoch 31: 0.8204\n"
     ]
    },
    {
     "name": "stderr",
     "output_type": "stream",
     "text": [
      "Epoch 32/200: 100%|██████████| 10553/10553 [00:33<00:00, 313.13batch/s, Loss=0.4267]\n"
     ]
    },
    {
     "name": "stdout",
     "output_type": "stream",
     "text": [
      "\n",
      "Validation Loss after Epoch 32: 0.4711\n",
      "Test Accuracy after Epoch 32: 0.8167\n"
     ]
    },
    {
     "name": "stderr",
     "output_type": "stream",
     "text": [
      "Epoch 33/200: 100%|██████████| 10553/10553 [00:31<00:00, 331.59batch/s, Loss=0.4122]\n"
     ]
    },
    {
     "name": "stdout",
     "output_type": "stream",
     "text": [
      "\n",
      "Validation Loss after Epoch 33: 0.4619\n",
      "Test Accuracy after Epoch 33: 0.8198\n"
     ]
    },
    {
     "name": "stderr",
     "output_type": "stream",
     "text": [
      "Epoch 34/200: 100%|██████████| 10553/10553 [00:32<00:00, 320.50batch/s, Loss=0.4104]\n"
     ]
    },
    {
     "name": "stdout",
     "output_type": "stream",
     "text": [
      "\n",
      "Validation Loss after Epoch 34: 0.4644\n",
      "Test Accuracy after Epoch 34: 0.8209\n"
     ]
    },
    {
     "name": "stderr",
     "output_type": "stream",
     "text": [
      "Epoch 35/200: 100%|██████████| 10553/10553 [00:33<00:00, 317.16batch/s, Loss=0.4092]\n"
     ]
    },
    {
     "name": "stdout",
     "output_type": "stream",
     "text": [
      "\n",
      "Validation Loss after Epoch 35: 0.4611\n",
      "Test Accuracy after Epoch 35: 0.8215\n"
     ]
    },
    {
     "name": "stderr",
     "output_type": "stream",
     "text": [
      "Epoch 36/200: 100%|██████████| 10553/10553 [00:31<00:00, 338.06batch/s, Loss=0.4089]\n"
     ]
    },
    {
     "name": "stdout",
     "output_type": "stream",
     "text": [
      "\n",
      "Validation Loss after Epoch 36: 0.4654\n",
      "Test Accuracy after Epoch 36: 0.8218\n"
     ]
    },
    {
     "name": "stderr",
     "output_type": "stream",
     "text": [
      "Epoch 37/200: 100%|██████████| 10553/10553 [00:33<00:00, 319.47batch/s, Loss=0.4083]\n"
     ]
    },
    {
     "name": "stdout",
     "output_type": "stream",
     "text": [
      "\n",
      "Validation Loss after Epoch 37: 0.4653\n",
      "Test Accuracy after Epoch 37: 0.8226\n"
     ]
    },
    {
     "name": "stderr",
     "output_type": "stream",
     "text": [
      "Epoch 38/200: 100%|██████████| 10553/10553 [00:33<00:00, 313.04batch/s, Loss=0.4073]\n"
     ]
    },
    {
     "name": "stdout",
     "output_type": "stream",
     "text": [
      "\n",
      "Validation Loss after Epoch 38: 0.4644\n",
      "Test Accuracy after Epoch 38: 0.8218\n"
     ]
    },
    {
     "name": "stderr",
     "output_type": "stream",
     "text": [
      "Epoch 39/200: 100%|██████████| 10553/10553 [00:30<00:00, 344.08batch/s, Loss=0.4068]\n"
     ]
    },
    {
     "name": "stdout",
     "output_type": "stream",
     "text": [
      "\n",
      "Validation Loss after Epoch 39: 0.4632\n",
      "Test Accuracy after Epoch 39: 0.8221\n"
     ]
    },
    {
     "name": "stderr",
     "output_type": "stream",
     "text": [
      "Epoch 40/200: 100%|██████████| 10553/10553 [00:33<00:00, 316.05batch/s, Loss=0.4034]\n"
     ]
    },
    {
     "name": "stdout",
     "output_type": "stream",
     "text": [
      "\n",
      "Validation Loss after Epoch 40: 0.4631\n",
      "Test Accuracy after Epoch 40: 0.8209\n"
     ]
    },
    {
     "name": "stderr",
     "output_type": "stream",
     "text": [
      "Epoch 41/200: 100%|██████████| 10553/10553 [00:34<00:00, 306.99batch/s, Loss=0.4027]\n"
     ]
    },
    {
     "name": "stdout",
     "output_type": "stream",
     "text": [
      "\n",
      "Validation Loss after Epoch 41: 0.4634\n",
      "Test Accuracy after Epoch 41: 0.8215\n"
     ]
    },
    {
     "name": "stderr",
     "output_type": "stream",
     "text": [
      "Epoch 42/200: 100%|██████████| 10553/10553 [00:30<00:00, 341.39batch/s, Loss=0.4026]\n"
     ]
    },
    {
     "name": "stdout",
     "output_type": "stream",
     "text": [
      "\n",
      "Validation Loss after Epoch 42: 0.4639\n",
      "Test Accuracy after Epoch 42: 0.8229\n"
     ]
    },
    {
     "name": "stderr",
     "output_type": "stream",
     "text": [
      "Epoch 43/200: 100%|██████████| 10553/10553 [00:33<00:00, 315.59batch/s, Loss=0.4023]\n"
     ]
    },
    {
     "name": "stdout",
     "output_type": "stream",
     "text": [
      "\n",
      "Validation Loss after Epoch 43: 0.4636\n",
      "Test Accuracy after Epoch 43: 0.8218\n"
     ]
    },
    {
     "name": "stderr",
     "output_type": "stream",
     "text": [
      "Epoch 44/200: 100%|██████████| 10553/10553 [00:34<00:00, 310.19batch/s, Loss=0.4012]\n"
     ]
    },
    {
     "name": "stdout",
     "output_type": "stream",
     "text": [
      "\n",
      "Validation Loss after Epoch 44: 0.4634\n",
      "Test Accuracy after Epoch 44: 0.8215\n"
     ]
    },
    {
     "name": "stderr",
     "output_type": "stream",
     "text": [
      "Epoch 45/200: 100%|██████████| 10553/10553 [00:30<00:00, 341.36batch/s, Loss=0.4012]\n"
     ]
    },
    {
     "name": "stdout",
     "output_type": "stream",
     "text": [
      "\n",
      "Validation Loss after Epoch 45: 0.4636\n",
      "Test Accuracy after Epoch 45: 0.8215\n"
     ]
    },
    {
     "name": "stderr",
     "output_type": "stream",
     "text": [
      "Epoch 46/200: 100%|██████████| 10553/10553 [00:33<00:00, 315.40batch/s, Loss=0.4011]\n"
     ]
    },
    {
     "name": "stdout",
     "output_type": "stream",
     "text": [
      "\n",
      "Validation Loss after Epoch 46: 0.4638\n",
      "Early stopping\n"
     ]
    }
   ],
   "source": [
    "# Choose parameters\n",
    "size_batch = 1\n",
    "learning_rate = 0.004\n",
    "epochs = 200\n",
    "early_stopping_patience = 13\n",
    "scheduler_factor = 0.21\n",
    "gpu_TF = False\n",
    "\n",
    "# Load the data\n",
    "FirstData = np.load(\"equal_data_high_otype.npy\", allow_pickle=True)\n",
    "\n",
    "# Check for GPU\n",
    "if gpu_TF:\n",
    "    device = torch.device('cuda' if torch.cuda.is_available() else 'cpu')\n",
    "    print(\"Running on \", device)\n",
    "else:\n",
    "    device = torch.device('cpu')\n",
    "    print(\"Running on CPU\")\n",
    "\n",
    "# Split the data into features and labels\n",
    "X = FirstData[:, 1:-1]  # All columns except the last one and first one\n",
    "y = FirstData[:, -1]    # The last column\n",
    "ypreencode = y\n",
    "\n",
    "# Use LabelEncoder instead of OneHotEncoder\n",
    "encoder = LabelEncoder()\n",
    "y = encoder.fit_transform(y.reshape(-1, 1))\n",
    "\n",
    "# Convert y to a PyTorch tensor and move to the GPU (if available)\n",
    "y = torch.tensor(y, dtype=torch.long).to(device)\n",
    "\n",
    "# Split the data into training and testing sets\n",
    "X_train, X_test, y_train, y_test = train_test_split(X, y.cpu().numpy(), test_size=0.25, random_state=42)\n",
    "\n",
    "# Standardize the data\n",
    "scaler = StandardScaler()\n",
    "X_train = scaler.fit_transform(X_train)\n",
    "X_test = scaler.transform(X_test)\n",
    "\n",
    "# Convert the data to PyTorch tensors\n",
    "X_train_tensor = torch.tensor(X_train, dtype=torch.float32).to(device)\n",
    "X_test_tensor = torch.tensor(X_test, dtype=torch.float32).to(device)\n",
    "y_train_tensor = torch.tensor(y_train, dtype=torch.long).to(device)\n",
    "y_test_tensor = torch.tensor(y_test, dtype=torch.long).to(device)\n",
    "\n",
    "# Create PyTorch Datasets and DataLoaders\n",
    "train_dataset = TensorDataset(X_train_tensor, y_train_tensor)\n",
    "test_dataset = TensorDataset(X_test_tensor, y_test_tensor)\n",
    "\n",
    "train_loader = DataLoader(train_dataset, batch_size=size_batch, shuffle=True)\n",
    "test_loader = DataLoader(test_dataset, batch_size=size_batch, shuffle=False)\n",
    "\n",
    "# Define the neural network model\n",
    "class NeuralNetwork(nn.Module):\n",
    "    def __init__(self, input_size, output_size):\n",
    "        super(NeuralNetwork, self).__init__()\n",
    "        self.fc1 = nn.Linear(input_size, 40)\n",
    "        self.fc2 = nn.Linear(40, 60)\n",
    "        self.fc3 = nn.Linear(60, 60)\n",
    "        self.fc4 = nn.Linear(60, 60)\n",
    "        self.fc5 = nn.Linear(60, output_size)\n",
    "        self.relu = nn.ReLU()\n",
    "    \n",
    "    def forward(self, x):\n",
    "        x = self.relu(self.fc1(x))\n",
    "        x = self.relu(self.fc2(x))\n",
    "        x = self.relu(self.fc3(x))\n",
    "        x = self.relu(self.fc4(x))\n",
    "        x = self.fc5(x)\n",
    "        return x\n",
    "\n",
    "# Calculate class weights\n",
    "class_counts = np.bincount(y_train_tensor.cpu().numpy())\n",
    "total_samples = sum(class_counts)\n",
    "class_weights = [total_samples / count for count in class_counts]\n",
    "class_weights = torch.tensor(np.clip(class_weights, 0, 100), dtype=torch.float32).to(device)\n",
    "\n",
    "# Initialize the model, loss function, and optimizer\n",
    "input_size = X_train.shape[1]\n",
    "output_size = len(np.unique(ypreencode))\n",
    "model = NeuralNetwork(input_size, output_size).to(device)\n",
    "criterion = nn.CrossEntropyLoss(weight=class_weights)\n",
    "optimizer = optim.AdamW(model.parameters(), lr=learning_rate)\n",
    "\n",
    "# Learning rate scheduler\n",
    "scheduler = optim.lr_scheduler.ReduceLROnPlateau(optimizer, mode='min', factor=scheduler_factor, patience=3, verbose=True)\n",
    "\n",
    "# Early stopping\n",
    "class EarlyStopping:\n",
    "    def __init__(self, patience=5, min_delta=0):\n",
    "        self.patience = patience\n",
    "        self.min_delta = min_delta\n",
    "        self.counter = 0\n",
    "        self.best_loss = None\n",
    "        self.early_stop = False\n",
    "\n",
    "    def __call__(self, val_loss):\n",
    "        if self.best_loss is None:\n",
    "            self.best_loss = val_loss\n",
    "        elif val_loss < self.best_loss - self.min_delta:\n",
    "            self.best_loss = val_loss\n",
    "            self.counter = 0\n",
    "        else:\n",
    "            self.counter += 1\n",
    "            if self.counter >= self.patience:\n",
    "                self.early_stop = True\n",
    "\n",
    "# Function to calculate accuracy\n",
    "def calculate_accuracy(loader, model):\n",
    "    model.eval()\n",
    "    correct = 0\n",
    "    total = 0\n",
    "    with torch.no_grad():\n",
    "        for X_batch, y_batch in loader:\n",
    "            outputs = model(X_batch)\n",
    "            _, predicted = torch.max(outputs.data, 1)\n",
    "            total += y_batch.size(0)\n",
    "            correct += (predicted == y_batch).sum().item()\n",
    "    return correct / total\n",
    "\n",
    "# Training the model with a loading bar, early stopping, and adaptive learning rate\n",
    "early_stopping = EarlyStopping(patience = early_stopping_patience, min_delta=0.001)\n",
    "for epoch in range(epochs):\n",
    "    model.train()\n",
    "    running_loss = 0.0\n",
    "\n",
    "    with tqdm(total=len(train_loader), desc=f'Epoch {epoch+1}/{epochs}', unit='batch') as pbar:\n",
    "        for X_batch, y_batch in train_loader:\n",
    "            optimizer.zero_grad()\n",
    "            outputs = model(X_batch)\n",
    "            loss = criterion(outputs, y_batch)\n",
    "            loss.backward()\n",
    "            optimizer.step()\n",
    "            running_loss += loss.item()\n",
    "            pbar.set_postfix({'Loss': f'{running_loss/len(train_loader):.4f}'})\n",
    "            pbar.update(1)\n",
    "\n",
    "    # Validate the model\n",
    "    model.eval()\n",
    "    val_loss = 0.0\n",
    "    with torch.no_grad():\n",
    "        for X_batch, y_batch in test_loader:\n",
    "            outputs = model(X_batch)\n",
    "            loss = criterion(outputs, y_batch)\n",
    "            val_loss += loss.item()\n",
    "\n",
    "    val_loss /= len(test_loader)\n",
    "    scheduler.step(val_loss)  # Step the scheduler\n",
    "    print(f'\\nValidation Loss after Epoch {epoch+1}: {val_loss:.4f}')\n",
    "\n",
    "    # Check early stopping\n",
    "    early_stopping(val_loss)\n",
    "    if early_stopping.early_stop:\n",
    "        print(\"Early stopping\")\n",
    "        break\n",
    "\n",
    "    # Calculate and print the test accuracy after each epoch\n",
    "    test_accuracy = calculate_accuracy(test_loader, model)\n",
    "    print(f'Test Accuracy after Epoch {epoch+1}: {test_accuracy:.4f}')\n"
   ]
  },
  {
   "cell_type": "code",
   "execution_count": 13,
   "metadata": {},
   "outputs": [
    {
     "name": "stdout",
     "output_type": "stream",
     "text": [
      "Classification Report:\n",
      "               precision    recall  f1-score   support\n",
      "\n",
      "         AGN       0.78      0.87      0.82       724\n",
      "         BIN       0.83      0.83      0.83       935\n",
      "         GAL       0.84      0.77      0.81       968\n",
      "        STAR       0.82      0.82      0.82       891\n",
      "\n",
      "    accuracy                           0.82      3518\n",
      "   macro avg       0.82      0.82      0.82      3518\n",
      "weighted avg       0.82      0.82      0.82      3518\n",
      "\n"
     ]
    },
    {
     "data": {
      "image/png": "[encoded data removed]",
      "text/plain": [
       "<Figure size 3000x3000 with 2 Axes>"
      ]
     },
     "metadata": {},
     "output_type": "display_data"
    }
   ],
   "source": [
    "# Load the saved model\n",
    "#model = NeuralNetwork(input_size, output_size).to(device)\n",
    "#model.load_state_dict(torch.load('star_classifier_Exp2.pth'))\n",
    "model.to(device)\n",
    "\n",
    "# Make predictions on the test set\n",
    "model.eval()\n",
    "all_preds = []\n",
    "all_labels = []\n",
    "with torch.no_grad():\n",
    "    for X_batch, y_batch in test_loader:\n",
    "        outputs = model(X_batch)\n",
    "        _, predicted = torch.max(outputs.data, 1)\n",
    "        # _, labels = torch.max(y_batch.data, 1)  # Remove this line\n",
    "        all_preds.extend(predicted.cpu().numpy())\n",
    "        all_labels.extend(y_batch.cpu().numpy())  # Just use y_batch directly\n",
    "\n",
    "# Get the unique labels from your predictions and true labels\n",
    "unique_labels = np.unique(all_labels)\n",
    "\n",
    "# Print the classification report for accuracy per category\n",
    "report = classification_report(all_labels, all_preds, labels=unique_labels, target_names=encoder.classes_[unique_labels])\n",
    "print(\"Classification Report:\\n\", report)\n",
    "\n",
    "\n",
    "# Generate the confusion matrix\n",
    "cm = confusion_matrix(all_labels, all_preds)\n",
    "\n",
    "# Plot the confusion matrix\n",
    "plt.figure(figsize=(30, 30))\n",
    "sns.set(font_scale=1.5)\n",
    "sns.heatmap(cm, annot=True, fmt='d', cmap='Blues', vmin=0, vmax=500, \n",
    "            xticklabels=encoder.classes_, yticklabels=encoder.classes_, \n",
    "            annot_kws={\"size\": 15})\n",
    "plt.xlabel('Predicted', fontsize=20)\n",
    "plt.ylabel('Actual', fontsize=20)\n",
    "plt.title('Confusion Matrix', fontsize=30)\n",
    "plt.xticks(fontsize=20)\n",
    "plt.yticks(fontsize=20)\n",
    "plt.show()\n"
   ]
  },
  {
   "cell_type": "markdown",
   "metadata": {},
   "source": [
    "# chatgpt improved"
   ]
  },
  {
   "cell_type": "code",
   "execution_count": 18,
   "metadata": {},
   "outputs": [
    {
     "name": "stdout",
     "output_type": "stream",
     "text": [
      "Running on CPU\n"
     ]
    },
    {
     "name": "stderr",
     "output_type": "stream",
     "text": [
      "C:\\Users\\jcwin\\AppData\\Local\\Packages\\PythonSoftwareFoundation.Python.3.11_qbz5n2kfra8p0\\LocalCache\\local-packages\\Python311\\site-packages\\torch\\optim\\lr_scheduler.py:60: UserWarning: The verbose parameter is deprecated. Please use get_last_lr() to access the learning rate.\n",
      "  warnings.warn(\n",
      "C:\\Users\\jcwin\\AppData\\Local\\Temp\\ipykernel_28248\\2849015572.py:117: FutureWarning: `torch.cuda.amp.GradScaler(args...)` is deprecated. Please use `torch.amp.GradScaler('cuda', args...)` instead.\n",
      "  scaler = torch.cuda.amp.GradScaler()\n"
     ]
    },
    {
     "ename": "TypeError",
     "evalue": "Accuracy.__new__() missing 1 required positional argument: 'task'",
     "output_type": "error",
     "traceback": [
      "\u001b[1;31m---------------------------------------------------------------------------\u001b[0m",
      "\u001b[1;31mTypeError\u001b[0m                                 Traceback (most recent call last)",
      "Cell \u001b[1;32mIn[18], line 120\u001b[0m\n\u001b[0;32m    117\u001b[0m scaler \u001b[38;5;241m=\u001b[39m torch\u001b[38;5;241m.\u001b[39mcuda\u001b[38;5;241m.\u001b[39mamp\u001b[38;5;241m.\u001b[39mGradScaler()\n\u001b[0;32m    119\u001b[0m \u001b[38;5;66;03m# Function to calculate accuracy using torchmetrics\u001b[39;00m\n\u001b[1;32m--> 120\u001b[0m accuracy_metric \u001b[38;5;241m=\u001b[39m \u001b[43mtorchmetrics\u001b[49m\u001b[38;5;241;43m.\u001b[39;49m\u001b[43mAccuracy\u001b[49m\u001b[43m(\u001b[49m\u001b[43m)\u001b[49m\u001b[38;5;241m.\u001b[39mto(device)\n\u001b[0;32m    122\u001b[0m \u001b[38;5;28;01mdef\u001b[39;00m \u001b[38;5;21mcalculate_accuracy\u001b[39m(loader, model):\n\u001b[0;32m    123\u001b[0m     model\u001b[38;5;241m.\u001b[39meval()\n",
      "\u001b[1;31mTypeError\u001b[0m: Accuracy.__new__() missing 1 required positional argument: 'task'"
     ]
    }
   ],
   "source": [
    "import torch\n",
    "import torch.nn as nn\n",
    "import torch.optim as optim\n",
    "import numpy as np\n",
    "from torch.utils.data import DataLoader, TensorDataset\n",
    "from sklearn.model_selection import train_test_split\n",
    "from sklearn.preprocessing import StandardScaler, LabelEncoder\n",
    "from tqdm import tqdm\n",
    "import torchmetrics\n",
    "\n",
    "# Parameters\n",
    "size_batch = 256\n",
    "learning_rate = 0.004\n",
    "epochs = 100\n",
    "early_stopping_patience = 8\n",
    "scheduler_factor = 0.21\n",
    "gpu_TF = False\n",
    "\n",
    "# Check for GPU\n",
    "if gpu_TF:\n",
    "    device = torch.device('cuda' if torch.cuda.is_available() else 'cpu')\n",
    "    print(\"Running on \", device)\n",
    "else:\n",
    "    device = torch.device('cpu')\n",
    "    print(\"Running on CPU\")\n",
    "    \n",
    "# Load the data\n",
    "FirstData = np.load(\"equal_data_high_otype.npy\", allow_pickle=True)\n",
    "\n",
    "# Split the data into features and labels\n",
    "X = FirstData[:, 1:-1]  # All columns except the last one and first one\n",
    "y = FirstData[:, -1]    # The last column\n",
    "\n",
    "# Use LabelEncoder instead of OneHotEncoder\n",
    "encoder = LabelEncoder()\n",
    "y = encoder.fit_transform(y)\n",
    "\n",
    "# Split the data into training and testing sets\n",
    "X_train, X_test, y_train, y_test = train_test_split(X, y, test_size=0.25, random_state=42)\n",
    "\n",
    "# Standardize the data\n",
    "scaler = StandardScaler()\n",
    "X_train = scaler.fit_transform(X_train)\n",
    "X_test = scaler.transform(X_test)\n",
    "\n",
    "# Convert to PyTorch tensors\n",
    "X_train_tensor = torch.tensor(X_train, dtype=torch.float32).to(device)\n",
    "X_test_tensor = torch.tensor(X_test, dtype=torch.float32).to(device)\n",
    "y_train_tensor = torch.tensor(y_train, dtype=torch.long).to(device)\n",
    "y_test_tensor = torch.tensor(y_test, dtype=torch.long).to(device)\n",
    "\n",
    "# Create DataLoader with pin_memory for faster data transfer to GPU\n",
    "train_loader = DataLoader(TensorDataset(X_train_tensor, y_train_tensor), batch_size=size_batch, shuffle=True, pin_memory=True)\n",
    "test_loader = DataLoader(TensorDataset(X_test_tensor, y_test_tensor), batch_size=size_batch, shuffle=False, pin_memory=True)\n",
    "\n",
    "# Define the neural network with Dropout for regularization\n",
    "class NeuralNetwork(nn.Module):\n",
    "    def __init__(self, input_size, output_size):\n",
    "        super(NeuralNetwork, self).__init__()\n",
    "        self.fc1 = nn.Linear(input_size, 40)\n",
    "        self.fc2 = nn.Linear(40, 60)\n",
    "        self.fc3 = nn.Linear(60, 60)\n",
    "        self.fc4 = nn.Linear(60, 60)\n",
    "        self.fc5 = nn.Linear(60, output_size)\n",
    "        self.relu = nn.ReLU()\n",
    "        self.dropout = nn.Dropout(0.3)\n",
    "\n",
    "    def forward(self, x):\n",
    "        x = self.relu(self.fc1(x))\n",
    "        x = self.dropout(self.relu(self.fc2(x)))\n",
    "        x = self.dropout(self.relu(self.fc3(x)))\n",
    "        x = self.dropout(self.relu(self.fc4(x)))\n",
    "        x = self.fc5(x)\n",
    "        return x\n",
    "\n",
    "# Initialize the model, loss function, and optimizer\n",
    "input_size = X_train.shape[1]\n",
    "output_size = len(np.unique(y))\n",
    "model = NeuralNetwork(input_size, output_size).to(device)\n",
    "\n",
    "# Calculate class weights and define loss function\n",
    "class_counts = np.bincount(y_train_tensor.cpu().numpy())\n",
    "class_weights = torch.tensor([len(y_train) / count for count in class_counts], dtype=torch.float32).to(device)\n",
    "criterion = nn.CrossEntropyLoss(weight=class_weights)\n",
    "\n",
    "# Use AdamW optimizer and learning rate scheduler\n",
    "optimizer = optim.AdamW(model.parameters(), lr=learning_rate)\n",
    "scheduler = optim.lr_scheduler.ReduceLROnPlateau(optimizer, mode='min', factor=scheduler_factor, patience=3, verbose=True)\n",
    "\n",
    "# Early stopping with model checkpointing\n",
    "class EarlyStopping:\n",
    "    def __init__(self, patience=5, min_delta=0, checkpoint_path=\"best_model.pth\"):\n",
    "        self.patience = patience\n",
    "        self.min_delta = min_delta\n",
    "        self.counter = 0\n",
    "        self.best_loss = None\n",
    "        self.early_stop = False\n",
    "        self.checkpoint_path = checkpoint_path\n",
    "\n",
    "    def __call__(self, val_loss, model):\n",
    "        if self.best_loss is None:\n",
    "            self.best_loss = val_loss\n",
    "            self.save_checkpoint(model)\n",
    "        elif val_loss < self.best_loss - self.min_delta:\n",
    "            self.best_loss = val_loss\n",
    "            self.counter = 0\n",
    "            self.save_checkpoint(model)\n",
    "        else:\n",
    "            self.counter += 1\n",
    "            if self.counter >= self.patience:\n",
    "                self.early_stop = True\n",
    "\n",
    "    def save_checkpoint(self, model):\n",
    "        torch.save(model.state_dict(), self.checkpoint_path)\n",
    "\n",
    "# Training with mixed precision\n",
    "scaler = torch.cuda.amp.GradScaler()\n",
    "\n",
    "# Function to calculate accuracy using torchmetrics\n",
    "accuracy_metric = torchmetrics.Accuracy().to(device)\n",
    "\n",
    "def calculate_accuracy(loader, model):\n",
    "    model.eval()\n",
    "    accuracy = torchmetrics.Accuracy().to(device)\n",
    "    with torch.no_grad():\n",
    "        for X_batch, y_batch in loader:\n",
    "            outputs = model(X_batch)\n",
    "            _, predicted = torch.max(outputs.data, 1)\n",
    "            accuracy.update(predicted, y_batch)\n",
    "    return accuracy.compute().item()\n",
    "\n",
    "# Training loop with early stopping and mixed precision\n",
    "early_stopping = EarlyStopping(patience=early_stopping_patience)\n",
    "\n",
    "for epoch in range(epochs):\n",
    "    model.train()\n",
    "    running_loss = 0.0\n",
    "\n",
    "    with tqdm(total=len(train_loader), desc=f'Epoch {epoch+1}/{epochs}', unit='batch') as pbar:\n",
    "        for X_batch, y_batch in train_loader:\n",
    "            optimizer.zero_grad()\n",
    "\n",
    "            with torch.cuda.amp.autocast():\n",
    "                outputs = model(X_batch)\n",
    "                loss = criterion(outputs, y_batch)\n",
    "\n",
    "            scaler.scale(loss).backward()\n",
    "            scaler.step(optimizer)\n",
    "            scaler.update()\n",
    "\n",
    "            running_loss += loss.item()\n",
    "            pbar.set_postfix({'Loss': f'{running_loss/len(train_loader):.4f}'})\n",
    "            pbar.update(1)\n",
    "\n",
    "    # Validation phase\n",
    "    model.eval()\n",
    "    val_loss = 0.0\n",
    "    with torch.no_grad():\n",
    "        for X_batch, y_batch in test_loader:\n",
    "            outputs = model(X_batch)\n",
    "            loss = criterion(outputs, y_batch)\n",
    "            val_loss += loss.item()\n",
    "\n",
    "    val_loss /= len(test_loader)\n",
    "    scheduler.step(val_loss)\n",
    "\n",
    "    # Print validation loss\n",
    "    print(f'Validation Loss after Epoch {epoch+1}: {val_loss:.4f}')\n",
    "\n",
    "    # Check early stopping\n",
    "    early_stopping(val_loss, model)\n",
    "    if early_stopping.early_stop:\n",
    "        print(\"Early stopping\")\n",
    "        break\n",
    "\n",
    "    # Calculate and print test accuracy\n",
    "    test_accuracy = calculate_accuracy(test_loader, model)\n",
    "    print(f'Test Accuracy after Epoch {epoch+1}: {test_accuracy:.4f}')\n",
    "\n",
    "# Load the best model after early stopping\n",
    "model.load_state_dict(torch.load(\"best_model.pth\"))\n"
   ]
  },
  {
   "cell_type": "code",
   "execution_count": null,
   "metadata": {},
   "outputs": [],
   "source": []
  }
 ],
 "metadata": {
  "kernelspec": {
   "display_name": "Python 3",
   "language": "python",
   "name": "python3"
  },
  "language_info": {
   "codemirror_mode": {
    "name": "ipython",
    "version": 3
   },
   "file_extension": ".py",
   "mimetype": "text/x-python",
   "name": "python",
   "nbconvert_exporter": "python",
   "pygments_lexer": "ipython3",
   "version": "3.11.9"
  }
 },
 "nbformat": 4,
 "nbformat_minor": 2
}
