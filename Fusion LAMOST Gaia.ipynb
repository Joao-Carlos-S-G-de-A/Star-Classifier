{
 "cells": [
  {
   "cell_type": "code",
   "execution_count": 25,
   "metadata": {},
   "outputs": [
    {
     "name": "stderr",
     "output_type": "stream",
     "text": [
      "2024/10/23 11:15:21 WARNING mlflow.utils.autologging_utils: MLflow pytorch autologging is known to be compatible with 1.9.0 <= torch <= 2.4.1, but the installed version is 2.4.1+cu124. If you encounter errors during autologging, try upgrading / downgrading torch to a compatible version, or try upgrading MLflow.\n",
      "2024/10/23 11:15:21 INFO mlflow.tracking.fluent: Experiment with name 'Fusion_Gaia_LAMOST' does not exist. Creating a new experiment.\n"
     ]
    },
    {
     "data": {
      "text/plain": [
       "<Experiment: artifact_location=('file:///C:/Users/jcwin/OneDrive - University of '\n",
       " 'Southampton/_Southampton/2024-25/Star-Classifier/mlflow/918667260302729975'), creation_time=1729678521924, experiment_id='918667260302729975', last_update_time=1729678521924, lifecycle_stage='active', name='Fusion_Gaia_LAMOST', tags={}>"
      ]
     },
     "execution_count": 25,
     "metadata": {},
     "output_type": "execute_result"
    }
   ],
   "source": [
    "import os\n",
    "import gc\n",
    "import torch\n",
    "import psutil\n",
    "import GPUtil\n",
    "import mlflow\n",
    "import tempfile\n",
    "import numpy as np\n",
    "import pandas as pd\n",
    "import mlflow.pytorch\n",
    "import torch.nn as nn\n",
    "import seaborn as sns\n",
    "import torch.optim as optim\n",
    "import matplotlib.pyplot as plt\n",
    "from torch.utils.data import Dataset, DataLoader\n",
    "from sklearn.model_selection import train_test_split\n",
    "from sklearn.metrics import confusion_matrix, accuracy_score, recall_score, f1_score, precision_score, classification_report\n",
    "\n",
    "# Check if GPU is available\n",
    "device = torch.device(\"cuda\" if torch.cuda.is_available() else \"cpu\")\n",
    "\n",
    "# Enable MLflow autologging for PyTorch\n",
    "mlflow.pytorch.autolog()\n",
    "mlflow.set_tracking_uri(uri=\"file:///C:/Users/jcwin/OneDrive - University of Southampton/_Southampton/2024-25/Star-Classifier/mlflow\")\n",
    "mlflow.set_experiment(\"Fusion_Gaia_LAMOST\")"
   ]
  },
  {
   "cell_type": "code",
   "execution_count": 3,
   "metadata": {},
   "outputs": [
    {
     "name": "stdout",
     "output_type": "stream",
     "text": [
      "Device:  cuda\n"
     ]
    }
   ],
   "source": [
    "# check cuda\n",
    "print(\"Device: \", device)"
   ]
  },
  {
   "cell_type": "code",
   "execution_count": 2,
   "metadata": {},
   "outputs": [],
   "source": [
    "class ConvNetFusion(nn.Module):\n",
    "    def __init__(self, input_shape, num_classes, gaia_input_size, \n",
    "                 num_filters=[128, 128, 128, 128, 128, 128, 128, 128], \n",
    "                 kernel_size=9,\n",
    "                 dense_units=[256, 256, 256, 128, 128, 128, 64, 64, 64],\n",
    "                 dropout_rate=0.2, \n",
    "                 gaia_fusion_units=512,\n",
    "                 padding='same'):\n",
    "        super(ConvNetFusion, self).__init__()\n",
    "        \n",
    "        self.conv_layers = nn.ModuleList()\n",
    "        self.pool_layers = nn.ModuleList()\n",
    "        in_channels = 1  # Since it's a 1D input\n",
    "        \n",
    "        # Add convolutional layers\n",
    "        for filters in num_filters:\n",
    "            conv_layer = nn.Conv1d(in_channels=in_channels, out_channels=filters, kernel_size=kernel_size, padding=kernel_size//2)\n",
    "            self.conv_layers.append(conv_layer)\n",
    "            self.pool_layers.append(nn.MaxPool1d(kernel_size=2))\n",
    "            self.dropout = nn.Dropout(dropout_rate)\n",
    "            in_channels = filters\n",
    "        \n",
    "        # Flatten the output\n",
    "        self.flatten = nn.Flatten()\n",
    "        final_seq_len = input_shape[0] // (2 ** len(num_filters)) * num_filters[-1]\n",
    "        print(\"Size of the flattened output:\", final_seq_len)\n",
    "\n",
    "        # Add Gaia features to the input\n",
    "        self.gaia_input_layer = nn.Linear(gaia_input_size, gaia_fusion_units)\n",
    "\n",
    "        # Add dense layers\n",
    "        dense_input_units = final_seq_len + gaia_fusion_units  # Add Gaia features to the dense input\n",
    "        print(\"Dense input units:\", dense_input_units)\n",
    "        print(\"Final sequence length:\", final_seq_len)\n",
    "        print(\"Number of filters:\", num_filters[-1])\n",
    "        self.dense_layers = nn.ModuleList()\n",
    "        for units in dense_units:\n",
    "            self.dense_layers.append(nn.Linear(dense_input_units, units))\n",
    "            dense_input_units = units\n",
    "        \n",
    "        # Output layer\n",
    "        self.output_layer = nn.Linear(dense_input_units, num_classes)\n",
    "\n",
    "    \n",
    "    \n",
    "    def forward(self, x_conv, x_gaia):\n",
    "        # Pass through convolutional layers\n",
    "        for conv_layer, pool_layer in zip(self.conv_layers, self.pool_layers):\n",
    "            x_conv = pool_layer(torch.relu(conv_layer(x_conv)))\n",
    "            x_conv = self.dropout(x_conv)\n",
    "        # Flatten the conv output\n",
    "        x_conv = self.flatten(x_conv)\n",
    "\n",
    "        # Connect Gaia features to a separate dense layer and connect after to the main network\n",
    "        x_gaia = torch.relu(self.gaia_input_layer(x_gaia))\n",
    "\n",
    "        # Concatenate Gaia features\n",
    "        x = torch.cat((x_conv, x_gaia), dim=1)\n",
    "        \n",
    "        # Pass through dense layers\n",
    "        for dense_layer in self.dense_layers:\n",
    "            x = torch.relu(dense_layer(x))\n",
    "            x = self.dropout(x)\n",
    "        \n",
    "        # Output layer\n",
    "        x = self.output_layer(x)\n",
    "        return torch.softmax(x, dim=1)\n",
    "\n",
    "# Create Datasets\n",
    "class BalancedDatasetFusion(Dataset):\n",
    "    def __init__(self, X_conv, X_gaia, y, limit_per_label=1600):\n",
    "        self.X_conv = X_conv\n",
    "        self.X_gaia = X_gaia\n",
    "        self.y = y\n",
    "        self.limit_per_label = limit_per_label\n",
    "        self.classes = np.unique(y)\n",
    "        self.indices = self.balance_classes()\n",
    "\n",
    "    def balance_classes(self):\n",
    "        indices = []\n",
    "        for cls in self.classes:\n",
    "            cls_indices = np.where(self.y == cls)[0]\n",
    "            if len(cls_indices) > self.limit_per_label:\n",
    "                cls_indices = np.random.choice(cls_indices, self.limit_per_label, replace=False)\n",
    "            indices.extend(cls_indices)\n",
    "        np.random.shuffle(indices)\n",
    "        return indices\n",
    "\n",
    "    def re_sample(self):\n",
    "        self.indices = self.balance_classes()\n",
    "\n",
    "    def __len__(self):\n",
    "        return len(self.indices)\n",
    "\n",
    "    def __getitem__(self, idx):\n",
    "        index = self.indices[idx]\n",
    "        return self.X_conv[index], self.X_gaia[index], self.y[index]\n",
    "\n",
    "# Define a function to train the mod\n",
    "\n",
    "def train_model(model, train_loader, val_loader, test_loader, num_epochs=200, lr=1e-4, patience=10):\n",
    "    optimizer = optim.Adam(model.parameters(), lr=lr)\n",
    "    criterion = nn.CrossEntropyLoss()\n",
    "    early_stopping_counter = 0\n",
    "    best_test_loss = float('inf')\n",
    "    epochs_no_improve = 0\n",
    "    best_model_state = None  # Variable to store the best model state\n",
    "\n",
    "    for epoch in range(num_epochs):\n",
    "        # Re-sample the training dataset at the start of each epoch\n",
    "        train_loader.dataset.re_sample()\n",
    "        model.train()\n",
    "        train_loss, correct_train, total_train = 0.0, 0, 0\n",
    "\n",
    "        # Training loop\n",
    "        for X_conv, X_gaia, y in train_loader:\n",
    "            X_conv, X_gaia, y = X_conv.to(device), X_gaia.to(device), y.to(device)\n",
    "            optimizer.zero_grad()\n",
    "            outputs = model(X_conv, X_gaia)\n",
    "            loss = criterion(outputs, y)\n",
    "            loss.backward()\n",
    "            optimizer.step()\n",
    "\n",
    "            train_loss += loss.item() * X_conv.size(0)\n",
    "            _, predicted = torch.max(outputs, 1)\n",
    "            correct_train += (predicted == y).sum().item()\n",
    "            total_train += y.size(0)\n",
    "\n",
    "        train_loss /= len(train_loader.dataset)\n",
    "        train_acc = correct_train / total_train\n",
    "\n",
    "        # Validation loop\n",
    "        model.eval()\n",
    "        val_loss, correct_val, total_val, test_loss, correct_test, total_test = 0, 0, 0, 0, 0, 0\n",
    "\n",
    "        with torch.no_grad():\n",
    "            for X_conv, X_gaia, y in val_loader:\n",
    "                X_conv, X_gaia, y = X_conv.to(device), X_gaia.to(device), y.to(device)\n",
    "                outputs = model(X_conv, X_gaia)\n",
    "                loss = criterion(outputs, y)\n",
    "                val_loss += loss.item() * X_conv.size(0)\n",
    "                _, predicted = torch.max(outputs, 1)\n",
    "                correct_val += (predicted == y).sum().item()\n",
    "                total_val += y.size(0)\n",
    "        \n",
    "        # Test loop\n",
    "        with torch.no_grad():\n",
    "            for X_conv, X_gaia, y in test_loader:\n",
    "                X_conv, X_gaia, y = X_conv.to(device), X_gaia.to(device), y.to(device)\n",
    "                outputs = model(X_conv, X_gaia)\n",
    "                loss = criterion(outputs, y)\n",
    "                test_loss += loss.item() * X_conv.size(0)\n",
    "                _, predicted = torch.max(outputs, 1)\n",
    "                correct_test += (predicted == y).sum().item()\n",
    "                total_test += y.size(0)\n",
    "\n",
    "        val_loss /= len(val_loader.dataset)\n",
    "        val_acc = correct_val / total_val\n",
    "        test_loss /= len(test_loader.dataset)\n",
    "        test_acc = correct_test / total_test\n",
    "\n",
    "        # Log metrics for MLflow\n",
    "        mlflow.log_metric(\"train_loss\", train_loss, step=epoch)\n",
    "        mlflow.log_metric(\"train_acc\", train_acc, step=epoch)\n",
    "        mlflow.log_metric(\"val_loss\", val_loss, step=epoch)\n",
    "        mlflow.log_metric(\"val_acc\", val_acc, step=epoch)\n",
    "        mlflow.log_metric(\"test_loss\", test_loss, step=epoch)\n",
    "        mlflow.log_metric(\"test_acc\", test_acc, step=epoch)\n",
    "\n",
    "        # Early stopping and model saving\n",
    "        if test_loss < best_test_loss:\n",
    "            best_test_loss = test_loss\n",
    "            early_stopping_counter = 0\n",
    "            best_model_state = model.state_dict()  # Save the model state\n",
    "        else:\n",
    "            early_stopping_counter += 1\n",
    "            if early_stopping_counter >= patience:\n",
    "                print(\"Early stopping triggered.\")\n",
    "                break\n",
    "\n",
    "        print(f\"Epoch [{epoch + 1}/{num_epochs}], \"\n",
    "              f\"Train Loss: {train_loss:.4f}, Train Acc: {train_acc:.4f}, \"\n",
    "              f\"Val Loss: {val_loss:.4f}, Val Acc: {val_acc:.4f}, \"\n",
    "              f\"Test Loss: {test_loss:.4f}, Test Acc: {test_acc:.4f}\")\n",
    "\n",
    "    # Load the best model weights before returning\n",
    "    model.load_state_dict(best_model_state)\n",
    "    return model\n",
    "def print_confusion_matrix(model, val_loader):\n",
    "    device = torch.device(\"cuda\" if torch.cuda.is_available() else \"cpu\")\n",
    "    model.to(device)\n",
    "    model.eval()\n",
    "    all_preds = []\n",
    "    all_labels = []\n",
    "\n",
    "    with torch.no_grad():\n",
    "        for X_conv, X_gaia, y in val_loader:\n",
    "            # Move inputs and labels to the same device as the model\n",
    "            X_conv, X_gaia, y = X_conv.to(device), X_gaia.to(device), y.to(device)\n",
    "\n",
    "            outputs = model(X_conv, X_gaia)\n",
    "            _, predicted = torch.max(outputs, 1)\n",
    "\n",
    "            # Store predictions and labels in CPU for further processing\n",
    "            all_preds.extend(predicted.cpu().numpy())\n",
    "            all_labels.extend(y.cpu().numpy())\n",
    "\n",
    "    cm = confusion_matrix(all_labels, all_preds)\n",
    "    print(\"Confusion Matrix:\")\n",
    "    print(cm)\n",
    "\n",
    "    # Calculate and print additional metrics\n",
    "    accuracy = accuracy_score(all_labels, all_preds)\n",
    "    recall = recall_score(all_labels, all_preds, average='weighted')\n",
    "    f1 = f1_score(all_labels, all_preds, average='weighted')\n",
    "    precision = precision_score(all_labels, all_preds, average='weighted')\n",
    "\n",
    "    print(f\"Accuracy: {accuracy}\")\n",
    "    print(f\"Recall: {recall}\")\n",
    "    print(f\"F1 Score: {f1}\")\n",
    "    print(f\"Precision: {precision}\")\n",
    "\n",
    "    # Print classification report for each class\n",
    "    class_names = ['Star', 'Binary Star', 'Galaxy', 'AGN']\n",
    "    report = classification_report(all_labels, all_preds, target_names=class_names)\n",
    "    print(\"\\nClassification Report:\")\n",
    "    print(report)\n",
    "\n",
    "    # Log confusion matrix\n",
    "    temp_file_path = save_confusion_matrix_to_file(cm)\n",
    "    mlflow.log_artifact(temp_file_path, artifact_path=\"confusion_matrix\")\n",
    "    os.remove(temp_file_path)  # Clean up the temporary file\n",
    "\n",
    "def save_confusion_matrix_to_file(cm):\n",
    "    import matplotlib.pyplot as plt\n",
    "    import seaborn as sns\n",
    "    import tempfile\n",
    "\n",
    "    plt.figure(figsize=(8, 6))\n",
    "    sns.heatmap(cm, annot=True, fmt=\"d\", cmap=\"Blues\", cbar=False)\n",
    "    plt.ylabel(\"True Label\")\n",
    "    plt.xlabel(\"Predicted Label\")\n",
    "\n",
    "    xticklabels = ['Star', 'Binary Star', 'Galaxy', 'AGN']\n",
    "    yticklabels = ['Star', 'Binary Star', 'Galaxy', 'AGN']\n",
    "    \n",
    "    plt.xticks(ticks=[0.5, 1.5, 2.5, 3.5], labels=xticklabels, rotation=45)\n",
    "    plt.yticks(ticks=[0.5, 1.5, 2.5, 3.5], labels=yticklabels, rotation=0)\n",
    "\n",
    "    # Save the figure to a temporary file\n",
    "    temp_file = tempfile.NamedTemporaryFile(delete=False, suffix=\".png\")\n",
    "    plt.savefig(temp_file.name, format='png')\n",
    "    temp_file.close()\n",
    "    \n",
    "    return temp_file.name\n",
    "\n"
   ]
  },
  {
   "cell_type": "code",
   "execution_count": 3,
   "metadata": {},
   "outputs": [],
   "source": [
    "if __name__ == \"__main__\":\n",
    "        # Load and preprocess data\n",
    "        X = pd.read_pickle(\"Pickles/fusionv0/train.pkl\")\n",
    "        gaia_features = [\"parallax\", \"ra\", \"dec\", \"ra_error\", \"dec_error\", \"parallax_error\", \"pmra\", \"pmdec\", \"pmra_error\", \"pmdec_error\", \n",
    "        \"phot_g_mean_flux\", \"flagnopllx\", \"phot_g_mean_flux_error\", \"phot_bp_mean_flux\", \"phot_rp_mean_flux\", \n",
    "        \"phot_bp_mean_flux_error\", \"phot_rp_mean_flux_error\"]\n",
    "\n",
    "        # Extract Gaia and LASMOST data\n",
    "        X_gaia = X[gaia_features].values\n",
    "        X_conv = X.drop(gaia_features + [\"label\"], axis=1).values\n",
    "        y = X[\"label\"]\n",
    "\n",
    "        # Mapping labels to integers\n",
    "        label_mapping = {'star': 0, 'binary_star': 1, 'galaxy': 2, 'agn': 3}\n",
    "        y = y.map(label_mapping).values\n",
    "\n",
    "        # Read test data\n",
    "        X_test = pd.read_pickle(\"Pickles/fusionv0/test.pkl\")\n",
    "        X_test_gaia = X_test[gaia_features].values\n",
    "        X_test_conv = X_test.drop(gaia_features + [\"label\"], axis=1).values\n",
    "        y_test = X_test[\"label\"]\n",
    "        y_test = y_test.map(label_mapping).values\n",
    "\n",
    "\n",
    "        # Split data into train and validation\n",
    "        X_train_conv, X_val_conv, X_train_gaia, X_val_gaia, y_train, y_val = train_test_split(X_conv, X_gaia, y, test_size=0.2, random_state=42)\n",
    "\n",
    "        # Convert to PyTorch tensors\n",
    "        X_train_conv = torch.tensor(X_train_conv, dtype=torch.float32).unsqueeze(1)\n",
    "        X_val_conv = torch.tensor(X_val_conv, dtype=torch.float32).unsqueeze(1)\n",
    "        X_train_gaia = torch.tensor(X_train_gaia, dtype=torch.float32)\n",
    "        X_val_gaia = torch.tensor(X_val_gaia, dtype=torch.float32)\n",
    "        y_train = torch.tensor(y_train, dtype=torch.long)\n",
    "        y_val = torch.tensor(y_val, dtype=torch.long)\n",
    "        X_test_conv = torch.tensor(X_test_conv, dtype=torch.float32).unsqueeze(1)\n",
    "        X_test_gaia = torch.tensor(X_test_gaia, dtype=torch.float32)\n",
    "        y_test = torch.tensor(y_test, dtype=torch.long)\n",
    "\n",
    "        # Create DataLoaders\n",
    "        train_dataset = BalancedDatasetFusion(X_train_conv, X_train_gaia, y_train)\n",
    "        val_dataset = BalancedDatasetFusion(X_val_conv, X_val_gaia, y_val)\n",
    "        test_dataset = BalancedDatasetFusion(X_test_conv, X_test_gaia, y_test)\n",
    "\n",
    "        train_loader = DataLoader(train_dataset, batch_size=512, shuffle=True)\n",
    "        val_loader = DataLoader(val_dataset, batch_size=512, shuffle=False)\n",
    "        test_loader = DataLoader(test_dataset, batch_size=512, shuffle=False)"
   ]
  },
  {
   "cell_type": "markdown",
   "metadata": {},
   "source": [
    "# BB"
   ]
  },
  {
   "cell_type": "code",
   "execution_count": 19,
   "metadata": {},
   "outputs": [],
   "source": [
    "# Define the Spectra Branch as a separate module\n",
    "class SpectraBranch(nn.Module):\n",
    "    def __init__(self, input_shape, num_classes, \n",
    "                 num_filters=[128, 128, 128, 128, 128, 128, 128, 128], \n",
    "                 kernel_size=9,\n",
    "                 dropout_rate=0.2, padding='same'):\n",
    "        super(SpectraBranch, self).__init__()\n",
    "        \n",
    "        self.conv_layers = nn.ModuleList()\n",
    "        self.pool_layers = nn.ModuleList()\n",
    "        in_channels = 1  # Since it's a 1D input\n",
    "        \n",
    "        # Add convolutional layers\n",
    "        for filters in num_filters:\n",
    "            conv_layer = nn.Conv1d(in_channels=in_channels, out_channels=filters, kernel_size=kernel_size, padding=kernel_size//2)\n",
    "            self.conv_layers.append(conv_layer)\n",
    "            self.pool_layers.append(nn.MaxPool1d(kernel_size=2))\n",
    "            in_channels = filters\n",
    "        \n",
    "        self.dropout = nn.Dropout(dropout_rate)\n",
    "        self.flatten = nn.Flatten()\n",
    "    \n",
    "    def forward(self, x):\n",
    "        for conv_layer, pool_layer in zip(self.conv_layers, self.pool_layers):\n",
    "            x = pool_layer(torch.relu(conv_layer(x)))\n",
    "            x = self.dropout(x)\n",
    "        x = self.flatten(x)\n",
    "        return x\n",
    "\n",
    "# implementing none as an option for the gaia branch\n",
    "class GaiaBranch(nn.Module):\n",
    "    def __init__(self, gaia_input_size, gaia_fusion_units):\n",
    "        super(GaiaBranch, self).__init__()\n",
    "        self.gaia_fusion_units = gaia_fusion_units\n",
    "        if gaia_fusion_units is not None:\n",
    "            self.fc = nn.Linear(gaia_input_size, gaia_fusion_units)\n",
    "\n",
    "    def forward(self, x):\n",
    "        if self.gaia_fusion_units is None:\n",
    "            return x\n",
    "        else:\n",
    "            return torch.relu(self.fc(x))\n",
    "\n",
    "\n",
    "# Fusion Model that combines both branches\n",
    "class ConvNetFusion(nn.Module):\n",
    "    def __init__(self, input_shape, num_classes, gaia_input_size, \n",
    "                 num_filters=[128, 128, 128, 128, 128, 128, 128, 128],  # More filters for SpectraBranch\n",
    "                 kernel_size=9,\n",
    "                 dense_units=[256, 128, 64, 32],\n",
    "                 dropout_rate=0.2, \n",
    "                 gaia_fusion_units=256):\n",
    "        super(ConvNetFusion, self).__init__()\n",
    "\n",
    "        # Instantiate the two branches\n",
    "        self.spectra_branch = SpectraBranch(input_shape, num_classes, num_filters, kernel_size, dropout_rate)\n",
    "        self.gaia_branch = GaiaBranch(gaia_input_size, gaia_fusion_units)\n",
    "\n",
    "        # Fused input size\n",
    "        if gaia_fusion_units is None:\n",
    "            fused_input_size = gaia_input_size + num_filters[-1] * (input_shape[0] // (2 ** len(num_filters)))\n",
    "        else:\n",
    "            fused_input_size = gaia_fusion_units + num_filters[-1] * (input_shape[0] // (2 ** len(num_filters)))\n",
    "        \n",
    "        # Fully connected layers after fusion\n",
    "        for i, units in enumerate(dense_units):\n",
    "            if i == 0:\n",
    "                self.dense_layers = nn.Sequential(\n",
    "                    nn.Linear(fused_input_size, units),\n",
    "                    nn.ReLU()\n",
    "                    #nn.Dropout(0)\n",
    "                )\n",
    "            else:\n",
    "                self.dense_layers.add_module(f\"dense_{i}\", nn.Linear(dense_units[i-1], units))\n",
    "                self.dense_layers.add_module(f\"relu_{i}\", nn.ReLU())\n",
    "                self.dense_layers.add_module(f\"dropout_{i}\", nn.Dropout(dropout_rate))\n",
    "\n",
    "        # Output layer\n",
    "        self.output_layer = nn.Linear(dense_units[-1], num_classes)\n",
    "\n",
    "    def forward(self, x_conv, x_gaia):\n",
    "        # Spectra branch forward pass\n",
    "        x_conv = self.spectra_branch(x_conv)\n",
    "        \n",
    "        # Gaia branch forward pass\n",
    "        x_gaia = self.gaia_branch(x_gaia)\n",
    "        \n",
    "        # Concatenate the two branches\n",
    "        x_fused = torch.cat((x_conv, x_gaia), dim=1)\n",
    "\n",
    "        # Pass through dense layers\n",
    "        x = self.dense_layers(x_fused)\n",
    "\n",
    "        # Output layer\n",
    "        x = self.output_layer(x)\n",
    "        \n",
    "        return torch.softmax(x, dim=1)"
   ]
  },
  {
   "cell_type": "code",
   "execution_count": 20,
   "metadata": {},
   "outputs": [
    {
     "name": "stdout",
     "output_type": "stream",
     "text": [
      "Gaia input size: 17\n",
      "ConvNetFusion(\n",
      "  (spectra_branch): SpectraBranch(\n",
      "    (conv_layers): ModuleList(\n",
      "      (0): Conv1d(1, 32, kernel_size=(9,), stride=(1,), padding=(4,))\n",
      "      (1): Conv1d(32, 64, kernel_size=(9,), stride=(1,), padding=(4,))\n",
      "      (2): Conv1d(64, 64, kernel_size=(9,), stride=(1,), padding=(4,))\n",
      "      (3): Conv1d(64, 128, kernel_size=(9,), stride=(1,), padding=(4,))\n",
      "      (4-5): 2 x Conv1d(128, 128, kernel_size=(9,), stride=(1,), padding=(4,))\n",
      "      (6): Conv1d(128, 256, kernel_size=(9,), stride=(1,), padding=(4,))\n",
      "      (7-8): 2 x Conv1d(256, 256, kernel_size=(9,), stride=(1,), padding=(4,))\n",
      "      (9): Conv1d(256, 512, kernel_size=(9,), stride=(1,), padding=(4,))\n",
      "      (10): Conv1d(512, 512, kernel_size=(9,), stride=(1,), padding=(4,))\n",
      "    )\n",
      "    (pool_layers): ModuleList(\n",
      "      (0-10): 11 x MaxPool1d(kernel_size=2, stride=2, padding=0, dilation=1, ceil_mode=False)\n",
      "    )\n",
      "    (dropout): Dropout(p=0.2, inplace=False)\n",
      "    (flatten): Flatten(start_dim=1, end_dim=-1)\n",
      "  )\n",
      "  (gaia_branch): GaiaBranch()\n",
      "  (dense_layers): Sequential(\n",
      "    (0): Linear(in_features=529, out_features=1024, bias=True)\n",
      "    (1): ReLU()\n",
      "    (dense_1): Linear(in_features=1024, out_features=1024, bias=True)\n",
      "    (relu_1): ReLU()\n",
      "    (dropout_1): Dropout(p=0.2, inplace=False)\n",
      "    (dense_2): Linear(in_features=1024, out_features=1024, bias=True)\n",
      "    (relu_2): ReLU()\n",
      "    (dropout_2): Dropout(p=0.2, inplace=False)\n",
      "    (dense_3): Linear(in_features=1024, out_features=256, bias=True)\n",
      "    (relu_3): ReLU()\n",
      "    (dropout_3): Dropout(p=0.2, inplace=False)\n",
      "    (dense_4): Linear(in_features=256, out_features=64, bias=True)\n",
      "    (relu_4): ReLU()\n",
      "    (dropout_4): Dropout(p=0.2, inplace=False)\n",
      "  )\n",
      "  (output_layer): Linear(in_features=64, out_features=4, bias=True)\n",
      ")\n",
      "Number of parameters: 8361092\n"
     ]
    }
   ],
   "source": [
    "# Initialize model\n",
    "gaia_input_size = X_train_gaia.shape[1]\n",
    "print(f\"Gaia input size: {gaia_input_size}\")\n",
    "filters = [128, 128, 128, 256, 256, 256, 512, 512, 512, 1024, 1024] \n",
    "filters = [32, 64, 64, 128, 128, 128, 256, 256, 256, 512, 512]\n",
    "dense=[2048, 2048, 2048, 512, 128, 64]\n",
    "dense = [1024, 1024, 1024, 256, 64]\n",
    "\n",
    "model = ConvNetFusion(input_shape=(3748,), num_classes=4, gaia_input_size=gaia_input_size, \n",
    "                      num_filters=filters, kernel_size=9, dense_units=dense, dropout_rate=0.2, gaia_fusion_units=None) # trying to supress gaia dependence\n",
    "# Save the model\n",
    "torch.save(model, \"Models/toyv0.pth\")\n",
    "# Print model summary\n",
    "print(model)\n",
    "print(f\"Number of parameters: {sum(p.numel() for p in model.parameters() if p.requires_grad)}\")\n",
    "model = model.to(device)"
   ]
  },
  {
   "cell_type": "markdown",
   "metadata": {},
   "source": [
    "# Bunda bebe"
   ]
  },
  {
   "cell_type": "code",
   "execution_count": 26,
   "metadata": {},
   "outputs": [
    {
     "name": "stderr",
     "output_type": "stream",
     "text": [
      "2024/10/23 11:15:47 INFO mlflow.system_metrics.system_metrics_monitor: Started monitoring system metrics.\n"
     ]
    },
    {
     "name": "stdout",
     "output_type": "stream",
     "text": [
      "Epoch [1/200], Train Loss: 0.8823, Train Acc: 0.8593, Val Loss: 0.9018, Val Acc: 0.8411, Test Loss: 0.9072, Test Acc: 0.8342\n",
      "Epoch [2/200], Train Loss: 0.8767, Train Acc: 0.8672, Val Loss: 0.9043, Val Acc: 0.8372, Test Loss: 0.9073, Test Acc: 0.8337\n",
      "Epoch [3/200], Train Loss: 0.8840, Train Acc: 0.8577, Val Loss: 0.9018, Val Acc: 0.8425, Test Loss: 0.9043, Test Acc: 0.8379\n",
      "Epoch [4/200], Train Loss: 0.8855, Train Acc: 0.8572, Val Loss: 0.8999, Val Acc: 0.8425, Test Loss: 0.9052, Test Acc: 0.8358\n",
      "Epoch [5/200], Train Loss: 0.8786, Train Acc: 0.8637, Val Loss: 0.9031, Val Acc: 0.8395, Test Loss: 0.9058, Test Acc: 0.8356\n",
      "Epoch [6/200], Train Loss: 0.8829, Train Acc: 0.8596, Val Loss: 0.9058, Val Acc: 0.8345, Test Loss: 0.9098, Test Acc: 0.8310\n",
      "Epoch [7/200], Train Loss: 0.8833, Train Acc: 0.8611, Val Loss: 0.9107, Val Acc: 0.8298, Test Loss: 0.9144, Test Acc: 0.8281\n",
      "Epoch [8/200], Train Loss: 0.8905, Train Acc: 0.8524, Val Loss: 0.9014, Val Acc: 0.8403, Test Loss: 0.9034, Test Acc: 0.8375\n",
      "Epoch [9/200], Train Loss: 0.8745, Train Acc: 0.8701, Val Loss: 0.9054, Val Acc: 0.8358, Test Loss: 0.9110, Test Acc: 0.8306\n",
      "Epoch [10/200], Train Loss: 0.8806, Train Acc: 0.8619, Val Loss: 0.8997, Val Acc: 0.8452, Test Loss: 0.9033, Test Acc: 0.8385\n",
      "Epoch [11/200], Train Loss: 0.8861, Train Acc: 0.8557, Val Loss: 0.9030, Val Acc: 0.8380, Test Loss: 0.9098, Test Acc: 0.8327\n",
      "Epoch [12/200], Train Loss: 0.8845, Train Acc: 0.8583, Val Loss: 0.9015, Val Acc: 0.8407, Test Loss: 0.9064, Test Acc: 0.8344\n",
      "Epoch [13/200], Train Loss: 0.8840, Train Acc: 0.8585, Val Loss: 0.9008, Val Acc: 0.8415, Test Loss: 0.9036, Test Acc: 0.8377\n",
      "Epoch [14/200], Train Loss: 0.8866, Train Acc: 0.8572, Val Loss: 0.9091, Val Acc: 0.8312, Test Loss: 0.9138, Test Acc: 0.8282\n",
      "Epoch [15/200], Train Loss: 0.8871, Train Acc: 0.8545, Val Loss: 0.9044, Val Acc: 0.8393, Test Loss: 0.9073, Test Acc: 0.8354\n",
      "Epoch [16/200], Train Loss: 0.8810, Train Acc: 0.8604, Val Loss: 0.9004, Val Acc: 0.8409, Test Loss: 0.9033, Test Acc: 0.8375\n",
      "Epoch [17/200], Train Loss: 0.8816, Train Acc: 0.8608, Val Loss: 0.8999, Val Acc: 0.8415, Test Loss: 0.9019, Test Acc: 0.8398\n",
      "Epoch [18/200], Train Loss: 0.8849, Train Acc: 0.8583, Val Loss: 0.8998, Val Acc: 0.8430, Test Loss: 0.9004, Test Acc: 0.8408\n",
      "Epoch [19/200], Train Loss: 0.8765, Train Acc: 0.8655, Val Loss: 0.8999, Val Acc: 0.8423, Test Loss: 0.9007, Test Acc: 0.8416\n",
      "Epoch [20/200], Train Loss: 0.8731, Train Acc: 0.8695, Val Loss: 0.9014, Val Acc: 0.8409, Test Loss: 0.9032, Test Acc: 0.8396\n",
      "Epoch [21/200], Train Loss: 0.8769, Train Acc: 0.8657, Val Loss: 0.9126, Val Acc: 0.8290, Test Loss: 0.9161, Test Acc: 0.8252\n",
      "Epoch [22/200], Train Loss: 0.8818, Train Acc: 0.8616, Val Loss: 0.9065, Val Acc: 0.8349, Test Loss: 0.9079, Test Acc: 0.8337\n",
      "Epoch [23/200], Train Loss: 0.8845, Train Acc: 0.8577, Val Loss: 0.9006, Val Acc: 0.8411, Test Loss: 0.9018, Test Acc: 0.8422\n",
      "Epoch [24/200], Train Loss: 0.8750, Train Acc: 0.8682, Val Loss: 0.9042, Val Acc: 0.8368, Test Loss: 0.9070, Test Acc: 0.8352\n",
      "Epoch [25/200], Train Loss: 0.8801, Train Acc: 0.8632, Val Loss: 0.9001, Val Acc: 0.8425, Test Loss: 0.9019, Test Acc: 0.8402\n",
      "Epoch [26/200], Train Loss: 0.8750, Train Acc: 0.8683, Val Loss: 0.9023, Val Acc: 0.8403, Test Loss: 0.9037, Test Acc: 0.8387\n",
      "Epoch [27/200], Train Loss: 0.8868, Train Acc: 0.8565, Val Loss: 0.8987, Val Acc: 0.8442, Test Loss: 0.9003, Test Acc: 0.8416\n",
      "Epoch [28/200], Train Loss: 0.8792, Train Acc: 0.8624, Val Loss: 0.9002, Val Acc: 0.8423, Test Loss: 0.9022, Test Acc: 0.8400\n",
      "Epoch [29/200], Train Loss: 0.8790, Train Acc: 0.8634, Val Loss: 0.8979, Val Acc: 0.8444, Test Loss: 0.9020, Test Acc: 0.8396\n",
      "Epoch [30/200], Train Loss: 0.8772, Train Acc: 0.8644, Val Loss: 0.9000, Val Acc: 0.8436, Test Loss: 0.9006, Test Acc: 0.8420\n",
      "Epoch [31/200], Train Loss: 0.8773, Train Acc: 0.8655, Val Loss: 0.9116, Val Acc: 0.8298, Test Loss: 0.9139, Test Acc: 0.8284\n",
      "Epoch [32/200], Train Loss: 0.8863, Train Acc: 0.8554, Val Loss: 0.9008, Val Acc: 0.8407, Test Loss: 0.9017, Test Acc: 0.8383\n",
      "Epoch [33/200], Train Loss: 0.8699, Train Acc: 0.8739, Val Loss: 0.9009, Val Acc: 0.8405, Test Loss: 0.9008, Test Acc: 0.8410\n",
      "Epoch [34/200], Train Loss: 0.8800, Train Acc: 0.8613, Val Loss: 0.8990, Val Acc: 0.8426, Test Loss: 0.8973, Test Acc: 0.8456\n",
      "Epoch [35/200], Train Loss: 0.8785, Train Acc: 0.8636, Val Loss: 0.9000, Val Acc: 0.8430, Test Loss: 0.8994, Test Acc: 0.8433\n",
      "Epoch [36/200], Train Loss: 0.8830, Train Acc: 0.8593, Val Loss: 0.9032, Val Acc: 0.8388, Test Loss: 0.9023, Test Acc: 0.8408\n",
      "Epoch [37/200], Train Loss: 0.8819, Train Acc: 0.8608, Val Loss: 0.9022, Val Acc: 0.8397, Test Loss: 0.9049, Test Acc: 0.8364\n",
      "Epoch [38/200], Train Loss: 0.8805, Train Acc: 0.8624, Val Loss: 0.9009, Val Acc: 0.8409, Test Loss: 0.9001, Test Acc: 0.8416\n",
      "Epoch [39/200], Train Loss: 0.8878, Train Acc: 0.8554, Val Loss: 0.9085, Val Acc: 0.8327, Test Loss: 0.9106, Test Acc: 0.8321\n",
      "Epoch [40/200], Train Loss: 0.8853, Train Acc: 0.8583, Val Loss: 0.8994, Val Acc: 0.8432, Test Loss: 0.8992, Test Acc: 0.8427\n",
      "Epoch [41/200], Train Loss: 0.8768, Train Acc: 0.8670, Val Loss: 0.9016, Val Acc: 0.8395, Test Loss: 0.9006, Test Acc: 0.8406\n",
      "Epoch [42/200], Train Loss: 0.8717, Train Acc: 0.8721, Val Loss: 0.9058, Val Acc: 0.8354, Test Loss: 0.9097, Test Acc: 0.8302\n",
      "Epoch [43/200], Train Loss: 0.8813, Train Acc: 0.8616, Val Loss: 0.9012, Val Acc: 0.8407, Test Loss: 0.8984, Test Acc: 0.8433\n",
      "Epoch [44/200], Train Loss: 0.8760, Train Acc: 0.8659, Val Loss: 0.8976, Val Acc: 0.8438, Test Loss: 0.8994, Test Acc: 0.8431\n",
      "Epoch [45/200], Train Loss: 0.8765, Train Acc: 0.8650, Val Loss: 0.8974, Val Acc: 0.8452, Test Loss: 0.8975, Test Acc: 0.8454\n",
      "Epoch [46/200], Train Loss: 0.8777, Train Acc: 0.8654, Val Loss: 0.8968, Val Acc: 0.8458, Test Loss: 0.8952, Test Acc: 0.8474\n",
      "Epoch [47/200], Train Loss: 0.8789, Train Acc: 0.8637, Val Loss: 0.8983, Val Acc: 0.8434, Test Loss: 0.8998, Test Acc: 0.8435\n",
      "Epoch [48/200], Train Loss: 0.8764, Train Acc: 0.8669, Val Loss: 0.8988, Val Acc: 0.8425, Test Loss: 0.9012, Test Acc: 0.8396\n",
      "Epoch [49/200], Train Loss: 0.8693, Train Acc: 0.8737, Val Loss: 0.8994, Val Acc: 0.8434, Test Loss: 0.8994, Test Acc: 0.8443\n",
      "Epoch [50/200], Train Loss: 0.8739, Train Acc: 0.8685, Val Loss: 0.8963, Val Acc: 0.8463, Test Loss: 0.8955, Test Acc: 0.8454\n",
      "Epoch [51/200], Train Loss: 0.8783, Train Acc: 0.8654, Val Loss: 0.9014, Val Acc: 0.8401, Test Loss: 0.9006, Test Acc: 0.8410\n",
      "Epoch [52/200], Train Loss: 0.8847, Train Acc: 0.8573, Val Loss: 0.9047, Val Acc: 0.8376, Test Loss: 0.9067, Test Acc: 0.8335\n",
      "Epoch [53/200], Train Loss: 0.8825, Train Acc: 0.8614, Val Loss: 0.8998, Val Acc: 0.8428, Test Loss: 0.8999, Test Acc: 0.8431\n",
      "Epoch [54/200], Train Loss: 0.8722, Train Acc: 0.8713, Val Loss: 0.8992, Val Acc: 0.8432, Test Loss: 0.9010, Test Acc: 0.8406\n",
      "Epoch [55/200], Train Loss: 0.8760, Train Acc: 0.8664, Val Loss: 0.9015, Val Acc: 0.8399, Test Loss: 0.9001, Test Acc: 0.8441\n",
      "Epoch [56/200], Train Loss: 0.8717, Train Acc: 0.8710, Val Loss: 0.8963, Val Acc: 0.8467, Test Loss: 0.8947, Test Acc: 0.8472\n",
      "Epoch [57/200], Train Loss: 0.8830, Train Acc: 0.8590, Val Loss: 0.8958, Val Acc: 0.8465, Test Loss: 0.8955, Test Acc: 0.8481\n",
      "Epoch [58/200], Train Loss: 0.8746, Train Acc: 0.8685, Val Loss: 0.8989, Val Acc: 0.8438, Test Loss: 0.9012, Test Acc: 0.8416\n",
      "Epoch [59/200], Train Loss: 0.8780, Train Acc: 0.8650, Val Loss: 0.8966, Val Acc: 0.8452, Test Loss: 0.8970, Test Acc: 0.8447\n",
      "Epoch [60/200], Train Loss: 0.8801, Train Acc: 0.8621, Val Loss: 0.8938, Val Acc: 0.8500, Test Loss: 0.8932, Test Acc: 0.8483\n",
      "Epoch [61/200], Train Loss: 0.8830, Train Acc: 0.8593, Val Loss: 0.8977, Val Acc: 0.8452, Test Loss: 0.8988, Test Acc: 0.8427\n",
      "Epoch [62/200], Train Loss: 0.8729, Train Acc: 0.8696, Val Loss: 0.8948, Val Acc: 0.8491, Test Loss: 0.8959, Test Acc: 0.8462\n",
      "Epoch [63/200], Train Loss: 0.8731, Train Acc: 0.8696, Val Loss: 0.8942, Val Acc: 0.8489, Test Loss: 0.8955, Test Acc: 0.8472\n",
      "Epoch [64/200], Train Loss: 0.8743, Train Acc: 0.8675, Val Loss: 0.8988, Val Acc: 0.8434, Test Loss: 0.8999, Test Acc: 0.8435\n",
      "Epoch [65/200], Train Loss: 0.8810, Train Acc: 0.8623, Val Loss: 0.8975, Val Acc: 0.8452, Test Loss: 0.8989, Test Acc: 0.8443\n",
      "Epoch [66/200], Train Loss: 0.8740, Train Acc: 0.8683, Val Loss: 0.8978, Val Acc: 0.8448, Test Loss: 0.8961, Test Acc: 0.8451\n",
      "Epoch [67/200], Train Loss: 0.8725, Train Acc: 0.8708, Val Loss: 0.9033, Val Acc: 0.8386, Test Loss: 0.9018, Test Acc: 0.8387\n",
      "Epoch [68/200], Train Loss: 0.8732, Train Acc: 0.8708, Val Loss: 0.8978, Val Acc: 0.8448, Test Loss: 0.8965, Test Acc: 0.8456\n",
      "Epoch [69/200], Train Loss: 0.8801, Train Acc: 0.8613, Val Loss: 0.9007, Val Acc: 0.8411, Test Loss: 0.9030, Test Acc: 0.8395\n",
      "Epoch [70/200], Train Loss: 0.8718, Train Acc: 0.8700, Val Loss: 0.8951, Val Acc: 0.8463, Test Loss: 0.8950, Test Acc: 0.8458\n",
      "Epoch [71/200], Train Loss: 0.8821, Train Acc: 0.8611, Val Loss: 0.8971, Val Acc: 0.8444, Test Loss: 0.8989, Test Acc: 0.8437\n",
      "Epoch [72/200], Train Loss: 0.8725, Train Acc: 0.8692, Val Loss: 0.8970, Val Acc: 0.8450, Test Loss: 0.8963, Test Acc: 0.8452\n",
      "Epoch [73/200], Train Loss: 0.8771, Train Acc: 0.8654, Val Loss: 0.8952, Val Acc: 0.8473, Test Loss: 0.8963, Test Acc: 0.8447\n",
      "Epoch [74/200], Train Loss: 0.8756, Train Acc: 0.8673, Val Loss: 0.8964, Val Acc: 0.8471, Test Loss: 0.8958, Test Acc: 0.8466\n",
      "Epoch [75/200], Train Loss: 0.8727, Train Acc: 0.8708, Val Loss: 0.8969, Val Acc: 0.8448, Test Loss: 0.8959, Test Acc: 0.8458\n",
      "Epoch [76/200], Train Loss: 0.8717, Train Acc: 0.8711, Val Loss: 0.8968, Val Acc: 0.8458, Test Loss: 0.9003, Test Acc: 0.8410\n",
      "Epoch [77/200], Train Loss: 0.8708, Train Acc: 0.8713, Val Loss: 0.8977, Val Acc: 0.8450, Test Loss: 0.8992, Test Acc: 0.8422\n",
      "Epoch [78/200], Train Loss: 0.8775, Train Acc: 0.8654, Val Loss: 0.8976, Val Acc: 0.8454, Test Loss: 0.8974, Test Acc: 0.8449\n",
      "Epoch [79/200], Train Loss: 0.8705, Train Acc: 0.8716, Val Loss: 0.8959, Val Acc: 0.8467, Test Loss: 0.8962, Test Acc: 0.8454\n",
      "Epoch [80/200], Train Loss: 0.8777, Train Acc: 0.8647, Val Loss: 0.8987, Val Acc: 0.8438, Test Loss: 0.8989, Test Acc: 0.8418\n",
      "Epoch [81/200], Train Loss: 0.8795, Train Acc: 0.8632, Val Loss: 0.8982, Val Acc: 0.8436, Test Loss: 0.8976, Test Acc: 0.8435\n",
      "Epoch [82/200], Train Loss: 0.8712, Train Acc: 0.8713, Val Loss: 0.9001, Val Acc: 0.8419, Test Loss: 0.8981, Test Acc: 0.8425\n",
      "Epoch [83/200], Train Loss: 0.8737, Train Acc: 0.8692, Val Loss: 0.8965, Val Acc: 0.8456, Test Loss: 0.8962, Test Acc: 0.8464\n",
      "Epoch [84/200], Train Loss: 0.8685, Train Acc: 0.8746, Val Loss: 0.9028, Val Acc: 0.8395, Test Loss: 0.9022, Test Acc: 0.8391\n",
      "Epoch [85/200], Train Loss: 0.8746, Train Acc: 0.8690, Val Loss: 0.8969, Val Acc: 0.8462, Test Loss: 0.8974, Test Acc: 0.8451\n",
      "Epoch [86/200], Train Loss: 0.8742, Train Acc: 0.8683, Val Loss: 0.8963, Val Acc: 0.8456, Test Loss: 0.8933, Test Acc: 0.8491\n",
      "Epoch [87/200], Train Loss: 0.8756, Train Acc: 0.8654, Val Loss: 0.8972, Val Acc: 0.8440, Test Loss: 0.8948, Test Acc: 0.8462\n",
      "Epoch [88/200], Train Loss: 0.8700, Train Acc: 0.8721, Val Loss: 0.8963, Val Acc: 0.8456, Test Loss: 0.8950, Test Acc: 0.8470\n",
      "Epoch [89/200], Train Loss: 0.8673, Train Acc: 0.8754, Val Loss: 0.9007, Val Acc: 0.8411, Test Loss: 0.8968, Test Acc: 0.8464\n",
      "Epoch [90/200], Train Loss: 0.8738, Train Acc: 0.8695, Val Loss: 0.8980, Val Acc: 0.8469, Test Loss: 0.8995, Test Acc: 0.8425\n",
      "Epoch [91/200], Train Loss: 0.8767, Train Acc: 0.8662, Val Loss: 0.8971, Val Acc: 0.8456, Test Loss: 0.8954, Test Acc: 0.8460\n",
      "Epoch [92/200], Train Loss: 0.8775, Train Acc: 0.8654, Val Loss: 0.8957, Val Acc: 0.8469, Test Loss: 0.8926, Test Acc: 0.8493\n",
      "Epoch [93/200], Train Loss: 0.8753, Train Acc: 0.8685, Val Loss: 0.8971, Val Acc: 0.8463, Test Loss: 0.8982, Test Acc: 0.8425\n",
      "Epoch [94/200], Train Loss: 0.8727, Train Acc: 0.8708, Val Loss: 0.8951, Val Acc: 0.8485, Test Loss: 0.8906, Test Acc: 0.8520\n",
      "Epoch [95/200], Train Loss: 0.8754, Train Acc: 0.8672, Val Loss: 0.8951, Val Acc: 0.8473, Test Loss: 0.8934, Test Acc: 0.8499\n",
      "Epoch [96/200], Train Loss: 0.8725, Train Acc: 0.8693, Val Loss: 0.8929, Val Acc: 0.8504, Test Loss: 0.8913, Test Acc: 0.8510\n",
      "Epoch [97/200], Train Loss: 0.8760, Train Acc: 0.8669, Val Loss: 0.8926, Val Acc: 0.8502, Test Loss: 0.8912, Test Acc: 0.8509\n",
      "Epoch [98/200], Train Loss: 0.8729, Train Acc: 0.8711, Val Loss: 0.8933, Val Acc: 0.8495, Test Loss: 0.8923, Test Acc: 0.8501\n",
      "Epoch [99/200], Train Loss: 0.8677, Train Acc: 0.8741, Val Loss: 0.8961, Val Acc: 0.8469, Test Loss: 0.8937, Test Acc: 0.8485\n",
      "Epoch [100/200], Train Loss: 0.8738, Train Acc: 0.8690, Val Loss: 0.8982, Val Acc: 0.8454, Test Loss: 0.8995, Test Acc: 0.8425\n",
      "Epoch [101/200], Train Loss: 0.8765, Train Acc: 0.8662, Val Loss: 0.8992, Val Acc: 0.8425, Test Loss: 0.8967, Test Acc: 0.8452\n",
      "Epoch [102/200], Train Loss: 0.8685, Train Acc: 0.8739, Val Loss: 0.8930, Val Acc: 0.8495, Test Loss: 0.8911, Test Acc: 0.8507\n",
      "Epoch [103/200], Train Loss: 0.8700, Train Acc: 0.8726, Val Loss: 0.8941, Val Acc: 0.8487, Test Loss: 0.8928, Test Acc: 0.8493\n",
      "Epoch [104/200], Train Loss: 0.8710, Train Acc: 0.8713, Val Loss: 0.8969, Val Acc: 0.8446, Test Loss: 0.8932, Test Acc: 0.8487\n",
      "Epoch [105/200], Train Loss: 0.8687, Train Acc: 0.8749, Val Loss: 0.8957, Val Acc: 0.8467, Test Loss: 0.8938, Test Acc: 0.8505\n",
      "Epoch [106/200], Train Loss: 0.8774, Train Acc: 0.8660, Val Loss: 0.8931, Val Acc: 0.8495, Test Loss: 0.8928, Test Acc: 0.8493\n",
      "Epoch [107/200], Train Loss: 0.8676, Train Acc: 0.8760, Val Loss: 0.8934, Val Acc: 0.8495, Test Loss: 0.8955, Test Acc: 0.8460\n",
      "Epoch [108/200], Train Loss: 0.8640, Train Acc: 0.8785, Val Loss: 0.8953, Val Acc: 0.8469, Test Loss: 0.8971, Test Acc: 0.8435\n",
      "Epoch [109/200], Train Loss: 0.8735, Train Acc: 0.8683, Val Loss: 0.8947, Val Acc: 0.8481, Test Loss: 0.8953, Test Acc: 0.8474\n",
      "Epoch [110/200], Train Loss: 0.8708, Train Acc: 0.8718, Val Loss: 0.8948, Val Acc: 0.8485, Test Loss: 0.8931, Test Acc: 0.8487\n",
      "Epoch [111/200], Train Loss: 0.8649, Train Acc: 0.8770, Val Loss: 0.8946, Val Acc: 0.8475, Test Loss: 0.8913, Test Acc: 0.8512\n",
      "Epoch [112/200], Train Loss: 0.8722, Train Acc: 0.8710, Val Loss: 0.8942, Val Acc: 0.8481, Test Loss: 0.8892, Test Acc: 0.8530\n",
      "Epoch [113/200], Train Loss: 0.8804, Train Acc: 0.8614, Val Loss: 0.8937, Val Acc: 0.8485, Test Loss: 0.8911, Test Acc: 0.8509\n",
      "Epoch [114/200], Train Loss: 0.8770, Train Acc: 0.8662, Val Loss: 0.8949, Val Acc: 0.8471, Test Loss: 0.8925, Test Acc: 0.8497\n",
      "Epoch [115/200], Train Loss: 0.8671, Train Acc: 0.8746, Val Loss: 0.8943, Val Acc: 0.8485, Test Loss: 0.8928, Test Acc: 0.8495\n",
      "Epoch [116/200], Train Loss: 0.8707, Train Acc: 0.8713, Val Loss: 0.8929, Val Acc: 0.8502, Test Loss: 0.8901, Test Acc: 0.8526\n",
      "Epoch [117/200], Train Loss: 0.8678, Train Acc: 0.8751, Val Loss: 0.8954, Val Acc: 0.8487, Test Loss: 0.8961, Test Acc: 0.8447\n",
      "Epoch [118/200], Train Loss: 0.8768, Train Acc: 0.8664, Val Loss: 0.8942, Val Acc: 0.8485, Test Loss: 0.8905, Test Acc: 0.8520\n",
      "Epoch [119/200], Train Loss: 0.8726, Train Acc: 0.8695, Val Loss: 0.8944, Val Acc: 0.8477, Test Loss: 0.8927, Test Acc: 0.8497\n",
      "Epoch [120/200], Train Loss: 0.8731, Train Acc: 0.8688, Val Loss: 0.8937, Val Acc: 0.8497, Test Loss: 0.8932, Test Acc: 0.8478\n",
      "Epoch [121/200], Train Loss: 0.8726, Train Acc: 0.8695, Val Loss: 0.8934, Val Acc: 0.8483, Test Loss: 0.8923, Test Acc: 0.8510\n",
      "Epoch [122/200], Train Loss: 0.8692, Train Acc: 0.8734, Val Loss: 0.8958, Val Acc: 0.8475, Test Loss: 0.8920, Test Acc: 0.8505\n",
      "Epoch [123/200], Train Loss: 0.8724, Train Acc: 0.8708, Val Loss: 0.8970, Val Acc: 0.8462, Test Loss: 0.8991, Test Acc: 0.8437\n",
      "Epoch [124/200], Train Loss: 0.8686, Train Acc: 0.8746, Val Loss: 0.8966, Val Acc: 0.8450, Test Loss: 0.8950, Test Acc: 0.8474\n",
      "Epoch [125/200], Train Loss: 0.8732, Train Acc: 0.8706, Val Loss: 0.8957, Val Acc: 0.8473, Test Loss: 0.8936, Test Acc: 0.8489\n",
      "Epoch [126/200], Train Loss: 0.8830, Train Acc: 0.8588, Val Loss: 0.8965, Val Acc: 0.8454, Test Loss: 0.8929, Test Acc: 0.8503\n",
      "Epoch [127/200], Train Loss: 0.8761, Train Acc: 0.8667, Val Loss: 0.8964, Val Acc: 0.8462, Test Loss: 0.8935, Test Acc: 0.8470\n",
      "Epoch [128/200], Train Loss: 0.8682, Train Acc: 0.8751, Val Loss: 0.8924, Val Acc: 0.8506, Test Loss: 0.8899, Test Acc: 0.8534\n",
      "Epoch [129/200], Train Loss: 0.8656, Train Acc: 0.8765, Val Loss: 0.8911, Val Acc: 0.8508, Test Loss: 0.8891, Test Acc: 0.8532\n",
      "Epoch [130/200], Train Loss: 0.8687, Train Acc: 0.8747, Val Loss: 0.8968, Val Acc: 0.8460, Test Loss: 0.8944, Test Acc: 0.8470\n",
      "Epoch [131/200], Train Loss: 0.8669, Train Acc: 0.8759, Val Loss: 0.8970, Val Acc: 0.8456, Test Loss: 0.8948, Test Acc: 0.8474\n",
      "Epoch [132/200], Train Loss: 0.8711, Train Acc: 0.8716, Val Loss: 0.8976, Val Acc: 0.8430, Test Loss: 0.8924, Test Acc: 0.8503\n",
      "Epoch [133/200], Train Loss: 0.8727, Train Acc: 0.8698, Val Loss: 0.8935, Val Acc: 0.8493, Test Loss: 0.8889, Test Acc: 0.8537\n",
      "Epoch [134/200], Train Loss: 0.8655, Train Acc: 0.8774, Val Loss: 0.8918, Val Acc: 0.8504, Test Loss: 0.8886, Test Acc: 0.8532\n",
      "Epoch [135/200], Train Loss: 0.8705, Train Acc: 0.8713, Val Loss: 0.8913, Val Acc: 0.8504, Test Loss: 0.8890, Test Acc: 0.8537\n",
      "Epoch [136/200], Train Loss: 0.8668, Train Acc: 0.8760, Val Loss: 0.8921, Val Acc: 0.8514, Test Loss: 0.8897, Test Acc: 0.8522\n",
      "Epoch [137/200], Train Loss: 0.8693, Train Acc: 0.8734, Val Loss: 0.8916, Val Acc: 0.8520, Test Loss: 0.8910, Test Acc: 0.8512\n",
      "Epoch [138/200], Train Loss: 0.8691, Train Acc: 0.8726, Val Loss: 0.8914, Val Acc: 0.8514, Test Loss: 0.8922, Test Acc: 0.8499\n",
      "Epoch [139/200], Train Loss: 0.8649, Train Acc: 0.8780, Val Loss: 0.8937, Val Acc: 0.8481, Test Loss: 0.8917, Test Acc: 0.8487\n",
      "Epoch [140/200], Train Loss: 0.8623, Train Acc: 0.8816, Val Loss: 0.8920, Val Acc: 0.8504, Test Loss: 0.8876, Test Acc: 0.8532\n",
      "Epoch [141/200], Train Loss: 0.8651, Train Acc: 0.8782, Val Loss: 0.8921, Val Acc: 0.8510, Test Loss: 0.8904, Test Acc: 0.8526\n",
      "Epoch [142/200], Train Loss: 0.8733, Train Acc: 0.8696, Val Loss: 0.8925, Val Acc: 0.8500, Test Loss: 0.8927, Test Acc: 0.8493\n",
      "Epoch [143/200], Train Loss: 0.8655, Train Acc: 0.8777, Val Loss: 0.8942, Val Acc: 0.8497, Test Loss: 0.8950, Test Acc: 0.8481\n",
      "Epoch [144/200], Train Loss: 0.8717, Train Acc: 0.8705, Val Loss: 0.8948, Val Acc: 0.8465, Test Loss: 0.8896, Test Acc: 0.8514\n",
      "Epoch [145/200], Train Loss: 0.8696, Train Acc: 0.8736, Val Loss: 0.8917, Val Acc: 0.8508, Test Loss: 0.8874, Test Acc: 0.8561\n",
      "Epoch [146/200], Train Loss: 0.8705, Train Acc: 0.8731, Val Loss: 0.8901, Val Acc: 0.8528, Test Loss: 0.8891, Test Acc: 0.8530\n",
      "Epoch [147/200], Train Loss: 0.8638, Train Acc: 0.8790, Val Loss: 0.8933, Val Acc: 0.8485, Test Loss: 0.8887, Test Acc: 0.8536\n",
      "Epoch [148/200], Train Loss: 0.8727, Train Acc: 0.8701, Val Loss: 0.8927, Val Acc: 0.8483, Test Loss: 0.8874, Test Acc: 0.8553\n",
      "Epoch [149/200], Train Loss: 0.8725, Train Acc: 0.8690, Val Loss: 0.8902, Val Acc: 0.8520, Test Loss: 0.8862, Test Acc: 0.8563\n",
      "Epoch [150/200], Train Loss: 0.8686, Train Acc: 0.8744, Val Loss: 0.8925, Val Acc: 0.8510, Test Loss: 0.8891, Test Acc: 0.8530\n",
      "Epoch [151/200], Train Loss: 0.8681, Train Acc: 0.8751, Val Loss: 0.8929, Val Acc: 0.8491, Test Loss: 0.8905, Test Acc: 0.8509\n",
      "Epoch [152/200], Train Loss: 0.8685, Train Acc: 0.8737, Val Loss: 0.8930, Val Acc: 0.8500, Test Loss: 0.8913, Test Acc: 0.8520\n",
      "Epoch [153/200], Train Loss: 0.8660, Train Acc: 0.8775, Val Loss: 0.8955, Val Acc: 0.8483, Test Loss: 0.8958, Test Acc: 0.8458\n",
      "Epoch [154/200], Train Loss: 0.8775, Train Acc: 0.8662, Val Loss: 0.8920, Val Acc: 0.8512, Test Loss: 0.8905, Test Acc: 0.8505\n",
      "Epoch [155/200], Train Loss: 0.8636, Train Acc: 0.8797, Val Loss: 0.8914, Val Acc: 0.8512, Test Loss: 0.8901, Test Acc: 0.8522\n",
      "Epoch [156/200], Train Loss: 0.8735, Train Acc: 0.8690, Val Loss: 0.8913, Val Acc: 0.8512, Test Loss: 0.8876, Test Acc: 0.8543\n",
      "Epoch [157/200], Train Loss: 0.8643, Train Acc: 0.8780, Val Loss: 0.8924, Val Acc: 0.8495, Test Loss: 0.8902, Test Acc: 0.8537\n",
      "Epoch [158/200], Train Loss: 0.8686, Train Acc: 0.8747, Val Loss: 0.8911, Val Acc: 0.8508, Test Loss: 0.8903, Test Acc: 0.8512\n",
      "Epoch [159/200], Train Loss: 0.8595, Train Acc: 0.8846, Val Loss: 0.8922, Val Acc: 0.8506, Test Loss: 0.8934, Test Acc: 0.8481\n",
      "Epoch [160/200], Train Loss: 0.8713, Train Acc: 0.8724, Val Loss: 0.8939, Val Acc: 0.8481, Test Loss: 0.8911, Test Acc: 0.8518\n",
      "Epoch [161/200], Train Loss: 0.8731, Train Acc: 0.8687, Val Loss: 0.8913, Val Acc: 0.8522, Test Loss: 0.8878, Test Acc: 0.8551\n",
      "Epoch [162/200], Train Loss: 0.8680, Train Acc: 0.8736, Val Loss: 0.8941, Val Acc: 0.8487, Test Loss: 0.8923, Test Acc: 0.8501\n",
      "Epoch [163/200], Train Loss: 0.8653, Train Acc: 0.8779, Val Loss: 0.8948, Val Acc: 0.8481, Test Loss: 0.8935, Test Acc: 0.8489\n",
      "Epoch [164/200], Train Loss: 0.8643, Train Acc: 0.8787, Val Loss: 0.8964, Val Acc: 0.8460, Test Loss: 0.8915, Test Acc: 0.8509\n",
      "Epoch [165/200], Train Loss: 0.8678, Train Acc: 0.8752, Val Loss: 0.8933, Val Acc: 0.8495, Test Loss: 0.8900, Test Acc: 0.8520\n",
      "Epoch [166/200], Train Loss: 0.8635, Train Acc: 0.8792, Val Loss: 0.8922, Val Acc: 0.8504, Test Loss: 0.8883, Test Acc: 0.8536\n",
      "Epoch [167/200], Train Loss: 0.8659, Train Acc: 0.8765, Val Loss: 0.8938, Val Acc: 0.8489, Test Loss: 0.8884, Test Acc: 0.8530\n",
      "Epoch [168/200], Train Loss: 0.8717, Train Acc: 0.8711, Val Loss: 0.8975, Val Acc: 0.8458, Test Loss: 0.8983, Test Acc: 0.8437\n",
      "Epoch [169/200], Train Loss: 0.8736, Train Acc: 0.8682, Val Loss: 0.8923, Val Acc: 0.8493, Test Loss: 0.8870, Test Acc: 0.8555\n",
      "Epoch [170/200], Train Loss: 0.8694, Train Acc: 0.8723, Val Loss: 0.8932, Val Acc: 0.8495, Test Loss: 0.8926, Test Acc: 0.8487\n",
      "Epoch [171/200], Train Loss: 0.8677, Train Acc: 0.8746, Val Loss: 0.8897, Val Acc: 0.8526, Test Loss: 0.8875, Test Acc: 0.8541\n",
      "Epoch [172/200], Train Loss: 0.8742, Train Acc: 0.8685, Val Loss: 0.8914, Val Acc: 0.8520, Test Loss: 0.8895, Test Acc: 0.8532\n",
      "Epoch [173/200], Train Loss: 0.8717, Train Acc: 0.8711, Val Loss: 0.8909, Val Acc: 0.8518, Test Loss: 0.8866, Test Acc: 0.8561\n",
      "Epoch [174/200], Train Loss: 0.8571, Train Acc: 0.8862, Val Loss: 0.8950, Val Acc: 0.8475, Test Loss: 0.8899, Test Acc: 0.8524\n",
      "Epoch [175/200], Train Loss: 0.8704, Train Acc: 0.8716, Val Loss: 0.8931, Val Acc: 0.8493, Test Loss: 0.8902, Test Acc: 0.8512\n",
      "Epoch [176/200], Train Loss: 0.8662, Train Acc: 0.8762, Val Loss: 0.8931, Val Acc: 0.8504, Test Loss: 0.8884, Test Acc: 0.8547\n",
      "Epoch [177/200], Train Loss: 0.8699, Train Acc: 0.8739, Val Loss: 0.8924, Val Acc: 0.8500, Test Loss: 0.8853, Test Acc: 0.8568\n",
      "Epoch [178/200], Train Loss: 0.8672, Train Acc: 0.8756, Val Loss: 0.8926, Val Acc: 0.8499, Test Loss: 0.8883, Test Acc: 0.8539\n",
      "Epoch [179/200], Train Loss: 0.8670, Train Acc: 0.8760, Val Loss: 0.8905, Val Acc: 0.8522, Test Loss: 0.8839, Test Acc: 0.8601\n",
      "Epoch [180/200], Train Loss: 0.8707, Train Acc: 0.8721, Val Loss: 0.8913, Val Acc: 0.8504, Test Loss: 0.8867, Test Acc: 0.8545\n",
      "Epoch [181/200], Train Loss: 0.8711, Train Acc: 0.8711, Val Loss: 0.8937, Val Acc: 0.8483, Test Loss: 0.8894, Test Acc: 0.8520\n",
      "Epoch [182/200], Train Loss: 0.8706, Train Acc: 0.8726, Val Loss: 0.8930, Val Acc: 0.8497, Test Loss: 0.8877, Test Acc: 0.8549\n",
      "Epoch [183/200], Train Loss: 0.8639, Train Acc: 0.8785, Val Loss: 0.8933, Val Acc: 0.8483, Test Loss: 0.8882, Test Acc: 0.8545\n",
      "Epoch [184/200], Train Loss: 0.8665, Train Acc: 0.8770, Val Loss: 0.8933, Val Acc: 0.8495, Test Loss: 0.8886, Test Acc: 0.8536\n",
      "Epoch [185/200], Train Loss: 0.8696, Train Acc: 0.8728, Val Loss: 0.8913, Val Acc: 0.8510, Test Loss: 0.8869, Test Acc: 0.8545\n",
      "Epoch [186/200], Train Loss: 0.8691, Train Acc: 0.8744, Val Loss: 0.8917, Val Acc: 0.8508, Test Loss: 0.8893, Test Acc: 0.8532\n",
      "Epoch [187/200], Train Loss: 0.8658, Train Acc: 0.8780, Val Loss: 0.8921, Val Acc: 0.8497, Test Loss: 0.8889, Test Acc: 0.8526\n",
      "Epoch [188/200], Train Loss: 0.8702, Train Acc: 0.8733, Val Loss: 0.8913, Val Acc: 0.8514, Test Loss: 0.8849, Test Acc: 0.8574\n",
      "Epoch [189/200], Train Loss: 0.8651, Train Acc: 0.8774, Val Loss: 0.8928, Val Acc: 0.8495, Test Loss: 0.8902, Test Acc: 0.8516\n",
      "Epoch [190/200], Train Loss: 0.8625, Train Acc: 0.8798, Val Loss: 0.8911, Val Acc: 0.8526, Test Loss: 0.8868, Test Acc: 0.8549\n",
      "Epoch [191/200], Train Loss: 0.8647, Train Acc: 0.8788, Val Loss: 0.8931, Val Acc: 0.8487, Test Loss: 0.8902, Test Acc: 0.8512\n",
      "Epoch [192/200], Train Loss: 0.8662, Train Acc: 0.8769, Val Loss: 0.8920, Val Acc: 0.8504, Test Loss: 0.8866, Test Acc: 0.8541\n",
      "Epoch [193/200], Train Loss: 0.8646, Train Acc: 0.8793, Val Loss: 0.8929, Val Acc: 0.8493, Test Loss: 0.8881, Test Acc: 0.8539\n",
      "Epoch [194/200], Train Loss: 0.8647, Train Acc: 0.8785, Val Loss: 0.8913, Val Acc: 0.8516, Test Loss: 0.8857, Test Acc: 0.8576\n",
      "Epoch [195/200], Train Loss: 0.8694, Train Acc: 0.8728, Val Loss: 0.8969, Val Acc: 0.8467, Test Loss: 0.8889, Test Acc: 0.8545\n",
      "Epoch [196/200], Train Loss: 0.8725, Train Acc: 0.8690, Val Loss: 0.9014, Val Acc: 0.8397, Test Loss: 0.8949, Test Acc: 0.8470\n",
      "Epoch [197/200], Train Loss: 0.8768, Train Acc: 0.8659, Val Loss: 0.8961, Val Acc: 0.8462, Test Loss: 0.8873, Test Acc: 0.8551\n",
      "Epoch [198/200], Train Loss: 0.8792, Train Acc: 0.8636, Val Loss: 0.8951, Val Acc: 0.8473, Test Loss: 0.8920, Test Acc: 0.8503\n",
      "Epoch [199/200], Train Loss: 0.8632, Train Acc: 0.8802, Val Loss: 0.8921, Val Acc: 0.8506, Test Loss: 0.8859, Test Acc: 0.8566\n",
      "Epoch [200/200], Train Loss: 0.8684, Train Acc: 0.8744, Val Loss: 0.8926, Val Acc: 0.8506, Test Loss: 0.8848, Test Acc: 0.8566\n",
      "Confusion Matrix:\n",
      "[[1261  330    0    9]\n",
      " [ 196 1399    0    5]\n",
      " [   0    1 1290    0]\n",
      " [   3    6  218 1373]]\n",
      "Accuracy: 0.8739123296667214\n",
      "Recall: 0.8739123296667214\n",
      "F1 Score: 0.8736752231188002\n",
      "Precision: 0.8799111463556706\n",
      "\n",
      "Classification Report:\n",
      "              precision    recall  f1-score   support\n",
      "\n",
      "        Star       0.86      0.79      0.82      1600\n",
      " Binary Star       0.81      0.87      0.84      1600\n",
      "      Galaxy       0.86      1.00      0.92      1291\n",
      "         AGN       0.99      0.86      0.92      1600\n",
      "\n",
      "    accuracy                           0.87      6091\n",
      "   macro avg       0.88      0.88      0.88      6091\n",
      "weighted avg       0.88      0.87      0.87      6091\n",
      "\n"
     ]
    },
    {
     "name": "stderr",
     "output_type": "stream",
     "text": [
      "2024/10/23 11:24:11 WARNING mlflow.utils.requirements_utils: Found torch version (2.4.1+cu124) contains a local version label (+cu124). MLflow logged a pip requirement for this package as 'torch==2.4.1' without the local version label to make it installable from PyPI. To specify pip requirements containing local version labels, please use `conda_env` or `pip_requirements`.\n",
      "2024/10/23 11:24:16 WARNING mlflow.utils.requirements_utils: Found torch version (2.4.1+cu124) contains a local version label (+cu124). MLflow logged a pip requirement for this package as 'torch==2.4.1' without the local version label to make it installable from PyPI. To specify pip requirements containing local version labels, please use `conda_env` or `pip_requirements`.\n",
      "2024/10/23 11:24:16 WARNING mlflow.models.model: Model logged without a signature and input example. Please set `input_example` parameter when logging the model to auto infer the model signature.\n",
      "2024/10/23 11:24:16 INFO mlflow.system_metrics.system_metrics_monitor: Stopping system metrics monitoring...\n",
      "2024/10/23 11:24:16 INFO mlflow.system_metrics.system_metrics_monitor: Successfully terminated system metrics monitoring!\n"
     ]
    },
    {
     "data": {
      "image/png": "[encoded data removed]",
      "text/plain": [
       "<Figure size 800x600 with 1 Axes>"
      ]
     },
     "metadata": {},
     "output_type": "display_data"
    }
   ],
   "source": [
    "# Training parameters\n",
    "num_epochs = 200\n",
    "lr = 1e-4\n",
    "patience = 50\n",
    "batch_size = 256\n",
    "\n",
    "mlflow.end_run()\n",
    "# Start an MLflow run\n",
    "with mlflow.start_run(log_system_metrics=True):\n",
    "    # Log parameters\n",
    "    mlflow.log_param(\"num_epochs\", num_epochs)\n",
    "    mlflow.log_param(\"lr\", lr)\n",
    "    mlflow.log_param(\"patience\", patience)\n",
    "    mlflow.log_param(\"batch_size\", batch_size)\n",
    "    mlflow.log_param(\"num_filters\", filters)\n",
    "    mlflow.log_param(\"dense_units\", dense)\n",
    "    mlflow.log_param(\"dropout_rate\", 0.2)\n",
    "    mlflow.log_param(\"kernel_size\", 9)\n",
    "\n",
    "    # Train the model\n",
    "    trained_model = train_model(model, train_loader, val_loader, test_loader, num_epochs=num_epochs, lr=lr, patience=patience)\n",
    "\n",
    "    # Evaluate the model\n",
    "    print_confusion_matrix(trained_model, train_loader)\n",
    "    # Save the model in MLflow\n",
    "    mlflow.pytorch.log_model(trained_model, \"model\")"
   ]
  },
  {
   "cell_type": "code",
   "execution_count": 7,
   "metadata": {},
   "outputs": [
    {
     "name": "stdout",
     "output_type": "stream",
     "text": [
      "Confusion Matrix:\n",
      "[[1267  329    1    3]\n",
      " [ 202 1391    4    3]\n",
      " [   0    0  372    4]\n",
      " [  12    2  184 1402]]\n",
      "Accuracy: 0.8562596599690881\n",
      "Recall: 0.8562596599690881\n",
      "F1 Score: 0.8585613520149927\n",
      "Precision: 0.8692523683967281\n",
      "\n",
      "Classification Report:\n",
      "              precision    recall  f1-score   support\n",
      "\n",
      "        Star       0.86      0.79      0.82      1600\n",
      " Binary Star       0.81      0.87      0.84      1600\n",
      "      Galaxy       0.66      0.99      0.79       376\n",
      "         AGN       0.99      0.88      0.93      1600\n",
      "\n",
      "    accuracy                           0.86      5176\n",
      "   macro avg       0.83      0.88      0.85      5176\n",
      "weighted avg       0.87      0.86      0.86      5176\n",
      "\n"
     ]
    },
    {
     "data": {
      "image/png": "[encoded data removed]",
      "text/plain": [
       "<Figure size 800x600 with 1 Axes>"
      ]
     },
     "metadata": {},
     "output_type": "display_data"
    }
   ],
   "source": [
    "# Example usage\n",
    "print_confusion_matrix(model, test_loader)\n"
   ]
  },
  {
   "cell_type": "markdown",
   "metadata": {},
   "source": [
    "# BB plus size"
   ]
  },
  {
   "cell_type": "code",
   "execution_count": 4,
   "metadata": {},
   "outputs": [
    {
     "name": "stdout",
     "output_type": "stream",
     "text": [
      "Gaia input size: 17\n",
      "Size of the flattened output: 1024\n",
      "Dense input units: 2048\n",
      "Final sequence length: 1024\n",
      "Number of filters: 1024\n",
      "ConvNetFusion(\n",
      "  (conv_layers): ModuleList(\n",
      "    (0): Conv1d(1, 256, kernel_size=(9,), stride=(1,), padding=(4,))\n",
      "    (1-3): 3 x Conv1d(256, 256, kernel_size=(9,), stride=(1,), padding=(4,))\n",
      "    (4): Conv1d(256, 512, kernel_size=(9,), stride=(1,), padding=(4,))\n",
      "    (5-7): 3 x Conv1d(512, 512, kernel_size=(9,), stride=(1,), padding=(4,))\n",
      "    (8): Conv1d(512, 1024, kernel_size=(9,), stride=(1,), padding=(4,))\n",
      "    (9-10): 2 x Conv1d(1024, 1024, kernel_size=(9,), stride=(1,), padding=(4,))\n",
      "  )\n",
      "  (pool_layers): ModuleList(\n",
      "    (0-10): 11 x MaxPool1d(kernel_size=2, stride=2, padding=0, dilation=1, ceil_mode=False)\n",
      "  )\n",
      "  (dropout): Dropout(p=0.2, inplace=False)\n",
      "  (flatten): Flatten(start_dim=1, end_dim=-1)\n",
      "  (gaia_input_layer): Linear(in_features=17, out_features=1024, bias=True)\n",
      "  (dense_layers): ModuleList(\n",
      "    (0-3): 4 x Linear(in_features=2048, out_features=2048, bias=True)\n",
      "    (4): Linear(in_features=2048, out_features=512, bias=True)\n",
      "    (5): Linear(in_features=512, out_features=128, bias=True)\n",
      "    (6): Linear(in_features=128, out_features=64, bias=True)\n",
      "  )\n",
      "  (output_layer): Linear(in_features=64, out_features=4, bias=True)\n",
      ")\n",
      "Number of parameters: 51555524\n"
     ]
    }
   ],
   "source": [
    "# Initialize model\n",
    "gaia_input_size = X_train_gaia.shape[1]\n",
    "print(f\"Gaia input size: {gaia_input_size}\")\n",
    "filters = [256, 256, 256, 256, 512, 512, 512, 512, 1024, 1024, 1024] \n",
    "dense=[2048, 2048, 2048, 2048, 512, 128, 64]\n",
    "\n",
    "model = ConvNetFusion(input_shape=(3748,), num_classes=4, gaia_input_size=gaia_input_size, \n",
    "                      num_filters=filters, kernel_size=9, dense_units=dense, dropout_rate=0.2, gaia_fusion_units=filters[-1])\n",
    "# Save the model\n",
    "torch.save(model, \"Models/toyv0.pth\")\n",
    "# Print model summary\n",
    "print(model)\n",
    "print(f\"Number of parameters: {sum(p.numel() for p in model.parameters() if p.requires_grad)}\")\n",
    "model = model.to(device)"
   ]
  },
  {
   "cell_type": "code",
   "execution_count": 5,
   "metadata": {},
   "outputs": [
    {
     "name": "stderr",
     "output_type": "stream",
     "text": [
      "2024/10/22 22:46:04 INFO mlflow.system_metrics.system_metrics_monitor: Started monitoring system metrics.\n"
     ]
    },
    {
     "name": "stdout",
     "output_type": "stream",
     "text": [
      "Epoch [1/200], Train Loss: 1.3822, Train Acc: 0.3538, Val Loss: 1.3701, Val Acc: 0.3484, Test Loss: 1.3693, Test Acc: 0.3595\n",
      "Epoch [2/200], Train Loss: 1.2535, Train Acc: 0.5439, Val Loss: 1.1982, Val Acc: 0.6006, Test Loss: 1.1920, Test Acc: 0.6124\n",
      "Epoch [3/200], Train Loss: 1.0880, Train Acc: 0.6492, Val Loss: 1.1154, Val Acc: 0.6002, Test Loss: 1.1076, Test Acc: 0.6107\n",
      "Epoch [4/200], Train Loss: 1.0590, Train Acc: 0.6505, Val Loss: 1.0928, Val Acc: 0.6125, Test Loss: 1.0859, Test Acc: 0.6180\n",
      "Epoch [5/200], Train Loss: 1.0384, Train Acc: 0.6835, Val Loss: 1.0966, Val Acc: 0.6066, Test Loss: 1.0909, Test Acc: 0.6155\n",
      "Epoch [6/200], Train Loss: 1.0326, Train Acc: 0.6789, Val Loss: 1.0872, Val Acc: 0.6127, Test Loss: 1.0818, Test Acc: 0.6188\n",
      "Epoch [7/200], Train Loss: 1.0362, Train Acc: 0.6789, Val Loss: 1.0779, Val Acc: 0.6220, Test Loss: 1.0729, Test Acc: 0.6244\n",
      "Epoch [8/200], Train Loss: 1.0330, Train Acc: 0.6820, Val Loss: 1.0767, Val Acc: 0.6224, Test Loss: 1.0714, Test Acc: 0.6264\n",
      "Epoch [9/200], Train Loss: 1.0280, Train Acc: 0.6830, Val Loss: 1.0713, Val Acc: 0.6259, Test Loss: 1.0656, Test Acc: 0.6306\n",
      "Epoch [10/200], Train Loss: 1.0238, Train Acc: 0.6826, Val Loss: 1.0726, Val Acc: 0.6251, Test Loss: 1.0677, Test Acc: 0.6296\n",
      "Epoch [11/200], Train Loss: 1.0266, Train Acc: 0.6790, Val Loss: 1.0717, Val Acc: 0.6280, Test Loss: 1.0661, Test Acc: 0.6306\n",
      "Epoch [12/200], Train Loss: 1.0231, Train Acc: 0.6853, Val Loss: 1.0663, Val Acc: 0.6286, Test Loss: 1.0601, Test Acc: 0.6345\n",
      "Epoch [13/200], Train Loss: 1.0186, Train Acc: 0.6904, Val Loss: 1.0627, Val Acc: 0.6294, Test Loss: 1.0561, Test Acc: 0.6358\n",
      "Epoch [14/200], Train Loss: 1.0221, Train Acc: 0.6831, Val Loss: 1.0582, Val Acc: 0.6314, Test Loss: 1.0519, Test Acc: 0.6374\n",
      "Epoch [15/200], Train Loss: 1.0167, Train Acc: 0.6895, Val Loss: 1.0550, Val Acc: 0.6339, Test Loss: 1.0497, Test Acc: 0.6379\n",
      "Epoch [16/200], Train Loss: 1.0092, Train Acc: 0.7069, Val Loss: 1.0444, Val Acc: 0.6802, Test Loss: 1.0392, Test Acc: 0.6766\n",
      "Epoch [17/200], Train Loss: 0.9920, Train Acc: 0.7463, Val Loss: 1.0187, Val Acc: 0.7182, Test Loss: 1.0159, Test Acc: 0.7210\n",
      "Epoch [18/200], Train Loss: 0.9786, Train Acc: 0.7600, Val Loss: 1.0105, Val Acc: 0.7233, Test Loss: 1.0076, Test Acc: 0.7282\n",
      "Epoch [19/200], Train Loss: 0.9733, Train Acc: 0.7664, Val Loss: 1.0124, Val Acc: 0.7196, Test Loss: 1.0088, Test Acc: 0.7259\n",
      "Epoch [20/200], Train Loss: 0.9505, Train Acc: 0.7874, Val Loss: 0.9915, Val Acc: 0.7443, Test Loss: 0.9868, Test Acc: 0.7537\n",
      "Epoch [21/200], Train Loss: 0.9498, Train Acc: 0.7922, Val Loss: 0.9786, Val Acc: 0.7616, Test Loss: 0.9783, Test Acc: 0.7599\n",
      "Epoch [22/200], Train Loss: 0.9495, Train Acc: 0.7905, Val Loss: 0.9815, Val Acc: 0.7535, Test Loss: 0.9807, Test Acc: 0.7568\n",
      "Epoch [23/200], Train Loss: 0.9398, Train Acc: 0.8000, Val Loss: 0.9620, Val Acc: 0.7823, Test Loss: 0.9641, Test Acc: 0.7755\n",
      "Epoch [24/200], Train Loss: 0.9316, Train Acc: 0.8087, Val Loss: 0.9562, Val Acc: 0.7838, Test Loss: 0.9549, Test Acc: 0.7861\n",
      "Epoch [25/200], Train Loss: 0.9207, Train Acc: 0.8196, Val Loss: 0.9561, Val Acc: 0.7840, Test Loss: 0.9544, Test Acc: 0.7850\n",
      "Epoch [26/200], Train Loss: 0.9310, Train Acc: 0.8123, Val Loss: 0.9568, Val Acc: 0.7846, Test Loss: 0.9537, Test Acc: 0.7879\n",
      "Epoch [27/200], Train Loss: 0.9288, Train Acc: 0.8138, Val Loss: 0.9533, Val Acc: 0.7877, Test Loss: 0.9507, Test Acc: 0.7900\n",
      "Epoch [28/200], Train Loss: 0.9250, Train Acc: 0.8166, Val Loss: 0.9552, Val Acc: 0.7860, Test Loss: 0.9551, Test Acc: 0.7857\n",
      "Epoch [29/200], Train Loss: 0.9204, Train Acc: 0.8191, Val Loss: 0.9459, Val Acc: 0.7961, Test Loss: 0.9416, Test Acc: 0.8008\n",
      "Epoch [30/200], Train Loss: 0.9155, Train Acc: 0.8256, Val Loss: 0.9423, Val Acc: 0.8000, Test Loss: 0.9412, Test Acc: 0.8012\n",
      "Epoch [31/200], Train Loss: 0.9189, Train Acc: 0.8247, Val Loss: 0.9459, Val Acc: 0.7955, Test Loss: 0.9426, Test Acc: 0.7975\n",
      "Epoch [32/200], Train Loss: 0.9161, Train Acc: 0.8261, Val Loss: 0.9484, Val Acc: 0.7897, Test Loss: 0.9505, Test Acc: 0.7910\n",
      "Epoch [33/200], Train Loss: 0.9066, Train Acc: 0.8362, Val Loss: 0.9409, Val Acc: 0.8018, Test Loss: 0.9436, Test Acc: 0.7958\n",
      "Epoch [34/200], Train Loss: 0.9100, Train Acc: 0.8327, Val Loss: 0.9450, Val Acc: 0.7965, Test Loss: 0.9465, Test Acc: 0.7958\n",
      "Epoch [35/200], Train Loss: 0.9148, Train Acc: 0.8276, Val Loss: 0.9400, Val Acc: 0.8014, Test Loss: 0.9380, Test Acc: 0.8026\n",
      "Epoch [36/200], Train Loss: 0.9117, Train Acc: 0.8312, Val Loss: 0.9372, Val Acc: 0.8047, Test Loss: 0.9368, Test Acc: 0.8043\n",
      "Epoch [37/200], Train Loss: 0.9079, Train Acc: 0.8370, Val Loss: 0.9526, Val Acc: 0.7891, Test Loss: 0.9478, Test Acc: 0.7948\n",
      "Epoch [38/200], Train Loss: 0.9040, Train Acc: 0.8383, Val Loss: 0.9409, Val Acc: 0.7996, Test Loss: 0.9398, Test Acc: 0.8006\n",
      "Epoch [39/200], Train Loss: 0.9074, Train Acc: 0.8358, Val Loss: 0.9362, Val Acc: 0.8053, Test Loss: 0.9352, Test Acc: 0.8058\n",
      "Epoch [40/200], Train Loss: 0.9115, Train Acc: 0.8302, Val Loss: 0.9311, Val Acc: 0.8101, Test Loss: 0.9326, Test Acc: 0.8070\n",
      "Epoch [41/200], Train Loss: 0.8974, Train Acc: 0.8453, Val Loss: 0.9275, Val Acc: 0.8136, Test Loss: 0.9292, Test Acc: 0.8111\n",
      "Epoch [42/200], Train Loss: 0.9040, Train Acc: 0.8378, Val Loss: 0.9277, Val Acc: 0.8138, Test Loss: 0.9290, Test Acc: 0.8116\n",
      "Epoch [43/200], Train Loss: 0.8988, Train Acc: 0.8435, Val Loss: 0.9295, Val Acc: 0.8113, Test Loss: 0.9288, Test Acc: 0.8128\n",
      "Epoch [44/200], Train Loss: 0.8960, Train Acc: 0.8457, Val Loss: 0.9255, Val Acc: 0.8152, Test Loss: 0.9280, Test Acc: 0.8134\n",
      "Epoch [45/200], Train Loss: 0.9022, Train Acc: 0.8401, Val Loss: 0.9268, Val Acc: 0.8160, Test Loss: 0.9287, Test Acc: 0.8118\n",
      "Epoch [46/200], Train Loss: 0.8993, Train Acc: 0.8434, Val Loss: 0.9265, Val Acc: 0.8162, Test Loss: 0.9289, Test Acc: 0.8136\n",
      "Epoch [47/200], Train Loss: 0.8976, Train Acc: 0.8447, Val Loss: 0.9245, Val Acc: 0.8164, Test Loss: 0.9207, Test Acc: 0.8207\n",
      "Epoch [48/200], Train Loss: 0.9016, Train Acc: 0.8411, Val Loss: 0.9275, Val Acc: 0.8152, Test Loss: 0.9257, Test Acc: 0.8165\n",
      "Epoch [49/200], Train Loss: 0.8962, Train Acc: 0.8468, Val Loss: 0.9218, Val Acc: 0.8195, Test Loss: 0.9243, Test Acc: 0.8172\n",
      "Epoch [50/200], Train Loss: 0.8958, Train Acc: 0.8452, Val Loss: 0.9221, Val Acc: 0.8201, Test Loss: 0.9253, Test Acc: 0.8145\n",
      "Epoch [51/200], Train Loss: 0.8960, Train Acc: 0.8458, Val Loss: 0.9190, Val Acc: 0.8238, Test Loss: 0.9195, Test Acc: 0.8217\n",
      "Epoch [52/200], Train Loss: 0.8915, Train Acc: 0.8509, Val Loss: 0.9161, Val Acc: 0.8265, Test Loss: 0.9190, Test Acc: 0.8223\n",
      "Epoch [53/200], Train Loss: 0.8936, Train Acc: 0.8498, Val Loss: 0.9186, Val Acc: 0.8222, Test Loss: 0.9258, Test Acc: 0.8157\n",
      "Epoch [54/200], Train Loss: 0.9006, Train Acc: 0.8412, Val Loss: 0.9187, Val Acc: 0.8218, Test Loss: 0.9210, Test Acc: 0.8211\n",
      "Epoch [55/200], Train Loss: 0.8916, Train Acc: 0.8506, Val Loss: 0.9316, Val Acc: 0.8113, Test Loss: 0.9241, Test Acc: 0.8176\n",
      "Epoch [56/200], Train Loss: 0.8893, Train Acc: 0.8536, Val Loss: 0.9384, Val Acc: 0.8031, Test Loss: 0.9300, Test Acc: 0.8124\n",
      "Epoch [57/200], Train Loss: 0.9047, Train Acc: 0.8366, Val Loss: 0.9211, Val Acc: 0.8208, Test Loss: 0.9252, Test Acc: 0.8155\n",
      "Epoch [58/200], Train Loss: 0.8934, Train Acc: 0.8491, Val Loss: 0.9281, Val Acc: 0.8138, Test Loss: 0.9350, Test Acc: 0.8060\n",
      "Epoch [59/200], Train Loss: 0.8982, Train Acc: 0.8437, Val Loss: 0.9330, Val Acc: 0.8097, Test Loss: 0.9261, Test Acc: 0.8159\n",
      "Epoch [60/200], Train Loss: 0.8987, Train Acc: 0.8439, Val Loss: 0.9223, Val Acc: 0.8206, Test Loss: 0.9210, Test Acc: 0.8199\n",
      "Epoch [61/200], Train Loss: 0.8954, Train Acc: 0.8472, Val Loss: 0.9224, Val Acc: 0.8203, Test Loss: 0.9287, Test Acc: 0.8128\n",
      "Epoch [62/200], Train Loss: 0.8937, Train Acc: 0.8506, Val Loss: 0.9163, Val Acc: 0.8267, Test Loss: 0.9213, Test Acc: 0.8203\n",
      "Epoch [63/200], Train Loss: 0.8894, Train Acc: 0.8531, Val Loss: 0.9187, Val Acc: 0.8228, Test Loss: 0.9154, Test Acc: 0.8257\n",
      "Epoch [64/200], Train Loss: 0.8969, Train Acc: 0.8467, Val Loss: 0.9228, Val Acc: 0.8191, Test Loss: 0.9270, Test Acc: 0.8153\n",
      "Epoch [65/200], Train Loss: 0.8928, Train Acc: 0.8499, Val Loss: 0.9212, Val Acc: 0.8214, Test Loss: 0.9197, Test Acc: 0.8215\n",
      "Epoch [66/200], Train Loss: 0.8875, Train Acc: 0.8559, Val Loss: 0.9191, Val Acc: 0.8226, Test Loss: 0.9169, Test Acc: 0.8257\n",
      "Epoch [67/200], Train Loss: 0.8923, Train Acc: 0.8493, Val Loss: 0.9130, Val Acc: 0.8304, Test Loss: 0.9154, Test Acc: 0.8263\n",
      "Epoch [68/200], Train Loss: 0.8875, Train Acc: 0.8540, Val Loss: 0.9160, Val Acc: 0.8261, Test Loss: 0.9162, Test Acc: 0.8263\n",
      "Epoch [69/200], Train Loss: 0.8831, Train Acc: 0.8600, Val Loss: 0.9165, Val Acc: 0.8253, Test Loss: 0.9162, Test Acc: 0.8253\n",
      "Epoch [70/200], Train Loss: 0.8911, Train Acc: 0.8501, Val Loss: 0.9114, Val Acc: 0.8298, Test Loss: 0.9136, Test Acc: 0.8282\n",
      "Epoch [71/200], Train Loss: 0.8883, Train Acc: 0.8545, Val Loss: 0.9165, Val Acc: 0.8243, Test Loss: 0.9227, Test Acc: 0.8182\n",
      "Epoch [72/200], Train Loss: 0.8841, Train Acc: 0.8583, Val Loss: 0.9156, Val Acc: 0.8243, Test Loss: 0.9146, Test Acc: 0.8275\n",
      "Epoch [73/200], Train Loss: 0.8882, Train Acc: 0.8549, Val Loss: 0.9198, Val Acc: 0.8236, Test Loss: 0.9153, Test Acc: 0.8259\n",
      "Epoch [74/200], Train Loss: 0.8882, Train Acc: 0.8547, Val Loss: 0.9123, Val Acc: 0.8294, Test Loss: 0.9131, Test Acc: 0.8294\n",
      "Epoch [75/200], Train Loss: 0.8939, Train Acc: 0.8490, Val Loss: 0.9159, Val Acc: 0.8255, Test Loss: 0.9190, Test Acc: 0.8238\n",
      "Epoch [76/200], Train Loss: 0.8897, Train Acc: 0.8534, Val Loss: 0.9168, Val Acc: 0.8255, Test Loss: 0.9134, Test Acc: 0.8284\n",
      "Epoch [77/200], Train Loss: 0.8819, Train Acc: 0.8609, Val Loss: 0.9109, Val Acc: 0.8312, Test Loss: 0.9136, Test Acc: 0.8281\n",
      "Epoch [78/200], Train Loss: 0.8777, Train Acc: 0.8649, Val Loss: 0.9142, Val Acc: 0.8273, Test Loss: 0.9146, Test Acc: 0.8263\n",
      "Epoch [79/200], Train Loss: 0.8904, Train Acc: 0.8537, Val Loss: 0.9120, Val Acc: 0.8308, Test Loss: 0.9168, Test Acc: 0.8252\n",
      "Epoch [80/200], Train Loss: 0.8919, Train Acc: 0.8496, Val Loss: 0.9114, Val Acc: 0.8298, Test Loss: 0.9152, Test Acc: 0.8250\n",
      "Epoch [81/200], Train Loss: 0.8845, Train Acc: 0.8578, Val Loss: 0.9181, Val Acc: 0.8247, Test Loss: 0.9217, Test Acc: 0.8203\n",
      "Epoch [82/200], Train Loss: 0.8891, Train Acc: 0.8531, Val Loss: 0.9099, Val Acc: 0.8317, Test Loss: 0.9124, Test Acc: 0.8284\n",
      "Epoch [83/200], Train Loss: 0.8816, Train Acc: 0.8601, Val Loss: 0.9191, Val Acc: 0.8210, Test Loss: 0.9165, Test Acc: 0.8246\n",
      "Epoch [84/200], Train Loss: 0.8903, Train Acc: 0.8532, Val Loss: 0.9111, Val Acc: 0.8308, Test Loss: 0.9135, Test Acc: 0.8273\n",
      "Epoch [85/200], Train Loss: 0.8888, Train Acc: 0.8545, Val Loss: 0.9104, Val Acc: 0.8315, Test Loss: 0.9110, Test Acc: 0.8304\n",
      "Epoch [86/200], Train Loss: 0.8797, Train Acc: 0.8632, Val Loss: 0.9114, Val Acc: 0.8314, Test Loss: 0.9149, Test Acc: 0.8265\n",
      "Epoch [87/200], Train Loss: 0.8888, Train Acc: 0.8537, Val Loss: 0.9240, Val Acc: 0.8187, Test Loss: 0.9213, Test Acc: 0.8207\n",
      "Epoch [88/200], Train Loss: 0.8861, Train Acc: 0.8567, Val Loss: 0.9114, Val Acc: 0.8314, Test Loss: 0.9167, Test Acc: 0.8255\n",
      "Epoch [89/200], Train Loss: 0.8898, Train Acc: 0.8522, Val Loss: 0.9201, Val Acc: 0.8230, Test Loss: 0.9205, Test Acc: 0.8221\n",
      "Epoch [90/200], Train Loss: 0.8990, Train Acc: 0.8434, Val Loss: 0.9215, Val Acc: 0.8204, Test Loss: 0.9194, Test Acc: 0.8224\n",
      "Epoch [91/200], Train Loss: 0.8848, Train Acc: 0.8577, Val Loss: 0.9132, Val Acc: 0.8292, Test Loss: 0.9130, Test Acc: 0.8296\n",
      "Epoch [92/200], Train Loss: 0.8816, Train Acc: 0.8606, Val Loss: 0.9134, Val Acc: 0.8284, Test Loss: 0.9114, Test Acc: 0.8319\n",
      "Epoch [93/200], Train Loss: 0.8804, Train Acc: 0.8624, Val Loss: 0.9113, Val Acc: 0.8306, Test Loss: 0.9152, Test Acc: 0.8257\n",
      "Epoch [94/200], Train Loss: 0.8898, Train Acc: 0.8509, Val Loss: 0.9119, Val Acc: 0.8294, Test Loss: 0.9121, Test Acc: 0.8292\n",
      "Epoch [95/200], Train Loss: 0.8876, Train Acc: 0.8552, Val Loss: 0.9166, Val Acc: 0.8243, Test Loss: 0.9205, Test Acc: 0.8217\n",
      "Epoch [96/200], Train Loss: 0.8854, Train Acc: 0.8572, Val Loss: 0.9094, Val Acc: 0.8323, Test Loss: 0.9095, Test Acc: 0.8325\n",
      "Epoch [97/200], Train Loss: 0.8784, Train Acc: 0.8632, Val Loss: 0.9085, Val Acc: 0.8333, Test Loss: 0.9127, Test Acc: 0.8296\n",
      "Epoch [98/200], Train Loss: 0.8796, Train Acc: 0.8632, Val Loss: 0.9157, Val Acc: 0.8267, Test Loss: 0.9128, Test Acc: 0.8300\n",
      "Epoch [99/200], Train Loss: 0.8812, Train Acc: 0.8614, Val Loss: 0.9122, Val Acc: 0.8310, Test Loss: 0.9117, Test Acc: 0.8308\n",
      "Epoch [100/200], Train Loss: 0.8812, Train Acc: 0.8613, Val Loss: 0.9156, Val Acc: 0.8275, Test Loss: 0.9111, Test Acc: 0.8317\n",
      "Epoch [101/200], Train Loss: 0.8808, Train Acc: 0.8614, Val Loss: 0.9121, Val Acc: 0.8302, Test Loss: 0.9114, Test Acc: 0.8311\n",
      "Epoch [102/200], Train Loss: 0.8842, Train Acc: 0.8578, Val Loss: 0.9207, Val Acc: 0.8214, Test Loss: 0.9175, Test Acc: 0.8246\n",
      "Epoch [103/200], Train Loss: 0.8822, Train Acc: 0.8608, Val Loss: 0.9111, Val Acc: 0.8290, Test Loss: 0.9156, Test Acc: 0.8275\n",
      "Epoch [104/200], Train Loss: 0.8844, Train Acc: 0.8573, Val Loss: 0.9265, Val Acc: 0.8156, Test Loss: 0.9181, Test Acc: 0.8261\n",
      "Epoch [105/200], Train Loss: 0.8986, Train Acc: 0.8442, Val Loss: 0.9197, Val Acc: 0.8224, Test Loss: 0.9223, Test Acc: 0.8205\n",
      "Epoch [106/200], Train Loss: 0.8868, Train Acc: 0.8572, Val Loss: 0.9113, Val Acc: 0.8310, Test Loss: 0.9175, Test Acc: 0.8242\n",
      "Epoch [107/200], Train Loss: 0.8923, Train Acc: 0.8504, Val Loss: 0.9138, Val Acc: 0.8290, Test Loss: 0.9133, Test Acc: 0.8292\n",
      "Epoch [108/200], Train Loss: 0.8853, Train Acc: 0.8567, Val Loss: 0.9139, Val Acc: 0.8273, Test Loss: 0.9186, Test Acc: 0.8230\n",
      "Epoch [109/200], Train Loss: 0.8871, Train Acc: 0.8560, Val Loss: 0.9158, Val Acc: 0.8253, Test Loss: 0.9200, Test Acc: 0.8223\n",
      "Epoch [110/200], Train Loss: 0.8815, Train Acc: 0.8604, Val Loss: 0.9093, Val Acc: 0.8319, Test Loss: 0.9101, Test Acc: 0.8319\n",
      "Epoch [111/200], Train Loss: 0.8828, Train Acc: 0.8596, Val Loss: 0.9087, Val Acc: 0.8335, Test Loss: 0.9106, Test Acc: 0.8325\n",
      "Epoch [112/200], Train Loss: 0.8814, Train Acc: 0.8614, Val Loss: 0.9093, Val Acc: 0.8331, Test Loss: 0.9079, Test Acc: 0.8348\n",
      "Epoch [113/200], Train Loss: 0.8845, Train Acc: 0.8591, Val Loss: 0.9081, Val Acc: 0.8347, Test Loss: 0.9126, Test Acc: 0.8284\n",
      "Epoch [114/200], Train Loss: 0.8769, Train Acc: 0.8664, Val Loss: 0.9122, Val Acc: 0.8304, Test Loss: 0.9104, Test Acc: 0.8331\n",
      "Epoch [115/200], Train Loss: 0.8794, Train Acc: 0.8637, Val Loss: 0.9079, Val Acc: 0.8343, Test Loss: 0.9063, Test Acc: 0.8369\n",
      "Epoch [116/200], Train Loss: 0.8815, Train Acc: 0.8619, Val Loss: 0.9091, Val Acc: 0.8333, Test Loss: 0.9100, Test Acc: 0.8323\n",
      "Epoch [117/200], Train Loss: 0.8715, Train Acc: 0.8713, Val Loss: 0.9106, Val Acc: 0.8314, Test Loss: 0.9078, Test Acc: 0.8344\n",
      "Epoch [118/200], Train Loss: 0.8788, Train Acc: 0.8641, Val Loss: 0.9116, Val Acc: 0.8300, Test Loss: 0.9074, Test Acc: 0.8362\n",
      "Epoch [119/200], Train Loss: 0.8798, Train Acc: 0.8636, Val Loss: 0.9091, Val Acc: 0.8335, Test Loss: 0.9137, Test Acc: 0.8275\n",
      "Epoch [120/200], Train Loss: 0.8789, Train Acc: 0.8639, Val Loss: 0.9107, Val Acc: 0.8319, Test Loss: 0.9069, Test Acc: 0.8348\n",
      "Epoch [121/200], Train Loss: 0.8818, Train Acc: 0.8604, Val Loss: 0.9102, Val Acc: 0.8325, Test Loss: 0.9086, Test Acc: 0.8346\n",
      "Epoch [122/200], Train Loss: 0.8789, Train Acc: 0.8641, Val Loss: 0.9090, Val Acc: 0.8329, Test Loss: 0.9095, Test Acc: 0.8319\n",
      "Epoch [123/200], Train Loss: 0.8871, Train Acc: 0.8550, Val Loss: 0.9162, Val Acc: 0.8243, Test Loss: 0.9176, Test Acc: 0.8253\n",
      "Epoch [124/200], Train Loss: 0.8861, Train Acc: 0.8562, Val Loss: 0.9122, Val Acc: 0.8300, Test Loss: 0.9119, Test Acc: 0.8300\n",
      "Epoch [125/200], Train Loss: 0.8829, Train Acc: 0.8600, Val Loss: 0.9081, Val Acc: 0.8337, Test Loss: 0.9079, Test Acc: 0.8344\n",
      "Epoch [126/200], Train Loss: 0.8756, Train Acc: 0.8669, Val Loss: 0.9127, Val Acc: 0.8298, Test Loss: 0.9207, Test Acc: 0.8224\n",
      "Epoch [127/200], Train Loss: 0.8804, Train Acc: 0.8616, Val Loss: 0.9102, Val Acc: 0.8333, Test Loss: 0.9099, Test Acc: 0.8325\n",
      "Epoch [128/200], Train Loss: 0.8792, Train Acc: 0.8634, Val Loss: 0.9079, Val Acc: 0.8331, Test Loss: 0.9057, Test Acc: 0.8364\n",
      "Epoch [129/200], Train Loss: 0.8824, Train Acc: 0.8604, Val Loss: 0.9067, Val Acc: 0.8368, Test Loss: 0.9062, Test Acc: 0.8354\n",
      "Epoch [130/200], Train Loss: 0.8824, Train Acc: 0.8591, Val Loss: 0.9112, Val Acc: 0.8312, Test Loss: 0.9126, Test Acc: 0.8279\n",
      "Epoch [131/200], Train Loss: 0.8808, Train Acc: 0.8606, Val Loss: 0.9061, Val Acc: 0.8368, Test Loss: 0.9076, Test Acc: 0.8340\n",
      "Epoch [132/200], Train Loss: 0.8800, Train Acc: 0.8627, Val Loss: 0.9079, Val Acc: 0.8339, Test Loss: 0.9099, Test Acc: 0.8317\n",
      "Epoch [133/200], Train Loss: 0.8810, Train Acc: 0.8619, Val Loss: 0.9068, Val Acc: 0.8364, Test Loss: 0.9074, Test Acc: 0.8352\n",
      "Epoch [134/200], Train Loss: 0.8833, Train Acc: 0.8600, Val Loss: 0.9064, Val Acc: 0.8354, Test Loss: 0.9053, Test Acc: 0.8369\n",
      "Epoch [135/200], Train Loss: 0.8724, Train Acc: 0.8714, Val Loss: 0.9052, Val Acc: 0.8372, Test Loss: 0.9048, Test Acc: 0.8369\n",
      "Epoch [136/200], Train Loss: 0.8751, Train Acc: 0.8678, Val Loss: 0.9023, Val Acc: 0.8397, Test Loss: 0.9021, Test Acc: 0.8404\n",
      "Epoch [137/200], Train Loss: 0.8731, Train Acc: 0.8695, Val Loss: 0.9021, Val Acc: 0.8415, Test Loss: 0.9056, Test Acc: 0.8362\n",
      "Epoch [138/200], Train Loss: 0.8759, Train Acc: 0.8678, Val Loss: 0.9045, Val Acc: 0.8384, Test Loss: 0.9045, Test Acc: 0.8373\n",
      "Epoch [139/200], Train Loss: 0.8796, Train Acc: 0.8631, Val Loss: 0.9019, Val Acc: 0.8415, Test Loss: 0.9045, Test Acc: 0.8373\n",
      "Epoch [140/200], Train Loss: 0.8799, Train Acc: 0.8629, Val Loss: 0.9024, Val Acc: 0.8391, Test Loss: 0.9020, Test Acc: 0.8393\n",
      "Epoch [141/200], Train Loss: 0.8727, Train Acc: 0.8687, Val Loss: 0.9019, Val Acc: 0.8405, Test Loss: 0.9019, Test Acc: 0.8402\n",
      "Epoch [142/200], Train Loss: 0.8751, Train Acc: 0.8693, Val Loss: 0.9055, Val Acc: 0.8374, Test Loss: 0.9090, Test Acc: 0.8333\n",
      "Epoch [143/200], Train Loss: 0.8758, Train Acc: 0.8659, Val Loss: 0.9071, Val Acc: 0.8352, Test Loss: 0.9068, Test Acc: 0.8350\n",
      "Epoch [144/200], Train Loss: 0.8775, Train Acc: 0.8649, Val Loss: 0.9041, Val Acc: 0.8384, Test Loss: 0.9055, Test Acc: 0.8367\n",
      "Epoch [145/200], Train Loss: 0.8838, Train Acc: 0.8595, Val Loss: 0.9034, Val Acc: 0.8405, Test Loss: 0.9022, Test Acc: 0.8398\n",
      "Epoch [146/200], Train Loss: 0.8798, Train Acc: 0.8626, Val Loss: 0.9039, Val Acc: 0.8384, Test Loss: 0.9047, Test Acc: 0.8383\n",
      "Epoch [147/200], Train Loss: 0.8794, Train Acc: 0.8639, Val Loss: 0.9019, Val Acc: 0.8409, Test Loss: 0.9026, Test Acc: 0.8389\n",
      "Epoch [148/200], Train Loss: 0.8777, Train Acc: 0.8646, Val Loss: 0.9023, Val Acc: 0.8401, Test Loss: 0.9031, Test Acc: 0.8381\n",
      "Epoch [149/200], Train Loss: 0.8741, Train Acc: 0.8678, Val Loss: 0.9079, Val Acc: 0.8345, Test Loss: 0.9106, Test Acc: 0.8321\n",
      "Epoch [150/200], Train Loss: 0.8773, Train Acc: 0.8655, Val Loss: 0.9107, Val Acc: 0.8308, Test Loss: 0.9057, Test Acc: 0.8366\n",
      "Epoch [151/200], Train Loss: 0.8806, Train Acc: 0.8621, Val Loss: 0.9075, Val Acc: 0.8343, Test Loss: 0.9050, Test Acc: 0.8369\n",
      "Epoch [152/200], Train Loss: 0.8820, Train Acc: 0.8606, Val Loss: 0.9048, Val Acc: 0.8376, Test Loss: 0.9034, Test Acc: 0.8393\n",
      "Epoch [153/200], Train Loss: 0.8731, Train Acc: 0.8688, Val Loss: 0.9054, Val Acc: 0.8362, Test Loss: 0.9081, Test Acc: 0.8340\n",
      "Epoch [154/200], Train Loss: 0.8789, Train Acc: 0.8624, Val Loss: 0.9047, Val Acc: 0.8380, Test Loss: 0.9043, Test Acc: 0.8373\n",
      "Epoch [155/200], Train Loss: 0.8817, Train Acc: 0.8608, Val Loss: 0.9018, Val Acc: 0.8409, Test Loss: 0.9025, Test Acc: 0.8395\n",
      "Epoch [156/200], Train Loss: 0.8783, Train Acc: 0.8639, Val Loss: 0.9024, Val Acc: 0.8399, Test Loss: 0.9023, Test Acc: 0.8412\n",
      "Epoch [157/200], Train Loss: 0.8773, Train Acc: 0.8652, Val Loss: 0.8993, Val Acc: 0.8423, Test Loss: 0.9022, Test Acc: 0.8398\n",
      "Epoch [158/200], Train Loss: 0.8745, Train Acc: 0.8682, Val Loss: 0.9069, Val Acc: 0.8341, Test Loss: 0.9055, Test Acc: 0.8375\n",
      "Epoch [159/200], Train Loss: 0.8729, Train Acc: 0.8690, Val Loss: 0.9075, Val Acc: 0.8352, Test Loss: 0.9060, Test Acc: 0.8362\n",
      "Epoch [160/200], Train Loss: 0.8791, Train Acc: 0.8632, Val Loss: 0.9045, Val Acc: 0.8374, Test Loss: 0.9016, Test Acc: 0.8400\n",
      "Epoch [161/200], Train Loss: 0.8793, Train Acc: 0.8636, Val Loss: 0.9063, Val Acc: 0.8358, Test Loss: 0.9026, Test Acc: 0.8396\n",
      "Epoch [162/200], Train Loss: 0.8846, Train Acc: 0.8580, Val Loss: 0.9015, Val Acc: 0.8411, Test Loss: 0.9052, Test Acc: 0.8367\n",
      "Epoch [163/200], Train Loss: 0.8774, Train Acc: 0.8662, Val Loss: 0.9084, Val Acc: 0.8347, Test Loss: 0.9132, Test Acc: 0.8290\n",
      "Epoch [164/200], Train Loss: 0.8791, Train Acc: 0.8631, Val Loss: 0.9073, Val Acc: 0.8339, Test Loss: 0.9110, Test Acc: 0.8325\n",
      "Epoch [165/200], Train Loss: 0.8810, Train Acc: 0.8624, Val Loss: 0.9069, Val Acc: 0.8347, Test Loss: 0.9052, Test Acc: 0.8387\n",
      "Epoch [166/200], Train Loss: 0.8729, Train Acc: 0.8690, Val Loss: 0.9044, Val Acc: 0.8372, Test Loss: 0.9035, Test Acc: 0.8366\n",
      "Epoch [167/200], Train Loss: 0.8721, Train Acc: 0.8705, Val Loss: 0.9076, Val Acc: 0.8339, Test Loss: 0.9035, Test Acc: 0.8377\n",
      "Epoch [168/200], Train Loss: 0.8801, Train Acc: 0.8632, Val Loss: 0.9053, Val Acc: 0.8362, Test Loss: 0.9049, Test Acc: 0.8379\n",
      "Epoch [169/200], Train Loss: 0.8731, Train Acc: 0.8701, Val Loss: 0.9075, Val Acc: 0.8349, Test Loss: 0.9103, Test Acc: 0.8311\n",
      "Epoch [170/200], Train Loss: 0.8747, Train Acc: 0.8675, Val Loss: 0.9061, Val Acc: 0.8362, Test Loss: 0.9058, Test Acc: 0.8369\n",
      "Epoch [171/200], Train Loss: 0.8810, Train Acc: 0.8619, Val Loss: 0.9101, Val Acc: 0.8319, Test Loss: 0.9086, Test Acc: 0.8319\n",
      "Epoch [172/200], Train Loss: 0.8793, Train Acc: 0.8629, Val Loss: 0.9101, Val Acc: 0.8325, Test Loss: 0.9064, Test Acc: 0.8362\n",
      "Epoch [173/200], Train Loss: 0.8774, Train Acc: 0.8660, Val Loss: 0.9032, Val Acc: 0.8386, Test Loss: 0.9051, Test Acc: 0.8385\n",
      "Epoch [174/200], Train Loss: 0.8793, Train Acc: 0.8634, Val Loss: 0.9066, Val Acc: 0.8370, Test Loss: 0.9076, Test Acc: 0.8344\n",
      "Epoch [175/200], Train Loss: 0.8791, Train Acc: 0.8634, Val Loss: 0.9018, Val Acc: 0.8409, Test Loss: 0.9024, Test Acc: 0.8396\n",
      "Epoch [176/200], Train Loss: 0.8760, Train Acc: 0.8660, Val Loss: 0.9063, Val Acc: 0.8364, Test Loss: 0.9068, Test Acc: 0.8346\n",
      "Epoch [177/200], Train Loss: 0.8801, Train Acc: 0.8632, Val Loss: 0.9036, Val Acc: 0.8376, Test Loss: 0.9026, Test Acc: 0.8391\n",
      "Epoch [178/200], Train Loss: 0.8750, Train Acc: 0.8665, Val Loss: 0.9044, Val Acc: 0.8376, Test Loss: 0.9047, Test Acc: 0.8377\n",
      "Epoch [179/200], Train Loss: 0.8857, Train Acc: 0.8565, Val Loss: 0.9069, Val Acc: 0.8352, Test Loss: 0.9045, Test Acc: 0.8373\n"
     ]
    },
    {
     "name": "stderr",
     "output_type": "stream",
     "text": [
      "2024/10/23 06:36:56 INFO mlflow.system_metrics.system_metrics_monitor: Stopping system metrics monitoring...\n",
      "2024/10/23 06:36:56 INFO mlflow.system_metrics.system_metrics_monitor: Successfully terminated system metrics monitoring!\n"
     ]
    },
    {
     "name": "stdout",
     "output_type": "stream",
     "text": [
      "Early stopping triggered.\n"
     ]
    },
    {
     "ename": "RuntimeError",
     "evalue": "Input type (torch.FloatTensor) and weight type (torch.cuda.FloatTensor) should be the same or input should be a MKLDNN tensor and weight is a dense tensor",
     "output_type": "error",
     "traceback": [
      "\u001b[1;31m---------------------------------------------------------------------------\u001b[0m",
      "\u001b[1;31mRuntimeError\u001b[0m                              Traceback (most recent call last)",
      "Cell \u001b[1;32mIn[5], line 24\u001b[0m\n\u001b[0;32m     21\u001b[0m trained_model \u001b[38;5;241m=\u001b[39m train_model(model, train_loader, val_loader, test_loader, num_epochs\u001b[38;5;241m=\u001b[39mnum_epochs, lr\u001b[38;5;241m=\u001b[39mlr, patience\u001b[38;5;241m=\u001b[39mpatience)\n\u001b[0;32m     23\u001b[0m \u001b[38;5;66;03m# Evaluate the model\u001b[39;00m\n\u001b[1;32m---> 24\u001b[0m \u001b[43mprint_confusion_matrix\u001b[49m\u001b[43m(\u001b[49m\u001b[43mtrained_model\u001b[49m\u001b[43m,\u001b[49m\u001b[43m \u001b[49m\u001b[43mtrain_loader\u001b[49m\u001b[43m)\u001b[49m\n\u001b[0;32m     25\u001b[0m \u001b[38;5;66;03m# Save the model in MLflow\u001b[39;00m\n\u001b[0;32m     26\u001b[0m mlflow\u001b[38;5;241m.\u001b[39mpytorch\u001b[38;5;241m.\u001b[39mlog_model(trained_model, \u001b[38;5;124m\"\u001b[39m\u001b[38;5;124mmodel\u001b[39m\u001b[38;5;124m\"\u001b[39m)\n",
      "Cell \u001b[1;32mIn[2], line 197\u001b[0m, in \u001b[0;36mprint_confusion_matrix\u001b[1;34m(model, val_loader)\u001b[0m\n\u001b[0;32m    195\u001b[0m \u001b[38;5;28;01mwith\u001b[39;00m torch\u001b[38;5;241m.\u001b[39mno_grad():\n\u001b[0;32m    196\u001b[0m     \u001b[38;5;28;01mfor\u001b[39;00m X_conv, X_gaia, y \u001b[38;5;129;01min\u001b[39;00m val_loader:\n\u001b[1;32m--> 197\u001b[0m         outputs \u001b[38;5;241m=\u001b[39m \u001b[43mmodel\u001b[49m\u001b[43m(\u001b[49m\u001b[43mX_conv\u001b[49m\u001b[43m,\u001b[49m\u001b[43m \u001b[49m\u001b[43mX_gaia\u001b[49m\u001b[43m)\u001b[49m\n\u001b[0;32m    198\u001b[0m         _, predicted \u001b[38;5;241m=\u001b[39m torch\u001b[38;5;241m.\u001b[39mmax(outputs, \u001b[38;5;241m1\u001b[39m)\n\u001b[0;32m    199\u001b[0m         all_preds\u001b[38;5;241m.\u001b[39mextend(predicted\u001b[38;5;241m.\u001b[39mcpu()\u001b[38;5;241m.\u001b[39mnumpy())\n",
      "File \u001b[1;32m~\\AppData\\Local\\Packages\\PythonSoftwareFoundation.Python.3.11_qbz5n2kfra8p0\\LocalCache\\local-packages\\Python311\\site-packages\\torch\\nn\\modules\\module.py:1553\u001b[0m, in \u001b[0;36mModule._wrapped_call_impl\u001b[1;34m(self, *args, **kwargs)\u001b[0m\n\u001b[0;32m   1551\u001b[0m     \u001b[38;5;28;01mreturn\u001b[39;00m \u001b[38;5;28mself\u001b[39m\u001b[38;5;241m.\u001b[39m_compiled_call_impl(\u001b[38;5;241m*\u001b[39margs, \u001b[38;5;241m*\u001b[39m\u001b[38;5;241m*\u001b[39mkwargs)  \u001b[38;5;66;03m# type: ignore[misc]\u001b[39;00m\n\u001b[0;32m   1552\u001b[0m \u001b[38;5;28;01melse\u001b[39;00m:\n\u001b[1;32m-> 1553\u001b[0m     \u001b[38;5;28;01mreturn\u001b[39;00m \u001b[38;5;28;43mself\u001b[39;49m\u001b[38;5;241;43m.\u001b[39;49m\u001b[43m_call_impl\u001b[49m\u001b[43m(\u001b[49m\u001b[38;5;241;43m*\u001b[39;49m\u001b[43margs\u001b[49m\u001b[43m,\u001b[49m\u001b[43m \u001b[49m\u001b[38;5;241;43m*\u001b[39;49m\u001b[38;5;241;43m*\u001b[39;49m\u001b[43mkwargs\u001b[49m\u001b[43m)\u001b[49m\n",
      "File \u001b[1;32m~\\AppData\\Local\\Packages\\PythonSoftwareFoundation.Python.3.11_qbz5n2kfra8p0\\LocalCache\\local-packages\\Python311\\site-packages\\torch\\nn\\modules\\module.py:1562\u001b[0m, in \u001b[0;36mModule._call_impl\u001b[1;34m(self, *args, **kwargs)\u001b[0m\n\u001b[0;32m   1557\u001b[0m \u001b[38;5;66;03m# If we don't have any hooks, we want to skip the rest of the logic in\u001b[39;00m\n\u001b[0;32m   1558\u001b[0m \u001b[38;5;66;03m# this function, and just call forward.\u001b[39;00m\n\u001b[0;32m   1559\u001b[0m \u001b[38;5;28;01mif\u001b[39;00m \u001b[38;5;129;01mnot\u001b[39;00m (\u001b[38;5;28mself\u001b[39m\u001b[38;5;241m.\u001b[39m_backward_hooks \u001b[38;5;129;01mor\u001b[39;00m \u001b[38;5;28mself\u001b[39m\u001b[38;5;241m.\u001b[39m_backward_pre_hooks \u001b[38;5;129;01mor\u001b[39;00m \u001b[38;5;28mself\u001b[39m\u001b[38;5;241m.\u001b[39m_forward_hooks \u001b[38;5;129;01mor\u001b[39;00m \u001b[38;5;28mself\u001b[39m\u001b[38;5;241m.\u001b[39m_forward_pre_hooks\n\u001b[0;32m   1560\u001b[0m         \u001b[38;5;129;01mor\u001b[39;00m _global_backward_pre_hooks \u001b[38;5;129;01mor\u001b[39;00m _global_backward_hooks\n\u001b[0;32m   1561\u001b[0m         \u001b[38;5;129;01mor\u001b[39;00m _global_forward_hooks \u001b[38;5;129;01mor\u001b[39;00m _global_forward_pre_hooks):\n\u001b[1;32m-> 1562\u001b[0m     \u001b[38;5;28;01mreturn\u001b[39;00m \u001b[43mforward_call\u001b[49m\u001b[43m(\u001b[49m\u001b[38;5;241;43m*\u001b[39;49m\u001b[43margs\u001b[49m\u001b[43m,\u001b[49m\u001b[43m \u001b[49m\u001b[38;5;241;43m*\u001b[39;49m\u001b[38;5;241;43m*\u001b[39;49m\u001b[43mkwargs\u001b[49m\u001b[43m)\u001b[49m\n\u001b[0;32m   1564\u001b[0m \u001b[38;5;28;01mtry\u001b[39;00m:\n\u001b[0;32m   1565\u001b[0m     result \u001b[38;5;241m=\u001b[39m \u001b[38;5;28;01mNone\u001b[39;00m\n",
      "Cell \u001b[1;32mIn[2], line 49\u001b[0m, in \u001b[0;36mConvNetFusion.forward\u001b[1;34m(self, x_conv, x_gaia)\u001b[0m\n\u001b[0;32m     46\u001b[0m \u001b[38;5;28;01mdef\u001b[39;00m \u001b[38;5;21mforward\u001b[39m(\u001b[38;5;28mself\u001b[39m, x_conv, x_gaia):\n\u001b[0;32m     47\u001b[0m     \u001b[38;5;66;03m# Pass through convolutional layers\u001b[39;00m\n\u001b[0;32m     48\u001b[0m     \u001b[38;5;28;01mfor\u001b[39;00m conv_layer, pool_layer \u001b[38;5;129;01min\u001b[39;00m \u001b[38;5;28mzip\u001b[39m(\u001b[38;5;28mself\u001b[39m\u001b[38;5;241m.\u001b[39mconv_layers, \u001b[38;5;28mself\u001b[39m\u001b[38;5;241m.\u001b[39mpool_layers):\n\u001b[1;32m---> 49\u001b[0m         x_conv \u001b[38;5;241m=\u001b[39m pool_layer(torch\u001b[38;5;241m.\u001b[39mrelu(\u001b[43mconv_layer\u001b[49m\u001b[43m(\u001b[49m\u001b[43mx_conv\u001b[49m\u001b[43m)\u001b[49m))\n\u001b[0;32m     50\u001b[0m         x_conv \u001b[38;5;241m=\u001b[39m \u001b[38;5;28mself\u001b[39m\u001b[38;5;241m.\u001b[39mdropout(x_conv)\n\u001b[0;32m     51\u001b[0m     \u001b[38;5;66;03m# Flatten the conv output\u001b[39;00m\n",
      "File \u001b[1;32m~\\AppData\\Local\\Packages\\PythonSoftwareFoundation.Python.3.11_qbz5n2kfra8p0\\LocalCache\\local-packages\\Python311\\site-packages\\torch\\nn\\modules\\module.py:1553\u001b[0m, in \u001b[0;36mModule._wrapped_call_impl\u001b[1;34m(self, *args, **kwargs)\u001b[0m\n\u001b[0;32m   1551\u001b[0m     \u001b[38;5;28;01mreturn\u001b[39;00m \u001b[38;5;28mself\u001b[39m\u001b[38;5;241m.\u001b[39m_compiled_call_impl(\u001b[38;5;241m*\u001b[39margs, \u001b[38;5;241m*\u001b[39m\u001b[38;5;241m*\u001b[39mkwargs)  \u001b[38;5;66;03m# type: ignore[misc]\u001b[39;00m\n\u001b[0;32m   1552\u001b[0m \u001b[38;5;28;01melse\u001b[39;00m:\n\u001b[1;32m-> 1553\u001b[0m     \u001b[38;5;28;01mreturn\u001b[39;00m \u001b[38;5;28;43mself\u001b[39;49m\u001b[38;5;241;43m.\u001b[39;49m\u001b[43m_call_impl\u001b[49m\u001b[43m(\u001b[49m\u001b[38;5;241;43m*\u001b[39;49m\u001b[43margs\u001b[49m\u001b[43m,\u001b[49m\u001b[43m \u001b[49m\u001b[38;5;241;43m*\u001b[39;49m\u001b[38;5;241;43m*\u001b[39;49m\u001b[43mkwargs\u001b[49m\u001b[43m)\u001b[49m\n",
      "File \u001b[1;32m~\\AppData\\Local\\Packages\\PythonSoftwareFoundation.Python.3.11_qbz5n2kfra8p0\\LocalCache\\local-packages\\Python311\\site-packages\\torch\\nn\\modules\\module.py:1562\u001b[0m, in \u001b[0;36mModule._call_impl\u001b[1;34m(self, *args, **kwargs)\u001b[0m\n\u001b[0;32m   1557\u001b[0m \u001b[38;5;66;03m# If we don't have any hooks, we want to skip the rest of the logic in\u001b[39;00m\n\u001b[0;32m   1558\u001b[0m \u001b[38;5;66;03m# this function, and just call forward.\u001b[39;00m\n\u001b[0;32m   1559\u001b[0m \u001b[38;5;28;01mif\u001b[39;00m \u001b[38;5;129;01mnot\u001b[39;00m (\u001b[38;5;28mself\u001b[39m\u001b[38;5;241m.\u001b[39m_backward_hooks \u001b[38;5;129;01mor\u001b[39;00m \u001b[38;5;28mself\u001b[39m\u001b[38;5;241m.\u001b[39m_backward_pre_hooks \u001b[38;5;129;01mor\u001b[39;00m \u001b[38;5;28mself\u001b[39m\u001b[38;5;241m.\u001b[39m_forward_hooks \u001b[38;5;129;01mor\u001b[39;00m \u001b[38;5;28mself\u001b[39m\u001b[38;5;241m.\u001b[39m_forward_pre_hooks\n\u001b[0;32m   1560\u001b[0m         \u001b[38;5;129;01mor\u001b[39;00m _global_backward_pre_hooks \u001b[38;5;129;01mor\u001b[39;00m _global_backward_hooks\n\u001b[0;32m   1561\u001b[0m         \u001b[38;5;129;01mor\u001b[39;00m _global_forward_hooks \u001b[38;5;129;01mor\u001b[39;00m _global_forward_pre_hooks):\n\u001b[1;32m-> 1562\u001b[0m     \u001b[38;5;28;01mreturn\u001b[39;00m \u001b[43mforward_call\u001b[49m\u001b[43m(\u001b[49m\u001b[38;5;241;43m*\u001b[39;49m\u001b[43margs\u001b[49m\u001b[43m,\u001b[49m\u001b[43m \u001b[49m\u001b[38;5;241;43m*\u001b[39;49m\u001b[38;5;241;43m*\u001b[39;49m\u001b[43mkwargs\u001b[49m\u001b[43m)\u001b[49m\n\u001b[0;32m   1564\u001b[0m \u001b[38;5;28;01mtry\u001b[39;00m:\n\u001b[0;32m   1565\u001b[0m     result \u001b[38;5;241m=\u001b[39m \u001b[38;5;28;01mNone\u001b[39;00m\n",
      "File \u001b[1;32m~\\AppData\\Local\\Packages\\PythonSoftwareFoundation.Python.3.11_qbz5n2kfra8p0\\LocalCache\\local-packages\\Python311\\site-packages\\torch\\nn\\modules\\conv.py:308\u001b[0m, in \u001b[0;36mConv1d.forward\u001b[1;34m(self, input)\u001b[0m\n\u001b[0;32m    307\u001b[0m \u001b[38;5;28;01mdef\u001b[39;00m \u001b[38;5;21mforward\u001b[39m(\u001b[38;5;28mself\u001b[39m, \u001b[38;5;28minput\u001b[39m: Tensor) \u001b[38;5;241m-\u001b[39m\u001b[38;5;241m>\u001b[39m Tensor:\n\u001b[1;32m--> 308\u001b[0m     \u001b[38;5;28;01mreturn\u001b[39;00m \u001b[38;5;28;43mself\u001b[39;49m\u001b[38;5;241;43m.\u001b[39;49m\u001b[43m_conv_forward\u001b[49m\u001b[43m(\u001b[49m\u001b[38;5;28;43minput\u001b[39;49m\u001b[43m,\u001b[49m\u001b[43m \u001b[49m\u001b[38;5;28;43mself\u001b[39;49m\u001b[38;5;241;43m.\u001b[39;49m\u001b[43mweight\u001b[49m\u001b[43m,\u001b[49m\u001b[43m \u001b[49m\u001b[38;5;28;43mself\u001b[39;49m\u001b[38;5;241;43m.\u001b[39;49m\u001b[43mbias\u001b[49m\u001b[43m)\u001b[49m\n",
      "File \u001b[1;32m~\\AppData\\Local\\Packages\\PythonSoftwareFoundation.Python.3.11_qbz5n2kfra8p0\\LocalCache\\local-packages\\Python311\\site-packages\\torch\\nn\\modules\\conv.py:304\u001b[0m, in \u001b[0;36mConv1d._conv_forward\u001b[1;34m(self, input, weight, bias)\u001b[0m\n\u001b[0;32m    300\u001b[0m \u001b[38;5;28;01mif\u001b[39;00m \u001b[38;5;28mself\u001b[39m\u001b[38;5;241m.\u001b[39mpadding_mode \u001b[38;5;241m!=\u001b[39m \u001b[38;5;124m'\u001b[39m\u001b[38;5;124mzeros\u001b[39m\u001b[38;5;124m'\u001b[39m:\n\u001b[0;32m    301\u001b[0m     \u001b[38;5;28;01mreturn\u001b[39;00m F\u001b[38;5;241m.\u001b[39mconv1d(F\u001b[38;5;241m.\u001b[39mpad(\u001b[38;5;28minput\u001b[39m, \u001b[38;5;28mself\u001b[39m\u001b[38;5;241m.\u001b[39m_reversed_padding_repeated_twice, mode\u001b[38;5;241m=\u001b[39m\u001b[38;5;28mself\u001b[39m\u001b[38;5;241m.\u001b[39mpadding_mode),\n\u001b[0;32m    302\u001b[0m                     weight, bias, \u001b[38;5;28mself\u001b[39m\u001b[38;5;241m.\u001b[39mstride,\n\u001b[0;32m    303\u001b[0m                     _single(\u001b[38;5;241m0\u001b[39m), \u001b[38;5;28mself\u001b[39m\u001b[38;5;241m.\u001b[39mdilation, \u001b[38;5;28mself\u001b[39m\u001b[38;5;241m.\u001b[39mgroups)\n\u001b[1;32m--> 304\u001b[0m \u001b[38;5;28;01mreturn\u001b[39;00m \u001b[43mF\u001b[49m\u001b[38;5;241;43m.\u001b[39;49m\u001b[43mconv1d\u001b[49m\u001b[43m(\u001b[49m\u001b[38;5;28;43minput\u001b[39;49m\u001b[43m,\u001b[49m\u001b[43m \u001b[49m\u001b[43mweight\u001b[49m\u001b[43m,\u001b[49m\u001b[43m \u001b[49m\u001b[43mbias\u001b[49m\u001b[43m,\u001b[49m\u001b[43m \u001b[49m\u001b[38;5;28;43mself\u001b[39;49m\u001b[38;5;241;43m.\u001b[39;49m\u001b[43mstride\u001b[49m\u001b[43m,\u001b[49m\n\u001b[0;32m    305\u001b[0m \u001b[43m                \u001b[49m\u001b[38;5;28;43mself\u001b[39;49m\u001b[38;5;241;43m.\u001b[39;49m\u001b[43mpadding\u001b[49m\u001b[43m,\u001b[49m\u001b[43m \u001b[49m\u001b[38;5;28;43mself\u001b[39;49m\u001b[38;5;241;43m.\u001b[39;49m\u001b[43mdilation\u001b[49m\u001b[43m,\u001b[49m\u001b[43m \u001b[49m\u001b[38;5;28;43mself\u001b[39;49m\u001b[38;5;241;43m.\u001b[39;49m\u001b[43mgroups\u001b[49m\u001b[43m)\u001b[49m\n",
      "\u001b[1;31mRuntimeError\u001b[0m: Input type (torch.FloatTensor) and weight type (torch.cuda.FloatTensor) should be the same or input should be a MKLDNN tensor and weight is a dense tensor"
     ]
    }
   ],
   "source": [
    "# Training parameters\n",
    "num_epochs = 200\n",
    "lr = 1e-4\n",
    "patience = 20\n",
    "batch_size = 256\n",
    "\n",
    "mlflow.end_run()\n",
    "# Start an MLflow run\n",
    "with mlflow.start_run(log_system_metrics=True):\n",
    "    # Log parameters\n",
    "    mlflow.log_param(\"num_epochs\", num_epochs)\n",
    "    mlflow.log_param(\"lr\", lr)\n",
    "    mlflow.log_param(\"patience\", patience)\n",
    "    mlflow.log_param(\"batch_size\", batch_size)\n",
    "    mlflow.log_param(\"num_filters\", filters)\n",
    "    mlflow.log_param(\"dense_units\", dense)\n",
    "    mlflow.log_param(\"dropout_rate\", 0.2)\n",
    "    mlflow.log_param(\"kernel_size\", 9)\n",
    "\n",
    "    # Train the model\n",
    "    trained_model = train_model(model, train_loader, val_loader, test_loader, num_epochs=num_epochs, lr=lr, patience=patience)\n",
    "\n",
    "    # Evaluate the model\n",
    "    print_confusion_matrix(trained_model, train_loader)\n",
    "    # Save the model in MLflow\n",
    "    mlflow.pytorch.log_model(trained_model, \"model\")"
   ]
  },
  {
   "cell_type": "code",
   "execution_count": 6,
   "metadata": {},
   "outputs": [
    {
     "ename": "ValueError",
     "evalue": "too many values to unpack (expected 2)",
     "output_type": "error",
     "traceback": [
      "\u001b[1;31m---------------------------------------------------------------------------\u001b[0m",
      "\u001b[1;31mValueError\u001b[0m                                Traceback (most recent call last)",
      "Cell \u001b[1;32mIn[6], line 30\u001b[0m\n\u001b[0;32m     27\u001b[0m     plt\u001b[38;5;241m.\u001b[39mshow()\n\u001b[0;32m     29\u001b[0m \u001b[38;5;66;03m# Evaluate the model\u001b[39;00m\n\u001b[1;32m---> 30\u001b[0m \u001b[43mprint_confusion_matrix\u001b[49m\u001b[43m(\u001b[49m\u001b[43mtrained_model\u001b[49m\u001b[43m,\u001b[49m\u001b[43m \u001b[49m\u001b[43mtrain_loader\u001b[49m\u001b[43m)\u001b[49m\n\u001b[0;32m     31\u001b[0m \u001b[38;5;66;03m# Save the model in MLflow\u001b[39;00m\n\u001b[0;32m     32\u001b[0m mlflow\u001b[38;5;241m.\u001b[39mpytorch\u001b[38;5;241m.\u001b[39mlog_model(trained_model, \u001b[38;5;124m\"\u001b[39m\u001b[38;5;124mmodel\u001b[39m\u001b[38;5;124m\"\u001b[39m)\n",
      "Cell \u001b[1;32mIn[6], line 7\u001b[0m, in \u001b[0;36mprint_confusion_matrix\u001b[1;34m(model, val_loader, device)\u001b[0m\n\u001b[0;32m      5\u001b[0m all_labels \u001b[38;5;241m=\u001b[39m []\n\u001b[0;32m      6\u001b[0m \u001b[38;5;28;01mwith\u001b[39;00m torch\u001b[38;5;241m.\u001b[39mno_grad():\n\u001b[1;32m----> 7\u001b[0m     \u001b[38;5;28;01mfor\u001b[39;00m X_batch, y_batch \u001b[38;5;129;01min\u001b[39;00m val_loader:\n\u001b[0;32m      8\u001b[0m         X_batch \u001b[38;5;241m=\u001b[39m X_batch\u001b[38;5;241m.\u001b[39mto(device)\n\u001b[0;32m      9\u001b[0m         preds \u001b[38;5;241m=\u001b[39m model(X_batch)\u001b[38;5;241m.\u001b[39mcpu()\u001b[38;5;241m.\u001b[39mnumpy()\n",
      "\u001b[1;31mValueError\u001b[0m: too many values to unpack (expected 2)"
     ]
    }
   ],
   "source": [
    "# Evaluate the model\n",
    "print_confusion_matrix(trained_model, train_loader)\n",
    "# Save the model in MLflow\n",
    "mlflow.pytorch.log_model(trained_model, \"model\")"
   ]
  },
  {
   "cell_type": "code",
   "execution_count": null,
   "metadata": {},
   "outputs": [],
   "source": []
  },
  {
   "cell_type": "markdown",
   "metadata": {},
   "source": [
    "# end of bbps"
   ]
  },
  {
   "cell_type": "code",
   "execution_count": 4,
   "metadata": {},
   "outputs": [
    {
     "name": "stdout",
     "output_type": "stream",
     "text": [
      "Device: cuda\n"
     ]
    }
   ],
   "source": [
    "# Check if GPU is available\n",
    "device = torch.device(\"cuda\" if torch.cuda.is_available() else \"cpu\")\n",
    "print(f\"Device: {device}\")"
   ]
  },
  {
   "cell_type": "code",
   "execution_count": 8,
   "metadata": {},
   "outputs": [
    {
     "name": "stdout",
     "output_type": "stream",
     "text": [
      "Confusion Matrix:\n",
      "[[1328  257    0   15]\n",
      " [ 341 1254    1    4]\n",
      " [   0    1  371    4]\n",
      " [   4   10  218 1368]]\n",
      "Accuracy: 0.8348145285935085\n",
      "Recall: 0.8348145285935085\n",
      "F1 Score: 0.8377343457762585\n",
      "Precision: 0.849748328224245\n",
      "\n",
      "Classification Report:\n",
      "              precision    recall  f1-score   support\n",
      "\n",
      "        Star       0.79      0.83      0.81      1600\n",
      " Binary Star       0.82      0.78      0.80      1600\n",
      "      Galaxy       0.63      0.99      0.77       376\n",
      "         AGN       0.98      0.85      0.91      1600\n",
      "\n",
      "    accuracy                           0.83      5176\n",
      "   macro avg       0.81      0.86      0.82      5176\n",
      "weighted avg       0.85      0.83      0.84      5176\n",
      "\n"
     ]
    },
    {
     "data": {
      "image/png": "[encoded data removed]",
      "text/plain": [
       "<Figure size 800x600 with 1 Axes>"
      ]
     },
     "metadata": {},
     "output_type": "display_data"
    }
   ],
   "source": [
    "# Example usage\n",
    "print_confusion_matrix(trained_model, test_loader)\n"
   ]
  },
  {
   "cell_type": "code",
   "execution_count": 32,
   "metadata": {},
   "outputs": [
    {
     "name": "stderr",
     "output_type": "stream",
     "text": [
      "2024/10/22 12:29:52 INFO mlflow.system_metrics.system_metrics_monitor: Started monitoring system metrics.\n",
      "2024/10/22 12:29:52 WARNING mlflow.system_metrics.metrics.gpu_monitor: Encountered error Unknown Error when trying to collect GPU metrics.\n",
      "2024/10/22 12:30:02 WARNING mlflow.system_metrics.metrics.gpu_monitor: Encountered error Unknown Error when trying to collect GPU metrics.\n",
      "2024/10/22 12:30:23 WARNING mlflow.system_metrics.metrics.gpu_monitor: Encountered error Unknown Error when trying to collect GPU metrics.\n",
      "2024/10/22 12:30:33 WARNING mlflow.system_metrics.metrics.gpu_monitor: Encountered error Unknown Error when trying to collect GPU metrics.\n"
     ]
    },
    {
     "name": "stdout",
     "output_type": "stream",
     "text": [
      "Epoch [1/200], Train Loss: 0.8836, Train Acc: 0.8590, Val Loss: 0.9054, Val Acc: 0.8364, Test Loss: 0.8977, Test Acc: 0.8443\n"
     ]
    },
    {
     "name": "stderr",
     "output_type": "stream",
     "text": [
      "2024/10/22 12:30:53 WARNING mlflow.system_metrics.metrics.gpu_monitor: Encountered error Unknown Error when trying to collect GPU metrics.\n",
      "2024/10/22 12:31:03 WARNING mlflow.system_metrics.metrics.gpu_monitor: Encountered error Unknown Error when trying to collect GPU metrics.\n"
     ]
    },
    {
     "name": "stdout",
     "output_type": "stream",
     "text": [
      "Epoch [2/200], Train Loss: 0.8810, Train Acc: 0.8611, Val Loss: 0.9051, Val Acc: 0.8372, Test Loss: 0.8970, Test Acc: 0.8464\n"
     ]
    },
    {
     "name": "stderr",
     "output_type": "stream",
     "text": [
      "2024/10/22 12:31:23 WARNING mlflow.system_metrics.metrics.gpu_monitor: Encountered error Unknown Error when trying to collect GPU metrics.\n",
      "2024/10/22 12:31:33 WARNING mlflow.system_metrics.metrics.gpu_monitor: Encountered error Unknown Error when trying to collect GPU metrics.\n",
      "2024/10/22 12:31:54 WARNING mlflow.system_metrics.metrics.gpu_monitor: Encountered error Unknown Error when trying to collect GPU metrics.\n"
     ]
    },
    {
     "name": "stdout",
     "output_type": "stream",
     "text": [
      "Epoch [3/200], Train Loss: 0.8788, Train Acc: 0.8641, Val Loss: 0.9045, Val Acc: 0.8374, Test Loss: 0.8972, Test Acc: 0.8464\n"
     ]
    },
    {
     "name": "stderr",
     "output_type": "stream",
     "text": [
      "2024/10/22 12:32:04 WARNING mlflow.system_metrics.metrics.gpu_monitor: Encountered error Unknown Error when trying to collect GPU metrics.\n",
      "2024/10/22 12:32:24 WARNING mlflow.system_metrics.metrics.gpu_monitor: Encountered error Unknown Error when trying to collect GPU metrics.\n",
      "2024/10/22 12:32:34 WARNING mlflow.system_metrics.metrics.gpu_monitor: Encountered error Unknown Error when trying to collect GPU metrics.\n"
     ]
    },
    {
     "name": "stdout",
     "output_type": "stream",
     "text": [
      "Epoch [4/200], Train Loss: 0.8845, Train Acc: 0.8565, Val Loss: 0.9037, Val Acc: 0.8391, Test Loss: 0.8963, Test Acc: 0.8466\n"
     ]
    },
    {
     "name": "stderr",
     "output_type": "stream",
     "text": [
      "2024/10/22 12:32:54 WARNING mlflow.system_metrics.metrics.gpu_monitor: Encountered error Unknown Error when trying to collect GPU metrics.\n",
      "2024/10/22 12:33:04 WARNING mlflow.system_metrics.metrics.gpu_monitor: Encountered error Unknown Error when trying to collect GPU metrics.\n",
      "2024/10/22 12:33:24 WARNING mlflow.system_metrics.metrics.gpu_monitor: Encountered error Unknown Error when trying to collect GPU metrics.\n"
     ]
    },
    {
     "name": "stdout",
     "output_type": "stream",
     "text": [
      "Epoch [5/200], Train Loss: 0.8797, Train Acc: 0.8626, Val Loss: 0.9033, Val Acc: 0.8378, Test Loss: 0.8953, Test Acc: 0.8474\n"
     ]
    },
    {
     "name": "stderr",
     "output_type": "stream",
     "text": [
      "2024/10/22 12:33:35 WARNING mlflow.system_metrics.metrics.gpu_monitor: Encountered error Unknown Error when trying to collect GPU metrics.\n",
      "2024/10/22 12:33:55 WARNING mlflow.system_metrics.metrics.gpu_monitor: Encountered error Unknown Error when trying to collect GPU metrics.\n",
      "2024/10/22 12:34:05 WARNING mlflow.system_metrics.metrics.gpu_monitor: Encountered error Unknown Error when trying to collect GPU metrics.\n"
     ]
    },
    {
     "name": "stdout",
     "output_type": "stream",
     "text": [
      "Epoch [6/200], Train Loss: 0.8810, Train Acc: 0.8619, Val Loss: 0.9039, Val Acc: 0.8376, Test Loss: 0.8957, Test Acc: 0.8468\n"
     ]
    },
    {
     "name": "stderr",
     "output_type": "stream",
     "text": [
      "2024/10/22 12:34:25 WARNING mlflow.system_metrics.metrics.gpu_monitor: Encountered error Unknown Error when trying to collect GPU metrics.\n",
      "2024/10/22 12:34:35 WARNING mlflow.system_metrics.metrics.gpu_monitor: Encountered error Unknown Error when trying to collect GPU metrics.\n"
     ]
    },
    {
     "name": "stdout",
     "output_type": "stream",
     "text": [
      "Epoch [7/200], Train Loss: 0.8769, Train Acc: 0.8650, Val Loss: 0.9045, Val Acc: 0.8384, Test Loss: 0.8975, Test Acc: 0.8454\n"
     ]
    },
    {
     "name": "stderr",
     "output_type": "stream",
     "text": [
      "2024/10/22 12:34:55 WARNING mlflow.system_metrics.metrics.gpu_monitor: Encountered error Unknown Error when trying to collect GPU metrics.\n",
      "2024/10/22 12:35:05 WARNING mlflow.system_metrics.metrics.gpu_monitor: Encountered error Unknown Error when trying to collect GPU metrics.\n",
      "2024/10/22 12:35:26 WARNING mlflow.system_metrics.metrics.gpu_monitor: Encountered error Unknown Error when trying to collect GPU metrics.\n"
     ]
    },
    {
     "name": "stdout",
     "output_type": "stream",
     "text": [
      "Epoch [8/200], Train Loss: 0.8770, Train Acc: 0.8665, Val Loss: 0.9044, Val Acc: 0.8388, Test Loss: 0.8971, Test Acc: 0.8447\n"
     ]
    },
    {
     "name": "stderr",
     "output_type": "stream",
     "text": [
      "2024/10/22 12:35:36 WARNING mlflow.system_metrics.metrics.gpu_monitor: Encountered error Unknown Error when trying to collect GPU metrics.\n",
      "2024/10/22 12:35:56 WARNING mlflow.system_metrics.metrics.gpu_monitor: Encountered error Unknown Error when trying to collect GPU metrics.\n",
      "2024/10/22 12:36:06 WARNING mlflow.system_metrics.metrics.gpu_monitor: Encountered error Unknown Error when trying to collect GPU metrics.\n"
     ]
    },
    {
     "name": "stdout",
     "output_type": "stream",
     "text": [
      "Epoch [9/200], Train Loss: 0.8758, Train Acc: 0.8670, Val Loss: 0.9034, Val Acc: 0.8386, Test Loss: 0.8948, Test Acc: 0.8480\n"
     ]
    },
    {
     "name": "stderr",
     "output_type": "stream",
     "text": [
      "2024/10/22 12:36:26 WARNING mlflow.system_metrics.metrics.gpu_monitor: Encountered error Unknown Error when trying to collect GPU metrics.\n",
      "2024/10/22 12:36:36 WARNING mlflow.system_metrics.metrics.gpu_monitor: Encountered error Unknown Error when trying to collect GPU metrics.\n"
     ]
    },
    {
     "name": "stdout",
     "output_type": "stream",
     "text": [
      "Epoch [10/200], Train Loss: 0.8757, Train Acc: 0.8673, Val Loss: 0.9035, Val Acc: 0.8386, Test Loss: 0.8944, Test Acc: 0.8489\n"
     ]
    },
    {
     "name": "stderr",
     "output_type": "stream",
     "text": [
      "2024/10/22 12:36:57 WARNING mlflow.system_metrics.metrics.gpu_monitor: Encountered error Unknown Error when trying to collect GPU metrics.\n",
      "2024/10/22 12:37:07 WARNING mlflow.system_metrics.metrics.gpu_monitor: Encountered error Unknown Error when trying to collect GPU metrics.\n",
      "2024/10/22 12:37:27 WARNING mlflow.system_metrics.metrics.gpu_monitor: Encountered error Unknown Error when trying to collect GPU metrics.\n"
     ]
    },
    {
     "name": "stdout",
     "output_type": "stream",
     "text": [
      "Epoch [11/200], Train Loss: 0.8769, Train Acc: 0.8644, Val Loss: 0.9040, Val Acc: 0.8382, Test Loss: 0.8951, Test Acc: 0.8468\n"
     ]
    },
    {
     "name": "stderr",
     "output_type": "stream",
     "text": [
      "2024/10/22 12:37:37 WARNING mlflow.system_metrics.metrics.gpu_monitor: Encountered error Unknown Error when trying to collect GPU metrics.\n",
      "2024/10/22 12:37:58 WARNING mlflow.system_metrics.metrics.gpu_monitor: Encountered error Unknown Error when trying to collect GPU metrics.\n",
      "2024/10/22 12:38:08 WARNING mlflow.system_metrics.metrics.gpu_monitor: Encountered error Unknown Error when trying to collect GPU metrics.\n"
     ]
    },
    {
     "name": "stdout",
     "output_type": "stream",
     "text": [
      "Epoch [12/200], Train Loss: 0.8809, Train Acc: 0.8619, Val Loss: 0.9045, Val Acc: 0.8376, Test Loss: 0.8965, Test Acc: 0.8447\n"
     ]
    },
    {
     "name": "stderr",
     "output_type": "stream",
     "text": [
      "2024/10/22 12:38:28 WARNING mlflow.system_metrics.metrics.gpu_monitor: Encountered error Unknown Error when trying to collect GPU metrics.\n",
      "2024/10/22 12:38:38 WARNING mlflow.system_metrics.metrics.gpu_monitor: Encountered error Unknown Error when trying to collect GPU metrics.\n",
      "2024/10/22 12:38:58 WARNING mlflow.system_metrics.metrics.gpu_monitor: Encountered error Unknown Error when trying to collect GPU metrics.\n"
     ]
    },
    {
     "name": "stdout",
     "output_type": "stream",
     "text": [
      "Epoch [13/200], Train Loss: 0.8793, Train Acc: 0.8626, Val Loss: 0.9030, Val Acc: 0.8393, Test Loss: 0.8958, Test Acc: 0.8454\n"
     ]
    },
    {
     "name": "stderr",
     "output_type": "stream",
     "text": [
      "2024/10/22 12:39:08 WARNING mlflow.system_metrics.metrics.gpu_monitor: Encountered error Unknown Error when trying to collect GPU metrics.\n",
      "2024/10/22 12:39:29 WARNING mlflow.system_metrics.metrics.gpu_monitor: Encountered error Unknown Error when trying to collect GPU metrics.\n",
      "2024/10/22 12:39:39 WARNING mlflow.system_metrics.metrics.gpu_monitor: Encountered error Unknown Error when trying to collect GPU metrics.\n"
     ]
    },
    {
     "name": "stdout",
     "output_type": "stream",
     "text": [
      "Epoch [14/200], Train Loss: 0.8734, Train Acc: 0.8688, Val Loss: 0.9024, Val Acc: 0.8401, Test Loss: 0.8953, Test Acc: 0.8452\n"
     ]
    },
    {
     "name": "stderr",
     "output_type": "stream",
     "text": [
      "2024/10/22 12:39:59 WARNING mlflow.system_metrics.metrics.gpu_monitor: Encountered error Unknown Error when trying to collect GPU metrics.\n",
      "2024/10/22 12:40:09 WARNING mlflow.system_metrics.metrics.gpu_monitor: Encountered error Unknown Error when trying to collect GPU metrics.\n",
      "2024/10/22 12:40:29 WARNING mlflow.system_metrics.metrics.gpu_monitor: Encountered error Unknown Error when trying to collect GPU metrics.\n"
     ]
    },
    {
     "name": "stdout",
     "output_type": "stream",
     "text": [
      "Epoch [15/200], Train Loss: 0.8756, Train Acc: 0.8664, Val Loss: 0.9015, Val Acc: 0.8399, Test Loss: 0.8948, Test Acc: 0.8470\n"
     ]
    },
    {
     "name": "stderr",
     "output_type": "stream",
     "text": [
      "2024/10/22 12:40:39 WARNING mlflow.system_metrics.metrics.gpu_monitor: Encountered error Unknown Error when trying to collect GPU metrics.\n",
      "2024/10/22 12:41:00 WARNING mlflow.system_metrics.metrics.gpu_monitor: Encountered error Unknown Error when trying to collect GPU metrics.\n",
      "2024/10/22 12:41:10 WARNING mlflow.system_metrics.metrics.gpu_monitor: Encountered error Unknown Error when trying to collect GPU metrics.\n"
     ]
    },
    {
     "name": "stdout",
     "output_type": "stream",
     "text": [
      "Epoch [16/200], Train Loss: 0.8752, Train Acc: 0.8675, Val Loss: 0.9017, Val Acc: 0.8399, Test Loss: 0.8952, Test Acc: 0.8478\n"
     ]
    },
    {
     "name": "stderr",
     "output_type": "stream",
     "text": [
      "2024/10/22 12:41:30 WARNING mlflow.system_metrics.metrics.gpu_monitor: Encountered error Unknown Error when trying to collect GPU metrics.\n",
      "2024/10/22 12:41:40 WARNING mlflow.system_metrics.metrics.gpu_monitor: Encountered error Unknown Error when trying to collect GPU metrics.\n",
      "2024/10/22 12:42:00 WARNING mlflow.system_metrics.metrics.gpu_monitor: Encountered error Unknown Error when trying to collect GPU metrics.\n"
     ]
    },
    {
     "name": "stdout",
     "output_type": "stream",
     "text": [
      "Epoch [17/200], Train Loss: 0.8743, Train Acc: 0.8680, Val Loss: 0.9019, Val Acc: 0.8391, Test Loss: 0.8937, Test Acc: 0.8483\n"
     ]
    },
    {
     "name": "stderr",
     "output_type": "stream",
     "text": [
      "2024/10/22 12:42:10 WARNING mlflow.system_metrics.metrics.gpu_monitor: Encountered error Unknown Error when trying to collect GPU metrics.\n",
      "2024/10/22 12:42:31 WARNING mlflow.system_metrics.metrics.gpu_monitor: Encountered error Unknown Error when trying to collect GPU metrics.\n",
      "2024/10/22 12:42:41 WARNING mlflow.system_metrics.metrics.gpu_monitor: Encountered error Unknown Error when trying to collect GPU metrics.\n"
     ]
    },
    {
     "name": "stdout",
     "output_type": "stream",
     "text": [
      "Epoch [18/200], Train Loss: 0.8785, Train Acc: 0.8655, Val Loss: 0.9016, Val Acc: 0.8397, Test Loss: 0.8944, Test Acc: 0.8487\n"
     ]
    },
    {
     "name": "stderr",
     "output_type": "stream",
     "text": [
      "2024/10/22 12:43:01 WARNING mlflow.system_metrics.metrics.gpu_monitor: Encountered error Unknown Error when trying to collect GPU metrics.\n",
      "2024/10/22 12:43:11 WARNING mlflow.system_metrics.metrics.gpu_monitor: Encountered error Unknown Error when trying to collect GPU metrics.\n",
      "2024/10/22 12:43:31 WARNING mlflow.system_metrics.metrics.gpu_monitor: Encountered error Unknown Error when trying to collect GPU metrics.\n"
     ]
    },
    {
     "name": "stdout",
     "output_type": "stream",
     "text": [
      "Epoch [19/200], Train Loss: 0.8729, Train Acc: 0.8695, Val Loss: 0.9017, Val Acc: 0.8399, Test Loss: 0.8940, Test Acc: 0.8483\n"
     ]
    },
    {
     "name": "stderr",
     "output_type": "stream",
     "text": [
      "2024/10/22 12:43:42 WARNING mlflow.system_metrics.metrics.gpu_monitor: Encountered error Unknown Error when trying to collect GPU metrics.\n",
      "2024/10/22 12:44:02 WARNING mlflow.system_metrics.metrics.gpu_monitor: Encountered error Unknown Error when trying to collect GPU metrics.\n",
      "2024/10/22 12:44:12 WARNING mlflow.system_metrics.metrics.gpu_monitor: Encountered error Unknown Error when trying to collect GPU metrics.\n"
     ]
    },
    {
     "name": "stdout",
     "output_type": "stream",
     "text": [
      "Epoch [20/200], Train Loss: 0.8773, Train Acc: 0.8639, Val Loss: 0.9018, Val Acc: 0.8397, Test Loss: 0.8936, Test Acc: 0.8489\n"
     ]
    },
    {
     "name": "stderr",
     "output_type": "stream",
     "text": [
      "2024/10/22 12:44:32 WARNING mlflow.system_metrics.metrics.gpu_monitor: Encountered error Unknown Error when trying to collect GPU metrics.\n",
      "2024/10/22 12:44:42 WARNING mlflow.system_metrics.metrics.gpu_monitor: Encountered error Unknown Error when trying to collect GPU metrics.\n",
      "2024/10/22 12:45:02 WARNING mlflow.system_metrics.metrics.gpu_monitor: Encountered error Unknown Error when trying to collect GPU metrics.\n",
      "2024/10/22 12:45:12 WARNING mlflow.system_metrics.metrics.gpu_monitor: Encountered error Unknown Error when trying to collect GPU metrics.\n"
     ]
    },
    {
     "name": "stdout",
     "output_type": "stream",
     "text": [
      "Epoch [21/200], Train Loss: 0.8723, Train Acc: 0.8695, Val Loss: 0.9016, Val Acc: 0.8415, Test Loss: 0.8934, Test Acc: 0.8487\n"
     ]
    },
    {
     "name": "stderr",
     "output_type": "stream",
     "text": [
      "2024/10/22 12:45:33 WARNING mlflow.system_metrics.metrics.gpu_monitor: Encountered error Unknown Error when trying to collect GPU metrics.\n",
      "2024/10/22 12:45:43 WARNING mlflow.system_metrics.metrics.gpu_monitor: Encountered error Unknown Error when trying to collect GPU metrics.\n",
      "2024/10/22 12:46:03 WARNING mlflow.system_metrics.metrics.gpu_monitor: Encountered error Unknown Error when trying to collect GPU metrics.\n"
     ]
    },
    {
     "name": "stdout",
     "output_type": "stream",
     "text": [
      "Epoch [22/200], Train Loss: 0.8748, Train Acc: 0.8682, Val Loss: 0.9015, Val Acc: 0.8397, Test Loss: 0.8925, Test Acc: 0.8505\n"
     ]
    },
    {
     "name": "stderr",
     "output_type": "stream",
     "text": [
      "2024/10/22 12:46:13 WARNING mlflow.system_metrics.metrics.gpu_monitor: Encountered error Unknown Error when trying to collect GPU metrics.\n",
      "2024/10/22 12:46:33 WARNING mlflow.system_metrics.metrics.gpu_monitor: Encountered error Unknown Error when trying to collect GPU metrics.\n",
      "2024/10/22 12:46:43 WARNING mlflow.system_metrics.metrics.gpu_monitor: Encountered error Unknown Error when trying to collect GPU metrics.\n"
     ]
    },
    {
     "name": "stdout",
     "output_type": "stream",
     "text": [
      "Epoch [23/200], Train Loss: 0.8726, Train Acc: 0.8688, Val Loss: 0.9011, Val Acc: 0.8401, Test Loss: 0.8925, Test Acc: 0.8503\n"
     ]
    },
    {
     "name": "stderr",
     "output_type": "stream",
     "text": [
      "2024/10/22 12:47:03 WARNING mlflow.system_metrics.metrics.gpu_monitor: Encountered error Unknown Error when trying to collect GPU metrics.\n",
      "2024/10/22 12:47:14 WARNING mlflow.system_metrics.metrics.gpu_monitor: Encountered error Unknown Error when trying to collect GPU metrics.\n",
      "2024/10/22 12:47:34 WARNING mlflow.system_metrics.metrics.gpu_monitor: Encountered error Unknown Error when trying to collect GPU metrics.\n",
      "2024/10/22 12:47:44 WARNING mlflow.system_metrics.metrics.gpu_monitor: Encountered error Unknown Error when trying to collect GPU metrics.\n"
     ]
    },
    {
     "name": "stdout",
     "output_type": "stream",
     "text": [
      "Epoch [24/200], Train Loss: 0.8716, Train Acc: 0.8703, Val Loss: 0.9010, Val Acc: 0.8401, Test Loss: 0.8924, Test Acc: 0.8489\n"
     ]
    },
    {
     "name": "stderr",
     "output_type": "stream",
     "text": [
      "2024/10/22 12:48:04 WARNING mlflow.system_metrics.metrics.gpu_monitor: Encountered error Unknown Error when trying to collect GPU metrics.\n",
      "2024/10/22 12:48:14 WARNING mlflow.system_metrics.metrics.gpu_monitor: Encountered error Unknown Error when trying to collect GPU metrics.\n",
      "2024/10/22 12:48:34 WARNING mlflow.system_metrics.metrics.gpu_monitor: Encountered error Unknown Error when trying to collect GPU metrics.\n"
     ]
    },
    {
     "name": "stdout",
     "output_type": "stream",
     "text": [
      "Epoch [25/200], Train Loss: 0.8830, Train Acc: 0.8585, Val Loss: 0.9014, Val Acc: 0.8401, Test Loss: 0.8926, Test Acc: 0.8497\n"
     ]
    },
    {
     "name": "stderr",
     "output_type": "stream",
     "text": [
      "2024/10/22 12:48:44 WARNING mlflow.system_metrics.metrics.gpu_monitor: Encountered error Unknown Error when trying to collect GPU metrics.\n",
      "2024/10/22 12:49:05 WARNING mlflow.system_metrics.metrics.gpu_monitor: Encountered error Unknown Error when trying to collect GPU metrics.\n",
      "2024/10/22 12:49:15 WARNING mlflow.system_metrics.metrics.gpu_monitor: Encountered error Unknown Error when trying to collect GPU metrics.\n",
      "2024/10/22 12:49:35 WARNING mlflow.system_metrics.metrics.gpu_monitor: Encountered error Unknown Error when trying to collect GPU metrics.\n"
     ]
    },
    {
     "name": "stdout",
     "output_type": "stream",
     "text": [
      "Epoch [26/200], Train Loss: 0.8769, Train Acc: 0.8665, Val Loss: 0.9005, Val Acc: 0.8413, Test Loss: 0.8928, Test Acc: 0.8483\n"
     ]
    },
    {
     "name": "stderr",
     "output_type": "stream",
     "text": [
      "2024/10/22 12:49:45 WARNING mlflow.system_metrics.metrics.gpu_monitor: Encountered error Unknown Error when trying to collect GPU metrics.\n",
      "2024/10/22 12:50:05 WARNING mlflow.system_metrics.metrics.gpu_monitor: Encountered error Unknown Error when trying to collect GPU metrics.\n",
      "2024/10/22 12:50:15 WARNING mlflow.system_metrics.metrics.gpu_monitor: Encountered error Unknown Error when trying to collect GPU metrics.\n"
     ]
    },
    {
     "name": "stdout",
     "output_type": "stream",
     "text": [
      "Epoch [27/200], Train Loss: 0.8788, Train Acc: 0.8641, Val Loss: 0.9001, Val Acc: 0.8419, Test Loss: 0.8927, Test Acc: 0.8491\n"
     ]
    },
    {
     "name": "stderr",
     "output_type": "stream",
     "text": [
      "2024/10/22 12:50:36 WARNING mlflow.system_metrics.metrics.gpu_monitor: Encountered error Unknown Error when trying to collect GPU metrics.\n",
      "2024/10/22 12:50:46 WARNING mlflow.system_metrics.metrics.gpu_monitor: Encountered error Unknown Error when trying to collect GPU metrics.\n",
      "2024/10/22 12:51:06 WARNING mlflow.system_metrics.metrics.gpu_monitor: Encountered error Unknown Error when trying to collect GPU metrics.\n",
      "2024/10/22 12:51:16 WARNING mlflow.system_metrics.metrics.gpu_monitor: Encountered error Unknown Error when trying to collect GPU metrics.\n"
     ]
    },
    {
     "name": "stdout",
     "output_type": "stream",
     "text": [
      "Epoch [28/200], Train Loss: 0.8713, Train Acc: 0.8719, Val Loss: 0.9000, Val Acc: 0.8440, Test Loss: 0.8933, Test Acc: 0.8474\n"
     ]
    },
    {
     "name": "stderr",
     "output_type": "stream",
     "text": [
      "2024/10/22 12:51:36 WARNING mlflow.system_metrics.metrics.gpu_monitor: Encountered error Unknown Error when trying to collect GPU metrics.\n",
      "2024/10/22 12:51:46 WARNING mlflow.system_metrics.metrics.gpu_monitor: Encountered error Unknown Error when trying to collect GPU metrics.\n",
      "2024/10/22 12:52:07 WARNING mlflow.system_metrics.metrics.gpu_monitor: Encountered error Unknown Error when trying to collect GPU metrics.\n",
      "2024/10/22 12:52:17 WARNING mlflow.system_metrics.metrics.gpu_monitor: Encountered error Unknown Error when trying to collect GPU metrics.\n"
     ]
    },
    {
     "name": "stdout",
     "output_type": "stream",
     "text": [
      "Epoch [29/200], Train Loss: 0.8780, Train Acc: 0.8642, Val Loss: 0.9000, Val Acc: 0.8434, Test Loss: 0.8934, Test Acc: 0.8480\n"
     ]
    },
    {
     "name": "stderr",
     "output_type": "stream",
     "text": [
      "2024/10/22 12:52:37 WARNING mlflow.system_metrics.metrics.gpu_monitor: Encountered error Unknown Error when trying to collect GPU metrics.\n",
      "2024/10/22 12:52:47 WARNING mlflow.system_metrics.metrics.gpu_monitor: Encountered error Unknown Error when trying to collect GPU metrics.\n",
      "2024/10/22 12:53:07 WARNING mlflow.system_metrics.metrics.gpu_monitor: Encountered error Unknown Error when trying to collect GPU metrics.\n",
      "2024/10/22 12:53:17 WARNING mlflow.system_metrics.metrics.gpu_monitor: Encountered error Unknown Error when trying to collect GPU metrics.\n"
     ]
    },
    {
     "name": "stdout",
     "output_type": "stream",
     "text": [
      "Epoch [30/200], Train Loss: 0.8798, Train Acc: 0.8619, Val Loss: 0.9004, Val Acc: 0.8415, Test Loss: 0.8922, Test Acc: 0.8487\n"
     ]
    },
    {
     "name": "stderr",
     "output_type": "stream",
     "text": [
      "2024/10/22 12:53:37 WARNING mlflow.system_metrics.metrics.gpu_monitor: Encountered error Unknown Error when trying to collect GPU metrics.\n",
      "2024/10/22 12:53:48 WARNING mlflow.system_metrics.metrics.gpu_monitor: Encountered error Unknown Error when trying to collect GPU metrics.\n",
      "2024/10/22 12:54:08 WARNING mlflow.system_metrics.metrics.gpu_monitor: Encountered error Unknown Error when trying to collect GPU metrics.\n",
      "2024/10/22 12:54:18 WARNING mlflow.system_metrics.metrics.gpu_monitor: Encountered error Unknown Error when trying to collect GPU metrics.\n"
     ]
    },
    {
     "name": "stdout",
     "output_type": "stream",
     "text": [
      "Epoch [31/200], Train Loss: 0.8782, Train Acc: 0.8636, Val Loss: 0.9009, Val Acc: 0.8403, Test Loss: 0.8913, Test Acc: 0.8505\n"
     ]
    },
    {
     "name": "stderr",
     "output_type": "stream",
     "text": [
      "2024/10/22 12:54:38 WARNING mlflow.system_metrics.metrics.gpu_monitor: Encountered error Unknown Error when trying to collect GPU metrics.\n",
      "2024/10/22 12:54:48 WARNING mlflow.system_metrics.metrics.gpu_monitor: Encountered error Unknown Error when trying to collect GPU metrics.\n",
      "2024/10/22 12:55:08 WARNING mlflow.system_metrics.metrics.gpu_monitor: Encountered error Unknown Error when trying to collect GPU metrics.\n",
      "2024/10/22 12:55:19 WARNING mlflow.system_metrics.metrics.gpu_monitor: Encountered error Unknown Error when trying to collect GPU metrics.\n"
     ]
    },
    {
     "name": "stdout",
     "output_type": "stream",
     "text": [
      "Epoch [32/200], Train Loss: 0.8753, Train Acc: 0.8680, Val Loss: 0.9001, Val Acc: 0.8413, Test Loss: 0.8915, Test Acc: 0.8503\n"
     ]
    },
    {
     "name": "stderr",
     "output_type": "stream",
     "text": [
      "2024/10/22 12:55:39 WARNING mlflow.system_metrics.metrics.gpu_monitor: Encountered error Unknown Error when trying to collect GPU metrics.\n",
      "2024/10/22 12:55:49 WARNING mlflow.system_metrics.metrics.gpu_monitor: Encountered error Unknown Error when trying to collect GPU metrics.\n",
      "2024/10/22 12:56:09 WARNING mlflow.system_metrics.metrics.gpu_monitor: Encountered error Unknown Error when trying to collect GPU metrics.\n",
      "2024/10/22 12:56:19 WARNING mlflow.system_metrics.metrics.gpu_monitor: Encountered error Unknown Error when trying to collect GPU metrics.\n"
     ]
    },
    {
     "name": "stdout",
     "output_type": "stream",
     "text": [
      "Epoch [33/200], Train Loss: 0.8737, Train Acc: 0.8678, Val Loss: 0.9009, Val Acc: 0.8401, Test Loss: 0.8918, Test Acc: 0.8495\n"
     ]
    },
    {
     "name": "stderr",
     "output_type": "stream",
     "text": [
      "2024/10/22 12:56:39 WARNING mlflow.system_metrics.metrics.gpu_monitor: Encountered error Unknown Error when trying to collect GPU metrics.\n",
      "2024/10/22 12:56:50 WARNING mlflow.system_metrics.metrics.gpu_monitor: Encountered error Unknown Error when trying to collect GPU metrics.\n",
      "2024/10/22 12:57:10 WARNING mlflow.system_metrics.metrics.gpu_monitor: Encountered error Unknown Error when trying to collect GPU metrics.\n",
      "2024/10/22 12:57:20 WARNING mlflow.system_metrics.metrics.gpu_monitor: Encountered error Unknown Error when trying to collect GPU metrics.\n"
     ]
    },
    {
     "name": "stdout",
     "output_type": "stream",
     "text": [
      "Epoch [34/200], Train Loss: 0.8748, Train Acc: 0.8682, Val Loss: 0.9008, Val Acc: 0.8411, Test Loss: 0.8920, Test Acc: 0.8499\n"
     ]
    },
    {
     "name": "stderr",
     "output_type": "stream",
     "text": [
      "2024/10/22 12:57:40 WARNING mlflow.system_metrics.metrics.gpu_monitor: Encountered error Unknown Error when trying to collect GPU metrics.\n",
      "2024/10/22 12:57:50 WARNING mlflow.system_metrics.metrics.gpu_monitor: Encountered error Unknown Error when trying to collect GPU metrics.\n",
      "2024/10/22 12:58:11 WARNING mlflow.system_metrics.metrics.gpu_monitor: Encountered error Unknown Error when trying to collect GPU metrics.\n",
      "2024/10/22 12:58:21 WARNING mlflow.system_metrics.metrics.gpu_monitor: Encountered error Unknown Error when trying to collect GPU metrics.\n"
     ]
    },
    {
     "name": "stdout",
     "output_type": "stream",
     "text": [
      "Epoch [35/200], Train Loss: 0.8672, Train Acc: 0.8749, Val Loss: 0.8996, Val Acc: 0.8421, Test Loss: 0.8922, Test Acc: 0.8487\n"
     ]
    },
    {
     "name": "stderr",
     "output_type": "stream",
     "text": [
      "2024/10/22 12:58:41 WARNING mlflow.system_metrics.metrics.gpu_monitor: Encountered error Unknown Error when trying to collect GPU metrics.\n",
      "2024/10/22 12:58:51 WARNING mlflow.system_metrics.metrics.gpu_monitor: Encountered error Unknown Error when trying to collect GPU metrics.\n",
      "2024/10/22 12:59:11 WARNING mlflow.system_metrics.metrics.gpu_monitor: Encountered error Unknown Error when trying to collect GPU metrics.\n",
      "2024/10/22 12:59:21 WARNING mlflow.system_metrics.metrics.gpu_monitor: Encountered error Unknown Error when trying to collect GPU metrics.\n"
     ]
    },
    {
     "name": "stdout",
     "output_type": "stream",
     "text": [
      "Epoch [36/200], Train Loss: 0.8745, Train Acc: 0.8672, Val Loss: 0.9008, Val Acc: 0.8419, Test Loss: 0.8929, Test Acc: 0.8489\n"
     ]
    },
    {
     "name": "stderr",
     "output_type": "stream",
     "text": [
      "2024/10/22 12:59:42 WARNING mlflow.system_metrics.metrics.gpu_monitor: Encountered error Unknown Error when trying to collect GPU metrics.\n",
      "2024/10/22 12:59:52 WARNING mlflow.system_metrics.metrics.gpu_monitor: Encountered error Unknown Error when trying to collect GPU metrics.\n",
      "2024/10/22 13:00:12 WARNING mlflow.system_metrics.metrics.gpu_monitor: Encountered error Unknown Error when trying to collect GPU metrics.\n"
     ]
    },
    {
     "name": "stdout",
     "output_type": "stream",
     "text": [
      "Epoch [37/200], Train Loss: 0.8775, Train Acc: 0.8642, Val Loss: 0.9019, Val Acc: 0.8403, Test Loss: 0.8933, Test Acc: 0.8503\n"
     ]
    },
    {
     "name": "stderr",
     "output_type": "stream",
     "text": [
      "2024/10/22 13:00:22 WARNING mlflow.system_metrics.metrics.gpu_monitor: Encountered error Unknown Error when trying to collect GPU metrics.\n",
      "2024/10/22 13:00:42 WARNING mlflow.system_metrics.metrics.gpu_monitor: Encountered error Unknown Error when trying to collect GPU metrics.\n",
      "2024/10/22 13:00:53 WARNING mlflow.system_metrics.metrics.gpu_monitor: Encountered error Unknown Error when trying to collect GPU metrics.\n",
      "2024/10/22 13:01:13 WARNING mlflow.system_metrics.metrics.gpu_monitor: Encountered error Unknown Error when trying to collect GPU metrics.\n"
     ]
    },
    {
     "name": "stdout",
     "output_type": "stream",
     "text": [
      "Epoch [38/200], Train Loss: 0.8786, Train Acc: 0.8634, Val Loss: 0.9029, Val Acc: 0.8395, Test Loss: 0.8935, Test Acc: 0.8481\n"
     ]
    },
    {
     "name": "stderr",
     "output_type": "stream",
     "text": [
      "2024/10/22 13:01:23 WARNING mlflow.system_metrics.metrics.gpu_monitor: Encountered error Unknown Error when trying to collect GPU metrics.\n",
      "2024/10/22 13:01:43 WARNING mlflow.system_metrics.metrics.gpu_monitor: Encountered error Unknown Error when trying to collect GPU metrics.\n",
      "2024/10/22 13:01:53 WARNING mlflow.system_metrics.metrics.gpu_monitor: Encountered error Unknown Error when trying to collect GPU metrics.\n"
     ]
    },
    {
     "name": "stdout",
     "output_type": "stream",
     "text": [
      "Epoch [39/200], Train Loss: 0.8773, Train Acc: 0.8657, Val Loss: 0.9037, Val Acc: 0.8386, Test Loss: 0.8927, Test Acc: 0.8487\n"
     ]
    },
    {
     "name": "stderr",
     "output_type": "stream",
     "text": [
      "2024/10/22 13:02:13 WARNING mlflow.system_metrics.metrics.gpu_monitor: Encountered error Unknown Error when trying to collect GPU metrics.\n",
      "2024/10/22 13:02:24 WARNING mlflow.system_metrics.metrics.gpu_monitor: Encountered error Unknown Error when trying to collect GPU metrics.\n",
      "2024/10/22 13:02:44 WARNING mlflow.system_metrics.metrics.gpu_monitor: Encountered error Unknown Error when trying to collect GPU metrics.\n",
      "2024/10/22 13:02:54 WARNING mlflow.system_metrics.metrics.gpu_monitor: Encountered error Unknown Error when trying to collect GPU metrics.\n"
     ]
    },
    {
     "name": "stdout",
     "output_type": "stream",
     "text": [
      "Epoch [40/200], Train Loss: 0.8841, Train Acc: 0.8591, Val Loss: 0.9036, Val Acc: 0.8382, Test Loss: 0.8927, Test Acc: 0.8478\n"
     ]
    },
    {
     "name": "stderr",
     "output_type": "stream",
     "text": [
      "2024/10/22 13:03:14 WARNING mlflow.system_metrics.metrics.gpu_monitor: Encountered error Unknown Error when trying to collect GPU metrics.\n",
      "2024/10/22 13:03:24 WARNING mlflow.system_metrics.metrics.gpu_monitor: Encountered error Unknown Error when trying to collect GPU metrics.\n",
      "2024/10/22 13:03:44 WARNING mlflow.system_metrics.metrics.gpu_monitor: Encountered error Unknown Error when trying to collect GPU metrics.\n",
      "2024/10/22 13:03:54 WARNING mlflow.system_metrics.metrics.gpu_monitor: Encountered error Unknown Error when trying to collect GPU metrics.\n"
     ]
    },
    {
     "name": "stdout",
     "output_type": "stream",
     "text": [
      "Epoch [41/200], Train Loss: 0.8659, Train Acc: 0.8777, Val Loss: 0.9018, Val Acc: 0.8417, Test Loss: 0.8933, Test Acc: 0.8464\n"
     ]
    },
    {
     "name": "stderr",
     "output_type": "stream",
     "text": [
      "2024/10/22 13:04:15 WARNING mlflow.system_metrics.metrics.gpu_monitor: Encountered error Unknown Error when trying to collect GPU metrics.\n",
      "2024/10/22 13:04:25 WARNING mlflow.system_metrics.metrics.gpu_monitor: Encountered error Unknown Error when trying to collect GPU metrics.\n",
      "2024/10/22 13:04:45 WARNING mlflow.system_metrics.metrics.gpu_monitor: Encountered error Unknown Error when trying to collect GPU metrics.\n"
     ]
    },
    {
     "name": "stdout",
     "output_type": "stream",
     "text": [
      "Epoch [42/200], Train Loss: 0.8735, Train Acc: 0.8690, Val Loss: 0.9017, Val Acc: 0.8415, Test Loss: 0.8936, Test Acc: 0.8462\n"
     ]
    },
    {
     "name": "stderr",
     "output_type": "stream",
     "text": [
      "2024/10/22 13:05:06 WARNING mlflow.system_metrics.metrics.gpu_monitor: Encountered error Unknown Error when trying to collect GPU metrics.\n",
      "2024/10/22 13:05:16 WARNING mlflow.system_metrics.metrics.gpu_monitor: Encountered error Unknown Error when trying to collect GPU metrics.\n",
      "2024/10/22 13:05:36 WARNING mlflow.system_metrics.metrics.gpu_monitor: Encountered error Unknown Error when trying to collect GPU metrics.\n",
      "2024/10/22 13:05:46 WARNING mlflow.system_metrics.metrics.gpu_monitor: Encountered error Unknown Error when trying to collect GPU metrics.\n"
     ]
    },
    {
     "name": "stdout",
     "output_type": "stream",
     "text": [
      "Epoch [43/200], Train Loss: 0.8758, Train Acc: 0.8660, Val Loss: 0.9018, Val Acc: 0.8425, Test Loss: 0.8938, Test Acc: 0.8458\n"
     ]
    },
    {
     "name": "stderr",
     "output_type": "stream",
     "text": [
      "2024/10/22 13:06:06 WARNING mlflow.system_metrics.metrics.gpu_monitor: Encountered error Unknown Error when trying to collect GPU metrics.\n",
      "2024/10/22 13:06:16 WARNING mlflow.system_metrics.metrics.gpu_monitor: Encountered error Unknown Error when trying to collect GPU metrics.\n",
      "2024/10/22 13:06:37 WARNING mlflow.system_metrics.metrics.gpu_monitor: Encountered error Unknown Error when trying to collect GPU metrics.\n",
      "2024/10/22 13:06:47 WARNING mlflow.system_metrics.metrics.gpu_monitor: Encountered error Unknown Error when trying to collect GPU metrics.\n"
     ]
    },
    {
     "name": "stdout",
     "output_type": "stream",
     "text": [
      "Epoch [44/200], Train Loss: 0.8793, Train Acc: 0.8641, Val Loss: 0.9024, Val Acc: 0.8407, Test Loss: 0.8927, Test Acc: 0.8485\n"
     ]
    },
    {
     "name": "stderr",
     "output_type": "stream",
     "text": [
      "2024/10/22 13:07:07 WARNING mlflow.system_metrics.metrics.gpu_monitor: Encountered error Unknown Error when trying to collect GPU metrics.\n",
      "2024/10/22 13:07:17 WARNING mlflow.system_metrics.metrics.gpu_monitor: Encountered error Unknown Error when trying to collect GPU metrics.\n",
      "2024/10/22 13:07:37 WARNING mlflow.system_metrics.metrics.gpu_monitor: Encountered error Unknown Error when trying to collect GPU metrics.\n"
     ]
    },
    {
     "name": "stdout",
     "output_type": "stream",
     "text": [
      "Epoch [45/200], Train Loss: 0.8680, Train Acc: 0.8754, Val Loss: 0.9025, Val Acc: 0.8407, Test Loss: 0.8922, Test Acc: 0.8487\n"
     ]
    },
    {
     "name": "stderr",
     "output_type": "stream",
     "text": [
      "2024/10/22 13:07:48 WARNING mlflow.system_metrics.metrics.gpu_monitor: Encountered error Unknown Error when trying to collect GPU metrics.\n",
      "2024/10/22 13:08:08 WARNING mlflow.system_metrics.metrics.gpu_monitor: Encountered error Unknown Error when trying to collect GPU metrics.\n",
      "2024/10/22 13:08:18 WARNING mlflow.system_metrics.metrics.gpu_monitor: Encountered error Unknown Error when trying to collect GPU metrics.\n"
     ]
    },
    {
     "name": "stdout",
     "output_type": "stream",
     "text": [
      "Epoch [46/200], Train Loss: 0.8775, Train Acc: 0.8664, Val Loss: 0.9019, Val Acc: 0.8413, Test Loss: 0.8934, Test Acc: 0.8466\n"
     ]
    },
    {
     "name": "stderr",
     "output_type": "stream",
     "text": [
      "2024/10/22 13:08:38 WARNING mlflow.system_metrics.metrics.gpu_monitor: Encountered error Unknown Error when trying to collect GPU metrics.\n",
      "2024/10/22 13:08:48 WARNING mlflow.system_metrics.metrics.gpu_monitor: Encountered error Unknown Error when trying to collect GPU metrics.\n",
      "2024/10/22 13:09:08 WARNING mlflow.system_metrics.metrics.gpu_monitor: Encountered error Unknown Error when trying to collect GPU metrics.\n",
      "2024/10/22 13:09:18 WARNING mlflow.system_metrics.metrics.gpu_monitor: Encountered error Unknown Error when trying to collect GPU metrics.\n"
     ]
    },
    {
     "name": "stdout",
     "output_type": "stream",
     "text": [
      "Epoch [47/200], Train Loss: 0.8778, Train Acc: 0.8639, Val Loss: 0.9021, Val Acc: 0.8405, Test Loss: 0.8931, Test Acc: 0.8481\n"
     ]
    },
    {
     "name": "stderr",
     "output_type": "stream",
     "text": [
      "2024/10/22 13:09:39 WARNING mlflow.system_metrics.metrics.gpu_monitor: Encountered error Unknown Error when trying to collect GPU metrics.\n",
      "2024/10/22 13:09:49 WARNING mlflow.system_metrics.metrics.gpu_monitor: Encountered error Unknown Error when trying to collect GPU metrics.\n",
      "2024/10/22 13:10:09 WARNING mlflow.system_metrics.metrics.gpu_monitor: Encountered error Unknown Error when trying to collect GPU metrics.\n"
     ]
    },
    {
     "name": "stdout",
     "output_type": "stream",
     "text": [
      "Epoch [48/200], Train Loss: 0.8781, Train Acc: 0.8647, Val Loss: 0.9010, Val Acc: 0.8425, Test Loss: 0.8919, Test Acc: 0.8497\n"
     ]
    },
    {
     "name": "stderr",
     "output_type": "stream",
     "text": [
      "2024/10/22 13:10:30 WARNING mlflow.system_metrics.metrics.gpu_monitor: Encountered error Unknown Error when trying to collect GPU metrics.\n",
      "2024/10/22 13:10:40 WARNING mlflow.system_metrics.metrics.gpu_monitor: Encountered error Unknown Error when trying to collect GPU metrics.\n",
      "2024/10/22 13:11:00 WARNING mlflow.system_metrics.metrics.gpu_monitor: Encountered error Unknown Error when trying to collect GPU metrics.\n"
     ]
    },
    {
     "name": "stdout",
     "output_type": "stream",
     "text": [
      "Epoch [49/200], Train Loss: 0.8773, Train Acc: 0.8650, Val Loss: 0.9008, Val Acc: 0.8426, Test Loss: 0.8911, Test Acc: 0.8501\n"
     ]
    },
    {
     "name": "stderr",
     "output_type": "stream",
     "text": [
      "2024/10/22 13:11:10 WARNING mlflow.system_metrics.metrics.gpu_monitor: Encountered error Unknown Error when trying to collect GPU metrics.\n",
      "2024/10/22 13:11:30 WARNING mlflow.system_metrics.metrics.gpu_monitor: Encountered error Unknown Error when trying to collect GPU metrics.\n",
      "2024/10/22 13:11:41 WARNING mlflow.system_metrics.metrics.gpu_monitor: Encountered error Unknown Error when trying to collect GPU metrics.\n",
      "2024/10/22 13:12:01 WARNING mlflow.system_metrics.metrics.gpu_monitor: Encountered error Unknown Error when trying to collect GPU metrics.\n"
     ]
    },
    {
     "name": "stdout",
     "output_type": "stream",
     "text": [
      "Epoch [50/200], Train Loss: 0.8722, Train Acc: 0.8701, Val Loss: 0.9000, Val Acc: 0.8430, Test Loss: 0.8908, Test Acc: 0.8522\n"
     ]
    },
    {
     "name": "stderr",
     "output_type": "stream",
     "text": [
      "2024/10/22 13:12:11 WARNING mlflow.system_metrics.metrics.gpu_monitor: Encountered error Unknown Error when trying to collect GPU metrics.\n",
      "2024/10/22 13:12:31 WARNING mlflow.system_metrics.metrics.gpu_monitor: Encountered error Unknown Error when trying to collect GPU metrics.\n",
      "2024/10/22 13:12:41 WARNING mlflow.system_metrics.metrics.gpu_monitor: Encountered error Unknown Error when trying to collect GPU metrics.\n"
     ]
    },
    {
     "name": "stdout",
     "output_type": "stream",
     "text": [
      "Epoch [51/200], Train Loss: 0.8697, Train Acc: 0.8737, Val Loss: 0.9001, Val Acc: 0.8419, Test Loss: 0.8914, Test Acc: 0.8512\n"
     ]
    },
    {
     "name": "stderr",
     "output_type": "stream",
     "text": [
      "2024/10/22 13:13:01 WARNING mlflow.system_metrics.metrics.gpu_monitor: Encountered error Unknown Error when trying to collect GPU metrics.\n",
      "2024/10/22 13:13:12 WARNING mlflow.system_metrics.metrics.gpu_monitor: Encountered error Unknown Error when trying to collect GPU metrics.\n",
      "2024/10/22 13:13:32 WARNING mlflow.system_metrics.metrics.gpu_monitor: Encountered error Unknown Error when trying to collect GPU metrics.\n",
      "2024/10/22 13:13:42 WARNING mlflow.system_metrics.metrics.gpu_monitor: Encountered error Unknown Error when trying to collect GPU metrics.\n"
     ]
    },
    {
     "name": "stdout",
     "output_type": "stream",
     "text": [
      "Epoch [52/200], Train Loss: 0.8711, Train Acc: 0.8718, Val Loss: 0.8995, Val Acc: 0.8428, Test Loss: 0.8919, Test Acc: 0.8518\n"
     ]
    },
    {
     "name": "stderr",
     "output_type": "stream",
     "text": [
      "2024/10/22 13:14:02 WARNING mlflow.system_metrics.metrics.gpu_monitor: Encountered error Unknown Error when trying to collect GPU metrics.\n",
      "2024/10/22 13:14:12 WARNING mlflow.system_metrics.metrics.gpu_monitor: Encountered error Unknown Error when trying to collect GPU metrics.\n",
      "2024/10/22 13:14:32 WARNING mlflow.system_metrics.metrics.gpu_monitor: Encountered error Unknown Error when trying to collect GPU metrics.\n"
     ]
    },
    {
     "name": "stdout",
     "output_type": "stream",
     "text": [
      "Epoch [53/200], Train Loss: 0.8732, Train Acc: 0.8688, Val Loss: 0.9001, Val Acc: 0.8415, Test Loss: 0.8916, Test Acc: 0.8532\n"
     ]
    },
    {
     "name": "stderr",
     "output_type": "stream",
     "text": [
      "2024/10/22 13:14:42 WARNING mlflow.system_metrics.metrics.gpu_monitor: Encountered error Unknown Error when trying to collect GPU metrics.\n",
      "2024/10/22 13:15:03 WARNING mlflow.system_metrics.metrics.gpu_monitor: Encountered error Unknown Error when trying to collect GPU metrics.\n",
      "2024/10/22 13:15:13 WARNING mlflow.system_metrics.metrics.gpu_monitor: Encountered error Unknown Error when trying to collect GPU metrics.\n"
     ]
    },
    {
     "name": "stdout",
     "output_type": "stream",
     "text": [
      "Epoch [54/200], Train Loss: 0.8693, Train Acc: 0.8731, Val Loss: 0.9004, Val Acc: 0.8417, Test Loss: 0.8911, Test Acc: 0.8534\n"
     ]
    },
    {
     "name": "stderr",
     "output_type": "stream",
     "text": [
      "2024/10/22 13:15:33 WARNING mlflow.system_metrics.metrics.gpu_monitor: Encountered error Unknown Error when trying to collect GPU metrics.\n",
      "2024/10/22 13:15:43 WARNING mlflow.system_metrics.metrics.gpu_monitor: Encountered error Unknown Error when trying to collect GPU metrics.\n",
      "2024/10/22 13:16:03 WARNING mlflow.system_metrics.metrics.gpu_monitor: Encountered error Unknown Error when trying to collect GPU metrics.\n",
      "2024/10/22 13:16:13 WARNING mlflow.system_metrics.metrics.gpu_monitor: Encountered error Unknown Error when trying to collect GPU metrics.\n"
     ]
    },
    {
     "name": "stdout",
     "output_type": "stream",
     "text": [
      "Epoch [55/200], Train Loss: 0.8810, Train Acc: 0.8603, Val Loss: 0.9010, Val Acc: 0.8409, Test Loss: 0.8908, Test Acc: 0.8520\n"
     ]
    },
    {
     "name": "stderr",
     "output_type": "stream",
     "text": [
      "2024/10/22 13:16:34 WARNING mlflow.system_metrics.metrics.gpu_monitor: Encountered error Unknown Error when trying to collect GPU metrics.\n",
      "2024/10/22 13:16:44 WARNING mlflow.system_metrics.metrics.gpu_monitor: Encountered error Unknown Error when trying to collect GPU metrics.\n",
      "2024/10/22 13:17:04 WARNING mlflow.system_metrics.metrics.gpu_monitor: Encountered error Unknown Error when trying to collect GPU metrics.\n"
     ]
    },
    {
     "name": "stdout",
     "output_type": "stream",
     "text": [
      "Epoch [56/200], Train Loss: 0.8746, Train Acc: 0.8685, Val Loss: 0.9009, Val Acc: 0.8411, Test Loss: 0.8912, Test Acc: 0.8530\n"
     ]
    },
    {
     "name": "stderr",
     "output_type": "stream",
     "text": [
      "2024/10/22 13:17:14 WARNING mlflow.system_metrics.metrics.gpu_monitor: Encountered error Unknown Error when trying to collect GPU metrics.\n",
      "2024/10/22 13:17:34 WARNING mlflow.system_metrics.metrics.gpu_monitor: Encountered error Unknown Error when trying to collect GPU metrics.\n",
      "2024/10/22 13:17:44 WARNING mlflow.system_metrics.metrics.gpu_monitor: Encountered error Unknown Error when trying to collect GPU metrics.\n"
     ]
    },
    {
     "name": "stdout",
     "output_type": "stream",
     "text": [
      "Epoch [57/200], Train Loss: 0.8767, Train Acc: 0.8654, Val Loss: 0.9009, Val Acc: 0.8413, Test Loss: 0.8931, Test Acc: 0.8481\n"
     ]
    },
    {
     "name": "stderr",
     "output_type": "stream",
     "text": [
      "2024/10/22 13:18:04 WARNING mlflow.system_metrics.metrics.gpu_monitor: Encountered error Unknown Error when trying to collect GPU metrics.\n",
      "2024/10/22 13:18:25 WARNING mlflow.system_metrics.metrics.gpu_monitor: Encountered error Unknown Error when trying to collect GPU metrics.\n",
      "2024/10/22 13:18:35 WARNING mlflow.system_metrics.metrics.gpu_monitor: Encountered error Unknown Error when trying to collect GPU metrics.\n"
     ]
    },
    {
     "name": "stdout",
     "output_type": "stream",
     "text": [
      "Epoch [58/200], Train Loss: 0.8783, Train Acc: 0.8646, Val Loss: 0.9012, Val Acc: 0.8419, Test Loss: 0.8928, Test Acc: 0.8489\n"
     ]
    },
    {
     "name": "stderr",
     "output_type": "stream",
     "text": [
      "2024/10/22 13:18:56 WARNING mlflow.system_metrics.metrics.gpu_monitor: Encountered error Unknown Error when trying to collect GPU metrics.\n",
      "2024/10/22 13:19:06 WARNING mlflow.system_metrics.metrics.gpu_monitor: Encountered error Unknown Error when trying to collect GPU metrics.\n",
      "2024/10/22 13:19:26 WARNING mlflow.system_metrics.metrics.gpu_monitor: Encountered error Unknown Error when trying to collect GPU metrics.\n"
     ]
    },
    {
     "name": "stdout",
     "output_type": "stream",
     "text": [
      "Epoch [59/200], Train Loss: 0.8805, Train Acc: 0.8629, Val Loss: 0.9008, Val Acc: 0.8415, Test Loss: 0.8911, Test Acc: 0.8524\n"
     ]
    },
    {
     "name": "stderr",
     "output_type": "stream",
     "text": [
      "2024/10/22 13:19:36 WARNING mlflow.system_metrics.metrics.gpu_monitor: Encountered error Unknown Error when trying to collect GPU metrics.\n",
      "2024/10/22 13:19:56 WARNING mlflow.system_metrics.metrics.gpu_monitor: Encountered error Unknown Error when trying to collect GPU metrics.\n",
      "2024/10/22 13:20:06 WARNING mlflow.system_metrics.metrics.gpu_monitor: Encountered error Unknown Error when trying to collect GPU metrics.\n"
     ]
    },
    {
     "name": "stdout",
     "output_type": "stream",
     "text": [
      "Epoch [60/200], Train Loss: 0.8754, Train Acc: 0.8675, Val Loss: 0.9002, Val Acc: 0.8425, Test Loss: 0.8911, Test Acc: 0.8526\n"
     ]
    },
    {
     "name": "stderr",
     "output_type": "stream",
     "text": [
      "2024/10/22 13:20:26 WARNING mlflow.system_metrics.metrics.gpu_monitor: Encountered error Unknown Error when trying to collect GPU metrics.\n",
      "2024/10/22 13:20:37 WARNING mlflow.system_metrics.metrics.gpu_monitor: Encountered error Unknown Error when trying to collect GPU metrics.\n",
      "2024/10/22 13:20:57 WARNING mlflow.system_metrics.metrics.gpu_monitor: Encountered error Unknown Error when trying to collect GPU metrics.\n",
      "2024/10/22 13:21:07 WARNING mlflow.system_metrics.metrics.gpu_monitor: Encountered error Unknown Error when trying to collect GPU metrics.\n"
     ]
    },
    {
     "name": "stdout",
     "output_type": "stream",
     "text": [
      "Epoch [61/200], Train Loss: 0.8731, Train Acc: 0.8688, Val Loss: 0.9005, Val Acc: 0.8423, Test Loss: 0.8910, Test Acc: 0.8528\n"
     ]
    },
    {
     "name": "stderr",
     "output_type": "stream",
     "text": [
      "2024/10/22 13:21:27 WARNING mlflow.system_metrics.metrics.gpu_monitor: Encountered error Unknown Error when trying to collect GPU metrics.\n",
      "2024/10/22 13:21:37 WARNING mlflow.system_metrics.metrics.gpu_monitor: Encountered error Unknown Error when trying to collect GPU metrics.\n",
      "2024/10/22 13:21:57 WARNING mlflow.system_metrics.metrics.gpu_monitor: Encountered error Unknown Error when trying to collect GPU metrics.\n"
     ]
    },
    {
     "name": "stdout",
     "output_type": "stream",
     "text": [
      "Epoch [62/200], Train Loss: 0.8754, Train Acc: 0.8678, Val Loss: 0.9005, Val Acc: 0.8413, Test Loss: 0.8916, Test Acc: 0.8505\n"
     ]
    },
    {
     "name": "stderr",
     "output_type": "stream",
     "text": [
      "2024/10/22 13:22:07 WARNING mlflow.system_metrics.metrics.gpu_monitor: Encountered error Unknown Error when trying to collect GPU metrics.\n",
      "2024/10/22 13:22:28 WARNING mlflow.system_metrics.metrics.gpu_monitor: Encountered error Unknown Error when trying to collect GPU metrics.\n",
      "2024/10/22 13:22:38 WARNING mlflow.system_metrics.metrics.gpu_monitor: Encountered error Unknown Error when trying to collect GPU metrics.\n"
     ]
    },
    {
     "name": "stdout",
     "output_type": "stream",
     "text": [
      "Epoch [63/200], Train Loss: 0.8820, Train Acc: 0.8604, Val Loss: 0.9010, Val Acc: 0.8421, Test Loss: 0.8912, Test Acc: 0.8512\n"
     ]
    },
    {
     "name": "stderr",
     "output_type": "stream",
     "text": [
      "2024/10/22 13:22:58 WARNING mlflow.system_metrics.metrics.gpu_monitor: Encountered error Unknown Error when trying to collect GPU metrics.\n",
      "2024/10/22 13:23:08 WARNING mlflow.system_metrics.metrics.gpu_monitor: Encountered error Unknown Error when trying to collect GPU metrics.\n",
      "2024/10/22 13:23:28 WARNING mlflow.system_metrics.metrics.gpu_monitor: Encountered error Unknown Error when trying to collect GPU metrics.\n",
      "2024/10/22 13:23:38 WARNING mlflow.system_metrics.metrics.gpu_monitor: Encountered error Unknown Error when trying to collect GPU metrics.\n"
     ]
    },
    {
     "name": "stdout",
     "output_type": "stream",
     "text": [
      "Epoch [64/200], Train Loss: 0.8704, Train Acc: 0.8719, Val Loss: 0.9007, Val Acc: 0.8421, Test Loss: 0.8923, Test Acc: 0.8501\n"
     ]
    },
    {
     "name": "stderr",
     "output_type": "stream",
     "text": [
      "2024/10/22 13:23:59 WARNING mlflow.system_metrics.metrics.gpu_monitor: Encountered error Unknown Error when trying to collect GPU metrics.\n",
      "2024/10/22 13:24:09 WARNING mlflow.system_metrics.metrics.gpu_monitor: Encountered error Unknown Error when trying to collect GPU metrics.\n",
      "2024/10/22 13:24:29 WARNING mlflow.system_metrics.metrics.gpu_monitor: Encountered error Unknown Error when trying to collect GPU metrics.\n"
     ]
    },
    {
     "name": "stdout",
     "output_type": "stream",
     "text": [
      "Epoch [65/200], Train Loss: 0.8725, Train Acc: 0.8708, Val Loss: 0.9000, Val Acc: 0.8428, Test Loss: 0.8921, Test Acc: 0.8509\n"
     ]
    },
    {
     "name": "stderr",
     "output_type": "stream",
     "text": [
      "2024/10/22 13:24:39 WARNING mlflow.system_metrics.metrics.gpu_monitor: Encountered error Unknown Error when trying to collect GPU metrics.\n",
      "2024/10/22 13:24:59 WARNING mlflow.system_metrics.metrics.gpu_monitor: Encountered error Unknown Error when trying to collect GPU metrics.\n",
      "2024/10/22 13:25:09 WARNING mlflow.system_metrics.metrics.gpu_monitor: Encountered error Unknown Error when trying to collect GPU metrics.\n"
     ]
    },
    {
     "name": "stdout",
     "output_type": "stream",
     "text": [
      "Epoch [66/200], Train Loss: 0.8717, Train Acc: 0.8716, Val Loss: 0.9006, Val Acc: 0.8421, Test Loss: 0.8920, Test Acc: 0.8518\n"
     ]
    },
    {
     "name": "stderr",
     "output_type": "stream",
     "text": [
      "2024/10/22 13:25:30 WARNING mlflow.system_metrics.metrics.gpu_monitor: Encountered error Unknown Error when trying to collect GPU metrics.\n",
      "2024/10/22 13:25:40 WARNING mlflow.system_metrics.metrics.gpu_monitor: Encountered error Unknown Error when trying to collect GPU metrics.\n",
      "2024/10/22 13:26:00 WARNING mlflow.system_metrics.metrics.gpu_monitor: Encountered error Unknown Error when trying to collect GPU metrics.\n",
      "2024/10/22 13:26:10 WARNING mlflow.system_metrics.metrics.gpu_monitor: Encountered error Unknown Error when trying to collect GPU metrics.\n"
     ]
    },
    {
     "name": "stdout",
     "output_type": "stream",
     "text": [
      "Epoch [67/200], Train Loss: 0.8795, Train Acc: 0.8621, Val Loss: 0.9008, Val Acc: 0.8411, Test Loss: 0.8917, Test Acc: 0.8516\n"
     ]
    },
    {
     "name": "stderr",
     "output_type": "stream",
     "text": [
      "2024/10/22 13:26:30 WARNING mlflow.system_metrics.metrics.gpu_monitor: Encountered error Unknown Error when trying to collect GPU metrics.\n",
      "2024/10/22 13:26:40 WARNING mlflow.system_metrics.metrics.gpu_monitor: Encountered error Unknown Error when trying to collect GPU metrics.\n",
      "2024/10/22 13:27:01 WARNING mlflow.system_metrics.metrics.gpu_monitor: Encountered error Unknown Error when trying to collect GPU metrics.\n"
     ]
    },
    {
     "name": "stdout",
     "output_type": "stream",
     "text": [
      "Epoch [68/200], Train Loss: 0.8722, Train Acc: 0.8696, Val Loss: 0.9001, Val Acc: 0.8415, Test Loss: 0.8917, Test Acc: 0.8524\n"
     ]
    },
    {
     "name": "stderr",
     "output_type": "stream",
     "text": [
      "2024/10/22 13:27:11 WARNING mlflow.system_metrics.metrics.gpu_monitor: Encountered error Unknown Error when trying to collect GPU metrics.\n",
      "2024/10/22 13:27:31 WARNING mlflow.system_metrics.metrics.gpu_monitor: Encountered error Unknown Error when trying to collect GPU metrics.\n",
      "2024/10/22 13:27:41 WARNING mlflow.system_metrics.metrics.gpu_monitor: Encountered error Unknown Error when trying to collect GPU metrics.\n"
     ]
    },
    {
     "name": "stdout",
     "output_type": "stream",
     "text": [
      "Epoch [69/200], Train Loss: 0.8764, Train Acc: 0.8667, Val Loss: 0.9001, Val Acc: 0.8419, Test Loss: 0.8924, Test Acc: 0.8495\n"
     ]
    },
    {
     "name": "stderr",
     "output_type": "stream",
     "text": [
      "2024/10/22 13:28:01 WARNING mlflow.system_metrics.metrics.gpu_monitor: Encountered error Unknown Error when trying to collect GPU metrics.\n",
      "2024/10/22 13:28:11 WARNING mlflow.system_metrics.metrics.gpu_monitor: Encountered error Unknown Error when trying to collect GPU metrics.\n",
      "2024/10/22 13:28:32 WARNING mlflow.system_metrics.metrics.gpu_monitor: Encountered error Unknown Error when trying to collect GPU metrics.\n",
      "2024/10/22 13:28:42 WARNING mlflow.system_metrics.metrics.gpu_monitor: Encountered error Unknown Error when trying to collect GPU metrics.\n"
     ]
    },
    {
     "name": "stdout",
     "output_type": "stream",
     "text": [
      "Early stopping triggered.\n",
      "Confusion Matrix:\n",
      "[[1270  302    1   27]\n",
      " [ 206 1381    2   11]\n",
      " [   1    0 1278   12]\n",
      " [  18    8  251 1323]]\n",
      "Accuracy: 0.8622557872270563\n",
      "Recall: 0.8622557872270563\n",
      "F1 Score: 0.8617324609880271\n",
      "Precision: 0.8676030389668692\n",
      "\n",
      "Classification Report:\n",
      "              precision    recall  f1-score   support\n",
      "\n",
      "        Star       0.85      0.79      0.82      1600\n",
      " Binary Star       0.82      0.86      0.84      1600\n",
      "      Galaxy       0.83      0.99      0.91      1291\n",
      "         AGN       0.96      0.83      0.89      1600\n",
      "\n",
      "    accuracy                           0.86      6091\n",
      "   macro avg       0.87      0.87      0.86      6091\n",
      "weighted avg       0.87      0.86      0.86      6091\n",
      "\n"
     ]
    },
    {
     "name": "stderr",
     "output_type": "stream",
     "text": [
      "2024/10/22 13:28:57 INFO mlflow.system_metrics.system_metrics_monitor: Stopping system metrics monitoring...\n",
      "2024/10/22 13:28:57 INFO mlflow.system_metrics.system_metrics_monitor: Successfully terminated system metrics monitoring!\n"
     ]
    },
    {
     "data": {
      "image/png": "[encoded data removed]",
      "text/plain": [
       "<Figure size 800x600 with 1 Axes>"
      ]
     },
     "metadata": {},
     "output_type": "display_data"
    }
   ],
   "source": [
    "# Training parameters\n",
    "num_epochs = 200\n",
    "lr = 1e-4\n",
    "patience = 20\n",
    "batch_size = 512\n",
    "\n",
    "mlflow.end_run()\n",
    "# Start an MLflow run\n",
    "with mlflow.start_run(log_system_metrics=True):\n",
    "    # Log parameters\n",
    "    mlflow.log_param(\"num_epochs\", num_epochs)\n",
    "    mlflow.log_param(\"lr\", lr)\n",
    "    mlflow.log_param(\"patience\", patience)\n",
    "    mlflow.log_param(\"batch_size\", batch_size)\n",
    "    mlflow.log_param(\"num_filters\", filters)\n",
    "    mlflow.log_param(\"dense_units\", dense)\n",
    "    mlflow.log_param(\"dropout_rate\", 0.2)\n",
    "    mlflow.log_param(\"kernel_size\", 9)\n",
    "\n",
    "    # Train the model\n",
    "    trained_model = train_model(model, train_loader, val_loader, test_loader, num_epochs=num_epochs, lr=lr, patience=patience)\n",
    "\n",
    "\n",
    "    # Save the model in MLflow\n",
    "    #mlflow.pytorch.log_model(trained_model, \"model\")"
   ]
  }
 ],
 "metadata": {
  "kernelspec": {
   "display_name": "Python 3",
   "language": "python",
   "name": "python3"
  },
  "language_info": {
   "codemirror_mode": {
    "name": "ipython",
    "version": 3
   },
   "file_extension": ".py",
   "mimetype": "text/x-python",
   "name": "python",
   "nbconvert_exporter": "python",
   "pygments_lexer": "ipython3",
   "version": "3.11.9"
  }
 },
 "nbformat": 4,
 "nbformat_minor": 2
}
