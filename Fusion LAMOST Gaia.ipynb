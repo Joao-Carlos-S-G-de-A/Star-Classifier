{
 "cells": [
  {
   "cell_type": "code",
   "execution_count": 2,
   "metadata": {},
   "outputs": [
    {
     "name": "stderr",
     "output_type": "stream",
     "text": [
      "2024/10/22 22:14:09 WARNING mlflow.utils.autologging_utils: MLflow pytorch autologging is known to be compatible with 1.9.0 <= torch <= 2.4.1, but the installed version is 2.4.1+cu124. If you encounter errors during autologging, try upgrading / downgrading torch to a compatible version, or try upgrading MLflow.\n"
     ]
    },
    {
     "data": {
      "text/plain": [
       "<Experiment: artifact_location=('file:///C:/Users/jcwin/OneDrive - University of '\n",
       " 'Southampton/_Southampton/2024-25/Star-Classifier/mlflow/286740436428343516'), creation_time=1729267230861, experiment_id='286740436428343516', last_update_time=1729267230861, lifecycle_stage='active', name='Fusion_Gaia_LAMOST', tags={}>"
      ]
     },
     "execution_count": 2,
     "metadata": {},
     "output_type": "execute_result"
    }
   ],
   "source": [
    "import os\n",
    "import gc\n",
    "import torch\n",
    "import psutil\n",
    "import GPUtil\n",
    "import mlflow\n",
    "import tempfile\n",
    "import numpy as np\n",
    "import pandas as pd\n",
    "import mlflow.pytorch\n",
    "import torch.nn as nn\n",
    "import seaborn as sns\n",
    "import torch.optim as optim\n",
    "import matplotlib.pyplot as plt\n",
    "from torch.utils.data import Dataset, DataLoader\n",
    "from sklearn.model_selection import train_test_split\n",
    "from sklearn.metrics import confusion_matrix, accuracy_score, recall_score, f1_score, precision_score, classification_report\n",
    "\n",
    "# Check if GPU is available\n",
    "device = torch.device(\"cuda\" if torch.cuda.is_available() else \"cpu\")\n",
    "\n",
    "# Enable MLflow autologging for PyTorch\n",
    "mlflow.pytorch.autolog()\n",
    "mlflow.set_tracking_uri(uri=\"file:///C:/Users/jcwin/OneDrive - University of Southampton/_Southampton/2024-25/Star-Classifier/mlflow\")\n",
    "mlflow.set_experiment(\"Fusion_Gaia_LAMOST\")"
   ]
  },
  {
   "cell_type": "code",
   "execution_count": 3,
   "metadata": {},
   "outputs": [
    {
     "name": "stdout",
     "output_type": "stream",
     "text": [
      "Device:  cuda\n"
     ]
    }
   ],
   "source": [
    "# check cuda\n",
    "print(\"Device: \", device)"
   ]
  },
  {
   "cell_type": "code",
   "execution_count": 6,
   "metadata": {},
   "outputs": [],
   "source": [
    "class ConvNetFusion(nn.Module):\n",
    "    def __init__(self, input_shape, num_classes, gaia_input_size, \n",
    "                 num_filters=[128, 128, 128, 128, 128, 128, 128, 128], \n",
    "                 kernel_size=9,\n",
    "                 dense_units=[256, 256, 256, 128, 128, 128, 64, 64, 64],\n",
    "                 dropout_rate=0.2, \n",
    "                 gaia_fusion_units=512,\n",
    "                 padding='same'):\n",
    "        super(ConvNetFusion, self).__init__()\n",
    "        \n",
    "        self.conv_layers = nn.ModuleList()\n",
    "        self.pool_layers = nn.ModuleList()\n",
    "        in_channels = 1  # Since it's a 1D input\n",
    "        \n",
    "        # Add convolutional layers\n",
    "        for filters in num_filters:\n",
    "            conv_layer = nn.Conv1d(in_channels=in_channels, out_channels=filters, kernel_size=kernel_size, padding=kernel_size//2)\n",
    "            self.conv_layers.append(conv_layer)\n",
    "            self.pool_layers.append(nn.MaxPool1d(kernel_size=2))\n",
    "            self.dropout = nn.Dropout(dropout_rate)\n",
    "            in_channels = filters\n",
    "        \n",
    "        # Flatten the output\n",
    "        self.flatten = nn.Flatten()\n",
    "        final_seq_len = input_shape[0] // (2 ** len(num_filters)) * num_filters[-1]\n",
    "        print(\"Size of the flattened output:\", final_seq_len)\n",
    "\n",
    "        # Add Gaia features to the input\n",
    "        self.gaia_input_layer = nn.Linear(gaia_input_size, gaia_fusion_units)\n",
    "\n",
    "        # Add dense layers\n",
    "        dense_input_units = final_seq_len + gaia_fusion_units  # Add Gaia features to the dense input\n",
    "        print(\"Dense input units:\", dense_input_units)\n",
    "        print(\"Final sequence length:\", final_seq_len)\n",
    "        print(\"Number of filters:\", num_filters[-1])\n",
    "        self.dense_layers = nn.ModuleList()\n",
    "        for units in dense_units:\n",
    "            self.dense_layers.append(nn.Linear(dense_input_units, units))\n",
    "            dense_input_units = units\n",
    "        \n",
    "        # Output layer\n",
    "        self.output_layer = nn.Linear(dense_input_units, num_classes)\n",
    "\n",
    "    \n",
    "    \n",
    "    def forward(self, x_conv, x_gaia):\n",
    "        # Pass through convolutional layers\n",
    "        for conv_layer, pool_layer in zip(self.conv_layers, self.pool_layers):\n",
    "            x_conv = pool_layer(torch.relu(conv_layer(x_conv)))\n",
    "            x_conv = self.dropout(x_conv)\n",
    "        # Flatten the conv output\n",
    "        x_conv = self.flatten(x_conv)\n",
    "\n",
    "        # Connect Gaia features to a separate dense layer and connect after to the main network\n",
    "        x_gaia = torch.relu(self.gaia_input_layer(x_gaia))\n",
    "\n",
    "        # Concatenate Gaia features\n",
    "        x = torch.cat((x_conv, x_gaia), dim=1)\n",
    "        \n",
    "        # Pass through dense layers\n",
    "        for dense_layer in self.dense_layers:\n",
    "            x = torch.relu(dense_layer(x))\n",
    "            x = self.dropout(x)\n",
    "        \n",
    "        # Output layer\n",
    "        x = self.output_layer(x)\n",
    "        return torch.softmax(x, dim=1)\n",
    "\n",
    "# Create Datasets\n",
    "class BalancedDatasetFusion(Dataset):\n",
    "    def __init__(self, X_conv, X_gaia, y, limit_per_label=1600):\n",
    "        self.X_conv = X_conv\n",
    "        self.X_gaia = X_gaia\n",
    "        self.y = y\n",
    "        self.limit_per_label = limit_per_label\n",
    "        self.classes = np.unique(y)\n",
    "        self.indices = self.balance_classes()\n",
    "\n",
    "    def balance_classes(self):\n",
    "        indices = []\n",
    "        for cls in self.classes:\n",
    "            cls_indices = np.where(self.y == cls)[0]\n",
    "            if len(cls_indices) > self.limit_per_label:\n",
    "                cls_indices = np.random.choice(cls_indices, self.limit_per_label, replace=False)\n",
    "            indices.extend(cls_indices)\n",
    "        np.random.shuffle(indices)\n",
    "        return indices\n",
    "\n",
    "    def re_sample(self):\n",
    "        self.indices = self.balance_classes()\n",
    "\n",
    "    def __len__(self):\n",
    "        return len(self.indices)\n",
    "\n",
    "    def __getitem__(self, idx):\n",
    "        index = self.indices[idx]\n",
    "        return self.X_conv[index], self.X_gaia[index], self.y[index]\n",
    "\n",
    "# Define a function to train the mod\n",
    "\n",
    "def train_model(model, train_loader, val_loader, test_loader, num_epochs=200, lr=1e-4, patience=10):\n",
    "    optimizer = optim.Adam(model.parameters(), lr=lr)\n",
    "    criterion = nn.CrossEntropyLoss()\n",
    "    early_stopping_counter = 0\n",
    "    best_test_loss = float('inf')\n",
    "    epochs_no_improve = 0\n",
    "    best_model_state = None  # Variable to store the best model state\n",
    "\n",
    "    for epoch in range(num_epochs):\n",
    "        # Re-sample the training dataset at the start of each epoch\n",
    "        train_loader.dataset.re_sample()\n",
    "        model.train()\n",
    "        train_loss, correct_train, total_train = 0.0, 0, 0\n",
    "\n",
    "        # Training loop\n",
    "        for X_conv, X_gaia, y in train_loader:\n",
    "            X_conv, X_gaia, y = X_conv.to(device), X_gaia.to(device), y.to(device)\n",
    "            optimizer.zero_grad()\n",
    "            outputs = model(X_conv, X_gaia)\n",
    "            loss = criterion(outputs, y)\n",
    "            loss.backward()\n",
    "            optimizer.step()\n",
    "\n",
    "            train_loss += loss.item() * X_conv.size(0)\n",
    "            _, predicted = torch.max(outputs, 1)\n",
    "            correct_train += (predicted == y).sum().item()\n",
    "            total_train += y.size(0)\n",
    "\n",
    "        train_loss /= len(train_loader.dataset)\n",
    "        train_acc = correct_train / total_train\n",
    "\n",
    "        # Validation loop\n",
    "        model.eval()\n",
    "        val_loss, correct_val, total_val, test_loss, correct_test, total_test = 0, 0, 0, 0, 0, 0\n",
    "\n",
    "        with torch.no_grad():\n",
    "            for X_conv, X_gaia, y in val_loader:\n",
    "                X_conv, X_gaia, y = X_conv.to(device), X_gaia.to(device), y.to(device)\n",
    "                outputs = model(X_conv, X_gaia)\n",
    "                loss = criterion(outputs, y)\n",
    "                val_loss += loss.item() * X_conv.size(0)\n",
    "                _, predicted = torch.max(outputs, 1)\n",
    "                correct_val += (predicted == y).sum().item()\n",
    "                total_val += y.size(0)\n",
    "        \n",
    "        # Test loop\n",
    "        with torch.no_grad():\n",
    "            for X_conv, X_gaia, y in test_loader:\n",
    "                X_conv, X_gaia, y = X_conv.to(device), X_gaia.to(device), y.to(device)\n",
    "                outputs = model(X_conv, X_gaia)\n",
    "                loss = criterion(outputs, y)\n",
    "                test_loss += loss.item() * X_conv.size(0)\n",
    "                _, predicted = torch.max(outputs, 1)\n",
    "                correct_test += (predicted == y).sum().item()\n",
    "                total_test += y.size(0)\n",
    "\n",
    "        val_loss /= len(val_loader.dataset)\n",
    "        val_acc = correct_val / total_val\n",
    "        test_loss /= len(test_loader.dataset)\n",
    "        test_acc = correct_test / total_test\n",
    "\n",
    "        # Log metrics for MLflow\n",
    "        mlflow.log_metric(\"train_loss\", train_loss, step=epoch)\n",
    "        mlflow.log_metric(\"train_acc\", train_acc, step=epoch)\n",
    "        mlflow.log_metric(\"val_loss\", val_loss, step=epoch)\n",
    "        mlflow.log_metric(\"val_acc\", val_acc, step=epoch)\n",
    "        mlflow.log_metric(\"test_loss\", test_loss, step=epoch)\n",
    "        mlflow.log_metric(\"test_acc\", test_acc, step=epoch)\n",
    "\n",
    "        # Early stopping and model saving\n",
    "        if test_loss < best_test_loss:\n",
    "            best_test_loss = test_loss\n",
    "            early_stopping_counter = 0\n",
    "            best_model_state = model.state_dict()  # Save the model state\n",
    "        else:\n",
    "            early_stopping_counter += 1\n",
    "            if early_stopping_counter >= patience:\n",
    "                print(\"Early stopping triggered.\")\n",
    "                break\n",
    "\n",
    "        print(f\"Epoch [{epoch + 1}/{num_epochs}], \"\n",
    "              f\"Train Loss: {train_loss:.4f}, Train Acc: {train_acc:.4f}, \"\n",
    "              f\"Val Loss: {val_loss:.4f}, Val Acc: {val_acc:.4f}, \"\n",
    "              f\"Test Loss: {test_loss:.4f}, Test Acc: {test_acc:.4f}\")\n",
    "\n",
    "    # Load the best model weights before returning\n",
    "    model.load_state_dict(best_model_state)\n",
    "    return model\n",
    "# Function to print confusion matrix and log it with MLflow\n",
    "def print_confusion_matrix(model, val_loader):\n",
    "    model.eval()\n",
    "    all_preds = []\n",
    "    all_labels = []\n",
    "\n",
    "    with torch.no_grad():\n",
    "        for X_conv, X_gaia, y in val_loader:\n",
    "            outputs = model(X_conv, X_gaia)\n",
    "            _, predicted = torch.max(outputs, 1)\n",
    "            all_preds.extend(predicted.cpu().numpy())\n",
    "            all_labels.extend(y.cpu().numpy())\n",
    "\n",
    "    cm = confusion_matrix(all_labels, all_preds)\n",
    "    print(\"Confusion Matrix:\")\n",
    "    print(cm)\n",
    "\n",
    "    # Log confusion matrix\n",
    "    mlflow.log_artifact(confusion_matrix_to_image(cm), artifact_path=\"confusion_matrix\")\n",
    "\n",
    "def confusion_matrix_to_image(cm):\n",
    "    # Convert confusion matrix to an image (optional)\n",
    "    import matplotlib.pyplot as plt\n",
    "    import seaborn as sns\n",
    "    import io\n",
    "\n",
    "    plt.figure(figsize=(8, 6))\n",
    "    sns.heatmap(cm, annot=True, fmt=\"d\", cmap=\"Blues\", cbar=False)\n",
    "    plt.ylabel(\"True Label\")\n",
    "    plt.xlabel(\"Predicted Label\")\n",
    "    xticklabels=['Star', 'Binary Star', 'Galaxy', 'AGN']\n",
    "    yticklabels=['Star', 'Binary Star', 'Galaxy', 'AGN']\n",
    "\n",
    "    # Save the figure to a buffer\n",
    "    buf = io.BytesIO()\n",
    "    plt.savefig(buf, format='png')\n",
    "    buf.seek(0)\n",
    "    \n",
    "    # Return the buffer\n",
    "    return buf\n"
   ]
  },
  {
   "cell_type": "code",
   "execution_count": 7,
   "metadata": {},
   "outputs": [],
   "source": [
    "if __name__ == \"__main__\":\n",
    "        # Load and preprocess data\n",
    "        X = pd.read_pickle(\"Pickles/fusionv0/train.pkl\")\n",
    "        gaia_features = [\"parallax\", \"ra\", \"dec\", \"ra_error\", \"dec_error\", \"parallax_error\", \"pmra\", \"pmdec\", \"pmra_error\", \"pmdec_error\", \n",
    "        \"phot_g_mean_flux\", \"flagnopllx\", \"phot_g_mean_flux_error\", \"phot_bp_mean_flux\", \"phot_rp_mean_flux\", \n",
    "        \"phot_bp_mean_flux_error\", \"phot_rp_mean_flux_error\"]\n",
    "\n",
    "        # Extract Gaia and LASMOST data\n",
    "        X_gaia = X[gaia_features].values\n",
    "        X_conv = X.drop(gaia_features + [\"label\"], axis=1).values\n",
    "        y = X[\"label\"]\n",
    "\n",
    "        # Mapping labels to integers\n",
    "        label_mapping = {'star': 0, 'binary_star': 1, 'galaxy': 2, 'agn': 3}\n",
    "        y = y.map(label_mapping).values\n",
    "\n",
    "        # Read test data\n",
    "        X_test = pd.read_pickle(\"Pickles/fusionv0/test.pkl\")\n",
    "        X_test_gaia = X_test[gaia_features].values\n",
    "        X_test_conv = X_test.drop(gaia_features + [\"label\"], axis=1).values\n",
    "        y_test = X_test[\"label\"]\n",
    "        y_test = y_test.map(label_mapping).values\n",
    "\n",
    "\n",
    "        # Split data into train and validation\n",
    "        X_train_conv, X_val_conv, X_train_gaia, X_val_gaia, y_train, y_val = train_test_split(X_conv, X_gaia, y, test_size=0.2, random_state=42)\n",
    "\n",
    "        # Convert to PyTorch tensors\n",
    "        X_train_conv = torch.tensor(X_train_conv, dtype=torch.float32).unsqueeze(1)\n",
    "        X_val_conv = torch.tensor(X_val_conv, dtype=torch.float32).unsqueeze(1)\n",
    "        X_train_gaia = torch.tensor(X_train_gaia, dtype=torch.float32)\n",
    "        X_val_gaia = torch.tensor(X_val_gaia, dtype=torch.float32)\n",
    "        y_train = torch.tensor(y_train, dtype=torch.long)\n",
    "        y_val = torch.tensor(y_val, dtype=torch.long)\n",
    "        X_test_conv = torch.tensor(X_test_conv, dtype=torch.float32).unsqueeze(1)\n",
    "        X_test_gaia = torch.tensor(X_test_gaia, dtype=torch.float32)\n",
    "        y_test = torch.tensor(y_test, dtype=torch.long)\n",
    "\n",
    "        # Create DataLoaders\n",
    "        train_dataset = BalancedDatasetFusion(X_train_conv, X_train_gaia, y_train)\n",
    "        val_dataset = BalancedDatasetFusion(X_val_conv, X_val_gaia, y_val)\n",
    "        test_dataset = BalancedDatasetFusion(X_test_conv, X_test_gaia, y_test)\n",
    "\n",
    "        train_loader = DataLoader(train_dataset, batch_size=512, shuffle=True)\n",
    "        val_loader = DataLoader(val_dataset, batch_size=512, shuffle=False)\n",
    "        test_loader = DataLoader(test_dataset, batch_size=512, shuffle=False)"
   ]
  },
  {
   "cell_type": "markdown",
   "metadata": {},
   "source": [
    "# BB"
   ]
  },
  {
   "cell_type": "code",
   "execution_count": 8,
   "metadata": {},
   "outputs": [],
   "source": [
    "# Define the Spectra Branch as a separate module\n",
    "class SpectraBranch(nn.Module):\n",
    "    def __init__(self, input_shape, num_classes, \n",
    "                 num_filters=[128, 128, 128, 128, 128, 128, 128, 128], \n",
    "                 kernel_size=9,\n",
    "                 dropout_rate=0.2, padding='same'):\n",
    "        super(SpectraBranch, self).__init__()\n",
    "        \n",
    "        self.conv_layers = nn.ModuleList()\n",
    "        self.pool_layers = nn.ModuleList()\n",
    "        in_channels = 1  # Since it's a 1D input\n",
    "        \n",
    "        # Add convolutional layers\n",
    "        for filters in num_filters:\n",
    "            conv_layer = nn.Conv1d(in_channels=in_channels, out_channels=filters, kernel_size=kernel_size, padding=kernel_size//2)\n",
    "            self.conv_layers.append(conv_layer)\n",
    "            self.pool_layers.append(nn.MaxPool1d(kernel_size=2))\n",
    "            in_channels = filters\n",
    "        \n",
    "        self.dropout = nn.Dropout(dropout_rate)\n",
    "        self.flatten = nn.Flatten()\n",
    "    \n",
    "    def forward(self, x):\n",
    "        for conv_layer, pool_layer in zip(self.conv_layers, self.pool_layers):\n",
    "            x = pool_layer(torch.relu(conv_layer(x)))\n",
    "            x = self.dropout(x)\n",
    "        x = self.flatten(x)\n",
    "        return x\n",
    "\n",
    "# Define the Gaia Branch as a separate module\n",
    "class GaiaBranch(nn.Module):\n",
    "    def __init__(self, gaia_input_size, gaia_fusion_units):\n",
    "        super(GaiaBranch, self).__init__()\n",
    "        self.fc = nn.Linear(gaia_input_size, gaia_fusion_units)\n",
    "\n",
    "    def forward(self, x):\n",
    "        return torch.relu(self.fc(x))\n",
    "\n",
    "# Fusion Model that combines both branches\n",
    "class ConvNetFusion(nn.Module):\n",
    "    def __init__(self, input_shape, num_classes, gaia_input_size, \n",
    "                 num_filters=[128, 128, 128, 128, 128, 128, 128, 128],  # More filters for SpectraBranch\n",
    "                 kernel_size=9,\n",
    "                 dense_units=[256, 128, 64, 32],\n",
    "                 dropout_rate=0.2, \n",
    "                 gaia_fusion_units=10000):\n",
    "        super(ConvNetFusion, self).__init__()\n",
    "\n",
    "        # Instantiate the two branches\n",
    "        self.spectra_branch = SpectraBranch(input_shape, num_classes, num_filters, kernel_size, dropout_rate)\n",
    "        self.gaia_branch = GaiaBranch(gaia_input_size, gaia_fusion_units)\n",
    "\n",
    "        # Fused input size\n",
    "        fused_input_size = gaia_fusion_units + num_filters[-1] * (input_shape[0] // (2 ** len(num_filters)))\n",
    "        \n",
    "        # Fully connected layers after fusion\n",
    "        for i, units in enumerate(dense_units):\n",
    "            if i == 0:\n",
    "                self.dense_layers = nn.Sequential(\n",
    "                    nn.Linear(fused_input_size, units),\n",
    "                    nn.ReLU(),\n",
    "                    nn.Dropout(dropout_rate)\n",
    "                )\n",
    "            else:\n",
    "                self.dense_layers.add_module(f\"dense_{i}\", nn.Linear(dense_units[i-1], units))\n",
    "                self.dense_layers.add_module(f\"relu_{i}\", nn.ReLU())\n",
    "                self.dense_layers.add_module(f\"dropout_{i}\", nn.Dropout(dropout_rate))\n",
    "\n",
    "        # Output layer\n",
    "        self.output_layer = nn.Linear(dense_units[-1], num_classes)\n",
    "\n",
    "    def forward(self, x_conv, x_gaia):\n",
    "        # Spectra branch forward pass\n",
    "        x_conv = self.spectra_branch(x_conv)\n",
    "        \n",
    "        # Gaia branch forward pass\n",
    "        x_gaia = self.gaia_branch(x_gaia)\n",
    "        \n",
    "        # Concatenate the two branches\n",
    "        x_fused = torch.cat((x_conv, x_gaia), dim=1)\n",
    "\n",
    "        # Pass through dense layers\n",
    "        x = self.dense_layers(x_fused)\n",
    "\n",
    "        # Output layer\n",
    "        x = self.output_layer(x)\n",
    "        \n",
    "        return torch.softmax(x, dim=1)"
   ]
  },
  {
   "cell_type": "code",
   "execution_count": 9,
   "metadata": {},
   "outputs": [
    {
     "name": "stdout",
     "output_type": "stream",
     "text": [
      "Gaia input size: 17\n",
      "ConvNetFusion(\n",
      "  (spectra_branch): SpectraBranch(\n",
      "    (conv_layers): ModuleList(\n",
      "      (0): Conv1d(1, 128, kernel_size=(9,), stride=(1,), padding=(4,))\n",
      "      (1-2): 2 x Conv1d(128, 128, kernel_size=(9,), stride=(1,), padding=(4,))\n",
      "      (3): Conv1d(128, 256, kernel_size=(9,), stride=(1,), padding=(4,))\n",
      "      (4-5): 2 x Conv1d(256, 256, kernel_size=(9,), stride=(1,), padding=(4,))\n",
      "      (6): Conv1d(256, 512, kernel_size=(9,), stride=(1,), padding=(4,))\n",
      "      (7-8): 2 x Conv1d(512, 512, kernel_size=(9,), stride=(1,), padding=(4,))\n",
      "      (9): Conv1d(512, 1024, kernel_size=(9,), stride=(1,), padding=(4,))\n",
      "      (10): Conv1d(1024, 1024, kernel_size=(9,), stride=(1,), padding=(4,))\n",
      "    )\n",
      "    (pool_layers): ModuleList(\n",
      "      (0-10): 11 x MaxPool1d(kernel_size=2, stride=2, padding=0, dilation=1, ceil_mode=False)\n",
      "    )\n",
      "    (dropout): Dropout(p=0.2, inplace=False)\n",
      "    (flatten): Flatten(start_dim=1, end_dim=-1)\n",
      "  )\n",
      "  (gaia_branch): GaiaBranch(\n",
      "    (fc): Linear(in_features=17, out_features=1024, bias=True)\n",
      "  )\n",
      "  (dense_layers): Sequential(\n",
      "    (0): Linear(in_features=2048, out_features=2048, bias=True)\n",
      "    (1): ReLU()\n",
      "    (2): Dropout(p=0.2, inplace=False)\n",
      "    (dense_1): Linear(in_features=2048, out_features=2048, bias=True)\n",
      "    (relu_1): ReLU()\n",
      "    (dropout_1): Dropout(p=0.2, inplace=False)\n",
      "    (dense_2): Linear(in_features=2048, out_features=2048, bias=True)\n",
      "    (relu_2): ReLU()\n",
      "    (dropout_2): Dropout(p=0.2, inplace=False)\n",
      "    (dense_3): Linear(in_features=2048, out_features=512, bias=True)\n",
      "    (relu_3): ReLU()\n",
      "    (dropout_3): Dropout(p=0.2, inplace=False)\n",
      "    (dense_4): Linear(in_features=512, out_features=128, bias=True)\n",
      "    (relu_4): ReLU()\n",
      "    (dropout_4): Dropout(p=0.2, inplace=False)\n",
      "    (dense_5): Linear(in_features=128, out_features=64, bias=True)\n",
      "    (relu_5): ReLU()\n",
      "    (dropout_5): Dropout(p=0.2, inplace=False)\n",
      "  )\n",
      "  (output_layer): Linear(in_features=64, out_features=4, bias=True)\n",
      ")\n",
      "Number of parameters: 35560132\n"
     ]
    }
   ],
   "source": [
    "# Initialize model\n",
    "gaia_input_size = X_train_gaia.shape[1]\n",
    "print(f\"Gaia input size: {gaia_input_size}\")\n",
    "filters = [128, 128, 128, 256, 256, 256, 512, 512, 512, 1024, 1024] \n",
    "dense=[2048, 2048, 2048, 512, 128, 64]\n",
    "\n",
    "model = ConvNetFusion(input_shape=(3748,), num_classes=4, gaia_input_size=gaia_input_size, \n",
    "                      num_filters=filters, kernel_size=9, dense_units=dense, dropout_rate=0.2, gaia_fusion_units=filters[-1])\n",
    "# Save the model\n",
    "torch.save(model, \"Models/toyv0.pth\")\n",
    "# Print model summary\n",
    "print(model)\n",
    "print(f\"Number of parameters: {sum(p.numel() for p in model.parameters() if p.requires_grad)}\")\n",
    "model = model.to(device)"
   ]
  },
  {
   "cell_type": "markdown",
   "metadata": {},
   "source": [
    "# Bunda bebe"
   ]
  },
  {
   "cell_type": "code",
   "execution_count": null,
   "metadata": {},
   "outputs": [
    {
     "name": "stderr",
     "output_type": "stream",
     "text": [
      "2024/10/22 22:14:50 INFO mlflow.system_metrics.system_metrics_monitor: Started monitoring system metrics.\n"
     ]
    },
    {
     "name": "stdout",
     "output_type": "stream",
     "text": [
      "Epoch [1/200], Train Loss: 1.3751, Train Acc: 0.3444, Val Loss: 1.3332, Val Acc: 0.6027, Test Loss: 1.3332, Test Acc: 0.6059\n",
      "Epoch [2/200], Train Loss: 1.2143, Train Acc: 0.5621, Val Loss: 1.2371, Val Acc: 0.4510, Test Loss: 1.2325, Test Acc: 0.4623\n",
      "Epoch [3/200], Train Loss: 1.0859, Train Acc: 0.6419, Val Loss: 1.1941, Val Acc: 0.5163, Test Loss: 1.1871, Test Acc: 0.5224\n",
      "Epoch [4/200], Train Loss: 1.0574, Train Acc: 0.6579, Val Loss: 1.1068, Val Acc: 0.6154, Test Loss: 1.0993, Test Acc: 0.6291\n",
      "Epoch [5/200], Train Loss: 1.0494, Train Acc: 0.6690, Val Loss: 1.1036, Val Acc: 0.6602, Test Loss: 1.0966, Test Acc: 0.6648\n",
      "Epoch [6/200], Train Loss: 1.0439, Train Acc: 0.6726, Val Loss: 1.0914, Val Acc: 0.6101, Test Loss: 1.0846, Test Acc: 0.6204\n",
      "Epoch [7/200], Train Loss: 1.0351, Train Acc: 0.6771, Val Loss: 1.0888, Val Acc: 0.6736, Test Loss: 1.0822, Test Acc: 0.6828\n",
      "Epoch [8/200], Train Loss: 1.0276, Train Acc: 0.6946, Val Loss: 1.0650, Val Acc: 0.6915, Test Loss: 1.0582, Test Acc: 0.6974\n",
      "Epoch [9/200], Train Loss: 0.9998, Train Acc: 0.7391, Val Loss: 1.0314, Val Acc: 0.7120, Test Loss: 1.0249, Test Acc: 0.7129\n",
      "Epoch [10/200], Train Loss: 0.9808, Train Acc: 0.7588, Val Loss: 1.0255, Val Acc: 0.7098, Test Loss: 1.0155, Test Acc: 0.7208\n",
      "Epoch [11/200], Train Loss: 0.9765, Train Acc: 0.7631, Val Loss: 1.0150, Val Acc: 0.7235, Test Loss: 1.0060, Test Acc: 0.7345\n",
      "Epoch [12/200], Train Loss: 0.9691, Train Acc: 0.7749, Val Loss: 1.0064, Val Acc: 0.7322, Test Loss: 0.9961, Test Acc: 0.7438\n",
      "Epoch [13/200], Train Loss: 0.9461, Train Acc: 0.7948, Val Loss: 1.0235, Val Acc: 0.7137, Test Loss: 1.0161, Test Acc: 0.7224\n"
     ]
    }
   ],
   "source": [
    "# Training parameters\n",
    "num_epochs = 200\n",
    "lr = 1e-4\n",
    "patience = 20\n",
    "batch_size = 256\n",
    "\n",
    "# Start an MLflow run\n",
    "with mlflow.start_run(log_system_metrics=True):\n",
    "    # Log parameters\n",
    "    mlflow.log_param(\"num_epochs\", num_epochs)\n",
    "    mlflow.log_param(\"lr\", lr)\n",
    "    mlflow.log_param(\"patience\", patience)\n",
    "    mlflow.log_param(\"batch_size\", batch_size)\n",
    "    mlflow.log_param(\"num_filters\", filters)\n",
    "    mlflow.log_param(\"dense_units\", dense)\n",
    "    mlflow.log_param(\"dropout_rate\", 0.2)\n",
    "    mlflow.log_param(\"kernel_size\", 9)\n",
    "\n",
    "    # Train the model\n",
    "    trained_model = train_model(model, train_loader, val_loader, test_loader, num_epochs=num_epochs, lr=lr, patience=patience)\n",
    "\n",
    "    # Evaluate the model\n",
    "    print_confusion_matrix(trained_model, train_loader)\n",
    "    # Save the model in MLflow\n",
    "    mlflow.pytorch.log_model(trained_model, \"model\")"
   ]
  },
  {
   "cell_type": "code",
   "execution_count": 28,
   "metadata": {},
   "outputs": [
    {
     "name": "stdout",
     "output_type": "stream",
     "text": [
      "Confusion Matrix:\n",
      "[[1281  280    2   37]\n",
      " [ 259 1326    7    8]\n",
      " [   0    0  371    5]\n",
      " [   6    6  216 1372]]\n",
      "Accuracy: 0.8404173106646059\n",
      "Recall: 0.8404173106646059\n",
      "F1 Score: 0.8430980509623724\n",
      "Precision: 0.853877084274959\n",
      "\n",
      "Classification Report:\n",
      "              precision    recall  f1-score   support\n",
      "\n",
      "        Star       0.83      0.80      0.81      1600\n",
      " Binary Star       0.82      0.83      0.83      1600\n",
      "      Galaxy       0.62      0.99      0.76       376\n",
      "         AGN       0.96      0.86      0.91      1600\n",
      "\n",
      "    accuracy                           0.84      5176\n",
      "   macro avg       0.81      0.87      0.83      5176\n",
      "weighted avg       0.85      0.84      0.84      5176\n",
      "\n"
     ]
    },
    {
     "data": {
      "image/png": "[encoded data removed]",
      "text/plain": [
       "<Figure size 800x600 with 1 Axes>"
      ]
     },
     "metadata": {},
     "output_type": "display_data"
    }
   ],
   "source": [
    "def print_confusion_matrix(model, val_loader):\n",
    "    model.eval()\n",
    "    all_preds = []\n",
    "    all_labels = []\n",
    "\n",
    "    with torch.no_grad():\n",
    "        for X_conv, X_gaia, y in val_loader:\n",
    "            outputs = model(X_conv, X_gaia)\n",
    "            _, predicted = torch.max(outputs, 1)\n",
    "            all_preds.extend(predicted.cpu().numpy())\n",
    "            all_labels.extend(y.cpu().numpy())\n",
    "\n",
    "    cm = confusion_matrix(all_labels, all_preds)\n",
    "    print(\"Confusion Matrix:\")\n",
    "    print(cm)\n",
    "\n",
    "    # Calculate and print additional metrics\n",
    "    accuracy = accuracy_score(all_labels, all_preds)\n",
    "    recall = recall_score(all_labels, all_preds, average='weighted')\n",
    "    f1 = f1_score(all_labels, all_preds, average='weighted')\n",
    "    precision = precision_score(all_labels, all_preds, average='weighted')\n",
    "\n",
    "    print(f\"Accuracy: {accuracy}\")\n",
    "    print(f\"Recall: {recall}\")\n",
    "    print(f\"F1 Score: {f1}\")\n",
    "    print(f\"Precision: {precision}\")\n",
    "\n",
    "    # Print classification report for each class\n",
    "    class_names = ['Star', 'Binary Star', 'Galaxy', 'AGN']\n",
    "    report = classification_report(all_labels, all_preds, target_names=class_names)\n",
    "    print(\"\\nClassification Report:\")\n",
    "    print(report)\n",
    "\n",
    "    # Log confusion matrix\n",
    "    temp_file_path = save_confusion_matrix_to_file(cm)\n",
    "    mlflow.log_artifact(temp_file_path, artifact_path=\"confusion_matrix\")\n",
    "    os.remove(temp_file_path)  # Clean up the temporary file\n",
    "\n",
    "def save_confusion_matrix_to_file(cm):\n",
    "    import matplotlib.pyplot as plt\n",
    "    import seaborn as sns\n",
    "\n",
    "    plt.figure(figsize=(8, 6))\n",
    "    sns.heatmap(cm, annot=True, fmt=\"d\", cmap=\"Blues\", cbar=False)\n",
    "    plt.ylabel(\"True Label\")\n",
    "    plt.xlabel(\"Predicted Label\")\n",
    "    \n",
    "    xticklabels = ['Star', 'Binary Star', 'Galaxy', 'AGN']\n",
    "    yticklabels = ['Star', 'Binary Star', 'Galaxy', 'AGN']\n",
    "    \n",
    "    plt.xticks(ticks=[0.5, 1.5, 2.5, 3.5], labels=xticklabels, rotation=45)\n",
    "    plt.yticks(ticks=[0.5, 1.5, 2.5, 3.5], labels=yticklabels, rotation=0)\n",
    "\n",
    "    # Save the figure to a temporary file\n",
    "    temp_file = tempfile.NamedTemporaryFile(delete=False, suffix=\".png\")\n",
    "    plt.savefig(temp_file.name, format='png')\n",
    "    temp_file.close()\n",
    "    \n",
    "    return temp_file.name\n",
    "\n",
    "\n",
    "\n",
    "print_confusion_matrix(model, test_loader)\n"
   ]
  },
  {
   "cell_type": "code",
   "execution_count": 4,
   "metadata": {},
   "outputs": [
    {
     "name": "stdout",
     "output_type": "stream",
     "text": [
      "Device: cuda\n"
     ]
    }
   ],
   "source": [
    "# Check if GPU is available\n",
    "device = torch.device(\"cuda\" if torch.cuda.is_available() else \"cpu\")\n",
    "print(f\"Device: {device}\")"
   ]
  },
  {
   "cell_type": "code",
   "execution_count": 11,
   "metadata": {},
   "outputs": [],
   "source": [
    "# Confusion matrix and classification report\n",
    "def print_confusion_matrix(model, val_loader, device='cuda'):\n",
    "    model.eval()\n",
    "    all_preds = []\n",
    "    all_labels = []\n",
    "    with torch.no_grad():\n",
    "        for X_batch, y_batch in val_loader:\n",
    "            X_batch = X_batch.to(device)\n",
    "            preds = model(X_batch).cpu().numpy()\n",
    "            all_preds.extend(np.argmax(preds, axis=1))\n",
    "            all_labels.extend(y_batch.numpy())\n",
    "\n",
    "    conf_matrix = confusion_matrix(all_labels, all_preds)\n",
    "    print(\"Confusion Matrix:\")\n",
    "    print(conf_matrix)\n",
    "\n",
    "    print(\"\\nClassification Report:\")\n",
    "    print(classification_report(all_labels, all_preds))\n",
    "\n",
    "    plt.figure(figsize=(8, 6))\n",
    "    sns.heatmap(conf_matrix, annot=True, fmt=\"d\", cmap=\"Blues\", \n",
    "                xticklabels=['Star', 'Binary Star', 'Galaxy', 'AGN'], \n",
    "                yticklabels=['Star', 'Binary Star', 'Galaxy', 'AGN'])\n",
    "    plt.xlabel('Predicted')\n",
    "    plt.ylabel('True')\n",
    "    plt.title('Confusion Matrix')\n",
    "    plt.show()\n"
   ]
  },
  {
   "cell_type": "code",
   "execution_count": 32,
   "metadata": {},
   "outputs": [
    {
     "name": "stderr",
     "output_type": "stream",
     "text": [
      "2024/10/22 12:29:52 INFO mlflow.system_metrics.system_metrics_monitor: Started monitoring system metrics.\n",
      "2024/10/22 12:29:52 WARNING mlflow.system_metrics.metrics.gpu_monitor: Encountered error Unknown Error when trying to collect GPU metrics.\n",
      "2024/10/22 12:30:02 WARNING mlflow.system_metrics.metrics.gpu_monitor: Encountered error Unknown Error when trying to collect GPU metrics.\n",
      "2024/10/22 12:30:23 WARNING mlflow.system_metrics.metrics.gpu_monitor: Encountered error Unknown Error when trying to collect GPU metrics.\n",
      "2024/10/22 12:30:33 WARNING mlflow.system_metrics.metrics.gpu_monitor: Encountered error Unknown Error when trying to collect GPU metrics.\n"
     ]
    },
    {
     "name": "stdout",
     "output_type": "stream",
     "text": [
      "Epoch [1/200], Train Loss: 0.8836, Train Acc: 0.8590, Val Loss: 0.9054, Val Acc: 0.8364, Test Loss: 0.8977, Test Acc: 0.8443\n"
     ]
    },
    {
     "name": "stderr",
     "output_type": "stream",
     "text": [
      "2024/10/22 12:30:53 WARNING mlflow.system_metrics.metrics.gpu_monitor: Encountered error Unknown Error when trying to collect GPU metrics.\n",
      "2024/10/22 12:31:03 WARNING mlflow.system_metrics.metrics.gpu_monitor: Encountered error Unknown Error when trying to collect GPU metrics.\n"
     ]
    },
    {
     "name": "stdout",
     "output_type": "stream",
     "text": [
      "Epoch [2/200], Train Loss: 0.8810, Train Acc: 0.8611, Val Loss: 0.9051, Val Acc: 0.8372, Test Loss: 0.8970, Test Acc: 0.8464\n"
     ]
    },
    {
     "name": "stderr",
     "output_type": "stream",
     "text": [
      "2024/10/22 12:31:23 WARNING mlflow.system_metrics.metrics.gpu_monitor: Encountered error Unknown Error when trying to collect GPU metrics.\n",
      "2024/10/22 12:31:33 WARNING mlflow.system_metrics.metrics.gpu_monitor: Encountered error Unknown Error when trying to collect GPU metrics.\n",
      "2024/10/22 12:31:54 WARNING mlflow.system_metrics.metrics.gpu_monitor: Encountered error Unknown Error when trying to collect GPU metrics.\n"
     ]
    },
    {
     "name": "stdout",
     "output_type": "stream",
     "text": [
      "Epoch [3/200], Train Loss: 0.8788, Train Acc: 0.8641, Val Loss: 0.9045, Val Acc: 0.8374, Test Loss: 0.8972, Test Acc: 0.8464\n"
     ]
    },
    {
     "name": "stderr",
     "output_type": "stream",
     "text": [
      "2024/10/22 12:32:04 WARNING mlflow.system_metrics.metrics.gpu_monitor: Encountered error Unknown Error when trying to collect GPU metrics.\n",
      "2024/10/22 12:32:24 WARNING mlflow.system_metrics.metrics.gpu_monitor: Encountered error Unknown Error when trying to collect GPU metrics.\n",
      "2024/10/22 12:32:34 WARNING mlflow.system_metrics.metrics.gpu_monitor: Encountered error Unknown Error when trying to collect GPU metrics.\n"
     ]
    },
    {
     "name": "stdout",
     "output_type": "stream",
     "text": [
      "Epoch [4/200], Train Loss: 0.8845, Train Acc: 0.8565, Val Loss: 0.9037, Val Acc: 0.8391, Test Loss: 0.8963, Test Acc: 0.8466\n"
     ]
    },
    {
     "name": "stderr",
     "output_type": "stream",
     "text": [
      "2024/10/22 12:32:54 WARNING mlflow.system_metrics.metrics.gpu_monitor: Encountered error Unknown Error when trying to collect GPU metrics.\n",
      "2024/10/22 12:33:04 WARNING mlflow.system_metrics.metrics.gpu_monitor: Encountered error Unknown Error when trying to collect GPU metrics.\n",
      "2024/10/22 12:33:24 WARNING mlflow.system_metrics.metrics.gpu_monitor: Encountered error Unknown Error when trying to collect GPU metrics.\n"
     ]
    },
    {
     "name": "stdout",
     "output_type": "stream",
     "text": [
      "Epoch [5/200], Train Loss: 0.8797, Train Acc: 0.8626, Val Loss: 0.9033, Val Acc: 0.8378, Test Loss: 0.8953, Test Acc: 0.8474\n"
     ]
    },
    {
     "name": "stderr",
     "output_type": "stream",
     "text": [
      "2024/10/22 12:33:35 WARNING mlflow.system_metrics.metrics.gpu_monitor: Encountered error Unknown Error when trying to collect GPU metrics.\n",
      "2024/10/22 12:33:55 WARNING mlflow.system_metrics.metrics.gpu_monitor: Encountered error Unknown Error when trying to collect GPU metrics.\n",
      "2024/10/22 12:34:05 WARNING mlflow.system_metrics.metrics.gpu_monitor: Encountered error Unknown Error when trying to collect GPU metrics.\n"
     ]
    },
    {
     "name": "stdout",
     "output_type": "stream",
     "text": [
      "Epoch [6/200], Train Loss: 0.8810, Train Acc: 0.8619, Val Loss: 0.9039, Val Acc: 0.8376, Test Loss: 0.8957, Test Acc: 0.8468\n"
     ]
    },
    {
     "name": "stderr",
     "output_type": "stream",
     "text": [
      "2024/10/22 12:34:25 WARNING mlflow.system_metrics.metrics.gpu_monitor: Encountered error Unknown Error when trying to collect GPU metrics.\n",
      "2024/10/22 12:34:35 WARNING mlflow.system_metrics.metrics.gpu_monitor: Encountered error Unknown Error when trying to collect GPU metrics.\n"
     ]
    },
    {
     "name": "stdout",
     "output_type": "stream",
     "text": [
      "Epoch [7/200], Train Loss: 0.8769, Train Acc: 0.8650, Val Loss: 0.9045, Val Acc: 0.8384, Test Loss: 0.8975, Test Acc: 0.8454\n"
     ]
    },
    {
     "name": "stderr",
     "output_type": "stream",
     "text": [
      "2024/10/22 12:34:55 WARNING mlflow.system_metrics.metrics.gpu_monitor: Encountered error Unknown Error when trying to collect GPU metrics.\n",
      "2024/10/22 12:35:05 WARNING mlflow.system_metrics.metrics.gpu_monitor: Encountered error Unknown Error when trying to collect GPU metrics.\n",
      "2024/10/22 12:35:26 WARNING mlflow.system_metrics.metrics.gpu_monitor: Encountered error Unknown Error when trying to collect GPU metrics.\n"
     ]
    },
    {
     "name": "stdout",
     "output_type": "stream",
     "text": [
      "Epoch [8/200], Train Loss: 0.8770, Train Acc: 0.8665, Val Loss: 0.9044, Val Acc: 0.8388, Test Loss: 0.8971, Test Acc: 0.8447\n"
     ]
    },
    {
     "name": "stderr",
     "output_type": "stream",
     "text": [
      "2024/10/22 12:35:36 WARNING mlflow.system_metrics.metrics.gpu_monitor: Encountered error Unknown Error when trying to collect GPU metrics.\n",
      "2024/10/22 12:35:56 WARNING mlflow.system_metrics.metrics.gpu_monitor: Encountered error Unknown Error when trying to collect GPU metrics.\n",
      "2024/10/22 12:36:06 WARNING mlflow.system_metrics.metrics.gpu_monitor: Encountered error Unknown Error when trying to collect GPU metrics.\n"
     ]
    },
    {
     "name": "stdout",
     "output_type": "stream",
     "text": [
      "Epoch [9/200], Train Loss: 0.8758, Train Acc: 0.8670, Val Loss: 0.9034, Val Acc: 0.8386, Test Loss: 0.8948, Test Acc: 0.8480\n"
     ]
    },
    {
     "name": "stderr",
     "output_type": "stream",
     "text": [
      "2024/10/22 12:36:26 WARNING mlflow.system_metrics.metrics.gpu_monitor: Encountered error Unknown Error when trying to collect GPU metrics.\n",
      "2024/10/22 12:36:36 WARNING mlflow.system_metrics.metrics.gpu_monitor: Encountered error Unknown Error when trying to collect GPU metrics.\n"
     ]
    },
    {
     "name": "stdout",
     "output_type": "stream",
     "text": [
      "Epoch [10/200], Train Loss: 0.8757, Train Acc: 0.8673, Val Loss: 0.9035, Val Acc: 0.8386, Test Loss: 0.8944, Test Acc: 0.8489\n"
     ]
    },
    {
     "name": "stderr",
     "output_type": "stream",
     "text": [
      "2024/10/22 12:36:57 WARNING mlflow.system_metrics.metrics.gpu_monitor: Encountered error Unknown Error when trying to collect GPU metrics.\n",
      "2024/10/22 12:37:07 WARNING mlflow.system_metrics.metrics.gpu_monitor: Encountered error Unknown Error when trying to collect GPU metrics.\n",
      "2024/10/22 12:37:27 WARNING mlflow.system_metrics.metrics.gpu_monitor: Encountered error Unknown Error when trying to collect GPU metrics.\n"
     ]
    },
    {
     "name": "stdout",
     "output_type": "stream",
     "text": [
      "Epoch [11/200], Train Loss: 0.8769, Train Acc: 0.8644, Val Loss: 0.9040, Val Acc: 0.8382, Test Loss: 0.8951, Test Acc: 0.8468\n"
     ]
    },
    {
     "name": "stderr",
     "output_type": "stream",
     "text": [
      "2024/10/22 12:37:37 WARNING mlflow.system_metrics.metrics.gpu_monitor: Encountered error Unknown Error when trying to collect GPU metrics.\n",
      "2024/10/22 12:37:58 WARNING mlflow.system_metrics.metrics.gpu_monitor: Encountered error Unknown Error when trying to collect GPU metrics.\n",
      "2024/10/22 12:38:08 WARNING mlflow.system_metrics.metrics.gpu_monitor: Encountered error Unknown Error when trying to collect GPU metrics.\n"
     ]
    },
    {
     "name": "stdout",
     "output_type": "stream",
     "text": [
      "Epoch [12/200], Train Loss: 0.8809, Train Acc: 0.8619, Val Loss: 0.9045, Val Acc: 0.8376, Test Loss: 0.8965, Test Acc: 0.8447\n"
     ]
    },
    {
     "name": "stderr",
     "output_type": "stream",
     "text": [
      "2024/10/22 12:38:28 WARNING mlflow.system_metrics.metrics.gpu_monitor: Encountered error Unknown Error when trying to collect GPU metrics.\n",
      "2024/10/22 12:38:38 WARNING mlflow.system_metrics.metrics.gpu_monitor: Encountered error Unknown Error when trying to collect GPU metrics.\n",
      "2024/10/22 12:38:58 WARNING mlflow.system_metrics.metrics.gpu_monitor: Encountered error Unknown Error when trying to collect GPU metrics.\n"
     ]
    },
    {
     "name": "stdout",
     "output_type": "stream",
     "text": [
      "Epoch [13/200], Train Loss: 0.8793, Train Acc: 0.8626, Val Loss: 0.9030, Val Acc: 0.8393, Test Loss: 0.8958, Test Acc: 0.8454\n"
     ]
    },
    {
     "name": "stderr",
     "output_type": "stream",
     "text": [
      "2024/10/22 12:39:08 WARNING mlflow.system_metrics.metrics.gpu_monitor: Encountered error Unknown Error when trying to collect GPU metrics.\n",
      "2024/10/22 12:39:29 WARNING mlflow.system_metrics.metrics.gpu_monitor: Encountered error Unknown Error when trying to collect GPU metrics.\n",
      "2024/10/22 12:39:39 WARNING mlflow.system_metrics.metrics.gpu_monitor: Encountered error Unknown Error when trying to collect GPU metrics.\n"
     ]
    },
    {
     "name": "stdout",
     "output_type": "stream",
     "text": [
      "Epoch [14/200], Train Loss: 0.8734, Train Acc: 0.8688, Val Loss: 0.9024, Val Acc: 0.8401, Test Loss: 0.8953, Test Acc: 0.8452\n"
     ]
    },
    {
     "name": "stderr",
     "output_type": "stream",
     "text": [
      "2024/10/22 12:39:59 WARNING mlflow.system_metrics.metrics.gpu_monitor: Encountered error Unknown Error when trying to collect GPU metrics.\n",
      "2024/10/22 12:40:09 WARNING mlflow.system_metrics.metrics.gpu_monitor: Encountered error Unknown Error when trying to collect GPU metrics.\n",
      "2024/10/22 12:40:29 WARNING mlflow.system_metrics.metrics.gpu_monitor: Encountered error Unknown Error when trying to collect GPU metrics.\n"
     ]
    },
    {
     "name": "stdout",
     "output_type": "stream",
     "text": [
      "Epoch [15/200], Train Loss: 0.8756, Train Acc: 0.8664, Val Loss: 0.9015, Val Acc: 0.8399, Test Loss: 0.8948, Test Acc: 0.8470\n"
     ]
    },
    {
     "name": "stderr",
     "output_type": "stream",
     "text": [
      "2024/10/22 12:40:39 WARNING mlflow.system_metrics.metrics.gpu_monitor: Encountered error Unknown Error when trying to collect GPU metrics.\n",
      "2024/10/22 12:41:00 WARNING mlflow.system_metrics.metrics.gpu_monitor: Encountered error Unknown Error when trying to collect GPU metrics.\n",
      "2024/10/22 12:41:10 WARNING mlflow.system_metrics.metrics.gpu_monitor: Encountered error Unknown Error when trying to collect GPU metrics.\n"
     ]
    },
    {
     "name": "stdout",
     "output_type": "stream",
     "text": [
      "Epoch [16/200], Train Loss: 0.8752, Train Acc: 0.8675, Val Loss: 0.9017, Val Acc: 0.8399, Test Loss: 0.8952, Test Acc: 0.8478\n"
     ]
    },
    {
     "name": "stderr",
     "output_type": "stream",
     "text": [
      "2024/10/22 12:41:30 WARNING mlflow.system_metrics.metrics.gpu_monitor: Encountered error Unknown Error when trying to collect GPU metrics.\n",
      "2024/10/22 12:41:40 WARNING mlflow.system_metrics.metrics.gpu_monitor: Encountered error Unknown Error when trying to collect GPU metrics.\n",
      "2024/10/22 12:42:00 WARNING mlflow.system_metrics.metrics.gpu_monitor: Encountered error Unknown Error when trying to collect GPU metrics.\n"
     ]
    },
    {
     "name": "stdout",
     "output_type": "stream",
     "text": [
      "Epoch [17/200], Train Loss: 0.8743, Train Acc: 0.8680, Val Loss: 0.9019, Val Acc: 0.8391, Test Loss: 0.8937, Test Acc: 0.8483\n"
     ]
    },
    {
     "name": "stderr",
     "output_type": "stream",
     "text": [
      "2024/10/22 12:42:10 WARNING mlflow.system_metrics.metrics.gpu_monitor: Encountered error Unknown Error when trying to collect GPU metrics.\n",
      "2024/10/22 12:42:31 WARNING mlflow.system_metrics.metrics.gpu_monitor: Encountered error Unknown Error when trying to collect GPU metrics.\n",
      "2024/10/22 12:42:41 WARNING mlflow.system_metrics.metrics.gpu_monitor: Encountered error Unknown Error when trying to collect GPU metrics.\n"
     ]
    },
    {
     "name": "stdout",
     "output_type": "stream",
     "text": [
      "Epoch [18/200], Train Loss: 0.8785, Train Acc: 0.8655, Val Loss: 0.9016, Val Acc: 0.8397, Test Loss: 0.8944, Test Acc: 0.8487\n"
     ]
    },
    {
     "name": "stderr",
     "output_type": "stream",
     "text": [
      "2024/10/22 12:43:01 WARNING mlflow.system_metrics.metrics.gpu_monitor: Encountered error Unknown Error when trying to collect GPU metrics.\n",
      "2024/10/22 12:43:11 WARNING mlflow.system_metrics.metrics.gpu_monitor: Encountered error Unknown Error when trying to collect GPU metrics.\n",
      "2024/10/22 12:43:31 WARNING mlflow.system_metrics.metrics.gpu_monitor: Encountered error Unknown Error when trying to collect GPU metrics.\n"
     ]
    },
    {
     "name": "stdout",
     "output_type": "stream",
     "text": [
      "Epoch [19/200], Train Loss: 0.8729, Train Acc: 0.8695, Val Loss: 0.9017, Val Acc: 0.8399, Test Loss: 0.8940, Test Acc: 0.8483\n"
     ]
    },
    {
     "name": "stderr",
     "output_type": "stream",
     "text": [
      "2024/10/22 12:43:42 WARNING mlflow.system_metrics.metrics.gpu_monitor: Encountered error Unknown Error when trying to collect GPU metrics.\n",
      "2024/10/22 12:44:02 WARNING mlflow.system_metrics.metrics.gpu_monitor: Encountered error Unknown Error when trying to collect GPU metrics.\n",
      "2024/10/22 12:44:12 WARNING mlflow.system_metrics.metrics.gpu_monitor: Encountered error Unknown Error when trying to collect GPU metrics.\n"
     ]
    },
    {
     "name": "stdout",
     "output_type": "stream",
     "text": [
      "Epoch [20/200], Train Loss: 0.8773, Train Acc: 0.8639, Val Loss: 0.9018, Val Acc: 0.8397, Test Loss: 0.8936, Test Acc: 0.8489\n"
     ]
    },
    {
     "name": "stderr",
     "output_type": "stream",
     "text": [
      "2024/10/22 12:44:32 WARNING mlflow.system_metrics.metrics.gpu_monitor: Encountered error Unknown Error when trying to collect GPU metrics.\n",
      "2024/10/22 12:44:42 WARNING mlflow.system_metrics.metrics.gpu_monitor: Encountered error Unknown Error when trying to collect GPU metrics.\n",
      "2024/10/22 12:45:02 WARNING mlflow.system_metrics.metrics.gpu_monitor: Encountered error Unknown Error when trying to collect GPU metrics.\n",
      "2024/10/22 12:45:12 WARNING mlflow.system_metrics.metrics.gpu_monitor: Encountered error Unknown Error when trying to collect GPU metrics.\n"
     ]
    },
    {
     "name": "stdout",
     "output_type": "stream",
     "text": [
      "Epoch [21/200], Train Loss: 0.8723, Train Acc: 0.8695, Val Loss: 0.9016, Val Acc: 0.8415, Test Loss: 0.8934, Test Acc: 0.8487\n"
     ]
    },
    {
     "name": "stderr",
     "output_type": "stream",
     "text": [
      "2024/10/22 12:45:33 WARNING mlflow.system_metrics.metrics.gpu_monitor: Encountered error Unknown Error when trying to collect GPU metrics.\n",
      "2024/10/22 12:45:43 WARNING mlflow.system_metrics.metrics.gpu_monitor: Encountered error Unknown Error when trying to collect GPU metrics.\n",
      "2024/10/22 12:46:03 WARNING mlflow.system_metrics.metrics.gpu_monitor: Encountered error Unknown Error when trying to collect GPU metrics.\n"
     ]
    },
    {
     "name": "stdout",
     "output_type": "stream",
     "text": [
      "Epoch [22/200], Train Loss: 0.8748, Train Acc: 0.8682, Val Loss: 0.9015, Val Acc: 0.8397, Test Loss: 0.8925, Test Acc: 0.8505\n"
     ]
    },
    {
     "name": "stderr",
     "output_type": "stream",
     "text": [
      "2024/10/22 12:46:13 WARNING mlflow.system_metrics.metrics.gpu_monitor: Encountered error Unknown Error when trying to collect GPU metrics.\n",
      "2024/10/22 12:46:33 WARNING mlflow.system_metrics.metrics.gpu_monitor: Encountered error Unknown Error when trying to collect GPU metrics.\n",
      "2024/10/22 12:46:43 WARNING mlflow.system_metrics.metrics.gpu_monitor: Encountered error Unknown Error when trying to collect GPU metrics.\n"
     ]
    },
    {
     "name": "stdout",
     "output_type": "stream",
     "text": [
      "Epoch [23/200], Train Loss: 0.8726, Train Acc: 0.8688, Val Loss: 0.9011, Val Acc: 0.8401, Test Loss: 0.8925, Test Acc: 0.8503\n"
     ]
    },
    {
     "name": "stderr",
     "output_type": "stream",
     "text": [
      "2024/10/22 12:47:03 WARNING mlflow.system_metrics.metrics.gpu_monitor: Encountered error Unknown Error when trying to collect GPU metrics.\n",
      "2024/10/22 12:47:14 WARNING mlflow.system_metrics.metrics.gpu_monitor: Encountered error Unknown Error when trying to collect GPU metrics.\n",
      "2024/10/22 12:47:34 WARNING mlflow.system_metrics.metrics.gpu_monitor: Encountered error Unknown Error when trying to collect GPU metrics.\n",
      "2024/10/22 12:47:44 WARNING mlflow.system_metrics.metrics.gpu_monitor: Encountered error Unknown Error when trying to collect GPU metrics.\n"
     ]
    },
    {
     "name": "stdout",
     "output_type": "stream",
     "text": [
      "Epoch [24/200], Train Loss: 0.8716, Train Acc: 0.8703, Val Loss: 0.9010, Val Acc: 0.8401, Test Loss: 0.8924, Test Acc: 0.8489\n"
     ]
    },
    {
     "name": "stderr",
     "output_type": "stream",
     "text": [
      "2024/10/22 12:48:04 WARNING mlflow.system_metrics.metrics.gpu_monitor: Encountered error Unknown Error when trying to collect GPU metrics.\n",
      "2024/10/22 12:48:14 WARNING mlflow.system_metrics.metrics.gpu_monitor: Encountered error Unknown Error when trying to collect GPU metrics.\n",
      "2024/10/22 12:48:34 WARNING mlflow.system_metrics.metrics.gpu_monitor: Encountered error Unknown Error when trying to collect GPU metrics.\n"
     ]
    },
    {
     "name": "stdout",
     "output_type": "stream",
     "text": [
      "Epoch [25/200], Train Loss: 0.8830, Train Acc: 0.8585, Val Loss: 0.9014, Val Acc: 0.8401, Test Loss: 0.8926, Test Acc: 0.8497\n"
     ]
    },
    {
     "name": "stderr",
     "output_type": "stream",
     "text": [
      "2024/10/22 12:48:44 WARNING mlflow.system_metrics.metrics.gpu_monitor: Encountered error Unknown Error when trying to collect GPU metrics.\n",
      "2024/10/22 12:49:05 WARNING mlflow.system_metrics.metrics.gpu_monitor: Encountered error Unknown Error when trying to collect GPU metrics.\n",
      "2024/10/22 12:49:15 WARNING mlflow.system_metrics.metrics.gpu_monitor: Encountered error Unknown Error when trying to collect GPU metrics.\n",
      "2024/10/22 12:49:35 WARNING mlflow.system_metrics.metrics.gpu_monitor: Encountered error Unknown Error when trying to collect GPU metrics.\n"
     ]
    },
    {
     "name": "stdout",
     "output_type": "stream",
     "text": [
      "Epoch [26/200], Train Loss: 0.8769, Train Acc: 0.8665, Val Loss: 0.9005, Val Acc: 0.8413, Test Loss: 0.8928, Test Acc: 0.8483\n"
     ]
    },
    {
     "name": "stderr",
     "output_type": "stream",
     "text": [
      "2024/10/22 12:49:45 WARNING mlflow.system_metrics.metrics.gpu_monitor: Encountered error Unknown Error when trying to collect GPU metrics.\n",
      "2024/10/22 12:50:05 WARNING mlflow.system_metrics.metrics.gpu_monitor: Encountered error Unknown Error when trying to collect GPU metrics.\n",
      "2024/10/22 12:50:15 WARNING mlflow.system_metrics.metrics.gpu_monitor: Encountered error Unknown Error when trying to collect GPU metrics.\n"
     ]
    },
    {
     "name": "stdout",
     "output_type": "stream",
     "text": [
      "Epoch [27/200], Train Loss: 0.8788, Train Acc: 0.8641, Val Loss: 0.9001, Val Acc: 0.8419, Test Loss: 0.8927, Test Acc: 0.8491\n"
     ]
    },
    {
     "name": "stderr",
     "output_type": "stream",
     "text": [
      "2024/10/22 12:50:36 WARNING mlflow.system_metrics.metrics.gpu_monitor: Encountered error Unknown Error when trying to collect GPU metrics.\n",
      "2024/10/22 12:50:46 WARNING mlflow.system_metrics.metrics.gpu_monitor: Encountered error Unknown Error when trying to collect GPU metrics.\n",
      "2024/10/22 12:51:06 WARNING mlflow.system_metrics.metrics.gpu_monitor: Encountered error Unknown Error when trying to collect GPU metrics.\n",
      "2024/10/22 12:51:16 WARNING mlflow.system_metrics.metrics.gpu_monitor: Encountered error Unknown Error when trying to collect GPU metrics.\n"
     ]
    },
    {
     "name": "stdout",
     "output_type": "stream",
     "text": [
      "Epoch [28/200], Train Loss: 0.8713, Train Acc: 0.8719, Val Loss: 0.9000, Val Acc: 0.8440, Test Loss: 0.8933, Test Acc: 0.8474\n"
     ]
    },
    {
     "name": "stderr",
     "output_type": "stream",
     "text": [
      "2024/10/22 12:51:36 WARNING mlflow.system_metrics.metrics.gpu_monitor: Encountered error Unknown Error when trying to collect GPU metrics.\n",
      "2024/10/22 12:51:46 WARNING mlflow.system_metrics.metrics.gpu_monitor: Encountered error Unknown Error when trying to collect GPU metrics.\n",
      "2024/10/22 12:52:07 WARNING mlflow.system_metrics.metrics.gpu_monitor: Encountered error Unknown Error when trying to collect GPU metrics.\n",
      "2024/10/22 12:52:17 WARNING mlflow.system_metrics.metrics.gpu_monitor: Encountered error Unknown Error when trying to collect GPU metrics.\n"
     ]
    },
    {
     "name": "stdout",
     "output_type": "stream",
     "text": [
      "Epoch [29/200], Train Loss: 0.8780, Train Acc: 0.8642, Val Loss: 0.9000, Val Acc: 0.8434, Test Loss: 0.8934, Test Acc: 0.8480\n"
     ]
    },
    {
     "name": "stderr",
     "output_type": "stream",
     "text": [
      "2024/10/22 12:52:37 WARNING mlflow.system_metrics.metrics.gpu_monitor: Encountered error Unknown Error when trying to collect GPU metrics.\n",
      "2024/10/22 12:52:47 WARNING mlflow.system_metrics.metrics.gpu_monitor: Encountered error Unknown Error when trying to collect GPU metrics.\n",
      "2024/10/22 12:53:07 WARNING mlflow.system_metrics.metrics.gpu_monitor: Encountered error Unknown Error when trying to collect GPU metrics.\n",
      "2024/10/22 12:53:17 WARNING mlflow.system_metrics.metrics.gpu_monitor: Encountered error Unknown Error when trying to collect GPU metrics.\n"
     ]
    },
    {
     "name": "stdout",
     "output_type": "stream",
     "text": [
      "Epoch [30/200], Train Loss: 0.8798, Train Acc: 0.8619, Val Loss: 0.9004, Val Acc: 0.8415, Test Loss: 0.8922, Test Acc: 0.8487\n"
     ]
    },
    {
     "name": "stderr",
     "output_type": "stream",
     "text": [
      "2024/10/22 12:53:37 WARNING mlflow.system_metrics.metrics.gpu_monitor: Encountered error Unknown Error when trying to collect GPU metrics.\n",
      "2024/10/22 12:53:48 WARNING mlflow.system_metrics.metrics.gpu_monitor: Encountered error Unknown Error when trying to collect GPU metrics.\n",
      "2024/10/22 12:54:08 WARNING mlflow.system_metrics.metrics.gpu_monitor: Encountered error Unknown Error when trying to collect GPU metrics.\n",
      "2024/10/22 12:54:18 WARNING mlflow.system_metrics.metrics.gpu_monitor: Encountered error Unknown Error when trying to collect GPU metrics.\n"
     ]
    },
    {
     "name": "stdout",
     "output_type": "stream",
     "text": [
      "Epoch [31/200], Train Loss: 0.8782, Train Acc: 0.8636, Val Loss: 0.9009, Val Acc: 0.8403, Test Loss: 0.8913, Test Acc: 0.8505\n"
     ]
    },
    {
     "name": "stderr",
     "output_type": "stream",
     "text": [
      "2024/10/22 12:54:38 WARNING mlflow.system_metrics.metrics.gpu_monitor: Encountered error Unknown Error when trying to collect GPU metrics.\n",
      "2024/10/22 12:54:48 WARNING mlflow.system_metrics.metrics.gpu_monitor: Encountered error Unknown Error when trying to collect GPU metrics.\n",
      "2024/10/22 12:55:08 WARNING mlflow.system_metrics.metrics.gpu_monitor: Encountered error Unknown Error when trying to collect GPU metrics.\n",
      "2024/10/22 12:55:19 WARNING mlflow.system_metrics.metrics.gpu_monitor: Encountered error Unknown Error when trying to collect GPU metrics.\n"
     ]
    },
    {
     "name": "stdout",
     "output_type": "stream",
     "text": [
      "Epoch [32/200], Train Loss: 0.8753, Train Acc: 0.8680, Val Loss: 0.9001, Val Acc: 0.8413, Test Loss: 0.8915, Test Acc: 0.8503\n"
     ]
    },
    {
     "name": "stderr",
     "output_type": "stream",
     "text": [
      "2024/10/22 12:55:39 WARNING mlflow.system_metrics.metrics.gpu_monitor: Encountered error Unknown Error when trying to collect GPU metrics.\n",
      "2024/10/22 12:55:49 WARNING mlflow.system_metrics.metrics.gpu_monitor: Encountered error Unknown Error when trying to collect GPU metrics.\n",
      "2024/10/22 12:56:09 WARNING mlflow.system_metrics.metrics.gpu_monitor: Encountered error Unknown Error when trying to collect GPU metrics.\n",
      "2024/10/22 12:56:19 WARNING mlflow.system_metrics.metrics.gpu_monitor: Encountered error Unknown Error when trying to collect GPU metrics.\n"
     ]
    },
    {
     "name": "stdout",
     "output_type": "stream",
     "text": [
      "Epoch [33/200], Train Loss: 0.8737, Train Acc: 0.8678, Val Loss: 0.9009, Val Acc: 0.8401, Test Loss: 0.8918, Test Acc: 0.8495\n"
     ]
    },
    {
     "name": "stderr",
     "output_type": "stream",
     "text": [
      "2024/10/22 12:56:39 WARNING mlflow.system_metrics.metrics.gpu_monitor: Encountered error Unknown Error when trying to collect GPU metrics.\n",
      "2024/10/22 12:56:50 WARNING mlflow.system_metrics.metrics.gpu_monitor: Encountered error Unknown Error when trying to collect GPU metrics.\n",
      "2024/10/22 12:57:10 WARNING mlflow.system_metrics.metrics.gpu_monitor: Encountered error Unknown Error when trying to collect GPU metrics.\n",
      "2024/10/22 12:57:20 WARNING mlflow.system_metrics.metrics.gpu_monitor: Encountered error Unknown Error when trying to collect GPU metrics.\n"
     ]
    },
    {
     "name": "stdout",
     "output_type": "stream",
     "text": [
      "Epoch [34/200], Train Loss: 0.8748, Train Acc: 0.8682, Val Loss: 0.9008, Val Acc: 0.8411, Test Loss: 0.8920, Test Acc: 0.8499\n"
     ]
    },
    {
     "name": "stderr",
     "output_type": "stream",
     "text": [
      "2024/10/22 12:57:40 WARNING mlflow.system_metrics.metrics.gpu_monitor: Encountered error Unknown Error when trying to collect GPU metrics.\n",
      "2024/10/22 12:57:50 WARNING mlflow.system_metrics.metrics.gpu_monitor: Encountered error Unknown Error when trying to collect GPU metrics.\n",
      "2024/10/22 12:58:11 WARNING mlflow.system_metrics.metrics.gpu_monitor: Encountered error Unknown Error when trying to collect GPU metrics.\n",
      "2024/10/22 12:58:21 WARNING mlflow.system_metrics.metrics.gpu_monitor: Encountered error Unknown Error when trying to collect GPU metrics.\n"
     ]
    },
    {
     "name": "stdout",
     "output_type": "stream",
     "text": [
      "Epoch [35/200], Train Loss: 0.8672, Train Acc: 0.8749, Val Loss: 0.8996, Val Acc: 0.8421, Test Loss: 0.8922, Test Acc: 0.8487\n"
     ]
    },
    {
     "name": "stderr",
     "output_type": "stream",
     "text": [
      "2024/10/22 12:58:41 WARNING mlflow.system_metrics.metrics.gpu_monitor: Encountered error Unknown Error when trying to collect GPU metrics.\n",
      "2024/10/22 12:58:51 WARNING mlflow.system_metrics.metrics.gpu_monitor: Encountered error Unknown Error when trying to collect GPU metrics.\n",
      "2024/10/22 12:59:11 WARNING mlflow.system_metrics.metrics.gpu_monitor: Encountered error Unknown Error when trying to collect GPU metrics.\n",
      "2024/10/22 12:59:21 WARNING mlflow.system_metrics.metrics.gpu_monitor: Encountered error Unknown Error when trying to collect GPU metrics.\n"
     ]
    },
    {
     "name": "stdout",
     "output_type": "stream",
     "text": [
      "Epoch [36/200], Train Loss: 0.8745, Train Acc: 0.8672, Val Loss: 0.9008, Val Acc: 0.8419, Test Loss: 0.8929, Test Acc: 0.8489\n"
     ]
    },
    {
     "name": "stderr",
     "output_type": "stream",
     "text": [
      "2024/10/22 12:59:42 WARNING mlflow.system_metrics.metrics.gpu_monitor: Encountered error Unknown Error when trying to collect GPU metrics.\n",
      "2024/10/22 12:59:52 WARNING mlflow.system_metrics.metrics.gpu_monitor: Encountered error Unknown Error when trying to collect GPU metrics.\n",
      "2024/10/22 13:00:12 WARNING mlflow.system_metrics.metrics.gpu_monitor: Encountered error Unknown Error when trying to collect GPU metrics.\n"
     ]
    },
    {
     "name": "stdout",
     "output_type": "stream",
     "text": [
      "Epoch [37/200], Train Loss: 0.8775, Train Acc: 0.8642, Val Loss: 0.9019, Val Acc: 0.8403, Test Loss: 0.8933, Test Acc: 0.8503\n"
     ]
    },
    {
     "name": "stderr",
     "output_type": "stream",
     "text": [
      "2024/10/22 13:00:22 WARNING mlflow.system_metrics.metrics.gpu_monitor: Encountered error Unknown Error when trying to collect GPU metrics.\n",
      "2024/10/22 13:00:42 WARNING mlflow.system_metrics.metrics.gpu_monitor: Encountered error Unknown Error when trying to collect GPU metrics.\n",
      "2024/10/22 13:00:53 WARNING mlflow.system_metrics.metrics.gpu_monitor: Encountered error Unknown Error when trying to collect GPU metrics.\n",
      "2024/10/22 13:01:13 WARNING mlflow.system_metrics.metrics.gpu_monitor: Encountered error Unknown Error when trying to collect GPU metrics.\n"
     ]
    },
    {
     "name": "stdout",
     "output_type": "stream",
     "text": [
      "Epoch [38/200], Train Loss: 0.8786, Train Acc: 0.8634, Val Loss: 0.9029, Val Acc: 0.8395, Test Loss: 0.8935, Test Acc: 0.8481\n"
     ]
    },
    {
     "name": "stderr",
     "output_type": "stream",
     "text": [
      "2024/10/22 13:01:23 WARNING mlflow.system_metrics.metrics.gpu_monitor: Encountered error Unknown Error when trying to collect GPU metrics.\n",
      "2024/10/22 13:01:43 WARNING mlflow.system_metrics.metrics.gpu_monitor: Encountered error Unknown Error when trying to collect GPU metrics.\n",
      "2024/10/22 13:01:53 WARNING mlflow.system_metrics.metrics.gpu_monitor: Encountered error Unknown Error when trying to collect GPU metrics.\n"
     ]
    },
    {
     "name": "stdout",
     "output_type": "stream",
     "text": [
      "Epoch [39/200], Train Loss: 0.8773, Train Acc: 0.8657, Val Loss: 0.9037, Val Acc: 0.8386, Test Loss: 0.8927, Test Acc: 0.8487\n"
     ]
    },
    {
     "name": "stderr",
     "output_type": "stream",
     "text": [
      "2024/10/22 13:02:13 WARNING mlflow.system_metrics.metrics.gpu_monitor: Encountered error Unknown Error when trying to collect GPU metrics.\n",
      "2024/10/22 13:02:24 WARNING mlflow.system_metrics.metrics.gpu_monitor: Encountered error Unknown Error when trying to collect GPU metrics.\n",
      "2024/10/22 13:02:44 WARNING mlflow.system_metrics.metrics.gpu_monitor: Encountered error Unknown Error when trying to collect GPU metrics.\n",
      "2024/10/22 13:02:54 WARNING mlflow.system_metrics.metrics.gpu_monitor: Encountered error Unknown Error when trying to collect GPU metrics.\n"
     ]
    },
    {
     "name": "stdout",
     "output_type": "stream",
     "text": [
      "Epoch [40/200], Train Loss: 0.8841, Train Acc: 0.8591, Val Loss: 0.9036, Val Acc: 0.8382, Test Loss: 0.8927, Test Acc: 0.8478\n"
     ]
    },
    {
     "name": "stderr",
     "output_type": "stream",
     "text": [
      "2024/10/22 13:03:14 WARNING mlflow.system_metrics.metrics.gpu_monitor: Encountered error Unknown Error when trying to collect GPU metrics.\n",
      "2024/10/22 13:03:24 WARNING mlflow.system_metrics.metrics.gpu_monitor: Encountered error Unknown Error when trying to collect GPU metrics.\n",
      "2024/10/22 13:03:44 WARNING mlflow.system_metrics.metrics.gpu_monitor: Encountered error Unknown Error when trying to collect GPU metrics.\n",
      "2024/10/22 13:03:54 WARNING mlflow.system_metrics.metrics.gpu_monitor: Encountered error Unknown Error when trying to collect GPU metrics.\n"
     ]
    },
    {
     "name": "stdout",
     "output_type": "stream",
     "text": [
      "Epoch [41/200], Train Loss: 0.8659, Train Acc: 0.8777, Val Loss: 0.9018, Val Acc: 0.8417, Test Loss: 0.8933, Test Acc: 0.8464\n"
     ]
    },
    {
     "name": "stderr",
     "output_type": "stream",
     "text": [
      "2024/10/22 13:04:15 WARNING mlflow.system_metrics.metrics.gpu_monitor: Encountered error Unknown Error when trying to collect GPU metrics.\n",
      "2024/10/22 13:04:25 WARNING mlflow.system_metrics.metrics.gpu_monitor: Encountered error Unknown Error when trying to collect GPU metrics.\n",
      "2024/10/22 13:04:45 WARNING mlflow.system_metrics.metrics.gpu_monitor: Encountered error Unknown Error when trying to collect GPU metrics.\n"
     ]
    },
    {
     "name": "stdout",
     "output_type": "stream",
     "text": [
      "Epoch [42/200], Train Loss: 0.8735, Train Acc: 0.8690, Val Loss: 0.9017, Val Acc: 0.8415, Test Loss: 0.8936, Test Acc: 0.8462\n"
     ]
    },
    {
     "name": "stderr",
     "output_type": "stream",
     "text": [
      "2024/10/22 13:05:06 WARNING mlflow.system_metrics.metrics.gpu_monitor: Encountered error Unknown Error when trying to collect GPU metrics.\n",
      "2024/10/22 13:05:16 WARNING mlflow.system_metrics.metrics.gpu_monitor: Encountered error Unknown Error when trying to collect GPU metrics.\n",
      "2024/10/22 13:05:36 WARNING mlflow.system_metrics.metrics.gpu_monitor: Encountered error Unknown Error when trying to collect GPU metrics.\n",
      "2024/10/22 13:05:46 WARNING mlflow.system_metrics.metrics.gpu_monitor: Encountered error Unknown Error when trying to collect GPU metrics.\n"
     ]
    },
    {
     "name": "stdout",
     "output_type": "stream",
     "text": [
      "Epoch [43/200], Train Loss: 0.8758, Train Acc: 0.8660, Val Loss: 0.9018, Val Acc: 0.8425, Test Loss: 0.8938, Test Acc: 0.8458\n"
     ]
    },
    {
     "name": "stderr",
     "output_type": "stream",
     "text": [
      "2024/10/22 13:06:06 WARNING mlflow.system_metrics.metrics.gpu_monitor: Encountered error Unknown Error when trying to collect GPU metrics.\n",
      "2024/10/22 13:06:16 WARNING mlflow.system_metrics.metrics.gpu_monitor: Encountered error Unknown Error when trying to collect GPU metrics.\n",
      "2024/10/22 13:06:37 WARNING mlflow.system_metrics.metrics.gpu_monitor: Encountered error Unknown Error when trying to collect GPU metrics.\n",
      "2024/10/22 13:06:47 WARNING mlflow.system_metrics.metrics.gpu_monitor: Encountered error Unknown Error when trying to collect GPU metrics.\n"
     ]
    },
    {
     "name": "stdout",
     "output_type": "stream",
     "text": [
      "Epoch [44/200], Train Loss: 0.8793, Train Acc: 0.8641, Val Loss: 0.9024, Val Acc: 0.8407, Test Loss: 0.8927, Test Acc: 0.8485\n"
     ]
    },
    {
     "name": "stderr",
     "output_type": "stream",
     "text": [
      "2024/10/22 13:07:07 WARNING mlflow.system_metrics.metrics.gpu_monitor: Encountered error Unknown Error when trying to collect GPU metrics.\n",
      "2024/10/22 13:07:17 WARNING mlflow.system_metrics.metrics.gpu_monitor: Encountered error Unknown Error when trying to collect GPU metrics.\n",
      "2024/10/22 13:07:37 WARNING mlflow.system_metrics.metrics.gpu_monitor: Encountered error Unknown Error when trying to collect GPU metrics.\n"
     ]
    },
    {
     "name": "stdout",
     "output_type": "stream",
     "text": [
      "Epoch [45/200], Train Loss: 0.8680, Train Acc: 0.8754, Val Loss: 0.9025, Val Acc: 0.8407, Test Loss: 0.8922, Test Acc: 0.8487\n"
     ]
    },
    {
     "name": "stderr",
     "output_type": "stream",
     "text": [
      "2024/10/22 13:07:48 WARNING mlflow.system_metrics.metrics.gpu_monitor: Encountered error Unknown Error when trying to collect GPU metrics.\n",
      "2024/10/22 13:08:08 WARNING mlflow.system_metrics.metrics.gpu_monitor: Encountered error Unknown Error when trying to collect GPU metrics.\n",
      "2024/10/22 13:08:18 WARNING mlflow.system_metrics.metrics.gpu_monitor: Encountered error Unknown Error when trying to collect GPU metrics.\n"
     ]
    },
    {
     "name": "stdout",
     "output_type": "stream",
     "text": [
      "Epoch [46/200], Train Loss: 0.8775, Train Acc: 0.8664, Val Loss: 0.9019, Val Acc: 0.8413, Test Loss: 0.8934, Test Acc: 0.8466\n"
     ]
    },
    {
     "name": "stderr",
     "output_type": "stream",
     "text": [
      "2024/10/22 13:08:38 WARNING mlflow.system_metrics.metrics.gpu_monitor: Encountered error Unknown Error when trying to collect GPU metrics.\n",
      "2024/10/22 13:08:48 WARNING mlflow.system_metrics.metrics.gpu_monitor: Encountered error Unknown Error when trying to collect GPU metrics.\n",
      "2024/10/22 13:09:08 WARNING mlflow.system_metrics.metrics.gpu_monitor: Encountered error Unknown Error when trying to collect GPU metrics.\n",
      "2024/10/22 13:09:18 WARNING mlflow.system_metrics.metrics.gpu_monitor: Encountered error Unknown Error when trying to collect GPU metrics.\n"
     ]
    },
    {
     "name": "stdout",
     "output_type": "stream",
     "text": [
      "Epoch [47/200], Train Loss: 0.8778, Train Acc: 0.8639, Val Loss: 0.9021, Val Acc: 0.8405, Test Loss: 0.8931, Test Acc: 0.8481\n"
     ]
    },
    {
     "name": "stderr",
     "output_type": "stream",
     "text": [
      "2024/10/22 13:09:39 WARNING mlflow.system_metrics.metrics.gpu_monitor: Encountered error Unknown Error when trying to collect GPU metrics.\n",
      "2024/10/22 13:09:49 WARNING mlflow.system_metrics.metrics.gpu_monitor: Encountered error Unknown Error when trying to collect GPU metrics.\n",
      "2024/10/22 13:10:09 WARNING mlflow.system_metrics.metrics.gpu_monitor: Encountered error Unknown Error when trying to collect GPU metrics.\n"
     ]
    },
    {
     "name": "stdout",
     "output_type": "stream",
     "text": [
      "Epoch [48/200], Train Loss: 0.8781, Train Acc: 0.8647, Val Loss: 0.9010, Val Acc: 0.8425, Test Loss: 0.8919, Test Acc: 0.8497\n"
     ]
    },
    {
     "name": "stderr",
     "output_type": "stream",
     "text": [
      "2024/10/22 13:10:30 WARNING mlflow.system_metrics.metrics.gpu_monitor: Encountered error Unknown Error when trying to collect GPU metrics.\n",
      "2024/10/22 13:10:40 WARNING mlflow.system_metrics.metrics.gpu_monitor: Encountered error Unknown Error when trying to collect GPU metrics.\n",
      "2024/10/22 13:11:00 WARNING mlflow.system_metrics.metrics.gpu_monitor: Encountered error Unknown Error when trying to collect GPU metrics.\n"
     ]
    },
    {
     "name": "stdout",
     "output_type": "stream",
     "text": [
      "Epoch [49/200], Train Loss: 0.8773, Train Acc: 0.8650, Val Loss: 0.9008, Val Acc: 0.8426, Test Loss: 0.8911, Test Acc: 0.8501\n"
     ]
    },
    {
     "name": "stderr",
     "output_type": "stream",
     "text": [
      "2024/10/22 13:11:10 WARNING mlflow.system_metrics.metrics.gpu_monitor: Encountered error Unknown Error when trying to collect GPU metrics.\n",
      "2024/10/22 13:11:30 WARNING mlflow.system_metrics.metrics.gpu_monitor: Encountered error Unknown Error when trying to collect GPU metrics.\n",
      "2024/10/22 13:11:41 WARNING mlflow.system_metrics.metrics.gpu_monitor: Encountered error Unknown Error when trying to collect GPU metrics.\n",
      "2024/10/22 13:12:01 WARNING mlflow.system_metrics.metrics.gpu_monitor: Encountered error Unknown Error when trying to collect GPU metrics.\n"
     ]
    },
    {
     "name": "stdout",
     "output_type": "stream",
     "text": [
      "Epoch [50/200], Train Loss: 0.8722, Train Acc: 0.8701, Val Loss: 0.9000, Val Acc: 0.8430, Test Loss: 0.8908, Test Acc: 0.8522\n"
     ]
    },
    {
     "name": "stderr",
     "output_type": "stream",
     "text": [
      "2024/10/22 13:12:11 WARNING mlflow.system_metrics.metrics.gpu_monitor: Encountered error Unknown Error when trying to collect GPU metrics.\n",
      "2024/10/22 13:12:31 WARNING mlflow.system_metrics.metrics.gpu_monitor: Encountered error Unknown Error when trying to collect GPU metrics.\n",
      "2024/10/22 13:12:41 WARNING mlflow.system_metrics.metrics.gpu_monitor: Encountered error Unknown Error when trying to collect GPU metrics.\n"
     ]
    },
    {
     "name": "stdout",
     "output_type": "stream",
     "text": [
      "Epoch [51/200], Train Loss: 0.8697, Train Acc: 0.8737, Val Loss: 0.9001, Val Acc: 0.8419, Test Loss: 0.8914, Test Acc: 0.8512\n"
     ]
    },
    {
     "name": "stderr",
     "output_type": "stream",
     "text": [
      "2024/10/22 13:13:01 WARNING mlflow.system_metrics.metrics.gpu_monitor: Encountered error Unknown Error when trying to collect GPU metrics.\n",
      "2024/10/22 13:13:12 WARNING mlflow.system_metrics.metrics.gpu_monitor: Encountered error Unknown Error when trying to collect GPU metrics.\n",
      "2024/10/22 13:13:32 WARNING mlflow.system_metrics.metrics.gpu_monitor: Encountered error Unknown Error when trying to collect GPU metrics.\n",
      "2024/10/22 13:13:42 WARNING mlflow.system_metrics.metrics.gpu_monitor: Encountered error Unknown Error when trying to collect GPU metrics.\n"
     ]
    },
    {
     "name": "stdout",
     "output_type": "stream",
     "text": [
      "Epoch [52/200], Train Loss: 0.8711, Train Acc: 0.8718, Val Loss: 0.8995, Val Acc: 0.8428, Test Loss: 0.8919, Test Acc: 0.8518\n"
     ]
    },
    {
     "name": "stderr",
     "output_type": "stream",
     "text": [
      "2024/10/22 13:14:02 WARNING mlflow.system_metrics.metrics.gpu_monitor: Encountered error Unknown Error when trying to collect GPU metrics.\n",
      "2024/10/22 13:14:12 WARNING mlflow.system_metrics.metrics.gpu_monitor: Encountered error Unknown Error when trying to collect GPU metrics.\n",
      "2024/10/22 13:14:32 WARNING mlflow.system_metrics.metrics.gpu_monitor: Encountered error Unknown Error when trying to collect GPU metrics.\n"
     ]
    },
    {
     "name": "stdout",
     "output_type": "stream",
     "text": [
      "Epoch [53/200], Train Loss: 0.8732, Train Acc: 0.8688, Val Loss: 0.9001, Val Acc: 0.8415, Test Loss: 0.8916, Test Acc: 0.8532\n"
     ]
    },
    {
     "name": "stderr",
     "output_type": "stream",
     "text": [
      "2024/10/22 13:14:42 WARNING mlflow.system_metrics.metrics.gpu_monitor: Encountered error Unknown Error when trying to collect GPU metrics.\n",
      "2024/10/22 13:15:03 WARNING mlflow.system_metrics.metrics.gpu_monitor: Encountered error Unknown Error when trying to collect GPU metrics.\n",
      "2024/10/22 13:15:13 WARNING mlflow.system_metrics.metrics.gpu_monitor: Encountered error Unknown Error when trying to collect GPU metrics.\n"
     ]
    },
    {
     "name": "stdout",
     "output_type": "stream",
     "text": [
      "Epoch [54/200], Train Loss: 0.8693, Train Acc: 0.8731, Val Loss: 0.9004, Val Acc: 0.8417, Test Loss: 0.8911, Test Acc: 0.8534\n"
     ]
    },
    {
     "name": "stderr",
     "output_type": "stream",
     "text": [
      "2024/10/22 13:15:33 WARNING mlflow.system_metrics.metrics.gpu_monitor: Encountered error Unknown Error when trying to collect GPU metrics.\n",
      "2024/10/22 13:15:43 WARNING mlflow.system_metrics.metrics.gpu_monitor: Encountered error Unknown Error when trying to collect GPU metrics.\n",
      "2024/10/22 13:16:03 WARNING mlflow.system_metrics.metrics.gpu_monitor: Encountered error Unknown Error when trying to collect GPU metrics.\n",
      "2024/10/22 13:16:13 WARNING mlflow.system_metrics.metrics.gpu_monitor: Encountered error Unknown Error when trying to collect GPU metrics.\n"
     ]
    },
    {
     "name": "stdout",
     "output_type": "stream",
     "text": [
      "Epoch [55/200], Train Loss: 0.8810, Train Acc: 0.8603, Val Loss: 0.9010, Val Acc: 0.8409, Test Loss: 0.8908, Test Acc: 0.8520\n"
     ]
    },
    {
     "name": "stderr",
     "output_type": "stream",
     "text": [
      "2024/10/22 13:16:34 WARNING mlflow.system_metrics.metrics.gpu_monitor: Encountered error Unknown Error when trying to collect GPU metrics.\n",
      "2024/10/22 13:16:44 WARNING mlflow.system_metrics.metrics.gpu_monitor: Encountered error Unknown Error when trying to collect GPU metrics.\n",
      "2024/10/22 13:17:04 WARNING mlflow.system_metrics.metrics.gpu_monitor: Encountered error Unknown Error when trying to collect GPU metrics.\n"
     ]
    },
    {
     "name": "stdout",
     "output_type": "stream",
     "text": [
      "Epoch [56/200], Train Loss: 0.8746, Train Acc: 0.8685, Val Loss: 0.9009, Val Acc: 0.8411, Test Loss: 0.8912, Test Acc: 0.8530\n"
     ]
    },
    {
     "name": "stderr",
     "output_type": "stream",
     "text": [
      "2024/10/22 13:17:14 WARNING mlflow.system_metrics.metrics.gpu_monitor: Encountered error Unknown Error when trying to collect GPU metrics.\n",
      "2024/10/22 13:17:34 WARNING mlflow.system_metrics.metrics.gpu_monitor: Encountered error Unknown Error when trying to collect GPU metrics.\n",
      "2024/10/22 13:17:44 WARNING mlflow.system_metrics.metrics.gpu_monitor: Encountered error Unknown Error when trying to collect GPU metrics.\n"
     ]
    },
    {
     "name": "stdout",
     "output_type": "stream",
     "text": [
      "Epoch [57/200], Train Loss: 0.8767, Train Acc: 0.8654, Val Loss: 0.9009, Val Acc: 0.8413, Test Loss: 0.8931, Test Acc: 0.8481\n"
     ]
    },
    {
     "name": "stderr",
     "output_type": "stream",
     "text": [
      "2024/10/22 13:18:04 WARNING mlflow.system_metrics.metrics.gpu_monitor: Encountered error Unknown Error when trying to collect GPU metrics.\n",
      "2024/10/22 13:18:25 WARNING mlflow.system_metrics.metrics.gpu_monitor: Encountered error Unknown Error when trying to collect GPU metrics.\n",
      "2024/10/22 13:18:35 WARNING mlflow.system_metrics.metrics.gpu_monitor: Encountered error Unknown Error when trying to collect GPU metrics.\n"
     ]
    },
    {
     "name": "stdout",
     "output_type": "stream",
     "text": [
      "Epoch [58/200], Train Loss: 0.8783, Train Acc: 0.8646, Val Loss: 0.9012, Val Acc: 0.8419, Test Loss: 0.8928, Test Acc: 0.8489\n"
     ]
    },
    {
     "name": "stderr",
     "output_type": "stream",
     "text": [
      "2024/10/22 13:18:56 WARNING mlflow.system_metrics.metrics.gpu_monitor: Encountered error Unknown Error when trying to collect GPU metrics.\n",
      "2024/10/22 13:19:06 WARNING mlflow.system_metrics.metrics.gpu_monitor: Encountered error Unknown Error when trying to collect GPU metrics.\n",
      "2024/10/22 13:19:26 WARNING mlflow.system_metrics.metrics.gpu_monitor: Encountered error Unknown Error when trying to collect GPU metrics.\n"
     ]
    },
    {
     "name": "stdout",
     "output_type": "stream",
     "text": [
      "Epoch [59/200], Train Loss: 0.8805, Train Acc: 0.8629, Val Loss: 0.9008, Val Acc: 0.8415, Test Loss: 0.8911, Test Acc: 0.8524\n"
     ]
    },
    {
     "name": "stderr",
     "output_type": "stream",
     "text": [
      "2024/10/22 13:19:36 WARNING mlflow.system_metrics.metrics.gpu_monitor: Encountered error Unknown Error when trying to collect GPU metrics.\n",
      "2024/10/22 13:19:56 WARNING mlflow.system_metrics.metrics.gpu_monitor: Encountered error Unknown Error when trying to collect GPU metrics.\n",
      "2024/10/22 13:20:06 WARNING mlflow.system_metrics.metrics.gpu_monitor: Encountered error Unknown Error when trying to collect GPU metrics.\n"
     ]
    },
    {
     "name": "stdout",
     "output_type": "stream",
     "text": [
      "Epoch [60/200], Train Loss: 0.8754, Train Acc: 0.8675, Val Loss: 0.9002, Val Acc: 0.8425, Test Loss: 0.8911, Test Acc: 0.8526\n"
     ]
    },
    {
     "name": "stderr",
     "output_type": "stream",
     "text": [
      "2024/10/22 13:20:26 WARNING mlflow.system_metrics.metrics.gpu_monitor: Encountered error Unknown Error when trying to collect GPU metrics.\n",
      "2024/10/22 13:20:37 WARNING mlflow.system_metrics.metrics.gpu_monitor: Encountered error Unknown Error when trying to collect GPU metrics.\n",
      "2024/10/22 13:20:57 WARNING mlflow.system_metrics.metrics.gpu_monitor: Encountered error Unknown Error when trying to collect GPU metrics.\n",
      "2024/10/22 13:21:07 WARNING mlflow.system_metrics.metrics.gpu_monitor: Encountered error Unknown Error when trying to collect GPU metrics.\n"
     ]
    },
    {
     "name": "stdout",
     "output_type": "stream",
     "text": [
      "Epoch [61/200], Train Loss: 0.8731, Train Acc: 0.8688, Val Loss: 0.9005, Val Acc: 0.8423, Test Loss: 0.8910, Test Acc: 0.8528\n"
     ]
    },
    {
     "name": "stderr",
     "output_type": "stream",
     "text": [
      "2024/10/22 13:21:27 WARNING mlflow.system_metrics.metrics.gpu_monitor: Encountered error Unknown Error when trying to collect GPU metrics.\n",
      "2024/10/22 13:21:37 WARNING mlflow.system_metrics.metrics.gpu_monitor: Encountered error Unknown Error when trying to collect GPU metrics.\n",
      "2024/10/22 13:21:57 WARNING mlflow.system_metrics.metrics.gpu_monitor: Encountered error Unknown Error when trying to collect GPU metrics.\n"
     ]
    },
    {
     "name": "stdout",
     "output_type": "stream",
     "text": [
      "Epoch [62/200], Train Loss: 0.8754, Train Acc: 0.8678, Val Loss: 0.9005, Val Acc: 0.8413, Test Loss: 0.8916, Test Acc: 0.8505\n"
     ]
    },
    {
     "name": "stderr",
     "output_type": "stream",
     "text": [
      "2024/10/22 13:22:07 WARNING mlflow.system_metrics.metrics.gpu_monitor: Encountered error Unknown Error when trying to collect GPU metrics.\n",
      "2024/10/22 13:22:28 WARNING mlflow.system_metrics.metrics.gpu_monitor: Encountered error Unknown Error when trying to collect GPU metrics.\n",
      "2024/10/22 13:22:38 WARNING mlflow.system_metrics.metrics.gpu_monitor: Encountered error Unknown Error when trying to collect GPU metrics.\n"
     ]
    },
    {
     "name": "stdout",
     "output_type": "stream",
     "text": [
      "Epoch [63/200], Train Loss: 0.8820, Train Acc: 0.8604, Val Loss: 0.9010, Val Acc: 0.8421, Test Loss: 0.8912, Test Acc: 0.8512\n"
     ]
    },
    {
     "name": "stderr",
     "output_type": "stream",
     "text": [
      "2024/10/22 13:22:58 WARNING mlflow.system_metrics.metrics.gpu_monitor: Encountered error Unknown Error when trying to collect GPU metrics.\n",
      "2024/10/22 13:23:08 WARNING mlflow.system_metrics.metrics.gpu_monitor: Encountered error Unknown Error when trying to collect GPU metrics.\n",
      "2024/10/22 13:23:28 WARNING mlflow.system_metrics.metrics.gpu_monitor: Encountered error Unknown Error when trying to collect GPU metrics.\n",
      "2024/10/22 13:23:38 WARNING mlflow.system_metrics.metrics.gpu_monitor: Encountered error Unknown Error when trying to collect GPU metrics.\n"
     ]
    },
    {
     "name": "stdout",
     "output_type": "stream",
     "text": [
      "Epoch [64/200], Train Loss: 0.8704, Train Acc: 0.8719, Val Loss: 0.9007, Val Acc: 0.8421, Test Loss: 0.8923, Test Acc: 0.8501\n"
     ]
    },
    {
     "name": "stderr",
     "output_type": "stream",
     "text": [
      "2024/10/22 13:23:59 WARNING mlflow.system_metrics.metrics.gpu_monitor: Encountered error Unknown Error when trying to collect GPU metrics.\n",
      "2024/10/22 13:24:09 WARNING mlflow.system_metrics.metrics.gpu_monitor: Encountered error Unknown Error when trying to collect GPU metrics.\n",
      "2024/10/22 13:24:29 WARNING mlflow.system_metrics.metrics.gpu_monitor: Encountered error Unknown Error when trying to collect GPU metrics.\n"
     ]
    },
    {
     "name": "stdout",
     "output_type": "stream",
     "text": [
      "Epoch [65/200], Train Loss: 0.8725, Train Acc: 0.8708, Val Loss: 0.9000, Val Acc: 0.8428, Test Loss: 0.8921, Test Acc: 0.8509\n"
     ]
    },
    {
     "name": "stderr",
     "output_type": "stream",
     "text": [
      "2024/10/22 13:24:39 WARNING mlflow.system_metrics.metrics.gpu_monitor: Encountered error Unknown Error when trying to collect GPU metrics.\n",
      "2024/10/22 13:24:59 WARNING mlflow.system_metrics.metrics.gpu_monitor: Encountered error Unknown Error when trying to collect GPU metrics.\n",
      "2024/10/22 13:25:09 WARNING mlflow.system_metrics.metrics.gpu_monitor: Encountered error Unknown Error when trying to collect GPU metrics.\n"
     ]
    },
    {
     "name": "stdout",
     "output_type": "stream",
     "text": [
      "Epoch [66/200], Train Loss: 0.8717, Train Acc: 0.8716, Val Loss: 0.9006, Val Acc: 0.8421, Test Loss: 0.8920, Test Acc: 0.8518\n"
     ]
    },
    {
     "name": "stderr",
     "output_type": "stream",
     "text": [
      "2024/10/22 13:25:30 WARNING mlflow.system_metrics.metrics.gpu_monitor: Encountered error Unknown Error when trying to collect GPU metrics.\n",
      "2024/10/22 13:25:40 WARNING mlflow.system_metrics.metrics.gpu_monitor: Encountered error Unknown Error when trying to collect GPU metrics.\n",
      "2024/10/22 13:26:00 WARNING mlflow.system_metrics.metrics.gpu_monitor: Encountered error Unknown Error when trying to collect GPU metrics.\n",
      "2024/10/22 13:26:10 WARNING mlflow.system_metrics.metrics.gpu_monitor: Encountered error Unknown Error when trying to collect GPU metrics.\n"
     ]
    },
    {
     "name": "stdout",
     "output_type": "stream",
     "text": [
      "Epoch [67/200], Train Loss: 0.8795, Train Acc: 0.8621, Val Loss: 0.9008, Val Acc: 0.8411, Test Loss: 0.8917, Test Acc: 0.8516\n"
     ]
    },
    {
     "name": "stderr",
     "output_type": "stream",
     "text": [
      "2024/10/22 13:26:30 WARNING mlflow.system_metrics.metrics.gpu_monitor: Encountered error Unknown Error when trying to collect GPU metrics.\n",
      "2024/10/22 13:26:40 WARNING mlflow.system_metrics.metrics.gpu_monitor: Encountered error Unknown Error when trying to collect GPU metrics.\n",
      "2024/10/22 13:27:01 WARNING mlflow.system_metrics.metrics.gpu_monitor: Encountered error Unknown Error when trying to collect GPU metrics.\n"
     ]
    },
    {
     "name": "stdout",
     "output_type": "stream",
     "text": [
      "Epoch [68/200], Train Loss: 0.8722, Train Acc: 0.8696, Val Loss: 0.9001, Val Acc: 0.8415, Test Loss: 0.8917, Test Acc: 0.8524\n"
     ]
    },
    {
     "name": "stderr",
     "output_type": "stream",
     "text": [
      "2024/10/22 13:27:11 WARNING mlflow.system_metrics.metrics.gpu_monitor: Encountered error Unknown Error when trying to collect GPU metrics.\n",
      "2024/10/22 13:27:31 WARNING mlflow.system_metrics.metrics.gpu_monitor: Encountered error Unknown Error when trying to collect GPU metrics.\n",
      "2024/10/22 13:27:41 WARNING mlflow.system_metrics.metrics.gpu_monitor: Encountered error Unknown Error when trying to collect GPU metrics.\n"
     ]
    },
    {
     "name": "stdout",
     "output_type": "stream",
     "text": [
      "Epoch [69/200], Train Loss: 0.8764, Train Acc: 0.8667, Val Loss: 0.9001, Val Acc: 0.8419, Test Loss: 0.8924, Test Acc: 0.8495\n"
     ]
    },
    {
     "name": "stderr",
     "output_type": "stream",
     "text": [
      "2024/10/22 13:28:01 WARNING mlflow.system_metrics.metrics.gpu_monitor: Encountered error Unknown Error when trying to collect GPU metrics.\n",
      "2024/10/22 13:28:11 WARNING mlflow.system_metrics.metrics.gpu_monitor: Encountered error Unknown Error when trying to collect GPU metrics.\n",
      "2024/10/22 13:28:32 WARNING mlflow.system_metrics.metrics.gpu_monitor: Encountered error Unknown Error when trying to collect GPU metrics.\n",
      "2024/10/22 13:28:42 WARNING mlflow.system_metrics.metrics.gpu_monitor: Encountered error Unknown Error when trying to collect GPU metrics.\n"
     ]
    },
    {
     "name": "stdout",
     "output_type": "stream",
     "text": [
      "Early stopping triggered.\n",
      "Confusion Matrix:\n",
      "[[1270  302    1   27]\n",
      " [ 206 1381    2   11]\n",
      " [   1    0 1278   12]\n",
      " [  18    8  251 1323]]\n",
      "Accuracy: 0.8622557872270563\n",
      "Recall: 0.8622557872270563\n",
      "F1 Score: 0.8617324609880271\n",
      "Precision: 0.8676030389668692\n",
      "\n",
      "Classification Report:\n",
      "              precision    recall  f1-score   support\n",
      "\n",
      "        Star       0.85      0.79      0.82      1600\n",
      " Binary Star       0.82      0.86      0.84      1600\n",
      "      Galaxy       0.83      0.99      0.91      1291\n",
      "         AGN       0.96      0.83      0.89      1600\n",
      "\n",
      "    accuracy                           0.86      6091\n",
      "   macro avg       0.87      0.87      0.86      6091\n",
      "weighted avg       0.87      0.86      0.86      6091\n",
      "\n"
     ]
    },
    {
     "name": "stderr",
     "output_type": "stream",
     "text": [
      "2024/10/22 13:28:57 INFO mlflow.system_metrics.system_metrics_monitor: Stopping system metrics monitoring...\n",
      "2024/10/22 13:28:57 INFO mlflow.system_metrics.system_metrics_monitor: Successfully terminated system metrics monitoring!\n"
     ]
    },
    {
     "data": {
      "image/png": "[encoded data removed]",
      "text/plain": [
       "<Figure size 800x600 with 1 Axes>"
      ]
     },
     "metadata": {},
     "output_type": "display_data"
    }
   ],
   "source": [
    "# Training parameters\n",
    "num_epochs = 200\n",
    "lr = 1e-4\n",
    "patience = 20\n",
    "batch_size = 512\n",
    "\n",
    "mlflow.end_run()\n",
    "# Start an MLflow run\n",
    "with mlflow.start_run(log_system_metrics=True):\n",
    "    # Log parameters\n",
    "    mlflow.log_param(\"num_epochs\", num_epochs)\n",
    "    mlflow.log_param(\"lr\", lr)\n",
    "    mlflow.log_param(\"patience\", patience)\n",
    "    mlflow.log_param(\"batch_size\", batch_size)\n",
    "    mlflow.log_param(\"num_filters\", filters)\n",
    "    mlflow.log_param(\"dense_units\", dense)\n",
    "    mlflow.log_param(\"dropout_rate\", 0.2)\n",
    "    mlflow.log_param(\"kernel_size\", 9)\n",
    "\n",
    "    # Train the model\n",
    "    trained_model = train_model(model, train_loader, val_loader, test_loader, num_epochs=num_epochs, lr=lr, patience=patience)\n",
    "\n",
    "\n",
    "    # Save the model in MLflow\n",
    "    #mlflow.pytorch.log_model(trained_model, \"model\")"
   ]
  }
 ],
 "metadata": {
  "kernelspec": {
   "display_name": "Python 3",
   "language": "python",
   "name": "python3"
  },
  "language_info": {
   "codemirror_mode": {
    "name": "ipython",
    "version": 3
   },
   "file_extension": ".py",
   "mimetype": "text/x-python",
   "name": "python",
   "nbconvert_exporter": "python",
   "pygments_lexer": "ipython3",
   "version": "3.11.9"
  }
 },
 "nbformat": 4,
 "nbformat_minor": 2
}
