{
 "cells": [
  {
   "cell_type": "code",
   "execution_count": 2,
   "metadata": {},
   "outputs": [],
   "source": [
    "import os \n",
    "import pandas as pd"
   ]
  },
  {
   "cell_type": "code",
   "execution_count": 3,
   "metadata": {},
   "outputs": [
    {
     "name": "stdout",
     "output_type": "stream",
     "text": [
      "Number of AGN spectra: 35936\n",
      "Number of STAR spectra: 86037\n",
      "Number of BIN spectra: 40676\n",
      "Number of GAL spectra: 1699\n"
     ]
    }
   ],
   "source": [
    "# Specify the directory\n",
    "directory = 'training_set/agn_spectra'\n",
    "\n",
    "# Get a list of all files in the directory\n",
    "id_train_agn = [f for f in os.listdir(directory) if os.path.isfile(os.path.join(directory, f))]\n",
    "\n",
    "# star directory\n",
    "directory = 'training_set/star_spectra'\n",
    "\n",
    "# Get a list of all files in the directory\n",
    "id_train_star = [f for f in os.listdir(directory) if os.path.isfile(os.path.join(directory, f))]\n",
    "\n",
    "# binary directory\n",
    "directory = 'training_set/bin_spectra'\n",
    "\n",
    "# Get a list of all files in the directory\n",
    "id_train_bin = [f for f in os.listdir(directory) if os.path.isfile(os.path.join(directory, f))]\n",
    "\n",
    "# galaxy directory\n",
    "directory = 'training_set/gal_spectra'\n",
    "\n",
    "# Get a list of all files in the directory\n",
    "id_train_gal = [f for f in os.listdir(directory) if os.path.isfile(os.path.join(directory, f))]\n",
    "\n",
    "# print the number of files in each category\n",
    "print('Number of AGN spectra:', len(id_train_agn))\n",
    "print('Number of STAR spectra:', len(id_train_star))\n",
    "print('Number of BIN spectra:', len(id_train_bin))\n",
    "print('Number of GAL spectra:', len(id_train_gal))\n",
    "\n",
    "\n"
   ]
  },
  {
   "cell_type": "code",
   "execution_count": 4,
   "metadata": {},
   "outputs": [
    {
     "name": "stdout",
     "output_type": "stream",
     "text": [
      "Number of AGN spectra: 400\n",
      "Number of STAR spectra: 400\n",
      "Number of BIN spectra: 400\n",
      "Number of GAL spectra: 400\n"
     ]
    }
   ],
   "source": [
    "# Specify the directory\n",
    "directory = 'validation_set/agn_spectra'\n",
    "\n",
    "# Get a list of all files in the directory\n",
    "id_val_agn = [f for f in os.listdir(directory) if os.path.isfile(os.path.join(directory, f))]\n",
    "\n",
    "# star directory\n",
    "directory = 'validation_set/star_spectra'\n",
    "\n",
    "# Get a list of all files in the directory\n",
    "id_val_star = [f for f in os.listdir(directory) if os.path.isfile(os.path.join(directory, f))]\n",
    "\n",
    "# binary directory\n",
    "directory = 'validation_set/bin_spectra'\n",
    "\n",
    "# Get a list of all files in the directory\n",
    "id_val_bin = [f for f in os.listdir(directory) if os.path.isfile(os.path.join(directory, f))]\n",
    "\n",
    "# galaxy directory\n",
    "directory = 'validation_set/gal_spectra'\n",
    "\n",
    "# Get a list of all files in the directory\n",
    "id_val_gal = [f for f in os.listdir(directory) if os.path.isfile(os.path.join(directory, f))]\n",
    "\n",
    "# print the number of files in each category\n",
    "print('Number of AGN spectra:', len(id_val_agn))\n",
    "print('Number of STAR spectra:', len(id_val_star))\n",
    "print('Number of BIN spectra:', len(id_val_bin))\n",
    "print('Number of GAL spectra:', len(id_val_gal))\n"
   ]
  },
  {
   "cell_type": "markdown",
   "metadata": {},
   "source": [
    "# Getting the ra, dec from obsid list"
   ]
  },
  {
   "cell_type": "code",
   "execution_count": 5,
   "metadata": {},
   "outputs": [],
   "source": [
    "lamost_catalog = pd.read_csv(\"dr9_v2.0_LRS_catalogue.csv\")  # Assuming CSV format for LAMOST catalog\n",
    "\n"
   ]
  },
  {
   "cell_type": "markdown",
   "metadata": {},
   "source": [
    "### Starting of with val gal"
   ]
  },
  {
   "cell_type": "code",
   "execution_count": 11,
   "metadata": {},
   "outputs": [
    {
     "name": "stdout",
     "output_type": "stream",
     "text": [
      "                  ra        dec\n",
      "1838      333.865510   0.776690\n",
      "113126    138.383021  31.957768\n",
      "237337     42.455140  -0.324820\n",
      "285166    175.558822  28.841412\n",
      "288652     20.021740  -0.404700\n",
      "...              ...        ...\n",
      "10491764  246.803116  29.998576\n",
      "10567385  117.924140  53.057106\n",
      "10595660  227.251731  31.032884\n",
      "10669548  115.395570  23.501689\n",
      "10681656  189.348344  55.694221\n",
      "\n",
      "[400 rows x 2 columns]\n"
     ]
    }
   ],
   "source": [
    "obsid_list = id_val_gal\n",
    "obsid_list = [int(obsid) for obsid in obsid_list]\n",
    "\n",
    "# Filter the DataFrame\n",
    "filtered_df = lamost_catalog[lamost_catalog['obsid'].isin(obsid_list)]\n",
    "\n",
    "# Get the 'ra' and 'dec' values\n",
    "ra_dec_values = filtered_df[['ra', 'dec']]\n",
    "print(ra_dec_values)"
   ]
  },
  {
   "cell_type": "markdown",
   "metadata": {},
   "source": [
    "## Cross matching with gaia back"
   ]
  },
  {
   "cell_type": "code",
   "execution_count": null,
   "metadata": {},
   "outputs": [],
   "source": [
    "# should i be worried with nans?"
   ]
  }
 ],
 "metadata": {
  "kernelspec": {
   "display_name": "Python 3",
   "language": "python",
   "name": "python3"
  },
  "language_info": {
   "codemirror_mode": {
    "name": "ipython",
    "version": 3
   },
   "file_extension": ".py",
   "mimetype": "text/x-python",
   "name": "python",
   "nbconvert_exporter": "python",
   "pygments_lexer": "ipython3",
   "version": "3.10.12"
  }
 },
 "nbformat": 4,
 "nbformat_minor": 2
}
