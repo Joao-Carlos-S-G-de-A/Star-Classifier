{
 "cells": [
  {
   "cell_type": "code",
   "execution_count": 13,
   "metadata": {},
   "outputs": [],
   "source": [
    "import pandas as pd\n",
    "import matplotlib.pyplot as plt\n",
    "from astroquery.gaia import Gaia\n",
    "from astroquery.simbad import Simbad\n",
    "from astropy.coordinates import SkyCoord\n",
    "import astropy.units as u\n",
    "import numpy as np\n",
    "import pyvo as vo\n"
   ]
  },
  {
   "cell_type": "markdown",
   "metadata": {},
   "source": [
    "## Checking column names for ref"
   ]
  },
  {
   "cell_type": "code",
   "execution_count": 4,
   "metadata": {},
   "outputs": [
    {
     "name": "stdout",
     "output_type": "stream",
     "text": [
      "TAP Table name: gaiadr3.gaia_source\n",
      "Description: This table has an entry for every Gaia observed source as published with this data release. It contains the basic source parameters, in their final state as processed by the Gaia Data Processing and Analysis Consortium from the raw data coming from the spacecraft. The table is complemented with others containing information specific to certain kinds of objects (e.g.~Solar--system objects, non--single stars, variables etc.) and value--added processing (e.g.~astrophysical parameters etc.). Further array data types (spectra, epoch measurements) are presented separately via Datalink resources.\n",
      "Size (bytes): 3646930329600\n",
      "Num. columns: 152\n",
      "solution_id\n",
      "designation\n",
      "source_id\n",
      "random_index\n",
      "ref_epoch\n",
      "ra\n",
      "ra_error\n",
      "dec\n",
      "dec_error\n",
      "parallax\n",
      "parallax_error\n",
      "parallax_over_error\n",
      "pm\n",
      "pmra\n",
      "pmra_error\n",
      "pmdec\n",
      "pmdec_error\n",
      "ra_dec_corr\n",
      "ra_parallax_corr\n",
      "ra_pmra_corr\n",
      "ra_pmdec_corr\n",
      "dec_parallax_corr\n",
      "dec_pmra_corr\n",
      "dec_pmdec_corr\n",
      "parallax_pmra_corr\n",
      "parallax_pmdec_corr\n",
      "pmra_pmdec_corr\n",
      "astrometric_n_obs_al\n",
      "astrometric_n_obs_ac\n",
      "astrometric_n_good_obs_al\n",
      "astrometric_n_bad_obs_al\n",
      "astrometric_gof_al\n",
      "astrometric_chi2_al\n",
      "astrometric_excess_noise\n",
      "astrometric_excess_noise_sig\n",
      "astrometric_params_solved\n",
      "astrometric_primary_flag\n",
      "nu_eff_used_in_astrometry\n",
      "pseudocolour\n",
      "pseudocolour_error\n",
      "ra_pseudocolour_corr\n",
      "dec_pseudocolour_corr\n",
      "parallax_pseudocolour_corr\n",
      "pmra_pseudocolour_corr\n",
      "pmdec_pseudocolour_corr\n",
      "astrometric_matched_transits\n",
      "visibility_periods_used\n",
      "astrometric_sigma5d_max\n",
      "matched_transits\n",
      "new_matched_transits\n",
      "matched_transits_removed\n",
      "ipd_gof_harmonic_amplitude\n",
      "ipd_gof_harmonic_phase\n",
      "ipd_frac_multi_peak\n",
      "ipd_frac_odd_win\n",
      "ruwe\n",
      "scan_direction_strength_k1\n",
      "scan_direction_strength_k2\n",
      "scan_direction_strength_k3\n",
      "scan_direction_strength_k4\n",
      "scan_direction_mean_k1\n",
      "scan_direction_mean_k2\n",
      "scan_direction_mean_k3\n",
      "scan_direction_mean_k4\n",
      "duplicated_source\n",
      "phot_g_n_obs\n",
      "phot_g_mean_flux\n",
      "phot_g_mean_flux_error\n",
      "phot_g_mean_flux_over_error\n",
      "phot_g_mean_mag\n",
      "phot_bp_n_obs\n",
      "phot_bp_mean_flux\n",
      "phot_bp_mean_flux_error\n",
      "phot_bp_mean_flux_over_error\n",
      "phot_bp_mean_mag\n",
      "phot_rp_n_obs\n",
      "phot_rp_mean_flux\n",
      "phot_rp_mean_flux_error\n",
      "phot_rp_mean_flux_over_error\n",
      "phot_rp_mean_mag\n",
      "phot_bp_rp_excess_factor\n",
      "phot_bp_n_contaminated_transits\n",
      "phot_bp_n_blended_transits\n",
      "phot_rp_n_contaminated_transits\n",
      "phot_rp_n_blended_transits\n",
      "phot_proc_mode\n",
      "bp_rp\n",
      "bp_g\n",
      "g_rp\n",
      "radial_velocity\n",
      "radial_velocity_error\n",
      "rv_method_used\n",
      "rv_nb_transits\n",
      "rv_nb_deblended_transits\n",
      "rv_visibility_periods_used\n",
      "rv_expected_sig_to_noise\n",
      "rv_renormalised_gof\n",
      "rv_chisq_pvalue\n",
      "rv_time_duration\n",
      "rv_amplitude_robust\n",
      "rv_template_teff\n",
      "rv_template_logg\n",
      "rv_template_fe_h\n",
      "rv_atm_param_origin\n",
      "vbroad\n",
      "vbroad_error\n",
      "vbroad_nb_transits\n",
      "grvs_mag\n",
      "grvs_mag_error\n",
      "grvs_mag_nb_transits\n",
      "rvs_spec_sig_to_noise\n",
      "phot_variable_flag\n",
      "l\n",
      "b\n",
      "ecl_lon\n",
      "ecl_lat\n",
      "in_qso_candidates\n",
      "in_galaxy_candidates\n",
      "non_single_star\n",
      "has_xp_continuous\n",
      "has_xp_sampled\n",
      "has_rvs\n",
      "has_epoch_photometry\n",
      "has_epoch_rv\n",
      "has_mcmc_gspphot\n",
      "has_mcmc_msc\n",
      "in_andromeda_survey\n",
      "classprob_dsc_combmod_quasar\n",
      "classprob_dsc_combmod_galaxy\n",
      "classprob_dsc_combmod_star\n",
      "teff_gspphot\n",
      "teff_gspphot_lower\n",
      "teff_gspphot_upper\n",
      "logg_gspphot\n",
      "logg_gspphot_lower\n",
      "logg_gspphot_upper\n",
      "mh_gspphot\n",
      "mh_gspphot_lower\n",
      "mh_gspphot_upper\n",
      "distance_gspphot\n",
      "distance_gspphot_lower\n",
      "distance_gspphot_upper\n",
      "azero_gspphot\n",
      "azero_gspphot_lower\n",
      "azero_gspphot_upper\n",
      "ag_gspphot\n",
      "ag_gspphot_lower\n",
      "ag_gspphot_upper\n",
      "ebpminrp_gspphot\n",
      "ebpminrp_gspphot_lower\n",
      "ebpminrp_gspphot_upper\n",
      "libname_gspphot\n"
     ]
    }
   ],
   "source": [
    "from astroquery.gaia import Gaia\n",
    "gaiadr3_table = Gaia.load_table('gaiadr3.gaia_source')\n",
    "print(gaiadr3_table)\n",
    "for column in gaiadr3_table.columns:\n",
    "  print(column.name)"
   ]
  },
  {
   "cell_type": "code",
   "execution_count": 5,
   "metadata": {},
   "outputs": [
    {
     "name": "stdout",
     "output_type": "stream",
     "text": [
      "INFO: Query finished. [astroquery.utils.tap.core]\n",
      "     source_id              ra         ...    g_rp             dist        \n",
      "                           deg         ...    mag                          \n",
      "------------------- ------------------ ... ---------- ---------------------\n",
      "6636090334814214528  280.0002534562339 ... 0.53671074 0.0026043272506261527\n",
      "6636090339112400000 279.99329161242713 ... 0.59051704 0.0033616678530916998\n",
      "6636090339113063296 280.00510823916443 ...  0.9586029 0.0038498801828703495\n",
      "6636090339112213760 279.99302733099194 ...   1.035902  0.004422603920589843\n",
      "6636090334814217600 279.99469667562437 ...  0.5758667  0.004545515007418226\n",
      "6636089583198816640  280.0061780746836 ...  0.5480366   0.00561391998241014\n",
      "6636090334814218752 280.00127379417773 ... 0.73373413  0.005845777923125324\n",
      "6636090334814213632  279.9913058372584 ... 0.88223267  0.006210490970134131\n",
      "6636090339112308864 279.98843313892786 ...  0.7227535  0.007466944025525982\n",
      "                ...                ... ...        ...                   ...\n",
      "6630839449534987520  271.9051161491704 ...  0.4634323     4.865447744241382\n",
      "6439022872907938176  280.6621452370015 ...  0.5381546     4.865448740077435\n",
      "6648496678569000448  271.1850196850591 ...  0.8943424     4.865449528487474\n",
      "6438333139814006528  283.9134507984108 ... 0.56448555    4.8654497034595385\n",
      "6650068907175871104 280.36737040721346 ... 0.63230705    4.8654508399579735\n",
      "6437535684647002368 280.10501210685334 ...  0.6525898     4.865451202013531\n",
      "6647409124125795328 270.35882335953636 ...  1.1149502      4.86545127249166\n",
      "6638522768069310976  289.4473105230768 ...   0.851326     4.865451581827797\n",
      "6649845019122253824 281.42175568248615 ...  0.5044613     4.865451591376617\n",
      "6649306262721427712 274.08276712563895 ...  0.6995926      4.86545181701661\n",
      "Length = 3000000 rows\n"
     ]
    }
   ],
   "source": [
    "Gaia.ROW_LIMIT = -1  # Ensure the default row limit.\n",
    "coord = SkyCoord(ra=280, dec=-60, unit=(u.degree, u.degree), frame='icrs')\n",
    "j = Gaia.cone_search_async(coord, radius=u.Quantity(9.0, u.deg), columns=(\"source_id\", \"ra\", \"dec\", \"phot_g_mean_flux\", \"phot_g_mean_flux_error\", \"pm\", \"parallax\", \"parallax_error\", \"phot_bp_mean_flux\", \"phot_bp_mean_flux_error\", \"phot_rp_mean_flux\", \"phot_rp_mean_flux_error\", \"teff_gspphot\", \"teff_gspphot_lower\", \"teff_gspphot_upper\", \"logg_gspphot\", \"logg_gspphot_lower\", \"logg_gspphot_upper\", \"mh_gspphot\", \"mh_gspphot_upper\", \"mh_gspphot_lower\", \"bp_rp\", \"bp_g\", \"g_rp\",    ))  \n",
    "r = j.get_results()\n",
    "r.pprint()  \n",
    "r = r.to_pandas()"
   ]
  },
  {
   "cell_type": "code",
   "execution_count": 11,
   "metadata": {},
   "outputs": [],
   "source": [
    "r = r.drop('pseudocolour', axis=1)\n",
    "r = r.drop('pseudocolour_error', axis=1)\n",
    "\n",
    "# Remove rows with any NULL values\n",
    "result = r.dropna()"
   ]
  },
  {
   "cell_type": "markdown",
   "metadata": {},
   "source": [
    "## Getting Simbad otypes for these bad boys"
   ]
  },
  {
   "cell_type": "code",
   "execution_count": 16,
   "metadata": {},
   "outputs": [],
   "source": [
    "# Initialize SIMBAD\n",
    "simbad = Simbad()\n",
    "simbad.ROW_LIMIT = -1\n",
    "simbad.add_votable_fields( \"plx_value\", \"V\", \"I\", \"J\", \"H\", \"K\",\"G\", \"pmdec\", \"pmra\", \"hpx\",\"ids\", \"otype\")\n",
    "\n",
    "# Define coordinates (random)\n",
    "coordinates = SkyCoord(0, -90, unit=(\"deg\", \"deg\"))\n",
    "coordinates2 = SkyCoord(0, 90, unit=(\"deg\", \"deg\"))\n",
    "\n",
    "# Query region 1st half\n",
    "result = simbad.query_region(coordinates, radius=\"90d0m\",\n",
    "                             criteria=\"otype = 'Ma*..' OR otype = 'MS*..' OR otype = 'Y*O..' OR otype = 'Ev*..' \")\n",
    "\n",
    "filtered_result = result[\"main_id\", \"ra\", \"dec\", \"plx_value\", \"V\", \"I\", \"J\", \"H\", \"K\",\"G\", \"pmdec\", \"pmra\", \n",
    "                         \"hpx\", \"ids\", \"otype\"]\n",
    "result_df = filtered_result.to_pandas() # Convert result to a Pandas DataFrame\n",
    "filtered_result = result_df.dropna() # Remove rows with any NULL values\n",
    "data1 = filtered_result.to_numpy() # Convert to numpy array\n",
    "\n",
    "\n",
    "# Query region 2nd half\n",
    "result2 = simbad.query_region(coordinates2, radius=\"90d0m\",\n",
    "                             criteria=\"otype = 'Ma*..' OR otype = 'MS*..' OR otype = 'Y*O..' OR otype = 'Ev*..' \")\n",
    "\n",
    "filtered_result2 = result2[\"main_id\", \"ra\", \"dec\", \"plx_value\", \"V\", \"I\", \"J\", \"H\", \"K\",\"G\", \"pmdec\", \"pmra\",\n",
    "                            \"hpx\", \"ids\", \"otype\"]\n",
    "result_df2 = filtered_result2.to_pandas() # Convert result to a Pandas DataFrame\n",
    "filtered_result2 = result_df2.dropna() # Remove rows with any NULL values\n",
    "data2 = filtered_result2.to_numpy() # Convert to numpy array\n",
    "\n",
    "# Combine the two arrays & save\n",
    "data =np.row_stack((data1, data2))\n",
    "#np.save(\"fullsky4cats\", data)"
   ]
  },
  {
   "cell_type": "markdown",
   "metadata": {},
   "source": [
    "## Combining both"
   ]
  },
  {
   "cell_type": "code",
   "execution_count": null,
   "metadata": {},
   "outputs": [],
   "source": []
  },
  {
   "cell_type": "markdown",
   "metadata": {},
   "source": [
    "## Other trashy stuff"
   ]
  },
  {
   "cell_type": "code",
   "execution_count": 34,
   "metadata": {},
   "outputs": [
    {
     "name": "stdout",
     "output_type": "stream",
     "text": [
      "{'I/324': 'The Initial Gaia Source List (IGSL) (Smart, 2013)', 'I/337': 'Gaia DR1 (Gaia Collaboration, 2016)', 'I/345': 'Gaia DR2 (Gaia Collaboration, 2018)', 'I/347': 'Distances to 1.33 billion stars in Gaia DR2 (Bailer-Jones+, 2018)', 'I/350': 'Gaia EDR3 (Gaia Collaboration, 2020)', 'I/352': 'Distances to 1.47 billion stars in Gaia EDR3 (Bailer-Jones+, 2021)', 'I/355': 'Gaia DR3 Part 1. Main source (Gaia Collaboration, 2022)', 'I/356': 'Gaia DR3 Part 2. Extra-galactic (Gaia Collaboration, 2022)', 'I/357': 'Gaia DR3 Part 3. Non-single stars (Gaia Collaboration, 2022)', 'I/358': 'Gaia DR3 Part 4. Variability (Gaia Collaboration, 2022)', 'I/359': 'Gaia DR3 Part 5. Solar System (Gaia Collaboration, 2022)', 'I/360': 'Gaia DR3 Part 6. Performance verification (Gaia Collaboration, 2022)', 'I/361': 'Gaia Focused Product Release (Gaia FPR) (Gaia Collaboration, 2023)', 'IV/36': 'Gaia-IPHAS/KIS Value-Added Catalogues (Scaringi+, 2018)', 'VI/137': 'GaiaSimu Universe Model Snapshot (Robin+, 2012)', 'VI/145': 'ASC Gaia Attitude Star Catalog (Smart, 2015)', 'J/A+A/523/A48': 'Gaia photometry (Jordi+, 2010)', 'J/A+A/674/A25': 'Gaia DR3. spurious signals (Holl+, 2023)', 'II/350': 'VLT Survey Telescope ATLAS (Shanks+, 2015)'}\n"
     ]
    },
    {
     "name": "stderr",
     "output_type": "stream",
     "text": [
      "C:\\Users\\jcwin\\AppData\\Local\\Packages\\PythonSoftwareFoundation.Python.3.11_qbz5n2kfra8p0\\LocalCache\\local-packages\\Python311\\site-packages\\astroquery\\vizier\\core.py:908: UserWarning: xry : No such keyword\n",
      "  warnings.warn(\"{val} : No such keyword\".format(val=val))\n"
     ]
    },
    {
     "ename": "AttributeError",
     "evalue": "'TableList' object has no attribute 'to_pandas'",
     "output_type": "error",
     "traceback": [
      "\u001b[1;31m---------------------------------------------------------------------------\u001b[0m",
      "\u001b[1;31mAttributeError\u001b[0m                            Traceback (most recent call last)",
      "Cell \u001b[1;32mIn[34], line 11\u001b[0m\n\u001b[0;32m      7\u001b[0m coordinates \u001b[38;5;241m=\u001b[39m SkyCoord(\u001b[38;5;241m135.9\u001b[39m, \u001b[38;5;241m-\u001b[39m\u001b[38;5;241m65.3\u001b[39m, unit\u001b[38;5;241m=\u001b[39m(\u001b[38;5;124m\"\u001b[39m\u001b[38;5;124mdeg\u001b[39m\u001b[38;5;124m\"\u001b[39m, \u001b[38;5;124m\"\u001b[39m\u001b[38;5;124mdeg\u001b[39m\u001b[38;5;124m\"\u001b[39m))\n\u001b[0;32m      9\u001b[0m result \u001b[38;5;241m=\u001b[39m Vizier(catalog\u001b[38;5;241m=\u001b[39m\u001b[38;5;124m'\u001b[39m\u001b[38;5;124mI/355/spectra\u001b[39m\u001b[38;5;124m'\u001b[39m)\u001b[38;5;241m.\u001b[39mquery_region(coordinates, radius\u001b[38;5;241m=\u001b[39m\u001b[38;5;124m\"\u001b[39m\u001b[38;5;124m1d0m\u001b[39m\u001b[38;5;124m\"\u001b[39m)\n\u001b[1;32m---> 11\u001b[0m result \u001b[38;5;241m=\u001b[39m \u001b[43mresult\u001b[49m\u001b[38;5;241;43m.\u001b[39;49m\u001b[43mto_pandas\u001b[49m()\n",
      "\u001b[1;31mAttributeError\u001b[0m: 'TableList' object has no attribute 'to_pandas'"
     ]
    }
   ],
   "source": [
    "from astroquery.vizier import Vizier\n",
    "\n",
    "v = Vizier(columns=['_RAJ2000', '_DEJ2000','B-V', 'Vmag', 'Plx'],\n",
    "           column_filters={\"Vmag\":\">10\"}, keywords=[\"optical\", \"xry\"])  \n",
    "\n",
    "gaia_catalog_list = Vizier.find_catalogs('GAIA DR3') \n",
    "print({k:v.description for k,v in gaia_catalog_list.items()})\n",
    "coordinates = SkyCoord(135.9, -65.3, unit=(\"deg\", \"deg\"))\n",
    "\n",
    "result = Vizier(catalog='I/355/spectra').query_region(coordinates, radius=\"1d0m\")\n",
    "\n",
    "#result = result.to_pandas()\n"
   ]
  },
  {
   "cell_type": "code",
   "execution_count": 11,
   "metadata": {},
   "outputs": [],
   "source": [
    "pdr = r.to_pandas()"
   ]
  }
 ],
 "metadata": {
  "kernelspec": {
   "display_name": "Python 3",
   "language": "python",
   "name": "python3"
  },
  "language_info": {
   "codemirror_mode": {
    "name": "ipython",
    "version": 3
   },
   "file_extension": ".py",
   "mimetype": "text/x-python",
   "name": "python",
   "nbconvert_exporter": "python",
   "pygments_lexer": "ipython3",
   "version": "3.11.9"
  }
 },
 "nbformat": 4,
 "nbformat_minor": 2
}
