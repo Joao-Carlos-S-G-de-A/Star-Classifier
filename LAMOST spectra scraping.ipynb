{
 "cells": [
  {
   "cell_type": "code",
   "execution_count": 1,
   "metadata": {},
   "outputs": [],
   "source": [
    "import pandas as pd\n",
    "import matplotlib.pyplot as plt\n",
    "from astroquery.gaia import Gaia\n",
    "from astroquery.simbad import Simbad\n",
    "from astropy.coordinates import SkyCoord\n",
    "import astropy.units as u\n",
    "import numpy as np\n",
    "import pyvo as vo\n",
    "import pickle\n",
    "from astroquery.vizier import Vizier\n",
    "import concurrent.futures\n",
    "import requests\n",
    "import os\n",
    "from tqdm import tqdm"
   ]
  },
  {
   "cell_type": "code",
   "execution_count": 10,
   "metadata": {},
   "outputs": [
    {
     "name": "stdout",
     "output_type": "stream",
     "text": [
      "Failed to download https://www.lamost.org/dr7/v2.0/spectrum/fits/779516010: 500 Server Error:  for url: https://www.lamost.org/dr7/v2.0/spectrum/fits/779516010\n",
      "Downloaded 161810188\n",
      "Downloaded 475404020\n",
      "Downloaded 215213\n",
      "Downloaded 252906109\n",
      "Downloaded 161802241\n",
      "Downloaded 56212124\n",
      "Downloaded 285410168\n",
      "Downloaded 188002157\n",
      "Failed to download https://www.lamost.org/dr7/v2.0/spectrum/fits/797010236: 500 Server Error:  for url: https://www.lamost.org/dr7/v2.0/spectrum/fits/797010236\n",
      "Failed to download https://www.lamost.org/dr7/v2.0/spectrum/fits/797005026: 500 Server Error:  for url: https://www.lamost.org/dr7/v2.0/spectrum/fits/797005026\n",
      "Failed to download https://www.lamost.org/dr7/v2.0/spectrum/fits/207512059: 500 Server Error:  for url: https://www.lamost.org/dr7/v2.0/spectrum/fits/207512059\n",
      "Downloaded 82411233\n",
      "Downloaded 677516079\n",
      "Failed to download https://www.lamost.org/dr7/v2.0/spectrum/fits/866301202: 500 Server Error:  for url: https://www.lamost.org/dr7/v2.0/spectrum/fits/866301202\n",
      "Downloaded 424603061\n",
      "Downloaded 207516150\n",
      "Downloaded 435115228\n",
      "Downloaded 435110140\n",
      "Downloaded 336916159\n",
      "Downloaded 435109191\n",
      "Downloaded 435115150\n",
      "Failed to download https://www.lamost.org/dr7/v2.0/spectrum/fits/781203240: 500 Server Error:  for url: https://www.lamost.org/dr7/v2.0/spectrum/fits/781203240\n",
      "Downloaded 424616151\n",
      "Failed to download https://www.lamost.org/dr7/v2.0/spectrum/fits/781201030: 500 Server Error:  for url: https://www.lamost.org/dr7/v2.0/spectrum/fits/781201030\n",
      "Downloaded 424609105\n",
      "Downloaded 435112133\n",
      "Downloaded 435112228\n",
      "Failed to download https://www.lamost.org/dr7/v2.0/spectrum/fits/781205106: 500 Server Error:  for url: https://www.lamost.org/dr7/v2.0/spectrum/fits/781205106\n",
      "Failed to download https://www.lamost.org/dr7/v2.0/spectrum/fits/797012221: 500 Server Error:  for url: https://www.lamost.org/dr7/v2.0/spectrum/fits/797012221\n",
      "Downloaded 400216127\n",
      "Failed to download https://www.lamost.org/dr7/v2.0/spectrum/fits/781201065: 500 Server Error:  for url: https://www.lamost.org/dr7/v2.0/spectrum/fits/781201065\n",
      "Failed to download https://www.lamost.org/dr7/v2.0/spectrum/fits/812006031: 500 Server Error:  for url: https://www.lamost.org/dr7/v2.0/spectrum/fits/812006031\n",
      "Downloaded 503813078\n",
      "Failed to download https://www.lamost.org/dr7/v2.0/spectrum/fits/812002171: 500 Server Error:  for url: https://www.lamost.org/dr7/v2.0/spectrum/fits/812002171\n",
      "Failed to download https://www.lamost.org/dr7/v2.0/spectrum/fits/812003197: 500 Server Error:  for url: https://www.lamost.org/dr7/v2.0/spectrum/fits/812003197\n",
      "Downloaded 232408017\n",
      "Failed to download https://www.lamost.org/dr7/v2.0/spectrum/fits/805110025: 500 Server Error:  for url: https://www.lamost.org/dr7/v2.0/spectrum/fits/805110025\n",
      "Downloaded 219705173\n",
      "Failed to download https://www.lamost.org/dr7/v2.0/spectrum/fits/812008027: 500 Server Error:  for url: https://www.lamost.org/dr7/v2.0/spectrum/fits/812008027\n",
      "Downloaded 219706167\n",
      "Failed to download https://www.lamost.org/dr7/v2.0/spectrum/fits/812002079: 500 Server Error:  for url: https://www.lamost.org/dr7/v2.0/spectrum/fits/812002079\n",
      "Failed to download https://www.lamost.org/dr7/v2.0/spectrum/fits/781213200: 500 Server Error:  for url: https://www.lamost.org/dr7/v2.0/spectrum/fits/781213200\n",
      "Downloaded 219703094\n",
      "Downloaded 632902011\n",
      "Failed to download https://www.lamost.org/dr7/v2.0/spectrum/fits/781212077: 500 Server Error:  for url: https://www.lamost.org/dr7/v2.0/spectrum/fits/781212077\n",
      "Downloaded 632903142\n",
      "Downloaded 219711237\n",
      "Downloaded 219704102\n",
      "Downloaded 219709207\n",
      "Downloaded 632905238\n",
      "Failed to download https://www.lamost.org/dr7/v2.0/spectrum/fits/781212096: 500 Server Error:  for url: https://www.lamost.org/dr7/v2.0/spectrum/fits/781212096\n",
      "Downloaded 219715151\n",
      "Downloaded 219710244\n",
      "Downloaded 723701113\n",
      "Failed to download https://www.lamost.org/dr7/v2.0/spectrum/fits/899114200: 500 Server Error:  for url: https://www.lamost.org/dr7/v2.0/spectrum/fits/899114200\n",
      "Downloaded 723704103\n",
      "Downloaded 280714159\n",
      "Downloaded 434215102\n",
      "Downloaded 531208211\n",
      "Downloaded 502107183\n",
      "Downloaded 223716112\n",
      "Failed to download https://www.lamost.org/dr7/v2.0/spectrum/fits/781502175: 500 Server Error:  for url: https://www.lamost.org/dr7/v2.0/spectrum/fits/781502175\n",
      "Failed to download https://www.lamost.org/dr7/v2.0/spectrum/fits/792113174: 500 Server Error:  for url: https://www.lamost.org/dr7/v2.0/spectrum/fits/792113174\n",
      "Failed to download https://www.lamost.org/dr7/v2.0/spectrum/fits/780416218: 500 Server Error:  for url: https://www.lamost.org/dr7/v2.0/spectrum/fits/780416218\n",
      "Failed to download https://www.lamost.org/dr7/v2.0/spectrum/fits/792112072: 500 Server Error:  for url: https://www.lamost.org/dr7/v2.0/spectrum/fits/792112072\n",
      "Downloaded 434216070\n",
      "Downloaded 200905187\n",
      "Downloaded 229715178\n",
      "Downloaded 523206122\n",
      "Failed to download https://www.lamost.org/dr7/v2.0/spectrum/fits/792110087: 500 Server Error:  for url: https://www.lamost.org/dr7/v2.0/spectrum/fits/792110087\n",
      "Downloaded 502112010\n",
      "Downloaded 632913123\n",
      "Failed to download https://www.lamost.org/dr7/v2.0/spectrum/fits/780411194: 500 Server Error:  for url: https://www.lamost.org/dr7/v2.0/spectrum/fits/780411194\n",
      "Downloaded 280706240\n",
      "Downloaded 632906214\n",
      "Downloaded 436316051\n",
      "Downloaded 210813077\n",
      "Downloaded 211614214\n",
      "Downloaded 418507168\n",
      "Downloaded 280706154\n",
      "Downloaded 210813155\n",
      "Downloaded 731208124\n",
      "Downloaded 606105021\n",
      "Failed to download https://www.lamost.org/dr7/v2.0/spectrum/fits/778713044: 500 Server Error:  for url: https://www.lamost.org/dr7/v2.0/spectrum/fits/778713044\n",
      "Downloaded 210809085\n",
      "Downloaded 731209039\n",
      "Downloaded 280712162\n",
      "Failed to download https://www.lamost.org/dr7/v2.0/spectrum/fits/901311231: 500 Server Error:  for url: https://www.lamost.org/dr7/v2.0/spectrum/fits/901311231\n",
      "Failed to download https://www.lamost.org/dr7/v2.0/spectrum/fits/901314168: 500 Server Error:  for url: https://www.lamost.org/dr7/v2.0/spectrum/fits/901314168\n",
      "Downloaded 210811028\n",
      "Downloaded 563801145\n",
      "Failed to download https://www.lamost.org/dr7/v2.0/spectrum/fits/855912139: 500 Server Error:  for url: https://www.lamost.org/dr7/v2.0/spectrum/fits/855912139\n",
      "Downloaded 200807094\n",
      "Downloaded 200907194\n",
      "Downloaded 583901225\n",
      "Downloaded 231403180\n",
      "Downloaded 187501145\n",
      "Downloaded 231415172\n",
      "Downloaded 696805106\n",
      "Downloaded 583904222\n",
      "Downloaded 200909083\n",
      "Downloaded 275513121\n",
      "Downloaded 275515233\n",
      "Downloaded 565509173\n",
      "Downloaded 437016072\n",
      "Downloaded 700510210\n",
      "Downloaded 185601044\n",
      "Downloaded 450014079\n",
      "Downloaded 450004234\n",
      "Downloaded 700509069\n",
      "Downloaded 228101022\n",
      "Downloaded 228101066\n",
      "Downloaded 450016238\n",
      "Downloaded 185602038\n",
      "Downloaded 228107185\n",
      "Downloaded 185610228\n",
      "Failed to download https://www.lamost.org/dr7/v2.0/spectrum/fits/892811117: 500 Server Error:  for url: https://www.lamost.org/dr7/v2.0/spectrum/fits/892811117\n",
      "Failed to download https://www.lamost.org/dr7/v2.0/spectrum/fits/892811165: 500 Server Error:  for url: https://www.lamost.org/dr7/v2.0/spectrum/fits/892811165\n"
     ]
    }
   ],
   "source": [
    "import concurrent.futures\n",
    "import requests\n",
    "\n",
    "obsid_list = gal_lamost_data['obsid'].values\n",
    "\n",
    "# Define the list of URLs to download\n",
    "urls = [f\"https://www.lamost.org/dr7/v2.0/spectrum/fits/{obsid}\" for obsid in obsid_list]\n",
    "\n",
    "def download_file(url):\n",
    "    try:\n",
    "        response = requests.get(url)\n",
    "        response.raise_for_status()  # Check for HTTP errors\n",
    "        file_name = url.split('/')[-1]\n",
    "        with open(file_name, 'wb') as f:\n",
    "            f.write(response.content)\n",
    "        print(f\"Downloaded {file_name}\")\n",
    "    except requests.HTTPError as e:\n",
    "        print(f\"Failed to download {url}: {e}\")\n",
    "\n",
    "# Use ThreadPoolExecutor to download files in parallel\n",
    "with concurrent.futures.ThreadPoolExecutor(max_workers=10) as executor:\n",
    "    executor.map(download_file, urls)"
   ]
  },
  {
   "cell_type": "code",
   "execution_count": 5,
   "metadata": {},
   "outputs": [
    {
     "name": "stdout",
     "output_type": "stream",
     "text": [
      "Number of matches: 2533\n",
      "out of  33531\n"
     ]
    }
   ],
   "source": [
    "# Load your GAL data and LAMOST catalog (assuming you have a local CSV or FITS file for LAMOST)\n",
    "gal_data = pd.read_pickle(\"gal_data.pkl\")  # Loaded GAL data\n",
    "lamost_catalog = pd.read_csv(\"dr9_v2.0_LRS_catalogue.csv\")  # Assuming CSV format for LAMOST catalog\n",
    "\n",
    "# Ensure that RA and Dec columns are numeric and have units\n",
    "gal_data['ra'] = pd.to_numeric(gal_data['ra'], errors='coerce')  # Coerce non-numeric to NaN\n",
    "gal_data['dec'] = pd.to_numeric(gal_data['dec'], errors='coerce')\n",
    "lamost_catalog['ra'] = pd.to_numeric(lamost_catalog['ra'], errors='coerce')\n",
    "lamost_catalog['dec'] = pd.to_numeric(lamost_catalog['dec'], errors='coerce')\n",
    "\n",
    "# Drop rows with NaN values in RA or Dec\n",
    "gal_data = gal_data.dropna(subset=['ra', 'dec'])\n",
    "lamost_catalog = lamost_catalog.dropna(subset=['ra', 'dec'])\n",
    "\n",
    "# Convert GAL and LAMOST data to SkyCoord objects for crossmatching\n",
    "gal_coords = SkyCoord(ra=gal_data['ra'].values*u.deg, dec=gal_data['dec'].values*u.deg)\n",
    "lamost_coords = SkyCoord(ra=lamost_catalog['ra'].values*u.deg, dec=lamost_catalog['dec'].values*u.deg)\n",
    "\n",
    "# Perform the crossmatch using astropy's match_to_catalog_sky function\n",
    "idx, d2d, _ = gal_coords.match_to_catalog_sky(lamost_coords)\n",
    "\n",
    "# Define a matching radius\n",
    "match_radius = 1 * u.arcsec\n",
    "matches = d2d < match_radius\n",
    "\n",
    "# Filter the matches\n",
    "matched_gal = gal_data.iloc[matches]\n",
    "matched_lamost = lamost_catalog.iloc[idx[matches]]\n",
    "\n",
    "# Combine matched data\n",
    "gal_lamost_data = pd.concat([matched_gal.reset_index(drop=True), matched_lamost.reset_index(drop=True)], axis=1)\n",
    "\n",
    "# Save the crossmatched data\n",
    "gal_lamost_data.to_pickle(\"gal_lamost_data.pkl\")\n",
    "\n",
    "print(f\"Number of matches: {gal_lamost_data.shape[0]}\")\n",
    "print(\"out of \", gal_data.shape[0])"
   ]
  },
  {
   "cell_type": "code",
   "execution_count": 6,
   "metadata": {},
   "outputs": [
    {
     "name": "stderr",
     "output_type": "stream",
     "text": [
      "Downloading:   0%|          | 1/2533 [00:01<51:06,  1.21s/file]"
     ]
    },
    {
     "name": "stdout",
     "output_type": "stream",
     "text": [
      "Failed to download https://www.lamost.org/dr7/v2.0/spectrum/fits/779516010: 500 Server Error:  for url: https://www.lamost.org/dr7/v2.0/spectrum/fits/779516010\n"
     ]
    },
    {
     "name": "stderr",
     "output_type": "stream",
     "text": [
      "Downloading:   0%|          | 2/2533 [00:01<37:05,  1.14file/s]"
     ]
    },
    {
     "name": "stdout",
     "output_type": "stream",
     "text": [
      "Failed to download https://www.lamost.org/dr7/v2.0/spectrum/fits/866301202: 500 Server Error:  for url: https://www.lamost.org/dr7/v2.0/spectrum/fits/866301202\n"
     ]
    },
    {
     "name": "stderr",
     "output_type": "stream",
     "text": [
      "Downloading:   0%|          | 3/2533 [00:02<24:29,  1.72file/s]"
     ]
    },
    {
     "name": "stdout",
     "output_type": "stream",
     "text": [
      "Downloaded gal_spectra\\161810188\n"
     ]
    },
    {
     "name": "stderr",
     "output_type": "stream",
     "text": [
      "Downloading:   0%|          | 4/2533 [00:02<19:07,  2.20file/s]"
     ]
    },
    {
     "name": "stdout",
     "output_type": "stream",
     "text": [
      "Downloaded gal_spectra\\475404020\n"
     ]
    },
    {
     "name": "stderr",
     "output_type": "stream",
     "text": [
      "Downloading:   0%|          | 5/2533 [00:02<18:18,  2.30file/s]"
     ]
    },
    {
     "name": "stdout",
     "output_type": "stream",
     "text": [
      "Downloaded gal_spectra\\56212124\n",
      "Downloaded gal_spectra\\215213\n"
     ]
    },
    {
     "name": "stderr",
     "output_type": "stream",
     "text": [
      "Downloading:   0%|          | 8/2533 [00:03<13:07,  3.21file/s]"
     ]
    },
    {
     "name": "stdout",
     "output_type": "stream",
     "text": [
      "Downloaded gal_spectra\\252906109\n",
      "Failed to download https://www.lamost.org/dr7/v2.0/spectrum/fits/797010236: 500 Server Error:  for url: https://www.lamost.org/dr7/v2.0/spectrum/fits/797010236\n",
      "Downloaded gal_spectra\\285410168\n"
     ]
    },
    {
     "name": "stderr",
     "output_type": "stream",
     "text": [
      "Downloading:   0%|          | 10/2533 [00:03<11:12,  3.75file/s]"
     ]
    },
    {
     "name": "stdout",
     "output_type": "stream",
     "text": [
      "Downloaded gal_spectra\\677516079\n"
     ]
    },
    {
     "name": "stderr",
     "output_type": "stream",
     "text": [
      "Downloading:   0%|          | 11/2533 [00:04<11:58,  3.51file/s]"
     ]
    },
    {
     "name": "stdout",
     "output_type": "stream",
     "text": [
      "Downloaded gal_spectra\\161802241\n"
     ]
    },
    {
     "name": "stderr",
     "output_type": "stream",
     "text": [
      "Downloading:   0%|          | 12/2533 [00:04<13:14,  3.17file/s]"
     ]
    },
    {
     "name": "stdout",
     "output_type": "stream",
     "text": [
      "Failed to download https://www.lamost.org/dr7/v2.0/spectrum/fits/207512059: 500 Server Error:  for url: https://www.lamost.org/dr7/v2.0/spectrum/fits/207512059\n",
      "Downloaded gal_spectra\\188002157\n"
     ]
    },
    {
     "name": "stderr",
     "output_type": "stream",
     "text": [
      "Downloading:   1%|          | 15/2533 [00:05<10:51,  3.86file/s]"
     ]
    },
    {
     "name": "stdout",
     "output_type": "stream",
     "text": [
      "Failed to download https://www.lamost.org/dr7/v2.0/spectrum/fits/797005026: 500 Server Error:  for url: https://www.lamost.org/dr7/v2.0/spectrum/fits/797005026\n",
      "Downloaded gal_spectra\\336916159\n",
      "Downloaded gal_spectra\\207516150\n"
     ]
    },
    {
     "name": "stderr",
     "output_type": "stream",
     "text": [
      "Downloading:   1%|          | 17/2533 [00:05<08:48,  4.76file/s]"
     ]
    },
    {
     "name": "stdout",
     "output_type": "stream",
     "text": [
      "Downloaded gal_spectra\\82411233\n"
     ]
    },
    {
     "name": "stderr",
     "output_type": "stream",
     "text": [
      "Downloading:   1%|          | 18/2533 [00:05<10:08,  4.13file/s]"
     ]
    },
    {
     "name": "stdout",
     "output_type": "stream",
     "text": [
      "Downloaded gal_spectra\\435115228\n"
     ]
    },
    {
     "name": "stderr",
     "output_type": "stream",
     "text": [
      "Downloading:   1%|          | 19/2533 [00:06<13:02,  3.21file/s]"
     ]
    },
    {
     "name": "stdout",
     "output_type": "stream",
     "text": [
      "Failed to download https://www.lamost.org/dr7/v2.0/spectrum/fits/781201030: 500 Server Error:  for url: https://www.lamost.org/dr7/v2.0/spectrum/fits/781201030\n"
     ]
    },
    {
     "name": "stderr",
     "output_type": "stream",
     "text": [
      "Downloading:   1%|          | 20/2533 [00:06<12:44,  3.29file/s]"
     ]
    },
    {
     "name": "stdout",
     "output_type": "stream",
     "text": [
      "Downloaded gal_spectra\\424609105\n"
     ]
    },
    {
     "name": "stderr",
     "output_type": "stream",
     "text": [
      "Downloading:   1%|          | 21/2533 [00:07<13:27,  3.11file/s]"
     ]
    },
    {
     "name": "stdout",
     "output_type": "stream",
     "text": [
      "Failed to download https://www.lamost.org/dr7/v2.0/spectrum/fits/781201065: 500 Server Error:  for url: https://www.lamost.org/dr7/v2.0/spectrum/fits/781201065\n",
      "Downloaded gal_spectra\\435110140\n"
     ]
    },
    {
     "name": "stderr",
     "output_type": "stream",
     "text": [
      "Downloading:   1%|          | 26/2533 [00:07<07:30,  5.57file/s]"
     ]
    },
    {
     "name": "stdout",
     "output_type": "stream",
     "text": [
      "Downloaded gal_spectra\\435112228\n",
      "Failed to download https://www.lamost.org/dr7/v2.0/spectrum/fits/781205106: 500 Server Error:  for url: https://www.lamost.org/dr7/v2.0/spectrum/fits/781205106\n",
      "Downloaded gal_spectra\\424603061\n"
     ]
    },
    {
     "name": "stderr",
     "output_type": "stream",
     "text": [
      "Downloading:   1%|          | 27/2533 [00:07<06:59,  5.97file/s]"
     ]
    },
    {
     "name": "stdout",
     "output_type": "stream",
     "text": [
      "Downloaded gal_spectra\\424616151\n",
      "Downloaded gal_spectra\\435115150\n"
     ]
    },
    {
     "name": "stderr",
     "output_type": "stream",
     "text": [
      "Downloading:   1%|          | 29/2533 [00:08<06:47,  6.14file/s]"
     ]
    },
    {
     "name": "stdout",
     "output_type": "stream",
     "text": [
      "Downloaded gal_spectra\\435112133\n",
      "Downloaded gal_spectra\\435109191\n"
     ]
    },
    {
     "name": "stderr",
     "output_type": "stream",
     "text": [
      "Downloading:   1%|          | 30/2533 [00:08<10:40,  3.91file/s]"
     ]
    },
    {
     "name": "stdout",
     "output_type": "stream",
     "text": [
      "Failed to download https://www.lamost.org/dr7/v2.0/spectrum/fits/797012221: 500 Server Error:  for url: https://www.lamost.org/dr7/v2.0/spectrum/fits/797012221\n"
     ]
    },
    {
     "name": "stderr",
     "output_type": "stream",
     "text": [
      "Downloading:   1%|          | 31/2533 [00:09<12:15,  3.40file/s]"
     ]
    },
    {
     "name": "stdout",
     "output_type": "stream",
     "text": [
      "Downloaded gal_spectra\\400216127\n"
     ]
    },
    {
     "name": "stderr",
     "output_type": "stream",
     "text": [
      "Downloading:   1%|▏         | 32/2533 [00:09<11:23,  3.66file/s]"
     ]
    },
    {
     "name": "stdout",
     "output_type": "stream",
     "text": [
      "Failed to download https://www.lamost.org/dr7/v2.0/spectrum/fits/812006031: 500 Server Error:  for url: https://www.lamost.org/dr7/v2.0/spectrum/fits/812006031\n"
     ]
    },
    {
     "name": "stderr",
     "output_type": "stream",
     "text": [
      "Downloading:   1%|▏         | 33/2533 [00:09<14:28,  2.88file/s]"
     ]
    },
    {
     "name": "stdout",
     "output_type": "stream",
     "text": [
      "Failed to download https://www.lamost.org/dr7/v2.0/spectrum/fits/812008027: 500 Server Error:  for url: https://www.lamost.org/dr7/v2.0/spectrum/fits/812008027\n"
     ]
    },
    {
     "name": "stderr",
     "output_type": "stream",
     "text": [
      "Downloading:   1%|▏         | 34/2533 [00:10<20:30,  2.03file/s]"
     ]
    },
    {
     "name": "stdout",
     "output_type": "stream",
     "text": [
      "Downloaded gal_spectra\\503813078\n"
     ]
    },
    {
     "name": "stderr",
     "output_type": "stream",
     "text": [
      "Downloading:   1%|▏         | 37/2533 [00:11<12:06,  3.44file/s]"
     ]
    },
    {
     "name": "stdout",
     "output_type": "stream",
     "text": [
      "Downloaded gal_spectra\\232408017\n",
      "Failed to download https://www.lamost.org/dr7/v2.0/spectrum/fits/812003197: 500 Server Error:  for url: https://www.lamost.org/dr7/v2.0/spectrum/fits/812003197\n"
     ]
    },
    {
     "name": "stderr",
     "output_type": "stream",
     "text": [
      "Downloading:   2%|▏         | 39/2533 [00:11<08:59,  4.62file/s]"
     ]
    },
    {
     "name": "stdout",
     "output_type": "stream",
     "text": [
      "Downloaded gal_spectra\\219704102\n",
      "Downloaded gal_spectra\\219705173\n",
      "Downloaded gal_spectra\\219706167\n",
      "Failed to download https://www.lamost.org/dr7/v2.0/spectrum/fits/812002079: 500 Server Error:  for url: https://www.lamost.org/dr7/v2.0/spectrum/fits/812002079\n"
     ]
    },
    {
     "name": "stderr",
     "output_type": "stream",
     "text": [
      "Downloading:   2%|▏         | 42/2533 [00:12<09:31,  4.36file/s]"
     ]
    },
    {
     "name": "stdout",
     "output_type": "stream",
     "text": [
      "Failed to download https://www.lamost.org/dr7/v2.0/spectrum/fits/805110025: 500 Server Error:  for url: https://www.lamost.org/dr7/v2.0/spectrum/fits/805110025\n",
      "Failed to download https://www.lamost.org/dr7/v2.0/spectrum/fits/781203240: 500 Server Error:  for url: https://www.lamost.org/dr7/v2.0/spectrum/fits/781203240\n"
     ]
    },
    {
     "name": "stderr",
     "output_type": "stream",
     "text": [
      "Downloading:   2%|▏         | 43/2533 [00:12<12:12,  3.40file/s]"
     ]
    },
    {
     "name": "stdout",
     "output_type": "stream",
     "text": [
      "Downloaded gal_spectra\\219710244\n"
     ]
    },
    {
     "name": "stderr",
     "output_type": "stream",
     "text": [
      "Downloading:   2%|▏         | 44/2533 [00:13<12:31,  3.31file/s]"
     ]
    },
    {
     "name": "stdout",
     "output_type": "stream",
     "text": [
      "Failed to download https://www.lamost.org/dr7/v2.0/spectrum/fits/781213200: 500 Server Error:  for url: https://www.lamost.org/dr7/v2.0/spectrum/fits/781213200\n",
      "Downloaded gal_spectra\\219709207\n"
     ]
    },
    {
     "name": "stderr",
     "output_type": "stream",
     "text": [
      "Downloading:   2%|▏         | 47/2533 [00:13<10:19,  4.01file/s]"
     ]
    },
    {
     "name": "stdout",
     "output_type": "stream",
     "text": [
      "Failed to download https://www.lamost.org/dr7/v2.0/spectrum/fits/812002171: 500 Server Error:  for url: https://www.lamost.org/dr7/v2.0/spectrum/fits/812002171\n",
      "Downloaded gal_spectra\\219703094\n"
     ]
    },
    {
     "name": "stderr",
     "output_type": "stream",
     "text": [
      "Downloading:   2%|▏         | 49/2533 [00:14<08:18,  4.98file/s]"
     ]
    },
    {
     "name": "stdout",
     "output_type": "stream",
     "text": [
      "Failed to download https://www.lamost.org/dr7/v2.0/spectrum/fits/781212077: 500 Server Error:  for url: https://www.lamost.org/dr7/v2.0/spectrum/fits/781212077\n",
      "Downloaded gal_spectra\\219715151\n"
     ]
    },
    {
     "name": "stderr",
     "output_type": "stream",
     "text": [
      "Downloading:   2%|▏         | 50/2533 [00:14<08:32,  4.85file/s]"
     ]
    },
    {
     "name": "stdout",
     "output_type": "stream",
     "text": [
      "Downloaded gal_spectra\\632905238\n",
      "Downloaded gal_spectra\\632903142\n"
     ]
    },
    {
     "name": "stderr",
     "output_type": "stream",
     "text": [
      "Downloading:   2%|▏         | 52/2533 [00:14<08:59,  4.60file/s]"
     ]
    },
    {
     "name": "stdout",
     "output_type": "stream",
     "text": [
      "Downloaded gal_spectra\\219711237\n"
     ]
    },
    {
     "name": "stderr",
     "output_type": "stream",
     "text": [
      "Downloading:   2%|▏         | 53/2533 [00:15<09:16,  4.46file/s]"
     ]
    },
    {
     "name": "stdout",
     "output_type": "stream",
     "text": [
      "Failed to download https://www.lamost.org/dr7/v2.0/spectrum/fits/781212096: 500 Server Error:  for url: https://www.lamost.org/dr7/v2.0/spectrum/fits/781212096\n"
     ]
    },
    {
     "name": "stderr",
     "output_type": "stream",
     "text": [
      "Downloading:   2%|▏         | 54/2533 [00:15<09:52,  4.18file/s]"
     ]
    },
    {
     "name": "stdout",
     "output_type": "stream",
     "text": [
      "Downloaded gal_spectra\\632902011\n"
     ]
    },
    {
     "name": "stderr",
     "output_type": "stream",
     "text": [
      "Downloading:   2%|▏         | 58/2533 [00:16<07:47,  5.29file/s]"
     ]
    },
    {
     "name": "stdout",
     "output_type": "stream",
     "text": [
      "Failed to download https://www.lamost.org/dr7/v2.0/spectrum/fits/899114200: 500 Server Error:  for url: https://www.lamost.org/dr7/v2.0/spectrum/fits/899114200\n",
      "Downloaded gal_spectra\\531208211\n",
      "Downloaded gal_spectra\\723704103\n",
      "Downloaded gal_spectra\\723701113\n"
     ]
    },
    {
     "name": "stderr",
     "output_type": "stream",
     "text": [
      "Downloading:   2%|▏         | 60/2533 [00:16<06:48,  6.05file/s]"
     ]
    },
    {
     "name": "stdout",
     "output_type": "stream",
     "text": [
      "Failed to download https://www.lamost.org/dr7/v2.0/spectrum/fits/792110087: 500 Server Error:  for url: https://www.lamost.org/dr7/v2.0/spectrum/fits/792110087\n",
      "Downloaded gal_spectra\\434215102\n"
     ]
    },
    {
     "name": "stderr",
     "output_type": "stream",
     "text": [
      "Downloading:   2%|▏         | 61/2533 [00:16<08:45,  4.70file/s]"
     ]
    },
    {
     "name": "stdout",
     "output_type": "stream",
     "text": [
      "Downloaded gal_spectra\\280714159\n"
     ]
    },
    {
     "name": "stderr",
     "output_type": "stream",
     "text": [
      "Downloading:   3%|▎         | 64/2533 [00:17<07:04,  5.82file/s]"
     ]
    },
    {
     "name": "stdout",
     "output_type": "stream",
     "text": [
      "Downloaded gal_spectra\\502107183\n",
      "Failed to download https://www.lamost.org/dr7/v2.0/spectrum/fits/792113174: 500 Server Error:  for url: https://www.lamost.org/dr7/v2.0/spectrum/fits/792113174\n",
      "Failed to download https://www.lamost.org/dr7/v2.0/spectrum/fits/781502175: 500 Server Error:  for url: https://www.lamost.org/dr7/v2.0/spectrum/fits/781502175\n",
      "Downloaded gal_spectra\\223716112\n"
     ]
    },
    {
     "name": "stderr",
     "output_type": "stream",
     "text": [
      "Downloading:   3%|▎         | 67/2533 [00:18<09:46,  4.20file/s]"
     ]
    },
    {
     "name": "stdout",
     "output_type": "stream",
     "text": [
      "Failed to download https://www.lamost.org/dr7/v2.0/spectrum/fits/780411194: 500 Server Error:  for url: https://www.lamost.org/dr7/v2.0/spectrum/fits/780411194\n",
      "Failed to download https://www.lamost.org/dr7/v2.0/spectrum/fits/780416218: 500 Server Error:  for url: https://www.lamost.org/dr7/v2.0/spectrum/fits/780416218\n",
      "Failed to download https://www.lamost.org/dr7/v2.0/spectrum/fits/792112072: 500 Server Error:  for url: https://www.lamost.org/dr7/v2.0/spectrum/fits/792112072\n"
     ]
    },
    {
     "name": "stderr",
     "output_type": "stream",
     "text": [
      "Downloading:   3%|▎         | 69/2533 [00:18<07:38,  5.37file/s]"
     ]
    },
    {
     "name": "stdout",
     "output_type": "stream",
     "text": [
      "Downloaded gal_spectra\\200905187\n",
      "Downloaded gal_spectra\\434216070\n",
      "Downloaded gal_spectra\\229715178\n"
     ]
    },
    {
     "name": "stderr",
     "output_type": "stream",
     "text": [
      "Downloading:   3%|▎         | 72/2533 [00:19<09:27,  4.34file/s]"
     ]
    },
    {
     "name": "stdout",
     "output_type": "stream",
     "text": [
      "Downloaded gal_spectra\\632913123\n"
     ]
    },
    {
     "name": "stderr",
     "output_type": "stream",
     "text": [
      "Downloading:   3%|▎         | 73/2533 [00:19<09:24,  4.36file/s]"
     ]
    },
    {
     "name": "stdout",
     "output_type": "stream",
     "text": [
      "Downloaded gal_spectra\\502112010\n"
     ]
    },
    {
     "name": "stderr",
     "output_type": "stream",
     "text": [
      "Downloading:   3%|▎         | 74/2533 [00:19<10:17,  3.98file/s]"
     ]
    },
    {
     "name": "stdout",
     "output_type": "stream",
     "text": [
      "Downloaded gal_spectra\\211614214\n",
      "Downloaded gal_spectra\\632906214\n"
     ]
    },
    {
     "name": "stderr",
     "output_type": "stream",
     "text": [
      "Downloading:   3%|▎         | 77/2533 [00:20<08:51,  4.62file/s]"
     ]
    },
    {
     "name": "stdout",
     "output_type": "stream",
     "text": [
      "Downloaded gal_spectra\\280706154\n",
      "Downloaded gal_spectra\\523206122\n",
      "Downloaded gal_spectra\\436316051\n"
     ]
    },
    {
     "name": "stderr",
     "output_type": "stream",
     "text": [
      "Downloading:   3%|▎         | 79/2533 [00:20<06:56,  5.90file/s]"
     ]
    },
    {
     "name": "stdout",
     "output_type": "stream",
     "text": [
      "Downloaded gal_spectra\\731208124\n"
     ]
    },
    {
     "name": "stderr",
     "output_type": "stream",
     "text": [
      "Downloading:   3%|▎         | 81/2533 [00:20<07:43,  5.29file/s]"
     ]
    },
    {
     "name": "stdout",
     "output_type": "stream",
     "text": [
      "Downloaded gal_spectra\\280706240\n",
      "Downloaded gal_spectra\\418507168\n"
     ]
    },
    {
     "name": "stderr",
     "output_type": "stream",
     "text": [
      "Downloading:   3%|▎         | 82/2533 [00:21<08:08,  5.02file/s]"
     ]
    },
    {
     "name": "stdout",
     "output_type": "stream",
     "text": [
      "Downloaded gal_spectra\\210813077\n"
     ]
    },
    {
     "name": "stderr",
     "output_type": "stream",
     "text": [
      "Downloading:   3%|▎         | 83/2533 [00:22<15:18,  2.67file/s]"
     ]
    },
    {
     "name": "stdout",
     "output_type": "stream",
     "text": [
      "Downloaded gal_spectra\\210813155\n",
      "Downloaded gal_spectra\\731209039\n"
     ]
    },
    {
     "name": "stderr",
     "output_type": "stream",
     "text": [
      "Downloading:   3%|▎         | 85/2533 [00:22<11:33,  3.53file/s]"
     ]
    },
    {
     "name": "stdout",
     "output_type": "stream",
     "text": [
      "Downloaded gal_spectra\\437016072\n",
      "Downloaded gal_spectra\\210809085\n"
     ]
    },
    {
     "name": "stderr",
     "output_type": "stream",
     "text": [
      "Downloading:   3%|▎         | 87/2533 [00:22<09:05,  4.48file/s]"
     ]
    },
    {
     "name": "stdout",
     "output_type": "stream",
     "text": [
      "Failed to download https://www.lamost.org/dr7/v2.0/spectrum/fits/778713044: 500 Server Error:  for url: https://www.lamost.org/dr7/v2.0/spectrum/fits/778713044\n"
     ]
    },
    {
     "name": "stderr",
     "output_type": "stream",
     "text": [
      "Downloading:   3%|▎         | 88/2533 [00:23<11:31,  3.53file/s]"
     ]
    },
    {
     "name": "stdout",
     "output_type": "stream",
     "text": [
      "Downloaded gal_spectra\\606105021\n"
     ]
    },
    {
     "name": "stderr",
     "output_type": "stream",
     "text": [
      "Downloading:   4%|▎         | 90/2533 [00:24<13:58,  2.91file/s]"
     ]
    },
    {
     "name": "stdout",
     "output_type": "stream",
     "text": [
      "Downloaded gal_spectra\\563801145\n",
      "Failed to download https://www.lamost.org/dr7/v2.0/spectrum/fits/901314168: 500 Server Error:  for url: https://www.lamost.org/dr7/v2.0/spectrum/fits/901314168\n"
     ]
    },
    {
     "name": "stderr",
     "output_type": "stream",
     "text": [
      "Downloading:   4%|▎         | 92/2533 [00:24<10:07,  4.02file/s]"
     ]
    },
    {
     "name": "stdout",
     "output_type": "stream",
     "text": [
      "Failed to download https://www.lamost.org/dr7/v2.0/spectrum/fits/855912139: 500 Server Error:  for url: https://www.lamost.org/dr7/v2.0/spectrum/fits/855912139\n",
      "Downloaded gal_spectra\\200807094\n"
     ]
    },
    {
     "name": "stderr",
     "output_type": "stream",
     "text": [
      "Downloading:   4%|▎         | 94/2533 [00:24<07:37,  5.34file/s]"
     ]
    },
    {
     "name": "stdout",
     "output_type": "stream",
     "text": [
      "Downloaded gal_spectra\\200907194\n",
      "Downloaded gal_spectra\\231415172\n"
     ]
    },
    {
     "name": "stderr",
     "output_type": "stream",
     "text": [
      "Downloading:   4%|▍         | 95/2533 [00:24<06:53,  5.90file/s]"
     ]
    },
    {
     "name": "stdout",
     "output_type": "stream",
     "text": [
      "Downloaded gal_spectra\\231403180\n"
     ]
    },
    {
     "name": "stderr",
     "output_type": "stream",
     "text": [
      "Downloading:   4%|▍         | 96/2533 [00:24<07:28,  5.44file/s]"
     ]
    },
    {
     "name": "stdout",
     "output_type": "stream",
     "text": [
      "Failed to download https://www.lamost.org/dr7/v2.0/spectrum/fits/901311231: 500 Server Error:  for url: https://www.lamost.org/dr7/v2.0/spectrum/fits/901311231\n"
     ]
    },
    {
     "name": "stderr",
     "output_type": "stream",
     "text": [
      "Downloading:   4%|▍         | 97/2533 [00:25<15:54,  2.55file/s]"
     ]
    },
    {
     "name": "stdout",
     "output_type": "stream",
     "text": [
      "Downloaded gal_spectra\\280712162\n"
     ]
    },
    {
     "name": "stderr",
     "output_type": "stream",
     "text": [
      "Downloading:   4%|▍         | 98/2533 [00:26<14:02,  2.89file/s]"
     ]
    },
    {
     "name": "stdout",
     "output_type": "stream",
     "text": [
      "Downloaded gal_spectra\\200909083\n"
     ]
    },
    {
     "name": "stderr",
     "output_type": "stream",
     "text": [
      "Downloading:   4%|▍         | 99/2533 [00:26<13:28,  3.01file/s]"
     ]
    },
    {
     "name": "stdout",
     "output_type": "stream",
     "text": [
      "Downloaded gal_spectra\\187501145\n",
      "Downloaded gal_spectra\\583904222\n"
     ]
    },
    {
     "name": "stderr",
     "output_type": "stream",
     "text": [
      "Downloading:   4%|▍         | 101/2533 [00:26<09:29,  4.27file/s]"
     ]
    },
    {
     "name": "stdout",
     "output_type": "stream",
     "text": [
      "Downloaded gal_spectra\\275513121\n",
      "Downloaded gal_spectra\\700510210\n"
     ]
    },
    {
     "name": "stderr",
     "output_type": "stream",
     "text": [
      "Downloading:   4%|▍         | 103/2533 [00:27<08:08,  4.97file/s]"
     ]
    },
    {
     "name": "stdout",
     "output_type": "stream",
     "text": [
      "Downloaded gal_spectra\\275515233\n"
     ]
    },
    {
     "name": "stderr",
     "output_type": "stream",
     "text": [
      "Downloading:   4%|▍         | 104/2533 [00:27<11:22,  3.56file/s]"
     ]
    },
    {
     "name": "stdout",
     "output_type": "stream",
     "text": [
      "Downloaded gal_spectra\\696805106\n"
     ]
    },
    {
     "name": "stderr",
     "output_type": "stream",
     "text": [
      "Downloading:   4%|▍         | 105/2533 [00:28<13:19,  3.04file/s]"
     ]
    },
    {
     "name": "stdout",
     "output_type": "stream",
     "text": [
      "Downloaded gal_spectra\\565509173\n"
     ]
    },
    {
     "name": "stderr",
     "output_type": "stream",
     "text": [
      "Downloading:   4%|▍         | 108/2533 [00:28<10:12,  3.96file/s]"
     ]
    },
    {
     "name": "stdout",
     "output_type": "stream",
     "text": [
      "Downloaded gal_spectra\\450014079\n",
      "Downloaded gal_spectra\\185601044\n"
     ]
    },
    {
     "name": "stderr",
     "output_type": "stream",
     "text": [
      "Downloading:   4%|▍         | 110/2533 [00:28<07:42,  5.24file/s]"
     ]
    },
    {
     "name": "stdout",
     "output_type": "stream",
     "text": [
      "Downloaded gal_spectra\\450016238\n",
      "Downloaded gal_spectra\\700509069\n",
      "Downloaded gal_spectra\\450004234\n"
     ]
    },
    {
     "name": "stderr",
     "output_type": "stream",
     "text": [
      "Downloading:   4%|▍         | 111/2533 [00:29<07:24,  5.45file/s]"
     ]
    },
    {
     "name": "stdout",
     "output_type": "stream",
     "text": [
      "Downloaded gal_spectra\\228101022\n",
      "Downloaded gal_spectra\\583901225\n"
     ]
    },
    {
     "name": "stderr",
     "output_type": "stream",
     "text": [
      "Downloading:   5%|▍         | 114/2533 [00:29<08:27,  4.77file/s]"
     ]
    },
    {
     "name": "stdout",
     "output_type": "stream",
     "text": [
      "Downloaded gal_spectra\\228101066\n",
      "Downloaded gal_spectra\\185602038\n"
     ]
    },
    {
     "name": "stderr",
     "output_type": "stream",
     "text": [
      "Downloading:   5%|▍         | 115/2533 [00:30<10:35,  3.81file/s]"
     ]
    },
    {
     "name": "stdout",
     "output_type": "stream",
     "text": [
      "Failed to download https://www.lamost.org/dr7/v2.0/spectrum/fits/892811117: 500 Server Error:  for url: https://www.lamost.org/dr7/v2.0/spectrum/fits/892811117\n"
     ]
    },
    {
     "name": "stderr",
     "output_type": "stream",
     "text": [
      "Downloading:   5%|▍         | 117/2533 [00:30<10:08,  3.97file/s]"
     ]
    },
    {
     "name": "stdout",
     "output_type": "stream",
     "text": [
      "Failed to download https://www.lamost.org/dr7/v2.0/spectrum/fits/880107028: 500 Server Error:  for url: https://www.lamost.org/dr7/v2.0/spectrum/fits/880107028\n",
      "Downloaded gal_spectra\\505407106\n"
     ]
    },
    {
     "name": "stderr",
     "output_type": "stream",
     "text": [
      "Downloading:   5%|▍         | 119/2533 [00:30<07:44,  5.20file/s]"
     ]
    },
    {
     "name": "stdout",
     "output_type": "stream",
     "text": [
      "Downloaded gal_spectra\\210811028\n",
      "Downloaded gal_spectra\\284407239\n"
     ]
    },
    {
     "name": "stderr",
     "output_type": "stream",
     "text": [
      "Downloading:   5%|▍         | 120/2533 [00:31<10:17,  3.91file/s]"
     ]
    },
    {
     "name": "stdout",
     "output_type": "stream",
     "text": [
      "Failed to download https://www.lamost.org/dr7/v2.0/spectrum/fits/892811165: 500 Server Error:  for url: https://www.lamost.org/dr7/v2.0/spectrum/fits/892811165\n"
     ]
    },
    {
     "name": "stderr",
     "output_type": "stream",
     "text": [
      "Downloading:   5%|▍         | 123/2533 [00:31<07:24,  5.43file/s]"
     ]
    },
    {
     "name": "stdout",
     "output_type": "stream",
     "text": [
      "Downloaded gal_spectra\\284407153\n",
      "Downloaded gal_spectra\\185610228\n",
      "Downloaded gal_spectra\\228107185\n"
     ]
    },
    {
     "name": "stderr",
     "output_type": "stream",
     "text": [
      "Downloading:   5%|▍         | 124/2533 [00:32<07:59,  5.03file/s]"
     ]
    },
    {
     "name": "stdout",
     "output_type": "stream",
     "text": [
      "Downloaded gal_spectra\\710601111\n"
     ]
    },
    {
     "name": "stderr",
     "output_type": "stream",
     "text": [
      "Downloading:   5%|▍         | 125/2533 [00:32<08:08,  4.93file/s]"
     ]
    },
    {
     "name": "stdout",
     "output_type": "stream",
     "text": [
      "Downloaded gal_spectra\\432614028\n"
     ]
    },
    {
     "name": "stderr",
     "output_type": "stream",
     "text": [
      "Downloading:   5%|▍         | 126/2533 [00:33<18:35,  2.16file/s]"
     ]
    },
    {
     "name": "stdout",
     "output_type": "stream",
     "text": [
      "Downloaded gal_spectra\\432612167\n"
     ]
    },
    {
     "name": "stderr",
     "output_type": "stream",
     "text": [
      "Downloading:   5%|▌         | 129/2533 [00:34<11:40,  3.43file/s]"
     ]
    },
    {
     "name": "stdout",
     "output_type": "stream",
     "text": [
      "Downloaded gal_spectra\\698407007\n",
      "Downloaded gal_spectra\\698410192\n"
     ]
    },
    {
     "name": "stderr",
     "output_type": "stream",
     "text": [
      "Downloading:   5%|▌         | 130/2533 [00:34<09:57,  4.02file/s]"
     ]
    },
    {
     "name": "stdout",
     "output_type": "stream",
     "text": [
      "Downloaded gal_spectra\\281702183\n",
      "Downloaded gal_spectra\\698408022\n",
      "Downloaded gal_spectra\\388816136\n"
     ]
    },
    {
     "name": "stderr",
     "output_type": "stream",
     "text": [
      "Downloading:   5%|▌         | 132/2533 [00:34<07:15,  5.52file/s]"
     ]
    },
    {
     "name": "stdout",
     "output_type": "stream",
     "text": [
      "Downloaded gal_spectra\\484508139\n",
      "Downloaded gal_spectra\\631707168\n"
     ]
    },
    {
     "name": "stderr",
     "output_type": "stream",
     "text": [
      "Downloading:   5%|▌         | 134/2533 [00:35<12:19,  3.24file/s]"
     ]
    },
    {
     "name": "stdout",
     "output_type": "stream",
     "text": [
      "Downloaded gal_spectra\\699406212\n"
     ]
    },
    {
     "name": "stderr",
     "output_type": "stream",
     "text": [
      "Downloading:   5%|▌         | 136/2533 [00:36<12:51,  3.11file/s]"
     ]
    },
    {
     "name": "stdout",
     "output_type": "stream",
     "text": [
      "Downloaded gal_spectra\\699405207\n",
      "Downloaded gal_spectra\\699405092\n"
     ]
    },
    {
     "name": "stderr",
     "output_type": "stream",
     "text": [
      "Downloading:   5%|▌         | 138/2533 [00:36<09:30,  4.20file/s]"
     ]
    },
    {
     "name": "stdout",
     "output_type": "stream",
     "text": [
      "Downloaded gal_spectra\\627805061\n",
      "Downloaded gal_spectra\\698903222\n"
     ]
    },
    {
     "name": "stderr",
     "output_type": "stream",
     "text": [
      "Downloading:   5%|▌         | 139/2533 [00:36<08:44,  4.57file/s]"
     ]
    },
    {
     "name": "stdout",
     "output_type": "stream",
     "text": [
      "Downloaded gal_spectra\\439001207\n"
     ]
    },
    {
     "name": "stderr",
     "output_type": "stream",
     "text": [
      "Downloading:   6%|▌         | 140/2533 [00:37<10:32,  3.78file/s]"
     ]
    },
    {
     "name": "stdout",
     "output_type": "stream",
     "text": [
      "Downloaded gal_spectra\\645616084\n",
      "Downloaded gal_spectra\\699414013\n"
     ]
    },
    {
     "name": "stderr",
     "output_type": "stream",
     "text": [
      "Downloading:   6%|▌         | 142/2533 [00:38<14:34,  2.73file/s]"
     ]
    },
    {
     "name": "stdout",
     "output_type": "stream",
     "text": [
      "Failed to download https://www.lamost.org/dr7/v2.0/spectrum/fits/811701231: 500 Server Error:  for url: https://www.lamost.org/dr7/v2.0/spectrum/fits/811701231\n",
      "Downloaded gal_spectra\\710611231\n"
     ]
    },
    {
     "name": "stderr",
     "output_type": "stream",
     "text": [
      "Downloading:   6%|▌         | 145/2533 [00:38<12:06,  3.29file/s]"
     ]
    },
    {
     "name": "stdout",
     "output_type": "stream",
     "text": [
      "Downloaded gal_spectra\\601716213\n",
      "Downloaded gal_spectra\\602209030\n",
      "Failed to download https://www.lamost.org/dr7/v2.0/spectrum/fits/811702144: 500 Server Error:  for url: https://www.lamost.org/dr7/v2.0/spectrum/fits/811702144\n"
     ]
    },
    {
     "name": "stderr",
     "output_type": "stream",
     "text": [
      "Downloading:   6%|▌         | 148/2533 [00:39<09:00,  4.41file/s]"
     ]
    },
    {
     "name": "stdout",
     "output_type": "stream",
     "text": [
      "Downloaded gal_spectra\\321904178\n",
      "Downloaded gal_spectra\\712914193\n"
     ]
    },
    {
     "name": "stderr",
     "output_type": "stream",
     "text": [
      "Downloading:   6%|▌         | 150/2533 [00:40<11:35,  3.43file/s]"
     ]
    },
    {
     "name": "stdout",
     "output_type": "stream",
     "text": [
      "Downloaded gal_spectra\\388809226\n",
      "Downloaded gal_spectra\\283616143\n",
      "Downloaded gal_spectra\\283614040\n",
      "Downloaded gal_spectra\\604216195\n"
     ]
    },
    {
     "name": "stderr",
     "output_type": "stream",
     "text": [
      "Downloading:   6%|▌         | 154/2533 [00:40<08:06,  4.89file/s]"
     ]
    },
    {
     "name": "stdout",
     "output_type": "stream",
     "text": [
      "Failed to download https://www.lamost.org/dr7/v2.0/spectrum/fits/690007070: 500 Server Error:  for url: https://www.lamost.org/dr7/v2.0/spectrum/fits/690007070\n",
      "Downloaded gal_spectra\\268114085\n"
     ]
    },
    {
     "name": "stderr",
     "output_type": "stream",
     "text": [
      "Downloading:   6%|▌         | 155/2533 [00:40<07:55,  5.00file/s]"
     ]
    },
    {
     "name": "stdout",
     "output_type": "stream",
     "text": [
      "Downloaded gal_spectra\\417807101\n"
     ]
    },
    {
     "name": "stderr",
     "output_type": "stream",
     "text": [
      "Downloading:   6%|▌         | 156/2533 [00:41<09:25,  4.21file/s]"
     ]
    },
    {
     "name": "stdout",
     "output_type": "stream",
     "text": [
      "Downloaded gal_spectra\\698911149\n"
     ]
    },
    {
     "name": "stderr",
     "output_type": "stream",
     "text": [
      "Downloading:   6%|▌         | 157/2533 [00:41<12:53,  3.07file/s]"
     ]
    },
    {
     "name": "stdout",
     "output_type": "stream",
     "text": [
      "Downloaded gal_spectra\\602214124\n"
     ]
    },
    {
     "name": "stderr",
     "output_type": "stream",
     "text": [
      "Downloading:   6%|▌         | 158/2533 [00:42<13:50,  2.86file/s]"
     ]
    },
    {
     "name": "stdout",
     "output_type": "stream",
     "text": [
      "Downloaded gal_spectra\\404613230\n",
      "Downloaded gal_spectra\\417804046\n"
     ]
    },
    {
     "name": "stderr",
     "output_type": "stream",
     "text": [
      "Downloading:   6%|▋         | 161/2533 [00:42<10:35,  3.73file/s]"
     ]
    },
    {
     "name": "stdout",
     "output_type": "stream",
     "text": [
      "Downloaded gal_spectra\\690003176\n",
      "Downloaded gal_spectra\\602214119\n",
      "Downloaded gal_spectra\\410104187\n"
     ]
    },
    {
     "name": "stderr",
     "output_type": "stream",
     "text": [
      "Downloading:   7%|▋         | 165/2533 [00:44<10:39,  3.71file/s]"
     ]
    },
    {
     "name": "stdout",
     "output_type": "stream",
     "text": [
      "Failed to download https://www.lamost.org/dr7/v2.0/spectrum/fits/769004189: 500 Server Error:  for url: https://www.lamost.org/dr7/v2.0/spectrum/fits/769004189\n",
      "Downloaded gal_spectra\\187402215\n",
      "Downloaded gal_spectra\\709008113\n"
     ]
    },
    {
     "name": "stderr",
     "output_type": "stream",
     "text": [
      "Downloading:   7%|▋         | 168/2533 [00:44<07:11,  5.48file/s]"
     ]
    },
    {
     "name": "stdout",
     "output_type": "stream",
     "text": [
      "Downloaded gal_spectra\\603806015\n",
      "Downloaded gal_spectra\\603801147\n",
      "Downloaded gal_spectra\\603807043\n"
     ]
    },
    {
     "name": "stderr",
     "output_type": "stream",
     "text": [
      "Downloading:   7%|▋         | 169/2533 [00:44<08:51,  4.45file/s]"
     ]
    },
    {
     "name": "stdout",
     "output_type": "stream",
     "text": [
      "Failed to download https://www.lamost.org/dr7/v2.0/spectrum/fits/769008250: 500 Server Error:  for url: https://www.lamost.org/dr7/v2.0/spectrum/fits/769008250\n"
     ]
    },
    {
     "name": "stderr",
     "output_type": "stream",
     "text": [
      "Downloading:   7%|▋         | 170/2533 [00:45<10:19,  3.82file/s]"
     ]
    },
    {
     "name": "stdout",
     "output_type": "stream",
     "text": [
      "Downloaded gal_spectra\\187412103\n"
     ]
    },
    {
     "name": "stderr",
     "output_type": "stream",
     "text": [
      "Downloading:   7%|▋         | 172/2533 [00:45<11:32,  3.41file/s]"
     ]
    },
    {
     "name": "stdout",
     "output_type": "stream",
     "text": [
      "Downloaded gal_spectra\\696815195\n",
      "Downloaded gal_spectra\\187505071\n"
     ]
    },
    {
     "name": "stderr",
     "output_type": "stream",
     "text": [
      "Downloading:   7%|▋         | 173/2533 [00:46<11:28,  3.43file/s]"
     ]
    },
    {
     "name": "stdout",
     "output_type": "stream",
     "text": [
      "Downloaded gal_spectra\\282405177\n"
     ]
    },
    {
     "name": "stderr",
     "output_type": "stream",
     "text": [
      "Downloading:   7%|▋         | 174/2533 [00:46<13:32,  2.90file/s]"
     ]
    },
    {
     "name": "stdout",
     "output_type": "stream",
     "text": [
      "Downloaded gal_spectra\\231802121\n"
     ]
    },
    {
     "name": "stderr",
     "output_type": "stream",
     "text": [
      "Downloading:   7%|▋         | 176/2533 [00:47<12:09,  3.23file/s]"
     ]
    },
    {
     "name": "stdout",
     "output_type": "stream",
     "text": [
      "Failed to download https://www.lamost.org/dr7/v2.0/spectrum/fits/880702113: 500 Server Error:  for url: https://www.lamost.org/dr7/v2.0/spectrum/fits/880702113\n",
      "Downloaded gal_spectra\\35803193\n"
     ]
    },
    {
     "name": "stderr",
     "output_type": "stream",
     "text": [
      "Downloading:   7%|▋         | 177/2533 [00:48<27:21,  1.44file/s]"
     ]
    },
    {
     "name": "stdout",
     "output_type": "stream",
     "text": [
      "Downloaded gal_spectra\\321913168\n"
     ]
    },
    {
     "name": "stderr",
     "output_type": "stream",
     "text": [
      "Downloading:   7%|▋         | 178/2533 [00:49<24:34,  1.60file/s]"
     ]
    },
    {
     "name": "stdout",
     "output_type": "stream",
     "text": [
      "Failed to download https://www.lamost.org/dr7/v2.0/spectrum/fits/880705128: 500 Server Error:  for url: https://www.lamost.org/dr7/v2.0/spectrum/fits/880705128\n"
     ]
    },
    {
     "name": "stderr",
     "output_type": "stream",
     "text": [
      "Downloading:   7%|▋         | 179/2533 [00:50<24:47,  1.58file/s]"
     ]
    },
    {
     "name": "stdout",
     "output_type": "stream",
     "text": [
      "Downloaded gal_spectra\\186004075\n"
     ]
    },
    {
     "name": "stderr",
     "output_type": "stream",
     "text": [
      "Downloading:   7%|▋         | 180/2533 [00:51<32:51,  1.19file/s]"
     ]
    },
    {
     "name": "stdout",
     "output_type": "stream",
     "text": [
      "Downloaded gal_spectra\\284408180\n",
      "Downloaded gal_spectra\\505415025\n"
     ]
    },
    {
     "name": "stderr",
     "output_type": "stream",
     "text": [
      "Downloading:   7%|▋         | 182/2533 [00:51<23:05,  1.70file/s]"
     ]
    },
    {
     "name": "stdout",
     "output_type": "stream",
     "text": [
      "Downloaded gal_spectra\\284404128\n"
     ]
    },
    {
     "name": "stderr",
     "output_type": "stream",
     "text": [
      "Downloading:   7%|▋         | 183/2533 [00:52<19:59,  1.96file/s]"
     ]
    },
    {
     "name": "stdout",
     "output_type": "stream",
     "text": [
      "Downloaded gal_spectra\\284405100\n"
     ]
    },
    {
     "name": "stderr",
     "output_type": "stream",
     "text": [
      "Downloading:   7%|▋         | 184/2533 [00:52<21:10,  1.85file/s]"
     ]
    },
    {
     "name": "stdout",
     "output_type": "stream",
     "text": [
      "Downloaded gal_spectra\\231813057\n"
     ]
    },
    {
     "name": "stderr",
     "output_type": "stream",
     "text": [
      "Downloading:   7%|▋         | 185/2533 [00:53<17:35,  2.23file/s]"
     ]
    },
    {
     "name": "stdout",
     "output_type": "stream",
     "text": [
      "Downloaded gal_spectra\\231813127\n"
     ]
    },
    {
     "name": "stderr",
     "output_type": "stream",
     "text": [
      "Downloading:   7%|▋         | 187/2533 [00:55<30:31,  1.28file/s]"
     ]
    },
    {
     "name": "stdout",
     "output_type": "stream",
     "text": [
      "Downloaded gal_spectra\\333603110\n",
      "Downloaded gal_spectra\\284403070\n",
      "Downloaded gal_spectra\\284410082\n"
     ]
    },
    {
     "name": "stderr",
     "output_type": "stream",
     "text": [
      "Downloading:   7%|▋         | 189/2533 [00:56<19:31,  2.00file/s]"
     ]
    },
    {
     "name": "stdout",
     "output_type": "stream",
     "text": [
      "Downloaded gal_spectra\\8814174\n"
     ]
    },
    {
     "name": "stderr",
     "output_type": "stream",
     "text": [
      "Downloading:   8%|▊         | 190/2533 [00:56<17:13,  2.27file/s]"
     ]
    },
    {
     "name": "stdout",
     "output_type": "stream",
     "text": [
      "Downloaded gal_spectra\\228116046\n"
     ]
    },
    {
     "name": "stderr",
     "output_type": "stream",
     "text": [
      "Downloading:   8%|▊         | 191/2533 [00:57<19:32,  2.00file/s]"
     ]
    },
    {
     "name": "stdout",
     "output_type": "stream",
     "text": [
      "Downloaded gal_spectra\\485006127\n"
     ]
    },
    {
     "name": "stderr",
     "output_type": "stream",
     "text": [
      "Downloading:   8%|▊         | 192/2533 [00:57<18:36,  2.10file/s]"
     ]
    },
    {
     "name": "stdout",
     "output_type": "stream",
     "text": [
      "Downloaded gal_spectra\\231810236\n"
     ]
    },
    {
     "name": "stderr",
     "output_type": "stream",
     "text": [
      "Downloading:   8%|▊         | 194/2533 [00:58<16:35,  2.35file/s]"
     ]
    },
    {
     "name": "stdout",
     "output_type": "stream",
     "text": [
      "Downloaded gal_spectra\\186804164\n",
      "Downloaded gal_spectra\\284414202\n"
     ]
    },
    {
     "name": "stderr",
     "output_type": "stream",
     "text": [
      "Downloading:   8%|▊         | 195/2533 [00:58<14:21,  2.71file/s]"
     ]
    },
    {
     "name": "stdout",
     "output_type": "stream",
     "text": [
      "Downloaded gal_spectra\\197705075\n"
     ]
    },
    {
     "name": "stderr",
     "output_type": "stream",
     "text": [
      "Downloading:   8%|▊         | 196/2533 [00:59<16:24,  2.37file/s]"
     ]
    },
    {
     "name": "stdout",
     "output_type": "stream",
     "text": [
      "Downloaded gal_spectra\\486108130\n",
      "Downloaded gal_spectra\\486109155\n"
     ]
    },
    {
     "name": "stderr",
     "output_type": "stream",
     "text": [
      "Downloading:   8%|▊         | 199/2533 [00:59<10:30,  3.70file/s]"
     ]
    },
    {
     "name": "stdout",
     "output_type": "stream",
     "text": [
      "Downloaded gal_spectra\\486115071\n",
      "Downloaded gal_spectra\\282402058\n"
     ]
    },
    {
     "name": "stderr",
     "output_type": "stream",
     "text": [
      "Downloading:   8%|▊         | 200/2533 [01:00<13:49,  2.81file/s]"
     ]
    },
    {
     "name": "stdout",
     "output_type": "stream",
     "text": [
      "Downloaded gal_spectra\\186809122\n"
     ]
    },
    {
     "name": "stderr",
     "output_type": "stream",
     "text": [
      "Downloading:   8%|▊         | 201/2533 [01:00<14:39,  2.65file/s]"
     ]
    },
    {
     "name": "stdout",
     "output_type": "stream",
     "text": [
      "Downloaded gal_spectra\\189202128\n"
     ]
    },
    {
     "name": "stderr",
     "output_type": "stream",
     "text": [
      "Downloading:   8%|▊         | 202/2533 [01:00<13:39,  2.84file/s]"
     ]
    },
    {
     "name": "stdout",
     "output_type": "stream",
     "text": [
      "Downloaded gal_spectra\\186812095\n"
     ]
    },
    {
     "name": "stderr",
     "output_type": "stream",
     "text": [
      "Downloading:   8%|▊         | 205/2533 [01:01<10:06,  3.84file/s]"
     ]
    },
    {
     "name": "stdout",
     "output_type": "stream",
     "text": [
      "Downloaded gal_spectra\\186811114\n",
      "Downloaded gal_spectra\\499710047\n",
      "Downloaded gal_spectra\\231810129\n"
     ]
    },
    {
     "name": "stderr",
     "output_type": "stream",
     "text": [
      "Downloading:   8%|▊         | 207/2533 [01:02<12:51,  3.01file/s]"
     ]
    },
    {
     "name": "stdout",
     "output_type": "stream",
     "text": [
      "Downloaded gal_spectra\\486111240\n",
      "Downloaded gal_spectra\\499705076\n",
      "Downloaded gal_spectra\\186812056\n"
     ]
    },
    {
     "name": "stderr",
     "output_type": "stream",
     "text": [
      "Downloading:   8%|▊         | 209/2533 [01:02<10:34,  3.66file/s]"
     ]
    },
    {
     "name": "stdout",
     "output_type": "stream",
     "text": [
      "Downloaded gal_spectra\\231008163\n"
     ]
    },
    {
     "name": "stderr",
     "output_type": "stream",
     "text": [
      "Downloading:   8%|▊         | 210/2533 [01:03<10:20,  3.75file/s]"
     ]
    },
    {
     "name": "stdout",
     "output_type": "stream",
     "text": [
      "Downloaded gal_spectra\\189203094\n"
     ]
    },
    {
     "name": "stderr",
     "output_type": "stream",
     "text": [
      "Downloading:   8%|▊         | 211/2533 [01:03<12:30,  3.10file/s]"
     ]
    },
    {
     "name": "stdout",
     "output_type": "stream",
     "text": [
      "Downloaded gal_spectra\\284904080\n"
     ]
    },
    {
     "name": "stderr",
     "output_type": "stream",
     "text": [
      "Downloading:   8%|▊         | 212/2533 [01:04<15:39,  2.47file/s]"
     ]
    },
    {
     "name": "stdout",
     "output_type": "stream",
     "text": [
      "Downloaded gal_spectra\\231005199\n",
      "Downloaded gal_spectra\\486707085\n"
     ]
    },
    {
     "name": "stderr",
     "output_type": "stream",
     "text": [
      "Downloading:   8%|▊         | 214/2533 [01:04<13:59,  2.76file/s]"
     ]
    },
    {
     "name": "stdout",
     "output_type": "stream",
     "text": [
      "Failed to download https://www.lamost.org/dr7/v2.0/spectrum/fits/768108206: 500 Server Error:  for url: https://www.lamost.org/dr7/v2.0/spectrum/fits/768108206\n"
     ]
    },
    {
     "name": "stderr",
     "output_type": "stream",
     "text": [
      "Downloading:   9%|▊         | 216/2533 [01:05<12:31,  3.08file/s]"
     ]
    },
    {
     "name": "stdout",
     "output_type": "stream",
     "text": [
      "Downloaded gal_spectra\\486707091\n",
      "Downloaded gal_spectra\\499704051\n",
      "Downloaded gal_spectra\\486707153\n"
     ]
    },
    {
     "name": "stderr",
     "output_type": "stream",
     "text": [
      "Downloading:   9%|▊         | 218/2533 [01:06<12:33,  3.07file/s]"
     ]
    },
    {
     "name": "stdout",
     "output_type": "stream",
     "text": [
      "Failed to download https://www.lamost.org/dr7/v2.0/spectrum/fits/768105225: 500 Server Error:  for url: https://www.lamost.org/dr7/v2.0/spectrum/fits/768105225\n"
     ]
    },
    {
     "name": "stderr",
     "output_type": "stream",
     "text": [
      "Downloading:   9%|▊         | 219/2533 [01:06<12:32,  3.07file/s]"
     ]
    },
    {
     "name": "stdout",
     "output_type": "stream",
     "text": [
      "Downloaded gal_spectra\\483803003\n",
      "Downloaded gal_spectra\\284903115\n"
     ]
    },
    {
     "name": "stderr",
     "output_type": "stream",
     "text": [
      "Downloading:   9%|▊         | 221/2533 [01:07<13:55,  2.77file/s]"
     ]
    },
    {
     "name": "stdout",
     "output_type": "stream",
     "text": [
      "Downloaded gal_spectra\\486705043\n"
     ]
    },
    {
     "name": "stderr",
     "output_type": "stream",
     "text": [
      "Downloading:   9%|▉         | 222/2533 [01:07<14:37,  2.63file/s]"
     ]
    },
    {
     "name": "stdout",
     "output_type": "stream",
     "text": [
      "Downloaded gal_spectra\\483808087\n"
     ]
    },
    {
     "name": "stderr",
     "output_type": "stream",
     "text": [
      "Downloading:   9%|▉         | 224/2533 [01:08<14:27,  2.66file/s]"
     ]
    },
    {
     "name": "stdout",
     "output_type": "stream",
     "text": [
      "Downloaded gal_spectra\\483809129\n",
      "Downloaded gal_spectra\\287005130\n"
     ]
    },
    {
     "name": "stderr",
     "output_type": "stream",
     "text": [
      "Downloading:   9%|▉         | 225/2533 [01:08<12:17,  3.13file/s]"
     ]
    },
    {
     "name": "stdout",
     "output_type": "stream",
     "text": [
      "Downloaded gal_spectra\\483812004\n"
     ]
    },
    {
     "name": "stderr",
     "output_type": "stream",
     "text": [
      "Downloading:   9%|▉         | 227/2533 [01:09<11:38,  3.30file/s]"
     ]
    },
    {
     "name": "stdout",
     "output_type": "stream",
     "text": [
      "Downloaded gal_spectra\\483804233\n",
      "Downloaded gal_spectra\\186016210\n"
     ]
    },
    {
     "name": "stderr",
     "output_type": "stream",
     "text": [
      "Downloading:   9%|▉         | 228/2533 [01:09<10:48,  3.56file/s]"
     ]
    },
    {
     "name": "stdout",
     "output_type": "stream",
     "text": [
      "Downloaded gal_spectra\\483812002\n"
     ]
    },
    {
     "name": "stderr",
     "output_type": "stream",
     "text": [
      "Downloading:   9%|▉         | 229/2533 [01:10<17:49,  2.15file/s]"
     ]
    },
    {
     "name": "stdout",
     "output_type": "stream",
     "text": [
      "Downloaded gal_spectra\\274804207\n",
      "Downloaded gal_spectra\\284914134\n"
     ]
    },
    {
     "name": "stderr",
     "output_type": "stream",
     "text": [
      "Downloading:   9%|▉         | 231/2533 [01:10<11:29,  3.34file/s]"
     ]
    },
    {
     "name": "stdout",
     "output_type": "stream",
     "text": [
      "Failed to download https://www.lamost.org/dr7/v2.0/spectrum/fits/870612131: 500 Server Error:  for url: https://www.lamost.org/dr7/v2.0/spectrum/fits/870612131\n"
     ]
    },
    {
     "name": "stderr",
     "output_type": "stream",
     "text": [
      "Downloading:   9%|▉         | 232/2533 [01:10<11:08,  3.44file/s]"
     ]
    },
    {
     "name": "stdout",
     "output_type": "stream",
     "text": [
      "Downloaded gal_spectra\\199601179\n"
     ]
    },
    {
     "name": "stderr",
     "output_type": "stream",
     "text": [
      "Downloading:   9%|▉         | 234/2533 [01:11<09:30,  4.03file/s]"
     ]
    },
    {
     "name": "stdout",
     "output_type": "stream",
     "text": [
      "Downloaded gal_spectra\\284911022\n",
      "Downloaded gal_spectra\\274811069\n",
      "Downloaded gal_spectra\\483815250\n"
     ]
    },
    {
     "name": "stderr",
     "output_type": "stream",
     "text": [
      "Downloading:   9%|▉         | 236/2533 [01:11<07:49,  4.89file/s]"
     ]
    },
    {
     "name": "stdout",
     "output_type": "stream",
     "text": [
      "Failed to download https://www.lamost.org/dr7/v2.0/spectrum/fits/768110193: 500 Server Error:  for url: https://www.lamost.org/dr7/v2.0/spectrum/fits/768110193\n"
     ]
    },
    {
     "name": "stderr",
     "output_type": "stream",
     "text": [
      "Downloading:   9%|▉         | 237/2533 [01:12<14:14,  2.69file/s]"
     ]
    },
    {
     "name": "stdout",
     "output_type": "stream",
     "text": [
      "Downloaded gal_spectra\\287005058\n",
      "Downloaded gal_spectra\\486703036\n"
     ]
    },
    {
     "name": "stderr",
     "output_type": "stream",
     "text": [
      "Downloading:   9%|▉         | 240/2533 [01:13<11:17,  3.38file/s]"
     ]
    },
    {
     "name": "stdout",
     "output_type": "stream",
     "text": [
      "Downloaded gal_spectra\\650915185\n",
      "Downloaded gal_spectra\\486710056\n",
      "Downloaded gal_spectra\\486710172\n"
     ]
    },
    {
     "name": "stderr",
     "output_type": "stream",
     "text": [
      "Downloading:  10%|▉         | 243/2533 [01:13<08:10,  4.67file/s]"
     ]
    },
    {
     "name": "stdout",
     "output_type": "stream",
     "text": [
      "Downloaded gal_spectra\\106703098\n",
      "Downloaded gal_spectra\\486710226\n"
     ]
    },
    {
     "name": "stderr",
     "output_type": "stream",
     "text": [
      "Downloading:  10%|▉         | 244/2533 [01:14<09:33,  3.99file/s]"
     ]
    },
    {
     "name": "stdout",
     "output_type": "stream",
     "text": [
      "Downloaded gal_spectra\\205010182\n"
     ]
    },
    {
     "name": "stderr",
     "output_type": "stream",
     "text": [
      "Downloading:  10%|▉         | 245/2533 [01:14<10:37,  3.59file/s]"
     ]
    },
    {
     "name": "stdout",
     "output_type": "stream",
     "text": [
      "Downloaded gal_spectra\\287004246\n"
     ]
    },
    {
     "name": "stderr",
     "output_type": "stream",
     "text": [
      "Downloading:  10%|▉         | 246/2533 [01:14<09:59,  3.81file/s]"
     ]
    },
    {
     "name": "stdout",
     "output_type": "stream",
     "text": [
      "Downloaded gal_spectra\\486704246\n"
     ]
    },
    {
     "name": "stderr",
     "output_type": "stream",
     "text": [
      "Downloading:  10%|▉         | 247/2533 [01:14<11:14,  3.39file/s]"
     ]
    },
    {
     "name": "stdout",
     "output_type": "stream",
     "text": [
      "Downloaded gal_spectra\\486709222\n"
     ]
    },
    {
     "name": "stderr",
     "output_type": "stream",
     "text": [
      "Downloading:  10%|▉         | 248/2533 [01:15<13:18,  2.86file/s]"
     ]
    },
    {
     "name": "stdout",
     "output_type": "stream",
     "text": [
      "Downloaded gal_spectra\\287015165\n"
     ]
    },
    {
     "name": "stderr",
     "output_type": "stream",
     "text": [
      "Downloading:  10%|▉         | 250/2533 [01:16<13:15,  2.87file/s]"
     ]
    },
    {
     "name": "stdout",
     "output_type": "stream",
     "text": [
      "Downloaded gal_spectra\\486715079\n",
      "Downloaded gal_spectra\\486703163\n"
     ]
    },
    {
     "name": "stderr",
     "output_type": "stream",
     "text": [
      "Downloading:  10%|▉         | 252/2533 [01:16<09:37,  3.95file/s]"
     ]
    },
    {
     "name": "stdout",
     "output_type": "stream",
     "text": [
      "Downloaded gal_spectra\\106703243\n",
      "Downloaded gal_spectra\\106715155\n"
     ]
    },
    {
     "name": "stderr",
     "output_type": "stream",
     "text": [
      "Downloading:  10%|▉         | 253/2533 [01:17<12:39,  3.00file/s]"
     ]
    },
    {
     "name": "stdout",
     "output_type": "stream",
     "text": [
      "Downloaded gal_spectra\\486714165\n",
      "Downloaded gal_spectra\\267113034\n"
     ]
    },
    {
     "name": "stderr",
     "output_type": "stream",
     "text": [
      "Downloading:  10%|█         | 255/2533 [01:17<10:02,  3.78file/s]"
     ]
    },
    {
     "name": "stdout",
     "output_type": "stream",
     "text": [
      "Failed to download https://www.lamost.org/dr7/v2.0/spectrum/fits/880615052: 500 Server Error:  for url: https://www.lamost.org/dr7/v2.0/spectrum/fits/880615052\n"
     ]
    },
    {
     "name": "stderr",
     "output_type": "stream",
     "text": [
      "Downloading:  10%|█         | 256/2533 [01:17<09:58,  3.80file/s]"
     ]
    },
    {
     "name": "stdout",
     "output_type": "stream",
     "text": [
      "Downloaded gal_spectra\\106714046\n"
     ]
    },
    {
     "name": "stderr",
     "output_type": "stream",
     "text": [
      "Downloading:  10%|█         | 258/2533 [01:18<11:37,  3.26file/s]"
     ]
    },
    {
     "name": "stdout",
     "output_type": "stream",
     "text": [
      "Downloaded gal_spectra\\106715036\n",
      "Downloaded gal_spectra\\486716208\n"
     ]
    },
    {
     "name": "stderr",
     "output_type": "stream",
     "text": [
      "Downloading:  10%|█         | 260/2533 [01:18<07:32,  5.02file/s]"
     ]
    },
    {
     "name": "stdout",
     "output_type": "stream",
     "text": [
      "Downloaded gal_spectra\\486714093\n",
      "Downloaded gal_spectra\\102307107\n"
     ]
    },
    {
     "name": "stderr",
     "output_type": "stream",
     "text": [
      "Downloading:  10%|█         | 261/2533 [01:18<07:50,  4.83file/s]"
     ]
    },
    {
     "name": "stdout",
     "output_type": "stream",
     "text": [
      "Failed to download https://www.lamost.org/dr7/v2.0/spectrum/fits/768112236: 500 Server Error:  for url: https://www.lamost.org/dr7/v2.0/spectrum/fits/768112236\n"
     ]
    },
    {
     "name": "stderr",
     "output_type": "stream",
     "text": [
      "Downloading:  10%|█         | 263/2533 [01:19<09:14,  4.09file/s]"
     ]
    },
    {
     "name": "stdout",
     "output_type": "stream",
     "text": [
      "Downloaded gal_spectra\\106716067\n",
      "Failed to download https://www.lamost.org/dr7/v2.0/spectrum/fits/768111115: 500 Server Error:  for url: https://www.lamost.org/dr7/v2.0/spectrum/fits/768111115\n"
     ]
    },
    {
     "name": "stderr",
     "output_type": "stream",
     "text": [
      "Downloading:  10%|█         | 265/2533 [01:19<08:12,  4.61file/s]"
     ]
    },
    {
     "name": "stdout",
     "output_type": "stream",
     "text": [
      "Downloaded gal_spectra\\106714243\n",
      "Downloaded gal_spectra\\287012235\n"
     ]
    },
    {
     "name": "stderr",
     "output_type": "stream",
     "text": [
      "Downloading:  11%|█         | 266/2533 [01:20<14:37,  2.58file/s]"
     ]
    },
    {
     "name": "stdout",
     "output_type": "stream",
     "text": [
      "Downloaded gal_spectra\\102307142\n",
      "Downloaded gal_spectra\\130102019\n"
     ]
    },
    {
     "name": "stderr",
     "output_type": "stream",
     "text": [
      "Downloading:  11%|█         | 268/2533 [01:20<10:39,  3.54file/s]"
     ]
    },
    {
     "name": "stdout",
     "output_type": "stream",
     "text": [
      "Downloaded gal_spectra\\646010084\n"
     ]
    },
    {
     "name": "stderr",
     "output_type": "stream",
     "text": [
      "Downloading:  11%|█         | 269/2533 [01:21<10:42,  3.52file/s]"
     ]
    },
    {
     "name": "stdout",
     "output_type": "stream",
     "text": [
      "Downloaded gal_spectra\\130115129\n"
     ]
    },
    {
     "name": "stderr",
     "output_type": "stream",
     "text": [
      "Downloading:  11%|█         | 271/2533 [01:21<09:46,  3.86file/s]"
     ]
    },
    {
     "name": "stdout",
     "output_type": "stream",
     "text": [
      "Downloaded gal_spectra\\130110118\n"
     ]
    },
    {
     "name": "stderr",
     "output_type": "stream",
     "text": [
      "Downloading:  11%|█         | 272/2533 [01:21<08:54,  4.23file/s]"
     ]
    },
    {
     "name": "stdout",
     "output_type": "stream",
     "text": [
      "Downloaded gal_spectra\\130116140\n",
      "Downloaded gal_spectra\\486711218\n",
      "Downloaded gal_spectra\\186814090\n"
     ]
    },
    {
     "name": "stderr",
     "output_type": "stream",
     "text": [
      "Downloading:  11%|█         | 274/2533 [01:22<10:39,  3.53file/s]"
     ]
    },
    {
     "name": "stdout",
     "output_type": "stream",
     "text": [
      "Downloaded gal_spectra\\483101152\n"
     ]
    },
    {
     "name": "stderr",
     "output_type": "stream",
     "text": [
      "Downloading:  11%|█         | 275/2533 [01:22<10:21,  3.63file/s]"
     ]
    },
    {
     "name": "stdout",
     "output_type": "stream",
     "text": [
      "Downloaded gal_spectra\\205006213\n"
     ]
    },
    {
     "name": "stderr",
     "output_type": "stream",
     "text": [
      "Downloading:  11%|█         | 276/2533 [01:23<09:50,  3.82file/s]"
     ]
    },
    {
     "name": "stdout",
     "output_type": "stream",
     "text": [
      "Downloaded gal_spectra\\102307184\n"
     ]
    },
    {
     "name": "stderr",
     "output_type": "stream",
     "text": [
      "Downloading:  11%|█         | 278/2533 [01:23<10:36,  3.54file/s]"
     ]
    },
    {
     "name": "stdout",
     "output_type": "stream",
     "text": [
      "Downloaded gal_spectra\\485709001\n",
      "Downloaded gal_spectra\\205008013\n"
     ]
    },
    {
     "name": "stderr",
     "output_type": "stream",
     "text": [
      "Downloading:  11%|█         | 279/2533 [01:23<09:47,  3.84file/s]"
     ]
    },
    {
     "name": "stdout",
     "output_type": "stream",
     "text": [
      "Downloaded gal_spectra\\205006046\n",
      "Downloaded gal_spectra\\205015180\n"
     ]
    },
    {
     "name": "stderr",
     "output_type": "stream",
     "text": [
      "Downloading:  11%|█         | 281/2533 [01:24<08:45,  4.29file/s]"
     ]
    },
    {
     "name": "stdout",
     "output_type": "stream",
     "text": [
      "Downloaded gal_spectra\\186814095\n"
     ]
    },
    {
     "name": "stderr",
     "output_type": "stream",
     "text": [
      "Downloading:  11%|█         | 282/2533 [01:24<11:44,  3.19file/s]"
     ]
    },
    {
     "name": "stdout",
     "output_type": "stream",
     "text": [
      "Downloaded gal_spectra\\504906073\n"
     ]
    },
    {
     "name": "stderr",
     "output_type": "stream",
     "text": [
      "Downloading:  11%|█         | 283/2533 [01:25<10:58,  3.42file/s]"
     ]
    },
    {
     "name": "stdout",
     "output_type": "stream",
     "text": [
      "Downloaded gal_spectra\\485709142\n"
     ]
    },
    {
     "name": "stderr",
     "output_type": "stream",
     "text": [
      "Downloading:  11%|█         | 284/2533 [01:25<10:00,  3.75file/s]"
     ]
    },
    {
     "name": "stdout",
     "output_type": "stream",
     "text": [
      "Downloaded gal_spectra\\205012007\n"
     ]
    },
    {
     "name": "stderr",
     "output_type": "stream",
     "text": [
      "Downloading:  11%|█▏        | 285/2533 [01:25<11:59,  3.13file/s]"
     ]
    },
    {
     "name": "stdout",
     "output_type": "stream",
     "text": [
      "Downloaded gal_spectra\\500305055\n"
     ]
    },
    {
     "name": "stderr",
     "output_type": "stream",
     "text": [
      "Downloading:  11%|█▏        | 286/2533 [01:26<11:16,  3.32file/s]"
     ]
    },
    {
     "name": "stdout",
     "output_type": "stream",
     "text": [
      "Downloaded gal_spectra\\504909181\n"
     ]
    },
    {
     "name": "stderr",
     "output_type": "stream",
     "text": [
      "Downloading:  11%|█▏        | 287/2533 [01:26<13:06,  2.86file/s]"
     ]
    },
    {
     "name": "stdout",
     "output_type": "stream",
     "text": [
      "Failed to download https://www.lamost.org/dr7/v2.0/spectrum/fits/870714077: 500 Server Error:  for url: https://www.lamost.org/dr7/v2.0/spectrum/fits/870714077\n"
     ]
    },
    {
     "name": "stderr",
     "output_type": "stream",
     "text": [
      "Downloading:  11%|█▏        | 289/2533 [01:27<10:41,  3.50file/s]"
     ]
    },
    {
     "name": "stdout",
     "output_type": "stream",
     "text": [
      "Failed to download https://www.lamost.org/dr7/v2.0/spectrum/fits/870714172: 500 Server Error:  for url: https://www.lamost.org/dr7/v2.0/spectrum/fits/870714172\n",
      "Downloaded gal_spectra\\130113096\n",
      "Downloaded gal_spectra\\504912190\n"
     ]
    },
    {
     "name": "stderr",
     "output_type": "stream",
     "text": [
      "Downloading:  11%|█▏        | 291/2533 [01:27<07:58,  4.69file/s]"
     ]
    },
    {
     "name": "stdout",
     "output_type": "stream",
     "text": [
      "Downloaded gal_spectra\\205015048\n"
     ]
    },
    {
     "name": "stderr",
     "output_type": "stream",
     "text": [
      "Downloading:  12%|█▏        | 292/2533 [01:27<11:01,  3.39file/s]"
     ]
    },
    {
     "name": "stdout",
     "output_type": "stream",
     "text": [
      "Failed to download https://www.lamost.org/dr7/v2.0/spectrum/fits/870705069: 500 Server Error:  for url: https://www.lamost.org/dr7/v2.0/spectrum/fits/870705069\n"
     ]
    },
    {
     "name": "stderr",
     "output_type": "stream",
     "text": [
      "Downloading:  12%|█▏        | 295/2533 [01:28<06:58,  5.34file/s]"
     ]
    },
    {
     "name": "stdout",
     "output_type": "stream",
     "text": [
      "Downloaded gal_spectra\\504908187\n",
      "Downloaded gal_spectra\\205011091\n",
      "Failed to download https://www.lamost.org/dr7/v2.0/spectrum/fits/813110240: 500 Server Error:  for url: https://www.lamost.org/dr7/v2.0/spectrum/fits/813110240\n"
     ]
    },
    {
     "name": "stderr",
     "output_type": "stream",
     "text": [
      "Downloading:  12%|█▏        | 297/2533 [01:28<08:18,  4.49file/s]"
     ]
    },
    {
     "name": "stdout",
     "output_type": "stream",
     "text": [
      "Downloaded gal_spectra\\504910087\n",
      "Downloaded gal_spectra\\504903213\n"
     ]
    },
    {
     "name": "stderr",
     "output_type": "stream",
     "text": [
      "Downloading:  12%|█▏        | 300/2533 [01:29<07:05,  5.25file/s]"
     ]
    },
    {
     "name": "stdout",
     "output_type": "stream",
     "text": [
      "Downloaded gal_spectra\\504903036\n",
      "Downloaded gal_spectra\\331807234\n",
      "Downloaded gal_spectra\\504914186\n"
     ]
    },
    {
     "name": "stderr",
     "output_type": "stream",
     "text": [
      "Downloading:  12%|█▏        | 301/2533 [01:30<12:33,  2.96file/s]"
     ]
    },
    {
     "name": "stdout",
     "output_type": "stream",
     "text": [
      "Downloaded gal_spectra\\504910006\n",
      "Downloaded gal_spectra\\483111212\n"
     ]
    },
    {
     "name": "stderr",
     "output_type": "stream",
     "text": [
      "Downloading:  12%|█▏        | 304/2533 [01:30<09:24,  3.95file/s]"
     ]
    },
    {
     "name": "stdout",
     "output_type": "stream",
     "text": [
      "Downloaded gal_spectra\\711704205\n",
      "Downloaded gal_spectra\\331801070\n"
     ]
    },
    {
     "name": "stderr",
     "output_type": "stream",
     "text": [
      "Downloading:  12%|█▏        | 305/2533 [01:30<08:46,  4.23file/s]"
     ]
    },
    {
     "name": "stdout",
     "output_type": "stream",
     "text": [
      "Downloaded gal_spectra\\504914073\n",
      "Failed to download https://www.lamost.org/dr7/v2.0/spectrum/fits/813109068: 500 Server Error:  for url: https://www.lamost.org/dr7/v2.0/spectrum/fits/813109068\n"
     ]
    },
    {
     "name": "stderr",
     "output_type": "stream",
     "text": [
      "Downloading:  12%|█▏        | 307/2533 [01:31<09:53,  3.75file/s]"
     ]
    },
    {
     "name": "stdout",
     "output_type": "stream",
     "text": [
      "Failed to download https://www.lamost.org/dr7/v2.0/spectrum/fits/813109097: 500 Server Error:  for url: https://www.lamost.org/dr7/v2.0/spectrum/fits/813109097\n",
      "Failed to download https://www.lamost.org/dr7/v2.0/spectrum/fits/813115168: 500 Server Error:  for url: https://www.lamost.org/dr7/v2.0/spectrum/fits/813115168\n"
     ]
    },
    {
     "name": "stderr",
     "output_type": "stream",
     "text": [
      "Downloading:  12%|█▏        | 309/2533 [01:31<08:41,  4.27file/s]"
     ]
    },
    {
     "name": "stdout",
     "output_type": "stream",
     "text": [
      "Downloaded gal_spectra\\711702216\n"
     ]
    },
    {
     "name": "stderr",
     "output_type": "stream",
     "text": [
      "Downloading:  12%|█▏        | 310/2533 [01:32<13:32,  2.74file/s]"
     ]
    },
    {
     "name": "stdout",
     "output_type": "stream",
     "text": [
      "Downloaded gal_spectra\\130111185\n"
     ]
    },
    {
     "name": "stderr",
     "output_type": "stream",
     "text": [
      "Downloading:  12%|█▏        | 311/2533 [01:33<13:26,  2.75file/s]"
     ]
    },
    {
     "name": "stdout",
     "output_type": "stream",
     "text": [
      "Downloaded gal_spectra\\422502096\n"
     ]
    },
    {
     "name": "stderr",
     "output_type": "stream",
     "text": [
      "Downloading:  12%|█▏        | 313/2533 [01:34<14:03,  2.63file/s]"
     ]
    },
    {
     "name": "stdout",
     "output_type": "stream",
     "text": [
      "Downloaded gal_spectra\\711706194\n",
      "Downloaded gal_spectra\\180604096\n"
     ]
    },
    {
     "name": "stderr",
     "output_type": "stream",
     "text": [
      "Downloading:  12%|█▏        | 314/2533 [01:34<15:38,  2.36file/s]"
     ]
    },
    {
     "name": "stdout",
     "output_type": "stream",
     "text": [
      "Downloaded gal_spectra\\711713094\n"
     ]
    },
    {
     "name": "stderr",
     "output_type": "stream",
     "text": [
      "Downloading:  12%|█▏        | 315/2533 [01:34<14:55,  2.48file/s]"
     ]
    },
    {
     "name": "stdout",
     "output_type": "stream",
     "text": [
      "Downloaded gal_spectra\\422503048\n"
     ]
    },
    {
     "name": "stderr",
     "output_type": "stream",
     "text": [
      "Downloading:  13%|█▎        | 318/2533 [01:35<09:29,  3.89file/s]"
     ]
    },
    {
     "name": "stdout",
     "output_type": "stream",
     "text": [
      "Downloaded gal_spectra\\504916084\n",
      "Downloaded gal_spectra\\504912236\n",
      "Downloaded gal_spectra\\711713019\n"
     ]
    },
    {
     "name": "stderr",
     "output_type": "stream",
     "text": [
      "Downloading:  13%|█▎        | 319/2533 [01:35<11:10,  3.30file/s]"
     ]
    },
    {
     "name": "stdout",
     "output_type": "stream",
     "text": [
      "Downloaded gal_spectra\\711713131\n"
     ]
    },
    {
     "name": "stderr",
     "output_type": "stream",
     "text": [
      "Downloading:  13%|█▎        | 320/2533 [01:36<13:06,  2.81file/s]"
     ]
    },
    {
     "name": "stdout",
     "output_type": "stream",
     "text": [
      "Downloaded gal_spectra\\180710012\n"
     ]
    },
    {
     "name": "stderr",
     "output_type": "stream",
     "text": [
      "Downloading:  13%|█▎        | 322/2533 [01:36<10:32,  3.50file/s]"
     ]
    },
    {
     "name": "stdout",
     "output_type": "stream",
     "text": [
      "Downloaded gal_spectra\\711713151\n",
      "Downloaded gal_spectra\\722713129\n"
     ]
    },
    {
     "name": "stderr",
     "output_type": "stream",
     "text": [
      "Downloading:  13%|█▎        | 323/2533 [01:37<13:40,  2.69file/s]"
     ]
    },
    {
     "name": "stdout",
     "output_type": "stream",
     "text": [
      "Downloaded gal_spectra\\422514234\n"
     ]
    },
    {
     "name": "stderr",
     "output_type": "stream",
     "text": [
      "Downloading:  13%|█▎        | 324/2533 [01:37<12:15,  3.00file/s]"
     ]
    },
    {
     "name": "stdout",
     "output_type": "stream",
     "text": [
      "Downloaded gal_spectra\\422510085\n"
     ]
    },
    {
     "name": "stderr",
     "output_type": "stream",
     "text": [
      "Downloading:  13%|█▎        | 325/2533 [01:38<15:09,  2.43file/s]"
     ]
    },
    {
     "name": "stdout",
     "output_type": "stream",
     "text": [
      "Downloaded gal_spectra\\504915144\n"
     ]
    },
    {
     "name": "stderr",
     "output_type": "stream",
     "text": [
      "Downloading:  13%|█▎        | 326/2533 [01:38<13:24,  2.74file/s]"
     ]
    },
    {
     "name": "stdout",
     "output_type": "stream",
     "text": [
      "Downloaded gal_spectra\\308513232\n",
      "Downloaded gal_spectra\\523301127\n"
     ]
    },
    {
     "name": "stderr",
     "output_type": "stream",
     "text": [
      "Downloading:  13%|█▎        | 328/2533 [01:38<09:35,  3.83file/s]"
     ]
    },
    {
     "name": "stdout",
     "output_type": "stream",
     "text": [
      "Downloaded gal_spectra\\524303212\n",
      "Downloaded gal_spectra\\180616018\n"
     ]
    },
    {
     "name": "stderr",
     "output_type": "stream",
     "text": [
      "Downloading:  13%|█▎        | 330/2533 [01:39<11:23,  3.22file/s]"
     ]
    },
    {
     "name": "stdout",
     "output_type": "stream",
     "text": [
      "Downloaded gal_spectra\\422514120\n",
      "Downloaded gal_spectra\\524308242\n"
     ]
    },
    {
     "name": "stderr",
     "output_type": "stream",
     "text": [
      "Downloading:  13%|█▎        | 335/2533 [01:40<09:04,  4.04file/s]"
     ]
    },
    {
     "name": "stdout",
     "output_type": "stream",
     "text": [
      "Failed to download https://www.lamost.org/dr7/v2.0/spectrum/fits/803913195: 500 Server Error:  for url: https://www.lamost.org/dr7/v2.0/spectrum/fits/803913195\n",
      "Downloaded gal_spectra\\308504173\n",
      "Downloaded gal_spectra\\308515004\n",
      "Downloaded gal_spectra\\308510194\n"
     ]
    },
    {
     "name": "stderr",
     "output_type": "stream",
     "text": [
      "Downloading:  13%|█▎        | 336/2533 [01:41<08:54,  4.11file/s]"
     ]
    },
    {
     "name": "stdout",
     "output_type": "stream",
     "text": [
      "Downloaded gal_spectra\\213806173\n",
      "Downloaded gal_spectra\\307609233\n"
     ]
    },
    {
     "name": "stderr",
     "output_type": "stream",
     "text": [
      "Downloading:  13%|█▎        | 338/2533 [01:41<08:45,  4.18file/s]"
     ]
    },
    {
     "name": "stdout",
     "output_type": "stream",
     "text": [
      "Downloaded gal_spectra\\134106005\n"
     ]
    },
    {
     "name": "stderr",
     "output_type": "stream",
     "text": [
      "Downloading:  13%|█▎        | 340/2533 [01:41<08:33,  4.27file/s]"
     ]
    },
    {
     "name": "stdout",
     "output_type": "stream",
     "text": [
      "Downloaded gal_spectra\\16007129\n",
      "Downloaded gal_spectra\\336102159\n"
     ]
    },
    {
     "name": "stderr",
     "output_type": "stream",
     "text": [
      "Downloading:  14%|█▎        | 343/2533 [01:42<08:55,  4.09file/s]"
     ]
    },
    {
     "name": "stdout",
     "output_type": "stream",
     "text": [
      "Downloaded gal_spectra\\212713100\n",
      "Downloaded gal_spectra\\212701116\n",
      "Downloaded gal_spectra\\523312222\n"
     ]
    },
    {
     "name": "stderr",
     "output_type": "stream",
     "text": [
      "Downloading:  14%|█▎        | 344/2533 [01:43<08:55,  4.09file/s]"
     ]
    },
    {
     "name": "stdout",
     "output_type": "stream",
     "text": [
      "Downloaded gal_spectra\\212709224\n"
     ]
    },
    {
     "name": "stderr",
     "output_type": "stream",
     "text": [
      "Downloading:  14%|█▎        | 345/2533 [01:43<10:34,  3.45file/s]"
     ]
    },
    {
     "name": "stdout",
     "output_type": "stream",
     "text": [
      "Downloaded gal_spectra\\45803080\n"
     ]
    },
    {
     "name": "stderr",
     "output_type": "stream",
     "text": [
      "Downloading:  14%|█▎        | 348/2533 [01:44<10:14,  3.56file/s]"
     ]
    },
    {
     "name": "stdout",
     "output_type": "stream",
     "text": [
      "Downloaded gal_spectra\\389614036\n",
      "Downloaded gal_spectra\\212705187\n",
      "Downloaded gal_spectra\\392408041\n",
      "Downloaded gal_spectra\\502004210\n"
     ]
    },
    {
     "name": "stderr",
     "output_type": "stream",
     "text": [
      "Downloading:  14%|█▍        | 350/2533 [01:45<09:38,  3.78file/s]"
     ]
    },
    {
     "name": "stdout",
     "output_type": "stream",
     "text": [
      "Downloaded gal_spectra\\212703222\n"
     ]
    },
    {
     "name": "stderr",
     "output_type": "stream",
     "text": [
      "Downloading:  14%|█▍        | 351/2533 [01:45<11:12,  3.24file/s]"
     ]
    },
    {
     "name": "stdout",
     "output_type": "stream",
     "text": [
      "Downloaded gal_spectra\\21912249\n"
     ]
    },
    {
     "name": "stderr",
     "output_type": "stream",
     "text": [
      "Downloading:  14%|█▍        | 353/2533 [01:45<09:46,  3.72file/s]"
     ]
    },
    {
     "name": "stdout",
     "output_type": "stream",
     "text": [
      "Downloaded gal_spectra\\205808157\n",
      "Downloaded gal_spectra\\337602128\n"
     ]
    },
    {
     "name": "stderr",
     "output_type": "stream",
     "text": [
      "Downloading:  14%|█▍        | 354/2533 [01:46<09:23,  3.87file/s]"
     ]
    },
    {
     "name": "stdout",
     "output_type": "stream",
     "text": [
      "Downloaded gal_spectra\\502016161\n",
      "Downloaded gal_spectra\\205812073\n"
     ]
    },
    {
     "name": "stderr",
     "output_type": "stream",
     "text": [
      "Downloading:  14%|█▍        | 356/2533 [01:46<07:50,  4.63file/s]"
     ]
    },
    {
     "name": "stdout",
     "output_type": "stream",
     "text": [
      "Downloaded gal_spectra\\134003075\n"
     ]
    },
    {
     "name": "stderr",
     "output_type": "stream",
     "text": [
      "Downloading:  14%|█▍        | 357/2533 [01:46<07:55,  4.58file/s]"
     ]
    },
    {
     "name": "stdout",
     "output_type": "stream",
     "text": [
      "Downloaded gal_spectra\\307603118\n"
     ]
    },
    {
     "name": "stderr",
     "output_type": "stream",
     "text": [
      "Downloading:  14%|█▍        | 358/2533 [01:47<11:22,  3.19file/s]"
     ]
    },
    {
     "name": "stdout",
     "output_type": "stream",
     "text": [
      "Downloaded gal_spectra\\213801033\n"
     ]
    },
    {
     "name": "stderr",
     "output_type": "stream",
     "text": [
      "Downloading:  14%|█▍        | 361/2533 [01:47<07:06,  5.09file/s]"
     ]
    },
    {
     "name": "stdout",
     "output_type": "stream",
     "text": [
      "Downloaded gal_spectra\\213814169\n",
      "Failed to download https://www.lamost.org/dr7/v2.0/spectrum/fits/795108059: 500 Server Error:  for url: https://www.lamost.org/dr7/v2.0/spectrum/fits/795108059\n",
      "Downloaded gal_spectra\\213803117\n"
     ]
    },
    {
     "name": "stderr",
     "output_type": "stream",
     "text": [
      "Downloading:  14%|█▍        | 363/2533 [01:48<07:25,  4.87file/s]"
     ]
    },
    {
     "name": "stdout",
     "output_type": "stream",
     "text": [
      "Downloaded gal_spectra\\213813027\n",
      "Downloaded gal_spectra\\205811152\n"
     ]
    },
    {
     "name": "stderr",
     "output_type": "stream",
     "text": [
      "Downloading:  14%|█▍        | 364/2533 [01:48<07:48,  4.63file/s]"
     ]
    },
    {
     "name": "stdout",
     "output_type": "stream",
     "text": [
      "Failed to download https://www.lamost.org/dr7/v2.0/spectrum/fits/795105181: 500 Server Error:  for url: https://www.lamost.org/dr7/v2.0/spectrum/fits/795105181\n"
     ]
    },
    {
     "name": "stderr",
     "output_type": "stream",
     "text": [
      "Downloading:  14%|█▍        | 365/2533 [01:48<08:13,  4.39file/s]"
     ]
    },
    {
     "name": "stdout",
     "output_type": "stream",
     "text": [
      "Downloaded gal_spectra\\213813010\n"
     ]
    },
    {
     "name": "stderr",
     "output_type": "stream",
     "text": [
      "Downloading:  14%|█▍        | 366/2533 [01:48<08:57,  4.03file/s]"
     ]
    },
    {
     "name": "stdout",
     "output_type": "stream",
     "text": [
      "Downloaded gal_spectra\\213813192\n"
     ]
    },
    {
     "name": "stderr",
     "output_type": "stream",
     "text": [
      "Downloading:  14%|█▍        | 367/2533 [01:49<11:29,  3.14file/s]"
     ]
    },
    {
     "name": "stdout",
     "output_type": "stream",
     "text": [
      "Downloaded gal_spectra\\284407142\n"
     ]
    },
    {
     "name": "stderr",
     "output_type": "stream",
     "text": [
      "Downloading:  15%|█▍        | 368/2533 [01:49<11:25,  3.16file/s]"
     ]
    },
    {
     "name": "stdout",
     "output_type": "stream",
     "text": [
      "Downloaded gal_spectra\\188207059\n",
      "Downloaded gal_spectra\\213816228\n"
     ]
    },
    {
     "name": "stderr",
     "output_type": "stream",
     "text": [
      "Downloading:  15%|█▍        | 370/2533 [01:50<08:40,  4.15file/s]"
     ]
    },
    {
     "name": "stdout",
     "output_type": "stream",
     "text": [
      "Downloaded gal_spectra\\400902132\n"
     ]
    },
    {
     "name": "stderr",
     "output_type": "stream",
     "text": [
      "Downloading:  15%|█▍        | 372/2533 [01:50<09:50,  3.66file/s]"
     ]
    },
    {
     "name": "stdout",
     "output_type": "stream",
     "text": [
      "Downloaded gal_spectra\\337609155\n",
      "Downloaded gal_spectra\\337611003\n"
     ]
    },
    {
     "name": "stderr",
     "output_type": "stream",
     "text": [
      "Downloading:  15%|█▍        | 373/2533 [01:50<09:36,  3.75file/s]"
     ]
    },
    {
     "name": "stdout",
     "output_type": "stream",
     "text": [
      "Failed to download https://www.lamost.org/dr7/v2.0/spectrum/fits/811801240: 500 Server Error:  for url: https://www.lamost.org/dr7/v2.0/spectrum/fits/811801240\n"
     ]
    },
    {
     "name": "stderr",
     "output_type": "stream",
     "text": [
      "Downloading:  15%|█▍        | 374/2533 [01:51<09:48,  3.67file/s]"
     ]
    },
    {
     "name": "stdout",
     "output_type": "stream",
     "text": [
      "Downloaded gal_spectra\\285707069\n"
     ]
    },
    {
     "name": "stderr",
     "output_type": "stream",
     "text": [
      "Downloading:  15%|█▍        | 375/2533 [01:51<09:55,  3.63file/s]"
     ]
    },
    {
     "name": "stdout",
     "output_type": "stream",
     "text": [
      "Failed to download https://www.lamost.org/dr7/v2.0/spectrum/fits/811801246: 500 Server Error:  for url: https://www.lamost.org/dr7/v2.0/spectrum/fits/811801246\n"
     ]
    },
    {
     "name": "stderr",
     "output_type": "stream",
     "text": [
      "Downloading:  15%|█▍        | 376/2533 [01:51<10:28,  3.43file/s]"
     ]
    },
    {
     "name": "stdout",
     "output_type": "stream",
     "text": [
      "Downloaded gal_spectra\\284406050\n"
     ]
    },
    {
     "name": "stderr",
     "output_type": "stream",
     "text": [
      "Downloading:  15%|█▍        | 377/2533 [01:52<10:14,  3.51file/s]"
     ]
    },
    {
     "name": "stdout",
     "output_type": "stream",
     "text": [
      "Downloaded gal_spectra\\285703014\n",
      "Downloaded gal_spectra\\399702106\n"
     ]
    },
    {
     "name": "stderr",
     "output_type": "stream",
     "text": [
      "Downloading:  15%|█▌        | 381/2533 [01:53<11:12,  3.20file/s]"
     ]
    },
    {
     "name": "stdout",
     "output_type": "stream",
     "text": [
      "Downloaded gal_spectra\\285708122\n",
      "Downloaded gal_spectra\\185611175\n",
      "Downloaded gal_spectra\\740110113\n",
      "Downloaded gal_spectra\\285716199\n"
     ]
    },
    {
     "name": "stderr",
     "output_type": "stream",
     "text": [
      "Downloading:  15%|█▌        | 383/2533 [01:54<10:50,  3.31file/s]"
     ]
    },
    {
     "name": "stdout",
     "output_type": "stream",
     "text": [
      "Failed to download https://www.lamost.org/dr7/v2.0/spectrum/fits/881411172: 500 Server Error:  for url: https://www.lamost.org/dr7/v2.0/spectrum/fits/881411172\n",
      "Downloaded gal_spectra\\285715239\n"
     ]
    },
    {
     "name": "stderr",
     "output_type": "stream",
     "text": [
      "Downloading:  15%|█▌        | 385/2533 [01:54<09:28,  3.78file/s]"
     ]
    },
    {
     "name": "stdout",
     "output_type": "stream",
     "text": [
      "Downloaded gal_spectra\\740114037\n"
     ]
    },
    {
     "name": "stderr",
     "output_type": "stream",
     "text": [
      "Downloading:  15%|█▌        | 386/2533 [01:54<09:08,  3.92file/s]"
     ]
    },
    {
     "name": "stdout",
     "output_type": "stream",
     "text": [
      "Downloaded gal_spectra\\400908150\n",
      "Failed to download https://www.lamost.org/dr7/v2.0/spectrum/fits/811409076: 500 Server Error:  for url: https://www.lamost.org/dr7/v2.0/spectrum/fits/811409076\n"
     ]
    },
    {
     "name": "stderr",
     "output_type": "stream",
     "text": [
      "Downloading:  15%|█▌        | 388/2533 [01:55<09:22,  3.81file/s]"
     ]
    },
    {
     "name": "stdout",
     "output_type": "stream",
     "text": [
      "Failed to download https://www.lamost.org/dr7/v2.0/spectrum/fits/811411059: 500 Server Error:  for url: https://www.lamost.org/dr7/v2.0/spectrum/fits/811411059\n"
     ]
    },
    {
     "name": "stderr",
     "output_type": "stream",
     "text": [
      "Downloading:  15%|█▌        | 389/2533 [01:55<09:06,  3.92file/s]"
     ]
    },
    {
     "name": "stdout",
     "output_type": "stream",
     "text": [
      "Downloaded gal_spectra\\400908081\n"
     ]
    },
    {
     "name": "stderr",
     "output_type": "stream",
     "text": [
      "Downloading:  15%|█▌        | 391/2533 [01:56<10:30,  3.40file/s]"
     ]
    },
    {
     "name": "stdout",
     "output_type": "stream",
     "text": [
      "Downloaded gal_spectra\\400905104\n",
      "Downloaded gal_spectra\\734607117\n",
      "Downloaded gal_spectra\\235806136\n",
      "Failed to download https://www.lamost.org/dr7/v2.0/spectrum/fits/811407184: 500 Server Error:  for url: https://www.lamost.org/dr7/v2.0/spectrum/fits/811407184\n"
     ]
    },
    {
     "name": "stderr",
     "output_type": "stream",
     "text": [
      "Downloading:  16%|█▌        | 394/2533 [01:56<07:51,  4.53file/s]"
     ]
    },
    {
     "name": "stdout",
     "output_type": "stream",
     "text": [
      "Downloaded gal_spectra\\399705067\n"
     ]
    },
    {
     "name": "stderr",
     "output_type": "stream",
     "text": [
      "Downloading:  16%|█▌        | 395/2533 [01:57<12:10,  2.93file/s]"
     ]
    },
    {
     "name": "stdout",
     "output_type": "stream",
     "text": [
      "Downloaded gal_spectra\\500415044\n"
     ]
    },
    {
     "name": "stderr",
     "output_type": "stream",
     "text": [
      "Downloading:  16%|█▌        | 396/2533 [01:58<11:49,  3.01file/s]"
     ]
    },
    {
     "name": "stdout",
     "output_type": "stream",
     "text": [
      "Downloaded gal_spectra\\281809002\n"
     ]
    },
    {
     "name": "stderr",
     "output_type": "stream",
     "text": [
      "Downloading:  16%|█▌        | 397/2533 [01:58<12:35,  2.83file/s]"
     ]
    },
    {
     "name": "stdout",
     "output_type": "stream",
     "text": [
      "Downloaded gal_spectra\\734606004\n",
      "Downloaded gal_spectra\\499216101\n"
     ]
    },
    {
     "name": "stderr",
     "output_type": "stream",
     "text": [
      "Downloading:  16%|█▌        | 399/2533 [01:58<09:58,  3.56file/s]"
     ]
    },
    {
     "name": "stdout",
     "output_type": "stream",
     "text": [
      "Downloaded gal_spectra\\281804169\n",
      "Downloaded gal_spectra\\285012098\n",
      "Failed to download https://www.lamost.org/dr7/v2.0/spectrum/fits/911913058: 500 Server Error:  for url: https://www.lamost.org/dr7/v2.0/spectrum/fits/911913058\n"
     ]
    },
    {
     "name": "stderr",
     "output_type": "stream",
     "text": [
      "Downloading:  16%|█▌        | 402/2533 [01:59<07:12,  4.93file/s]"
     ]
    },
    {
     "name": "stdout",
     "output_type": "stream",
     "text": [
      "Downloaded gal_spectra\\300416235\n",
      "Downloaded gal_spectra\\285012052\n"
     ]
    },
    {
     "name": "stderr",
     "output_type": "stream",
     "text": [
      "Downloading:  16%|█▌        | 404/2533 [01:59<09:36,  3.69file/s]"
     ]
    },
    {
     "name": "stdout",
     "output_type": "stream",
     "text": [
      "Downloaded gal_spectra\\742904155\n",
      "Downloaded gal_spectra\\343003114\n",
      "Failed to download https://www.lamost.org/dr7/v2.0/spectrum/fits/911912232: 500 Server Error:  for url: https://www.lamost.org/dr7/v2.0/spectrum/fits/911912232\n"
     ]
    },
    {
     "name": "stderr",
     "output_type": "stream",
     "text": [
      "Downloading:  16%|█▌        | 407/2533 [02:00<07:14,  4.90file/s]"
     ]
    },
    {
     "name": "stdout",
     "output_type": "stream",
     "text": [
      "Failed to download https://www.lamost.org/dr7/v2.0/spectrum/fits/782510021: 500 Server Error:  for url: https://www.lamost.org/dr7/v2.0/spectrum/fits/782510021\n"
     ]
    },
    {
     "name": "stderr",
     "output_type": "stream",
     "text": [
      "Downloading:  16%|█▌        | 408/2533 [02:00<08:23,  4.22file/s]"
     ]
    },
    {
     "name": "stdout",
     "output_type": "stream",
     "text": [
      "Downloaded gal_spectra\\439205059\n"
     ]
    },
    {
     "name": "stderr",
     "output_type": "stream",
     "text": [
      "Downloading:  16%|█▌        | 409/2533 [02:01<09:22,  3.77file/s]"
     ]
    },
    {
     "name": "stdout",
     "output_type": "stream",
     "text": [
      "Failed to download https://www.lamost.org/dr7/v2.0/spectrum/fits/782502035: 500 Server Error:  for url: https://www.lamost.org/dr7/v2.0/spectrum/fits/782502035\n"
     ]
    },
    {
     "name": "stderr",
     "output_type": "stream",
     "text": [
      "Downloading:  16%|█▌        | 410/2533 [02:01<10:23,  3.41file/s]"
     ]
    },
    {
     "name": "stdout",
     "output_type": "stream",
     "text": [
      "Downloaded gal_spectra\\439204173\n",
      "Downloaded gal_spectra\\450112034\n"
     ]
    },
    {
     "name": "stderr",
     "output_type": "stream",
     "text": [
      "Downloading:  16%|█▋        | 412/2533 [02:01<08:40,  4.08file/s]"
     ]
    },
    {
     "name": "stdout",
     "output_type": "stream",
     "text": [
      "Downloaded gal_spectra\\643910213\n",
      "Failed to download https://www.lamost.org/dr7/v2.0/spectrum/fits/782504229: 500 Server Error:  for url: https://www.lamost.org/dr7/v2.0/spectrum/fits/782504229\n",
      "Downloaded gal_spectra\\552308089\n"
     ]
    },
    {
     "name": "stderr",
     "output_type": "stream",
     "text": [
      "Downloading:  16%|█▋        | 415/2533 [02:02<06:11,  5.70file/s]"
     ]
    },
    {
     "name": "stdout",
     "output_type": "stream",
     "text": [
      "Downloaded gal_spectra\\450111027\n"
     ]
    },
    {
     "name": "stderr",
     "output_type": "stream",
     "text": [
      "Downloading:  16%|█▋        | 416/2533 [02:02<06:49,  5.17file/s]"
     ]
    },
    {
     "name": "stdout",
     "output_type": "stream",
     "text": [
      "Downloaded gal_spectra\\321408081\n"
     ]
    },
    {
     "name": "stderr",
     "output_type": "stream",
     "text": [
      "Downloading:  16%|█▋        | 417/2533 [02:02<07:39,  4.61file/s]"
     ]
    },
    {
     "name": "stdout",
     "output_type": "stream",
     "text": [
      "Failed to download https://www.lamost.org/dr7/v2.0/spectrum/fits/781301214: 500 Server Error:  for url: https://www.lamost.org/dr7/v2.0/spectrum/fits/781301214\n"
     ]
    },
    {
     "name": "stderr",
     "output_type": "stream",
     "text": [
      "Downloading:  17%|█▋        | 418/2533 [02:02<07:56,  4.44file/s]"
     ]
    },
    {
     "name": "stdout",
     "output_type": "stream",
     "text": [
      "Downloaded gal_spectra\\657412051\n",
      "Failed to download https://www.lamost.org/dr7/v2.0/spectrum/fits/782512079: 500 Server Error:  for url: https://www.lamost.org/dr7/v2.0/spectrum/fits/782512079\n"
     ]
    },
    {
     "name": "stderr",
     "output_type": "stream",
     "text": [
      "Downloading:  17%|█▋        | 421/2533 [02:03<08:04,  4.36file/s]"
     ]
    },
    {
     "name": "stdout",
     "output_type": "stream",
     "text": [
      "Failed to download https://www.lamost.org/dr7/v2.0/spectrum/fits/782504064: 500 Server Error:  for url: https://www.lamost.org/dr7/v2.0/spectrum/fits/782504064\n",
      "Downloaded gal_spectra\\321412104\n"
     ]
    },
    {
     "name": "stderr",
     "output_type": "stream",
     "text": [
      "Downloading:  17%|█▋        | 422/2533 [02:04<10:27,  3.36file/s]"
     ]
    },
    {
     "name": "stdout",
     "output_type": "stream",
     "text": [
      "Downloaded gal_spectra\\641404039\n"
     ]
    },
    {
     "name": "stderr",
     "output_type": "stream",
     "text": [
      "Downloading:  17%|█▋        | 423/2533 [02:04<10:52,  3.24file/s]"
     ]
    },
    {
     "name": "stdout",
     "output_type": "stream",
     "text": [
      "Downloaded gal_spectra\\552316204\n"
     ]
    },
    {
     "name": "stderr",
     "output_type": "stream",
     "text": [
      "Downloading:  17%|█▋        | 425/2533 [02:04<09:25,  3.72file/s]"
     ]
    },
    {
     "name": "stdout",
     "output_type": "stream",
     "text": [
      "Downloaded gal_spectra\\320801232\n",
      "Downloaded gal_spectra\\321411052\n",
      "Downloaded gal_spectra\\641412059\n"
     ]
    },
    {
     "name": "stderr",
     "output_type": "stream",
     "text": [
      "Downloading:  17%|█▋        | 428/2533 [02:05<06:38,  5.28file/s]"
     ]
    },
    {
     "name": "stdout",
     "output_type": "stream",
     "text": [
      "Failed to download https://www.lamost.org/dr7/v2.0/spectrum/fits/782513207: 500 Server Error:  for url: https://www.lamost.org/dr7/v2.0/spectrum/fits/782513207\n",
      "Downloaded gal_spectra\\321412134\n"
     ]
    },
    {
     "name": "stderr",
     "output_type": "stream",
     "text": [
      "Downloading:  17%|█▋        | 429/2533 [02:05<07:44,  4.53file/s]"
     ]
    },
    {
     "name": "stdout",
     "output_type": "stream",
     "text": [
      "Failed to download https://www.lamost.org/dr7/v2.0/spectrum/fits/782511035: 500 Server Error:  for url: https://www.lamost.org/dr7/v2.0/spectrum/fits/782511035\n",
      "Downloaded gal_spectra\\641402208\n"
     ]
    },
    {
     "name": "stderr",
     "output_type": "stream",
     "text": [
      "Downloading:  17%|█▋        | 431/2533 [02:05<06:13,  5.63file/s]"
     ]
    },
    {
     "name": "stdout",
     "output_type": "stream",
     "text": [
      "Failed to download https://www.lamost.org/dr7/v2.0/spectrum/fits/781304248: 500 Server Error:  for url: https://www.lamost.org/dr7/v2.0/spectrum/fits/781304248\n"
     ]
    },
    {
     "name": "stderr",
     "output_type": "stream",
     "text": [
      "Downloading:  17%|█▋        | 433/2533 [02:06<06:09,  5.69file/s]"
     ]
    },
    {
     "name": "stdout",
     "output_type": "stream",
     "text": [
      "Failed to download https://www.lamost.org/dr7/v2.0/spectrum/fits/781313108: 500 Server Error:  for url: https://www.lamost.org/dr7/v2.0/spectrum/fits/781313108\n",
      "Failed to download https://www.lamost.org/dr7/v2.0/spectrum/fits/781304202: 500 Server Error:  for url: https://www.lamost.org/dr7/v2.0/spectrum/fits/781304202\n",
      "Downloaded gal_spectra\\527002091\n"
     ]
    },
    {
     "name": "stderr",
     "output_type": "stream",
     "text": [
      "Downloading:  17%|█▋        | 435/2533 [02:06<06:30,  5.38file/s]"
     ]
    },
    {
     "name": "stdout",
     "output_type": "stream",
     "text": [
      "Downloaded gal_spectra\\320802233\n"
     ]
    },
    {
     "name": "stderr",
     "output_type": "stream",
     "text": [
      "Downloading:  17%|█▋        | 436/2533 [02:07<11:13,  3.11file/s]"
     ]
    },
    {
     "name": "stdout",
     "output_type": "stream",
     "text": [
      "Failed to download https://www.lamost.org/dr7/v2.0/spectrum/fits/811806038: 500 Server Error:  for url: https://www.lamost.org/dr7/v2.0/spectrum/fits/811806038\n"
     ]
    },
    {
     "name": "stderr",
     "output_type": "stream",
     "text": [
      "Downloading:  17%|█▋        | 437/2533 [02:07<11:50,  2.95file/s]"
     ]
    },
    {
     "name": "stdout",
     "output_type": "stream",
     "text": [
      "Downloaded gal_spectra\\320807180\n",
      "Failed to download https://www.lamost.org/dr7/v2.0/spectrum/fits/811808059: 500 Server Error:  for url: https://www.lamost.org/dr7/v2.0/spectrum/fits/811808059\n"
     ]
    },
    {
     "name": "stderr",
     "output_type": "stream",
     "text": [
      "Downloading:  17%|█▋        | 439/2533 [02:08<08:58,  3.89file/s]"
     ]
    },
    {
     "name": "stdout",
     "output_type": "stream",
     "text": [
      "Downloaded gal_spectra\\620016011\n"
     ]
    },
    {
     "name": "stderr",
     "output_type": "stream",
     "text": [
      "Downloading:  17%|█▋        | 440/2533 [02:08<09:27,  3.69file/s]"
     ]
    },
    {
     "name": "stdout",
     "output_type": "stream",
     "text": [
      "Downloaded gal_spectra\\399713028\n"
     ]
    },
    {
     "name": "stderr",
     "output_type": "stream",
     "text": [
      "Downloading:  17%|█▋        | 441/2533 [02:08<11:05,  3.14file/s]"
     ]
    },
    {
     "name": "stdout",
     "output_type": "stream",
     "text": [
      "Downloaded gal_spectra\\399706076\n",
      "Downloaded gal_spectra\\210215130\n"
     ]
    },
    {
     "name": "stderr",
     "output_type": "stream",
     "text": [
      "Downloading:  17%|█▋        | 443/2533 [02:09<08:11,  4.25file/s]"
     ]
    },
    {
     "name": "stdout",
     "output_type": "stream",
     "text": [
      "Downloaded gal_spectra\\302416065\n"
     ]
    },
    {
     "name": "stderr",
     "output_type": "stream",
     "text": [
      "Downloading:  18%|█▊        | 444/2533 [02:09<08:54,  3.91file/s]"
     ]
    },
    {
     "name": "stdout",
     "output_type": "stream",
     "text": [
      "Downloaded gal_spectra\\302409068\n",
      "Downloaded gal_spectra\\632305212\n"
     ]
    },
    {
     "name": "stderr",
     "output_type": "stream",
     "text": [
      "Downloading:  18%|█▊        | 446/2533 [02:10<09:05,  3.83file/s]"
     ]
    },
    {
     "name": "stdout",
     "output_type": "stream",
     "text": [
      "Downloaded gal_spectra\\632301100\n"
     ]
    },
    {
     "name": "stderr",
     "output_type": "stream",
     "text": [
      "Downloading:  18%|█▊        | 447/2533 [02:10<08:49,  3.94file/s]"
     ]
    },
    {
     "name": "stdout",
     "output_type": "stream",
     "text": [
      "Downloaded gal_spectra\\318106242\n",
      "Failed to download https://www.lamost.org/dr7/v2.0/spectrum/fits/782514229: 500 Server Error:  for url: https://www.lamost.org/dr7/v2.0/spectrum/fits/782514229\n"
     ]
    },
    {
     "name": "stderr",
     "output_type": "stream",
     "text": [
      "Downloading:  18%|█▊        | 451/2533 [02:11<08:28,  4.09file/s]"
     ]
    },
    {
     "name": "stdout",
     "output_type": "stream",
     "text": [
      "Downloaded gal_spectra\\733108208\n",
      "Downloaded gal_spectra\\632307150\n",
      "Failed to download https://www.lamost.org/dr7/v2.0/spectrum/fits/782514245: 500 Server Error:  for url: https://www.lamost.org/dr7/v2.0/spectrum/fits/782514245\n"
     ]
    },
    {
     "name": "stderr",
     "output_type": "stream",
     "text": [
      "Downloading:  18%|█▊        | 452/2533 [02:11<08:09,  4.25file/s]"
     ]
    },
    {
     "name": "stdout",
     "output_type": "stream",
     "text": [
      "Downloaded gal_spectra\\109008158\n"
     ]
    },
    {
     "name": "stderr",
     "output_type": "stream",
     "text": [
      "Downloading:  18%|█▊        | 454/2533 [02:12<09:15,  3.74file/s]"
     ]
    },
    {
     "name": "stdout",
     "output_type": "stream",
     "text": [
      "Downloaded gal_spectra\\733101240\n",
      "Downloaded gal_spectra\\632308020\n",
      "Downloaded gal_spectra\\632305161\n"
     ]
    },
    {
     "name": "stderr",
     "output_type": "stream",
     "text": [
      "Downloading:  18%|█▊        | 456/2533 [02:12<10:37,  3.26file/s]"
     ]
    },
    {
     "name": "stdout",
     "output_type": "stream",
     "text": [
      "Downloaded gal_spectra\\318113111\n"
     ]
    },
    {
     "name": "stderr",
     "output_type": "stream",
     "text": [
      "Downloading:  18%|█▊        | 457/2533 [02:13<11:20,  3.05file/s]"
     ]
    },
    {
     "name": "stdout",
     "output_type": "stream",
     "text": [
      "Downloaded gal_spectra\\632310028\n"
     ]
    },
    {
     "name": "stderr",
     "output_type": "stream",
     "text": [
      "Downloading:  18%|█▊        | 459/2533 [02:14<11:11,  3.09file/s]"
     ]
    },
    {
     "name": "stdout",
     "output_type": "stream",
     "text": [
      "Downloaded gal_spectra\\399711235\n"
     ]
    },
    {
     "name": "stderr",
     "output_type": "stream",
     "text": [
      "Downloading:  18%|█▊        | 460/2533 [02:14<09:58,  3.46file/s]"
     ]
    },
    {
     "name": "stdout",
     "output_type": "stream",
     "text": [
      "Downloaded gal_spectra\\632307138\n",
      "Downloaded gal_spectra\\399709205\n"
     ]
    },
    {
     "name": "stderr",
     "output_type": "stream",
     "text": [
      "Downloading:  18%|█▊        | 461/2533 [02:14<13:12,  2.62file/s]"
     ]
    },
    {
     "name": "stdout",
     "output_type": "stream",
     "text": [
      "Downloaded gal_spectra\\109010133\n"
     ]
    },
    {
     "name": "stderr",
     "output_type": "stream",
     "text": [
      "Downloading:  18%|█▊        | 462/2533 [02:15<12:53,  2.68file/s]"
     ]
    },
    {
     "name": "stdout",
     "output_type": "stream",
     "text": [
      "Downloaded gal_spectra\\318103100\n",
      "Downloaded gal_spectra\\632310240\n"
     ]
    },
    {
     "name": "stderr",
     "output_type": "stream",
     "text": [
      "Downloading:  18%|█▊        | 464/2533 [02:16<13:35,  2.54file/s]"
     ]
    },
    {
     "name": "stdout",
     "output_type": "stream",
     "text": [
      "Downloaded gal_spectra\\632314117\n",
      "Downloaded gal_spectra\\281412052\n",
      "Downloaded gal_spectra\\632315158\n"
     ]
    },
    {
     "name": "stderr",
     "output_type": "stream",
     "text": [
      "Downloading:  18%|█▊        | 467/2533 [02:17<12:24,  2.77file/s]"
     ]
    },
    {
     "name": "stdout",
     "output_type": "stream",
     "text": [
      "Downloaded gal_spectra\\301107092\n"
     ]
    },
    {
     "name": "stderr",
     "output_type": "stream",
     "text": [
      "Downloading:  19%|█▊        | 469/2533 [02:17<11:15,  3.05file/s]"
     ]
    },
    {
     "name": "stdout",
     "output_type": "stream",
     "text": [
      "Downloaded gal_spectra\\733103049\n",
      "Downloaded gal_spectra\\632315067\n"
     ]
    },
    {
     "name": "stderr",
     "output_type": "stream",
     "text": [
      "Downloading:  19%|█▊        | 470/2533 [02:18<15:50,  2.17file/s]"
     ]
    },
    {
     "name": "stdout",
     "output_type": "stream",
     "text": [
      "Downloaded gal_spectra\\733114179\n"
     ]
    },
    {
     "name": "stderr",
     "output_type": "stream",
     "text": [
      "Downloading:  19%|█▊        | 473/2533 [02:18<09:11,  3.73file/s]"
     ]
    },
    {
     "name": "stdout",
     "output_type": "stream",
     "text": [
      "Downloaded gal_spectra\\109015158\n",
      "Downloaded gal_spectra\\733103135\n",
      "Downloaded gal_spectra\\398606046\n",
      "Downloaded gal_spectra\\632316246\n"
     ]
    },
    {
     "name": "stderr",
     "output_type": "stream",
     "text": [
      "Downloading:  19%|█▉        | 475/2533 [02:19<10:07,  3.39file/s]"
     ]
    },
    {
     "name": "stdout",
     "output_type": "stream",
     "text": [
      "Downloaded gal_spectra\\559101087\n",
      "Downloaded gal_spectra\\649507033\n"
     ]
    },
    {
     "name": "stderr",
     "output_type": "stream",
     "text": [
      "Downloading:  19%|█▉        | 477/2533 [02:19<07:57,  4.31file/s]"
     ]
    },
    {
     "name": "stdout",
     "output_type": "stream",
     "text": [
      "Downloaded gal_spectra\\649508135\n"
     ]
    },
    {
     "name": "stderr",
     "output_type": "stream",
     "text": [
      "Downloading:  19%|█▉        | 478/2533 [02:20<11:27,  2.99file/s]"
     ]
    },
    {
     "name": "stdout",
     "output_type": "stream",
     "text": [
      "Downloaded gal_spectra\\504002203\n"
     ]
    },
    {
     "name": "stderr",
     "output_type": "stream",
     "text": [
      "Downloading:  19%|█▉        | 479/2533 [02:21<12:21,  2.77file/s]"
     ]
    },
    {
     "name": "stdout",
     "output_type": "stream",
     "text": [
      "Downloaded gal_spectra\\504003018\n",
      "Downloaded gal_spectra\\615206198\n"
     ]
    },
    {
     "name": "stderr",
     "output_type": "stream",
     "text": [
      "Downloading:  19%|█▉        | 481/2533 [02:21<08:58,  3.81file/s]"
     ]
    },
    {
     "name": "stdout",
     "output_type": "stream",
     "text": [
      "Downloaded gal_spectra\\399712110\n"
     ]
    },
    {
     "name": "stderr",
     "output_type": "stream",
     "text": [
      "Downloading:  19%|█▉        | 483/2533 [02:21<09:27,  3.61file/s]"
     ]
    },
    {
     "name": "stdout",
     "output_type": "stream",
     "text": [
      "Downloaded gal_spectra\\641416227\n",
      "Downloaded gal_spectra\\301113025\n"
     ]
    },
    {
     "name": "stderr",
     "output_type": "stream",
     "text": [
      "Downloading:  19%|█▉        | 484/2533 [02:22<09:40,  3.53file/s]"
     ]
    },
    {
     "name": "stdout",
     "output_type": "stream",
     "text": [
      "Failed to download https://www.lamost.org/dr7/v2.0/spectrum/fits/781303114: 500 Server Error:  for url: https://www.lamost.org/dr7/v2.0/spectrum/fits/781303114\n"
     ]
    },
    {
     "name": "stderr",
     "output_type": "stream",
     "text": [
      "Downloading:  19%|█▉        | 485/2533 [02:22<11:22,  3.00file/s]"
     ]
    },
    {
     "name": "stdout",
     "output_type": "stream",
     "text": [
      "Downloaded gal_spectra\\723801193\n"
     ]
    },
    {
     "name": "stderr",
     "output_type": "stream",
     "text": [
      "Downloading:  19%|█▉        | 488/2533 [02:23<08:26,  4.04file/s]"
     ]
    },
    {
     "name": "stdout",
     "output_type": "stream",
     "text": [
      "Downloaded gal_spectra\\733116217\n",
      "Downloaded gal_spectra\\527010249\n",
      "Downloaded gal_spectra\\320814183\n"
     ]
    },
    {
     "name": "stderr",
     "output_type": "stream",
     "text": [
      "Downloading:  19%|█▉        | 489/2533 [02:23<09:14,  3.68file/s]"
     ]
    },
    {
     "name": "stdout",
     "output_type": "stream",
     "text": [
      "Downloaded gal_spectra\\527010073\n"
     ]
    },
    {
     "name": "stderr",
     "output_type": "stream",
     "text": [
      "Downloading:  19%|█▉        | 490/2533 [02:24<10:00,  3.40file/s]"
     ]
    },
    {
     "name": "stdout",
     "output_type": "stream",
     "text": [
      "Downloaded gal_spectra\\320814138\n"
     ]
    },
    {
     "name": "stderr",
     "output_type": "stream",
     "text": [
      "Downloading:  19%|█▉        | 491/2533 [02:24<09:36,  3.54file/s]"
     ]
    },
    {
     "name": "stdout",
     "output_type": "stream",
     "text": [
      "Downloaded gal_spectra\\140605236\n"
     ]
    },
    {
     "name": "stderr",
     "output_type": "stream",
     "text": [
      "Downloading:  19%|█▉        | 492/2533 [02:24<11:37,  2.92file/s]"
     ]
    },
    {
     "name": "stdout",
     "output_type": "stream",
     "text": [
      "Downloaded gal_spectra\\563005160\n",
      "Downloaded gal_spectra\\320815232\n"
     ]
    },
    {
     "name": "stderr",
     "output_type": "stream",
     "text": [
      "Downloading:  20%|█▉        | 494/2533 [02:25<09:42,  3.50file/s]"
     ]
    },
    {
     "name": "stdout",
     "output_type": "stream",
     "text": [
      "Downloaded gal_spectra\\723808191\n"
     ]
    },
    {
     "name": "stderr",
     "output_type": "stream",
     "text": [
      "Downloading:  20%|█▉        | 495/2533 [02:25<12:49,  2.65file/s]"
     ]
    },
    {
     "name": "stdout",
     "output_type": "stream",
     "text": [
      "Downloaded gal_spectra\\563005124\n"
     ]
    },
    {
     "name": "stderr",
     "output_type": "stream",
     "text": [
      "Downloading:  20%|█▉        | 497/2533 [02:26<13:19,  2.55file/s]"
     ]
    },
    {
     "name": "stdout",
     "output_type": "stream",
     "text": [
      "Failed to download https://www.lamost.org/dr7/v2.0/spectrum/fits/656402035: 500 Server Error:  for url: https://www.lamost.org/dr7/v2.0/spectrum/fits/656402035\n",
      "Downloaded gal_spectra\\210216006\n",
      "Downloaded gal_spectra\\563008082\n",
      "Downloaded gal_spectra\\504001182\n"
     ]
    },
    {
     "name": "stderr",
     "output_type": "stream",
     "text": [
      "Downloading:  20%|█▉        | 500/2533 [02:27<08:03,  4.21file/s]"
     ]
    },
    {
     "name": "stdout",
     "output_type": "stream",
     "text": [
      "Downloaded gal_spectra\\563008154\n"
     ]
    },
    {
     "name": "stderr",
     "output_type": "stream",
     "text": [
      "Downloading:  20%|█▉        | 502/2533 [02:27<09:55,  3.41file/s]"
     ]
    },
    {
     "name": "stdout",
     "output_type": "stream",
     "text": [
      "Downloaded gal_spectra\\656402147\n",
      "Downloaded gal_spectra\\301113015\n"
     ]
    },
    {
     "name": "stderr",
     "output_type": "stream",
     "text": [
      "Downloading:  20%|█▉        | 503/2533 [02:28<08:58,  3.77file/s]"
     ]
    },
    {
     "name": "stdout",
     "output_type": "stream",
     "text": [
      "Failed to download https://www.lamost.org/dr7/v2.0/spectrum/fits/781311137: 500 Server Error:  for url: https://www.lamost.org/dr7/v2.0/spectrum/fits/781311137\n"
     ]
    },
    {
     "name": "stderr",
     "output_type": "stream",
     "text": [
      "Downloading:  20%|█▉        | 505/2533 [02:28<10:15,  3.29file/s]"
     ]
    },
    {
     "name": "stdout",
     "output_type": "stream",
     "text": [
      "Downloaded gal_spectra\\723810236\n",
      "Downloaded gal_spectra\\504007175\n",
      "Downloaded gal_spectra\\504006076\n"
     ]
    },
    {
     "name": "stderr",
     "output_type": "stream",
     "text": [
      "Downloading:  20%|██        | 507/2533 [02:29<12:59,  2.60file/s]"
     ]
    },
    {
     "name": "stdout",
     "output_type": "stream",
     "text": [
      "Downloaded gal_spectra\\563003197\n"
     ]
    },
    {
     "name": "stderr",
     "output_type": "stream",
     "text": [
      "Downloading:  20%|██        | 508/2533 [02:30<11:59,  2.81file/s]"
     ]
    },
    {
     "name": "stdout",
     "output_type": "stream",
     "text": [
      "Downloaded gal_spectra\\140715118\n",
      "Downloaded gal_spectra\\140615051\n"
     ]
    },
    {
     "name": "stderr",
     "output_type": "stream",
     "text": [
      "Downloading:  20%|██        | 510/2533 [02:30<10:20,  3.26file/s]"
     ]
    },
    {
     "name": "stdout",
     "output_type": "stream",
     "text": [
      "Downloaded gal_spectra\\504008004\n"
     ]
    },
    {
     "name": "stderr",
     "output_type": "stream",
     "text": [
      "Downloading:  20%|██        | 511/2533 [02:31<11:23,  2.96file/s]"
     ]
    },
    {
     "name": "stdout",
     "output_type": "stream",
     "text": [
      "Downloaded gal_spectra\\140614067\n",
      "Downloaded gal_spectra\\723816026\n"
     ]
    },
    {
     "name": "stderr",
     "output_type": "stream",
     "text": [
      "Downloading:  20%|██        | 513/2533 [02:31<11:22,  2.96file/s]"
     ]
    },
    {
     "name": "stdout",
     "output_type": "stream",
     "text": [
      "Downloaded gal_spectra\\504012077\n",
      "Failed to download https://www.lamost.org/dr7/v2.0/spectrum/fits/890704130: 500 Server Error:  for url: https://www.lamost.org/dr7/v2.0/spectrum/fits/890704130\n"
     ]
    },
    {
     "name": "stderr",
     "output_type": "stream",
     "text": [
      "Downloading:  20%|██        | 515/2533 [02:31<08:39,  3.89file/s]"
     ]
    },
    {
     "name": "stdout",
     "output_type": "stream",
     "text": [
      "Downloaded gal_spectra\\723810238\n"
     ]
    },
    {
     "name": "stderr",
     "output_type": "stream",
     "text": [
      "Downloading:  20%|██        | 516/2533 [02:32<09:33,  3.51file/s]"
     ]
    },
    {
     "name": "stdout",
     "output_type": "stream",
     "text": [
      "Downloaded gal_spectra\\525809211\n"
     ]
    },
    {
     "name": "stderr",
     "output_type": "stream",
     "text": [
      "Downloading:  20%|██        | 517/2533 [02:32<11:58,  2.81file/s]"
     ]
    },
    {
     "name": "stdout",
     "output_type": "stream",
     "text": [
      "Downloaded gal_spectra\\723811076\n",
      "Downloaded gal_spectra\\322007020\n"
     ]
    },
    {
     "name": "stderr",
     "output_type": "stream",
     "text": [
      "Downloading:  20%|██        | 519/2533 [02:33<10:37,  3.16file/s]"
     ]
    },
    {
     "name": "stdout",
     "output_type": "stream",
     "text": [
      "Downloaded gal_spectra\\322008058\n"
     ]
    },
    {
     "name": "stderr",
     "output_type": "stream",
     "text": [
      "Downloading:  21%|██        | 521/2533 [02:33<09:44,  3.44file/s]"
     ]
    },
    {
     "name": "stdout",
     "output_type": "stream",
     "text": [
      "Downloaded gal_spectra\\188212233\n",
      "Downloaded gal_spectra\\525815017\n"
     ]
    },
    {
     "name": "stderr",
     "output_type": "stream",
     "text": [
      "Downloading:  21%|██        | 522/2533 [02:34<08:34,  3.91file/s]"
     ]
    },
    {
     "name": "stdout",
     "output_type": "stream",
     "text": [
      "Downloaded gal_spectra\\220606070\n"
     ]
    },
    {
     "name": "stderr",
     "output_type": "stream",
     "text": [
      "Downloading:  21%|██        | 523/2533 [02:34<08:40,  3.86file/s]"
     ]
    },
    {
     "name": "stdout",
     "output_type": "stream",
     "text": [
      "Downloaded gal_spectra\\400914187\n"
     ]
    },
    {
     "name": "stderr",
     "output_type": "stream",
     "text": [
      "Downloading:  21%|██        | 525/2533 [02:35<10:25,  3.21file/s]"
     ]
    },
    {
     "name": "stdout",
     "output_type": "stream",
     "text": [
      "Downloaded gal_spectra\\307508112\n",
      "Downloaded gal_spectra\\651010222\n"
     ]
    },
    {
     "name": "stderr",
     "output_type": "stream",
     "text": [
      "Downloading:  21%|██        | 527/2533 [02:36<12:24,  2.70file/s]"
     ]
    },
    {
     "name": "stdout",
     "output_type": "stream",
     "text": [
      "Downloaded gal_spectra\\404708005\n",
      "Downloaded gal_spectra\\402109237\n"
     ]
    },
    {
     "name": "stderr",
     "output_type": "stream",
     "text": [
      "Downloading:  21%|██        | 528/2533 [02:36<13:00,  2.57file/s]"
     ]
    },
    {
     "name": "stdout",
     "output_type": "stream",
     "text": [
      "Downloaded gal_spectra\\342401137\n"
     ]
    },
    {
     "name": "stderr",
     "output_type": "stream",
     "text": [
      "Downloading:  21%|██        | 529/2533 [02:36<12:27,  2.68file/s]"
     ]
    },
    {
     "name": "stdout",
     "output_type": "stream",
     "text": [
      "Downloaded gal_spectra\\504311205\n"
     ]
    },
    {
     "name": "stderr",
     "output_type": "stream",
     "text": [
      "Downloading:  21%|██        | 530/2533 [02:37<13:00,  2.57file/s]"
     ]
    },
    {
     "name": "stdout",
     "output_type": "stream",
     "text": [
      "Downloaded gal_spectra\\504309169\n"
     ]
    },
    {
     "name": "stderr",
     "output_type": "stream",
     "text": [
      "Downloading:  21%|██        | 532/2533 [02:38<11:02,  3.02file/s]"
     ]
    },
    {
     "name": "stdout",
     "output_type": "stream",
     "text": [
      "Downloaded gal_spectra\\404707039\n",
      "Downloaded gal_spectra\\402115152\n"
     ]
    },
    {
     "name": "stderr",
     "output_type": "stream",
     "text": [
      "Downloading:  21%|██        | 535/2533 [02:38<09:27,  3.52file/s]"
     ]
    },
    {
     "name": "stdout",
     "output_type": "stream",
     "text": [
      "Downloaded gal_spectra\\500306245\n",
      "Downloaded gal_spectra\\404703053\n"
     ]
    },
    {
     "name": "stderr",
     "output_type": "stream",
     "text": [
      "Downloading:  21%|██        | 537/2533 [02:39<06:29,  5.12file/s]"
     ]
    },
    {
     "name": "stdout",
     "output_type": "stream",
     "text": [
      "Downloaded gal_spectra\\402113146\n",
      "Downloaded gal_spectra\\189212163\n",
      "Downloaded gal_spectra\\299607167\n"
     ]
    },
    {
     "name": "stderr",
     "output_type": "stream",
     "text": [
      "Downloading:  21%|██▏       | 539/2533 [02:40<10:48,  3.07file/s]"
     ]
    },
    {
     "name": "stdout",
     "output_type": "stream",
     "text": [
      "Downloaded gal_spectra\\299602053\n",
      "Downloaded gal_spectra\\404716014\n",
      "Downloaded gal_spectra\\402113126\n"
     ]
    },
    {
     "name": "stderr",
     "output_type": "stream",
     "text": [
      "Downloading:  21%|██▏       | 541/2533 [02:40<07:34,  4.38file/s]"
     ]
    },
    {
     "name": "stdout",
     "output_type": "stream",
     "text": [
      "Downloaded gal_spectra\\402115180\n"
     ]
    },
    {
     "name": "stderr",
     "output_type": "stream",
     "text": [
      "Downloading:  21%|██▏       | 542/2533 [02:41<10:09,  3.27file/s]"
     ]
    },
    {
     "name": "stdout",
     "output_type": "stream",
     "text": [
      "Downloaded gal_spectra\\400915227\n",
      "Downloaded gal_spectra\\732115167\n"
     ]
    },
    {
     "name": "stderr",
     "output_type": "stream",
     "text": [
      "Downloading:  21%|██▏       | 544/2533 [02:41<09:07,  3.63file/s]"
     ]
    },
    {
     "name": "stdout",
     "output_type": "stream",
     "text": [
      "Failed to download https://www.lamost.org/dr7/v2.0/spectrum/fits/811416095: 500 Server Error:  for url: https://www.lamost.org/dr7/v2.0/spectrum/fits/811416095\n"
     ]
    },
    {
     "name": "stderr",
     "output_type": "stream",
     "text": [
      "Downloading:  22%|██▏       | 545/2533 [02:41<09:01,  3.67file/s]"
     ]
    },
    {
     "name": "stdout",
     "output_type": "stream",
     "text": [
      "Downloaded gal_spectra\\404709037\n"
     ]
    },
    {
     "name": "stderr",
     "output_type": "stream",
     "text": [
      "Downloading:  22%|██▏       | 546/2533 [02:41<08:53,  3.73file/s]"
     ]
    },
    {
     "name": "stdout",
     "output_type": "stream",
     "text": [
      "Downloaded gal_spectra\\400911145\n"
     ]
    },
    {
     "name": "stderr",
     "output_type": "stream",
     "text": [
      "Downloading:  22%|██▏       | 547/2533 [02:42<11:09,  2.96file/s]"
     ]
    },
    {
     "name": "stdout",
     "output_type": "stream",
     "text": [
      "Downloaded gal_spectra\\398514209\n",
      "Downloaded gal_spectra\\734608062\n"
     ]
    },
    {
     "name": "stderr",
     "output_type": "stream",
     "text": [
      "Downloading:  22%|██▏       | 549/2533 [02:42<09:21,  3.53file/s]"
     ]
    },
    {
     "name": "stdout",
     "output_type": "stream",
     "text": [
      "Downloaded gal_spectra\\734601174\n"
     ]
    },
    {
     "name": "stderr",
     "output_type": "stream",
     "text": [
      "Downloading:  22%|██▏       | 550/2533 [02:44<18:21,  1.80file/s]"
     ]
    },
    {
     "name": "stdout",
     "output_type": "stream",
     "text": [
      "Downloaded gal_spectra\\562411223\n"
     ]
    },
    {
     "name": "stderr",
     "output_type": "stream",
     "text": [
      "Downloading:  22%|██▏       | 551/2533 [02:44<15:50,  2.09file/s]"
     ]
    },
    {
     "name": "stdout",
     "output_type": "stream",
     "text": [
      "Downloaded gal_spectra\\299608097\n",
      "Downloaded gal_spectra\\734609223\n"
     ]
    },
    {
     "name": "stderr",
     "output_type": "stream",
     "text": [
      "Downloading:  22%|██▏       | 553/2533 [02:45<11:51,  2.78file/s]"
     ]
    },
    {
     "name": "stdout",
     "output_type": "stream",
     "text": [
      "Downloaded gal_spectra\\711805100\n"
     ]
    },
    {
     "name": "stderr",
     "output_type": "stream",
     "text": [
      "Downloading:  22%|██▏       | 554/2533 [02:45<10:55,  3.02file/s]"
     ]
    },
    {
     "name": "stdout",
     "output_type": "stream",
     "text": [
      "Downloaded gal_spectra\\121607159\n"
     ]
    },
    {
     "name": "stderr",
     "output_type": "stream",
     "text": [
      "Downloading:  22%|██▏       | 555/2533 [02:45<11:02,  2.99file/s]"
     ]
    },
    {
     "name": "stdout",
     "output_type": "stream",
     "text": [
      "Downloaded gal_spectra\\614601044\n",
      "Downloaded gal_spectra\\711815233\n"
     ]
    },
    {
     "name": "stderr",
     "output_type": "stream",
     "text": [
      "Downloading:  22%|██▏       | 557/2533 [02:45<08:52,  3.71file/s]"
     ]
    },
    {
     "name": "stdout",
     "output_type": "stream",
     "text": [
      "Downloaded gal_spectra\\404711056\n"
     ]
    },
    {
     "name": "stderr",
     "output_type": "stream",
     "text": [
      "Downloading:  22%|██▏       | 558/2533 [02:46<12:28,  2.64file/s]"
     ]
    },
    {
     "name": "stdout",
     "output_type": "stream",
     "text": [
      "Downloaded gal_spectra\\711815232\n",
      "Downloaded gal_spectra\\734601208\n"
     ]
    },
    {
     "name": "stderr",
     "output_type": "stream",
     "text": [
      "Downloading:  22%|██▏       | 560/2533 [02:47<11:01,  2.98file/s]"
     ]
    },
    {
     "name": "stdout",
     "output_type": "stream",
     "text": [
      "Downloaded gal_spectra\\714215064\n"
     ]
    },
    {
     "name": "stderr",
     "output_type": "stream",
     "text": [
      "Downloading:  22%|██▏       | 563/2533 [02:47<08:45,  3.75file/s]"
     ]
    },
    {
     "name": "stdout",
     "output_type": "stream",
     "text": [
      "Failed to download https://www.lamost.org/dr7/v2.0/spectrum/fits/870713239: 500 Server Error:  for url: https://www.lamost.org/dr7/v2.0/spectrum/fits/870713239\n",
      "Downloaded gal_spectra\\734611127\n",
      "Downloaded gal_spectra\\121601182\n"
     ]
    },
    {
     "name": "stderr",
     "output_type": "stream",
     "text": [
      "Downloading:  22%|██▏       | 564/2533 [02:48<09:57,  3.29file/s]"
     ]
    },
    {
     "name": "stdout",
     "output_type": "stream",
     "text": [
      "Downloaded gal_spectra\\334405223\n",
      "Downloaded gal_spectra\\733001202\n"
     ]
    },
    {
     "name": "stderr",
     "output_type": "stream",
     "text": [
      "Downloading:  22%|██▏       | 567/2533 [02:48<07:24,  4.42file/s]"
     ]
    },
    {
     "name": "stdout",
     "output_type": "stream",
     "text": [
      "Downloaded gal_spectra\\547616131\n",
      "Downloaded gal_spectra\\213104222\n"
     ]
    },
    {
     "name": "stderr",
     "output_type": "stream",
     "text": [
      "Downloading:  22%|██▏       | 568/2533 [02:49<08:16,  3.96file/s]"
     ]
    },
    {
     "name": "stdout",
     "output_type": "stream",
     "text": [
      "Downloaded gal_spectra\\438613027\n"
     ]
    },
    {
     "name": "stderr",
     "output_type": "stream",
     "text": [
      "Downloading:  22%|██▏       | 569/2533 [02:49<11:21,  2.88file/s]"
     ]
    },
    {
     "name": "stdout",
     "output_type": "stream",
     "text": [
      "Downloaded gal_spectra\\500309008\n"
     ]
    },
    {
     "name": "stderr",
     "output_type": "stream",
     "text": [
      "Downloading:  23%|██▎       | 570/2533 [02:50<10:55,  3.00file/s]"
     ]
    },
    {
     "name": "stdout",
     "output_type": "stream",
     "text": [
      "Downloaded gal_spectra\\213111023\n",
      "Downloaded gal_spectra\\422506249\n"
     ]
    },
    {
     "name": "stderr",
     "output_type": "stream",
     "text": [
      "Downloading:  23%|██▎       | 575/2533 [02:51<07:23,  4.41file/s]"
     ]
    },
    {
     "name": "stdout",
     "output_type": "stream",
     "text": [
      "Downloaded gal_spectra\\422508086\n",
      "Downloaded gal_spectra\\422506046\n",
      "Downloaded gal_spectra\\698802249\n",
      "Downloaded gal_spectra\\698810110\n"
     ]
    },
    {
     "name": "stderr",
     "output_type": "stream",
     "text": [
      "Downloading:  23%|██▎       | 578/2533 [02:51<05:56,  5.49file/s]"
     ]
    },
    {
     "name": "stdout",
     "output_type": "stream",
     "text": [
      "Downloaded gal_spectra\\698803138\n",
      "Downloaded gal_spectra\\500311214\n",
      "Downloaded gal_spectra\\698814027\n"
     ]
    },
    {
     "name": "stderr",
     "output_type": "stream",
     "text": [
      "Downloading:  23%|██▎       | 579/2533 [02:52<09:17,  3.50file/s]"
     ]
    },
    {
     "name": "stdout",
     "output_type": "stream",
     "text": [
      "Downloaded gal_spectra\\547008084\n"
     ]
    },
    {
     "name": "stderr",
     "output_type": "stream",
     "text": [
      "Downloading:  23%|██▎       | 580/2533 [02:52<11:08,  2.92file/s]"
     ]
    },
    {
     "name": "stdout",
     "output_type": "stream",
     "text": [
      "Downloaded gal_spectra\\698809096\n"
     ]
    },
    {
     "name": "stderr",
     "output_type": "stream",
     "text": [
      "Downloading:  23%|██▎       | 581/2533 [02:54<19:54,  1.63file/s]"
     ]
    },
    {
     "name": "stdout",
     "output_type": "stream",
     "text": [
      "Downloaded gal_spectra\\547012181\n"
     ]
    },
    {
     "name": "stderr",
     "output_type": "stream",
     "text": [
      "Downloading:  23%|██▎       | 582/2533 [02:54<16:34,  1.96file/s]"
     ]
    },
    {
     "name": "stdout",
     "output_type": "stream",
     "text": [
      "Downloaded gal_spectra\\417909237\n"
     ]
    },
    {
     "name": "stderr",
     "output_type": "stream",
     "text": [
      "Downloading:  23%|██▎       | 583/2533 [02:55<17:17,  1.88file/s]"
     ]
    },
    {
     "name": "stdout",
     "output_type": "stream",
     "text": [
      "Downloaded gal_spectra\\547012012\n"
     ]
    },
    {
     "name": "stderr",
     "output_type": "stream",
     "text": [
      "Downloading:  23%|██▎       | 584/2533 [02:55<16:47,  1.93file/s]"
     ]
    },
    {
     "name": "stdout",
     "output_type": "stream",
     "text": [
      "Downloaded gal_spectra\\422511057\n",
      "Downloaded gal_spectra\\422509212\n"
     ]
    },
    {
     "name": "stderr",
     "output_type": "stream",
     "text": [
      "Downloading:  23%|██▎       | 586/2533 [02:55<11:02,  2.94file/s]"
     ]
    },
    {
     "name": "stdout",
     "output_type": "stream",
     "text": [
      "Downloaded gal_spectra\\547013244\n"
     ]
    },
    {
     "name": "stderr",
     "output_type": "stream",
     "text": [
      "Downloading:  23%|██▎       | 587/2533 [02:56<11:09,  2.90file/s]"
     ]
    },
    {
     "name": "stdout",
     "output_type": "stream",
     "text": [
      "Downloaded gal_spectra\\698812246\n"
     ]
    },
    {
     "name": "stderr",
     "output_type": "stream",
     "text": [
      "Downloading:  23%|██▎       | 588/2533 [02:56<11:55,  2.72file/s]"
     ]
    },
    {
     "name": "stdout",
     "output_type": "stream",
     "text": [
      "Downloaded gal_spectra\\422505071\n"
     ]
    },
    {
     "name": "stderr",
     "output_type": "stream",
     "text": [
      "Downloading:  23%|██▎       | 589/2533 [02:57<15:18,  2.12file/s]"
     ]
    },
    {
     "name": "stdout",
     "output_type": "stream",
     "text": [
      "Downloaded gal_spectra\\422515233\n",
      "Downloaded gal_spectra\\499107231\n"
     ]
    },
    {
     "name": "stderr",
     "output_type": "stream",
     "text": [
      "Downloading:  23%|██▎       | 591/2533 [02:57<11:07,  2.91file/s]"
     ]
    },
    {
     "name": "stdout",
     "output_type": "stream",
     "text": [
      "Downloaded gal_spectra\\196413088\n"
     ]
    },
    {
     "name": "stderr",
     "output_type": "stream",
     "text": [
      "Downloading:  23%|██▎       | 592/2533 [02:57<10:10,  3.18file/s]"
     ]
    },
    {
     "name": "stdout",
     "output_type": "stream",
     "text": [
      "Downloaded gal_spectra\\499101081\n"
     ]
    },
    {
     "name": "stderr",
     "output_type": "stream",
     "text": [
      "Downloading:  23%|██▎       | 593/2533 [02:58<09:53,  3.27file/s]"
     ]
    },
    {
     "name": "stdout",
     "output_type": "stream",
     "text": [
      "Downloaded gal_spectra\\500901175\n",
      "Downloaded gal_spectra\\196507004\n"
     ]
    },
    {
     "name": "stderr",
     "output_type": "stream",
     "text": [
      "Downloading:  24%|██▎       | 596/2533 [02:59<11:24,  2.83file/s]"
     ]
    },
    {
     "name": "stdout",
     "output_type": "stream",
     "text": [
      "Downloaded gal_spectra\\500906035\n",
      "Downloaded gal_spectra\\301001021\n"
     ]
    },
    {
     "name": "stderr",
     "output_type": "stream",
     "text": [
      "Downloading:  24%|██▎       | 597/2533 [02:59<12:39,  2.55file/s]"
     ]
    },
    {
     "name": "stdout",
     "output_type": "stream",
     "text": [
      "Downloaded gal_spectra\\301008250\n",
      "Downloaded gal_spectra\\196404060\n"
     ]
    },
    {
     "name": "stderr",
     "output_type": "stream",
     "text": [
      "Downloading:  24%|██▎       | 600/2533 [03:00<09:03,  3.56file/s]"
     ]
    },
    {
     "name": "stdout",
     "output_type": "stream",
     "text": [
      "Downloaded gal_spectra\\730103047\n",
      "Downloaded gal_spectra\\301004128\n",
      "Downloaded gal_spectra\\730108165\n"
     ]
    },
    {
     "name": "stderr",
     "output_type": "stream",
     "text": [
      "Downloading:  24%|██▍       | 602/2533 [03:01<10:00,  3.21file/s]"
     ]
    },
    {
     "name": "stdout",
     "output_type": "stream",
     "text": [
      "Downloaded gal_spectra\\180712009\n"
     ]
    },
    {
     "name": "stderr",
     "output_type": "stream",
     "text": [
      "Downloading:  24%|██▍       | 603/2533 [03:02<13:15,  2.43file/s]"
     ]
    },
    {
     "name": "stdout",
     "output_type": "stream",
     "text": [
      "Downloaded gal_spectra\\301012222\n"
     ]
    },
    {
     "name": "stderr",
     "output_type": "stream",
     "text": [
      "Downloading:  24%|██▍       | 604/2533 [03:02<13:09,  2.44file/s]"
     ]
    },
    {
     "name": "stdout",
     "output_type": "stream",
     "text": [
      "Downloaded gal_spectra\\499108232\n"
     ]
    },
    {
     "name": "stderr",
     "output_type": "stream",
     "text": [
      "Downloading:  24%|██▍       | 605/2533 [03:02<13:33,  2.37file/s]"
     ]
    },
    {
     "name": "stdout",
     "output_type": "stream",
     "text": [
      "Downloaded gal_spectra\\730113191\n"
     ]
    },
    {
     "name": "stderr",
     "output_type": "stream",
     "text": [
      "Downloading:  24%|██▍       | 606/2533 [03:03<12:01,  2.67file/s]"
     ]
    },
    {
     "name": "stdout",
     "output_type": "stream",
     "text": [
      "Failed to download https://www.lamost.org/dr7/v2.0/spectrum/fits/866507042: 500 Server Error:  for url: https://www.lamost.org/dr7/v2.0/spectrum/fits/866507042\n"
     ]
    },
    {
     "name": "stderr",
     "output_type": "stream",
     "text": [
      "Downloading:  24%|██▍       | 607/2533 [03:03<12:15,  2.62file/s]"
     ]
    },
    {
     "name": "stdout",
     "output_type": "stream",
     "text": [
      "Downloaded gal_spectra\\733003036\n"
     ]
    },
    {
     "name": "stderr",
     "output_type": "stream",
     "text": [
      "Downloading:  24%|██▍       | 608/2533 [03:03<11:41,  2.74file/s]"
     ]
    },
    {
     "name": "stdout",
     "output_type": "stream",
     "text": [
      "Downloaded gal_spectra\\438615077\n",
      "Downloaded gal_spectra\\422504024\n"
     ]
    },
    {
     "name": "stderr",
     "output_type": "stream",
     "text": [
      "Downloading:  24%|██▍       | 610/2533 [03:04<08:03,  3.98file/s]"
     ]
    },
    {
     "name": "stdout",
     "output_type": "stream",
     "text": [
      "Downloaded gal_spectra\\730115022\n",
      "Downloaded gal_spectra\\334403125\n"
     ]
    },
    {
     "name": "stderr",
     "output_type": "stream",
     "text": [
      "Downloading:  24%|██▍       | 612/2533 [03:04<07:44,  4.14file/s]"
     ]
    },
    {
     "name": "stdout",
     "output_type": "stream",
     "text": [
      "Downloaded gal_spectra\\301012124\n"
     ]
    },
    {
     "name": "stderr",
     "output_type": "stream",
     "text": [
      "Downloading:  24%|██▍       | 615/2533 [03:05<06:56,  4.60file/s]"
     ]
    },
    {
     "name": "stdout",
     "output_type": "stream",
     "text": [
      "Failed to download https://www.lamost.org/dr7/v2.0/spectrum/fits/866508192: 500 Server Error:  for url: https://www.lamost.org/dr7/v2.0/spectrum/fits/866508192\n",
      "Failed to download https://www.lamost.org/dr7/v2.0/spectrum/fits/866505118: 500 Server Error:  for url: https://www.lamost.org/dr7/v2.0/spectrum/fits/866505118\n",
      "Downloaded gal_spectra\\121614146\n"
     ]
    },
    {
     "name": "stderr",
     "output_type": "stream",
     "text": [
      "Downloading:  24%|██▍       | 616/2533 [03:05<06:15,  5.10file/s]"
     ]
    },
    {
     "name": "stdout",
     "output_type": "stream",
     "text": [
      "Failed to download https://www.lamost.org/dr7/v2.0/spectrum/fits/782401099: 500 Server Error:  for url: https://www.lamost.org/dr7/v2.0/spectrum/fits/782401099\n"
     ]
    },
    {
     "name": "stderr",
     "output_type": "stream",
     "text": [
      "Downloading:  24%|██▍       | 617/2533 [03:05<06:49,  4.68file/s]"
     ]
    },
    {
     "name": "stdout",
     "output_type": "stream",
     "text": [
      "Downloaded gal_spectra\\403605237\n"
     ]
    },
    {
     "name": "stderr",
     "output_type": "stream",
     "text": [
      "Downloading:  24%|██▍       | 619/2533 [03:06<07:45,  4.12file/s]"
     ]
    },
    {
     "name": "stdout",
     "output_type": "stream",
     "text": [
      "Downloaded gal_spectra\\121612110\n",
      "Downloaded gal_spectra\\403604245\n",
      "Failed to download https://www.lamost.org/dr7/v2.0/spectrum/fits/866502192: 500 Server Error:  for url: https://www.lamost.org/dr7/v2.0/spectrum/fits/866502192\n"
     ]
    },
    {
     "name": "stderr",
     "output_type": "stream",
     "text": [
      "Downloading:  25%|██▍       | 621/2533 [03:06<08:07,  3.92file/s]"
     ]
    },
    {
     "name": "stdout",
     "output_type": "stream",
     "text": [
      "Downloaded gal_spectra\\403609231\n"
     ]
    },
    {
     "name": "stderr",
     "output_type": "stream",
     "text": [
      "Downloading:  25%|██▍       | 622/2533 [03:07<08:18,  3.83file/s]"
     ]
    },
    {
     "name": "stdout",
     "output_type": "stream",
     "text": [
      "Downloaded gal_spectra\\733010002\n"
     ]
    },
    {
     "name": "stderr",
     "output_type": "stream",
     "text": [
      "Downloading:  25%|██▍       | 623/2533 [03:07<07:59,  3.98file/s]"
     ]
    },
    {
     "name": "stdout",
     "output_type": "stream",
     "text": [
      "Downloaded gal_spectra\\500906070\n"
     ]
    },
    {
     "name": "stderr",
     "output_type": "stream",
     "text": [
      "Downloading:  25%|██▍       | 625/2533 [03:08<09:16,  3.43file/s]"
     ]
    },
    {
     "name": "stdout",
     "output_type": "stream",
     "text": [
      "Failed to download https://www.lamost.org/dr7/v2.0/spectrum/fits/782405028: 500 Server Error:  for url: https://www.lamost.org/dr7/v2.0/spectrum/fits/782405028\n",
      "Downloaded gal_spectra\\403603056\n"
     ]
    },
    {
     "name": "stderr",
     "output_type": "stream",
     "text": [
      "Downloading:  25%|██▍       | 626/2533 [03:08<08:32,  3.72file/s]"
     ]
    },
    {
     "name": "stdout",
     "output_type": "stream",
     "text": [
      "Downloaded gal_spectra\\320705205\n",
      "Downloaded gal_spectra\\403603131\n"
     ]
    },
    {
     "name": "stderr",
     "output_type": "stream",
     "text": [
      "Downloading:  25%|██▍       | 628/2533 [03:08<08:23,  3.79file/s]"
     ]
    },
    {
     "name": "stdout",
     "output_type": "stream",
     "text": [
      "Downloaded gal_spectra\\403606082\n"
     ]
    },
    {
     "name": "stderr",
     "output_type": "stream",
     "text": [
      "Downloading:  25%|██▍       | 629/2533 [03:09<08:47,  3.61file/s]"
     ]
    },
    {
     "name": "stdout",
     "output_type": "stream",
     "text": [
      "Downloaded gal_spectra\\403612187\n",
      "Failed to download https://www.lamost.org/dr7/v2.0/spectrum/fits/782402185: 500 Server Error:  for url: https://www.lamost.org/dr7/v2.0/spectrum/fits/782402185\n",
      "Failed to download https://www.lamost.org/dr7/v2.0/spectrum/fits/782405035: 500 Server Error:  for url: https://www.lamost.org/dr7/v2.0/spectrum/fits/782405035\n"
     ]
    },
    {
     "name": "stderr",
     "output_type": "stream",
     "text": [
      "Downloading:  25%|██▍       | 633/2533 [03:09<06:56,  4.56file/s]"
     ]
    },
    {
     "name": "stdout",
     "output_type": "stream",
     "text": [
      "Failed to download https://www.lamost.org/dr7/v2.0/spectrum/fits/866512128: 500 Server Error:  for url: https://www.lamost.org/dr7/v2.0/spectrum/fits/866512128\n",
      "Downloaded gal_spectra\\403603054\n"
     ]
    },
    {
     "name": "stderr",
     "output_type": "stream",
     "text": [
      "Downloading:  25%|██▌       | 635/2533 [03:10<06:21,  4.97file/s]"
     ]
    },
    {
     "name": "stdout",
     "output_type": "stream",
     "text": [
      "Failed to download https://www.lamost.org/dr7/v2.0/spectrum/fits/782414132: 500 Server Error:  for url: https://www.lamost.org/dr7/v2.0/spectrum/fits/782414132\n",
      "Downloaded gal_spectra\\403605058\n"
     ]
    },
    {
     "name": "stderr",
     "output_type": "stream",
     "text": [
      "Downloading:  25%|██▌       | 636/2533 [03:10<09:13,  3.43file/s]"
     ]
    },
    {
     "name": "stdout",
     "output_type": "stream",
     "text": [
      "Downloaded gal_spectra\\283706100\n"
     ]
    },
    {
     "name": "stderr",
     "output_type": "stream",
     "text": [
      "Downloading:  25%|██▌       | 637/2533 [03:11<12:22,  2.55file/s]"
     ]
    },
    {
     "name": "stdout",
     "output_type": "stream",
     "text": [
      "Downloaded gal_spectra\\649502173\n"
     ]
    },
    {
     "name": "stderr",
     "output_type": "stream",
     "text": [
      "Downloading:  25%|██▌       | 639/2533 [03:11<09:09,  3.44file/s]"
     ]
    },
    {
     "name": "stdout",
     "output_type": "stream",
     "text": [
      "Downloaded gal_spectra\\734613131\n",
      "Downloaded gal_spectra\\649510158\n"
     ]
    },
    {
     "name": "stderr",
     "output_type": "stream",
     "text": [
      "Downloading:  25%|██▌       | 640/2533 [03:12<12:18,  2.56file/s]"
     ]
    },
    {
     "name": "stdout",
     "output_type": "stream",
     "text": [
      "Downloaded gal_spectra\\301110216\n"
     ]
    },
    {
     "name": "stderr",
     "output_type": "stream",
     "text": [
      "Downloading:  25%|██▌       | 643/2533 [03:12<07:08,  4.41file/s]"
     ]
    },
    {
     "name": "stdout",
     "output_type": "stream",
     "text": [
      "Downloaded gal_spectra\\398614072\n",
      "Downloaded gal_spectra\\559110075\n",
      "Downloaded gal_spectra\\301105167\n"
     ]
    },
    {
     "name": "stderr",
     "output_type": "stream",
     "text": [
      "Downloading:  25%|██▌       | 644/2533 [03:13<07:59,  3.94file/s]"
     ]
    },
    {
     "name": "stdout",
     "output_type": "stream",
     "text": [
      "Downloaded gal_spectra\\649510151\n",
      "Downloaded gal_spectra\\649516105\n"
     ]
    },
    {
     "name": "stderr",
     "output_type": "stream",
     "text": [
      "Downloading:  26%|██▌       | 646/2533 [03:13<06:50,  4.60file/s]"
     ]
    },
    {
     "name": "stdout",
     "output_type": "stream",
     "text": [
      "Downloaded gal_spectra\\649516124\n"
     ]
    },
    {
     "name": "stderr",
     "output_type": "stream",
     "text": [
      "Downloading:  26%|██▌       | 647/2533 [03:13<07:32,  4.17file/s]"
     ]
    },
    {
     "name": "stdout",
     "output_type": "stream",
     "text": [
      "Downloaded gal_spectra\\649509124\n",
      "Downloaded gal_spectra\\615205201\n"
     ]
    },
    {
     "name": "stderr",
     "output_type": "stream",
     "text": [
      "Downloading:  26%|██▌       | 649/2533 [03:14<08:29,  3.70file/s]"
     ]
    },
    {
     "name": "stdout",
     "output_type": "stream",
     "text": [
      "Downloaded gal_spectra\\649509122\n",
      "Downloaded gal_spectra\\629707119\n"
     ]
    },
    {
     "name": "stderr",
     "output_type": "stream",
     "text": [
      "Downloading:  26%|██▌       | 652/2533 [03:14<06:14,  5.03file/s]"
     ]
    },
    {
     "name": "stdout",
     "output_type": "stream",
     "text": [
      "Downloaded gal_spectra\\504003058\n",
      "Downloaded gal_spectra\\615212004\n"
     ]
    },
    {
     "name": "stderr",
     "output_type": "stream",
     "text": [
      "Downloading:  26%|██▌       | 653/2533 [03:15<12:23,  2.53file/s]"
     ]
    },
    {
     "name": "stdout",
     "output_type": "stream",
     "text": [
      "Downloaded gal_spectra\\629704085\n",
      "Downloaded gal_spectra\\567105012\n"
     ]
    },
    {
     "name": "stderr",
     "output_type": "stream",
     "text": [
      "Downloading:  26%|██▌       | 656/2533 [03:16<10:23,  3.01file/s]"
     ]
    },
    {
     "name": "stdout",
     "output_type": "stream",
     "text": [
      "Downloaded gal_spectra\\649511159\n",
      "Downloaded gal_spectra\\334406106\n"
     ]
    },
    {
     "name": "stderr",
     "output_type": "stream",
     "text": [
      "Downloading:  26%|██▌       | 658/2533 [03:16<07:25,  4.21file/s]"
     ]
    },
    {
     "name": "stdout",
     "output_type": "stream",
     "text": [
      "Downloaded gal_spectra\\301115032\n",
      "Downloaded gal_spectra\\559103212\n"
     ]
    },
    {
     "name": "stderr",
     "output_type": "stream",
     "text": [
      "Downloading:  26%|██▌       | 659/2533 [03:17<10:02,  3.11file/s]"
     ]
    },
    {
     "name": "stdout",
     "output_type": "stream",
     "text": [
      "Downloaded gal_spectra\\567108035\n"
     ]
    },
    {
     "name": "stderr",
     "output_type": "stream",
     "text": [
      "Downloading:  26%|██▌       | 662/2533 [03:17<06:35,  4.73file/s]"
     ]
    },
    {
     "name": "stdout",
     "output_type": "stream",
     "text": [
      "Downloaded gal_spectra\\613713069\n",
      "Downloaded gal_spectra\\733006243\n",
      "Downloaded gal_spectra\\629710002\n"
     ]
    },
    {
     "name": "stderr",
     "output_type": "stream",
     "text": [
      "Downloading:  26%|██▌       | 663/2533 [03:18<05:59,  5.20file/s]"
     ]
    },
    {
     "name": "stdout",
     "output_type": "stream",
     "text": [
      "Downloaded gal_spectra\\334405144\n"
     ]
    },
    {
     "name": "stderr",
     "output_type": "stream",
     "text": [
      "Downloading:  26%|██▋       | 665/2533 [03:18<08:23,  3.71file/s]"
     ]
    },
    {
     "name": "stdout",
     "output_type": "stream",
     "text": [
      "Downloaded gal_spectra\\504016129\n",
      "Downloaded gal_spectra\\334408043\n"
     ]
    },
    {
     "name": "stderr",
     "output_type": "stream",
     "text": [
      "Downloading:  26%|██▋       | 666/2533 [03:19<07:02,  4.42file/s]"
     ]
    },
    {
     "name": "stdout",
     "output_type": "stream",
     "text": [
      "Downloaded gal_spectra\\733013250\n"
     ]
    },
    {
     "name": "stderr",
     "output_type": "stream",
     "text": [
      "Downloading:  26%|██▋       | 667/2533 [03:19<07:51,  3.95file/s]"
     ]
    },
    {
     "name": "stdout",
     "output_type": "stream",
     "text": [
      "Downloaded gal_spectra\\733008024\n"
     ]
    },
    {
     "name": "stderr",
     "output_type": "stream",
     "text": [
      "Downloading:  26%|██▋       | 668/2533 [03:19<08:17,  3.75file/s]"
     ]
    },
    {
     "name": "stdout",
     "output_type": "stream",
     "text": [
      "Downloaded gal_spectra\\733013199\n"
     ]
    },
    {
     "name": "stderr",
     "output_type": "stream",
     "text": [
      "Downloading:  26%|██▋       | 669/2533 [03:20<10:38,  2.92file/s]"
     ]
    },
    {
     "name": "stdout",
     "output_type": "stream",
     "text": [
      "Downloaded gal_spectra\\629711018\n"
     ]
    },
    {
     "name": "stderr",
     "output_type": "stream",
     "text": [
      "Downloading:  26%|██▋       | 670/2533 [03:20<10:38,  2.92file/s]"
     ]
    },
    {
     "name": "stdout",
     "output_type": "stream",
     "text": [
      "Downloaded gal_spectra\\629715177\n",
      "Failed to download https://www.lamost.org/dr7/v2.0/spectrum/fits/794207129: 500 Server Error:  for url: https://www.lamost.org/dr7/v2.0/spectrum/fits/794207129\n"
     ]
    },
    {
     "name": "stderr",
     "output_type": "stream",
     "text": [
      "Downloading:  27%|██▋       | 674/2533 [03:20<05:50,  5.30file/s]"
     ]
    },
    {
     "name": "stdout",
     "output_type": "stream",
     "text": [
      "Downloaded gal_spectra\\334408245\n",
      "Downloaded gal_spectra\\629716127\n"
     ]
    },
    {
     "name": "stderr",
     "output_type": "stream",
     "text": [
      "Downloading:  27%|██▋       | 676/2533 [03:21<04:17,  7.20file/s]"
     ]
    },
    {
     "name": "stdout",
     "output_type": "stream",
     "text": [
      "Downloaded gal_spectra\\629715138\n",
      "Downloaded gal_spectra\\497013038\n",
      "Downloaded gal_spectra\\419802027\n",
      "Downloaded gal_spectra\\419803151\n"
     ]
    },
    {
     "name": "stderr",
     "output_type": "stream",
     "text": [
      "Downloading:  27%|██▋       | 678/2533 [03:21<06:46,  4.56file/s]"
     ]
    },
    {
     "name": "stdout",
     "output_type": "stream",
     "text": [
      "Failed to download https://www.lamost.org/dr7/v2.0/spectrum/fits/794206132: 500 Server Error:  for url: https://www.lamost.org/dr7/v2.0/spectrum/fits/794206132\n"
     ]
    },
    {
     "name": "stderr",
     "output_type": "stream",
     "text": [
      "Downloading:  27%|██▋       | 679/2533 [03:22<08:02,  3.84file/s]"
     ]
    },
    {
     "name": "stdout",
     "output_type": "stream",
     "text": [
      "Failed to download https://www.lamost.org/dr7/v2.0/spectrum/fits/880210015: 500 Server Error:  for url: https://www.lamost.org/dr7/v2.0/spectrum/fits/880210015\n"
     ]
    },
    {
     "name": "stderr",
     "output_type": "stream",
     "text": [
      "Downloading:  27%|██▋       | 680/2533 [03:22<08:34,  3.60file/s]"
     ]
    },
    {
     "name": "stdout",
     "output_type": "stream",
     "text": [
      "Failed to download https://www.lamost.org/dr7/v2.0/spectrum/fits/891503030: 500 Server Error:  for url: https://www.lamost.org/dr7/v2.0/spectrum/fits/891503030\n"
     ]
    },
    {
     "name": "stderr",
     "output_type": "stream",
     "text": [
      "Downloading:  27%|██▋       | 683/2533 [03:22<05:52,  5.25file/s]"
     ]
    },
    {
     "name": "stdout",
     "output_type": "stream",
     "text": [
      "Downloaded gal_spectra\\322003244\n",
      "Failed to download https://www.lamost.org/dr7/v2.0/spectrum/fits/891513161: 500 Server Error:  for url: https://www.lamost.org/dr7/v2.0/spectrum/fits/891513161\n",
      "Failed to download https://www.lamost.org/dr7/v2.0/spectrum/fits/891515155: 500 Server Error:  for url: https://www.lamost.org/dr7/v2.0/spectrum/fits/891515155\n",
      "Downloaded gal_spectra\\419813138\n",
      "Downloaded gal_spectra\\322004152\n"
     ]
    },
    {
     "name": "stderr",
     "output_type": "stream",
     "text": [
      "Downloading:  27%|██▋       | 686/2533 [03:23<05:09,  5.97file/s]"
     ]
    },
    {
     "name": "stdout",
     "output_type": "stream",
     "text": [
      "Failed to download https://www.lamost.org/dr7/v2.0/spectrum/fits/891503214: 500 Server Error:  for url: https://www.lamost.org/dr7/v2.0/spectrum/fits/891503214\n"
     ]
    },
    {
     "name": "stderr",
     "output_type": "stream",
     "text": [
      "Downloading:  27%|██▋       | 687/2533 [03:25<13:33,  2.27file/s]"
     ]
    },
    {
     "name": "stdout",
     "output_type": "stream",
     "text": [
      "Downloaded gal_spectra\\646106005\n",
      "Failed to download https://www.lamost.org/dr7/v2.0/spectrum/fits/891515120: 500 Server Error:  for url: https://www.lamost.org/dr7/v2.0/spectrum/fits/891515120\n",
      "Downloaded gal_spectra\\504011197\n"
     ]
    },
    {
     "name": "stderr",
     "output_type": "stream",
     "text": [
      "Downloading:  27%|██▋       | 691/2533 [03:25<09:09,  3.35file/s]"
     ]
    },
    {
     "name": "stdout",
     "output_type": "stream",
     "text": [
      "Downloaded gal_spectra\\419811223\n",
      "Downloaded gal_spectra\\419812128\n"
     ]
    },
    {
     "name": "stderr",
     "output_type": "stream",
     "text": [
      "Downloading:  27%|██▋       | 693/2533 [03:26<09:37,  3.19file/s]"
     ]
    },
    {
     "name": "stdout",
     "output_type": "stream",
     "text": [
      "Downloaded gal_spectra\\224502101\n",
      "Downloaded gal_spectra\\646107142\n"
     ]
    },
    {
     "name": "stderr",
     "output_type": "stream",
     "text": [
      "Downloading:  27%|██▋       | 696/2533 [03:27<07:39,  4.00file/s]"
     ]
    },
    {
     "name": "stdout",
     "output_type": "stream",
     "text": [
      "Downloaded gal_spectra\\224505231\n",
      "Downloaded gal_spectra\\419808156\n",
      "Downloaded gal_spectra\\449001024\n"
     ]
    },
    {
     "name": "stderr",
     "output_type": "stream",
     "text": [
      "Downloading:  28%|██▊       | 698/2533 [03:27<07:03,  4.34file/s]"
     ]
    },
    {
     "name": "stdout",
     "output_type": "stream",
     "text": [
      "Failed to download https://www.lamost.org/dr7/v2.0/spectrum/fits/880211109: 500 Server Error:  for url: https://www.lamost.org/dr7/v2.0/spectrum/fits/880211109\n",
      "Failed to download https://www.lamost.org/dr7/v2.0/spectrum/fits/891516149: 500 Server Error:  for url: https://www.lamost.org/dr7/v2.0/spectrum/fits/891516149\n"
     ]
    },
    {
     "name": "stderr",
     "output_type": "stream",
     "text": [
      "Downloading:  28%|██▊       | 699/2533 [03:27<06:25,  4.76file/s]"
     ]
    },
    {
     "name": "stdout",
     "output_type": "stream",
     "text": [
      "Downloaded gal_spectra\\449008075\n"
     ]
    },
    {
     "name": "stderr",
     "output_type": "stream",
     "text": [
      "Downloading:  28%|██▊       | 701/2533 [03:28<06:54,  4.42file/s]"
     ]
    },
    {
     "name": "stdout",
     "output_type": "stream",
     "text": [
      "Downloaded gal_spectra\\117208100\n",
      "Downloaded gal_spectra\\224507195\n"
     ]
    },
    {
     "name": "stderr",
     "output_type": "stream",
     "text": [
      "Downloading:  28%|██▊       | 702/2533 [03:29<11:19,  2.69file/s]"
     ]
    },
    {
     "name": "stdout",
     "output_type": "stream",
     "text": [
      "Downloaded gal_spectra\\224506203\n"
     ]
    },
    {
     "name": "stderr",
     "output_type": "stream",
     "text": [
      "Downloading:  28%|██▊       | 703/2533 [03:29<11:17,  2.70file/s]"
     ]
    },
    {
     "name": "stdout",
     "output_type": "stream",
     "text": [
      "Downloaded gal_spectra\\733004064\n"
     ]
    },
    {
     "name": "stderr",
     "output_type": "stream",
     "text": [
      "Downloading:  28%|██▊       | 704/2533 [03:29<12:19,  2.47file/s]"
     ]
    },
    {
     "name": "stdout",
     "output_type": "stream",
     "text": [
      "Downloaded gal_spectra\\449009035\n"
     ]
    },
    {
     "name": "stderr",
     "output_type": "stream",
     "text": [
      "Downloading:  28%|██▊       | 706/2533 [03:30<10:51,  2.80file/s]"
     ]
    },
    {
     "name": "stdout",
     "output_type": "stream",
     "text": [
      "Downloaded gal_spectra\\733015148\n",
      "Downloaded gal_spectra\\449012162\n"
     ]
    },
    {
     "name": "stderr",
     "output_type": "stream",
     "text": [
      "Downloading:  28%|██▊       | 707/2533 [03:30<09:34,  3.18file/s]"
     ]
    },
    {
     "name": "stdout",
     "output_type": "stream",
     "text": [
      "Downloaded gal_spectra\\646108053\n",
      "Downloaded gal_spectra\\733015195\n"
     ]
    },
    {
     "name": "stderr",
     "output_type": "stream",
     "text": [
      "Downloading:  28%|██▊       | 710/2533 [03:31<06:29,  4.68file/s]"
     ]
    },
    {
     "name": "stdout",
     "output_type": "stream",
     "text": [
      "Failed to download https://www.lamost.org/dr7/v2.0/spectrum/fits/782406227: 500 Server Error:  for url: https://www.lamost.org/dr7/v2.0/spectrum/fits/782406227\n",
      "Failed to download https://www.lamost.org/dr7/v2.0/spectrum/fits/794202029: 500 Server Error:  for url: https://www.lamost.org/dr7/v2.0/spectrum/fits/794202029\n"
     ]
    },
    {
     "name": "stderr",
     "output_type": "stream",
     "text": [
      "Downloading:  28%|██▊       | 711/2533 [03:31<07:36,  3.99file/s]"
     ]
    },
    {
     "name": "stdout",
     "output_type": "stream",
     "text": [
      "Failed to download https://www.lamost.org/dr7/v2.0/spectrum/fits/782406234: 500 Server Error:  for url: https://www.lamost.org/dr7/v2.0/spectrum/fits/782406234\n"
     ]
    },
    {
     "name": "stderr",
     "output_type": "stream",
     "text": [
      "Downloading:  28%|██▊       | 713/2533 [03:32<08:15,  3.67file/s]"
     ]
    },
    {
     "name": "stdout",
     "output_type": "stream",
     "text": [
      "Failed to download https://www.lamost.org/dr7/v2.0/spectrum/fits/782406039: 500 Server Error:  for url: https://www.lamost.org/dr7/v2.0/spectrum/fits/782406039\n",
      "Downloaded gal_spectra\\449009173\n"
     ]
    },
    {
     "name": "stderr",
     "output_type": "stream",
     "text": [
      "Downloading:  28%|██▊       | 715/2533 [03:32<05:39,  5.35file/s]"
     ]
    },
    {
     "name": "stdout",
     "output_type": "stream",
     "text": [
      "Downloaded gal_spectra\\449008164\n",
      "Failed to download https://www.lamost.org/dr7/v2.0/spectrum/fits/794214159: 500 Server Error:  for url: https://www.lamost.org/dr7/v2.0/spectrum/fits/794214159\n"
     ]
    },
    {
     "name": "stderr",
     "output_type": "stream",
     "text": [
      "Downloading:  28%|██▊       | 718/2533 [03:32<04:55,  6.15file/s]"
     ]
    },
    {
     "name": "stdout",
     "output_type": "stream",
     "text": [
      "Failed to download https://www.lamost.org/dr7/v2.0/spectrum/fits/782406139: 500 Server Error:  for url: https://www.lamost.org/dr7/v2.0/spectrum/fits/782406139\n",
      "Downloaded gal_spectra\\733015130\n",
      "Failed to download https://www.lamost.org/dr7/v2.0/spectrum/fits/794202171: 500 Server Error:  for url: https://www.lamost.org/dr7/v2.0/spectrum/fits/794202171\n"
     ]
    },
    {
     "name": "stderr",
     "output_type": "stream",
     "text": [
      "Downloading:  28%|██▊       | 719/2533 [03:33<08:17,  3.64file/s]"
     ]
    },
    {
     "name": "stdout",
     "output_type": "stream",
     "text": [
      "Downloaded gal_spectra\\497016099\n"
     ]
    },
    {
     "name": "stderr",
     "output_type": "stream",
     "text": [
      "Downloading:  28%|██▊       | 720/2533 [03:33<08:06,  3.73file/s]"
     ]
    },
    {
     "name": "stdout",
     "output_type": "stream",
     "text": [
      "Failed to download https://www.lamost.org/dr7/v2.0/spectrum/fits/794203118: 500 Server Error:  for url: https://www.lamost.org/dr7/v2.0/spectrum/fits/794203118\n"
     ]
    },
    {
     "name": "stderr",
     "output_type": "stream",
     "text": [
      "Downloading:  29%|██▊       | 722/2533 [03:34<08:11,  3.69file/s]"
     ]
    },
    {
     "name": "stdout",
     "output_type": "stream",
     "text": [
      "Failed to download https://www.lamost.org/dr7/v2.0/spectrum/fits/794204202: 500 Server Error:  for url: https://www.lamost.org/dr7/v2.0/spectrum/fits/794204202\n",
      "Downloaded gal_spectra\\565907232\n"
     ]
    },
    {
     "name": "stderr",
     "output_type": "stream",
     "text": [
      "Downloading:  29%|██▊       | 723/2533 [03:34<10:29,  2.87file/s]"
     ]
    },
    {
     "name": "stdout",
     "output_type": "stream",
     "text": [
      "Failed to download https://www.lamost.org/dr7/v2.0/spectrum/fits/794212083: 500 Server Error:  for url: https://www.lamost.org/dr7/v2.0/spectrum/fits/794212083\n"
     ]
    },
    {
     "name": "stderr",
     "output_type": "stream",
     "text": [
      "Downloading:  29%|██▊       | 724/2533 [03:35<10:24,  2.90file/s]"
     ]
    },
    {
     "name": "stdout",
     "output_type": "stream",
     "text": [
      "Failed to download https://www.lamost.org/dr7/v2.0/spectrum/fits/794215145: 500 Server Error:  for url: https://www.lamost.org/dr7/v2.0/spectrum/fits/794215145\n"
     ]
    },
    {
     "name": "stderr",
     "output_type": "stream",
     "text": [
      "Downloading:  29%|██▊       | 727/2533 [03:35<07:21,  4.09file/s]"
     ]
    },
    {
     "name": "stdout",
     "output_type": "stream",
     "text": [
      "Failed to download https://www.lamost.org/dr7/v2.0/spectrum/fits/882401094: 500 Server Error:  for url: https://www.lamost.org/dr7/v2.0/spectrum/fits/882401094\n",
      "Failed to download https://www.lamost.org/dr7/v2.0/spectrum/fits/794205046: 500 Server Error:  for url: https://www.lamost.org/dr7/v2.0/spectrum/fits/794205046\n",
      "Downloaded gal_spectra\\565905203\n"
     ]
    },
    {
     "name": "stderr",
     "output_type": "stream",
     "text": [
      "Downloading:  29%|██▊       | 728/2533 [03:36<09:10,  3.28file/s]"
     ]
    },
    {
     "name": "stdout",
     "output_type": "stream",
     "text": [
      "Downloaded gal_spectra\\643315183\n"
     ]
    },
    {
     "name": "stderr",
     "output_type": "stream",
     "text": [
      "Downloading:  29%|██▉       | 729/2533 [03:37<11:35,  2.59file/s]"
     ]
    },
    {
     "name": "stdout",
     "output_type": "stream",
     "text": [
      "Downloaded gal_spectra\\733004204\n"
     ]
    },
    {
     "name": "stderr",
     "output_type": "stream",
     "text": [
      "Downloading:  29%|██▉       | 730/2533 [03:37<10:33,  2.85file/s]"
     ]
    },
    {
     "name": "stdout",
     "output_type": "stream",
     "text": [
      "Downloaded gal_spectra\\419816210\n",
      "Downloaded gal_spectra\\646110232\n"
     ]
    },
    {
     "name": "stderr",
     "output_type": "stream",
     "text": [
      "Downloading:  29%|██▉       | 732/2533 [03:37<08:43,  3.44file/s]"
     ]
    },
    {
     "name": "stdout",
     "output_type": "stream",
     "text": [
      "Downloaded gal_spectra\\301701056\n"
     ]
    },
    {
     "name": "stderr",
     "output_type": "stream",
     "text": [
      "Downloading:  29%|██▉       | 733/2533 [03:37<08:21,  3.59file/s]"
     ]
    },
    {
     "name": "stdout",
     "output_type": "stream",
     "text": [
      "Downloaded gal_spectra\\565908006\n"
     ]
    },
    {
     "name": "stderr",
     "output_type": "stream",
     "text": [
      "Downloading:  29%|██▉       | 735/2533 [03:38<08:38,  3.47file/s]"
     ]
    },
    {
     "name": "stdout",
     "output_type": "stream",
     "text": [
      "Downloaded gal_spectra\\320712219\n",
      "Downloaded gal_spectra\\538104012\n"
     ]
    },
    {
     "name": "stderr",
     "output_type": "stream",
     "text": [
      "Downloading:  29%|██▉       | 736/2533 [03:38<08:09,  3.67file/s]"
     ]
    },
    {
     "name": "stdout",
     "output_type": "stream",
     "text": [
      "Failed to download https://www.lamost.org/dr7/v2.0/spectrum/fits/882403186: 500 Server Error:  for url: https://www.lamost.org/dr7/v2.0/spectrum/fits/882403186\n"
     ]
    },
    {
     "name": "stderr",
     "output_type": "stream",
     "text": [
      "Downloading:  29%|██▉       | 737/2533 [03:39<07:54,  3.78file/s]"
     ]
    },
    {
     "name": "stdout",
     "output_type": "stream",
     "text": [
      "Failed to download https://www.lamost.org/dr7/v2.0/spectrum/fits/794211087: 500 Server Error:  for url: https://www.lamost.org/dr7/v2.0/spectrum/fits/794211087\n"
     ]
    },
    {
     "name": "stderr",
     "output_type": "stream",
     "text": [
      "Downloading:  29%|██▉       | 738/2533 [03:39<08:18,  3.60file/s]"
     ]
    },
    {
     "name": "stdout",
     "output_type": "stream",
     "text": [
      "Downloaded gal_spectra\\565903012\n"
     ]
    },
    {
     "name": "stderr",
     "output_type": "stream",
     "text": [
      "Downloading:  29%|██▉       | 739/2533 [03:39<09:29,  3.15file/s]"
     ]
    },
    {
     "name": "stdout",
     "output_type": "stream",
     "text": [
      "Downloaded gal_spectra\\565908213\n"
     ]
    },
    {
     "name": "stderr",
     "output_type": "stream",
     "text": [
      "Downloading:  29%|██▉       | 740/2533 [03:40<08:57,  3.33file/s]"
     ]
    },
    {
     "name": "stdout",
     "output_type": "stream",
     "text": [
      "Downloaded gal_spectra\\301715050\n",
      "Downloaded gal_spectra\\565909229\n"
     ]
    },
    {
     "name": "stderr",
     "output_type": "stream",
     "text": [
      "Downloading:  29%|██▉       | 744/2533 [03:40<06:46,  4.40file/s]"
     ]
    },
    {
     "name": "stdout",
     "output_type": "stream",
     "text": [
      "Downloaded gal_spectra\\301714207\n",
      "Downloaded gal_spectra\\301703109\n"
     ]
    },
    {
     "name": "stderr",
     "output_type": "stream",
     "text": [
      "Downloading:  29%|██▉       | 745/2533 [03:41<05:58,  4.99file/s]"
     ]
    },
    {
     "name": "stdout",
     "output_type": "stream",
     "text": [
      "Downloaded gal_spectra\\301714090\n",
      "Downloaded gal_spectra\\301704122\n"
     ]
    },
    {
     "name": "stderr",
     "output_type": "stream",
     "text": [
      "Downloading:  29%|██▉       | 746/2533 [03:41<05:21,  5.56file/s]"
     ]
    },
    {
     "name": "stdout",
     "output_type": "stream",
     "text": [
      "Downloaded gal_spectra\\565915153\n"
     ]
    },
    {
     "name": "stderr",
     "output_type": "stream",
     "text": [
      "Downloading:  29%|██▉       | 747/2533 [03:41<09:42,  3.07file/s]"
     ]
    },
    {
     "name": "stdout",
     "output_type": "stream",
     "text": [
      "Downloaded gal_spectra\\565906102\n"
     ]
    },
    {
     "name": "stderr",
     "output_type": "stream",
     "text": [
      "Downloading:  30%|██▉       | 748/2533 [03:42<09:28,  3.14file/s]"
     ]
    },
    {
     "name": "stdout",
     "output_type": "stream",
     "text": [
      "Downloaded gal_spectra\\646112104\n"
     ]
    },
    {
     "name": "stderr",
     "output_type": "stream",
     "text": [
      "Downloading:  30%|██▉       | 749/2533 [03:42<09:31,  3.12file/s]"
     ]
    },
    {
     "name": "stdout",
     "output_type": "stream",
     "text": [
      "Downloaded gal_spectra\\565916115\n",
      "Failed to download https://www.lamost.org/dr7/v2.0/spectrum/fits/882406054: 500 Server Error:  for url: https://www.lamost.org/dr7/v2.0/spectrum/fits/882406054\n"
     ]
    },
    {
     "name": "stderr",
     "output_type": "stream",
     "text": [
      "Downloading:  30%|██▉       | 753/2533 [03:42<05:15,  5.65file/s]"
     ]
    },
    {
     "name": "stdout",
     "output_type": "stream",
     "text": [
      "Downloaded gal_spectra\\301703161\n",
      "Downloaded gal_spectra\\565906133\n",
      "Downloaded gal_spectra\\449015021\n"
     ]
    },
    {
     "name": "stderr",
     "output_type": "stream",
     "text": [
      "Downloading:  30%|██▉       | 754/2533 [03:43<09:15,  3.20file/s]"
     ]
    },
    {
     "name": "stdout",
     "output_type": "stream",
     "text": [
      "Downloaded gal_spectra\\301706179\n",
      "Downloaded gal_spectra\\449011183\n"
     ]
    },
    {
     "name": "stderr",
     "output_type": "stream",
     "text": [
      "Downloading:  30%|██▉       | 756/2533 [03:44<07:05,  4.18file/s]"
     ]
    },
    {
     "name": "stdout",
     "output_type": "stream",
     "text": [
      "Downloaded gal_spectra\\723614060\n",
      "Downloaded gal_spectra\\202306028\n"
     ]
    },
    {
     "name": "stderr",
     "output_type": "stream",
     "text": [
      "Downloading:  30%|██▉       | 758/2533 [03:44<09:20,  3.16file/s]"
     ]
    },
    {
     "name": "stdout",
     "output_type": "stream",
     "text": [
      "Failed to download https://www.lamost.org/dr7/v2.0/spectrum/fits/730007231: 500 Server Error:  for url: https://www.lamost.org/dr7/v2.0/spectrum/fits/730007231\n",
      "Downloaded gal_spectra\\490902246\n"
     ]
    },
    {
     "name": "stderr",
     "output_type": "stream",
     "text": [
      "Downloading:  30%|███       | 760/2533 [03:45<08:19,  3.55file/s]"
     ]
    },
    {
     "name": "stdout",
     "output_type": "stream",
     "text": [
      "Downloaded gal_spectra\\273605169\n"
     ]
    },
    {
     "name": "stderr",
     "output_type": "stream",
     "text": [
      "Downloading:  30%|███       | 761/2533 [03:45<07:54,  3.74file/s]"
     ]
    },
    {
     "name": "stdout",
     "output_type": "stream",
     "text": [
      "Downloaded gal_spectra\\273609103\n",
      "Downloaded gal_spectra\\20309137\n",
      "Downloaded gal_spectra\\330802206\n"
     ]
    },
    {
     "name": "stderr",
     "output_type": "stream",
     "text": [
      "Downloading:  30%|███       | 764/2533 [03:46<06:44,  4.38file/s]"
     ]
    },
    {
     "name": "stdout",
     "output_type": "stream",
     "text": [
      "Failed to download https://www.lamost.org/dr7/v2.0/spectrum/fits/868201177: 500 Server Error:  for url: https://www.lamost.org/dr7/v2.0/spectrum/fits/868201177\n"
     ]
    },
    {
     "name": "stderr",
     "output_type": "stream",
     "text": [
      "Downloading:  30%|███       | 765/2533 [03:46<07:44,  3.80file/s]"
     ]
    },
    {
     "name": "stdout",
     "output_type": "stream",
     "text": [
      "Downloaded gal_spectra\\79209149\n"
     ]
    },
    {
     "name": "stderr",
     "output_type": "stream",
     "text": [
      "Downloading:  30%|███       | 766/2533 [03:46<07:29,  3.93file/s]"
     ]
    },
    {
     "name": "stdout",
     "output_type": "stream",
     "text": [
      "Downloaded gal_spectra\\490905048\n"
     ]
    },
    {
     "name": "stderr",
     "output_type": "stream",
     "text": [
      "Downloading:  30%|███       | 768/2533 [03:47<07:07,  4.13file/s]"
     ]
    },
    {
     "name": "stdout",
     "output_type": "stream",
     "text": [
      "Downloaded gal_spectra\\490909035\n",
      "Downloaded gal_spectra\\490908009\n"
     ]
    },
    {
     "name": "stderr",
     "output_type": "stream",
     "text": [
      "Downloading:  30%|███       | 769/2533 [03:47<06:13,  4.72file/s]"
     ]
    },
    {
     "name": "stdout",
     "output_type": "stream",
     "text": [
      "Failed to download https://www.lamost.org/dr7/v2.0/spectrum/fits/868214044: 500 Server Error:  for url: https://www.lamost.org/dr7/v2.0/spectrum/fits/868214044\n"
     ]
    },
    {
     "name": "stderr",
     "output_type": "stream",
     "text": [
      "Downloading:  30%|███       | 770/2533 [03:47<09:05,  3.23file/s]"
     ]
    },
    {
     "name": "stdout",
     "output_type": "stream",
     "text": [
      "Failed to download https://www.lamost.org/dr7/v2.0/spectrum/fits/811302216: 500 Server Error:  for url: https://www.lamost.org/dr7/v2.0/spectrum/fits/811302216\n"
     ]
    },
    {
     "name": "stderr",
     "output_type": "stream",
     "text": [
      "Downloading:  30%|███       | 771/2533 [03:48<10:28,  2.81file/s]"
     ]
    },
    {
     "name": "stdout",
     "output_type": "stream",
     "text": [
      "Downloaded gal_spectra\\387403158\n"
     ]
    },
    {
     "name": "stderr",
     "output_type": "stream",
     "text": [
      "Downloading:  31%|███       | 773/2533 [03:49<09:25,  3.11file/s]"
     ]
    },
    {
     "name": "stdout",
     "output_type": "stream",
     "text": [
      "Failed to download https://www.lamost.org/dr7/v2.0/spectrum/fits/811310200: 500 Server Error:  for url: https://www.lamost.org/dr7/v2.0/spectrum/fits/811310200\n",
      "Downloaded gal_spectra\\387416160\n"
     ]
    },
    {
     "name": "stderr",
     "output_type": "stream",
     "text": [
      "Downloading:  31%|███       | 775/2533 [03:49<07:43,  3.79file/s]"
     ]
    },
    {
     "name": "stdout",
     "output_type": "stream",
     "text": [
      "Downloaded gal_spectra\\331802083\n",
      "Downloaded gal_spectra\\387413023\n"
     ]
    },
    {
     "name": "stderr",
     "output_type": "stream",
     "text": [
      "Downloading:  31%|███       | 776/2533 [03:49<07:59,  3.67file/s]"
     ]
    },
    {
     "name": "stdout",
     "output_type": "stream",
     "text": [
      "Downloaded gal_spectra\\105902192\n"
     ]
    },
    {
     "name": "stderr",
     "output_type": "stream",
     "text": [
      "Downloading:  31%|███       | 777/2533 [03:50<09:44,  3.01file/s]"
     ]
    },
    {
     "name": "stdout",
     "output_type": "stream",
     "text": [
      "Downloaded gal_spectra\\387416217\n",
      "Downloaded gal_spectra\\642002178\n"
     ]
    },
    {
     "name": "stderr",
     "output_type": "stream",
     "text": [
      "Downloading:  31%|███       | 779/2533 [03:50<06:51,  4.26file/s]"
     ]
    },
    {
     "name": "stdout",
     "output_type": "stream",
     "text": [
      "Downloaded gal_spectra\\387415074\n"
     ]
    },
    {
     "name": "stderr",
     "output_type": "stream",
     "text": [
      "Downloading:  31%|███       | 780/2533 [03:51<11:00,  2.65file/s]"
     ]
    },
    {
     "name": "stdout",
     "output_type": "stream",
     "text": [
      "Downloaded gal_spectra\\711704172\n"
     ]
    },
    {
     "name": "stderr",
     "output_type": "stream",
     "text": [
      "Downloading:  31%|███       | 781/2533 [03:51<11:41,  2.50file/s]"
     ]
    },
    {
     "name": "stdout",
     "output_type": "stream",
     "text": [
      "Downloaded gal_spectra\\642007098\n"
     ]
    },
    {
     "name": "stderr",
     "output_type": "stream",
     "text": [
      "Downloading:  31%|███       | 783/2533 [03:53<15:33,  1.88file/s]"
     ]
    },
    {
     "name": "stdout",
     "output_type": "stream",
     "text": [
      "Downloaded gal_spectra\\642006088\n",
      "Downloaded gal_spectra\\105906164\n",
      "Downloaded gal_spectra\\331815233\n"
     ]
    },
    {
     "name": "stderr",
     "output_type": "stream",
     "text": [
      "Downloading:  31%|███       | 785/2533 [03:53<11:44,  2.48file/s]"
     ]
    },
    {
     "name": "stdout",
     "output_type": "stream",
     "text": [
      "Downloaded gal_spectra\\711711118\n"
     ]
    },
    {
     "name": "stderr",
     "output_type": "stream",
     "text": [
      "Downloading:  31%|███       | 786/2533 [03:54<12:16,  2.37file/s]"
     ]
    },
    {
     "name": "stdout",
     "output_type": "stream",
     "text": [
      "Failed to download https://www.lamost.org/dr7/v2.0/spectrum/fits/811308190: 500 Server Error:  for url: https://www.lamost.org/dr7/v2.0/spectrum/fits/811308190\n"
     ]
    },
    {
     "name": "stderr",
     "output_type": "stream",
     "text": [
      "Downloading:  31%|███       | 787/2533 [03:55<16:32,  1.76file/s]"
     ]
    },
    {
     "name": "stdout",
     "output_type": "stream",
     "text": [
      "Downloaded gal_spectra\\711714142\n"
     ]
    },
    {
     "name": "stderr",
     "output_type": "stream",
     "text": [
      "Downloading:  31%|███       | 788/2533 [03:55<14:04,  2.07file/s]"
     ]
    },
    {
     "name": "stdout",
     "output_type": "stream",
     "text": [
      "Downloaded gal_spectra\\105909235\n"
     ]
    },
    {
     "name": "stderr",
     "output_type": "stream",
     "text": [
      "Downloading:  31%|███       | 789/2533 [03:55<12:56,  2.25file/s]"
     ]
    },
    {
     "name": "stdout",
     "output_type": "stream",
     "text": [
      "Downloaded gal_spectra\\105905094\n",
      "Downloaded gal_spectra\\421908102\n"
     ]
    },
    {
     "name": "stderr",
     "output_type": "stream",
     "text": [
      "Downloading:  31%|███▏      | 792/2533 [03:56<10:58,  2.65file/s]"
     ]
    },
    {
     "name": "stdout",
     "output_type": "stream",
     "text": [
      "Downloaded gal_spectra\\421901081\n",
      "Downloaded gal_spectra\\421901020\n",
      "Downloaded gal_spectra\\603102002\n"
     ]
    },
    {
     "name": "stderr",
     "output_type": "stream",
     "text": [
      "Downloading:  31%|███▏      | 794/2533 [03:57<07:40,  3.78file/s]"
     ]
    },
    {
     "name": "stdout",
     "output_type": "stream",
     "text": [
      "Downloaded gal_spectra\\105913173\n",
      "Downloaded gal_spectra\\711712246\n"
     ]
    },
    {
     "name": "stderr",
     "output_type": "stream",
     "text": [
      "Downloading:  31%|███▏      | 796/2533 [03:57<06:02,  4.79file/s]"
     ]
    },
    {
     "name": "stdout",
     "output_type": "stream",
     "text": [
      "Downloaded gal_spectra\\603102176\n"
     ]
    },
    {
     "name": "stderr",
     "output_type": "stream",
     "text": [
      "Downloading:  32%|███▏      | 798/2533 [03:58<07:23,  3.91file/s]"
     ]
    },
    {
     "name": "stdout",
     "output_type": "stream",
     "text": [
      "Downloaded gal_spectra\\421913083\n",
      "Failed to download https://www.lamost.org/dr7/v2.0/spectrum/fits/881313208: 500 Server Error:  for url: https://www.lamost.org/dr7/v2.0/spectrum/fits/881313208\n"
     ]
    },
    {
     "name": "stderr",
     "output_type": "stream",
     "text": [
      "Downloading:  32%|███▏      | 800/2533 [03:58<06:48,  4.24file/s]"
     ]
    },
    {
     "name": "stdout",
     "output_type": "stream",
     "text": [
      "Failed to download https://www.lamost.org/dr7/v2.0/spectrum/fits/881304014: 500 Server Error:  for url: https://www.lamost.org/dr7/v2.0/spectrum/fits/881304014\n",
      "Downloaded gal_spectra\\421906031\n",
      "Failed to download https://www.lamost.org/dr7/v2.0/spectrum/fits/881313027: 500 Server Error:  for url: https://www.lamost.org/dr7/v2.0/spectrum/fits/881313027\n"
     ]
    },
    {
     "name": "stderr",
     "output_type": "stream",
     "text": [
      "Downloading:  32%|███▏      | 802/2533 [04:00<13:41,  2.11file/s]"
     ]
    },
    {
     "name": "stdout",
     "output_type": "stream",
     "text": [
      "Failed to download https://www.lamost.org/dr7/v2.0/spectrum/fits/811303188: 500 Server Error:  for url: https://www.lamost.org/dr7/v2.0/spectrum/fits/811303188\n",
      "Downloaded gal_spectra\\105915099\n"
     ]
    },
    {
     "name": "stderr",
     "output_type": "stream",
     "text": [
      "Downloading:  32%|███▏      | 804/2533 [04:00<11:20,  2.54file/s]"
     ]
    },
    {
     "name": "stdout",
     "output_type": "stream",
     "text": [
      "Downloaded gal_spectra\\421914112\n"
     ]
    },
    {
     "name": "stderr",
     "output_type": "stream",
     "text": [
      "Downloading:  32%|███▏      | 805/2533 [04:00<10:23,  2.77file/s]"
     ]
    },
    {
     "name": "stdout",
     "output_type": "stream",
     "text": [
      "Downloaded gal_spectra\\105912106\n"
     ]
    },
    {
     "name": "stderr",
     "output_type": "stream",
     "text": [
      "Downloading:  32%|███▏      | 806/2533 [04:01<10:16,  2.80file/s]"
     ]
    },
    {
     "name": "stdout",
     "output_type": "stream",
     "text": [
      "Downloaded gal_spectra\\105912148\n"
     ]
    },
    {
     "name": "stderr",
     "output_type": "stream",
     "text": [
      "Downloading:  32%|███▏      | 807/2533 [04:01<11:38,  2.47file/s]"
     ]
    },
    {
     "name": "stdout",
     "output_type": "stream",
     "text": [
      "Downloaded gal_spectra\\421910073\n"
     ]
    },
    {
     "name": "stderr",
     "output_type": "stream",
     "text": [
      "Downloading:  32%|███▏      | 809/2533 [04:02<10:57,  2.62file/s]"
     ]
    },
    {
     "name": "stdout",
     "output_type": "stream",
     "text": [
      "Downloaded gal_spectra\\603110085\n",
      "Downloaded gal_spectra\\421909243\n"
     ]
    },
    {
     "name": "stderr",
     "output_type": "stream",
     "text": [
      "Downloading:  32%|███▏      | 810/2533 [04:02<09:46,  2.94file/s]"
     ]
    },
    {
     "name": "stdout",
     "output_type": "stream",
     "text": [
      "Downloaded gal_spectra\\301607189\n"
     ]
    },
    {
     "name": "stderr",
     "output_type": "stream",
     "text": [
      "Downloading:  32%|███▏      | 811/2533 [04:03<10:40,  2.69file/s]"
     ]
    },
    {
     "name": "stdout",
     "output_type": "stream",
     "text": [
      "Downloaded gal_spectra\\105914218\n"
     ]
    },
    {
     "name": "stderr",
     "output_type": "stream",
     "text": [
      "Downloading:  32%|███▏      | 812/2533 [04:03<09:59,  2.87file/s]"
     ]
    },
    {
     "name": "stdout",
     "output_type": "stream",
     "text": [
      "Downloaded gal_spectra\\105916038\n"
     ]
    },
    {
     "name": "stderr",
     "output_type": "stream",
     "text": [
      "Downloading:  32%|███▏      | 815/2533 [04:04<08:01,  3.57file/s]"
     ]
    },
    {
     "name": "stdout",
     "output_type": "stream",
     "text": [
      "Downloaded gal_spectra\\105916146\n",
      "Downloaded gal_spectra\\105916001\n",
      "Failed to download https://www.lamost.org/dr7/v2.0/spectrum/fits/793615022: 500 Server Error:  for url: https://www.lamost.org/dr7/v2.0/spectrum/fits/793615022\n",
      "Failed to download https://www.lamost.org/dr7/v2.0/spectrum/fits/793610214: 500 Server Error:  for url: https://www.lamost.org/dr7/v2.0/spectrum/fits/793610214\n"
     ]
    },
    {
     "name": "stderr",
     "output_type": "stream",
     "text": [
      "Downloading:  32%|███▏      | 817/2533 [04:04<05:48,  4.93file/s]"
     ]
    },
    {
     "name": "stdout",
     "output_type": "stream",
     "text": [
      "Failed to download https://www.lamost.org/dr7/v2.0/spectrum/fits/793603200: 500 Server Error:  for url: https://www.lamost.org/dr7/v2.0/spectrum/fits/793603200\n"
     ]
    },
    {
     "name": "stderr",
     "output_type": "stream",
     "text": [
      "Downloading:  32%|███▏      | 819/2533 [04:05<06:53,  4.15file/s]"
     ]
    },
    {
     "name": "stdout",
     "output_type": "stream",
     "text": [
      "Downloaded gal_spectra\\421911200\n",
      "Downloaded gal_spectra\\421913057\n"
     ]
    },
    {
     "name": "stderr",
     "output_type": "stream",
     "text": [
      "Downloading:  32%|███▏      | 821/2533 [04:06<09:46,  2.92file/s]"
     ]
    },
    {
     "name": "stdout",
     "output_type": "stream",
     "text": [
      "Downloaded gal_spectra\\301612030\n",
      "Downloaded gal_spectra\\615107163\n"
     ]
    },
    {
     "name": "stderr",
     "output_type": "stream",
     "text": [
      "Downloading:  32%|███▏      | 822/2533 [04:06<08:50,  3.23file/s]"
     ]
    },
    {
     "name": "stdout",
     "output_type": "stream",
     "text": [
      "Downloaded gal_spectra\\558610154\n"
     ]
    },
    {
     "name": "stderr",
     "output_type": "stream",
     "text": [
      "Downloading:  32%|███▏      | 823/2533 [04:07<10:43,  2.66file/s]"
     ]
    },
    {
     "name": "stdout",
     "output_type": "stream",
     "text": [
      "Downloaded gal_spectra\\285608226\n",
      "Downloaded gal_spectra\\285613043\n"
     ]
    },
    {
     "name": "stderr",
     "output_type": "stream",
     "text": [
      "Downloading:  33%|███▎      | 825/2533 [04:07<07:29,  3.80file/s]"
     ]
    },
    {
     "name": "stdout",
     "output_type": "stream",
     "text": [
      "Downloaded gal_spectra\\558609022\n"
     ]
    },
    {
     "name": "stderr",
     "output_type": "stream",
     "text": [
      "Downloading:  33%|███▎      | 826/2533 [04:07<08:58,  3.17file/s]"
     ]
    },
    {
     "name": "stdout",
     "output_type": "stream",
     "text": [
      "Failed to download https://www.lamost.org/dr7/v2.0/spectrum/fits/794101076: 500 Server Error:  for url: https://www.lamost.org/dr7/v2.0/spectrum/fits/794101076\n"
     ]
    },
    {
     "name": "stderr",
     "output_type": "stream",
     "text": [
      "Downloading:  33%|███▎      | 827/2533 [04:08<08:24,  3.38file/s]"
     ]
    },
    {
     "name": "stdout",
     "output_type": "stream",
     "text": [
      "Downloaded gal_spectra\\524110083\n"
     ]
    },
    {
     "name": "stderr",
     "output_type": "stream",
     "text": [
      "Downloading:  33%|███▎      | 828/2533 [04:08<08:53,  3.20file/s]"
     ]
    },
    {
     "name": "stdout",
     "output_type": "stream",
     "text": [
      "Downloaded gal_spectra\\558609046\n",
      "Downloaded gal_spectra\\403510006\n"
     ]
    },
    {
     "name": "stderr",
     "output_type": "stream",
     "text": [
      "Downloading:  33%|███▎      | 830/2533 [04:09<08:29,  3.34file/s]"
     ]
    },
    {
     "name": "stdout",
     "output_type": "stream",
     "text": [
      "Failed to download https://www.lamost.org/dr7/v2.0/spectrum/fits/890603186: 500 Server Error:  for url: https://www.lamost.org/dr7/v2.0/spectrum/fits/890603186\n"
     ]
    },
    {
     "name": "stderr",
     "output_type": "stream",
     "text": [
      "Downloading:  33%|███▎      | 831/2533 [04:09<08:01,  3.54file/s]"
     ]
    },
    {
     "name": "stdout",
     "output_type": "stream",
     "text": [
      "Failed to download https://www.lamost.org/dr7/v2.0/spectrum/fits/890603228: 500 Server Error:  for url: https://www.lamost.org/dr7/v2.0/spectrum/fits/890603228\n",
      "Downloaded gal_spectra\\401610174\n"
     ]
    },
    {
     "name": "stderr",
     "output_type": "stream",
     "text": [
      "Downloading:  33%|███▎      | 834/2533 [04:09<05:37,  5.03file/s]"
     ]
    },
    {
     "name": "stdout",
     "output_type": "stream",
     "text": [
      "Downloaded gal_spectra\\401605230\n",
      "Failed to download https://www.lamost.org/dr7/v2.0/spectrum/fits/793614062: 500 Server Error:  for url: https://www.lamost.org/dr7/v2.0/spectrum/fits/793614062\n"
     ]
    },
    {
     "name": "stderr",
     "output_type": "stream",
     "text": [
      "Downloading:  33%|███▎      | 837/2533 [04:10<04:26,  6.36file/s]"
     ]
    },
    {
     "name": "stdout",
     "output_type": "stream",
     "text": [
      "Downloaded gal_spectra\\198802122\n",
      "Downloaded gal_spectra\\421914125\n",
      "Downloaded gal_spectra\\318015147\n",
      "Downloaded gal_spectra\\401607224\n"
     ]
    },
    {
     "name": "stderr",
     "output_type": "stream",
     "text": [
      "Downloading:  33%|███▎      | 839/2533 [04:10<03:59,  7.07file/s]"
     ]
    },
    {
     "name": "stdout",
     "output_type": "stream",
     "text": [
      "Failed to download https://www.lamost.org/dr7/v2.0/spectrum/fits/793614239: 500 Server Error:  for url: https://www.lamost.org/dr7/v2.0/spectrum/fits/793614239\n"
     ]
    },
    {
     "name": "stderr",
     "output_type": "stream",
     "text": [
      "Downloading:  33%|███▎      | 840/2533 [04:10<06:41,  4.22file/s]"
     ]
    },
    {
     "name": "stdout",
     "output_type": "stream",
     "text": [
      "Downloaded gal_spectra\\401603228\n"
     ]
    },
    {
     "name": "stderr",
     "output_type": "stream",
     "text": [
      "Downloading:  33%|███▎      | 841/2533 [04:11<08:34,  3.29file/s]"
     ]
    },
    {
     "name": "stdout",
     "output_type": "stream",
     "text": [
      "Downloaded gal_spectra\\265314168\n"
     ]
    },
    {
     "name": "stderr",
     "output_type": "stream",
     "text": [
      "Downloading:  33%|███▎      | 842/2533 [04:12<13:16,  2.12file/s]"
     ]
    },
    {
     "name": "stdout",
     "output_type": "stream",
     "text": [
      "Downloaded gal_spectra\\401612068\n"
     ]
    },
    {
     "name": "stderr",
     "output_type": "stream",
     "text": [
      "Downloading:  33%|███▎      | 843/2533 [04:12<11:54,  2.37file/s]"
     ]
    },
    {
     "name": "stdout",
     "output_type": "stream",
     "text": [
      "Downloaded gal_spectra\\198809177\n",
      "Downloaded gal_spectra\\615114151\n"
     ]
    },
    {
     "name": "stderr",
     "output_type": "stream",
     "text": [
      "Downloading:  33%|███▎      | 845/2533 [04:12<08:36,  3.27file/s]"
     ]
    },
    {
     "name": "stdout",
     "output_type": "stream",
     "text": [
      "Downloaded gal_spectra\\496311210\n",
      "Downloaded gal_spectra\\401612054\n",
      "Downloaded gal_spectra\\401610085\n"
     ]
    },
    {
     "name": "stderr",
     "output_type": "stream",
     "text": [
      "Downloading:  33%|███▎      | 848/2533 [04:13<06:47,  4.14file/s]"
     ]
    },
    {
     "name": "stdout",
     "output_type": "stream",
     "text": [
      "Downloaded gal_spectra\\403511203\n",
      "Downloaded gal_spectra\\615115055\n"
     ]
    },
    {
     "name": "stderr",
     "output_type": "stream",
     "text": [
      "Downloading:  34%|███▎      | 850/2533 [04:13<06:39,  4.21file/s]"
     ]
    },
    {
     "name": "stdout",
     "output_type": "stream",
     "text": [
      "Downloaded gal_spectra\\615110087\n"
     ]
    },
    {
     "name": "stderr",
     "output_type": "stream",
     "text": [
      "Downloading:  34%|███▎      | 853/2533 [04:14<06:42,  4.17file/s]"
     ]
    },
    {
     "name": "stdout",
     "output_type": "stream",
     "text": [
      "Failed to download https://www.lamost.org/dr7/v2.0/spectrum/fits/794104192: 500 Server Error:  for url: https://www.lamost.org/dr7/v2.0/spectrum/fits/794104192\n",
      "Downloaded gal_spectra\\604508150\n",
      "Failed to download https://www.lamost.org/dr7/v2.0/spectrum/fits/794105247: 500 Server Error:  for url: https://www.lamost.org/dr7/v2.0/spectrum/fits/794105247\n"
     ]
    },
    {
     "name": "stderr",
     "output_type": "stream",
     "text": [
      "Downloading:  34%|███▎      | 854/2533 [04:14<06:33,  4.27file/s]"
     ]
    },
    {
     "name": "stdout",
     "output_type": "stream",
     "text": [
      "Downloaded gal_spectra\\604503049\n",
      "Failed to download https://www.lamost.org/dr7/v2.0/spectrum/fits/890615066: 500 Server Error:  for url: https://www.lamost.org/dr7/v2.0/spectrum/fits/890615066\n",
      "Downloaded gal_spectra\\438006004\n"
     ]
    },
    {
     "name": "stderr",
     "output_type": "stream",
     "text": [
      "Downloading:  34%|███▍      | 858/2533 [04:15<05:10,  5.40file/s]"
     ]
    },
    {
     "name": "stdout",
     "output_type": "stream",
     "text": [
      "Downloaded gal_spectra\\604505078\n",
      "Downloaded gal_spectra\\628906202\n"
     ]
    },
    {
     "name": "stderr",
     "output_type": "stream",
     "text": [
      "Downloading:  34%|███▍      | 860/2533 [04:15<04:23,  6.34file/s]"
     ]
    },
    {
     "name": "stdout",
     "output_type": "stream",
     "text": [
      "Downloaded gal_spectra\\604501191\n",
      "Failed to download https://www.lamost.org/dr7/v2.0/spectrum/fits/881313031: 500 Server Error:  for url: https://www.lamost.org/dr7/v2.0/spectrum/fits/881313031\n"
     ]
    },
    {
     "name": "stderr",
     "output_type": "stream",
     "text": [
      "Downloading:  34%|███▍      | 862/2533 [04:16<08:15,  3.38file/s]"
     ]
    },
    {
     "name": "stdout",
     "output_type": "stream",
     "text": [
      "Downloaded gal_spectra\\603103217\n"
     ]
    },
    {
     "name": "stderr",
     "output_type": "stream",
     "text": [
      "Downloading:  34%|███▍      | 864/2533 [04:17<05:45,  4.82file/s]"
     ]
    },
    {
     "name": "stdout",
     "output_type": "stream",
     "text": [
      "Downloaded gal_spectra\\603104137\n",
      "Downloaded gal_spectra\\603112056\n",
      "Downloaded gal_spectra\\603111196\n"
     ]
    },
    {
     "name": "stderr",
     "output_type": "stream",
     "text": [
      "Downloading:  34%|███▍      | 866/2533 [04:17<06:12,  4.48file/s]"
     ]
    },
    {
     "name": "stdout",
     "output_type": "stream",
     "text": [
      "Downloaded gal_spectra\\438101226\n",
      "Downloaded gal_spectra\\603111066\n"
     ]
    },
    {
     "name": "stderr",
     "output_type": "stream",
     "text": [
      "Downloading:  34%|███▍      | 867/2533 [04:17<05:55,  4.68file/s]"
     ]
    },
    {
     "name": "stdout",
     "output_type": "stream",
     "text": [
      "Downloaded gal_spectra\\500910169\n"
     ]
    },
    {
     "name": "stderr",
     "output_type": "stream",
     "text": [
      "Downloading:  34%|███▍      | 868/2533 [04:18<10:13,  2.72file/s]"
     ]
    },
    {
     "name": "stdout",
     "output_type": "stream",
     "text": [
      "Downloaded gal_spectra\\196514185\n"
     ]
    },
    {
     "name": "stderr",
     "output_type": "stream",
     "text": [
      "Downloading:  34%|███▍      | 870/2533 [04:19<08:42,  3.19file/s]"
     ]
    },
    {
     "name": "stdout",
     "output_type": "stream",
     "text": [
      "Downloaded gal_spectra\\500903054\n",
      "Downloaded gal_spectra\\499115192\n"
     ]
    },
    {
     "name": "stderr",
     "output_type": "stream",
     "text": [
      "Downloading:  34%|███▍      | 871/2533 [04:19<08:24,  3.30file/s]"
     ]
    },
    {
     "name": "stdout",
     "output_type": "stream",
     "text": [
      "Downloaded gal_spectra\\499103243\n"
     ]
    },
    {
     "name": "stderr",
     "output_type": "stream",
     "text": [
      "Downloading:  34%|███▍      | 872/2533 [04:19<08:03,  3.43file/s]"
     ]
    },
    {
     "name": "stdout",
     "output_type": "stream",
     "text": [
      "Downloaded gal_spectra\\500904211\n",
      "Downloaded gal_spectra\\500909099\n",
      "Downloaded gal_spectra\\603115243\n"
     ]
    },
    {
     "name": "stderr",
     "output_type": "stream",
     "text": [
      "Downloading:  35%|███▍      | 875/2533 [04:19<04:42,  5.87file/s]"
     ]
    },
    {
     "name": "stdout",
     "output_type": "stream",
     "text": [
      "Downloaded gal_spectra\\220108138\n"
     ]
    },
    {
     "name": "stderr",
     "output_type": "stream",
     "text": [
      "Downloading:  35%|███▍      | 877/2533 [04:20<04:59,  5.52file/s]"
     ]
    },
    {
     "name": "stdout",
     "output_type": "stream",
     "text": [
      "Downloaded gal_spectra\\500915118\n",
      "Downloaded gal_spectra\\196504210\n"
     ]
    },
    {
     "name": "stderr",
     "output_type": "stream",
     "text": [
      "Downloading:  35%|███▍      | 878/2533 [04:20<06:06,  4.52file/s]"
     ]
    },
    {
     "name": "stdout",
     "output_type": "stream",
     "text": [
      "Downloaded gal_spectra\\438108014\n"
     ]
    },
    {
     "name": "stderr",
     "output_type": "stream",
     "text": [
      "Downloading:  35%|███▍      | 879/2533 [04:21<12:31,  2.20file/s]"
     ]
    },
    {
     "name": "stdout",
     "output_type": "stream",
     "text": [
      "Downloaded gal_spectra\\500916012\n",
      "Downloaded gal_spectra\\438110116\n",
      "Failed to download https://www.lamost.org/dr7/v2.0/spectrum/fits/793612124: 500 Server Error:  for url: https://www.lamost.org/dr7/v2.0/spectrum/fits/793612124\n"
     ]
    },
    {
     "name": "stderr",
     "output_type": "stream",
     "text": [
      "Downloading:  35%|███▍      | 882/2533 [04:22<07:58,  3.45file/s]"
     ]
    },
    {
     "name": "stdout",
     "output_type": "stream",
     "text": [
      "Downloaded gal_spectra\\220112104\n"
     ]
    },
    {
     "name": "stderr",
     "output_type": "stream",
     "text": [
      "Downloading:  35%|███▍      | 884/2533 [04:22<07:12,  3.81file/s]"
     ]
    },
    {
     "name": "stdout",
     "output_type": "stream",
     "text": [
      "Downloaded gal_spectra\\438113203\n",
      "Downloaded gal_spectra\\438103076\n"
     ]
    },
    {
     "name": "stderr",
     "output_type": "stream",
     "text": [
      "Downloading:  35%|███▍      | 885/2533 [04:23<08:04,  3.40file/s]"
     ]
    },
    {
     "name": "stdout",
     "output_type": "stream",
     "text": [
      "Failed to download https://www.lamost.org/dr7/v2.0/spectrum/fits/867706185: 500 Server Error:  for url: https://www.lamost.org/dr7/v2.0/spectrum/fits/867706185\n"
     ]
    },
    {
     "name": "stderr",
     "output_type": "stream",
     "text": [
      "Downloading:  35%|███▌      | 887/2533 [04:23<07:11,  3.81file/s]"
     ]
    },
    {
     "name": "stdout",
     "output_type": "stream",
     "text": [
      "Downloaded gal_spectra\\615113008\n",
      "Downloaded gal_spectra\\49110131\n"
     ]
    },
    {
     "name": "stderr",
     "output_type": "stream",
     "text": [
      "Downloading:  35%|███▌      | 888/2533 [04:23<06:08,  4.46file/s]"
     ]
    },
    {
     "name": "stdout",
     "output_type": "stream",
     "text": [
      "Downloaded gal_spectra\\438102140\n",
      "Downloaded gal_spectra\\615107115\n"
     ]
    },
    {
     "name": "stderr",
     "output_type": "stream",
     "text": [
      "Downloading:  35%|███▌      | 890/2533 [04:24<05:11,  5.27file/s]"
     ]
    },
    {
     "name": "stdout",
     "output_type": "stream",
     "text": [
      "Downloaded gal_spectra\\399606108\n",
      "Failed to download https://www.lamost.org/dr7/v2.0/spectrum/fits/867706209: 500 Server Error:  for url: https://www.lamost.org/dr7/v2.0/spectrum/fits/867706209\n"
     ]
    },
    {
     "name": "stderr",
     "output_type": "stream",
     "text": [
      "Downloading:  35%|███▌      | 893/2533 [04:24<05:25,  5.03file/s]"
     ]
    },
    {
     "name": "stdout",
     "output_type": "stream",
     "text": [
      "Downloaded gal_spectra\\438109123\n",
      "Downloaded gal_spectra\\278506075\n"
     ]
    },
    {
     "name": "stderr",
     "output_type": "stream",
     "text": [
      "Downloading:  35%|███▌      | 894/2533 [04:24<05:13,  5.24file/s]"
     ]
    },
    {
     "name": "stdout",
     "output_type": "stream",
     "text": [
      "Downloaded gal_spectra\\278505051\n",
      "Failed to download https://www.lamost.org/dr7/v2.0/spectrum/fits/867713096: 500 Server Error:  for url: https://www.lamost.org/dr7/v2.0/spectrum/fits/867713096\n",
      "Failed to download https://www.lamost.org/dr7/v2.0/spectrum/fits/867712076: 500 Server Error:  for url: https://www.lamost.org/dr7/v2.0/spectrum/fits/867712076\n"
     ]
    },
    {
     "name": "stderr",
     "output_type": "stream",
     "text": [
      "Downloading:  35%|███▌      | 897/2533 [04:25<06:08,  4.44file/s]"
     ]
    },
    {
     "name": "stdout",
     "output_type": "stream",
     "text": [
      "Downloaded gal_spectra\\399613240\n"
     ]
    },
    {
     "name": "stderr",
     "output_type": "stream",
     "text": [
      "Downloading:  35%|███▌      | 899/2533 [04:26<07:03,  3.86file/s]"
     ]
    },
    {
     "name": "stdout",
     "output_type": "stream",
     "text": [
      "Downloaded gal_spectra\\500912026\n",
      "Downloaded gal_spectra\\399613153\n"
     ]
    },
    {
     "name": "stderr",
     "output_type": "stream",
     "text": [
      "Downloading:  36%|███▌      | 900/2533 [04:26<06:10,  4.40file/s]"
     ]
    },
    {
     "name": "stdout",
     "output_type": "stream",
     "text": [
      "Downloaded gal_spectra\\278513154\n"
     ]
    },
    {
     "name": "stderr",
     "output_type": "stream",
     "text": [
      "Downloading:  36%|███▌      | 901/2533 [04:27<09:02,  3.01file/s]"
     ]
    },
    {
     "name": "stdout",
     "output_type": "stream",
     "text": [
      "Downloaded gal_spectra\\617615002\n",
      "Downloaded gal_spectra\\617610101\n"
     ]
    },
    {
     "name": "stderr",
     "output_type": "stream",
     "text": [
      "Downloading:  36%|███▌      | 905/2533 [04:27<05:20,  5.08file/s]"
     ]
    },
    {
     "name": "stdout",
     "output_type": "stream",
     "text": [
      "Downloaded gal_spectra\\283704215\n",
      "Downloaded gal_spectra\\617606099\n",
      "Downloaded gal_spectra\\283708016\n"
     ]
    },
    {
     "name": "stderr",
     "output_type": "stream",
     "text": [
      "Downloading:  36%|███▌      | 906/2533 [04:27<04:47,  5.66file/s]"
     ]
    },
    {
     "name": "stdout",
     "output_type": "stream",
     "text": [
      "Downloaded gal_spectra\\278513001\n"
     ]
    },
    {
     "name": "stderr",
     "output_type": "stream",
     "text": [
      "Downloading:  36%|███▌      | 907/2533 [04:28<05:43,  4.73file/s]"
     ]
    },
    {
     "name": "stdout",
     "output_type": "stream",
     "text": [
      "Downloaded gal_spectra\\713502181\n"
     ]
    },
    {
     "name": "stderr",
     "output_type": "stream",
     "text": [
      "Downloading:  36%|███▌      | 909/2533 [04:28<05:12,  5.20file/s]"
     ]
    },
    {
     "name": "stdout",
     "output_type": "stream",
     "text": [
      "Downloaded gal_spectra\\558216220\n",
      "Downloaded gal_spectra\\298703224\n"
     ]
    },
    {
     "name": "stderr",
     "output_type": "stream",
     "text": [
      "Downloading:  36%|███▌      | 910/2533 [04:29<09:26,  2.86file/s]"
     ]
    },
    {
     "name": "stdout",
     "output_type": "stream",
     "text": [
      "Downloaded gal_spectra\\644716115\n",
      "Downloaded gal_spectra\\644712233\n"
     ]
    },
    {
     "name": "stderr",
     "output_type": "stream",
     "text": [
      "Downloading:  36%|███▌      | 912/2533 [04:30<12:11,  2.22file/s]"
     ]
    },
    {
     "name": "stdout",
     "output_type": "stream",
     "text": [
      "Downloaded gal_spectra\\615104232\n",
      "Downloaded gal_spectra\\615106079\n"
     ]
    },
    {
     "name": "stderr",
     "output_type": "stream",
     "text": [
      "Downloading:  36%|███▌      | 914/2533 [04:31<11:33,  2.33file/s]"
     ]
    },
    {
     "name": "stdout",
     "output_type": "stream",
     "text": [
      "Downloaded gal_spectra\\615104118\n"
     ]
    },
    {
     "name": "stderr",
     "output_type": "stream",
     "text": [
      "Downloading:  36%|███▌      | 915/2533 [04:31<13:04,  2.06file/s]"
     ]
    },
    {
     "name": "stdout",
     "output_type": "stream",
     "text": [
      "Downloaded gal_spectra\\528308160\n",
      "Downloaded gal_spectra\\302912056\n"
     ]
    },
    {
     "name": "stderr",
     "output_type": "stream",
     "text": [
      "Downloading:  36%|███▌      | 917/2533 [04:32<11:43,  2.30file/s]"
     ]
    },
    {
     "name": "stdout",
     "output_type": "stream",
     "text": [
      "Downloaded gal_spectra\\399603172\n"
     ]
    },
    {
     "name": "stderr",
     "output_type": "stream",
     "text": [
      "Downloading:  36%|███▌      | 918/2533 [04:32<11:35,  2.32file/s]"
     ]
    },
    {
     "name": "stdout",
     "output_type": "stream",
     "text": [
      "Downloaded gal_spectra\\708209209\n",
      "Failed to download https://www.lamost.org/dr7/v2.0/spectrum/fits/867704033: 500 Server Error:  for url: https://www.lamost.org/dr7/v2.0/spectrum/fits/867704033\n"
     ]
    },
    {
     "name": "stderr",
     "output_type": "stream",
     "text": [
      "Downloading:  36%|███▋      | 920/2533 [04:33<08:49,  3.05file/s]"
     ]
    },
    {
     "name": "stdout",
     "output_type": "stream",
     "text": [
      "Downloaded gal_spectra\\615112143\n"
     ]
    },
    {
     "name": "stderr",
     "output_type": "stream",
     "text": [
      "Downloading:  36%|███▋      | 921/2533 [04:33<10:03,  2.67file/s]"
     ]
    },
    {
     "name": "stdout",
     "output_type": "stream",
     "text": [
      "Downloaded gal_spectra\\708209041\n"
     ]
    },
    {
     "name": "stderr",
     "output_type": "stream",
     "text": [
      "Downloading:  36%|███▋      | 923/2533 [04:34<07:49,  3.43file/s]"
     ]
    },
    {
     "name": "stdout",
     "output_type": "stream",
     "text": [
      "Failed to download https://www.lamost.org/dr7/v2.0/spectrum/fits/867715199: 500 Server Error:  for url: https://www.lamost.org/dr7/v2.0/spectrum/fits/867715199\n",
      "Downloaded gal_spectra\\278503172\n"
     ]
    },
    {
     "name": "stderr",
     "output_type": "stream",
     "text": [
      "Downloading:  37%|███▋      | 925/2533 [04:35<09:48,  2.73file/s]"
     ]
    },
    {
     "name": "stdout",
     "output_type": "stream",
     "text": [
      "Downloaded gal_spectra\\491807249\n",
      "Downloaded gal_spectra\\278510171\n"
     ]
    },
    {
     "name": "stderr",
     "output_type": "stream",
     "text": [
      "Downloading:  37%|███▋      | 926/2533 [04:35<11:50,  2.26file/s]"
     ]
    },
    {
     "name": "stdout",
     "output_type": "stream",
     "text": [
      "Downloaded gal_spectra\\399615248\n"
     ]
    },
    {
     "name": "stderr",
     "output_type": "stream",
     "text": [
      "Downloading:  37%|███▋      | 927/2533 [04:36<10:27,  2.56file/s]"
     ]
    },
    {
     "name": "stdout",
     "output_type": "stream",
     "text": [
      "Downloaded gal_spectra\\491807100\n"
     ]
    },
    {
     "name": "stderr",
     "output_type": "stream",
     "text": [
      "Downloading:  37%|███▋      | 928/2533 [04:36<13:52,  1.93file/s]"
     ]
    },
    {
     "name": "stdout",
     "output_type": "stream",
     "text": [
      "Downloaded gal_spectra\\399612138\n"
     ]
    },
    {
     "name": "stderr",
     "output_type": "stream",
     "text": [
      "Downloading:  37%|███▋      | 930/2533 [04:37<10:38,  2.51file/s]"
     ]
    },
    {
     "name": "stdout",
     "output_type": "stream",
     "text": [
      "Downloaded gal_spectra\\708209064\n",
      "Downloaded gal_spectra\\278511026\n",
      "Downloaded gal_spectra\\491807081\n"
     ]
    },
    {
     "name": "stderr",
     "output_type": "stream",
     "text": [
      "Downloading:  37%|███▋      | 933/2533 [04:38<07:43,  3.45file/s]"
     ]
    },
    {
     "name": "stdout",
     "output_type": "stream",
     "text": [
      "Failed to download https://www.lamost.org/dr7/v2.0/spectrum/fits/882301054: 500 Server Error:  for url: https://www.lamost.org/dr7/v2.0/spectrum/fits/882301054\n",
      "Downloaded gal_spectra\\491808055\n"
     ]
    },
    {
     "name": "stderr",
     "output_type": "stream",
     "text": [
      "Downloading:  37%|███▋      | 934/2533 [04:38<09:39,  2.76file/s]"
     ]
    },
    {
     "name": "stdout",
     "output_type": "stream",
     "text": [
      "Downloaded gal_spectra\\399612143\n",
      "Downloaded gal_spectra\\604506208\n"
     ]
    },
    {
     "name": "stderr",
     "output_type": "stream",
     "text": [
      "Downloading:  37%|███▋      | 936/2533 [04:39<08:14,  3.23file/s]"
     ]
    },
    {
     "name": "stdout",
     "output_type": "stream",
     "text": [
      "Downloaded gal_spectra\\491806220\n"
     ]
    },
    {
     "name": "stderr",
     "output_type": "stream",
     "text": [
      "Downloading:  37%|███▋      | 937/2533 [04:39<08:53,  2.99file/s]"
     ]
    },
    {
     "name": "stdout",
     "output_type": "stream",
     "text": [
      "Downloaded gal_spectra\\491804114\n"
     ]
    },
    {
     "name": "stderr",
     "output_type": "stream",
     "text": [
      "Downloading:  37%|███▋      | 939/2533 [04:40<10:37,  2.50file/s]"
     ]
    },
    {
     "name": "stdout",
     "output_type": "stream",
     "text": [
      "Downloaded gal_spectra\\491809120\n",
      "Downloaded gal_spectra\\216506007\n"
     ]
    },
    {
     "name": "stderr",
     "output_type": "stream",
     "text": [
      "Downloading:  37%|███▋      | 940/2533 [04:40<08:38,  3.07file/s]"
     ]
    },
    {
     "name": "stdout",
     "output_type": "stream",
     "text": [
      "Downloaded gal_spectra\\216503171\n"
     ]
    },
    {
     "name": "stderr",
     "output_type": "stream",
     "text": [
      "Downloading:  37%|███▋      | 941/2533 [04:41<10:11,  2.60file/s]"
     ]
    },
    {
     "name": "stdout",
     "output_type": "stream",
     "text": [
      "Downloaded gal_spectra\\419707007\n",
      "Downloaded gal_spectra\\419708116\n"
     ]
    },
    {
     "name": "stderr",
     "output_type": "stream",
     "text": [
      "Downloading:  37%|███▋      | 943/2533 [04:41<07:25,  3.57file/s]"
     ]
    },
    {
     "name": "stdout",
     "output_type": "stream",
     "text": [
      "Downloaded gal_spectra\\713501180\n",
      "Downloaded gal_spectra\\419706038\n"
     ]
    },
    {
     "name": "stderr",
     "output_type": "stream",
     "text": [
      "Downloading:  37%|███▋      | 945/2533 [04:42<07:51,  3.37file/s]"
     ]
    },
    {
     "name": "stdout",
     "output_type": "stream",
     "text": [
      "Downloaded gal_spectra\\491809227\n"
     ]
    },
    {
     "name": "stderr",
     "output_type": "stream",
     "text": [
      "Downloading:  37%|███▋      | 946/2533 [04:42<07:42,  3.43file/s]"
     ]
    },
    {
     "name": "stdout",
     "output_type": "stream",
     "text": [
      "Downloaded gal_spectra\\604509163\n"
     ]
    },
    {
     "name": "stderr",
     "output_type": "stream",
     "text": [
      "Downloading:  37%|███▋      | 949/2533 [04:43<07:43,  3.42file/s]"
     ]
    },
    {
     "name": "stdout",
     "output_type": "stream",
     "text": [
      "Downloaded gal_spectra\\644713179\n",
      "Downloaded gal_spectra\\708216223\n",
      "Downloaded gal_spectra\\713507014\n"
     ]
    },
    {
     "name": "stderr",
     "output_type": "stream",
     "text": [
      "Downloading:  38%|███▊      | 951/2533 [04:43<05:28,  4.82file/s]"
     ]
    },
    {
     "name": "stdout",
     "output_type": "stream",
     "text": [
      "Downloaded gal_spectra\\644712173\n",
      "Downloaded gal_spectra\\713506191\n"
     ]
    },
    {
     "name": "stderr",
     "output_type": "stream",
     "text": [
      "Downloading:  38%|███▊      | 952/2533 [04:44<09:33,  2.76file/s]"
     ]
    },
    {
     "name": "stdout",
     "output_type": "stream",
     "text": [
      "Downloaded gal_spectra\\441110045\n"
     ]
    },
    {
     "name": "stderr",
     "output_type": "stream",
     "text": [
      "Downloading:  38%|███▊      | 955/2533 [04:45<08:34,  3.06file/s]"
     ]
    },
    {
     "name": "stdout",
     "output_type": "stream",
     "text": [
      "Downloaded gal_spectra\\232610172\n",
      "Downloaded gal_spectra\\573709010\n",
      "Downloaded gal_spectra\\573704026\n",
      "Downloaded gal_spectra\\644713028\n"
     ]
    },
    {
     "name": "stderr",
     "output_type": "stream",
     "text": [
      "Downloading:  38%|███▊      | 957/2533 [04:46<06:52,  3.82file/s]"
     ]
    },
    {
     "name": "stdout",
     "output_type": "stream",
     "text": [
      "Downloaded gal_spectra\\573704175\n"
     ]
    },
    {
     "name": "stderr",
     "output_type": "stream",
     "text": [
      "Downloading:  38%|███▊      | 958/2533 [04:46<07:41,  3.42file/s]"
     ]
    },
    {
     "name": "stdout",
     "output_type": "stream",
     "text": [
      "Downloaded gal_spectra\\232605045\n"
     ]
    },
    {
     "name": "stderr",
     "output_type": "stream",
     "text": [
      "Downloading:  38%|███▊      | 959/2533 [04:46<08:05,  3.24file/s]"
     ]
    },
    {
     "name": "stdout",
     "output_type": "stream",
     "text": [
      "Downloaded gal_spectra\\573703064\n"
     ]
    },
    {
     "name": "stderr",
     "output_type": "stream",
     "text": [
      "Downloading:  38%|███▊      | 961/2533 [04:47<08:58,  2.92file/s]"
     ]
    },
    {
     "name": "stdout",
     "output_type": "stream",
     "text": [
      "Downloaded gal_spectra\\713506159\n",
      "Downloaded gal_spectra\\573703106\n",
      "Downloaded gal_spectra\\573713063\n"
     ]
    },
    {
     "name": "stderr",
     "output_type": "stream",
     "text": [
      "Downloading:  38%|███▊      | 963/2533 [04:48<06:41,  3.91file/s]"
     ]
    },
    {
     "name": "stdout",
     "output_type": "stream",
     "text": [
      "Downloaded gal_spectra\\566510130\n"
     ]
    },
    {
     "name": "stderr",
     "output_type": "stream",
     "text": [
      "Downloading:  38%|███▊      | 964/2533 [04:48<07:40,  3.41file/s]"
     ]
    },
    {
     "name": "stdout",
     "output_type": "stream",
     "text": [
      "Downloaded gal_spectra\\422213248\n"
     ]
    },
    {
     "name": "stderr",
     "output_type": "stream",
     "text": [
      "Downloading:  38%|███▊      | 965/2533 [04:49<12:13,  2.14file/s]"
     ]
    },
    {
     "name": "stdout",
     "output_type": "stream",
     "text": [
      "Downloaded gal_spectra\\713514080\n"
     ]
    },
    {
     "name": "stderr",
     "output_type": "stream",
     "text": [
      "Downloading:  38%|███▊      | 967/2533 [04:49<09:16,  2.81file/s]"
     ]
    },
    {
     "name": "stdout",
     "output_type": "stream",
     "text": [
      "Failed to download https://www.lamost.org/dr7/v2.0/spectrum/fits/803607033: 500 Server Error:  for url: https://www.lamost.org/dr7/v2.0/spectrum/fits/803607033\n",
      "Downloaded gal_spectra\\457103112\n",
      "Failed to download https://www.lamost.org/dr7/v2.0/spectrum/fits/457106192: 500 Server Error:  for url: https://www.lamost.org/dr7/v2.0/spectrum/fits/457106192\n"
     ]
    },
    {
     "name": "stderr",
     "output_type": "stream",
     "text": [
      "Downloading:  38%|███▊      | 969/2533 [04:50<09:17,  2.80file/s]"
     ]
    },
    {
     "name": "stdout",
     "output_type": "stream",
     "text": [
      "Failed to download https://www.lamost.org/dr7/v2.0/spectrum/fits/803607047: 500 Server Error:  for url: https://www.lamost.org/dr7/v2.0/spectrum/fits/803607047\n",
      "Downloaded gal_spectra\\457114165\n",
      "Downloaded gal_spectra\\229408126\n"
     ]
    },
    {
     "name": "stderr",
     "output_type": "stream",
     "text": [
      "Downloading:  38%|███▊      | 972/2533 [04:51<07:07,  3.65file/s]"
     ]
    },
    {
     "name": "stdout",
     "output_type": "stream",
     "text": [
      "Downloaded gal_spectra\\232612065\n",
      "Downloaded gal_spectra\\229413069\n"
     ]
    },
    {
     "name": "stderr",
     "output_type": "stream",
     "text": [
      "Downloading:  38%|███▊      | 975/2533 [04:52<06:52,  3.78file/s]"
     ]
    },
    {
     "name": "stdout",
     "output_type": "stream",
     "text": [
      "Downloaded gal_spectra\\457108026\n",
      "Downloaded gal_spectra\\229404204\n"
     ]
    },
    {
     "name": "stderr",
     "output_type": "stream",
     "text": [
      "Downloading:  39%|███▊      | 978/2533 [04:52<06:40,  3.88file/s]"
     ]
    },
    {
     "name": "stdout",
     "output_type": "stream",
     "text": [
      "Downloaded gal_spectra\\457111235\n",
      "Downloaded gal_spectra\\457111034\n",
      "Downloaded gal_spectra\\746810233\n"
     ]
    },
    {
     "name": "stderr",
     "output_type": "stream",
     "text": [
      "Downloading:  39%|███▊      | 979/2533 [04:53<08:00,  3.23file/s]"
     ]
    },
    {
     "name": "stdout",
     "output_type": "stream",
     "text": [
      "Downloaded gal_spectra\\565705228\n",
      "Downloaded gal_spectra\\457112072\n"
     ]
    },
    {
     "name": "stderr",
     "output_type": "stream",
     "text": [
      "Downloading:  39%|███▉      | 983/2533 [04:53<05:01,  5.14file/s]"
     ]
    },
    {
     "name": "stdout",
     "output_type": "stream",
     "text": [
      "Downloaded gal_spectra\\243312133\n",
      "Failed to download https://www.lamost.org/dr7/v2.0/spectrum/fits/820607235: 500 Server Error:  for url: https://www.lamost.org/dr7/v2.0/spectrum/fits/820607235\n",
      "Failed to download https://www.lamost.org/dr7/v2.0/spectrum/fits/812812246: 500 Server Error:  for url: https://www.lamost.org/dr7/v2.0/spectrum/fits/812812246\n",
      "Downloaded gal_spectra\\457104033\n",
      "Downloaded gal_spectra\\651101134\n"
     ]
    },
    {
     "name": "stderr",
     "output_type": "stream",
     "text": [
      "Downloading:  39%|███▉      | 987/2533 [04:54<04:53,  5.27file/s]"
     ]
    },
    {
     "name": "stdout",
     "output_type": "stream",
     "text": [
      "Failed to download https://www.lamost.org/dr7/v2.0/spectrum/fits/891305056: 500 Server Error:  for url: https://www.lamost.org/dr7/v2.0/spectrum/fits/891305056\n",
      "Failed to download https://www.lamost.org/dr7/v2.0/spectrum/fits/803605152: 500 Server Error:  for url: https://www.lamost.org/dr7/v2.0/spectrum/fits/803605152\n",
      "Failed to download https://www.lamost.org/dr7/v2.0/spectrum/fits/891305100: 500 Server Error:  for url: https://www.lamost.org/dr7/v2.0/spectrum/fits/891305100\n"
     ]
    },
    {
     "name": "stderr",
     "output_type": "stream",
     "text": [
      "Downloading:  39%|███▉      | 991/2533 [04:55<03:46,  6.80file/s]"
     ]
    },
    {
     "name": "stdout",
     "output_type": "stream",
     "text": [
      "Downloaded gal_spectra\\565704028\n",
      "Failed to download https://www.lamost.org/dr7/v2.0/spectrum/fits/803609064: 500 Server Error:  for url: https://www.lamost.org/dr7/v2.0/spectrum/fits/803609064\n",
      "Failed to download https://www.lamost.org/dr7/v2.0/spectrum/fits/803615133: 500 Server Error:  for url: https://www.lamost.org/dr7/v2.0/spectrum/fits/803615133\n"
     ]
    },
    {
     "name": "stderr",
     "output_type": "stream",
     "text": [
      "Downloading:  39%|███▉      | 994/2533 [04:55<04:18,  5.96file/s]"
     ]
    },
    {
     "name": "stdout",
     "output_type": "stream",
     "text": [
      "Failed to download https://www.lamost.org/dr7/v2.0/spectrum/fits/803608110: 500 Server Error:  for url: https://www.lamost.org/dr7/v2.0/spectrum/fits/803608110\n",
      "Failed to download https://www.lamost.org/dr7/v2.0/spectrum/fits/803615037: 500 Server Error:  for url: https://www.lamost.org/dr7/v2.0/spectrum/fits/803615037\n",
      "Failed to download https://www.lamost.org/dr7/v2.0/spectrum/fits/803616125: 500 Server Error:  for url: https://www.lamost.org/dr7/v2.0/spectrum/fits/803616125\n"
     ]
    },
    {
     "name": "stderr",
     "output_type": "stream",
     "text": [
      "Downloading:  39%|███▉      | 995/2533 [04:56<07:44,  3.31file/s]"
     ]
    },
    {
     "name": "stdout",
     "output_type": "stream",
     "text": [
      "Downloaded gal_spectra\\531507085\n",
      "Downloaded gal_spectra\\343601232\n"
     ]
    },
    {
     "name": "stderr",
     "output_type": "stream",
     "text": [
      "Downloading:  39%|███▉      | 997/2533 [04:56<05:59,  4.27file/s]"
     ]
    },
    {
     "name": "stdout",
     "output_type": "stream",
     "text": [
      "Failed to download https://www.lamost.org/dr7/v2.0/spectrum/fits/907101159: 500 Server Error:  for url: https://www.lamost.org/dr7/v2.0/spectrum/fits/907101159\n"
     ]
    },
    {
     "name": "stderr",
     "output_type": "stream",
     "text": [
      "Downloading:  39%|███▉      | 998/2533 [04:57<06:46,  3.78file/s]"
     ]
    },
    {
     "name": "stdout",
     "output_type": "stream",
     "text": [
      "Downloaded gal_spectra\\335902199\n"
     ]
    },
    {
     "name": "stderr",
     "output_type": "stream",
     "text": [
      "Downloading:  39%|███▉      | 999/2533 [04:57<08:07,  3.15file/s]"
     ]
    },
    {
     "name": "stdout",
     "output_type": "stream",
     "text": [
      "Downloaded gal_spectra\\343610122\n",
      "Downloaded gal_spectra\\142203169\n"
     ]
    },
    {
     "name": "stderr",
     "output_type": "stream",
     "text": [
      "Downloading:  40%|███▉      | 1001/2533 [04:58<06:34,  3.89file/s]"
     ]
    },
    {
     "name": "stdout",
     "output_type": "stream",
     "text": [
      "Downloaded gal_spectra\\531506220\n"
     ]
    },
    {
     "name": "stderr",
     "output_type": "stream",
     "text": [
      "Downloading:  40%|███▉      | 1002/2533 [04:58<06:52,  3.71file/s]"
     ]
    },
    {
     "name": "stdout",
     "output_type": "stream",
     "text": [
      "Downloaded gal_spectra\\142215016\n"
     ]
    },
    {
     "name": "stderr",
     "output_type": "stream",
     "text": [
      "Downloading:  40%|███▉      | 1003/2533 [04:58<07:20,  3.47file/s]"
     ]
    },
    {
     "name": "stdout",
     "output_type": "stream",
     "text": [
      "Downloaded gal_spectra\\566101064\n",
      "Downloaded gal_spectra\\302513005\n"
     ]
    },
    {
     "name": "stderr",
     "output_type": "stream",
     "text": [
      "Downloading:  40%|███▉      | 1005/2533 [04:59<07:41,  3.31file/s]"
     ]
    },
    {
     "name": "stdout",
     "output_type": "stream",
     "text": [
      "Downloaded gal_spectra\\231610035\n"
     ]
    },
    {
     "name": "stderr",
     "output_type": "stream",
     "text": [
      "Downloading:  40%|███▉      | 1008/2533 [05:00<05:45,  4.41file/s]"
     ]
    },
    {
     "name": "stdout",
     "output_type": "stream",
     "text": [
      "Downloaded gal_spectra\\566109181\n",
      "Downloaded gal_spectra\\565713239\n",
      "Failed to download https://www.lamost.org/dr7/v2.0/spectrum/fits/901807146: 500 Server Error:  for url: https://www.lamost.org/dr7/v2.0/spectrum/fits/901807146\n",
      "Downloaded gal_spectra\\657005095\n"
     ]
    },
    {
     "name": "stderr",
     "output_type": "stream",
     "text": [
      "Downloading:  40%|███▉      | 1010/2533 [05:00<06:12,  4.08file/s]"
     ]
    },
    {
     "name": "stdout",
     "output_type": "stream",
     "text": [
      "Downloaded gal_spectra\\740909040\n"
     ]
    },
    {
     "name": "stderr",
     "output_type": "stream",
     "text": [
      "Downloading:  40%|███▉      | 1012/2533 [05:01<09:13,  2.75file/s]"
     ]
    },
    {
     "name": "stdout",
     "output_type": "stream",
     "text": [
      "Downloaded gal_spectra\\657005078\n",
      "Downloaded gal_spectra\\571815150\n"
     ]
    },
    {
     "name": "stderr",
     "output_type": "stream",
     "text": [
      "Downloading:  40%|████      | 1016/2533 [05:02<04:41,  5.39file/s]"
     ]
    },
    {
     "name": "stdout",
     "output_type": "stream",
     "text": [
      "Failed to download https://www.lamost.org/dr7/v2.0/spectrum/fits/803614094: 500 Server Error:  for url: https://www.lamost.org/dr7/v2.0/spectrum/fits/803614094\n",
      "Downloaded gal_spectra\\461109079\n",
      "Downloaded gal_spectra\\231613049\n",
      "Downloaded gal_spectra\\461107005\n",
      "Downloaded gal_spectra\\217710163\n"
     ]
    },
    {
     "name": "stderr",
     "output_type": "stream",
     "text": [
      "Downloading:  40%|████      | 1018/2533 [05:03<07:56,  3.18file/s]"
     ]
    },
    {
     "name": "stdout",
     "output_type": "stream",
     "text": [
      "Downloaded gal_spectra\\235607088\n"
     ]
    },
    {
     "name": "stderr",
     "output_type": "stream",
     "text": [
      "Downloading:  40%|████      | 1020/2533 [05:03<07:05,  3.55file/s]"
     ]
    },
    {
     "name": "stdout",
     "output_type": "stream",
     "text": [
      "Downloaded gal_spectra\\581415008\n",
      "Failed to download https://www.lamost.org/dr7/v2.0/spectrum/fits/822904033: 500 Server Error:  for url: https://www.lamost.org/dr7/v2.0/spectrum/fits/822904033\n"
     ]
    },
    {
     "name": "stderr",
     "output_type": "stream",
     "text": [
      "Downloading:  40%|████      | 1023/2533 [05:04<04:58,  5.06file/s]"
     ]
    },
    {
     "name": "stdout",
     "output_type": "stream",
     "text": [
      "Downloaded gal_spectra\\435708142\n",
      "Downloaded gal_spectra\\231605079\n",
      "Downloaded gal_spectra\\219407163\n"
     ]
    },
    {
     "name": "stderr",
     "output_type": "stream",
     "text": [
      "Downloading:  40%|████      | 1024/2533 [05:04<07:05,  3.55file/s]"
     ]
    },
    {
     "name": "stdout",
     "output_type": "stream",
     "text": [
      "Downloaded gal_spectra\\574514118\n"
     ]
    },
    {
     "name": "stderr",
     "output_type": "stream",
     "text": [
      "Downloading:  40%|████      | 1025/2533 [05:05<08:43,  2.88file/s]"
     ]
    },
    {
     "name": "stdout",
     "output_type": "stream",
     "text": [
      "Downloaded gal_spectra\\658014050\n",
      "Downloaded gal_spectra\\220908034\n",
      "Downloaded gal_spectra\\235601116\n"
     ]
    },
    {
     "name": "stderr",
     "output_type": "stream",
     "text": [
      "Downloading:  41%|████      | 1029/2533 [05:06<06:25,  3.90file/s]"
     ]
    },
    {
     "name": "stdout",
     "output_type": "stream",
     "text": [
      "Downloaded gal_spectra\\220905067\n",
      "Downloaded gal_spectra\\739815178\n"
     ]
    },
    {
     "name": "stderr",
     "output_type": "stream",
     "text": [
      "Downloading:  41%|████      | 1031/2533 [05:06<06:45,  3.71file/s]"
     ]
    },
    {
     "name": "stdout",
     "output_type": "stream",
     "text": [
      "Failed to download https://www.lamost.org/dr7/v2.0/spectrum/fits/907110166: 500 Server Error:  for url: https://www.lamost.org/dr7/v2.0/spectrum/fits/907110166\n",
      "Downloaded gal_spectra\\219906165\n"
     ]
    },
    {
     "name": "stderr",
     "output_type": "stream",
     "text": [
      "Downloading:  41%|████      | 1033/2533 [05:07<05:46,  4.32file/s]"
     ]
    },
    {
     "name": "stdout",
     "output_type": "stream",
     "text": [
      "Downloaded gal_spectra\\220910026\n",
      "Downloaded gal_spectra\\739815011\n"
     ]
    },
    {
     "name": "stderr",
     "output_type": "stream",
     "text": [
      "Downloading:  41%|████      | 1034/2533 [05:07<05:49,  4.29file/s]"
     ]
    },
    {
     "name": "stdout",
     "output_type": "stream",
     "text": [
      "Downloaded gal_spectra\\51010223\n"
     ]
    },
    {
     "name": "stderr",
     "output_type": "stream",
     "text": [
      "Downloading:  41%|████      | 1036/2533 [05:08<07:42,  3.24file/s]"
     ]
    },
    {
     "name": "stdout",
     "output_type": "stream",
     "text": [
      "Downloaded gal_spectra\\461805018\n",
      "Failed to download https://www.lamost.org/dr7/v2.0/spectrum/fits/907115055: 500 Server Error:  for url: https://www.lamost.org/dr7/v2.0/spectrum/fits/907115055\n"
     ]
    },
    {
     "name": "stderr",
     "output_type": "stream",
     "text": [
      "Downloading:  41%|████      | 1038/2533 [05:08<05:37,  4.42file/s]"
     ]
    },
    {
     "name": "stdout",
     "output_type": "stream",
     "text": [
      "Downloaded gal_spectra\\230713083\n",
      "Failed to download https://www.lamost.org/dr7/v2.0/spectrum/fits/823511125: 500 Server Error:  for url: https://www.lamost.org/dr7/v2.0/spectrum/fits/823511125\n",
      "Downloaded gal_spectra\\51014207\n"
     ]
    },
    {
     "name": "stderr",
     "output_type": "stream",
     "text": [
      "Downloading:  41%|████      | 1040/2533 [05:08<03:43,  6.68file/s]"
     ]
    },
    {
     "name": "stdout",
     "output_type": "stream",
     "text": [
      "Downloaded gal_spectra\\730305007\n"
     ]
    },
    {
     "name": "stderr",
     "output_type": "stream",
     "text": [
      "Downloading:  41%|████      | 1041/2533 [05:09<06:10,  4.02file/s]"
     ]
    },
    {
     "name": "stdout",
     "output_type": "stream",
     "text": [
      "Downloaded gal_spectra\\450707220\n"
     ]
    },
    {
     "name": "stderr",
     "output_type": "stream",
     "text": [
      "Downloading:  41%|████      | 1042/2533 [05:09<06:35,  3.77file/s]"
     ]
    },
    {
     "name": "stdout",
     "output_type": "stream",
     "text": [
      "Downloaded gal_spectra\\733203219\n"
     ]
    },
    {
     "name": "stderr",
     "output_type": "stream",
     "text": [
      "Downloading:  41%|████      | 1043/2533 [05:09<06:48,  3.64file/s]"
     ]
    },
    {
     "name": "stdout",
     "output_type": "stream",
     "text": [
      "Downloaded gal_spectra\\730305204\n"
     ]
    },
    {
     "name": "stderr",
     "output_type": "stream",
     "text": [
      "Downloading:  41%|████      | 1044/2533 [05:10<08:44,  2.84file/s]"
     ]
    },
    {
     "name": "stdout",
     "output_type": "stream",
     "text": [
      "Downloaded gal_spectra\\733216103\n",
      "Downloaded gal_spectra\\733216059\n"
     ]
    },
    {
     "name": "stderr",
     "output_type": "stream",
     "text": [
      "Downloading:  41%|████▏     | 1047/2533 [05:10<05:26,  4.55file/s]"
     ]
    },
    {
     "name": "stdout",
     "output_type": "stream",
     "text": [
      "Downloaded gal_spectra\\450715155\n",
      "Downloaded gal_spectra\\316815187\n",
      "Downloaded gal_spectra\\425410083\n"
     ]
    },
    {
     "name": "stderr",
     "output_type": "stream",
     "text": [
      "Downloading:  41%|████▏     | 1049/2533 [05:10<03:47,  6.51file/s]"
     ]
    },
    {
     "name": "stdout",
     "output_type": "stream",
     "text": [
      "Downloaded gal_spectra\\566115168\n"
     ]
    },
    {
     "name": "stderr",
     "output_type": "stream",
     "text": [
      "Downloading:  41%|████▏     | 1051/2533 [05:11<04:43,  5.23file/s]"
     ]
    },
    {
     "name": "stdout",
     "output_type": "stream",
     "text": [
      "Downloaded gal_spectra\\336313224\n",
      "Downloaded gal_spectra\\644802035\n"
     ]
    },
    {
     "name": "stderr",
     "output_type": "stream",
     "text": [
      "Downloading:  42%|████▏     | 1052/2533 [05:12<08:42,  2.83file/s]"
     ]
    },
    {
     "name": "stdout",
     "output_type": "stream",
     "text": [
      "Downloaded gal_spectra\\644803161\n"
     ]
    },
    {
     "name": "stderr",
     "output_type": "stream",
     "text": [
      "Downloading:  42%|████▏     | 1055/2533 [05:12<05:06,  4.82file/s]"
     ]
    },
    {
     "name": "stdout",
     "output_type": "stream",
     "text": [
      "Downloaded gal_spectra\\644814044\n",
      "Downloaded gal_spectra\\336305153\n",
      "Downloaded gal_spectra\\336315146\n"
     ]
    },
    {
     "name": "stderr",
     "output_type": "stream",
     "text": [
      "Downloading:  42%|████▏     | 1056/2533 [05:12<05:23,  4.56file/s]"
     ]
    },
    {
     "name": "stdout",
     "output_type": "stream",
     "text": [
      "Downloaded gal_spectra\\221506149\n",
      "Downloaded gal_spectra\\730316168\n",
      "Downloaded gal_spectra\\341315122\n"
     ]
    },
    {
     "name": "stderr",
     "output_type": "stream",
     "text": [
      "Downloading:  42%|████▏     | 1059/2533 [05:13<05:27,  4.50file/s]"
     ]
    },
    {
     "name": "stdout",
     "output_type": "stream",
     "text": [
      "Downloaded gal_spectra\\569208200\n"
     ]
    },
    {
     "name": "stderr",
     "output_type": "stream",
     "text": [
      "Downloading:  42%|████▏     | 1060/2533 [05:14<07:22,  3.33file/s]"
     ]
    },
    {
     "name": "stdout",
     "output_type": "stream",
     "text": [
      "Downloaded gal_spectra\\740809011\n"
     ]
    },
    {
     "name": "stderr",
     "output_type": "stream",
     "text": [
      "Downloading:  42%|████▏     | 1061/2533 [05:14<06:53,  3.56file/s]"
     ]
    },
    {
     "name": "stdout",
     "output_type": "stream",
     "text": [
      "Downloaded gal_spectra\\558013088\n"
     ]
    },
    {
     "name": "stderr",
     "output_type": "stream",
     "text": [
      "Downloading:  42%|████▏     | 1063/2533 [05:14<06:48,  3.60file/s]"
     ]
    },
    {
     "name": "stdout",
     "output_type": "stream",
     "text": [
      "Downloaded gal_spectra\\573610209\n",
      "Downloaded gal_spectra\\740810223\n",
      "Downloaded gal_spectra\\740803032\n",
      "Downloaded gal_spectra\\573615057\n"
     ]
    },
    {
     "name": "stderr",
     "output_type": "stream",
     "text": [
      "Downloading:  42%|████▏     | 1068/2533 [05:15<04:34,  5.33file/s]"
     ]
    },
    {
     "name": "stdout",
     "output_type": "stream",
     "text": [
      "Downloaded gal_spectra\\221516104\n",
      "Downloaded gal_spectra\\558015113\n",
      "Downloaded gal_spectra\\527102228\n"
     ]
    },
    {
     "name": "stderr",
     "output_type": "stream",
     "text": [
      "Downloading:  42%|████▏     | 1069/2533 [05:16<08:56,  2.73file/s]"
     ]
    },
    {
     "name": "stdout",
     "output_type": "stream",
     "text": [
      "Downloaded gal_spectra\\740811217\n",
      "Downloaded gal_spectra\\558006014\n"
     ]
    },
    {
     "name": "stderr",
     "output_type": "stream",
     "text": [
      "Downloading:  42%|████▏     | 1071/2533 [05:17<06:53,  3.54file/s]"
     ]
    },
    {
     "name": "stdout",
     "output_type": "stream",
     "text": [
      "Downloaded gal_spectra\\741211190\n",
      "Downloaded gal_spectra\\558011064\n"
     ]
    },
    {
     "name": "stderr",
     "output_type": "stream",
     "text": [
      "Downloading:  42%|████▏     | 1073/2533 [05:17<07:15,  3.35file/s]"
     ]
    },
    {
     "name": "stdout",
     "output_type": "stream",
     "text": [
      "Downloaded gal_spectra\\740815034\n"
     ]
    },
    {
     "name": "stderr",
     "output_type": "stream",
     "text": [
      "Downloading:  42%|████▏     | 1074/2533 [05:18<07:35,  3.20file/s]"
     ]
    },
    {
     "name": "stdout",
     "output_type": "stream",
     "text": [
      "Downloaded gal_spectra\\232001103\n"
     ]
    },
    {
     "name": "stderr",
     "output_type": "stream",
     "text": [
      "Downloading:  42%|████▏     | 1076/2533 [05:19<09:13,  2.63file/s]"
     ]
    },
    {
     "name": "stdout",
     "output_type": "stream",
     "text": [
      "Failed to download https://www.lamost.org/dr7/v2.0/spectrum/fits/814202047: 500 Server Error:  for url: https://www.lamost.org/dr7/v2.0/spectrum/fits/814202047\n",
      "Downloaded gal_spectra\\734405140\n",
      "Failed to download https://www.lamost.org/dr7/v2.0/spectrum/fits/814203198: 500 Server Error:  for url: https://www.lamost.org/dr7/v2.0/spectrum/fits/814203198\n"
     ]
    },
    {
     "name": "stderr",
     "output_type": "stream",
     "text": [
      "Downloading:  43%|████▎     | 1079/2533 [05:19<07:02,  3.44file/s]"
     ]
    },
    {
     "name": "stdout",
     "output_type": "stream",
     "text": [
      "Downloaded gal_spectra\\740812200\n",
      "Downloaded gal_spectra\\232016130\n"
     ]
    },
    {
     "name": "stderr",
     "output_type": "stream",
     "text": [
      "Downloading:  43%|████▎     | 1081/2533 [05:20<07:54,  3.06file/s]"
     ]
    },
    {
     "name": "stdout",
     "output_type": "stream",
     "text": [
      "Downloaded gal_spectra\\734403002\n",
      "Downloaded gal_spectra\\232013077\n",
      "Downloaded gal_spectra\\741215041\n"
     ]
    },
    {
     "name": "stderr",
     "output_type": "stream",
     "text": [
      "Downloading:  43%|████▎     | 1083/2533 [05:21<06:32,  3.70file/s]"
     ]
    },
    {
     "name": "stdout",
     "output_type": "stream",
     "text": [
      "Downloaded gal_spectra\\233002245\n",
      "Downloaded gal_spectra\\124008133\n",
      "Downloaded gal_spectra\\316204034\n"
     ]
    },
    {
     "name": "stderr",
     "output_type": "stream",
     "text": [
      "Downloading:  43%|████▎     | 1086/2533 [05:21<06:01,  4.00file/s]"
     ]
    },
    {
     "name": "stdout",
     "output_type": "stream",
     "text": [
      "Downloaded gal_spectra\\233005189\n"
     ]
    },
    {
     "name": "stderr",
     "output_type": "stream",
     "text": [
      "Downloading:  43%|████▎     | 1087/2533 [05:22<06:30,  3.70file/s]"
     ]
    },
    {
     "name": "stdout",
     "output_type": "stream",
     "text": [
      "Downloaded gal_spectra\\527804081\n"
     ]
    },
    {
     "name": "stderr",
     "output_type": "stream",
     "text": [
      "Downloading:  43%|████▎     | 1088/2533 [05:22<08:16,  2.91file/s]"
     ]
    },
    {
     "name": "stdout",
     "output_type": "stream",
     "text": [
      "Downloaded gal_spectra\\233003085\n"
     ]
    },
    {
     "name": "stderr",
     "output_type": "stream",
     "text": [
      "Downloading:  43%|████▎     | 1089/2533 [05:23<08:48,  2.73file/s]"
     ]
    },
    {
     "name": "stdout",
     "output_type": "stream",
     "text": [
      "Downloaded gal_spectra\\233003086\n"
     ]
    },
    {
     "name": "stderr",
     "output_type": "stream",
     "text": [
      "Downloading:  43%|████▎     | 1091/2533 [05:23<08:09,  2.95file/s]"
     ]
    },
    {
     "name": "stdout",
     "output_type": "stream",
     "text": [
      "Downloaded gal_spectra\\233003060\n",
      "Downloaded gal_spectra\\235614205\n",
      "Downloaded gal_spectra\\235612081\n"
     ]
    },
    {
     "name": "stderr",
     "output_type": "stream",
     "text": [
      "Downloading:  43%|████▎     | 1094/2533 [05:24<07:03,  3.40file/s]"
     ]
    },
    {
     "name": "stdout",
     "output_type": "stream",
     "text": [
      "Downloaded gal_spectra\\332008177\n"
     ]
    },
    {
     "name": "stderr",
     "output_type": "stream",
     "text": [
      "Downloading:  43%|████▎     | 1095/2533 [05:24<06:07,  3.91file/s]"
     ]
    },
    {
     "name": "stdout",
     "output_type": "stream",
     "text": [
      "Downloaded gal_spectra\\235602014\n",
      "Downloaded gal_spectra\\231205238\n"
     ]
    },
    {
     "name": "stderr",
     "output_type": "stream",
     "text": [
      "Downloading:  43%|████▎     | 1096/2533 [05:25<11:07,  2.15file/s]"
     ]
    },
    {
     "name": "stdout",
     "output_type": "stream",
     "text": [
      "Downloaded gal_spectra\\582901050\n",
      "Downloaded gal_spectra\\231208108\n"
     ]
    },
    {
     "name": "stderr",
     "output_type": "stream",
     "text": [
      "Downloading:  43%|████▎     | 1099/2533 [05:26<07:37,  3.13file/s]"
     ]
    },
    {
     "name": "stdout",
     "output_type": "stream",
     "text": [
      "Downloaded gal_spectra\\320405021\n",
      "Downloaded gal_spectra\\121007160\n"
     ]
    },
    {
     "name": "stderr",
     "output_type": "stream",
     "text": [
      "Downloading:  43%|████▎     | 1100/2533 [05:27<08:46,  2.72file/s]"
     ]
    },
    {
     "name": "stdout",
     "output_type": "stream",
     "text": [
      "Downloaded gal_spectra\\231209105\n",
      "Downloaded gal_spectra\\231215094\n"
     ]
    },
    {
     "name": "stderr",
     "output_type": "stream",
     "text": [
      "Downloading:  44%|████▎     | 1103/2533 [05:27<07:15,  3.28file/s]"
     ]
    },
    {
     "name": "stdout",
     "output_type": "stream",
     "text": [
      "Downloaded gal_spectra\\233003084\n",
      "Downloaded gal_spectra\\231204052\n"
     ]
    },
    {
     "name": "stderr",
     "output_type": "stream",
     "text": [
      "Downloading:  44%|████▎     | 1104/2533 [05:27<06:30,  3.66file/s]"
     ]
    },
    {
     "name": "stdout",
     "output_type": "stream",
     "text": [
      "Downloaded gal_spectra\\231215029\n"
     ]
    },
    {
     "name": "stderr",
     "output_type": "stream",
     "text": [
      "Downloading:  44%|████▎     | 1105/2533 [05:28<08:05,  2.94file/s]"
     ]
    },
    {
     "name": "stdout",
     "output_type": "stream",
     "text": [
      "Downloaded gal_spectra\\235611211\n",
      "Downloaded gal_spectra\\462202212\n"
     ]
    },
    {
     "name": "stderr",
     "output_type": "stream",
     "text": [
      "Downloading:  44%|████▎     | 1108/2533 [05:29<09:08,  2.60file/s]"
     ]
    },
    {
     "name": "stdout",
     "output_type": "stream",
     "text": [
      "Downloaded gal_spectra\\219404028\n",
      "Downloaded gal_spectra\\337814238\n"
     ]
    },
    {
     "name": "stderr",
     "output_type": "stream",
     "text": [
      "Downloading:  44%|████▍     | 1109/2533 [05:30<07:57,  2.98file/s]"
     ]
    },
    {
     "name": "stdout",
     "output_type": "stream",
     "text": [
      "Downloaded gal_spectra\\219403213\n",
      "Downloaded gal_spectra\\219408046\n"
     ]
    },
    {
     "name": "stderr",
     "output_type": "stream",
     "text": [
      "Downloading:  44%|████▍     | 1113/2533 [05:30<04:17,  5.51file/s]"
     ]
    },
    {
     "name": "stdout",
     "output_type": "stream",
     "text": [
      "Downloaded gal_spectra\\337810070\n",
      "Downloaded gal_spectra\\233003046\n",
      "Downloaded gal_spectra\\219410100\n"
     ]
    },
    {
     "name": "stderr",
     "output_type": "stream",
     "text": [
      "Downloading:  44%|████▍     | 1114/2533 [05:31<07:14,  3.27file/s]"
     ]
    },
    {
     "name": "stdout",
     "output_type": "stream",
     "text": [
      "Downloaded gal_spectra\\219403107\n"
     ]
    },
    {
     "name": "stderr",
     "output_type": "stream",
     "text": [
      "Downloading:  44%|████▍     | 1115/2533 [05:31<08:41,  2.72file/s]"
     ]
    },
    {
     "name": "stdout",
     "output_type": "stream",
     "text": [
      "Downloaded gal_spectra\\660703144\n",
      "Downloaded gal_spectra\\660709186\n"
     ]
    },
    {
     "name": "stderr",
     "output_type": "stream",
     "text": [
      "Downloading:  44%|████▍     | 1117/2533 [05:32<07:55,  2.98file/s]"
     ]
    },
    {
     "name": "stdout",
     "output_type": "stream",
     "text": [
      "Downloaded gal_spectra\\733705124\n"
     ]
    },
    {
     "name": "stderr",
     "output_type": "stream",
     "text": [
      "Downloading:  44%|████▍     | 1118/2533 [05:32<07:23,  3.19file/s]"
     ]
    },
    {
     "name": "stdout",
     "output_type": "stream",
     "text": [
      "Downloaded gal_spectra\\733702124\n"
     ]
    },
    {
     "name": "stderr",
     "output_type": "stream",
     "text": [
      "Downloading:  44%|████▍     | 1120/2533 [05:33<06:57,  3.39file/s]"
     ]
    },
    {
     "name": "stdout",
     "output_type": "stream",
     "text": [
      "Downloaded gal_spectra\\660709169\n",
      "Downloaded gal_spectra\\739816175\n"
     ]
    },
    {
     "name": "stderr",
     "output_type": "stream",
     "text": [
      "Downloading:  44%|████▍     | 1121/2533 [05:33<07:11,  3.27file/s]"
     ]
    },
    {
     "name": "stdout",
     "output_type": "stream",
     "text": [
      "Downloaded gal_spectra\\219412008\n",
      "Downloaded gal_spectra\\733701048\n"
     ]
    },
    {
     "name": "stderr",
     "output_type": "stream",
     "text": [
      "Downloading:  44%|████▍     | 1123/2533 [05:33<05:56,  3.95file/s]"
     ]
    },
    {
     "name": "stdout",
     "output_type": "stream",
     "text": [
      "Downloaded gal_spectra\\220914243\n",
      "Downloaded gal_spectra\\219909117\n",
      "Downloaded gal_spectra\\219415114\n"
     ]
    },
    {
     "name": "stderr",
     "output_type": "stream",
     "text": [
      "Downloading:  44%|████▍     | 1126/2533 [05:34<05:13,  4.49file/s]"
     ]
    },
    {
     "name": "stdout",
     "output_type": "stream",
     "text": [
      "Downloaded gal_spectra\\219915045\n",
      "Downloaded gal_spectra\\219915225\n"
     ]
    },
    {
     "name": "stderr",
     "output_type": "stream",
     "text": [
      "Downloading:  45%|████▍     | 1128/2533 [05:35<06:34,  3.56file/s]"
     ]
    },
    {
     "name": "stdout",
     "output_type": "stream",
     "text": [
      "Downloaded gal_spectra\\342607150\n"
     ]
    },
    {
     "name": "stderr",
     "output_type": "stream",
     "text": [
      "Downloading:  45%|████▍     | 1129/2533 [05:35<07:44,  3.03file/s]"
     ]
    },
    {
     "name": "stdout",
     "output_type": "stream",
     "text": [
      "Downloaded gal_spectra\\558107092\n"
     ]
    },
    {
     "name": "stderr",
     "output_type": "stream",
     "text": [
      "Downloading:  45%|████▍     | 1130/2533 [05:36<07:12,  3.25file/s]"
     ]
    },
    {
     "name": "stdout",
     "output_type": "stream",
     "text": [
      "Downloaded gal_spectra\\346210059\n"
     ]
    },
    {
     "name": "stderr",
     "output_type": "stream",
     "text": [
      "Downloading:  45%|████▍     | 1131/2533 [05:36<06:45,  3.45file/s]"
     ]
    },
    {
     "name": "stdout",
     "output_type": "stream",
     "text": [
      "Downloaded gal_spectra\\739414179\n",
      "Downloaded gal_spectra\\360204083\n"
     ]
    },
    {
     "name": "stderr",
     "output_type": "stream",
     "text": [
      "Downloading:  45%|████▍     | 1133/2533 [05:36<05:43,  4.07file/s]"
     ]
    },
    {
     "name": "stdout",
     "output_type": "stream",
     "text": [
      "Downloaded gal_spectra\\360204108\n"
     ]
    },
    {
     "name": "stderr",
     "output_type": "stream",
     "text": [
      "Downloading:  45%|████▍     | 1134/2533 [05:36<05:41,  4.10file/s]"
     ]
    },
    {
     "name": "stdout",
     "output_type": "stream",
     "text": [
      "Downloaded gal_spectra\\360212018\n",
      "Downloaded gal_spectra\\337808245\n"
     ]
    },
    {
     "name": "stderr",
     "output_type": "stream",
     "text": [
      "Downloading:  45%|████▍     | 1136/2533 [05:37<06:37,  3.52file/s]"
     ]
    },
    {
     "name": "stdout",
     "output_type": "stream",
     "text": [
      "Downloaded gal_spectra\\558309103\n"
     ]
    },
    {
     "name": "stderr",
     "output_type": "stream",
     "text": [
      "Downloading:  45%|████▍     | 1138/2533 [05:38<05:57,  3.91file/s]"
     ]
    },
    {
     "name": "stdout",
     "output_type": "stream",
     "text": [
      "Downloaded gal_spectra\\337814215\n",
      "Downloaded gal_spectra\\51111052\n"
     ]
    },
    {
     "name": "stderr",
     "output_type": "stream",
     "text": [
      "Downloading:  45%|████▍     | 1139/2533 [05:39<09:57,  2.33file/s]"
     ]
    },
    {
     "name": "stdout",
     "output_type": "stream",
     "text": [
      "Downloaded gal_spectra\\337805046\n",
      "Downloaded gal_spectra\\558311093\n",
      "Downloaded gal_spectra\\333001205\n",
      "Downloaded gal_spectra\\342602184\n"
     ]
    },
    {
     "name": "stderr",
     "output_type": "stream",
     "text": [
      "Downloading:  45%|████▌     | 1143/2533 [05:39<06:08,  3.77file/s]"
     ]
    },
    {
     "name": "stdout",
     "output_type": "stream",
     "text": [
      "Downloaded gal_spectra\\558101004\n",
      "Downloaded gal_spectra\\661115046\n"
     ]
    },
    {
     "name": "stderr",
     "output_type": "stream",
     "text": [
      "Downloading:  45%|████▌     | 1145/2533 [05:40<06:09,  3.75file/s]"
     ]
    },
    {
     "name": "stdout",
     "output_type": "stream",
     "text": [
      "Downloaded gal_spectra\\156205153\n"
     ]
    },
    {
     "name": "stderr",
     "output_type": "stream",
     "text": [
      "Downloading:  45%|████▌     | 1146/2533 [05:40<07:03,  3.28file/s]"
     ]
    },
    {
     "name": "stdout",
     "output_type": "stream",
     "text": [
      "Downloaded gal_spectra\\558101126\n"
     ]
    },
    {
     "name": "stderr",
     "output_type": "stream",
     "text": [
      "Downloading:  45%|████▌     | 1148/2533 [05:41<06:50,  3.38file/s]"
     ]
    },
    {
     "name": "stdout",
     "output_type": "stream",
     "text": [
      "Downloaded gal_spectra\\156202248\n",
      "Downloaded gal_spectra\\558101167\n"
     ]
    },
    {
     "name": "stderr",
     "output_type": "stream",
     "text": [
      "Downloading:  45%|████▌     | 1149/2533 [05:41<07:59,  2.89file/s]"
     ]
    },
    {
     "name": "stdout",
     "output_type": "stream",
     "text": [
      "Downloaded gal_spectra\\661111008\n",
      "Downloaded gal_spectra\\558108026\n"
     ]
    },
    {
     "name": "stderr",
     "output_type": "stream",
     "text": [
      "Downloading:  45%|████▌     | 1152/2533 [05:42<06:25,  3.58file/s]"
     ]
    },
    {
     "name": "stdout",
     "output_type": "stream",
     "text": [
      "Downloaded gal_spectra\\156202239\n",
      "Downloaded gal_spectra\\646707145\n"
     ]
    },
    {
     "name": "stderr",
     "output_type": "stream",
     "text": [
      "Downloading:  46%|████▌     | 1153/2533 [05:42<06:37,  3.47file/s]"
     ]
    },
    {
     "name": "stdout",
     "output_type": "stream",
     "text": [
      "Downloaded gal_spectra\\342604120\n"
     ]
    },
    {
     "name": "stderr",
     "output_type": "stream",
     "text": [
      "Downloading:  46%|████▌     | 1156/2533 [05:43<05:18,  4.32file/s]"
     ]
    },
    {
     "name": "stdout",
     "output_type": "stream",
     "text": [
      "Downloaded gal_spectra\\558106099\n",
      "Downloaded gal_spectra\\156214181\n"
     ]
    },
    {
     "name": "stderr",
     "output_type": "stream",
     "text": [
      "Downloading:  46%|████▌     | 1157/2533 [05:43<05:04,  4.52file/s]"
     ]
    },
    {
     "name": "stdout",
     "output_type": "stream",
     "text": [
      "Downloaded gal_spectra\\563704038\n",
      "Downloaded gal_spectra\\558104169\n"
     ]
    },
    {
     "name": "stderr",
     "output_type": "stream",
     "text": [
      "Downloading:  46%|████▌     | 1158/2533 [05:43<05:07,  4.47file/s]"
     ]
    },
    {
     "name": "stdout",
     "output_type": "stream",
     "text": [
      "Downloaded gal_spectra\\582914043\n"
     ]
    },
    {
     "name": "stderr",
     "output_type": "stream",
     "text": [
      "Downloading:  46%|████▌     | 1159/2533 [05:44<06:39,  3.44file/s]"
     ]
    },
    {
     "name": "stdout",
     "output_type": "stream",
     "text": [
      "Downloaded gal_spectra\\566702121\n",
      "Downloaded gal_spectra\\566707110\n"
     ]
    },
    {
     "name": "stderr",
     "output_type": "stream",
     "text": [
      "Downloading:  46%|████▌     | 1161/2533 [05:44<06:24,  3.57file/s]"
     ]
    },
    {
     "name": "stdout",
     "output_type": "stream",
     "text": [
      "Downloaded gal_spectra\\566706164\n"
     ]
    },
    {
     "name": "stderr",
     "output_type": "stream",
     "text": [
      "Downloading:  46%|████▌     | 1162/2533 [05:45<10:40,  2.14file/s]"
     ]
    },
    {
     "name": "stdout",
     "output_type": "stream",
     "text": [
      "Downloaded gal_spectra\\224102204\n",
      "Downloaded gal_spectra\\233007053\n",
      "Downloaded gal_spectra\\746216250\n"
     ]
    },
    {
     "name": "stderr",
     "output_type": "stream",
     "text": [
      "Downloading:  46%|████▌     | 1165/2533 [05:46<07:18,  3.12file/s]"
     ]
    },
    {
     "name": "stdout",
     "output_type": "stream",
     "text": [
      "Downloaded gal_spectra\\49813119\n"
     ]
    },
    {
     "name": "stderr",
     "output_type": "stream",
     "text": [
      "Downloading:  46%|████▌     | 1166/2533 [05:46<07:08,  3.19file/s]"
     ]
    },
    {
     "name": "stdout",
     "output_type": "stream",
     "text": [
      "Downloaded gal_spectra\\319806030\n"
     ]
    },
    {
     "name": "stderr",
     "output_type": "stream",
     "text": [
      "Downloading:  46%|████▌     | 1167/2533 [05:47<07:10,  3.17file/s]"
     ]
    },
    {
     "name": "stdout",
     "output_type": "stream",
     "text": [
      "Downloaded gal_spectra\\660103144\n"
     ]
    },
    {
     "name": "stderr",
     "output_type": "stream",
     "text": [
      "Downloading:  46%|████▌     | 1168/2533 [05:47<07:31,  3.02file/s]"
     ]
    },
    {
     "name": "stdout",
     "output_type": "stream",
     "text": [
      "Downloaded gal_spectra\\231216035\n"
     ]
    },
    {
     "name": "stderr",
     "output_type": "stream",
     "text": [
      "Downloading:  46%|████▌     | 1169/2533 [05:48<09:05,  2.50file/s]"
     ]
    },
    {
     "name": "stdout",
     "output_type": "stream",
     "text": [
      "Downloaded gal_spectra\\233004248\n"
     ]
    },
    {
     "name": "stderr",
     "output_type": "stream",
     "text": [
      "Downloading:  46%|████▌     | 1170/2533 [05:48<10:45,  2.11file/s]"
     ]
    },
    {
     "name": "stdout",
     "output_type": "stream",
     "text": [
      "Downloaded gal_spectra\\559409141\n",
      "Downloaded gal_spectra\\233012158\n"
     ]
    },
    {
     "name": "stderr",
     "output_type": "stream",
     "text": [
      "Downloading:  46%|████▋     | 1172/2533 [05:49<08:22,  2.71file/s]"
     ]
    },
    {
     "name": "stdout",
     "output_type": "stream",
     "text": [
      "Downloaded gal_spectra\\233014154\n",
      "Downloaded gal_spectra\\233004213\n"
     ]
    },
    {
     "name": "stderr",
     "output_type": "stream",
     "text": [
      "Downloading:  46%|████▋     | 1174/2533 [05:49<06:32,  3.46file/s]"
     ]
    },
    {
     "name": "stdout",
     "output_type": "stream",
     "text": [
      "Downloaded gal_spectra\\233015001\n"
     ]
    },
    {
     "name": "stderr",
     "output_type": "stream",
     "text": [
      "Downloading:  46%|████▋     | 1175/2533 [05:49<06:48,  3.33file/s]"
     ]
    },
    {
     "name": "stdout",
     "output_type": "stream",
     "text": [
      "Downloaded gal_spectra\\566706036\n",
      "Failed to download https://www.lamost.org/dr7/v2.0/spectrum/fits/891606199: 500 Server Error:  for url: https://www.lamost.org/dr7/v2.0/spectrum/fits/891606199\n"
     ]
    },
    {
     "name": "stderr",
     "output_type": "stream",
     "text": [
      "Downloading:  46%|████▋     | 1177/2533 [05:50<05:32,  4.08file/s]"
     ]
    },
    {
     "name": "stdout",
     "output_type": "stream",
     "text": [
      "Downloaded gal_spectra\\233015245\n"
     ]
    },
    {
     "name": "stderr",
     "output_type": "stream",
     "text": [
      "Downloading:  47%|████▋     | 1180/2533 [05:51<07:00,  3.22file/s]"
     ]
    },
    {
     "name": "stdout",
     "output_type": "stream",
     "text": [
      "Downloaded gal_spectra\\341415147\n",
      "Downloaded gal_spectra\\567811179\n"
     ]
    },
    {
     "name": "stderr",
     "output_type": "stream",
     "text": [
      "Downloading:  47%|████▋     | 1182/2533 [05:51<05:05,  4.43file/s]"
     ]
    },
    {
     "name": "stdout",
     "output_type": "stream",
     "text": [
      "Downloaded gal_spectra\\240707006\n",
      "Downloaded gal_spectra\\233004093\n",
      "Downloaded gal_spectra\\236105079\n"
     ]
    },
    {
     "name": "stderr",
     "output_type": "stream",
     "text": [
      "Downloading:  47%|████▋     | 1183/2533 [05:51<05:19,  4.23file/s]"
     ]
    },
    {
     "name": "stdout",
     "output_type": "stream",
     "text": [
      "Downloaded gal_spectra\\574003011\n",
      "Downloaded gal_spectra\\240713075\n"
     ]
    },
    {
     "name": "stderr",
     "output_type": "stream",
     "text": [
      "Downloading:  47%|████▋     | 1185/2533 [05:53<08:54,  2.52file/s]"
     ]
    },
    {
     "name": "stdout",
     "output_type": "stream",
     "text": [
      "Downloaded gal_spectra\\49806237\n"
     ]
    },
    {
     "name": "stderr",
     "output_type": "stream",
     "text": [
      "Downloading:  47%|████▋     | 1186/2533 [05:53<08:28,  2.65file/s]"
     ]
    },
    {
     "name": "stdout",
     "output_type": "stream",
     "text": [
      "Downloaded gal_spectra\\574009176\n"
     ]
    },
    {
     "name": "stderr",
     "output_type": "stream",
     "text": [
      "Downloading:  47%|████▋     | 1187/2533 [05:54<10:50,  2.07file/s]"
     ]
    },
    {
     "name": "stdout",
     "output_type": "stream",
     "text": [
      "Downloaded gal_spectra\\227015034\n",
      "Downloaded gal_spectra\\224107139\n"
     ]
    },
    {
     "name": "stderr",
     "output_type": "stream",
     "text": [
      "Downloading:  47%|████▋     | 1189/2533 [05:54<07:50,  2.86file/s]"
     ]
    },
    {
     "name": "stdout",
     "output_type": "stream",
     "text": [
      "Failed to download https://www.lamost.org/dr7/v2.0/spectrum/fits/236111237: 500 Server Error:  for url: https://www.lamost.org/dr7/v2.0/spectrum/fits/236111237\n"
     ]
    },
    {
     "name": "stderr",
     "output_type": "stream",
     "text": [
      "Downloading:  47%|████▋     | 1191/2533 [05:55<06:18,  3.55file/s]"
     ]
    },
    {
     "name": "stdout",
     "output_type": "stream",
     "text": [
      "Downloaded gal_spectra\\584113035\n",
      "Downloaded gal_spectra\\224106134\n"
     ]
    },
    {
     "name": "stderr",
     "output_type": "stream",
     "text": [
      "Downloading:  47%|████▋     | 1192/2533 [05:55<05:37,  3.97file/s]"
     ]
    },
    {
     "name": "stdout",
     "output_type": "stream",
     "text": [
      "Downloaded gal_spectra\\227003032\n",
      "Downloaded gal_spectra\\224106077\n"
     ]
    },
    {
     "name": "stderr",
     "output_type": "stream",
     "text": [
      "Downloading:  47%|████▋     | 1194/2533 [05:56<06:51,  3.25file/s]"
     ]
    },
    {
     "name": "stdout",
     "output_type": "stream",
     "text": [
      "Downloaded gal_spectra\\125807155\n"
     ]
    },
    {
     "name": "stderr",
     "output_type": "stream",
     "text": [
      "Downloading:  47%|████▋     | 1195/2533 [05:56<09:43,  2.29file/s]"
     ]
    },
    {
     "name": "stdout",
     "output_type": "stream",
     "text": [
      "Downloaded gal_spectra\\241501175\n"
     ]
    },
    {
     "name": "stderr",
     "output_type": "stream",
     "text": [
      "Downloading:  47%|████▋     | 1196/2533 [05:57<08:56,  2.49file/s]"
     ]
    },
    {
     "name": "stdout",
     "output_type": "stream",
     "text": [
      "Downloaded gal_spectra\\730804017\n"
     ]
    },
    {
     "name": "stderr",
     "output_type": "stream",
     "text": [
      "Downloading:  47%|████▋     | 1199/2533 [05:57<05:35,  3.98file/s]"
     ]
    },
    {
     "name": "stdout",
     "output_type": "stream",
     "text": [
      "Downloaded gal_spectra\\241505187\n",
      "Downloaded gal_spectra\\224115217\n",
      "Downloaded gal_spectra\\730804153\n"
     ]
    },
    {
     "name": "stderr",
     "output_type": "stream",
     "text": [
      "Downloading:  47%|████▋     | 1200/2533 [05:57<05:57,  3.73file/s]"
     ]
    },
    {
     "name": "stdout",
     "output_type": "stream",
     "text": [
      "Downloaded gal_spectra\\224109201\n"
     ]
    },
    {
     "name": "stderr",
     "output_type": "stream",
     "text": [
      "Downloading:  47%|████▋     | 1201/2533 [05:58<05:54,  3.76file/s]"
     ]
    },
    {
     "name": "stdout",
     "output_type": "stream",
     "text": [
      "Downloaded gal_spectra\\241505203\n"
     ]
    },
    {
     "name": "stderr",
     "output_type": "stream",
     "text": [
      "Downloading:  47%|████▋     | 1202/2533 [05:58<06:55,  3.21file/s]"
     ]
    },
    {
     "name": "stdout",
     "output_type": "stream",
     "text": [
      "Downloaded gal_spectra\\566711179\n",
      "Downloaded gal_spectra\\227015195\n"
     ]
    },
    {
     "name": "stderr",
     "output_type": "stream",
     "text": [
      "Downloading:  48%|████▊     | 1204/2533 [05:59<05:56,  3.73file/s]"
     ]
    },
    {
     "name": "stdout",
     "output_type": "stream",
     "text": [
      "Downloaded gal_spectra\\224112156\n"
     ]
    },
    {
     "name": "stderr",
     "output_type": "stream",
     "text": [
      "Downloading:  48%|████▊     | 1206/2533 [05:59<05:44,  3.85file/s]"
     ]
    },
    {
     "name": "stdout",
     "output_type": "stream",
     "text": [
      "Downloaded gal_spectra\\241514133\n",
      "Downloaded gal_spectra\\241510007\n",
      "Downloaded gal_spectra\\743708114\n"
     ]
    },
    {
     "name": "stderr",
     "output_type": "stream",
     "text": [
      "Downloading:  48%|████▊     | 1208/2533 [05:59<04:33,  4.85file/s]"
     ]
    },
    {
     "name": "stdout",
     "output_type": "stream",
     "text": [
      "Downloaded gal_spectra\\241503168\n"
     ]
    },
    {
     "name": "stderr",
     "output_type": "stream",
     "text": [
      "Downloading:  48%|████▊     | 1209/2533 [06:00<08:13,  2.68file/s]"
     ]
    },
    {
     "name": "stdout",
     "output_type": "stream",
     "text": [
      "Failed to download https://www.lamost.org/dr7/v2.0/spectrum/fits/815207184: 500 Server Error:  for url: https://www.lamost.org/dr7/v2.0/spectrum/fits/815207184\n"
     ]
    },
    {
     "name": "stderr",
     "output_type": "stream",
     "text": [
      "Downloading:  48%|████▊     | 1210/2533 [06:01<09:44,  2.26file/s]"
     ]
    },
    {
     "name": "stdout",
     "output_type": "stream",
     "text": [
      "Failed to download https://www.lamost.org/dr7/v2.0/spectrum/fits/815209131: 500 Server Error:  for url: https://www.lamost.org/dr7/v2.0/spectrum/fits/815209131\n",
      "Downloaded gal_spectra\\730809160\n"
     ]
    },
    {
     "name": "stderr",
     "output_type": "stream",
     "text": [
      "Downloading:  48%|████▊     | 1212/2533 [06:01<06:43,  3.27file/s]"
     ]
    },
    {
     "name": "stdout",
     "output_type": "stream",
     "text": [
      "Downloaded gal_spectra\\437702036\n",
      "Downloaded gal_spectra\\437708052\n"
     ]
    },
    {
     "name": "stderr",
     "output_type": "stream",
     "text": [
      "Downloading:  48%|████▊     | 1214/2533 [06:02<06:56,  3.16file/s]"
     ]
    },
    {
     "name": "stdout",
     "output_type": "stream",
     "text": [
      "Downloaded gal_spectra\\437705014\n"
     ]
    },
    {
     "name": "stderr",
     "output_type": "stream",
     "text": [
      "Downloading:  48%|████▊     | 1215/2533 [06:02<06:38,  3.31file/s]"
     ]
    },
    {
     "name": "stdout",
     "output_type": "stream",
     "text": [
      "Downloaded gal_spectra\\437708107\n"
     ]
    },
    {
     "name": "stderr",
     "output_type": "stream",
     "text": [
      "Downloading:  48%|████▊     | 1218/2533 [06:03<04:40,  4.68file/s]"
     ]
    },
    {
     "name": "stdout",
     "output_type": "stream",
     "text": [
      "Downloaded gal_spectra\\743707237\n",
      "Downloaded gal_spectra\\241515225\n",
      "Downloaded gal_spectra\\241508159\n"
     ]
    },
    {
     "name": "stderr",
     "output_type": "stream",
     "text": [
      "Downloading:  48%|████▊     | 1219/2533 [06:03<05:53,  3.72file/s]"
     ]
    },
    {
     "name": "stdout",
     "output_type": "stream",
     "text": [
      "Downloaded gal_spectra\\437705234\n",
      "Downloaded gal_spectra\\437705239\n"
     ]
    },
    {
     "name": "stderr",
     "output_type": "stream",
     "text": [
      "Downloading:  48%|████▊     | 1221/2533 [06:03<04:44,  4.62file/s]"
     ]
    },
    {
     "name": "stdout",
     "output_type": "stream",
     "text": [
      "Downloaded gal_spectra\\743706220\n"
     ]
    },
    {
     "name": "stderr",
     "output_type": "stream",
     "text": [
      "Downloading:  48%|████▊     | 1222/2533 [06:04<06:44,  3.25file/s]"
     ]
    },
    {
     "name": "stdout",
     "output_type": "stream",
     "text": [
      "Downloaded gal_spectra\\322210098\n",
      "Downloaded gal_spectra\\241516146\n"
     ]
    },
    {
     "name": "stderr",
     "output_type": "stream",
     "text": [
      "Downloading:  48%|████▊     | 1226/2533 [06:04<03:59,  5.46file/s]"
     ]
    },
    {
     "name": "stdout",
     "output_type": "stream",
     "text": [
      "Downloaded gal_spectra\\646711167\n",
      "Failed to download https://www.lamost.org/dr7/v2.0/spectrum/fits/815215143: 500 Server Error:  for url: https://www.lamost.org/dr7/v2.0/spectrum/fits/815215143\n",
      "Failed to download https://www.lamost.org/dr7/v2.0/spectrum/fits/815204193: 500 Server Error:  for url: https://www.lamost.org/dr7/v2.0/spectrum/fits/815204193\n"
     ]
    },
    {
     "name": "stderr",
     "output_type": "stream",
     "text": [
      "Downloading:  48%|████▊     | 1227/2533 [06:05<03:55,  5.54file/s]"
     ]
    },
    {
     "name": "stdout",
     "output_type": "stream",
     "text": [
      "Downloaded gal_spectra\\140813055\n"
     ]
    },
    {
     "name": "stderr",
     "output_type": "stream",
     "text": [
      "Downloading:  48%|████▊     | 1228/2533 [06:05<04:22,  4.96file/s]"
     ]
    },
    {
     "name": "stdout",
     "output_type": "stream",
     "text": [
      "Downloaded gal_spectra\\241516161\n"
     ]
    },
    {
     "name": "stderr",
     "output_type": "stream",
     "text": [
      "Downloading:  49%|████▊     | 1229/2533 [06:06<11:03,  1.96file/s]"
     ]
    },
    {
     "name": "stdout",
     "output_type": "stream",
     "text": [
      "Downloaded gal_spectra\\743705062\n",
      "Downloaded gal_spectra\\457903035\n"
     ]
    },
    {
     "name": "stderr",
     "output_type": "stream",
     "text": [
      "Downloading:  49%|████▊     | 1233/2533 [06:07<05:16,  4.10file/s]"
     ]
    },
    {
     "name": "stdout",
     "output_type": "stream",
     "text": [
      "Downloaded gal_spectra\\437703121\n",
      "Failed to download https://www.lamost.org/dr7/v2.0/spectrum/fits/815203088: 500 Server Error:  for url: https://www.lamost.org/dr7/v2.0/spectrum/fits/815203088\n",
      "Downloaded gal_spectra\\224116139\n"
     ]
    },
    {
     "name": "stderr",
     "output_type": "stream",
     "text": [
      "Downloading:  49%|████▊     | 1234/2533 [06:07<07:07,  3.04file/s]"
     ]
    },
    {
     "name": "stdout",
     "output_type": "stream",
     "text": [
      "Downloaded gal_spectra\\140802068\n"
     ]
    },
    {
     "name": "stderr",
     "output_type": "stream",
     "text": [
      "Downloading:  49%|████▉     | 1235/2533 [06:08<06:39,  3.25file/s]"
     ]
    },
    {
     "name": "stdout",
     "output_type": "stream",
     "text": [
      "Downloaded gal_spectra\\743710217\n",
      "Downloaded gal_spectra\\224111138\n"
     ]
    },
    {
     "name": "stderr",
     "output_type": "stream",
     "text": [
      "Downloading:  49%|████▉     | 1237/2533 [06:08<05:31,  3.91file/s]"
     ]
    },
    {
     "name": "stdout",
     "output_type": "stream",
     "text": [
      "Downloaded gal_spectra\\743704188\n"
     ]
    },
    {
     "name": "stderr",
     "output_type": "stream",
     "text": [
      "Downloading:  49%|████▉     | 1239/2533 [06:09<06:08,  3.51file/s]"
     ]
    },
    {
     "name": "stdout",
     "output_type": "stream",
     "text": [
      "Downloaded gal_spectra\\743703112\n"
     ]
    },
    {
     "name": "stderr",
     "output_type": "stream",
     "text": [
      "Downloading:  49%|████▉     | 1240/2533 [06:09<05:19,  4.05file/s]"
     ]
    },
    {
     "name": "stdout",
     "output_type": "stream",
     "text": [
      "Downloaded gal_spectra\\437710121\n",
      "Downloaded gal_spectra\\437714220\n"
     ]
    },
    {
     "name": "stderr",
     "output_type": "stream",
     "text": [
      "Downloading:  49%|████▉     | 1242/2533 [06:09<05:15,  4.09file/s]"
     ]
    },
    {
     "name": "stdout",
     "output_type": "stream",
     "text": [
      "Downloaded gal_spectra\\457908033\n",
      "Downloaded gal_spectra\\743704240\n"
     ]
    },
    {
     "name": "stderr",
     "output_type": "stream",
     "text": [
      "Downloading:  49%|████▉     | 1243/2533 [06:09<04:46,  4.51file/s]"
     ]
    },
    {
     "name": "stdout",
     "output_type": "stream",
     "text": [
      "Downloaded gal_spectra\\743709165\n",
      "Downloaded gal_spectra\\743703151\n"
     ]
    },
    {
     "name": "stderr",
     "output_type": "stream",
     "text": [
      "Downloading:  49%|████▉     | 1245/2533 [06:10<03:36,  5.94file/s]"
     ]
    },
    {
     "name": "stdout",
     "output_type": "stream",
     "text": [
      "Downloaded gal_spectra\\242507071\n"
     ]
    },
    {
     "name": "stderr",
     "output_type": "stream",
     "text": [
      "Downloading:  49%|████▉     | 1247/2533 [06:11<06:49,  3.14file/s]"
     ]
    },
    {
     "name": "stdout",
     "output_type": "stream",
     "text": [
      "Downloaded gal_spectra\\743505094\n",
      "Downloaded gal_spectra\\238216050\n"
     ]
    },
    {
     "name": "stderr",
     "output_type": "stream",
     "text": [
      "Downloading:  49%|████▉     | 1249/2533 [06:11<05:02,  4.24file/s]"
     ]
    },
    {
     "name": "stdout",
     "output_type": "stream",
     "text": [
      "Failed to download https://www.lamost.org/dr7/v2.0/spectrum/fits/567905121: 500 Server Error:  for url: https://www.lamost.org/dr7/v2.0/spectrum/fits/567905121\n",
      "Failed to download https://www.lamost.org/dr7/v2.0/spectrum/fits/567908088: 500 Server Error:  for url: https://www.lamost.org/dr7/v2.0/spectrum/fits/567908088\n"
     ]
    },
    {
     "name": "stderr",
     "output_type": "stream",
     "text": [
      "Downloading:  49%|████▉     | 1250/2533 [06:11<04:49,  4.43file/s]"
     ]
    },
    {
     "name": "stdout",
     "output_type": "stream",
     "text": [
      "Downloaded gal_spectra\\567903158\n"
     ]
    },
    {
     "name": "stderr",
     "output_type": "stream",
     "text": [
      "Downloading:  49%|████▉     | 1251/2533 [06:12<05:01,  4.25file/s]"
     ]
    },
    {
     "name": "stdout",
     "output_type": "stream",
     "text": [
      "Downloaded gal_spectra\\567906034\n"
     ]
    },
    {
     "name": "stderr",
     "output_type": "stream",
     "text": [
      "Downloading:  49%|████▉     | 1252/2533 [06:12<05:11,  4.12file/s]"
     ]
    },
    {
     "name": "stdout",
     "output_type": "stream",
     "text": [
      "Downloaded gal_spectra\\238209027\n"
     ]
    },
    {
     "name": "stderr",
     "output_type": "stream",
     "text": [
      "Downloading:  49%|████▉     | 1253/2533 [06:12<05:29,  3.89file/s]"
     ]
    },
    {
     "name": "stdout",
     "output_type": "stream",
     "text": [
      "Downloaded gal_spectra\\238210013\n",
      "Downloaded gal_spectra\\743504218\n"
     ]
    },
    {
     "name": "stderr",
     "output_type": "stream",
     "text": [
      "Downloading:  50%|████▉     | 1256/2533 [06:14<07:42,  2.76file/s]"
     ]
    },
    {
     "name": "stdout",
     "output_type": "stream",
     "text": [
      "Downloaded gal_spectra\\346713236\n",
      "Downloaded gal_spectra\\567909048\n",
      "Downloaded gal_spectra\\743515073\n"
     ]
    },
    {
     "name": "stderr",
     "output_type": "stream",
     "text": [
      "Downloading:  50%|████▉     | 1258/2533 [06:14<06:12,  3.42file/s]"
     ]
    },
    {
     "name": "stdout",
     "output_type": "stream",
     "text": [
      "Downloaded gal_spectra\\739514189\n"
     ]
    },
    {
     "name": "stderr",
     "output_type": "stream",
     "text": [
      "Downloading:  50%|████▉     | 1259/2533 [06:14<05:55,  3.59file/s]"
     ]
    },
    {
     "name": "stdout",
     "output_type": "stream",
     "text": [
      "Downloaded gal_spectra\\567909174\n"
     ]
    },
    {
     "name": "stderr",
     "output_type": "stream",
     "text": [
      "Downloading:  50%|████▉     | 1261/2533 [06:15<06:50,  3.10file/s]"
     ]
    },
    {
     "name": "stdout",
     "output_type": "stream",
     "text": [
      "Downloaded gal_spectra\\743504029\n",
      "Downloaded gal_spectra\\584809054\n"
     ]
    },
    {
     "name": "stderr",
     "output_type": "stream",
     "text": [
      "Downloading:  50%|████▉     | 1262/2533 [06:15<06:17,  3.37file/s]"
     ]
    },
    {
     "name": "stdout",
     "output_type": "stream",
     "text": [
      "Downloaded gal_spectra\\144702005\n"
     ]
    },
    {
     "name": "stderr",
     "output_type": "stream",
     "text": [
      "Downloading:  50%|████▉     | 1263/2533 [06:16<06:35,  3.21file/s]"
     ]
    },
    {
     "name": "stdout",
     "output_type": "stream",
     "text": [
      "Downloaded gal_spectra\\743401098\n"
     ]
    },
    {
     "name": "stderr",
     "output_type": "stream",
     "text": [
      "Downloading:  50%|████▉     | 1265/2533 [06:16<06:17,  3.36file/s]"
     ]
    },
    {
     "name": "stdout",
     "output_type": "stream",
     "text": [
      "Downloaded gal_spectra\\743407043\n",
      "Downloaded gal_spectra\\567915016\n"
     ]
    },
    {
     "name": "stderr",
     "output_type": "stream",
     "text": [
      "Downloading:  50%|█████     | 1267/2533 [06:17<07:57,  2.65file/s]"
     ]
    },
    {
     "name": "stdout",
     "output_type": "stream",
     "text": [
      "Downloaded gal_spectra\\743404114\n",
      "Downloaded gal_spectra\\743406035\n"
     ]
    },
    {
     "name": "stderr",
     "output_type": "stream",
     "text": [
      "Downloading:  50%|█████     | 1269/2533 [06:18<07:22,  2.86file/s]"
     ]
    },
    {
     "name": "stdout",
     "output_type": "stream",
     "text": [
      "Downloaded gal_spectra\\743408226\n",
      "Downloaded gal_spectra\\743405225\n"
     ]
    },
    {
     "name": "stderr",
     "output_type": "stream",
     "text": [
      "Downloading:  50%|█████     | 1270/2533 [06:18<07:37,  2.76file/s]"
     ]
    },
    {
     "name": "stdout",
     "output_type": "stream",
     "text": [
      "Downloaded gal_spectra\\743402144\n",
      "Downloaded gal_spectra\\565810197\n",
      "Downloaded gal_spectra\\566611075\n"
     ]
    },
    {
     "name": "stderr",
     "output_type": "stream",
     "text": [
      "Downloading:  50%|█████     | 1273/2533 [06:19<04:53,  4.30file/s]"
     ]
    },
    {
     "name": "stdout",
     "output_type": "stream",
     "text": [
      "Downloaded gal_spectra\\743402043\n"
     ]
    },
    {
     "name": "stderr",
     "output_type": "stream",
     "text": [
      "Downloading:  50%|█████     | 1274/2533 [06:19<05:06,  4.11file/s]"
     ]
    },
    {
     "name": "stdout",
     "output_type": "stream",
     "text": [
      "Failed to download https://www.lamost.org/dr7/v2.0/spectrum/fits/820312026: 500 Server Error:  for url: https://www.lamost.org/dr7/v2.0/spectrum/fits/820312026\n"
     ]
    },
    {
     "name": "stderr",
     "output_type": "stream",
     "text": [
      "Downloading:  50%|█████     | 1276/2533 [06:20<06:44,  3.11file/s]"
     ]
    },
    {
     "name": "stdout",
     "output_type": "stream",
     "text": [
      "Downloaded gal_spectra\\347012234\n",
      "Downloaded gal_spectra\\743410028\n"
     ]
    },
    {
     "name": "stderr",
     "output_type": "stream",
     "text": [
      "Downloading:  51%|█████     | 1280/2533 [06:20<03:47,  5.52file/s]"
     ]
    },
    {
     "name": "stdout",
     "output_type": "stream",
     "text": [
      "Downloaded gal_spectra\\743405211\n",
      "Downloaded gal_spectra\\743402160\n",
      "Downloaded gal_spectra\\566611195\n",
      "Downloaded gal_spectra\\347310201\n"
     ]
    },
    {
     "name": "stderr",
     "output_type": "stream",
     "text": [
      "Downloading:  51%|█████     | 1281/2533 [06:21<03:46,  5.53file/s]"
     ]
    },
    {
     "name": "stdout",
     "output_type": "stream",
     "text": [
      "Downloaded gal_spectra\\347308073\n"
     ]
    },
    {
     "name": "stderr",
     "output_type": "stream",
     "text": [
      "Downloading:  51%|█████     | 1282/2533 [06:21<04:46,  4.36file/s]"
     ]
    },
    {
     "name": "stdout",
     "output_type": "stream",
     "text": [
      "Downloaded gal_spectra\\347304105\n"
     ]
    },
    {
     "name": "stderr",
     "output_type": "stream",
     "text": [
      "Downloading:  51%|█████     | 1283/2533 [06:21<05:21,  3.89file/s]"
     ]
    },
    {
     "name": "stdout",
     "output_type": "stream",
     "text": [
      "Downloaded gal_spectra\\347304102\n"
     ]
    },
    {
     "name": "stderr",
     "output_type": "stream",
     "text": [
      "Downloading:  51%|█████     | 1284/2533 [06:22<06:50,  3.04file/s]"
     ]
    },
    {
     "name": "stdout",
     "output_type": "stream",
     "text": [
      "Downloaded gal_spectra\\584816010\n"
     ]
    },
    {
     "name": "stderr",
     "output_type": "stream",
     "text": [
      "Downloading:  51%|█████     | 1285/2533 [06:22<07:34,  2.74file/s]"
     ]
    },
    {
     "name": "stdout",
     "output_type": "stream",
     "text": [
      "Downloaded gal_spectra\\743403150\n",
      "Downloaded gal_spectra\\573814234\n"
     ]
    },
    {
     "name": "stderr",
     "output_type": "stream",
     "text": [
      "Downloading:  51%|█████     | 1287/2533 [06:23<07:27,  2.78file/s]"
     ]
    },
    {
     "name": "stdout",
     "output_type": "stream",
     "text": [
      "Downloaded gal_spectra\\576814046\n"
     ]
    },
    {
     "name": "stderr",
     "output_type": "stream",
     "text": [
      "Downloading:  51%|█████     | 1288/2533 [06:24<08:57,  2.32file/s]"
     ]
    },
    {
     "name": "stdout",
     "output_type": "stream",
     "text": [
      "Downloaded gal_spectra\\547304062\n"
     ]
    },
    {
     "name": "stderr",
     "output_type": "stream",
     "text": [
      "Downloading:  51%|█████     | 1289/2533 [06:24<08:22,  2.48file/s]"
     ]
    },
    {
     "name": "stdout",
     "output_type": "stream",
     "text": [
      "Downloaded gal_spectra\\574108173\n"
     ]
    },
    {
     "name": "stderr",
     "output_type": "stream",
     "text": [
      "Downloading:  51%|█████     | 1290/2533 [06:24<08:14,  2.51file/s]"
     ]
    },
    {
     "name": "stdout",
     "output_type": "stream",
     "text": [
      "Downloaded gal_spectra\\574108055\n"
     ]
    },
    {
     "name": "stderr",
     "output_type": "stream",
     "text": [
      "Downloading:  51%|█████     | 1291/2533 [06:25<08:09,  2.54file/s]"
     ]
    },
    {
     "name": "stdout",
     "output_type": "stream",
     "text": [
      "Downloaded gal_spectra\\230307223\n"
     ]
    },
    {
     "name": "stderr",
     "output_type": "stream",
     "text": [
      "Downloading:  51%|█████     | 1292/2533 [06:25<07:44,  2.67file/s]"
     ]
    },
    {
     "name": "stdout",
     "output_type": "stream",
     "text": [
      "Downloaded gal_spectra\\574103059\n"
     ]
    },
    {
     "name": "stderr",
     "output_type": "stream",
     "text": [
      "Downloading:  51%|█████     | 1293/2533 [06:26<08:02,  2.57file/s]"
     ]
    },
    {
     "name": "stdout",
     "output_type": "stream",
     "text": [
      "Downloaded gal_spectra\\743404045\n",
      "Downloaded gal_spectra\\576802046\n"
     ]
    },
    {
     "name": "stderr",
     "output_type": "stream",
     "text": [
      "Downloading:  51%|█████     | 1295/2533 [06:26<06:30,  3.17file/s]"
     ]
    },
    {
     "name": "stdout",
     "output_type": "stream",
     "text": [
      "Downloaded gal_spectra\\576801055\n"
     ]
    },
    {
     "name": "stderr",
     "output_type": "stream",
     "text": [
      "Downloading:  51%|█████     | 1297/2533 [06:27<07:26,  2.77file/s]"
     ]
    },
    {
     "name": "stdout",
     "output_type": "stream",
     "text": [
      "Downloaded gal_spectra\\574115181\n",
      "Downloaded gal_spectra\\545307085\n"
     ]
    },
    {
     "name": "stderr",
     "output_type": "stream",
     "text": [
      "Downloading:  51%|█████     | 1298/2533 [06:28<08:28,  2.43file/s]"
     ]
    },
    {
     "name": "stdout",
     "output_type": "stream",
     "text": [
      "Downloaded gal_spectra\\574113199\n"
     ]
    },
    {
     "name": "stderr",
     "output_type": "stream",
     "text": [
      "Downloading:  51%|█████▏    | 1299/2533 [06:28<08:37,  2.39file/s]"
     ]
    },
    {
     "name": "stdout",
     "output_type": "stream",
     "text": [
      "Failed to download https://www.lamost.org/dr7/v2.0/spectrum/fits/901006040: 500 Server Error:  for url: https://www.lamost.org/dr7/v2.0/spectrum/fits/901006040\n"
     ]
    },
    {
     "name": "stderr",
     "output_type": "stream",
     "text": [
      "Downloading:  51%|█████▏    | 1301/2533 [06:28<06:08,  3.34file/s]"
     ]
    },
    {
     "name": "stdout",
     "output_type": "stream",
     "text": [
      "Downloaded gal_spectra\\574103106\n",
      "Downloaded gal_spectra\\545306159\n"
     ]
    },
    {
     "name": "stderr",
     "output_type": "stream",
     "text": [
      "Downloading:  51%|█████▏    | 1302/2533 [06:29<07:22,  2.78file/s]"
     ]
    },
    {
     "name": "stdout",
     "output_type": "stream",
     "text": [
      "Downloaded gal_spectra\\574114139\n",
      "Downloaded gal_spectra\\342203219\n"
     ]
    },
    {
     "name": "stderr",
     "output_type": "stream",
     "text": [
      "Downloading:  51%|█████▏    | 1304/2533 [06:29<06:15,  3.27file/s]"
     ]
    },
    {
     "name": "stdout",
     "output_type": "stream",
     "text": [
      "Downloaded gal_spectra\\574116158\n"
     ]
    },
    {
     "name": "stderr",
     "output_type": "stream",
     "text": [
      "Downloading:  52%|█████▏    | 1305/2533 [06:30<06:35,  3.10file/s]"
     ]
    },
    {
     "name": "stdout",
     "output_type": "stream",
     "text": [
      "Downloaded gal_spectra\\220913089\n"
     ]
    },
    {
     "name": "stderr",
     "output_type": "stream",
     "text": [
      "Downloading:  52%|█████▏    | 1306/2533 [06:30<06:38,  3.08file/s]"
     ]
    },
    {
     "name": "stdout",
     "output_type": "stream",
     "text": [
      "Downloaded gal_spectra\\220909217\n"
     ]
    },
    {
     "name": "stderr",
     "output_type": "stream",
     "text": [
      "Downloading:  52%|█████▏    | 1307/2533 [06:31<09:29,  2.15file/s]"
     ]
    },
    {
     "name": "stdout",
     "output_type": "stream",
     "text": [
      "Downloaded gal_spectra\\220908089\n",
      "Downloaded gal_spectra\\739813177\n",
      "Downloaded gal_spectra\\739813145\n"
     ]
    },
    {
     "name": "stderr",
     "output_type": "stream",
     "text": [
      "Downloading:  52%|█████▏    | 1310/2533 [06:32<06:43,  3.03file/s]"
     ]
    },
    {
     "name": "stdout",
     "output_type": "stream",
     "text": [
      "Downloaded gal_spectra\\220906119\n"
     ]
    },
    {
     "name": "stderr",
     "output_type": "stream",
     "text": [
      "Downloading:  52%|█████▏    | 1311/2533 [06:32<07:52,  2.59file/s]"
     ]
    },
    {
     "name": "stdout",
     "output_type": "stream",
     "text": [
      "Downloaded gal_spectra\\739809143\n"
     ]
    },
    {
     "name": "stderr",
     "output_type": "stream",
     "text": [
      "Downloading:  52%|█████▏    | 1312/2533 [06:33<09:16,  2.19file/s]"
     ]
    },
    {
     "name": "stdout",
     "output_type": "stream",
     "text": [
      "Downloaded gal_spectra\\220913205\n"
     ]
    },
    {
     "name": "stderr",
     "output_type": "stream",
     "text": [
      "Downloading:  52%|█████▏    | 1313/2533 [06:33<08:07,  2.50file/s]"
     ]
    },
    {
     "name": "stdout",
     "output_type": "stream",
     "text": [
      "Downloaded gal_spectra\\230301214\n"
     ]
    },
    {
     "name": "stderr",
     "output_type": "stream",
     "text": [
      "Downloading:  52%|█████▏    | 1314/2533 [06:34<08:54,  2.28file/s]"
     ]
    },
    {
     "name": "stdout",
     "output_type": "stream",
     "text": [
      "Downloaded gal_spectra\\545305138\n"
     ]
    },
    {
     "name": "stderr",
     "output_type": "stream",
     "text": [
      "Downloading:  52%|█████▏    | 1316/2533 [06:34<07:45,  2.62file/s]"
     ]
    },
    {
     "name": "stdout",
     "output_type": "stream",
     "text": [
      "Downloaded gal_spectra\\545305136\n",
      "Downloaded gal_spectra\\739813105\n",
      "Downloaded gal_spectra\\230302007\n"
     ]
    },
    {
     "name": "stderr",
     "output_type": "stream",
     "text": [
      "Downloading:  52%|█████▏    | 1318/2533 [06:34<04:50,  4.18file/s]"
     ]
    },
    {
     "name": "stdout",
     "output_type": "stream",
     "text": [
      "Downloaded gal_spectra\\545305003\n"
     ]
    },
    {
     "name": "stderr",
     "output_type": "stream",
     "text": [
      "Downloading:  52%|█████▏    | 1320/2533 [06:35<04:55,  4.11file/s]"
     ]
    },
    {
     "name": "stdout",
     "output_type": "stream",
     "text": [
      "Downloaded gal_spectra\\739813154\n",
      "Downloaded gal_spectra\\230305114\n"
     ]
    },
    {
     "name": "stderr",
     "output_type": "stream",
     "text": [
      "Downloading:  52%|█████▏    | 1321/2533 [06:36<07:37,  2.65file/s]"
     ]
    },
    {
     "name": "stdout",
     "output_type": "stream",
     "text": [
      "Downloaded gal_spectra\\220909028\n",
      "Downloaded gal_spectra\\347304036\n"
     ]
    },
    {
     "name": "stderr",
     "output_type": "stream",
     "text": [
      "Downloading:  52%|█████▏    | 1323/2533 [06:36<05:24,  3.73file/s]"
     ]
    },
    {
     "name": "stdout",
     "output_type": "stream",
     "text": [
      "Downloaded gal_spectra\\220913103\n"
     ]
    },
    {
     "name": "stderr",
     "output_type": "stream",
     "text": [
      "Downloading:  52%|█████▏    | 1325/2533 [06:36<04:39,  4.31file/s]"
     ]
    },
    {
     "name": "stdout",
     "output_type": "stream",
     "text": [
      "Downloaded gal_spectra\\220909068\n",
      "Downloaded gal_spectra\\739809154\n"
     ]
    },
    {
     "name": "stderr",
     "output_type": "stream",
     "text": [
      "Downloading:  52%|█████▏    | 1326/2533 [06:36<04:01,  5.00file/s]"
     ]
    },
    {
     "name": "stdout",
     "output_type": "stream",
     "text": [
      "Downloaded gal_spectra\\51003110\n",
      "Downloaded gal_spectra\\230302199\n"
     ]
    },
    {
     "name": "stderr",
     "output_type": "stream",
     "text": [
      "Downloading:  52%|█████▏    | 1328/2533 [06:37<03:51,  5.20file/s]"
     ]
    },
    {
     "name": "stdout",
     "output_type": "stream",
     "text": [
      "Downloaded gal_spectra\\545310115\n"
     ]
    },
    {
     "name": "stderr",
     "output_type": "stream",
     "text": [
      "Downloading:  52%|█████▏    | 1329/2533 [06:37<05:22,  3.73file/s]"
     ]
    },
    {
     "name": "stdout",
     "output_type": "stream",
     "text": [
      "Downloaded gal_spectra\\739815131\n"
     ]
    },
    {
     "name": "stderr",
     "output_type": "stream",
     "text": [
      "Downloading:  53%|█████▎    | 1330/2533 [06:38<06:22,  3.15file/s]"
     ]
    },
    {
     "name": "stdout",
     "output_type": "stream",
     "text": [
      "Downloaded gal_spectra\\51012098\n",
      "Downloaded gal_spectra\\545304157\n"
     ]
    },
    {
     "name": "stderr",
     "output_type": "stream",
     "text": [
      "Downloading:  53%|█████▎    | 1333/2533 [06:38<05:05,  3.93file/s]"
     ]
    },
    {
     "name": "stdout",
     "output_type": "stream",
     "text": [
      "Downloaded gal_spectra\\230310121\n",
      "Downloaded gal_spectra\\230306228\n"
     ]
    },
    {
     "name": "stderr",
     "output_type": "stream",
     "text": [
      "Downloading:  53%|█████▎    | 1335/2533 [06:39<03:45,  5.30file/s]"
     ]
    },
    {
     "name": "stdout",
     "output_type": "stream",
     "text": [
      "Downloaded gal_spectra\\545306230\n",
      "Downloaded gal_spectra\\230313050\n",
      "Downloaded gal_spectra\\230303080\n"
     ]
    },
    {
     "name": "stderr",
     "output_type": "stream",
     "text": [
      "Downloading:  53%|█████▎    | 1337/2533 [06:39<05:26,  3.66file/s]"
     ]
    },
    {
     "name": "stdout",
     "output_type": "stream",
     "text": [
      "Downloaded gal_spectra\\566810111\n"
     ]
    },
    {
     "name": "stderr",
     "output_type": "stream",
     "text": [
      "Downloading:  53%|█████▎    | 1339/2533 [06:40<04:55,  4.05file/s]"
     ]
    },
    {
     "name": "stdout",
     "output_type": "stream",
     "text": [
      "Downloaded gal_spectra\\343206010\n",
      "Downloaded gal_spectra\\545309152\n"
     ]
    },
    {
     "name": "stderr",
     "output_type": "stream",
     "text": [
      "Downloading:  53%|█████▎    | 1340/2533 [06:40<05:45,  3.46file/s]"
     ]
    },
    {
     "name": "stdout",
     "output_type": "stream",
     "text": [
      "Downloaded gal_spectra\\545315145\n"
     ]
    },
    {
     "name": "stderr",
     "output_type": "stream",
     "text": [
      "Downloading:  53%|█████▎    | 1341/2533 [06:41<05:41,  3.49file/s]"
     ]
    },
    {
     "name": "stdout",
     "output_type": "stream",
     "text": [
      "Downloaded gal_spectra\\566806099\n",
      "Downloaded gal_spectra\\743416109\n"
     ]
    },
    {
     "name": "stderr",
     "output_type": "stream",
     "text": [
      "Downloading:  53%|█████▎    | 1345/2533 [06:41<04:13,  4.69file/s]"
     ]
    },
    {
     "name": "stdout",
     "output_type": "stream",
     "text": [
      "Failed to download https://www.lamost.org/dr7/v2.0/spectrum/fits/823305246: 500 Server Error:  for url: https://www.lamost.org/dr7/v2.0/spectrum/fits/823305246\n",
      "Downloaded gal_spectra\\545315186\n",
      "Downloaded gal_spectra\\545309187\n"
     ]
    },
    {
     "name": "stderr",
     "output_type": "stream",
     "text": [
      "Downloading:  53%|█████▎    | 1347/2533 [06:41<03:10,  6.22file/s]"
     ]
    },
    {
     "name": "stdout",
     "output_type": "stream",
     "text": [
      "Failed to download https://www.lamost.org/dr7/v2.0/spectrum/fits/823306198: 500 Server Error:  for url: https://www.lamost.org/dr7/v2.0/spectrum/fits/823306198\n",
      "Failed to download https://www.lamost.org/dr7/v2.0/spectrum/fits/823303022: 500 Server Error:  for url: https://www.lamost.org/dr7/v2.0/spectrum/fits/823303022\n"
     ]
    },
    {
     "name": "stderr",
     "output_type": "stream",
     "text": [
      "Downloading:  53%|█████▎    | 1348/2533 [06:42<04:24,  4.48file/s]"
     ]
    },
    {
     "name": "stdout",
     "output_type": "stream",
     "text": [
      "Downloaded gal_spectra\\566813009\n",
      "Failed to download https://www.lamost.org/dr7/v2.0/spectrum/fits/823306015: 500 Server Error:  for url: https://www.lamost.org/dr7/v2.0/spectrum/fits/823306015\n"
     ]
    },
    {
     "name": "stderr",
     "output_type": "stream",
     "text": [
      "Downloading:  53%|█████▎    | 1350/2533 [06:43<05:21,  3.68file/s]"
     ]
    },
    {
     "name": "stdout",
     "output_type": "stream",
     "text": [
      "Downloaded gal_spectra\\242813247\n",
      "Downloaded gal_spectra\\566809089\n"
     ]
    },
    {
     "name": "stderr",
     "output_type": "stream",
     "text": [
      "Downloading:  53%|█████▎    | 1353/2533 [06:44<05:44,  3.43file/s]"
     ]
    },
    {
     "name": "stdout",
     "output_type": "stream",
     "text": [
      "Downloaded gal_spectra\\576801188\n",
      "Downloaded gal_spectra\\565813153\n"
     ]
    },
    {
     "name": "stderr",
     "output_type": "stream",
     "text": [
      "Downloading:  53%|█████▎    | 1354/2533 [06:44<05:45,  3.42file/s]"
     ]
    },
    {
     "name": "stdout",
     "output_type": "stream",
     "text": [
      "Downloaded gal_spectra\\242812019\n"
     ]
    },
    {
     "name": "stderr",
     "output_type": "stream",
     "text": [
      "Downloading:  53%|█████▎    | 1355/2533 [06:44<06:00,  3.27file/s]"
     ]
    },
    {
     "name": "stdout",
     "output_type": "stream",
     "text": [
      "Downloaded gal_spectra\\584812240\n"
     ]
    },
    {
     "name": "stderr",
     "output_type": "stream",
     "text": [
      "Downloading:  54%|█████▎    | 1357/2533 [06:45<05:04,  3.86file/s]"
     ]
    },
    {
     "name": "stdout",
     "output_type": "stream",
     "text": [
      "Downloaded gal_spectra\\573807074\n",
      "Downloaded gal_spectra\\576805166\n"
     ]
    },
    {
     "name": "stderr",
     "output_type": "stream",
     "text": [
      "Downloading:  54%|█████▎    | 1359/2533 [06:45<03:40,  5.32file/s]"
     ]
    },
    {
     "name": "stdout",
     "output_type": "stream",
     "text": [
      "Downloaded gal_spectra\\576803139\n",
      "Downloaded gal_spectra\\565813121\n"
     ]
    },
    {
     "name": "stderr",
     "output_type": "stream",
     "text": [
      "Downloading:  54%|█████▎    | 1360/2533 [06:45<04:37,  4.23file/s]"
     ]
    },
    {
     "name": "stdout",
     "output_type": "stream",
     "text": [
      "Downloaded gal_spectra\\565812231\n"
     ]
    },
    {
     "name": "stderr",
     "output_type": "stream",
     "text": [
      "Downloading:  54%|█████▎    | 1361/2533 [06:46<05:28,  3.57file/s]"
     ]
    },
    {
     "name": "stdout",
     "output_type": "stream",
     "text": [
      "Failed to download https://www.lamost.org/dr7/v2.0/spectrum/fits/902513036: 500 Server Error:  for url: https://www.lamost.org/dr7/v2.0/spectrum/fits/902513036\n",
      "Downloaded gal_spectra\\566908082\n"
     ]
    },
    {
     "name": "stderr",
     "output_type": "stream",
     "text": [
      "Downloading:  54%|█████▍    | 1363/2533 [06:46<04:40,  4.17file/s]"
     ]
    },
    {
     "name": "stdout",
     "output_type": "stream",
     "text": [
      "Downloaded gal_spectra\\568003195\n"
     ]
    },
    {
     "name": "stderr",
     "output_type": "stream",
     "text": [
      "Downloading:  54%|█████▍    | 1364/2533 [06:47<05:44,  3.39file/s]"
     ]
    },
    {
     "name": "stdout",
     "output_type": "stream",
     "text": [
      "Downloaded gal_spectra\\462616107\n"
     ]
    },
    {
     "name": "stderr",
     "output_type": "stream",
     "text": [
      "Downloading:  54%|█████▍    | 1366/2533 [06:47<05:10,  3.76file/s]"
     ]
    },
    {
     "name": "stdout",
     "output_type": "stream",
     "text": [
      "Downloaded gal_spectra\\733708147\n",
      "Downloaded gal_spectra\\566905223\n",
      "Downloaded gal_spectra\\576804238\n"
     ]
    },
    {
     "name": "stderr",
     "output_type": "stream",
     "text": [
      "Downloading:  54%|█████▍    | 1368/2533 [06:48<05:27,  3.56file/s]"
     ]
    },
    {
     "name": "stdout",
     "output_type": "stream",
     "text": [
      "Downloaded gal_spectra\\346212124\n"
     ]
    },
    {
     "name": "stderr",
     "output_type": "stream",
     "text": [
      "Downloading:  54%|█████▍    | 1369/2533 [06:48<05:19,  3.64file/s]"
     ]
    },
    {
     "name": "stdout",
     "output_type": "stream",
     "text": [
      "Downloaded gal_spectra\\733716154\n"
     ]
    },
    {
     "name": "stderr",
     "output_type": "stream",
     "text": [
      "Downloading:  54%|█████▍    | 1371/2533 [06:48<04:53,  3.95file/s]"
     ]
    },
    {
     "name": "stdout",
     "output_type": "stream",
     "text": [
      "Downloaded gal_spectra\\334607184\n",
      "Downloaded gal_spectra\\733715194\n"
     ]
    },
    {
     "name": "stderr",
     "output_type": "stream",
     "text": [
      "Downloading:  54%|█████▍    | 1374/2533 [06:49<03:33,  5.44file/s]"
     ]
    },
    {
     "name": "stdout",
     "output_type": "stream",
     "text": [
      "Failed to download https://www.lamost.org/dr7/v2.0/spectrum/fits/815206114: 500 Server Error:  for url: https://www.lamost.org/dr7/v2.0/spectrum/fits/815206114\n",
      "Downloaded gal_spectra\\322206201\n",
      "Downloaded gal_spectra\\242810023\n",
      "Failed to download https://www.lamost.org/dr7/v2.0/spectrum/fits/902907183: 500 Server Error:  for url: https://www.lamost.org/dr7/v2.0/spectrum/fits/902907183\n",
      "Downloaded gal_spectra\\733713119\n"
     ]
    },
    {
     "name": "stderr",
     "output_type": "stream",
     "text": [
      "Downloading:  54%|█████▍    | 1377/2533 [06:49<02:57,  6.51file/s]"
     ]
    },
    {
     "name": "stdout",
     "output_type": "stream",
     "text": [
      "Downloaded gal_spectra\\334610175\n"
     ]
    },
    {
     "name": "stderr",
     "output_type": "stream",
     "text": [
      "Downloading:  54%|█████▍    | 1378/2533 [06:50<05:33,  3.46file/s]"
     ]
    },
    {
     "name": "stdout",
     "output_type": "stream",
     "text": [
      "Downloaded gal_spectra\\241902185\n"
     ]
    },
    {
     "name": "stderr",
     "output_type": "stream",
     "text": [
      "Downloading:  55%|█████▍    | 1381/2533 [06:51<03:58,  4.83file/s]"
     ]
    },
    {
     "name": "stdout",
     "output_type": "stream",
     "text": [
      "Failed to download https://www.lamost.org/dr7/v2.0/spectrum/fits/902701192: 500 Server Error:  for url: https://www.lamost.org/dr7/v2.0/spectrum/fits/902701192\n",
      "Downloaded gal_spectra\\241902249\n",
      "Downloaded gal_spectra\\241914211\n"
     ]
    },
    {
     "name": "stderr",
     "output_type": "stream",
     "text": [
      "Downloading:  55%|█████▍    | 1382/2533 [06:51<04:52,  3.94file/s]"
     ]
    },
    {
     "name": "stdout",
     "output_type": "stream",
     "text": [
      "Downloaded gal_spectra\\450807084\n"
     ]
    },
    {
     "name": "stderr",
     "output_type": "stream",
     "text": [
      "Downloading:  55%|█████▍    | 1383/2533 [06:52<07:24,  2.59file/s]"
     ]
    },
    {
     "name": "stdout",
     "output_type": "stream",
     "text": [
      "Failed to download https://www.lamost.org/dr7/v2.0/spectrum/fits/902705014: 500 Server Error:  for url: https://www.lamost.org/dr7/v2.0/spectrum/fits/902705014\n",
      "Downloaded gal_spectra\\450802228\n"
     ]
    },
    {
     "name": "stderr",
     "output_type": "stream",
     "text": [
      "Downloading:  55%|█████▍    | 1386/2533 [06:53<06:07,  3.12file/s]"
     ]
    },
    {
     "name": "stdout",
     "output_type": "stream",
     "text": [
      "Downloaded gal_spectra\\450808212\n",
      "Downloaded gal_spectra\\450801106\n"
     ]
    },
    {
     "name": "stderr",
     "output_type": "stream",
     "text": [
      "Downloading:  55%|█████▍    | 1387/2533 [06:53<07:44,  2.47file/s]"
     ]
    },
    {
     "name": "stdout",
     "output_type": "stream",
     "text": [
      "Downloaded gal_spectra\\450805163\n",
      "Downloaded gal_spectra\\152012119\n"
     ]
    },
    {
     "name": "stderr",
     "output_type": "stream",
     "text": [
      "Downloading:  55%|█████▍    | 1389/2533 [06:54<06:57,  2.74file/s]"
     ]
    },
    {
     "name": "stdout",
     "output_type": "stream",
     "text": [
      "Downloaded gal_spectra\\450807217\n"
     ]
    },
    {
     "name": "stderr",
     "output_type": "stream",
     "text": [
      "Downloading:  55%|█████▍    | 1390/2533 [06:54<06:47,  2.80file/s]"
     ]
    },
    {
     "name": "stdout",
     "output_type": "stream",
     "text": [
      "Downloaded gal_spectra\\450808224\n"
     ]
    },
    {
     "name": "stderr",
     "output_type": "stream",
     "text": [
      "Downloading:  55%|█████▍    | 1392/2533 [06:55<05:19,  3.57file/s]"
     ]
    },
    {
     "name": "stdout",
     "output_type": "stream",
     "text": [
      "Failed to download https://www.lamost.org/dr7/v2.0/spectrum/fits/902708133: 500 Server Error:  for url: https://www.lamost.org/dr7/v2.0/spectrum/fits/902708133\n",
      "Downloaded gal_spectra\\450805156\n"
     ]
    },
    {
     "name": "stderr",
     "output_type": "stream",
     "text": [
      "Downloading:  55%|█████▍    | 1393/2533 [06:55<04:40,  4.06file/s]"
     ]
    },
    {
     "name": "stdout",
     "output_type": "stream",
     "text": [
      "Downloaded gal_spectra\\450808138\n"
     ]
    },
    {
     "name": "stderr",
     "output_type": "stream",
     "text": [
      "Downloading:  55%|█████▌    | 1394/2533 [06:55<06:49,  2.78file/s]"
     ]
    },
    {
     "name": "stdout",
     "output_type": "stream",
     "text": [
      "Downloaded gal_spectra\\450801150\n",
      "Downloaded gal_spectra\\450805009\n"
     ]
    },
    {
     "name": "stderr",
     "output_type": "stream",
     "text": [
      "Downloading:  55%|█████▌    | 1396/2533 [06:56<05:56,  3.19file/s]"
     ]
    },
    {
     "name": "stdout",
     "output_type": "stream",
     "text": [
      "Failed to download https://www.lamost.org/dr7/v2.0/spectrum/fits/815206100: 500 Server Error:  for url: https://www.lamost.org/dr7/v2.0/spectrum/fits/815206100\n",
      "Downloaded gal_spectra\\450804009\n"
     ]
    },
    {
     "name": "stderr",
     "output_type": "stream",
     "text": [
      "Downloading:  55%|█████▌    | 1399/2533 [06:56<04:45,  3.97file/s]"
     ]
    },
    {
     "name": "stdout",
     "output_type": "stream",
     "text": [
      "Downloaded gal_spectra\\450809154\n"
     ]
    },
    {
     "name": "stderr",
     "output_type": "stream",
     "text": [
      "Downloading:  55%|█████▌    | 1400/2533 [06:57<04:15,  4.44file/s]"
     ]
    },
    {
     "name": "stdout",
     "output_type": "stream",
     "text": [
      "Downloaded gal_spectra\\450809047\n",
      "Downloaded gal_spectra\\450812050\n",
      "Failed to download https://www.lamost.org/dr7/v2.0/spectrum/fits/902907011: 500 Server Error:  for url: https://www.lamost.org/dr7/v2.0/spectrum/fits/902907011\n",
      "Downloaded gal_spectra\\450806145\n"
     ]
    },
    {
     "name": "stderr",
     "output_type": "stream",
     "text": [
      "Downloading:  55%|█████▌    | 1403/2533 [06:57<03:30,  5.37file/s]"
     ]
    },
    {
     "name": "stdout",
     "output_type": "stream",
     "text": [
      "Failed to download https://www.lamost.org/dr7/v2.0/spectrum/fits/902906247: 500 Server Error:  for url: https://www.lamost.org/dr7/v2.0/spectrum/fits/902906247\n",
      "Failed to download https://www.lamost.org/dr7/v2.0/spectrum/fits/902912207: 500 Server Error:  for url: https://www.lamost.org/dr7/v2.0/spectrum/fits/902912207\n"
     ]
    },
    {
     "name": "stderr",
     "output_type": "stream",
     "text": [
      "Downloading:  55%|█████▌    | 1405/2533 [06:58<03:49,  4.92file/s]"
     ]
    },
    {
     "name": "stdout",
     "output_type": "stream",
     "text": [
      "Downloaded gal_spectra\\334614201\n"
     ]
    },
    {
     "name": "stderr",
     "output_type": "stream",
     "text": [
      "Downloading:  56%|█████▌    | 1406/2533 [06:58<03:49,  4.91file/s]"
     ]
    },
    {
     "name": "stdout",
     "output_type": "stream",
     "text": [
      "Downloaded gal_spectra\\458405136\n"
     ]
    },
    {
     "name": "stderr",
     "output_type": "stream",
     "text": [
      "Downloading:  56%|█████▌    | 1407/2533 [06:58<04:15,  4.41file/s]"
     ]
    },
    {
     "name": "stdout",
     "output_type": "stream",
     "text": [
      "Failed to download https://www.lamost.org/dr7/v2.0/spectrum/fits/823213049: 500 Server Error:  for url: https://www.lamost.org/dr7/v2.0/spectrum/fits/823213049\n"
     ]
    },
    {
     "name": "stderr",
     "output_type": "stream",
     "text": [
      "Downloading:  56%|█████▌    | 1409/2533 [06:59<05:03,  3.70file/s]"
     ]
    },
    {
     "name": "stdout",
     "output_type": "stream",
     "text": [
      "Failed to download https://www.lamost.org/dr7/v2.0/spectrum/fits/823205208: 500 Server Error:  for url: https://www.lamost.org/dr7/v2.0/spectrum/fits/823205208\n",
      "Downloaded gal_spectra\\582404143\n"
     ]
    },
    {
     "name": "stderr",
     "output_type": "stream",
     "text": [
      "Downloading:  56%|█████▌    | 1411/2533 [06:59<04:40,  4.00file/s]"
     ]
    },
    {
     "name": "stdout",
     "output_type": "stream",
     "text": [
      "Downloaded gal_spectra\\582405071\n",
      "Downloaded gal_spectra\\582405157\n",
      "Downloaded gal_spectra\\745008164\n"
     ]
    },
    {
     "name": "stderr",
     "output_type": "stream",
     "text": [
      "Downloading:  56%|█████▌    | 1414/2533 [07:00<04:20,  4.29file/s]"
     ]
    },
    {
     "name": "stdout",
     "output_type": "stream",
     "text": [
      "Downloaded gal_spectra\\745004148\n",
      "Failed to download https://www.lamost.org/dr7/v2.0/spectrum/fits/902916080: 500 Server Error:  for url: https://www.lamost.org/dr7/v2.0/spectrum/fits/902916080\n",
      "Downloaded gal_spectra\\745005108\n"
     ]
    },
    {
     "name": "stderr",
     "output_type": "stream",
     "text": [
      "Downloading:  56%|█████▌    | 1417/2533 [07:00<03:27,  5.38file/s]"
     ]
    },
    {
     "name": "stdout",
     "output_type": "stream",
     "text": [
      "Failed to download https://www.lamost.org/dr7/v2.0/spectrum/fits/823203073: 500 Server Error:  for url: https://www.lamost.org/dr7/v2.0/spectrum/fits/823203073\n",
      "Downloaded gal_spectra\\559512032\n"
     ]
    },
    {
     "name": "stderr",
     "output_type": "stream",
     "text": [
      "Downloading:  56%|█████▌    | 1418/2533 [07:01<03:15,  5.71file/s]"
     ]
    },
    {
     "name": "stdout",
     "output_type": "stream",
     "text": [
      "Failed to download https://www.lamost.org/dr7/v2.0/spectrum/fits/823211250: 500 Server Error:  for url: https://www.lamost.org/dr7/v2.0/spectrum/fits/823211250\n"
     ]
    },
    {
     "name": "stderr",
     "output_type": "stream",
     "text": [
      "Downloading:  56%|█████▌    | 1419/2533 [07:01<05:48,  3.20file/s]"
     ]
    },
    {
     "name": "stdout",
     "output_type": "stream",
     "text": [
      "Downloaded gal_spectra\\745010216\n",
      "Downloaded gal_spectra\\450805135\n"
     ]
    },
    {
     "name": "stderr",
     "output_type": "stream",
     "text": [
      "Downloading:  56%|█████▌    | 1423/2533 [07:02<04:26,  4.17file/s]"
     ]
    },
    {
     "name": "stdout",
     "output_type": "stream",
     "text": [
      "Failed to download https://www.lamost.org/dr7/v2.0/spectrum/fits/901907166: 500 Server Error:  for url: https://www.lamost.org/dr7/v2.0/spectrum/fits/901907166\n",
      "Downloaded gal_spectra\\745014077\n",
      "Downloaded gal_spectra\\458411126\n"
     ]
    },
    {
     "name": "stderr",
     "output_type": "stream",
     "text": [
      "Downloading:  56%|█████▋    | 1425/2533 [07:03<04:07,  4.48file/s]"
     ]
    },
    {
     "name": "stdout",
     "output_type": "stream",
     "text": [
      "Failed to download https://www.lamost.org/dr7/v2.0/spectrum/fits/823203149: 500 Server Error:  for url: https://www.lamost.org/dr7/v2.0/spectrum/fits/823203149\n",
      "Downloaded gal_spectra\\458416130\n"
     ]
    },
    {
     "name": "stderr",
     "output_type": "stream",
     "text": [
      "Downloading:  56%|█████▋    | 1426/2533 [07:03<04:41,  3.93file/s]"
     ]
    },
    {
     "name": "stdout",
     "output_type": "stream",
     "text": [
      "Downloaded gal_spectra\\458411150\n"
     ]
    },
    {
     "name": "stderr",
     "output_type": "stream",
     "text": [
      "Downloading:  56%|█████▋    | 1427/2533 [07:03<05:08,  3.59file/s]"
     ]
    },
    {
     "name": "stdout",
     "output_type": "stream",
     "text": [
      "Downloaded gal_spectra\\582406207\n"
     ]
    },
    {
     "name": "stderr",
     "output_type": "stream",
     "text": [
      "Downloading:  56%|█████▋    | 1429/2533 [07:04<04:46,  3.86file/s]"
     ]
    },
    {
     "name": "stdout",
     "output_type": "stream",
     "text": [
      "Failed to download https://www.lamost.org/dr7/v2.0/spectrum/fits/812310213: 500 Server Error:  for url: https://www.lamost.org/dr7/v2.0/spectrum/fits/812310213\n",
      "Downloaded gal_spectra\\152016226\n",
      "Downloaded gal_spectra\\745008091\n"
     ]
    },
    {
     "name": "stderr",
     "output_type": "stream",
     "text": [
      "Downloading:  56%|█████▋    | 1431/2533 [07:04<04:41,  3.92file/s]"
     ]
    },
    {
     "name": "stdout",
     "output_type": "stream",
     "text": [
      "Downloaded gal_spectra\\155207164\n"
     ]
    },
    {
     "name": "stderr",
     "output_type": "stream",
     "text": [
      "Downloading:  57%|█████▋    | 1433/2533 [07:05<04:27,  4.11file/s]"
     ]
    },
    {
     "name": "stdout",
     "output_type": "stream",
     "text": [
      "Downloaded gal_spectra\\745006198\n",
      "Downloaded gal_spectra\\582408029\n"
     ]
    },
    {
     "name": "stderr",
     "output_type": "stream",
     "text": [
      "Downloading:  57%|█████▋    | 1436/2533 [07:05<03:43,  4.91file/s]"
     ]
    },
    {
     "name": "stdout",
     "output_type": "stream",
     "text": [
      "Downloaded gal_spectra\\743003051\n",
      "Downloaded gal_spectra\\743003248\n",
      "Downloaded gal_spectra\\582412139\n"
     ]
    },
    {
     "name": "stderr",
     "output_type": "stream",
     "text": [
      "Downloading:  57%|█████▋    | 1439/2533 [07:06<02:31,  7.23file/s]"
     ]
    },
    {
     "name": "stdout",
     "output_type": "stream",
     "text": [
      "Failed to download https://www.lamost.org/dr7/v2.0/spectrum/fits/823607202: 500 Server Error:  for url: https://www.lamost.org/dr7/v2.0/spectrum/fits/823607202\n",
      "Downloaded gal_spectra\\745012141\n",
      "Downloaded gal_spectra\\743003215\n"
     ]
    },
    {
     "name": "stderr",
     "output_type": "stream",
     "text": [
      "Downloading:  57%|█████▋    | 1441/2533 [07:06<02:23,  7.61file/s]"
     ]
    },
    {
     "name": "stdout",
     "output_type": "stream",
     "text": [
      "Failed to download https://www.lamost.org/dr7/v2.0/spectrum/fits/906712119: 500 Server Error:  for url: https://www.lamost.org/dr7/v2.0/spectrum/fits/906712119\n",
      "Downloaded gal_spectra\\458014182\n"
     ]
    },
    {
     "name": "stderr",
     "output_type": "stream",
     "text": [
      "Downloading:  57%|█████▋    | 1442/2533 [07:06<03:41,  4.92file/s]"
     ]
    },
    {
     "name": "stdout",
     "output_type": "stream",
     "text": [
      "Downloaded gal_spectra\\241909222\n"
     ]
    },
    {
     "name": "stderr",
     "output_type": "stream",
     "text": [
      "Downloading:  57%|█████▋    | 1443/2533 [07:07<04:11,  4.33file/s]"
     ]
    },
    {
     "name": "stdout",
     "output_type": "stream",
     "text": [
      "Failed to download https://www.lamost.org/dr7/v2.0/spectrum/fits/812304048: 500 Server Error:  for url: https://www.lamost.org/dr7/v2.0/spectrum/fits/812304048\n"
     ]
    },
    {
     "name": "stderr",
     "output_type": "stream",
     "text": [
      "Downloading:  57%|█████▋    | 1445/2533 [07:07<05:14,  3.46file/s]"
     ]
    },
    {
     "name": "stdout",
     "output_type": "stream",
     "text": [
      "Downloaded gal_spectra\\660205123\n",
      "Failed to download https://www.lamost.org/dr7/v2.0/spectrum/fits/910701044: 500 Server Error:  for url: https://www.lamost.org/dr7/v2.0/spectrum/fits/910701044\n"
     ]
    },
    {
     "name": "stderr",
     "output_type": "stream",
     "text": [
      "Downloading:  57%|█████▋    | 1446/2533 [07:08<04:38,  3.90file/s]"
     ]
    },
    {
     "name": "stdout",
     "output_type": "stream",
     "text": [
      "Downloaded gal_spectra\\458005134\n"
     ]
    },
    {
     "name": "stderr",
     "output_type": "stream",
     "text": [
      "Downloading:  57%|█████▋    | 1448/2533 [07:08<05:29,  3.29file/s]"
     ]
    },
    {
     "name": "stdout",
     "output_type": "stream",
     "text": [
      "Downloaded gal_spectra\\458005200\n",
      "Downloaded gal_spectra\\458005105\n"
     ]
    },
    {
     "name": "stderr",
     "output_type": "stream",
     "text": [
      "Downloading:  57%|█████▋    | 1450/2533 [07:09<03:29,  5.16file/s]"
     ]
    },
    {
     "name": "stdout",
     "output_type": "stream",
     "text": [
      "Downloaded gal_spectra\\660206107\n",
      "Downloaded gal_spectra\\458014083\n"
     ]
    },
    {
     "name": "stderr",
     "output_type": "stream",
     "text": [
      "Downloading:  57%|█████▋    | 1451/2533 [07:09<04:59,  3.61file/s]"
     ]
    },
    {
     "name": "stdout",
     "output_type": "stream",
     "text": [
      "Downloaded gal_spectra\\660206095\n"
     ]
    },
    {
     "name": "stderr",
     "output_type": "stream",
     "text": [
      "Downloading:  57%|█████▋    | 1452/2533 [07:10<05:41,  3.16file/s]"
     ]
    },
    {
     "name": "stdout",
     "output_type": "stream",
     "text": [
      "Downloaded gal_spectra\\660212042\n"
     ]
    },
    {
     "name": "stderr",
     "output_type": "stream",
     "text": [
      "Downloading:  57%|█████▋    | 1453/2533 [07:10<05:16,  3.41file/s]"
     ]
    },
    {
     "name": "stdout",
     "output_type": "stream",
     "text": [
      "Downloaded gal_spectra\\660213058\n"
     ]
    },
    {
     "name": "stderr",
     "output_type": "stream",
     "text": [
      "Downloading:  57%|█████▋    | 1454/2533 [07:10<05:22,  3.34file/s]"
     ]
    },
    {
     "name": "stdout",
     "output_type": "stream",
     "text": [
      "Downloaded gal_spectra\\660204116\n",
      "Downloaded gal_spectra\\660205116\n"
     ]
    },
    {
     "name": "stderr",
     "output_type": "stream",
     "text": [
      "Downloading:  58%|█████▊    | 1457/2533 [07:11<04:12,  4.27file/s]"
     ]
    },
    {
     "name": "stdout",
     "output_type": "stream",
     "text": [
      "Downloaded gal_spectra\\564212059\n",
      "Downloaded gal_spectra\\316210109\n",
      "Downloaded gal_spectra\\316210189\n",
      "Downloaded gal_spectra\\524416150\n"
     ]
    },
    {
     "name": "stderr",
     "output_type": "stream",
     "text": [
      "Downloading:  58%|█████▊    | 1460/2533 [07:11<03:46,  4.73file/s]"
     ]
    },
    {
     "name": "stdout",
     "output_type": "stream",
     "text": [
      "Downloaded gal_spectra\\343112042\n",
      "Downloaded gal_spectra\\335215113\n"
     ]
    },
    {
     "name": "stderr",
     "output_type": "stream",
     "text": [
      "Downloading:  58%|█████▊    | 1462/2533 [07:12<05:22,  3.32file/s]"
     ]
    },
    {
     "name": "stdout",
     "output_type": "stream",
     "text": [
      "Downloaded gal_spectra\\219306087\n"
     ]
    },
    {
     "name": "stderr",
     "output_type": "stream",
     "text": [
      "Downloading:  58%|█████▊    | 1464/2533 [07:13<04:38,  3.84file/s]"
     ]
    },
    {
     "name": "stdout",
     "output_type": "stream",
     "text": [
      "Downloaded gal_spectra\\219306160\n",
      "Downloaded gal_spectra\\582310151\n"
     ]
    },
    {
     "name": "stderr",
     "output_type": "stream",
     "text": [
      "Downloading:  58%|█████▊    | 1465/2533 [07:13<04:08,  4.30file/s]"
     ]
    },
    {
     "name": "stdout",
     "output_type": "stream",
     "text": [
      "Downloaded gal_spectra\\582303185\n"
     ]
    },
    {
     "name": "stderr",
     "output_type": "stream",
     "text": [
      "Downloading:  58%|█████▊    | 1467/2533 [07:13<04:20,  4.09file/s]"
     ]
    },
    {
     "name": "stdout",
     "output_type": "stream",
     "text": [
      "Downloaded gal_spectra\\343116195\n",
      "Downloaded gal_spectra\\48702018\n",
      "Failed to download https://www.lamost.org/dr7/v2.0/spectrum/fits/893001207: 500 Server Error:  for url: https://www.lamost.org/dr7/v2.0/spectrum/fits/893001207\n",
      "Downloaded gal_spectra\\219304154\n"
     ]
    },
    {
     "name": "stderr",
     "output_type": "stream",
     "text": [
      "Downloading:  58%|█████▊    | 1471/2533 [07:14<03:00,  5.87file/s]"
     ]
    },
    {
     "name": "stdout",
     "output_type": "stream",
     "text": [
      "Downloaded gal_spectra\\219306148\n",
      "Downloaded gal_spectra\\219308026\n"
     ]
    },
    {
     "name": "stderr",
     "output_type": "stream",
     "text": [
      "Downloading:  58%|█████▊    | 1472/2533 [07:14<02:54,  6.07file/s]"
     ]
    },
    {
     "name": "stdout",
     "output_type": "stream",
     "text": [
      "Downloaded gal_spectra\\219316236\n"
     ]
    },
    {
     "name": "stderr",
     "output_type": "stream",
     "text": [
      "Downloading:  58%|█████▊    | 1473/2533 [07:15<04:41,  3.77file/s]"
     ]
    },
    {
     "name": "stdout",
     "output_type": "stream",
     "text": [
      "Downloaded gal_spectra\\219311143\n"
     ]
    },
    {
     "name": "stderr",
     "output_type": "stream",
     "text": [
      "Downloading:  58%|█████▊    | 1475/2533 [07:15<04:14,  4.15file/s]"
     ]
    },
    {
     "name": "stdout",
     "output_type": "stream",
     "text": [
      "Downloaded gal_spectra\\316203165\n",
      "Downloaded gal_spectra\\547810167\n",
      "Downloaded gal_spectra\\48705218\n"
     ]
    },
    {
     "name": "stderr",
     "output_type": "stream",
     "text": [
      "Downloading:  58%|█████▊    | 1477/2533 [07:15<04:02,  4.36file/s]"
     ]
    },
    {
     "name": "stdout",
     "output_type": "stream",
     "text": [
      "Downloaded gal_spectra\\547206234\n",
      "Downloaded gal_spectra\\547201114\n"
     ]
    },
    {
     "name": "stderr",
     "output_type": "stream",
     "text": [
      "Downloading:  58%|█████▊    | 1480/2533 [07:16<03:41,  4.76file/s]"
     ]
    },
    {
     "name": "stdout",
     "output_type": "stream",
     "text": [
      "Downloaded gal_spectra\\448603158\n",
      "Downloaded gal_spectra\\318701039\n",
      "Failed to download https://www.lamost.org/dr7/v2.0/spectrum/fits/893615095: 500 Server Error:  for url: https://www.lamost.org/dr7/v2.0/spectrum/fits/893615095\n"
     ]
    },
    {
     "name": "stderr",
     "output_type": "stream",
     "text": [
      "Downloading:  59%|█████▊    | 1482/2533 [07:16<02:52,  6.08file/s]"
     ]
    },
    {
     "name": "stdout",
     "output_type": "stream",
     "text": [
      "Downloaded gal_spectra\\448606236\n",
      "Downloaded gal_spectra\\318701192\n"
     ]
    },
    {
     "name": "stderr",
     "output_type": "stream",
     "text": [
      "Downloading:  59%|█████▊    | 1484/2533 [07:17<04:00,  4.37file/s]"
     ]
    },
    {
     "name": "stdout",
     "output_type": "stream",
     "text": [
      "Downloaded gal_spectra\\124015102\n"
     ]
    },
    {
     "name": "stderr",
     "output_type": "stream",
     "text": [
      "Downloading:  59%|█████▊    | 1485/2533 [07:17<03:54,  4.46file/s]"
     ]
    },
    {
     "name": "stdout",
     "output_type": "stream",
     "text": [
      "Downloaded gal_spectra\\332015152\n"
     ]
    },
    {
     "name": "stderr",
     "output_type": "stream",
     "text": [
      "Downloading:  59%|█████▊    | 1486/2533 [07:18<05:49,  2.99file/s]"
     ]
    },
    {
     "name": "stdout",
     "output_type": "stream",
     "text": [
      "Downloaded gal_spectra\\124016024\n",
      "Downloaded gal_spectra\\547815076\n"
     ]
    },
    {
     "name": "stderr",
     "output_type": "stream",
     "text": [
      "Downloading:  59%|█████▊    | 1488/2533 [07:18<04:22,  3.97file/s]"
     ]
    },
    {
     "name": "stdout",
     "output_type": "stream",
     "text": [
      "Failed to download https://www.lamost.org/dr7/v2.0/spectrum/fits/792902138: 500 Server Error:  for url: https://www.lamost.org/dr7/v2.0/spectrum/fits/792902138\n"
     ]
    },
    {
     "name": "stderr",
     "output_type": "stream",
     "text": [
      "Downloading:  59%|█████▉    | 1490/2533 [07:19<04:46,  3.64file/s]"
     ]
    },
    {
     "name": "stdout",
     "output_type": "stream",
     "text": [
      "Downloaded gal_spectra\\448612211\n",
      "Downloaded gal_spectra\\319316214\n",
      "Downloaded gal_spectra\\547209103\n"
     ]
    },
    {
     "name": "stderr",
     "output_type": "stream",
     "text": [
      "Downloading:  59%|█████▉    | 1493/2533 [07:19<03:16,  5.28file/s]"
     ]
    },
    {
     "name": "stdout",
     "output_type": "stream",
     "text": [
      "Downloaded gal_spectra\\230102239\n",
      "Downloaded gal_spectra\\537708103\n"
     ]
    },
    {
     "name": "stderr",
     "output_type": "stream",
     "text": [
      "Downloading:  59%|█████▉    | 1494/2533 [07:19<03:04,  5.64file/s]"
     ]
    },
    {
     "name": "stdout",
     "output_type": "stream",
     "text": [
      "Downloaded gal_spectra\\337208123\n"
     ]
    },
    {
     "name": "stderr",
     "output_type": "stream",
     "text": [
      "Downloading:  59%|█████▉    | 1496/2533 [07:21<05:58,  2.90file/s]"
     ]
    },
    {
     "name": "stdout",
     "output_type": "stream",
     "text": [
      "Downloaded gal_spectra\\124014110\n",
      "Downloaded gal_spectra\\523507238\n"
     ]
    },
    {
     "name": "stderr",
     "output_type": "stream",
     "text": [
      "Downloading:  59%|█████▉    | 1497/2533 [07:21<04:54,  3.51file/s]"
     ]
    },
    {
     "name": "stdout",
     "output_type": "stream",
     "text": [
      "Downloaded gal_spectra\\546605034\n",
      "Downloaded gal_spectra\\230114042\n"
     ]
    },
    {
     "name": "stderr",
     "output_type": "stream",
     "text": [
      "Downloading:  59%|█████▉    | 1500/2533 [07:21<03:40,  4.69file/s]"
     ]
    },
    {
     "name": "stdout",
     "output_type": "stream",
     "text": [
      "Failed to download https://www.lamost.org/dr7/v2.0/spectrum/fits/792912178: 500 Server Error:  for url: https://www.lamost.org/dr7/v2.0/spectrum/fits/792912178\n",
      "Downloaded gal_spectra\\346905096\n"
     ]
    },
    {
     "name": "stderr",
     "output_type": "stream",
     "text": [
      "Downloading:  59%|█████▉    | 1502/2533 [07:22<03:28,  4.93file/s]"
     ]
    },
    {
     "name": "stdout",
     "output_type": "stream",
     "text": [
      "Downloaded gal_spectra\\346911095\n",
      "Failed to download https://www.lamost.org/dr7/v2.0/spectrum/fits/880806212: 500 Server Error:  for url: https://www.lamost.org/dr7/v2.0/spectrum/fits/880806212\n"
     ]
    },
    {
     "name": "stderr",
     "output_type": "stream",
     "text": [
      "Downloading:  59%|█████▉    | 1504/2533 [07:22<04:44,  3.61file/s]"
     ]
    },
    {
     "name": "stdout",
     "output_type": "stream",
     "text": [
      "Downloaded gal_spectra\\337204053\n"
     ]
    },
    {
     "name": "stderr",
     "output_type": "stream",
     "text": [
      "Downloading:  59%|█████▉    | 1505/2533 [07:22<04:19,  3.96file/s]"
     ]
    },
    {
     "name": "stdout",
     "output_type": "stream",
     "text": [
      "Failed to download https://www.lamost.org/dr7/v2.0/spectrum/fits/791711109: 500 Server Error:  for url: https://www.lamost.org/dr7/v2.0/spectrum/fits/791711109\n",
      "Downloaded gal_spectra\\546616148\n",
      "Downloaded gal_spectra\\230115001\n"
     ]
    },
    {
     "name": "stderr",
     "output_type": "stream",
     "text": [
      "Downloading:  60%|█████▉    | 1510/2533 [07:23<03:13,  5.28file/s]"
     ]
    },
    {
     "name": "stdout",
     "output_type": "stream",
     "text": [
      "Failed to download https://www.lamost.org/dr7/v2.0/spectrum/fits/880805108: 500 Server Error:  for url: https://www.lamost.org/dr7/v2.0/spectrum/fits/880805108\n",
      "Downloaded gal_spectra\\33606128\n",
      "Failed to download https://www.lamost.org/dr7/v2.0/spectrum/fits/880808056: 500 Server Error:  for url: https://www.lamost.org/dr7/v2.0/spectrum/fits/880808056\n",
      "Downloaded gal_spectra\\301808004\n"
     ]
    },
    {
     "name": "stderr",
     "output_type": "stream",
     "text": [
      "Downloading:  60%|█████▉    | 1511/2533 [07:24<04:07,  4.14file/s]"
     ]
    },
    {
     "name": "stdout",
     "output_type": "stream",
     "text": [
      "Downloaded gal_spectra\\236008130\n"
     ]
    },
    {
     "name": "stderr",
     "output_type": "stream",
     "text": [
      "Downloading:  60%|█████▉    | 1512/2533 [07:24<04:56,  3.44file/s]"
     ]
    },
    {
     "name": "stdout",
     "output_type": "stream",
     "text": [
      "Downloaded gal_spectra\\235905124\n",
      "Downloaded gal_spectra\\235906011\n"
     ]
    },
    {
     "name": "stderr",
     "output_type": "stream",
     "text": [
      "Downloading:  60%|█████▉    | 1514/2533 [07:25<03:50,  4.42file/s]"
     ]
    },
    {
     "name": "stdout",
     "output_type": "stream",
     "text": [
      "Downloaded gal_spectra\\236006015\n"
     ]
    },
    {
     "name": "stderr",
     "output_type": "stream",
     "text": [
      "Downloading:  60%|█████▉    | 1515/2533 [07:25<05:37,  3.02file/s]"
     ]
    },
    {
     "name": "stdout",
     "output_type": "stream",
     "text": [
      "Downloaded gal_spectra\\236004148\n",
      "Downloaded gal_spectra\\236004136\n"
     ]
    },
    {
     "name": "stderr",
     "output_type": "stream",
     "text": [
      "Downloading:  60%|█████▉    | 1517/2533 [07:26<04:16,  3.96file/s]"
     ]
    },
    {
     "name": "stdout",
     "output_type": "stream",
     "text": [
      "Downloaded gal_spectra\\235904089\n"
     ]
    },
    {
     "name": "stderr",
     "output_type": "stream",
     "text": [
      "Downloading:  60%|█████▉    | 1518/2533 [07:26<05:18,  3.19file/s]"
     ]
    },
    {
     "name": "stdout",
     "output_type": "stream",
     "text": [
      "Downloaded gal_spectra\\144504091\n",
      "Downloaded gal_spectra\\235908040\n"
     ]
    },
    {
     "name": "stderr",
     "output_type": "stream",
     "text": [
      "Downloading:  60%|██████    | 1520/2533 [07:27<04:37,  3.65file/s]"
     ]
    },
    {
     "name": "stdout",
     "output_type": "stream",
     "text": [
      "Downloaded gal_spectra\\236006199\n"
     ]
    },
    {
     "name": "stderr",
     "output_type": "stream",
     "text": [
      "Downloading:  60%|██████    | 1522/2533 [07:27<05:11,  3.24file/s]"
     ]
    },
    {
     "name": "stdout",
     "output_type": "stream",
     "text": [
      "Downloaded gal_spectra\\235904105\n",
      "Failed to download https://www.lamost.org/dr7/v2.0/spectrum/fits/880813138: 500 Server Error:  for url: https://www.lamost.org/dr7/v2.0/spectrum/fits/880813138\n",
      "Downloaded gal_spectra\\51303150\n",
      "Downloaded gal_spectra\\235909245\n",
      "Downloaded gal_spectra\\236006038\n"
     ]
    },
    {
     "name": "stderr",
     "output_type": "stream",
     "text": [
      "Downloading:  60%|██████    | 1526/2533 [07:28<04:09,  4.04file/s]"
     ]
    },
    {
     "name": "stdout",
     "output_type": "stream",
     "text": [
      "Downloaded gal_spectra\\236004106\n"
     ]
    },
    {
     "name": "stderr",
     "output_type": "stream",
     "text": [
      "Downloading:  60%|██████    | 1529/2533 [07:29<04:24,  3.79file/s]"
     ]
    },
    {
     "name": "stdout",
     "output_type": "stream",
     "text": [
      "Downloaded gal_spectra\\236004116\n",
      "Downloaded gal_spectra\\235909194\n",
      "Downloaded gal_spectra\\236013052\n",
      "Downloaded gal_spectra\\565613050\n"
     ]
    },
    {
     "name": "stderr",
     "output_type": "stream",
     "text": [
      "Downloading:  60%|██████    | 1532/2533 [07:29<03:13,  5.16file/s]"
     ]
    },
    {
     "name": "stdout",
     "output_type": "stream",
     "text": [
      "Downloaded gal_spectra\\235909190\n",
      "Downloaded gal_spectra\\235913167\n"
     ]
    },
    {
     "name": "stderr",
     "output_type": "stream",
     "text": [
      "Downloading:  61%|██████    | 1533/2533 [07:30<04:37,  3.60file/s]"
     ]
    },
    {
     "name": "stdout",
     "output_type": "stream",
     "text": [
      "Failed to download https://www.lamost.org/dr7/v2.0/spectrum/fits/880803004: 500 Server Error:  for url: https://www.lamost.org/dr7/v2.0/spectrum/fits/880803004\n"
     ]
    },
    {
     "name": "stderr",
     "output_type": "stream",
     "text": [
      "Downloading:  61%|██████    | 1534/2533 [07:31<05:20,  3.12file/s]"
     ]
    },
    {
     "name": "stdout",
     "output_type": "stream",
     "text": [
      "Failed to download https://www.lamost.org/dr7/v2.0/spectrum/fits/893003198: 500 Server Error:  for url: https://www.lamost.org/dr7/v2.0/spectrum/fits/893003198\n"
     ]
    },
    {
     "name": "stderr",
     "output_type": "stream",
     "text": [
      "Downloading:  61%|██████    | 1535/2533 [07:31<05:49,  2.86file/s]"
     ]
    },
    {
     "name": "stdout",
     "output_type": "stream",
     "text": [
      "Downloaded gal_spectra\\236012162\n",
      "Downloaded gal_spectra\\301803199\n"
     ]
    },
    {
     "name": "stderr",
     "output_type": "stream",
     "text": [
      "Downloading:  61%|██████    | 1537/2533 [07:31<04:15,  3.90file/s]"
     ]
    },
    {
     "name": "stdout",
     "output_type": "stream",
     "text": [
      "Downloaded gal_spectra\\236004045\n"
     ]
    },
    {
     "name": "stderr",
     "output_type": "stream",
     "text": [
      "Downloading:  61%|██████    | 1538/2533 [07:32<05:24,  3.07file/s]"
     ]
    },
    {
     "name": "stdout",
     "output_type": "stream",
     "text": [
      "Downloaded gal_spectra\\235904175\n"
     ]
    },
    {
     "name": "stderr",
     "output_type": "stream",
     "text": [
      "Downloading:  61%|██████    | 1540/2533 [07:32<04:38,  3.57file/s]"
     ]
    },
    {
     "name": "stdout",
     "output_type": "stream",
     "text": [
      "Downloaded gal_spectra\\236009163\n",
      "Downloaded gal_spectra\\144612163\n"
     ]
    },
    {
     "name": "stderr",
     "output_type": "stream",
     "text": [
      "Downloading:  61%|██████    | 1542/2533 [07:34<06:23,  2.59file/s]"
     ]
    },
    {
     "name": "stdout",
     "output_type": "stream",
     "text": [
      "Downloaded gal_spectra\\236015138\n",
      "Downloaded gal_spectra\\235904221\n"
     ]
    },
    {
     "name": "stderr",
     "output_type": "stream",
     "text": [
      "Downloading:  61%|██████    | 1544/2533 [07:34<04:23,  3.75file/s]"
     ]
    },
    {
     "name": "stdout",
     "output_type": "stream",
     "text": [
      "Failed to download https://www.lamost.org/dr7/v2.0/spectrum/fits/880814083: 500 Server Error:  for url: https://www.lamost.org/dr7/v2.0/spectrum/fits/880814083\n",
      "Downloaded gal_spectra\\236015111\n"
     ]
    },
    {
     "name": "stderr",
     "output_type": "stream",
     "text": [
      "Downloading:  61%|██████    | 1545/2533 [07:34<04:32,  3.63file/s]"
     ]
    },
    {
     "name": "stdout",
     "output_type": "stream",
     "text": [
      "Downloaded gal_spectra\\235903126\n"
     ]
    },
    {
     "name": "stderr",
     "output_type": "stream",
     "text": [
      "Downloading:  61%|██████    | 1546/2533 [07:35<05:15,  3.13file/s]"
     ]
    },
    {
     "name": "stdout",
     "output_type": "stream",
     "text": [
      "Failed to download https://www.lamost.org/dr7/v2.0/spectrum/fits/880816109: 500 Server Error:  for url: https://www.lamost.org/dr7/v2.0/spectrum/fits/880816109\n"
     ]
    },
    {
     "name": "stderr",
     "output_type": "stream",
     "text": [
      "Downloading:  61%|██████    | 1547/2533 [07:35<07:01,  2.34file/s]"
     ]
    },
    {
     "name": "stdout",
     "output_type": "stream",
     "text": [
      "Downloaded gal_spectra\\144515174\n"
     ]
    },
    {
     "name": "stderr",
     "output_type": "stream",
     "text": [
      "Downloading:  61%|██████    | 1548/2533 [07:35<06:00,  2.73file/s]"
     ]
    },
    {
     "name": "stdout",
     "output_type": "stream",
     "text": [
      "Downloaded gal_spectra\\236016163\n",
      "Downloaded gal_spectra\\236004177\n"
     ]
    },
    {
     "name": "stderr",
     "output_type": "stream",
     "text": [
      "Downloading:  61%|██████    | 1550/2533 [07:36<04:56,  3.31file/s]"
     ]
    },
    {
     "name": "stdout",
     "output_type": "stream",
     "text": [
      "Downloaded gal_spectra\\235911079\n",
      "Failed to download https://www.lamost.org/dr7/v2.0/spectrum/fits/880814122: 500 Server Error:  for url: https://www.lamost.org/dr7/v2.0/spectrum/fits/880814122\n"
     ]
    },
    {
     "name": "stderr",
     "output_type": "stream",
     "text": [
      "Downloading:  61%|██████▏   | 1554/2533 [07:37<03:31,  4.63file/s]"
     ]
    },
    {
     "name": "stdout",
     "output_type": "stream",
     "text": [
      "Downloaded gal_spectra\\235911056\n",
      "Downloaded gal_spectra\\236013189\n",
      "Downloaded gal_spectra\\235914134\n"
     ]
    },
    {
     "name": "stderr",
     "output_type": "stream",
     "text": [
      "Downloading:  61%|██████▏   | 1555/2533 [07:38<05:55,  2.75file/s]"
     ]
    },
    {
     "name": "stdout",
     "output_type": "stream",
     "text": [
      "Downloaded gal_spectra\\235915108\n",
      "Failed to download https://www.lamost.org/dr7/v2.0/spectrum/fits/893013243: 500 Server Error:  for url: https://www.lamost.org/dr7/v2.0/spectrum/fits/893013243\n"
     ]
    },
    {
     "name": "stderr",
     "output_type": "stream",
     "text": [
      "Downloading:  61%|██████▏   | 1557/2533 [07:38<05:07,  3.17file/s]"
     ]
    },
    {
     "name": "stdout",
     "output_type": "stream",
     "text": [
      "Downloaded gal_spectra\\523509045\n"
     ]
    },
    {
     "name": "stderr",
     "output_type": "stream",
     "text": [
      "Downloading:  62%|██████▏   | 1558/2533 [07:38<05:02,  3.22file/s]"
     ]
    },
    {
     "name": "stdout",
     "output_type": "stream",
     "text": [
      "Downloaded gal_spectra\\565616186\n"
     ]
    },
    {
     "name": "stderr",
     "output_type": "stream",
     "text": [
      "Downloading:  62%|██████▏   | 1559/2533 [07:39<04:51,  3.34file/s]"
     ]
    },
    {
     "name": "stdout",
     "output_type": "stream",
     "text": [
      "Downloaded gal_spectra\\545214074\n",
      "Downloaded gal_spectra\\237403122\n"
     ]
    },
    {
     "name": "stderr",
     "output_type": "stream",
     "text": [
      "Downloading:  62%|██████▏   | 1561/2533 [07:39<03:47,  4.28file/s]"
     ]
    },
    {
     "name": "stdout",
     "output_type": "stream",
     "text": [
      "Downloaded gal_spectra\\45915131\n"
     ]
    },
    {
     "name": "stderr",
     "output_type": "stream",
     "text": [
      "Downloading:  62%|██████▏   | 1564/2533 [07:40<05:23,  2.99file/s]"
     ]
    },
    {
     "name": "stdout",
     "output_type": "stream",
     "text": [
      "Downloaded gal_spectra\\318212214\n",
      "Downloaded gal_spectra\\346609030\n",
      "Failed to download https://www.lamost.org/dr7/v2.0/spectrum/fits/893004200: 500 Server Error:  for url: https://www.lamost.org/dr7/v2.0/spectrum/fits/893004200\n",
      "Downloaded gal_spectra\\144609095\n"
     ]
    },
    {
     "name": "stderr",
     "output_type": "stream",
     "text": [
      "Downloading:  62%|██████▏   | 1566/2533 [07:41<04:06,  3.92file/s]"
     ]
    },
    {
     "name": "stdout",
     "output_type": "stream",
     "text": [
      "Downloaded gal_spectra\\346602175\n"
     ]
    },
    {
     "name": "stderr",
     "output_type": "stream",
     "text": [
      "Downloading:  62%|██████▏   | 1567/2533 [07:41<04:11,  3.83file/s]"
     ]
    },
    {
     "name": "stdout",
     "output_type": "stream",
     "text": [
      "Downloaded gal_spectra\\573011220\n",
      "Downloaded gal_spectra\\661703177\n"
     ]
    },
    {
     "name": "stderr",
     "output_type": "stream",
     "text": [
      "Downloading:  62%|██████▏   | 1569/2533 [07:41<03:53,  4.13file/s]"
     ]
    },
    {
     "name": "stdout",
     "output_type": "stream",
     "text": [
      "Downloaded gal_spectra\\526003208\n"
     ]
    },
    {
     "name": "stderr",
     "output_type": "stream",
     "text": [
      "Downloading:  62%|██████▏   | 1570/2533 [07:42<04:14,  3.79file/s]"
     ]
    },
    {
     "name": "stdout",
     "output_type": "stream",
     "text": [
      "Downloaded gal_spectra\\563101182\n",
      "Downloaded gal_spectra\\321503090\n"
     ]
    },
    {
     "name": "stderr",
     "output_type": "stream",
     "text": [
      "Downloading:  62%|██████▏   | 1572/2533 [07:42<04:55,  3.25file/s]"
     ]
    },
    {
     "name": "stdout",
     "output_type": "stream",
     "text": [
      "Downloaded gal_spectra\\241109245\n",
      "Downloaded gal_spectra\\661710006\n"
     ]
    },
    {
     "name": "stderr",
     "output_type": "stream",
     "text": [
      "Downloading:  62%|██████▏   | 1574/2533 [07:43<04:03,  3.94file/s]"
     ]
    },
    {
     "name": "stdout",
     "output_type": "stream",
     "text": [
      "Failed to download https://www.lamost.org/dr7/v2.0/spectrum/fits/890907229: 500 Server Error:  for url: https://www.lamost.org/dr7/v2.0/spectrum/fits/890907229\n"
     ]
    },
    {
     "name": "stderr",
     "output_type": "stream",
     "text": [
      "Downloading:  62%|██████▏   | 1575/2533 [07:43<04:30,  3.54file/s]"
     ]
    },
    {
     "name": "stdout",
     "output_type": "stream",
     "text": [
      "Downloaded gal_spectra\\449102247\n"
     ]
    },
    {
     "name": "stderr",
     "output_type": "stream",
     "text": [
      "Downloading:  62%|██████▏   | 1576/2533 [07:43<04:27,  3.58file/s]"
     ]
    },
    {
     "name": "stdout",
     "output_type": "stream",
     "text": [
      "Downloaded gal_spectra\\233014142\n"
     ]
    },
    {
     "name": "stderr",
     "output_type": "stream",
     "text": [
      "Downloading:  62%|██████▏   | 1577/2533 [07:44<06:44,  2.36file/s]"
     ]
    },
    {
     "name": "stdout",
     "output_type": "stream",
     "text": [
      "Downloaded gal_spectra\\321514223\n",
      "Downloaded gal_spectra\\656012048\n"
     ]
    },
    {
     "name": "stderr",
     "output_type": "stream",
     "text": [
      "Downloading:  62%|██████▏   | 1579/2533 [07:45<05:33,  2.86file/s]"
     ]
    },
    {
     "name": "stdout",
     "output_type": "stream",
     "text": [
      "Downloaded gal_spectra\\584101103\n"
     ]
    },
    {
     "name": "stderr",
     "output_type": "stream",
     "text": [
      "Downloading:  62%|██████▏   | 1580/2533 [07:45<05:52,  2.70file/s]"
     ]
    },
    {
     "name": "stdout",
     "output_type": "stream",
     "text": [
      "Downloaded gal_spectra\\240708096\n",
      "Downloaded gal_spectra\\567816145\n"
     ]
    },
    {
     "name": "stderr",
     "output_type": "stream",
     "text": [
      "Downloading:  62%|██████▏   | 1583/2533 [07:46<03:54,  4.05file/s]"
     ]
    },
    {
     "name": "stdout",
     "output_type": "stream",
     "text": [
      "Failed to download https://www.lamost.org/dr7/v2.0/spectrum/fits/236110133: 500 Server Error:  for url: https://www.lamost.org/dr7/v2.0/spectrum/fits/236110133\n",
      "Downloaded gal_spectra\\338312150\n"
     ]
    },
    {
     "name": "stderr",
     "output_type": "stream",
     "text": [
      "Downloading:  63%|██████▎   | 1584/2533 [07:46<03:45,  4.20file/s]"
     ]
    },
    {
     "name": "stdout",
     "output_type": "stream",
     "text": [
      "Downloaded gal_spectra\\227010131\n",
      "Downloaded gal_spectra\\240713037\n",
      "Downloaded gal_spectra\\642210101\n"
     ]
    },
    {
     "name": "stderr",
     "output_type": "stream",
     "text": [
      "Downloading:  63%|██████▎   | 1587/2533 [07:46<03:30,  4.50file/s]"
     ]
    },
    {
     "name": "stdout",
     "output_type": "stream",
     "text": [
      "Downloaded gal_spectra\\240713230\n"
     ]
    },
    {
     "name": "stderr",
     "output_type": "stream",
     "text": [
      "Downloading:  63%|██████▎   | 1588/2533 [07:47<03:46,  4.18file/s]"
     ]
    },
    {
     "name": "stdout",
     "output_type": "stream",
     "text": [
      "Downloaded gal_spectra\\584101091\n",
      "Downloaded gal_spectra\\240713232\n"
     ]
    },
    {
     "name": "stderr",
     "output_type": "stream",
     "text": [
      "Downloading:  63%|██████▎   | 1591/2533 [07:48<03:48,  4.12file/s]"
     ]
    },
    {
     "name": "stdout",
     "output_type": "stream",
     "text": [
      "Failed to download https://www.lamost.org/dr7/v2.0/spectrum/fits/901601246: 500 Server Error:  for url: https://www.lamost.org/dr7/v2.0/spectrum/fits/901601246\n",
      "Downloaded gal_spectra\\574003118\n"
     ]
    },
    {
     "name": "stderr",
     "output_type": "stream",
     "text": [
      "Downloading:  63%|██████▎   | 1593/2533 [07:48<02:44,  5.71file/s]"
     ]
    },
    {
     "name": "stdout",
     "output_type": "stream",
     "text": [
      "Failed to download https://www.lamost.org/dr7/v2.0/spectrum/fits/891612011: 500 Server Error:  for url: https://www.lamost.org/dr7/v2.0/spectrum/fits/891612011\n",
      "Downloaded gal_spectra\\227014074\n"
     ]
    },
    {
     "name": "stderr",
     "output_type": "stream",
     "text": [
      "Downloading:  63%|██████▎   | 1594/2533 [07:48<03:13,  4.85file/s]"
     ]
    },
    {
     "name": "stdout",
     "output_type": "stream",
     "text": [
      "Downloaded gal_spectra\\584112104\n"
     ]
    },
    {
     "name": "stderr",
     "output_type": "stream",
     "text": [
      "Downloading:  63%|██████▎   | 1595/2533 [07:48<03:32,  4.42file/s]"
     ]
    },
    {
     "name": "stdout",
     "output_type": "stream",
     "text": [
      "Downloaded gal_spectra\\240713192\n"
     ]
    },
    {
     "name": "stderr",
     "output_type": "stream",
     "text": [
      "Downloading:  63%|██████▎   | 1596/2533 [07:49<03:32,  4.42file/s]"
     ]
    },
    {
     "name": "stdout",
     "output_type": "stream",
     "text": [
      "Downloaded gal_spectra\\438301145\n"
     ]
    },
    {
     "name": "stderr",
     "output_type": "stream",
     "text": [
      "Downloading:  63%|██████▎   | 1600/2533 [07:49<02:10,  7.16file/s]"
     ]
    },
    {
     "name": "stdout",
     "output_type": "stream",
     "text": [
      "Failed to download https://www.lamost.org/dr7/v2.0/spectrum/fits/901606014: 500 Server Error:  for url: https://www.lamost.org/dr7/v2.0/spectrum/fits/901606014\n",
      "Downloaded gal_spectra\\438305098\n",
      "Downloaded gal_spectra\\438305082\n",
      "Downloaded gal_spectra\\125802018\n",
      "Downloaded gal_spectra\\125807110\n"
     ]
    },
    {
     "name": "stderr",
     "output_type": "stream",
     "text": [
      "Downloading:  63%|██████▎   | 1602/2533 [07:50<03:04,  5.03file/s]"
     ]
    },
    {
     "name": "stdout",
     "output_type": "stream",
     "text": [
      "Downloaded gal_spectra\\438308013\n"
     ]
    },
    {
     "name": "stderr",
     "output_type": "stream",
     "text": [
      "Downloading:  63%|██████▎   | 1605/2533 [07:51<03:35,  4.31file/s]"
     ]
    },
    {
     "name": "stdout",
     "output_type": "stream",
     "text": [
      "Failed to download https://www.lamost.org/dr7/v2.0/spectrum/fits/901604140: 500 Server Error:  for url: https://www.lamost.org/dr7/v2.0/spectrum/fits/901604140\n",
      "Downloaded gal_spectra\\574016126\n"
     ]
    },
    {
     "name": "stderr",
     "output_type": "stream",
     "text": [
      "Downloading:  63%|██████▎   | 1606/2533 [07:51<03:17,  4.69file/s]"
     ]
    },
    {
     "name": "stdout",
     "output_type": "stream",
     "text": [
      "Downloaded gal_spectra\\438308057\n",
      "Downloaded gal_spectra\\438308233\n"
     ]
    },
    {
     "name": "stderr",
     "output_type": "stream",
     "text": [
      "Downloading:  63%|██████▎   | 1607/2533 [07:51<03:35,  4.30file/s]"
     ]
    },
    {
     "name": "stdout",
     "output_type": "stream",
     "text": [
      "Downloaded gal_spectra\\125805125\n",
      "Downloaded gal_spectra\\642216182\n"
     ]
    },
    {
     "name": "stderr",
     "output_type": "stream",
     "text": [
      "Downloading:  64%|██████▎   | 1609/2533 [07:52<04:17,  3.59file/s]"
     ]
    },
    {
     "name": "stdout",
     "output_type": "stream",
     "text": [
      "Downloaded gal_spectra\\227016106\n"
     ]
    },
    {
     "name": "stderr",
     "output_type": "stream",
     "text": [
      "Downloading:  64%|██████▎   | 1610/2533 [07:52<04:32,  3.39file/s]"
     ]
    },
    {
     "name": "stdout",
     "output_type": "stream",
     "text": [
      "Failed to download https://www.lamost.org/dr7/v2.0/spectrum/fits/891612241: 500 Server Error:  for url: https://www.lamost.org/dr7/v2.0/spectrum/fits/891612241\n",
      "Downloaded gal_spectra\\574016054\n",
      "Failed to download https://www.lamost.org/dr7/v2.0/spectrum/fits/901605061: 500 Server Error:  for url: https://www.lamost.org/dr7/v2.0/spectrum/fits/901605061\n"
     ]
    },
    {
     "name": "stderr",
     "output_type": "stream",
     "text": [
      "Downloading:  64%|██████▎   | 1613/2533 [07:52<02:51,  5.36file/s]"
     ]
    },
    {
     "name": "stdout",
     "output_type": "stream",
     "text": [
      "Downloaded gal_spectra\\236116202\n"
     ]
    },
    {
     "name": "stderr",
     "output_type": "stream",
     "text": [
      "Downloading:  64%|██████▎   | 1614/2533 [07:52<02:57,  5.18file/s]"
     ]
    },
    {
     "name": "stdout",
     "output_type": "stream",
     "text": [
      "Downloaded gal_spectra\\422707094\n"
     ]
    },
    {
     "name": "stderr",
     "output_type": "stream",
     "text": [
      "Downloading:  64%|██████▍   | 1615/2533 [07:53<03:28,  4.40file/s]"
     ]
    },
    {
     "name": "stdout",
     "output_type": "stream",
     "text": [
      "Failed to download https://www.lamost.org/dr7/v2.0/spectrum/fits/901604188: 500 Server Error:  for url: https://www.lamost.org/dr7/v2.0/spectrum/fits/901604188\n"
     ]
    },
    {
     "name": "stderr",
     "output_type": "stream",
     "text": [
      "Downloading:  64%|██████▍   | 1617/2533 [07:53<03:24,  4.48file/s]"
     ]
    },
    {
     "name": "stdout",
     "output_type": "stream",
     "text": [
      "Downloaded gal_spectra\\125803061\n",
      "Downloaded gal_spectra\\438310245\n"
     ]
    },
    {
     "name": "stderr",
     "output_type": "stream",
     "text": [
      "Downloading:  64%|██████▍   | 1619/2533 [07:54<04:23,  3.47file/s]"
     ]
    },
    {
     "name": "stdout",
     "output_type": "stream",
     "text": [
      "Failed to download https://www.lamost.org/dr7/v2.0/spectrum/fits/901611196: 500 Server Error:  for url: https://www.lamost.org/dr7/v2.0/spectrum/fits/901611196\n",
      "Downloaded gal_spectra\\125811095\n"
     ]
    },
    {
     "name": "stderr",
     "output_type": "stream",
     "text": [
      "Downloading:  64%|██████▍   | 1620/2533 [07:54<04:28,  3.40file/s]"
     ]
    },
    {
     "name": "stdout",
     "output_type": "stream",
     "text": [
      "Downloaded gal_spectra\\125803074\n"
     ]
    },
    {
     "name": "stderr",
     "output_type": "stream",
     "text": [
      "Downloading:  64%|██████▍   | 1621/2533 [07:55<05:51,  2.60file/s]"
     ]
    },
    {
     "name": "stdout",
     "output_type": "stream",
     "text": [
      "Downloaded gal_spectra\\438303158\n"
     ]
    },
    {
     "name": "stderr",
     "output_type": "stream",
     "text": [
      "Downloading:  64%|██████▍   | 1622/2533 [07:56<06:37,  2.29file/s]"
     ]
    },
    {
     "name": "stdout",
     "output_type": "stream",
     "text": [
      "Downloaded gal_spectra\\242105198\n"
     ]
    },
    {
     "name": "stderr",
     "output_type": "stream",
     "text": [
      "Downloading:  64%|██████▍   | 1623/2533 [07:56<05:34,  2.72file/s]"
     ]
    },
    {
     "name": "stdout",
     "output_type": "stream",
     "text": [
      "Downloaded gal_spectra\\537711216\n",
      "Downloaded gal_spectra\\438304201\n"
     ]
    },
    {
     "name": "stderr",
     "output_type": "stream",
     "text": [
      "Downloading:  64%|██████▍   | 1626/2533 [07:56<04:15,  3.54file/s]"
     ]
    },
    {
     "name": "stdout",
     "output_type": "stream",
     "text": [
      "Downloaded gal_spectra\\422702247\n",
      "Downloaded gal_spectra\\422712184\n",
      "Downloaded gal_spectra\\242113030\n"
     ]
    },
    {
     "name": "stderr",
     "output_type": "stream",
     "text": [
      "Downloading:  64%|██████▍   | 1628/2533 [07:57<03:17,  4.59file/s]"
     ]
    },
    {
     "name": "stdout",
     "output_type": "stream",
     "text": [
      "Downloaded gal_spectra\\242103131\n"
     ]
    },
    {
     "name": "stderr",
     "output_type": "stream",
     "text": [
      "Downloading:  64%|██████▍   | 1629/2533 [07:57<03:54,  3.85file/s]"
     ]
    },
    {
     "name": "stdout",
     "output_type": "stream",
     "text": [
      "Downloaded gal_spectra\\422709105\n"
     ]
    },
    {
     "name": "stderr",
     "output_type": "stream",
     "text": [
      "Downloading:  64%|██████▍   | 1630/2533 [07:58<05:34,  2.70file/s]"
     ]
    },
    {
     "name": "stdout",
     "output_type": "stream",
     "text": [
      "Downloaded gal_spectra\\438306040\n",
      "Downloaded gal_spectra\\125813179\n"
     ]
    },
    {
     "name": "stderr",
     "output_type": "stream",
     "text": [
      "Downloading:  64%|██████▍   | 1633/2533 [07:59<04:25,  3.39file/s]"
     ]
    },
    {
     "name": "stdout",
     "output_type": "stream",
     "text": [
      "Downloaded gal_spectra\\419503242\n",
      "Downloaded gal_spectra\\242503235\n"
     ]
    },
    {
     "name": "stderr",
     "output_type": "stream",
     "text": [
      "Downloading:  65%|██████▍   | 1634/2533 [07:59<04:47,  3.12file/s]"
     ]
    },
    {
     "name": "stdout",
     "output_type": "stream",
     "text": [
      "Downloaded gal_spectra\\242115223\n"
     ]
    },
    {
     "name": "stderr",
     "output_type": "stream",
     "text": [
      "Downloading:  65%|██████▍   | 1635/2533 [07:59<04:36,  3.25file/s]"
     ]
    },
    {
     "name": "stdout",
     "output_type": "stream",
     "text": [
      "Downloaded gal_spectra\\242504191\n"
     ]
    },
    {
     "name": "stderr",
     "output_type": "stream",
     "text": [
      "Downloading:  65%|██████▍   | 1636/2533 [08:00<05:00,  2.99file/s]"
     ]
    },
    {
     "name": "stdout",
     "output_type": "stream",
     "text": [
      "Downloaded gal_spectra\\438309182\n"
     ]
    },
    {
     "name": "stderr",
     "output_type": "stream",
     "text": [
      "Downloading:  65%|██████▍   | 1637/2533 [08:00<05:02,  2.96file/s]"
     ]
    },
    {
     "name": "stdout",
     "output_type": "stream",
     "text": [
      "Downloaded gal_spectra\\461604125\n"
     ]
    },
    {
     "name": "stderr",
     "output_type": "stream",
     "text": [
      "Downloading:  65%|██████▍   | 1638/2533 [08:00<05:30,  2.71file/s]"
     ]
    },
    {
     "name": "stdout",
     "output_type": "stream",
     "text": [
      "Downloaded gal_spectra\\242513225\n",
      "Downloaded gal_spectra\\242513193\n",
      "Downloaded gal_spectra\\242509074\n"
     ]
    },
    {
     "name": "stderr",
     "output_type": "stream",
     "text": [
      "Downloading:  65%|██████▍   | 1641/2533 [08:01<04:10,  3.56file/s]"
     ]
    },
    {
     "name": "stdout",
     "output_type": "stream",
     "text": [
      "Downloaded gal_spectra\\242511188\n"
     ]
    },
    {
     "name": "stderr",
     "output_type": "stream",
     "text": [
      "Downloading:  65%|██████▍   | 1642/2533 [08:01<03:58,  3.74file/s]"
     ]
    },
    {
     "name": "stdout",
     "output_type": "stream",
     "text": [
      "Downloaded gal_spectra\\242511085\n"
     ]
    },
    {
     "name": "stderr",
     "output_type": "stream",
     "text": [
      "Downloading:  65%|██████▍   | 1644/2533 [08:02<03:21,  4.41file/s]"
     ]
    },
    {
     "name": "stdout",
     "output_type": "stream",
     "text": [
      "Downloaded gal_spectra\\242513039\n",
      "Failed to download https://www.lamost.org/dr7/v2.0/spectrum/fits/812205101: 500 Server Error:  for url: https://www.lamost.org/dr7/v2.0/spectrum/fits/812205101\n",
      "Failed to download https://www.lamost.org/dr7/v2.0/spectrum/fits/812203040: 500 Server Error:  for url: https://www.lamost.org/dr7/v2.0/spectrum/fits/812203040\n",
      "Downloaded gal_spectra\\242511132\n"
     ]
    },
    {
     "name": "stderr",
     "output_type": "stream",
     "text": [
      "Downloading:  65%|██████▌   | 1647/2533 [08:02<02:21,  6.26file/s]"
     ]
    },
    {
     "name": "stdout",
     "output_type": "stream",
     "text": [
      "Downloaded gal_spectra\\461611220\n"
     ]
    },
    {
     "name": "stderr",
     "output_type": "stream",
     "text": [
      "Downloading:  65%|██████▌   | 1648/2533 [08:02<02:37,  5.62file/s]"
     ]
    },
    {
     "name": "stdout",
     "output_type": "stream",
     "text": [
      "Downloaded gal_spectra\\575409147\n",
      "Failed to download https://www.lamost.org/dr7/v2.0/spectrum/fits/812201157: 500 Server Error:  for url: https://www.lamost.org/dr7/v2.0/spectrum/fits/812201157\n"
     ]
    },
    {
     "name": "stderr",
     "output_type": "stream",
     "text": [
      "Downloading:  65%|██████▌   | 1650/2533 [08:02<02:27,  5.99file/s]"
     ]
    },
    {
     "name": "stdout",
     "output_type": "stream",
     "text": [
      "Failed to download https://www.lamost.org/dr7/v2.0/spectrum/fits/812214072: 500 Server Error:  for url: https://www.lamost.org/dr7/v2.0/spectrum/fits/812214072\n"
     ]
    },
    {
     "name": "stderr",
     "output_type": "stream",
     "text": [
      "Downloading:  65%|██████▌   | 1651/2533 [08:03<03:44,  3.92file/s]"
     ]
    },
    {
     "name": "stdout",
     "output_type": "stream",
     "text": [
      "Failed to download https://www.lamost.org/dr7/v2.0/spectrum/fits/812206091: 500 Server Error:  for url: https://www.lamost.org/dr7/v2.0/spectrum/fits/812206091\n"
     ]
    },
    {
     "name": "stderr",
     "output_type": "stream",
     "text": [
      "Downloading:  65%|██████▌   | 1652/2533 [08:03<03:59,  3.68file/s]"
     ]
    },
    {
     "name": "stdout",
     "output_type": "stream",
     "text": [
      "Failed to download https://www.lamost.org/dr7/v2.0/spectrum/fits/812213099: 500 Server Error:  for url: https://www.lamost.org/dr7/v2.0/spectrum/fits/812213099\n",
      "Failed to download https://www.lamost.org/dr7/v2.0/spectrum/fits/812215233: 500 Server Error:  for url: https://www.lamost.org/dr7/v2.0/spectrum/fits/812215233\n"
     ]
    },
    {
     "name": "stderr",
     "output_type": "stream",
     "text": [
      "Downloading:  65%|██████▌   | 1654/2533 [08:04<03:58,  3.69file/s]"
     ]
    },
    {
     "name": "stdout",
     "output_type": "stream",
     "text": [
      "Failed to download https://www.lamost.org/dr7/v2.0/spectrum/fits/812210213: 500 Server Error:  for url: https://www.lamost.org/dr7/v2.0/spectrum/fits/812210213\n"
     ]
    },
    {
     "name": "stderr",
     "output_type": "stream",
     "text": [
      "Downloading:  65%|██████▌   | 1656/2533 [08:04<03:20,  4.38file/s]"
     ]
    },
    {
     "name": "stdout",
     "output_type": "stream",
     "text": [
      "Failed to download https://www.lamost.org/dr7/v2.0/spectrum/fits/812216155: 500 Server Error:  for url: https://www.lamost.org/dr7/v2.0/spectrum/fits/812216155\n",
      "Failed to download https://www.lamost.org/dr7/v2.0/spectrum/fits/812214166: 500 Server Error:  for url: https://www.lamost.org/dr7/v2.0/spectrum/fits/812214166\n",
      "Failed to download https://www.lamost.org/dr7/v2.0/spectrum/fits/812206053: 500 Server Error:  for url: https://www.lamost.org/dr7/v2.0/spectrum/fits/812206053\n"
     ]
    },
    {
     "name": "stderr",
     "output_type": "stream",
     "text": [
      "Downloading:  66%|██████▌   | 1660/2533 [08:05<02:03,  7.09file/s]"
     ]
    },
    {
     "name": "stdout",
     "output_type": "stream",
     "text": [
      "Failed to download https://www.lamost.org/dr7/v2.0/spectrum/fits/812209229: 500 Server Error:  for url: https://www.lamost.org/dr7/v2.0/spectrum/fits/812209229\n",
      "Failed to download https://www.lamost.org/dr7/v2.0/spectrum/fits/812204081: 500 Server Error:  for url: https://www.lamost.org/dr7/v2.0/spectrum/fits/812204081\n",
      "Downloaded gal_spectra\\661312230\n"
     ]
    },
    {
     "name": "stderr",
     "output_type": "stream",
     "text": [
      "Downloading:  66%|██████▌   | 1661/2533 [08:05<02:59,  4.87file/s]"
     ]
    },
    {
     "name": "stdout",
     "output_type": "stream",
     "text": [
      "Failed to download https://www.lamost.org/dr7/v2.0/spectrum/fits/902401198: 500 Server Error:  for url: https://www.lamost.org/dr7/v2.0/spectrum/fits/902401198\n"
     ]
    },
    {
     "name": "stderr",
     "output_type": "stream",
     "text": [
      "Downloading:  66%|██████▌   | 1662/2533 [08:05<03:27,  4.20file/s]"
     ]
    },
    {
     "name": "stdout",
     "output_type": "stream",
     "text": [
      "Failed to download https://www.lamost.org/dr7/v2.0/spectrum/fits/812204121: 500 Server Error:  for url: https://www.lamost.org/dr7/v2.0/spectrum/fits/812204121\n",
      "Downloaded gal_spectra\\128514076\n"
     ]
    },
    {
     "name": "stderr",
     "output_type": "stream",
     "text": [
      "Downloading:  66%|██████▌   | 1665/2533 [08:06<03:49,  3.79file/s]"
     ]
    },
    {
     "name": "stdout",
     "output_type": "stream",
     "text": [
      "Downloaded gal_spectra\\344002130\n",
      "Downloaded gal_spectra\\321508123\n",
      "Downloaded gal_spectra\\321513207\n"
     ]
    },
    {
     "name": "stderr",
     "output_type": "stream",
     "text": [
      "Downloading:  66%|██████▌   | 1668/2533 [08:07<02:44,  5.24file/s]"
     ]
    },
    {
     "name": "stdout",
     "output_type": "stream",
     "text": [
      "Downloaded gal_spectra\\321508156\n",
      "Downloaded gal_spectra\\321504089\n"
     ]
    },
    {
     "name": "stderr",
     "output_type": "stream",
     "text": [
      "Downloading:  66%|██████▌   | 1669/2533 [08:07<04:26,  3.25file/s]"
     ]
    },
    {
     "name": "stdout",
     "output_type": "stream",
     "text": [
      "Downloaded gal_spectra\\422716051\n"
     ]
    },
    {
     "name": "stderr",
     "output_type": "stream",
     "text": [
      "Downloading:  66%|██████▌   | 1670/2533 [08:08<04:59,  2.88file/s]"
     ]
    },
    {
     "name": "stdout",
     "output_type": "stream",
     "text": [
      "Downloaded gal_spectra\\564008012\n"
     ]
    },
    {
     "name": "stderr",
     "output_type": "stream",
     "text": [
      "Downloading:  66%|██████▌   | 1671/2533 [08:08<05:01,  2.86file/s]"
     ]
    },
    {
     "name": "stdout",
     "output_type": "stream",
     "text": [
      "Downloaded gal_spectra\\743308237\n"
     ]
    },
    {
     "name": "stderr",
     "output_type": "stream",
     "text": [
      "Downloading:  66%|██████▌   | 1672/2533 [08:09<07:23,  1.94file/s]"
     ]
    },
    {
     "name": "stdout",
     "output_type": "stream",
     "text": [
      "Downloaded gal_spectra\\456705060\n",
      "Downloaded gal_spectra\\456701228\n",
      "Downloaded gal_spectra\\346911004\n"
     ]
    },
    {
     "name": "stderr",
     "output_type": "stream",
     "text": [
      "Downloading:  66%|██████▌   | 1675/2533 [08:10<04:26,  3.22file/s]"
     ]
    },
    {
     "name": "stdout",
     "output_type": "stream",
     "text": [
      "Downloaded gal_spectra\\456704069\n"
     ]
    },
    {
     "name": "stderr",
     "output_type": "stream",
     "text": [
      "Downloading:  66%|██████▌   | 1676/2533 [08:10<04:29,  3.18file/s]"
     ]
    },
    {
     "name": "stdout",
     "output_type": "stream",
     "text": [
      "Downloaded gal_spectra\\743302004\n",
      "Downloaded gal_spectra\\456708018\n"
     ]
    },
    {
     "name": "stderr",
     "output_type": "stream",
     "text": [
      "Downloading:  66%|██████▋   | 1679/2533 [08:11<04:16,  3.33file/s]"
     ]
    },
    {
     "name": "stdout",
     "output_type": "stream",
     "text": [
      "Downloaded gal_spectra\\743304117\n",
      "Downloaded gal_spectra\\743304216\n",
      "Downloaded gal_spectra\\449107142\n"
     ]
    },
    {
     "name": "stderr",
     "output_type": "stream",
     "text": [
      "Downloading:  66%|██████▋   | 1681/2533 [08:11<04:02,  3.51file/s]"
     ]
    },
    {
     "name": "stdout",
     "output_type": "stream",
     "text": [
      "Downloaded gal_spectra\\335805182\n"
     ]
    },
    {
     "name": "stderr",
     "output_type": "stream",
     "text": [
      "Downloading:  66%|██████▋   | 1682/2533 [08:12<05:04,  2.79file/s]"
     ]
    },
    {
     "name": "stdout",
     "output_type": "stream",
     "text": [
      "Downloaded gal_spectra\\449115051\n",
      "Downloaded gal_spectra\\335809075\n"
     ]
    },
    {
     "name": "stderr",
     "output_type": "stream",
     "text": [
      "Downloading:  66%|██████▋   | 1684/2533 [08:12<03:51,  3.66file/s]"
     ]
    },
    {
     "name": "stdout",
     "output_type": "stream",
     "text": [
      "Downloaded gal_spectra\\449105156\n"
     ]
    },
    {
     "name": "stderr",
     "output_type": "stream",
     "text": [
      "Downloading:  67%|██████▋   | 1685/2533 [08:13<05:00,  2.82file/s]"
     ]
    },
    {
     "name": "stdout",
     "output_type": "stream",
     "text": [
      "Downloaded gal_spectra\\449115101\n",
      "Downloaded gal_spectra\\449107028\n"
     ]
    },
    {
     "name": "stderr",
     "output_type": "stream",
     "text": [
      "Downloading:  67%|██████▋   | 1687/2533 [08:14<05:08,  2.75file/s]"
     ]
    },
    {
     "name": "stdout",
     "output_type": "stream",
     "text": [
      "Downloaded gal_spectra\\574402056\n"
     ]
    },
    {
     "name": "stderr",
     "output_type": "stream",
     "text": [
      "Downloading:  67%|██████▋   | 1689/2533 [08:14<04:08,  3.40file/s]"
     ]
    },
    {
     "name": "stdout",
     "output_type": "stream",
     "text": [
      "Downloaded gal_spectra\\449111235\n",
      "Downloaded gal_spectra\\743310137\n",
      "Downloaded gal_spectra\\743310236\n",
      "Downloaded gal_spectra\\449115009\n",
      "Downloaded gal_spectra\\335811194\n"
     ]
    },
    {
     "name": "stderr",
     "output_type": "stream",
     "text": [
      "Downloading:  67%|██████▋   | 1693/2533 [08:14<02:20,  5.98file/s]"
     ]
    },
    {
     "name": "stdout",
     "output_type": "stream",
     "text": [
      "Downloaded gal_spectra\\574407055\n"
     ]
    },
    {
     "name": "stderr",
     "output_type": "stream",
     "text": [
      "Downloading:  67%|██████▋   | 1694/2533 [08:15<02:54,  4.81file/s]"
     ]
    },
    {
     "name": "stdout",
     "output_type": "stream",
     "text": [
      "Downloaded gal_spectra\\456714172\n"
     ]
    },
    {
     "name": "stderr",
     "output_type": "stream",
     "text": [
      "Downloading:  67%|██████▋   | 1695/2533 [08:15<03:02,  4.58file/s]"
     ]
    },
    {
     "name": "stdout",
     "output_type": "stream",
     "text": [
      "Downloaded gal_spectra\\743314083\n"
     ]
    },
    {
     "name": "stderr",
     "output_type": "stream",
     "text": [
      "Downloading:  67%|██████▋   | 1696/2533 [08:16<04:08,  3.37file/s]"
     ]
    },
    {
     "name": "stdout",
     "output_type": "stream",
     "text": [
      "Downloaded gal_spectra\\743314085\n"
     ]
    },
    {
     "name": "stderr",
     "output_type": "stream",
     "text": [
      "Downloading:  67%|██████▋   | 1697/2533 [08:16<04:04,  3.42file/s]"
     ]
    },
    {
     "name": "stdout",
     "output_type": "stream",
     "text": [
      "Downloaded gal_spectra\\143606153\n"
     ]
    },
    {
     "name": "stderr",
     "output_type": "stream",
     "text": [
      "Downloading:  67%|██████▋   | 1698/2533 [08:16<04:07,  3.38file/s]"
     ]
    },
    {
     "name": "stdout",
     "output_type": "stream",
     "text": [
      "Failed to download https://www.lamost.org/dr7/v2.0/spectrum/fits/893108212: 500 Server Error:  for url: https://www.lamost.org/dr7/v2.0/spectrum/fits/893108212\n",
      "Downloaded gal_spectra\\456709226\n",
      "Downloaded gal_spectra\\134201214\n"
     ]
    },
    {
     "name": "stderr",
     "output_type": "stream",
     "text": [
      "Downloading:  67%|██████▋   | 1701/2533 [08:17<03:22,  4.11file/s]"
     ]
    },
    {
     "name": "stdout",
     "output_type": "stream",
     "text": [
      "Failed to download https://www.lamost.org/dr7/v2.0/spectrum/fits/893105116: 500 Server Error:  for url: https://www.lamost.org/dr7/v2.0/spectrum/fits/893105116\n",
      "Downloaded gal_spectra\\743316120\n"
     ]
    },
    {
     "name": "stderr",
     "output_type": "stream",
     "text": [
      "Downloading:  67%|██████▋   | 1703/2533 [08:17<02:59,  4.63file/s]"
     ]
    },
    {
     "name": "stdout",
     "output_type": "stream",
     "text": [
      "Downloaded gal_spectra\\574406178\n"
     ]
    },
    {
     "name": "stderr",
     "output_type": "stream",
     "text": [
      "Downloading:  67%|██████▋   | 1704/2533 [08:17<03:03,  4.51file/s]"
     ]
    },
    {
     "name": "stdout",
     "output_type": "stream",
     "text": [
      "Failed to download https://www.lamost.org/dr7/v2.0/spectrum/fits/893102214: 500 Server Error:  for url: https://www.lamost.org/dr7/v2.0/spectrum/fits/893102214\n",
      "Downloaded gal_spectra\\456715164\n"
     ]
    },
    {
     "name": "stderr",
     "output_type": "stream",
     "text": [
      "Downloading:  67%|██████▋   | 1706/2533 [08:18<02:35,  5.32file/s]"
     ]
    },
    {
     "name": "stdout",
     "output_type": "stream",
     "text": [
      "Failed to download https://www.lamost.org/dr7/v2.0/spectrum/fits/893107248: 500 Server Error:  for url: https://www.lamost.org/dr7/v2.0/spectrum/fits/893107248\n"
     ]
    },
    {
     "name": "stderr",
     "output_type": "stream",
     "text": [
      "Downloading:  67%|██████▋   | 1708/2533 [08:18<03:25,  4.01file/s]"
     ]
    },
    {
     "name": "stdout",
     "output_type": "stream",
     "text": [
      "Failed to download https://www.lamost.org/dr7/v2.0/spectrum/fits/893103022: 500 Server Error:  for url: https://www.lamost.org/dr7/v2.0/spectrum/fits/893103022\n",
      "Failed to download https://www.lamost.org/dr7/v2.0/spectrum/fits/797105237: 500 Server Error:  for url: https://www.lamost.org/dr7/v2.0/spectrum/fits/797105237\n"
     ]
    },
    {
     "name": "stderr",
     "output_type": "stream",
     "text": [
      "Downloading:  68%|██████▊   | 1711/2533 [08:19<02:25,  5.64file/s]"
     ]
    },
    {
     "name": "stdout",
     "output_type": "stream",
     "text": [
      "Failed to download https://www.lamost.org/dr7/v2.0/spectrum/fits/893102153: 500 Server Error:  for url: https://www.lamost.org/dr7/v2.0/spectrum/fits/893102153\n",
      "Failed to download https://www.lamost.org/dr7/v2.0/spectrum/fits/893115196: 500 Server Error:  for url: https://www.lamost.org/dr7/v2.0/spectrum/fits/893115196\n"
     ]
    },
    {
     "name": "stderr",
     "output_type": "stream",
     "text": [
      "Downloading:  68%|██████▊   | 1712/2533 [08:19<02:20,  5.83file/s]"
     ]
    },
    {
     "name": "stdout",
     "output_type": "stream",
     "text": [
      "Failed to download https://www.lamost.org/dr7/v2.0/spectrum/fits/902405078: 500 Server Error:  for url: https://www.lamost.org/dr7/v2.0/spectrum/fits/902405078\n",
      "Downloaded gal_spectra\\456711057\n",
      "Downloaded gal_spectra\\456709120\n",
      "Downloaded gal_spectra\\134204093\n"
     ]
    },
    {
     "name": "stderr",
     "output_type": "stream",
     "text": [
      "Downloading:  68%|██████▊   | 1715/2533 [08:20<02:58,  4.60file/s]"
     ]
    },
    {
     "name": "stdout",
     "output_type": "stream",
     "text": [
      "Failed to download https://www.lamost.org/dr7/v2.0/spectrum/fits/893114020: 500 Server Error:  for url: https://www.lamost.org/dr7/v2.0/spectrum/fits/893114020\n"
     ]
    },
    {
     "name": "stderr",
     "output_type": "stream",
     "text": [
      "Downloading:  68%|██████▊   | 1716/2533 [08:20<03:25,  3.98file/s]"
     ]
    },
    {
     "name": "stdout",
     "output_type": "stream",
     "text": [
      "Failed to download https://www.lamost.org/dr7/v2.0/spectrum/fits/811510165: 500 Server Error:  for url: https://www.lamost.org/dr7/v2.0/spectrum/fits/811510165\n"
     ]
    },
    {
     "name": "stderr",
     "output_type": "stream",
     "text": [
      "Downloading:  68%|██████▊   | 1718/2533 [08:21<04:04,  3.33file/s]"
     ]
    },
    {
     "name": "stdout",
     "output_type": "stream",
     "text": [
      "Downloaded gal_spectra\\134216064\n",
      "Downloaded gal_spectra\\134209073\n"
     ]
    },
    {
     "name": "stderr",
     "output_type": "stream",
     "text": [
      "Downloading:  68%|██████▊   | 1719/2533 [08:21<03:49,  3.55file/s]"
     ]
    },
    {
     "name": "stdout",
     "output_type": "stream",
     "text": [
      "Downloaded gal_spectra\\333404148\n",
      "Downloaded gal_spectra\\456713064\n",
      "Downloaded gal_spectra\\134216215\n"
     ]
    },
    {
     "name": "stderr",
     "output_type": "stream",
     "text": [
      "Downloading:  68%|██████▊   | 1722/2533 [08:21<02:20,  5.76file/s]"
     ]
    },
    {
     "name": "stdout",
     "output_type": "stream",
     "text": [
      "Downloaded gal_spectra\\153209115\n"
     ]
    },
    {
     "name": "stderr",
     "output_type": "stream",
     "text": [
      "Downloading:  68%|██████▊   | 1723/2533 [08:22<02:53,  4.66file/s]"
     ]
    },
    {
     "name": "stdout",
     "output_type": "stream",
     "text": [
      "Downloaded gal_spectra\\332901185\n"
     ]
    },
    {
     "name": "stderr",
     "output_type": "stream",
     "text": [
      "Downloading:  68%|██████▊   | 1726/2533 [08:23<03:34,  3.77file/s]"
     ]
    },
    {
     "name": "stdout",
     "output_type": "stream",
     "text": [
      "Failed to download https://www.lamost.org/dr7/v2.0/spectrum/fits/811508152: 500 Server Error:  for url: https://www.lamost.org/dr7/v2.0/spectrum/fits/811508152\n",
      "Downloaded gal_spectra\\150208010\n",
      "Downloaded gal_spectra\\723908200\n"
     ]
    },
    {
     "name": "stderr",
     "output_type": "stream",
     "text": [
      "Downloading:  68%|██████▊   | 1728/2533 [08:23<03:01,  4.44file/s]"
     ]
    },
    {
     "name": "stdout",
     "output_type": "stream",
     "text": [
      "Downloaded gal_spectra\\150213051\n",
      "Downloaded gal_spectra\\150208147\n"
     ]
    },
    {
     "name": "stderr",
     "output_type": "stream",
     "text": [
      "Downloading:  68%|██████▊   | 1730/2533 [08:23<02:07,  6.29file/s]"
     ]
    },
    {
     "name": "stdout",
     "output_type": "stream",
     "text": [
      "Downloaded gal_spectra\\723908229\n",
      "Downloaded gal_spectra\\150208128\n"
     ]
    },
    {
     "name": "stderr",
     "output_type": "stream",
     "text": [
      "Downloading:  68%|██████▊   | 1733/2533 [08:24<02:23,  5.56file/s]"
     ]
    },
    {
     "name": "stdout",
     "output_type": "stream",
     "text": [
      "Downloaded gal_spectra\\150208149\n",
      "Downloaded gal_spectra\\308702015\n",
      "Downloaded gal_spectra\\308701224\n"
     ]
    },
    {
     "name": "stderr",
     "output_type": "stream",
     "text": [
      "Downloading:  68%|██████▊   | 1734/2533 [08:25<05:02,  2.65file/s]"
     ]
    },
    {
     "name": "stdout",
     "output_type": "stream",
     "text": [
      "Downloaded gal_spectra\\307707018\n",
      "Failed to download https://www.lamost.org/dr7/v2.0/spectrum/fits/795409244: 500 Server Error:  for url: https://www.lamost.org/dr7/v2.0/spectrum/fits/795409244\n"
     ]
    },
    {
     "name": "stderr",
     "output_type": "stream",
     "text": [
      "Downloading:  69%|██████▊   | 1736/2533 [08:25<03:39,  3.63file/s]"
     ]
    },
    {
     "name": "stdout",
     "output_type": "stream",
     "text": [
      "Downloaded gal_spectra\\419909094\n"
     ]
    },
    {
     "name": "stderr",
     "output_type": "stream",
     "text": [
      "Downloading:  69%|██████▊   | 1737/2533 [08:26<03:39,  3.62file/s]"
     ]
    },
    {
     "name": "stdout",
     "output_type": "stream",
     "text": [
      "Downloaded gal_spectra\\456909184\n"
     ]
    },
    {
     "name": "stderr",
     "output_type": "stream",
     "text": [
      "Downloading:  69%|██████▊   | 1738/2533 [08:27<05:46,  2.30file/s]"
     ]
    },
    {
     "name": "stdout",
     "output_type": "stream",
     "text": [
      "Downloaded gal_spectra\\456907115\n"
     ]
    },
    {
     "name": "stderr",
     "output_type": "stream",
     "text": [
      "Downloading:  69%|██████▊   | 1740/2533 [08:27<05:11,  2.55file/s]"
     ]
    },
    {
     "name": "stdout",
     "output_type": "stream",
     "text": [
      "Downloaded gal_spectra\\449110003\n",
      "Downloaded gal_spectra\\438807224\n",
      "Downloaded gal_spectra\\419905134\n"
     ]
    },
    {
     "name": "stderr",
     "output_type": "stream",
     "text": [
      "Downloading:  69%|██████▉   | 1742/2533 [08:28<05:54,  2.23file/s]"
     ]
    },
    {
     "name": "stdout",
     "output_type": "stream",
     "text": [
      "Failed to download https://www.lamost.org/dr7/v2.0/spectrum/fits/795409167: 500 Server Error:  for url: https://www.lamost.org/dr7/v2.0/spectrum/fits/795409167\n"
     ]
    },
    {
     "name": "stderr",
     "output_type": "stream",
     "text": [
      "Downloading:  69%|██████▉   | 1743/2533 [08:29<06:52,  1.92file/s]"
     ]
    },
    {
     "name": "stdout",
     "output_type": "stream",
     "text": [
      "Downloaded gal_spectra\\438804130\n"
     ]
    },
    {
     "name": "stderr",
     "output_type": "stream",
     "text": [
      "Downloading:  69%|██████▉   | 1744/2533 [08:34<20:37,  1.57s/file]"
     ]
    },
    {
     "name": "stdout",
     "output_type": "stream",
     "text": [
      "Downloaded gal_spectra\\438809134\n"
     ]
    },
    {
     "name": "stderr",
     "output_type": "stream",
     "text": [
      "Downloading:  69%|██████▉   | 1745/2533 [08:38<28:03,  2.14s/file]"
     ]
    },
    {
     "name": "stdout",
     "output_type": "stream",
     "text": [
      "Downloaded gal_spectra\\438806169\n"
     ]
    },
    {
     "name": "stderr",
     "output_type": "stream",
     "text": [
      "Downloading:  69%|██████▉   | 1746/2533 [08:42<36:22,  2.77s/file]"
     ]
    },
    {
     "name": "stdout",
     "output_type": "stream",
     "text": [
      "Downloaded gal_spectra\\739308034\n"
     ]
    },
    {
     "name": "stderr",
     "output_type": "stream",
     "text": [
      "Downloading:  69%|██████▉   | 1747/2533 [08:43<27:52,  2.13s/file]"
     ]
    },
    {
     "name": "stdout",
     "output_type": "stream",
     "text": [
      "Downloaded gal_spectra\\438808199\n"
     ]
    },
    {
     "name": "stderr",
     "output_type": "stream",
     "text": [
      "Downloading:  69%|██████▉   | 1748/2533 [08:45<27:26,  2.10s/file]"
     ]
    },
    {
     "name": "stdout",
     "output_type": "stream",
     "text": [
      "Downloaded gal_spectra\\739309176\n"
     ]
    },
    {
     "name": "stderr",
     "output_type": "stream",
     "text": [
      "Downloading:  69%|██████▉   | 1749/2533 [08:46<26:47,  2.05s/file]"
     ]
    },
    {
     "name": "stdout",
     "output_type": "stream",
     "text": [
      "Downloaded gal_spectra\\438809039\n"
     ]
    },
    {
     "name": "stderr",
     "output_type": "stream",
     "text": [
      "Downloading:  69%|██████▉   | 1750/2533 [08:49<26:51,  2.06s/file]"
     ]
    },
    {
     "name": "stdout",
     "output_type": "stream",
     "text": [
      "Downloaded gal_spectra\\438804026\n"
     ]
    },
    {
     "name": "stderr",
     "output_type": "stream",
     "text": [
      "Downloading:  69%|██████▉   | 1750/2533 [08:49<03:57,  3.30file/s]\n"
     ]
    }
   ],
   "source": [
    "# Load the crossmatched data\n",
    "gal_lamost_data = pd.read_pickle(\"gal_lamost_data.pkl\")\n",
    "\n",
    "# Define the list of LAMOST observation IDs (obsid) to download\n",
    "obsid_list = gal_lamost_data['obsid'].values\n",
    "\n",
    "# Specify the folder to save the files\n",
    "save_folder = \"gal_spectra\"\n",
    "\n",
    "# Create the folder if it doesn't exist\n",
    "if not os.path.exists(save_folder):\n",
    "    os.makedirs(save_folder)\n",
    "\n",
    "# List of URLs to download\n",
    "urls = [f\"https://www.lamost.org/dr7/v2.0/spectrum/fits/{obsid}\" for obsid in obsid_list]\n",
    "\n",
    "def download_file(url):\n",
    "    try:\n",
    "        file_name = os.path.join(save_folder, url.split('/')[-1])\n",
    "        \n",
    "        # Check if the file already exists to avoid re-downloading\n",
    "        if not os.path.exists(file_name):\n",
    "            response = requests.get(url)\n",
    "            response.raise_for_status()  # Check for HTTP errors\n",
    "            \n",
    "            with open(file_name, 'wb') as f:\n",
    "                f.write(response.content)\n",
    "            return f\"Downloaded {file_name}\"\n",
    "        else:\n",
    "            return f\"{file_name} already exists\"\n",
    "    except requests.HTTPError as e:\n",
    "        return f\"Failed to download {url}: {e}\"\n",
    "\n",
    "# Main download function using ThreadPoolExecutor with a progress bar\n",
    "def download_all_files(urls):\n",
    "    with concurrent.futures.ThreadPoolExecutor(max_workers=10) as executor:\n",
    "        # Create a progress bar with total number of URLs\n",
    "        with tqdm(total=len(urls), desc=\"Downloading\", unit=\"file\") as pbar:\n",
    "            futures = {executor.submit(download_file, url): url for url in urls}\n",
    "            \n",
    "            for future in concurrent.futures.as_completed(futures):\n",
    "                result = future.result()\n",
    "                pbar.update(1)  # Update the progress bar for each completed download\n",
    "                print(result)\n",
    "\n",
    "# Call the function to start downloading\n",
    "download_all_files(urls)\n"
   ]
  },
  {
   "cell_type": "markdown",
   "metadata": {},
   "source": [
    "## STAR SPECTRA"
   ]
  },
  {
   "cell_type": "code",
   "execution_count": 2,
   "metadata": {},
   "outputs": [
    {
     "name": "stdout",
     "output_type": "stream",
     "text": [
      "Number of matches: 94651\n",
      "out of  1499508\n"
     ]
    }
   ],
   "source": [
    "# Load your STAR data and LAMOST catalog \n",
    "star_data = pd.read_pickle(\"star_data.pkl\")  # Loaded STAR data\n",
    "lamost_catalog = pd.read_csv(\"dr9_v2.0_LRS_catalogue.csv\")  # Assuming CSV format\n",
    "\n",
    "# Ensure that RA and Dec columns are numeric and have units\n",
    "star_data['ra'] = pd.to_numeric(star_data['ra'], errors='coerce')  # Coerce non-numeric to NaN\n",
    "star_data['dec'] = pd.to_numeric(star_data['dec'], errors='coerce')\n",
    "lamost_catalog['ra'] = pd.to_numeric(lamost_catalog['ra'], errors='coerce')\n",
    "lamost_catalog['dec'] = pd.to_numeric(lamost_catalog['dec'], errors='coerce')\n",
    "\n",
    "# Drop rows with NaN values in RA or Dec\n",
    "star_data = star_data.dropna(subset=['ra', 'dec'])\n",
    "lamost_catalog = lamost_catalog.dropna(subset=['ra', 'dec'])\n",
    "\n",
    "# Convert STAR and LAMOST data to SkyCoord objects for crossmatching\n",
    "star_coords = SkyCoord(ra=star_data['ra'].values*u.deg, dec=star_data['dec'].values*u.deg)\n",
    "lamost_coords = SkyCoord(ra=lamost_catalog['ra'].values*u.deg, dec=lamost_catalog['dec'].values*u.deg)\n",
    "\n",
    "# Perform the crossmatch using astropy's match_to_catalog_sky function\n",
    "idx, d2d, _ = star_coords.match_to_catalog_sky(lamost_coords)\n",
    "\n",
    "# Define a matching radius\n",
    "match_radius = 1 * u.arcsec\n",
    "matches = d2d < match_radius\n",
    "\n",
    "# Filter the matches    \n",
    "matched_star = star_data.iloc[matches]\n",
    "matched_lamost = lamost_catalog.iloc[idx[matches]]\n",
    "\n",
    "# Combine matched data\n",
    "star_lamost_data = pd.concat([matched_star.reset_index(drop=True), matched_lamost.reset_index(drop=True)], axis=1)\n",
    "\n",
    "# Save the crossmatched data\n",
    "star_lamost_data.to_pickle(\"star_lamost_data.pkl\")\n",
    "\n",
    "print(f\"Number of matches: {star_lamost_data.shape[0]}\")\n",
    "print(\"out of \", star_data.shape[0])\n"
   ]
  },
  {
   "cell_type": "code",
   "execution_count": 3,
   "metadata": {},
   "outputs": [
    {
     "name": "stderr",
     "output_type": "stream",
     "text": [
      "Downloading:   2%|▏         | 2344/94651 [12:43<7:28:19,  3.43file/s] "
     ]
    }
   ],
   "source": [
    "import concurrent.futures\n",
    "import requests\n",
    "import os\n",
    "from tqdm import tqdm\n",
    "\n",
    "# Load the crossmatched data\n",
    "star_lamost_data = pd.read_pickle(\"star_lamost_data.pkl\")\n",
    "obsid_list = star_lamost_data['obsid'].values\n",
    "\n",
    "# Specify the folder to save the files\n",
    "save_folder = \"star_spectra\"\n",
    "\n",
    "# Create the folder if it doesn't exist\n",
    "if not os.path.exists(save_folder):\n",
    "    os.makedirs(save_folder)\n",
    "\n",
    "# List of URLs to download (assuming obsid_list is available)\n",
    "urls = [f\"https://www.lamost.org/dr7/v2.0/spectrum/fits/{obsid}\" for obsid in obsid_list]\n",
    "\n",
    "# Function to download a file from a URL\n",
    "def download_file(url):\n",
    "    try:\n",
    "        file_name = os.path.join(save_folder, url.split('/')[-1])\n",
    "        \n",
    "        # Check if the file already exists to avoid re-downloading\n",
    "        if not os.path.exists(file_name):\n",
    "            response = requests.get(url)\n",
    "            response.raise_for_status()  # Check for HTTP errors\n",
    "            \n",
    "            with open(file_name, 'wb') as f:\n",
    "                f.write(response.content)\n",
    "            return True, file_name  # Success\n",
    "        else:\n",
    "            return True, file_name  # File already exists, considered successful\n",
    "    except requests.HTTPError as e:\n",
    "        return False, f\"Failed to download {url}: {e}\"  # Failure\n",
    "\n",
    "# Main function to download all files with counters and progress bar\n",
    "def download_all_files(urls):\n",
    "    success_count = 0\n",
    "    failure_count = 0\n",
    "\n",
    "    with concurrent.futures.ThreadPoolExecutor(max_workers=10) as executor:\n",
    "        # Create a progress bar with total number of URLs\n",
    "        with tqdm(total=len(urls), desc=\"Downloading\", unit=\"file\") as pbar:\n",
    "            futures = {executor.submit(download_file, url): url for url in urls}\n",
    "            \n",
    "            for future in concurrent.futures.as_completed(futures):\n",
    "                success, result = future.result()\n",
    "                pbar.update(1)  # Update the progress bar for each completed download\n",
    "                \n",
    "                if success:\n",
    "                    success_count += 1\n",
    "                    #print(f\"Downloaded: {result}\")\n",
    "                else:\n",
    "                    failure_count += 1\n",
    "                    #print(f\"Error: {result}\")\n",
    "\n",
    "    # Print final counts for successful and failed downloads\n",
    "    print(f\"\\nDownload complete! Successfully downloaded: {success_count}, Failed: {failure_count}\")\n",
    "\n",
    "# Call the function to start downloading\n",
    "download_all_files(urls)\n"
   ]
  },
  {
   "cell_type": "code",
   "execution_count": 7,
   "metadata": {},
   "outputs": [
    {
     "data": {
      "text/plain": [
       "(2533, 56)"
      ]
     },
     "execution_count": 7,
     "metadata": {},
     "output_type": "execute_result"
    }
   ],
   "source": [
    "gal_lamost_data.shape\n",
    "\n"
   ]
  },
  {
   "cell_type": "code",
   "execution_count": null,
   "metadata": {},
   "outputs": [],
   "source": []
  }
 ],
 "metadata": {
  "kernelspec": {
   "display_name": "Python 3",
   "language": "python",
   "name": "python3"
  },
  "language_info": {
   "codemirror_mode": {
    "name": "ipython",
    "version": 3
   },
   "file_extension": ".py",
   "mimetype": "text/x-python",
   "name": "python",
   "nbconvert_exporter": "python",
   "pygments_lexer": "ipython3",
   "version": "3.11.9"
  }
 },
 "nbformat": 4,
 "nbformat_minor": 2
}
